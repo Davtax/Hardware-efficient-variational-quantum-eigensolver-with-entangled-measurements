{
 "cells": [
  {
   "cell_type": "code",
   "execution_count": 1,
   "metadata": {},
   "outputs": [],
   "source": [
    "import numpy as np\n",
    "import networkx as nx\n",
    "from itertools import permutations\n",
    "import time"
   ]
  },
  {
   "cell_type": "markdown",
   "metadata": {},
   "source": [
    "In order to simplify the programming, we use a numerical encoding. We identify each Pauli string with an integer\n",
    "$$    I\\mapsto 0, \\hspace{1cm} X\\mapsto 1, \\hspace{1cm} Y\\mapsto 2, \\hspace{1cm} Z\\mapsto 3. $$\n",
    "Then, for example, $XIZY$ would be mapped to the array $[1,0,3,2]$. \n",
    "\n",
    "Similarly, we  map  measurements into numbers:\n",
    "\\begin{align*}\n",
    "TPBX\\mapsto 1,\\ \\ TPBY\\mapsto 2,\\ \\ TPBZ\\mapsto 3,\\ \\ Bell\\mapsto 4,\\ \\ \\Omega^X\\mapsto 5\\ \\ \\Omega^Y\\mapsto 6, \\ \\ \\Omega^Z\\mapsto 7,\\ \\ \\chi\\mapsto 8,\\ \\ \\chi'\\mapsto 9.\n",
    "\\end{align*}\n",
    "\n",
    "Note: if some measurement output has the number '0' it means that any measure is valid."
   ]
  },
  {
   "cell_type": "markdown",
   "metadata": {},
   "source": [
    "\n",
    "Finally, we build lists of compatibility, one for each measurement. The list of compatibility of the measurement k should contain the arrays assigned to the Pauli strings that are compatible with the measurement k. For instance, if we consider the measure 4 (the Bell measure) its list of compatibility should contain \\[0,0\\], \\[1,1\\], \\[2,2\\], \\[3,3\\], because the Bell measurement is compatible with $II,XX,YY\\ \\mathrm{and}\\ ZZ.$ \n",
    "\n",
    "\\begin{equation*}\n",
    "    Comp_1=\\{I, X\\} = \\{[0],[1]\\},\\ \\ Comp_2=\\{I, Y\\} = \\{[0],[2]\\},\\ \\ Comp_3=\\{I, Z\\} = \\{[0],[3]\\},\n",
    "\\end{equation*}\n",
    "\\begin{equation*}\n",
    "Comp_4=\\{II,XX,YY,ZZ\\} = \\{[0,0],[1,1],[2,2],[3,3]\\},\\ \\ Comp_5=\\{II,XX,YZ,ZY\\} = \\{[0,0],[1,1],[2,3],[3,2]\\},\n",
    "\\end{equation*}\n",
    "\\begin{equation*}\n",
    "Comp_6=\\{II,YY,XZ,ZX\\} = \\{[0,0],[2,2],[1,3],[3,1]\\},\\ \\ Comp_7=\\{II,ZZ,XY,YX\\} = \\{[0,0],[3,3],[1,2],[2,1]\\},\n",
    "\\end{equation*}\n",
    "\\begin{equation*}\n",
    "Comp_8=\\{II,XY,YX,ZX\\} = \\{[0,0],[1,2],[2,1],[3,1]\\}, \\ \\ Comp_9=\\{II,YX,ZY,XZ\\} = \\{[0,0],[2,1],[3,2],[1,3]\\}.\n",
    "\\end{equation*}\n",
    "\n",
    "\n",
    "Thus, when checking the compatibility of the strings $v_i$ and $v_j$ with the measurement $k$ on the qubits $l,m$, what we should do is checking if $[v_i(l),v_i(m)]$ and $[v_j(l),v_j(m)]$ are both in the compatibility list of the measurement $k$. For example, if we had $v_i=YIZZ=[2,0,3,3]$ and $v_j=XIZY=[1,0,3,2]$ and we wanted to check if theses strings are compatible with the measurement 4 (the Bell measurement) on the qubits (3,4), what we have to do is checking if $[v_i(3),v_i(4)]=[3,3]$ and $[v_j(3),v_j(4)]=[3,2]$ are in the compatibility list of the measurement 4. As this compatibility list is $Comp_4=\\{[0,0],[1,1],[2,2],[3,3]\\}$, we have that $[v_i(3),v_i(4)]$ belongs to $Comp_4$ but $[v_j(3),v_j(4)]$ does not. In consequence, the measurement 4 on the qubits (3,4) is not compatible with $v_i$ and $v_j$. "
   ]
  },
  {
   "cell_type": "markdown",
   "metadata": {},
   "source": [
    "# Pauli Graph construction with TPB basis and TPBGrouping.  "
   ]
  },
  {
   "cell_type": "code",
   "execution_count": 2,
   "metadata": {},
   "outputs": [],
   "source": [
    "def PauliGraph(PS):\n",
    "    \"\"\"\n",
    "    Construction of the Pauli Graph\n",
    "    \n",
    "    Arguments:\n",
    "    ----------\n",
    "    PS           --array\n",
    "                   PS are the Pauli strings. \n",
    "                   It is matrix of n rows and N columns. \n",
    "                   Each row represents a Pauli string. \n",
    "                   Each column represents a qubit.\n",
    "                   Thus, n is the number of Pauli strings\n",
    "                   and N is the number of qubits.\n",
    "    Output:\n",
    "    -------\n",
    "    PG           --Graph\n",
    "                   The Pauli graph corresponding with the n Pauli strings given as input.\n",
    "    \"\"\"\n",
    "    \n",
    "    n=np.size(PS[:,0])\n",
    "    N=np.size(PS[0,:])\n",
    "    PG = nx.Graph()\n",
    "    PG.add_nodes_from(np.arange(n))#  Assigns a node to each Pauli string\n",
    "    for i in range(n):#  Run a loop over each Pauli string v_i\n",
    "        v_i=PS[i,:]\n",
    "        \n",
    "        for j in range(i+1,n):\n",
    "            v_j=PS[j,:]\n",
    "            qubits=np.arange(N)\n",
    "            \"TPB compatibility checking\"\n",
    "            noncommonqubits=np.delete(qubits,np.argwhere(v_i==v_j))#  Qubits corresponding to the noncommon factors\n",
    "            vi=v_i[noncommonqubits]\n",
    "            vj=v_j[noncommonqubits]\n",
    "            if (vi*vj!=0).any():\n",
    "                PG.add_edges_from([(i,j)])\n",
    "            \"\"\"\n",
    "            To check compatibility it has to be verified if for each noncommon qubit at least one of the factos is I.\n",
    "            Regarding our numerical encoding, one of the factors is I iff one of the factors is 0, i. e., the factors\n",
    "            k of strings v_i and v_j (if they are different) are compatible iff v_i[k] and v_j[k] iff v_i[k]v_j[k]==0.\n",
    "            \"\"\"\n",
    "    return PG"
   ]
  },
  {
   "cell_type": "code",
   "execution_count": 3,
   "metadata": {},
   "outputs": [],
   "source": [
    "def colorgroups(colordict):\n",
    "    \"\"\"\n",
    "    Construction of the TPB groups from the color dictionary. \n",
    "    \n",
    "\n",
    "    Arguments:\n",
    "    ----------\n",
    "    colordict    --dictionary\n",
    "                   The keys are the indexes of the Pauli strings.\n",
    "                   The values are the colors assigned to the Pauli string.\n",
    "    \n",
    "    Output:\n",
    "    -------\n",
    "    Groups       --list\n",
    "                   The element in the position i is a list with the indexes of strings assigned to color i, \n",
    "                   i.e, the group of strings with color i.\n",
    "                   \n",
    "                   We follow our numerical encoding explained above.\n",
    "                   \n",
    "                   For further details, see the tests.\n",
    "    \"\"\"\n",
    "    colorarray= np.array(list(colordict.items()))\n",
    "    keys=np.array(colorarray[:,0])\n",
    "    values=np.array(colorarray[:,1])\n",
    "    Groups=[]\n",
    "    for i in range(max(values)+1):\n",
    "        groupi=list(keys[np.nonzero(values==i)])\n",
    "        Groups.append(groupi)\n",
    "    return Groups\n",
    "    \n",
    "def TPBgrouping(PS):\n",
    "    \"\"\"\n",
    "    Construction of the TPB groups, i.e., the groups when considering the TPB basis.\n",
    "    \n",
    "\n",
    "    Arguments:\n",
    "    ----------\n",
    "    PS           --array\n",
    "                   PS are the Pauli strings. \n",
    "                   It is matrix of n rows and N columns. \n",
    "                   Each row represents a Pauli string. \n",
    "                   Each column represents a qubit.\n",
    "                   Thus, n is the number of Pauli strings\n",
    "                   and N is the number of qubits.\n",
    "    \n",
    "    Output:\n",
    "    -------\n",
    "    Color        --dictionary\n",
    "                   The value assigned to the key i is the color assigned to the string i\n",
    "    Groups       --list\n",
    "                   The element in the position i is a list with the indexes of strings assigned to color i, \n",
    "                   i.e, the group of strings with color i.\n",
    "    Measurement  --list\n",
    "                   The element in position i is a list which represents measurement assigned to the group i.  \n",
    "                   Each of these list is a list of partial measurements. Each partial measurements is a list\n",
    "                   of two elements. The first of these elements encodes the partial measurement assigned and \n",
    "                   the second the qubits where it should performed.  \n",
    "                   \n",
    "                   We follow our numerical encoding explained above.\n",
    "                   \n",
    "                   For further details, see the tests.\n",
    "    \"\"\"\n",
    "    PG=PauliGraph(PS)\n",
    "    Color=nx.coloring.greedy_color(PG)#  Graph coloring code of networkx. By default it uses LDFC strategy.  \n",
    "    Groups=colorgroups(Color)#  Groups of strings with the same color assigned\n",
    "    N=np.size(PS[0,:])\n",
    "    \"TPB measurements assignment\"\n",
    "    Measurements=[]\n",
    "    for i in range(len(Groups)):\n",
    "        Mi=[]\n",
    "        for k in range(N):\n",
    "            Mi.append([max(PS[Groups[i],k]),[k]])\n",
    "        Measurements.append(Mi)\n",
    "        \n",
    "    \"\"\"\n",
    "    This loop is to assign the measurements to each group. In order to do so we run through all groups. \n",
    "    Given a group, we run through all qubits. For each qubit, we assign a TPB measurement to the group.\n",
    "    With that purpose, we extract the k factors of all strings of the group. They will be the same Pauli operator\n",
    "    and/or the identity. Thus, regarding our numerical encoding, we assign, to the group, the measurement\n",
    "    max(PS[Groups[i],k]) in the position k.\n",
    "    \"\"\"\n",
    "    \n",
    "    return Color, Groups, Measurements"
   ]
  },
  {
   "cell_type": "markdown",
   "metadata": {},
   "source": [
    "## The compatibility lists are implemented manually\n"
   ]
  },
  {
   "cell_type": "markdown",
   "metadata": {},
   "source": [
    "We construct two lists with 9 elements each. The first one with all the available measurements, sorted as explained above, and the second specifying the length of the measure (number of qubits to measure)"
   ]
  },
  {
   "cell_type": "code",
   "execution_count": 4,
   "metadata": {},
   "outputs": [],
   "source": [
    "Comp=[]\n",
    "Comp.append([])#  This empty entry is to fix notation. This way, we preserve the exposed encoding.\n",
    "Comp.append([[0],[1]])\n",
    "Comp.append([[0],[2]])\n",
    "Comp.append([[0],[3]])\n",
    "Comp.append([[0,0],[1,1],[2,2],[3,3]])\n",
    "Comp.append([[0,0],[1,1],[2,3],[3,2]])\n",
    "Comp.append([[0,0],[2,2],[1,3],[3,1]])\n",
    "Comp.append([[0,0],[3,3],[1,2],[2,1]])\n",
    "Comp.append([[0,0],[1,2],[2,3],[3,1]])\n",
    "Comp.append([[0,0],[2,1],[3,2],[1,3]])\n",
    "length=[]\n",
    "length.append([])#  This empty entry is to fix notation.\n",
    "length.append(1)\n",
    "length.append(1)\n",
    "length.append(1)\n",
    "length.append(2)\n",
    "length.append(2)\n",
    "length.append(2)\n",
    "length.append(2)\n",
    "length.append(2)\n",
    "length.append(2)"
   ]
  },
  {
   "cell_type": "markdown",
   "metadata": {},
   "source": [
    "## Grouping code with non-local measurements "
   ]
  },
  {
   "cell_type": "code",
   "execution_count": 5,
   "metadata": {},
   "outputs": [],
   "source": [
    "def MeasurementAssignment(Vi,Vj,Mi,AM,WC):#This program is the Algorithm 2 of https://arxiv.org/abs/1909.09119. Syntax can\n",
    "    \"\"\"\n",
    "    Given a current assignment of measurements Mi to the group of string Vi, this code checks if Mi can be updated\n",
    "    so Vj becomes compatible with the group of string Vi. To do so, the code tries to add to Mi admissible measurements \n",
    "    (AM is the list of admissible measurements) involving well connected qubits (WC is the list of pairs of well \n",
    "    connected qubits).\n",
    "    \n",
    "    Arguments:\n",
    "    ----------\n",
    "    Vi           --array\n",
    "                   It is the array associated to the i Pauli string, according to our numerical encoding.\n",
    "    Vj           --array\n",
    "                   It is the array associated to the j Pauli string, according to our numerical encoding.\n",
    "    Mi           --list\n",
    "                   Current assignment of the measurement of the group i. It is a list of partial measurements.\n",
    "                   Each partial measurements is a list of two elements. The first of these elements encodes the  \n",
    "                   partial measurement assigned and the second the qubits where it should performed. \n",
    "                   \n",
    "    AM           --list\n",
    "                   It is the list of the admissible measurements considered. Regarding our numerical encoding, \n",
    "                   it is a list of integers from 1 to 9. The order of the list encodes the preference of measu\n",
    "                   rement assignment. For instance, the first measurement appearing in this list will\n",
    "                   be the one that would be preferentially assigned. \n",
    "                   \n",
    "    WC           --list\n",
    "                   It is a list of tuples. Each tuple represents a set of well conected qubits.\n",
    "\n",
    "    Output:\n",
    "    -------\n",
    "    UMi        --list\n",
    "                 Updated Mi. If the algorithm fails, UMi will be equal to Mi.\n",
    "    S          --integer\n",
    "                 S=1 if the algorithm has succeded and S=0 if not. In other words, if Mi has been updated in a way\n",
    "                 such the group of Vi and Vj are compatible, S=1. Otherwise, S=0.\n",
    "                 \n",
    "                 \n",
    "                 We follow our numerical encoding explained above.\n",
    "                   \n",
    "                 For further details, see the tests.\n",
    "    \n",
    "    \"\"\"\n",
    "    \n",
    "    N=np.size(Vi)\n",
    "    U=list(np.arange(N))\n",
    "    S=0\n",
    "    \"Check of Vj compatibility with current Mi\"\n",
    "    for PM in Mi:\n",
    "        if list(Vj[PM[1]]) not in Comp[PM[0]]:  \n",
    "            return Mi, S                       \n",
    "        else:\n",
    "            for k in PM[1]:                     \n",
    "                U.remove(k)  \n",
    "                \n",
    "    \"\"\"\n",
    "    This loop checks if the current assignment of Mi is compatible with Vj. If not, the programm returns Mi and S=0(fail)\n",
    "    If Mi is compatible with Mi, the array U, after this loop, will contain the qubits where Mi does not act.\n",
    "    \"\"\"\n",
    "    \n",
    "    \n",
    "    commonfactors=np.argwhere(Vi==Vj)\n",
    "    for k in commonfactors:\n",
    "        if k in U:\n",
    "            U.remove(k)\n",
    "            \n",
    "    \"\"\"\n",
    "    After this loop U contains the qubits where Mi does no act and the strings of Vi and Vj does not coincide.\n",
    "    Thus, is in the qubits of U where partial measurements have to be assigned to make the strings of Vi and Vj \n",
    "    compatible.\n",
    "    \"\"\"\n",
    "    \n",
    "    UMi=Mi[:]#  We will update Mi in the following loop. We create UMi because the loop may fail in the middle, so Mi should be return and UMi would be not equal to Mi.\n",
    "    \"Mi updating loop\"\n",
    "    while len(U)!=0:\n",
    "        for Eps in AM:#  Admissible measurement loop\n",
    "            if len(U)>=length[Eps]:\n",
    "                perm=list(permutations(U,length[Eps])) \n",
    "                for per in perm:#  Possible qubits loop\n",
    "                    if (per in WC) or (length[Eps]==1):#  Connectivity check \n",
    "                        if (list(Vi[tuple([per])]) in Comp[Eps]) and (list(Vj[tuple([per])]) in Comp[Eps]): #Compatibility check\n",
    "                            UMi.append([Eps,list(per)])\n",
    "                            for k in per:\n",
    "                                U.remove(k)\n",
    "                            break\n",
    "                else:\n",
    "                    continue\n",
    "                break\n",
    "        else:\n",
    "            return Mi, S\n",
    "    \n",
    "    \"\"\"\n",
    "    This loops tries to update the measurement Mi on the qubits enlisted in U. To do so it runs through the admisible \n",
    "    partial measurements AM (admissible measurements loop). For each of those measurements, the loop runs through all \n",
    "    the possible set of qubits where the measurement can act (perm) (possible qubits loop). For each element 'per' in \n",
    "    'perm' the code checks if 'per' is a set of well connected qubits (connectivity check). Finally, it is checked if\n",
    "    the measurement on those qubits is compatible with the string Vi and Vj (if so, by construction, the measurement \n",
    "    will be compatible with all strings of group Vi and with Vj)(compatibility check). If there is success in this last \n",
    "    check, UMi is updated with that partial measurement, the qubits where this partial measurement are deleted of U \n",
    "    and we begin again if U is not empty. If we managed to empty U, the update would have succeded and we would return\n",
    "    UMi, S=1. If there is no success, Mi, S=0 are returned.\n",
    "    \"\"\"\n",
    "    \n",
    "    S=1\n",
    "    return UMi, S            \n",
    "\n",
    "def grouping(PS, AM, WC): \n",
    "    \"\"\"\n",
    "    Given a set of Pauli strings (PS), this function make groups of Paulis assigning the admissible measurements\n",
    "    given as an input (AM) on the well connected qubits (WC).\n",
    "    \n",
    "    Arguments:\n",
    "    ----------\n",
    "    PS           --array\n",
    "                   PS are the Pauli strings. \n",
    "                   It is matrix of n rows and N columns. \n",
    "                   Each row represents a Pauli string. \n",
    "                   Each column represents a qubit.\n",
    "                   Thus, n is the number of Pauli strings\n",
    "                   and N is the number of qubits.\n",
    "                   \n",
    "    AM           --list\n",
    "                   It is the list of the admissible measurements considered. Regarding our numerical encoding, \n",
    "                   it is a list of integers from 1 to 9. The order of the list encodes the preference of measu\n",
    "                   rement assignment. For instance, the first measurement appearing in this list will\n",
    "                   be the one that would be preferentially assigned. \n",
    "                   \n",
    "    WC           --list\n",
    "                   It is a list of tuples. Each tuple represents a set of well conected qubits.\n",
    "\n",
    "    Output:\n",
    "    -------\n",
    "    Groups       --list\n",
    "                   The element in the position i is a list with the indexes of strings assigned to group i, \n",
    "                   i.e, the strings of group i.\n",
    "    Measurement  --list\n",
    "                   The element in position i is a list which represents measurement assigned to the group i.  \n",
    "                   Each of these list is a list of partial measurements. Each partial measurements is a list\n",
    "                   of two elements. The first of these elements encodes the partial measurement assigned and \n",
    "                   the second the qubits where it should performed.  \n",
    "                 \n",
    "                 \n",
    "                 We follow our numerical encoding explained above.\n",
    "                   \n",
    "                 For further details, see the tests.\n",
    "    \n",
    "    \"\"\"\n",
    "    PG=PauliGraph(PS)\n",
    "    SV=sorted(PG.degree, key=lambda x: x[1], reverse=True)#  Sorted Vertices by decreasing degree.\n",
    "    n=np.size(PS[:,0])\n",
    "    N=np.size(PS[0,:])\n",
    "    AS=[]#  List of strings with assigned measurement\n",
    "    Groups=[]\n",
    "    Measurements=[]\n",
    "    for k in range(n):\n",
    "        i=SV[k][0]#  We run the nodes in a decreasing order of degree according to Pauli graph, as LDFC does.\n",
    "        if i not in AS:#  If we enter to this loop, the i string will have its own group.\n",
    "            Mi=[]  \n",
    "            GroupMi=[i]\n",
    "            AS.append(i)\n",
    "            for l in range(n):## We try to make the group of the string i as big as possible\n",
    "                j=SV[l][0]\n",
    "                if j not in AS:\n",
    "                    Mi, S=MeasurementAssignment(PS[i,:],PS[j,:],Mi,AM,WC)\n",
    "                    if S==1:\n",
    "                        AS.append(j)\n",
    "                        GroupMi.append(j)\n",
    "            \"Mi completion\"\n",
    "            QWM=list(np.arange(N))#  Qubits without a Measurement assigned by Mi.\n",
    "            for PM in Mi:    \n",
    "                for s in PM[1]:\n",
    "                    QWM.remove(s)\n",
    "            for q in QWM:\n",
    "                TPBq=max(PS[GroupMi,q])\n",
    "                Mi.append([TPBq,[q]])\n",
    "            \"\"\"\n",
    "            In this loop we complete the measurement Mi, as it might not assign a partial measurement to each qubit.\n",
    "            The qubits where Mi does not assign a partial measurement will satisfy that all factors of the \n",
    "            strings of the group are equal. Thus, a TPB should be assigned in those qubits. We procced in a similar way\n",
    "            as we did in the TPBgrouping code.\n",
    "            \"\"\"\n",
    "            Groups.append(GroupMi)\n",
    "            Measurements.append(Mi)\n",
    "            \n",
    "    return Groups, Measurements        "
   ]
  },
  {
   "cell_type": "markdown",
   "metadata": {},
   "source": [
    "# Test 1: Easy TPB grouping"
   ]
  },
  {
   "cell_type": "code",
   "execution_count": 6,
   "metadata": {},
   "outputs": [
    {
     "name": "stdout",
     "output_type": "stream",
     "text": [
      "Execution time 0.0004897117614746094 seconds\n",
      "Colors {1: 0, 2: 1, 0: 2, 3: 2}\n",
      "Groups [[1], [2], [0, 3]]\n",
      "Measurements [[[2, [0]], [2, [1]], [3, [2]]], [[3, [0]], [3, [1]], [3, [2]]], [[1, [0]], [1, [1]], [1, [2]]]]\n"
     ]
    }
   ],
   "source": [
    "start=time.time()\n",
    "PS=np.array([[1,1,0],[2,2,3],[3,3,3],[0,1,1]])\n",
    "Colors, Groups, Measurements=TPBgrouping(PS)\n",
    "print('Execution time', time.time()-start, 'seconds')\n",
    "print('Colors', Colors)\n",
    "print('Groups', Groups)\n",
    "print('Measurements', Measurements)"
   ]
  },
  {
   "cell_type": "markdown",
   "metadata": {},
   "source": [
    "# Test 2: Hard TPB grouping"
   ]
  },
  {
   "cell_type": "code",
   "execution_count": 7,
   "metadata": {},
   "outputs": [
    {
     "name": "stdout",
     "output_type": "stream",
     "text": [
      "Execution time 1.7112724781036377 seconds\n",
      "Number of groups 139\n",
      "Strings of the first group [[1 1 3 1 3 2]\n",
      " [1 1 3 1 3 0]]\n",
      "Measurements of the first group [[1, [0]], [1, [1]], [3, [2]], [1, [3]], [3, [4]], [2, [5]]]\n"
     ]
    }
   ],
   "source": [
    "start=time.time()\n",
    "N=6\n",
    "np.random.seed(0)\n",
    "PS=np.random.randint(0,4,[400,N])\n",
    "Colors, Groups, Measurements=TPBgrouping(PS)\n",
    "print('Execution time', time.time()-start, 'seconds')\n",
    "print('Number of groups', len(Groups))\n",
    "print('Strings of the first group', PS[Groups[0],:])\n",
    "print('Measurements of the first group', Measurements[0])"
   ]
  },
  {
   "cell_type": "markdown",
   "metadata": {},
   "source": [
    "# Test 3: Easy Bell grouping (perfect connectivity) + (outputs explanation)"
   ]
  },
  {
   "cell_type": "code",
   "execution_count": 8,
   "metadata": {},
   "outputs": [
    {
     "name": "stdout",
     "output_type": "stream",
     "text": [
      "Execution time 0.0004944801330566406 seconds\n",
      "Groups [[0, 1, 2]] This means that there is only one groups, with strings 0, 1 and 2.\n",
      "Measurements [[[4, [0, 1]], [3, [2]]]] This means that (for the group 0) the measurement 4 (Bell) should be performed on the qubits 0 and 1, and the measurement 3 (TPBZ) should be performed on qubit 2\n"
     ]
    }
   ],
   "source": [
    "start=time.time()\n",
    "PS=np.array([[1,1,3],[2,2,3],[3,3,3]])\n",
    "WC=list(permutations(list(range(3)),2))\n",
    "Groups, Measurements=grouping(PS,[4,3,2,1],WC)\n",
    "print('Execution time', time.time()-start, 'seconds')\n",
    "print('Groups', Groups, 'This means that there is only one groups, with strings 0, 1 and 2.')\n",
    "print('Measurements', Measurements, 'This means that (for the group 0) the measurement 4 (Bell) should be performed on the qubits 0 and 1, and the measurement 3 (TPBZ) should be performed on qubit 2')"
   ]
  },
  {
   "cell_type": "markdown",
   "metadata": {},
   "source": [
    "#  Test 4: No grouping (perfect connectivity)+(outputs explanation)"
   ]
  },
  {
   "cell_type": "code",
   "execution_count": 9,
   "metadata": {},
   "outputs": [
    {
     "name": "stdout",
     "output_type": "stream",
     "text": [
      "Execution time 0.0005917549133300781 seconds\n",
      "Groups [[0], [1], [2]] This means that there are 3 groups, one for each string.\n",
      "Measurements [[[1, [0]], [2, [1]], [3, [2]]], [[3, [0]], [2, [1]], [2, [2]]], [[1, [0]], [3, [1]], [2, [2]]]]\n",
      "Measurements of group 0: [[1, [0]], [2, [1]], [3, [2]]] This means that (for the group 0) the measurement 1 (TPBX) should be performed on the qubit 0, the measurement 2 (TPBY) should be performed on the qubit 1 and the measurement 3 (TPBZ) should be performed on the qubit 2.\n"
     ]
    }
   ],
   "source": [
    "start=time.time()\n",
    "PS=np.array([[1,2,3],[3,2,2],[1,3,2]])\n",
    "WC=list(permutations(list(range(3)),2))\n",
    "Groups, Measurements=grouping(PS,[4,3,2,1],WC)#  Only the measurements 4 (Bell) and TPB are considered for grouping). The Bell measurement is the preferential.\n",
    "print('Execution time', time.time()-start, 'seconds')\n",
    "print('Groups', Groups, 'This means that there are 3 groups, one for each string.')\n",
    "print('Measurements', Measurements)\n",
    "print('Measurements of group 0:', Measurements[0],  'This means that (for the group 0) the measurement 1 (TPBX) should be performed on the qubit 0, the measurement 2 (TPBY) should be performed on the qubit 1 and the measurement 3 (TPBZ) should be performed on the qubit 2.')"
   ]
  },
  {
   "cell_type": "markdown",
   "metadata": {},
   "source": [
    "# Test 5: Connectivity\n",
    "We check that the connectivity check of the code works. We will show with an example that if connectivity is not \n",
    "perfect then the grouping is worse, as expected. First, let's check that for the following example with perfect \n",
    "connectivity one group suffices."
   ]
  },
  {
   "cell_type": "code",
   "execution_count": 10,
   "metadata": {},
   "outputs": [
    {
     "name": "stdout",
     "output_type": "stream",
     "text": [
      "Execution time 0.0003955364227294922 seconds\n",
      "Groups [[0, 1, 2]]\n",
      "Measurements [[[4, [0, 2]], [1, [1]]]]\n"
     ]
    }
   ],
   "source": [
    "start=time.time()\n",
    "PS=np.array([[1,1,1],[2,1,2],[3,1,3]])\n",
    "WC=list(permutations(list(range(3)),2))\n",
    "Groups, Measurements=grouping(PS,[4,3,2,1],WC)\n",
    "print('Execution time', time.time()-start, 'seconds')\n",
    "print('Groups', Groups)\n",
    "print('Measurements', Measurements)"
   ]
  },
  {
   "cell_type": "markdown",
   "metadata": {},
   "source": [
    "If connectivity is not perfect, the number of groups increase."
   ]
  },
  {
   "cell_type": "code",
   "execution_count": 11,
   "metadata": {},
   "outputs": [
    {
     "name": "stdout",
     "output_type": "stream",
     "text": [
      "Execution time 0.0005505084991455078 seconds\n",
      "Groups [[0], [1], [2]]\n",
      "Measurements [[[1, [0]], [1, [1]], [1, [2]]], [[2, [0]], [1, [1]], [2, [2]]], [[3, [0]], [1, [1]], [3, [2]]]]\n"
     ]
    }
   ],
   "source": [
    "start=time.time()\n",
    "PS=np.array([[1,1,1],[2,1,2],[3,1,3]])\n",
    "WC=[0,1,2,(0,1),(1,0)]\n",
    "Groups, Measurements=grouping(PS,[4,3,2,1],WC)\n",
    "print('Execution time', time.time()-start, 'seconds')\n",
    "print('Groups', Groups)\n",
    "print('Measurements', Measurements)"
   ]
  },
  {
   "cell_type": "markdown",
   "metadata": {},
   "source": [
    "# Test 6: Hard grouping test+measurement preference dependence"
   ]
  },
  {
   "cell_type": "markdown",
   "metadata": {},
   "source": [
    "Here, we show with an example that the grouping algorithm works with hard instances for PS. In addition, we show that \n",
    "the algorithm depends on the preference of assigned to the measurements."
   ]
  },
  {
   "cell_type": "code",
   "execution_count": 12,
   "metadata": {},
   "outputs": [
    {
     "name": "stdout",
     "output_type": "stream",
     "text": [
      "Execution time 1.8998205661773682 seconds\n",
      "Number of groups 80\n",
      "Strings of the first group [[1 1 3 1 3 2]\n",
      " [1 3 1 1 3 2]\n",
      " [2 1 3 1 2 2]\n",
      " [1 3 1 3 3 3]\n",
      " [2 1 3 0 2 0]]\n",
      "Measurements of the first group [[6, [1, 2]], [6, [0, 4]], [7, [3, 5]]]\n"
     ]
    }
   ],
   "source": [
    "start=time.time()\n",
    "N=6\n",
    "np.random.seed(0)\n",
    "WC=list(permutations(list(range(N)),2))\n",
    "AM=[1,2,3,4,5,6,7,8,9] \n",
    "PS=np.random.randint(0,4,[400,N])\n",
    "Groups, Measurements=grouping(PS,AM,WC)\n",
    "print('Execution time', time.time()-start, 'seconds')\n",
    "print('Number of groups', len(Groups))\n",
    "print('Strings of the first group', PS[Groups[0],:])\n",
    "print('Measurements of the first group', Measurements[0])"
   ]
  },
  {
   "cell_type": "code",
   "execution_count": 13,
   "metadata": {},
   "outputs": [
    {
     "name": "stdout",
     "output_type": "stream",
     "text": [
      "Execution time 1.9102694988250732 seconds\n",
      "Number of groups 82\n",
      "Strings of the first group [[1 1 3 1 3 2]\n",
      " [1 3 1 1 3 2]\n",
      " [2 1 3 1 2 2]\n",
      " [1 3 1 3 3 3]\n",
      " [2 1 3 0 2 0]]\n",
      "Measurements of the first group [[6, [1, 2]], [6, [0, 4]], [7, [3, 5]]]\n"
     ]
    }
   ],
   "source": [
    "start=time.time()\n",
    "AM=[9,8,7,6,5,4,3,2,1] \n",
    "Groups, Measurements=grouping(PS,AM,WC)\n",
    "print('Execution time', time.time()-start, 'seconds')\n",
    "print('Number of groups', len(Groups))\n",
    "print('Strings of the first group', PS[Groups[0],:])\n",
    "print('Measurements of the first group', Measurements[0])"
   ]
  }
 ],
 "metadata": {
  "kernelspec": {
   "display_name": "Python 3",
   "language": "python",
   "name": "python3"
  },
  "language_info": {
   "codemirror_mode": {
    "name": "ipython",
    "version": 3
   },
   "file_extension": ".py",
   "mimetype": "text/x-python",
   "name": "python",
   "nbconvert_exporter": "python",
   "pygments_lexer": "ipython3",
   "version": "3.8.5"
  }
 },
 "nbformat": 4,
 "nbformat_minor": 4
}
