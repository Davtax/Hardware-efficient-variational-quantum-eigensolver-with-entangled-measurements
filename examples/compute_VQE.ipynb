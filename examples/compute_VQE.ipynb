{
 "cells": [
  {
   "cell_type": "code",
   "execution_count": 1,
   "metadata": {
    "execution": {
     "iopub.execute_input": "2023-05-09T13:38:23.026331Z",
     "iopub.status.busy": "2023-05-09T13:38:23.026189Z",
     "iopub.status.idle": "2023-05-09T13:38:23.030704Z",
     "shell.execute_reply": "2023-05-09T13:38:23.030225Z",
     "shell.execute_reply.started": "2023-05-09T13:38:23.026319Z"
    },
    "pycharm": {
     "name": "#%%\n"
    },
    "tags": []
   },
   "outputs": [],
   "source": [
    "import sys\n",
    "\n",
    "sys.path.append('../')"
   ]
  },
  {
   "cell_type": "code",
   "execution_count": 2,
   "metadata": {
    "execution": {
     "iopub.execute_input": "2023-05-09T13:38:23.031822Z",
     "iopub.status.busy": "2023-05-09T13:38:23.031602Z",
     "iopub.status.idle": "2023-05-09T13:38:24.030952Z",
     "shell.execute_reply": "2023-05-09T13:38:24.030487Z",
     "shell.execute_reply.started": "2023-05-09T13:38:23.031810Z"
    },
    "tags": []
   },
   "outputs": [],
   "source": [
    "import numpy as np\n",
    "\n",
    "from qiskit.providers.fake_provider import FakeMontreal\n",
    "from qiskit import Aer\n",
    "from qiskit.algorithms.optimizers import SPSA\n",
    "\n",
    "from molecules import compute_molecule\n",
    "from grouping import Grouping\n",
    "from VQE import VQE"
   ]
  },
  {
   "cell_type": "code",
   "execution_count": 3,
   "metadata": {
    "execution": {
     "iopub.execute_input": "2023-05-09T13:38:24.031693Z",
     "iopub.status.busy": "2023-05-09T13:38:24.031479Z",
     "iopub.status.idle": "2023-05-09T13:38:24.103403Z",
     "shell.execute_reply": "2023-05-09T13:38:24.102905Z",
     "shell.execute_reply.started": "2023-05-09T13:38:24.031681Z"
    },
    "tags": []
   },
   "outputs": [],
   "source": [
    "simulator = Aer.get_backend('aer_simulator')  # Backend for simulation\n",
    "NUM_SHOTS = 2 ** 15\n",
    "\n",
    "backend = FakeMontreal()\n",
    "WC_device = backend.configuration().coupling_map\n",
    "WC_device = [tuple(x) for x in WC_device]"
   ]
  },
  {
   "cell_type": "code",
   "execution_count": 4,
   "metadata": {
    "execution": {
     "iopub.execute_input": "2023-05-09T13:38:24.104175Z",
     "iopub.status.busy": "2023-05-09T13:38:24.104006Z",
     "iopub.status.idle": "2023-05-09T13:38:24.287212Z",
     "shell.execute_reply": "2023-05-09T13:38:24.286787Z",
     "shell.execute_reply.started": "2023-05-09T13:38:24.104163Z"
    },
    "tags": []
   },
   "outputs": [],
   "source": [
    "molecule_name = 'H2'\n",
    "qubit_op, circuit_init = compute_molecule(molecule_name, initial_state=True)"
   ]
  },
  {
   "cell_type": "code",
   "execution_count": 5,
   "metadata": {
    "execution": {
     "iopub.execute_input": "2023-05-09T13:38:24.290780Z",
     "iopub.status.busy": "2023-05-09T13:38:24.289521Z",
     "iopub.status.idle": "2023-05-09T13:38:24.295114Z",
     "shell.execute_reply": "2023-05-09T13:38:24.294744Z",
     "shell.execute_reply.started": "2023-05-09T13:38:24.290762Z"
    },
    "tags": []
   },
   "outputs": [],
   "source": [
    "def callback(step, parameters, energy, *args):\n",
    "    print(step, energy)"
   ]
  },
  {
   "cell_type": "code",
   "execution_count": 6,
   "metadata": {
    "execution": {
     "iopub.execute_input": "2023-05-09T13:38:24.301736Z",
     "iopub.status.busy": "2023-05-09T13:38:24.300637Z",
     "iopub.status.idle": "2023-05-09T13:38:24.304877Z",
     "shell.execute_reply": "2023-05-09T13:38:24.304524Z",
     "shell.execute_reply.started": "2023-05-09T13:38:24.301721Z"
    },
    "tags": []
   },
   "outputs": [],
   "source": [
    "maxiter = 150\n",
    "optimizer = SPSA(maxiter=maxiter, callback=callback)\n",
    "params = 0.01 * np.ones(4 * qubit_op.num_qubits)"
   ]
  },
  {
   "cell_type": "code",
   "execution_count": 7,
   "metadata": {
    "execution": {
     "iopub.execute_input": "2023-05-09T13:38:25.830144Z",
     "iopub.status.busy": "2023-05-09T13:38:25.829793Z",
     "iopub.status.idle": "2023-05-09T13:38:25.835030Z",
     "shell.execute_reply": "2023-05-09T13:38:25.834512Z",
     "shell.execute_reply.started": "2023-05-09T13:38:25.830131Z"
    },
    "tags": []
   },
   "outputs": [],
   "source": [
    "grouping_HEEM = Grouping(qubit_op, connectivity=WC_device, print_progress=False, method='HEEM', connected_graph=True)\n",
    "grouping_HEEM.group()"
   ]
  },
  {
   "cell_type": "code",
   "execution_count": 8,
   "metadata": {
    "execution": {
     "iopub.execute_input": "2023-05-09T13:38:34.854212Z",
     "iopub.status.busy": "2023-05-09T13:38:34.853865Z",
     "iopub.status.idle": "2023-05-09T13:38:34.936643Z",
     "shell.execute_reply": "2023-05-09T13:38:34.936164Z",
     "shell.execute_reply.started": "2023-05-09T13:38:34.854199Z"
    },
    "tags": []
   },
   "outputs": [],
   "source": [
    "solver = VQE(grouping_HEEM, optimizer, params, simulator, circuit_init=circuit_init, shots=2 ** 14)"
   ]
  },
  {
   "cell_type": "code",
   "execution_count": 9,
   "metadata": {
    "execution": {
     "iopub.execute_input": "2023-05-09T13:38:38.415867Z",
     "iopub.status.busy": "2023-05-09T13:38:38.415540Z",
     "iopub.status.idle": "2023-05-09T13:39:47.954519Z",
     "shell.execute_reply": "2023-05-09T13:39:47.953928Z",
     "shell.execute_reply.started": "2023-05-09T13:38:38.415854Z"
    },
    "tags": []
   },
   "outputs": [
    {
     "name": "stdout",
     "output_type": "stream",
     "text": [
      "3 -1.019901907299062\n",
      "6 -0.6034581046986519\n",
      "9 -0.8715798849151826\n",
      "12 -0.7202117795379624\n",
      "15 -0.6197289658258622\n",
      "18 -0.6461866440554416\n",
      "21 -0.6673685404023332\n",
      "24 -1.022937038622018\n",
      "27 -1.1837151753614712\n",
      "30 -1.2338564187738261\n",
      "33 -1.3817274591573878\n",
      "36 -1.505396116269596\n",
      "39 -1.7311890660007236\n",
      "42 -1.715555159667232\n",
      "45 -1.7790399370217733\n",
      "48 -1.793998272510687\n",
      "51 -1.7977431918147926\n",
      "54 -1.797741387035603\n",
      "57 -1.8037878946667871\n",
      "60 -1.807926152716386\n",
      "63 -1.8053436770240014\n",
      "66 -1.807623146245278\n",
      "69 -1.8093512591793144\n",
      "72 -1.8094183212416572\n",
      "75 -1.810670253601776\n",
      "78 -1.8076440121308646\n",
      "81 -1.808452134795172\n",
      "84 -1.810706067526454\n",
      "87 -1.8073629744422754\n",
      "90 -1.8118491100147165\n",
      "93 -1.8130087296521207\n",
      "96 -1.8125198986410505\n",
      "99 -1.8131847684673286\n",
      "102 -1.8136032845390444\n",
      "105 -1.8130405656973148\n",
      "108 -1.8141349719688504\n",
      "111 -1.8151510626712177\n",
      "114 -1.8165586598301464\n",
      "117 -1.8198077734609248\n",
      "120 -1.818484627396962\n",
      "123 -1.8182346505371605\n",
      "126 -1.8192485324257197\n",
      "129 -1.8205620130363052\n",
      "132 -1.8224943492622012\n",
      "135 -1.8187562959887131\n",
      "138 -1.8218560623122673\n",
      "141 -1.8212440763825581\n",
      "144 -1.8189771456900878\n",
      "147 -1.8214960882941498\n",
      "150 -1.8192308170821554\n",
      "153 -1.824424090992081\n",
      "156 -1.8232737371629635\n",
      "159 -1.8214532694960495\n",
      "162 -1.824516315880226\n",
      "165 -1.8249168998826355\n",
      "168 -1.8259147046950124\n",
      "171 -1.8224692651136367\n",
      "174 -1.8228384117623828\n",
      "177 -1.8265551869118948\n",
      "180 -1.8238823249169465\n",
      "183 -1.8271274616218018\n",
      "186 -1.8241766429603807\n",
      "189 -1.8241439950317058\n",
      "192 -1.8242741924444026\n",
      "195 -1.8267462505363103\n",
      "198 -1.8239244042121543\n",
      "201 -1.824990988031494\n",
      "204 -1.8253448410242348\n",
      "207 -1.8240544288163947\n",
      "210 -1.8264278639442122\n",
      "213 -1.8263093607400342\n",
      "216 -1.8258173627793999\n",
      "219 -1.8269893268025477\n",
      "222 -1.8272699740033775\n",
      "225 -1.8277339255358638\n",
      "228 -1.8305094303845493\n",
      "231 -1.827360118968886\n",
      "234 -1.8265229497305118\n",
      "237 -1.8286245135037196\n",
      "240 -1.828258778040022\n",
      "243 -1.8283785502369163\n",
      "246 -1.8294375046082294\n",
      "249 -1.8286668606921639\n",
      "252 -1.828331121734518\n",
      "255 -1.8282637927324994\n",
      "258 -1.8282193931311612\n",
      "261 -1.8297644614230064\n",
      "264 -1.8331120469600486\n",
      "267 -1.8283217680916617\n",
      "270 -1.8314707676968036\n",
      "273 -1.8279288565010021\n",
      "276 -1.8328701402499665\n",
      "279 -1.8263447489172095\n",
      "282 -1.8311781593477794\n",
      "285 -1.831749266446399\n",
      "288 -1.82567785033579\n",
      "291 -1.8306035141178079\n",
      "294 -1.83007877409728\n",
      "297 -1.8319921148846943\n",
      "300 -1.8298621335015506\n",
      "303 -1.8284782858305544\n",
      "306 -1.8300617041253886\n",
      "309 -1.8302736427927226\n",
      "312 -1.8292909385683611\n",
      "315 -1.8302844894042467\n",
      "318 -1.8323584841180744\n",
      "321 -1.8302370179381242\n",
      "324 -1.8316818698693431\n",
      "327 -1.8303251708155661\n",
      "330 -1.8305297049643865\n",
      "333 -1.8290140298170825\n",
      "336 -1.8324811626215063\n",
      "339 -1.8305635842651422\n",
      "342 -1.8315161346289761\n",
      "345 -1.8292773309490133\n",
      "348 -1.8313764966924144\n",
      "351 -1.8286477667706826\n",
      "354 -1.8319726661889677\n",
      "357 -1.8291356130898153\n",
      "360 -1.8329135387518252\n",
      "363 -1.8310152473849315\n",
      "366 -1.8334467968739763\n",
      "369 -1.830225584372632\n",
      "372 -1.8278736605020738\n",
      "375 -1.8313536295614297\n",
      "378 -1.831324003283605\n",
      "381 -1.8312062323321092\n",
      "384 -1.8272947110816768\n",
      "387 -1.8302951825132858\n",
      "390 -1.8303615789444225\n",
      "393 -1.8348586552596067\n",
      "396 -1.8336257849594455\n",
      "399 -1.8299792817855645\n",
      "402 -1.8321474002979454\n",
      "405 -1.831465019798083\n",
      "408 -1.8304970579892725\n",
      "411 -1.8316548593006274\n",
      "414 -1.8309886857216804\n",
      "417 -1.8300410979292678\n",
      "420 -1.830420901973539\n",
      "423 -1.8328586115996943\n",
      "426 -1.83092649209954\n",
      "429 -1.835468770742211\n",
      "432 -1.8305699017567278\n",
      "435 -1.8308324624322057\n",
      "438 -1.8309714347375614\n",
      "441 -1.8299835989853124\n",
      "444 -1.8353850446497173\n",
      "447 -1.8290654279951934\n",
      "450 -1.8336117284346334\n"
     ]
    }
   ],
   "source": [
    "results = solver.compute_minimum_eigenvalue()"
   ]
  }
 ],
 "metadata": {
  "kernelspec": {
   "display_name": "Python 3 (ipykernel)",
   "language": "python",
   "name": "python3"
  },
  "language_info": {
   "codemirror_mode": {
    "name": "ipython",
    "version": 3
   },
   "file_extension": ".py",
   "mimetype": "text/x-python",
   "name": "python",
   "nbconvert_exporter": "python",
   "pygments_lexer": "ipython3",
   "version": "3.9.16"
  }
 },
 "nbformat": 4,
 "nbformat_minor": 4
}
