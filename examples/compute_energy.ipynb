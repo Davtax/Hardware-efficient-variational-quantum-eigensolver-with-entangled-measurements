{
 "cells": [
  {
   "cell_type": "code",
   "execution_count": 1,
   "metadata": {
    "execution": {
     "iopub.execute_input": "2023-05-09T13:46:07.455342Z",
     "iopub.status.busy": "2023-05-09T13:46:07.455019Z",
     "iopub.status.idle": "2023-05-09T13:46:07.460331Z",
     "shell.execute_reply": "2023-05-09T13:46:07.459895Z",
     "shell.execute_reply.started": "2023-05-09T13:46:07.455328Z"
    },
    "tags": []
   },
   "outputs": [],
   "source": [
    "import sys\n",
    "\n",
    "sys.path.append('../')"
   ]
  },
  {
   "cell_type": "code",
   "execution_count": 9,
   "metadata": {
    "execution": {
     "iopub.execute_input": "2023-05-09T13:47:58.646698Z",
     "iopub.status.busy": "2023-05-09T13:47:58.646371Z",
     "iopub.status.idle": "2023-05-09T13:47:58.649801Z",
     "shell.execute_reply": "2023-05-09T13:47:58.649320Z",
     "shell.execute_reply.started": "2023-05-09T13:47:58.646685Z"
    },
    "pycharm": {
     "name": "#%%\n"
    },
    "tags": []
   },
   "outputs": [],
   "source": [
    "from qiskit.providers.fake_provider import FakeMontreal\n",
    "from qiskit import Aer\n",
    "from qiskit.providers.aer.noise import NoiseModel\n",
    "from qiskit.providers.aer import QasmSimulator\n",
    "\n",
    "from molecules import compute_molecule\n",
    "from measurements import compute_energy, create_circuits\n",
    "from grouping import Grouping\n",
    "from utils import extract_paulis"
   ]
  },
  {
   "cell_type": "code",
   "execution_count": 3,
   "metadata": {
    "execution": {
     "iopub.execute_input": "2023-05-09T13:46:18.381778Z",
     "iopub.status.busy": "2023-05-09T13:46:18.381421Z",
     "iopub.status.idle": "2023-05-09T13:46:19.457338Z",
     "shell.execute_reply": "2023-05-09T13:46:19.456850Z",
     "shell.execute_reply.started": "2023-05-09T13:46:18.381764Z"
    },
    "tags": []
   },
   "outputs": [],
   "source": [
    "simulator = Aer.get_backend('aer_simulator')  # Backend for simulation\n",
    "NUM_SHOTS = 2 ** 15\n",
    "\n",
    "backend = FakeMontreal()\n",
    "WC_device = backend.configuration().coupling_map\n",
    "WC_device = [tuple(x) for x in WC_device]\n",
    "\n",
    "device = QasmSimulator.from_backend(backend)\n",
    "coupling_map = device.configuration().coupling_map\n",
    "noise_model = NoiseModel.from_backend(device)\n",
    "\n",
    "kwargs_run = {'coupling_map': coupling_map, 'noise_model': noise_model}"
   ]
  },
  {
   "cell_type": "code",
   "execution_count": 4,
   "metadata": {
    "execution": {
     "iopub.execute_input": "2023-05-09T13:46:23.452880Z",
     "iopub.status.busy": "2023-05-09T13:46:23.452507Z",
     "iopub.status.idle": "2023-05-09T13:46:24.068499Z",
     "shell.execute_reply": "2023-05-09T13:46:24.067993Z",
     "shell.execute_reply.started": "2023-05-09T13:46:23.452866Z"
    },
    "tags": []
   },
   "outputs": [],
   "source": [
    "molecule_name = 'LiH'\n",
    "qubit_op = compute_molecule(molecule_name)"
   ]
  },
  {
   "cell_type": "code",
   "execution_count": 5,
   "metadata": {
    "execution": {
     "iopub.execute_input": "2023-05-09T13:46:26.144651Z",
     "iopub.status.busy": "2023-05-09T13:46:26.144335Z",
     "iopub.status.idle": "2023-05-09T13:46:26.148477Z",
     "shell.execute_reply": "2023-05-09T13:46:26.148007Z",
     "shell.execute_reply.started": "2023-05-09T13:46:26.144638Z"
    },
    "tags": []
   },
   "outputs": [
    {
     "name": "stdout",
     "output_type": "stream",
     "text": [
      "Exact energy: -0.5510251879817397\n"
     ]
    }
   ],
   "source": [
    "labels, coeffs = extract_paulis(qubit_op)\n",
    "energy_exact = 0\n",
    "\n",
    "for i in range(len(labels)):\n",
    "    label = labels[i]\n",
    "    if 'X' not in label and 'Y' not in label:\n",
    "        energy_exact += coeffs[i].real\n",
    "\n",
    "print('Exact energy: {}'.format(energy_exact))"
   ]
  },
  {
   "cell_type": "code",
   "execution_count": 6,
   "metadata": {
    "execution": {
     "iopub.execute_input": "2023-05-09T13:46:31.560623Z",
     "iopub.status.busy": "2023-05-09T13:46:31.560367Z",
     "iopub.status.idle": "2023-05-09T13:46:31.647163Z",
     "shell.execute_reply": "2023-05-09T13:46:31.646702Z",
     "shell.execute_reply.started": "2023-05-09T13:46:31.560610Z"
    },
    "tags": []
   },
   "outputs": [
    {
     "data": {
      "application/vnd.jupyter.widget-view+json": {
       "model_id": "b4e0614b5e2748d1bb71df371258afbb",
       "version_major": 2,
       "version_minor": 0
      },
      "text/plain": [
       "Pauli graph:   0%|          | 0/100 [00:00<?, ?it/s]"
      ]
     },
     "metadata": {},
     "output_type": "display_data"
    },
    {
     "data": {
      "application/vnd.jupyter.widget-view+json": {
       "model_id": "072b5f9890f64923b008b5b0904966ce",
       "version_major": 2,
       "version_minor": 0
      },
      "text/plain": [
       "Grouping entangled:   0%|          | 0/100 [00:00<?, ?it/s]"
      ]
     },
     "metadata": {},
     "output_type": "display_data"
    }
   ],
   "source": [
    "grouping_HEEM = Grouping(qubit_op, connectivity=WC_device, print_progress=True, method='HEEM', connected_graph=True)\n",
    "grouping_HEEM.group()\n",
    "circuits = create_circuits(grouping_HEEM.measurements, qubit_op.num_qubits)"
   ]
  },
  {
   "cell_type": "code",
   "execution_count": 7,
   "metadata": {
    "execution": {
     "iopub.execute_input": "2023-05-09T13:46:34.386868Z",
     "iopub.status.busy": "2023-05-09T13:46:34.386588Z",
     "iopub.status.idle": "2023-05-09T13:46:35.762939Z",
     "shell.execute_reply": "2023-05-09T13:46:35.762372Z",
     "shell.execute_reply.started": "2023-05-09T13:46:34.386852Z"
    },
    "tags": []
   },
   "outputs": [],
   "source": [
    "counts = simulator.run(circuits, shots=NUM_SHOTS, initial_layout=grouping_HEEM.T[::-1],\n",
    "                       **kwargs_run).result().get_counts()"
   ]
  },
  {
   "cell_type": "code",
   "execution_count": 8,
   "metadata": {
    "execution": {
     "iopub.execute_input": "2023-05-09T13:46:37.783652Z",
     "iopub.status.busy": "2023-05-09T13:46:37.783300Z",
     "iopub.status.idle": "2023-05-09T13:46:37.798297Z",
     "shell.execute_reply": "2023-05-09T13:46:37.797755Z",
     "shell.execute_reply.started": "2023-05-09T13:46:37.783638Z"
    },
    "tags": []
   },
   "outputs": [
    {
     "data": {
      "application/vnd.jupyter.widget-view+json": {
       "model_id": "4cf1a2e2b5cc40b0a602273f2226712a",
       "version_major": 2,
       "version_minor": 0
      },
      "text/plain": [
       "Computing energy:   0%|          | 0/14 [00:00<?, ?it/s]"
      ]
     },
     "metadata": {},
     "output_type": "display_data"
    },
    {
     "name": "stdout",
     "output_type": "stream",
     "text": [
      "Simulated energy: -0.5578252064351189\n"
     ]
    }
   ],
   "source": [
    "energy_simulation = compute_energy(counts, labels, coeffs, grouping_HEEM.groups, grouping_HEEM.measurements, NUM_SHOTS)\n",
    "print('Simulated energy: {}'.format(energy_simulation))"
   ]
  }
 ],
 "metadata": {
  "kernelspec": {
   "display_name": "Python 3 (ipykernel)",
   "language": "python",
   "name": "python3"
  },
  "language_info": {
   "codemirror_mode": {
    "name": "ipython",
    "version": 3
   },
   "file_extension": ".py",
   "mimetype": "text/x-python",
   "name": "python",
   "nbconvert_exporter": "python",
   "pygments_lexer": "ipython3",
   "version": "3.9.16"
  }
 },
 "nbformat": 4,
 "nbformat_minor": 4
}
