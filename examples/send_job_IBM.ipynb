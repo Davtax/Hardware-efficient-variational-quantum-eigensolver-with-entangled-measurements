{
 "cells": [
  {
   "cell_type": "code",
   "execution_count": 1,
   "id": "3d62b92d-b8af-4c0e-83f8-5addf15f5f28",
   "metadata": {
    "execution": {
     "iopub.execute_input": "2023-05-09T13:52:22.806763Z",
     "iopub.status.busy": "2023-05-09T13:52:22.806486Z",
     "iopub.status.idle": "2023-05-09T13:52:22.811743Z",
     "shell.execute_reply": "2023-05-09T13:52:22.811290Z",
     "shell.execute_reply.started": "2023-05-09T13:52:22.806746Z"
    },
    "tags": []
   },
   "outputs": [],
   "source": [
    "import sys\n",
    "\n",
    "sys.path.append('../')"
   ]
  },
  {
   "cell_type": "code",
   "execution_count": 2,
   "id": "6b71f8cc-b1e2-4bfa-b4a7-6d4203037446",
   "metadata": {
    "execution": {
     "iopub.execute_input": "2023-05-09T13:52:23.645163Z",
     "iopub.status.busy": "2023-05-09T13:52:23.644863Z",
     "iopub.status.idle": "2023-05-09T13:52:24.664687Z",
     "shell.execute_reply": "2023-05-09T13:52:24.664176Z",
     "shell.execute_reply.started": "2023-05-09T13:52:23.645150Z"
    },
    "tags": []
   },
   "outputs": [
    {
     "name": "stderr",
     "output_type": "stream",
     "text": [
      "/home/dfernandez/anaconda3/envs/HEEM/lib/python3.9/site-packages/numpy/core/getlimits.py:500: UserWarning: The value of the smallest subnormal for <class 'numpy.float64'> type is zero.\n",
      "  setattr(self, word, getattr(machar, word).flat[0])\n",
      "/home/dfernandez/anaconda3/envs/HEEM/lib/python3.9/site-packages/numpy/core/getlimits.py:89: UserWarning: The value of the smallest subnormal for <class 'numpy.float64'> type is zero.\n",
      "  return self._float_to_str(self.smallest_subnormal)\n",
      "/home/dfernandez/anaconda3/envs/HEEM/lib/python3.9/site-packages/numpy/core/getlimits.py:500: UserWarning: The value of the smallest subnormal for <class 'numpy.float32'> type is zero.\n",
      "  setattr(self, word, getattr(machar, word).flat[0])\n",
      "/home/dfernandez/anaconda3/envs/HEEM/lib/python3.9/site-packages/numpy/core/getlimits.py:89: UserWarning: The value of the smallest subnormal for <class 'numpy.float32'> type is zero.\n",
      "  return self._float_to_str(self.smallest_subnormal)\n"
     ]
    }
   ],
   "source": [
    "from qiskit.providers.fake_provider import FakeMontreal\n",
    "from qiskit import IBMQ\n",
    "from qiskit.providers.aer.noise import NoiseModel\n",
    "from qiskit.providers.aer import QasmSimulator\n",
    "\n",
    "from molecules import compute_molecule\n",
    "from measurements import compute_energy, create_circuits\n",
    "from grouping import Grouping\n",
    "from utils import extract_paulis, send_ibmq_parallel"
   ]
  },
  {
   "cell_type": "code",
   "execution_count": 4,
   "id": "09c79742-0ca3-4611-b613-19cd48902414",
   "metadata": {
    "execution": {
     "iopub.execute_input": "2023-05-09T13:53:56.516054Z",
     "iopub.status.busy": "2023-05-09T13:53:56.515770Z",
     "iopub.status.idle": "2023-05-09T13:54:01.870536Z",
     "shell.execute_reply": "2023-05-09T13:54:01.870038Z",
     "shell.execute_reply.started": "2023-05-09T13:53:56.516037Z"
    },
    "tags": []
   },
   "outputs": [],
   "source": [
    "IBMQ.load_account()\n",
    "provider_main = IBMQ.get_provider()\n",
    "backend_IBMQ = provider_main.get_backend('ibmq_qasm_simulator')\n",
    "\n",
    "NUM_SHOTS = 2 ** 14\n",
    "\n",
    "backend = FakeMontreal()\n",
    "WC_device = backend.configuration().coupling_map\n",
    "WC_device = [tuple(x) for x in WC_device]\n",
    "\n",
    "device = QasmSimulator.from_backend(backend)\n",
    "coupling_map = device.configuration().coupling_map\n",
    "noise_model = NoiseModel.from_backend(device)"
   ]
  },
  {
   "cell_type": "code",
   "execution_count": 12,
   "id": "55b4fbce-c996-473d-b0fe-e94f201546fe",
   "metadata": {
    "execution": {
     "iopub.execute_input": "2023-05-09T13:56:33.150291Z",
     "iopub.status.busy": "2023-05-09T13:56:33.149967Z",
     "iopub.status.idle": "2023-05-09T13:56:37.424497Z",
     "shell.execute_reply": "2023-05-09T13:56:37.423991Z",
     "shell.execute_reply.started": "2023-05-09T13:56:33.150275Z"
    },
    "tags": []
   },
   "outputs": [],
   "source": [
    "molecule_name = 'CH4'\n",
    "qubit_op = compute_molecule(molecule_name)"
   ]
  },
  {
   "cell_type": "code",
   "execution_count": 13,
   "id": "d23b5d37-1f78-4690-920a-63a5e97bac66",
   "metadata": {
    "execution": {
     "iopub.execute_input": "2023-05-09T13:56:37.425518Z",
     "iopub.status.busy": "2023-05-09T13:56:37.425275Z",
     "iopub.status.idle": "2023-05-09T13:56:37.431840Z",
     "shell.execute_reply": "2023-05-09T13:56:37.431394Z",
     "shell.execute_reply.started": "2023-05-09T13:56:37.425506Z"
    },
    "tags": []
   },
   "outputs": [
    {
     "name": "stdout",
     "output_type": "stream",
     "text": [
      "Exact energy: -10.66250632013532\n"
     ]
    }
   ],
   "source": [
    "labels, coeffs = extract_paulis(qubit_op)\n",
    "energy_exact = 0\n",
    "\n",
    "for i in range(len(labels)):\n",
    "    label = labels[i]\n",
    "    if 'X' not in label and 'Y' not in label:\n",
    "        energy_exact += coeffs[i].real\n",
    "\n",
    "print('Exact energy: {}'.format(energy_exact))"
   ]
  },
  {
   "cell_type": "code",
   "execution_count": 14,
   "id": "fdc6ceb4-ad62-454a-98a6-b1f21704a6bc",
   "metadata": {
    "execution": {
     "iopub.execute_input": "2023-05-09T13:56:37.432448Z",
     "iopub.status.busy": "2023-05-09T13:56:37.432321Z",
     "iopub.status.idle": "2023-05-09T13:56:47.241402Z",
     "shell.execute_reply": "2023-05-09T13:56:47.240883Z",
     "shell.execute_reply.started": "2023-05-09T13:56:37.432437Z"
    },
    "tags": []
   },
   "outputs": [
    {
     "data": {
      "application/vnd.jupyter.widget-view+json": {
       "model_id": "ca82e59c84734f948656b951681d6976",
       "version_major": 2,
       "version_minor": 0
      },
      "text/plain": [
       "Pauli graph:   0%|          | 0/1039 [00:00<?, ?it/s]"
      ]
     },
     "metadata": {},
     "output_type": "display_data"
    },
    {
     "data": {
      "application/vnd.jupyter.widget-view+json": {
       "model_id": "1527908857644797a69299afcd9334f2",
       "version_major": 2,
       "version_minor": 0
      },
      "text/plain": [
       "Grouping entangled:   0%|          | 0/1039 [00:00<?, ?it/s]"
      ]
     },
     "metadata": {},
     "output_type": "display_data"
    },
    {
     "name": "stdout",
     "output_type": "stream",
     "text": [
      "A total of 129 circuits will be simulated\n"
     ]
    }
   ],
   "source": [
    "grouping_HEEM = Grouping(qubit_op, connectivity=WC_device, print_progress=True, method='HEEM', connected_graph=True)\n",
    "grouping_HEEM.group()\n",
    "circuits = create_circuits(grouping_HEEM.measurements, qubit_op.num_qubits)\n",
    "\n",
    "print(f'A total of {len(circuits)} circuits will be simulated')"
   ]
  },
  {
   "cell_type": "code",
   "execution_count": 15,
   "id": "3519218e-3a2c-43a4-9329-9eab9851b916",
   "metadata": {
    "execution": {
     "iopub.execute_input": "2023-05-09T13:57:06.750427Z",
     "iopub.status.busy": "2023-05-09T13:57:06.750102Z",
     "iopub.status.idle": "2023-05-09T14:01:56.265626Z",
     "shell.execute_reply": "2023-05-09T14:01:56.265087Z",
     "shell.execute_reply.started": "2023-05-09T13:57:06.750414Z"
    },
    "tags": []
   },
   "outputs": [
    {
     "data": {
      "application/vnd.jupyter.widget-view+json": {
       "model_id": "a640c9b7020740e1bc7714016b669514",
       "version_major": 2,
       "version_minor": 0
      },
      "text/plain": [
       "Jobs completed:   0%|          | 0/4 [00:00<?, ?it/s]"
      ]
     },
     "metadata": {},
     "output_type": "display_data"
    }
   ],
   "source": [
    "jobs = send_ibmq_parallel(backend_IBMQ, circuits, job_tags=[molecule_name, 'HEEM'], progress_bar=True,\n",
    "                          circuits_batch_size=33, shots=NUM_SHOTS, coupling_map=coupling_map,\n",
    "                          initial_layout=grouping_HEEM.T, noise_model=noise_model)"
   ]
  },
  {
   "cell_type": "code",
   "execution_count": 16,
   "id": "0b7ccaa0-38f3-4ef0-88b7-1166fd50c85f",
   "metadata": {
    "execution": {
     "iopub.execute_input": "2023-05-09T14:01:56.266859Z",
     "iopub.status.busy": "2023-05-09T14:01:56.266677Z",
     "iopub.status.idle": "2023-05-09T14:02:04.204885Z",
     "shell.execute_reply": "2023-05-09T14:02:04.204377Z",
     "shell.execute_reply.started": "2023-05-09T14:01:56.266846Z"
    },
    "tags": []
   },
   "outputs": [],
   "source": [
    "counts = []\n",
    "\n",
    "for job in jobs:\n",
    "    temp = job.result().get_counts()\n",
    "    if type(temp) is list:\n",
    "        counts += temp\n",
    "    else:\n",
    "        counts.append(temp)"
   ]
  },
  {
   "cell_type": "code",
   "execution_count": 17,
   "id": "c78c24bb-9fe0-444b-9b3a-d029c0df9370",
   "metadata": {
    "execution": {
     "iopub.execute_input": "2023-05-09T14:02:04.205789Z",
     "iopub.status.busy": "2023-05-09T14:02:04.205662Z",
     "iopub.status.idle": "2023-05-09T14:02:04.318279Z",
     "shell.execute_reply": "2023-05-09T14:02:04.317760Z",
     "shell.execute_reply.started": "2023-05-09T14:02:04.205777Z"
    },
    "tags": []
   },
   "outputs": [
    {
     "data": {
      "application/vnd.jupyter.widget-view+json": {
       "model_id": "469a4245b73f4d30a3acd0b44b0334f7",
       "version_major": 2,
       "version_minor": 0
      },
      "text/plain": [
       "Computing energy:   0%|          | 0/129 [00:00<?, ?it/s]"
      ]
     },
     "metadata": {},
     "output_type": "display_data"
    },
    {
     "name": "stdout",
     "output_type": "stream",
     "text": [
      "Simulated energy: -11.727498116660529\n"
     ]
    }
   ],
   "source": [
    "energy_simulation = compute_energy(counts, labels, coeffs, grouping_HEEM.groups, grouping_HEEM.measurements, NUM_SHOTS)\n",
    "print('Simulated energy: {}'.format(energy_simulation))"
   ]
  }
 ],
 "metadata": {
  "kernelspec": {
   "display_name": "Python 3 (ipykernel)",
   "language": "python",
   "name": "python3"
  },
  "language_info": {
   "codemirror_mode": {
    "name": "ipython",
    "version": 3
   },
   "file_extension": ".py",
   "mimetype": "text/x-python",
   "name": "python",
   "nbconvert_exporter": "python",
   "pygments_lexer": "ipython3",
   "version": "3.9.16"
  }
 },
 "nbformat": 4,
 "nbformat_minor": 5
}
