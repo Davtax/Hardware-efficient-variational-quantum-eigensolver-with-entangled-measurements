{
 "cells": [
  {
   "cell_type": "code",
   "execution_count": 63,
   "metadata": {
    "execution": {
     "iopub.execute_input": "2021-05-29T15:19:57.973271Z",
     "iopub.status.busy": "2021-05-29T15:19:57.973271Z",
     "iopub.status.idle": "2021-05-29T15:19:57.980266Z",
     "shell.execute_reply": "2021-05-29T15:19:57.979250Z",
     "shell.execute_reply.started": "2021-05-29T15:19:57.973271Z"
    }
   },
   "outputs": [],
   "source": [
    "import numpy as np\n",
    "import matplotlib.pyplot as plt\n",
    "from GroupingAlgorithms import *\n",
    "from functions_VQE_v2 import *\n",
    "# Importing standard Qiskit libraries\n",
    "from qiskit import IBMQ, providers\n",
    "from qiskit.circuit.library import EfficientSU2\n",
    "from qiskit.aqua.algorithms import NumPyEigensolver\n",
    "from qiskit.opflow import converters\n",
    "from qiskit.opflow.primitive_ops import Z2Symmetries"
   ]
  },
  {
   "cell_type": "code",
   "execution_count": 2,
   "metadata": {
    "execution": {
     "iopub.execute_input": "2021-05-29T15:06:47.028056Z",
     "iopub.status.busy": "2021-05-29T15:06:47.027059Z",
     "iopub.status.idle": "2021-05-29T15:06:54.154570Z",
     "shell.execute_reply": "2021-05-29T15:06:54.154570Z",
     "shell.execute_reply.started": "2021-05-29T15:06:47.028056Z"
    }
   },
   "outputs": [],
   "source": [
    "IBMQ.load_account()\n",
    "provider  = IBMQ.get_provider(hub='ibm-q-csic', group='internal', project='iff-csic') \n",
    "backend   = provider.get_backend('ibmq_paris')\n",
    "WC_paris  = get_backend_conectivity(backend)\n",
    "backend   = providers.aer.AerSimulator(method=\"statevector\") # Backend for simulation\n",
    "NUM_SHOTS = 2**13  # Number of shots for each circuit"
   ]
  },
  {
   "cell_type": "code",
   "execution_count": 3,
   "metadata": {
    "execution": {
     "iopub.execute_input": "2021-05-29T15:06:54.156492Z",
     "iopub.status.busy": "2021-05-29T15:06:54.156492Z",
     "iopub.status.idle": "2021-05-29T15:06:54.166244Z",
     "shell.execute_reply": "2021-05-29T15:06:54.165248Z",
     "shell.execute_reply.started": "2021-05-29T15:06:54.156492Z"
    }
   },
   "outputs": [
    {
     "name": "stdout",
     "output_type": "stream",
     "text": [
      "SummedOp([\n",
      "  -1 * IZ,\n",
      "  -1 * ZI,\n",
      "  -1 * XX,\n",
      "  -1 * YY,\n",
      "  -1 * ZZ\n",
      "])\n"
     ]
    }
   ],
   "source": [
    "num_qubits = 2\n",
    "np.random.seed(254651)\n",
    "qubit_op   = HeisenbergHamiltonian()\n",
    "WC=list(range(num_qubits))\n",
    "WC=list(permutations(list(range(num_qubits)),2))\n",
    "print( qubit_op )"
   ]
  },
  {
   "cell_type": "code",
   "execution_count": 4,
   "metadata": {
    "execution": {
     "iopub.execute_input": "2021-05-29T15:06:54.168236Z",
     "iopub.status.busy": "2021-05-29T15:06:54.168236Z",
     "iopub.status.idle": "2021-05-29T15:06:54.191176Z",
     "shell.execute_reply": "2021-05-29T15:06:54.190187Z",
     "shell.execute_reply.started": "2021-05-29T15:06:54.168236Z"
    }
   },
   "outputs": [
    {
     "name": "stderr",
     "output_type": "stream",
     "text": [
      "C:\\Users\\Luciano\\Anaconda3\\lib\\site-packages\\qiskit\\aqua\\algorithms\\eigen_solvers\\eigen_solver.py:38: DeprecationWarning: The package qiskit.aqua.algorithms.eigen_solvers is deprecated. It was moved/refactored to qiskit.algorithms.eigen_solvers (pip install qiskit-terra). For more information see <https://github.com/Qiskit/qiskit-aqua/blob/master/README.md#migration-guide>\n",
      "  'qiskit-terra')\n",
      "C:\\Users\\Luciano\\Anaconda3\\lib\\site-packages\\qiskit\\aqua\\operators\\operator_base.py:46: DeprecationWarning: The package qiskit.aqua.operators is deprecated. It was moved/refactored to qiskit.opflow (pip install qiskit-terra). For more information see <https://github.com/Qiskit/qiskit-aqua/blob/master/README.md#migration-guide>\n",
      "  warn_package('aqua.operators', 'qiskit.opflow', 'qiskit-terra')\n"
     ]
    },
    {
     "data": {
      "text/plain": [
       "-3.000000000000001"
      ]
     },
     "execution_count": 4,
     "metadata": {},
     "output_type": "execute_result"
    }
   ],
   "source": [
    "exact_result = NumPyEigensolver(qubit_op).run()\n",
    "exact_energy = np.real(exact_result.eigenvalues)[0]\n",
    "exact_energy"
   ]
  },
  {
   "cell_type": "code",
   "execution_count": 5,
   "metadata": {
    "execution": {
     "iopub.execute_input": "2021-05-29T15:06:54.196162Z",
     "iopub.status.busy": "2021-05-29T15:06:54.195166Z",
     "iopub.status.idle": "2021-05-29T15:06:54.219100Z",
     "shell.execute_reply": "2021-05-29T15:06:54.218103Z",
     "shell.execute_reply.started": "2021-05-29T15:06:54.196162Z"
    }
   },
   "outputs": [
    {
     "name": "stdout",
     "output_type": "stream",
     "text": [
      "number of Paulis: 5\n",
      "number of TPB groups: 3\n",
      "number of Bell groups: 2\n",
      "number of Bell groups in ibmq_paris: 2\n"
     ]
    },
    {
     "name": "stderr",
     "output_type": "stream",
     "text": [
      "D:\\Saco_CSIC\\Programas\\Github\\Hardware-efficient-variational-quantum-eigensolver-with-entangled-measurements\\Codes\\GroupingAlgorithms.py:118: FutureWarning: Using a non-tuple sequence for multidimensional indexing is deprecated; use `arr[tuple(seq)]` instead of `arr[seq]`. In the future this will be interpreted as an array index, `arr[np.array(seq)]`, which will result either in an error or a different result.\n",
      "  if (list(Vi[[per]]) in Comp[Eps]) and (list(Vj[[per]]) in Comp[Eps]):\n"
     ]
    }
   ],
   "source": [
    "paulis, coeff, label = Label2Chain(qubit_op)\n",
    "print( 'number of Paulis:', len(coeff) )\n",
    "\n",
    "Color, Groups_tpb, Measurements_tpb = TPBgrouping(paulis)\n",
    "print( 'number of TPB groups:', len(Groups_tpb) )\n",
    "Groups_tpb = [ [ idx2[0] for idx2 in idx1 ] for idx1 in Groups_tpb ]\n",
    "Measurements_tpb = [ [ [idx[j][0],[j]] for j in range(num_qubits) ] for idx in Measurements_tpb ]\n",
    "\n",
    "Groups_bell, Measurements_bell = grouping( paulis,[4,3,1,2],WC)\n",
    "print('number of Bell groups:', len(Groups_bell) )\n",
    "\n",
    "Groups_bell_paris, Measurements_bell_paris = grouping( paulis,[4,3,1,2],WC_paris)\n",
    "print('number of Bell groups in ibmq_paris:', len(Groups_bell_paris) )"
   ]
  },
  {
   "cell_type": "code",
   "execution_count": 6,
   "metadata": {
    "execution": {
     "iopub.execute_input": "2021-05-29T15:06:54.221095Z",
     "iopub.status.busy": "2021-05-29T15:06:54.220097Z",
     "iopub.status.idle": "2021-05-29T15:06:54.230071Z",
     "shell.execute_reply": "2021-05-29T15:06:54.229074Z",
     "shell.execute_reply.started": "2021-05-29T15:06:54.221095Z"
    }
   },
   "outputs": [
    {
     "data": {
      "text/plain": [
       "array([[0, 3],\n",
       "       [3, 0],\n",
       "       [1, 1],\n",
       "       [2, 2],\n",
       "       [3, 3]])"
      ]
     },
     "execution_count": 6,
     "metadata": {},
     "output_type": "execute_result"
    }
   ],
   "source": [
    "paulis"
   ]
  },
  {
   "cell_type": "code",
   "execution_count": 7,
   "metadata": {
    "execution": {
     "iopub.execute_input": "2021-05-29T15:06:54.232070Z",
     "iopub.status.busy": "2021-05-29T15:06:54.231068Z",
     "iopub.status.idle": "2021-05-29T15:06:54.238050Z",
     "shell.execute_reply": "2021-05-29T15:06:54.238050Z",
     "shell.execute_reply.started": "2021-05-29T15:06:54.232070Z"
    }
   },
   "outputs": [
    {
     "data": {
      "text/plain": [
       "[[[1, [0]], [1, [1]]], [[2, [0]], [2, [1]]], [[3, [0]], [3, [1]]]]"
      ]
     },
     "execution_count": 7,
     "metadata": {},
     "output_type": "execute_result"
    }
   ],
   "source": [
    "Measurements_tpb"
   ]
  },
  {
   "cell_type": "code",
   "execution_count": 8,
   "metadata": {
    "execution": {
     "iopub.execute_input": "2021-05-29T15:06:54.240044Z",
     "iopub.status.busy": "2021-05-29T15:06:54.240044Z",
     "iopub.status.idle": "2021-05-29T15:06:54.248023Z",
     "shell.execute_reply": "2021-05-29T15:06:54.247025Z",
     "shell.execute_reply.started": "2021-05-29T15:06:54.240044Z"
    }
   },
   "outputs": [
    {
     "data": {
      "text/plain": [
       "[[[4, [0, 1]]], [[3, [0]], [3, [1]]]]"
      ]
     },
     "execution_count": 8,
     "metadata": {},
     "output_type": "execute_result"
    }
   ],
   "source": [
    "Measurements_bell"
   ]
  },
  {
   "cell_type": "code",
   "execution_count": 9,
   "metadata": {
    "execution": {
     "iopub.execute_input": "2021-05-29T15:06:54.251015Z",
     "iopub.status.busy": "2021-05-29T15:06:54.251015Z",
     "iopub.status.idle": "2021-05-29T15:06:54.258994Z",
     "shell.execute_reply": "2021-05-29T15:06:54.257996Z",
     "shell.execute_reply.started": "2021-05-29T15:06:54.251015Z"
    }
   },
   "outputs": [
    {
     "data": {
      "text/plain": [
       "[[[4, [0, 1]]], [[3, [0]], [3, [1]]]]"
      ]
     },
     "execution_count": 9,
     "metadata": {},
     "output_type": "execute_result"
    }
   ],
   "source": [
    "Measurements_bell_paris"
   ]
  },
  {
   "cell_type": "code",
   "execution_count": null,
   "metadata": {},
   "outputs": [],
   "source": []
  },
  {
   "cell_type": "code",
   "execution_count": 10,
   "metadata": {
    "execution": {
     "iopub.execute_input": "2021-05-29T15:06:54.260988Z",
     "iopub.status.busy": "2021-05-29T15:06:54.259990Z",
     "iopub.status.idle": "2021-05-29T15:06:54.819412Z",
     "shell.execute_reply": "2021-05-29T15:06:54.819412Z",
     "shell.execute_reply.started": "2021-05-29T15:06:54.260988Z"
    }
   },
   "outputs": [
    {
     "data": {
      "image/png": "[encoded data removed]",
      "text/plain": [
       "<Figure size 387.452x144.48 with 1 Axes>"
      ]
     },
     "execution_count": 10,
     "metadata": {},
     "output_type": "execute_result"
    }
   ],
   "source": [
    "entangled_layer = []\n",
    "for qbs in WC_paris :\n",
    "    if qbs[0]<qbs[1] and qbs[1]<num_qubits :\n",
    "        entangled_layer.append(qbs)\n",
    "\n",
    "ansatz = EfficientSU2(num_qubits,['ry','rz'], entanglement=entangled_layer, reps=1)\n",
    "ansatz.draw(output='mpl')"
   ]
  },
  {
   "cell_type": "code",
   "execution_count": null,
   "metadata": {},
   "outputs": [],
   "source": []
  },
  {
   "cell_type": "code",
   "execution_count": 11,
   "metadata": {
    "execution": {
     "iopub.execute_input": "2021-05-29T15:06:54.821372Z",
     "iopub.status.busy": "2021-05-29T15:06:54.820372Z",
     "iopub.status.idle": "2021-05-29T15:06:54.833301Z",
     "shell.execute_reply": "2021-05-29T15:06:54.832354Z",
     "shell.execute_reply.started": "2021-05-29T15:06:54.821372Z"
    }
   },
   "outputs": [],
   "source": [
    "num_var = 4*num_qubits\n",
    "θ = np.random.randn(num_var)\n",
    "qc = []\n",
    "n_measure = []\n",
    "for measure in Measurements_bell :\n",
    "    qc_temp, n_measure_temp = measure_circuit_factor( measure , num_qubits )\n",
    "    qc_temp = qc_temp.compose(ansatz.assign_parameters(θ),front=True )\n",
    "    qc.append( qc_temp )\n",
    "    n_measure.append( n_measure_temp )"
   ]
  },
  {
   "cell_type": "code",
   "execution_count": 12,
   "metadata": {
    "execution": {
     "iopub.execute_input": "2021-05-29T15:06:54.835279Z",
     "iopub.status.busy": "2021-05-29T15:06:54.834282Z",
     "iopub.status.idle": "2021-05-29T15:06:54.892155Z",
     "shell.execute_reply": "2021-05-29T15:06:54.891131Z",
     "shell.execute_reply.started": "2021-05-29T15:06:54.835279Z"
    }
   },
   "outputs": [
    {
     "data": {
      "text/plain": [
       "[{'01': 3674, '11': 926, '00': 2798, '10': 794},\n",
       " {'0 0': 5316, '1 1': 1163, '0 1': 1633, '1 0': 80}]"
      ]
     },
     "execution_count": 12,
     "metadata": {},
     "output_type": "execute_result"
    }
   ],
   "source": [
    "counts = backend.run(qc,shots=NUM_SHOTS).result().get_counts()\n",
    "counts"
   ]
  },
  {
   "cell_type": "code",
   "execution_count": 13,
   "metadata": {
    "execution": {
     "iopub.execute_input": "2021-05-29T15:06:54.893152Z",
     "iopub.status.busy": "2021-05-29T15:06:54.893152Z",
     "iopub.status.idle": "2021-05-29T15:06:54.901104Z",
     "shell.execute_reply": "2021-05-29T15:06:54.900132Z",
     "shell.execute_reply.started": "2021-05-29T15:06:54.893152Z"
    }
   },
   "outputs": [
    {
     "data": {
      "text/plain": [
       "[array([0.34155273, 0.44848633, 0.09692383, 0.11303711]),\n",
       " array([0.64892578, 0.19934082, 0.00976562, 0.14196777])]"
      ]
     },
     "execution_count": 13,
     "metadata": {},
     "output_type": "execute_result"
    }
   ],
   "source": [
    "probabilities = [ post_process_results(counts[0], num_qubits, NUM_SHOTS), post_process_results(counts[1], num_qubits, NUM_SHOTS) ]\n",
    "probabilities"
   ]
  },
  {
   "cell_type": "code",
   "execution_count": 14,
   "metadata": {
    "execution": {
     "iopub.execute_input": "2021-05-29T15:06:54.902101Z",
     "iopub.status.busy": "2021-05-29T15:06:54.902101Z",
     "iopub.status.idle": "2021-05-29T15:06:54.915067Z",
     "shell.execute_reply": "2021-05-29T15:06:54.914099Z",
     "shell.execute_reply.started": "2021-05-29T15:06:54.902101Z"
    }
   },
   "outputs": [],
   "source": [
    "Bell = np.array([ [1,0,0,1], [1,0,0,-1], [0,1,1,0], [0,1,-1,0] ]).T/np.sqrt(2)\n",
    "X = np.array([[0,1],[1,0]])\n",
    "Y = np.array([[0,-1j],[1j,0]])\n",
    "Z = np.array([[1,0],[0,-1]])\n",
    "I = np.array([[1,0],[1,0]])"
   ]
  },
  {
   "cell_type": "code",
   "execution_count": 15,
   "metadata": {
    "execution": {
     "iopub.execute_input": "2021-05-29T15:06:54.916064Z",
     "iopub.status.busy": "2021-05-29T15:06:54.916064Z",
     "iopub.status.idle": "2021-05-29T15:06:54.927035Z",
     "shell.execute_reply": "2021-05-29T15:06:54.926038Z",
     "shell.execute_reply.started": "2021-05-29T15:06:54.916064Z"
    }
   },
   "outputs": [
    {
     "data": {
      "text/plain": [
       "[array([[ 1.+0.j, -1.+0.j,  1.+0.j, -1.+0.j],\n",
       "        [-1.+0.j,  1.+0.j,  1.+0.j, -1.+0.j],\n",
       "        [ 1.+0.j,  1.+0.j, -1.+0.j, -1.+0.j]]),\n",
       " array([[ 1,  1, -1, -1],\n",
       "        [ 1, -1,  1, -1]])]"
      ]
     },
     "execution_count": 15,
     "metadata": {},
     "output_type": "execute_result"
    }
   ],
   "source": [
    "B0 = []\n",
    "for M in [X,Y,Z]:\n",
    "    B0.append( np.diag(Bell.T.conj()@np.kron(M,M)@Bell) )\n",
    "B0 = np.array(B0)\n",
    "B1 = np.array([ [1,1,-1,-1], [1,-1,1,-1] ])\n",
    "B = [B0,B1]\n",
    "B"
   ]
  },
  {
   "cell_type": "code",
   "execution_count": 16,
   "metadata": {
    "execution": {
     "iopub.execute_input": "2021-05-29T15:06:54.935017Z",
     "iopub.status.busy": "2021-05-29T15:06:54.932024Z",
     "iopub.status.idle": "2021-05-29T15:06:54.941995Z",
     "shell.execute_reply": "2021-05-29T15:06:54.941023Z",
     "shell.execute_reply.started": "2021-05-29T15:06:54.935017Z"
    }
   },
   "outputs": [
    {
     "data": {
      "text/plain": [
       "array([-0.12304687+0.j,  0.09082031+0.j,  0.58007812+0.j])"
      ]
     },
     "execution_count": 16,
     "metadata": {},
     "output_type": "execute_result"
    }
   ],
   "source": [
    "EV0 = B0@probabilities[0]\n",
    "EV0"
   ]
  },
  {
   "cell_type": "code",
   "execution_count": 17,
   "metadata": {
    "execution": {
     "iopub.execute_input": "2021-05-29T15:06:54.942991Z",
     "iopub.status.busy": "2021-05-29T15:06:54.942991Z",
     "iopub.status.idle": "2021-05-29T15:06:54.949973Z",
     "shell.execute_reply": "2021-05-29T15:06:54.948980Z",
     "shell.execute_reply.started": "2021-05-29T15:06:54.942991Z"
    }
   },
   "outputs": [
    {
     "data": {
      "text/plain": [
       "array([0.6965332 , 0.31738281])"
      ]
     },
     "execution_count": 17,
     "metadata": {},
     "output_type": "execute_result"
    }
   ],
   "source": [
    "EV1 = B1@probabilities[1]\n",
    "EV1"
   ]
  },
  {
   "cell_type": "code",
   "execution_count": 18,
   "metadata": {
    "execution": {
     "iopub.execute_input": "2021-05-29T15:06:54.950970Z",
     "iopub.status.busy": "2021-05-29T15:06:54.950970Z",
     "iopub.status.idle": "2021-05-29T15:06:54.956954Z",
     "shell.execute_reply": "2021-05-29T15:06:54.955983Z",
     "shell.execute_reply.started": "2021-05-29T15:06:54.950970Z"
    }
   },
   "outputs": [
    {
     "data": {
      "text/plain": [
       "(-1.561767578125-0j)"
      ]
     },
     "execution_count": 18,
     "metadata": {},
     "output_type": "execute_result"
    }
   ],
   "source": [
    "-np.sum(EV0)-np.sum(EV1)"
   ]
  },
  {
   "cell_type": "code",
   "execution_count": 19,
   "metadata": {
    "execution": {
     "iopub.execute_input": "2021-05-29T15:06:54.957982Z",
     "iopub.status.busy": "2021-05-29T15:06:54.956954Z",
     "iopub.status.idle": "2021-05-29T15:06:54.970917Z",
     "shell.execute_reply": "2021-05-29T15:06:54.969920Z",
     "shell.execute_reply.started": "2021-05-29T15:06:54.957982Z"
    }
   },
   "outputs": [
    {
     "data": {
      "text/plain": [
       "(-1.564908909208547+5.551115123125783e-17j)"
      ]
     },
     "execution_count": 19,
     "metadata": {},
     "output_type": "execute_result"
    }
   ],
   "source": [
    "Hamiltonian = qubit_op.to_matrix()\n",
    "qc_state = ansatz.assign_parameters(θ)\n",
    "qc_state.save_statevector()\n",
    "state = backend.run(qc_state).result().get_statevector()\n",
    "np.vdot( state, Hamiltonian@state )"
   ]
  },
  {
   "cell_type": "code",
   "execution_count": 20,
   "metadata": {
    "execution": {
     "iopub.execute_input": "2021-05-29T15:06:54.974907Z",
     "iopub.status.busy": "2021-05-29T15:06:54.974907Z",
     "iopub.status.idle": "2021-05-29T15:06:54.985877Z",
     "shell.execute_reply": "2021-05-29T15:06:54.984879Z",
     "shell.execute_reply.started": "2021-05-29T15:06:54.974907Z"
    }
   },
   "outputs": [
    {
     "data": {
      "text/plain": [
       "[[[4, [0, 1]]], [[3, [0]], [3, [1]]]]"
      ]
     },
     "execution_count": 20,
     "metadata": {},
     "output_type": "execute_result"
    }
   ],
   "source": [
    "Measurements_bell"
   ]
  },
  {
   "cell_type": "code",
   "execution_count": 21,
   "metadata": {
    "execution": {
     "iopub.execute_input": "2021-05-29T15:06:54.986901Z",
     "iopub.status.busy": "2021-05-29T15:06:54.986901Z",
     "iopub.status.idle": "2021-05-29T15:06:54.994854Z",
     "shell.execute_reply": "2021-05-29T15:06:54.993856Z",
     "shell.execute_reply.started": "2021-05-29T15:06:54.986901Z"
    }
   },
   "outputs": [
    {
     "data": {
      "text/plain": [
       "[array([[ 1, -1,  1, -1],\n",
       "        [-1,  1,  1, -1],\n",
       "        [ 1,  1, -1, -1]]),\n",
       " array([[ 1.,  1., -1., -1.],\n",
       "        [ 1., -1.,  1., -1.]])]"
      ]
     },
     "execution_count": 21,
     "metadata": {},
     "output_type": "execute_result"
    }
   ],
   "source": [
    "probability2expected(coeff, label, Groups_bell, Measurements_bell)"
   ]
  },
  {
   "cell_type": "code",
   "execution_count": 22,
   "metadata": {
    "execution": {
     "iopub.execute_input": "2021-05-29T15:06:54.995851Z",
     "iopub.status.busy": "2021-05-29T15:06:54.995851Z",
     "iopub.status.idle": "2021-05-29T15:06:55.003829Z",
     "shell.execute_reply": "2021-05-29T15:06:55.002832Z",
     "shell.execute_reply.started": "2021-05-29T15:06:54.995851Z"
    }
   },
   "outputs": [
    {
     "data": {
      "text/plain": [
       "[array([[ 1.+0.j, -1.+0.j,  1.+0.j, -1.+0.j],\n",
       "        [-1.+0.j,  1.+0.j,  1.+0.j, -1.+0.j],\n",
       "        [ 1.+0.j,  1.+0.j, -1.+0.j, -1.+0.j]]),\n",
       " array([[ 1,  1, -1, -1],\n",
       "        [ 1, -1,  1, -1]])]"
      ]
     },
     "execution_count": 22,
     "metadata": {},
     "output_type": "execute_result"
    }
   ],
   "source": [
    "B"
   ]
  },
  {
   "cell_type": "code",
   "execution_count": 23,
   "metadata": {
    "execution": {
     "iopub.execute_input": "2021-05-29T15:06:55.004827Z",
     "iopub.status.busy": "2021-05-29T15:06:55.004827Z",
     "iopub.status.idle": "2021-05-29T15:06:55.009812Z",
     "shell.execute_reply": "2021-05-29T15:06:55.009812Z",
     "shell.execute_reply.started": "2021-05-29T15:06:55.004827Z"
    }
   },
   "outputs": [
    {
     "data": {
      "text/plain": [
       "['IZ', 'ZI', 'XX', 'YY', 'ZZ']"
      ]
     },
     "execution_count": 23,
     "metadata": {},
     "output_type": "execute_result"
    }
   ],
   "source": [
    "label"
   ]
  },
  {
   "cell_type": "code",
   "execution_count": null,
   "metadata": {},
   "outputs": [],
   "source": []
  },
  {
   "cell_type": "code",
   "execution_count": 24,
   "metadata": {
    "execution": {
     "iopub.execute_input": "2021-05-29T15:06:55.011807Z",
     "iopub.status.busy": "2021-05-29T15:06:55.011807Z",
     "iopub.status.idle": "2021-05-29T15:06:55.017792Z",
     "shell.execute_reply": "2021-05-29T15:06:55.017792Z",
     "shell.execute_reply.started": "2021-05-29T15:06:55.011807Z"
    }
   },
   "outputs": [],
   "source": [
    "fun1 = lambda params : objective_function(params, coeff, label, Groups_tpb, Measurements_tpb, ansatz, backend, NUM_SHOTS)\n",
    "fun2 = lambda params : objective_function(params, coeff, label, Groups_bell, Measurements_bell, ansatz, backend, NUM_SHOTS)\n",
    "fun3 = lambda params : objective_function(params, coeff, label, Groups_bell_paris, Measurements_bell_paris, ansatz, backend, NUM_SHOTS)"
   ]
  },
  {
   "cell_type": "code",
   "execution_count": 25,
   "metadata": {
    "execution": {
     "iopub.execute_input": "2021-05-29T15:06:55.019786Z",
     "iopub.status.busy": "2021-05-29T15:06:55.019786Z",
     "iopub.status.idle": "2021-05-29T15:06:55.245212Z",
     "shell.execute_reply": "2021-05-29T15:06:55.244205Z",
     "shell.execute_reply.started": "2021-05-29T15:06:55.019786Z"
    }
   },
   "outputs": [
    {
     "data": {
      "text/plain": [
       "-1.57080078125"
      ]
     },
     "execution_count": 25,
     "metadata": {},
     "output_type": "execute_result"
    }
   ],
   "source": [
    "fun1(θ)"
   ]
  },
  {
   "cell_type": "code",
   "execution_count": 26,
   "metadata": {
    "execution": {
     "iopub.execute_input": "2021-05-29T15:06:55.246198Z",
     "iopub.status.busy": "2021-05-29T15:06:55.246198Z",
     "iopub.status.idle": "2021-05-29T15:06:55.323991Z",
     "shell.execute_reply": "2021-05-29T15:06:55.322994Z",
     "shell.execute_reply.started": "2021-05-29T15:06:55.246198Z"
    }
   },
   "outputs": [
    {
     "data": {
      "text/plain": [
       "-1.556640625"
      ]
     },
     "execution_count": 26,
     "metadata": {},
     "output_type": "execute_result"
    }
   ],
   "source": [
    "fun2(θ)"
   ]
  },
  {
   "cell_type": "code",
   "execution_count": 27,
   "metadata": {
    "execution": {
     "iopub.execute_input": "2021-05-29T15:06:55.326983Z",
     "iopub.status.busy": "2021-05-29T15:06:55.326013Z",
     "iopub.status.idle": "2021-05-29T15:06:55.396840Z",
     "shell.execute_reply": "2021-05-29T15:06:55.396840Z",
     "shell.execute_reply.started": "2021-05-29T15:06:55.326983Z"
    }
   },
   "outputs": [
    {
     "data": {
      "text/plain": [
       "-1.5576171875"
      ]
     },
     "execution_count": 27,
     "metadata": {},
     "output_type": "execute_result"
    }
   ],
   "source": [
    "fun3(θ)"
   ]
  },
  {
   "cell_type": "code",
   "execution_count": null,
   "metadata": {},
   "outputs": [],
   "source": []
  },
  {
   "cell_type": "code",
   "execution_count": 53,
   "metadata": {
    "execution": {
     "iopub.execute_input": "2021-05-29T15:11:44.162518Z",
     "iopub.status.busy": "2021-05-29T15:11:44.162518Z",
     "iopub.status.idle": "2021-05-29T15:11:44.172543Z",
     "shell.execute_reply": "2021-05-29T15:11:44.171503Z",
     "shell.execute_reply.started": "2021-05-29T15:11:44.162518Z"
    }
   },
   "outputs": [
    {
     "name": "stdout",
     "output_type": "stream",
     "text": [
      "SummedOp([\n",
      "  YIZ,\n",
      "  IXX,\n",
      "  ZXY,\n",
      "  ZXI,\n",
      "  XII,\n",
      "  III,\n",
      "  ZYX,\n",
      "  ZIZ,\n",
      "  ZYY,\n",
      "  YXI,\n",
      "  IYZ,\n",
      "  IXZ,\n",
      "  XYX,\n",
      "  ZYI,\n",
      "  IXZ,\n",
      "  XXY,\n",
      "  XXX,\n",
      "  XZI,\n",
      "  XXZ,\n",
      "  ZXY,\n",
      "  YXY,\n",
      "  ZYI,\n",
      "  YIX,\n",
      "  ZXI,\n",
      "  XZX,\n",
      "  ZZX,\n",
      "  YII\n",
      "])\n"
     ]
    }
   ],
   "source": [
    "num_qubits = 3\n",
    "np.random.seed(254652)\n",
    "qubit_op   = RandomHamiltonian(num_qubits,num_qubits**3)\n",
    "WC=list(range(num_qubits))\n",
    "WC=list(permutations(list(range(num_qubits)),2))\n",
    "print( qubit_op )"
   ]
  },
  {
   "cell_type": "code",
   "execution_count": 54,
   "metadata": {
    "execution": {
     "iopub.execute_input": "2021-05-29T15:11:44.653160Z",
     "iopub.status.busy": "2021-05-29T15:11:44.652151Z",
     "iopub.status.idle": "2021-05-29T15:11:44.755887Z",
     "shell.execute_reply": "2021-05-29T15:11:44.754876Z",
     "shell.execute_reply.started": "2021-05-29T15:11:44.653160Z"
    }
   },
   "outputs": [
    {
     "name": "stdout",
     "output_type": "stream",
     "text": [
      "number of Paulis: 27\n",
      "number of TPB groups: 13\n",
      "number of Bell groups: 11\n",
      "number of Bell groups in ibmq_paris: 12\n"
     ]
    }
   ],
   "source": [
    "paulis, coeff, label = Label2Chain(qubit_op)\n",
    "print( 'number of Paulis:', len(coeff) )\n",
    "\n",
    "Color, Groups_tpb, Measurements_tpb = TPBgrouping(paulis)\n",
    "print( 'number of TPB groups:', len(Groups_tpb) )\n",
    "Groups_tpb = [ [ idx2[0] for idx2 in idx1 ] for idx1 in Groups_tpb ]\n",
    "Measurements_tpb = [ [ [idx[j][0],[j]] for j in range(num_qubits) ] for idx in Measurements_tpb ]\n",
    "\n",
    "Groups_bell, Measurements_bell = grouping( paulis,[4,3,1,2],WC)\n",
    "print('number of Bell groups:', len(Groups_bell) )\n",
    "\n",
    "Groups_bell_paris, Measurements_bell_paris = grouping( paulis,[4,3,1,2],WC_paris)\n",
    "print('number of Bell groups in ibmq_paris:', len(Groups_bell_paris) )"
   ]
  },
  {
   "cell_type": "code",
   "execution_count": 55,
   "metadata": {
    "execution": {
     "iopub.execute_input": "2021-05-29T15:11:45.910860Z",
     "iopub.status.busy": "2021-05-29T15:11:45.910860Z",
     "iopub.status.idle": "2021-05-29T15:11:46.221101Z",
     "shell.execute_reply": "2021-05-29T15:11:46.221101Z",
     "shell.execute_reply.started": "2021-05-29T15:11:45.910860Z"
    }
   },
   "outputs": [
    {
     "data": {
      "image/png": "[encoded data removed]",
      "text/plain": [
       "<Figure size 447.797x204.68 with 1 Axes>"
      ]
     },
     "execution_count": 55,
     "metadata": {},
     "output_type": "execute_result"
    }
   ],
   "source": [
    "entangled_layer = []\n",
    "for qbs in WC_paris :\n",
    "    if qbs[0]<qbs[1] and qbs[1]<num_qubits :\n",
    "        entangled_layer.append(qbs)\n",
    "\n",
    "ansatz = EfficientSU2(num_qubits,['ry','rz'], entanglement=entangled_layer, reps=1)\n",
    "ansatz.draw(output='mpl')"
   ]
  },
  {
   "cell_type": "code",
   "execution_count": 56,
   "metadata": {
    "execution": {
     "iopub.execute_input": "2021-05-29T15:11:48.075905Z",
     "iopub.status.busy": "2021-05-29T15:11:48.074908Z",
     "iopub.status.idle": "2021-05-29T15:11:48.113813Z",
     "shell.execute_reply": "2021-05-29T15:11:48.112806Z",
     "shell.execute_reply.started": "2021-05-29T15:11:48.074908Z"
    }
   },
   "outputs": [
    {
     "data": {
      "text/plain": [
       "(-1.8935057108439746+1.6653345369377348e-16j)"
      ]
     },
     "execution_count": 56,
     "metadata": {},
     "output_type": "execute_result"
    }
   ],
   "source": [
    "num_var = 4*num_qubits\n",
    "θ = np.random.randn(num_var)\n",
    "Hamiltonian = qubit_op.to_matrix()\n",
    "qc_state = ansatz.assign_parameters(θ)\n",
    "qc_state.save_statevector()\n",
    "state = backend.run(qc_state).result().get_statevector()\n",
    "np.vdot( state, Hamiltonian@state )"
   ]
  },
  {
   "cell_type": "code",
   "execution_count": 57,
   "metadata": {
    "execution": {
     "iopub.execute_input": "2021-05-29T15:11:48.461305Z",
     "iopub.status.busy": "2021-05-29T15:11:48.461305Z",
     "iopub.status.idle": "2021-05-29T15:11:48.467289Z",
     "shell.execute_reply": "2021-05-29T15:11:48.466868Z",
     "shell.execute_reply.started": "2021-05-29T15:11:48.461305Z"
    }
   },
   "outputs": [],
   "source": [
    "fun1 = lambda params : objective_function(params, coeff, label, Groups_tpb, Measurements_tpb, ansatz, backend, NUM_SHOTS)\n",
    "fun2 = lambda params : objective_function(params, coeff, label, Groups_bell, Measurements_bell, ansatz, backend, NUM_SHOTS)\n",
    "fun3 = lambda params : objective_function(params, coeff, label, Groups_bell_paris, Measurements_bell_paris, ansatz, backend, NUM_SHOTS)"
   ]
  },
  {
   "cell_type": "code",
   "execution_count": 58,
   "metadata": {
    "execution": {
     "iopub.execute_input": "2021-05-29T15:11:48.790272Z",
     "iopub.status.busy": "2021-05-29T15:11:48.789301Z",
     "iopub.status.idle": "2021-05-29T15:11:48.794261Z",
     "shell.execute_reply": "2021-05-29T15:11:48.793264Z",
     "shell.execute_reply.started": "2021-05-29T15:11:48.790272Z"
    }
   },
   "outputs": [],
   "source": [
    "MC = 100"
   ]
  },
  {
   "cell_type": "code",
   "execution_count": 59,
   "metadata": {
    "execution": {
     "iopub.execute_input": "2021-05-29T15:11:49.094647Z",
     "iopub.status.busy": "2021-05-29T15:11:49.094647Z",
     "iopub.status.idle": "2021-05-29T15:13:24.207059Z",
     "shell.execute_reply": "2021-05-29T15:13:24.206087Z",
     "shell.execute_reply.started": "2021-05-29T15:11:49.094647Z"
    }
   },
   "outputs": [
    {
     "data": {
      "text/plain": [
       "-1.90447021484375"
      ]
     },
     "execution_count": 59,
     "metadata": {},
     "output_type": "execute_result"
    }
   ],
   "source": [
    "f1 = []\n",
    "for _ in range(MC):\n",
    "    f1.append( fun1(θ) )\n",
    "np.mean(f1)"
   ]
  },
  {
   "cell_type": "code",
   "execution_count": 64,
   "metadata": {
    "execution": {
     "iopub.execute_input": "2021-05-29T15:20:01.756748Z",
     "iopub.status.busy": "2021-05-29T15:20:01.756748Z",
     "iopub.status.idle": "2021-05-29T15:20:01.938748Z",
     "shell.execute_reply": "2021-05-29T15:20:01.937750Z",
     "shell.execute_reply.started": "2021-05-29T15:20:01.756748Z"
    }
   },
   "outputs": [
    {
     "data": {
      "text/plain": [
       "(array([ 1.,  6., 14., 16., 21., 16., 12.,  9.,  3.,  2.]),\n",
       " array([-2.05981445, -2.02675781, -1.99370117, -1.96064453, -1.92758789,\n",
       "        -1.89453125, -1.86147461, -1.82841797, -1.79536133, -1.76230469,\n",
       "        -1.72924805]),\n",
       " <a list of 10 Patch objects>)"
      ]
     },
     "execution_count": 64,
     "metadata": {},
     "output_type": "execute_result"
    },
    {
     "data": {
      "image/png": "[encoded data removed]",
      "text/plain": [
       "<Figure size 432x288 with 1 Axes>"
      ]
     },
     "metadata": {
      "needs_background": "light"
     },
     "output_type": "display_data"
    }
   ],
   "source": [
    "plt.hist(f1)"
   ]
  },
  {
   "cell_type": "code",
   "execution_count": 60,
   "metadata": {
    "execution": {
     "iopub.execute_input": "2021-05-29T15:13:24.209054Z",
     "iopub.status.busy": "2021-05-29T15:13:24.208062Z",
     "iopub.status.idle": "2021-05-29T15:14:57.930650Z",
     "shell.execute_reply": "2021-05-29T15:14:57.930650Z",
     "shell.execute_reply.started": "2021-05-29T15:13:24.209054Z"
    }
   },
   "outputs": [
    {
     "data": {
      "text/plain": [
       "-1.902431640625"
      ]
     },
     "execution_count": 60,
     "metadata": {},
     "output_type": "execute_result"
    }
   ],
   "source": [
    "f2 = []\n",
    "for _ in range(MC):\n",
    "    f2.append( fun2(θ) )\n",
    "np.mean(f2)"
   ]
  },
  {
   "cell_type": "code",
   "execution_count": 65,
   "metadata": {
    "execution": {
     "iopub.execute_input": "2021-05-29T15:20:14.228843Z",
     "iopub.status.busy": "2021-05-29T15:20:14.228843Z",
     "iopub.status.idle": "2021-05-29T15:20:14.385424Z",
     "shell.execute_reply": "2021-05-29T15:20:14.384453Z",
     "shell.execute_reply.started": "2021-05-29T15:20:14.228843Z"
    }
   },
   "outputs": [
    {
     "data": {
      "text/plain": [
       "(array([ 5.,  8.,  8., 13., 23., 17.,  9.,  9.,  6.,  2.]),\n",
       " array([-2.02685547, -2.00021973, -1.97358398, -1.94694824, -1.9203125 ,\n",
       "        -1.89367676, -1.86704102, -1.84040527, -1.81376953, -1.78713379,\n",
       "        -1.76049805]),\n",
       " <a list of 10 Patch objects>)"
      ]
     },
     "execution_count": 65,
     "metadata": {},
     "output_type": "execute_result"
    },
    {
     "data": {
      "image/png": "[encoded data removed]",
      "text/plain": [
       "<Figure size 432x288 with 1 Axes>"
      ]
     },
     "metadata": {
      "needs_background": "light"
     },
     "output_type": "display_data"
    }
   ],
   "source": [
    "plt.hist(f2)"
   ]
  },
  {
   "cell_type": "code",
   "execution_count": 61,
   "metadata": {
    "execution": {
     "iopub.execute_input": "2021-05-29T15:14:57.933644Z",
     "iopub.status.busy": "2021-05-29T15:14:57.932645Z",
     "iopub.status.idle": "2021-05-29T15:16:51.325646Z",
     "shell.execute_reply": "2021-05-29T15:16:51.325646Z",
     "shell.execute_reply.started": "2021-05-29T15:14:57.933644Z"
    }
   },
   "outputs": [
    {
     "data": {
      "text/plain": [
       "-1.887841796875"
      ]
     },
     "execution_count": 61,
     "metadata": {},
     "output_type": "execute_result"
    }
   ],
   "source": [
    "f3 = []\n",
    "for _ in range(MC):\n",
    "    f3.append( fun3(θ) )\n",
    "np.mean(f3)"
   ]
  },
  {
   "cell_type": "code",
   "execution_count": null,
   "metadata": {},
   "outputs": [],
   "source": []
  },
  {
   "cell_type": "code",
   "execution_count": null,
   "metadata": {},
   "outputs": [],
   "source": []
  },
  {
   "cell_type": "code",
   "execution_count": null,
   "metadata": {},
   "outputs": [],
   "source": []
  }
 ],
 "metadata": {
  "kernelspec": {
   "display_name": "Python 3",
   "language": "python",
   "name": "python3"
  },
  "language_info": {
   "codemirror_mode": {
    "name": "ipython",
    "version": 3
   },
   "file_extension": ".py",
   "mimetype": "text/x-python",
   "name": "python",
   "nbconvert_exporter": "python",
   "pygments_lexer": "ipython3",
   "version": "3.7.7"
  }
 },
 "nbformat": 4,
 "nbformat_minor": 4
}
