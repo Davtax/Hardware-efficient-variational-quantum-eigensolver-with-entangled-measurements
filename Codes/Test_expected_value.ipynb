{
 "cells": [
  {
   "cell_type": "code",
   "execution_count": 1,
   "metadata": {
    "execution": {
     "iopub.status.idle": "2021-05-29T17:53:05.291699Z",
     "shell.execute_reply": "2021-05-29T17:53:05.291699Z",
     "shell.execute_reply.started": "2021-05-29T17:53:01.396224Z"
    }
   },
   "outputs": [],
   "source": [
    "import numpy as np\n",
    "import matplotlib.pyplot as plt\n",
    "from GroupingAlgorithms import *\n",
    "from functions_VQE_v2 import *\n",
    "# Importing standard Qiskit libraries\n",
    "from qiskit import IBMQ, providers\n",
    "from qiskit.circuit.library import EfficientSU2\n",
    "from qiskit.aqua.algorithms import NumPyEigensolver\n",
    "from qiskit.opflow import converters\n",
    "from qiskit.opflow.primitive_ops import Z2Symmetries"
   ]
  },
  {
   "cell_type": "code",
   "execution_count": 2,
   "metadata": {
    "execution": {
     "iopub.execute_input": "2021-05-29T17:53:05.293620Z",
     "iopub.status.busy": "2021-05-29T17:53:05.293620Z",
     "iopub.status.idle": "2021-05-29T17:53:12.924454Z",
     "shell.execute_reply": "2021-05-29T17:53:12.923457Z",
     "shell.execute_reply.started": "2021-05-29T17:53:05.293620Z"
    }
   },
   "outputs": [],
   "source": [
    "IBMQ.load_account()\n",
    "provider  = IBMQ.get_provider(hub='ibm-q-csic', group='internal', project='iff-csic') \n",
    "backend   = provider.get_backend('ibmq_paris')\n",
    "WC_paris  = get_backend_conectivity(backend)\n",
    "backend   = providers.aer.AerSimulator(method=\"statevector\") # Backend for simulation\n",
    "NUM_SHOTS = 2**13  # Number of shots for each circuit"
   ]
  },
  {
   "cell_type": "code",
   "execution_count": 3,
   "metadata": {
    "execution": {
     "iopub.execute_input": "2021-05-29T17:53:12.927446Z",
     "iopub.status.busy": "2021-05-29T17:53:12.927446Z",
     "iopub.status.idle": "2021-05-29T17:53:12.941918Z",
     "shell.execute_reply": "2021-05-29T17:53:12.940947Z",
     "shell.execute_reply.started": "2021-05-29T17:53:12.927446Z"
    }
   },
   "outputs": [
    {
     "name": "stdout",
     "output_type": "stream",
     "text": [
      "SummedOp([\n",
      "  -1 * IZ,\n",
      "  -1 * ZI,\n",
      "  -1 * XX,\n",
      "  -1 * YY,\n",
      "  -1 * ZZ\n",
      "])\n"
     ]
    }
   ],
   "source": [
    "num_qubits = 2\n",
    "np.random.seed(254651)\n",
    "qubit_op   = HeisenbergHamiltonian()\n",
    "WC=list(range(num_qubits))\n",
    "WC=list(permutations(list(range(num_qubits)),2))\n",
    "print( qubit_op )"
   ]
  },
  {
   "cell_type": "code",
   "execution_count": 4,
   "metadata": {
    "execution": {
     "iopub.execute_input": "2021-05-29T17:53:12.943920Z",
     "iopub.status.busy": "2021-05-29T17:53:12.942915Z",
     "iopub.status.idle": "2021-05-29T17:53:12.972835Z",
     "shell.execute_reply": "2021-05-29T17:53:12.971839Z",
     "shell.execute_reply.started": "2021-05-29T17:53:12.943920Z"
    }
   },
   "outputs": [
    {
     "name": "stderr",
     "output_type": "stream",
     "text": [
      "C:\\Users\\Luciano\\Anaconda3\\lib\\site-packages\\qiskit\\aqua\\algorithms\\eigen_solvers\\eigen_solver.py:38: DeprecationWarning: The package qiskit.aqua.algorithms.eigen_solvers is deprecated. It was moved/refactored to qiskit.algorithms.eigen_solvers (pip install qiskit-terra). For more information see <https://github.com/Qiskit/qiskit-aqua/blob/master/README.md#migration-guide>\n",
      "  'qiskit-terra')\n",
      "C:\\Users\\Luciano\\Anaconda3\\lib\\site-packages\\qiskit\\aqua\\operators\\operator_base.py:46: DeprecationWarning: The package qiskit.aqua.operators is deprecated. It was moved/refactored to qiskit.opflow (pip install qiskit-terra). For more information see <https://github.com/Qiskit/qiskit-aqua/blob/master/README.md#migration-guide>\n",
      "  warn_package('aqua.operators', 'qiskit.opflow', 'qiskit-terra')\n"
     ]
    },
    {
     "data": {
      "text/plain": [
       "-3.000000000000001"
      ]
     },
     "execution_count": 4,
     "metadata": {},
     "output_type": "execute_result"
    }
   ],
   "source": [
    "exact_result = NumPyEigensolver(qubit_op).run()\n",
    "exact_energy = np.real(exact_result.eigenvalues)[0]\n",
    "exact_energy"
   ]
  },
  {
   "cell_type": "code",
   "execution_count": 5,
   "metadata": {
    "execution": {
     "iopub.execute_input": "2021-05-29T17:53:12.976826Z",
     "iopub.status.busy": "2021-05-29T17:53:12.974830Z",
     "iopub.status.idle": "2021-05-29T17:53:12.996772Z",
     "shell.execute_reply": "2021-05-29T17:53:12.995775Z",
     "shell.execute_reply.started": "2021-05-29T17:53:12.976826Z"
    }
   },
   "outputs": [
    {
     "name": "stdout",
     "output_type": "stream",
     "text": [
      "number of Paulis: 5\n",
      "number of TPB groups: 3\n",
      "number of Bell groups: 2\n",
      "number of Bell groups in ibmq_paris: 2\n"
     ]
    },
    {
     "name": "stderr",
     "output_type": "stream",
     "text": [
      "D:\\Saco_CSIC\\Programas\\Github\\Hardware-efficient-variational-quantum-eigensolver-with-entangled-measurements\\Codes\\GroupingAlgorithms.py:118: FutureWarning: Using a non-tuple sequence for multidimensional indexing is deprecated; use `arr[tuple(seq)]` instead of `arr[seq]`. In the future this will be interpreted as an array index, `arr[np.array(seq)]`, which will result either in an error or a different result.\n",
      "  if (list(Vi[[per]]) in Comp[Eps]) and (list(Vj[[per]]) in Comp[Eps]):\n"
     ]
    }
   ],
   "source": [
    "paulis, coeff, label = Label2Chain(qubit_op)\n",
    "print( 'number of Paulis:', len(coeff) )\n",
    "\n",
    "Color, Groups_tpb, Measurements_tpb = TPBgrouping(paulis)\n",
    "print( 'number of TPB groups:', len(Groups_tpb) )\n",
    "Groups_tpb = [ [ idx2[0] for idx2 in idx1 ] for idx1 in Groups_tpb ]\n",
    "Measurements_tpb = [ [ [idx[j][0],[j]] for j in range(num_qubits) ] for idx in Measurements_tpb ]\n",
    "\n",
    "Groups_bell, Measurements_bell = grouping( paulis,[4,3,1,2],WC)\n",
    "print('number of Bell groups:', len(Groups_bell) )\n",
    "\n",
    "Groups_bell_paris, Measurements_bell_paris = grouping( paulis,[4,3,1,2],WC_paris)\n",
    "print('number of Bell groups in ibmq_paris:', len(Groups_bell_paris) )"
   ]
  },
  {
   "cell_type": "code",
   "execution_count": 6,
   "metadata": {
    "execution": {
     "iopub.execute_input": "2021-05-29T17:53:13.001758Z",
     "iopub.status.busy": "2021-05-29T17:53:12.999767Z",
     "iopub.status.idle": "2021-05-29T17:53:13.009736Z",
     "shell.execute_reply": "2021-05-29T17:53:13.008738Z",
     "shell.execute_reply.started": "2021-05-29T17:53:13.001758Z"
    }
   },
   "outputs": [
    {
     "data": {
      "text/plain": [
       "array([[0, 3],\n",
       "       [3, 0],\n",
       "       [1, 1],\n",
       "       [2, 2],\n",
       "       [3, 3]])"
      ]
     },
     "execution_count": 6,
     "metadata": {},
     "output_type": "execute_result"
    }
   ],
   "source": [
    "paulis"
   ]
  },
  {
   "cell_type": "code",
   "execution_count": 7,
   "metadata": {
    "execution": {
     "iopub.execute_input": "2021-05-29T17:53:13.010733Z",
     "iopub.status.busy": "2021-05-29T17:53:13.010733Z",
     "iopub.status.idle": "2021-05-29T17:53:13.018712Z",
     "shell.execute_reply": "2021-05-29T17:53:13.016718Z",
     "shell.execute_reply.started": "2021-05-29T17:53:13.010733Z"
    }
   },
   "outputs": [
    {
     "data": {
      "text/plain": [
       "[[[1, [0]], [1, [1]]], [[2, [0]], [2, [1]]], [[3, [0]], [3, [1]]]]"
      ]
     },
     "execution_count": 7,
     "metadata": {},
     "output_type": "execute_result"
    }
   ],
   "source": [
    "Measurements_tpb"
   ]
  },
  {
   "cell_type": "code",
   "execution_count": 8,
   "metadata": {
    "execution": {
     "iopub.execute_input": "2021-05-29T17:53:13.019710Z",
     "iopub.status.busy": "2021-05-29T17:53:13.019710Z",
     "iopub.status.idle": "2021-05-29T17:53:13.025694Z",
     "shell.execute_reply": "2021-05-29T17:53:13.025694Z",
     "shell.execute_reply.started": "2021-05-29T17:53:13.019710Z"
    }
   },
   "outputs": [
    {
     "data": {
      "text/plain": [
       "[[[4, [0, 1]]], [[3, [0]], [3, [1]]]]"
      ]
     },
     "execution_count": 8,
     "metadata": {},
     "output_type": "execute_result"
    }
   ],
   "source": [
    "Measurements_bell"
   ]
  },
  {
   "cell_type": "code",
   "execution_count": 9,
   "metadata": {
    "execution": {
     "iopub.execute_input": "2021-05-29T17:53:13.028686Z",
     "iopub.status.busy": "2021-05-29T17:53:13.027688Z",
     "iopub.status.idle": "2021-05-29T17:53:13.036665Z",
     "shell.execute_reply": "2021-05-29T17:53:13.036665Z",
     "shell.execute_reply.started": "2021-05-29T17:53:13.028686Z"
    }
   },
   "outputs": [
    {
     "data": {
      "text/plain": [
       "[[[4, [0, 1]]], [[3, [0]], [3, [1]]]]"
      ]
     },
     "execution_count": 9,
     "metadata": {},
     "output_type": "execute_result"
    }
   ],
   "source": [
    "Measurements_bell_paris"
   ]
  },
  {
   "cell_type": "code",
   "execution_count": null,
   "metadata": {},
   "outputs": [],
   "source": []
  },
  {
   "cell_type": "code",
   "execution_count": 10,
   "metadata": {
    "execution": {
     "iopub.execute_input": "2021-05-29T17:53:13.039657Z",
     "iopub.status.busy": "2021-05-29T17:53:13.038659Z",
     "iopub.status.idle": "2021-05-29T17:53:13.558039Z",
     "shell.execute_reply": "2021-05-29T17:53:13.557041Z",
     "shell.execute_reply.started": "2021-05-29T17:53:13.039657Z"
    }
   },
   "outputs": [
    {
     "data": {
      "image/png": "[encoded data removed]",
      "text/plain": [
       "<Figure size 387.452x144.48 with 1 Axes>"
      ]
     },
     "execution_count": 10,
     "metadata": {},
     "output_type": "execute_result"
    }
   ],
   "source": [
    "entangled_layer = []\n",
    "for qbs in WC_paris :\n",
    "    if qbs[0]<qbs[1] and qbs[1]<num_qubits :\n",
    "        entangled_layer.append(qbs)\n",
    "\n",
    "ansatz = EfficientSU2(num_qubits,['ry','rz'], entanglement=entangled_layer, reps=1)\n",
    "ansatz.draw(output='mpl')"
   ]
  },
  {
   "cell_type": "code",
   "execution_count": null,
   "metadata": {},
   "outputs": [],
   "source": []
  },
  {
   "cell_type": "code",
   "execution_count": 11,
   "metadata": {
    "execution": {
     "iopub.execute_input": "2021-05-29T17:53:13.559036Z",
     "iopub.status.busy": "2021-05-29T17:53:13.559036Z",
     "iopub.status.idle": "2021-05-29T17:53:13.577986Z",
     "shell.execute_reply": "2021-05-29T17:53:13.576988Z",
     "shell.execute_reply.started": "2021-05-29T17:53:13.559036Z"
    }
   },
   "outputs": [],
   "source": [
    "num_var = 4*num_qubits\n",
    "θ = np.random.randn(num_var)\n",
    "qc = []\n",
    "n_measure = []\n",
    "for measure in Measurements_bell :\n",
    "    qc_temp, n_measure_temp = measure_circuit_factor( measure , num_qubits )\n",
    "    qc_temp = qc_temp.compose(ansatz.assign_parameters(θ),front=True )\n",
    "    qc.append( qc_temp )\n",
    "    n_measure.append( n_measure_temp )"
   ]
  },
  {
   "cell_type": "code",
   "execution_count": 12,
   "metadata": {
    "execution": {
     "iopub.execute_input": "2021-05-29T17:53:13.579981Z",
     "iopub.status.busy": "2021-05-29T17:53:13.579981Z",
     "iopub.status.idle": "2021-05-29T17:53:13.643809Z",
     "shell.execute_reply": "2021-05-29T17:53:13.643809Z",
     "shell.execute_reply.started": "2021-05-29T17:53:13.579981Z"
    }
   },
   "outputs": [
    {
     "data": {
      "text/plain": [
       "[{'00': 2807, '10': 845, '11': 874, '01': 3666},\n",
       " {'0 0': 5242, '0 1': 1662, '1 1': 1199, '1 0': 89}]"
      ]
     },
     "execution_count": 12,
     "metadata": {},
     "output_type": "execute_result"
    }
   ],
   "source": [
    "counts = backend.run(qc,shots=NUM_SHOTS).result().get_counts()\n",
    "counts"
   ]
  },
  {
   "cell_type": "code",
   "execution_count": 13,
   "metadata": {
    "execution": {
     "iopub.execute_input": "2021-05-29T17:53:13.645803Z",
     "iopub.status.busy": "2021-05-29T17:53:13.644806Z",
     "iopub.status.idle": "2021-05-29T17:53:13.656774Z",
     "shell.execute_reply": "2021-05-29T17:53:13.655778Z",
     "shell.execute_reply.started": "2021-05-29T17:53:13.645803Z"
    }
   },
   "outputs": [
    {
     "data": {
      "text/plain": [
       "[array([0.34265137, 0.44750977, 0.10314941, 0.10668945]),\n",
       " array([0.63989258, 0.20288086, 0.01086426, 0.1463623 ])]"
      ]
     },
     "execution_count": 13,
     "metadata": {},
     "output_type": "execute_result"
    }
   ],
   "source": [
    "probabilities = [ post_process_results(counts[0], num_qubits, NUM_SHOTS), post_process_results(counts[1], num_qubits, NUM_SHOTS) ]\n",
    "probabilities"
   ]
  },
  {
   "cell_type": "code",
   "execution_count": 14,
   "metadata": {
    "execution": {
     "iopub.execute_input": "2021-05-29T17:53:13.657773Z",
     "iopub.status.busy": "2021-05-29T17:53:13.657773Z",
     "iopub.status.idle": "2021-05-29T17:53:13.665750Z",
     "shell.execute_reply": "2021-05-29T17:53:13.664753Z",
     "shell.execute_reply.started": "2021-05-29T17:53:13.657773Z"
    }
   },
   "outputs": [],
   "source": [
    "Bell = np.array([ [1,0,0,1], [1,0,0,-1], [0,1,1,0], [0,1,-1,0] ]).T/np.sqrt(2)\n",
    "X = np.array([[0,1],[1,0]])\n",
    "Y = np.array([[0,-1j],[1j,0]])\n",
    "Z = np.array([[1,0],[0,-1]])\n",
    "I = np.array([[1,0],[1,0]])"
   ]
  },
  {
   "cell_type": "code",
   "execution_count": 15,
   "metadata": {
    "execution": {
     "iopub.execute_input": "2021-05-29T17:53:13.669740Z",
     "iopub.status.busy": "2021-05-29T17:53:13.668744Z",
     "iopub.status.idle": "2021-05-29T17:53:13.679713Z",
     "shell.execute_reply": "2021-05-29T17:53:13.678718Z",
     "shell.execute_reply.started": "2021-05-29T17:53:13.669740Z"
    }
   },
   "outputs": [
    {
     "data": {
      "text/plain": [
       "[array([[ 1.+0.j, -1.+0.j,  1.+0.j, -1.+0.j],\n",
       "        [-1.+0.j,  1.+0.j,  1.+0.j, -1.+0.j],\n",
       "        [ 1.+0.j,  1.+0.j, -1.+0.j, -1.+0.j]]),\n",
       " array([[ 1,  1, -1, -1],\n",
       "        [ 1, -1,  1, -1]])]"
      ]
     },
     "execution_count": 15,
     "metadata": {},
     "output_type": "execute_result"
    }
   ],
   "source": [
    "B0 = []\n",
    "for M in [X,Y,Z]:\n",
    "    B0.append( np.diag(Bell.T.conj()@np.kron(M,M)@Bell) )\n",
    "B0 = np.array(B0)\n",
    "B1 = np.array([ [1,1,-1,-1], [1,-1,1,-1] ])\n",
    "B = [B0,B1]\n",
    "B"
   ]
  },
  {
   "cell_type": "code",
   "execution_count": 16,
   "metadata": {
    "execution": {
     "iopub.execute_input": "2021-05-29T17:53:13.680717Z",
     "iopub.status.busy": "2021-05-29T17:53:13.680717Z",
     "iopub.status.idle": "2021-05-29T17:53:13.689686Z",
     "shell.execute_reply": "2021-05-29T17:53:13.689686Z",
     "shell.execute_reply.started": "2021-05-29T17:53:13.680717Z"
    }
   },
   "outputs": [
    {
     "data": {
      "text/plain": [
       "array([-0.10839844+0.j,  0.10131836+0.j,  0.58032227+0.j])"
      ]
     },
     "execution_count": 16,
     "metadata": {},
     "output_type": "execute_result"
    }
   ],
   "source": [
    "EV0 = B0@probabilities[0]\n",
    "EV0"
   ]
  },
  {
   "cell_type": "code",
   "execution_count": 17,
   "metadata": {
    "execution": {
     "iopub.execute_input": "2021-05-29T17:53:13.691680Z",
     "iopub.status.busy": "2021-05-29T17:53:13.690684Z",
     "iopub.status.idle": "2021-05-29T17:53:13.698662Z",
     "shell.execute_reply": "2021-05-29T17:53:13.697665Z",
     "shell.execute_reply.started": "2021-05-29T17:53:13.691680Z"
    }
   },
   "outputs": [
    {
     "data": {
      "text/plain": [
       "array([0.68554688, 0.30151367])"
      ]
     },
     "execution_count": 17,
     "metadata": {},
     "output_type": "execute_result"
    }
   ],
   "source": [
    "EV1 = B1@probabilities[1]\n",
    "EV1"
   ]
  },
  {
   "cell_type": "code",
   "execution_count": 18,
   "metadata": {
    "execution": {
     "iopub.execute_input": "2021-05-29T17:53:13.701655Z",
     "iopub.status.busy": "2021-05-29T17:53:13.700659Z",
     "iopub.status.idle": "2021-05-29T17:53:13.708636Z",
     "shell.execute_reply": "2021-05-29T17:53:13.708636Z",
     "shell.execute_reply.started": "2021-05-29T17:53:13.701655Z"
    }
   },
   "outputs": [
    {
     "data": {
      "text/plain": [
       "(-1.560302734375-0j)"
      ]
     },
     "execution_count": 18,
     "metadata": {},
     "output_type": "execute_result"
    }
   ],
   "source": [
    "-np.sum(EV0)-np.sum(EV1)"
   ]
  },
  {
   "cell_type": "code",
   "execution_count": 19,
   "metadata": {
    "execution": {
     "iopub.execute_input": "2021-05-29T17:53:13.710631Z",
     "iopub.status.busy": "2021-05-29T17:53:13.710631Z",
     "iopub.status.idle": "2021-05-29T17:53:13.723595Z",
     "shell.execute_reply": "2021-05-29T17:53:13.723595Z",
     "shell.execute_reply.started": "2021-05-29T17:53:13.710631Z"
    }
   },
   "outputs": [
    {
     "data": {
      "text/plain": [
       "(-1.564908909208547+5.551115123125783e-17j)"
      ]
     },
     "execution_count": 19,
     "metadata": {},
     "output_type": "execute_result"
    }
   ],
   "source": [
    "Hamiltonian = qubit_op.to_matrix()\n",
    "qc_state = ansatz.assign_parameters(θ)\n",
    "qc_state.save_statevector()\n",
    "state = backend.run(qc_state).result().get_statevector()\n",
    "np.vdot( state, Hamiltonian@state )"
   ]
  },
  {
   "cell_type": "code",
   "execution_count": 20,
   "metadata": {
    "execution": {
     "iopub.execute_input": "2021-05-29T17:53:13.725591Z",
     "iopub.status.busy": "2021-05-29T17:53:13.724592Z",
     "iopub.status.idle": "2021-05-29T17:53:13.733570Z",
     "shell.execute_reply": "2021-05-29T17:53:13.732572Z",
     "shell.execute_reply.started": "2021-05-29T17:53:13.725591Z"
    }
   },
   "outputs": [
    {
     "data": {
      "text/plain": [
       "[[[4, [0, 1]]], [[3, [0]], [3, [1]]]]"
      ]
     },
     "execution_count": 20,
     "metadata": {},
     "output_type": "execute_result"
    }
   ],
   "source": [
    "Measurements_bell"
   ]
  },
  {
   "cell_type": "code",
   "execution_count": 21,
   "metadata": {
    "execution": {
     "iopub.execute_input": "2021-05-29T17:53:13.735565Z",
     "iopub.status.busy": "2021-05-29T17:53:13.735565Z",
     "iopub.status.idle": "2021-05-29T17:53:13.742545Z",
     "shell.execute_reply": "2021-05-29T17:53:13.742545Z",
     "shell.execute_reply.started": "2021-05-29T17:53:13.735565Z"
    }
   },
   "outputs": [
    {
     "data": {
      "text/plain": [
       "[array([[-1,  1, -1,  1],\n",
       "        [ 1, -1, -1,  1],\n",
       "        [-1, -1,  1,  1]]),\n",
       " array([[-1., -1.,  1.,  1.],\n",
       "        [-1.,  1., -1.,  1.]])]"
      ]
     },
     "execution_count": 21,
     "metadata": {},
     "output_type": "execute_result"
    }
   ],
   "source": [
    "probability2expected(coeff, label, Groups_bell, Measurements_bell)"
   ]
  },
  {
   "cell_type": "code",
   "execution_count": 22,
   "metadata": {
    "execution": {
     "iopub.execute_input": "2021-05-29T17:53:13.744539Z",
     "iopub.status.busy": "2021-05-29T17:53:13.743542Z",
     "iopub.status.idle": "2021-05-29T17:53:13.752519Z",
     "shell.execute_reply": "2021-05-29T17:53:13.751521Z",
     "shell.execute_reply.started": "2021-05-29T17:53:13.744539Z"
    }
   },
   "outputs": [
    {
     "data": {
      "text/plain": [
       "[array([[ 1.+0.j, -1.+0.j,  1.+0.j, -1.+0.j],\n",
       "        [-1.+0.j,  1.+0.j,  1.+0.j, -1.+0.j],\n",
       "        [ 1.+0.j,  1.+0.j, -1.+0.j, -1.+0.j]]),\n",
       " array([[ 1,  1, -1, -1],\n",
       "        [ 1, -1,  1, -1]])]"
      ]
     },
     "execution_count": 22,
     "metadata": {},
     "output_type": "execute_result"
    }
   ],
   "source": [
    "B"
   ]
  },
  {
   "cell_type": "code",
   "execution_count": 23,
   "metadata": {
    "execution": {
     "iopub.execute_input": "2021-05-29T17:53:13.753516Z",
     "iopub.status.busy": "2021-05-29T17:53:13.753516Z",
     "iopub.status.idle": "2021-05-29T17:53:13.760497Z",
     "shell.execute_reply": "2021-05-29T17:53:13.760497Z",
     "shell.execute_reply.started": "2021-05-29T17:53:13.753516Z"
    }
   },
   "outputs": [
    {
     "data": {
      "text/plain": [
       "['IZ', 'ZI', 'XX', 'YY', 'ZZ']"
      ]
     },
     "execution_count": 23,
     "metadata": {},
     "output_type": "execute_result"
    }
   ],
   "source": [
    "label"
   ]
  },
  {
   "cell_type": "code",
   "execution_count": null,
   "metadata": {},
   "outputs": [],
   "source": []
  },
  {
   "cell_type": "code",
   "execution_count": 24,
   "metadata": {
    "execution": {
     "iopub.execute_input": "2021-05-29T17:53:13.762491Z",
     "iopub.status.busy": "2021-05-29T17:53:13.761495Z",
     "iopub.status.idle": "2021-05-29T17:53:13.771468Z",
     "shell.execute_reply": "2021-05-29T17:53:13.771468Z",
     "shell.execute_reply.started": "2021-05-29T17:53:13.762491Z"
    }
   },
   "outputs": [],
   "source": [
    "fun1 = lambda params : objective_function(params, coeff, label, Groups_tpb, Measurements_tpb, ansatz, backend, NUM_SHOTS)\n",
    "fun2 = lambda params : objective_function(params, coeff, label, Groups_bell, Measurements_bell, ansatz, backend, NUM_SHOTS)\n",
    "fun3 = lambda params : objective_function(params, coeff, label, Groups_bell_paris, Measurements_bell_paris, ansatz, backend, NUM_SHOTS)"
   ]
  },
  {
   "cell_type": "code",
   "execution_count": 25,
   "metadata": {
    "execution": {
     "iopub.execute_input": "2021-05-29T17:53:13.773462Z",
     "iopub.status.busy": "2021-05-29T17:53:13.773462Z",
     "iopub.status.idle": "2021-05-29T17:53:14.017832Z",
     "shell.execute_reply": "2021-05-29T17:53:14.016837Z",
     "shell.execute_reply.started": "2021-05-29T17:53:13.773462Z"
    }
   },
   "outputs": [
    {
     "data": {
      "text/plain": [
       "-1.562255859375"
      ]
     },
     "execution_count": 25,
     "metadata": {},
     "output_type": "execute_result"
    }
   ],
   "source": [
    "fun1(θ)"
   ]
  },
  {
   "cell_type": "code",
   "execution_count": 26,
   "metadata": {
    "execution": {
     "iopub.execute_input": "2021-05-29T17:53:14.018839Z",
     "iopub.status.busy": "2021-05-29T17:53:14.018839Z",
     "iopub.status.idle": "2021-05-29T17:53:14.088641Z",
     "shell.execute_reply": "2021-05-29T17:53:14.087644Z",
     "shell.execute_reply.started": "2021-05-29T17:53:14.018839Z"
    }
   },
   "outputs": [
    {
     "data": {
      "text/plain": [
       "-1.5400390625"
      ]
     },
     "execution_count": 26,
     "metadata": {},
     "output_type": "execute_result"
    }
   ],
   "source": [
    "fun2(θ)"
   ]
  },
  {
   "cell_type": "code",
   "execution_count": 27,
   "metadata": {
    "execution": {
     "iopub.execute_input": "2021-05-29T17:53:14.091634Z",
     "iopub.status.busy": "2021-05-29T17:53:14.091634Z",
     "iopub.status.idle": "2021-05-29T17:53:14.162456Z",
     "shell.execute_reply": "2021-05-29T17:53:14.162456Z",
     "shell.execute_reply.started": "2021-05-29T17:53:14.091634Z"
    }
   },
   "outputs": [
    {
     "data": {
      "text/plain": [
       "-1.577392578125"
      ]
     },
     "execution_count": 27,
     "metadata": {},
     "output_type": "execute_result"
    }
   ],
   "source": [
    "fun3(θ)"
   ]
  },
  {
   "cell_type": "code",
   "execution_count": null,
   "metadata": {},
   "outputs": [],
   "source": []
  },
  {
   "cell_type": "code",
   "execution_count": 28,
   "metadata": {
    "execution": {
     "iopub.execute_input": "2021-05-29T17:53:14.164439Z",
     "iopub.status.busy": "2021-05-29T17:53:14.164439Z",
     "iopub.status.idle": "2021-05-29T17:53:14.176407Z",
     "shell.execute_reply": "2021-05-29T17:53:14.175410Z",
     "shell.execute_reply.started": "2021-05-29T17:53:14.164439Z"
    }
   },
   "outputs": [
    {
     "name": "stdout",
     "output_type": "stream",
     "text": [
      "SummedOp([\n",
      "  YIZ,\n",
      "  IXX,\n",
      "  ZXY,\n",
      "  ZXI,\n",
      "  XII,\n",
      "  III,\n",
      "  ZYX,\n",
      "  ZIZ,\n",
      "  ZYY,\n",
      "  YXI,\n",
      "  IYZ,\n",
      "  IXZ,\n",
      "  XYX,\n",
      "  ZYI,\n",
      "  IXZ,\n",
      "  XXY,\n",
      "  XXX,\n",
      "  XZI,\n",
      "  XXZ,\n",
      "  ZXY,\n",
      "  YXY,\n",
      "  ZYI,\n",
      "  YIX,\n",
      "  ZXI,\n",
      "  XZX,\n",
      "  ZZX,\n",
      "  YII\n",
      "])\n"
     ]
    }
   ],
   "source": [
    "num_qubits = 3\n",
    "np.random.seed(254652)\n",
    "qubit_op   = RandomHamiltonian(num_qubits,num_qubits**3)\n",
    "WC=list(range(num_qubits))\n",
    "WC=list(permutations(list(range(num_qubits)),2))\n",
    "print( qubit_op )"
   ]
  },
  {
   "cell_type": "code",
   "execution_count": 29,
   "metadata": {
    "execution": {
     "iopub.execute_input": "2021-05-29T17:53:14.177404Z",
     "iopub.status.busy": "2021-05-29T17:53:14.177404Z",
     "iopub.status.idle": "2021-05-29T17:53:14.273148Z",
     "shell.execute_reply": "2021-05-29T17:53:14.273148Z",
     "shell.execute_reply.started": "2021-05-29T17:53:14.177404Z"
    }
   },
   "outputs": [
    {
     "name": "stdout",
     "output_type": "stream",
     "text": [
      "number of Paulis: 27\n",
      "number of TPB groups: 13\n",
      "number of Bell groups: 11\n",
      "number of Bell groups in ibmq_paris: 12\n"
     ]
    },
    {
     "name": "stderr",
     "output_type": "stream",
     "text": [
      "D:\\Saco_CSIC\\Programas\\Github\\Hardware-efficient-variational-quantum-eigensolver-with-entangled-measurements\\Codes\\GroupingAlgorithms.py:118: FutureWarning: Using a non-tuple sequence for multidimensional indexing is deprecated; use `arr[tuple(seq)]` instead of `arr[seq]`. In the future this will be interpreted as an array index, `arr[np.array(seq)]`, which will result either in an error or a different result.\n",
      "  if (list(Vi[[per]]) in Comp[Eps]) and (list(Vj[[per]]) in Comp[Eps]):\n"
     ]
    }
   ],
   "source": [
    "paulis, coeff, label = Label2Chain(qubit_op)\n",
    "print( 'number of Paulis:', len(coeff) )\n",
    "\n",
    "Color, Groups_tpb, Measurements_tpb = TPBgrouping(paulis)\n",
    "print( 'number of TPB groups:', len(Groups_tpb) )\n",
    "Groups_tpb = [ [ idx2[0] for idx2 in idx1 ] for idx1 in Groups_tpb ]\n",
    "Measurements_tpb = [ [ [idx[j][0],[j]] for j in range(num_qubits) ] for idx in Measurements_tpb ]\n",
    "\n",
    "Groups_bell, Measurements_bell = grouping( paulis,[4,3,1,2],WC)\n",
    "print('number of Bell groups:', len(Groups_bell) )\n",
    "\n",
    "Groups_bell_paris, Measurements_bell_paris = grouping( paulis,[4,3,1,2],WC_paris)\n",
    "print('number of Bell groups in ibmq_paris:', len(Groups_bell_paris) )"
   ]
  },
  {
   "cell_type": "code",
   "execution_count": 30,
   "metadata": {
    "execution": {
     "iopub.execute_input": "2021-05-29T17:53:14.275143Z",
     "iopub.status.busy": "2021-05-29T17:53:14.274146Z",
     "iopub.status.idle": "2021-05-29T17:53:14.640863Z",
     "shell.execute_reply": "2021-05-29T17:53:14.640863Z",
     "shell.execute_reply.started": "2021-05-29T17:53:14.275143Z"
    }
   },
   "outputs": [
    {
     "data": {
      "image/png": "[encoded data removed]",
      "text/plain": [
       "<Figure size 447.797x204.68 with 1 Axes>"
      ]
     },
     "execution_count": 30,
     "metadata": {},
     "output_type": "execute_result"
    }
   ],
   "source": [
    "entangled_layer = []\n",
    "for qbs in WC_paris :\n",
    "    if qbs[0]<qbs[1] and qbs[1]<num_qubits :\n",
    "        entangled_layer.append(qbs)\n",
    "\n",
    "ansatz = EfficientSU2(num_qubits,['ry','rz'], entanglement=entangled_layer, reps=1)\n",
    "ansatz.draw(output='mpl')"
   ]
  },
  {
   "cell_type": "code",
   "execution_count": 31,
   "metadata": {
    "execution": {
     "iopub.execute_input": "2021-05-29T17:53:14.642857Z",
     "iopub.status.busy": "2021-05-29T17:53:14.641860Z",
     "iopub.status.idle": "2021-05-29T17:53:14.662327Z",
     "shell.execute_reply": "2021-05-29T17:53:14.662327Z",
     "shell.execute_reply.started": "2021-05-29T17:53:14.642857Z"
    }
   },
   "outputs": [
    {
     "data": {
      "text/plain": [
       "(-1.8935057108439746+1.6653345369377348e-16j)"
      ]
     },
     "execution_count": 31,
     "metadata": {},
     "output_type": "execute_result"
    }
   ],
   "source": [
    "num_var = 4*num_qubits\n",
    "θ = np.random.randn(num_var)\n",
    "Hamiltonian = qubit_op.to_matrix()\n",
    "qc_state = ansatz.assign_parameters(θ)\n",
    "qc_state.save_statevector()\n",
    "state = backend.run(qc_state).result().get_statevector()\n",
    "np.vdot( state, Hamiltonian@state )"
   ]
  },
  {
   "cell_type": "code",
   "execution_count": 32,
   "metadata": {
    "execution": {
     "iopub.execute_input": "2021-05-29T17:53:14.664322Z",
     "iopub.status.busy": "2021-05-29T17:53:14.663324Z",
     "iopub.status.idle": "2021-05-29T17:53:14.673302Z",
     "shell.execute_reply": "2021-05-29T17:53:14.673302Z",
     "shell.execute_reply.started": "2021-05-29T17:53:14.664322Z"
    }
   },
   "outputs": [],
   "source": [
    "fun1 = lambda params : objective_function(params, coeff, label, Groups_tpb, Measurements_tpb, ansatz, backend, NUM_SHOTS)\n",
    "fun2 = lambda params : objective_function(params, coeff, label, Groups_bell, Measurements_bell, ansatz, backend, NUM_SHOTS)\n",
    "fun3 = lambda params : objective_function(params, coeff, label, Groups_bell_paris, Measurements_bell_paris, ansatz, backend, NUM_SHOTS)"
   ]
  },
  {
   "cell_type": "code",
   "execution_count": 33,
   "metadata": {
    "execution": {
     "iopub.execute_input": "2021-05-29T17:53:14.675292Z",
     "iopub.status.busy": "2021-05-29T17:53:14.674295Z",
     "iopub.status.idle": "2021-05-29T17:53:14.681277Z",
     "shell.execute_reply": "2021-05-29T17:53:14.679282Z",
     "shell.execute_reply.started": "2021-05-29T17:53:14.675292Z"
    }
   },
   "outputs": [],
   "source": [
    "MC = 10"
   ]
  },
  {
   "cell_type": "code",
   "execution_count": 34,
   "metadata": {
    "execution": {
     "iopub.execute_input": "2021-05-29T17:53:14.686263Z",
     "iopub.status.busy": "2021-05-29T17:53:14.685268Z",
     "iopub.status.idle": "2021-05-29T17:53:20.012464Z",
     "shell.execute_reply": "2021-05-29T17:53:20.012464Z",
     "shell.execute_reply.started": "2021-05-29T17:53:14.686263Z"
    }
   },
   "outputs": [
    {
     "data": {
      "text/plain": [
       "-1.8960693359375"
      ]
     },
     "execution_count": 34,
     "metadata": {},
     "output_type": "execute_result"
    }
   ],
   "source": [
    "f1 = []\n",
    "for _ in range(MC):\n",
    "    f1.append( fun1(θ) )\n",
    "np.mean(f1)"
   ]
  },
  {
   "cell_type": "code",
   "execution_count": 35,
   "metadata": {
    "execution": {
     "iopub.execute_input": "2021-05-29T17:53:20.016455Z",
     "iopub.status.busy": "2021-05-29T17:53:20.014459Z",
     "iopub.status.idle": "2021-05-29T17:53:20.177659Z",
     "shell.execute_reply": "2021-05-29T17:53:20.177659Z",
     "shell.execute_reply.started": "2021-05-29T17:53:20.015456Z"
    }
   },
   "outputs": [
    {
     "data": {
      "text/plain": [
       "(array([1., 1., 2., 0., 1., 1., 1., 0., 1., 2.]),\n",
       " array([-1.94946289, -1.93884277, -1.92822266, -1.91760254, -1.90698242,\n",
       "        -1.8963623 , -1.88574219, -1.87512207, -1.86450195, -1.85388184,\n",
       "        -1.84326172]),\n",
       " <a list of 10 Patch objects>)"
      ]
     },
     "execution_count": 35,
     "metadata": {},
     "output_type": "execute_result"
    },
    {
     "data": {
      "image/png": "[encoded data removed]",
      "text/plain": [
       "<Figure size 432x288 with 1 Axes>"
      ]
     },
     "metadata": {
      "needs_background": "light"
     },
     "output_type": "display_data"
    }
   ],
   "source": [
    "plt.hist(f1)"
   ]
  },
  {
   "cell_type": "code",
   "execution_count": 36,
   "metadata": {
    "execution": {
     "iopub.execute_input": "2021-05-29T17:53:20.179656Z",
     "iopub.status.busy": "2021-05-29T17:53:20.178657Z",
     "iopub.status.idle": "2021-05-29T17:53:24.787245Z",
     "shell.execute_reply": "2021-05-29T17:53:24.786240Z",
     "shell.execute_reply.started": "2021-05-29T17:53:20.179656Z"
    }
   },
   "outputs": [
    {
     "data": {
      "text/plain": [
       "-1.8824951171875"
      ]
     },
     "execution_count": 36,
     "metadata": {},
     "output_type": "execute_result"
    }
   ],
   "source": [
    "f2 = []\n",
    "for _ in range(MC):\n",
    "    f2.append( fun2(θ) )\n",
    "np.mean(f2)"
   ]
  },
  {
   "cell_type": "code",
   "execution_count": 37,
   "metadata": {
    "execution": {
     "iopub.execute_input": "2021-05-29T17:53:24.789200Z",
     "iopub.status.busy": "2021-05-29T17:53:24.788202Z",
     "iopub.status.idle": "2021-05-29T17:53:24.964746Z",
     "shell.execute_reply": "2021-05-29T17:53:24.963738Z",
     "shell.execute_reply.started": "2021-05-29T17:53:24.789200Z"
    }
   },
   "outputs": [
    {
     "data": {
      "text/plain": [
       "(array([1., 0., 1., 1., 2., 1., 1., 0., 2., 1.]),\n",
       " array([-1.97314453, -1.95668945, -1.94023437, -1.9237793 , -1.90732422,\n",
       "        -1.89086914, -1.87441406, -1.85795898, -1.84150391, -1.82504883,\n",
       "        -1.80859375]),\n",
       " <a list of 10 Patch objects>)"
      ]
     },
     "execution_count": 37,
     "metadata": {},
     "output_type": "execute_result"
    },
    {
     "data": {
      "image/png": "[encoded data removed]",
      "text/plain": [
       "<Figure size 432x288 with 1 Axes>"
      ]
     },
     "metadata": {
      "needs_background": "light"
     },
     "output_type": "display_data"
    }
   ],
   "source": [
    "plt.hist(f2)"
   ]
  },
  {
   "cell_type": "code",
   "execution_count": 38,
   "metadata": {
    "execution": {
     "iopub.execute_input": "2021-05-29T17:53:24.966729Z",
     "iopub.status.busy": "2021-05-29T17:53:24.966729Z",
     "iopub.status.idle": "2021-05-29T17:53:29.955064Z",
     "shell.execute_reply": "2021-05-29T17:53:29.955064Z",
     "shell.execute_reply.started": "2021-05-29T17:53:24.966729Z"
    }
   },
   "outputs": [
    {
     "data": {
      "text/plain": [
       "-1.9033935546875"
      ]
     },
     "execution_count": 38,
     "metadata": {},
     "output_type": "execute_result"
    }
   ],
   "source": [
    "f3 = []\n",
    "for _ in range(MC):\n",
    "    f3.append( fun3(θ) )\n",
    "np.mean(f3)"
   ]
  },
  {
   "cell_type": "code",
   "execution_count": null,
   "metadata": {},
   "outputs": [],
   "source": []
  },
  {
   "cell_type": "code",
   "execution_count": null,
   "metadata": {},
   "outputs": [],
   "source": []
  },
  {
   "cell_type": "code",
   "execution_count": null,
   "metadata": {},
   "outputs": [],
   "source": []
  }
 ],
 "metadata": {
  "kernelspec": {
   "display_name": "Python 3",
   "language": "python",
   "name": "python3"
  },
  "language_info": {
   "codemirror_mode": {
    "name": "ipython",
    "version": 3
   },
   "file_extension": ".py",
   "mimetype": "text/x-python",
   "name": "python",
   "nbconvert_exporter": "python",
   "pygments_lexer": "ipython3",
   "version": "3.7.7"
  }
 },
 "nbformat": 4,
 "nbformat_minor": 4
}
