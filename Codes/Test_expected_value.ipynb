{
 "cells": [
  {
   "cell_type": "code",
   "execution_count": 1,
   "metadata": {
    "execution": {
     "iopub.execute_input": "2021-05-29T14:41:16.342899Z",
     "iopub.status.busy": "2021-05-29T14:41:16.342899Z",
     "iopub.status.idle": "2021-05-29T14:41:20.211436Z",
     "shell.execute_reply": "2021-05-29T14:41:20.210481Z",
     "shell.execute_reply.started": "2021-05-29T14:41:16.342899Z"
    }
   },
   "outputs": [],
   "source": [
    "import numpy as np\n",
    "from GroupingAlgorithms import *\n",
    "from functions_VQE_v2 import *\n",
    "# Importing standard Qiskit libraries\n",
    "from qiskit import IBMQ, providers\n",
    "from qiskit.circuit.library import EfficientSU2\n",
    "from qiskit.aqua.algorithms import NumPyEigensolver\n",
    "from qiskit.opflow import converters\n",
    "from qiskit.opflow.primitive_ops import Z2Symmetries"
   ]
  },
  {
   "cell_type": "code",
   "execution_count": 2,
   "metadata": {
    "execution": {
     "iopub.execute_input": "2021-05-29T14:41:20.213433Z",
     "iopub.status.busy": "2021-05-29T14:41:20.212431Z",
     "iopub.status.idle": "2021-05-29T14:41:26.939067Z",
     "shell.execute_reply": "2021-05-29T14:41:26.939067Z",
     "shell.execute_reply.started": "2021-05-29T14:41:20.213433Z"
    }
   },
   "outputs": [],
   "source": [
    "IBMQ.load_account()\n",
    "provider  = IBMQ.get_provider(hub='ibm-q-csic', group='internal', project='iff-csic') \n",
    "backend   = provider.get_backend('ibmq_paris')\n",
    "WC_paris  = get_backend_conectivity(backend)\n",
    "backend   = providers.aer.AerSimulator(method=\"statevector\") # Backend for simulation\n",
    "NUM_SHOTS = 2**13  # Number of shots for each circuit"
   ]
  },
  {
   "cell_type": "code",
   "execution_count": 3,
   "metadata": {
    "execution": {
     "iopub.execute_input": "2021-05-29T14:41:26.941062Z",
     "iopub.status.busy": "2021-05-29T14:41:26.941062Z",
     "iopub.status.idle": "2021-05-29T14:41:26.953032Z",
     "shell.execute_reply": "2021-05-29T14:41:26.952033Z",
     "shell.execute_reply.started": "2021-05-29T14:41:26.941062Z"
    }
   },
   "outputs": [
    {
     "name": "stdout",
     "output_type": "stream",
     "text": [
      "SummedOp([\n",
      "  -1 * IZ,\n",
      "  -1 * ZI,\n",
      "  -1 * XX,\n",
      "  -1 * YY,\n",
      "  -1 * ZZ\n",
      "])\n"
     ]
    }
   ],
   "source": [
    "num_qubits = 2\n",
    "qubit_op   = HeisenbergHamiltonian()\n",
    "WC=list(range(num_qubits))\n",
    "WC=list(permutations(list(range(num_qubits)),2))\n",
    "print( qubit_op )"
   ]
  },
  {
   "cell_type": "code",
   "execution_count": 4,
   "metadata": {
    "execution": {
     "iopub.execute_input": "2021-05-29T14:41:26.955025Z",
     "iopub.status.busy": "2021-05-29T14:41:26.955025Z",
     "iopub.status.idle": "2021-05-29T14:41:26.992923Z",
     "shell.execute_reply": "2021-05-29T14:41:26.992923Z",
     "shell.execute_reply.started": "2021-05-29T14:41:26.955025Z"
    }
   },
   "outputs": [
    {
     "name": "stderr",
     "output_type": "stream",
     "text": [
      "C:\\Users\\Luciano\\Anaconda3\\lib\\site-packages\\qiskit\\aqua\\algorithms\\eigen_solvers\\eigen_solver.py:38: DeprecationWarning: The package qiskit.aqua.algorithms.eigen_solvers is deprecated. It was moved/refactored to qiskit.algorithms.eigen_solvers (pip install qiskit-terra). For more information see <https://github.com/Qiskit/qiskit-aqua/blob/master/README.md#migration-guide>\n",
      "  'qiskit-terra')\n",
      "C:\\Users\\Luciano\\Anaconda3\\lib\\site-packages\\qiskit\\aqua\\operators\\operator_base.py:46: DeprecationWarning: The package qiskit.aqua.operators is deprecated. It was moved/refactored to qiskit.opflow (pip install qiskit-terra). For more information see <https://github.com/Qiskit/qiskit-aqua/blob/master/README.md#migration-guide>\n",
      "  warn_package('aqua.operators', 'qiskit.opflow', 'qiskit-terra')\n"
     ]
    },
    {
     "data": {
      "text/plain": [
       "-3.000000000000001"
      ]
     },
     "execution_count": 4,
     "metadata": {},
     "output_type": "execute_result"
    }
   ],
   "source": [
    "exact_result = NumPyEigensolver(qubit_op).run()\n",
    "exact_energy = np.real(exact_result.eigenvalues)[0]\n",
    "exact_energy"
   ]
  },
  {
   "cell_type": "code",
   "execution_count": 5,
   "metadata": {
    "execution": {
     "iopub.execute_input": "2021-05-29T14:41:26.995915Z",
     "iopub.status.busy": "2021-05-29T14:41:26.993921Z",
     "iopub.status.idle": "2021-05-29T14:41:27.015861Z",
     "shell.execute_reply": "2021-05-29T14:41:27.014865Z",
     "shell.execute_reply.started": "2021-05-29T14:41:26.995915Z"
    }
   },
   "outputs": [
    {
     "name": "stdout",
     "output_type": "stream",
     "text": [
      "number of Paulis: 5\n",
      "number of TPB groups: 3\n",
      "number of Bell groups: 2\n",
      "number of Bell groups in ibmq_paris: 2\n"
     ]
    },
    {
     "name": "stderr",
     "output_type": "stream",
     "text": [
      "D:\\Saco_CSIC\\Programas\\Github\\Hardware-efficient-variational-quantum-eigensolver-with-entangled-measurements\\Codes\\GroupingAlgorithms.py:118: FutureWarning: Using a non-tuple sequence for multidimensional indexing is deprecated; use `arr[tuple(seq)]` instead of `arr[seq]`. In the future this will be interpreted as an array index, `arr[np.array(seq)]`, which will result either in an error or a different result.\n",
      "  if (list(Vi[[per]]) in Comp[Eps]) and (list(Vj[[per]]) in Comp[Eps]):\n"
     ]
    }
   ],
   "source": [
    "paulis, coeff, label = Label2Chain(qubit_op)\n",
    "print( 'number of Paulis:', len(coeff) )\n",
    "\n",
    "Color, Groups_tpb, Measurements_tpb = TPBgrouping(paulis)\n",
    "print( 'number of TPB groups:', len(Groups_tpb) )\n",
    "Groups_tpb = [ [ idx2[0] for idx2 in idx1 ] for idx1 in Groups_tpb ]\n",
    "Measurements_tpb = [ [ [idx[j][0],[j]] for j in range(num_qubits) ] for idx in Measurements_tpb ]\n",
    "\n",
    "Groups_bell, Measurements_bell = grouping( paulis,[4,3,1,2],WC)\n",
    "print('number of Bell groups:', len(Groups_bell) )\n",
    "\n",
    "Groups_bell_paris, Measurements_bell_paris = grouping( paulis,[4,3,1,2],WC_paris)\n",
    "print('number of Bell groups in ibmq_paris:', len(Groups_bell_paris) )"
   ]
  },
  {
   "cell_type": "code",
   "execution_count": 6,
   "metadata": {
    "execution": {
     "iopub.execute_input": "2021-05-29T14:41:27.017859Z",
     "iopub.status.busy": "2021-05-29T14:41:27.016859Z",
     "iopub.status.idle": "2021-05-29T14:41:27.025836Z",
     "shell.execute_reply": "2021-05-29T14:41:27.023841Z",
     "shell.execute_reply.started": "2021-05-29T14:41:27.017859Z"
    }
   },
   "outputs": [
    {
     "data": {
      "text/plain": [
       "array([[0, 3],\n",
       "       [3, 0],\n",
       "       [1, 1],\n",
       "       [2, 2],\n",
       "       [3, 3]])"
      ]
     },
     "execution_count": 6,
     "metadata": {},
     "output_type": "execute_result"
    }
   ],
   "source": [
    "paulis"
   ]
  },
  {
   "cell_type": "code",
   "execution_count": 7,
   "metadata": {
    "execution": {
     "iopub.execute_input": "2021-05-29T14:41:27.032825Z",
     "iopub.status.busy": "2021-05-29T14:41:27.030828Z",
     "iopub.status.idle": "2021-05-29T14:41:27.043788Z",
     "shell.execute_reply": "2021-05-29T14:41:27.042801Z",
     "shell.execute_reply.started": "2021-05-29T14:41:27.031820Z"
    }
   },
   "outputs": [
    {
     "data": {
      "text/plain": [
       "[[[1, [0]], [1, [1]]], [[2, [0]], [2, [1]]], [[3, [0]], [3, [1]]]]"
      ]
     },
     "execution_count": 7,
     "metadata": {},
     "output_type": "execute_result"
    }
   ],
   "source": [
    "Measurements_tpb"
   ]
  },
  {
   "cell_type": "code",
   "execution_count": 8,
   "metadata": {
    "execution": {
     "iopub.execute_input": "2021-05-29T14:41:27.045782Z",
     "iopub.status.busy": "2021-05-29T14:41:27.044785Z",
     "iopub.status.idle": "2021-05-29T14:41:27.057749Z",
     "shell.execute_reply": "2021-05-29T14:41:27.056752Z",
     "shell.execute_reply.started": "2021-05-29T14:41:27.045782Z"
    }
   },
   "outputs": [
    {
     "data": {
      "text/plain": [
       "[[[4, [0, 1]]], [[3, [0]], [3, [1]]]]"
      ]
     },
     "execution_count": 8,
     "metadata": {},
     "output_type": "execute_result"
    }
   ],
   "source": [
    "Measurements_bell"
   ]
  },
  {
   "cell_type": "code",
   "execution_count": 9,
   "metadata": {
    "execution": {
     "iopub.execute_input": "2021-05-29T14:41:27.062737Z",
     "iopub.status.busy": "2021-05-29T14:41:27.060744Z",
     "iopub.status.idle": "2021-05-29T14:41:27.073707Z",
     "shell.execute_reply": "2021-05-29T14:41:27.073707Z",
     "shell.execute_reply.started": "2021-05-29T14:41:27.062737Z"
    }
   },
   "outputs": [
    {
     "data": {
      "text/plain": [
       "[[[4, [0, 1]]], [[3, [0]], [3, [1]]]]"
      ]
     },
     "execution_count": 9,
     "metadata": {},
     "output_type": "execute_result"
    }
   ],
   "source": [
    "Measurements_bell_paris"
   ]
  },
  {
   "cell_type": "code",
   "execution_count": null,
   "metadata": {},
   "outputs": [],
   "source": []
  },
  {
   "cell_type": "code",
   "execution_count": 10,
   "metadata": {
    "execution": {
     "iopub.execute_input": "2021-05-29T14:41:27.076699Z",
     "iopub.status.busy": "2021-05-29T14:41:27.075702Z",
     "iopub.status.idle": "2021-05-29T14:41:27.705343Z",
     "shell.execute_reply": "2021-05-29T14:41:27.704372Z",
     "shell.execute_reply.started": "2021-05-29T14:41:27.076699Z"
    }
   },
   "outputs": [
    {
     "data": {
      "image/png": "[encoded data removed]",
      "text/plain": [
       "<Figure size 387.452x144.48 with 1 Axes>"
      ]
     },
     "execution_count": 10,
     "metadata": {},
     "output_type": "execute_result"
    }
   ],
   "source": [
    "entangled_layer = []\n",
    "for qbs in WC_paris :\n",
    "    if qbs[0]<qbs[1] and qbs[1]<num_qubits :\n",
    "        entangled_layer.append(qbs)\n",
    "\n",
    "ansatz = EfficientSU2(num_qubits,['ry','rz'], entanglement=entangled_layer, reps=1)\n",
    "ansatz.draw(output='mpl')"
   ]
  },
  {
   "cell_type": "code",
   "execution_count": null,
   "metadata": {},
   "outputs": [],
   "source": []
  },
  {
   "cell_type": "code",
   "execution_count": 11,
   "metadata": {
    "execution": {
     "iopub.execute_input": "2021-05-29T14:41:27.706358Z",
     "iopub.status.busy": "2021-05-29T14:41:27.706358Z",
     "iopub.status.idle": "2021-05-29T14:41:27.721299Z",
     "shell.execute_reply": "2021-05-29T14:41:27.720334Z",
     "shell.execute_reply.started": "2021-05-29T14:41:27.706358Z"
    }
   },
   "outputs": [],
   "source": [
    "num_var = 4*num_qubits\n",
    "θ = np.random.randn(num_var)\n",
    "qc = []\n",
    "n_measure = []\n",
    "for measure in Measurements_bell :\n",
    "    qc_temp, n_measure_temp = measure_circuit_factor( measure , num_qubits )\n",
    "    qc_temp = qc_temp.compose(ansatz.assign_parameters(θ),front=True )\n",
    "    qc.append( qc_temp )\n",
    "    n_measure.append( n_measure_temp )"
   ]
  },
  {
   "cell_type": "code",
   "execution_count": 12,
   "metadata": {
    "execution": {
     "iopub.execute_input": "2021-05-29T14:41:27.722297Z",
     "iopub.status.busy": "2021-05-29T14:41:27.722297Z",
     "iopub.status.idle": "2021-05-29T14:41:27.776154Z",
     "shell.execute_reply": "2021-05-29T14:41:27.775228Z",
     "shell.execute_reply.started": "2021-05-29T14:41:27.722297Z"
    }
   },
   "outputs": [
    {
     "data": {
      "text/plain": [
       "[{'01': 6473, '11': 1483, '00': 201, '10': 35},\n",
       " {'1 1': 2211, '0 0': 4402, '0 1': 981, '1 0': 598}]"
      ]
     },
     "execution_count": 12,
     "metadata": {},
     "output_type": "execute_result"
    }
   ],
   "source": [
    "counts = backend.run(qc,shots=NUM_SHOTS).result().get_counts()\n",
    "counts"
   ]
  },
  {
   "cell_type": "code",
   "execution_count": 13,
   "metadata": {
    "execution": {
     "iopub.execute_input": "2021-05-29T14:41:27.777150Z",
     "iopub.status.busy": "2021-05-29T14:41:27.777150Z",
     "iopub.status.idle": "2021-05-29T14:41:27.789118Z",
     "shell.execute_reply": "2021-05-29T14:41:27.788121Z",
     "shell.execute_reply.started": "2021-05-29T14:41:27.777150Z"
    }
   },
   "outputs": [
    {
     "data": {
      "text/plain": [
       "[array([0.02453613, 0.79016113, 0.00427246, 0.18103027]),\n",
       " array([0.53735352, 0.11975098, 0.07299805, 0.26989746])]"
      ]
     },
     "execution_count": 13,
     "metadata": {},
     "output_type": "execute_result"
    }
   ],
   "source": [
    "probabilities = [ post_process_results(counts[0], 2, NUM_SHOTS), post_process_results(counts[1], 2, NUM_SHOTS) ]\n",
    "probabilities"
   ]
  },
  {
   "cell_type": "code",
   "execution_count": 14,
   "metadata": {
    "execution": {
     "iopub.execute_input": "2021-05-29T14:41:27.790115Z",
     "iopub.status.busy": "2021-05-29T14:41:27.790115Z",
     "iopub.status.idle": "2021-05-29T14:41:27.800090Z",
     "shell.execute_reply": "2021-05-29T14:41:27.797104Z",
     "shell.execute_reply.started": "2021-05-29T14:41:27.790115Z"
    }
   },
   "outputs": [],
   "source": [
    "Bell = np.array([ [1,0,0,1], [1,0,0,-1], [0,1,1,0], [0,1,-1,0] ]).T/np.sqrt(2)\n",
    "X = np.array([[0,1],[1,0]])\n",
    "Y = np.array([[0,-1j],[1j,0]])\n",
    "Z = np.array([[1,0],[0,-1]])\n",
    "I = np.array([[1,0],[1,0]])"
   ]
  },
  {
   "cell_type": "code",
   "execution_count": 15,
   "metadata": {
    "execution": {
     "iopub.execute_input": "2021-05-29T14:41:27.804079Z",
     "iopub.status.busy": "2021-05-29T14:41:27.802084Z",
     "iopub.status.idle": "2021-05-29T14:41:27.820036Z",
     "shell.execute_reply": "2021-05-29T14:41:27.819039Z",
     "shell.execute_reply.started": "2021-05-29T14:41:27.804079Z"
    }
   },
   "outputs": [
    {
     "data": {
      "text/plain": [
       "[array([[ 1.+0.j, -1.+0.j,  1.+0.j, -1.+0.j],\n",
       "        [-1.+0.j,  1.+0.j,  1.+0.j, -1.+0.j],\n",
       "        [ 1.+0.j,  1.+0.j, -1.+0.j, -1.+0.j]]),\n",
       " array([[ 1,  1, -1, -1],\n",
       "        [ 1, -1,  1, -1]])]"
      ]
     },
     "execution_count": 15,
     "metadata": {},
     "output_type": "execute_result"
    }
   ],
   "source": [
    "B0 = []\n",
    "for M in [X,Y,Z]:\n",
    "    B0.append( np.diag(Bell.T.conj()@np.kron(M,M)@Bell) )\n",
    "B0 = np.array(B0)\n",
    "B1 = np.array([ [1,1,-1,-1], [1,-1,1,-1] ])\n",
    "B = [B0,B1]\n",
    "B"
   ]
  },
  {
   "cell_type": "code",
   "execution_count": 16,
   "metadata": {
    "execution": {
     "iopub.execute_input": "2021-05-29T14:41:27.821039Z",
     "iopub.status.busy": "2021-05-29T14:41:27.821039Z",
     "iopub.status.idle": "2021-05-29T14:41:27.827017Z",
     "shell.execute_reply": "2021-05-29T14:41:27.827017Z",
     "shell.execute_reply.started": "2021-05-29T14:41:27.821039Z"
    }
   },
   "outputs": [
    {
     "data": {
      "text/plain": [
       "array([-0.94238281+0.j,  0.58886719+0.j,  0.62939453+0.j])"
      ]
     },
     "execution_count": 16,
     "metadata": {},
     "output_type": "execute_result"
    }
   ],
   "source": [
    "EV0 = B0@probabilities[0]\n",
    "EV0"
   ]
  },
  {
   "cell_type": "code",
   "execution_count": 17,
   "metadata": {
    "execution": {
     "iopub.execute_input": "2021-05-29T14:41:27.832004Z",
     "iopub.status.busy": "2021-05-29T14:41:27.830016Z",
     "iopub.status.idle": "2021-05-29T14:41:27.847963Z",
     "shell.execute_reply": "2021-05-29T14:41:27.845967Z",
     "shell.execute_reply.started": "2021-05-29T14:41:27.832004Z"
    }
   },
   "outputs": [
    {
     "data": {
      "text/plain": [
       "array([0.31420898, 0.22070312])"
      ]
     },
     "execution_count": 17,
     "metadata": {},
     "output_type": "execute_result"
    }
   ],
   "source": [
    "EV1 = B1@probabilities[1]\n",
    "EV1"
   ]
  },
  {
   "cell_type": "code",
   "execution_count": 18,
   "metadata": {
    "execution": {
     "iopub.execute_input": "2021-05-29T14:41:27.849956Z",
     "iopub.status.busy": "2021-05-29T14:41:27.849956Z",
     "iopub.status.idle": "2021-05-29T14:41:27.856937Z",
     "shell.execute_reply": "2021-05-29T14:41:27.855939Z",
     "shell.execute_reply.started": "2021-05-29T14:41:27.849956Z"
    }
   },
   "outputs": [
    {
     "data": {
      "text/plain": [
       "(-0.8107910156249998-0j)"
      ]
     },
     "execution_count": 18,
     "metadata": {},
     "output_type": "execute_result"
    }
   ],
   "source": [
    "-np.sum(EV0)-np.sum(EV1)"
   ]
  },
  {
   "cell_type": "code",
   "execution_count": 19,
   "metadata": {
    "execution": {
     "iopub.execute_input": "2021-05-29T14:41:27.857935Z",
     "iopub.status.busy": "2021-05-29T14:41:27.857935Z",
     "iopub.status.idle": "2021-05-29T14:41:27.871899Z",
     "shell.execute_reply": "2021-05-29T14:41:27.871899Z",
     "shell.execute_reply.started": "2021-05-29T14:41:27.857935Z"
    }
   },
   "outputs": [
    {
     "data": {
      "text/plain": [
       "(-0.7966025741911096+0j)"
      ]
     },
     "execution_count": 19,
     "metadata": {},
     "output_type": "execute_result"
    }
   ],
   "source": [
    "Hamiltonian = qubit_op.to_matrix()\n",
    "qc_state = ansatz.assign_parameters(θ)\n",
    "qc_state.save_statevector()\n",
    "state = backend.run(qc_state).result().get_statevector()\n",
    "np.vdot( state, Hamiltonian@state )"
   ]
  },
  {
   "cell_type": "code",
   "execution_count": 20,
   "metadata": {
    "execution": {
     "iopub.execute_input": "2021-05-29T14:41:27.873892Z",
     "iopub.status.busy": "2021-05-29T14:41:27.872895Z",
     "iopub.status.idle": "2021-05-29T14:41:27.879875Z",
     "shell.execute_reply": "2021-05-29T14:41:27.878878Z",
     "shell.execute_reply.started": "2021-05-29T14:41:27.873892Z"
    }
   },
   "outputs": [
    {
     "data": {
      "text/plain": [
       "[[[4, [0, 1]]], [[3, [0]], [3, [1]]]]"
      ]
     },
     "execution_count": 20,
     "metadata": {},
     "output_type": "execute_result"
    }
   ],
   "source": [
    "Measurements_bell"
   ]
  },
  {
   "cell_type": "code",
   "execution_count": 21,
   "metadata": {
    "execution": {
     "iopub.execute_input": "2021-05-29T14:41:27.882869Z",
     "iopub.status.busy": "2021-05-29T14:41:27.881871Z",
     "iopub.status.idle": "2021-05-29T14:41:27.890847Z",
     "shell.execute_reply": "2021-05-29T14:41:27.889849Z",
     "shell.execute_reply.started": "2021-05-29T14:41:27.882869Z"
    }
   },
   "outputs": [
    {
     "data": {
      "text/plain": [
       "[array([[ 1, -1,  1, -1],\n",
       "        [-1,  1,  1, -1],\n",
       "        [ 1,  1, -1, -1]]),\n",
       " array([[ 1.,  1., -1., -1.],\n",
       "        [ 1., -1.,  1., -1.]])]"
      ]
     },
     "execution_count": 21,
     "metadata": {},
     "output_type": "execute_result"
    }
   ],
   "source": [
    "probability2expected(coeff, label, Groups_bell, Measurements_bell)"
   ]
  },
  {
   "cell_type": "code",
   "execution_count": 22,
   "metadata": {
    "execution": {
     "iopub.execute_input": "2021-05-29T14:41:27.891844Z",
     "iopub.status.busy": "2021-05-29T14:41:27.891844Z",
     "iopub.status.idle": "2021-05-29T14:41:27.901823Z",
     "shell.execute_reply": "2021-05-29T14:41:27.899823Z",
     "shell.execute_reply.started": "2021-05-29T14:41:27.891844Z"
    }
   },
   "outputs": [
    {
     "data": {
      "text/plain": [
       "[array([[ 1.+0.j, -1.+0.j,  1.+0.j, -1.+0.j],\n",
       "        [-1.+0.j,  1.+0.j,  1.+0.j, -1.+0.j],\n",
       "        [ 1.+0.j,  1.+0.j, -1.+0.j, -1.+0.j]]),\n",
       " array([[ 1,  1, -1, -1],\n",
       "        [ 1, -1,  1, -1]])]"
      ]
     },
     "execution_count": 22,
     "metadata": {},
     "output_type": "execute_result"
    }
   ],
   "source": [
    "B"
   ]
  },
  {
   "cell_type": "code",
   "execution_count": 23,
   "metadata": {
    "execution": {
     "iopub.execute_input": "2021-05-29T14:41:27.903812Z",
     "iopub.status.busy": "2021-05-29T14:41:27.903812Z",
     "iopub.status.idle": "2021-05-29T14:41:27.914782Z",
     "shell.execute_reply": "2021-05-29T14:41:27.912787Z",
     "shell.execute_reply.started": "2021-05-29T14:41:27.903812Z"
    }
   },
   "outputs": [
    {
     "data": {
      "text/plain": [
       "['IZ', 'ZI', 'XX', 'YY', 'ZZ']"
      ]
     },
     "execution_count": 23,
     "metadata": {},
     "output_type": "execute_result"
    }
   ],
   "source": [
    "label"
   ]
  },
  {
   "cell_type": "code",
   "execution_count": null,
   "metadata": {},
   "outputs": [],
   "source": []
  },
  {
   "cell_type": "code",
   "execution_count": 24,
   "metadata": {
    "execution": {
     "iopub.execute_input": "2021-05-29T14:41:27.916778Z",
     "iopub.status.busy": "2021-05-29T14:41:27.916778Z",
     "iopub.status.idle": "2021-05-29T14:41:27.922761Z",
     "shell.execute_reply": "2021-05-29T14:41:27.922761Z",
     "shell.execute_reply.started": "2021-05-29T14:41:27.916778Z"
    }
   },
   "outputs": [],
   "source": [
    "fun1 = lambda params : objective_function(params, coeff, label, Groups_tpb, Measurements_tpb, ansatz, backend, NUM_SHOTS)\n",
    "fun2 = lambda params : objective_function(params, coeff, label, Groups_bell, Measurements_bell, ansatz, backend, NUM_SHOTS)\n",
    "fun3 = lambda params : objective_function(params, coeff, label, Groups_bell_paris, Measurements_bell_paris, ansatz, backend, NUM_SHOTS)"
   ]
  },
  {
   "cell_type": "code",
   "execution_count": 25,
   "metadata": {
    "execution": {
     "iopub.execute_input": "2021-05-29T14:41:27.925757Z",
     "iopub.status.busy": "2021-05-29T14:41:27.924756Z",
     "iopub.status.idle": "2021-05-29T14:41:28.190050Z",
     "shell.execute_reply": "2021-05-29T14:41:28.190050Z",
     "shell.execute_reply.started": "2021-05-29T14:41:27.925757Z"
    }
   },
   "outputs": [
    {
     "name": "stdout",
     "output_type": "stream",
     "text": [
      "Energy: -0.819091796875 [array([ 1., -1., -1.,  1.]), array([ 1., -1., -1.,  1.]), array([ 1.,  1., -1., -1.]), array([ 1., -1.,  1., -1.]), array([ 1., -1., -1.,  1.])]\n"
     ]
    },
    {
     "data": {
      "text/plain": [
       "-0.819091796875"
      ]
     },
     "execution_count": 25,
     "metadata": {},
     "output_type": "execute_result"
    }
   ],
   "source": [
    "fun1(θ)"
   ]
  },
  {
   "cell_type": "code",
   "execution_count": 26,
   "metadata": {
    "execution": {
     "iopub.execute_input": "2021-05-29T14:41:28.192040Z",
     "iopub.status.busy": "2021-05-29T14:41:28.191043Z",
     "iopub.status.idle": "2021-05-29T14:41:28.271826Z",
     "shell.execute_reply": "2021-05-29T14:41:28.271826Z",
     "shell.execute_reply.started": "2021-05-29T14:41:28.192040Z"
    }
   },
   "outputs": [
    {
     "name": "stdout",
     "output_type": "stream",
     "text": [
      "Energy: -0.8193359375 [array([ 1, -1,  1, -1]), array([-1,  1,  1, -1]), array([ 1,  1, -1, -1]), array([ 1.,  1., -1., -1.]), array([ 1., -1.,  1., -1.])]\n"
     ]
    },
    {
     "data": {
      "text/plain": [
       "-0.8193359375"
      ]
     },
     "execution_count": 26,
     "metadata": {},
     "output_type": "execute_result"
    }
   ],
   "source": [
    "fun2(θ)"
   ]
  },
  {
   "cell_type": "code",
   "execution_count": 27,
   "metadata": {
    "execution": {
     "iopub.execute_input": "2021-05-29T14:41:28.274819Z",
     "iopub.status.busy": "2021-05-29T14:41:28.274819Z",
     "iopub.status.idle": "2021-05-29T14:41:28.359595Z",
     "shell.execute_reply": "2021-05-29T14:41:28.359595Z",
     "shell.execute_reply.started": "2021-05-29T14:41:28.274819Z"
    }
   },
   "outputs": [
    {
     "name": "stdout",
     "output_type": "stream",
     "text": [
      "Energy: -0.7978515625 [array([ 1, -1,  1, -1]), array([-1,  1,  1, -1]), array([ 1,  1, -1, -1]), array([ 1.,  1., -1., -1.]), array([ 1., -1.,  1., -1.])]\n"
     ]
    },
    {
     "data": {
      "text/plain": [
       "-0.7978515625"
      ]
     },
     "execution_count": 27,
     "metadata": {},
     "output_type": "execute_result"
    }
   ],
   "source": [
    "fun3(θ)"
   ]
  },
  {
   "cell_type": "code",
   "execution_count": null,
   "metadata": {},
   "outputs": [],
   "source": []
  }
 ],
 "metadata": {
  "kernelspec": {
   "display_name": "Python 3",
   "language": "python",
   "name": "python3"
  },
  "language_info": {
   "codemirror_mode": {
    "name": "ipython",
    "version": 3
   },
   "file_extension": ".py",
   "mimetype": "text/x-python",
   "name": "python",
   "nbconvert_exporter": "python",
   "pygments_lexer": "ipython3",
   "version": "3.7.7"
  }
 },
 "nbformat": 4,
 "nbformat_minor": 4
}
