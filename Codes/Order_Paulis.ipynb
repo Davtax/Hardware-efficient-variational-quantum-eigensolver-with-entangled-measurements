{
 "cells": [
  {
   "cell_type": "code",
   "execution_count": 1,
   "metadata": {
    "execution": {
     "iopub.execute_input": "2021-05-27T10:53:03.612739Z",
     "iopub.status.busy": "2021-05-27T10:53:03.612404Z",
     "iopub.status.idle": "2021-05-27T10:53:04.231129Z",
     "shell.execute_reply": "2021-05-27T10:53:04.230764Z",
     "shell.execute_reply.started": "2021-05-27T10:53:03.612662Z"
    },
    "tags": []
   },
   "outputs": [],
   "source": [
    "import numpy as np\n",
    "from itertools import product, permutations\n",
    "from tqdm.notebook import tqdm\n",
    "from multiprocessing import Pool\n",
    "from GroupingAlgorithms import grouping\n",
    "import matplotlib.pyplot as plt\n",
    "from math import factorial\n",
    "\n",
    "import warnings\n",
    "warnings.simplefilter(action='ignore', category=FutureWarning)"
   ]
  },
  {
   "cell_type": "code",
   "execution_count": 4,
   "metadata": {
    "execution": {
     "iopub.execute_input": "2021-05-27T10:53:16.044114Z",
     "iopub.status.busy": "2021-05-27T10:53:16.043895Z",
     "iopub.status.idle": "2021-05-27T10:53:16.050468Z",
     "shell.execute_reply": "2021-05-27T10:53:16.050041Z",
     "shell.execute_reply.started": "2021-05-27T10:53:16.044091Z"
    },
    "tags": []
   },
   "outputs": [],
   "source": [
    "def sort_solution(data):\n",
    "    \"\"\"\n",
    "    Function to sort the data obtained for a parallel computation\n",
    "    :param data: (list) List in which each entry represents one solution of the parallel computation. The elements are\n",
    "    also list which contains in the first element the index and in the second one the result of the computation.\n",
    "    :return: (list) List with the data sorted\n",
    "    \"\"\"\n",
    "    n = len(data)  # Extract the number of computations done\n",
    "    sorted_sol = [None] * n  # Empty list with the correct number of elements\n",
    "    for i in range(n):  # Iterate over all the elements\n",
    "        index = data[i][0]  # Obtain the index of the result\n",
    "        temp = data[i][1]  # Obtain the result\n",
    "        sorted_sol[index] = temp  # Save the result in the correct element\n",
    "        \n",
    "    if type(sorted_sol[0]) == list or type(sorted_sol[0]) == tuple:\n",
    "        return sorted_sol\n",
    "    else:\n",
    "        return np.array(sorted_sol)\n",
    "    \n",
    "def unpack_functions(pack):\n",
    "    if len(pack) < 4:\n",
    "        pack.append({})\n",
    "    return [pack[0], pack[1](*pack[2], **pack[3])]\n",
    "    \n",
    "def n_groups(seed):\n",
    "    np.random.seed(seed)\n",
    "    np.random.shuffle(order)\n",
    "    Groups, _ = grouping(PS[order],[9,8,7,6,5,4,3,2,1],WC)\n",
    "    return len(Groups)"
   ]
  },
  {
   "cell_type": "code",
   "execution_count": 5,
   "metadata": {
    "execution": {
     "iopub.execute_input": "2021-05-27T10:53:17.958669Z",
     "iopub.status.busy": "2021-05-27T10:53:17.958518Z",
     "iopub.status.idle": "2021-05-27T10:53:17.961368Z",
     "shell.execute_reply": "2021-05-27T10:53:17.961044Z",
     "shell.execute_reply.started": "2021-05-27T10:53:17.958654Z"
    },
    "tags": []
   },
   "outputs": [],
   "source": [
    "num_qubits = 4\n",
    "WC=list(range(num_qubits))\n",
    "WC=list(permutations(list(range(num_qubits)),2))\n",
    "\n",
    "PS = np.array(list(product([0,1,2,3],repeat=num_qubits)))\n",
    "order = np.arange(num_qubits ** 4)"
   ]
  },
  {
   "cell_type": "code",
   "execution_count": 6,
   "metadata": {
    "execution": {
     "iopub.execute_input": "2021-05-27T10:53:24.177590Z",
     "iopub.status.busy": "2021-05-27T10:53:24.177372Z",
     "iopub.status.idle": "2021-05-27T10:53:29.282082Z",
     "shell.execute_reply": "2021-05-27T10:53:29.281666Z",
     "shell.execute_reply.started": "2021-05-27T10:53:24.177566Z"
    },
    "tags": []
   },
   "outputs": [
    {
     "data": {
      "application/vnd.jupyter.widget-view+json": {
       "model_id": "214b59895a074901b8c4512dbd3decb6",
       "version_major": 2,
       "version_minor": 0
      },
      "text/plain": [
       "  0%|          | 0/100 [00:00<?, ?it/s]"
      ]
     },
     "metadata": {},
     "output_type": "display_data"
    },
    {
     "name": "stdout",
     "output_type": "stream",
     "text": [
      "Minimum number of groups: 38\n",
      "Maximum number of groups: 46\n"
     ]
    }
   ],
   "source": [
    "n = 100\n",
    "args = []\n",
    "results = []\n",
    "\n",
    "for i in range(n):\n",
    "    args.append([i, n_groups, [i]])\n",
    "    \n",
    "pbar = tqdm(total=n)\n",
    "pool = Pool()\n",
    "for i, result in enumerate(pool.imap_unordered(unpack_functions, args, chunksize=1), 1): \n",
    "        results.append(result) # Save the result\n",
    "        pbar.update() #Update the progress bar\n",
    "        \n",
    "pool.terminate()\n",
    "pbar.close()\n",
    "results = np.array(sort_solution(results)) # Sort the asyn results\n",
    "\n",
    "print('Minimum number of groups:', min(results))\n",
    "print('Maximum number of groups:', max(results))"
   ]
  },
  {
   "cell_type": "code",
   "execution_count": 7,
   "metadata": {
    "execution": {
     "iopub.execute_input": "2021-05-27T10:53:29.335889Z",
     "iopub.status.busy": "2021-05-27T10:53:29.335501Z",
     "iopub.status.idle": "2021-05-27T10:53:29.339676Z",
     "shell.execute_reply": "2021-05-27T10:53:29.339159Z",
     "shell.execute_reply.started": "2021-05-27T10:53:29.335814Z"
    },
    "tags": []
   },
   "outputs": [],
   "source": [
    "pool.terminate()"
   ]
  },
  {
   "cell_type": "code",
   "execution_count": 8,
   "metadata": {
    "execution": {
     "iopub.execute_input": "2021-05-27T10:53:29.756129Z",
     "iopub.status.busy": "2021-05-27T10:53:29.755916Z",
     "iopub.status.idle": "2021-05-27T10:53:29.837007Z",
     "shell.execute_reply": "2021-05-27T10:53:29.836661Z",
     "shell.execute_reply.started": "2021-05-27T10:53:29.756106Z"
    },
    "tags": []
   },
   "outputs": [
    {
     "data": {
      "text/plain": [
       "<matplotlib.collections.LineCollection at 0x7f7a997c8f70>"
      ]
     },
     "execution_count": 8,
     "metadata": {},
     "output_type": "execute_result"
    },
    {
     "data": {
      "image/png": "[encoded data removed]",
      "text/plain": [
       "<Figure size 432x288 with 1 Axes>"
      ]
     },
     "metadata": {
      "needs_background": "light"
     },
     "output_type": "display_data"
    }
   ],
   "source": [
    "plt.plot(results, 'o')\n",
    "plt.hlines(min(results), 0, n, ls='--')\n",
    "plt.hlines(max(results), 0, n, ls='--')"
   ]
  },
  {
   "cell_type": "code",
   "execution_count": 40,
   "metadata": {
    "execution": {
     "iopub.execute_input": "2021-05-27T10:52:12.647689Z",
     "iopub.status.busy": "2021-05-27T10:52:12.647465Z",
     "iopub.status.idle": "2021-05-27T10:52:12.712796Z",
     "shell.execute_reply": "2021-05-27T10:52:12.712338Z",
     "shell.execute_reply.started": "2021-05-27T10:52:12.647665Z"
    },
    "tags": []
   },
   "outputs": [
    {
     "data": {
      "image/png": "[encoded data removed]",
      "text/plain": [
       "<Figure size 432x288 with 1 Axes>"
      ]
     },
     "metadata": {
      "needs_background": "light"
     },
     "output_type": "display_data"
    }
   ],
   "source": [
    "num_bins = max(results) - min(results)\n",
    "plt.hist(results, num_bins);"
   ]
  },
  {
   "cell_type": "code",
   "execution_count": null,
   "metadata": {},
   "outputs": [],
   "source": []
  }
 ],
 "metadata": {
  "kernelspec": {
   "display_name": "Python 3",
   "language": "python",
   "name": "python3"
  },
  "language_info": {
   "codemirror_mode": {
    "name": "ipython",
    "version": 3
   },
   "file_extension": ".py",
   "mimetype": "text/x-python",
   "name": "python",
   "nbconvert_exporter": "python",
   "pygments_lexer": "ipython3",
   "version": "3.8.5"
  }
 },
 "nbformat": 4,
 "nbformat_minor": 5
}
