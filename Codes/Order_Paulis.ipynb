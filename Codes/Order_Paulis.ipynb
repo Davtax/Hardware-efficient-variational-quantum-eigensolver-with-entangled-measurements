{
 "cells": [
  {
   "cell_type": "code",
   "execution_count": 1,
   "id": "d5d71103-9b65-4c55-a8ab-e283c93d9669",
   "metadata": {
    "execution": {
     "iopub.execute_input": "2021-05-27T12:36:11.790905Z",
     "iopub.status.busy": "2021-05-27T12:36:11.790674Z",
     "iopub.status.idle": "2021-05-27T12:36:12.406813Z",
     "shell.execute_reply": "2021-05-27T12:36:12.406388Z",
     "shell.execute_reply.started": "2021-05-27T12:36:11.790836Z"
    },
    "tags": []
   },
   "outputs": [],
   "source": [
    "import numpy as np\n",
    "from itertools import product, permutations\n",
    "from tqdm.notebook import tqdm\n",
    "from multiprocessing import Pool\n",
    "from GroupingAlgorithms import grouping\n",
    "import matplotlib.pyplot as plt\n",
    "\n",
    "import warnings\n",
    "warnings.simplefilter(action='ignore', category=FutureWarning)"
   ]
  },
  {
   "cell_type": "code",
   "execution_count": 50,
   "id": "d10282ad-81db-4348-b1c9-87fe3b0a3121",
   "metadata": {
    "execution": {
     "iopub.execute_input": "2021-05-27T12:49:33.363416Z",
     "iopub.status.busy": "2021-05-27T12:49:33.363203Z",
     "iopub.status.idle": "2021-05-27T12:49:33.370726Z",
     "shell.execute_reply": "2021-05-27T12:49:33.370272Z",
     "shell.execute_reply.started": "2021-05-27T12:49:33.363392Z"
    },
    "tags": []
   },
   "outputs": [],
   "source": [
    "def sort_solution(data):\n",
    "    \"\"\"\n",
    "    Function to sort the data obtained for a parallel computation\n",
    "    :param data: (list) List in which each entry represents one solution of the parallel computation. The elements are\n",
    "    also list which contains in the first element the index and in the second one the result of the computation.\n",
    "    :return: (list) List with the data sorted\n",
    "    \"\"\"\n",
    "    n = len(data)  # Extract the number of computations done\n",
    "    sorted_sol = [None] * n  # Empty list with the correct number of elements\n",
    "    for i in range(n):  # Iterate over all the elements\n",
    "        index = data[i][0]  # Obtain the index of the result\n",
    "        temp = data[i][1]  # Obtain the result\n",
    "        sorted_sol[index] = temp  # Save the result in the correct element\n",
    "        \n",
    "    return sorted_sol\n",
    "    \n",
    "def unpack_functions(pack):\n",
    "    if len(pack) < 4:\n",
    "        pack.append({})\n",
    "    return [pack[0], pack[1](*pack[2], **pack[3])]\n",
    "    \n",
    "def n_groups(seed, basis=[4, 6, 7, 8, 9, 5, 1, 2, 3], random_order=True):\n",
    "    if random_order:\n",
    "        np.random.seed(seed)\n",
    "        np.random.shuffle(order)       \n",
    "        Groups, _ = grouping(PS[order], basis, WC)\n",
    "        return len(Groups), order\n",
    "    else:\n",
    "        Groups, _ = grouping(PS, basis, WC)\n",
    "        return len(Groups)"
   ]
  },
  {
   "cell_type": "code",
   "execution_count": 51,
   "id": "55689089-9e6f-4986-84fd-6cae94ffe1c4",
   "metadata": {
    "execution": {
     "iopub.execute_input": "2021-05-27T12:49:36.130906Z",
     "iopub.status.busy": "2021-05-27T12:49:36.130681Z",
     "iopub.status.idle": "2021-05-27T12:49:36.135109Z",
     "shell.execute_reply": "2021-05-27T12:49:36.134586Z",
     "shell.execute_reply.started": "2021-05-27T12:49:36.130881Z"
    },
    "tags": []
   },
   "outputs": [],
   "source": [
    "num_qubits = 4\n",
    "WC = list(range(num_qubits))\n",
    "WC = list(permutations(list(range(num_qubits)), 2))\n",
    "\n",
    "PS = np.array(list(product([0, 1, 2, 3], repeat=num_qubits)))\n",
    "order = np.arange(num_qubits ** 4)"
   ]
  },
  {
   "cell_type": "markdown",
   "id": "6fd976f8-f1c5-45d9-b30f-ddae75dff09d",
   "metadata": {},
   "source": [
    "# Order Paulis"
   ]
  },
  {
   "cell_type": "code",
   "execution_count": 52,
   "id": "3e2f4ef3-0e21-4c6f-be91-157cb122f517",
   "metadata": {
    "execution": {
     "iopub.execute_input": "2021-05-27T12:49:36.704271Z",
     "iopub.status.busy": "2021-05-27T12:49:36.704045Z",
     "iopub.status.idle": "2021-05-27T12:49:42.452358Z",
     "shell.execute_reply": "2021-05-27T12:49:42.451818Z",
     "shell.execute_reply.started": "2021-05-27T12:49:36.704246Z"
    },
    "tags": []
   },
   "outputs": [
    {
     "data": {
      "application/vnd.jupyter.widget-view+json": {
       "model_id": "d3a00843d054433fa87399a7c8da45b3",
       "version_major": 2,
       "version_minor": 0
      },
      "text/plain": [
       "  0%|          | 0/100 [00:00<?, ?it/s]"
      ]
     },
     "metadata": {},
     "output_type": "display_data"
    },
    {
     "name": "stdout",
     "output_type": "stream",
     "text": [
      "Minimum number of groups: 39\n",
      "Maximum number of groups: 46\n"
     ]
    }
   ],
   "source": [
    "n = 1000\n",
    "args = []\n",
    "results = []\n",
    "\n",
    "for i in range(n):\n",
    "    args.append([i, n_groups, [i], {'random_order': True}])\n",
    "    \n",
    "pbar = tqdm(total=n)\n",
    "pool = Pool()\n",
    "for i, result in enumerate(pool.imap_unordered(unpack_functions, args, chunksize=1), 1): \n",
    "        results.append(result) # Save the result\n",
    "        pbar.update() #Update the progress bar\n",
    "        \n",
    "pool.terminate()\n",
    "pbar.close()\n",
    "results = sort_solution(results) # Sort the asyn results\n",
    "\n",
    "groups = []\n",
    "orders = []\n",
    "for temp in results:\n",
    "    groups.append(temp[0])\n",
    "    orders.append(temp[1])\n",
    "    \n",
    "results = None\n",
    "\n",
    "print('Minimum number of groups:', min(groups))\n",
    "print('Maximum number of groups:', max(groups))"
   ]
  },
  {
   "cell_type": "code",
   "execution_count": 53,
   "id": "0127cc07-786c-4e57-ab97-7c3199222d4a",
   "metadata": {
    "execution": {
     "iopub.execute_input": "2021-05-27T12:49:42.453215Z",
     "iopub.status.busy": "2021-05-27T12:49:42.453111Z",
     "iopub.status.idle": "2021-05-27T12:49:42.455608Z",
     "shell.execute_reply": "2021-05-27T12:49:42.455184Z",
     "shell.execute_reply.started": "2021-05-27T12:49:42.453201Z"
    },
    "tags": []
   },
   "outputs": [],
   "source": [
    "pool.terminate()"
   ]
  },
  {
   "cell_type": "code",
   "execution_count": 54,
   "id": "e1929e31-cbcb-45f8-a030-5a0f276e033f",
   "metadata": {
    "execution": {
     "iopub.execute_input": "2021-05-27T12:49:42.456525Z",
     "iopub.status.busy": "2021-05-27T12:49:42.456415Z",
     "iopub.status.idle": "2021-05-27T12:49:42.542707Z",
     "shell.execute_reply": "2021-05-27T12:49:42.542382Z",
     "shell.execute_reply.started": "2021-05-27T12:49:42.456508Z"
    },
    "tags": []
   },
   "outputs": [
    {
     "data": {
      "text/plain": [
       "<matplotlib.collections.LineCollection at 0x7fcda248c550>"
      ]
     },
     "execution_count": 54,
     "metadata": {},
     "output_type": "execute_result"
    },
    {
     "data": {
      "image/png": "[encoded data removed]",
      "text/plain": [
       "<Figure size 432x288 with 1 Axes>"
      ]
     },
     "metadata": {
      "needs_background": "light"
     },
     "output_type": "display_data"
    }
   ],
   "source": [
    "plt.plot(groups, 'o')\n",
    "plt.hlines(min(groups), 0, n, ls='--')\n",
    "plt.hlines(max(groups), 0, n, ls='--')"
   ]
  },
  {
   "cell_type": "code",
   "execution_count": 55,
   "id": "d89c73f0-14df-40b7-ae40-e653bef65c33",
   "metadata": {
    "execution": {
     "iopub.execute_input": "2021-05-27T12:49:46.167804Z",
     "iopub.status.busy": "2021-05-27T12:49:46.167583Z",
     "iopub.status.idle": "2021-05-27T12:49:46.242460Z",
     "shell.execute_reply": "2021-05-27T12:49:46.242134Z",
     "shell.execute_reply.started": "2021-05-27T12:49:46.167780Z"
    },
    "tags": []
   },
   "outputs": [
    {
     "data": {
      "image/png": "[encoded data removed]",
      "text/plain": [
       "<Figure size 432x288 with 1 Axes>"
      ]
     },
     "metadata": {
      "needs_background": "light"
     },
     "output_type": "display_data"
    }
   ],
   "source": [
    "num_bins = max(groups) - min(groups)\n",
    "plt.hist(groups, num_bins);"
   ]
  },
  {
   "cell_type": "markdown",
   "id": "5c29802a-048a-4889-9f35-feb33fa0a4ea",
   "metadata": {},
   "source": [
    "# Order basis"
   ]
  },
  {
   "cell_type": "code",
   "execution_count": 62,
   "id": "debe80a0-28f7-4f4a-a705-133fa8bb28ad",
   "metadata": {
    "execution": {
     "iopub.execute_input": "2021-05-27T12:52:30.131956Z",
     "iopub.status.busy": "2021-05-27T12:52:30.131705Z",
     "iopub.status.idle": "2021-05-27T12:53:19.689615Z",
     "shell.execute_reply": "2021-05-27T12:53:19.689287Z",
     "shell.execute_reply.started": "2021-05-27T12:52:30.131928Z"
    },
    "tags": []
   },
   "outputs": [
    {
     "data": {
      "application/vnd.jupyter.widget-view+json": {
       "model_id": "241dd05e7f4f4038a014fa507a1b275c",
       "version_major": 2,
       "version_minor": 0
      },
      "text/plain": [
       "  0%|          | 0/1000 [00:00<?, ?it/s]"
      ]
     },
     "metadata": {},
     "output_type": "display_data"
    },
    {
     "name": "stdout",
     "output_type": "stream",
     "text": [
      "Minimum number of groups: 40\n",
      "Maximum number of groups: 45\n"
     ]
    }
   ],
   "source": [
    "order = orders[np.argmin(groups)]\n",
    "PS = np.array(list(product([0, 1, 2, 3], repeat=num_qubits)))[order]\n",
    "\n",
    "groups_basis = list(permutations([1, 2, 3, 4, 5, 6, 7, 8, 9], 9))[43028: 44028]\n",
    "n = len(groups_basis)\n",
    "args = []\n",
    "results = []\n",
    "\n",
    "for i in range(n):\n",
    "    args.append([i, n_groups, [i], {'random_order': False, 'basis': groups_basis[i]}])\n",
    "    \n",
    "pbar = tqdm(total=n)\n",
    "pool = Pool()\n",
    "for i, result in enumerate(pool.imap_unordered(unpack_functions, args, chunksize=1), 1): \n",
    "        results.append(result) # Save the result\n",
    "        pbar.update() #Update the progress bar\n",
    "        \n",
    "pool.terminate()\n",
    "pbar.close()\n",
    "results = np.array(sort_solution(results)) # Sort the asyn results\n",
    "\n",
    "print('Minimum number of groups:', min(results))\n",
    "print('Maximum number of groups:', max(results))"
   ]
  },
  {
   "cell_type": "code",
   "execution_count": 63,
   "id": "517bddc2-38a3-4042-acb3-aad87807278b",
   "metadata": {
    "execution": {
     "iopub.execute_input": "2021-05-27T12:53:19.690366Z",
     "iopub.status.busy": "2021-05-27T12:53:19.690262Z",
     "iopub.status.idle": "2021-05-27T12:53:19.692351Z",
     "shell.execute_reply": "2021-05-27T12:53:19.692029Z",
     "shell.execute_reply.started": "2021-05-27T12:53:19.690352Z"
    },
    "tags": []
   },
   "outputs": [],
   "source": [
    "pool.terminate()"
   ]
  },
  {
   "cell_type": "code",
   "execution_count": 64,
   "id": "800d0702-0a4b-4aa7-8691-eba6312a5873",
   "metadata": {
    "execution": {
     "iopub.execute_input": "2021-05-27T12:53:19.693199Z",
     "iopub.status.busy": "2021-05-27T12:53:19.693093Z",
     "iopub.status.idle": "2021-05-27T12:53:19.771583Z",
     "shell.execute_reply": "2021-05-27T12:53:19.771249Z",
     "shell.execute_reply.started": "2021-05-27T12:53:19.693186Z"
    },
    "tags": []
   },
   "outputs": [
    {
     "data": {
      "text/plain": [
       "<matplotlib.collections.LineCollection at 0x7fcd1fb84c10>"
      ]
     },
     "execution_count": 64,
     "metadata": {},
     "output_type": "execute_result"
    },
    {
     "data": {
      "image/png": "[encoded data removed]",
      "text/plain": [
       "<Figure size 432x288 with 1 Axes>"
      ]
     },
     "metadata": {
      "needs_background": "light"
     },
     "output_type": "display_data"
    }
   ],
   "source": [
    "plt.plot(results, 'o')\n",
    "plt.hlines(min(results), 0, n, ls='--')\n",
    "plt.hlines(max(results), 0, n, ls='--')"
   ]
  },
  {
   "cell_type": "code",
   "execution_count": 67,
   "id": "7fa31aee-68a5-47b0-9c3f-14bbd09c5b87",
   "metadata": {
    "execution": {
     "iopub.execute_input": "2021-05-27T12:53:47.137295Z",
     "iopub.status.busy": "2021-05-27T12:53:47.137054Z",
     "iopub.status.idle": "2021-05-27T12:53:47.202575Z",
     "shell.execute_reply": "2021-05-27T12:53:47.202286Z",
     "shell.execute_reply.started": "2021-05-27T12:53:47.137268Z"
    },
    "tags": []
   },
   "outputs": [
    {
     "data": {
      "image/png": "[encoded data removed]",
      "text/plain": [
       "<Figure size 432x288 with 1 Axes>"
      ]
     },
     "metadata": {
      "needs_background": "light"
     },
     "output_type": "display_data"
    }
   ],
   "source": [
    "num_bins = max(results) - min(results)\n",
    "plt.hist(results, num_bins);"
   ]
  },
  {
   "cell_type": "code",
   "execution_count": 68,
   "id": "602b7665-44ee-4be8-95f1-a270f5cfe7cc",
   "metadata": {
    "execution": {
     "iopub.execute_input": "2021-05-27T12:53:48.928601Z",
     "iopub.status.busy": "2021-05-27T12:53:48.928377Z",
     "iopub.status.idle": "2021-05-27T12:53:48.940015Z",
     "shell.execute_reply": "2021-05-27T12:53:48.939600Z",
     "shell.execute_reply.started": "2021-05-27T12:53:48.928577Z"
    },
    "tags": []
   },
   "outputs": [
    {
     "name": "stdout",
     "output_type": "stream",
     "text": [
      "The best orderings are:\n",
      "(2, 1, 6, 8, 5, 9, 7, 3, 4)\n",
      "(2, 1, 6, 8, 5, 9, 7, 3, 4)\n",
      "(2, 1, 6, 8, 5, 9, 7, 3, 4)\n",
      "(2, 1, 6, 8, 5, 9, 7, 3, 4)\n",
      "(2, 1, 6, 8, 5, 9, 7, 3, 4)\n",
      "(2, 1, 6, 8, 5, 9, 7, 3, 4)\n",
      "(2, 1, 6, 8, 5, 9, 7, 3, 4)\n",
      "(2, 1, 6, 8, 5, 9, 7, 3, 4)\n",
      "(2, 1, 6, 8, 5, 9, 7, 3, 4)\n",
      "(2, 1, 6, 8, 5, 9, 7, 3, 4)\n",
      "(2, 1, 6, 8, 5, 9, 7, 3, 4)\n",
      "(2, 1, 6, 8, 5, 9, 7, 3, 4)\n",
      "(2, 1, 6, 8, 5, 9, 7, 3, 4)\n",
      "(2, 1, 6, 8, 5, 9, 7, 3, 4)\n",
      "(2, 1, 6, 8, 5, 9, 7, 3, 4)\n",
      "(2, 1, 6, 8, 5, 9, 7, 3, 4)\n",
      "(2, 1, 6, 8, 5, 9, 7, 3, 4)\n",
      "(2, 1, 6, 8, 5, 9, 7, 3, 4)\n",
      "(2, 1, 6, 8, 5, 9, 7, 3, 4)\n",
      "(2, 1, 6, 8, 5, 9, 7, 3, 4)\n",
      "(2, 1, 6, 8, 5, 9, 7, 3, 4)\n",
      "(2, 1, 6, 8, 5, 9, 7, 3, 4)\n",
      "(2, 1, 6, 8, 5, 9, 7, 3, 4)\n",
      "(2, 1, 6, 8, 5, 9, 7, 3, 4)\n",
      "(2, 1, 6, 8, 5, 9, 7, 3, 4)\n",
      "(2, 1, 6, 8, 5, 9, 7, 3, 4)\n",
      "(2, 1, 6, 8, 5, 9, 7, 3, 4)\n",
      "(2, 1, 6, 8, 5, 9, 7, 3, 4)\n",
      "(2, 1, 6, 8, 5, 9, 7, 3, 4)\n",
      "(2, 1, 6, 8, 5, 9, 7, 3, 4)\n",
      "(2, 1, 6, 8, 5, 9, 7, 3, 4)\n",
      "(2, 1, 6, 8, 5, 9, 7, 3, 4)\n",
      "(2, 1, 6, 8, 5, 9, 7, 3, 4)\n",
      "(2, 1, 6, 8, 5, 9, 7, 3, 4)\n",
      "(2, 1, 6, 8, 5, 9, 7, 3, 4)\n",
      "(2, 1, 6, 8, 5, 9, 7, 3, 4)\n",
      "(2, 1, 6, 8, 5, 9, 7, 3, 4)\n",
      "(2, 1, 6, 8, 5, 9, 7, 3, 4)\n",
      "(2, 1, 6, 8, 5, 9, 7, 3, 4)\n",
      "(2, 1, 6, 8, 5, 9, 7, 3, 4)\n",
      "(2, 1, 6, 8, 5, 9, 7, 3, 4)\n",
      "(2, 1, 6, 8, 5, 9, 7, 3, 4)\n",
      "(2, 1, 6, 8, 5, 9, 7, 3, 4)\n",
      "(2, 1, 6, 8, 5, 9, 7, 3, 4)\n",
      "(2, 1, 6, 8, 5, 9, 7, 3, 4)\n",
      "(2, 1, 6, 8, 5, 9, 7, 3, 4)\n",
      "(2, 1, 6, 8, 5, 9, 7, 3, 4)\n",
      "(2, 1, 6, 8, 5, 9, 7, 3, 4)\n",
      "(2, 1, 6, 8, 5, 9, 7, 3, 4)\n",
      "(2, 1, 6, 8, 5, 9, 7, 3, 4)\n",
      "(2, 1, 6, 8, 5, 9, 7, 3, 4)\n",
      "(2, 1, 6, 8, 5, 9, 7, 3, 4)\n",
      "(2, 1, 6, 8, 5, 9, 7, 3, 4)\n",
      "(2, 1, 6, 8, 5, 9, 7, 3, 4)\n",
      "(2, 1, 6, 8, 5, 9, 7, 3, 4)\n",
      "(2, 1, 6, 8, 5, 9, 7, 3, 4)\n",
      "(2, 1, 6, 8, 5, 9, 7, 3, 4)\n",
      "(2, 1, 6, 8, 5, 9, 7, 3, 4)\n",
      "(2, 1, 6, 8, 5, 9, 7, 3, 4)\n",
      "(2, 1, 6, 8, 5, 9, 7, 3, 4)\n",
      "(2, 1, 6, 8, 5, 9, 7, 3, 4)\n",
      "(2, 1, 6, 8, 5, 9, 7, 3, 4)\n",
      "(2, 1, 6, 8, 5, 9, 7, 3, 4)\n",
      "(2, 1, 6, 8, 5, 9, 7, 3, 4)\n",
      "(2, 1, 6, 8, 5, 9, 7, 3, 4)\n",
      "(2, 1, 6, 8, 5, 9, 7, 3, 4)\n",
      "(2, 1, 6, 8, 5, 9, 7, 3, 4)\n",
      "(2, 1, 6, 8, 5, 9, 7, 3, 4)\n",
      "(2, 1, 6, 8, 5, 9, 7, 3, 4)\n",
      "(2, 1, 6, 8, 5, 9, 7, 3, 4)\n",
      "(2, 1, 6, 8, 5, 9, 7, 3, 4)\n",
      "(2, 1, 6, 8, 5, 9, 7, 3, 4)\n",
      "(2, 1, 6, 8, 5, 9, 7, 3, 4)\n",
      "(2, 1, 6, 8, 5, 9, 7, 3, 4)\n",
      "(2, 1, 6, 8, 5, 9, 7, 3, 4)\n",
      "(2, 1, 6, 8, 5, 9, 7, 3, 4)\n",
      "(2, 1, 6, 8, 5, 9, 7, 3, 4)\n",
      "(2, 1, 6, 8, 5, 9, 7, 3, 4)\n",
      "(2, 1, 6, 8, 5, 9, 7, 3, 4)\n",
      "(2, 1, 6, 8, 5, 9, 7, 3, 4)\n",
      "(2, 1, 6, 8, 5, 9, 7, 3, 4)\n",
      "(2, 1, 6, 8, 5, 9, 7, 3, 4)\n",
      "(2, 1, 6, 8, 5, 9, 7, 3, 4)\n",
      "(2, 1, 6, 8, 5, 9, 7, 3, 4)\n",
      "(2, 1, 6, 8, 5, 9, 7, 3, 4)\n",
      "(2, 1, 6, 8, 5, 9, 7, 3, 4)\n",
      "(2, 1, 6, 8, 5, 9, 7, 3, 4)\n",
      "(2, 1, 6, 8, 5, 9, 7, 3, 4)\n",
      "(2, 1, 6, 8, 5, 9, 7, 3, 4)\n",
      "(2, 1, 6, 8, 5, 9, 7, 3, 4)\n",
      "(2, 1, 6, 8, 5, 9, 7, 3, 4)\n",
      "(2, 1, 6, 8, 5, 9, 7, 3, 4)\n",
      "(2, 1, 6, 8, 5, 9, 7, 3, 4)\n",
      "(2, 1, 6, 8, 5, 9, 7, 3, 4)\n",
      "(2, 1, 6, 8, 5, 9, 7, 3, 4)\n",
      "(2, 1, 6, 8, 5, 9, 7, 3, 4)\n",
      "(2, 1, 6, 8, 5, 9, 7, 3, 4)\n",
      "(2, 1, 6, 8, 5, 9, 7, 3, 4)\n",
      "(2, 1, 6, 8, 5, 9, 7, 3, 4)\n",
      "(2, 1, 6, 8, 5, 9, 7, 3, 4)\n",
      "(2, 1, 6, 8, 5, 9, 7, 3, 4)\n",
      "(2, 1, 6, 8, 5, 9, 7, 3, 4)\n",
      "(2, 1, 6, 8, 5, 9, 7, 3, 4)\n",
      "(2, 1, 6, 8, 5, 9, 7, 3, 4)\n",
      "(2, 1, 6, 8, 5, 9, 7, 3, 4)\n",
      "(2, 1, 6, 8, 5, 9, 7, 3, 4)\n",
      "(2, 1, 6, 8, 5, 9, 7, 3, 4)\n",
      "(2, 1, 6, 8, 5, 9, 7, 3, 4)\n",
      "(2, 1, 6, 8, 5, 9, 7, 3, 4)\n",
      "(2, 1, 6, 8, 5, 9, 7, 3, 4)\n"
     ]
    }
   ],
   "source": [
    "index_min = np.argmin(results)\n",
    "print('The best orderings are:')\n",
    "for i in range(n):\n",
    "    if results[index_min] == results[i]:\n",
    "        print(groups_basis[index_min])"
   ]
  },
  {
   "cell_type": "code",
   "execution_count": null,
   "id": "eea5d5a5-c27c-4655-80bb-6a5b588ae06b",
   "metadata": {},
   "outputs": [],
   "source": []
  }
 ],
 "metadata": {
  "kernelspec": {
   "display_name": "Python 3",
   "language": "python",
   "name": "python3"
  },
  "language_info": {
   "codemirror_mode": {
    "name": "ipython",
    "version": 3
   },
   "file_extension": ".py",
   "mimetype": "text/x-python",
   "name": "python",
   "nbconvert_exporter": "python",
   "pygments_lexer": "ipython3",
   "version": "3.8.8"
  }
 },
 "nbformat": 4,
 "nbformat_minor": 5
}
