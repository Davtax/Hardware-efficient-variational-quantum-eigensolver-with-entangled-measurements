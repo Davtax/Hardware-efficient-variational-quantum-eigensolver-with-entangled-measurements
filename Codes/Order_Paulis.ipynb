{
 "cells": [
  {
   "cell_type": "code",
   "execution_count": 18,
   "metadata": {
    "tags": []
   },
   "outputs": [],
   "source": [
    "import numpy as np\n",
    "from itertools import product, permutations\n",
    "from tqdm.notebook import tqdm\n",
    "from multiprocessing import Pool\n",
    "from GroupingAlgorithms import grouping\n",
    "import matplotlib.pyplot as plt\n",
    "from math import factorial\n",
    "import time\n",
    "import warnings\n",
    "warnings.simplefilter(action='ignore', category=FutureWarning)"
   ]
  },
  {
   "cell_type": "code",
   "execution_count": 19,
   "metadata": {
    "tags": []
   },
   "outputs": [],
   "source": [
    "def sort_solution(data):\n",
    "    \"\"\"\n",
    "    Function to sort the data obtained for a parallel computation\n",
    "    :param data: (list) List in which each entry represents one solution of the parallel computation. The elements are\n",
    "    also list which contains in the first element the index and in the second one the result of the computation.\n",
    "    :return: (list) List with the data sorted\n",
    "    \"\"\"\n",
    "    n = len(data)  # Extract the number of computations done\n",
    "    sorted_sol = [None] * n  # Empty list with the correct number of elements\n",
    "    for i in range(n):  # Iterate over all the elements\n",
    "        index = data[i][0]  # Obtain the index of the result\n",
    "        temp = data[i][1]  # Obtain the result\n",
    "        sorted_sol[index] = temp  # Save the result in the correct element\n",
    "        \n",
    "    if type(sorted_sol[0]) == list or type(sorted_sol[0]) == tuple:\n",
    "        return sorted_sol\n",
    "    else:\n",
    "        return np.array(sorted_sol)\n",
    "    \n",
    "def unpack_functions(pack):\n",
    "    if len(pack) < 4:\n",
    "        pack.append({})\n",
    "    return [pack[0], pack[1](*pack[2], **pack[3])]\n",
    "    \n",
    "def n_groups(seed):\n",
    "    np.random.seed(seed)\n",
    "    np.random.shuffle(order)\n",
    "    Groups, _ = grouping(PS[order],[9,8,7,6,5,4,3,2,1],WC)\n",
    "    return len(Groups)"
   ]
  },
  {
   "cell_type": "code",
   "execution_count": 20,
   "metadata": {
    "tags": []
   },
   "outputs": [],
   "source": [
    "num_qubits = 4\n",
    "WC=list(range(num_qubits))\n",
    "WC=list(permutations(list(range(num_qubits)),2))\n",
    "\n",
    "PS = np.array(list(product([0,1,2,3],repeat=num_qubits)))\n",
    "order = np.arange(num_qubits ** 4)"
   ]
  },
  {
   "cell_type": "code",
   "execution_count": 25,
   "metadata": {
    "tags": []
   },
   "outputs": [
    {
     "data": {
      "application/vnd.jupyter.widget-view+json": {
       "model_id": "66ca15e27b014722828cdc1dceb37079",
       "version_major": 2,
       "version_minor": 0
      },
      "text/plain": [
       "HBox(children=(HTML(value=''), FloatProgress(value=0.0), HTML(value='')))"
      ]
     },
     "metadata": {},
     "output_type": "display_data"
    },
    {
     "name": "stdout",
     "output_type": "stream",
     "text": [
      "\n",
      "5.413525819778442\n",
      "Minimum number of groups: 38\n",
      "Maximum number of groups: 46\n"
     ]
    }
   ],
   "source": [
    "n = 100\n",
    "args = []\n",
    "results = []\n",
    "start=time.time()\n",
    "\n",
    "for i in range(n):\n",
    "    args.append([i, n_groups, [i]])\n",
    "    \n",
    "pbar = tqdm(total=n)\n",
    "pool = Pool()\n",
    "for i, result in enumerate(pool.imap_unordered(unpack_functions, args, chunksize=1), 1): \n",
    "        results.append(result) # Save the result\n",
    "        pbar.update() #Update the progress bar\n",
    "        \n",
    "pool.terminate()\n",
    "pbar.close()\n",
    "results = np.array(sort_solution(results)) # Sort the asyn results\n",
    "print(time.time()-start)\n",
    "print('Minimum number of groups:', min(results))\n",
    "print('Maximum number of groups:', max(results))"
   ]
  },
  {
   "cell_type": "code",
   "execution_count": 26,
   "metadata": {
    "tags": []
   },
   "outputs": [],
   "source": [
    "pool.terminate()"
   ]
  },
  {
   "cell_type": "code",
   "execution_count": 27,
   "metadata": {
    "tags": []
   },
   "outputs": [
    {
     "data": {
      "text/plain": [
       "<matplotlib.collections.LineCollection at 0x7f1b1c5c58b0>"
      ]
     },
     "execution_count": 27,
     "metadata": {},
     "output_type": "execute_result"
    },
    {
     "data": {
      "image/png": "[encoded data removed]",
      "text/plain": [
       "<Figure size 432x288 with 1 Axes>"
      ]
     },
     "metadata": {
      "needs_background": "light"
     },
     "output_type": "display_data"
    }
   ],
   "source": [
    "plt.plot(results, 'o')\n",
    "plt.hlines(min(results), 0, n, ls='--')\n",
    "plt.hlines(max(results), 0, n, ls='--')"
   ]
  },
  {
   "cell_type": "code",
   "execution_count": 28,
   "metadata": {
    "tags": []
   },
   "outputs": [
    {
     "data": {
      "image/png": "[encoded data removed]",
      "text/plain": [
       "<Figure size 432x288 with 1 Axes>"
      ]
     },
     "metadata": {
      "needs_background": "light"
     },
     "output_type": "display_data"
    }
   ],
   "source": [
    "num_bins = max(results) - min(results)\n",
    "plt.hist(results, num_bins);"
   ]
  },
  {
   "cell_type": "code",
   "execution_count": null,
   "metadata": {},
   "outputs": [],
   "source": []
  }
 ],
 "metadata": {
  "kernelspec": {
   "display_name": "Python 3",
   "language": "python",
   "name": "python3"
  },
  "language_info": {
   "codemirror_mode": {
    "name": "ipython",
    "version": 3
   },
   "file_extension": ".py",
   "mimetype": "text/x-python",
   "name": "python",
   "nbconvert_exporter": "python",
   "pygments_lexer": "ipython3",
   "version": "3.8.5"
  }
 },
 "nbformat": 4,
 "nbformat_minor": 5
}
