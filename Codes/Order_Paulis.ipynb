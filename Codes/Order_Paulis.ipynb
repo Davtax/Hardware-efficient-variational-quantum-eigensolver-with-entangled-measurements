{
 "cells": [
  {
   "cell_type": "code",
<<<<<<< HEAD
   "execution_count": 18,
   "metadata": {
=======
   "execution_count": 20,
   "id": "d5d71103-9b65-4c55-a8ab-e283c93d9669",
   "metadata": {
    "execution": {
     "iopub.execute_input": "2021-05-27T11:14:52.659442Z",
     "iopub.status.busy": "2021-05-27T11:14:52.659228Z",
     "iopub.status.idle": "2021-05-27T11:14:52.663272Z",
     "shell.execute_reply": "2021-05-27T11:14:52.662652Z",
     "shell.execute_reply.started": "2021-05-27T11:14:52.659418Z"
    },
>>>>>>> e46c57e93b67f88c7668ce5c99f12e7de33dcdaa
    "tags": []
   },
   "outputs": [],
   "source": [
    "import numpy as np\n",
    "from itertools import product, permutations\n",
    "from tqdm.notebook import tqdm\n",
    "from multiprocessing import Pool\n",
    "from GroupingAlgorithms import grouping\n",
    "import matplotlib.pyplot as plt\n",
<<<<<<< HEAD
    "from math import factorial\n",
    "import time\n",
=======
    "\n",
>>>>>>> e46c57e93b67f88c7668ce5c99f12e7de33dcdaa
    "import warnings\n",
    "warnings.simplefilter(action='ignore', category=FutureWarning)"
   ]
  },
  {
   "cell_type": "code",
<<<<<<< HEAD
   "execution_count": 19,
   "metadata": {
=======
   "execution_count": 21,
   "id": "d10282ad-81db-4348-b1c9-87fe3b0a3121",
   "metadata": {
    "execution": {
     "iopub.execute_input": "2021-05-27T11:14:52.815365Z",
     "iopub.status.busy": "2021-05-27T11:14:52.815159Z",
     "iopub.status.idle": "2021-05-27T11:14:52.822579Z",
     "shell.execute_reply": "2021-05-27T11:14:52.821920Z",
     "shell.execute_reply.started": "2021-05-27T11:14:52.815341Z"
    },
>>>>>>> e46c57e93b67f88c7668ce5c99f12e7de33dcdaa
    "tags": []
   },
   "outputs": [],
   "source": [
    "def sort_solution(data):\n",
    "    \"\"\"\n",
    "    Function to sort the data obtained for a parallel computation\n",
    "    :param data: (list) List in which each entry represents one solution of the parallel computation. The elements are\n",
    "    also list which contains in the first element the index and in the second one the result of the computation.\n",
    "    :return: (list) List with the data sorted\n",
    "    \"\"\"\n",
    "    n = len(data)  # Extract the number of computations done\n",
    "    sorted_sol = [None] * n  # Empty list with the correct number of elements\n",
    "    for i in range(n):  # Iterate over all the elements\n",
    "        index = data[i][0]  # Obtain the index of the result\n",
    "        temp = data[i][1]  # Obtain the result\n",
    "        sorted_sol[index] = temp  # Save the result in the correct element\n",
    "        \n",
    "    if type(sorted_sol[0]) == list or type(sorted_sol[0]) == tuple:\n",
    "        return sorted_sol\n",
    "    else:\n",
    "        return np.array(sorted_sol)\n",
    "    \n",
    "def unpack_functions(pack):\n",
    "    if len(pack) < 4:\n",
    "        pack.append({})\n",
    "    return [pack[0], pack[1](*pack[2], **pack[3])]\n",
    "    \n",
    "def n_groups(seed):\n",
    "    np.random.seed(seed)\n",
    "    np.random.shuffle(order)\n",
    "    Groups, _ = grouping(PS[order], [9, 8, 7, 6, 5, 4, 3, 2, 1], WC)\n",
    "    return len(Groups)\n",
    "\n",
    "def n_groups_basis(basis):\n",
    "    Groups, _ = grouping(PS, basis, WC)\n",
    "    return len(Groups)"
   ]
  },
  {
   "cell_type": "code",
<<<<<<< HEAD
   "execution_count": 20,
   "metadata": {
=======
   "execution_count": 22,
   "id": "55689089-9e6f-4986-84fd-6cae94ffe1c4",
   "metadata": {
    "execution": {
     "iopub.execute_input": "2021-05-27T11:15:05.392877Z",
     "iopub.status.busy": "2021-05-27T11:15:05.392662Z",
     "iopub.status.idle": "2021-05-27T11:15:05.396939Z",
     "shell.execute_reply": "2021-05-27T11:15:05.396392Z",
     "shell.execute_reply.started": "2021-05-27T11:15:05.392854Z"
    },
>>>>>>> e46c57e93b67f88c7668ce5c99f12e7de33dcdaa
    "tags": []
   },
   "outputs": [],
   "source": [
    "num_qubits = 4\n",
    "WC = list(range(num_qubits))\n",
    "WC = list(permutations(list(range(num_qubits)), 2))\n",
    "\n",
    "PS = np.array(list(product([0, 1, 2, 3], repeat=num_qubits)))\n",
    "order = np.arange(num_qubits ** 4)"
   ]
  },
  {
   "cell_type": "markdown",
   "id": "6fd976f8-f1c5-45d9-b30f-ddae75dff09d",
   "metadata": {},
   "source": [
    "# Order Paulis"
   ]
  },
  {
   "cell_type": "code",
<<<<<<< HEAD
   "execution_count": 25,
   "metadata": {
=======
   "execution_count": 4,
   "id": "3e2f4ef3-0e21-4c6f-be91-157cb122f517",
   "metadata": {
    "execution": {
     "iopub.execute_input": "2021-05-27T11:00:37.362607Z",
     "iopub.status.busy": "2021-05-27T11:00:37.362388Z",
     "iopub.status.idle": "2021-05-27T11:08:44.086787Z",
     "shell.execute_reply": "2021-05-27T11:08:44.086447Z",
     "shell.execute_reply.started": "2021-05-27T11:00:37.362582Z"
    },
>>>>>>> e46c57e93b67f88c7668ce5c99f12e7de33dcdaa
    "tags": []
   },
   "outputs": [
    {
     "data": {
      "application/vnd.jupyter.widget-view+json": {
<<<<<<< HEAD
       "model_id": "66ca15e27b014722828cdc1dceb37079",
=======
       "model_id": "b950b7566548486c860798933fe7929b",
>>>>>>> e46c57e93b67f88c7668ce5c99f12e7de33dcdaa
       "version_major": 2,
       "version_minor": 0
      },
      "text/plain": [
<<<<<<< HEAD
       "HBox(children=(HTML(value=''), FloatProgress(value=0.0), HTML(value='')))"
=======
       "  0%|          | 0/10000 [00:00<?, ?it/s]"
>>>>>>> e46c57e93b67f88c7668ce5c99f12e7de33dcdaa
      ]
     },
     "metadata": {},
     "output_type": "display_data"
    },
    {
     "name": "stdout",
     "output_type": "stream",
     "text": [
<<<<<<< HEAD
      "\n",
      "5.413525819778442\n",
      "Minimum number of groups: 38\n",
      "Maximum number of groups: 46\n"
=======
      "Minimum number of groups: 36\n",
      "Maximum number of groups: 49\n"
>>>>>>> e46c57e93b67f88c7668ce5c99f12e7de33dcdaa
     ]
    }
   ],
   "source": [
    "n = 10000\n",
    "args = []\n",
    "results = []\n",
    "start=time.time()\n",
    "\n",
    "for i in range(n):\n",
    "    args.append([i, n_groups, [i]])\n",
    "    \n",
    "pbar = tqdm(total=n)\n",
    "pool = Pool()\n",
    "for i, result in enumerate(pool.imap_unordered(unpack_functions, args, chunksize=1), 1): \n",
    "        results.append(result) # Save the result\n",
    "        pbar.update() #Update the progress bar\n",
    "        \n",
    "pool.terminate()\n",
    "pbar.close()\n",
    "results = np.array(sort_solution(results)) # Sort the asyn results\n",
    "print(time.time()-start)\n",
    "print('Minimum number of groups:', min(results))\n",
    "print('Maximum number of groups:', max(results))"
   ]
  },
  {
   "cell_type": "code",
<<<<<<< HEAD
   "execution_count": 26,
   "metadata": {
=======
   "execution_count": 5,
   "id": "0127cc07-786c-4e57-ab97-7c3199222d4a",
   "metadata": {
    "execution": {
     "iopub.execute_input": "2021-05-27T11:08:44.087507Z",
     "iopub.status.busy": "2021-05-27T11:08:44.087405Z",
     "iopub.status.idle": "2021-05-27T11:08:44.089372Z",
     "shell.execute_reply": "2021-05-27T11:08:44.089088Z",
     "shell.execute_reply.started": "2021-05-27T11:08:44.087493Z"
    },
>>>>>>> e46c57e93b67f88c7668ce5c99f12e7de33dcdaa
    "tags": []
   },
   "outputs": [],
   "source": [
    "pool.terminate()"
   ]
  },
  {
   "cell_type": "code",
<<<<<<< HEAD
   "execution_count": 27,
   "metadata": {
=======
   "execution_count": 6,
   "id": "e1929e31-cbcb-45f8-a030-5a0f276e033f",
   "metadata": {
    "execution": {
     "iopub.execute_input": "2021-05-27T11:08:44.090037Z",
     "iopub.status.busy": "2021-05-27T11:08:44.089942Z",
     "iopub.status.idle": "2021-05-27T11:08:44.182439Z",
     "shell.execute_reply": "2021-05-27T11:08:44.182079Z",
     "shell.execute_reply.started": "2021-05-27T11:08:44.090025Z"
    },
>>>>>>> e46c57e93b67f88c7668ce5c99f12e7de33dcdaa
    "tags": []
   },
   "outputs": [
    {
     "data": {
      "text/plain": [
<<<<<<< HEAD
       "<matplotlib.collections.LineCollection at 0x7f1b1c5c58b0>"
      ]
     },
     "execution_count": 27,
=======
       "<matplotlib.collections.LineCollection at 0x7fcec123ab20>"
      ]
     },
     "execution_count": 6,
>>>>>>> e46c57e93b67f88c7668ce5c99f12e7de33dcdaa
     "metadata": {},
     "output_type": "execute_result"
    },
    {
     "data": {
<<<<<<< HEAD
      "image/png": "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\n",
=======
      "image/png": "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\n",
>>>>>>> e46c57e93b67f88c7668ce5c99f12e7de33dcdaa
      "text/plain": [
       "<Figure size 432x288 with 1 Axes>"
      ]
     },
     "metadata": {
      "needs_background": "light"
     },
     "output_type": "display_data"
    }
   ],
   "source": [
    "plt.plot(results, 'o')\n",
    "plt.hlines(min(results), 0, n, ls='--')\n",
    "plt.hlines(max(results), 0, n, ls='--')"
   ]
  },
  {
   "cell_type": "code",
<<<<<<< HEAD
   "execution_count": 28,
   "metadata": {
=======
   "execution_count": 7,
   "id": "d89c73f0-14df-40b7-ae40-e653bef65c33",
   "metadata": {
    "execution": {
     "iopub.execute_input": "2021-05-27T11:08:44.183041Z",
     "iopub.status.busy": "2021-05-27T11:08:44.182948Z",
     "iopub.status.idle": "2021-05-27T11:08:44.251720Z",
     "shell.execute_reply": "2021-05-27T11:08:44.251317Z",
     "shell.execute_reply.started": "2021-05-27T11:08:44.183030Z"
    },
>>>>>>> e46c57e93b67f88c7668ce5c99f12e7de33dcdaa
    "tags": []
   },
   "outputs": [
    {
     "data": {
<<<<<<< HEAD
      "image/png": "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\n",
=======
      "image/png": "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\n",
>>>>>>> e46c57e93b67f88c7668ce5c99f12e7de33dcdaa
      "text/plain": [
       "<Figure size 432x288 with 1 Axes>"
      ]
     },
     "metadata": {
      "needs_background": "light"
     },
     "output_type": "display_data"
    }
   ],
   "source": [
    "num_bins = max(results) - min(results)\n",
    "plt.hist(results, num_bins);"
   ]
  },
  {
   "cell_type": "markdown",
   "id": "5c29802a-048a-4889-9f35-feb33fa0a4ea",
   "metadata": {},
   "source": [
    "# Order basis"
   ]
  },
  {
   "cell_type": "code",
   "execution_count": 23,
   "id": "debe80a0-28f7-4f4a-a705-133fa8bb28ad",
   "metadata": {
    "execution": {
     "iopub.execute_input": "2021-05-27T11:15:39.770359Z",
     "iopub.status.busy": "2021-05-27T11:15:39.770142Z",
     "iopub.status.idle": "2021-05-27T12:06:26.930899Z",
     "shell.execute_reply": "2021-05-27T12:06:26.929784Z",
     "shell.execute_reply.started": "2021-05-27T11:15:39.770334Z"
    },
    "scrolled": true,
    "tags": []
   },
   "outputs": [
    {
     "data": {
      "application/vnd.jupyter.widget-view+json": {
       "model_id": "604bf3ae0a394d768326b761576e723c",
       "version_major": 2,
       "version_minor": 0
      },
      "text/plain": [
       "  0%|          | 0/362880 [00:00<?, ?it/s]"
      ]
     },
     "metadata": {},
     "output_type": "display_data"
    },
    {
     "name": "stderr",
     "output_type": "stream",
     "text": [
      "Process ForkPoolWorker-31:\n",
      "Process ForkPoolWorker-28:\n",
      "Process ForkPoolWorker-40:\n",
      "Process ForkPoolWorker-46:\n",
      "Process ForkPoolWorker-32:\n",
      "Process ForkPoolWorker-38:\n",
      "Process ForkPoolWorker-39:\n",
      "Process ForkPoolWorker-37:\n",
      "Process ForkPoolWorker-48:\n",
      "Process ForkPoolWorker-27:\n",
      "Process ForkPoolWorker-29:\n",
      "Process ForkPoolWorker-35:\n",
      "Process ForkPoolWorker-42:\n",
      "Process ForkPoolWorker-41:\n",
      "Process ForkPoolWorker-30:\n",
      "Process ForkPoolWorker-36:\n"
     ]
    },
    {
     "ename": "KeyboardInterrupt",
     "evalue": "",
     "output_type": "error",
     "traceback": [
      "\u001b[0;31m---------------------------------------------------------------------------\u001b[0m",
      "\u001b[0;31mIndexError\u001b[0m                                Traceback (most recent call last)",
      "\u001b[0;32m~/anaconda3/envs/hackathon/lib/python3.8/multiprocessing/pool.py\u001b[0m in \u001b[0;36mnext\u001b[0;34m(self, timeout)\u001b[0m\n\u001b[1;32m    850\u001b[0m             \u001b[0;32mtry\u001b[0m\u001b[0;34m:\u001b[0m\u001b[0;34m\u001b[0m\u001b[0;34m\u001b[0m\u001b[0m\n\u001b[0;32m--> 851\u001b[0;31m                 \u001b[0mitem\u001b[0m \u001b[0;34m=\u001b[0m \u001b[0mself\u001b[0m\u001b[0;34m.\u001b[0m\u001b[0m_items\u001b[0m\u001b[0;34m.\u001b[0m\u001b[0mpopleft\u001b[0m\u001b[0;34m(\u001b[0m\u001b[0;34m)\u001b[0m\u001b[0;34m\u001b[0m\u001b[0;34m\u001b[0m\u001b[0m\n\u001b[0m\u001b[1;32m    852\u001b[0m             \u001b[0;32mexcept\u001b[0m \u001b[0mIndexError\u001b[0m\u001b[0;34m:\u001b[0m\u001b[0;34m\u001b[0m\u001b[0;34m\u001b[0m\u001b[0m\n",
      "\u001b[0;31mIndexError\u001b[0m: pop from an empty deque",
      "\nDuring handling of the above exception, another exception occurred:\n",
      "\u001b[0;31mKeyboardInterrupt\u001b[0m                         Traceback (most recent call last)",
      "\u001b[0;32m<ipython-input-23-1d0eadf46760>\u001b[0m in \u001b[0;36m<module>\u001b[0;34m\u001b[0m\n\u001b[1;32m      9\u001b[0m \u001b[0mpbar\u001b[0m \u001b[0;34m=\u001b[0m \u001b[0mtqdm\u001b[0m\u001b[0;34m(\u001b[0m\u001b[0mtotal\u001b[0m\u001b[0;34m=\u001b[0m\u001b[0mn\u001b[0m\u001b[0;34m)\u001b[0m\u001b[0;34m\u001b[0m\u001b[0;34m\u001b[0m\u001b[0m\n\u001b[1;32m     10\u001b[0m \u001b[0mpool\u001b[0m \u001b[0;34m=\u001b[0m \u001b[0mPool\u001b[0m\u001b[0;34m(\u001b[0m\u001b[0;34m)\u001b[0m\u001b[0;34m\u001b[0m\u001b[0;34m\u001b[0m\u001b[0m\n\u001b[0;32m---> 11\u001b[0;31m \u001b[0;32mfor\u001b[0m \u001b[0mi\u001b[0m\u001b[0;34m,\u001b[0m \u001b[0mresult\u001b[0m \u001b[0;32min\u001b[0m \u001b[0menumerate\u001b[0m\u001b[0;34m(\u001b[0m\u001b[0mpool\u001b[0m\u001b[0;34m.\u001b[0m\u001b[0mimap_unordered\u001b[0m\u001b[0;34m(\u001b[0m\u001b[0munpack_functions\u001b[0m\u001b[0;34m,\u001b[0m \u001b[0margs\u001b[0m\u001b[0;34m,\u001b[0m \u001b[0mchunksize\u001b[0m\u001b[0;34m=\u001b[0m\u001b[0;36m1\u001b[0m\u001b[0;34m)\u001b[0m\u001b[0;34m,\u001b[0m \u001b[0;36m1\u001b[0m\u001b[0;34m)\u001b[0m\u001b[0;34m:\u001b[0m\u001b[0;34m\u001b[0m\u001b[0;34m\u001b[0m\u001b[0m\n\u001b[0m\u001b[1;32m     12\u001b[0m         \u001b[0mresults\u001b[0m\u001b[0;34m.\u001b[0m\u001b[0mappend\u001b[0m\u001b[0;34m(\u001b[0m\u001b[0mresult\u001b[0m\u001b[0;34m)\u001b[0m \u001b[0;31m# Save the result\u001b[0m\u001b[0;34m\u001b[0m\u001b[0;34m\u001b[0m\u001b[0m\n\u001b[1;32m     13\u001b[0m         \u001b[0mpbar\u001b[0m\u001b[0;34m.\u001b[0m\u001b[0mupdate\u001b[0m\u001b[0;34m(\u001b[0m\u001b[0;34m)\u001b[0m \u001b[0;31m#Update the progress bar\u001b[0m\u001b[0;34m\u001b[0m\u001b[0;34m\u001b[0m\u001b[0m\n",
      "\u001b[0;32m~/anaconda3/envs/hackathon/lib/python3.8/multiprocessing/pool.py\u001b[0m in \u001b[0;36mnext\u001b[0;34m(self, timeout)\u001b[0m\n\u001b[1;32m    854\u001b[0m                     \u001b[0mself\u001b[0m\u001b[0;34m.\u001b[0m\u001b[0m_pool\u001b[0m \u001b[0;34m=\u001b[0m \u001b[0;32mNone\u001b[0m\u001b[0;34m\u001b[0m\u001b[0;34m\u001b[0m\u001b[0m\n\u001b[1;32m    855\u001b[0m                     \u001b[0;32mraise\u001b[0m \u001b[0mStopIteration\u001b[0m \u001b[0;32mfrom\u001b[0m \u001b[0;32mNone\u001b[0m\u001b[0;34m\u001b[0m\u001b[0;34m\u001b[0m\u001b[0m\n\u001b[0;32m--> 856\u001b[0;31m                 \u001b[0mself\u001b[0m\u001b[0;34m.\u001b[0m\u001b[0m_cond\u001b[0m\u001b[0;34m.\u001b[0m\u001b[0mwait\u001b[0m\u001b[0;34m(\u001b[0m\u001b[0mtimeout\u001b[0m\u001b[0;34m)\u001b[0m\u001b[0;34m\u001b[0m\u001b[0;34m\u001b[0m\u001b[0m\n\u001b[0m\u001b[1;32m    857\u001b[0m                 \u001b[0;32mtry\u001b[0m\u001b[0;34m:\u001b[0m\u001b[0;34m\u001b[0m\u001b[0;34m\u001b[0m\u001b[0m\n\u001b[1;32m    858\u001b[0m                     \u001b[0mitem\u001b[0m \u001b[0;34m=\u001b[0m \u001b[0mself\u001b[0m\u001b[0;34m.\u001b[0m\u001b[0m_items\u001b[0m\u001b[0;34m.\u001b[0m\u001b[0mpopleft\u001b[0m\u001b[0;34m(\u001b[0m\u001b[0;34m)\u001b[0m\u001b[0;34m\u001b[0m\u001b[0;34m\u001b[0m\u001b[0m\n",
      "\u001b[0;32m~/anaconda3/envs/hackathon/lib/python3.8/threading.py\u001b[0m in \u001b[0;36mwait\u001b[0;34m(self, timeout)\u001b[0m\n\u001b[1;32m    300\u001b[0m         \u001b[0;32mtry\u001b[0m\u001b[0;34m:\u001b[0m    \u001b[0;31m# restore state no matter what (e.g., KeyboardInterrupt)\u001b[0m\u001b[0;34m\u001b[0m\u001b[0;34m\u001b[0m\u001b[0m\n\u001b[1;32m    301\u001b[0m             \u001b[0;32mif\u001b[0m \u001b[0mtimeout\u001b[0m \u001b[0;32mis\u001b[0m \u001b[0;32mNone\u001b[0m\u001b[0;34m:\u001b[0m\u001b[0;34m\u001b[0m\u001b[0;34m\u001b[0m\u001b[0m\n\u001b[0;32m--> 302\u001b[0;31m                 \u001b[0mwaiter\u001b[0m\u001b[0;34m.\u001b[0m\u001b[0macquire\u001b[0m\u001b[0;34m(\u001b[0m\u001b[0;34m)\u001b[0m\u001b[0;34m\u001b[0m\u001b[0;34m\u001b[0m\u001b[0m\n\u001b[0m\u001b[1;32m    303\u001b[0m                 \u001b[0mgotit\u001b[0m \u001b[0;34m=\u001b[0m \u001b[0;32mTrue\u001b[0m\u001b[0;34m\u001b[0m\u001b[0;34m\u001b[0m\u001b[0m\n\u001b[1;32m    304\u001b[0m             \u001b[0;32melse\u001b[0m\u001b[0;34m:\u001b[0m\u001b[0;34m\u001b[0m\u001b[0;34m\u001b[0m\u001b[0m\n",
      "\u001b[0;31mKeyboardInterrupt\u001b[0m: "
     ]
    },
    {
     "name": "stderr",
     "output_type": "stream",
     "text": [
      "Process ForkPoolWorker-45:\n",
      "Process ForkPoolWorker-44:\n",
      "Process ForkPoolWorker-47:\n",
      "Process ForkPoolWorker-25:\n",
      "Traceback (most recent call last):\n",
      "Traceback (most recent call last):\n",
      "Process ForkPoolWorker-43:\n",
      "Process ForkPoolWorker-26:\n",
      "  File \"/home/david/anaconda3/envs/hackathon/lib/python3.8/multiprocessing/process.py\", line 315, in _bootstrap\n",
      "    self.run()\n",
      "Traceback (most recent call last):\n",
      "Traceback (most recent call last):\n",
      "Traceback (most recent call last):\n",
      "Traceback (most recent call last):\n",
      "  File \"/home/david/anaconda3/envs/hackathon/lib/python3.8/multiprocessing/process.py\", line 315, in _bootstrap\n",
      "    self.run()\n",
      "Traceback (most recent call last):\n",
      "Traceback (most recent call last):\n",
      "Traceback (most recent call last):\n",
      "  File \"/home/david/anaconda3/envs/hackathon/lib/python3.8/multiprocessing/pool.py\", line 125, in worker\n",
      "    result = (True, func(*args, **kwds))\n",
      "Traceback (most recent call last):\n",
      "  File \"<ipython-input-21-51b83dd1471e>\", line 23, in unpack_functions\n",
      "    return [pack[0], pack[1](*pack[2], **pack[3])]\n",
      "Traceback (most recent call last):\n",
      "  File \"/home/david/anaconda3/envs/hackathon/lib/python3.8/multiprocessing/process.py\", line 315, in _bootstrap\n",
      "    self.run()\n",
      "Traceback (most recent call last):\n",
      "Traceback (most recent call last):\n",
      "  File \"/home/david/anaconda3/envs/hackathon/lib/python3.8/multiprocessing/process.py\", line 108, in run\n",
      "    self._target(*self._args, **self._kwargs)\n",
      "Traceback (most recent call last):\n",
      "  File \"/home/david/anaconda3/envs/hackathon/lib/python3.8/multiprocessing/process.py\", line 315, in _bootstrap\n",
      "    self.run()\n",
      "Traceback (most recent call last):\n",
      "Traceback (most recent call last):\n",
      "  File \"/home/david/anaconda3/envs/hackathon/lib/python3.8/site-packages/numpy/core/fromnumeric.py\", line 41, in _wrapit\n",
      "    wrap = obj.__array_wrap__\n",
      "  File \"/home/david/anaconda3/envs/hackathon/lib/python3.8/multiprocessing/process.py\", line 315, in _bootstrap\n",
      "    self.run()\n",
      "Traceback (most recent call last):\n",
      "Traceback (most recent call last):\n",
      "Traceback (most recent call last):\n",
      "  File \"/home/david/anaconda3/envs/hackathon/lib/python3.8/multiprocessing/process.py\", line 108, in run\n",
      "    self._target(*self._args, **self._kwargs)\n",
      "  File \"/home/david/anaconda3/envs/hackathon/lib/python3.8/multiprocessing/process.py\", line 315, in _bootstrap\n",
      "    self.run()\n",
      "  File \"/home/david/anaconda3/envs/hackathon/lib/python3.8/multiprocessing/process.py\", line 315, in _bootstrap\n",
      "    self.run()\n",
      "  File \"/home/david/anaconda3/envs/hackathon/lib/python3.8/multiprocessing/process.py\", line 315, in _bootstrap\n",
      "    self.run()\n",
      "  File \"/home/david/anaconda3/envs/hackathon/lib/python3.8/multiprocessing/process.py\", line 315, in _bootstrap\n",
      "    self.run()\n",
      "  File \"/home/david/anaconda3/envs/hackathon/lib/python3.8/multiprocessing/process.py\", line 108, in run\n",
      "    self._target(*self._args, **self._kwargs)\n",
      "Traceback (most recent call last):\n",
      "  File \"/home/david/anaconda3/envs/hackathon/lib/python3.8/multiprocessing/process.py\", line 315, in _bootstrap\n",
      "    self.run()\n",
      "  File \"/home/david/anaconda3/envs/hackathon/lib/python3.8/multiprocessing/pool.py\", line 125, in worker\n",
      "    result = (True, func(*args, **kwds))\n",
      "  File \"/home/david/anaconda3/envs/hackathon/lib/python3.8/multiprocessing/process.py\", line 315, in _bootstrap\n",
      "    self.run()\n",
      "  File \"/home/david/anaconda3/envs/hackathon/lib/python3.8/multiprocessing/process.py\", line 315, in _bootstrap\n",
      "    self.run()\n",
      "  File \"/home/david/anaconda3/envs/hackathon/lib/python3.8/multiprocessing/process.py\", line 315, in _bootstrap\n",
      "    self.run()\n",
      "  File \"/home/david/anaconda3/envs/hackathon/lib/python3.8/multiprocessing/process.py\", line 315, in _bootstrap\n",
      "    self.run()\n",
      "AttributeError: 'tuple' object has no attribute '__array_wrap__'\n",
      "  File \"/home/david/anaconda3/envs/hackathon/lib/python3.8/multiprocessing/process.py\", line 108, in run\n",
      "    self._target(*self._args, **self._kwargs)\n",
      "  File \"/home/david/anaconda3/envs/hackathon/lib/python3.8/multiprocessing/process.py\", line 315, in _bootstrap\n",
      "    self.run()\n",
      "  File \"/home/david/anaconda3/envs/hackathon/lib/python3.8/multiprocessing/process.py\", line 315, in _bootstrap\n",
      "    self.run()\n",
      "  File \"/home/david/anaconda3/envs/hackathon/lib/python3.8/multiprocessing/process.py\", line 315, in _bootstrap\n",
      "    self.run()\n",
      "  File \"/home/david/anaconda3/envs/hackathon/lib/python3.8/multiprocessing/pool.py\", line 125, in worker\n",
      "    result = (True, func(*args, **kwds))\n",
      "  File \"/home/david/anaconda3/envs/hackathon/lib/python3.8/multiprocessing/process.py\", line 108, in run\n",
      "    self._target(*self._args, **self._kwargs)\n",
      "  File \"/home/david/anaconda3/envs/hackathon/lib/python3.8/multiprocessing/process.py\", line 108, in run\n",
      "    self._target(*self._args, **self._kwargs)\n",
      "  File \"/home/david/anaconda3/envs/hackathon/lib/python3.8/multiprocessing/process.py\", line 108, in run\n",
      "    self._target(*self._args, **self._kwargs)\n",
      "  File \"/home/david/anaconda3/envs/hackathon/lib/python3.8/multiprocessing/process.py\", line 108, in run\n",
      "    self._target(*self._args, **self._kwargs)\n",
      "  File \"/home/david/anaconda3/envs/hackathon/lib/python3.8/multiprocessing/pool.py\", line 125, in worker\n",
      "    result = (True, func(*args, **kwds))\n",
      "  File \"/home/david/anaconda3/envs/hackathon/lib/python3.8/multiprocessing/process.py\", line 315, in _bootstrap\n",
      "    self.run()\n",
      "  File \"/home/david/anaconda3/envs/hackathon/lib/python3.8/multiprocessing/process.py\", line 108, in run\n",
      "    self._target(*self._args, **self._kwargs)\n",
      "  File \"<ipython-input-21-51b83dd1471e>\", line 23, in unpack_functions\n",
      "    return [pack[0], pack[1](*pack[2], **pack[3])]\n",
      "  File \"/home/david/anaconda3/envs/hackathon/lib/python3.8/multiprocessing/process.py\", line 108, in run\n",
      "    self._target(*self._args, **self._kwargs)\n",
      "  File \"/home/david/anaconda3/envs/hackathon/lib/python3.8/multiprocessing/process.py\", line 108, in run\n",
      "    self._target(*self._args, **self._kwargs)\n",
      "  File \"/home/david/anaconda3/envs/hackathon/lib/python3.8/multiprocessing/process.py\", line 108, in run\n",
      "    self._target(*self._args, **self._kwargs)\n",
      "  File \"/home/david/anaconda3/envs/hackathon/lib/python3.8/multiprocessing/process.py\", line 108, in run\n",
      "    self._target(*self._args, **self._kwargs)\n",
      "\n",
      "During handling of the above exception, another exception occurred:\n",
      "\n",
      "  File \"/home/david/anaconda3/envs/hackathon/lib/python3.8/multiprocessing/pool.py\", line 125, in worker\n",
      "    result = (True, func(*args, **kwds))\n",
      "  File \"/home/david/anaconda3/envs/hackathon/lib/python3.8/multiprocessing/process.py\", line 108, in run\n",
      "    self._target(*self._args, **self._kwargs)\n",
      "  File \"/home/david/anaconda3/envs/hackathon/lib/python3.8/multiprocessing/process.py\", line 108, in run\n",
      "    self._target(*self._args, **self._kwargs)\n",
      "  File \"/home/david/anaconda3/envs/hackathon/lib/python3.8/multiprocessing/process.py\", line 108, in run\n",
      "    self._target(*self._args, **self._kwargs)\n",
      "  File \"/home/david/anaconda3/envs/hackathon/lib/python3.8/multiprocessing/pool.py\", line 125, in worker\n",
      "    result = (True, func(*args, **kwds))\n",
      "  File \"<ipython-input-21-51b83dd1471e>\", line 23, in unpack_functions\n",
      "    return [pack[0], pack[1](*pack[2], **pack[3])]\n",
      "  File \"/home/david/anaconda3/envs/hackathon/lib/python3.8/multiprocessing/pool.py\", line 125, in worker\n",
      "    result = (True, func(*args, **kwds))\n",
      "  File \"/home/david/anaconda3/envs/hackathon/lib/python3.8/multiprocessing/pool.py\", line 125, in worker\n",
      "    result = (True, func(*args, **kwds))\n",
      "  File \"/home/david/anaconda3/envs/hackathon/lib/python3.8/multiprocessing/pool.py\", line 125, in worker\n",
      "    result = (True, func(*args, **kwds))\n",
      "  File \"/home/david/anaconda3/envs/hackathon/lib/python3.8/multiprocessing/process.py\", line 108, in run\n",
      "    self._target(*self._args, **self._kwargs)\n",
      "  File \"<ipython-input-21-51b83dd1471e>\", line 23, in unpack_functions\n",
      "    return [pack[0], pack[1](*pack[2], **pack[3])]\n",
      "  File \"<ipython-input-21-51b83dd1471e>\", line 32, in n_groups_basis\n",
      "    Groups, _ = grouping(PS, basis, WC)\n",
      "  File \"/home/david/anaconda3/envs/hackathon/lib/python3.8/multiprocessing/pool.py\", line 125, in worker\n",
      "    result = (True, func(*args, **kwds))\n",
      "  File \"/home/david/anaconda3/envs/hackathon/lib/python3.8/multiprocessing/pool.py\", line 125, in worker\n",
      "    result = (True, func(*args, **kwds))\n",
      "  File \"/home/david/anaconda3/envs/hackathon/lib/python3.8/multiprocessing/pool.py\", line 125, in worker\n",
      "    result = (True, func(*args, **kwds))\n",
      "  File \"/home/david/anaconda3/envs/hackathon/lib/python3.8/multiprocessing/pool.py\", line 125, in worker\n",
      "    result = (True, func(*args, **kwds))\n",
      "Traceback (most recent call last):\n",
      "  File \"/home/david/anaconda3/envs/hackathon/lib/python3.8/multiprocessing/pool.py\", line 125, in worker\n",
      "    result = (True, func(*args, **kwds))\n",
      "  File \"<ipython-input-21-51b83dd1471e>\", line 23, in unpack_functions\n",
      "    return [pack[0], pack[1](*pack[2], **pack[3])]\n",
      "  File \"/home/david/anaconda3/envs/hackathon/lib/python3.8/multiprocessing/pool.py\", line 125, in worker\n",
      "    result = (True, func(*args, **kwds))\n",
      "  File \"/home/david/anaconda3/envs/hackathon/lib/python3.8/multiprocessing/pool.py\", line 125, in worker\n",
      "    result = (True, func(*args, **kwds))\n",
      "  File \"<ipython-input-21-51b83dd1471e>\", line 32, in n_groups_basis\n",
      "    Groups, _ = grouping(PS, basis, WC)\n",
      "  File \"<ipython-input-21-51b83dd1471e>\", line 23, in unpack_functions\n",
      "    return [pack[0], pack[1](*pack[2], **pack[3])]\n",
      "Traceback (most recent call last):\n",
      "  File \"/home/david/anaconda3/envs/hackathon/lib/python3.8/multiprocessing/process.py\", line 108, in run\n",
      "    self._target(*self._args, **self._kwargs)\n",
      "Traceback (most recent call last):\n",
      "  File \"/home/david/anaconda3/envs/hackathon/lib/python3.8/multiprocessing/process.py\", line 315, in _bootstrap\n",
      "    self.run()\n",
      "  File \"<ipython-input-21-51b83dd1471e>\", line 23, in unpack_functions\n",
      "    return [pack[0], pack[1](*pack[2], **pack[3])]\n",
      "  File \"<ipython-input-21-51b83dd1471e>\", line 23, in unpack_functions\n",
      "    return [pack[0], pack[1](*pack[2], **pack[3])]\n",
      "  File \"/home/david/anaconda3/envs/hackathon/lib/python3.8/multiprocessing/pool.py\", line 125, in worker\n",
      "    result = (True, func(*args, **kwds))\n",
      "  File \"<ipython-input-21-51b83dd1471e>\", line 32, in n_groups_basis\n",
      "    Groups, _ = grouping(PS, basis, WC)\n",
      "  File \"<ipython-input-21-51b83dd1471e>\", line 23, in unpack_functions\n",
      "    return [pack[0], pack[1](*pack[2], **pack[3])]\n",
      "  File \"/media/david/SSD/OneDrive - UAM/Qiskit Hackthon/Hardware-efficient-variational-quantum-eigensolver-with-entangled-measurements/Codes/GroupingAlgorithms.py\", line 140, in grouping\n",
      "    PG = PauliGraph(PS)\n",
      "  File \"<ipython-input-21-51b83dd1471e>\", line 23, in unpack_functions\n",
      "    return [pack[0], pack[1](*pack[2], **pack[3])]\n",
      "  File \"<ipython-input-21-51b83dd1471e>\", line 23, in unpack_functions\n",
      "    return [pack[0], pack[1](*pack[2], **pack[3])]\n",
      "  File \"<ipython-input-21-51b83dd1471e>\", line 23, in unpack_functions\n",
      "    return [pack[0], pack[1](*pack[2], **pack[3])]\n",
      "  File \"/home/david/anaconda3/envs/hackathon/lib/python3.8/multiprocessing/process.py\", line 315, in _bootstrap\n",
      "    self.run()\n",
      "  File \"<ipython-input-21-51b83dd1471e>\", line 32, in n_groups_basis\n",
      "    Groups, _ = grouping(PS, basis, WC)\n",
      "  File \"<ipython-input-21-51b83dd1471e>\", line 23, in unpack_functions\n",
      "    return [pack[0], pack[1](*pack[2], **pack[3])]\n",
      "  File \"<ipython-input-21-51b83dd1471e>\", line 23, in unpack_functions\n",
      "    return [pack[0], pack[1](*pack[2], **pack[3])]\n",
      "  File \"<ipython-input-21-51b83dd1471e>\", line 23, in unpack_functions\n",
      "    return [pack[0], pack[1](*pack[2], **pack[3])]\n",
      "  File \"<ipython-input-21-51b83dd1471e>\", line 32, in n_groups_basis\n",
      "    Groups, _ = grouping(PS, basis, WC)\n",
      "  File \"<ipython-input-21-51b83dd1471e>\", line 23, in unpack_functions\n",
      "    return [pack[0], pack[1](*pack[2], **pack[3])]\n",
      "  File \"/media/david/SSD/OneDrive - UAM/Qiskit Hackthon/Hardware-efficient-variational-quantum-eigensolver-with-entangled-measurements/Codes/GroupingAlgorithms.py\", line 140, in grouping\n",
      "    PG = PauliGraph(PS)\n",
      "  File \"<ipython-input-21-51b83dd1471e>\", line 32, in n_groups_basis\n",
      "    Groups, _ = grouping(PS, basis, WC)\n",
      "  File \"/home/david/anaconda3/envs/hackathon/lib/python3.8/multiprocessing/process.py\", line 108, in run\n",
      "    self._target(*self._args, **self._kwargs)\n",
      "  File \"/home/david/anaconda3/envs/hackathon/lib/python3.8/multiprocessing/process.py\", line 315, in _bootstrap\n",
      "    self.run()\n",
      "  File \"/home/david/anaconda3/envs/hackathon/lib/python3.8/multiprocessing/pool.py\", line 125, in worker\n",
      "    result = (True, func(*args, **kwds))\n",
      "  File \"/home/david/anaconda3/envs/hackathon/lib/python3.8/multiprocessing/process.py\", line 315, in _bootstrap\n",
      "    self.run()\n",
      "  File \"<ipython-input-21-51b83dd1471e>\", line 32, in n_groups_basis\n",
      "    Groups, _ = grouping(PS, basis, WC)\n",
      "  File \"<ipython-input-21-51b83dd1471e>\", line 32, in n_groups_basis\n",
      "    Groups, _ = grouping(PS, basis, WC)\n",
      "  File \"<ipython-input-21-51b83dd1471e>\", line 23, in unpack_functions\n",
      "    return [pack[0], pack[1](*pack[2], **pack[3])]\n",
      "  File \"/media/david/SSD/OneDrive - UAM/Qiskit Hackthon/Hardware-efficient-variational-quantum-eigensolver-with-entangled-measurements/Codes/GroupingAlgorithms.py\", line 140, in grouping\n",
      "    PG = PauliGraph(PS)\n",
      "  File \"<ipython-input-21-51b83dd1471e>\", line 32, in n_groups_basis\n",
      "    Groups, _ = grouping(PS, basis, WC)\n",
      "  File \"<ipython-input-21-51b83dd1471e>\", line 32, in n_groups_basis\n",
      "    Groups, _ = grouping(PS, basis, WC)\n",
      "  File \"<ipython-input-21-51b83dd1471e>\", line 32, in n_groups_basis\n",
      "    Groups, _ = grouping(PS, basis, WC)\n",
      "  File \"<ipython-input-21-51b83dd1471e>\", line 32, in n_groups_basis\n",
      "    Groups, _ = grouping(PS, basis, WC)\n",
      "  File \"/media/david/SSD/OneDrive - UAM/Qiskit Hackthon/Hardware-efficient-variational-quantum-eigensolver-with-entangled-measurements/Codes/GroupingAlgorithms.py\", line 46, in PauliGraph\n",
      "    qubits = np.arange(N)\n",
      "  File \"/home/david/anaconda3/envs/hackathon/lib/python3.8/multiprocessing/process.py\", line 108, in run\n",
      "    self._target(*self._args, **self._kwargs)\n",
      "  File \"/media/david/SSD/OneDrive - UAM/Qiskit Hackthon/Hardware-efficient-variational-quantum-eigensolver-with-entangled-measurements/Codes/GroupingAlgorithms.py\", line 140, in grouping\n",
      "    PG = PauliGraph(PS)\n",
      "  File \"<ipython-input-21-51b83dd1471e>\", line 32, in n_groups_basis\n",
      "    Groups, _ = grouping(PS, basis, WC)\n",
      "  File \"<ipython-input-21-51b83dd1471e>\", line 32, in n_groups_basis\n",
      "    Groups, _ = grouping(PS, basis, WC)\n",
      "  File \"<ipython-input-21-51b83dd1471e>\", line 32, in n_groups_basis\n",
      "    Groups, _ = grouping(PS, basis, WC)\n",
      "  File \"/media/david/SSD/OneDrive - UAM/Qiskit Hackthon/Hardware-efficient-variational-quantum-eigensolver-with-entangled-measurements/Codes/GroupingAlgorithms.py\", line 140, in grouping\n",
      "    PG = PauliGraph(PS)\n",
      "  File \"<ipython-input-21-51b83dd1471e>\", line 32, in n_groups_basis\n",
      "    Groups, _ = grouping(PS, basis, WC)\n",
      "  File \"/media/david/SSD/OneDrive - UAM/Qiskit Hackthon/Hardware-efficient-variational-quantum-eigensolver-with-entangled-measurements/Codes/GroupingAlgorithms.py\", line 158, in grouping\n",
      "    if j not in AS:\n",
      "  File \"/media/david/SSD/OneDrive - UAM/Qiskit Hackthon/Hardware-efficient-variational-quantum-eigensolver-with-entangled-measurements/Codes/GroupingAlgorithms.py\", line 50, in PauliGraph\n",
      "    if (vi * vj != 0).any():\n",
      "  File \"/home/david/anaconda3/envs/hackathon/lib/python3.8/multiprocessing/process.py\", line 108, in run\n",
      "    self._target(*self._args, **self._kwargs)\n",
      "  File \"/home/david/anaconda3/envs/hackathon/lib/python3.8/multiprocessing/pool.py\", line 125, in worker\n",
      "    result = (True, func(*args, **kwds))\n",
      "  File \"<ipython-input-21-51b83dd1471e>\", line 23, in unpack_functions\n",
      "    return [pack[0], pack[1](*pack[2], **pack[3])]\n",
      "  File \"/home/david/anaconda3/envs/hackathon/lib/python3.8/multiprocessing/process.py\", line 108, in run\n",
      "    self._target(*self._args, **self._kwargs)\n",
      "  File \"/media/david/SSD/OneDrive - UAM/Qiskit Hackthon/Hardware-efficient-variational-quantum-eigensolver-with-entangled-measurements/Codes/GroupingAlgorithms.py\", line 140, in grouping\n",
      "    PG = PauliGraph(PS)\n",
      "  File \"<ipython-input-21-51b83dd1471e>\", line 32, in n_groups_basis\n",
      "    Groups, _ = grouping(PS, basis, WC)\n",
      "  File \"/media/david/SSD/OneDrive - UAM/Qiskit Hackthon/Hardware-efficient-variational-quantum-eigensolver-with-entangled-measurements/Codes/GroupingAlgorithms.py\", line 140, in grouping\n",
      "    PG = PauliGraph(PS)\n",
      "  File \"/media/david/SSD/OneDrive - UAM/Qiskit Hackthon/Hardware-efficient-variational-quantum-eigensolver-with-entangled-measurements/Codes/GroupingAlgorithms.py\", line 140, in grouping\n",
      "    PG = PauliGraph(PS)\n",
      "  File \"/media/david/SSD/OneDrive - UAM/Qiskit Hackthon/Hardware-efficient-variational-quantum-eigensolver-with-entangled-measurements/Codes/GroupingAlgorithms.py\", line 140, in grouping\n",
      "    PG = PauliGraph(PS)\n",
      "  File \"/media/david/SSD/OneDrive - UAM/Qiskit Hackthon/Hardware-efficient-variational-quantum-eigensolver-with-entangled-measurements/Codes/GroupingAlgorithms.py\", line 47, in PauliGraph\n",
      "    noncommonqubits = np.delete(qubits, np.argwhere(v_i == v_j))\n",
      "  File \"/media/david/SSD/OneDrive - UAM/Qiskit Hackthon/Hardware-efficient-variational-quantum-eigensolver-with-entangled-measurements/Codes/GroupingAlgorithms.py\", line 140, in grouping\n",
      "    PG = PauliGraph(PS)\n",
      "  File \"/media/david/SSD/OneDrive - UAM/Qiskit Hackthon/Hardware-efficient-variational-quantum-eigensolver-with-entangled-measurements/Codes/GroupingAlgorithms.py\", line 140, in grouping\n",
      "    PG = PauliGraph(PS)\n",
      "KeyboardInterrupt\n",
      "  File \"/home/david/anaconda3/envs/hackathon/lib/python3.8/multiprocessing/pool.py\", line 125, in worker\n",
      "    result = (True, func(*args, **kwds))\n",
      "  File \"/media/david/SSD/OneDrive - UAM/Qiskit Hackthon/Hardware-efficient-variational-quantum-eigensolver-with-entangled-measurements/Codes/GroupingAlgorithms.py\", line 50, in PauliGraph\n",
      "    if (vi * vj != 0).any():\n",
      "  File \"/media/david/SSD/OneDrive - UAM/Qiskit Hackthon/Hardware-efficient-variational-quantum-eigensolver-with-entangled-measurements/Codes/GroupingAlgorithms.py\", line 140, in grouping\n",
      "    PG = PauliGraph(PS)\n",
      "  File \"/media/david/SSD/OneDrive - UAM/Qiskit Hackthon/Hardware-efficient-variational-quantum-eigensolver-with-entangled-measurements/Codes/GroupingAlgorithms.py\", line 140, in grouping\n",
      "    PG = PauliGraph(PS)\n",
      "  File \"/media/david/SSD/OneDrive - UAM/Qiskit Hackthon/Hardware-efficient-variational-quantum-eigensolver-with-entangled-measurements/Codes/GroupingAlgorithms.py\", line 47, in PauliGraph\n",
      "    noncommonqubits = np.delete(qubits, np.argwhere(v_i == v_j))\n",
      "  File \"/media/david/SSD/OneDrive - UAM/Qiskit Hackthon/Hardware-efficient-variational-quantum-eigensolver-with-entangled-measurements/Codes/GroupingAlgorithms.py\", line 140, in grouping\n",
      "    PG = PauliGraph(PS)\n",
      "  File \"/media/david/SSD/OneDrive - UAM/Qiskit Hackthon/Hardware-efficient-variational-quantum-eigensolver-with-entangled-measurements/Codes/GroupingAlgorithms.py\", line 140, in grouping\n",
      "    PG = PauliGraph(PS)\n",
      "KeyboardInterrupt\n",
      "  File \"/home/david/anaconda3/envs/hackathon/lib/python3.8/multiprocessing/pool.py\", line 125, in worker\n",
      "    result = (True, func(*args, **kwds))\n",
      "  File \"<ipython-input-21-51b83dd1471e>\", line 23, in unpack_functions\n",
      "    return [pack[0], pack[1](*pack[2], **pack[3])]\n",
      "  File \"<ipython-input-21-51b83dd1471e>\", line 32, in n_groups_basis\n",
      "    Groups, _ = grouping(PS, basis, WC)\n",
      "  File \"/home/david/anaconda3/envs/hackathon/lib/python3.8/site-packages/numpy/core/_methods.py\", line 56, in _any\n",
      "    return umr_any(a, axis, dtype, out, keepdims)\n",
      "  File \"/home/david/anaconda3/envs/hackathon/lib/python3.8/multiprocessing/pool.py\", line 125, in worker\n",
      "    result = (True, func(*args, **kwds))\n",
      "  File \"/media/david/SSD/OneDrive - UAM/Qiskit Hackthon/Hardware-efficient-variational-quantum-eigensolver-with-entangled-measurements/Codes/GroupingAlgorithms.py\", line 140, in grouping\n",
      "    PG = PauliGraph(PS)\n",
      "  File \"/media/david/SSD/OneDrive - UAM/Qiskit Hackthon/Hardware-efficient-variational-quantum-eigensolver-with-entangled-measurements/Codes/GroupingAlgorithms.py\", line 47, in PauliGraph\n",
      "    noncommonqubits = np.delete(qubits, np.argwhere(v_i == v_j))\n",
      "  File \"/media/david/SSD/OneDrive - UAM/Qiskit Hackthon/Hardware-efficient-variational-quantum-eigensolver-with-entangled-measurements/Codes/GroupingAlgorithms.py\", line 47, in PauliGraph\n",
      "    noncommonqubits = np.delete(qubits, np.argwhere(v_i == v_j))\n",
      "  File \"/media/david/SSD/OneDrive - UAM/Qiskit Hackthon/Hardware-efficient-variational-quantum-eigensolver-with-entangled-measurements/Codes/GroupingAlgorithms.py\", line 47, in PauliGraph\n",
      "    noncommonqubits = np.delete(qubits, np.argwhere(v_i == v_j))\n",
      "  File \"/media/david/SSD/OneDrive - UAM/Qiskit Hackthon/Hardware-efficient-variational-quantum-eigensolver-with-entangled-measurements/Codes/GroupingAlgorithms.py\", line 46, in PauliGraph\n",
      "    qubits = np.arange(N)\n",
      "  File \"/media/david/SSD/OneDrive - UAM/Qiskit Hackthon/Hardware-efficient-variational-quantum-eigensolver-with-entangled-measurements/Codes/GroupingAlgorithms.py\", line 47, in PauliGraph\n",
      "    noncommonqubits = np.delete(qubits, np.argwhere(v_i == v_j))\n",
      "  File \"/media/david/SSD/OneDrive - UAM/Qiskit Hackthon/Hardware-efficient-variational-quantum-eigensolver-with-entangled-measurements/Codes/GroupingAlgorithms.py\", line 47, in PauliGraph\n",
      "    noncommonqubits = np.delete(qubits, np.argwhere(v_i == v_j))\n",
      "  File \"<ipython-input-21-51b83dd1471e>\", line 23, in unpack_functions\n",
      "    return [pack[0], pack[1](*pack[2], **pack[3])]\n",
      "KeyboardInterrupt\n",
      "  File \"/media/david/SSD/OneDrive - UAM/Qiskit Hackthon/Hardware-efficient-variational-quantum-eigensolver-with-entangled-measurements/Codes/GroupingAlgorithms.py\", line 47, in PauliGraph\n",
      "    noncommonqubits = np.delete(qubits, np.argwhere(v_i == v_j))\n",
      "  File \"<__array_function__ internals>\", line 5, in argwhere\n",
      "  File \"/media/david/SSD/OneDrive - UAM/Qiskit Hackthon/Hardware-efficient-variational-quantum-eigensolver-with-entangled-measurements/Codes/GroupingAlgorithms.py\", line 50, in PauliGraph\n",
      "    if (vi * vj != 0).any():\n",
      "  File \"/media/david/SSD/OneDrive - UAM/Qiskit Hackthon/Hardware-efficient-variational-quantum-eigensolver-with-entangled-measurements/Codes/GroupingAlgorithms.py\", line 47, in PauliGraph\n",
      "    noncommonqubits = np.delete(qubits, np.argwhere(v_i == v_j))\n",
      "  File \"/media/david/SSD/OneDrive - UAM/Qiskit Hackthon/Hardware-efficient-variational-quantum-eigensolver-with-entangled-measurements/Codes/GroupingAlgorithms.py\", line 51, in PauliGraph\n",
      "    G.add_edges_from([(i, j)])\n",
      "  File \"<ipython-input-21-51b83dd1471e>\", line 23, in unpack_functions\n",
      "    return [pack[0], pack[1](*pack[2], **pack[3])]\n",
      "  File \"<ipython-input-21-51b83dd1471e>\", line 32, in n_groups_basis\n",
      "    Groups, _ = grouping(PS, basis, WC)\n",
      "  File \"/media/david/SSD/OneDrive - UAM/Qiskit Hackthon/Hardware-efficient-variational-quantum-eigensolver-with-entangled-measurements/Codes/GroupingAlgorithms.py\", line 140, in grouping\n",
      "    PG = PauliGraph(PS)\n",
      "  File \"<__array_function__ internals>\", line 5, in delete\n",
      "  File \"<ipython-input-21-51b83dd1471e>\", line 23, in unpack_functions\n",
      "    return [pack[0], pack[1](*pack[2], **pack[3])]\n",
      "KeyboardInterrupt\n",
      "  File \"/media/david/SSD/OneDrive - UAM/Qiskit Hackthon/Hardware-efficient-variational-quantum-eigensolver-with-entangled-measurements/Codes/GroupingAlgorithms.py\", line 47, in PauliGraph\n",
      "    noncommonqubits = np.delete(qubits, np.argwhere(v_i == v_j))\n",
      "  File \"<__array_function__ internals>\", line 5, in delete\n",
      "  File \"<__array_function__ internals>\", line 5, in argwhere\n",
      "  File \"<__array_function__ internals>\", line 5, in argwhere\n",
      "KeyboardInterrupt\n",
      "  File \"<__array_function__ internals>\", line 5, in delete\n",
      "  File \"<__array_function__ internals>\", line 5, in delete\n",
      "  File \"<ipython-input-21-51b83dd1471e>\", line 32, in n_groups_basis\n",
      "    Groups, _ = grouping(PS, basis, WC)\n",
      "  File \"<__array_function__ internals>\", line 5, in delete\n",
      "  File \"/home/david/anaconda3/envs/hackathon/lib/python3.8/site-packages/numpy/core/numeric.py\", line 617, in argwhere\n",
      "    return transpose(nonzero(a))\n",
      "KeyboardInterrupt\n",
      "  File \"<__array_function__ internals>\", line 5, in delete\n",
      "  File \"/home/david/anaconda3/envs/hackathon/lib/python3.8/site-packages/networkx/classes/graph.py\", line 922, in add_edges_from\n",
      "    for e in ebunch_to_add:\n",
      "  File \"/media/david/SSD/OneDrive - UAM/Qiskit Hackthon/Hardware-efficient-variational-quantum-eigensolver-with-entangled-measurements/Codes/GroupingAlgorithms.py\", line 140, in grouping\n",
      "    PG = PauliGraph(PS)\n",
      "  File \"/media/david/SSD/OneDrive - UAM/Qiskit Hackthon/Hardware-efficient-variational-quantum-eigensolver-with-entangled-measurements/Codes/GroupingAlgorithms.py\", line 50, in PauliGraph\n",
      "    if (vi * vj != 0).any():\n",
      "  File \"<ipython-input-21-51b83dd1471e>\", line 32, in n_groups_basis\n",
      "    Groups, _ = grouping(PS, basis, WC)\n",
      "  File \"<ipython-input-21-51b83dd1471e>\", line 32, in n_groups_basis\n",
      "    Groups, _ = grouping(PS, basis, WC)\n",
      "  File \"<__array_function__ internals>\", line 5, in delete\n",
      "  File \"/home/david/anaconda3/envs/hackathon/lib/python3.8/site-packages/numpy/core/numeric.py\", line 617, in argwhere\n",
      "    return transpose(nonzero(a))\n",
      "  File \"/home/david/anaconda3/envs/hackathon/lib/python3.8/site-packages/numpy/lib/function_base.py\", line 4479, in delete\n",
      "    keep = ones(N, dtype=bool)\n",
      "  File \"/home/david/anaconda3/envs/hackathon/lib/python3.8/site-packages/numpy/lib/function_base.py\", line 4479, in delete\n",
      "    keep = ones(N, dtype=bool)\n",
      "  File \"/home/david/anaconda3/envs/hackathon/lib/python3.8/site-packages/numpy/lib/function_base.py\", line 4466, in delete\n",
      "    obj = np.asarray(obj)\n",
      "  File \"/home/david/anaconda3/envs/hackathon/lib/python3.8/site-packages/numpy/lib/function_base.py\", line 4479, in delete\n",
      "    keep = ones(N, dtype=bool)\n",
      "  File \"/media/david/SSD/OneDrive - UAM/Qiskit Hackthon/Hardware-efficient-variational-quantum-eigensolver-with-entangled-measurements/Codes/GroupingAlgorithms.py\", line 140, in grouping\n",
      "    PG = PauliGraph(PS)\n",
      "  File \"/home/david/anaconda3/envs/hackathon/lib/python3.8/site-packages/numpy/lib/function_base.py\", line 4480, in delete\n",
      "    keep[obj,] = False\n",
      "  File \"/home/david/anaconda3/envs/hackathon/lib/python3.8/site-packages/numpy/core/numeric.py\", line 613, in argwhere\n",
      "    if np.ndim(a) == 0:\n",
      "  File \"<__array_function__ internals>\", line 5, in transpose\n",
      "KeyboardInterrupt\n",
      "  File \"/media/david/SSD/OneDrive - UAM/Qiskit Hackthon/Hardware-efficient-variational-quantum-eigensolver-with-entangled-measurements/Codes/GroupingAlgorithms.py\", line 47, in PauliGraph\n",
      "    noncommonqubits = np.delete(qubits, np.argwhere(v_i == v_j))\n",
      "  File \"/media/david/SSD/OneDrive - UAM/Qiskit Hackthon/Hardware-efficient-variational-quantum-eigensolver-with-entangled-measurements/Codes/GroupingAlgorithms.py\", line 140, in grouping\n",
      "    PG = PauliGraph(PS)\n",
      "KeyboardInterrupt\n",
      "  File \"/home/david/anaconda3/envs/hackathon/lib/python3.8/site-packages/numpy/lib/function_base.py\", line 4470, in delete\n",
      "    if obj.dtype == bool:\n",
      "  File \"/home/david/anaconda3/envs/hackathon/lib/python3.8/site-packages/numpy/core/numeric.py\", line 204, in ones\n",
      "    multiarray.copyto(a, 1, casting='unsafe')\n",
      "KeyboardInterrupt\n",
      "  File \"/home/david/anaconda3/envs/hackathon/lib/python3.8/site-packages/numpy/core/numeric.py\", line 203, in ones\n",
      "    a = empty(shape, dtype, order)\n",
      "  File \"/media/david/SSD/OneDrive - UAM/Qiskit Hackthon/Hardware-efficient-variational-quantum-eigensolver-with-entangled-measurements/Codes/GroupingAlgorithms.py\", line 140, in grouping\n",
      "    PG = PauliGraph(PS)\n",
      "  File \"/media/david/SSD/OneDrive - UAM/Qiskit Hackthon/Hardware-efficient-variational-quantum-eigensolver-with-entangled-measurements/Codes/GroupingAlgorithms.py\", line 47, in PauliGraph\n",
      "    noncommonqubits = np.delete(qubits, np.argwhere(v_i == v_j))\n",
      "  File \"/home/david/anaconda3/envs/hackathon/lib/python3.8/site-packages/numpy/core/numeric.py\", line 203, in ones\n",
      "    a = empty(shape, dtype, order)\n",
      "  File \"<__array_function__ internals>\", line 5, in transpose\n",
      "  File \"<__array_function__ internals>\", line 4, in ndim\n",
      "  File \"<__array_function__ internals>\", line 5, in argwhere\n",
      "  File \"/home/david/anaconda3/envs/hackathon/lib/python3.8/site-packages/numpy/core/fromnumeric.py\", line 658, in transpose\n",
      "    return _wrapfunc(a, 'transpose', axes)\n",
      "  File \"<__array_function__ internals>\", line 5, in copyto\n",
      "  File \"/media/david/SSD/OneDrive - UAM/Qiskit Hackthon/Hardware-efficient-variational-quantum-eigensolver-with-entangled-measurements/Codes/GroupingAlgorithms.py\", line 47, in PauliGraph\n",
      "    noncommonqubits = np.delete(qubits, np.argwhere(v_i == v_j))\n",
      "KeyboardInterrupt\n",
      "KeyboardInterrupt\n",
      "  File \"<__array_function__ internals>\", line 5, in argwhere\n",
      "KeyboardInterrupt\n",
      "  File \"/home/david/anaconda3/envs/hackathon/lib/python3.8/site-packages/numpy/core/fromnumeric.py\", line 55, in _wrapfunc\n",
      "    return _wrapit(obj, method, *args, **kwds)\n",
      "  File \"/home/david/anaconda3/envs/hackathon/lib/python3.8/site-packages/numpy/core/numeric.py\", line 617, in argwhere\n",
      "    return transpose(nonzero(a))\n",
      "  File \"/home/david/anaconda3/envs/hackathon/lib/python3.8/site-packages/numpy/core/fromnumeric.py\", line 658, in transpose\n",
      "    return _wrapfunc(a, 'transpose', axes)\n",
      "KeyboardInterrupt\n",
      "  File \"<__array_function__ internals>\", line 5, in argwhere\n",
      "KeyboardInterrupt\n",
      "  File \"/home/david/anaconda3/envs/hackathon/lib/python3.8/site-packages/numpy/core/fromnumeric.py\", line 44, in _wrapit\n",
      "    result = getattr(asarray(obj), method)(*args, **kwds)\n",
      "  File \"/home/david/anaconda3/envs/hackathon/lib/python3.8/site-packages/numpy/core/fromnumeric.py\", line 55, in _wrapfunc\n",
      "    return _wrapit(obj, method, *args, **kwds)\n",
      "  File \"/home/david/anaconda3/envs/hackathon/lib/python3.8/site-packages/numpy/core/fromnumeric.py\", line 44, in _wrapit\n",
      "    result = getattr(asarray(obj), method)(*args, **kwds)\n",
      "  File \"<__array_function__ internals>\", line 5, in nonzero\n",
      "  File \"/home/david/anaconda3/envs/hackathon/lib/python3.8/site-packages/numpy/core/_asarray.py\", line 102, in asarray\n",
      "    return array(a, dtype, copy=False, order=order)\n",
      "KeyboardInterrupt\n",
      "KeyboardInterrupt\n",
      "  File \"/home/david/anaconda3/envs/hackathon/lib/python3.8/site-packages/numpy/core/numeric.py\", line 617, in argwhere\n",
      "    return transpose(nonzero(a))\n",
      "KeyboardInterrupt\n",
      "  File \"/home/david/anaconda3/envs/hackathon/lib/python3.8/site-packages/numpy/core/numeric.py\", line 617, in argwhere\n",
      "    return transpose(nonzero(a))\n",
      "  File \"<__array_function__ internals>\", line 5, in transpose\n",
      "  File \"<__array_function__ internals>\", line 5, in transpose\n",
      "  File \"/home/david/anaconda3/envs/hackathon/lib/python3.8/site-packages/numpy/core/fromnumeric.py\", line 658, in transpose\n",
      "    return _wrapfunc(a, 'transpose', axes)\n",
      "  File \"/home/david/anaconda3/envs/hackathon/lib/python3.8/site-packages/numpy/core/fromnumeric.py\", line 658, in transpose\n",
      "    return _wrapfunc(a, 'transpose', axes)\n",
      "  File \"/home/david/anaconda3/envs/hackathon/lib/python3.8/site-packages/numpy/core/fromnumeric.py\", line 55, in _wrapfunc\n",
      "    return _wrapit(obj, method, *args, **kwds)\n",
      "  File \"/home/david/anaconda3/envs/hackathon/lib/python3.8/site-packages/numpy/core/fromnumeric.py\", line 52, in _wrapfunc\n",
      "    def _wrapfunc(obj, method, *args, **kwds):\n",
      "  File \"/home/david/anaconda3/envs/hackathon/lib/python3.8/site-packages/numpy/core/fromnumeric.py\", line 41, in _wrapit\n",
      "    wrap = obj.__array_wrap__\n",
      "KeyboardInterrupt\n",
      "KeyboardInterrupt\n",
      "  File \"/media/david/SSD/OneDrive - UAM/Qiskit Hackthon/Hardware-efficient-variational-quantum-eigensolver-with-entangled-measurements/Codes/GroupingAlgorithms.py\", line 47, in PauliGraph\n",
      "    noncommonqubits = np.delete(qubits, np.argwhere(v_i == v_j))\n",
      "  File \"<__array_function__ internals>\", line 5, in delete\n",
      "  File \"/home/david/anaconda3/envs/hackathon/lib/python3.8/site-packages/numpy/lib/function_base.py\", line 4479, in delete\n",
      "    keep = ones(N, dtype=bool)\n",
      "  File \"/home/david/anaconda3/envs/hackathon/lib/python3.8/site-packages/numpy/lib/function_base.py\", line 4382, in delete\n",
      "    arr = asarray(arr)\n",
      "KeyboardInterrupt\n",
      "Process ForkPoolWorker-34:\n",
      "Process ForkPoolWorker-33:\n",
      "  File \"/home/david/anaconda3/envs/hackathon/lib/python3.8/site-packages/numpy/core/numeric.py\", line 204, in ones\n",
      "    multiarray.copyto(a, 1, casting='unsafe')\n",
      "KeyboardInterrupt\n",
      "Traceback (most recent call last):\n",
      "  File \"<__array_function__ internals>\", line 5, in copyto\n",
      "Traceback (most recent call last):\n",
      "  File \"/home/david/anaconda3/envs/hackathon/lib/python3.8/multiprocessing/process.py\", line 315, in _bootstrap\n",
      "    self.run()\n",
      "KeyboardInterrupt\n",
      "  File \"/home/david/anaconda3/envs/hackathon/lib/python3.8/multiprocessing/process.py\", line 315, in _bootstrap\n",
      "    self.run()\n",
      "  File \"/home/david/anaconda3/envs/hackathon/lib/python3.8/multiprocessing/process.py\", line 108, in run\n",
      "    self._target(*self._args, **self._kwargs)\n",
      "  File \"/home/david/anaconda3/envs/hackathon/lib/python3.8/multiprocessing/process.py\", line 108, in run\n",
      "    self._target(*self._args, **self._kwargs)\n",
      "  File \"/home/david/anaconda3/envs/hackathon/lib/python3.8/multiprocessing/pool.py\", line 125, in worker\n",
      "    result = (True, func(*args, **kwds))\n",
      "  File \"/home/david/anaconda3/envs/hackathon/lib/python3.8/multiprocessing/pool.py\", line 125, in worker\n",
      "    result = (True, func(*args, **kwds))\n",
      "  File \"<ipython-input-21-51b83dd1471e>\", line 23, in unpack_functions\n",
      "    return [pack[0], pack[1](*pack[2], **pack[3])]\n",
      "  File \"<ipython-input-21-51b83dd1471e>\", line 23, in unpack_functions\n",
      "    return [pack[0], pack[1](*pack[2], **pack[3])]\n",
      "  File \"<ipython-input-21-51b83dd1471e>\", line 32, in n_groups_basis\n",
      "    Groups, _ = grouping(PS, basis, WC)\n",
      "  File \"<ipython-input-21-51b83dd1471e>\", line 32, in n_groups_basis\n",
      "    Groups, _ = grouping(PS, basis, WC)\n",
      "  File \"/media/david/SSD/OneDrive - UAM/Qiskit Hackthon/Hardware-efficient-variational-quantum-eigensolver-with-entangled-measurements/Codes/GroupingAlgorithms.py\", line 140, in grouping\n",
      "    PG = PauliGraph(PS)\n",
      "  File \"/media/david/SSD/OneDrive - UAM/Qiskit Hackthon/Hardware-efficient-variational-quantum-eigensolver-with-entangled-measurements/Codes/GroupingAlgorithms.py\", line 140, in grouping\n",
      "    PG = PauliGraph(PS)\n",
      "  File \"/media/david/SSD/OneDrive - UAM/Qiskit Hackthon/Hardware-efficient-variational-quantum-eigensolver-with-entangled-measurements/Codes/GroupingAlgorithms.py\", line 47, in PauliGraph\n",
      "    noncommonqubits = np.delete(qubits, np.argwhere(v_i == v_j))\n",
      "  File \"/media/david/SSD/OneDrive - UAM/Qiskit Hackthon/Hardware-efficient-variational-quantum-eigensolver-with-entangled-measurements/Codes/GroupingAlgorithms.py\", line 47, in PauliGraph\n",
      "    noncommonqubits = np.delete(qubits, np.argwhere(v_i == v_j))\n",
      "  File \"<__array_function__ internals>\", line 5, in delete\n",
      "  File \"<__array_function__ internals>\", line 5, in delete\n",
      "  File \"/home/david/anaconda3/envs/hackathon/lib/python3.8/site-packages/numpy/lib/function_base.py\", line 4448, in delete\n",
      "    if isinstance(obj, (int, integer)) and not isinstance(obj, bool):\n",
      "  File \"/home/david/anaconda3/envs/hackathon/lib/python3.8/site-packages/numpy/lib/function_base.py\", line 4376, in delete\n",
      "    if type(arr) is not ndarray:\n",
      "KeyboardInterrupt\n",
      "KeyboardInterrupt\n"
     ]
    }
   ],
   "source": [
    "groups_basis = list(permutations([1, 2, 3, 4, 5, 6, 7, 8, 9], 9))\n",
    "n = len(groups_basis)\n",
    "args = []\n",
    "results = []\n",
    "\n",
    "for i in range(n):\n",
    "    args.append([i, n_groups_basis, [groups_basis[i]]])\n",
    "    \n",
    "pbar = tqdm(total=n)\n",
    "pool = Pool()\n",
    "for i, result in enumerate(pool.imap_unordered(unpack_functions, args, chunksize=1), 1): \n",
    "        results.append(result) # Save the result\n",
    "        pbar.update() #Update the progress bar\n",
    "        \n",
    "pool.terminate()\n",
    "pbar.close()\n",
    "results = np.array(sort_solution(results)) # Sort the asyn results\n",
    "\n",
    "print('Minimum number of groups:', min(results))\n",
    "print('Maximum number of groups:', max(results))"
   ]
  },
  {
   "cell_type": "code",
   "execution_count": 24,
   "id": "517bddc2-38a3-4042-acb3-aad87807278b",
   "metadata": {
    "execution": {
     "iopub.execute_input": "2021-05-27T12:06:39.999372Z",
     "iopub.status.busy": "2021-05-27T12:06:39.999095Z",
     "iopub.status.idle": "2021-05-27T12:06:40.033900Z",
     "shell.execute_reply": "2021-05-27T12:06:40.033572Z",
     "shell.execute_reply.started": "2021-05-27T12:06:39.999336Z"
    }
   },
   "outputs": [],
   "source": [
    "pool.terminate()"
   ]
  },
  {
   "cell_type": "code",
   "execution_count": null,
   "id": "800d0702-0a4b-4aa7-8691-eba6312a5873",
   "metadata": {},
   "outputs": [],
   "source": [
    "plt.plot(results, 'o')\n",
    "plt.hlines(min(results), 0, n, ls='--')\n",
    "plt.hlines(max(results), 0, n, ls='--')"
   ]
  },
  {
   "cell_type": "code",
   "execution_count": null,
<<<<<<< HEAD
=======
   "id": "7fa31aee-68a5-47b0-9c3f-14bbd09c5b87",
>>>>>>> e46c57e93b67f88c7668ce5c99f12e7de33dcdaa
   "metadata": {},
   "outputs": [],
   "source": [
    "num_bins = max(results) - min(results)\n",
    "plt.hist(results, num_bins);"
   ]
  },
  {
   "cell_type": "code",
   "execution_count": 30,
   "id": "602b7665-44ee-4be8-95f1-a270f5cfe7cc",
   "metadata": {
    "execution": {
     "iopub.execute_input": "2021-05-27T12:17:14.286003Z",
     "iopub.status.busy": "2021-05-27T12:17:14.285777Z",
     "iopub.status.idle": "2021-05-27T12:17:14.289259Z",
     "shell.execute_reply": "2021-05-27T12:17:14.288753Z",
     "shell.execute_reply.started": "2021-05-27T12:17:14.285978Z"
    },
    "tags": []
   },
   "outputs": [
    {
     "name": "stdout",
     "output_type": "stream",
     "text": [
      "The best order is: (1, 2, 3, 4, 5, 6, 9, 7, 8)\n"
     ]
    }
   ],
   "source": [
    "index_min = np.argmin(results)\n",
    "print('The best order is:', groups_basis[index_min], ', with a total of {} groups'.format(results[index_min]))"
   ]
  }
 ],
 "metadata": {
  "kernelspec": {
   "display_name": "Python 3",
   "language": "python",
   "name": "python3"
  },
  "language_info": {
   "codemirror_mode": {
    "name": "ipython",
    "version": 3
   },
   "file_extension": ".py",
   "mimetype": "text/x-python",
   "name": "python",
   "nbconvert_exporter": "python",
   "pygments_lexer": "ipython3",
   "version": "3.8.5"
  }
 },
 "nbformat": 4,
 "nbformat_minor": 5
}
