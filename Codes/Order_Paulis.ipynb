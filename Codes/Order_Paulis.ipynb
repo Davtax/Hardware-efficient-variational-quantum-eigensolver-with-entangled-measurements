{
 "cells": [
  {
   "cell_type": "code",
   "execution_count": 1,
   "id": "d5d71103-9b65-4c55-a8ab-e283c93d9669",
   "metadata": {
    "execution": {
     "iopub.execute_input": "2021-05-27T10:38:29.569069Z",
     "iopub.status.busy": "2021-05-27T10:38:29.568806Z",
     "iopub.status.idle": "2021-05-27T10:38:30.179769Z",
     "shell.execute_reply": "2021-05-27T10:38:30.179336Z",
     "shell.execute_reply.started": "2021-05-27T10:38:29.569002Z"
    },
    "tags": []
   },
   "outputs": [],
   "source": [
    "import numpy as np\n",
    "from itertools import product, permutations\n",
    "from tqdm.notebook import tqdm\n",
    "from multiprocessing import Pool\n",
    "from GroupingAlgorithms import grouping\n",
    "import matplotlib.pyplot as plt\n",
    "\n",
    "import warnings\n",
    "warnings.simplefilter(action='ignore', category=FutureWarning)"
   ]
  },
  {
   "cell_type": "code",
   "execution_count": 2,
   "id": "d10282ad-81db-4348-b1c9-87fe3b0a3121",
   "metadata": {
    "execution": {
     "iopub.execute_input": "2021-05-27T10:38:30.180429Z",
     "iopub.status.busy": "2021-05-27T10:38:30.180338Z",
     "iopub.status.idle": "2021-05-27T10:38:30.184558Z",
     "shell.execute_reply": "2021-05-27T10:38:30.184009Z",
     "shell.execute_reply.started": "2021-05-27T10:38:30.180418Z"
    },
    "tags": []
   },
   "outputs": [],
   "source": [
    "def sort_solution(data):\n",
    "    \"\"\"\n",
    "    Function to sort the data obtained for a parallel computation\n",
    "    :param data: (list) List in which each entry represents one solution of the parallel computation. The elements are\n",
    "    also list which contains in the first element the index and in the second one the result of the computation.\n",
    "    :return: (list) List with the data sorted\n",
    "    \"\"\"\n",
    "    n = len(data)  # Extract the number of computations done\n",
    "    sorted_sol = [None] * n  # Empty list with the correct number of elements\n",
    "    for i in range(n):  # Iterate over all the elements\n",
    "        index = data[i][0]  # Obtain the index of the result\n",
    "        temp = data[i][1]  # Obtain the result\n",
    "        sorted_sol[index] = temp  # Save the result in the correct element\n",
    "        \n",
    "    if type(sorted_sol[0]) == list or type(sorted_sol[0]) == tuple:\n",
    "        return sorted_sol\n",
    "    else:\n",
    "        return np.array(sorted_sol)\n",
    "    \n",
    "def unpack_functions(pack):\n",
    "    if len(pack) < 4:\n",
    "        pack.append({})\n",
    "    return [pack[0], pack[1](*pack[2], **pack[3])]\n",
    "    \n",
    "def n_groups(PS):\n",
    "    Groups, _ = grouping(PS,[9,8,7,6,5,4,3,2,1],WC)\n",
    "    return len(Groups)"
   ]
  },
  {
   "cell_type": "code",
   "execution_count": 3,
   "id": "55689089-9e6f-4986-84fd-6cae94ffe1c4",
   "metadata": {
    "execution": {
     "iopub.execute_input": "2021-05-27T10:38:30.924885Z",
     "iopub.status.busy": "2021-05-27T10:38:30.924667Z",
     "iopub.status.idle": "2021-05-27T10:38:30.929092Z",
     "shell.execute_reply": "2021-05-27T10:38:30.928522Z",
     "shell.execute_reply.started": "2021-05-27T10:38:30.924861Z"
    },
    "tags": []
   },
   "outputs": [],
   "source": [
    "num_qubits = 4\n",
    "WC=list(range(num_qubits))\n",
    "WC=list(permutations(list(range(num_qubits)),2))\n",
    "\n",
    "PS = np.array(list(product([0,1,2,3],repeat=num_qubits)))\n",
    "order = np.arange(num_qubits ** 4)"
   ]
  },
  {
   "cell_type": "code",
   "execution_count": 4,
   "id": "3e2f4ef3-0e21-4c6f-be91-157cb122f517",
   "metadata": {
    "execution": {
     "iopub.execute_input": "2021-05-27T10:38:32.079522Z",
     "iopub.status.busy": "2021-05-27T10:38:32.079302Z",
     "iopub.status.idle": "2021-05-27T10:39:22.083240Z",
     "shell.execute_reply": "2021-05-27T10:39:22.082927Z",
     "shell.execute_reply.started": "2021-05-27T10:38:32.079497Z"
    },
    "tags": []
   },
   "outputs": [
    {
     "data": {
      "application/vnd.jupyter.widget-view+json": {
       "model_id": "a0f28b87ed1b4dde872e566aa29d372e",
       "version_major": 2,
       "version_minor": 0
      },
      "text/plain": [
       "  0%|          | 0/1000 [00:00<?, ?it/s]"
      ]
     },
     "metadata": {},
     "output_type": "display_data"
    },
    {
     "name": "stdout",
     "output_type": "stream",
     "text": [
      "Minimum number of groups: 37\n",
      "Maximum number of groups: 47\n"
     ]
    }
   ],
   "source": [
    "n = 1000\n",
    "args = []\n",
    "results = []\n",
    "\n",
    "for i in range(n):\n",
    "    np.random.shuffle(order)\n",
    "    args.append([i, n_groups, [PS[order]]])\n",
    "    \n",
    "pbar = tqdm(total=n)\n",
    "pool = Pool()\n",
    "for i, result in enumerate(pool.imap_unordered(unpack_functions, args, chunksize=1), 1): \n",
    "        results.append(result) # Save the result\n",
    "        pbar.update() #Update the progress bar\n",
    "        \n",
    "pool.terminate()\n",
    "pbar.close()\n",
    "results = np.array(sort_solution(results)) # Sort the asyn results\n",
    "\n",
    "print('Minimum number of groups:', min(results))\n",
    "print('Maximum number of groups:', max(results))"
   ]
  },
  {
   "cell_type": "code",
   "execution_count": 20,
   "id": "e1929e31-cbcb-45f8-a030-5a0f276e033f",
   "metadata": {
    "execution": {
     "iopub.execute_input": "2021-05-27T10:43:49.764369Z",
     "iopub.status.busy": "2021-05-27T10:43:49.764154Z",
     "iopub.status.idle": "2021-05-27T10:43:49.832300Z",
     "shell.execute_reply": "2021-05-27T10:43:49.831872Z",
     "shell.execute_reply.started": "2021-05-27T10:43:49.764345Z"
    },
    "tags": []
   },
   "outputs": [
    {
     "data": {
      "text/plain": [
       "<matplotlib.collections.LineCollection at 0x7fd6dcdca760>"
      ]
     },
     "execution_count": 20,
     "metadata": {},
     "output_type": "execute_result"
    },
    {
     "data": {
      "image/png": "[encoded data removed]",
      "text/plain": [
       "<Figure size 432x288 with 1 Axes>"
      ]
     },
     "metadata": {
      "needs_background": "light"
     },
     "output_type": "display_data"
    }
   ],
   "source": [
    "plt.plot(results, 'o')\n",
    "plt.hlines(min(results), 0, n, ls='--')\n",
    "plt.hlines(max(results), 0, n, ls='--')"
   ]
  },
  {
   "cell_type": "code",
   "execution_count": 22,
   "id": "d89c73f0-14df-40b7-ae40-e653bef65c33",
   "metadata": {
    "execution": {
     "iopub.execute_input": "2021-05-27T10:43:54.786582Z",
     "iopub.status.busy": "2021-05-27T10:43:54.786363Z",
     "iopub.status.idle": "2021-05-27T10:43:54.853197Z",
     "shell.execute_reply": "2021-05-27T10:43:54.852567Z",
     "shell.execute_reply.started": "2021-05-27T10:43:54.786557Z"
    },
    "tags": []
   },
   "outputs": [
    {
     "data": {
      "image/png": "[encoded data removed]",
      "text/plain": [
       "<Figure size 432x288 with 1 Axes>"
      ]
     },
     "metadata": {
      "needs_background": "light"
     },
     "output_type": "display_data"
    }
   ],
   "source": [
    "num_bins = max(results) - min(results)\n",
    "plt.hist(results, num_bins);"
   ]
  },
  {
   "cell_type": "code",
   "execution_count": null,
   "id": "e0f6b0eb-fc89-4361-8019-9995026a0796",
   "metadata": {},
   "outputs": [],
   "source": []
  }
 ],
 "metadata": {
  "kernelspec": {
   "display_name": "Python 3",
   "language": "python",
   "name": "python3"
  },
  "language_info": {
   "codemirror_mode": {
    "name": "ipython",
    "version": 3
   },
   "file_extension": ".py",
   "mimetype": "text/x-python",
   "name": "python",
   "nbconvert_exporter": "python",
   "pygments_lexer": "ipython3",
   "version": "3.8.8"
  }
 },
 "nbformat": 4,
 "nbformat_minor": 5
}
