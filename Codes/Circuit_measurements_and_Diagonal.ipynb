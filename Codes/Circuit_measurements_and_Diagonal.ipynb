{
 "cells": [
  {
   "cell_type": "code",
   "execution_count": 2,
   "metadata": {},
   "outputs": [],
   "source": [
    "import numpy as np\n",
    "from qiskit import IBMQ\n",
    "from qiskit import QuantumCircuit\n",
    "from qiskit import QuantumCircuit, QuantumRegister\n",
    "from qiskit.quantum_info.operators import Operator\n",
    "from qiskit.quantum_info import Statevector\n",
    "from qiskit.visualization import plot_state_qsphere\n",
    "from qiskit.opflow.primitive_ops import PauliOp\n",
    "from qiskit.opflow.list_ops import SummedOp\n",
    "from qiskit.quantum_info import Pauli\n",
    "from qiskit.algorithms import VQE\n"
   ]
  },
  {
   "cell_type": "markdown",
   "metadata": {},
   "source": [
    "# Identification Measurement basis -- Quantum circuit \n",
    "$\\newcommand{\\ket}[1]{|#1\\rangle}$\n",
    "$\\newcommand{\\bra}[1]{\\langle #1|}$\n",
    "$\\newcommand{\\ketbra}[2]{\\ket{#1}\\!\\bra{#2}}$\n",
    "$\\newcommand{\\braket}[2]{\\left\\langle{#1}\\left|\\!{#2}\\right\\rangle}$"
   ]
  },
  {
   "cell_type": "markdown",
   "metadata": {},
   "source": [
    "Because all of these are two qubit measurements, each of them have 4 elements. The order in which they are presented is according to the classical register corresponding to the circuits bellow. \n",
    "\n",
    "$$\\text{Classical Register} =\\{(00),(01),(10),(11) \\}.$$\n"
   ]
  },
  {
   "cell_type": "markdown",
   "metadata": {},
   "source": [
    "## Bell circuit"
   ]
  },
  {
   "cell_type": "code",
   "execution_count": 5,
   "metadata": {},
   "outputs": [
    {
     "data": {
      "image/png": "[encoded data removed]",
      "text/plain": [
       "<Figure size 267.052x204.68 with 1 Axes>"
      ]
     },
     "execution_count": 5,
     "metadata": {},
     "output_type": "execute_result"
    }
   ],
   "source": [
    "qc = QuantumCircuit(2,2)\n",
    "qc.cnot(0,1)\n",
    "qc.h(0)\n",
    "qc.measure([1,0],[1,0])\n",
    "qc.draw(output='mpl')"
   ]
  },
  {
   "cell_type": "markdown",
   "metadata": {},
   "source": [
    "$$    Bell \\mapsto 4 \\hspace{.5cm} Str_4=\\{II,XX,YY,ZZ\\} = \\{(0,0),(1,1),(2,2),(3,3)\\} \\\\ \n",
    "\\ket{\\Phi_0} = \\ket{00}+\\ket{11} \\\\ \\ket{\\Phi_1} = \\ket{00}-\\ket{11}\\\\\n",
    "   \\ket{\\Phi_2} = \\ket{01} +\\ket{10} \\\\ \\ket{\\Phi_3} = \\ket{01}-\\ket{10}$$"
   ]
  },
  {
   "cell_type": "markdown",
   "metadata": {},
   "source": [
    " $$    Bell \\mapsto 4: \\hspace{0.5cm} \\text{Expectation values} \\hspace{0.2cm} =  \\{ XX \\mapsto [+,-,+,-]; \\hspace{0.5cm} YY \\mapsto [-,+,+,-] ; \\hspace{0.5cm}ZZ \\mapsto [+,+,-,-]\\}$$\n",
    " "
   ]
  },
  {
   "cell_type": "markdown",
   "metadata": {},
   "source": [
    "## $\\Omega^{XX}$ circuit"
   ]
  },
  {
   "cell_type": "code",
   "execution_count": 185,
   "metadata": {},
   "outputs": [
    {
     "data": {
      "image/png": "[encoded data removed]",
      "text/plain": [
       "<Figure size 387.452x204.68 with 1 Axes>"
      ]
     },
     "execution_count": 185,
     "metadata": {},
     "output_type": "execute_result"
    }
   ],
   "source": [
    "qc = QuantumCircuit(2, 2)\n",
    "qc.s((0,1))\n",
    "qc.h(0)\n",
    "qc.cnot(0,1)\n",
    "qc.h(0)\n",
    "qc.measure([0,1],[0,1])\n",
    "qc.draw(output='mpl')"
   ]
  },
  {
   "cell_type": "markdown",
   "metadata": {},
   "source": [
    "  \n",
    "   $$ \\Omega^X \\mapsto 5 \\hspace{.5cm} Str_5=\\{II,XX,YZ,ZY\\} = \\{(0,0),(1,1),(2,3),(3,2)\\}  \\\\ \n",
    "   \\ket{\\Omega^{XX}_0}= +\\ket{00}-i\\ket{01}-i\\ket{10}+\\ket{11} \\hspace{1cm} \\text{Jap} = \\Omega^{XX}_2 \\\\\n",
    "   \\ket{\\Omega^{XX}_1}= +\\ket{00}-i\\ket{01}+i\\ket{10}-\\ket{11} \\hspace{1cm} \\text{Jap} = \\Omega^{XX}_0\\\\\n",
    "   \\ket{\\Omega^{XX}_2}= +\\ket{00}+i\\ket{01}-i\\ket{10}-\\ket{11} \\hspace{1cm} \\text{Jap} = \\Omega^{XX}_3\\\\\n",
    "   \\ket{\\Omega^{XX}_3}= -\\ket{00}-i\\ket{01}-i\\ket{10}-\\ket{11} \\hspace{1cm} \\text{Jap} = \\Omega^{XX}_1$$\n",
    "   \n",
    "   $$ \\Omega^X \\mapsto 5: \\hspace{0.5cm} \\text{Expectation values} \\hspace{0.5cm} =  \\{ XX \\mapsto [+,-,-,+]; \\hspace{0.5cm} YZ \\mapsto [-,+,-,+] ; \\hspace{0.5cm}ZY \\mapsto [-,-,+,+]\\}$$"
   ]
  },
  {
   "cell_type": "markdown",
   "metadata": {},
   "source": [
    "## $\\Omega^{YY}$ circuit"
   ]
  },
  {
   "cell_type": "code",
   "execution_count": 52,
   "metadata": {},
   "outputs": [
    {
     "data": {
      "image/png": "[encoded data removed]",
      "text/plain": [
       "<Figure size 327.252x204.68 with 1 Axes>"
      ]
     },
     "execution_count": 52,
     "metadata": {},
     "output_type": "execute_result"
    }
   ],
   "source": [
    "qc = QuantumCircuit(2, 2)\n",
    "qc.h(0)\n",
    "qc.cnot(0,1)\n",
    "qc.h(0)\n",
    "qc.measure([0,1],[0,1])\n",
    "qc.draw(output='mpl')"
   ]
  },
  {
   "cell_type": "markdown",
   "metadata": {},
   "source": [
    " $$ \\Omega^Y\\mapsto 6 \\hspace{.5cm}  Str_6=\\{II,YY,XZ,ZX\\} = \\{(0,0),(2,2),(1,3),(3,1)\\}  \\\\ \n",
    "   \\ket{\\Omega^{YY}_0}= +\\ket{00}+\\ket{01}+\\ket{10}-\\ket{11}  \\hspace{1cm} \\text{Jap} = \\Omega^{YY}_2\\\\\n",
    "   \\ket{\\Omega^{YY}_1}= +\\ket{00}+\\ket{01}-\\ket{10}+\\ket{11}  \\hspace{1cm} \\text{Jap} = \\Omega^{YY}_0\\\\\n",
    "   \\ket{\\Omega^{YY}_2}= +\\ket{00}-\\ket{01}+\\ket{10}+\\ket{11}  \\hspace{1cm} \\text{Jap} = \\Omega^{YY}_3\\\\\n",
    "   \\ket{\\Omega^{YY}_3}= -\\ket{00}+\\ket{01}+\\ket{10}+\\ket{11}  \\hspace{1cm} \\text{Jap} = \\Omega^{YY}_1$$\n",
    "   \n",
    " $$ \\Omega^Y\\mapsto 6: \\hspace{.5cm}\\text{Expectation values} \\hspace{0.5cm} =  \\{ YY \\mapsto [+,-,-,+]; \\hspace{0.5cm} XZ \\mapsto [+,-,+,-] ; \\hspace{0.5cm} ZX \\mapsto [+,+,-,-]\\}$$"
   ]
  },
  {
   "cell_type": "markdown",
   "metadata": {},
   "source": [
    "## $\\Omega^{ZZ}$ circuit"
   ]
  },
  {
   "cell_type": "code",
   "execution_count": 51,
   "metadata": {},
   "outputs": [
    {
     "data": {
      "image/png": "[encoded data removed]",
      "text/plain": [
       "<Figure size 327.252x204.68 with 1 Axes>"
      ]
     },
     "execution_count": 51,
     "metadata": {},
     "output_type": "execute_result"
    }
   ],
   "source": [
    "qc = QuantumCircuit(2, 2)\n",
    "qc.s(0)\n",
    "qc.cnot(0,1)\n",
    "qc.h(0)\n",
    "qc.measure([0,1],[0,1])\n",
    "qc.draw(output='mpl')"
   ]
  },
  {
   "cell_type": "markdown",
   "metadata": {},
   "source": [
    " $$ \\Omega^z\\mapsto 7 \\hspace{.5cm}  Str_7=\\{II,ZZ,XY,YX\\} = \\{(0,0),(3,3),(1,2),(2,1)\\}  \\\\ \n",
    "   \\ket{\\Omega^{ZZ}_{0}}= +\\ket{00} - i\\ket{11} \\hspace{1cm} \\text{Jap} = \\Omega^{ZZ}_2\\\\\n",
    "   \\ket{\\Omega^{ZZ}_{1}}= +\\ket{00} + i\\ket{11} \\hspace{1cm} \\text{Jap} = \\Omega^{ZZ}_3\\\\\n",
    "   \\ket{\\Omega^{ZZ}_{2}}= +\\ket{01} + i\\ket{10} \\hspace{1cm} \\text{Jap} = \\Omega^{ZZ}_1\\\\\n",
    "   \\ket{\\Omega^{ZZ}_{3}}= +\\ket{00} - i\\ket{10} \\hspace{1cm} \\text{Jap} = \\Omega^{ZZ}_0$$\n",
    "   \n",
    "$$ \\Omega^z\\mapsto 7: \\hspace{.5cm}\\text{Expectation values} \\hspace{0.2cm} =  \\{ ZZ \\mapsto [+,+,-,-]; \\hspace{0.5cm} XY \\mapsto [-,+,-,+] ; \\hspace{0.5cm} YX \\mapsto [-,+,+,-]\\}$$   "
   ]
  },
  {
   "cell_type": "markdown",
   "metadata": {},
   "source": [
    "## $\\chi$ circuit"
   ]
  },
  {
   "cell_type": "code",
   "execution_count": 241,
   "metadata": {},
   "outputs": [
    {
     "data": {
      "image/png": "[encoded data removed]",
      "text/plain": [
       "<Figure size 327.252x204.68 with 1 Axes>"
      ]
     },
     "execution_count": 241,
     "metadata": {},
     "output_type": "execute_result"
    }
   ],
   "source": [
    "qc = QuantumCircuit(2, 2)\n",
    "qc.u2(np.pi/2,np.pi,0)\n",
    "qc.cnot(0,1)\n",
    "qc.h(0)\n",
    "qc.measure([0,1],[0,1])\n",
    "qc.draw(output='mpl')"
   ]
  },
  {
   "cell_type": "markdown",
   "metadata": {},
   "source": [
    " $$  \\chi\\mapsto 8 \\hspace{.5cm}  Str_8=\\{II,XY,YX,ZX\\} = \\{(0,0),(1,2),(2,1),(3,1)\\}  \\\\ \n",
    "   \\ket{\\chi_0}= -\\ket{00}+\\ket{01}-i\\ket{10}+i\\ket{11} \\hspace{1cm} \\text{Jap} = \\chi_1\\\\\n",
    "   \\ket{\\chi_1}= +\\ket{00}+\\ket{01}+i\\ket{10}-i\\ket{11} \\hspace{1cm} \\text{Jap} = \\chi_0\\\\\n",
    "   \\ket{\\chi_2}= +\\ket{00}-\\ket{01}+i\\ket{10}+i\\ket{11} \\hspace{1cm} \\text{Jap} = \\chi_2\\\\\n",
    "   \\ket{\\chi_3}= -\\ket{00}+\\ket{01}+i\\ket{10}+i\\ket{11} \\hspace{1cm} \\text{Jap} = \\chi_3$$\n",
    "   \n",
    "$$ \\chi\\mapsto 8: \\hspace{.5cm}\\text{Expectation values} \\hspace{0.2cm} =  \\{ XY \\mapsto [+,-,+,-]; \\hspace{0.5cm} YZ \\mapsto [-,+,+,-] ; \\hspace{0.5cm} ZX \\mapsto [+,+,-,-]\\}$$    \n",
    "   "
   ]
  },
  {
   "cell_type": "markdown",
   "metadata": {},
   "source": [
    "## $\\Pi$ circuit"
   ]
  },
  {
   "cell_type": "code",
   "execution_count": 286,
   "metadata": {},
   "outputs": [
    {
     "data": {
      "image/png": "[encoded data removed]",
      "text/plain": [
       "<Figure size 327.252x204.68 with 1 Axes>"
      ]
     },
     "execution_count": 286,
     "metadata": {},
     "output_type": "execute_result"
    }
   ],
   "source": [
    "qc = QuantumCircuit(2, 2)\n",
    "qc.u2(0,np.pi/2,0)\n",
    "qc.cnot(0,1)\n",
    "qc.h(0)\n",
    "qc.measure([0,1],[0,1])\n",
    "qc.draw(output='mpl')"
   ]
  },
  {
   "cell_type": "markdown",
   "metadata": {},
   "source": [
    " $$  \\Pi \\mapsto 9 \\hspace{.5cm}  Str_9=\\{II,YX,ZY,XZ\\} = \\{(0,0),(2,1),(3,2),(1,3)\\}  \\\\ \n",
    "   \\ket{\\Pi_0}= +i\\ket{00}-\\ket{01}+i\\ket{10}+\\ket{11} \\hspace{1cm} \\text{Gab} = \\Pi_3\\\\\n",
    "   \\ket{\\Pi_1}= +\\ket{00}+i\\ket{01}-\\ket{10}+i\\ket{11} \\hspace{1cm} \\text{Gab} = \\Pi_1\\\\\n",
    "   \\ket{\\Pi_2}= +i\\ket{00}+\\ket{01}+i\\ket{10}-\\ket{11} \\hspace{1cm} \\text{Gab} = \\Pi_2\\\\\n",
    "   \\ket{\\Pi_3}= -\\ket{00}+i\\ket{01}+\\ket{10}+i\\ket{11} \\hspace{1cm} \\text{Gab} = \\Pi_0\n",
    "   $$\n",
    "   \n",
    "$$ \\Pi \\mapsto 9: \\hspace{.5cm} \\text{Expectation values} \\hspace{0.2cm} =  \\{ YX \\mapsto [-,+,+,-]; \\hspace{0.5cm} ZY \\mapsto [+,+,-,-] ; \\hspace{0.5cm} XZ \\mapsto [+,-,+,-]\\}$$    \n",
    "   \n",
    "   "
   ]
  },
  {
   "cell_type": "markdown",
   "metadata": {},
   "source": [
    "# Pair of Paulis with its diagonal factors "
   ]
  },
  {
   "cell_type": "markdown",
   "metadata": {},
   "source": [
    "   $$    Bell \\mapsto 4: \\hspace{0.5cm} \\text{Expectation values} \\hspace{0.2cm} =  \\{ XX \\mapsto [+,-,+,-]; \\hspace{0.5cm} YY \\mapsto [-,+,+,-] ; \\hspace{0.5cm}ZZ \\mapsto [+,+,-,-]\\}$$\n",
    "   \n",
    "   $$ \\chi\\mapsto 8: \\hspace{.5cm}\\text{Expectation values} \\hspace{0.2cm} =  \\{ XY \\mapsto [+,-,+,-]; \\hspace{0.5cm} YZ \\mapsto [-,+,+,-] ; \\hspace{0.5cm} ZX \\mapsto [+,+,-,-]\\}$$ \n",
    "\n",
    "   $$ \\Pi \\mapsto 9: \\hspace{.5cm} \\text{Expectation values} \\hspace{0.2cm} =  \\{ XZ \\mapsto [+,-,+,-]; \\hspace{0.5cm} YX \\mapsto [-,+,+,-] ; \\hspace{0.5cm} ZY \\mapsto [+,+,-,-]\\}$$    \n",
    "\n",
    "  $$ \\Omega^X \\mapsto 5: \\hspace{0.5cm} \\text{Expectation values} \\hspace{0.2cm} =  \\{ YZ \\mapsto [-,+,-,+]; \\hspace{0.5cm} XX \\mapsto [+,-,-,+] ; \\hspace{0.5cm}ZY \\mapsto [-,-,+,+]\\}$$\n",
    "  \n",
    "   $$ \\Omega^Y\\mapsto 6: \\hspace{.5cm}\\text{Expectation values} \\hspace{0.2cm} =  \\{XZ \\mapsto [+,-,+,-]; \\hspace{0.5cm} YY \\mapsto [+,-,-,+] ; \\hspace{0.5cm} ZX \\mapsto [+,+,-,-]\\}$$\n",
    "   \n",
    "   $$ \\Omega^z\\mapsto 7: \\hspace{.5cm}\\text{Expectation values} \\hspace{0.2cm} =  \\{ XY \\mapsto [-,+,-,+]; \\hspace{0.5cm} YX \\mapsto [-,+,+,-] ; \\hspace{0.5cm} ZZ \\mapsto [+,+,-,-]\\}$$\n",
    "   \n"
   ]
  }
 ],
 "metadata": {
  "kernelspec": {
   "display_name": "Python 3",
   "language": "python",
   "name": "python3"
  },
  "language_info": {
   "codemirror_mode": {
    "name": "ipython",
    "version": 3
   },
   "file_extension": ".py",
   "mimetype": "text/x-python",
   "name": "python",
   "nbconvert_exporter": "python",
   "pygments_lexer": "ipython3",
   "version": "3.8.5"
  }
 },
 "nbformat": 4,
 "nbformat_minor": 4
}
