{
 "cells": [
  {
   "cell_type": "code",
   "execution_count": 1,
   "metadata": {
    "execution": {
     "iopub.execute_input": "2021-05-29T17:53:18.787472Z",
     "iopub.status.busy": "2021-05-29T17:53:18.786475Z",
     "iopub.status.idle": "2021-05-29T17:53:21.956095Z",
     "shell.execute_reply": "2021-05-29T17:53:21.956095Z",
     "shell.execute_reply.started": "2021-05-29T17:53:18.787472Z"
    }
   },
   "outputs": [],
   "source": [
    "import numpy as np\n",
    "from GroupingAlgorithms import *\n",
    "from functions_VQE_v2 import *\n",
    "# Importing standard Qiskit libraries\n",
    "from qiskit import IBMQ, providers\n",
    "from qiskit.circuit.library import EfficientSU2\n",
    "from qiskit_nature.transformers import FreezeCoreTransformer\n",
    "from qiskit_nature.drivers import PyQuanteDriver\n",
    "from qiskit_nature.problems.second_quantization.electronic import ElectronicStructureProblem\n",
    "from qiskit_nature.mappers.second_quantization import ParityMapper, JordanWignerMapper\n",
    "from qiskit_nature.converters.second_quantization.qubit_converter import QubitConverter\n",
    "from qiskit.opflow import converters\n",
    "from qiskit.algorithms.optimizers import SPSA\n",
    "from qiskit.opflow.primitive_ops import Z2Symmetries"
   ]
  },
  {
   "cell_type": "code",
   "execution_count": 2,
   "metadata": {
    "execution": {
     "iopub.execute_input": "2021-05-29T17:53:21.958090Z",
     "iopub.status.busy": "2021-05-29T17:53:21.958090Z",
     "iopub.status.idle": "2021-05-29T17:53:29.991967Z",
     "shell.execute_reply": "2021-05-29T17:53:29.991967Z",
     "shell.execute_reply.started": "2021-05-29T17:53:21.958090Z"
    }
   },
   "outputs": [],
   "source": [
    "IBMQ.load_account()\n",
    "provider  = IBMQ.get_provider(hub='ibm-q-csic', group='internal', project='iff-csic') \n",
    "backend   = provider.get_backend('ibmq_paris')\n",
    "WC_paris  = get_backend_conectivity(backend)\n",
    "backend   = providers.aer.AerSimulator(method=\"statevector\") # Backend for simulation\n",
    "NUM_SHOTS = 2**13  # Number of shots for each circuit"
   ]
  },
  {
   "cell_type": "code",
   "execution_count": 3,
   "metadata": {
    "execution": {
     "iopub.execute_input": "2021-05-29T17:53:29.993960Z",
     "iopub.status.busy": "2021-05-29T17:53:29.993960Z",
     "iopub.status.idle": "2021-05-29T17:53:45.022724Z",
     "shell.execute_reply": "2021-05-29T17:53:45.021754Z",
     "shell.execute_reply.started": "2021-05-29T17:53:29.993960Z"
    }
   },
   "outputs": [
    {
     "name": "stdout",
     "output_type": "stream",
     "text": [
      "4\n",
      "-0.20316612481217325 * IIII\n",
      "+ (-0.365258527098598-1.3877787807814457e-17j) * ZIII\n",
      "+ 0.09275974420404098 * IZII\n",
      "- 0.2118902053549851 * ZZII\n",
      "+ (0.365258527098598+2.7755575615628914e-17j) * IIZI\n",
      "- 0.11384420116816225 * ZIZI\n",
      "+ 0.11395335131674317 * IZZI\n",
      "+ (-0.06043919280467715-3.469446951953614e-18j) * ZZZI\n",
      "+ (-0.09275974420404105-3.469446951953614e-18j) * IIIZ\n",
      "+ 0.11395335131674318 * ZIIZ\n",
      "+ (-0.12274347556009738-6.938893903907228e-18j) * IZIZ\n",
      "+ 0.056287757667526306 * ZZIZ\n",
      "+ (-0.2118902053549851-6.938893903907228e-18j) * IIZZ\n",
      "+ 0.06043919280467715 * ZIZZ\n",
      "- 0.056287757667526306 * IZZZ\n",
      "+ 0.0846016988633049 * ZZZZ\n",
      "+ 0.019390023793252498 * XIII\n",
      "+ (-0.019390023793252498+8.673617379884035e-19j) * XZII\n",
      "- 0.010951534973539137 * XIZI\n",
      "+ 0.010951534973539137 * XZZI\n",
      "+ 0.01277809801936714 * XIIZ\n",
      "- 0.01277809801936714 * XZIZ\n",
      "- 0.00900252139905185 * XIZZ\n",
      "+ 0.00900252139905185 * XZZZ\n",
      "- 0.002936887226605865 * IXII\n",
      "- 0.0029368872266058656 * ZXII\n",
      "+ 0.010679892682752462 * IXZI\n",
      "+ 0.010679892682752462 * ZXZI\n",
      "- 0.011923147970878475 * IXIZ\n",
      "+ (-0.011923147970878475+8.673617379884035e-19j) * ZXIZ\n",
      "+ 0.001696659423374515 * IXZZ\n",
      "+ (0.001696659423374515+1.0842021724855044e-19j) * ZXZZ\n",
      "+ 0.0007448136948643796 * XXII\n",
      "- 0.0007448136948643789 * YYII\n",
      "- 0.03439054159380009 * XXZI\n",
      "+ 0.03439054159380009 * YYZI\n",
      "+ 0.03239612975064377 * XXIZ\n",
      "- 0.03239612975064377 * YYIZ\n",
      "- 0.0027382496936227945 * XXZZ\n",
      "+ 0.0027382496936227945 * YYZZ\n",
      "+ (0.019390023793252498-8.673617379884035e-19j) * IIXI\n",
      "+ 0.010951534973539137 * ZIXI\n",
      "+ (-0.01277809801936714+8.673617379884035e-19j) * IZXI\n",
      "- 0.00900252139905185 * ZZXI\n",
      "+ 0.019390023793252498 * IIXZ\n",
      "+ 0.010951534973539137 * ZIXZ\n",
      "- 0.01277809801936714 * IZXZ\n",
      "- 0.00900252139905185 * ZZXZ\n",
      "+ 0.006586890911505881 * XIXI\n",
      "- 0.006586890911505881 * XZXI\n",
      "+ (0.006586890911505881-4.336808689942018e-19j) * XIXZ\n",
      "- 0.006586890911505881 * XZXZ\n",
      "- 0.0022204528143394257 * IXXI\n",
      "+ (-0.0022204528143394257-2.168404344971009e-19j) * ZXXI\n",
      "+ (-0.0022204528143394257-2.168404344971009e-19j) * IXXZ\n",
      "- 0.0022204528143394257 * ZXXZ\n",
      "+ 0.007858062290639314 * XXXI\n",
      "- 0.007858062290639314 * YYXI\n",
      "+ 0.007858062290639314 * XXXZ\n",
      "- 0.007858062290639314 * YYXZ\n",
      "- 0.002936887226605863 * IIIX\n",
      "- 0.010679892682752462 * ZIIX\n",
      "+ (0.011923147970878475-8.673617379884035e-19j) * IZIX\n",
      "+ 0.001696659423374515 * ZZIX\n",
      "+ 0.002936887226605863 * IIZX\n",
      "+ 0.010679892682752462 * ZIZX\n",
      "+ (-0.011923147970878475+8.673617379884035e-19j) * IZZX\n",
      "- 0.001696659423374515 * ZZZX\n",
      "- 0.0022204528143394257 * XIIX\n",
      "+ 0.0022204528143394257 * XZIX\n",
      "+ 0.0022204528143394257 * XIZX\n",
      "- 0.0022204528143394257 * XZZX\n",
      "+ 0.00313843976345993 * IXIX\n",
      "+ (0.0031384397634599296-2.168404344971009e-19j) * ZXIX\n",
      "- 0.00313843976345993 * IXZX\n",
      "+ (-0.0031384397634599296+2.168404344971009e-19j) * ZXZX\n",
      "- 0.008497862762266498 * XXIX\n",
      "+ 0.008497862762266498 * YYIX\n",
      "+ 0.008497862762266498 * XXZX\n",
      "- 0.008497862762266498 * YYZX\n",
      "+ 0.0007448136948643926 * IIXX\n",
      "+ 0.03439054159380009 * ZIXX\n",
      "- 0.03239612975064377 * IZXX\n",
      "- 0.0027382496936227945 * ZZXX\n",
      "- 0.000744813694864393 * IIYY\n",
      "- 0.03439054159380009 * ZIYY\n",
      "+ (0.03239612975064377+3.469446951953614e-18j) * IZYY\n",
      "+ 0.0027382496936227945 * ZZYY\n",
      "+ 0.007858062290639314 * XIXX\n",
      "- 0.007858062290639314 * XZXX\n",
      "- 0.007858062290639314 * XIYY\n",
      "+ 0.007858062290639314 * XZYY\n",
      "- 0.008497862762266498 * IXXX\n",
      "- 0.008497862762266498 * ZXXX\n",
      "+ 0.008497862762266498 * IXYY\n",
      "+ 0.008497862762266498 * ZXYY\n",
      "+ 0.03084669637448977 * XXXX\n",
      "- 0.03084669637448977 * YYXX\n",
      "- 0.03084669637448977 * XXYY\n",
      "+ 0.030846696374489765 * YYYY\n"
     ]
    }
   ],
   "source": [
    "molecule = 'Li 0.0 0.0 0.0; H 0.0 0.0 1.5474'\n",
    "driver = PyQuanteDriver(molecule)\n",
    "qmolecule = driver.run()\n",
    "freezeCoreTransfomer = FreezeCoreTransformer( freeze_core=True, remove_orbitals= [3,4] )\n",
    "problem = ElectronicStructureProblem(driver,q_molecule_transformers=[freezeCoreTransfomer])\n",
    "\n",
    "# Generate the second-quantized operators\n",
    "second_q_ops = problem.second_q_ops()\n",
    "\n",
    "# Hamiltonian\n",
    "main_op = second_q_ops[0]\n",
    "\n",
    "# Setup the mapper and qubit converter\n",
    "mapper_type = 'ParityMapper'\n",
    "mapper = ParityMapper()\n",
    "\n",
    "converter = QubitConverter( mapper=mapper, two_qubit_reduction=True, z2symmetry_reduction=[1,1],) #1] \n",
    "\n",
    "# The fermionic operators are mapped to qubit operators\n",
    "num_particles = (problem.molecule_data_transformed.num_alpha,\n",
    "             problem.molecule_data_transformed.num_beta)\n",
    "\n",
    "num_spin_orbitals = 2 * problem.molecule_data_transformed.num_molecular_orbitals\n",
    "\n",
    "qubit_op = converter.convert(main_op, num_particles=num_particles)\n",
    "\n",
    "num_qubits = qubit_op.num_qubits\n",
    "num_qubits = qubit_op.num_qubits\n",
    "WC=list(range(num_qubits))\n",
    "WC=list(permutations(list(range(num_qubits)),2))\n",
    "\n",
    "print( num_qubits )\n",
    "print( qubit_op )"
   ]
  },
  {
   "cell_type": "code",
   "execution_count": 4,
   "metadata": {
    "execution": {
     "iopub.execute_input": "2021-05-29T17:53:45.023748Z",
     "iopub.status.busy": "2021-05-29T17:53:45.023748Z",
     "iopub.status.idle": "2021-05-29T17:53:45.836023Z",
     "shell.execute_reply": "2021-05-29T17:53:45.834036Z",
     "shell.execute_reply.started": "2021-05-29T17:53:45.023748Z"
    }
   },
   "outputs": [
    {
     "name": "stdout",
     "output_type": "stream",
     "text": [
      "number of Paulis: 100\n",
      "number of TPB groups: 25\n"
     ]
    },
    {
     "name": "stderr",
     "output_type": "stream",
     "text": [
      "D:\\Saco_CSIC\\Programas\\Github\\Hardware-efficient-variational-quantum-eigensolver-with-entangled-measurements\\Codes\\GroupingAlgorithms.py:118: FutureWarning: Using a non-tuple sequence for multidimensional indexing is deprecated; use `arr[tuple(seq)]` instead of `arr[seq]`. In the future this will be interpreted as an array index, `arr[np.array(seq)]`, which will result either in an error or a different result.\n",
      "  if (list(Vi[[per]]) in Comp[Eps]) and (list(Vj[[per]]) in Comp[Eps]):\n"
     ]
    },
    {
     "name": "stdout",
     "output_type": "stream",
     "text": [
      "number of Bell groups: 15\n",
      "number of Bell groups: 9\n"
     ]
    }
   ],
   "source": [
    "paulis, coeff, label = Label2Chain(qubit_op)\n",
    "print( 'number of Paulis:', len(coeff) )\n",
    "\n",
    "Color, Groups_tpb, Measurements_tpb = TPBgrouping(paulis)\n",
    "print( 'number of TPB groups:', len(Groups_tpb) )\n",
    "Groups_tpb = [ [ idx2[0] for idx2 in idx1 ] for idx1 in Groups_tpb ]\n",
    "Measurements_tpb = [ [ [idx[j][0],[j]] for j in range(num_qubits) ] for idx in Measurements_tpb ]\n",
    "\n",
    "Groups_bell, Measurements_bell = grouping( paulis,[4,3,1,2],WC)\n",
    "print('number of Bell groups:', len(Groups_bell) )\n",
    "\n",
    "Groups_bell_paris, Measurements_bell_paris = grouping( paulis,[4,3,1,2],WC_paris)\n",
    "print('number of Bell groups:', len(Groups_bell_paris) )"
   ]
  },
  {
   "cell_type": "code",
   "execution_count": 5,
   "metadata": {
    "execution": {
     "iopub.execute_input": "2021-05-29T17:53:45.838015Z",
     "iopub.status.busy": "2021-05-29T17:53:45.837017Z",
     "iopub.status.idle": "2021-05-29T17:53:45.843510Z",
     "shell.execute_reply": "2021-05-29T17:53:45.842004Z",
     "shell.execute_reply.started": "2021-05-29T17:53:45.838015Z"
    }
   },
   "outputs": [],
   "source": [
    "# 0-1-2-3\n",
    "#   |\n",
    "#   4"
   ]
  },
  {
   "cell_type": "code",
   "execution_count": 6,
   "metadata": {
    "execution": {
     "iopub.execute_input": "2021-05-29T17:53:45.846503Z",
     "iopub.status.busy": "2021-05-29T17:53:45.845506Z",
     "iopub.status.idle": "2021-05-29T17:53:45.862460Z",
     "shell.execute_reply": "2021-05-29T17:53:45.861463Z",
     "shell.execute_reply.started": "2021-05-29T17:53:45.846503Z"
    }
   },
   "outputs": [
    {
     "data": {
      "text/plain": [
       "[[[4, [2, 3]], [4, [0, 1]]],\n",
       " [[1, [2]], [3, [3]], [4, [0, 1]]],\n",
       " [[1, [3]], [3, [2]], [4, [0, 1]]],\n",
       " [[1, [0]], [3, [1]], [4, [2, 3]]],\n",
       " [[1, [1]], [3, [0]], [4, [2, 3]]],\n",
       " [[4, [0, 2]], [4, [1, 3]]],\n",
       " [[4, [0, 3]], [4, [1, 2]]],\n",
       " [[3, [2]], [3, [3]], [3, [1]], [1, [0]]],\n",
       " [[3, [2]], [3, [3]], [3, [0]], [1, [1]]],\n",
       " [[3, [0]], [3, [1]], [3, [3]], [1, [2]]],\n",
       " [[3, [1]], [3, [3]], [1, [0]], [1, [2]]],\n",
       " [[3, [0]], [3, [3]], [1, [1]], [1, [2]]],\n",
       " [[3, [0]], [3, [1]], [3, [2]], [1, [3]]],\n",
       " [[3, [1]], [3, [2]], [1, [0]], [1, [3]]],\n",
       " [[3, [0]], [3, [2]], [1, [1]], [1, [3]]]]"
      ]
     },
     "execution_count": 6,
     "metadata": {},
     "output_type": "execute_result"
    }
   ],
   "source": [
    "Measurements_bell"
   ]
  },
  {
   "cell_type": "code",
   "execution_count": 7,
   "metadata": {
    "execution": {
     "iopub.execute_input": "2021-05-29T17:53:45.863457Z",
     "iopub.status.busy": "2021-05-29T17:53:45.863457Z",
     "iopub.status.idle": "2021-05-29T17:53:45.891383Z",
     "shell.execute_reply": "2021-05-29T17:53:45.889388Z",
     "shell.execute_reply.started": "2021-05-29T17:53:45.863457Z"
    }
   },
   "outputs": [
    {
     "data": {
      "text/plain": [
       "[[[4, [2, 3]], [4, [0, 1]]],\n",
       " [[1, [2]], [3, [3]], [4, [0, 1]]],\n",
       " [[1, [3]], [3, [2]], [4, [0, 1]]],\n",
       " [[1, [0]], [3, [1]], [4, [2, 3]]],\n",
       " [[1, [1]], [3, [0]], [4, [2, 3]]],\n",
       " [[1, [2]], [1, [0]], [3, [3]], [3, [1]]],\n",
       " [[1, [2]], [1, [1]], [3, [3]], [3, [0]]],\n",
       " [[1, [3]], [1, [0]], [3, [2]], [3, [1]]],\n",
       " [[1, [3]], [1, [1]], [3, [2]], [3, [0]]]]"
      ]
     },
     "execution_count": 7,
     "metadata": {},
     "output_type": "execute_result"
    }
   ],
   "source": [
    "Measurements_bell_paris"
   ]
  },
  {
   "cell_type": "code",
   "execution_count": 8,
   "metadata": {
    "execution": {
     "iopub.execute_input": "2021-05-29T17:53:45.895379Z",
     "iopub.status.busy": "2021-05-29T17:53:45.894381Z",
     "iopub.status.idle": "2021-05-29T17:53:45.910331Z",
     "shell.execute_reply": "2021-05-29T17:53:45.909335Z",
     "shell.execute_reply.started": "2021-05-29T17:53:45.895379Z"
    }
   },
   "outputs": [
    {
     "data": {
      "text/plain": [
       "[(0, 1), (1, 2), (2, 3)]"
      ]
     },
     "execution_count": 8,
     "metadata": {},
     "output_type": "execute_result"
    }
   ],
   "source": [
    "entangled_layer = []\n",
    "for qbs in WC_paris :\n",
    "    if qbs[0]<qbs[1] and qbs[1]<num_qubits :\n",
    "        entangled_layer.append(qbs)\n",
    "entangled_layer"
   ]
  },
  {
   "cell_type": "code",
   "execution_count": 9,
   "metadata": {
    "execution": {
     "iopub.execute_input": "2021-05-29T17:53:45.912326Z",
     "iopub.status.busy": "2021-05-29T17:53:45.912326Z",
     "iopub.status.idle": "2021-05-29T17:53:46.924460Z",
     "shell.execute_reply": "2021-05-29T17:53:46.924460Z",
     "shell.execute_reply.started": "2021-05-29T17:53:45.912326Z"
    }
   },
   "outputs": [
    {
     "data": {
      "image/png": "[encoded data removed]",
      "text/plain": [
       "<Figure size 507.997x264.88 with 1 Axes>"
      ]
     },
     "execution_count": 9,
     "metadata": {},
     "output_type": "execute_result"
    }
   ],
   "source": [
    "entangled_layer = []\n",
    "for qbs in WC_paris :\n",
    "    if qbs[0]<qbs[1] and qbs[1]<num_qubits :\n",
    "        entangled_layer.append(qbs)\n",
    "\n",
    "ansatz = EfficientSU2(num_qubits,['ry','rz'], entanglement=entangled_layer, reps=1)\n",
    "ansatz.draw(output='mpl')"
   ]
  },
  {
   "cell_type": "code",
   "execution_count": 10,
   "metadata": {
    "execution": {
     "iopub.execute_input": "2021-05-29T17:53:46.926455Z",
     "iopub.status.busy": "2021-05-29T17:53:46.925458Z",
     "iopub.status.idle": "2021-05-29T17:53:46.949393Z",
     "shell.execute_reply": "2021-05-29T17:53:46.948396Z",
     "shell.execute_reply.started": "2021-05-29T17:53:46.926455Z"
    }
   },
   "outputs": [],
   "source": [
    "prob2Exp =  probability2expected( coeff, label, Groups_tpb, Measurements_tpb )"
   ]
  },
  {
   "cell_type": "code",
   "execution_count": 18,
   "metadata": {
    "execution": {
     "iopub.execute_input": "2021-05-29T17:55:35.147835Z",
     "iopub.status.busy": "2021-05-29T17:55:35.147835Z",
     "iopub.status.idle": "2021-05-29T17:55:35.154802Z",
     "shell.execute_reply": "2021-05-29T17:55:35.153811Z",
     "shell.execute_reply.started": "2021-05-29T17:55:35.147835Z"
    }
   },
   "outputs": [
    {
     "data": {
      "text/plain": [
       "array([[-0.20316612, -0.20316612, -0.20316612, -0.20316612, -0.20316612,\n",
       "        -0.20316612, -0.20316612, -0.20316612, -0.20316612, -0.20316612,\n",
       "        -0.20316612, -0.20316612, -0.20316612, -0.20316612, -0.20316612,\n",
       "        -0.20316612],\n",
       "       [-0.00074481,  0.00074481,  0.00074481, -0.00074481, -0.00074481,\n",
       "         0.00074481,  0.00074481, -0.00074481, -0.00074481,  0.00074481,\n",
       "         0.00074481, -0.00074481, -0.00074481,  0.00074481,  0.00074481,\n",
       "        -0.00074481],\n",
       "       [-0.00074481, -0.00074481, -0.00074481, -0.00074481,  0.00074481,\n",
       "         0.00074481,  0.00074481,  0.00074481,  0.00074481,  0.00074481,\n",
       "         0.00074481,  0.00074481, -0.00074481, -0.00074481, -0.00074481,\n",
       "        -0.00074481],\n",
       "       [ 0.0308467 , -0.0308467 , -0.0308467 ,  0.0308467 , -0.0308467 ,\n",
       "         0.0308467 ,  0.0308467 , -0.0308467 , -0.0308467 ,  0.0308467 ,\n",
       "         0.0308467 , -0.0308467 ,  0.0308467 , -0.0308467 , -0.0308467 ,\n",
       "         0.0308467 ]])"
      ]
     },
     "execution_count": 18,
     "metadata": {},
     "output_type": "execute_result"
    }
   ],
   "source": [
    "prob2Exp[0]"
   ]
  },
  {
   "cell_type": "code",
   "execution_count": 19,
   "metadata": {
    "execution": {
     "iopub.execute_input": "2021-05-29T17:58:58.862295Z",
     "iopub.status.busy": "2021-05-29T17:58:58.861279Z",
     "iopub.status.idle": "2021-05-29T17:58:58.888206Z",
     "shell.execute_reply": "2021-05-29T17:58:58.887209Z",
     "shell.execute_reply.started": "2021-05-29T17:58:58.862295Z"
    }
   },
   "outputs": [],
   "source": [
    "qc = []\n",
    "n_measure = []\n",
    "for measure in Measurements_tpb :\n",
    "    qc_temp, n_measure_temp = measure_circuit_factor( measure , num_qubits )\n",
    "    qc.append( qc_temp.compose(ansatz,front=True) )\n",
    "    n_measure.append( n_measure_temp )"
   ]
  },
  {
   "cell_type": "code",
   "execution_count": 20,
   "metadata": {
    "execution": {
     "iopub.execute_input": "2021-05-29T17:58:59.486341Z",
     "iopub.status.busy": "2021-05-29T17:58:59.486341Z",
     "iopub.status.idle": "2021-05-29T17:58:59.495286Z",
     "shell.execute_reply": "2021-05-29T17:58:59.494289Z",
     "shell.execute_reply.started": "2021-05-29T17:58:59.486341Z"
    }
   },
   "outputs": [],
   "source": [
    "def Objective( pars, qc ) :\n",
    "    \n",
    "    qc = [ qci.assign_parameters(pars) for qci in qc ]\n",
    "    t_qc = transpile(qc, backend)\n",
    "    qc_obj = assemble(t_qc, shots=NUM_SHOTS)\n",
    "    counts = backend.run(qc_obj).result().get_counts()\n",
    "     \n",
    "    probabilities = [ post_process_results(counts[j], n_measure[j], NUM_SHOTS) for j in range(len(counts))]\n",
    "    \n",
    "    ExpectedValues = 0\n",
    "    for j in range(len(probabilities)) :\n",
    "        ExpectedValues += np.sum( prob2Exp[j]@probabilities[j] )\n",
    "        \n",
    "    return ExpectedValues    "
   ]
  },
  {
   "cell_type": "code",
   "execution_count": 34,
   "metadata": {
    "execution": {
     "iopub.execute_input": "2021-05-29T18:03:21.436833Z",
     "iopub.status.busy": "2021-05-29T18:03:21.435835Z",
     "iopub.status.idle": "2021-05-29T18:03:21.440822Z",
     "shell.execute_reply": "2021-05-29T18:03:21.440447Z",
     "shell.execute_reply.started": "2021-05-29T18:03:21.436833Z"
    }
   },
   "outputs": [],
   "source": [
    "num_var = 4*num_qubits\n",
    "pars = np.random.randn(num_var)\n",
    "fun1 = lambda pars : Objective( pars, qc )\n",
    "fun2 = lambda pars : objective_function(pars, coeff, label, Groups_tpb, Measurements_tpb, ansatz, backend, NUM_SHOTS)"
   ]
  },
  {
   "cell_type": "code",
   "execution_count": 43,
   "metadata": {
    "execution": {
     "iopub.execute_input": "2021-05-29T18:04:01.829701Z",
     "iopub.status.busy": "2021-05-29T18:04:01.829701Z",
     "iopub.status.idle": "2021-05-29T18:04:02.925379Z",
     "shell.execute_reply": "2021-05-29T18:04:02.924413Z",
     "shell.execute_reply.started": "2021-05-29T18:04:01.829701Z"
    }
   },
   "outputs": [
    {
     "data": {
      "text/plain": [
       "0.42295128254528386"
      ]
     },
     "execution_count": 43,
     "metadata": {},
     "output_type": "execute_result"
    }
   ],
   "source": [
    "fun1(pars)"
   ]
  },
  {
   "cell_type": "code",
   "execution_count": 44,
   "metadata": {
    "execution": {
     "iopub.execute_input": "2021-05-29T18:04:02.927373Z",
     "iopub.status.busy": "2021-05-29T18:04:02.926412Z",
     "iopub.status.idle": "2021-05-29T18:04:04.147537Z",
     "shell.execute_reply": "2021-05-29T18:04:04.146539Z",
     "shell.execute_reply.started": "2021-05-29T18:04:02.927373Z"
    }
   },
   "outputs": [
    {
     "data": {
      "text/plain": [
       "0.40445678499276466"
      ]
     },
     "execution_count": 44,
     "metadata": {},
     "output_type": "execute_result"
    }
   ],
   "source": [
    "fun2(pars)"
   ]
  },
  {
   "cell_type": "code",
   "execution_count": 23,
   "metadata": {
    "execution": {
     "iopub.execute_input": "2021-05-29T17:59:13.419856Z",
     "iopub.status.busy": "2021-05-29T17:59:13.418833Z",
     "iopub.status.idle": "2021-05-29T17:59:13.491644Z",
     "shell.execute_reply": "2021-05-29T17:59:13.490665Z",
     "shell.execute_reply.started": "2021-05-29T17:59:13.419856Z"
    }
   },
   "outputs": [
    {
     "data": {
      "text/plain": [
       "(0.06057733118933942+2.7755575615628914e-17j)"
      ]
     },
     "execution_count": 23,
     "metadata": {},
     "output_type": "execute_result"
    }
   ],
   "source": [
    "Hamiltonian = qubit_op.to_matrix()\n",
    "qc_state = ansatz.assign_parameters(pars)\n",
    "qc_state.save_statevector()\n",
    "state = backend.run(qc_state).result().get_statevector()\n",
    "np.vdot( state, Hamiltonian@state )"
   ]
  },
  {
   "cell_type": "code",
   "execution_count": 29,
   "metadata": {
    "execution": {
     "iopub.execute_input": "2021-05-29T18:01:03.727669Z",
     "iopub.status.busy": "2021-05-29T18:01:03.727669Z",
     "iopub.status.idle": "2021-05-29T18:01:03.732656Z",
     "shell.execute_reply": "2021-05-29T18:01:03.731660Z",
     "shell.execute_reply.started": "2021-05-29T18:01:03.727669Z"
    }
   },
   "outputs": [],
   "source": [
    "optimizer = SPSA(maxiter=100)"
   ]
  },
  {
   "cell_type": "code",
   "execution_count": 52,
   "metadata": {
    "execution": {
     "iopub.execute_input": "2021-05-29T19:01:02.320850Z",
     "iopub.status.busy": "2021-05-29T19:01:02.319852Z",
     "iopub.status.idle": "2021-05-29T19:01:02.328826Z",
     "shell.execute_reply": "2021-05-29T19:01:02.327862Z",
     "shell.execute_reply.started": "2021-05-29T19:01:02.320850Z"
    }
   },
   "outputs": [
    {
     "data": {
      "text/plain": [
       "\u001b[1;31mSignature:\u001b[0m\n",
       "\u001b[0moptimizer\u001b[0m\u001b[1;33m.\u001b[0m\u001b[0moptimize\u001b[0m\u001b[1;33m(\u001b[0m\u001b[1;33m\n",
       "\u001b[0m    \u001b[0mnum_vars\u001b[0m\u001b[1;33m,\u001b[0m\u001b[1;33m\n",
       "\u001b[0m    \u001b[0mobjective_function\u001b[0m\u001b[1;33m,\u001b[0m\u001b[1;33m\n",
       "\u001b[0m    \u001b[0mgradient_function\u001b[0m\u001b[1;33m=\u001b[0m\u001b[1;32mNone\u001b[0m\u001b[1;33m,\u001b[0m\u001b[1;33m\n",
       "\u001b[0m    \u001b[0mvariable_bounds\u001b[0m\u001b[1;33m=\u001b[0m\u001b[1;32mNone\u001b[0m\u001b[1;33m,\u001b[0m\u001b[1;33m\n",
       "\u001b[0m    \u001b[0minitial_point\u001b[0m\u001b[1;33m=\u001b[0m\u001b[1;32mNone\u001b[0m\u001b[1;33m,\u001b[0m\u001b[1;33m\n",
       "\u001b[0m\u001b[1;33m)\u001b[0m\u001b[1;33m\u001b[0m\u001b[1;33m\u001b[0m\u001b[0m\n",
       "\u001b[1;31mDocstring:\u001b[0m\n",
       "Perform optimization.\n",
       "\n",
       "Args:\n",
       "    num_vars (int) : Number of parameters to be optimized.\n",
       "    objective_function (callable) : A function that\n",
       "        computes the objective function.\n",
       "    gradient_function (callable) : A function that\n",
       "        computes the gradient of the objective function, or\n",
       "        None if not available.\n",
       "    variable_bounds (list[(float, float)]) : List of variable\n",
       "        bounds, given as pairs (lower, upper). None means\n",
       "        unbounded.\n",
       "    initial_point (numpy.ndarray[float]) : Initial point.\n",
       "\n",
       "Returns:\n",
       "    point, value, nfev\n",
       "       point: is a 1D numpy.ndarray[float] containing the solution\n",
       "       value: is a float with the objective function value\n",
       "       nfev: number of objective function calls made if available or None\n",
       "Raises:\n",
       "    ValueError: invalid input\n",
       "\u001b[1;31mFile:\u001b[0m      c:\\users\\luciano\\anaconda3\\lib\\site-packages\\qiskit\\algorithms\\optimizers\\spsa.py\n",
       "\u001b[1;31mType:\u001b[0m      method\n"
      ]
     },
     "metadata": {},
     "output_type": "display_data"
    }
   ],
   "source": [
    "optimizer.optimize?"
   ]
  },
  {
   "cell_type": "code",
   "execution_count": 46,
   "metadata": {
    "execution": {
     "iopub.execute_input": "2021-05-29T18:04:17.431484Z",
     "iopub.status.busy": "2021-05-29T18:04:17.431484Z",
     "iopub.status.idle": "2021-05-29T18:09:00.157204Z",
     "shell.execute_reply": "2021-05-29T18:09:00.157204Z",
     "shell.execute_reply.started": "2021-05-29T18:04:17.431484Z"
    }
   },
   "outputs": [],
   "source": [
    "results1 = optimizer.optimize( num_var, fun1, initial_point=pars )"
   ]
  },
  {
   "cell_type": "code",
   "execution_count": 47,
   "metadata": {
    "execution": {
     "iopub.execute_input": "2021-05-29T18:09:00.159200Z",
     "iopub.status.busy": "2021-05-29T18:09:00.158202Z",
     "iopub.status.idle": "2021-05-29T18:14:27.311138Z",
     "shell.execute_reply": "2021-05-29T18:14:27.311138Z",
     "shell.execute_reply.started": "2021-05-29T18:09:00.159200Z"
    }
   },
   "outputs": [],
   "source": [
    "results2 = optimizer.optimize( num_var, fun2, initial_point=pars )"
   ]
  },
  {
   "cell_type": "code",
   "execution_count": 49,
   "metadata": {
    "execution": {
     "iopub.execute_input": "2021-05-29T18:58:53.473699Z",
     "iopub.status.busy": "2021-05-29T18:58:53.473699Z",
     "iopub.status.idle": "2021-05-29T18:58:53.480684Z",
     "shell.execute_reply": "2021-05-29T18:58:53.479672Z",
     "shell.execute_reply.started": "2021-05-29T18:58:53.473699Z"
    }
   },
   "outputs": [
    {
     "data": {
      "text/plain": [
       "-0.958043134420705"
      ]
     },
     "execution_count": 49,
     "metadata": {},
     "output_type": "execute_result"
    }
   ],
   "source": [
    "results1[1]"
   ]
  },
  {
   "cell_type": "code",
   "execution_count": 50,
   "metadata": {
    "execution": {
     "iopub.execute_input": "2021-05-29T18:58:58.439699Z",
     "iopub.status.busy": "2021-05-29T18:58:58.439699Z",
     "iopub.status.idle": "2021-05-29T18:58:58.445683Z",
     "shell.execute_reply": "2021-05-29T18:58:58.444685Z",
     "shell.execute_reply.started": "2021-05-29T18:58:58.439699Z"
    }
   },
   "outputs": [
    {
     "data": {
      "text/plain": [
       "-0.9053558270977364"
      ]
     },
     "execution_count": 50,
     "metadata": {},
     "output_type": "execute_result"
    }
   ],
   "source": [
    "results2[1]"
   ]
  },
  {
   "cell_type": "code",
   "execution_count": null,
   "metadata": {},
   "outputs": [],
   "source": []
  },
  {
   "cell_type": "code",
   "execution_count": null,
   "metadata": {},
   "outputs": [],
   "source": []
  },
  {
   "cell_type": "code",
   "execution_count": null,
   "metadata": {},
   "outputs": [],
   "source": []
  },
  {
   "cell_type": "code",
   "execution_count": null,
   "metadata": {},
   "outputs": [],
   "source": []
  },
  {
   "cell_type": "code",
   "execution_count": null,
   "metadata": {},
   "outputs": [],
   "source": []
  },
  {
   "cell_type": "code",
   "execution_count": null,
   "metadata": {},
   "outputs": [],
   "source": []
  },
  {
   "cell_type": "code",
   "execution_count": null,
   "metadata": {},
   "outputs": [],
   "source": []
  },
  {
   "cell_type": "code",
   "execution_count": null,
   "metadata": {},
   "outputs": [],
   "source": []
  },
  {
   "cell_type": "code",
   "execution_count": null,
   "metadata": {},
   "outputs": [],
   "source": []
  },
  {
   "cell_type": "code",
   "execution_count": null,
   "metadata": {},
   "outputs": [],
   "source": []
  },
  {
   "cell_type": "code",
   "execution_count": null,
   "metadata": {},
   "outputs": [],
   "source": []
  },
  {
   "cell_type": "code",
   "execution_count": null,
   "metadata": {},
   "outputs": [],
   "source": []
  },
  {
   "cell_type": "code",
   "execution_count": null,
   "metadata": {},
   "outputs": [],
   "source": []
  }
 ],
 "metadata": {
  "kernelspec": {
   "display_name": "Python 3",
   "language": "python",
   "name": "python3"
  },
  "language_info": {
   "codemirror_mode": {
    "name": "ipython",
    "version": 3
   },
   "file_extension": ".py",
   "mimetype": "text/x-python",
   "name": "python",
   "nbconvert_exporter": "python",
   "pygments_lexer": "ipython3",
   "version": "3.7.7"
  }
 },
 "nbformat": 4,
 "nbformat_minor": 4
}
