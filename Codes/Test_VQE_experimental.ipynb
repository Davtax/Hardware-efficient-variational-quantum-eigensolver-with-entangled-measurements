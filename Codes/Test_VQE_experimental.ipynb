{
 "cells": [
  {
   "cell_type": "code",
   "execution_count": 22,
   "metadata": {
    "execution": {
     "iopub.execute_input": "2021-05-29T01:32:00.062436Z",
     "iopub.status.busy": "2021-05-29T01:32:00.061438Z",
     "iopub.status.idle": "2021-05-29T01:32:00.069417Z",
     "shell.execute_reply": "2021-05-29T01:32:00.068419Z",
     "shell.execute_reply.started": "2021-05-29T01:32:00.062436Z"
    }
   },
   "outputs": [],
   "source": [
    "import numpy as np\n",
    "from GroupingAlgorithms import *\n",
    "from functions_VQE_v2 import *\n",
    "# Importing standard Qiskit libraries\n",
    "from qiskit import IBMQ\n",
    "from qiskit.circuit.library import EfficientSU2\n",
    "from qiskit_nature.transformers import FreezeCoreTransformer\n",
    "from qiskit_nature.drivers import PyQuanteDriver\n",
    "from qiskit_nature.problems.second_quantization.electronic import ElectronicStructureProblem\n",
    "from qiskit_nature.mappers.second_quantization import ParityMapper, JordanWignerMapper\n",
    "from qiskit_nature.converters.second_quantization.qubit_converter import QubitConverter\n",
    "from qiskit.opflow import converters\n",
    "from qiskit.opflow.primitive_ops import Z2Symmetries"
   ]
  },
  {
   "cell_type": "code",
   "execution_count": 23,
   "metadata": {
    "execution": {
     "iopub.execute_input": "2021-05-29T01:32:00.072409Z",
     "iopub.status.busy": "2021-05-29T01:32:00.071416Z",
     "iopub.status.idle": "2021-05-29T01:32:06.706462Z",
     "shell.execute_reply": "2021-05-29T01:32:06.705460Z",
     "shell.execute_reply.started": "2021-05-29T01:32:00.072409Z"
    }
   },
   "outputs": [
    {
     "name": "stderr",
     "output_type": "stream",
     "text": [
      "ibmqfactory.load_account:WARNING:2021-05-29 03:32:00,571: Credentials are already in use. The existing account in the session will be replaced.\n"
     ]
    }
   ],
   "source": [
    "IBMQ.load_account()\n",
    "provider  = IBMQ.get_provider(hub='ibm-q-csic', group='internal', project='iff-csic') \n",
    "backend   = provider.get_backend('ibmq_paris')\n",
    "WC_paris  = get_backend_conectivity(backend)\n",
    "backend   = providers.aer.AerSimulator(method=\"statevector\") # Backend for simulation\n",
    "NUM_SHOTS = 2**10  # Number of shots for each circuit"
   ]
  },
  {
   "cell_type": "code",
   "execution_count": 48,
   "metadata": {
    "execution": {
     "iopub.execute_input": "2021-05-29T01:34:34.349661Z",
     "iopub.status.busy": "2021-05-29T01:34:34.349661Z",
     "iopub.status.idle": "2021-05-29T01:34:34.357655Z",
     "shell.execute_reply": "2021-05-29T01:34:34.356668Z",
     "shell.execute_reply.started": "2021-05-29T01:34:34.349661Z"
    }
   },
   "outputs": [
    {
     "name": "stdout",
     "output_type": "stream",
     "text": [
      "SummedOp([\n",
      "  IXZIXY,\n",
      "  ZXXXXI,\n",
      "  IXZIYI,\n",
      "  YIIYYY,\n",
      "  ZZYXZX,\n",
      "  XIXYZY,\n",
      "  YYZYYX,\n",
      "  XIXXXY,\n",
      "  YIZYZZ,\n",
      "  XZZIYZ,\n",
      "  YZYIZX,\n",
      "  YYZXIX,\n",
      "  IIZXIY,\n",
      "  YIYYYY,\n",
      "  YYIXXI,\n",
      "  XXIZZX,\n",
      "  ZXYXZZ,\n",
      "  XXYIYY,\n",
      "  YYYIZX,\n",
      "  XZZYXI,\n",
      "  XYIIYY,\n",
      "  IYIZYI,\n",
      "  IIXXZZ,\n",
      "  YYIXZZ,\n",
      "  ZZYXYI,\n",
      "  XZIZIZ,\n",
      "  ZXYYIX,\n",
      "  IIXIZZ,\n",
      "  YZZZXY,\n",
      "  IIXIXY,\n",
      "  XIYZXI,\n",
      "  XXYIIX,\n",
      "  ZXZZZZ,\n",
      "  XYXIXI,\n",
      "  XYXYIX,\n",
      "  IYIXIZ\n",
      "])\n"
     ]
    }
   ],
   "source": [
    "molecule = 'Li 0.0 0.0 0.0; H 0.0 0.0 1.5474'\n",
    "driver = PyQuanteDriver(molecule)\n",
    "qmolecule = driver.run()\n",
    "freezeCoreTransfomer = FreezeCoreTransformer(freeze_core=True,remove_orbitals= [3,4])\n",
    "problem = ElectronicStructureProblem(driver,q_molecule_transformers=[freezeCoreTransfomer])\n",
    "\n",
    "# Generate the second-quantized operators\n",
    "second_q_ops = problem.second_q_ops()\n",
    "\n",
    "# Hamiltonian\n",
    "main_op = second_q_ops[0]\n",
    "\n",
    "# Setup the mapper and qubit converter\n",
    "mapper_type = 'ParityMapper'\n",
    "mapper = ParityMapper()\n",
    "\n",
    "converter = QubitConverter( mapper=mapper, two_qubit_reduction=True, z2symmetry_reduction=[1,1],) #1] \n",
    "\n",
    "# The fermionic operators are mapped to qubit operators\n",
    "num_particles = (problem.molecule_data_transformed.num_alpha,\n",
    "             problem.molecule_data_transformed.num_beta)\n",
    "\n",
    "num_spin_orbitals = 2 * problem.molecule_data_transformed.num_molecular_orbitals\n",
    "\n",
    "qubit_op = converter.convert(main_op, num_particles=num_particles)\n",
    "\n",
    "num_qubits = qubit_op.num_qubits\n",
    "num_qubits = qubit_op.num_qubits\n",
    "WC=list(range(num_qubits))\n",
    "WC=list(permutations(list(range(num_qubits)),2))\n",
    "\n",
    "print( num_qubits )\n",
    "print( qubit_op )"
   ]
  },
  {
   "cell_type": "code",
   "execution_count": 59,
   "metadata": {
    "execution": {
     "iopub.execute_input": "2021-05-29T01:36:18.462362Z",
     "iopub.status.busy": "2021-05-29T01:36:18.461363Z",
     "iopub.status.idle": "2021-05-29T01:36:18.799459Z",
     "shell.execute_reply": "2021-05-29T01:36:18.799459Z",
     "shell.execute_reply.started": "2021-05-29T01:36:18.462362Z"
    }
   },
   "outputs": [
    {
     "name": "stdout",
     "output_type": "stream",
     "text": [
      "number of Paulis: 36\n",
      "number of TPB groups: 25\n",
      "number of Bell groups: 22\n",
      "number of Bell groups: 22\n"
     ]
    }
   ],
   "source": [
    "paulis, coeff, label = Label2Chain(qubit_op)\n",
    "print( 'number of Paulis:', len(coeff) )\n",
    "\n",
    "Color, Groups_tpb, Measurements_tpb = TPBgrouping(paulis)\n",
    "print( 'number of TPB groups:', len(Groups_tpb) )\n",
    "Groups_tpb = [ [ idx2[0] for idx2 in idx1 ] for idx1 in Groups_tpb ]\n",
    "Measurements_tpb = [ [ [idx[j][0],[j]] for j in range(num_qubits) ] for idx in Measurements_tpb ]\n",
    "\n",
    "Groups_bell, Measurements_bell = grouping( paulis,[4,3,1,2],WC)\n",
    "print('number of Bell groups:', len(Groups_bell) )\n",
    "\n",
    "Groups_bell_paris, Measurements_bell_paris = grouping( paulis,[4,3,1,2],WC_paris)\n",
    "print('number of Bell groups:', len(Groups_bell_paris) )"
   ]
  },
  {
   "cell_type": "code",
   "execution_count": 7,
   "metadata": {
    "execution": {
     "iopub.execute_input": "2021-05-29T01:31:51.685099Z",
     "iopub.status.busy": "2021-05-29T01:31:51.684102Z",
     "iopub.status.idle": "2021-05-29T01:31:51.689088Z",
     "shell.execute_reply": "2021-05-29T01:31:51.688095Z",
     "shell.execute_reply.started": "2021-05-29T01:31:51.685099Z"
    }
   },
   "outputs": [],
   "source": [
    "# 0-1-2-3\n",
    "#   |\n",
    "#   4"
   ]
  },
  {
   "cell_type": "code",
   "execution_count": 8,
   "metadata": {
    "execution": {
     "iopub.execute_input": "2021-05-29T01:31:51.692080Z",
     "iopub.status.busy": "2021-05-29T01:31:51.691099Z",
     "iopub.status.idle": "2021-05-29T01:31:51.703051Z",
     "shell.execute_reply": "2021-05-29T01:31:51.702054Z",
     "shell.execute_reply.started": "2021-05-29T01:31:51.692080Z"
    }
   },
   "outputs": [
    {
     "data": {
      "text/plain": [
       "[[[4, [2, 3]], [4, [0, 1]]],\n",
       " [[1, [2]], [3, [3]], [4, [0, 1]]],\n",
       " [[1, [3]], [3, [2]], [4, [0, 1]]],\n",
       " [[1, [0]], [3, [1]], [4, [2, 3]]],\n",
       " [[1, [1]], [3, [0]], [4, [2, 3]]],\n",
       " [[4, [0, 2]], [4, [1, 3]]],\n",
       " [[4, [0, 3]], [4, [1, 2]]],\n",
       " [[3, [2]], [3, [3]], [3, [1]], [1, [0]]],\n",
       " [[3, [2]], [3, [3]], [3, [0]], [1, [1]]],\n",
       " [[3, [0]], [3, [1]], [3, [3]], [1, [2]]],\n",
       " [[3, [1]], [3, [3]], [1, [0]], [1, [2]]],\n",
       " [[3, [0]], [3, [3]], [1, [1]], [1, [2]]],\n",
       " [[3, [0]], [3, [1]], [3, [2]], [1, [3]]],\n",
       " [[3, [1]], [3, [2]], [1, [0]], [1, [3]]],\n",
       " [[3, [0]], [3, [2]], [1, [1]], [1, [3]]]]"
      ]
     },
     "execution_count": 8,
     "metadata": {},
     "output_type": "execute_result"
    }
   ],
   "source": [
    "Measurements_bell"
   ]
  },
  {
   "cell_type": "code",
   "execution_count": 9,
   "metadata": {
    "execution": {
     "iopub.execute_input": "2021-05-29T01:31:51.706043Z",
     "iopub.status.busy": "2021-05-29T01:31:51.706043Z",
     "iopub.status.idle": "2021-05-29T01:31:51.714026Z",
     "shell.execute_reply": "2021-05-29T01:31:51.713024Z",
     "shell.execute_reply.started": "2021-05-29T01:31:51.706043Z"
    }
   },
   "outputs": [
    {
     "data": {
      "text/plain": [
       "[[[4, [2, 3]], [4, [0, 1]]],\n",
       " [[1, [2]], [3, [3]], [4, [0, 1]]],\n",
       " [[1, [3]], [3, [2]], [4, [0, 1]]],\n",
       " [[1, [0]], [3, [1]], [4, [2, 3]]],\n",
       " [[1, [1]], [3, [0]], [4, [2, 3]]],\n",
       " [[1, [2]], [1, [0]], [3, [3]], [3, [1]]],\n",
       " [[1, [2]], [1, [1]], [3, [3]], [3, [0]]],\n",
       " [[1, [3]], [1, [0]], [3, [2]], [3, [1]]],\n",
       " [[1, [3]], [1, [1]], [3, [2]], [3, [0]]]]"
      ]
     },
     "execution_count": 9,
     "metadata": {},
     "output_type": "execute_result"
    }
   ],
   "source": [
    "Measurements_bell_paris"
   ]
  },
  {
   "cell_type": "code",
   "execution_count": 14,
   "metadata": {
    "execution": {
     "iopub.execute_input": "2021-05-29T00:31:28.269100Z",
     "iopub.status.busy": "2021-05-29T00:31:28.268102Z",
     "iopub.status.idle": "2021-05-29T00:31:28.277206Z",
     "shell.execute_reply": "2021-05-29T00:31:28.276112Z",
     "shell.execute_reply.started": "2021-05-29T00:31:28.269100Z"
    }
   },
   "outputs": [
    {
     "data": {
      "text/plain": [
       "[(0, 1), (1, 2), (2, 3)]"
      ]
     },
     "execution_count": 14,
     "metadata": {},
     "output_type": "execute_result"
    }
   ],
   "source": [
    "entangled_layer = []\n",
    "for qbs in WC_paris :\n",
    "    if qbs[0]<qbs[1] and qbs[1]<num_qubits :\n",
    "        entangled_layer.append(qbs)\n",
    "entangled_layer"
   ]
  },
  {
   "cell_type": "code",
   "execution_count": 60,
   "metadata": {
    "execution": {
     "iopub.execute_input": "2021-05-29T01:36:18.801453Z",
     "iopub.status.busy": "2021-05-29T01:36:18.800456Z",
     "iopub.status.idle": "2021-05-29T01:36:19.300120Z",
     "shell.execute_reply": "2021-05-29T01:36:19.299148Z",
     "shell.execute_reply.started": "2021-05-29T01:36:18.801453Z"
    }
   },
   "outputs": [
    {
     "data": {
      "image/png": "[encoded data removed]",
      "text/plain": [
       "<Figure size 628.397x385.28 with 1 Axes>"
      ]
     },
     "execution_count": 60,
     "metadata": {},
     "output_type": "execute_result"
    }
   ],
   "source": [
    "entangled_layer = []\n",
    "for qbs in WC_paris :\n",
    "    if qbs[0]<qbs[1] and qbs[1]<num_qubits :\n",
    "        entangled_layer.append(qbs)\n",
    "\n",
    "ansatz = EfficientSU2(num_qubits,['ry','rz'], entanglement=entangled_layer, reps=1)\n",
    "ansatz.draw(output='mpl')"
   ]
  },
  {
   "cell_type": "code",
   "execution_count": 11,
   "metadata": {
    "execution": {
     "iopub.execute_input": "2021-05-29T01:31:52.241611Z",
     "iopub.status.busy": "2021-05-29T01:31:52.241611Z",
     "iopub.status.idle": "2021-05-29T01:31:52.253596Z",
     "shell.execute_reply": "2021-05-29T01:31:52.252724Z",
     "shell.execute_reply.started": "2021-05-29T01:31:52.241611Z"
    }
   },
   "outputs": [],
   "source": [
    "qc = []\n",
    "n_measure = []\n",
    "for measure in Measurements_bell :\n",
    "    qc_temp, n_measure_temp = measure_circuit_factor( measure , num_qubits )\n",
    "    qc.append( qc_temp )\n",
    "    n_measure.append( n_measure_temp )"
   ]
  },
  {
   "cell_type": "code",
   "execution_count": 61,
   "metadata": {
    "execution": {
     "iopub.execute_input": "2021-05-29T01:36:19.301117Z",
     "iopub.status.busy": "2021-05-29T01:36:19.301117Z",
     "iopub.status.idle": "2021-05-29T01:36:19.309095Z",
     "shell.execute_reply": "2021-05-29T01:36:19.308099Z",
     "shell.execute_reply.started": "2021-05-29T01:36:19.301117Z"
    }
   },
   "outputs": [],
   "source": [
    "fun1 = lambda params : objective_function(params, coeff, label, Groups_tpb, Measurements_tpb, ansatz, backend, NUM_SHOTS)\n",
    "fun2 = lambda params : objective_function(params, coeff, label, Groups_bell, Measurements_bell, ansatz, backend, NUM_SHOTS)\n",
    "fun3 = lambda params : objective_function(params, coeff, label, Groups_bell_paris, Measurements_bell_paris, ansatz, backend, NUM_SHOTS)"
   ]
  },
  {
   "cell_type": "code",
   "execution_count": 63,
   "metadata": {
    "execution": {
     "iopub.execute_input": "2021-05-29T01:36:19.332035Z",
     "iopub.status.busy": "2021-05-29T01:36:19.332035Z",
     "iopub.status.idle": "2021-05-29T01:36:19.337024Z",
     "shell.execute_reply": "2021-05-29T01:36:19.336053Z",
     "shell.execute_reply.started": "2021-05-29T01:36:19.332035Z"
    }
   },
   "outputs": [],
   "source": [
    "num_var = 4*num_qubits\n",
    "θ = np.random.randn(num_var)"
   ]
  },
  {
   "cell_type": "code",
   "execution_count": 21,
   "metadata": {
    "execution": {
     "iopub.execute_input": "2021-05-29T01:32:00.046478Z",
     "iopub.status.busy": "2021-05-29T01:32:00.045480Z",
     "iopub.status.idle": "2021-05-29T01:32:00.055455Z",
     "shell.execute_reply": "2021-05-29T01:32:00.053460Z",
     "shell.execute_reply.started": "2021-05-29T01:32:00.046478Z"
    }
   },
   "outputs": [],
   "source": [
    "# from scipy.optimize import minimize\n",
    "# import matplotlib.pyplot as plt\n",
    "# import numpy as np\n",
    "# from functions_VQE import objective_function, from_string_to_numbers\n",
    "# from qiskit import *\n",
    "# from GroupingAlgorithms import grouping\n",
    "# from itertools import permutations\n",
    "# from qiskit.circuit.library import EfficientSU2\n",
    "# from qiskit.aqua.operators.legacy import WeightedPauliOperator\n",
    "# from qiskit.quantum_info import Pauli\n",
    "# from qiskit.aqua.algorithms import NumPyEigensolver, VQE\n",
    "# from qiskit.aqua.components.optimizers import COBYLA\n",
    "\n",
    "\n",
    "# def get_var_form(params, qr, cr):\n",
    "#     \"\"\"\n",
    "#     Generate the variational circuit using a efficientSU2 circuit, with linear entanglements between qubits (the cnot\n",
    "#     gates are only applied to neighbours qubits). Each repetition of the circuit is formed by a R_y and R_z to all the\n",
    "#     qubits, and then the cnot gates.\n",
    "\n",
    "#     Parameters\n",
    "#     ----------\n",
    "#     param (numpy.array): Array with the values of the angles of each one qubit rotation gate\n",
    "#     reps (Optional, int): Number of repetitions for the variational circuit\n",
    "\n",
    "#     Return\n",
    "#     ------\n",
    "#     (qiskit.circuit) of N qubits and N classical registers, with the variational form\n",
    "#     \"\"\"\n",
    "#     qc = QuantumCircuit(*qr,\n",
    "#                         *cr)  # Create a quantum circuit with classical registers, so later we can concatenate circuits\n",
    "\n",
    "#     # Create variational circuit (without classical register), and substitute the parameters of each gate\n",
    "#     qc_temp = EfficientSU2(num_qubits, entanglement='full', reps=n_rep).bind_parameters(params)\n",
    "\n",
    "#     return qc.compose(qc_temp)  # Add a  classical register to the circuit\n",
    "\n",
    "\n",
    "# def create_pauli_qiskit(weights, labels):\n",
    "#     \"\"\"\n",
    "#     Transform a Pauli Weight in form of dictionary into a qiskit operator. To preforms this transformation we construct\n",
    "#     a list, in which each elements is another list of the form [weight, Pauli].\n",
    "\n",
    "#     Parameters\n",
    "#     ----------\n",
    "#     pauli (dic{'str': complex}): Each keys is a string representing the Pauli chains, e.g., 'IXXZ', and the values are\n",
    "#                                given by the weight of each Pauli string.\n",
    "\n",
    "#     Returns\n",
    "#     -------\n",
    "#     (WeightedPauliOperator) qiskit operator\n",
    "\n",
    "#     \"\"\"\n",
    "#     temp = []  # List in which save the weights and the Pauli strings\n",
    "#     for label, weight in zip(labels, weights):  # Iterate over all the Pauli strings\n",
    "#         temp.append([weight, Pauli(label)])\n",
    "#     return WeightedPauliOperator(temp)  # Transform the list into a qiskit operator\n",
    "\n",
    "\n",
    "# initial_state = np.array([0, -1j * np.sqrt(5) / 2, -1 / 2, 0, 0, 0, 0, 0, 0, 0, 0, 0, 1, 0, 0, 0])\n",
    "# initial_state = initial_state / np.linalg.norm(initial_state)\n",
    "\n",
    "# backend = Aer.get_backend(\"qasm_simulator\")  # Backend for simulation\n",
    "# NUM_SHOTS = 100000  # Number of shots for each circuit\n",
    "# classical_optimizer = 'COBYLA'\n",
    "# basis = [4, 6, 7, 8, 9, 5, 3, 2, 1]\n",
    "\n",
    "# num_qubits = 2\n",
    "# n_rep = 4\n",
    "# num_vars = num_qubits * 2 * (\n",
    "#         n_rep + 1)  # Number of parameters of the variational circuit, one parameters for each R_z and R_y\n",
    "# WC = list(permutations(list(range(num_qubits)), 2))\n",
    "\n",
    "# # lower and upper bound for variables\n",
    "# bounds = [[-2 * np.pi, 2 * np.pi]] * num_vars  # From 0 to 2 pi ??\n",
    "\n",
    "# # construct the bounds in the form of constraints\n",
    "# cons = []\n",
    "# for factor in range(len(bounds)):\n",
    "#     lower, upper = bounds[factor]\n",
    "#     l = {'type': 'ineq',\n",
    "#          'fun': lambda x, lb=lower, i=factor: x[i] - lb}\n",
    "#     u = {'type': 'ineq',\n",
    "#          'fun': lambda x, ub=upper, i=factor: ub - x[i]}\n",
    "#     cons.append(l)\n",
    "#     cons.append(u)\n",
    "\n",
    "# Pauli_weights = [1, 5, -1]\n",
    "# Pauli_labels = ['XX', 'YY', 'XZ']\n",
    "\n",
    "# pauli_qiskit = create_pauli_qiskit(Pauli_weights, Pauli_labels)\n",
    "# exact_result = NumPyEigensolver(pauli_qiskit).run()\n",
    "# exact_energy = np.real(exact_result.eigenvalues)[0]\n",
    "# print('The exact energy is {:.3f}'.format(exact_energy))\n",
    "\n",
    "# PS = from_string_to_numbers(Pauli_labels)\n",
    "# Groups, Measurements = grouping(PS, basis, WC)\n",
    "\n",
    "# # optimizer = COBYLA(maxiter=1000, disp=True)\n",
    "# # vqe = VQE(pauli_qiskit, EfficientSU2(num_qubits, entanglement='full', reps=n_rep), optimizer)\n",
    "# # results = vqe.run(backend)\n",
    "# # vqe_result = np.real(results['eigenvalue'])\n",
    "# # print(vqe_result)\n",
    "\n",
    "# initial_params = np.random.rand(num_vars)  # Initialize the parameters for the variational circuit with random values\n",
    "# result = minimize(objective_function, initial_params,\n",
    "#                   args=(Pauli_weights, Pauli_labels, Groups, Measurements, get_var_form, backend, NUM_SHOTS),\n",
    "#                   options={'maxiter': 1000, 'disp': True}, constraints=cons, method=classical_optimizer)\n"
   ]
  },
  {
   "cell_type": "code",
   "execution_count": null,
   "metadata": {},
   "outputs": [],
   "source": []
  },
  {
   "cell_type": "code",
   "execution_count": null,
   "metadata": {},
   "outputs": [],
   "source": []
  },
  {
   "cell_type": "code",
   "execution_count": null,
   "metadata": {},
   "outputs": [],
   "source": []
  },
  {
   "cell_type": "code",
   "execution_count": null,
   "metadata": {},
   "outputs": [],
   "source": []
  },
  {
   "cell_type": "code",
   "execution_count": null,
   "metadata": {},
   "outputs": [],
   "source": []
  },
  {
   "cell_type": "code",
   "execution_count": null,
   "metadata": {},
   "outputs": [],
   "source": []
  },
  {
   "cell_type": "code",
   "execution_count": null,
   "metadata": {},
   "outputs": [],
   "source": []
  },
  {
   "cell_type": "code",
   "execution_count": null,
   "metadata": {},
   "outputs": [],
   "source": []
  },
  {
   "cell_type": "code",
   "execution_count": null,
   "metadata": {},
   "outputs": [],
   "source": []
  },
  {
   "cell_type": "code",
   "execution_count": null,
   "metadata": {},
   "outputs": [],
   "source": []
  },
  {
   "cell_type": "code",
   "execution_count": null,
   "metadata": {},
   "outputs": [],
   "source": []
  },
  {
   "cell_type": "code",
   "execution_count": null,
   "metadata": {},
   "outputs": [],
   "source": []
  }
 ],
 "metadata": {
  "kernelspec": {
   "display_name": "Python 3",
   "language": "python",
   "name": "python3"
  },
  "language_info": {
   "codemirror_mode": {
    "name": "ipython",
    "version": 3
   },
   "file_extension": ".py",
   "mimetype": "text/x-python",
   "name": "python",
   "nbconvert_exporter": "python",
   "pygments_lexer": "ipython3",
   "version": "3.7.7"
  }
 },
 "nbformat": 4,
 "nbformat_minor": 4
}
