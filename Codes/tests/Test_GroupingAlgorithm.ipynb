{
 "cells": [
  {
   "cell_type": "code",
   "execution_count": 1,
   "metadata": {},
   "outputs": [],
   "source": [
    "import numpy as np\n",
    "import networkx as nx\n",
    "from itertools import permutations\n",
    "import time\n",
    "from GroupingAlgorithm import grouping, TPBgrouping"
   ]
  },
  {
   "cell_type": "markdown",
   "metadata": {},
   "source": [
    "# Test Grouping algorithm"
   ]
  },
  {
   "cell_type": "markdown",
   "metadata": {},
   "source": [
    "Notebook to run different tests on the grouping functions. These functions are included in the document __GroupingAlgorithm.py__."
   ]
  },
  {
   "cell_type": "markdown",
   "metadata": {},
   "source": [
    "## Test 1: Easy TPB grouping"
   ]
  },
  {
   "cell_type": "markdown",
   "metadata": {},
   "source": [
    "We start off with a very naive example. We manually create four chains that we know in advance how they should be grouped. This test is performed with the TPBgrouping function, which implements the LDFC algorithm (the same qiskit uses)."
   ]
  },
  {
   "cell_type": "code",
   "execution_count": 2,
   "metadata": {},
   "outputs": [
    {
     "name": "stdout",
     "output_type": "stream",
     "text": [
      "Execution time 0.002127201994881034 seconds\n",
      "Colors {1: 0, 2: 1, 0: 2, 3: 2}\n",
      "Groups [[1], [2], [0, 3]]\n",
      "Measurements [[[2, [0]], [2, [1]], [3, [2]]], [[3, [0]], [3, [1]], [3, [2]]], [[1, [0]], [1, [1]], [1, [2]]]]\n"
     ]
    }
   ],
   "source": [
    "start=time.time()\n",
    "PS=np.array([[1,1,0],[2,2,3],[3,3,3],[0,1,1]])\n",
    "Colors, Groups, Measurements = TPBgrouping(PS)\n",
    "print('Execution time', time.time()-start, 'seconds')\n",
    "print('Colors', Colors)\n",
    "print('Groups', Groups)\n",
    "print('Measurements', Measurements)"
   ]
  },
  {
   "cell_type": "markdown",
   "metadata": {},
   "source": [
    "Test is succesful. Chains 0 ($\\{X,X,I\\}$) and 3 ($\\{I,X,X\\}$) get grouped. This is the only option allowing only local measurements."
   ]
  },
  {
   "cell_type": "markdown",
   "metadata": {},
   "source": [
    "## Test 2: Hard TPB grouping"
   ]
  },
  {
   "cell_type": "markdown",
   "metadata": {},
   "source": [
    "Much more demanding test, also with the TPBgrouping function but now with 400 Pauli strings, each of them composed of 6 Pauli operators. Te objective of this test is essentially to check the execution time."
   ]
  },
  {
   "cell_type": "code",
   "execution_count": 3,
   "metadata": {},
   "outputs": [
    {
     "name": "stdout",
     "output_type": "stream",
     "text": [
      "Execution time 1.7683753420133144 seconds\n",
      "Number of groups 139\n",
      "Strings of the first group [[1 1 3 1 3 2]\n",
      " [1 1 3 1 3 0]]\n",
      "Measurements of the first group [[1, [0]], [1, [1]], [3, [2]], [1, [3]], [3, [4]], [2, [5]]]\n"
     ]
    }
   ],
   "source": [
    "start=time.time()\n",
    "N=6\n",
    "np.random.seed(0)\n",
    "PS=np.random.randint(0,4,[400,N])\n",
    "Colors, Groups, Measurements=TPBgrouping(PS)\n",
    "print('Execution time', time.time()-start, 'seconds')\n",
    "print('Number of groups', len(Groups))\n",
    "print('Strings of the first group', PS[Groups[0],:])\n",
    "print('Measurements of the first group', Measurements[0])"
   ]
  },
  {
   "cell_type": "markdown",
   "metadata": {},
   "source": [
    "## Test 3: Easy Bell grouping (all-to-all connectivity)"
   ]
  },
  {
   "cell_type": "markdown",
   "metadata": {},
   "source": [
    "We introduce by hand 3 strings of three qubits and allow Bell measurements as well as TPB. The example has been puròsedly chosen such that a Bell measurement can group the qubits 0 and 1 of all three chains. \n",
    "\n",
    "Test is succesful."
   ]
  },
  {
   "cell_type": "code",
   "execution_count": 4,
   "metadata": {},
   "outputs": [
    {
     "name": "stdout",
     "output_type": "stream",
     "text": [
      "Execution time 0.0015723860124126077 seconds\n",
      "Groups [[0, 1, 2]] This means that there is only one groups, with strings 0, 1 and 2.\n",
      "Measurements [[[4, [0, 1]], [3, [2]]]] This means that (for the group 0) the measurement 4 (Bell) should be performed on the qubits 0 and 1, and the measurement 3 (TPBZ) should be performed on qubit 2\n"
     ]
    }
   ],
   "source": [
    "start=time.time()\n",
    "PS=np.array([[1,1,3],[2,2,3],[3,3,3]])\n",
    "WC=list(permutations(list(range(3)),2))\n",
    "Groups, Measurements=grouping(PS,[4,3,2,1],WC)\n",
    "print('Execution time', time.time()-start, 'seconds')\n",
    "print('Groups', Groups, 'This means that there is only one groups, with strings 0, 1 and 2.')\n",
    "print('Measurements', Measurements, 'This means that (for the group 0) the measurement 4 (Bell) should be performed on the qubits 0 and 1, and the measurement 3 (TPBZ) should be performed on qubit 2')"
   ]
  },
  {
   "cell_type": "markdown",
   "metadata": {},
   "source": [
    "##  Test 4: No grouping (all-to-all connectivity)"
   ]
  },
  {
   "cell_type": "markdown",
   "metadata": {},
   "source": [
    "Test in which we know by hand that no grouping is possible using only TPB+Bell."
   ]
  },
  {
   "cell_type": "code",
   "execution_count": 5,
   "metadata": {},
   "outputs": [
    {
     "name": "stdout",
     "output_type": "stream",
     "text": [
      "Execution time 0.0017528400057926774 seconds\n",
      "Groups [[0], [1], [2]] This means that there are 3 groups, one for each string.\n",
      "Measurements [[[1, [0]], [2, [1]], [3, [2]]], [[3, [0]], [2, [1]], [2, [2]]], [[1, [0]], [3, [1]], [2, [2]]]]\n",
      "Measurements of group 0: [[1, [0]], [2, [1]], [3, [2]]] This means that (for the group 0) the measurement 1 (TPBX) should be performed on the qubit 0, the measurement 2 (TPBY) should be performed on the qubit 1 and the measurement 3 (TPBZ) should be performed on the qubit 2.\n"
     ]
    }
   ],
   "source": [
    "start=time.time()\n",
    "PS=np.array([[1,2,3],[3,2,2],[1,3,2]])\n",
    "WC=list(permutations(list(range(3)),2))\n",
    "Groups, Measurements=grouping(PS,[4,3,2,1],WC)#  Only the measurements 4 (Bell) and TPB are considered for grouping). The Bell measurement is the preferential.\n",
    "print('Execution time', time.time()-start, 'seconds')\n",
    "print('Groups', Groups, 'This means that there are 3 groups, one for each string.')\n",
    "print('Measurements', Measurements)\n",
    "print('Measurements of group 0:', Measurements[0],  'This means that (for the group 0) the measurement 1 (TPBX) should be performed on the qubit 0, the measurement 2 (TPBY) should be performed on the qubit 1 and the measurement 3 (TPBZ) should be performed on the qubit 2.')"
   ]
  },
  {
   "cell_type": "markdown",
   "metadata": {},
   "source": [
    "## Test 5: Different conectivities"
   ]
  },
  {
   "cell_type": "markdown",
   "metadata": {},
   "source": [
    "We check that the grouping depends on the connectivity (which qubits in the are allowed to get entangled with which).\n",
    "\n",
    "First, with this example of 3 Pauli strings and all-to-all conections we check that grouping into just 1 group is possible."
   ]
  },
  {
   "cell_type": "code",
   "execution_count": 6,
   "metadata": {},
   "outputs": [
    {
     "name": "stdout",
     "output_type": "stream",
     "text": [
      "Execution time 0.0012155469739809632 seconds\n",
      "Groups [[0, 1, 2]]\n",
      "Measurements [[[4, [0, 2]], [1, [1]]]]\n"
     ]
    }
   ],
   "source": [
    "start=time.time()\n",
    "PS=np.array([[1,1,1],[2,1,2],[3,1,3]])\n",
    "WC=list(permutations(list(range(3)),2))\n",
    "Groups, Measurements=grouping(PS,[4,3,2,1],WC)\n",
    "print('Execution time', time.time()-start, 'seconds')\n",
    "print('Groups', Groups)\n",
    "print('Measurements', Measurements)"
   ]
  },
  {
   "cell_type": "markdown",
   "metadata": {},
   "source": [
    "If we restrict the conectivity between qubits, for the same example the number of groups increases. It goes from 1 group --> to 3 groups."
   ]
  },
  {
   "cell_type": "code",
   "execution_count": 7,
   "metadata": {},
   "outputs": [
    {
     "name": "stdout",
     "output_type": "stream",
     "text": [
      "Execution time 0.0016435800353065133 seconds\n",
      "Groups [[0], [1], [2]]\n",
      "Measurements [[[1, [0]], [1, [1]], [1, [2]]], [[2, [0]], [1, [1]], [2, [2]]], [[3, [0]], [1, [1]], [3, [2]]]]\n"
     ]
    }
   ],
   "source": [
    "start=time.time()\n",
    "PS=np.array([[1,1,1],[2,1,2],[3,1,3]])\n",
    "WC=[0,1,2,(0,1),(1,0)]\n",
    "Groups, Measurements=grouping(PS,[4,3,2,1],WC)\n",
    "print('Execution time', time.time()-start, 'seconds')\n",
    "print('Groups', Groups)\n",
    "print('Measurements', Measurements)"
   ]
  },
  {
   "cell_type": "markdown",
   "metadata": {},
   "source": [
    "## Test 6: Hard grouping test. Measurement preference dependence"
   ]
  },
  {
   "cell_type": "markdown",
   "metadata": {},
   "source": [
    "Here, we show with an example that the grouping algorithm works with hard instances for PS. In addition, we show that the algorithm depends on the preference of assigned measurements.\n"
   ]
  },
  {
   "cell_type": "code",
   "execution_count": 8,
   "metadata": {},
   "outputs": [
    {
     "name": "stdout",
     "output_type": "stream",
     "text": [
      "Execution time 1.8879329759511165 seconds\n",
      "Number of groups 80\n",
      "Strings of the first group [[1 1 3 1 3 2]\n",
      " [1 3 1 1 3 2]\n",
      " [2 1 3 1 2 2]\n",
      " [1 3 1 3 3 3]\n",
      " [2 1 3 0 2 0]]\n",
      "Measurements of the first group [[6, [1, 2]], [6, [0, 4]], [7, [3, 5]]]\n"
     ]
    }
   ],
   "source": [
    "start=time.time()\n",
    "N=6\n",
    "np.random.seed(0)\n",
    "WC=list(permutations(list(range(N)),2))\n",
    "AM=[1,2,3,4,5,6,7,8,9] \n",
    "PS=np.random.randint(0,4,[400,N])\n",
    "Groups, Measurements=grouping(PS,AM,WC)\n",
    "print('Execution time', time.time()-start, 'seconds')\n",
    "print('Number of groups', len(Groups))\n",
    "print('Strings of the first group', PS[Groups[0],:])\n",
    "print('Measurements of the first group', Measurements[0])"
   ]
  },
  {
   "cell_type": "code",
   "execution_count": 10,
   "metadata": {},
   "outputs": [
    {
     "name": "stdout",
     "output_type": "stream",
     "text": [
      "Execution time 1.9476499669835903 seconds\n",
      "Number of groups 82\n",
      "Strings of the first group [[1 1 3 1 3 2]\n",
      " [1 3 1 1 3 2]\n",
      " [2 1 3 1 2 2]\n",
      " [1 3 1 3 3 3]\n",
      " [2 1 3 0 2 0]]\n",
      "Measurements of the first group [[6, [1, 2]], [6, [0, 4]], [7, [3, 5]]]\n"
     ]
    }
   ],
   "source": [
    "start=time.time()\n",
    "AM=[9,8,7,6,5,4,3,2,1] \n",
    "Groups, Measurements=grouping(PS,AM,WC)\n",
    "print('Execution time', time.time()-start, 'seconds')\n",
    "print('Number of groups', len(Groups))\n",
    "print('Strings of the first group', PS[Groups[0],:])\n",
    "print('Measurements of the first group', Measurements[0])"
   ]
  },
  {
   "cell_type": "markdown",
   "metadata": {},
   "source": [
    "import qiskit.tools.jupyter\n",
    "%qiskit_version_table__For a much more careful discussion on how the order in which the measurements are assigned, as well as the order of the Pauli strings, please visit the notebook: Order_Paulis__"
   ]
  },
  {
   "cell_type": "code",
   "execution_count": 1,
   "metadata": {
    "execution": {
     "iopub.execute_input": "2021-06-04T06:17:00.784551Z",
     "iopub.status.busy": "2021-06-04T06:17:00.784174Z",
     "iopub.status.idle": "2021-06-04T06:17:02.071518Z",
     "shell.execute_reply": "2021-06-04T06:17:02.070975Z",
     "shell.execute_reply.started": "2021-06-04T06:17:00.784458Z"
    }
   },
   "outputs": [
    {
     "data": {
      "text/html": [
       "<h3>Version Information</h3><table><tr><th>Qiskit Software</th><th>Version</th></tr><tr><td>Qiskit</td><td>0.26.0</td></tr><tr><td>Terra</td><td>0.17.3</td></tr><tr><td>Aer</td><td>0.8.2</td></tr><tr><td>Ignis</td><td>0.6.0</td></tr><tr><td>Aqua</td><td>0.9.1</td></tr><tr><td>IBM Q Provider</td><td>0.13.1</td></tr><tr><th>System information</th></tr><tr><td>Python</td><td>3.8.8 (default, Apr 13 2021, 19:58:26) \n",
       "[GCC 7.3.0]</td></tr><tr><td>OS</td><td>Linux</td></tr><tr><td>CPUs</td><td>12</td></tr><tr><td>Memory (Gb)</td><td>31.36279296875</td></tr><tr><td colspan='2'>Fri Jun 04 08:17:02 2021 CEST</td></tr></table>"
      ],
      "text/plain": [
       "<IPython.core.display.HTML object>"
      ]
     },
     "metadata": {},
     "output_type": "display_data"
    }
   ],
   "source": [
    "import qiskit.tools.jupyter\n",
    "%qiskit_version_table"
   ]
  }
 ],
 "metadata": {
  "kernelspec": {
   "display_name": "Python 3",
   "language": "python",
   "name": "python3"
  },
  "language_info": {
   "codemirror_mode": {
    "name": "ipython",
    "version": 3
   },
   "file_extension": ".py",
   "mimetype": "text/x-python",
   "name": "python",
   "nbconvert_exporter": "python",
   "pygments_lexer": "ipython3",
   "version": "3.8.6"
  }
 },
 "nbformat": 4,
 "nbformat_minor": 4
}
