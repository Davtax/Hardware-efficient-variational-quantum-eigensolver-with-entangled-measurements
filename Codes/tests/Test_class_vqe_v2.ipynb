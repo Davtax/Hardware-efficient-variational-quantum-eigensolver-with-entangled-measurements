{
 "cells": [
  {
   "cell_type": "code",
   "execution_count": 1,
   "metadata": {},
   "outputs": [],
   "source": [
    "import sys\n",
    "sys.path.append('../')\n",
    "import numpy as np\n",
    "import matplotlib.pyplot as plt\n",
    "from VQE_v2 import VQE\n",
    "from GroupingAlgorithm import *\n",
    "from utils import get_backend_conectivity, RandomHamiltonian\n",
    "# Importing standard Qiskit libraries\n",
    "from qiskit import IBMQ, QuantumCircuit\n",
    "from qiskit import Aer\n",
    "from qiskit.circuit.library import EfficientSU2\n",
    "from qiskit.utils.quantum_instance import QuantumInstance\n",
    "from qiskit.algorithms import NumPyMinimumEigensolver\n",
    "from qiskit.ignis.mitigation.measurement import CompleteMeasFitter\n",
    "from qiskit.algorithms.optimizers import SPSA\n",
    "from IPython.display import display, clear_output"
   ]
  },
  {
   "cell_type": "markdown",
   "metadata": {},
   "source": [
    "In this notebook we test the VQE class. First we load our IBM account and define the backends. "
   ]
  },
  {
   "cell_type": "code",
   "execution_count": 2,
   "metadata": {},
   "outputs": [],
   "source": [
    "IBMQ.load_account()\n",
    "provider      = IBMQ.get_provider(hub='ibm-q-csic', group='internal', project='iff-csic') \n",
    "backend_paris = provider.get_backend('ibmq_montreal')\n",
    "WC_paris      = get_backend_conectivity(backend_paris)\n",
    "backend_sim   = Aer.get_backend('aer_simulator') # Backend for simulation\n",
    "NUM_SHOTS = 2**13  # Number of shots for each circuit"
   ]
  },
  {
   "cell_type": "code",
   "execution_count": null,
   "metadata": {},
   "outputs": [],
   "source": []
  },
  {
   "cell_type": "markdown",
   "metadata": {
    "execution": {
     "iopub.execute_input": "2021-06-03T17:13:33.105425Z",
     "iopub.status.busy": "2021-06-03T17:13:33.105425Z",
     "iopub.status.idle": "2021-06-03T17:13:33.111409Z",
     "shell.execute_reply": "2021-06-03T17:13:33.110412Z",
     "shell.execute_reply.started": "2021-06-03T17:13:33.105425Z"
    }
   },
   "source": [
    "We create a Hamiltonian to perform the test."
   ]
  },
  {
   "cell_type": "code",
   "execution_count": 3,
   "metadata": {},
   "outputs": [],
   "source": [
    "# qubit_op, init_state = LiH(initial_state=True)\n",
    "# num_qubits = qubit_op.num_qubits"
   ]
  },
  {
   "cell_type": "code",
   "execution_count": 4,
   "metadata": {},
   "outputs": [
    {
     "name": "stdout",
     "output_type": "stream",
     "text": [
      "SummedOp([\n",
      "  YY,\n",
      "  ZI,\n",
      "  XZ,\n",
      "  IZ,\n",
      "  XX,\n",
      "  ZX\n",
      "])\n"
     ]
    }
   ],
   "source": [
    "num_qubits = 2\n",
    "qubit_op = RandomHamiltonian( num_qubits, 6 )\n",
    "init_state = QuantumCircuit(num_qubits)\n",
    "print( qubit_op )"
   ]
  },
  {
   "cell_type": "markdown",
   "metadata": {},
   "source": [
    "We calculate the minimum energy of the Hamiltonian by a classical method."
   ]
  },
  {
   "cell_type": "code",
   "execution_count": 5,
   "metadata": {},
   "outputs": [
    {
     "data": {
      "text/plain": [
       "(-2.4939592074349357+2.8162399132712285e-17j)"
      ]
     },
     "execution_count": 5,
     "metadata": {},
     "output_type": "execute_result"
    }
   ],
   "source": [
    "result_exact = NumPyMinimumEigensolver().compute_minimum_eigenvalue(qubit_op)\n",
    "result_exact.eigenvalue "
   ]
  },
  {
   "cell_type": "markdown",
   "metadata": {},
   "source": [
    "We will employ a Hardware efficient variation form."
   ]
  },
  {
   "cell_type": "code",
   "execution_count": 6,
   "metadata": {},
   "outputs": [
    {
     "data": {
      "image/png": "[encoded data removed]",
      "text/plain": [
       "<Figure size 327.252x144.48 with 1 Axes>"
      ]
     },
     "execution_count": 6,
     "metadata": {},
     "output_type": "execute_result"
    }
   ],
   "source": [
    "entangled_layer = []\n",
    "for qbs in WC_paris :\n",
    "    if qbs[0]<qbs[1] and qbs[1]<num_qubits :\n",
    "        entangled_layer.append(qbs)\n",
    "\n",
    "ansatz = init_state.compose( EfficientSU2(num_qubits,['ry','rz'], entanglement=entangled_layer, reps=1 ) )\n",
    "ansatz.draw(output='mpl')"
   ]
  },
  {
   "cell_type": "markdown",
   "metadata": {
    "execution": {
     "iopub.execute_input": "2021-06-03T17:15:32.552223Z",
     "iopub.status.busy": "2021-06-03T17:15:32.551225Z",
     "iopub.status.idle": "2021-06-03T17:15:32.557209Z",
     "shell.execute_reply": "2021-06-03T17:15:32.556420Z",
     "shell.execute_reply.started": "2021-06-03T17:15:32.552223Z"
    }
   },
   "source": [
    "We define a callback function, to have the behavior of the algorithm by iterations."
   ]
  },
  {
   "cell_type": "code",
   "execution_count": 7,
   "metadata": {},
   "outputs": [],
   "source": [
    "def callback( evals, params, energy, extra  ):  \n",
    "    display(\"{}, {}\".format(evals,energy))\n",
    "    clear_output(wait=True)\n",
    "    parameters.append(params)\n",
    "    evaluations.append(evals)\n",
    "\n",
    "parameters  = []\n",
    "evaluations = []\n",
    "energies    = [] "
   ]
  },
  {
   "cell_type": "markdown",
   "metadata": {},
   "source": [
    "We select SPSA with 100 iterations as classical optimizer."
   ]
  },
  {
   "cell_type": "code",
   "execution_count": 8,
   "metadata": {},
   "outputs": [],
   "source": [
    "optimizer = SPSA( maxiter=100, last_avg=1 )"
   ]
  },
  {
   "cell_type": "markdown",
   "metadata": {},
   "source": [
    "Initial parameters for the optimization"
   ]
  },
  {
   "cell_type": "code",
   "execution_count": 9,
   "metadata": {},
   "outputs": [],
   "source": [
    "num_var = ansatz.num_parameters\n",
    "pars = [0.01] * num_var"
   ]
  },
  {
   "cell_type": "code",
   "execution_count": 10,
   "metadata": {},
   "outputs": [
    {
     "data": {
      "text/plain": [
       "(-2.4939592074349357+2.8162399132712285e-17j)"
      ]
     },
     "execution_count": 10,
     "metadata": {},
     "output_type": "execute_result"
    }
   ],
   "source": [
    "result_exact.eigenvalue "
   ]
  },
  {
   "cell_type": "markdown",
   "metadata": {},
   "source": [
    "VQE with entangled grouping"
   ]
  },
  {
   "cell_type": "code",
   "execution_count": 11,
   "metadata": {},
   "outputs": [
    {
     "name": "stdout",
     "output_type": "stream",
     "text": [
      "-2.40625\n"
     ]
    }
   ],
   "source": [
    "solver = VQE( ansatz, optimizer, pars, grouping = 'Entangled' )\n",
    "results = solver.compute_minimum_eigenvalue(qubit_op)\n",
    "print( results.eigenvalue )"
   ]
  },
  {
   "cell_type": "markdown",
   "metadata": {},
   "source": [
    "VQE with TPB grouping"
   ]
  },
  {
   "cell_type": "code",
   "execution_count": 12,
   "metadata": {},
   "outputs": [
    {
     "name": "stdout",
     "output_type": "stream",
     "text": [
      "-2.42578125\n"
     ]
    }
   ],
   "source": [
    "solver = VQE( ansatz, optimizer, pars, grouping = 'TPB' )\n",
    "results = solver.compute_minimum_eigenvalue(qubit_op)\n",
    "print( results.eigenvalue )"
   ]
  },
  {
   "cell_type": "markdown",
   "metadata": {},
   "source": [
    "VQE with entangled grouping and the connectivity of ibmq_paris"
   ]
  },
  {
   "cell_type": "code",
   "execution_count": 13,
   "metadata": {},
   "outputs": [
    {
     "name": "stdout",
     "output_type": "stream",
     "text": [
      "-2.32421875\n"
     ]
    }
   ],
   "source": [
    "solver = VQE( ansatz, optimizer, pars, grouping = 'Entangled', conectivity = WC_paris )\n",
    "results = solver.compute_minimum_eigenvalue(qubit_op)\n",
    "print( results.eigenvalue )"
   ]
  },
  {
   "cell_type": "markdown",
   "metadata": {},
   "source": [
    "Testing callback function"
   ]
  },
  {
   "cell_type": "code",
   "execution_count": 14,
   "metadata": {},
   "outputs": [
    {
     "name": "stdout",
     "output_type": "stream",
     "text": [
      "-2.439453125\n"
     ]
    }
   ],
   "source": [
    "parameters  = []\n",
    "evaluations = []\n",
    "solver = VQE( ansatz, optimizer, pars, grouping = 'Entangled', callback=callback )\n",
    "results = solver.compute_minimum_eigenvalue(qubit_op)\n",
    "print( results.eigenvalue )"
   ]
  },
  {
   "cell_type": "markdown",
   "metadata": {},
   "source": [
    "Testing simulation with noise model"
   ]
  },
  {
   "cell_type": "code",
   "execution_count": 15,
   "metadata": {},
   "outputs": [],
   "source": [
    "# parameters  = []\n",
    "# evaluations = []\n",
    "# optimizer   = SPSA( maxiter=100, last_avg=1 )\n",
    "# solver = VQE( ansatz, optimizer, pars, grouping = 'Entangled', callback=callback, quantum_instance=backend_noise )\n",
    "# results = solver.compute_minimum_eigenvalue(qubit_op)\n",
    "# print( results.eigenvalue )"
   ]
  },
  {
   "cell_type": "code",
   "execution_count": 16,
   "metadata": {},
   "outputs": [],
   "source": [
    "# plt.plot( evaluations )"
   ]
  },
  {
   "cell_type": "markdown",
   "metadata": {},
   "source": [
    "Testing quantum instance"
   ]
  },
  {
   "cell_type": "code",
   "execution_count": 17,
   "metadata": {},
   "outputs": [
    {
     "name": "stdout",
     "output_type": "stream",
     "text": [
      "-2.0634765625\n"
     ]
    }
   ],
   "source": [
    "qi = QuantumInstance( backend_sim, shots = NUM_SHOTS )\n",
    "parameters  = []\n",
    "evaluations = []\n",
    "optimizer   = SPSA( maxiter=100, last_avg=1 )\n",
    "solver = VQE( ansatz, optimizer, pars, grouping = 'Entangled', quantum_instance=qi )\n",
    "results = solver.compute_minimum_eigenvalue(qubit_op)\n",
    "print( results.eigenvalue )"
   ]
  },
  {
   "cell_type": "code",
   "execution_count": null,
   "metadata": {},
   "outputs": [],
   "source": []
  },
  {
   "cell_type": "code",
   "execution_count": null,
   "metadata": {},
   "outputs": [],
   "source": []
  },
  {
   "cell_type": "code",
   "execution_count": 20,
   "metadata": {},
   "outputs": [
    {
     "name": "stdout",
     "output_type": "stream",
     "text": [
      "{   'aux_operator_eigenvalues': None,\n",
      "    'cost_function_evals': 200,\n",
      "    'eigenstate': {   '00': 0.036643873123620545,\n",
      "                      '01': 0.6733269195754763,\n",
      "                      '10': 0.6275339258757251,\n",
      "                      '11': 0.38921620959628594},\n",
      "    'eigenvalue': -2.0634765625,\n",
      "    'optimal_parameters': {   ParameterVectorElement(θ[7]): 2.2465047855503624,\n",
      "                              ParameterVectorElement(θ[2]): 0.01850545767266956,\n",
      "                              ParameterVectorElement(θ[4]): -0.985759801729,\n",
      "                              ParameterVectorElement(θ[5]): -1.6092356287472815,\n",
      "                              ParameterVectorElement(θ[1]): -2.675173018821848,\n",
      "                              ParameterVectorElement(θ[0]): -2.0683384508891804,\n",
      "                              ParameterVectorElement(θ[3]): 1.4478356451607668,\n",
      "                              ParameterVectorElement(θ[6]): 1.4379030382365012},\n",
      "    'optimal_point': array([-2.06833845, -2.67517302,  0.01850546,  1.44783565, -0.9857598 ,\n",
      "       -1.60923563,  1.43790304,  2.24650479]),\n",
      "    'optimal_value': -2.0634765625,\n",
      "    'optimizer_evals': 200,\n",
      "    'optimizer_time': 22.345930576324463}\n"
     ]
    }
   ],
   "source": [
    "print(results)"
   ]
  },
  {
   "cell_type": "code",
   "execution_count": 21,
   "metadata": {},
   "outputs": [
    {
     "data": {
      "text/plain": [
       "<bound method VQE._energy_evaluation of <VQE_v2.VQE object at 0x000001E929A50A00>>"
      ]
     },
     "execution_count": 21,
     "metadata": {},
     "output_type": "execute_result"
    }
   ],
   "source": [
    "solver._energy_evaluation"
   ]
  },
  {
   "cell_type": "markdown",
   "metadata": {},
   "source": [
    "Testing another function of the VQE class"
   ]
  },
  {
   "cell_type": "code",
   "execution_count": 22,
   "metadata": {},
   "outputs": [
    {
     "data": {
      "text/plain": [
       "<qiskit.circuit.quantumcircuit.QuantumCircuit at 0x1e9265351c0>"
      ]
     },
     "execution_count": 22,
     "metadata": {},
     "output_type": "execute_result"
    }
   ],
   "source": [
    "solver._ansatz"
   ]
  },
  {
   "cell_type": "code",
   "execution_count": 23,
   "metadata": {},
   "outputs": [
    {
     "data": {
      "text/html": [
       "<pre style=\"word-wrap: normal;white-space: pre;background: #fff0;line-height: 1.1;font-family: &quot;Courier New&quot;,Courier,monospace\">          ┌────────────────────────────────────────────────────────┐     ┌───┐»\n",
       "q69606_0: ┤0                                                       ├──■──┤ H ├»\n",
       "          │  EfficientSU2(θ[0],θ[1],θ[2],θ[3],θ[4],θ[5],θ[6],θ[7]) │┌─┴─┐└┬─┬┘»\n",
       "q69606_1: ┤1                                                       ├┤ X ├─┤M├─»\n",
       "          └────────────────────────────────────────────────────────┘└───┘ └╥┘ »\n",
       "   c16: 2/═════════════════════════════════════════════════════════════════╩══»\n",
       "                                                                           1  »\n",
       "«          ┌─┐\n",
       "«q69606_0: ┤M├\n",
       "«          └╥┘\n",
       "«q69606_1: ─╫─\n",
       "«           ║ \n",
       "«   c16: 2/═╩═\n",
       "«           0 </pre>"
      ],
      "text/plain": [
       "          ┌────────────────────────────────────────────────────────┐     ┌───┐»\n",
       "q69606_0: ┤0                                                       ├──■──┤ H ├»\n",
       "          │  EfficientSU2(θ[0],θ[1],θ[2],θ[3],θ[4],θ[5],θ[6],θ[7]) │┌─┴─┐└┬─┬┘»\n",
       "q69606_1: ┤1                                                       ├┤ X ├─┤M├─»\n",
       "          └────────────────────────────────────────────────────────┘└───┘ └╥┘ »\n",
       "   c16: 2/═════════════════════════════════════════════════════════════════╩══»\n",
       "                                                                           1  »\n",
       "«          ┌─┐\n",
       "«q69606_0: ┤M├\n",
       "«          └╥┘\n",
       "«q69606_1: ─╫─\n",
       "«           ║ \n",
       "«   c16: 2/═╩═\n",
       "«           0 "
      ]
     },
     "execution_count": 23,
     "metadata": {},
     "output_type": "execute_result"
    }
   ],
   "source": [
    "solver.construct_expectation( pars, qubit_op )[0].draw()"
   ]
  },
  {
   "cell_type": "code",
   "execution_count": 24,
   "metadata": {},
   "outputs": [
    {
     "data": {
      "image/png": "[encoded data removed]",
      "text/plain": [
       "<Figure size 1109.85x144.48 with 1 Axes>"
      ]
     },
     "execution_count": 24,
     "metadata": {},
     "output_type": "execute_result"
    }
   ],
   "source": [
    "solver.get_optimal_circuit().draw(output='mpl')"
   ]
  },
  {
   "cell_type": "code",
   "execution_count": 25,
   "metadata": {},
   "outputs": [
    {
     "data": {
      "text/plain": [
       "-2.0634765625"
      ]
     },
     "execution_count": 25,
     "metadata": {},
     "output_type": "execute_result"
    }
   ],
   "source": [
    "solver.get_optimal_cost()"
   ]
  },
  {
   "cell_type": "code",
   "execution_count": 26,
   "metadata": {},
   "outputs": [
    {
     "data": {
      "text/plain": [
       "{'01': 0.6785640859565145,\n",
       " '10': 0.618619777963411,\n",
       " '11': 0.3935825536815625,\n",
       " '00': 0.04419417382415922}"
      ]
     },
     "execution_count": 26,
     "metadata": {},
     "output_type": "execute_result"
    }
   ],
   "source": [
    "solver.get_optimal_vector()"
   ]
  },
  {
   "cell_type": "code",
   "execution_count": 27,
   "metadata": {},
   "outputs": [],
   "source": [
    "# solver.get_prob_vector_for_params()"
   ]
  },
  {
   "cell_type": "code",
   "execution_count": 28,
   "metadata": {},
   "outputs": [],
   "source": [
    "# solver.get_probabilities_for_counts()"
   ]
  },
  {
   "cell_type": "code",
   "execution_count": 29,
   "metadata": {},
   "outputs": [
    {
     "data": {
      "text/plain": [
       "[0.01, 0.01, 0.01, 0.01, 0.01, 0.01, 0.01, 0.01]"
      ]
     },
     "execution_count": 29,
     "metadata": {},
     "output_type": "execute_result"
    }
   ],
   "source": [
    "solver._initial_point"
   ]
  },
  {
   "cell_type": "code",
   "execution_count": 30,
   "metadata": {},
   "outputs": [
    {
     "data": {
      "text/plain": [
       "array([-2.06833845, -2.67517302,  0.01850546,  1.44783565, -0.9857598 ,\n",
       "       -1.60923563,  1.43790304,  2.24650479])"
      ]
     },
     "execution_count": 30,
     "metadata": {},
     "output_type": "execute_result"
    }
   ],
   "source": [
    "solver.optimal_params"
   ]
  },
  {
   "cell_type": "code",
   "execution_count": 31,
   "metadata": {},
   "outputs": [
    {
     "data": {
      "text/plain": [
       "<qiskit.algorithms.optimizers.spsa.SPSA at 0x1e929a50c40>"
      ]
     },
     "execution_count": 31,
     "metadata": {},
     "output_type": "execute_result"
    }
   ],
   "source": [
    "solver._optimizer"
   ]
  },
  {
   "cell_type": "code",
   "execution_count": 37,
   "metadata": {},
   "outputs": [
    {
     "data": {
      "text/plain": [
       "{'initial_layout': [0, 1], 'seed_transpiler': None, 'optimization_level': None}"
      ]
     },
     "execution_count": 37,
     "metadata": {},
     "output_type": "execute_result"
    }
   ],
   "source": [
    "solver._quantum_instance.compile_config"
   ]
  },
  {
   "cell_type": "code",
   "execution_count": 33,
   "metadata": {},
   "outputs": [
    {
     "data": {
      "text/plain": [
       "False"
      ]
     },
     "execution_count": 33,
     "metadata": {},
     "output_type": "execute_result"
    }
   ],
   "source": [
    "solver.supports_aux_operators()"
   ]
  },
  {
   "cell_type": "code",
   "execution_count": 34,
   "metadata": {},
   "outputs": [
    {
     "name": "stdout",
     "output_type": "stream",
     "text": [
      "\n",
      "==================== Setting of VQE ============================\n",
      "Algorithm: VQE\n",
      "-- ansatz:      ┌────────────────────────────────────────────────────────┐\n",
      "q_0: ┤0                                                       ├\n",
      "     │  EfficientSU2(θ[0],θ[1],θ[2],θ[3],θ[4],θ[5],θ[6],θ[7]) │\n",
      "q_1: ┤1                                                       ├\n",
      "     └────────────────────────────────────────────────────────┘\n",
      "-- optimizer: <qiskit.algorithms.optimizers.spsa.SPSA object at 0x000001E929A50C40>\n",
      "-- initial_point: [0.01, 0.01, 0.01, 0.01, 0.01, 0.01, 0.01, 0.01]\n",
      "-- order: [4, 3, 2, 1]\n",
      "-- conectiviy: [(0, 1), (1, 0)]\n",
      "-- grouping: Entangled\n",
      "-- eval_count: 200\n",
      "-- callback: None\n",
      "-- total_time: 22.31440782546997\n",
      "-- quantum_instance: \n",
      "Qiskit Terra version: 0.18.3\n",
      "Backend: 'aer_simulator (AerProvider)', with following setting:\n",
      "{'basis_gates': ['ccx', 'cp', 'cswap', 'csx', 'cu', 'cu1', 'cu2', 'cu3', 'cx', 'cy', 'cz', 'delay', 'diagonal', 'h', 'id', 'initialize', 'mcp', 'mcphase', 'mcr', 'mcrx', 'mcry', 'mcrz', 'mcswap', 'mcsx', 'mcu', 'mcu1', 'mcu2', 'mcu3', 'mcx', 'mcx_gray', 'mcy', 'mcz', 'multiplexer', 'p', 'pauli', 'r', 'roerror', 'rx', 'rxx', 'ry', 'ryy', 'rz', 'rzx', 'rzz', 's', 'sdg', 'swap', 'sx', 'sxdg', 't', 'tdg', 'u', 'u1', 'u2', 'u3', 'unitary', 'x', 'y', 'z', 'kraus', 'roerror', 'save_amplitudes', 'save_amplitudes_sq', 'save_density_matrix', 'save_expval', 'save_expval_var', 'save_matrix_product_state', 'save_probabilities', 'save_probabilities_dict', 'save_stabilizer', 'save_state', 'save_statevector', 'save_statevector_dict', 'save_superop', 'save_unitary', 'set_density_matrix', 'set_matrix_product_state', 'set_stabilizer', 'set_statevector', 'set_superop', 'set_unitary', 'snapshot', 'superop'], 'coupling_map': None}\n",
      "{'initial_layout': [0, 1], 'seed_transpiler': None, 'optimization_level': None}\n",
      "RunConfig(shots=8192, max_credits=10)\n",
      "{'timeout': None}\n",
      "{}\n",
      "{}\n",
      "Measurement mitigation: None\n",
      "-- gradient: None\n",
      "-- cost_fn: <bound method VQE._energy_evaluation of <VQE_v2.VQE object at 0x000001E929A50A00>>\n",
      "-- ansatz_params: [ParameterVectorElement(θ[0]), ParameterVectorElement(θ[1]), ParameterVectorElement(θ[2]), ParameterVectorElement(θ[3]), ParameterVectorElement(θ[4]), ParameterVectorElement(θ[5]), ParameterVectorElement(θ[6]), ParameterVectorElement(θ[7])]\n",
      "-- expect_op: [<qiskit.circuit.quantumcircuit.QuantumCircuit object at 0x000001E929A48BB0>, <qiskit.circuit.quantumcircuit.QuantumCircuit object at 0x000001E929A005E0>, <qiskit.circuit.quantumcircuit.QuantumCircuit object at 0x000001E8D5B27AF0>]\n",
      "-- coeff: [1, 1, 1, 1, 1, 1]\n",
      "-- label: ['YY', 'ZI', 'XZ', 'IZ', 'XX', 'ZX']\n",
      "-- Groups: [[0, 4], [2, 5], [1, 3]]\n",
      "-- Measurements: [[[4, [0, 1]]], [[6, [0, 1]]], [[3, [0]], [3, [1]]]]\n",
      "-- layout: [0, 1]\n",
      "-- prob2Exp: [array([[-1,  1,  1, -1],\n",
      "       [ 1, -1,  1, -1]]), array([[ 1, -1,  1, -1],\n",
      "       [ 1,  1, -1, -1]]), array([[ 1.,  1., -1., -1.],\n",
      "       [ 1., -1.,  1., -1.]])]\n",
      "-- ret: {   'aux_operator_eigenvalues': None,\n",
      "    'cost_function_evals': 200,\n",
      "    'eigenstate': {   '00': 0.036643873123620545,\n",
      "                      '01': 0.6733269195754763,\n",
      "                      '10': 0.6275339258757251,\n",
      "                      '11': 0.38921620959628594},\n",
      "    'eigenvalue': -2.0634765625,\n",
      "    'optimal_parameters': {   ParameterVectorElement(θ[7]): 2.2465047855503624,\n",
      "                              ParameterVectorElement(θ[2]): 0.01850545767266956,\n",
      "                              ParameterVectorElement(θ[4]): -0.985759801729,\n",
      "                              ParameterVectorElement(θ[5]): -1.6092356287472815,\n",
      "                              ParameterVectorElement(θ[1]): -2.675173018821848,\n",
      "                              ParameterVectorElement(θ[0]): -2.0683384508891804,\n",
      "                              ParameterVectorElement(θ[3]): 1.4478356451607668,\n",
      "                              ParameterVectorElement(θ[6]): 1.4379030382365012},\n",
      "    'optimal_point': array([-2.06833845, -2.67517302,  0.01850546,  1.44783565, -0.9857598 ,\n",
      "       -1.60923563,  1.43790304,  2.24650479]),\n",
      "    'optimal_value': -2.0634765625,\n",
      "    'optimizer_evals': 200,\n",
      "    'optimizer_time': 22.345930576324463}\n",
      "-- eval_time: 22.345930576324463\n",
      "===============================================================\n",
      "ansatz is a custom circuit===============================================================\n",
      "Optimizer: SPSA\n",
      "-- gradient_support_level: 1\n",
      "-- bounds_support_level: 1\n",
      "-- initial_point_support_level: 3\n",
      "-- options: {}\n",
      "-- max_evals_grouped: 1\n",
      "-- nfev: 200\n",
      "-- smoothed_hessian: [[1. 0. 0. 0. 0. 0. 0. 0.]\n",
      " [0. 1. 0. 0. 0. 0. 0. 0.]\n",
      " [0. 0. 1. 0. 0. 0. 0. 0.]\n",
      " [0. 0. 0. 1. 0. 0. 0. 0.]\n",
      " [0. 0. 0. 0. 1. 0. 0. 0.]\n",
      " [0. 0. 0. 0. 0. 1. 0. 0.]\n",
      " [0. 0. 0. 0. 0. 0. 1. 0.]\n",
      " [0. 0. 0. 0. 0. 0. 0. 1.]]\n",
      "===============================================================\n",
      "\n"
     ]
    }
   ],
   "source": [
    "print( solver.print_settings() )"
   ]
  },
  {
   "cell_type": "code",
   "execution_count": 35,
   "metadata": {
    "tags": []
   },
   "outputs": [
    {
     "name": "stderr",
     "output_type": "stream",
     "text": [
      "C:\\Users\\lucia\\miniconda3\\lib\\site-packages\\qiskit\\aqua\\__init__.py:86: DeprecationWarning: The package qiskit.aqua is deprecated. It was moved/refactored to qiskit-terra For more information see <https://github.com/Qiskit/qiskit-aqua/blob/main/README.md#migration-guide>\n",
      "  warn_package('aqua', 'qiskit-terra')\n"
     ]
    },
    {
     "data": {
      "text/html": [
       "<h3>Version Information</h3><table><tr><th>Qiskit Software</th><th>Version</th></tr><tr><td><code>qiskit-terra</code></td><td>0.18.3</td></tr><tr><td><code>qiskit-aer</code></td><td>0.9.0</td></tr><tr><td><code>qiskit-ignis</code></td><td>0.6.0</td></tr><tr><td><code>qiskit-ibmq-provider</code></td><td>0.16.0</td></tr><tr><td><code>qiskit-aqua</code></td><td>0.9.5</td></tr><tr><td><code>qiskit</code></td><td>0.30.1</td></tr><tr><td><code>qiskit-nature</code></td><td>0.2.1</td></tr><tr><th>System information</th></tr><tr><td>Python</td><td>3.9.5 (default, May 18 2021, 14:42:02) [MSC v.1916 64 bit (AMD64)]</td></tr><tr><td>OS</td><td>Windows</td></tr><tr><td>CPUs</td><td>8</td></tr><tr><td>Memory (Gb)</td><td>15.363838195800781</td></tr><tr><td colspan='2'>Fri Oct 15 12:15:09 2021 Hora de verano romance</td></tr></table>"
      ],
      "text/plain": [
       "<IPython.core.display.HTML object>"
      ]
     },
     "metadata": {},
     "output_type": "display_data"
    }
   ],
   "source": [
    "import qiskit.tools.jupyter\n",
    "%qiskit_version_table"
   ]
  },
  {
   "cell_type": "code",
   "execution_count": null,
   "metadata": {},
   "outputs": [],
   "source": []
  }
 ],
 "metadata": {
  "kernelspec": {
   "display_name": "Python 3 (ipykernel)",
   "language": "python",
   "name": "python3"
  },
  "language_info": {
   "codemirror_mode": {
    "name": "ipython",
    "version": 3
   },
   "file_extension": ".py",
   "mimetype": "text/x-python",
   "name": "python",
   "nbconvert_exporter": "python",
   "pygments_lexer": "ipython3",
   "version": "3.9.5"
  }
 },
 "nbformat": 4,
 "nbformat_minor": 4
}
