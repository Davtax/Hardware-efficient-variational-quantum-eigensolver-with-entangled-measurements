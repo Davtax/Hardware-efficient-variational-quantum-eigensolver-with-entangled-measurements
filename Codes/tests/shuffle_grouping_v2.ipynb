{
 "cells": [
  {
   "cell_type": "code",
   "execution_count": 1,
   "id": "5251e670-ce25-47eb-9e83-98bf3eb2dc13",
   "metadata": {
    "execution": {
     "iopub.execute_input": "2021-10-28T15:34:40.706900Z",
     "iopub.status.busy": "2021-10-28T15:34:40.706658Z",
     "iopub.status.idle": "2021-10-28T15:34:41.672608Z",
     "shell.execute_reply": "2021-10-28T15:34:41.672215Z",
     "shell.execute_reply.started": "2021-10-28T15:34:40.706837Z"
    },
    "tags": []
   },
   "outputs": [
    {
     "name": "stderr",
     "output_type": "stream",
     "text": [
      "/home/david/anaconda3/envs/heem/lib/python3.9/site-packages/pyscf/lib/misc.py:46: H5pyDeprecationWarning: Using default_file_mode other than 'r' is deprecated. Pass the mode to h5py.File() instead.\n",
      "  h5py.get_config().default_file_mode = 'a'\n"
     ]
    }
   ],
   "source": [
    "import sys\n",
    "sys.path.append('../')\n",
    "\n",
    "%load_ext autoreload\n",
    "%autoreload 1\n",
    "%aimport GroupingAlgorithm, utils"
   ]
  },
  {
   "cell_type": "code",
   "execution_count": 2,
   "id": "1eb61c6a-bfff-4749-b4ff-dafb0d651ae0",
   "metadata": {
    "execution": {
     "iopub.execute_input": "2021-10-28T15:34:41.673338Z",
     "iopub.status.busy": "2021-10-28T15:34:41.673250Z",
     "iopub.status.idle": "2021-10-28T15:34:41.793642Z",
     "shell.execute_reply": "2021-10-28T15:34:41.793216Z",
     "shell.execute_reply.started": "2021-10-28T15:34:41.673327Z"
    },
    "tags": []
   },
   "outputs": [],
   "source": [
    "import numpy as np\n",
    "import matplotlib.pyplot as plt\n",
    "%matplotlib widget\n",
    "\n",
    "from VQE import VQE\n",
    "from GroupingAlgorithm import groupingWithOrder\n",
    "from utils import get_backend_connectivity, Label2Chain, H2O, change_order_qubitop\n",
    "\n",
    "from joblib import delayed, Parallel\n",
    "import networkx as nx\n",
    "from itertools import permutations\n",
    "from tqdm.auto import trange, tqdm\n",
    "import copy\n",
    "\n",
    "from qiskit import IBMQ, QuantumCircuit, Aer\n",
    "from qiskit.algorithms import NumPyMinimumEigensolver\n",
    "from qiskit.algorithms.optimizers import COBYLA\n",
    "from IPython.display import display, clear_output\n",
    "from qiskit.circuit.library import EfficientSU2\n",
    "from qiskit.utils.quantum_instance import QuantumInstance\n",
    "from qiskit.ignis.mitigation.measurement import CompleteMeasFitter\n",
    "\n",
    "sys.setrecursionlimit(10 ** 9)"
   ]
  },
  {
   "cell_type": "markdown",
   "id": "005e01e9-d242-437c-88f5-a646763155ca",
   "metadata": {},
   "source": [
    "Load IBM credentials and connectivity of a real quantum device"
   ]
  },
  {
   "cell_type": "code",
   "execution_count": 3,
   "id": "59fb6a33-92f0-4da7-ae66-979c0e1a7a75",
   "metadata": {
    "execution": {
     "iopub.execute_input": "2021-10-28T15:34:41.794344Z",
     "iopub.status.busy": "2021-10-28T15:34:41.794259Z",
     "iopub.status.idle": "2021-10-28T15:34:48.816956Z",
     "shell.execute_reply": "2021-10-28T15:34:48.816574Z",
     "shell.execute_reply.started": "2021-10-28T15:34:41.794332Z"
    },
    "tags": []
   },
   "outputs": [
    {
     "name": "stderr",
     "output_type": "stream",
     "text": [
      "/home/david/anaconda3/envs/heem/lib/python3.9/site-packages/urllib3/connection.py:384: SystemTimeWarning: System time is way off (before 2020-07-01). This will probably lead to SSL verification errors\n",
      "  warnings.warn(\n",
      "/home/david/anaconda3/envs/heem/lib/python3.9/site-packages/urllib3/connection.py:384: SystemTimeWarning: System time is way off (before 2020-07-01). This will probably lead to SSL verification errors\n",
      "  warnings.warn(\n",
      "/home/david/anaconda3/envs/heem/lib/python3.9/site-packages/urllib3/connection.py:384: SystemTimeWarning: System time is way off (before 2020-07-01). This will probably lead to SSL verification errors\n",
      "  warnings.warn(\n",
      "/home/david/anaconda3/envs/heem/lib/python3.9/site-packages/urllib3/connection.py:384: SystemTimeWarning: System time is way off (before 2020-07-01). This will probably lead to SSL verification errors\n",
      "  warnings.warn(\n",
      "/home/david/anaconda3/envs/heem/lib/python3.9/site-packages/urllib3/connection.py:384: SystemTimeWarning: System time is way off (before 2020-07-01). This will probably lead to SSL verification errors\n",
      "  warnings.warn(\n"
     ]
    }
   ],
   "source": [
    "IBMQ.load_account()\n",
    "provider = IBMQ.get_provider(hub='ibm-q-csic', group='internal', project='iff-csic') \n",
    "backend_device = provider.get_backend('ibmq_montreal')\n",
    "WC_device = get_backend_connectivity(backend_device)\n",
    "backend_sim   = Aer.get_backend('aer_simulator') # Backend for simulation\n",
    "NUM_SHOTS = 2 ** 13  # Number of shots for each circuit"
   ]
  },
  {
   "cell_type": "markdown",
   "id": "14d9ac5f-7d4a-4698-8265-66e7622795e4",
   "metadata": {},
   "source": [
    "Prepare the Pauli operators for the H20 molecule at a given distance between atoms"
   ]
  },
  {
   "cell_type": "code",
   "execution_count": 4,
   "id": "017cb21d-f2c7-4215-a18e-7347a05ccc37",
   "metadata": {
    "execution": {
     "iopub.execute_input": "2021-10-28T15:34:48.817879Z",
     "iopub.status.busy": "2021-10-28T15:34:48.817634Z",
     "iopub.status.idle": "2021-10-28T15:34:50.076660Z",
     "shell.execute_reply": "2021-10-28T15:34:50.076241Z",
     "shell.execute_reply.started": "2021-10-28T15:34:48.817866Z"
    },
    "tags": []
   },
   "outputs": [
    {
     "name": "stdout",
     "output_type": "stream",
     "text": [
      "There are 444 Pauli strings of 8 qubits.\n"
     ]
    }
   ],
   "source": [
    "qubit_op = H2O()\n",
    "num_qubits = qubit_op.num_qubits\n",
    "paulis, _, _ = Label2Chain(qubit_op)\n",
    "print('There are {} Pauli strings of {} qubits.'.format(len(qubit_op), num_qubits))\n",
    "\n",
    "WC_ideal = list(permutations(list(range(num_qubits)), 2))\n",
    "\n",
    "G_device = nx.Graph()\n",
    "G_device.add_nodes_from(range(num_qubits))\n",
    "G_device.add_edges_from(WC_device)\n",
    "\n",
    "G_ideal = nx.Graph()\n",
    "G_ideal.add_nodes_from(range(num_qubits))\n",
    "G_ideal.add_edges_from(WC_ideal)"
   ]
  },
  {
   "cell_type": "code",
   "execution_count": 5,
   "id": "de804e49-dc4f-4fb2-97fc-d576db41e97d",
   "metadata": {
    "execution": {
     "iopub.execute_input": "2021-10-28T15:34:50.077266Z",
     "iopub.status.busy": "2021-10-28T15:34:50.077184Z",
     "iopub.status.idle": "2021-10-28T15:34:50.135445Z",
     "shell.execute_reply": "2021-10-28T15:34:50.135160Z",
     "shell.execute_reply.started": "2021-10-28T15:34:50.077255Z"
    },
    "tags": []
   },
   "outputs": [
    {
     "data": {
      "application/vnd.jupyter.widget-view+json": {
       "model_id": "f9cc8d8884b94a7dbb6d45433e1fc245",
       "version_major": 2,
       "version_minor": 0
      },
      "image/png": "[encoded data removed]",
      "text/plain": [
       "Canvas(toolbar=Toolbar(toolitems=[('Home', 'Reset original view', 'home', 'home'), ('Back', 'Back to previous …"
      ]
     },
     "metadata": {},
     "output_type": "display_data"
    }
   ],
   "source": [
    "nx.draw(G_device)"
   ]
  },
  {
   "cell_type": "markdown",
   "id": "e74b3824-1363-4474-b5f0-a24c708f8a21",
   "metadata": {},
   "source": [
    "# Grouping"
   ]
  },
  {
   "cell_type": "code",
   "execution_count": 6,
   "id": "d72b1e8f-1e37-43a0-8817-a08759d2d57e",
   "metadata": {
    "execution": {
     "iopub.execute_input": "2021-10-28T15:34:50.136256Z",
     "iopub.status.busy": "2021-10-28T15:34:50.136111Z",
     "iopub.status.idle": "2021-10-28T15:34:50.141726Z",
     "shell.execute_reply": "2021-10-28T15:34:50.141417Z",
     "shell.execute_reply.started": "2021-10-28T15:34:50.136244Z"
    },
    "tags": []
   },
   "outputs": [],
   "source": [
    "def n_groups_shuffle(paulis, G, seed, shuffle_paulis=True, shuffle_qubits=True, x=1, n_max=10000, n_delete=0):\n",
    "    \n",
    "    G_new = copy.deepcopy(G)\n",
    "    \n",
    "    if x < 1 or n_delete > 0:\n",
    "        edges = list(G_new.edges())\n",
    "        \n",
    "        if x < 1:\n",
    "            n_delete = int((1 - x) * len(edges))\n",
    "                    \n",
    "        indices_delete = np.random.default_rng().choice(len(edges), size=n_delete, replace=False)\n",
    "        for index in indices_delete:\n",
    "            G_new.remove_edge(*edges[index])\n",
    "            \n",
    "        if not nx.is_connected(G_new):\n",
    "            if n_max == 0:\n",
    "#                 print('Graph not connected.')\n",
    "                return np.nan, None, None, G_new\n",
    "            else:\n",
    "                return n_groups_shuffle(paulis, G, seed, shuffle_paulis=shuffle_paulis,\n",
    "                                        shuffle_qubits=shuffle_qubits, x=x, n_max=n_max - 1, n_delete=n_delete)\n",
    "    \n",
    "    np.random.seed(seed)\n",
    "    order_paulis = np.arange(len(paulis))\n",
    "    order_qubits = np.arange(num_qubits)\n",
    "    if shuffle_paulis:\n",
    "        np.random.shuffle(order_paulis)\n",
    "        \n",
    "    if shuffle_qubits:\n",
    "        np.random.shuffle(order_qubits)\n",
    "        \n",
    "        temp = copy.deepcopy(paulis)\n",
    "        for i in range(len(order_qubits)):\n",
    "            paulis[:, i] = temp[:, order_qubits[i]]\n",
    "    \n",
    "    Groups_HEEM, _, _ = groupingWithOrder(paulis[order_paulis], G_new)\n",
    "    return len(Groups_HEEM), order_paulis, order_qubits, G_new"
   ]
  },
  {
   "cell_type": "code",
   "execution_count": 7,
   "id": "64259d24-a465-4b83-b10a-c41d93e82792",
   "metadata": {
    "execution": {
     "iopub.execute_input": "2021-10-28T15:35:00.353777Z",
     "iopub.status.busy": "2021-10-28T15:35:00.353520Z",
     "iopub.status.idle": "2021-10-28T15:35:09.465174Z",
     "shell.execute_reply": "2021-10-28T15:35:09.464811Z",
     "shell.execute_reply.started": "2021-10-28T15:35:00.353753Z"
    },
    "tags": []
   },
   "outputs": [
    {
     "data": {
      "application/vnd.jupyter.widget-view+json": {
       "model_id": "5a8da7ad9e5c4e2fbc1c56b376f57dc3",
       "version_major": 2,
       "version_minor": 0
      },
      "text/plain": [
       "Shuffling:   0%|          | 0/100 [00:00<?, ?it/s]"
      ]
     },
     "metadata": {},
     "output_type": "display_data"
    }
   ],
   "source": [
    "backend_parallel = 'multiprocessing'\n",
    "\n",
    "N = 100\n",
    "\n",
    "pbar = tqdm(range(N), desc='Shuffling')\n",
    "results = Parallel(n_jobs=-1, backend=backend_parallel)(\n",
    "    delayed(n_groups_shuffle)(paulis, G_ideal, None, x=0.25) for i in pbar)"
   ]
  },
  {
   "cell_type": "code",
   "execution_count": 8,
   "id": "364c3e31-0ee8-4154-a895-fc4569959b50",
   "metadata": {
    "execution": {
     "iopub.execute_input": "2021-10-28T15:35:22.886764Z",
     "iopub.status.busy": "2021-10-28T15:35:22.886277Z",
     "iopub.status.idle": "2021-10-28T15:35:22.892473Z",
     "shell.execute_reply": "2021-10-28T15:35:22.892165Z",
     "shell.execute_reply.started": "2021-10-28T15:35:22.886738Z"
    },
    "tags": []
   },
   "outputs": [
    {
     "name": "stdout",
     "output_type": "stream",
     "text": [
      "100\n",
      "49 78\n"
     ]
    }
   ],
   "source": [
    "n_groups = [results[i][0] for i in range(N)]\n",
    "\n",
    "delete_indices = np.where(np.isnan(n_groups))[0]\n",
    "for i, index in enumerate(delete_indices):\n",
    "    n_groups.pop(index - i)\n",
    "    results.pop(index - i)\n",
    "\n",
    "index_min = np.argmin(n_groups)\n",
    "optimal_paulis_order, optimal_qubit_order, optimal_G = results[index_min][1:4]\n",
    "\n",
    "results = None\n",
    "\n",
    "print(len(n_groups))\n",
    "print(min(n_groups), max(n_groups))"
   ]
  },
  {
   "cell_type": "code",
   "execution_count": 95,
   "id": "0f2d6944-5d49-4f4f-9a79-cd8308a8a7ba",
   "metadata": {
    "execution": {
     "iopub.execute_input": "2021-10-21T17:45:50.792169Z",
     "iopub.status.busy": "2021-10-21T17:45:50.792035Z",
     "iopub.status.idle": "2021-10-21T17:45:50.849579Z",
     "shell.execute_reply": "2021-10-21T17:45:50.849301Z",
     "shell.execute_reply.started": "2021-10-21T17:45:50.792154Z"
    },
    "tags": []
   },
   "outputs": [
    {
     "name": "stdout",
     "output_type": "stream",
     "text": [
      "28 7\n"
     ]
    },
    {
     "data": {
      "application/vnd.jupyter.widget-view+json": {
       "model_id": "b143f9661cf34d58a3cd9097f7980049",
       "version_major": 2,
       "version_minor": 0
      },
      "image/png": "[encoded data removed]",
      "text/plain": [
       "Canvas(toolbar=Toolbar(toolitems=[('Home', 'Reset original view', 'home', 'home'), ('Back', 'Back to previous …"
      ]
     },
     "metadata": {},
     "output_type": "display_data"
    }
   ],
   "source": [
    "n = num_qubits\n",
    "k = 2\n",
    "total_edges = int(np.math.factorial(n) / (np.math.factorial(n - k) * 2))\n",
    "\n",
    "plt.figure()\n",
    "nx.draw(optimal_G)\n",
    "print(total_edges, len(list(optimal_G.edges)))"
   ]
  },
  {
   "cell_type": "code",
   "execution_count": 96,
   "id": "1e55102a-0857-42f3-a4b1-ee4bcd509d2c",
   "metadata": {
    "execution": {
     "iopub.execute_input": "2021-10-21T17:46:00.005146Z",
     "iopub.status.busy": "2021-10-21T17:46:00.004743Z",
     "iopub.status.idle": "2021-10-21T17:47:32.180350Z",
     "shell.execute_reply": "2021-10-21T17:47:32.179919Z",
     "shell.execute_reply.started": "2021-10-21T17:46:00.005118Z"
    },
    "scrolled": true,
    "tags": []
   },
   "outputs": [
    {
     "data": {
      "application/vnd.jupyter.widget-view+json": {
       "model_id": "0966d090841740d6b930c21236d3a475",
       "version_major": 2,
       "version_minor": 0
      },
      "text/plain": [
       "Connectivity:   0%|          | 0/10 [00:00<?, ?it/s]"
      ]
     },
     "metadata": {},
     "output_type": "display_data"
    },
    {
     "data": {
      "application/vnd.jupyter.widget-view+json": {
       "model_id": "89fc76591a9945e0ba66e5ba76c8ad19",
       "version_major": 2,
       "version_minor": 0
      },
      "text/plain": [
       "Shuffling:   0%|          | 0/100 [00:00<?, ?it/s]"
      ]
     },
     "metadata": {},
     "output_type": "display_data"
    },
    {
     "data": {
      "application/vnd.jupyter.widget-view+json": {
       "model_id": "87e246902268466ca8c665b6162b3f10",
       "version_major": 2,
       "version_minor": 0
      },
      "text/plain": [
       "Shuffling:   0%|          | 0/100 [00:00<?, ?it/s]"
      ]
     },
     "metadata": {},
     "output_type": "display_data"
    },
    {
     "data": {
      "application/vnd.jupyter.widget-view+json": {
       "model_id": "cfaf0754d88842adb1998c596b180943",
       "version_major": 2,
       "version_minor": 0
      },
      "text/plain": [
       "Shuffling:   0%|          | 0/100 [00:00<?, ?it/s]"
      ]
     },
     "metadata": {},
     "output_type": "display_data"
    },
    {
     "data": {
      "application/vnd.jupyter.widget-view+json": {
       "model_id": "04395e83e84747c39922b8e41e4c9c70",
       "version_major": 2,
       "version_minor": 0
      },
      "text/plain": [
       "Shuffling:   0%|          | 0/100 [00:00<?, ?it/s]"
      ]
     },
     "metadata": {},
     "output_type": "display_data"
    },
    {
     "data": {
      "application/vnd.jupyter.widget-view+json": {
       "model_id": "b1a1212ff988437b8953957f0924d418",
       "version_major": 2,
       "version_minor": 0
      },
      "text/plain": [
       "Shuffling:   0%|          | 0/100 [00:00<?, ?it/s]"
      ]
     },
     "metadata": {},
     "output_type": "display_data"
    },
    {
     "data": {
      "application/vnd.jupyter.widget-view+json": {
       "model_id": "834f6846aae34620aca6458d584caf75",
       "version_major": 2,
       "version_minor": 0
      },
      "text/plain": [
       "Shuffling:   0%|          | 0/100 [00:00<?, ?it/s]"
      ]
     },
     "metadata": {},
     "output_type": "display_data"
    },
    {
     "data": {
      "application/vnd.jupyter.widget-view+json": {
       "model_id": "5e2a31d0d444408db9ecb4a431c72943",
       "version_major": 2,
       "version_minor": 0
      },
      "text/plain": [
       "Shuffling:   0%|          | 0/100 [00:00<?, ?it/s]"
      ]
     },
     "metadata": {},
     "output_type": "display_data"
    },
    {
     "data": {
      "application/vnd.jupyter.widget-view+json": {
       "model_id": "a50fdc1cdc98438890403aa8b9763d45",
       "version_major": 2,
       "version_minor": 0
      },
      "text/plain": [
       "Shuffling:   0%|          | 0/100 [00:00<?, ?it/s]"
      ]
     },
     "metadata": {},
     "output_type": "display_data"
    },
    {
     "data": {
      "application/vnd.jupyter.widget-view+json": {
       "model_id": "ac00a95630f04ae1b78735a9b981aa1f",
       "version_major": 2,
       "version_minor": 0
      },
      "text/plain": [
       "Shuffling:   0%|          | 0/100 [00:00<?, ?it/s]"
      ]
     },
     "metadata": {},
     "output_type": "display_data"
    },
    {
     "data": {
      "application/vnd.jupyter.widget-view+json": {
       "model_id": "a8703bcb033f4deb831e5ff7e03aa042",
       "version_major": 2,
       "version_minor": 0
      },
      "text/plain": [
       "Shuffling:   0%|          | 0/100 [00:00<?, ?it/s]"
      ]
     },
     "metadata": {},
     "output_type": "display_data"
    }
   ],
   "source": [
    "n_x = 10\n",
    "N = 100\n",
    "x_vec = np.linspace((num_qubits - 1) / total_edges, 1, n_x)\n",
    "\n",
    "n_groups_list = []\n",
    "\n",
    "for i in tqdm(range(n_x), desc='Connectivity', position=0):\n",
    "    \n",
    "    results = Parallel(n_jobs=-1, backend=backend_parallel)(\n",
    "        delayed(n_groups_shuffle)(paulis, G_ideal, None, x=x_vec[i]) for j in tqdm(range(N), desc='Shuffling', position=1))\n",
    "    \n",
    "    n_groups = [results[i][0] for i in range(N)]\n",
    "\n",
    "    delete_indices = np.where(np.isnan(n_groups))[0]\n",
    "    for i, index in enumerate(delete_indices):\n",
    "        n_groups.pop(index - i)\n",
    "\n",
    "    n_groups_list.append(n_groups)"
   ]
  },
  {
   "cell_type": "code",
   "execution_count": 97,
   "id": "2fb906f2-6a1c-4ebd-a637-8a9f143788cb",
   "metadata": {
    "execution": {
     "iopub.execute_input": "2021-10-21T17:47:32.181270Z",
     "iopub.status.busy": "2021-10-21T17:47:32.181132Z",
     "iopub.status.idle": "2021-10-21T17:47:32.186676Z",
     "shell.execute_reply": "2021-10-21T17:47:32.186291Z",
     "shell.execute_reply.started": "2021-10-21T17:47:32.181254Z"
    },
    "tags": []
   },
   "outputs": [
    {
     "name": "stdout",
     "output_type": "stream",
     "text": [
      "100\n",
      "100\n",
      "100\n",
      "100\n",
      "100\n",
      "100\n",
      "100\n",
      "100\n",
      "100\n",
      "100\n"
     ]
    }
   ],
   "source": [
    "n_std = np.zeros(n_x)\n",
    "n_avg = np.zeros(n_x)\n",
    "n_min = np.zeros(n_x)\n",
    "n_max = np.zeros(n_x)\n",
    "\n",
    "for i in range(n_x):\n",
    "    print(len(n_groups_list[i]))\n",
    "    n_std[i] = np.std(n_groups_list[i])\n",
    "    n_avg[i] = np.mean(n_groups_list[i])\n",
    "    n_min[i] = np.min(n_groups_list[i])\n",
    "    n_max[i] = np.max(n_groups_list[i])"
   ]
  },
  {
   "cell_type": "code",
   "execution_count": 99,
   "id": "014e1595-9071-4d6f-a34c-4be153d86eec",
   "metadata": {
    "execution": {
     "iopub.execute_input": "2021-10-21T17:48:23.236528Z",
     "iopub.status.busy": "2021-10-21T17:48:23.236037Z",
     "iopub.status.idle": "2021-10-21T17:48:23.299225Z",
     "shell.execute_reply": "2021-10-21T17:48:23.298911Z",
     "shell.execute_reply.started": "2021-10-21T17:48:23.236500Z"
    },
    "tags": []
   },
   "outputs": [
    {
     "data": {
      "application/vnd.jupyter.widget-view+json": {
       "model_id": "24cd901a9aed42c18f3e26f936c0f641",
       "version_major": 2,
       "version_minor": 0
      },
      "image/png": "[encoded data removed]",
      "text/plain": [
       "Canvas(toolbar=Toolbar(toolitems=[('Home', 'Reset original view', 'home', 'home'), ('Back', 'Back to previous …"
      ]
     },
     "metadata": {},
     "output_type": "display_data"
    }
   ],
   "source": [
    "fig, ax = plt.subplots()\n",
    "\n",
    "ax.plot(x_vec, n_avg)\n",
    "ax.fill_between(x_vec, n_avg - n_std, n_avg + n_std, alpha=0.25)\n",
    "ax.plot(x_vec, n_min, '--')\n",
    "ax.plot(x_vec, n_max, '--')\n",
    "ax.set_xlabel('x')\n",
    "ax.set_ylabel('# of groups')\n",
    "ax.set_xlim([x_vec[0], x_vec[-1]]);"
   ]
  },
  {
   "cell_type": "markdown",
   "id": "abb228d0-ef8b-41ce-9c94-b4e245b79b4e",
   "metadata": {},
   "source": [
    "# Compute VQE"
   ]
  },
  {
   "cell_type": "code",
   "execution_count": 14,
   "id": "0f535838-4002-4a61-af48-9335eed83e26",
   "metadata": {
    "execution": {
     "iopub.execute_input": "2021-10-21T10:22:32.925785Z",
     "iopub.status.busy": "2021-10-21T10:22:32.925625Z",
     "iopub.status.idle": "2021-10-21T10:22:32.950967Z",
     "shell.execute_reply": "2021-10-21T10:22:32.950594Z",
     "shell.execute_reply.started": "2021-10-21T10:22:32.925771Z"
    },
    "tags": []
   },
   "outputs": [],
   "source": [
    "# paulis_order = np.arange(len(paulis))\n",
    "# qubit_order = np.arange(num_qubits)\n",
    "paulis_order = optimal_paulis_order\n",
    "qubit_order = optimal_qubit_order\n",
    "\n",
    "new_qubit_op = change_order_qubitop(qubit_op, paulis_order, qubit_order)"
   ]
  },
  {
   "cell_type": "code",
   "execution_count": 17,
   "id": "d955fdde-ed85-4db5-870e-1452d23adf7f",
   "metadata": {
    "execution": {
     "iopub.execute_input": "2021-10-21T10:22:55.806116Z",
     "iopub.status.busy": "2021-10-21T10:22:55.805911Z",
     "iopub.status.idle": "2021-10-21T10:22:56.285233Z",
     "shell.execute_reply": "2021-10-21T10:22:56.284840Z",
     "shell.execute_reply.started": "2021-10-21T10:22:55.806093Z"
    },
    "tags": []
   },
   "outputs": [
    {
     "name": "stdout",
     "output_type": "stream",
     "text": [
      "(-13.917723466689248-1.5385124673163216e-15j)\n",
      "(-13.917723466689239+3.86895453536616e-16j)\n"
     ]
    }
   ],
   "source": [
    "result_exact = NumPyMinimumEigensolver().compute_minimum_eigenvalue(qubit_op)\n",
    "print(result_exact.eigenvalue)\n",
    "\n",
    "result_exact = NumPyMinimumEigensolver().compute_minimum_eigenvalue(new_qubit_op)\n",
    "print(result_exact.eigenvalue)"
   ]
  },
  {
   "cell_type": "code",
   "execution_count": 26,
   "id": "8de2816e-5f0e-4700-9d25-66ebb0215b02",
   "metadata": {
    "execution": {
     "iopub.execute_input": "2021-10-21T10:31:52.863576Z",
     "iopub.status.busy": "2021-10-21T10:31:52.863186Z",
     "iopub.status.idle": "2021-10-21T10:31:52.880307Z",
     "shell.execute_reply": "2021-10-21T10:31:52.879926Z",
     "shell.execute_reply.started": "2021-10-21T10:31:52.863551Z"
    },
    "tags": []
   },
   "outputs": [],
   "source": [
    "def callback( evals, params, energy, extra):  \n",
    "    display(\"{}, {}\".format(evals, energy))\n",
    "    clear_output(wait=True)\n",
    "\n",
    "entangled_layer = []\n",
    "for qbs in WC_device :\n",
    "    if qbs[0] < qbs[1] and qbs[1] < num_qubits :\n",
    "        entangled_layer.append(qbs)\n",
    "\n",
    "init_state = QuantumCircuit(num_qubits)\n",
    "        \n",
    "ansatz = init_state.compose(EfficientSU2(num_qubits,['ry','rz'], entanglement=entangled_layer, reps=1))\n",
    "\n",
    "num_var = ansatz.num_parameters\n",
    "pars = [0.01] * num_var\n",
    "\n",
    "optimizer = COBYLA(maxiter=10)"
   ]
  },
  {
   "cell_type": "code",
   "execution_count": 31,
   "id": "a186b90b-e878-4304-b002-0f9d6a5a2714",
   "metadata": {
    "execution": {
     "iopub.execute_input": "2021-10-21T10:33:29.465081Z",
     "iopub.status.busy": "2021-10-21T10:33:29.464905Z",
     "iopub.status.idle": "2021-10-21T10:34:04.324466Z",
     "shell.execute_reply": "2021-10-21T10:34:04.324097Z",
     "shell.execute_reply.started": "2021-10-21T10:33:29.465069Z"
    },
    "tags": []
   },
   "outputs": [
    {
     "name": "stdout",
     "output_type": "stream",
     "text": [
      "-9.929401796461347\n"
     ]
    }
   ],
   "source": [
    "# qi = QuantumInstance(backend_sim, shots = NUM_SHOTS)\n",
    "solver = VQE(ansatz, optimizer, pars, grouping='Entangled', callback=callback,\n",
    "             connectivity = WC_device)\n",
    "results = solver.compute_minimum_eigenvalue(new_qubit_op)\n",
    "print(results.eigenvalue)"
   ]
  },
  {
   "cell_type": "code",
   "execution_count": 30,
   "id": "ec883559-268e-46de-acf5-ae64cbd5f751",
   "metadata": {
    "execution": {
     "iopub.execute_input": "2021-10-21T10:33:18.984536Z",
     "iopub.status.busy": "2021-10-21T10:33:18.983918Z",
     "iopub.status.idle": "2021-10-21T10:33:18.989880Z",
     "shell.execute_reply": "2021-10-21T10:33:18.989479Z",
     "shell.execute_reply.started": "2021-10-21T10:33:18.984514Z"
    },
    "tags": []
   },
   "outputs": [
    {
     "data": {
      "text/plain": [
       "49"
      ]
     },
     "execution_count": 30,
     "metadata": {},
     "output_type": "execute_result"
    }
   ],
   "source": [
    "solver.number_circuits()"
   ]
  },
  {
   "cell_type": "code",
   "execution_count": null,
   "id": "c3d2fce3-863f-4286-9815-4deb4f382091",
   "metadata": {},
   "outputs": [],
   "source": []
  }
 ],
 "metadata": {
  "kernelspec": {
   "display_name": "Python 3 (ipykernel)",
   "language": "python",
   "name": "python3"
  },
  "language_info": {
   "codemirror_mode": {
    "name": "ipython",
    "version": 3
   },
   "file_extension": ".py",
   "mimetype": "text/x-python",
   "name": "python",
   "nbconvert_exporter": "python",
   "pygments_lexer": "ipython3",
   "version": "3.9.7"
  }
 },
 "nbformat": 4,
 "nbformat_minor": 5
}
