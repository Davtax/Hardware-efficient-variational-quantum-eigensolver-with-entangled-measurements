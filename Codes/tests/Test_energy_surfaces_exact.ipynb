{
 "cells": [
  {
   "cell_type": "code",
   "execution_count": 1,
   "id": "6c5bccc0-26af-411f-bb61-b93a76240bee",
   "metadata": {},
   "outputs": [],
   "source": [
    "import sys\n",
    "sys.path.append('../')\n",
    "import numpy as np\n",
    "from GroupingAlgorithm import *\n",
    "from HEEM_VQE_Functions import *\n",
    "from utils import get_backend_conectivity, BeH2, LiH, H2\n",
    "from qiskit.opflow.primitive_ops import Z2Symmetries\n",
    "from qiskit_nature.converters.second_quantization.qubit_converter import QubitConverter\n",
    "from qiskit.algorithms import NumPyMinimumEigensolver\n",
    "from qiskit_nature.algorithms import GroundStateEigensolver\n",
    "from time import time\n",
    "from joblib import Parallel, delayed\n",
    "import matplotlib.pyplot as plt"
   ]
  },
  {
   "cell_type": "code",
   "execution_count": 2,
   "id": "51078799-1f4b-4780-b7f7-ef8414f71f5b",
   "metadata": {},
   "outputs": [],
   "source": [
    "# molecule = H2 \n",
    "# distances = np.linspace(0.2,4,16)\n",
    "\n",
    "molecule = LiH \n",
    "distances = np.linspace(0.4,5,16)\n",
    "\n",
    "# molecule = BeH2\n",
    "# distances = np.linspace(0.5,5,16)"
   ]
  },
  {
   "cell_type": "code",
   "execution_count": 3,
   "id": "50b59c8b-2684-417f-b21c-750547ba52cd",
   "metadata": {},
   "outputs": [
    {
     "data": {
      "text/plain": [
       "4"
      ]
     },
     "execution_count": 3,
     "metadata": {},
     "output_type": "execute_result"
    }
   ],
   "source": [
    "opt = molecule(operator=True)\n",
    "opt.num_qubits"
   ]
  },
  {
   "cell_type": "code",
   "execution_count": 4,
   "id": "d0e2bac5-d91e-4161-bf76-803b5dd19e3e",
   "metadata": {},
   "outputs": [
    {
     "data": {
      "text/plain": [
       "array([-7.88146143+0.j])"
      ]
     },
     "execution_count": 4,
     "metadata": {},
     "output_type": "execute_result"
    }
   ],
   "source": [
    "converter, problem = molecule(operator=False)\n",
    "calc = GroundStateEigensolver( converter, NumPyMinimumEigensolver() )\n",
    "res = calc.solve(problem)\n",
    "res.total_energies"
   ]
  },
  {
   "cell_type": "code",
   "execution_count": 5,
   "id": "ec7c4b68-54fb-4488-8834-6d5c80a3fc0a",
   "metadata": {},
   "outputs": [],
   "source": [
    "def GroundStateEigensolver_loop( d ):\n",
    "    converter, problem = molecule( d, operator=False )\n",
    "    calc = GroundStateEigensolver( converter, NumPyMinimumEigensolver() )\n",
    "    res = calc.solve(problem)\n",
    "    return res.total_energies "
   ]
  },
  {
   "cell_type": "code",
   "execution_count": 6,
   "id": "c12b72f5-5a35-41cf-93b3-5a527f769438",
   "metadata": {},
   "outputs": [],
   "source": [
    "energies = Parallel(n_jobs=-1)( delayed(GroundStateEigensolver_loop)(d) for d in distances )"
   ]
  },
  {
   "cell_type": "code",
   "execution_count": 7,
   "id": "ca64db92-7165-4fb6-9917-47eab1503d9d",
   "metadata": {},
   "outputs": [
    {
     "name": "stderr",
     "output_type": "stream",
     "text": [
      "C:\\Users\\lucia\\miniconda3\\lib\\site-packages\\numpy\\core\\_asarray.py:102: ComplexWarning: Casting complex values to real discards the imaginary part\n",
      "  return array(a, dtype, copy=False, order=order)\n"
     ]
    },
    {
     "data": {
      "text/plain": [
       "(-8.0, -7.0)"
      ]
     },
     "execution_count": 7,
     "metadata": {},
     "output_type": "execute_result"
    },
    {
     "data": {
      "image/png": "[encoded data removed]",
      "text/plain": [
       "<Figure size 432x288 with 1 Axes>"
      ]
     },
     "metadata": {
      "needs_background": "light"
     },
     "output_type": "display_data"
    }
   ],
   "source": [
    "plt.plot( distances, energies, '-o' )\n",
    "plt.ylim([-8,-7])"
   ]
  },
  {
   "cell_type": "code",
   "execution_count": null,
   "id": "1786a2cc-c6aa-491c-b136-91115cd90a54",
   "metadata": {},
   "outputs": [],
   "source": []
  },
  {
   "cell_type": "code",
   "execution_count": null,
   "id": "aef98046-694d-4143-bedf-85d733d6d866",
   "metadata": {},
   "outputs": [],
   "source": []
  },
  {
   "cell_type": "code",
   "execution_count": null,
   "id": "d81a58f7-ce0c-492b-898a-df16efdff60a",
   "metadata": {},
   "outputs": [],
   "source": []
  }
 ],
 "metadata": {
  "kernelspec": {
   "display_name": "Python 3 (ipykernel)",
   "language": "python",
   "name": "python3"
  },
  "language_info": {
   "codemirror_mode": {
    "name": "ipython",
    "version": 3
   },
   "file_extension": ".py",
   "mimetype": "text/x-python",
   "name": "python",
   "nbconvert_exporter": "python",
   "pygments_lexer": "ipython3",
   "version": "3.9.5"
  }
 },
 "nbformat": 4,
 "nbformat_minor": 5
}
