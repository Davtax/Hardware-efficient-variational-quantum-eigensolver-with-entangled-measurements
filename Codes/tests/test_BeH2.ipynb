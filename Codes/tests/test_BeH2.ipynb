{
 "cells": [
  {
   "cell_type": "code",
   "execution_count": 6,
   "metadata": {
    "execution": {
     "iopub.execute_input": "2021-06-04T18:29:08.808509Z",
     "iopub.status.busy": "2021-06-04T18:29:08.807511Z",
     "iopub.status.idle": "2021-06-04T18:29:08.813470Z",
     "shell.execute_reply": "2021-06-04T18:29:08.812472Z",
     "shell.execute_reply.started": "2021-06-04T18:29:08.808509Z"
    }
   },
   "outputs": [],
   "source": [
    "import sys\n",
    "sys.path.append('../')\n",
    "from utils import BeH2\n",
    "from GroupingAlgorithm import *"
   ]
  },
  {
   "cell_type": "markdown",
   "metadata": {},
   "source": [
    "In this notebook, we test the grouping for the BeH2 molecule with qubit reduction."
   ]
  },
  {
   "cell_type": "code",
   "execution_count": 13,
   "metadata": {
    "execution": {
     "iopub.execute_input": "2021-06-04T18:32:42.144103Z",
     "iopub.status.busy": "2021-06-04T18:32:42.144103Z",
     "iopub.status.idle": "2021-06-04T18:33:07.448180Z",
     "shell.execute_reply": "2021-06-04T18:33:07.448180Z",
     "shell.execute_reply.started": "2021-06-04T18:32:42.144103Z"
    }
   },
   "outputs": [
    {
     "data": {
      "text/plain": [
       "7"
      ]
     },
     "execution_count": 13,
     "metadata": {},
     "output_type": "execute_result"
    }
   ],
   "source": [
    "qubit_op = BeH2()\n",
    "qubit_op.num_qubits"
   ]
  },
  {
   "cell_type": "markdown",
   "metadata": {},
   "source": [
    "Creating the all-to-all connections."
   ]
  },
  {
   "cell_type": "code",
   "execution_count": 23,
   "metadata": {
    "execution": {
     "iopub.execute_input": "2021-06-04T18:37:17.851588Z",
     "iopub.status.busy": "2021-06-04T18:37:17.851588Z",
     "iopub.status.idle": "2021-06-04T18:37:17.856549Z",
     "shell.execute_reply": "2021-06-04T18:37:17.856165Z",
     "shell.execute_reply.started": "2021-06-04T18:37:17.851588Z"
    }
   },
   "outputs": [],
   "source": [
    "WC = list(permutations(list(range(qubit_op.num_qubits)), 2))"
   ]
  },
  {
   "cell_type": "markdown",
   "metadata": {},
   "source": [
    "Obtaining the Pauli strings."
   ]
  },
  {
   "cell_type": "code",
   "execution_count": 29,
   "metadata": {
    "execution": {
     "iopub.execute_input": "2021-06-04T18:43:37.487113Z",
     "iopub.status.busy": "2021-06-04T18:43:37.487113Z",
     "iopub.status.idle": "2021-06-04T18:43:37.527984Z",
     "shell.execute_reply": "2021-06-04T18:43:37.527013Z",
     "shell.execute_reply.started": "2021-06-04T18:43:37.487113Z"
    }
   },
   "outputs": [
    {
     "data": {
      "text/plain": [
       "545"
      ]
     },
     "execution_count": 29,
     "metadata": {},
     "output_type": "execute_result"
    }
   ],
   "source": [
    "paulis, coeff, labels = Label2Chain(qubit_op)\n",
    "len(paulis)"
   ]
  },
  {
   "cell_type": "markdown",
   "metadata": {
    "execution": {
     "iopub.execute_input": "2021-06-04T18:33:07.456127Z",
     "iopub.status.busy": "2021-06-04T18:33:07.455129Z",
     "iopub.status.idle": "2021-06-04T18:33:07.513002Z",
     "shell.execute_reply": "2021-06-04T18:33:07.512015Z",
     "shell.execute_reply.started": "2021-06-04T18:33:07.456127Z"
    }
   },
   "source": [
    "Perfoming the grouping by TPB."
   ]
  },
  {
   "cell_type": "code",
   "execution_count": 16,
   "metadata": {
    "execution": {
     "iopub.execute_input": "2021-06-04T18:33:07.513972Z",
     "iopub.status.busy": "2021-06-04T18:33:07.513972Z",
     "iopub.status.idle": "2021-06-04T18:33:12.777640Z",
     "shell.execute_reply": "2021-06-04T18:33:12.776625Z",
     "shell.execute_reply.started": "2021-06-04T18:33:07.513972Z"
    }
   },
   "outputs": [],
   "source": [
    "_, groups_tpb, measurements_tpb = TPBgrouping(paulis)"
   ]
  },
  {
   "cell_type": "code",
   "execution_count": 17,
   "metadata": {
    "execution": {
     "iopub.execute_input": "2021-06-04T18:33:12.778589Z",
     "iopub.status.busy": "2021-06-04T18:33:12.778589Z",
     "iopub.status.idle": "2021-06-04T18:33:12.785605Z",
     "shell.execute_reply": "2021-06-04T18:33:12.785605Z",
     "shell.execute_reply.started": "2021-06-04T18:33:12.778589Z"
    }
   },
   "outputs": [
    {
     "data": {
      "text/plain": [
       "121"
      ]
     },
     "execution_count": 17,
     "metadata": {},
     "output_type": "execute_result"
    }
   ],
   "source": [
    "len(groups_tpb)"
   ]
  },
  {
   "cell_type": "markdown",
   "metadata": {},
   "source": [
    "Performing the grouping by EM."
   ]
  },
  {
   "cell_type": "code",
   "execution_count": 24,
   "metadata": {
    "execution": {
     "iopub.execute_input": "2021-06-04T18:37:32.385936Z",
     "iopub.status.busy": "2021-06-04T18:37:32.385936Z",
     "iopub.status.idle": "2021-06-04T18:37:38.079881Z",
     "shell.execute_reply": "2021-06-04T18:37:38.078902Z",
     "shell.execute_reply.started": "2021-06-04T18:37:32.385936Z"
    }
   },
   "outputs": [],
   "source": [
    "groups_EM, measurements_EM = grouping(paulis,[4,3,2,1],WC)"
   ]
  },
  {
   "cell_type": "code",
   "execution_count": 25,
   "metadata": {
    "execution": {
     "iopub.execute_input": "2021-06-04T18:37:38.080853Z",
     "iopub.status.busy": "2021-06-04T18:37:38.080853Z",
     "iopub.status.idle": "2021-06-04T18:37:38.087834Z",
     "shell.execute_reply": "2021-06-04T18:37:38.086868Z",
     "shell.execute_reply.started": "2021-06-04T18:37:38.080853Z"
    }
   },
   "outputs": [
    {
     "data": {
      "text/plain": [
       "74"
      ]
     },
     "execution_count": 25,
     "metadata": {},
     "output_type": "execute_result"
    }
   ],
   "source": [
    "len(groups_EM)"
   ]
  },
  {
   "cell_type": "markdown",
   "metadata": {},
   "source": [
    "Performing the grouping by HEEM. The conectivity of ibm-q paris was used."
   ]
  },
  {
   "cell_type": "code",
   "execution_count": 26,
   "metadata": {
    "execution": {
     "iopub.execute_input": "2021-06-04T18:38:11.769875Z",
     "iopub.status.busy": "2021-06-04T18:38:11.769875Z",
     "iopub.status.idle": "2021-06-04T18:38:11.781817Z",
     "shell.execute_reply": "2021-06-04T18:38:11.780851Z",
     "shell.execute_reply.started": "2021-06-04T18:38:11.769875Z"
    }
   },
   "outputs": [],
   "source": [
    "WC_exp = [(0, 1),\n",
    " (1, 0),\n",
    " (1, 2),\n",
    " (1, 4),\n",
    " (2, 1),\n",
    " (2, 3),\n",
    " (3, 2),\n",
    " (3, 5),\n",
    " (4, 1),\n",
    " (4, 7),\n",
    " (5, 3),\n",
    " (5, 8),\n",
    " (6, 7),\n",
    " (7, 4),\n",
    " (7, 6),\n",
    " (7, 10),\n",
    " (8, 5),\n",
    " (8, 9),\n",
    " (8, 11),\n",
    " (9, 8),\n",
    " (10, 7),\n",
    " (10, 12),\n",
    " (11, 8),\n",
    " (11, 14),\n",
    " (12, 10),\n",
    " (12, 13),\n",
    " (12, 15),\n",
    " (13, 12),\n",
    " (13, 14),\n",
    " (14, 11),\n",
    " (14, 13),\n",
    " (14, 16),\n",
    " (15, 12),\n",
    " (15, 18),\n",
    " (16, 14),\n",
    " (16, 19),\n",
    " (17, 18),\n",
    " (18, 15),\n",
    " (18, 17),\n",
    " (18, 21),\n",
    " (19, 16),\n",
    " (19, 20),\n",
    " (19, 22),\n",
    " (20, 19),\n",
    " (21, 18),\n",
    " (21, 23),\n",
    " (22, 19),\n",
    " (22, 25),\n",
    " (23, 21),\n",
    " (23, 24),\n",
    " (24, 23),\n",
    " (24, 25),\n",
    " (25, 22),\n",
    " (25, 24),\n",
    " (25, 26),\n",
    " (26, 25)]"
   ]
  },
  {
   "cell_type": "code",
   "execution_count": 20,
   "metadata": {
    "execution": {
     "iopub.execute_input": "2021-06-04T18:33:30.609405Z",
     "iopub.status.busy": "2021-06-04T18:33:30.608388Z",
     "iopub.status.idle": "2021-06-04T18:33:39.648354Z",
     "shell.execute_reply": "2021-06-04T18:33:39.647427Z",
     "shell.execute_reply.started": "2021-06-04T18:33:30.609405Z"
    }
   },
   "outputs": [],
   "source": [
    "groups_HEEM, measurements_HEEM = grouping( paulis, [4,3,2,1], WC_exp )"
   ]
  },
  {
   "cell_type": "code",
   "execution_count": 21,
   "metadata": {
    "execution": {
     "iopub.execute_input": "2021-06-04T18:33:45.791282Z",
     "iopub.status.busy": "2021-06-04T18:33:45.791282Z",
     "iopub.status.idle": "2021-06-04T18:33:45.796600Z",
     "shell.execute_reply": "2021-06-04T18:33:45.796269Z",
     "shell.execute_reply.started": "2021-06-04T18:33:45.791282Z"
    }
   },
   "outputs": [
    {
     "data": {
      "text/plain": [
       "103"
      ]
     },
     "execution_count": 21,
     "metadata": {},
     "output_type": "execute_result"
    }
   ],
   "source": [
    "len(groups_HEEM)"
   ]
  },
  {
   "cell_type": "code",
   "execution_count": null,
   "metadata": {},
   "outputs": [],
   "source": []
  },
  {
   "cell_type": "code",
   "execution_count": 27,
   "metadata": {
    "execution": {
     "iopub.execute_input": "2021-06-04T18:38:26.275889Z",
     "iopub.status.busy": "2021-06-04T18:38:26.275889Z",
     "iopub.status.idle": "2021-06-04T18:38:28.571190Z",
     "shell.execute_reply": "2021-06-04T18:38:28.570221Z",
     "shell.execute_reply.started": "2021-06-04T18:38:26.275889Z"
    }
   },
   "outputs": [
    {
     "data": {
      "text/html": [
       "<h3>Version Information</h3><table><tr><th>Qiskit Software</th><th>Version</th></tr><tr><td>Qiskit</td><td>0.25.0</td></tr><tr><td>Terra</td><td>0.17.0</td></tr><tr><td>Aer</td><td>0.8.0</td></tr><tr><td>Ignis</td><td>0.6.0</td></tr><tr><td>Aqua</td><td>0.9.0</td></tr><tr><td>IBM Q Provider</td><td>0.12.2</td></tr><tr><th>System information</th></tr><tr><td>Python</td><td>3.7.7 (default, May  6 2020, 11:45:54) [MSC v.1916 64 bit (AMD64)]</td></tr><tr><td>OS</td><td>Windows</td></tr><tr><td>CPUs</td><td>4</td></tr><tr><td>Memory (Gb)</td><td>11.887619018554688</td></tr><tr><td colspan='2'>Fri Jun 04 20:38:28 2021 Hora de verano romance</td></tr></table>"
      ],
      "text/plain": [
       "<IPython.core.display.HTML object>"
      ]
     },
     "metadata": {},
     "output_type": "display_data"
    }
   ],
   "source": [
    "import qiskit.tools.jupyter\n",
    "%qiskit_version_table"
   ]
  },
  {
   "cell_type": "code",
   "execution_count": null,
   "metadata": {},
   "outputs": [],
   "source": []
  }
 ],
 "metadata": {
  "kernelspec": {
   "display_name": "Python 3",
   "language": "python",
   "name": "python3"
  },
  "language_info": {
   "codemirror_mode": {
    "name": "ipython",
    "version": 3
   },
   "file_extension": ".py",
   "mimetype": "text/x-python",
   "name": "python",
   "nbconvert_exporter": "python",
   "pygments_lexer": "ipython3",
   "version": "3.7.7"
  }
 },
 "nbformat": 4,
 "nbformat_minor": 4
}
