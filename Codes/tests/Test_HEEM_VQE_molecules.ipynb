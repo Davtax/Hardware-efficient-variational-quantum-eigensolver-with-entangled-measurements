{
 "cells": [
  {
   "cell_type": "code",
   "execution_count": 12,
   "metadata": {
    "execution": {
     "iopub.execute_input": "2021-05-28T19:24:24.573711Z",
     "iopub.status.busy": "2021-05-28T19:24:24.572714Z",
     "iopub.status.idle": "2021-05-28T19:24:24.580693Z",
     "shell.execute_reply": "2021-05-28T19:24:24.579727Z",
     "shell.execute_reply.started": "2021-05-28T19:24:24.573711Z"
    }
   },
   "outputs": [],
   "source": [
    "import numpy as np\n",
    "from GroupingAlgorithms import *\n",
    "# Importing standard Qiskit libraries\n",
    "from qiskit import IBMQ\n",
    "from qiskit_nature.transformers import FreezeCoreTransformer\n",
    "from qiskit_nature.drivers import PyQuanteDriver\n",
    "from qiskit_nature.problems.second_quantization.electronic import ElectronicStructureProblem\n",
    "from qiskit_nature.mappers.second_quantization import ParityMapper, JordanWignerMapper\n",
    "from qiskit_nature.converters.second_quantization.qubit_converter import QubitConverter\n",
    "from qiskit.opflow import converters\n",
    "from qiskit.opflow.primitive_ops import Z2Symmetries"
   ]
  },
  {
   "cell_type": "code",
   "execution_count": 52,
   "metadata": {
    "execution": {
     "iopub.execute_input": "2021-05-28T19:32:20.384316Z",
     "iopub.status.busy": "2021-05-28T19:32:20.383318Z",
     "iopub.status.idle": "2021-05-28T19:32:27.064314Z",
     "shell.execute_reply": "2021-05-28T19:32:27.063434Z",
     "shell.execute_reply.started": "2021-05-28T19:32:20.383318Z"
    }
   },
   "outputs": [
    {
     "name": "stderr",
     "output_type": "stream",
     "text": [
      "ibmqfactory.load_account:WARNING:2021-05-28 21:32:20,942: Credentials are already in use. The existing account in the session will be replaced.\n"
     ]
    }
   ],
   "source": [
    "IBMQ.load_account()\n",
    "provider = IBMQ.get_provider(hub='ibm-q-csic', group='internal', project='iff-csic') \n",
    "backend = provider.get_backend('ibmq_paris')\n",
    "WC_paris = get_backend_conectivity(backend)"
   ]
  },
  {
   "cell_type": "code",
   "execution_count": 73,
   "metadata": {
    "execution": {
     "iopub.execute_input": "2021-05-28T20:01:03.378753Z",
     "iopub.status.busy": "2021-05-28T20:01:03.378753Z",
     "iopub.status.idle": "2021-05-28T20:02:54.471370Z",
     "shell.execute_reply": "2021-05-28T20:02:54.471370Z",
     "shell.execute_reply.started": "2021-05-28T20:01:03.378753Z"
    }
   },
   "outputs": [
    {
     "name": "stdout",
     "output_type": "stream",
     "text": [
      "molecule: Li 0.0 0.0 0.0; H 0.0 0.0 1.619\n",
      "number of qubits: 12\n",
      "number of Paulis: 631\n",
      "number of TPB groups: 136\n"
     ]
    },
    {
     "name": "stderr",
     "output_type": "stream",
     "text": [
      "D:\\Saco_CSIC\\Programas\\Github\\Hardware-efficient-variational-quantum-eigensolver-with-entangled-measurements\\Codes\\GroupingAlgorithms.py:118: FutureWarning: Using a non-tuple sequence for multidimensional indexing is deprecated; use `arr[tuple(seq)]` instead of `arr[seq]`. In the future this will be interpreted as an array index, `arr[np.array(seq)]`, which will result either in an error or a different result.\n",
      "  if (list(Vi[[per]]) in Comp[Eps]) and (list(Vj[[per]]) in Comp[Eps]):\n"
     ]
    },
    {
     "name": "stdout",
     "output_type": "stream",
     "text": [
      "number of Bell groups: 39\n",
      "number of 2Q groups TPB: 54\n",
      "number of 2Q groups Bell-χ: 39\n",
      "number of 2Q groups Ω: 64\n",
      "number of Bell groups for ibm_paris: 39\n",
      "number of 2Q groups TPB for ibm_paris: 54\n",
      "number of 2Q groups Bell-χ for ibm_paris: 39\n",
      "number of 2Q groups Ω for ibm_paris: 64\n",
      "----------------------------------------\n"
     ]
    }
   ],
   "source": [
    "molecules = [ \n",
    "#             'H .0 .0 .0; H .0 .0 0.761'  #0.88\n",
    "#              ,\n",
    "             'Li 0.0 0.0 0.0; H 0.0 0.0 1.619'\n",
    "#              ,\n",
    "#             'H 0.0 0.0 -1.339; Be 0.0 0.0 0.0; H 0.0 0.0 1.339'\n",
    "#              ,\n",
    "#             'O 0.0 0.0 0.0; H 0.757 0.586 0.0; H -0.757 0.586 0.0'\n",
    "# #              ,\n",
    "#              'H 0.0 0.0 0.0; F 0.0 0.0 0.995'\n",
    "             ,\n",
    "#             'Cl 0.0 0.0 0.0; H 0.0 0.0 1.0' \n",
    "            ]\n",
    "\n",
    "\n",
    "for molecule in molecules :\n",
    "    \n",
    "    print( 'molecule: '+molecule )\n",
    "\n",
    "    driver = PyQuanteDriver(molecule)\n",
    "    qmolecule = driver.run()\n",
    "    problem = ElectronicStructureProblem(driver)\n",
    "\n",
    "    # Generate the second-quantized operators\n",
    "    second_q_ops = problem.second_q_ops()\n",
    "\n",
    "    # Hamiltonian\n",
    "    main_op = second_q_ops[0]\n",
    "\n",
    "    # Setup the mapper and qubit converter\n",
    "    mapper_type = 'JordanWignerMapper'\n",
    "\n",
    "    if mapper_type == 'ParityMapper':\n",
    "        mapper = ParityMapper()\n",
    "    elif mapper_type == 'JordanWignerMapper':\n",
    "        mapper = JordanWignerMapper()\n",
    "    elif mapper_type == 'BravyiKitaevMapper':\n",
    "        mapper = BravyiKitaevMapper()\n",
    "\n",
    "    converter = QubitConverter(mapper=mapper, two_qubit_reduction=True)\n",
    "\n",
    "    # The fermionic operators are mapped to qubit operators\n",
    "    num_particles = (problem.molecule_data_transformed.num_alpha,\n",
    "                 problem.molecule_data_transformed.num_beta)\n",
    "    qubit_op   = converter.convert(main_op, num_particles=num_particles)\n",
    "\n",
    "    num_qubits = qubit_op.num_qubits\n",
    "    WC=list(range(num_qubits))\n",
    "    WC=list(permutations(list(range(num_qubits)),2))\n",
    "\n",
    "    print('number of qubits:', num_qubits)\n",
    "\n",
    "    paulis, coeff, label = Label2Chain(qubit_op)\n",
    "    print( 'number of Paulis:', len(coeff) )\n",
    "    \n",
    "    Color, Groups_tpb, Measurements_tpb = TPBgrouping(paulis)\n",
    "    print( 'number of TPB groups:', len(Groups_tpb) )\n",
    "        \n",
    "    Groups_bell, Measurements_bell = grouping( paulis,[4,3,1,2],WC)\n",
    "    print('number of Bell groups:', len(Groups_bell) )\n",
    "    \n",
    "    Groups_2Q0, Measurements_2Q0 = grouping( paulis,[3,2,1,4,9,8,7,6,5],WC)\n",
    "    print('number of 2Q groups TPB:', len(Groups_2Q0) )\n",
    "    \n",
    "    Groups_2Q1, Measurements_2Q1 = grouping( paulis,[4,9,8,7,6,5,3,2,1],WC)\n",
    "    print('number of 2Q groups Bell-χ:', len(Groups_2Q1) )\n",
    "    \n",
    "    Groups_2Q2, Measurements_2Q2 = grouping( paulis,[7,6,5,4,9,8,3,2,1],WC)\n",
    "    print('number of 2Q groups Ω:', len(Groups_2Q2) )\n",
    "    \n",
    "    Groups_bell_paris, Measurements_bell_paris = grouping( paulis,[4,3,1,2],WC_paris)\n",
    "    print('number of Bell groups for ibm_paris:', len(Groups_bell) )\n",
    "    \n",
    "    Groups_2Q0_paris, Measurements_2Q0 = grouping( paulis,[3,2,1,4,9,8,7,6,5],WC_paris)\n",
    "    print('number of 2Q groups TPB for ibm_paris:', len(Groups_2Q0) )\n",
    "    \n",
    "    Groups_2Q1_paris, Measurements_2Q1_paris = grouping( paulis,[4,9,8,7,6,5,3,2,1],WC_paris)\n",
    "    print('number of 2Q groups Bell-χ for ibm_paris:', len(Groups_2Q1) )\n",
    "    \n",
    "    Groups_2Q2_paris, Measurements_2Q2_paris = grouping( paulis,[7,6,5,4,9,8,3,2,1],WC_paris)\n",
    "    print('number of 2Q groups Ω for ibm_paris:', len(Groups_2Q2) )    \n",
    "    \n",
    "    print('----------------------------------------')\n"
   ]
  },
  {
   "cell_type": "code",
   "execution_count": 101,
   "metadata": {
    "execution": {
     "iopub.execute_input": "2021-05-28T22:31:52.355910Z",
     "iopub.status.busy": "2021-05-28T22:31:52.355910Z",
     "iopub.status.idle": "2021-05-28T22:31:52.363888Z",
     "shell.execute_reply": "2021-05-28T22:31:52.362891Z",
     "shell.execute_reply.started": "2021-05-28T22:31:52.355910Z"
    }
   },
   "outputs": [
    {
     "data": {
      "text/plain": [
       "[[4, [1, 5]],\n",
       " [4, [7, 10]],\n",
       " [4, [3, 4]],\n",
       " [4, [6, 11]],\n",
       " [3, [2]],\n",
       " [3, [0]],\n",
       " [3, [8]],\n",
       " [3, [9]]]"
      ]
     },
     "execution_count": 101,
     "metadata": {},
     "output_type": "execute_result"
    }
   ],
   "source": [
    "Measurements_bell[2]"
   ]
  },
  {
   "cell_type": "code",
   "execution_count": 102,
   "metadata": {
    "execution": {
     "iopub.execute_input": "2021-05-28T22:31:52.773956Z",
     "iopub.status.busy": "2021-05-28T22:31:52.772969Z",
     "iopub.status.idle": "2021-05-28T22:31:52.782135Z",
     "shell.execute_reply": "2021-05-28T22:31:52.780969Z",
     "shell.execute_reply.started": "2021-05-28T22:31:52.773956Z"
    }
   },
   "outputs": [
    {
     "data": {
      "text/plain": [
       "[[4, [8, 9]],\n",
       " [3, [10]],\n",
       " [2, [6]],\n",
       " [2, [11]],\n",
       " [4, [2, 3]],\n",
       " [3, [4]],\n",
       " [1, [0]],\n",
       " [1, [5]],\n",
       " [1, [1]],\n",
       " [2, [7]]]"
      ]
     },
     "execution_count": 102,
     "metadata": {},
     "output_type": "execute_result"
    }
   ],
   "source": [
    "Measurements_bell_paris[2]"
   ]
  },
  {
   "cell_type": "code",
   "execution_count": 98,
   "metadata": {
    "execution": {
     "iopub.execute_input": "2021-05-28T20:36:47.782867Z",
     "iopub.status.busy": "2021-05-28T20:36:47.782867Z",
     "iopub.status.idle": "2021-05-28T20:36:47.792839Z",
     "shell.execute_reply": "2021-05-28T20:36:47.791842Z",
     "shell.execute_reply.started": "2021-05-28T20:36:47.782867Z"
    }
   },
   "outputs": [
    {
     "data": {
      "text/plain": [
       "0"
      ]
     },
     "execution_count": 98,
     "metadata": {},
     "output_type": "execute_result"
    }
   ],
   "source": [
    "Test = []\n",
    "for groups in Measurements_bell:\n",
    "    for idx in groups:\n",
    "        if idx[0] == 4 :\n",
    "            if tuple(idx[1]) in WC_paris:\n",
    "                Test.append(1)\n",
    "            else:\n",
    "                Test.append(0)\n",
    "                \n",
    "np.prod(Test)"
   ]
  },
  {
   "cell_type": "code",
   "execution_count": 96,
   "metadata": {
    "execution": {
     "iopub.execute_input": "2021-05-28T20:36:26.368488Z",
     "iopub.status.busy": "2021-05-28T20:36:26.368488Z",
     "iopub.status.idle": "2021-05-28T20:36:26.377449Z",
     "shell.execute_reply": "2021-05-28T20:36:26.376464Z",
     "shell.execute_reply.started": "2021-05-28T20:36:26.368488Z"
    }
   },
   "outputs": [
    {
     "data": {
      "text/plain": [
       "1"
      ]
     },
     "execution_count": 96,
     "metadata": {},
     "output_type": "execute_result"
    }
   ],
   "source": [
    "Test = []\n",
    "for groups in Measurements_bell_paris:\n",
    "    for idx in groups:\n",
    "        if idx[0] == 4 :\n",
    "            if tuple(idx[1]) in WC_paris:\n",
    "                Test.append(1)\n",
    "            else:\n",
    "                Test.append(0)\n",
    "                \n",
    "np.prod(Test)"
   ]
  },
  {
   "cell_type": "code",
   "execution_count": 23,
   "metadata": {
    "execution": {
     "iopub.execute_input": "2021-05-28T19:26:40.654412Z",
     "iopub.status.busy": "2021-05-28T19:26:40.653389Z",
     "iopub.status.idle": "2021-05-28T19:26:52.860953Z",
     "shell.execute_reply": "2021-05-28T19:26:52.860953Z",
     "shell.execute_reply.started": "2021-05-28T19:26:40.654412Z"
    }
   },
   "outputs": [
    {
     "name": "stdout",
     "output_type": "stream",
     "text": [
      "4\n",
      "-0.20316612481217325 * IIII\n",
      "+ (-0.365258527098598-1.3877787807814457e-17j) * ZIII\n",
      "+ 0.09275974420404098 * IZII\n",
      "- 0.2118902053549851 * ZZII\n",
      "+ (0.365258527098598+2.7755575615628914e-17j) * IIZI\n",
      "- 0.11384420116816225 * ZIZI\n",
      "+ 0.11395335131674317 * IZZI\n",
      "+ (-0.06043919280467715-3.469446951953614e-18j) * ZZZI\n",
      "+ (-0.09275974420404105-3.469446951953614e-18j) * IIIZ\n",
      "+ 0.11395335131674318 * ZIIZ\n",
      "+ (-0.12274347556009738-6.938893903907228e-18j) * IZIZ\n",
      "+ 0.056287757667526306 * ZZIZ\n",
      "+ (-0.2118902053549851-6.938893903907228e-18j) * IIZZ\n",
      "+ 0.06043919280467715 * ZIZZ\n",
      "- 0.056287757667526306 * IZZZ\n",
      "+ 0.0846016988633049 * ZZZZ\n",
      "+ 0.019390023793252498 * XIII\n",
      "+ (-0.019390023793252498+8.673617379884035e-19j) * XZII\n",
      "- 0.010951534973539137 * XIZI\n",
      "+ 0.010951534973539137 * XZZI\n",
      "+ 0.01277809801936714 * XIIZ\n",
      "- 0.01277809801936714 * XZIZ\n",
      "- 0.00900252139905185 * XIZZ\n",
      "+ 0.00900252139905185 * XZZZ\n",
      "- 0.002936887226605865 * IXII\n",
      "- 0.0029368872266058656 * ZXII\n",
      "+ 0.010679892682752462 * IXZI\n",
      "+ 0.010679892682752462 * ZXZI\n",
      "- 0.011923147970878475 * IXIZ\n",
      "+ (-0.011923147970878475+8.673617379884035e-19j) * ZXIZ\n",
      "+ 0.001696659423374515 * IXZZ\n",
      "+ (0.001696659423374515+1.0842021724855044e-19j) * ZXZZ\n",
      "+ 0.0007448136948643796 * XXII\n",
      "- 0.0007448136948643789 * YYII\n",
      "- 0.03439054159380009 * XXZI\n",
      "+ 0.03439054159380009 * YYZI\n",
      "+ 0.03239612975064377 * XXIZ\n",
      "- 0.03239612975064377 * YYIZ\n",
      "- 0.0027382496936227945 * XXZZ\n",
      "+ 0.0027382496936227945 * YYZZ\n",
      "+ (0.019390023793252498-8.673617379884035e-19j) * IIXI\n",
      "+ 0.010951534973539137 * ZIXI\n",
      "+ (-0.01277809801936714+8.673617379884035e-19j) * IZXI\n",
      "- 0.00900252139905185 * ZZXI\n",
      "+ 0.019390023793252498 * IIXZ\n",
      "+ 0.010951534973539137 * ZIXZ\n",
      "- 0.01277809801936714 * IZXZ\n",
      "- 0.00900252139905185 * ZZXZ\n",
      "+ 0.006586890911505881 * XIXI\n",
      "- 0.006586890911505881 * XZXI\n",
      "+ (0.006586890911505881-4.336808689942018e-19j) * XIXZ\n",
      "- 0.006586890911505881 * XZXZ\n",
      "- 0.0022204528143394257 * IXXI\n",
      "+ (-0.0022204528143394257-2.168404344971009e-19j) * ZXXI\n",
      "+ (-0.0022204528143394257-2.168404344971009e-19j) * IXXZ\n",
      "- 0.0022204528143394257 * ZXXZ\n",
      "+ 0.007858062290639314 * XXXI\n",
      "- 0.007858062290639314 * YYXI\n",
      "+ 0.007858062290639314 * XXXZ\n",
      "- 0.007858062290639314 * YYXZ\n",
      "- 0.002936887226605863 * IIIX\n",
      "- 0.010679892682752462 * ZIIX\n",
      "+ (0.011923147970878475-8.673617379884035e-19j) * IZIX\n",
      "+ 0.001696659423374515 * ZZIX\n",
      "+ 0.002936887226605863 * IIZX\n",
      "+ 0.010679892682752462 * ZIZX\n",
      "+ (-0.011923147970878475+8.673617379884035e-19j) * IZZX\n",
      "- 0.001696659423374515 * ZZZX\n",
      "- 0.0022204528143394257 * XIIX\n",
      "+ 0.0022204528143394257 * XZIX\n",
      "+ 0.0022204528143394257 * XIZX\n",
      "- 0.0022204528143394257 * XZZX\n",
      "+ 0.00313843976345993 * IXIX\n",
      "+ (0.0031384397634599296-2.168404344971009e-19j) * ZXIX\n",
      "- 0.00313843976345993 * IXZX\n",
      "+ (-0.0031384397634599296+2.168404344971009e-19j) * ZXZX\n",
      "- 0.008497862762266498 * XXIX\n",
      "+ 0.008497862762266498 * YYIX\n",
      "+ 0.008497862762266498 * XXZX\n",
      "- 0.008497862762266498 * YYZX\n",
      "+ 0.0007448136948643926 * IIXX\n",
      "+ 0.03439054159380009 * ZIXX\n",
      "- 0.03239612975064377 * IZXX\n",
      "- 0.0027382496936227945 * ZZXX\n",
      "- 0.000744813694864393 * IIYY\n",
      "- 0.03439054159380009 * ZIYY\n",
      "+ (0.03239612975064377+3.469446951953614e-18j) * IZYY\n",
      "+ 0.0027382496936227945 * ZZYY\n",
      "+ 0.007858062290639314 * XIXX\n",
      "- 0.007858062290639314 * XZXX\n",
      "- 0.007858062290639314 * XIYY\n",
      "+ 0.007858062290639314 * XZYY\n",
      "- 0.008497862762266498 * IXXX\n",
      "- 0.008497862762266498 * ZXXX\n",
      "+ 0.008497862762266498 * IXYY\n",
      "+ 0.008497862762266498 * ZXYY\n",
      "+ 0.03084669637448977 * XXXX\n",
      "- 0.03084669637448977 * YYXX\n",
      "- 0.03084669637448977 * XXYY\n",
      "+ 0.030846696374489765 * YYYY\n"
     ]
    }
   ],
   "source": [
    "molecule = 'Li 0.0 0.0 0.0; H 0.0 0.0 1.5474'\n",
    "driver = PyQuanteDriver(molecule)\n",
    "qmolecule = driver.run()\n",
    "freezeCoreTransfomer = FreezeCoreTransformer(freeze_core=True,remove_orbitals= [3,4])\n",
    "problem = ElectronicStructureProblem(driver,q_molecule_transformers=[freezeCoreTransfomer])\n",
    "\n",
    "# Generate the second-quantized operators\n",
    "second_q_ops = problem.second_q_ops()\n",
    "\n",
    "# Hamiltonian\n",
    "main_op = second_q_ops[0]\n",
    "\n",
    "# Setup the mapper and qubit converter\n",
    "mapper_type = 'ParityMapper'\n",
    "mapper = ParityMapper()\n",
    "\n",
    "converter = QubitConverter(mapper=mapper,two_qubit_reduction=True, z2symmetry_reduction=[1,1],) #1] \n",
    "\n",
    "# The fermionic operators are mapped to qubit operators\n",
    "num_particles = (problem.molecule_data_transformed.num_alpha,\n",
    "             problem.molecule_data_transformed.num_beta)\n",
    "\n",
    "num_spin_orbitals = 2 * problem.molecule_data_transformed.num_molecular_orbitals\n",
    "\n",
    "qubit_op = converter.convert(main_op, num_particles=num_particles)\n",
    "\n",
    "num_qubits = qubit_op.num_qubits\n",
    "num_qubits = qubit_op.num_qubits\n",
    "WC=list(range(num_qubits))\n",
    "WC=list(permutations(list(range(num_qubits)),2))\n",
    "\n",
    "print( num_qubits )\n",
    "print( qubit_op )"
   ]
  },
  {
   "cell_type": "code",
   "execution_count": 42,
   "metadata": {
    "execution": {
     "iopub.execute_input": "2021-05-28T19:28:49.253200Z",
     "iopub.status.busy": "2021-05-28T19:28:49.253200Z",
     "iopub.status.idle": "2021-05-28T19:28:50.146757Z",
     "shell.execute_reply": "2021-05-28T19:28:50.145794Z",
     "shell.execute_reply.started": "2021-05-28T19:28:49.253200Z"
    }
   },
   "outputs": [
    {
     "name": "stdout",
     "output_type": "stream",
     "text": [
      "number of Paulis: 100\n",
      "number of TPB groups: 25\n",
      "number of Bell groups: 9\n",
      "number of 2Q groups TPB: 11\n",
      "number of 2Q groups Bell-χ: 11\n",
      "number of 2Q groups Ω: 11\n"
     ]
    }
   ],
   "source": [
    "paulis, coeff, label = Label2Chain(qubit_op)\n",
    "print( 'number of Paulis:', len(coeff) )\n",
    "\n",
    "Color, Groups_tpb, Measurements_tpb = TPBgrouping(paulis)\n",
    "print( 'number of TPB groups:', len(Groups_tpb) )\n",
    "\n",
    "Groups_bell, Measurements_bell = grouping( paulis,[4,3,1,2],WC)\n",
    "print('number of Bell groups:', len(Groups_bell) )\n",
    "\n",
    "Groups_2Q0, Measurements_2Q0 = grouping( paulis,[3,2,1,4,9,8,7,6,5],WC)\n",
    "print('number of 2Q groups TPB:', len(Groups_2Q0) )\n",
    "\n",
    "Groups_2Q1, Measurements_2Q1 = grouping( paulis,[4,9,8,7,6,5,3,2,1],WC)\n",
    "print('number of 2Q groups Bell-χ:', len(Groups_2Q1) )\n",
    "\n",
    "Groups_2Q2, Measurements_2Q2 = grouping( paulis,[7,6,5,4,9,8,3,2,1],WC)\n",
    "print('number of 2Q groups Ω:', len(Groups_2Q2) )"
   ]
  },
  {
   "cell_type": "code",
   "execution_count": 43,
   "metadata": {
    "execution": {
     "iopub.execute_input": "2021-05-28T19:28:50.147807Z",
     "iopub.status.busy": "2021-05-28T19:28:50.147807Z",
     "iopub.status.idle": "2021-05-28T19:28:50.155733Z",
     "shell.execute_reply": "2021-05-28T19:28:50.154761Z",
     "shell.execute_reply.started": "2021-05-28T19:28:50.147807Z"
    }
   },
   "outputs": [
    {
     "data": {
      "text/plain": [
       "[[99, 39, 87, 97, 98, 15, 38, 83, 96, 33, 84, 3, 12, 32, 80, 0],\n",
       " [59, 37, 57, 47, 58, 11, 36, 43, 56, 44, 8, 40],\n",
       " [79, 35, 77, 67, 78, 7, 34, 63, 76, 64, 4, 60],\n",
       " [91, 86, 90, 23, 89, 14, 22, 82, 88, 17, 2, 16],\n",
       " [95, 85, 94, 31, 93, 13, 30, 81, 92, 25, 1, 24],\n",
       " [51, 21, 46, 49, 50, 10, 20, 42, 48],\n",
       " [55, 29, 45, 53, 54, 9, 28, 41, 52],\n",
       " [71, 19, 66, 69, 70, 6, 18, 62, 68],\n",
       " [75, 27, 65, 73, 74, 5, 26, 61, 72]]"
      ]
     },
     "execution_count": 43,
     "metadata": {},
     "output_type": "execute_result"
    }
   ],
   "source": [
    "Groups_bell"
   ]
  },
  {
   "cell_type": "code",
   "execution_count": null,
   "metadata": {},
   "outputs": [],
   "source": [
    "#0-1-2-3\n",
    "#  |\n",
    "#  4"
   ]
  },
  {
   "cell_type": "code",
   "execution_count": 45,
   "metadata": {
    "execution": {
     "iopub.execute_input": "2021-05-28T19:28:50.171692Z",
     "iopub.status.busy": "2021-05-28T19:28:50.170693Z",
     "iopub.status.idle": "2021-05-28T19:28:51.137105Z",
     "shell.execute_reply": "2021-05-28T19:28:51.136109Z",
     "shell.execute_reply.started": "2021-05-28T19:28:50.171692Z"
    }
   },
   "outputs": [
    {
     "name": "stdout",
     "output_type": "stream",
     "text": [
      "number of TPB groups: 25\n",
      "number of Bell groups: 9\n",
      "number of 2Q groups TPB: 11\n",
      "number of 2Q groups Bell-χ: 11\n",
      "number of 2Q groups Ω: 11\n"
     ]
    }
   ],
   "source": [
    "Color, Groups_tpb, Measurements_tpb = TPBgrouping(paulis)\n",
    "print( 'number of TPB groups:', len(Groups_tpb) )\n",
    "\n",
    "Groups_bell, Measurements_bell = grouping( paulis,[4,3,1,2],WC)\n",
    "print('number of Bell groups:', len(Groups_bell) )\n",
    "\n",
    "Groups_2Q0, Measurements_2Q0 = grouping( paulis,[3,2,1,4,9,8,7,6,5],WC)\n",
    "print('number of 2Q groups TPB:', len(Groups_2Q0) )\n",
    "\n",
    "Groups_2Q1, Measurements_2Q1 = grouping( paulis,[4,9,8,7,6,5,3,2,1],WC)\n",
    "print('number of 2Q groups Bell-χ:', len(Groups_2Q1) )\n",
    "\n",
    "Groups_2Q2, Measurements_2Q2 = grouping( paulis,[7,6,5,4,9,8,3,2,1],WC)\n",
    "print('number of 2Q groups Ω:', len(Groups_2Q2) )"
   ]
  },
  {
   "cell_type": "code",
   "execution_count": 46,
   "metadata": {
    "execution": {
     "iopub.execute_input": "2021-05-28T19:28:51.138103Z",
     "iopub.status.busy": "2021-05-28T19:28:51.138103Z",
     "iopub.status.idle": "2021-05-28T19:28:51.146055Z",
     "shell.execute_reply": "2021-05-28T19:28:51.145089Z",
     "shell.execute_reply.started": "2021-05-28T19:28:51.138103Z"
    }
   },
   "outputs": [
    {
     "data": {
      "text/plain": [
       "[[99, 39, 87, 97, 98, 15, 38, 83, 96, 33, 84, 3, 12, 32, 80, 0],\n",
       " [59, 37, 57, 47, 58, 11, 36, 43, 56, 44, 8, 40],\n",
       " [79, 35, 77, 67, 78, 7, 34, 63, 76, 64, 4, 60],\n",
       " [91, 86, 90, 23, 89, 14, 22, 82, 88, 17, 2, 16],\n",
       " [95, 85, 94, 31, 93, 13, 30, 81, 92, 25, 1, 24],\n",
       " [51, 21, 46, 49, 50, 10, 20, 42, 48],\n",
       " [55, 29, 45, 53, 54, 9, 28, 41, 52],\n",
       " [71, 19, 66, 69, 70, 6, 18, 62, 68],\n",
       " [75, 27, 65, 73, 74, 5, 26, 61, 72]]"
      ]
     },
     "execution_count": 46,
     "metadata": {},
     "output_type": "execute_result"
    }
   ],
   "source": [
    "Groups_bell"
   ]
  },
  {
   "cell_type": "code",
   "execution_count": 50,
   "metadata": {
    "execution": {
     "iopub.execute_input": "2021-05-28T19:30:49.810982Z",
     "iopub.status.busy": "2021-05-28T19:30:49.810982Z",
     "iopub.status.idle": "2021-05-28T19:30:49.818962Z",
     "shell.execute_reply": "2021-05-28T19:30:49.817989Z",
     "shell.execute_reply.started": "2021-05-28T19:30:49.810982Z"
    }
   },
   "outputs": [
    {
     "data": {
      "text/plain": [
       "[[[4, [2, 3]], [4, [0, 1]]],\n",
       " [[1, [2]], [3, [3]], [4, [0, 1]]],\n",
       " [[1, [3]], [3, [2]], [4, [0, 1]]],\n",
       " [[1, [0]], [3, [1]], [4, [2, 3]]],\n",
       " [[1, [1]], [3, [0]], [4, [2, 3]]],\n",
       " [[1, [2]], [1, [0]], [3, [3]], [3, [1]]],\n",
       " [[1, [2]], [1, [1]], [3, [3]], [3, [0]]],\n",
       " [[1, [3]], [1, [0]], [3, [2]], [3, [1]]],\n",
       " [[1, [3]], [1, [1]], [3, [2]], [3, [0]]]]"
      ]
     },
     "execution_count": 50,
     "metadata": {},
     "output_type": "execute_result"
    }
   ],
   "source": [
    "Measurements_bell"
   ]
  },
  {
   "cell_type": "code",
   "execution_count": 51,
   "metadata": {
    "execution": {
     "iopub.execute_input": "2021-05-28T19:31:07.828634Z",
     "iopub.status.busy": "2021-05-28T19:31:07.827637Z",
     "iopub.status.idle": "2021-05-28T19:31:07.832597Z",
     "shell.execute_reply": "2021-05-28T19:31:07.831600Z",
     "shell.execute_reply.started": "2021-05-28T19:31:07.828634Z"
    }
   },
   "outputs": [],
   "source": [
    "#0-1-2-3\n",
    "#  |\n",
    "#  4"
   ]
  },
  {
   "cell_type": "code",
   "execution_count": null,
   "metadata": {},
   "outputs": [],
   "source": []
  }
 ],
 "metadata": {
  "kernelspec": {
   "display_name": "Python 3",
   "language": "python",
   "name": "python3"
  },
  "language_info": {
   "codemirror_mode": {
    "name": "ipython",
    "version": 3
   },
   "file_extension": ".py",
   "mimetype": "text/x-python",
   "name": "python",
   "nbconvert_exporter": "python",
   "pygments_lexer": "ipython3",
   "version": "3.7.7"
  }
 },
 "nbformat": 4,
 "nbformat_minor": 5
}
