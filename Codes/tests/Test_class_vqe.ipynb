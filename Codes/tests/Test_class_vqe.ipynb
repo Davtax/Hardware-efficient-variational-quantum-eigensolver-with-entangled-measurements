{
 "cells": [
  {
   "cell_type": "code",
   "execution_count": 1,
   "metadata": {
    "execution": {
     "iopub.execute_input": "2021-06-04T19:41:38.284776Z",
     "iopub.status.busy": "2021-06-04T19:41:38.284776Z",
     "iopub.status.idle": "2021-06-04T19:41:41.583924Z",
     "shell.execute_reply": "2021-06-04T19:41:41.583006Z",
     "shell.execute_reply.started": "2021-06-04T19:41:38.284776Z"
    }
   },
   "outputs": [],
   "source": [
    "import sys\n",
    "sys.path.append('../')\n",
    "import numpy as np\n",
    "import matplotlib.pyplot as plt\n",
    "from VQE import VQE\n",
    "from GroupingAlgorithm import *\n",
    "from utils import get_backend_conectivity, RandomHamiltonian\n",
    "# Importing standard Qiskit libraries\n",
    "from qiskit import IBMQ, QuantumCircuit\n",
    "from qiskit.providers.aer import AerSimulator\n",
    "from qiskit.circuit.library import EfficientSU2\n",
    "from qiskit.utils.quantum_instance import QuantumInstance\n",
    "from qiskit.algorithms import NumPyMinimumEigensolver\n",
    "from qiskit.ignis.mitigation.measurement import CompleteMeasFitter\n",
    "from qiskit.algorithms.optimizers import SPSA\n",
    "from IPython.display import display, clear_output"
   ]
  },
  {
   "cell_type": "markdown",
   "metadata": {},
   "source": [
    "In this notebook we test the VQE class. First we load our IBM account and define the backends. "
   ]
  },
  {
   "cell_type": "code",
   "execution_count": 2,
   "metadata": {
    "execution": {
     "iopub.execute_input": "2021-06-04T19:41:41.584915Z",
     "iopub.status.busy": "2021-06-04T19:41:41.584915Z",
     "iopub.status.idle": "2021-06-04T19:41:52.294269Z",
     "shell.execute_reply": "2021-06-04T19:41:52.293270Z",
     "shell.execute_reply.started": "2021-06-04T19:41:41.584915Z"
    }
   },
   "outputs": [],
   "source": [
    "IBMQ.load_account()\n",
    "provider      = IBMQ.get_provider(hub='ibm-q-csic', group='internal', project='iff-csic') \n",
    "backend_paris = provider.get_backend('ibmq_paris')\n",
    "WC_paris      = get_backend_conectivity(backend_paris)\n",
    "backend_sim   = AerSimulator(method=\"statevector\") # Backend for simulation\n",
    "backend_noise = AerSimulator.from_backend(backend_paris) # Backend with noise model\n",
    "NUM_SHOTS = 2**13  # Number of shots for each circuit"
   ]
  },
  {
   "cell_type": "markdown",
   "metadata": {
    "execution": {
     "iopub.execute_input": "2021-06-03T17:13:33.105425Z",
     "iopub.status.busy": "2021-06-03T17:13:33.105425Z",
     "iopub.status.idle": "2021-06-03T17:13:33.111409Z",
     "shell.execute_reply": "2021-06-03T17:13:33.110412Z",
     "shell.execute_reply.started": "2021-06-03T17:13:33.105425Z"
    }
   },
   "source": [
    "We create a Hamiltonian to perform the test."
   ]
  },
  {
   "cell_type": "code",
   "execution_count": 3,
   "metadata": {
    "execution": {
     "iopub.execute_input": "2021-06-04T19:41:52.296261Z",
     "iopub.status.busy": "2021-06-04T19:41:52.296261Z",
     "iopub.status.idle": "2021-06-04T19:41:52.300257Z",
     "shell.execute_reply": "2021-06-04T19:41:52.299253Z",
     "shell.execute_reply.started": "2021-06-04T19:41:52.296261Z"
    }
   },
   "outputs": [],
   "source": [
    "# qubit_op, init_state = LiH(initial_state=True)\n",
    "# num_qubits = qubit_op.num_qubits"
   ]
  },
  {
   "cell_type": "code",
   "execution_count": 4,
   "metadata": {
    "execution": {
     "iopub.execute_input": "2021-06-04T19:41:52.302245Z",
     "iopub.status.busy": "2021-06-04T19:41:52.301248Z",
     "iopub.status.idle": "2021-06-04T19:41:52.314212Z",
     "shell.execute_reply": "2021-06-04T19:41:52.313245Z",
     "shell.execute_reply.started": "2021-06-04T19:41:52.302245Z"
    }
   },
   "outputs": [
    {
     "name": "stdout",
     "output_type": "stream",
     "text": [
      "SummedOp([\n",
      "  XZ,\n",
      "  XY,\n",
      "  ZX,\n",
      "  ZX,\n",
      "  XX,\n",
      "  ZX\n",
      "])\n"
     ]
    }
   ],
   "source": [
    "num_qubits = 2\n",
    "qubit_op = RandomHamiltonian( num_qubits, 6 )\n",
    "init_state = QuantumCircuit(num_qubits)\n",
    "print( qubit_op )"
   ]
  },
  {
   "cell_type": "markdown",
   "metadata": {},
   "source": [
    "We calculate the minimum energy of the Hamiltonian by a classical method."
   ]
  },
  {
   "cell_type": "code",
   "execution_count": 5,
   "metadata": {
    "execution": {
     "iopub.execute_input": "2021-06-04T19:41:52.315210Z",
     "iopub.status.busy": "2021-06-04T19:41:52.315210Z",
     "iopub.status.idle": "2021-06-04T19:41:52.329173Z",
     "shell.execute_reply": "2021-06-04T19:41:52.328186Z",
     "shell.execute_reply.started": "2021-06-04T19:41:52.315210Z"
    }
   },
   "outputs": [
    {
     "data": {
      "text/plain": [
       "(-4.526066876907423-1.0250386925925712e-16j)"
      ]
     },
     "execution_count": 5,
     "metadata": {},
     "output_type": "execute_result"
    }
   ],
   "source": [
    "result_exact = NumPyMinimumEigensolver().compute_minimum_eigenvalue(qubit_op)\n",
    "result_exact.eigenvalue "
   ]
  },
  {
   "cell_type": "markdown",
   "metadata": {},
   "source": [
    "We will employ a Hardware efficient variation form."
   ]
  },
  {
   "cell_type": "code",
   "execution_count": 6,
   "metadata": {
    "execution": {
     "iopub.execute_input": "2021-06-04T19:41:52.331168Z",
     "iopub.status.busy": "2021-06-04T19:41:52.330170Z",
     "iopub.status.idle": "2021-06-04T19:41:52.776993Z",
     "shell.execute_reply": "2021-06-04T19:41:52.775978Z",
     "shell.execute_reply.started": "2021-06-04T19:41:52.331168Z"
    }
   },
   "outputs": [
    {
     "data": {
      "image/png": "[encoded data removed]",
      "text/plain": [
       "<Figure size 387.452x144.48 with 1 Axes>"
      ]
     },
     "execution_count": 6,
     "metadata": {},
     "output_type": "execute_result"
    }
   ],
   "source": [
    "entangled_layer = []\n",
    "for qbs in WC_paris :\n",
    "    if qbs[0]<qbs[1] and qbs[1]<num_qubits :\n",
    "        entangled_layer.append(qbs)\n",
    "\n",
    "ansatz = init_state.compose( EfficientSU2(num_qubits,['ry','rz'], entanglement=entangled_layer, reps=1 ) )\n",
    "ansatz.draw(output='mpl')"
   ]
  },
  {
   "cell_type": "markdown",
   "metadata": {
    "execution": {
     "iopub.execute_input": "2021-06-03T17:15:32.552223Z",
     "iopub.status.busy": "2021-06-03T17:15:32.551225Z",
     "iopub.status.idle": "2021-06-03T17:15:32.557209Z",
     "shell.execute_reply": "2021-06-03T17:15:32.556420Z",
     "shell.execute_reply.started": "2021-06-03T17:15:32.552223Z"
    }
   },
   "source": [
    "We define a callback function, to have the behavior of the algorithm by iterations."
   ]
  },
  {
   "cell_type": "code",
   "execution_count": 7,
   "metadata": {
    "execution": {
     "iopub.execute_input": "2021-06-04T19:41:52.778973Z",
     "iopub.status.busy": "2021-06-04T19:41:52.777972Z",
     "iopub.status.idle": "2021-06-04T19:41:52.784954Z",
     "shell.execute_reply": "2021-06-04T19:41:52.783956Z",
     "shell.execute_reply.started": "2021-06-04T19:41:52.778973Z"
    }
   },
   "outputs": [],
   "source": [
    "def callback( evals, params, energy, extra  ):  \n",
    "    display(\"{}, {}\".format(evals,energy))\n",
    "    clear_output(wait=True)\n",
    "    parameters.append(params)\n",
    "    evaluations.append(evals)\n",
    "\n",
    "parameters  = []\n",
    "evaluations = []\n",
    "energies    = [] "
   ]
  },
  {
   "cell_type": "markdown",
   "metadata": {},
   "source": [
    "We select SPSA with 100 iterations as classical optimizer."
   ]
  },
  {
   "cell_type": "code",
   "execution_count": 8,
   "metadata": {
    "execution": {
     "iopub.execute_input": "2021-06-04T19:41:52.785951Z",
     "iopub.status.busy": "2021-06-04T19:41:52.785951Z",
     "iopub.status.idle": "2021-06-04T19:41:52.795928Z",
     "shell.execute_reply": "2021-06-04T19:41:52.793929Z",
     "shell.execute_reply.started": "2021-06-04T19:41:52.785951Z"
    }
   },
   "outputs": [],
   "source": [
    "optimizer = SPSA( maxiter=100, last_avg=1 )"
   ]
  },
  {
   "cell_type": "markdown",
   "metadata": {},
   "source": [
    "Initial parameters for the optimization"
   ]
  },
  {
   "cell_type": "code",
   "execution_count": 9,
   "metadata": {
    "execution": {
     "iopub.execute_input": "2021-06-04T19:41:52.798917Z",
     "iopub.status.busy": "2021-06-04T19:41:52.797945Z",
     "iopub.status.idle": "2021-06-04T19:41:52.803903Z",
     "shell.execute_reply": "2021-06-04T19:41:52.802927Z",
     "shell.execute_reply.started": "2021-06-04T19:41:52.798917Z"
    }
   },
   "outputs": [],
   "source": [
    "num_var = ansatz.num_parameters\n",
    "pars = [0.01] * num_var"
   ]
  },
  {
   "cell_type": "code",
   "execution_count": 10,
   "metadata": {
    "execution": {
     "iopub.execute_input": "2021-06-04T19:41:52.806895Z",
     "iopub.status.busy": "2021-06-04T19:41:52.805924Z",
     "iopub.status.idle": "2021-06-04T19:41:52.815872Z",
     "shell.execute_reply": "2021-06-04T19:41:52.814873Z",
     "shell.execute_reply.started": "2021-06-04T19:41:52.806895Z"
    }
   },
   "outputs": [
    {
     "data": {
      "text/plain": [
       "(-4.526066876907423-1.0250386925925712e-16j)"
      ]
     },
     "execution_count": 10,
     "metadata": {},
     "output_type": "execute_result"
    }
   ],
   "source": [
    "result_exact.eigenvalue "
   ]
  },
  {
   "cell_type": "markdown",
   "metadata": {},
   "source": [
    "VQE with entangled grouping"
   ]
  },
  {
   "cell_type": "code",
   "execution_count": 11,
   "metadata": {
    "execution": {
     "iopub.execute_input": "2021-06-04T19:41:52.816868Z",
     "iopub.status.busy": "2021-06-04T19:41:52.816868Z",
     "iopub.status.idle": "2021-06-04T19:42:06.932189Z",
     "shell.execute_reply": "2021-06-04T19:42:06.932189Z",
     "shell.execute_reply.started": "2021-06-04T19:41:52.816868Z"
    }
   },
   "outputs": [
    {
     "name": "stdout",
     "output_type": "stream",
     "text": [
      "-4.44921875\n"
     ]
    }
   ],
   "source": [
    "solver = VQE( ansatz, optimizer, pars, grouping = 'Entangled' )\n",
    "results = solver.compute_minimum_eigenvalue(qubit_op)\n",
    "print( results.eigenvalue )"
   ]
  },
  {
   "cell_type": "markdown",
   "metadata": {},
   "source": [
    "VQE with TPB grouping"
   ]
  },
  {
   "cell_type": "code",
   "execution_count": 12,
   "metadata": {
    "execution": {
     "iopub.execute_input": "2021-06-04T19:42:06.934184Z",
     "iopub.status.busy": "2021-06-04T19:42:06.933186Z",
     "iopub.status.idle": "2021-06-04T19:42:19.010127Z",
     "shell.execute_reply": "2021-06-04T19:42:19.009115Z",
     "shell.execute_reply.started": "2021-06-04T19:42:06.934184Z"
    }
   },
   "outputs": [
    {
     "name": "stdout",
     "output_type": "stream",
     "text": [
      "-4.47265625\n"
     ]
    }
   ],
   "source": [
    "solver = VQE( ansatz, optimizer, pars, grouping = 'TPB' )\n",
    "results = solver.compute_minimum_eigenvalue(qubit_op)\n",
    "print( results.eigenvalue )"
   ]
  },
  {
   "cell_type": "markdown",
   "metadata": {},
   "source": [
    "VQE with entangled grouping and the connectivity of ibmq_paris"
   ]
  },
  {
   "cell_type": "code",
   "execution_count": 13,
   "metadata": {
    "execution": {
     "iopub.execute_input": "2021-06-04T19:42:19.011091Z",
     "iopub.status.busy": "2021-06-04T19:42:19.011091Z",
     "iopub.status.idle": "2021-06-04T19:42:32.430337Z",
     "shell.execute_reply": "2021-06-04T19:42:32.429363Z",
     "shell.execute_reply.started": "2021-06-04T19:42:19.011091Z"
    }
   },
   "outputs": [
    {
     "name": "stdout",
     "output_type": "stream",
     "text": [
      "-4.537109375\n"
     ]
    }
   ],
   "source": [
    "solver = VQE( ansatz, optimizer, pars, grouping = 'Entangled', conectivity = WC_paris )\n",
    "results = solver.compute_minimum_eigenvalue(qubit_op)\n",
    "print( results.eigenvalue )"
   ]
  },
  {
   "cell_type": "markdown",
   "metadata": {},
   "source": [
    "Testing callback function"
   ]
  },
  {
   "cell_type": "code",
   "execution_count": 14,
   "metadata": {
    "execution": {
     "iopub.execute_input": "2021-06-04T19:42:32.432306Z",
     "iopub.status.busy": "2021-06-04T19:42:32.431311Z",
     "iopub.status.idle": "2021-06-04T19:42:47.228724Z",
     "shell.execute_reply": "2021-06-04T19:42:47.227741Z",
     "shell.execute_reply.started": "2021-06-04T19:42:32.431311Z"
    }
   },
   "outputs": [
    {
     "name": "stdout",
     "output_type": "stream",
     "text": [
      "-4.548828125\n"
     ]
    }
   ],
   "source": [
    "parameters  = []\n",
    "evaluations = []\n",
    "solver = VQE( ansatz, optimizer, pars, grouping = 'Entangled', callback=callback )\n",
    "results = solver.compute_minimum_eigenvalue(qubit_op)\n",
    "print( results.eigenvalue )"
   ]
  },
  {
   "cell_type": "markdown",
   "metadata": {},
   "source": [
    "Testing simulation with noise model"
   ]
  },
  {
   "cell_type": "code",
   "execution_count": 15,
   "metadata": {
    "execution": {
     "iopub.execute_input": "2021-06-04T19:42:47.229721Z",
     "iopub.status.busy": "2021-06-04T19:42:47.229721Z",
     "iopub.status.idle": "2021-06-04T19:47:44.816147Z",
     "shell.execute_reply": "2021-06-04T19:47:44.815148Z",
     "shell.execute_reply.started": "2021-06-04T19:42:47.229721Z"
    }
   },
   "outputs": [
    {
     "name": "stdout",
     "output_type": "stream",
     "text": [
      "-4.013671875\n"
     ]
    }
   ],
   "source": [
    "parameters  = []\n",
    "evaluations = []\n",
    "optimizer   = SPSA( maxiter=100, last_avg=1 )\n",
    "solver = VQE( ansatz, optimizer, pars, grouping = 'Entangled', callback=callback, quantum_instance=backend_noise )\n",
    "results = solver.compute_minimum_eigenvalue(qubit_op)\n",
    "print( results.eigenvalue )"
   ]
  },
  {
   "cell_type": "code",
   "execution_count": 16,
   "metadata": {
    "execution": {
     "iopub.execute_input": "2021-06-04T19:47:44.817141Z",
     "iopub.status.busy": "2021-06-04T19:47:44.817141Z",
     "iopub.status.idle": "2021-06-04T19:47:44.936821Z",
     "shell.execute_reply": "2021-06-04T19:47:44.936821Z",
     "shell.execute_reply.started": "2021-06-04T19:47:44.817141Z"
    }
   },
   "outputs": [
    {
     "data": {
      "text/plain": [
       "[<matplotlib.lines.Line2D at 0x240b1242708>]"
      ]
     },
     "execution_count": 16,
     "metadata": {},
     "output_type": "execute_result"
    },
    {
     "data": {
      "image/png": "[encoded data removed]",
      "text/plain": [
       "<Figure size 432x288 with 1 Axes>"
      ]
     },
     "metadata": {
      "needs_background": "light"
     },
     "output_type": "display_data"
    }
   ],
   "source": [
    "plt.plot( evaluations )"
   ]
  },
  {
   "cell_type": "markdown",
   "metadata": {},
   "source": [
    "Testing quantum instance"
   ]
  },
  {
   "cell_type": "code",
   "execution_count": 17,
   "metadata": {
    "execution": {
     "iopub.execute_input": "2021-06-04T19:47:44.938815Z",
     "iopub.status.busy": "2021-06-04T19:47:44.937818Z",
     "iopub.status.idle": "2021-06-04T19:48:18.154630Z",
     "shell.execute_reply": "2021-06-04T19:48:18.154630Z",
     "shell.execute_reply.started": "2021-06-04T19:47:44.938815Z"
    }
   },
   "outputs": [
    {
     "name": "stdout",
     "output_type": "stream",
     "text": [
      "-4.5146484375\n"
     ]
    }
   ],
   "source": [
    "qi = QuantumInstance( backend_sim, shots = NUM_SHOTS )\n",
    "parameters  = []\n",
    "evaluations = []\n",
    "optimizer   = SPSA( maxiter=100, last_avg=1 )\n",
    "solver = VQE( ansatz, optimizer, pars, grouping = 'Entangled', quantum_instance=qi )\n",
    "results = solver.compute_minimum_eigenvalue(qubit_op)\n",
    "print( results.eigenvalue )"
   ]
  },
  {
   "cell_type": "code",
   "execution_count": 18,
   "metadata": {
    "execution": {
     "iopub.execute_input": "2021-06-04T19:48:18.156649Z",
     "iopub.status.busy": "2021-06-04T19:48:18.156649Z",
     "iopub.status.idle": "2021-06-04T19:48:18.164615Z",
     "shell.execute_reply": "2021-06-04T19:48:18.163632Z",
     "shell.execute_reply.started": "2021-06-04T19:48:18.156649Z"
    }
   },
   "outputs": [
    {
     "name": "stdout",
     "output_type": "stream",
     "text": [
      "OrderedDict([   ('aux_operator_eigenvalues', None),\n",
      "                ('cost_function_evals', 200),\n",
      "                (   'eigenstate',\n",
      "                    {   '00': 0.5585800916162337,\n",
      "                        '01': 0.5044963840925919,\n",
      "                        '10': 0.40864677595693816,\n",
      "                        '11': 0.516216516771306}),\n",
      "                ('eigenvalue', -4.5146484375),\n",
      "                (   'optimal_parameters',\n",
      "                    {   ParameterVectorElement(θ[0]): -1.4683367809015189,\n",
      "                        ParameterVectorElement(θ[1]): 0.10277607565403969,\n",
      "                        ParameterVectorElement(θ[2]): 0.07029435046652974,\n",
      "                        ParameterVectorElement(θ[4]): -1.0864667701518012,\n",
      "                        ParameterVectorElement(θ[5]): -0.3110230722571499,\n",
      "                        ParameterVectorElement(θ[3]): -0.4715964648484042,\n",
      "                        ParameterVectorElement(θ[6]): -0.09378644554290715,\n",
      "                        ParameterVectorElement(θ[7]): 0.6628126193562089}),\n",
      "                (   'optimal_point',\n",
      "                    array([-1.46833678,  0.10277608,  0.07029435, -0.47159646, -1.08646677,\n",
      "       -0.31102307, -0.09378645,  0.66281262])),\n",
      "                ('optimal_value', -4.5146484375),\n",
      "                ('optimizer_evals', 200),\n",
      "                ('optimizer_time', 33.151984453201294)])\n"
     ]
    }
   ],
   "source": [
    "print(results)"
   ]
  },
  {
   "cell_type": "markdown",
   "metadata": {},
   "source": [
    "Testing another function of the VQE class"
   ]
  },
  {
   "cell_type": "code",
   "execution_count": 19,
   "metadata": {
    "execution": {
     "iopub.execute_input": "2021-06-04T19:48:18.166597Z",
     "iopub.status.busy": "2021-06-04T19:48:18.165599Z",
     "iopub.status.idle": "2021-06-04T19:48:18.176570Z",
     "shell.execute_reply": "2021-06-04T19:48:18.175586Z",
     "shell.execute_reply.started": "2021-06-04T19:48:18.166597Z"
    }
   },
   "outputs": [
    {
     "data": {
      "text/plain": [
       "<qiskit.circuit.quantumcircuit.QuantumCircuit at 0x240b0769f88>"
      ]
     },
     "execution_count": 19,
     "metadata": {},
     "output_type": "execute_result"
    }
   ],
   "source": [
    "solver.ansatz"
   ]
  },
  {
   "cell_type": "code",
   "execution_count": 20,
   "metadata": {
    "execution": {
     "iopub.execute_input": "2021-06-04T19:48:18.180560Z",
     "iopub.status.busy": "2021-06-04T19:48:18.179563Z",
     "iopub.status.idle": "2021-06-04T19:48:18.186546Z",
     "shell.execute_reply": "2021-06-04T19:48:18.185547Z",
     "shell.execute_reply.started": "2021-06-04T19:48:18.180560Z"
    }
   },
   "outputs": [
    {
     "data": {
      "text/plain": [
       "<bound method VariationalAlgorithm.cleanup_parameterized_circuits of <VQE.VQE object at 0x00000240B0E06648>>"
      ]
     },
     "execution_count": 20,
     "metadata": {},
     "output_type": "execute_result"
    }
   ],
   "source": [
    "solver.cleanup_parameterized_circuits"
   ]
  },
  {
   "cell_type": "code",
   "execution_count": 21,
   "metadata": {
    "execution": {
     "iopub.execute_input": "2021-06-04T19:48:18.188552Z",
     "iopub.status.busy": "2021-06-04T19:48:18.187541Z",
     "iopub.status.idle": "2021-06-04T19:48:18.208512Z",
     "shell.execute_reply": "2021-06-04T19:48:18.207488Z",
     "shell.execute_reply.started": "2021-06-04T19:48:18.188552Z"
    }
   },
   "outputs": [
    {
     "data": {
      "text/html": [
       "<pre style=\"word-wrap: normal;white-space: pre;background: #fff0;line-height: 1.1;font-family: &quot;Courier New&quot;,Courier,monospace\">          ┌──────────┐┌──────────┐     ┌──────────┐┌──────────┐     ┌─┐   \n",
       "q39390_0: ┤ RY(θ[0]) ├┤ RZ(θ[2]) ├──■──┤ RY(θ[4]) ├┤ RZ(θ[6]) ├─────┤M├───\n",
       "          ├──────────┤├──────────┤┌─┴─┐├──────────┤├──────────┤┌───┐└╥┘┌─┐\n",
       "q39390_1: ┤ RY(θ[1]) ├┤ RZ(θ[3]) ├┤ X ├┤ RY(θ[5]) ├┤ RZ(θ[7]) ├┤ H ├─╫─┤M├\n",
       "          └──────────┘└──────────┘└───┘└──────────┘└──────────┘└───┘ ║ └╥┘\n",
       "   c48: 1/═══════════════════════════════════════════════════════════╬══╩═\n",
       "                                                                     ║  0 \n",
       "                                                                     ║    \n",
       "   c49: 1/═══════════════════════════════════════════════════════════╩════\n",
       "                                                                     0    </pre>"
      ],
      "text/plain": [
       "          ┌──────────┐┌──────────┐     ┌──────────┐┌──────────┐     ┌─┐   \n",
       "q39390_0: ┤ RY(θ[0]) ├┤ RZ(θ[2]) ├──■──┤ RY(θ[4]) ├┤ RZ(θ[6]) ├─────┤M├───\n",
       "          ├──────────┤├──────────┤┌─┴─┐├──────────┤├──────────┤┌───┐└╥┘┌─┐\n",
       "q39390_1: ┤ RY(θ[1]) ├┤ RZ(θ[3]) ├┤ X ├┤ RY(θ[5]) ├┤ RZ(θ[7]) ├┤ H ├─╫─┤M├\n",
       "          └──────────┘└──────────┘└───┘└──────────┘└──────────┘└───┘ ║ └╥┘\n",
       "   c48: 1/═══════════════════════════════════════════════════════════╬══╩═\n",
       "                                                                     ║  0 \n",
       "                                                                     ║    \n",
       "   c49: 1/═══════════════════════════════════════════════════════════╩════\n",
       "                                                                     0    "
      ]
     },
     "execution_count": 21,
     "metadata": {},
     "output_type": "execute_result"
    }
   ],
   "source": [
    "solver.construct_expectation( pars, qubit_op )[0].draw()"
   ]
  },
  {
   "cell_type": "code",
   "execution_count": 22,
   "metadata": {
    "execution": {
     "iopub.execute_input": "2021-06-04T19:48:18.210480Z",
     "iopub.status.busy": "2021-06-04T19:48:18.209504Z",
     "iopub.status.idle": "2021-06-04T19:48:18.500717Z",
     "shell.execute_reply": "2021-06-04T19:48:18.499706Z",
     "shell.execute_reply.started": "2021-06-04T19:48:18.210480Z"
    }
   },
   "outputs": [
    {
     "data": {
      "image/png": "[encoded data removed]",
      "text/plain": [
       "<Figure size 869.052x144.48 with 1 Axes>"
      ]
     },
     "execution_count": 22,
     "metadata": {},
     "output_type": "execute_result"
    }
   ],
   "source": [
    "solver.get_optimal_circuit().draw(output='mpl')"
   ]
  },
  {
   "cell_type": "code",
   "execution_count": 23,
   "metadata": {
    "execution": {
     "iopub.execute_input": "2021-06-04T19:48:18.501700Z",
     "iopub.status.busy": "2021-06-04T19:48:18.501700Z",
     "iopub.status.idle": "2021-06-04T19:48:18.508682Z",
     "shell.execute_reply": "2021-06-04T19:48:18.507685Z",
     "shell.execute_reply.started": "2021-06-04T19:48:18.501700Z"
    }
   },
   "outputs": [
    {
     "data": {
      "text/plain": [
       "-4.5146484375"
      ]
     },
     "execution_count": 23,
     "metadata": {},
     "output_type": "execute_result"
    }
   ],
   "source": [
    "solver.get_optimal_cost()"
   ]
  },
  {
   "cell_type": "code",
   "execution_count": 24,
   "metadata": {
    "execution": {
     "iopub.execute_input": "2021-06-04T19:48:18.510677Z",
     "iopub.status.busy": "2021-06-04T19:48:18.510677Z",
     "iopub.status.idle": "2021-06-04T19:48:18.561541Z",
     "shell.execute_reply": "2021-06-04T19:48:18.560543Z",
     "shell.execute_reply.started": "2021-06-04T19:48:18.510677Z"
    }
   },
   "outputs": [
    {
     "data": {
      "text/plain": [
       "{'00': 0.5653141410976732,\n",
       " '11': 0.5210416250166583,\n",
       " '01': 0.4923734767683978,\n",
       " '10': 0.4080489017875186}"
      ]
     },
     "execution_count": 24,
     "metadata": {},
     "output_type": "execute_result"
    }
   ],
   "source": [
    "solver.get_optimal_vector()"
   ]
  },
  {
   "cell_type": "code",
   "execution_count": 25,
   "metadata": {
    "execution": {
     "iopub.execute_input": "2021-06-04T19:48:18.562566Z",
     "iopub.status.busy": "2021-06-04T19:48:18.562566Z",
     "iopub.status.idle": "2021-06-04T19:48:18.567525Z",
     "shell.execute_reply": "2021-06-04T19:48:18.566527Z",
     "shell.execute_reply.started": "2021-06-04T19:48:18.562566Z"
    }
   },
   "outputs": [],
   "source": [
    "# solver.get_prob_vector_for_params()"
   ]
  },
  {
   "cell_type": "code",
   "execution_count": 26,
   "metadata": {
    "execution": {
     "iopub.execute_input": "2021-06-04T19:48:18.568522Z",
     "iopub.status.busy": "2021-06-04T19:48:18.568522Z",
     "iopub.status.idle": "2021-06-04T19:48:18.573509Z",
     "shell.execute_reply": "2021-06-04T19:48:18.572511Z",
     "shell.execute_reply.started": "2021-06-04T19:48:18.568522Z"
    }
   },
   "outputs": [],
   "source": [
    "# solver.get_probabilities_for_counts()"
   ]
  },
  {
   "cell_type": "code",
   "execution_count": 27,
   "metadata": {
    "execution": {
     "iopub.execute_input": "2021-06-04T19:48:18.577499Z",
     "iopub.status.busy": "2021-06-04T19:48:18.576500Z",
     "iopub.status.idle": "2021-06-04T19:48:18.582484Z",
     "shell.execute_reply": "2021-06-04T19:48:18.581513Z",
     "shell.execute_reply.started": "2021-06-04T19:48:18.577499Z"
    }
   },
   "outputs": [
    {
     "data": {
      "text/plain": [
       "[0.01, 0.01, 0.01, 0.01, 0.01, 0.01, 0.01, 0.01]"
      ]
     },
     "execution_count": 27,
     "metadata": {},
     "output_type": "execute_result"
    }
   ],
   "source": [
    "solver.initial_point"
   ]
  },
  {
   "cell_type": "code",
   "execution_count": 28,
   "metadata": {
    "execution": {
     "iopub.execute_input": "2021-06-04T19:48:18.585477Z",
     "iopub.status.busy": "2021-06-04T19:48:18.584480Z",
     "iopub.status.idle": "2021-06-04T19:48:18.592457Z",
     "shell.execute_reply": "2021-06-04T19:48:18.591461Z",
     "shell.execute_reply.started": "2021-06-04T19:48:18.584480Z"
    }
   },
   "outputs": [
    {
     "data": {
      "text/plain": [
       "array([-1.46833678,  0.10277608,  0.07029435, -0.47159646, -1.08646677,\n",
       "       -0.31102307, -0.09378645,  0.66281262])"
      ]
     },
     "execution_count": 28,
     "metadata": {},
     "output_type": "execute_result"
    }
   ],
   "source": [
    "solver.optimal_params"
   ]
  },
  {
   "cell_type": "code",
   "execution_count": 29,
   "metadata": {
    "execution": {
     "iopub.execute_input": "2021-06-04T19:48:18.594452Z",
     "iopub.status.busy": "2021-06-04T19:48:18.593455Z",
     "iopub.status.idle": "2021-06-04T19:48:18.600436Z",
     "shell.execute_reply": "2021-06-04T19:48:18.599439Z",
     "shell.execute_reply.started": "2021-06-04T19:48:18.594452Z"
    }
   },
   "outputs": [
    {
     "data": {
      "text/plain": [
       "<qiskit.algorithms.optimizers.spsa.SPSA at 0x240b0d6cdc8>"
      ]
     },
     "execution_count": 29,
     "metadata": {},
     "output_type": "execute_result"
    }
   ],
   "source": [
    "solver.optimizer"
   ]
  },
  {
   "cell_type": "code",
   "execution_count": 30,
   "metadata": {
    "execution": {
     "iopub.execute_input": "2021-06-04T19:48:18.601435Z",
     "iopub.status.busy": "2021-06-04T19:48:18.601435Z",
     "iopub.status.idle": "2021-06-04T19:48:18.606421Z",
     "shell.execute_reply": "2021-06-04T19:48:18.606421Z",
     "shell.execute_reply.started": "2021-06-04T19:48:18.601435Z"
    }
   },
   "outputs": [
    {
     "data": {
      "text/plain": [
       "<qiskit.utils.quantum_instance.QuantumInstance at 0x240b0d6c6c8>"
      ]
     },
     "execution_count": 30,
     "metadata": {},
     "output_type": "execute_result"
    }
   ],
   "source": [
    "solver.quantum_instance"
   ]
  },
  {
   "cell_type": "code",
   "execution_count": 31,
   "metadata": {
    "execution": {
     "iopub.execute_input": "2021-06-04T19:48:18.608416Z",
     "iopub.status.busy": "2021-06-04T19:48:18.608416Z",
     "iopub.status.idle": "2021-06-04T19:48:18.613401Z",
     "shell.execute_reply": "2021-06-04T19:48:18.613401Z",
     "shell.execute_reply.started": "2021-06-04T19:48:18.608416Z"
    }
   },
   "outputs": [
    {
     "data": {
      "text/plain": [
       "False"
      ]
     },
     "execution_count": 31,
     "metadata": {},
     "output_type": "execute_result"
    }
   ],
   "source": [
    "solver.supports_aux_operators()"
   ]
  },
  {
   "cell_type": "code",
   "execution_count": 32,
   "metadata": {
    "execution": {
     "iopub.execute_input": "2021-06-04T19:48:18.615397Z",
     "iopub.status.busy": "2021-06-04T19:48:18.614400Z",
     "iopub.status.idle": "2021-06-04T19:48:18.624372Z",
     "shell.execute_reply": "2021-06-04T19:48:18.623375Z",
     "shell.execute_reply.started": "2021-06-04T19:48:18.615397Z"
    }
   },
   "outputs": [
    {
     "name": "stdout",
     "output_type": "stream",
     "text": [
      "\n",
      "==================== Setting of VQE ============================\n",
      "Algorithm: VQE\n",
      "-- ansatz_params: [ParameterVectorElement(θ[0]), ParameterVectorElement(θ[1]), ParameterVectorElement(θ[2]), ParameterVectorElement(θ[3]), ParameterVectorElement(θ[4]), ParameterVectorElement(θ[5]), ParameterVectorElement(θ[6]), ParameterVectorElement(θ[7])]\n",
      "-- ansatz:      ┌──────────┐┌──────────┐     ┌──────────┐┌──────────┐\n",
      "q_0: ┤ RY(θ[0]) ├┤ RZ(θ[2]) ├──■──┤ RY(θ[4]) ├┤ RZ(θ[6]) ├\n",
      "     ├──────────┤├──────────┤┌─┴─┐├──────────┤├──────────┤\n",
      "q_1: ┤ RY(θ[1]) ├┤ RZ(θ[3]) ├┤ X ├┤ RY(θ[5]) ├┤ RZ(θ[7]) ├\n",
      "     └──────────┘└──────────┘└───┘└──────────┘└──────────┘\n",
      "-- quantum_instance: \n",
      "Qiskit Terra version: 0.17.0\n",
      "Backend: 'aer_simulator_statevector (None)', with following setting:\n",
      "{'basis_gates': ['ccx', 'cp', 'cswap', 'csx', 'cu1', 'cu2', 'cu3', 'cx', 'cy', 'cz', 'delay', 'diagonal', 'h', 'id', 'initialize', 'mcphase', 'mcr', 'mcrx', 'mcry', 'mcrz', 'mcswap', 'mcsx', 'mcu1', 'mcu2', 'mcu3', 'mcx', 'mcx_gray', 'mcy', 'mcz', 'multiplexer', 'p', 'pauli', 'r', 'rx', 'rxx', 'ry', 'ryy', 'rz', 'rzx', 'rzz', 's', 'sdg', 'swap', 'sx', 't', 'tdg', 'u', 'u1', 'u2', 'u3', 'unitary', 'x', 'y', 'z', 'kraus', 'roerror', 'save_amplitudes', 'save_amplitudes_sq', 'save_density_matrix', 'save_expval', 'save_expval_var', 'save_probabilities', 'save_probabilities_dict', 'save_state', 'save_statevector', 'save_statevector_dict', 'set_statevector', 'snapshot'], 'coupling_map': None}\n",
      "{'initial_layout': None, 'seed_transpiler': None, 'optimization_level': None}\n",
      "RunConfig(max_credits=10, shots=8192)\n",
      "{'timeout': None}\n",
      "{}\n",
      "{}\n",
      "Measurement mitigation: None\n",
      "-- optimizer: <qiskit.algorithms.optimizers.spsa.SPSA object at 0x00000240B0D6CDC8>\n",
      "-- gradient: None\n",
      "-- cost_fn: <bound method VQE._energy_evaluation of <VQE.VQE object at 0x00000240B0E06648>>\n",
      "-- initial_point: [0.01, 0.01, 0.01, 0.01, 0.01, 0.01, 0.01, 0.01]\n",
      "-- parameterized_circuits: None\n",
      "-- order: [4, 3, 2, 1]\n",
      "-- conectiviy: [(0, 1), (1, 0)]\n",
      "-- grouping: Entangled\n",
      "-- eval_count: 200\n",
      "-- callback: None\n",
      "-- total_time: 33.128331422805786\n",
      "-- expect_op: [<qiskit.circuit.quantumcircuit.QuantumCircuit object at 0x00000240B10EC888>, <qiskit.circuit.quantumcircuit.QuantumCircuit object at 0x00000240B109BF88>, <qiskit.circuit.quantumcircuit.QuantumCircuit object at 0x00000240B0D842C8>, <qiskit.circuit.quantumcircuit.QuantumCircuit object at 0x00000240B10F0CC8>]\n",
      "-- coeff: [1, 1, 1, 1, 1, 1]\n",
      "-- label: ['XZ', 'XY', 'ZX', 'ZX', 'XX', 'ZX']\n",
      "-- Groups: [[0], [1], [4], [2, 3, 5]]\n",
      "-- Measurements: [[[1, [0]], [3, [1]]], [[1, [0]], [2, [1]]], [[1, [0]], [1, [1]]], [[3, [0]], [1, [1]]]]\n",
      "-- prob2Exp: [array([[ 1., -1., -1.,  1.]]), array([[ 1., -1., -1.,  1.]]), array([[ 1., -1., -1.,  1.]]), array([[ 1., -1., -1.,  1.],\n",
      "       [ 1., -1., -1.,  1.],\n",
      "       [ 1., -1., -1.,  1.]])]\n",
      "-- ret: OrderedDict([   ('aux_operator_eigenvalues', None),\n",
      "                ('cost_function_evals', 200),\n",
      "                (   'eigenstate',\n",
      "                    {   '00': 0.5585800916162337,\n",
      "                        '01': 0.5044963840925919,\n",
      "                        '10': 0.40864677595693816,\n",
      "                        '11': 0.516216516771306}),\n",
      "                ('eigenvalue', -4.5146484375),\n",
      "                (   'optimal_parameters',\n",
      "                    {   ParameterVectorElement(θ[0]): -1.4683367809015189,\n",
      "                        ParameterVectorElement(θ[1]): 0.10277607565403969,\n",
      "                        ParameterVectorElement(θ[2]): 0.07029435046652974,\n",
      "                        ParameterVectorElement(θ[4]): -1.0864667701518012,\n",
      "                        ParameterVectorElement(θ[5]): -0.3110230722571499,\n",
      "                        ParameterVectorElement(θ[3]): -0.4715964648484042,\n",
      "                        ParameterVectorElement(θ[6]): -0.09378644554290715,\n",
      "                        ParameterVectorElement(θ[7]): 0.6628126193562089}),\n",
      "                (   'optimal_point',\n",
      "                    array([-1.46833678,  0.10277608,  0.07029435, -0.47159646, -1.08646677,\n",
      "       -0.31102307, -0.09378645,  0.66281262])),\n",
      "                ('optimal_value', -4.5146484375),\n",
      "                ('optimizer_evals', 200),\n",
      "                ('optimizer_time', 33.151984453201294)])\n",
      "-- eval_time: 33.151984453201294\n",
      "===============================================================\n",
      "ansatz is a custom circuit===============================================================\n",
      "Optimizer: SPSA\n",
      "-- gradient_support_level: 1\n",
      "-- bounds_support_level: 1\n",
      "-- initial_point_support_level: 3\n",
      "-- options: {}\n",
      "-- max_evals_grouped: 1\n",
      "-- nfev: 200\n",
      "===============================================================\n",
      "\n"
     ]
    }
   ],
   "source": [
    "print( solver.print_settings() )"
   ]
  },
  {
   "cell_type": "code",
   "execution_count": 33,
   "metadata": {
    "execution": {
     "iopub.execute_input": "2021-06-04T19:48:18.625369Z",
     "iopub.status.busy": "2021-06-04T19:48:18.625369Z",
     "iopub.status.idle": "2021-06-04T19:48:18.741060Z",
     "shell.execute_reply": "2021-06-04T19:48:18.740062Z",
     "shell.execute_reply.started": "2021-06-04T19:48:18.625369Z"
    }
   },
   "outputs": [
    {
     "data": {
      "text/html": [
       "<h3>Version Information</h3><table><tr><th>Qiskit Software</th><th>Version</th></tr><tr><td>Qiskit</td><td>0.25.0</td></tr><tr><td>Terra</td><td>0.17.0</td></tr><tr><td>Aer</td><td>0.8.0</td></tr><tr><td>Ignis</td><td>0.6.0</td></tr><tr><td>Aqua</td><td>0.9.0</td></tr><tr><td>IBM Q Provider</td><td>0.12.2</td></tr><tr><th>System information</th></tr><tr><td>Python</td><td>3.7.7 (default, May  6 2020, 11:45:54) [MSC v.1916 64 bit (AMD64)]</td></tr><tr><td>OS</td><td>Windows</td></tr><tr><td>CPUs</td><td>4</td></tr><tr><td>Memory (Gb)</td><td>11.887619018554688</td></tr><tr><td colspan='2'>Fri Jun 04 21:48:18 2021 Hora de verano romance</td></tr></table>"
      ],
      "text/plain": [
       "<IPython.core.display.HTML object>"
      ]
     },
     "metadata": {},
     "output_type": "display_data"
    }
   ],
   "source": [
    "import qiskit.tools.jupyter\n",
    "%qiskit_version_table"
   ]
  }
 ],
 "metadata": {
  "kernelspec": {
   "display_name": "Python 3",
   "language": "python",
   "name": "python3"
  },
  "language_info": {
   "codemirror_mode": {
    "name": "ipython",
    "version": 3
   },
   "file_extension": ".py",
   "mimetype": "text/x-python",
   "name": "python",
   "nbconvert_exporter": "python",
   "pygments_lexer": "ipython3",
   "version": "3.7.7"
  }
 },
 "nbformat": 4,
 "nbformat_minor": 4
}
