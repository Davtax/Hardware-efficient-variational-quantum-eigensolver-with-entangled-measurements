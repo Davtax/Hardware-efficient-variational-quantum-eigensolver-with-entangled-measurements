{
 "cells": [
  {
   "cell_type": "code",
   "execution_count": 1,
   "metadata": {},
   "outputs": [],
   "source": [
    "import sys\n",
    "sys.path.append('../')\n",
    "import numpy as np\n",
    "import matplotlib.pyplot as plt\n",
    "from VQE import VQE\n",
    "from GroupingAlgorithm import *\n",
    "from utils import get_backend_conectivity, RandomHamiltonian\n",
    "# Importing standard Qiskit libraries\n",
    "from qiskit import IBMQ, QuantumCircuit\n",
    "from qiskit.providers.aer import AerSimulator\n",
    "from qiskit.circuit.library import EfficientSU2\n",
    "from qiskit.utils.quantum_instance import QuantumInstance\n",
    "from qiskit.algorithms import NumPyMinimumEigensolver\n",
    "from qiskit.ignis.mitigation.measurement import CompleteMeasFitter\n",
    "from qiskit.algorithms.optimizers import SPSA\n",
    "from IPython.display import display, clear_output"
   ]
  },
  {
   "cell_type": "markdown",
   "metadata": {},
   "source": [
    "In this notebook we test the VQE class. First we load our IBM account and define the backends. "
   ]
  },
  {
   "cell_type": "code",
   "execution_count": 2,
   "metadata": {},
   "outputs": [],
   "source": [
    "IBMQ.load_account()\n",
    "provider      = IBMQ.get_provider(hub='ibm-q-csic', group='internal', project='iff-csic') \n",
    "backend_paris = provider.get_backend('ibmq_montreal')\n",
    "WC_paris      = get_backend_conectivity(backend_paris)\n",
    "backend_sim   = AerSimulator(method=\"statevector\") # Backend for simulation\n",
    "backend_noise = AerSimulator.from_backend(backend_paris) # Backend with noise model\n",
    "NUM_SHOTS = 2**13  # Number of shots for each circuit"
   ]
  },
  {
   "cell_type": "markdown",
   "metadata": {
    "execution": {
     "iopub.execute_input": "2021-06-03T17:13:33.105425Z",
     "iopub.status.busy": "2021-06-03T17:13:33.105425Z",
     "iopub.status.idle": "2021-06-03T17:13:33.111409Z",
     "shell.execute_reply": "2021-06-03T17:13:33.110412Z",
     "shell.execute_reply.started": "2021-06-03T17:13:33.105425Z"
    }
   },
   "source": [
    "We create a Hamiltonian to perform the test."
   ]
  },
  {
   "cell_type": "code",
   "execution_count": 3,
   "metadata": {},
   "outputs": [],
   "source": [
    "# qubit_op, init_state = LiH(initial_state=True)\n",
    "# num_qubits = qubit_op.num_qubits"
   ]
  },
  {
   "cell_type": "code",
   "execution_count": 4,
   "metadata": {},
   "outputs": [
    {
     "name": "stdout",
     "output_type": "stream",
     "text": [
      "SummedOp([\n",
      "  II,\n",
      "  YY,\n",
      "  IZ,\n",
      "  XZ,\n",
      "  YY,\n",
      "  ZZ\n",
      "])\n"
     ]
    }
   ],
   "source": [
    "num_qubits = 2\n",
    "qubit_op = RandomHamiltonian( num_qubits, 6 )\n",
    "init_state = QuantumCircuit(num_qubits)\n",
    "print( qubit_op )"
   ]
  },
  {
   "cell_type": "markdown",
   "metadata": {},
   "source": [
    "We calculate the minimum energy of the Hamiltonian by a classical method."
   ]
  },
  {
   "cell_type": "code",
   "execution_count": 5,
   "metadata": {},
   "outputs": [
    {
     "data": {
      "text/plain": [
       "(-2.6502815398728843+3.142559095116735e-17j)"
      ]
     },
     "execution_count": 5,
     "metadata": {},
     "output_type": "execute_result"
    }
   ],
   "source": [
    "result_exact = NumPyMinimumEigensolver().compute_minimum_eigenvalue(qubit_op)\n",
    "result_exact.eigenvalue "
   ]
  },
  {
   "cell_type": "markdown",
   "metadata": {},
   "source": [
    "We will employ a Hardware efficient variation form."
   ]
  },
  {
   "cell_type": "code",
   "execution_count": 6,
   "metadata": {},
   "outputs": [
    {
     "data": {
      "image/png": "[encoded data removed]",
      "text/plain": [
       "<Figure size 327.252x144.48 with 1 Axes>"
      ]
     },
     "execution_count": 6,
     "metadata": {},
     "output_type": "execute_result"
    },
    {
     "data": {
      "image/png": "[encoded data removed]",
      "text/plain": [
       "<Figure size 327.252x144.48 with 1 Axes>"
      ]
     },
     "metadata": {},
     "output_type": "display_data"
    }
   ],
   "source": [
    "entangled_layer = []\n",
    "for qbs in WC_paris :\n",
    "    if qbs[0]<qbs[1] and qbs[1]<num_qubits :\n",
    "        entangled_layer.append(qbs)\n",
    "\n",
    "ansatz = init_state.compose( EfficientSU2(num_qubits,['ry','rz'], entanglement=entangled_layer, reps=1 ) )\n",
    "ansatz.draw(output='mpl')"
   ]
  },
  {
   "cell_type": "markdown",
   "metadata": {
    "execution": {
     "iopub.execute_input": "2021-06-03T17:15:32.552223Z",
     "iopub.status.busy": "2021-06-03T17:15:32.551225Z",
     "iopub.status.idle": "2021-06-03T17:15:32.557209Z",
     "shell.execute_reply": "2021-06-03T17:15:32.556420Z",
     "shell.execute_reply.started": "2021-06-03T17:15:32.552223Z"
    }
   },
   "source": [
    "We define a callback function, to have the behavior of the algorithm by iterations."
   ]
  },
  {
   "cell_type": "code",
   "execution_count": 7,
   "metadata": {},
   "outputs": [],
   "source": [
    "def callback( evals, params, energy, extra  ):  \n",
    "    display(\"{}, {}\".format(evals,energy))\n",
    "    clear_output(wait=True)\n",
    "    parameters.append(params)\n",
    "    evaluations.append(evals)\n",
    "\n",
    "parameters  = []\n",
    "evaluations = []\n",
    "energies    = [] "
   ]
  },
  {
   "cell_type": "markdown",
   "metadata": {},
   "source": [
    "We select SPSA with 100 iterations as classical optimizer."
   ]
  },
  {
   "cell_type": "code",
   "execution_count": 8,
   "metadata": {},
   "outputs": [],
   "source": [
    "optimizer = SPSA( maxiter=100, last_avg=1 )"
   ]
  },
  {
   "cell_type": "markdown",
   "metadata": {},
   "source": [
    "Initial parameters for the optimization"
   ]
  },
  {
   "cell_type": "code",
   "execution_count": 9,
   "metadata": {},
   "outputs": [],
   "source": [
    "num_var = ansatz.num_parameters\n",
    "pars = [0.01] * num_var"
   ]
  },
  {
   "cell_type": "code",
   "execution_count": 10,
   "metadata": {},
   "outputs": [
    {
     "data": {
      "text/plain": [
       "(-2.6502815398728843+3.142559095116735e-17j)"
      ]
     },
     "execution_count": 10,
     "metadata": {},
     "output_type": "execute_result"
    }
   ],
   "source": [
    "result_exact.eigenvalue "
   ]
  },
  {
   "cell_type": "markdown",
   "metadata": {},
   "source": [
    "VQE with entangled grouping"
   ]
  },
  {
   "cell_type": "code",
   "execution_count": 11,
   "metadata": {},
   "outputs": [
    {
     "name": "stderr",
     "output_type": "stream",
     "text": [
      "C:\\Users\\lucia\\miniconda3\\lib\\site-packages\\qiskit\\algorithms\\variational_algorithm.py:88: DeprecationWarning: \n",
      "The VariationalAlgorithm is reduced to an interface. Thus, the\n",
      "quantum_instance property is deprecated as of Qiskit Terra 0.18.0\n",
      "and will be removed no sooner than 3 months after the releasedate.\n",
      "  self.quantum_instance = quantum_instance\n"
     ]
    },
    {
     "name": "stdout",
     "output_type": "stream",
     "text": [
      "-2.65234375\n"
     ]
    }
   ],
   "source": [
    "solver = VQE( ansatz, optimizer, pars, grouping = 'Entangled' )\n",
    "results = solver.compute_minimum_eigenvalue(qubit_op)\n",
    "print( results.eigenvalue )"
   ]
  },
  {
   "cell_type": "markdown",
   "metadata": {},
   "source": [
    "VQE with TPB grouping"
   ]
  },
  {
   "cell_type": "code",
   "execution_count": 12,
   "metadata": {},
   "outputs": [
    {
     "name": "stdout",
     "output_type": "stream",
     "text": [
      "-2.66015625\n"
     ]
    }
   ],
   "source": [
    "solver = VQE( ansatz, optimizer, pars, grouping = 'TPB' )\n",
    "results = solver.compute_minimum_eigenvalue(qubit_op)\n",
    "print( results.eigenvalue )"
   ]
  },
  {
   "cell_type": "markdown",
   "metadata": {},
   "source": [
    "VQE with entangled grouping and the connectivity of ibmq_paris"
   ]
  },
  {
   "cell_type": "code",
   "execution_count": 13,
   "metadata": {},
   "outputs": [
    {
     "name": "stdout",
     "output_type": "stream",
     "text": [
      "-2.587890625\n"
     ]
    }
   ],
   "source": [
    "solver = VQE( ansatz, optimizer, pars, grouping = 'Entangled', conectivity = WC_paris )\n",
    "results = solver.compute_minimum_eigenvalue(qubit_op)\n",
    "print( results.eigenvalue )"
   ]
  },
  {
   "cell_type": "markdown",
   "metadata": {},
   "source": [
    "Testing callback function"
   ]
  },
  {
   "cell_type": "code",
   "execution_count": 14,
   "metadata": {},
   "outputs": [
    {
     "name": "stdout",
     "output_type": "stream",
     "text": [
      "-2.705078125\n"
     ]
    }
   ],
   "source": [
    "parameters  = []\n",
    "evaluations = []\n",
    "solver = VQE( ansatz, optimizer, pars, grouping = 'Entangled', callback=callback )\n",
    "results = solver.compute_minimum_eigenvalue(qubit_op)\n",
    "print( results.eigenvalue )"
   ]
  },
  {
   "cell_type": "markdown",
   "metadata": {},
   "source": [
    "Testing simulation with noise model"
   ]
  },
  {
   "cell_type": "code",
   "execution_count": 15,
   "metadata": {},
   "outputs": [
    {
     "name": "stdout",
     "output_type": "stream",
     "text": [
      "-2.18359375\n"
     ]
    }
   ],
   "source": [
    "parameters  = []\n",
    "evaluations = []\n",
    "optimizer   = SPSA( maxiter=100, last_avg=1 )\n",
    "solver = VQE( ansatz, optimizer, pars, grouping = 'Entangled', callback=callback, quantum_instance=backend_noise )\n",
    "results = solver.compute_minimum_eigenvalue(qubit_op)\n",
    "print( results.eigenvalue )"
   ]
  },
  {
   "cell_type": "code",
   "execution_count": 16,
   "metadata": {},
   "outputs": [
    {
     "data": {
      "text/plain": [
       "[<matplotlib.lines.Line2D at 0x1d1bb512ac0>]"
      ]
     },
     "execution_count": 16,
     "metadata": {},
     "output_type": "execute_result"
    },
    {
     "data": {
      "image/png": "[encoded data removed]",
      "text/plain": [
       "<Figure size 432x288 with 1 Axes>"
      ]
     },
     "metadata": {
      "needs_background": "light"
     },
     "output_type": "display_data"
    }
   ],
   "source": [
    "plt.plot( evaluations )"
   ]
  },
  {
   "cell_type": "markdown",
   "metadata": {},
   "source": [
    "Testing quantum instance"
   ]
  },
  {
   "cell_type": "code",
   "execution_count": 17,
   "metadata": {},
   "outputs": [
    {
     "name": "stdout",
     "output_type": "stream",
     "text": [
      "-2.64501953125\n"
     ]
    }
   ],
   "source": [
    "qi = QuantumInstance( backend_sim, shots = NUM_SHOTS )\n",
    "parameters  = []\n",
    "evaluations = []\n",
    "optimizer   = SPSA( maxiter=100, last_avg=1 )\n",
    "solver = VQE( ansatz, optimizer, pars, grouping = 'Entangled', quantum_instance=qi )\n",
    "results = solver.compute_minimum_eigenvalue(qubit_op)\n",
    "print( results.eigenvalue )"
   ]
  },
  {
   "cell_type": "code",
   "execution_count": 18,
   "metadata": {},
   "outputs": [
    {
     "name": "stdout",
     "output_type": "stream",
     "text": [
      "{   'aux_operator_eigenvalues': None,\n",
      "    'cost_function_evals': 200,\n",
      "    'eigenstate': array([ 0.13815179-0.147923j  ,  0.58268225-0.5048894j ,\n",
      "       -0.37558795+0.32595926j,  0.23988019-0.24442321j]),\n",
      "    'eigenvalue': -2.64501953125,\n",
      "    'optimal_parameters': {   ParameterVectorElement(θ[7]): 0.3417334131118239,\n",
      "                              ParameterVectorElement(θ[6]): -0.6145575836948008,\n",
      "                              ParameterVectorElement(θ[4]): 0.20985441002527352,\n",
      "                              ParameterVectorElement(θ[2]): 0.8056785477267682,\n",
      "                              ParameterVectorElement(θ[0]): 2.011226604343176,\n",
      "                              ParameterVectorElement(θ[3]): 1.4468125152178986,\n",
      "                              ParameterVectorElement(θ[5]): -2.2029927325361793,\n",
      "                              ParameterVectorElement(θ[1]): 0.41168351797260194},\n",
      "    'optimal_point': array([ 2.0112266 ,  0.41168352,  0.80567855,  1.44681252,  0.20985441,\n",
      "       -2.20299273, -0.61455758,  0.34173341]),\n",
      "    'optimal_value': -2.64501953125,\n",
      "    'optimizer_evals': 200,\n",
      "    'optimizer_time': 15.616371154785156}\n"
     ]
    }
   ],
   "source": [
    "print(results)"
   ]
  },
  {
   "cell_type": "markdown",
   "metadata": {},
   "source": [
    "Testing another function of the VQE class"
   ]
  },
  {
   "cell_type": "code",
   "execution_count": 19,
   "metadata": {},
   "outputs": [
    {
     "data": {
      "text/plain": [
       "<qiskit.circuit.quantumcircuit.QuantumCircuit at 0x1d1adef8fd0>"
      ]
     },
     "execution_count": 19,
     "metadata": {},
     "output_type": "execute_result"
    }
   ],
   "source": [
    "solver.ansatz"
   ]
  },
  {
   "cell_type": "code",
   "execution_count": 20,
   "metadata": {},
   "outputs": [
    {
     "data": {
      "text/plain": [
       "<bound method VariationalAlgorithm.cleanup_parameterized_circuits of <VQE.VQE object at 0x000001D1BB597460>>"
      ]
     },
     "execution_count": 20,
     "metadata": {},
     "output_type": "execute_result"
    }
   ],
   "source": [
    "solver.cleanup_parameterized_circuits"
   ]
  },
  {
   "cell_type": "code",
   "execution_count": 21,
   "metadata": {},
   "outputs": [
    {
     "data": {
      "text/html": [
       "<pre style=\"word-wrap: normal;white-space: pre;background: #fff0;line-height: 1.1;font-family: &quot;Courier New&quot;,Courier,monospace\">          ┌────────────────────────────────────────────────────────┐     ┌───┐»\n",
       "q56816_0: ┤0                                                       ├──■──┤ H ├»\n",
       "          │  EfficientSU2(θ[0],θ[1],θ[2],θ[3],θ[4],θ[5],θ[6],θ[7]) │┌─┴─┐└┬─┬┘»\n",
       "q56816_1: ┤1                                                       ├┤ X ├─┤M├─»\n",
       "          └────────────────────────────────────────────────────────┘└───┘ └╥┘ »\n",
       "   c13: 2/═════════════════════════════════════════════════════════════════╩══»\n",
       "                                                                           1  »\n",
       "«          ┌─┐\n",
       "«q56816_0: ┤M├\n",
       "«          └╥┘\n",
       "«q56816_1: ─╫─\n",
       "«           ║ \n",
       "«   c13: 2/═╩═\n",
       "«           0 </pre>"
      ],
      "text/plain": [
       "          ┌────────────────────────────────────────────────────────┐     ┌───┐»\n",
       "q56816_0: ┤0                                                       ├──■──┤ H ├»\n",
       "          │  EfficientSU2(θ[0],θ[1],θ[2],θ[3],θ[4],θ[5],θ[6],θ[7]) │┌─┴─┐└┬─┬┘»\n",
       "q56816_1: ┤1                                                       ├┤ X ├─┤M├─»\n",
       "          └────────────────────────────────────────────────────────┘└───┘ └╥┘ »\n",
       "   c13: 2/═════════════════════════════════════════════════════════════════╩══»\n",
       "                                                                           1  »\n",
       "«          ┌─┐\n",
       "«q56816_0: ┤M├\n",
       "«          └╥┘\n",
       "«q56816_1: ─╫─\n",
       "«           ║ \n",
       "«   c13: 2/═╩═\n",
       "«           0 "
      ]
     },
     "execution_count": 21,
     "metadata": {},
     "output_type": "execute_result"
    }
   ],
   "source": [
    "solver.construct_expectation( pars, qubit_op )[0].draw()"
   ]
  },
  {
   "cell_type": "code",
   "execution_count": 22,
   "metadata": {},
   "outputs": [
    {
     "data": {
      "image/png": "[encoded data removed]",
      "text/plain": [
       "<Figure size 1109.85x144.48 with 1 Axes>"
      ]
     },
     "execution_count": 22,
     "metadata": {},
     "output_type": "execute_result"
    },
    {
     "data": {
      "image/png": "[encoded data removed]",
      "text/plain": [
       "<Figure size 1109.85x144.48 with 1 Axes>"
      ]
     },
     "metadata": {},
     "output_type": "display_data"
    }
   ],
   "source": [
    "solver.get_optimal_circuit().draw(output='mpl')"
   ]
  },
  {
   "cell_type": "code",
   "execution_count": 23,
   "metadata": {},
   "outputs": [
    {
     "data": {
      "text/plain": [
       "-2.64501953125"
      ]
     },
     "execution_count": 23,
     "metadata": {},
     "output_type": "execute_result"
    }
   ],
   "source": [
    "solver.get_optimal_cost()"
   ]
  },
  {
   "cell_type": "code",
   "execution_count": 24,
   "metadata": {},
   "outputs": [
    {
     "data": {
      "text/plain": [
       "array([ 0.13815179-0.147923j  ,  0.58268225-0.5048894j ,\n",
       "       -0.37558795+0.32595926j,  0.23988019-0.24442321j])"
      ]
     },
     "execution_count": 24,
     "metadata": {},
     "output_type": "execute_result"
    }
   ],
   "source": [
    "solver.get_optimal_vector()"
   ]
  },
  {
   "cell_type": "code",
   "execution_count": 25,
   "metadata": {},
   "outputs": [],
   "source": [
    "# solver.get_prob_vector_for_params()"
   ]
  },
  {
   "cell_type": "code",
   "execution_count": 26,
   "metadata": {},
   "outputs": [],
   "source": [
    "# solver.get_probabilities_for_counts()"
   ]
  },
  {
   "cell_type": "code",
   "execution_count": 27,
   "metadata": {},
   "outputs": [
    {
     "data": {
      "text/plain": [
       "[0.01, 0.01, 0.01, 0.01, 0.01, 0.01, 0.01, 0.01]"
      ]
     },
     "execution_count": 27,
     "metadata": {},
     "output_type": "execute_result"
    }
   ],
   "source": [
    "solver.initial_point"
   ]
  },
  {
   "cell_type": "code",
   "execution_count": 28,
   "metadata": {},
   "outputs": [
    {
     "data": {
      "text/plain": [
       "array([ 2.0112266 ,  0.41168352,  0.80567855,  1.44681252,  0.20985441,\n",
       "       -2.20299273, -0.61455758,  0.34173341])"
      ]
     },
     "execution_count": 28,
     "metadata": {},
     "output_type": "execute_result"
    }
   ],
   "source": [
    "solver.optimal_params"
   ]
  },
  {
   "cell_type": "code",
   "execution_count": 29,
   "metadata": {},
   "outputs": [
    {
     "data": {
      "text/plain": [
       "<qiskit.algorithms.optimizers.spsa.SPSA at 0x1d1bb597340>"
      ]
     },
     "execution_count": 29,
     "metadata": {},
     "output_type": "execute_result"
    }
   ],
   "source": [
    "solver.optimizer"
   ]
  },
  {
   "cell_type": "code",
   "execution_count": 30,
   "metadata": {},
   "outputs": [
    {
     "data": {
      "text/plain": [
       "<qiskit.utils.quantum_instance.QuantumInstance at 0x1d1bb5973a0>"
      ]
     },
     "execution_count": 30,
     "metadata": {},
     "output_type": "execute_result"
    }
   ],
   "source": [
    "solver.quantum_instance"
   ]
  },
  {
   "cell_type": "code",
   "execution_count": 31,
   "metadata": {},
   "outputs": [
    {
     "data": {
      "text/plain": [
       "False"
      ]
     },
     "execution_count": 31,
     "metadata": {},
     "output_type": "execute_result"
    }
   ],
   "source": [
    "solver.supports_aux_operators()"
   ]
  },
  {
   "cell_type": "code",
   "execution_count": 32,
   "metadata": {},
   "outputs": [
    {
     "name": "stdout",
     "output_type": "stream",
     "text": [
      "\n",
      "==================== Setting of VQE ============================\n",
      "Algorithm: VQE\n",
      "-- ansatz_params: [ParameterVectorElement(θ[0]), ParameterVectorElement(θ[1]), ParameterVectorElement(θ[2]), ParameterVectorElement(θ[3]), ParameterVectorElement(θ[4]), ParameterVectorElement(θ[5]), ParameterVectorElement(θ[6]), ParameterVectorElement(θ[7])]\n",
      "-- ansatz:      ┌────────────────────────────────────────────────────────┐\n",
      "q_0: ┤0                                                       ├\n",
      "     │  EfficientSU2(θ[0],θ[1],θ[2],θ[3],θ[4],θ[5],θ[6],θ[7]) │\n",
      "q_1: ┤1                                                       ├\n",
      "     └────────────────────────────────────────────────────────┘\n",
      "-- quantum_instance: \n",
      "Qiskit Terra version: 0.18.1\n",
      "Backend: 'aer_simulator_statevector (None)', with following setting:\n",
      "{'basis_gates': ['ccx', 'cp', 'cswap', 'csx', 'cu1', 'cu2', 'cu3', 'cx', 'cy', 'cz', 'delay', 'diagonal', 'h', 'id', 'initialize', 'mcphase', 'mcr', 'mcrx', 'mcry', 'mcrz', 'mcswap', 'mcsx', 'mcu1', 'mcu2', 'mcu3', 'mcx', 'mcx_gray', 'mcy', 'mcz', 'multiplexer', 'p', 'pauli', 'r', 'rx', 'rxx', 'ry', 'ryy', 'rz', 'rzx', 'rzz', 's', 'sdg', 'swap', 'sx', 't', 'tdg', 'u', 'u1', 'u2', 'u3', 'unitary', 'x', 'y', 'z', 'kraus', 'roerror', 'save_amplitudes', 'save_amplitudes_sq', 'save_density_matrix', 'save_expval', 'save_expval_var', 'save_probabilities', 'save_probabilities_dict', 'save_state', 'save_statevector', 'save_statevector_dict', 'set_statevector', 'snapshot'], 'coupling_map': None}\n",
      "{'initial_layout': None, 'seed_transpiler': None, 'optimization_level': None}\n",
      "RunConfig(shots=8192, max_credits=10)\n",
      "{'timeout': None}\n",
      "{}\n",
      "{}\n",
      "Measurement mitigation: None\n",
      "-- optimizer: <qiskit.algorithms.optimizers.spsa.SPSA object at 0x000001D1BB597340>\n",
      "-- gradient: None\n",
      "-- cost_fn: <bound method VQE._energy_evaluation of <VQE.VQE object at 0x000001D1BB597460>>\n",
      "-- initial_point: [0.01, 0.01, 0.01, 0.01, 0.01, 0.01, 0.01, 0.01]\n",
      "-- parameterized_circuits: None\n",
      "-- order: [4, 3, 2, 1]\n",
      "-- conectiviy: [(0, 1), (1, 0)]\n",
      "-- grouping: Entangled\n",
      "-- eval_count: 200\n",
      "-- callback: None\n",
      "-- total_time: 15.588732957839966\n",
      "-- expect_op: [<qiskit.circuit.quantumcircuit.QuantumCircuit object at 0x000001D1BB58A5E0>, <qiskit.circuit.quantumcircuit.QuantumCircuit object at 0x000001D1BB587E50>]\n",
      "-- coeff: [1, 1, 1, 1, 1, 1]\n",
      "-- label: ['II', 'YY', 'IZ', 'XZ', 'YY', 'ZZ']\n",
      "-- Groups: [[1, 4, 5, 0], [3, 2]]\n",
      "-- Measurements: [[[4, [0, 1]]], [[1, [0]], [3, [1]]]]\n",
      "-- prob2Exp: [array([[-1,  1,  1, -1],\n",
      "       [-1,  1,  1, -1],\n",
      "       [ 1,  1, -1, -1],\n",
      "       [ 1,  1,  1,  1]]), array([[ 1., -1., -1.,  1.],\n",
      "       [ 1., -1.,  1., -1.]])]\n",
      "-- ret: {   'aux_operator_eigenvalues': None,\n",
      "    'cost_function_evals': 200,\n",
      "    'eigenstate': array([ 0.13815179-0.147923j  ,  0.58268225-0.5048894j ,\n",
      "       -0.37558795+0.32595926j,  0.23988019-0.24442321j]),\n",
      "    'eigenvalue': -2.64501953125,\n",
      "    'optimal_parameters': {   ParameterVectorElement(θ[7]): 0.3417334131118239,\n",
      "                              ParameterVectorElement(θ[6]): -0.6145575836948008,\n",
      "                              ParameterVectorElement(θ[4]): 0.20985441002527352,\n",
      "                              ParameterVectorElement(θ[2]): 0.8056785477267682,\n",
      "                              ParameterVectorElement(θ[0]): 2.011226604343176,\n",
      "                              ParameterVectorElement(θ[3]): 1.4468125152178986,\n",
      "                              ParameterVectorElement(θ[5]): -2.2029927325361793,\n",
      "                              ParameterVectorElement(θ[1]): 0.41168351797260194},\n",
      "    'optimal_point': array([ 2.0112266 ,  0.41168352,  0.80567855,  1.44681252,  0.20985441,\n",
      "       -2.20299273, -0.61455758,  0.34173341]),\n",
      "    'optimal_value': -2.64501953125,\n",
      "    'optimizer_evals': 200,\n",
      "    'optimizer_time': 15.616371154785156}\n",
      "-- eval_time: 15.616371154785156\n",
      "===============================================================\n",
      "ansatz is a custom circuit===============================================================\n",
      "Optimizer: SPSA\n",
      "-- gradient_support_level: 1\n",
      "-- bounds_support_level: 1\n",
      "-- initial_point_support_level: 3\n",
      "-- options: {}\n",
      "-- max_evals_grouped: 1\n",
      "-- nfev: 200\n",
      "-- smoothed_hessian: [[1. 0. 0. 0. 0. 0. 0. 0.]\n",
      " [0. 1. 0. 0. 0. 0. 0. 0.]\n",
      " [0. 0. 1. 0. 0. 0. 0. 0.]\n",
      " [0. 0. 0. 1. 0. 0. 0. 0.]\n",
      " [0. 0. 0. 0. 1. 0. 0. 0.]\n",
      " [0. 0. 0. 0. 0. 1. 0. 0.]\n",
      " [0. 0. 0. 0. 0. 0. 1. 0.]\n",
      " [0. 0. 0. 0. 0. 0. 0. 1.]]\n",
      "===============================================================\n",
      "\n"
     ]
    }
   ],
   "source": [
    "print( solver.print_settings() )"
   ]
  },
  {
   "cell_type": "code",
   "execution_count": 33,
   "metadata": {
    "tags": []
   },
   "outputs": [
    {
     "name": "stderr",
     "output_type": "stream",
     "text": [
      "C:\\Users\\lucia\\miniconda3\\lib\\site-packages\\qiskit\\aqua\\__init__.py:86: DeprecationWarning: The package qiskit.aqua is deprecated. It was moved/refactored to qiskit-terra For more information see <https://github.com/Qiskit/qiskit-aqua/blob/main/README.md#migration-guide>\n",
      "  warn_package('aqua', 'qiskit-terra')\n"
     ]
    },
    {
     "data": {
      "text/html": [
       "<h3>Version Information</h3><table><tr><th>Qiskit Software</th><th>Version</th></tr><tr><td><code>qiskit-terra</code></td><td>0.18.1</td></tr><tr><td><code>qiskit-aer</code></td><td>0.8.2</td></tr><tr><td><code>qiskit-ignis</code></td><td>0.6.0</td></tr><tr><td><code>qiskit-ibmq-provider</code></td><td>0.16.0</td></tr><tr><td><code>qiskit-aqua</code></td><td>0.9.4</td></tr><tr><td><code>qiskit</code></td><td>0.29.0</td></tr><tr><td><code>qiskit-nature</code></td><td>0.2.0</td></tr><tr><th>System information</th></tr><tr><td>Python</td><td>3.9.5 (default, May 18 2021, 14:42:02) [MSC v.1916 64 bit (AMD64)]</td></tr><tr><td>OS</td><td>Windows</td></tr><tr><td>CPUs</td><td>8</td></tr><tr><td>Memory (Gb)</td><td>15.363838195800781</td></tr><tr><td colspan='2'>Wed Sep 15 23:42:43 2021 Hora de verano romance</td></tr></table>"
      ],
      "text/plain": [
       "<IPython.core.display.HTML object>"
      ]
     },
     "metadata": {},
     "output_type": "display_data"
    }
   ],
   "source": [
    "import qiskit.tools.jupyter\n",
    "%qiskit_version_table"
   ]
  }
 ],
 "metadata": {
  "kernelspec": {
   "display_name": "Python 3 (ipykernel)",
   "language": "python",
   "name": "python3"
  },
  "language_info": {
   "codemirror_mode": {
    "name": "ipython",
    "version": 3
   },
   "file_extension": ".py",
   "mimetype": "text/x-python",
   "name": "python",
   "nbconvert_exporter": "python",
   "pygments_lexer": "ipython3",
   "version": "3.9.5"
  }
 },
 "nbformat": 4,
 "nbformat_minor": 4
}
