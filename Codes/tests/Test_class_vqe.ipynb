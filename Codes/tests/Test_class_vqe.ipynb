{
 "cells": [
  {
   "cell_type": "code",
   "execution_count": 1,
   "metadata": {
    "execution": {
     "iopub.execute_input": "2021-06-03T17:22:42.753297Z",
     "iopub.status.busy": "2021-06-03T17:22:42.753297Z",
     "iopub.status.idle": "2021-06-03T17:22:46.290783Z",
     "shell.execute_reply": "2021-06-03T17:22:46.289879Z",
     "shell.execute_reply.started": "2021-06-03T17:22:42.753297Z"
    }
   },
   "outputs": [],
   "source": [
    "import sys\n",
    "sys.path.append('../')\n",
    "import numpy as np\n",
    "import matplotlib.pyplot as plt\n",
    "from VQE import VQE\n",
    "from GroupingAlgorithm import *\n",
    "from utils import get_backend_conectivity, RandomHamiltonian\n",
    "# Importing standard Qiskit libraries\n",
    "from qiskit import IBMQ, QuantumCircuit\n",
    "from qiskit.providers.aer import AerSimulator\n",
    "from qiskit.circuit.library import EfficientSU2\n",
    "from qiskit.utils.quantum_instance import QuantumInstance\n",
    "from qiskit.algorithms import NumPyMinimumEigensolver\n",
    "from qiskit.ignis.mitigation.measurement import CompleteMeasFitter\n",
    "from qiskit.algorithms.optimizers import SPSA\n",
    "from IPython.display import display, clear_output"
   ]
  },
  {
   "cell_type": "markdown",
   "metadata": {},
   "source": [
    "In this notebook we perform test of the VQE class. First we load our IBM account and define the backends. "
   ]
  },
  {
   "cell_type": "code",
   "execution_count": 2,
   "metadata": {
    "execution": {
     "iopub.execute_input": "2021-06-03T17:22:46.292776Z",
     "iopub.status.busy": "2021-06-03T17:22:46.292776Z",
     "iopub.status.idle": "2021-06-03T17:23:00.806527Z",
     "shell.execute_reply": "2021-06-03T17:23:00.805525Z",
     "shell.execute_reply.started": "2021-06-03T17:22:46.292776Z"
    }
   },
   "outputs": [],
   "source": [
    "IBMQ.load_account()\n",
    "provider      = IBMQ.get_provider(hub='ibm-q-csic', group='internal', project='iff-csic') \n",
    "backend_paris = provider.get_backend('ibmq_paris')\n",
    "WC_paris      = get_backend_conectivity(backend_paris)\n",
    "backend_sim   = AerSimulator(method=\"statevector\") # Backend for simulation\n",
    "backend_noise = AerSimulator.from_backend(backend_paris)\n",
    "NUM_SHOTS = 2**13  # Number of shots for each circuit"
   ]
  },
  {
   "cell_type": "markdown",
   "metadata": {
    "execution": {
     "iopub.execute_input": "2021-06-03T17:13:33.105425Z",
     "iopub.status.busy": "2021-06-03T17:13:33.105425Z",
     "iopub.status.idle": "2021-06-03T17:13:33.111409Z",
     "shell.execute_reply": "2021-06-03T17:13:33.110412Z",
     "shell.execute_reply.started": "2021-06-03T17:13:33.105425Z"
    }
   },
   "source": [
    "We create a Hamiltonian to perform the test."
   ]
  },
  {
   "cell_type": "code",
   "execution_count": 3,
   "metadata": {
    "execution": {
     "iopub.execute_input": "2021-06-03T17:23:00.807518Z",
     "iopub.status.busy": "2021-06-03T17:23:00.807518Z",
     "iopub.status.idle": "2021-06-03T17:23:00.814500Z",
     "shell.execute_reply": "2021-06-03T17:23:00.812505Z",
     "shell.execute_reply.started": "2021-06-03T17:23:00.807518Z"
    }
   },
   "outputs": [],
   "source": [
    "# qubit_op, init_state = LiH(initial_state=True)\n",
    "# num_qubits = qubit_op.num_qubits"
   ]
  },
  {
   "cell_type": "code",
   "execution_count": 4,
   "metadata": {
    "execution": {
     "iopub.execute_input": "2021-06-03T17:23:00.816496Z",
     "iopub.status.busy": "2021-06-03T17:23:00.815497Z",
     "iopub.status.idle": "2021-06-03T17:23:00.825457Z",
     "shell.execute_reply": "2021-06-03T17:23:00.824460Z",
     "shell.execute_reply.started": "2021-06-03T17:23:00.816496Z"
    }
   },
   "outputs": [
    {
     "name": "stdout",
     "output_type": "stream",
     "text": [
      "SummedOp([\n",
      "  YX,\n",
      "  XY,\n",
      "  XZ,\n",
      "  IZ,\n",
      "  II,\n",
      "  YX\n",
      "])\n"
     ]
    }
   ],
   "source": [
    "num_qubits = 2\n",
    "qubit_op = RandomHamiltonian( num_qubits, 6 )\n",
    "init_state = QuantumCircuit(num_qubits)\n",
    "print( qubit_op )"
   ]
  },
  {
   "cell_type": "markdown",
   "metadata": {},
   "source": [
    "We calculate the minimum energy of the Hamiltonian by a classical method."
   ]
  },
  {
   "cell_type": "code",
   "execution_count": 5,
   "metadata": {
    "execution": {
     "iopub.execute_input": "2021-06-03T17:23:00.826454Z",
     "iopub.status.busy": "2021-06-03T17:23:00.826454Z",
     "iopub.status.idle": "2021-06-03T17:23:00.846401Z",
     "shell.execute_reply": "2021-06-03T17:23:00.845430Z",
     "shell.execute_reply.started": "2021-06-03T17:23:00.826454Z"
    }
   },
   "outputs": [
    {
     "data": {
      "text/plain": [
       "(-2.605551275463986+1.52199692136892e-16j)"
      ]
     },
     "execution_count": 5,
     "metadata": {},
     "output_type": "execute_result"
    }
   ],
   "source": [
    "result_exact = NumPyMinimumEigensolver().compute_minimum_eigenvalue(qubit_op)\n",
    "result_exact.eigenvalue "
   ]
  },
  {
   "cell_type": "markdown",
   "metadata": {},
   "source": [
    "We will employ a Hardware efficient variation form."
   ]
  },
  {
   "cell_type": "code",
   "execution_count": 6,
   "metadata": {
    "execution": {
     "iopub.execute_input": "2021-06-03T17:23:00.847430Z",
     "iopub.status.busy": "2021-06-03T17:23:00.847430Z",
     "iopub.status.idle": "2021-06-03T17:23:01.360740Z",
     "shell.execute_reply": "2021-06-03T17:23:01.360740Z",
     "shell.execute_reply.started": "2021-06-03T17:23:00.847430Z"
    }
   },
   "outputs": [
    {
     "data": {
      "image/png": "[encoded data removed]",
      "text/plain": [
       "<Figure size 387.452x144.48 with 1 Axes>"
      ]
     },
     "execution_count": 6,
     "metadata": {},
     "output_type": "execute_result"
    }
   ],
   "source": [
    "entangled_layer = []\n",
    "for qbs in WC_paris :\n",
    "    if qbs[0]<qbs[1] and qbs[1]<num_qubits :\n",
    "        entangled_layer.append(qbs)\n",
    "\n",
    "ansatz = init_state.compose( EfficientSU2(num_qubits,['ry','rz'], entanglement=entangled_layer, reps=1 ) )\n",
    "ansatz.draw(output='mpl')"
   ]
  },
  {
   "cell_type": "markdown",
   "metadata": {
    "execution": {
     "iopub.execute_input": "2021-06-03T17:15:32.552223Z",
     "iopub.status.busy": "2021-06-03T17:15:32.551225Z",
     "iopub.status.idle": "2021-06-03T17:15:32.557209Z",
     "shell.execute_reply": "2021-06-03T17:15:32.556420Z",
     "shell.execute_reply.started": "2021-06-03T17:15:32.552223Z"
    }
   },
   "source": [
    "We define a callback function, to have the behavior of the algorithm by iterations."
   ]
  },
  {
   "cell_type": "code",
   "execution_count": 7,
   "metadata": {
    "execution": {
     "iopub.execute_input": "2021-06-03T17:23:01.362673Z",
     "iopub.status.busy": "2021-06-03T17:23:01.362673Z",
     "iopub.status.idle": "2021-06-03T17:23:01.369654Z",
     "shell.execute_reply": "2021-06-03T17:23:01.368671Z",
     "shell.execute_reply.started": "2021-06-03T17:23:01.362673Z"
    }
   },
   "outputs": [],
   "source": [
    "def callback( evals, params ):  \n",
    "    display(\"{}, {}\".format(len(evaluations),evals))\n",
    "    clear_output(wait=True)\n",
    "    parameters.append(params)\n",
    "    evaluations.append(evals)\n",
    "\n",
    "parameters  = []\n",
    "evaluations = []"
   ]
  },
  {
   "cell_type": "markdown",
   "metadata": {},
   "source": [
    "We select SPSA with 100 iterations as classical optimizer."
   ]
  },
  {
   "cell_type": "code",
   "execution_count": 8,
   "metadata": {
    "execution": {
     "iopub.execute_input": "2021-06-03T17:23:01.371649Z",
     "iopub.status.busy": "2021-06-03T17:23:01.371649Z",
     "iopub.status.idle": "2021-06-03T17:23:01.377633Z",
     "shell.execute_reply": "2021-06-03T17:23:01.376636Z",
     "shell.execute_reply.started": "2021-06-03T17:23:01.371649Z"
    }
   },
   "outputs": [],
   "source": [
    "optimizer = SPSA( maxiter=100, last_avg=1 )"
   ]
  },
  {
   "cell_type": "markdown",
   "metadata": {},
   "source": [
    "Initial parameters for the optimization"
   ]
  },
  {
   "cell_type": "code",
   "execution_count": 9,
   "metadata": {
    "execution": {
     "iopub.execute_input": "2021-06-03T17:23:01.380626Z",
     "iopub.status.busy": "2021-06-03T17:23:01.379628Z",
     "iopub.status.idle": "2021-06-03T17:23:01.386610Z",
     "shell.execute_reply": "2021-06-03T17:23:01.385692Z",
     "shell.execute_reply.started": "2021-06-03T17:23:01.380626Z"
    }
   },
   "outputs": [],
   "source": [
    "num_var = ansatz.num_parameters\n",
    "pars = [0.01] * num_var"
   ]
  },
  {
   "cell_type": "code",
   "execution_count": 10,
   "metadata": {
    "execution": {
     "iopub.execute_input": "2021-06-03T17:23:01.388604Z",
     "iopub.status.busy": "2021-06-03T17:23:01.387608Z",
     "iopub.status.idle": "2021-06-03T17:23:01.395585Z",
     "shell.execute_reply": "2021-06-03T17:23:01.394587Z",
     "shell.execute_reply.started": "2021-06-03T17:23:01.388604Z"
    }
   },
   "outputs": [
    {
     "data": {
      "text/plain": [
       "(-2.605551275463986+1.52199692136892e-16j)"
      ]
     },
     "execution_count": 10,
     "metadata": {},
     "output_type": "execute_result"
    }
   ],
   "source": [
    "result_exact.eigenvalue "
   ]
  },
  {
   "cell_type": "markdown",
   "metadata": {},
   "source": [
    "VQE with entangled grouping"
   ]
  },
  {
   "cell_type": "code",
   "execution_count": 11,
   "metadata": {
    "execution": {
     "iopub.execute_input": "2021-06-03T17:23:01.397580Z",
     "iopub.status.busy": "2021-06-03T17:23:01.396583Z",
     "iopub.status.idle": "2021-06-03T17:23:13.975823Z",
     "shell.execute_reply": "2021-06-03T17:23:13.975823Z",
     "shell.execute_reply.started": "2021-06-03T17:23:01.397580Z"
    }
   },
   "outputs": [
    {
     "name": "stdout",
     "output_type": "stream",
     "text": [
      "-2.55859375\n"
     ]
    }
   ],
   "source": [
    "solver = VQE( ansatz, optimizer, pars, grouping = 'Entangled' )\n",
    "results = solver.compute_minimum_eigenvalue(qubit_op)\n",
    "print( results.eigenvalue )"
   ]
  },
  {
   "cell_type": "markdown",
   "metadata": {},
   "source": [
    "VQE with TPB grouping"
   ]
  },
  {
   "cell_type": "code",
   "execution_count": 12,
   "metadata": {
    "execution": {
     "iopub.execute_input": "2021-06-03T17:23:13.977818Z",
     "iopub.status.busy": "2021-06-03T17:23:13.976820Z",
     "iopub.status.idle": "2021-06-03T17:23:24.945109Z",
     "shell.execute_reply": "2021-06-03T17:23:24.945109Z",
     "shell.execute_reply.started": "2021-06-03T17:23:13.977818Z"
    }
   },
   "outputs": [
    {
     "name": "stdout",
     "output_type": "stream",
     "text": [
      "-2.576171875\n"
     ]
    }
   ],
   "source": [
    "solver = VQE( ansatz, optimizer, pars, grouping = 'TPB' )\n",
    "results = solver.compute_minimum_eigenvalue(qubit_op)\n",
    "print( results.eigenvalue )"
   ]
  },
  {
   "cell_type": "markdown",
   "metadata": {},
   "source": [
    "VQE with entangled grouping and the conectivity of ibm-q paris"
   ]
  },
  {
   "cell_type": "code",
   "execution_count": 13,
   "metadata": {
    "execution": {
     "iopub.execute_input": "2021-06-03T17:23:24.947104Z",
     "iopub.status.busy": "2021-06-03T17:23:24.947104Z",
     "iopub.status.idle": "2021-06-03T17:23:36.111704Z",
     "shell.execute_reply": "2021-06-03T17:23:36.111704Z",
     "shell.execute_reply.started": "2021-06-03T17:23:24.947104Z"
    }
   },
   "outputs": [
    {
     "name": "stdout",
     "output_type": "stream",
     "text": [
      "-2.59375\n"
     ]
    }
   ],
   "source": [
    "solver = VQE( ansatz, optimizer, pars, grouping = 'Entangled', conectivity = WC_paris )\n",
    "results = solver.compute_minimum_eigenvalue(qubit_op)\n",
    "print( results.eigenvalue )"
   ]
  },
  {
   "cell_type": "markdown",
   "metadata": {},
   "source": [
    "Testing callback function"
   ]
  },
  {
   "cell_type": "code",
   "execution_count": 14,
   "metadata": {
    "execution": {
     "iopub.execute_input": "2021-06-03T17:23:36.114697Z",
     "iopub.status.busy": "2021-06-03T17:23:36.113700Z",
     "iopub.status.idle": "2021-06-03T17:23:47.958521Z",
     "shell.execute_reply": "2021-06-03T17:23:47.957498Z",
     "shell.execute_reply.started": "2021-06-03T17:23:36.114697Z"
    }
   },
   "outputs": [
    {
     "name": "stdout",
     "output_type": "stream",
     "text": [
      "-2.580078125\n"
     ]
    }
   ],
   "source": [
    "parameters  = []\n",
    "evaluations = []\n",
    "solver = VQE( ansatz, optimizer, pars, grouping = 'Entangled', callback=callback )\n",
    "results = solver.compute_minimum_eigenvalue(qubit_op)\n",
    "print( results.eigenvalue )"
   ]
  },
  {
   "cell_type": "markdown",
   "metadata": {},
   "source": [
    "Testing simulation with noise model"
   ]
  },
  {
   "cell_type": "code",
   "execution_count": 15,
   "metadata": {
    "execution": {
     "iopub.execute_input": "2021-06-03T17:23:47.959518Z",
     "iopub.status.busy": "2021-06-03T17:23:47.959518Z",
     "iopub.status.idle": "2021-06-03T17:28:11.484378Z",
     "shell.execute_reply": "2021-06-03T17:28:11.483374Z",
     "shell.execute_reply.started": "2021-06-03T17:23:47.959518Z"
    }
   },
   "outputs": [
    {
     "name": "stdout",
     "output_type": "stream",
     "text": [
      "-2.123046875\n"
     ]
    }
   ],
   "source": [
    "parameters  = []\n",
    "evaluations = []\n",
    "optimizer   = SPSA( maxiter=100, last_avg=1 )\n",
    "solver = VQE( ansatz, optimizer, pars, grouping = 'Entangled', callback=callback, quantum_instance=backend_noise )\n",
    "results = solver.compute_minimum_eigenvalue(qubit_op)\n",
    "print( results.eigenvalue )"
   ]
  },
  {
   "cell_type": "code",
   "execution_count": 16,
   "metadata": {
    "execution": {
     "iopub.execute_input": "2021-06-03T17:28:11.485361Z",
     "iopub.status.busy": "2021-06-03T17:28:11.485361Z",
     "iopub.status.idle": "2021-06-03T17:28:11.623990Z",
     "shell.execute_reply": "2021-06-03T17:28:11.623018Z",
     "shell.execute_reply.started": "2021-06-03T17:28:11.485361Z"
    }
   },
   "outputs": [
    {
     "data": {
      "text/plain": [
       "[<matplotlib.lines.Line2D at 0x16ad7e1df88>]"
      ]
     },
     "execution_count": 16,
     "metadata": {},
     "output_type": "execute_result"
    },
    {
     "data": {
      "image/png": "[encoded data removed]",
      "text/plain": [
       "<Figure size 432x288 with 1 Axes>"
      ]
     },
     "metadata": {
      "needs_background": "light"
     },
     "output_type": "display_data"
    }
   ],
   "source": [
    "plt.plot( evaluations )"
   ]
  },
  {
   "cell_type": "markdown",
   "metadata": {},
   "source": [
    "Testing quantum instance"
   ]
  },
  {
   "cell_type": "code",
   "execution_count": 17,
   "metadata": {
    "execution": {
     "iopub.execute_input": "2021-06-03T17:28:11.624987Z",
     "iopub.status.busy": "2021-06-03T17:28:11.624987Z",
     "iopub.status.idle": "2021-06-03T17:28:38.746405Z",
     "shell.execute_reply": "2021-06-03T17:28:38.745408Z",
     "shell.execute_reply.started": "2021-06-03T17:28:11.624987Z"
    }
   },
   "outputs": [
    {
     "name": "stdout",
     "output_type": "stream",
     "text": [
      "-2.6005859375\n"
     ]
    }
   ],
   "source": [
    "qi = QuantumInstance( backend_sim, shots = NUM_SHOTS )\n",
    "parameters  = []\n",
    "evaluations = []\n",
    "optimizer   = SPSA( maxiter=100, last_avg=1 )\n",
    "solver = VQE( ansatz, optimizer, pars, grouping = 'Entangled', quantum_instance=qi )\n",
    "results = solver.compute_minimum_eigenvalue(qubit_op)\n",
    "print( results.eigenvalue )"
   ]
  },
  {
   "cell_type": "code",
   "execution_count": 18,
   "metadata": {
    "execution": {
     "iopub.execute_input": "2021-06-03T17:28:38.748401Z",
     "iopub.status.busy": "2021-06-03T17:28:38.747404Z",
     "iopub.status.idle": "2021-06-03T17:28:38.759371Z",
     "shell.execute_reply": "2021-06-03T17:28:38.758399Z",
     "shell.execute_reply.started": "2021-06-03T17:28:38.748401Z"
    }
   },
   "outputs": [
    {
     "name": "stdout",
     "output_type": "stream",
     "text": [
      "OrderedDict([   ('aux_operator_eigenvalues', None),\n",
      "                ('cost_function_evals', 200),\n",
      "                (   'eigenstate',\n",
      "                    {   '00': 0.5201036555341637,\n",
      "                        '01': 0.32775276505317236,\n",
      "                        '10': 0.21452390965228096,\n",
      "                        '11': 0.7589794494500494}),\n",
      "                ('eigenvalue', -2.6005859375),\n",
      "                (   'optimal_parameters',\n",
      "                    {   ParameterVectorElement(θ[0]): -1.2157362816843265,\n",
      "                        ParameterVectorElement(θ[1]): -3.996616405275558,\n",
      "                        ParameterVectorElement(θ[2]): 3.188660253054801,\n",
      "                        ParameterVectorElement(θ[3]): 4.576297885043973,\n",
      "                        ParameterVectorElement(θ[5]): -0.24486147099982422,\n",
      "                        ParameterVectorElement(θ[4]): 3.3463286970083255,\n",
      "                        ParameterVectorElement(θ[6]): 0.15741735268292875,\n",
      "                        ParameterVectorElement(θ[7]): 1.6680148749145272}),\n",
      "                (   'optimal_point',\n",
      "                    array([-1.21573628, -3.99661641,  3.18866025,  4.57629789,  3.3463287 ,\n",
      "       -0.24486147,  0.15741735,  1.66801487])),\n",
      "                ('optimal_value', -2.6005859375),\n",
      "                ('optimizer_evals', 200),\n",
      "                ('optimizer_time', 27.060580015182495)])\n"
     ]
    }
   ],
   "source": [
    "print(results)"
   ]
  },
  {
   "cell_type": "markdown",
   "metadata": {},
   "source": [
    "Testing another function of the VQE class"
   ]
  },
  {
   "cell_type": "code",
   "execution_count": 19,
   "metadata": {
    "execution": {
     "iopub.execute_input": "2021-06-03T17:28:38.761368Z",
     "iopub.status.busy": "2021-06-03T17:28:38.760375Z",
     "iopub.status.idle": "2021-06-03T17:28:38.768368Z",
     "shell.execute_reply": "2021-06-03T17:28:38.768368Z",
     "shell.execute_reply.started": "2021-06-03T17:28:38.761368Z"
    }
   },
   "outputs": [
    {
     "data": {
      "text/plain": [
       "<qiskit.circuit.quantumcircuit.QuantumCircuit at 0x16adb4098c8>"
      ]
     },
     "execution_count": 19,
     "metadata": {},
     "output_type": "execute_result"
    }
   ],
   "source": [
    "solver.ansatz"
   ]
  },
  {
   "cell_type": "code",
   "execution_count": 20,
   "metadata": {
    "execution": {
     "iopub.execute_input": "2021-06-03T17:28:38.770342Z",
     "iopub.status.busy": "2021-06-03T17:28:38.770342Z",
     "iopub.status.idle": "2021-06-03T17:28:38.777322Z",
     "shell.execute_reply": "2021-06-03T17:28:38.776325Z",
     "shell.execute_reply.started": "2021-06-03T17:28:38.770342Z"
    }
   },
   "outputs": [
    {
     "data": {
      "text/plain": [
       "<bound method VariationalAlgorithm.cleanup_parameterized_circuits of <VQE.VQE object at 0x0000016ADE28FB48>>"
      ]
     },
     "execution_count": 20,
     "metadata": {},
     "output_type": "execute_result"
    }
   ],
   "source": [
    "solver.cleanup_parameterized_circuits"
   ]
  },
  {
   "cell_type": "code",
   "execution_count": 21,
   "metadata": {
    "execution": {
     "iopub.execute_input": "2021-06-03T17:28:38.779317Z",
     "iopub.status.busy": "2021-06-03T17:28:38.778320Z",
     "iopub.status.idle": "2021-06-03T17:28:38.795306Z",
     "shell.execute_reply": "2021-06-03T17:28:38.795306Z",
     "shell.execute_reply.started": "2021-06-03T17:28:38.779317Z"
    }
   },
   "outputs": [
    {
     "data": {
      "text/html": [
       "<pre style=\"word-wrap: normal;white-space: pre;background: #fff0;line-height: 1.1;font-family: &quot;Courier New&quot;,Courier,monospace\">          ┌──────────┐┌──────────┐     ┌──────────┐┌──────────┐┌─────┐┌───┐┌─┐\n",
       "q31248_0: ┤ RY(θ[0]) ├┤ RZ(θ[2]) ├──■──┤ RY(θ[4]) ├┤ RZ(θ[6]) ├┤ SDG ├┤ H ├┤M├\n",
       "          ├──────────┤├──────────┤┌─┴─┐├──────────┤├──────────┤└┬───┬┘└┬─┬┘└╥┘\n",
       "q31248_1: ┤ RY(θ[1]) ├┤ RZ(θ[3]) ├┤ X ├┤ RY(θ[5]) ├┤ RZ(θ[7]) ├─┤ H ├──┤M├──╫─\n",
       "          └──────────┘└──────────┘└───┘└──────────┘└──────────┘ └───┘  └╥┘  ║ \n",
       "   c36: 1/══════════════════════════════════════════════════════════════╬═══╩═\n",
       "                                                                        ║   0 \n",
       "                                                                        ║     \n",
       "   c37: 1/══════════════════════════════════════════════════════════════╩═════\n",
       "                                                                        0     </pre>"
      ],
      "text/plain": [
       "          ┌──────────┐┌──────────┐     ┌──────────┐┌──────────┐┌─────┐┌───┐┌─┐\n",
       "q31248_0: ┤ RY(θ[0]) ├┤ RZ(θ[2]) ├──■──┤ RY(θ[4]) ├┤ RZ(θ[6]) ├┤ SDG ├┤ H ├┤M├\n",
       "          ├──────────┤├──────────┤┌─┴─┐├──────────┤├──────────┤└┬───┬┘└┬─┬┘└╥┘\n",
       "q31248_1: ┤ RY(θ[1]) ├┤ RZ(θ[3]) ├┤ X ├┤ RY(θ[5]) ├┤ RZ(θ[7]) ├─┤ H ├──┤M├──╫─\n",
       "          └──────────┘└──────────┘└───┘└──────────┘└──────────┘ └───┘  └╥┘  ║ \n",
       "   c36: 1/══════════════════════════════════════════════════════════════╬═══╩═\n",
       "                                                                        ║   0 \n",
       "                                                                        ║     \n",
       "   c37: 1/══════════════════════════════════════════════════════════════╩═════\n",
       "                                                                        0     "
      ]
     },
     "execution_count": 21,
     "metadata": {},
     "output_type": "execute_result"
    }
   ],
   "source": [
    "solver.construct_expectation( pars, qubit_op )[0].draw()"
   ]
  },
  {
   "cell_type": "code",
   "execution_count": 22,
   "metadata": {
    "execution": {
     "iopub.execute_input": "2021-06-03T17:28:38.798268Z",
     "iopub.status.busy": "2021-06-03T17:28:38.797270Z",
     "iopub.status.idle": "2021-06-03T17:28:39.101455Z",
     "shell.execute_reply": "2021-06-03T17:28:39.100459Z",
     "shell.execute_reply.started": "2021-06-03T17:28:38.798268Z"
    }
   },
   "outputs": [
    {
     "data": {
      "image/png": "[encoded data removed]",
      "text/plain": [
       "<Figure size 808.852x144.48 with 1 Axes>"
      ]
     },
     "execution_count": 22,
     "metadata": {},
     "output_type": "execute_result"
    }
   ],
   "source": [
    "solver.get_optimal_circuit().draw(output='mpl')"
   ]
  },
  {
   "cell_type": "code",
   "execution_count": 23,
   "metadata": {
    "execution": {
     "iopub.execute_input": "2021-06-03T17:28:39.104448Z",
     "iopub.status.busy": "2021-06-03T17:28:39.103452Z",
     "iopub.status.idle": "2021-06-03T17:28:39.111111Z",
     "shell.execute_reply": "2021-06-03T17:28:39.110105Z",
     "shell.execute_reply.started": "2021-06-03T17:28:39.104448Z"
    }
   },
   "outputs": [
    {
     "data": {
      "text/plain": [
       "-2.6005859375"
      ]
     },
     "execution_count": 23,
     "metadata": {},
     "output_type": "execute_result"
    }
   ],
   "source": [
    "solver.get_optimal_cost()"
   ]
  },
  {
   "cell_type": "code",
   "execution_count": 24,
   "metadata": {
    "execution": {
     "iopub.execute_input": "2021-06-03T17:28:39.112111Z",
     "iopub.status.busy": "2021-06-03T17:28:39.112111Z",
     "iopub.status.idle": "2021-06-03T17:28:39.162005Z",
     "shell.execute_reply": "2021-06-03T17:28:39.162005Z",
     "shell.execute_reply.started": "2021-06-03T17:28:39.112111Z"
    }
   },
   "outputs": [
    {
     "data": {
      "text/plain": [
       "{'11': 0.7589794494500494,\n",
       " '01': 0.32886820593514354,\n",
       " '10': 0.22480460265528374,\n",
       " '00': 0.5150328038702972}"
      ]
     },
     "execution_count": 24,
     "metadata": {},
     "output_type": "execute_result"
    }
   ],
   "source": [
    "solver.get_optimal_vector()"
   ]
  },
  {
   "cell_type": "code",
   "execution_count": 25,
   "metadata": {
    "execution": {
     "iopub.execute_input": "2021-06-03T17:28:39.163962Z",
     "iopub.status.busy": "2021-06-03T17:28:39.163962Z",
     "iopub.status.idle": "2021-06-03T17:28:39.168948Z",
     "shell.execute_reply": "2021-06-03T17:28:39.167951Z",
     "shell.execute_reply.started": "2021-06-03T17:28:39.163962Z"
    }
   },
   "outputs": [],
   "source": [
    "# solver.get_prob_vector_for_params()"
   ]
  },
  {
   "cell_type": "code",
   "execution_count": 26,
   "metadata": {
    "execution": {
     "iopub.execute_input": "2021-06-03T17:28:39.169946Z",
     "iopub.status.busy": "2021-06-03T17:28:39.169946Z",
     "iopub.status.idle": "2021-06-03T17:28:39.175930Z",
     "shell.execute_reply": "2021-06-03T17:28:39.174986Z",
     "shell.execute_reply.started": "2021-06-03T17:28:39.169946Z"
    }
   },
   "outputs": [],
   "source": [
    "# solver.get_probabilities_for_counts()"
   ]
  },
  {
   "cell_type": "code",
   "execution_count": 27,
   "metadata": {
    "execution": {
     "iopub.execute_input": "2021-06-03T17:28:39.176927Z",
     "iopub.status.busy": "2021-06-03T17:28:39.176927Z",
     "iopub.status.idle": "2021-06-03T17:28:39.182930Z",
     "shell.execute_reply": "2021-06-03T17:28:39.182930Z",
     "shell.execute_reply.started": "2021-06-03T17:28:39.176927Z"
    }
   },
   "outputs": [
    {
     "data": {
      "text/plain": [
       "[0.01, 0.01, 0.01, 0.01, 0.01, 0.01, 0.01, 0.01]"
      ]
     },
     "execution_count": 27,
     "metadata": {},
     "output_type": "execute_result"
    }
   ],
   "source": [
    "solver.initial_point"
   ]
  },
  {
   "cell_type": "code",
   "execution_count": 28,
   "metadata": {
    "execution": {
     "iopub.execute_input": "2021-06-03T17:28:39.184905Z",
     "iopub.status.busy": "2021-06-03T17:28:39.183907Z",
     "iopub.status.idle": "2021-06-03T17:28:39.193882Z",
     "shell.execute_reply": "2021-06-03T17:28:39.192886Z",
     "shell.execute_reply.started": "2021-06-03T17:28:39.184905Z"
    }
   },
   "outputs": [
    {
     "data": {
      "text/plain": [
       "array([-1.21573628, -3.99661641,  3.18866025,  4.57629789,  3.3463287 ,\n",
       "       -0.24486147,  0.15741735,  1.66801487])"
      ]
     },
     "execution_count": 28,
     "metadata": {},
     "output_type": "execute_result"
    }
   ],
   "source": [
    "solver.optimal_params"
   ]
  },
  {
   "cell_type": "code",
   "execution_count": 29,
   "metadata": {
    "execution": {
     "iopub.execute_input": "2021-06-03T17:28:39.194879Z",
     "iopub.status.busy": "2021-06-03T17:28:39.193882Z",
     "iopub.status.idle": "2021-06-03T17:28:39.202858Z",
     "shell.execute_reply": "2021-06-03T17:28:39.201861Z",
     "shell.execute_reply.started": "2021-06-03T17:28:39.194879Z"
    }
   },
   "outputs": [
    {
     "data": {
      "text/plain": [
       "<qiskit.algorithms.optimizers.spsa.SPSA at 0x16ade3cd088>"
      ]
     },
     "execution_count": 29,
     "metadata": {},
     "output_type": "execute_result"
    }
   ],
   "source": [
    "solver.optimizer"
   ]
  },
  {
   "cell_type": "code",
   "execution_count": 30,
   "metadata": {
    "execution": {
     "iopub.execute_input": "2021-06-03T17:28:39.203855Z",
     "iopub.status.busy": "2021-06-03T17:28:39.203855Z",
     "iopub.status.idle": "2021-06-03T17:28:39.210863Z",
     "shell.execute_reply": "2021-06-03T17:28:39.209880Z",
     "shell.execute_reply.started": "2021-06-03T17:28:39.203855Z"
    }
   },
   "outputs": [
    {
     "data": {
      "text/plain": [
       "<qiskit.utils.quantum_instance.QuantumInstance at 0x16ade3cd1c8>"
      ]
     },
     "execution_count": 30,
     "metadata": {},
     "output_type": "execute_result"
    }
   ],
   "source": [
    "solver.quantum_instance"
   ]
  },
  {
   "cell_type": "code",
   "execution_count": 31,
   "metadata": {
    "execution": {
     "iopub.execute_input": "2021-06-03T17:28:39.211860Z",
     "iopub.status.busy": "2021-06-03T17:28:39.211860Z",
     "iopub.status.idle": "2021-06-03T17:28:39.219812Z",
     "shell.execute_reply": "2021-06-03T17:28:39.218815Z",
     "shell.execute_reply.started": "2021-06-03T17:28:39.211860Z"
    }
   },
   "outputs": [
    {
     "data": {
      "text/plain": [
       "False"
      ]
     },
     "execution_count": 31,
     "metadata": {},
     "output_type": "execute_result"
    }
   ],
   "source": [
    "solver.supports_aux_operators()"
   ]
  },
  {
   "cell_type": "code",
   "execution_count": 32,
   "metadata": {
    "execution": {
     "iopub.execute_input": "2021-06-03T17:28:39.220810Z",
     "iopub.status.busy": "2021-06-03T17:28:39.220810Z",
     "iopub.status.idle": "2021-06-03T17:28:39.229785Z",
     "shell.execute_reply": "2021-06-03T17:28:39.228789Z",
     "shell.execute_reply.started": "2021-06-03T17:28:39.220810Z"
    }
   },
   "outputs": [
    {
     "name": "stdout",
     "output_type": "stream",
     "text": [
      "\n",
      "==================== Setting of VQE ============================\n",
      "Algorithm: VQE\n",
      "-- ansatz_params: [ParameterVectorElement(θ[0]), ParameterVectorElement(θ[1]), ParameterVectorElement(θ[2]), ParameterVectorElement(θ[3]), ParameterVectorElement(θ[4]), ParameterVectorElement(θ[5]), ParameterVectorElement(θ[6]), ParameterVectorElement(θ[7])]\n",
      "-- ansatz:      ┌──────────┐┌──────────┐     ┌──────────┐┌──────────┐\n",
      "q_0: ┤ RY(θ[0]) ├┤ RZ(θ[2]) ├──■──┤ RY(θ[4]) ├┤ RZ(θ[6]) ├\n",
      "     ├──────────┤├──────────┤┌─┴─┐├──────────┤├──────────┤\n",
      "q_1: ┤ RY(θ[1]) ├┤ RZ(θ[3]) ├┤ X ├┤ RY(θ[5]) ├┤ RZ(θ[7]) ├\n",
      "     └──────────┘└──────────┘└───┘└──────────┘└──────────┘\n",
      "-- quantum_instance: \n",
      "Qiskit Terra version: 0.17.0\n",
      "Backend: 'aer_simulator_statevector (None)', with following setting:\n",
      "{'basis_gates': ['ccx', 'cp', 'cswap', 'csx', 'cu1', 'cu2', 'cu3', 'cx', 'cy', 'cz', 'delay', 'diagonal', 'h', 'id', 'initialize', 'mcphase', 'mcr', 'mcrx', 'mcry', 'mcrz', 'mcswap', 'mcsx', 'mcu1', 'mcu2', 'mcu3', 'mcx', 'mcx_gray', 'mcy', 'mcz', 'multiplexer', 'p', 'pauli', 'r', 'rx', 'rxx', 'ry', 'ryy', 'rz', 'rzx', 'rzz', 's', 'sdg', 'swap', 'sx', 't', 'tdg', 'u', 'u1', 'u2', 'u3', 'unitary', 'x', 'y', 'z', 'kraus', 'roerror', 'save_amplitudes', 'save_amplitudes_sq', 'save_density_matrix', 'save_expval', 'save_expval_var', 'save_probabilities', 'save_probabilities_dict', 'save_state', 'save_statevector', 'save_statevector_dict', 'set_statevector', 'snapshot'], 'coupling_map': None}\n",
      "{'initial_layout': None, 'seed_transpiler': None, 'optimization_level': None}\n",
      "RunConfig(max_credits=10, shots=8192)\n",
      "{'timeout': None}\n",
      "{}\n",
      "{}\n",
      "Measurement mitigation: None\n",
      "-- optimizer: <qiskit.algorithms.optimizers.spsa.SPSA object at 0x0000016ADE3CD088>\n",
      "-- gradient: None\n",
      "-- cost_fn: <bound method VQE._energy_evaluation of <VQE.VQE object at 0x0000016ADE28FB48>>\n",
      "-- initial_point: [0.01, 0.01, 0.01, 0.01, 0.01, 0.01, 0.01, 0.01]\n",
      "-- parameterized_circuits: None\n",
      "-- order: [4, 3, 2, 1]\n",
      "-- conectiviy: [(0, 1), (1, 0)]\n",
      "-- grouping: Entangled\n",
      "-- eval_count: 200\n",
      "-- callback: None\n",
      "-- expect_op: [<qiskit.circuit.quantumcircuit.QuantumCircuit object at 0x0000016ADDF4BFC8>, <qiskit.circuit.quantumcircuit.QuantumCircuit object at 0x0000016ADE23E408>, <qiskit.circuit.quantumcircuit.QuantumCircuit object at 0x0000016ADDEB4388>]\n",
      "-- coeff: [1, 1, 1, 1, 1, 1]\n",
      "-- label: ['YX', 'XY', 'XZ', 'IZ', 'II', 'YX']\n",
      "-- Groups: [[1, 4], [0, 5], [2, 3]]\n",
      "-- Measurements: [[[2, [1]], [1, [0]]], [[2, [0]], [1, [1]]], [[1, [0]], [3, [1]]]]\n",
      "-- prob2Exp: [array([[ 1., -1., -1.,  1.],\n",
      "       [ 1.,  1.,  1.,  1.]]), array([[ 1., -1., -1.,  1.],\n",
      "       [ 1., -1., -1.,  1.]]), array([[ 1., -1., -1.,  1.],\n",
      "       [ 1.,  1., -1., -1.]])]\n",
      "-- ret: OrderedDict([   ('aux_operator_eigenvalues', None),\n",
      "                ('cost_function_evals', 200),\n",
      "                (   'eigenstate',\n",
      "                    {   '00': 0.5201036555341637,\n",
      "                        '01': 0.32775276505317236,\n",
      "                        '10': 0.21452390965228096,\n",
      "                        '11': 0.7589794494500494}),\n",
      "                ('eigenvalue', -2.6005859375),\n",
      "                (   'optimal_parameters',\n",
      "                    {   ParameterVectorElement(θ[0]): -1.2157362816843265,\n",
      "                        ParameterVectorElement(θ[1]): -3.996616405275558,\n",
      "                        ParameterVectorElement(θ[2]): 3.188660253054801,\n",
      "                        ParameterVectorElement(θ[3]): 4.576297885043973,\n",
      "                        ParameterVectorElement(θ[5]): -0.24486147099982422,\n",
      "                        ParameterVectorElement(θ[4]): 3.3463286970083255,\n",
      "                        ParameterVectorElement(θ[6]): 0.15741735268292875,\n",
      "                        ParameterVectorElement(θ[7]): 1.6680148749145272}),\n",
      "                (   'optimal_point',\n",
      "                    array([-1.21573628, -3.99661641,  3.18866025,  4.57629789,  3.3463287 ,\n",
      "       -0.24486147,  0.15741735,  1.66801487])),\n",
      "                ('optimal_value', -2.6005859375),\n",
      "                ('optimizer_evals', 200),\n",
      "                ('optimizer_time', 27.060580015182495)])\n",
      "-- eval_time: 27.060580015182495\n",
      "===============================================================\n",
      "ansatz is a custom circuit===============================================================\n",
      "Optimizer: SPSA\n",
      "-- gradient_support_level: 1\n",
      "-- bounds_support_level: 1\n",
      "-- initial_point_support_level: 3\n",
      "-- options: {}\n",
      "-- max_evals_grouped: 1\n",
      "-- nfev: 200\n",
      "===============================================================\n",
      "\n"
     ]
    }
   ],
   "source": [
    "print( solver.print_settings() )"
   ]
  },
  {
   "cell_type": "code",
   "execution_count": 1,
   "metadata": {
    "execution": {
     "iopub.execute_input": "2021-06-04T06:15:02.736502Z",
     "iopub.status.busy": "2021-06-04T06:15:02.736215Z",
     "iopub.status.idle": "2021-06-04T06:15:04.078890Z",
     "shell.execute_reply": "2021-06-04T06:15:04.078540Z",
     "shell.execute_reply.started": "2021-06-04T06:15:02.736430Z"
    }
   },
   "outputs": [
    {
     "data": {
      "text/html": [
       "<h3>Version Information</h3><table><tr><th>Qiskit Software</th><th>Version</th></tr><tr><td>Qiskit</td><td>0.26.0</td></tr><tr><td>Terra</td><td>0.17.3</td></tr><tr><td>Aer</td><td>0.8.2</td></tr><tr><td>Ignis</td><td>0.6.0</td></tr><tr><td>Aqua</td><td>0.9.1</td></tr><tr><td>IBM Q Provider</td><td>0.13.1</td></tr><tr><th>System information</th></tr><tr><td>Python</td><td>3.8.8 (default, Apr 13 2021, 19:58:26) \n",
       "[GCC 7.3.0]</td></tr><tr><td>OS</td><td>Linux</td></tr><tr><td>CPUs</td><td>12</td></tr><tr><td>Memory (Gb)</td><td>31.36279296875</td></tr><tr><td colspan='2'>Fri Jun 04 08:15:04 2021 CEST</td></tr></table>"
      ],
      "text/plain": [
       "<IPython.core.display.HTML object>"
      ]
     },
     "metadata": {},
     "output_type": "display_data"
    }
   ],
   "source": [
    "import qiskit.tools.jupyter\n",
    "%qiskit_version_table"
   ]
  }
 ],
 "metadata": {
  "kernelspec": {
   "display_name": "Python 3",
   "language": "python",
   "name": "python3"
  },
  "language_info": {
   "codemirror_mode": {
    "name": "ipython",
    "version": 3
   },
   "file_extension": ".py",
   "mimetype": "text/x-python",
   "name": "python",
   "nbconvert_exporter": "python",
   "pygments_lexer": "ipython3",
   "version": "3.7.7"
  }
 },
 "nbformat": 4,
 "nbformat_minor": 4
}
