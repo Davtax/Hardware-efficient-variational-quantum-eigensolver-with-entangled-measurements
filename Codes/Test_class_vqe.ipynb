{
 "cells": [
  {
   "cell_type": "code",
   "execution_count": 1,
   "metadata": {
    "execution": {
     "iopub.execute_input": "2021-06-01T21:12:21.083395Z",
     "iopub.status.busy": "2021-06-01T21:12:21.083395Z",
     "iopub.status.idle": "2021-06-01T21:12:24.486162Z",
     "shell.execute_reply": "2021-06-01T21:12:24.485181Z",
     "shell.execute_reply.started": "2021-06-01T21:12:21.083395Z"
    }
   },
   "outputs": [],
   "source": [
    "import numpy as np\n",
    "import matplotlib.pyplot as plt\n",
    "from VQE import VQE\n",
    "from GroupingAlgorithm import *\n",
    "from utils import *\n",
    "# Importing standard Qiskit libraries\n",
    "from qiskit import IBMQ, QuantumCircuit\n",
    "from qiskit.providers.aer import AerSimulator\n",
    "from qiskit.circuit.library import EfficientSU2\n",
    "from qiskit.utils.quantum_instance import QuantumInstance\n",
    "from qiskit.algorithms import NumPyMinimumEigensolver\n",
    "from qiskit.ignis.mitigation.measurement import CompleteMeasFitter\n",
    "from qiskit.algorithms.optimizers import SPSA\n",
    "from IPython.display import display, clear_output"
   ]
  },
  {
   "cell_type": "code",
   "execution_count": 2,
   "metadata": {
    "execution": {
     "iopub.execute_input": "2021-06-01T21:12:24.487160Z",
     "iopub.status.busy": "2021-06-01T21:12:24.487160Z",
     "iopub.status.idle": "2021-06-01T21:12:35.787198Z",
     "shell.execute_reply": "2021-06-01T21:12:35.786256Z",
     "shell.execute_reply.started": "2021-06-01T21:12:24.487160Z"
    }
   },
   "outputs": [],
   "source": [
    "IBMQ.load_account()\n",
    "provider      = IBMQ.get_provider(hub='ibm-q-csic', group='internal', project='iff-csic') \n",
    "backend_paris = provider.get_backend('ibmq_paris')\n",
    "WC_paris      = get_backend_conectivity(backend_paris)\n",
    "backend_sim   = AerSimulator(method=\"statevector\") # Backend for simulation\n",
    "backend_noise = AerSimulator.from_backend(backend_paris)\n",
    "NUM_SHOTS = 2**13  # Number of shots for each circuit"
   ]
  },
  {
   "cell_type": "code",
   "execution_count": 3,
   "metadata": {
    "execution": {
     "iopub.execute_input": "2021-06-01T21:12:35.788228Z",
     "iopub.status.busy": "2021-06-01T21:12:35.788228Z",
     "iopub.status.idle": "2021-06-01T21:12:49.540046Z",
     "shell.execute_reply": "2021-06-01T21:12:49.540046Z",
     "shell.execute_reply.started": "2021-06-01T21:12:35.788228Z"
    }
   },
   "outputs": [],
   "source": [
    "qubit_op, init_state = LiH(initial_state=True)\n",
    "num_qubits = qubit_op.num_qubits"
   ]
  },
  {
   "cell_type": "code",
   "execution_count": 4,
   "metadata": {
    "execution": {
     "iopub.execute_input": "2021-06-01T21:12:49.542037Z",
     "iopub.status.busy": "2021-06-01T21:12:49.542037Z",
     "iopub.status.idle": "2021-06-01T21:13:16.193065Z",
     "shell.execute_reply": "2021-06-01T21:13:16.193065Z",
     "shell.execute_reply.started": "2021-06-01T21:12:49.542037Z"
    }
   },
   "outputs": [],
   "source": [
    "qubit_op = BeH2(initial_state=False)\n",
    "num_qubits = qubit_op.num_qubits"
   ]
  },
  {
   "cell_type": "code",
   "execution_count": 5,
   "metadata": {
    "execution": {
     "iopub.execute_input": "2021-06-01T21:13:16.195057Z",
     "iopub.status.busy": "2021-06-01T21:13:16.194059Z",
     "iopub.status.idle": "2021-06-01T21:13:16.204033Z",
     "shell.execute_reply": "2021-06-01T21:13:16.203050Z",
     "shell.execute_reply.started": "2021-06-01T21:13:16.194059Z"
    }
   },
   "outputs": [
    {
     "data": {
      "text/plain": [
       "7"
      ]
     },
     "execution_count": 5,
     "metadata": {},
     "output_type": "execute_result"
    }
   ],
   "source": [
    "num_qubits"
   ]
  },
  {
   "cell_type": "code",
   "execution_count": 6,
   "metadata": {
    "execution": {
     "iopub.execute_input": "2021-06-01T21:13:16.206028Z",
     "iopub.status.busy": "2021-06-01T21:13:16.205031Z",
     "iopub.status.idle": "2021-06-01T21:13:16.284823Z",
     "shell.execute_reply": "2021-06-01T21:13:16.281837Z",
     "shell.execute_reply.started": "2021-06-01T21:13:16.206028Z"
    }
   },
   "outputs": [
    {
     "name": "stdout",
     "output_type": "stream",
     "text": [
      "Z2 symmetries:\n",
      "Symmetries:\n",
      "Single-Qubit Pauli X:\n",
      "Cliffords:\n",
      "Qubit index:\n",
      "[]\n",
      "Tapering values:\n",
      "  - Possible values: []\n"
     ]
    }
   ],
   "source": [
    "from qiskit.opflow.primitive_ops import Z2Symmetries\n",
    "f = Z2Symmetries.find_Z2_symmetries( qubit_op )\n",
    "print(f)"
   ]
  },
  {
   "cell_type": "code",
   "execution_count": 6,
   "metadata": {
    "execution": {
     "iopub.execute_input": "2021-06-01T19:33:09.420190Z",
     "iopub.status.busy": "2021-06-01T19:33:09.419192Z",
     "iopub.status.idle": "2021-06-01T19:33:09.431161Z",
     "shell.execute_reply": "2021-06-01T19:33:09.430173Z",
     "shell.execute_reply.started": "2021-06-01T19:33:09.420190Z"
    }
   },
   "outputs": [
    {
     "name": "stdout",
     "output_type": "stream",
     "text": [
      "SummedOp([\n",
      "  XY,\n",
      "  IY,\n",
      "  YY,\n",
      "  XI,\n",
      "  YZ,\n",
      "  YY\n",
      "])\n"
     ]
    }
   ],
   "source": [
    "num_qubits = 2\n",
    "qubit_op = RandomHamiltonian( num_qubits, 6 )\n",
    "init_state = QuantumCircuit(num_qubits)\n",
    "print( qubit_op )"
   ]
  },
  {
   "cell_type": "code",
   "execution_count": 7,
   "metadata": {
    "execution": {
     "iopub.execute_input": "2021-06-01T19:33:09.433156Z",
     "iopub.status.busy": "2021-06-01T19:33:09.433156Z",
     "iopub.status.idle": "2021-06-01T19:33:09.453103Z",
     "shell.execute_reply": "2021-06-01T19:33:09.453103Z",
     "shell.execute_reply.started": "2021-06-01T19:33:09.433156Z"
    }
   },
   "outputs": [
    {
     "data": {
      "text/plain": [
       "(-3.236067977499788+9.932513327892889e-17j)"
      ]
     },
     "execution_count": 7,
     "metadata": {},
     "output_type": "execute_result"
    }
   ],
   "source": [
    "result_exact = NumPyMinimumEigensolver().compute_minimum_eigenvalue(qubit_op)\n",
    "result_exact.eigenvalue "
   ]
  },
  {
   "cell_type": "code",
   "execution_count": 8,
   "metadata": {
    "execution": {
     "iopub.execute_input": "2021-06-01T19:33:09.455098Z",
     "iopub.status.busy": "2021-06-01T19:33:09.454100Z",
     "iopub.status.idle": "2021-06-01T19:33:09.922381Z",
     "shell.execute_reply": "2021-06-01T19:33:09.921384Z",
     "shell.execute_reply.started": "2021-06-01T19:33:09.455098Z"
    }
   },
   "outputs": [
    {
     "data": {
      "image/png": "[encoded data removed]",
      "text/plain": [
       "<Figure size 387.452x144.48 with 1 Axes>"
      ]
     },
     "execution_count": 8,
     "metadata": {},
     "output_type": "execute_result"
    }
   ],
   "source": [
    "entangled_layer = []\n",
    "for qbs in WC_paris :\n",
    "    if qbs[0]<qbs[1] and qbs[1]<num_qubits :\n",
    "        entangled_layer.append(qbs)\n",
    "\n",
    "ansatz = init_state.compose( EfficientSU2(num_qubits,['ry','rz'], entanglement=entangled_layer, reps=1 ) )\n",
    "ansatz.draw(output='mpl')"
   ]
  },
  {
   "cell_type": "code",
   "execution_count": 9,
   "metadata": {
    "execution": {
     "iopub.execute_input": "2021-06-01T19:33:09.924376Z",
     "iopub.status.busy": "2021-06-01T19:33:09.924376Z",
     "iopub.status.idle": "2021-06-01T19:33:09.929363Z",
     "shell.execute_reply": "2021-06-01T19:33:09.929363Z",
     "shell.execute_reply.started": "2021-06-01T19:33:09.924376Z"
    }
   },
   "outputs": [],
   "source": [
    "def callback( evals, params ):  \n",
    "    display(\"{}, {}\".format(len(evaluations),evals))\n",
    "    clear_output(wait=True)\n",
    "    parameters.append(params)\n",
    "    evaluations.append(evals)\n",
    "\n",
    "parameters  = []\n",
    "evaluations = []"
   ]
  },
  {
   "cell_type": "code",
   "execution_count": 10,
   "metadata": {
    "execution": {
     "iopub.execute_input": "2021-06-01T19:33:09.932355Z",
     "iopub.status.busy": "2021-06-01T19:33:09.931358Z",
     "iopub.status.idle": "2021-06-01T19:33:09.936345Z",
     "shell.execute_reply": "2021-06-01T19:33:09.936345Z",
     "shell.execute_reply.started": "2021-06-01T19:33:09.932355Z"
    }
   },
   "outputs": [],
   "source": [
    "optimizer = SPSA( maxiter=100, last_avg=1 )"
   ]
  },
  {
   "cell_type": "code",
   "execution_count": 11,
   "metadata": {
    "execution": {
     "iopub.execute_input": "2021-06-01T19:33:09.938339Z",
     "iopub.status.busy": "2021-06-01T19:33:09.937342Z",
     "iopub.status.idle": "2021-06-01T19:33:09.945321Z",
     "shell.execute_reply": "2021-06-01T19:33:09.944324Z",
     "shell.execute_reply.started": "2021-06-01T19:33:09.938339Z"
    }
   },
   "outputs": [],
   "source": [
    "num_var = ansatz.num_parameters\n",
    "pars = [0.01] * num_var"
   ]
  },
  {
   "cell_type": "code",
   "execution_count": 12,
   "metadata": {
    "execution": {
     "iopub.execute_input": "2021-06-01T19:33:09.947315Z",
     "iopub.status.busy": "2021-06-01T19:33:09.946318Z",
     "iopub.status.idle": "2021-06-01T19:33:09.954298Z",
     "shell.execute_reply": "2021-06-01T19:33:09.954298Z",
     "shell.execute_reply.started": "2021-06-01T19:33:09.947315Z"
    }
   },
   "outputs": [
    {
     "data": {
      "text/plain": [
       "(-3.236067977499788+9.932513327892889e-17j)"
      ]
     },
     "execution_count": 12,
     "metadata": {},
     "output_type": "execute_result"
    }
   ],
   "source": [
    "result_exact.eigenvalue "
   ]
  },
  {
   "cell_type": "code",
   "execution_count": 13,
   "metadata": {
    "execution": {
     "iopub.execute_input": "2021-06-01T19:33:09.956292Z",
     "iopub.status.busy": "2021-06-01T19:33:09.955295Z",
     "iopub.status.idle": "2021-06-01T19:33:22.559369Z",
     "shell.execute_reply": "2021-06-01T19:33:22.558389Z",
     "shell.execute_reply.started": "2021-06-01T19:33:09.956292Z"
    }
   },
   "outputs": [
    {
     "name": "stdout",
     "output_type": "stream",
     "text": [
      "-3.208984375\n"
     ]
    }
   ],
   "source": [
    "solver = VQE( ansatz, optimizer, pars, grouping = 'Entangled' )\n",
    "results = solver.compute_minimum_eigenvalue(qubit_op)\n",
    "print( results.eigenvalue )"
   ]
  },
  {
   "cell_type": "code",
   "execution_count": 14,
   "metadata": {
    "execution": {
     "iopub.execute_input": "2021-06-01T19:33:22.561364Z",
     "iopub.status.busy": "2021-06-01T19:33:22.560367Z",
     "iopub.status.idle": "2021-06-01T19:33:33.140949Z",
     "shell.execute_reply": "2021-06-01T19:33:33.139935Z",
     "shell.execute_reply.started": "2021-06-01T19:33:22.561364Z"
    }
   },
   "outputs": [
    {
     "name": "stdout",
     "output_type": "stream",
     "text": [
      "-2.61328125\n"
     ]
    }
   ],
   "source": [
    "solver = VQE( ansatz, optimizer, pars, grouping = 'TPB' )\n",
    "results = solver.compute_minimum_eigenvalue(qubit_op)\n",
    "print( results.eigenvalue )"
   ]
  },
  {
   "cell_type": "code",
   "execution_count": 15,
   "metadata": {
    "execution": {
     "iopub.execute_input": "2021-06-01T19:33:33.141931Z",
     "iopub.status.busy": "2021-06-01T19:33:33.141931Z",
     "iopub.status.idle": "2021-06-01T19:33:44.385582Z",
     "shell.execute_reply": "2021-06-01T19:33:44.384585Z",
     "shell.execute_reply.started": "2021-06-01T19:33:33.141931Z"
    }
   },
   "outputs": [
    {
     "name": "stdout",
     "output_type": "stream",
     "text": [
      "-2.9140625\n"
     ]
    }
   ],
   "source": [
    "solver = VQE( ansatz, optimizer, pars, grouping = 'Entangled', conectivity = WC_paris )\n",
    "results = solver.compute_minimum_eigenvalue(qubit_op)\n",
    "print( results.eigenvalue )"
   ]
  },
  {
   "cell_type": "code",
   "execution_count": 16,
   "metadata": {
    "execution": {
     "iopub.execute_input": "2021-06-01T19:33:44.386580Z",
     "iopub.status.busy": "2021-06-01T19:33:44.386580Z",
     "iopub.status.idle": "2021-06-01T19:33:57.387749Z",
     "shell.execute_reply": "2021-06-01T19:33:57.386750Z",
     "shell.execute_reply.started": "2021-06-01T19:33:44.386580Z"
    }
   },
   "outputs": [
    {
     "name": "stdout",
     "output_type": "stream",
     "text": [
      "-2.7734375\n"
     ]
    }
   ],
   "source": [
    "parameters  = []\n",
    "evaluations = []\n",
    "solver = VQE( ansatz, optimizer, pars, grouping = 'Entangled', callback=callback )\n",
    "results = solver.compute_minimum_eigenvalue(qubit_op)\n",
    "print( results.eigenvalue )"
   ]
  },
  {
   "cell_type": "code",
   "execution_count": 17,
   "metadata": {
    "execution": {
     "iopub.execute_input": "2021-06-01T19:33:57.388746Z",
     "iopub.status.busy": "2021-06-01T19:33:57.388746Z",
     "iopub.status.idle": "2021-06-01T19:33:57.393731Z",
     "shell.execute_reply": "2021-06-01T19:33:57.392738Z",
     "shell.execute_reply.started": "2021-06-01T19:33:57.388746Z"
    }
   },
   "outputs": [],
   "source": [
    "# parameters  = []\n",
    "# evaluations = []\n",
    "# optimizer   = SPSA( maxiter=50, last_avg=1 )\n",
    "# solver = VQE( ansatz, optimizer, pars, grouping = 'Entangled', callback=callback, quantum_instance=backend_noise )\n",
    "# results = solver.compute_minimum_eigenvalue(qubit_op)\n",
    "# print( results.eigenvalue )"
   ]
  },
  {
   "cell_type": "code",
   "execution_count": 18,
   "metadata": {
    "execution": {
     "iopub.execute_input": "2021-06-01T19:33:57.395726Z",
     "iopub.status.busy": "2021-06-01T19:33:57.395726Z",
     "iopub.status.idle": "2021-06-01T19:33:57.405700Z",
     "shell.execute_reply": "2021-06-01T19:33:57.402708Z",
     "shell.execute_reply.started": "2021-06-01T19:33:57.395726Z"
    }
   },
   "outputs": [],
   "source": [
    "# plt.plot( evaluations )"
   ]
  },
  {
   "cell_type": "code",
   "execution_count": 19,
   "metadata": {
    "execution": {
     "iopub.execute_input": "2021-06-01T19:33:57.407698Z",
     "iopub.status.busy": "2021-06-01T19:33:57.406698Z",
     "iopub.status.idle": "2021-06-01T19:34:13.954377Z",
     "shell.execute_reply": "2021-06-01T19:34:13.953379Z",
     "shell.execute_reply.started": "2021-06-01T19:33:57.407698Z"
    }
   },
   "outputs": [
    {
     "name": "stdout",
     "output_type": "stream",
     "text": [
      "-2.312744140625\n"
     ]
    }
   ],
   "source": [
    "qi = QuantumInstance( backend_sim, shots = NUM_SHOTS )\n",
    "parameters  = []\n",
    "evaluations = []\n",
    "optimizer   = SPSA( maxiter=50, last_avg=1 )\n",
    "solver = VQE( ansatz, optimizer, pars, grouping = 'Entangled', quantum_instance=qi )\n",
    "results = solver.compute_minimum_eigenvalue(qubit_op)\n",
    "print( results.eigenvalue )"
   ]
  },
  {
   "cell_type": "code",
   "execution_count": 36,
   "metadata": {
    "execution": {
     "iopub.execute_input": "2021-06-01T20:43:55.621336Z",
     "iopub.status.busy": "2021-06-01T20:43:55.619876Z",
     "iopub.status.idle": "2021-06-01T20:43:55.630847Z",
     "shell.execute_reply": "2021-06-01T20:43:55.629849Z",
     "shell.execute_reply.started": "2021-06-01T20:43:55.621336Z"
    }
   },
   "outputs": [
    {
     "name": "stdout",
     "output_type": "stream",
     "text": [
      "OrderedDict([   ('aux_operator_eigenvalues', None),\n",
      "                ('cost_function_evals', 100),\n",
      "                (   'eigenstate',\n",
      "                    {   '00': 0.2962575816540397,\n",
      "                        '01': 0.5924121440665274,\n",
      "                        '10': 0.739097184704082,\n",
      "                        '11': 0.12253427454186033}),\n",
      "                ('eigenvalue', -2.312744140625),\n",
      "                (   'optimal_parameters',\n",
      "                    {   ParameterVectorElement(θ[4]): 2.6446918008745772,\n",
      "                        ParameterVectorElement(θ[5]): 0.09846894730926968,\n",
      "                        ParameterVectorElement(θ[3]): -0.3318285134412358,\n",
      "                        ParameterVectorElement(θ[2]): -0.10047417966520635,\n",
      "                        ParameterVectorElement(θ[1]): -0.3052918833340054,\n",
      "                        ParameterVectorElement(θ[0]): 1.7450594827938664,\n",
      "                        ParameterVectorElement(θ[6]): 0.47874443743592804,\n",
      "                        ParameterVectorElement(θ[7]): 0.3454114926372253}),\n",
      "                (   'optimal_point',\n",
      "                    array([ 1.74505948, -0.30529188, -0.10047418, -0.33182851,  2.6446918 ,\n",
      "        0.09846895,  0.47874444,  0.34541149])),\n",
      "                ('optimal_value', -2.312744140625),\n",
      "                ('optimizer_evals', 100),\n",
      "                ('optimizer_time', 16.482847690582275)])\n"
     ]
    }
   ],
   "source": [
    "print(results)"
   ]
  },
  {
   "cell_type": "code",
   "execution_count": null,
   "metadata": {},
   "outputs": [],
   "source": []
  },
  {
   "cell_type": "code",
   "execution_count": 20,
   "metadata": {
    "execution": {
     "iopub.execute_input": "2021-06-01T19:34:13.955374Z",
     "iopub.status.busy": "2021-06-01T19:34:13.955374Z",
     "iopub.status.idle": "2021-06-01T19:34:13.963354Z",
     "shell.execute_reply": "2021-06-01T19:34:13.962363Z",
     "shell.execute_reply.started": "2021-06-01T19:34:13.955374Z"
    }
   },
   "outputs": [
    {
     "data": {
      "text/plain": [
       "<qiskit.circuit.quantumcircuit.QuantumCircuit at 0x1ab317d1bc8>"
      ]
     },
     "execution_count": 20,
     "metadata": {},
     "output_type": "execute_result"
    }
   ],
   "source": [
    "solver.ansatz"
   ]
  },
  {
   "cell_type": "code",
   "execution_count": 21,
   "metadata": {
    "execution": {
     "iopub.execute_input": "2021-06-01T19:34:13.964351Z",
     "iopub.status.busy": "2021-06-01T19:34:13.964351Z",
     "iopub.status.idle": "2021-06-01T19:34:13.979312Z",
     "shell.execute_reply": "2021-06-01T19:34:13.978314Z",
     "shell.execute_reply.started": "2021-06-01T19:34:13.964351Z"
    }
   },
   "outputs": [
    {
     "data": {
      "text/plain": [
       "<bound method VariationalAlgorithm.cleanup_parameterized_circuits of <VQE.VQE object at 0x000001AB333FD708>>"
      ]
     },
     "execution_count": 21,
     "metadata": {},
     "output_type": "execute_result"
    }
   ],
   "source": [
    "solver.cleanup_parameterized_circuits"
   ]
  },
  {
   "cell_type": "code",
   "execution_count": 35,
   "metadata": {
    "execution": {
     "iopub.execute_input": "2021-06-01T19:35:43.433620Z",
     "iopub.status.busy": "2021-06-01T19:35:43.432596Z",
     "iopub.status.idle": "2021-06-01T19:35:43.450548Z",
     "shell.execute_reply": "2021-06-01T19:35:43.449551Z",
     "shell.execute_reply.started": "2021-06-01T19:35:43.432596Z"
    }
   },
   "outputs": [
    {
     "data": {
      "text/html": [
       "<pre style=\"word-wrap: normal;white-space: pre;background: #fff0;line-height: 1.1;font-family: &quot;Courier New&quot;,Courier,monospace\">          ┌──────────┐┌──────────┐     ┌──────────┐┌──────────┐       ┌─┐     »\n",
       "q24180_0: ┤ RY(θ[0]) ├┤ RZ(θ[2]) ├──■──┤ RY(θ[4]) ├┤ RZ(θ[6]) ├───────┤M├─────»\n",
       "          ├──────────┤├──────────┤┌─┴─┐├──────────┤├──────────┤┌─────┐└╥┘┌───┐»\n",
       "q24180_1: ┤ RY(θ[1]) ├┤ RZ(θ[3]) ├┤ X ├┤ RY(θ[5]) ├┤ RZ(θ[7]) ├┤ SDG ├─╫─┤ H ├»\n",
       "          └──────────┘└──────────┘└───┘└──────────┘└──────────┘└─────┘ ║ └───┘»\n",
       "   c36: 1/═════════════════════════════════════════════════════════════╬══════»\n",
       "                                                                       ║      »\n",
       "   c37: 1/═════════════════════════════════════════════════════════════╩══════»\n",
       "                                                                       0      »\n",
       "«             \n",
       "«q24180_0: ───\n",
       "«          ┌─┐\n",
       "«q24180_1: ┤M├\n",
       "«          └╥┘\n",
       "«   c36: 1/═╩═\n",
       "«           0 \n",
       "«   c37: 1/═══\n",
       "«             </pre>"
      ],
      "text/plain": [
       "          ┌──────────┐┌──────────┐     ┌──────────┐┌──────────┐       ┌─┐     »\n",
       "q24180_0: ┤ RY(θ[0]) ├┤ RZ(θ[2]) ├──■──┤ RY(θ[4]) ├┤ RZ(θ[6]) ├───────┤M├─────»\n",
       "          ├──────────┤├──────────┤┌─┴─┐├──────────┤├──────────┤┌─────┐└╥┘┌───┐»\n",
       "q24180_1: ┤ RY(θ[1]) ├┤ RZ(θ[3]) ├┤ X ├┤ RY(θ[5]) ├┤ RZ(θ[7]) ├┤ SDG ├─╫─┤ H ├»\n",
       "          └──────────┘└──────────┘└───┘└──────────┘└──────────┘└─────┘ ║ └───┘»\n",
       "   c36: 1/═════════════════════════════════════════════════════════════╬══════»\n",
       "                                                                       ║      »\n",
       "   c37: 1/═════════════════════════════════════════════════════════════╩══════»\n",
       "                                                                       0      »\n",
       "«             \n",
       "«q24180_0: ───\n",
       "«          ┌─┐\n",
       "«q24180_1: ┤M├\n",
       "«          └╥┘\n",
       "«   c36: 1/═╩═\n",
       "«           0 \n",
       "«   c37: 1/═══\n",
       "«             "
      ]
     },
     "execution_count": 35,
     "metadata": {},
     "output_type": "execute_result"
    }
   ],
   "source": [
    "solver.construct_expectation( pars, qubit_op )[0].draw()"
   ]
  },
  {
   "cell_type": "code",
   "execution_count": 23,
   "metadata": {
    "execution": {
     "iopub.execute_input": "2021-06-01T19:34:13.994272Z",
     "iopub.status.busy": "2021-06-01T19:34:13.993275Z",
     "iopub.status.idle": "2021-06-01T19:34:14.298472Z",
     "shell.execute_reply": "2021-06-01T19:34:14.298472Z",
     "shell.execute_reply.started": "2021-06-01T19:34:13.994272Z"
    }
   },
   "outputs": [
    {
     "data": {
      "image/png": "[encoded data removed]",
      "text/plain": [
       "<Figure size 869.052x144.48 with 1 Axes>"
      ]
     },
     "execution_count": 23,
     "metadata": {},
     "output_type": "execute_result"
    }
   ],
   "source": [
    "solver.get_optimal_circuit().draw(output='mpl')"
   ]
  },
  {
   "cell_type": "code",
   "execution_count": 24,
   "metadata": {
    "execution": {
     "iopub.execute_input": "2021-06-01T19:34:14.300468Z",
     "iopub.status.busy": "2021-06-01T19:34:14.299470Z",
     "iopub.status.idle": "2021-06-01T19:34:14.307450Z",
     "shell.execute_reply": "2021-06-01T19:34:14.306452Z",
     "shell.execute_reply.started": "2021-06-01T19:34:14.300468Z"
    }
   },
   "outputs": [
    {
     "data": {
      "text/plain": [
       "-2.312744140625"
      ]
     },
     "execution_count": 24,
     "metadata": {},
     "output_type": "execute_result"
    }
   ],
   "source": [
    "solver.get_optimal_cost()"
   ]
  },
  {
   "cell_type": "code",
   "execution_count": 25,
   "metadata": {
    "execution": {
     "iopub.execute_input": "2021-06-01T19:34:14.308447Z",
     "iopub.status.busy": "2021-06-01T19:34:14.308447Z",
     "iopub.status.idle": "2021-06-01T19:34:14.356323Z",
     "shell.execute_reply": "2021-06-01T19:34:14.356323Z",
     "shell.execute_reply.started": "2021-06-01T19:34:14.308447Z"
    }
   },
   "outputs": [
    {
     "data": {
      "text/plain": [
       "{'01': 0.5808634467325345,\n",
       " '10': 0.7454287776172852,\n",
       " '11': 0.1283724744152733,\n",
       " '00': 0.30075588367062744}"
      ]
     },
     "execution_count": 25,
     "metadata": {},
     "output_type": "execute_result"
    }
   ],
   "source": [
    "solver.get_optimal_vector()"
   ]
  },
  {
   "cell_type": "code",
   "execution_count": 26,
   "metadata": {
    "execution": {
     "iopub.execute_input": "2021-06-01T19:34:14.358315Z",
     "iopub.status.busy": "2021-06-01T19:34:14.357318Z",
     "iopub.status.idle": "2021-06-01T19:34:14.365298Z",
     "shell.execute_reply": "2021-06-01T19:34:14.364304Z",
     "shell.execute_reply.started": "2021-06-01T19:34:14.358315Z"
    }
   },
   "outputs": [],
   "source": [
    "# solver.get_prob_vector_for_params()"
   ]
  },
  {
   "cell_type": "code",
   "execution_count": 27,
   "metadata": {
    "execution": {
     "iopub.execute_input": "2021-06-01T19:34:14.368290Z",
     "iopub.status.busy": "2021-06-01T19:34:14.368290Z",
     "iopub.status.idle": "2021-06-01T19:34:14.375271Z",
     "shell.execute_reply": "2021-06-01T19:34:14.373277Z",
     "shell.execute_reply.started": "2021-06-01T19:34:14.368290Z"
    }
   },
   "outputs": [],
   "source": [
    "# solver.get_probabilities_for_counts()"
   ]
  },
  {
   "cell_type": "code",
   "execution_count": 28,
   "metadata": {
    "execution": {
     "iopub.execute_input": "2021-06-01T19:34:14.377266Z",
     "iopub.status.busy": "2021-06-01T19:34:14.377266Z",
     "iopub.status.idle": "2021-06-01T19:34:14.385245Z",
     "shell.execute_reply": "2021-06-01T19:34:14.384247Z",
     "shell.execute_reply.started": "2021-06-01T19:34:14.377266Z"
    }
   },
   "outputs": [
    {
     "data": {
      "text/plain": [
       "[0.01, 0.01, 0.01, 0.01, 0.01, 0.01, 0.01, 0.01]"
      ]
     },
     "execution_count": 28,
     "metadata": {},
     "output_type": "execute_result"
    }
   ],
   "source": [
    "solver.initial_point"
   ]
  },
  {
   "cell_type": "code",
   "execution_count": 29,
   "metadata": {
    "execution": {
     "iopub.execute_input": "2021-06-01T19:34:14.386243Z",
     "iopub.status.busy": "2021-06-01T19:34:14.386243Z",
     "iopub.status.idle": "2021-06-01T19:34:14.393224Z",
     "shell.execute_reply": "2021-06-01T19:34:14.392226Z",
     "shell.execute_reply.started": "2021-06-01T19:34:14.386243Z"
    }
   },
   "outputs": [
    {
     "data": {
      "text/plain": [
       "array([ 1.74505948, -0.30529188, -0.10047418, -0.33182851,  2.6446918 ,\n",
       "        0.09846895,  0.47874444,  0.34541149])"
      ]
     },
     "execution_count": 29,
     "metadata": {},
     "output_type": "execute_result"
    }
   ],
   "source": [
    "solver.optimal_params"
   ]
  },
  {
   "cell_type": "code",
   "execution_count": 30,
   "metadata": {
    "execution": {
     "iopub.execute_input": "2021-06-01T19:34:14.394221Z",
     "iopub.status.busy": "2021-06-01T19:34:14.394221Z",
     "iopub.status.idle": "2021-06-01T19:34:14.400205Z",
     "shell.execute_reply": "2021-06-01T19:34:14.400205Z",
     "shell.execute_reply.started": "2021-06-01T19:34:14.394221Z"
    }
   },
   "outputs": [
    {
     "data": {
      "text/plain": [
       "<qiskit.algorithms.optimizers.spsa.SPSA at 0x1ab333fd388>"
      ]
     },
     "execution_count": 30,
     "metadata": {},
     "output_type": "execute_result"
    }
   ],
   "source": [
    "solver.optimizer"
   ]
  },
  {
   "cell_type": "code",
   "execution_count": 31,
   "metadata": {
    "execution": {
     "iopub.execute_input": "2021-06-01T19:34:14.402200Z",
     "iopub.status.busy": "2021-06-01T19:34:14.401203Z",
     "iopub.status.idle": "2021-06-01T19:34:14.407187Z",
     "shell.execute_reply": "2021-06-01T19:34:14.407187Z",
     "shell.execute_reply.started": "2021-06-01T19:34:14.402200Z"
    }
   },
   "outputs": [
    {
     "data": {
      "text/plain": [
       "<qiskit.utils.quantum_instance.QuantumInstance at 0x1ab333fd648>"
      ]
     },
     "execution_count": 31,
     "metadata": {},
     "output_type": "execute_result"
    }
   ],
   "source": [
    "solver.quantum_instance"
   ]
  },
  {
   "cell_type": "code",
   "execution_count": 32,
   "metadata": {
    "execution": {
     "iopub.execute_input": "2021-06-01T19:34:14.409182Z",
     "iopub.status.busy": "2021-06-01T19:34:14.408185Z",
     "iopub.status.idle": "2021-06-01T19:34:14.415166Z",
     "shell.execute_reply": "2021-06-01T19:34:14.414169Z",
     "shell.execute_reply.started": "2021-06-01T19:34:14.409182Z"
    }
   },
   "outputs": [
    {
     "data": {
      "text/plain": [
       "False"
      ]
     },
     "execution_count": 32,
     "metadata": {},
     "output_type": "execute_result"
    }
   ],
   "source": [
    "solver.supports_aux_operators()"
   ]
  },
  {
   "cell_type": "code",
   "execution_count": 33,
   "metadata": {
    "execution": {
     "iopub.execute_input": "2021-06-01T19:34:14.416164Z",
     "iopub.status.busy": "2021-06-01T19:34:14.415166Z",
     "iopub.status.idle": "2021-06-01T19:34:14.426137Z",
     "shell.execute_reply": "2021-06-01T19:34:14.426137Z",
     "shell.execute_reply.started": "2021-06-01T19:34:14.416164Z"
    }
   },
   "outputs": [
    {
     "name": "stdout",
     "output_type": "stream",
     "text": [
      "\n",
      "==================== Setting of VQE ============================\n",
      "Algorithm: VQE\n",
      "-- ansatz_params: [ParameterVectorElement(θ[0]), ParameterVectorElement(θ[1]), ParameterVectorElement(θ[2]), ParameterVectorElement(θ[3]), ParameterVectorElement(θ[4]), ParameterVectorElement(θ[5]), ParameterVectorElement(θ[6]), ParameterVectorElement(θ[7])]\n",
      "-- ansatz:      ┌──────────┐┌──────────┐     ┌──────────┐┌──────────┐\n",
      "q_0: ┤ RY(θ[0]) ├┤ RZ(θ[2]) ├──■──┤ RY(θ[4]) ├┤ RZ(θ[6]) ├\n",
      "     ├──────────┤├──────────┤┌─┴─┐├──────────┤├──────────┤\n",
      "q_1: ┤ RY(θ[1]) ├┤ RZ(θ[3]) ├┤ X ├┤ RY(θ[5]) ├┤ RZ(θ[7]) ├\n",
      "     └──────────┘└──────────┘└───┘└──────────┘└──────────┘\n",
      "-- quantum_instance: \n",
      "Qiskit Terra version: 0.17.0\n",
      "Backend: 'aer_simulator_statevector (None)', with following setting:\n",
      "{'basis_gates': ['ccx', 'cp', 'cswap', 'csx', 'cu1', 'cu2', 'cu3', 'cx', 'cy', 'cz', 'delay', 'diagonal', 'h', 'id', 'initialize', 'mcphase', 'mcr', 'mcrx', 'mcry', 'mcrz', 'mcswap', 'mcsx', 'mcu1', 'mcu2', 'mcu3', 'mcx', 'mcx_gray', 'mcy', 'mcz', 'multiplexer', 'p', 'pauli', 'r', 'rx', 'rxx', 'ry', 'ryy', 'rz', 'rzx', 'rzz', 's', 'sdg', 'swap', 'sx', 't', 'tdg', 'u', 'u1', 'u2', 'u3', 'unitary', 'x', 'y', 'z', 'kraus', 'roerror', 'save_amplitudes', 'save_amplitudes_sq', 'save_density_matrix', 'save_expval', 'save_expval_var', 'save_probabilities', 'save_probabilities_dict', 'save_state', 'save_statevector', 'save_statevector_dict', 'set_statevector', 'snapshot'], 'coupling_map': None}\n",
      "{'initial_layout': None, 'seed_transpiler': None, 'optimization_level': None}\n",
      "RunConfig(max_credits=10, shots=8192)\n",
      "{'timeout': None}\n",
      "{}\n",
      "{}\n",
      "Measurement mitigation: None\n",
      "-- optimizer: <qiskit.algorithms.optimizers.spsa.SPSA object at 0x000001AB333FD388>\n",
      "-- gradient: None\n",
      "-- cost_fn: <bound method VQE._energy_evaluation of <VQE.VQE object at 0x000001AB333FD708>>\n",
      "-- initial_point: [0.01, 0.01, 0.01, 0.01, 0.01, 0.01, 0.01, 0.01]\n",
      "-- parameterized_circuits: None\n",
      "-- order: [4, 3, 2, 1]\n",
      "-- conectiviy: [(0, 1), (1, 0)]\n",
      "-- grouping: Entangled\n",
      "-- eval_count: 100\n",
      "-- callback: None\n",
      "-- expect_op: [<qiskit.circuit.quantumcircuit.QuantumCircuit object at 0x000001AB33404188>, <qiskit.circuit.quantumcircuit.QuantumCircuit object at 0x000001AB33404DC8>, <qiskit.circuit.quantumcircuit.QuantumCircuit object at 0x000001AB33400BC8>]\n",
      "-- coeff: [1, 1, 1, 1, 1, 1]\n",
      "-- label: ['XY', 'IY', 'YY', 'XI', 'YZ', 'YY']\n",
      "-- Groups: [[4], [0, 3, 1], [2, 5]]\n",
      "-- Measurements: [[[2, [0]], [3, [1]]], [[2, [1]], [1, [0]]], [[2, [0]], [2, [1]]]]\n",
      "-- prob2Exp: [array([[ 1., -1., -1.,  1.]]), array([[ 1., -1., -1.,  1.],\n",
      "       [ 1.,  1., -1., -1.],\n",
      "       [ 1., -1.,  1., -1.]]), array([[ 1., -1., -1.,  1.],\n",
      "       [ 1., -1., -1.,  1.]])]\n",
      "-- ret: OrderedDict([   ('aux_operator_eigenvalues', None),\n",
      "                ('cost_function_evals', 100),\n",
      "                (   'eigenstate',\n",
      "                    {   '00': 0.2962575816540397,\n",
      "                        '01': 0.5924121440665274,\n",
      "                        '10': 0.739097184704082,\n",
      "                        '11': 0.12253427454186033}),\n",
      "                ('eigenvalue', -2.312744140625),\n",
      "                (   'optimal_parameters',\n",
      "                    {   ParameterVectorElement(θ[4]): 2.6446918008745772,\n",
      "                        ParameterVectorElement(θ[5]): 0.09846894730926968,\n",
      "                        ParameterVectorElement(θ[3]): -0.3318285134412358,\n",
      "                        ParameterVectorElement(θ[2]): -0.10047417966520635,\n",
      "                        ParameterVectorElement(θ[1]): -0.3052918833340054,\n",
      "                        ParameterVectorElement(θ[0]): 1.7450594827938664,\n",
      "                        ParameterVectorElement(θ[6]): 0.47874443743592804,\n",
      "                        ParameterVectorElement(θ[7]): 0.3454114926372253}),\n",
      "                (   'optimal_point',\n",
      "                    array([ 1.74505948, -0.30529188, -0.10047418, -0.33182851,  2.6446918 ,\n",
      "        0.09846895,  0.47874444,  0.34541149])),\n",
      "                ('optimal_value', -2.312744140625),\n",
      "                ('optimizer_evals', 100),\n",
      "                ('optimizer_time', 16.482847690582275)])\n",
      "-- eval_time: 16.482847690582275\n",
      "===============================================================\n",
      "ansatz is a custom circuit===============================================================\n",
      "Optimizer: SPSA\n",
      "-- gradient_support_level: 1\n",
      "-- bounds_support_level: 1\n",
      "-- initial_point_support_level: 3\n",
      "-- options: {}\n",
      "-- max_evals_grouped: 1\n",
      "-- nfev: 100\n",
      "===============================================================\n",
      "\n"
     ]
    }
   ],
   "source": [
    "print( solver.print_settings() )"
   ]
  },
  {
   "cell_type": "code",
   "execution_count": null,
   "metadata": {},
   "outputs": [],
   "source": []
  },
  {
   "cell_type": "code",
   "execution_count": null,
   "metadata": {},
   "outputs": [],
   "source": []
  },
  {
   "cell_type": "code",
   "execution_count": null,
   "metadata": {},
   "outputs": [],
   "source": []
  }
 ],
 "metadata": {
  "kernelspec": {
   "display_name": "Python 3",
   "language": "python",
   "name": "python3"
  },
  "language_info": {
   "codemirror_mode": {
    "name": "ipython",
    "version": 3
   },
   "file_extension": ".py",
   "mimetype": "text/x-python",
   "name": "python",
   "nbconvert_exporter": "python",
   "pygments_lexer": "ipython3",
   "version": "3.7.7"
  }
 },
 "nbformat": 4,
 "nbformat_minor": 4
}
