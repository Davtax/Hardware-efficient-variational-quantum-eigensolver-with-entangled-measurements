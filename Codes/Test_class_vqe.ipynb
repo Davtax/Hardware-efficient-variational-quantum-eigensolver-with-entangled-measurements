{
 "cells": [
  {
   "cell_type": "code",
   "execution_count": 1,
   "metadata": {
    "execution": {
     "iopub.execute_input": "2021-06-01T15:30:52.839166Z",
     "iopub.status.busy": "2021-06-01T15:30:52.839166Z",
     "iopub.status.idle": "2021-06-01T15:30:56.346766Z",
     "shell.execute_reply": "2021-06-01T15:30:56.346766Z",
     "shell.execute_reply.started": "2021-06-01T15:30:52.839166Z"
    }
   },
   "outputs": [],
   "source": [
    "import numpy as np\n",
    "import matplotlib.pyplot as plt\n",
    "from VQE import VQE\n",
    "from GroupingAlgorithm import *\n",
    "from utils import *\n",
    "# Importing standard Qiskit libraries\n",
    "from qiskit import IBMQ, QuantumCircuit\n",
    "from qiskit.providers.aer import AerSimulator\n",
    "from qiskit.circuit.library import EfficientSU2\n",
    "from qiskit.utils.quantum_instance import QuantumInstance\n",
    "from qiskit.algorithms import NumPyMinimumEigensolver\n",
    "from qiskit.ignis.mitigation.measurement import CompleteMeasFitter\n",
    "from qiskit_nature.circuit.library import HartreeFock\n",
    "from qiskit_nature.transformers import FreezeCoreTransformer\n",
    "from qiskit_nature.drivers import PyQuanteDriver\n",
    "from qiskit_nature.problems.second_quantization.electronic import ElectronicStructureProblem\n",
    "from qiskit_nature.mappers.second_quantization import ParityMapper, JordanWignerMapper\n",
    "from qiskit_nature.converters.second_quantization.qubit_converter import QubitConverter\n",
    "from qiskit_nature.algorithms.ground_state_solvers.minimum_eigensolver_factories import NumPyMinimumEigensolverFactory\n",
    "from qiskit_nature.algorithms.ground_state_solvers import GroundStateEigensolver\n",
    "from qiskit.opflow.primitive_ops import Z2Symmetries\n",
    "from qiskit.opflow import converters\n",
    "from qiskit.algorithms.optimizers import SPSA\n",
    "from IPython.display import display, clear_output"
   ]
  },
  {
   "cell_type": "code",
   "execution_count": 2,
   "metadata": {
    "execution": {
     "iopub.execute_input": "2021-06-01T15:30:56.348697Z",
     "iopub.status.busy": "2021-06-01T15:30:56.348697Z",
     "iopub.status.idle": "2021-06-01T15:31:08.197485Z",
     "shell.execute_reply": "2021-06-01T15:31:08.196611Z",
     "shell.execute_reply.started": "2021-06-01T15:30:56.348697Z"
    }
   },
   "outputs": [],
   "source": [
    "IBMQ.load_account()\n",
    "provider      = IBMQ.get_provider(hub='ibm-q-csic', group='internal', project='iff-csic') \n",
    "backend_paris = provider.get_backend('ibmq_paris')\n",
    "WC_paris      = get_backend_conectivity(backend_paris)\n",
    "backend_sim   = AerSimulator(method=\"statevector\") # Backend for simulation\n",
    "backend_noise = AerSimulator.from_backend(backend_paris)\n",
    "NUM_SHOTS = 2**13  # Number of shots for each circuit"
   ]
  },
  {
   "cell_type": "code",
   "execution_count": 3,
   "metadata": {
    "execution": {
     "iopub.execute_input": "2021-06-01T15:31:08.199477Z",
     "iopub.status.busy": "2021-06-01T15:31:08.198506Z",
     "iopub.status.idle": "2021-06-01T15:31:08.205462Z",
     "shell.execute_reply": "2021-06-01T15:31:08.204464Z",
     "shell.execute_reply.started": "2021-06-01T15:31:08.199477Z"
    }
   },
   "outputs": [],
   "source": [
    "# molecule = 'Li 0.0 0.0 0.0; H 0.0 0.0 1.5474'\n",
    "# driver = PyQuanteDriver(molecule)\n",
    "# qmolecule = driver.run()\n",
    "# freezeCoreTransfomer = FreezeCoreTransformer( freeze_core=True, remove_orbitals= [3,4] )\n",
    "# problem = ElectronicStructureProblem(driver,q_molecule_transformers=[freezeCoreTransfomer])\n",
    "\n",
    "# # Generate the second-quantized operators\n",
    "# second_q_ops = problem.second_q_ops()\n",
    "\n",
    "# # Hamiltonian\n",
    "# main_op = second_q_ops[0]\n",
    "\n",
    "# # Setup the mapper and qubit converter\n",
    "# mapper_type = 'ParityMapper'\n",
    "# mapper = ParityMapper()\n",
    "\n",
    "# converter = QubitConverter( mapper=mapper, two_qubit_reduction=True, z2symmetry_reduction=[1,1],) #1] \n",
    "\n",
    "# # The fermionic operators are mapped to qubit operators\n",
    "# num_particles = (problem.molecule_data_transformed.num_alpha, problem.molecule_data_transformed.num_beta)\n",
    "\n",
    "# num_spin_orbitals = 2 * problem.molecule_data_transformed.num_molecular_orbitals\n",
    "\n",
    "# qubit_op = converter.convert(main_op, num_particles=num_particles)\n",
    "\n",
    "# num_qubits = qubit_op.num_qubits\n",
    "# WC = list(range(num_qubits))\n",
    "# WC = list(permutations(list(range(num_qubits)),2))\n",
    "\n",
    "# init_state = HartreeFock(num_spin_orbitals, num_particles, converter)\n",
    "\n",
    "# print( num_qubits )\n",
    "# print( qubit_op )"
   ]
  },
  {
   "cell_type": "code",
   "execution_count": 4,
   "metadata": {
    "execution": {
     "iopub.execute_input": "2021-06-01T15:31:08.207457Z",
     "iopub.status.busy": "2021-06-01T15:31:08.206460Z",
     "iopub.status.idle": "2021-06-01T15:31:08.214438Z",
     "shell.execute_reply": "2021-06-01T15:31:08.213473Z",
     "shell.execute_reply.started": "2021-06-01T15:31:08.207457Z"
    }
   },
   "outputs": [],
   "source": [
    "num_qubits = 2\n",
    "qubit_op = RandomHamiltonian( num_qubits, 6 )\n",
    "WC = list(range(num_qubits))\n",
    "WC = list(permutations(list(range(num_qubits)),2))\n",
    "init_state = QuantumCircuit(num_qubits)"
   ]
  },
  {
   "cell_type": "code",
   "execution_count": 5,
   "metadata": {
    "execution": {
     "iopub.execute_input": "2021-06-01T15:31:08.217431Z",
     "iopub.status.busy": "2021-06-01T15:31:08.216433Z",
     "iopub.status.idle": "2021-06-01T15:31:08.229399Z",
     "shell.execute_reply": "2021-06-01T15:31:08.228401Z",
     "shell.execute_reply.started": "2021-06-01T15:31:08.217431Z"
    }
   },
   "outputs": [
    {
     "name": "stdout",
     "output_type": "stream",
     "text": [
      "SummedOp([\n",
      "  YZ,\n",
      "  IZ,\n",
      "  ZX,\n",
      "  ZY,\n",
      "  YY,\n",
      "  IZ\n",
      "])\n"
     ]
    }
   ],
   "source": [
    "print( qubit_op )"
   ]
  },
  {
   "cell_type": "code",
   "execution_count": 6,
   "metadata": {
    "execution": {
     "iopub.execute_input": "2021-06-01T15:31:08.231393Z",
     "iopub.status.busy": "2021-06-01T15:31:08.230412Z",
     "iopub.status.idle": "2021-06-01T15:31:08.246353Z",
     "shell.execute_reply": "2021-06-01T15:31:08.245362Z",
     "shell.execute_reply.started": "2021-06-01T15:31:08.231393Z"
    }
   },
   "outputs": [
    {
     "data": {
      "text/plain": [
       "(-3.645751311064595+3.5411233196088594e-17j)"
      ]
     },
     "execution_count": 6,
     "metadata": {},
     "output_type": "execute_result"
    }
   ],
   "source": [
    "result_exact = NumPyMinimumEigensolver().compute_minimum_eigenvalue(qubit_op)\n",
    "result_exact.eigenvalue "
   ]
  },
  {
   "cell_type": "code",
   "execution_count": 7,
   "metadata": {
    "execution": {
     "iopub.execute_input": "2021-06-01T15:31:08.247350Z",
     "iopub.status.busy": "2021-06-01T15:31:08.247350Z",
     "iopub.status.idle": "2021-06-01T15:31:08.717094Z",
     "shell.execute_reply": "2021-06-01T15:31:08.716122Z",
     "shell.execute_reply.started": "2021-06-01T15:31:08.247350Z"
    }
   },
   "outputs": [
    {
     "data": {
      "image/png": "[encoded data removed]",
      "text/plain": [
       "<Figure size 387.452x144.48 with 1 Axes>"
      ]
     },
     "execution_count": 7,
     "metadata": {},
     "output_type": "execute_result"
    }
   ],
   "source": [
    "entangled_layer = []\n",
    "for qbs in WC_paris :\n",
    "    if qbs[0]<qbs[1] and qbs[1]<num_qubits :\n",
    "        entangled_layer.append(qbs)\n",
    "\n",
    "ansatz = init_state.compose( EfficientSU2(num_qubits,['ry','rz'], entanglement=entangled_layer, reps=1 ) )\n",
    "ansatz.draw(output='mpl')"
   ]
  },
  {
   "cell_type": "code",
   "execution_count": 8,
   "metadata": {
    "execution": {
     "iopub.execute_input": "2021-06-01T15:31:08.718112Z",
     "iopub.status.busy": "2021-06-01T15:31:08.717094Z",
     "iopub.status.idle": "2021-06-01T15:31:08.724090Z",
     "shell.execute_reply": "2021-06-01T15:31:08.723078Z",
     "shell.execute_reply.started": "2021-06-01T15:31:08.718112Z"
    }
   },
   "outputs": [],
   "source": [
    "def callback( evals, params ):  \n",
    "    display(\"{}, {}\".format(len(evaluations),evals))\n",
    "    clear_output(wait=True)\n",
    "    parameters.append(params)\n",
    "    evaluations.append(evals)\n",
    "\n",
    "parameters  = []\n",
    "evaluations = []"
   ]
  },
  {
   "cell_type": "code",
   "execution_count": 9,
   "metadata": {
    "execution": {
     "iopub.execute_input": "2021-06-01T15:31:08.727067Z",
     "iopub.status.busy": "2021-06-01T15:31:08.727067Z",
     "iopub.status.idle": "2021-06-01T15:31:08.734048Z",
     "shell.execute_reply": "2021-06-01T15:31:08.733077Z",
     "shell.execute_reply.started": "2021-06-01T15:31:08.727067Z"
    }
   },
   "outputs": [],
   "source": [
    "optimizer = SPSA( maxiter=100, last_avg=1 )"
   ]
  },
  {
   "cell_type": "code",
   "execution_count": 10,
   "metadata": {
    "execution": {
     "iopub.execute_input": "2021-06-01T15:31:08.736043Z",
     "iopub.status.busy": "2021-06-01T15:31:08.736043Z",
     "iopub.status.idle": "2021-06-01T15:31:08.744022Z",
     "shell.execute_reply": "2021-06-01T15:31:08.743024Z",
     "shell.execute_reply.started": "2021-06-01T15:31:08.736043Z"
    }
   },
   "outputs": [],
   "source": [
    "num_var = ansatz.num_parameters\n",
    "pars = [0.01] * num_var"
   ]
  },
  {
   "cell_type": "code",
   "execution_count": 11,
   "metadata": {
    "execution": {
     "iopub.execute_input": "2021-06-01T15:31:08.746017Z",
     "iopub.status.busy": "2021-06-01T15:31:08.745019Z",
     "iopub.status.idle": "2021-06-01T15:31:08.752998Z",
     "shell.execute_reply": "2021-06-01T15:31:08.752032Z",
     "shell.execute_reply.started": "2021-06-01T15:31:08.746017Z"
    }
   },
   "outputs": [
    {
     "data": {
      "text/plain": [
       "(-3.645751311064595+3.5411233196088594e-17j)"
      ]
     },
     "execution_count": 11,
     "metadata": {},
     "output_type": "execute_result"
    }
   ],
   "source": [
    "result_exact.eigenvalue "
   ]
  },
  {
   "cell_type": "code",
   "execution_count": 12,
   "metadata": {
    "execution": {
     "iopub.execute_input": "2021-06-01T15:31:08.754993Z",
     "iopub.status.busy": "2021-06-01T15:31:08.753995Z",
     "iopub.status.idle": "2021-06-01T15:31:24.761514Z",
     "shell.execute_reply": "2021-06-01T15:31:24.760515Z",
     "shell.execute_reply.started": "2021-06-01T15:31:08.753995Z"
    }
   },
   "outputs": [
    {
     "name": "stdout",
     "output_type": "stream",
     "text": [
      "-3.458984375\n"
     ]
    }
   ],
   "source": [
    "solver = VQE( ansatz, optimizer, pars, grouping = 'Entangled' )\n",
    "results = solver.compute_minimum_eigenvalue(qubit_op)\n",
    "print( results.eigenvalue )"
   ]
  },
  {
   "cell_type": "code",
   "execution_count": 13,
   "metadata": {
    "execution": {
     "iopub.execute_input": "2021-06-01T15:31:24.761514Z",
     "iopub.status.busy": "2021-06-01T15:31:24.761514Z",
     "iopub.status.idle": "2021-06-01T15:31:38.050611Z",
     "shell.execute_reply": "2021-06-01T15:31:38.050611Z",
     "shell.execute_reply.started": "2021-06-01T15:31:24.761514Z"
    }
   },
   "outputs": [
    {
     "name": "stdout",
     "output_type": "stream",
     "text": [
      "-3.640625\n"
     ]
    }
   ],
   "source": [
    "solver = VQE( ansatz, optimizer, pars, grouping = 'TPB' )\n",
    "results = solver.compute_minimum_eigenvalue(qubit_op)\n",
    "print( results.eigenvalue )"
   ]
  },
  {
   "cell_type": "code",
   "execution_count": 14,
   "metadata": {
    "execution": {
     "iopub.execute_input": "2021-06-01T15:31:38.051609Z",
     "iopub.status.busy": "2021-06-01T15:31:38.051609Z",
     "iopub.status.idle": "2021-06-01T15:31:52.478057Z",
     "shell.execute_reply": "2021-06-01T15:31:52.477090Z",
     "shell.execute_reply.started": "2021-06-01T15:31:38.051609Z"
    }
   },
   "outputs": [
    {
     "name": "stdout",
     "output_type": "stream",
     "text": [
      "-3.755859375\n"
     ]
    }
   ],
   "source": [
    "solver = VQE( ansatz, optimizer, pars, grouping = 'Entangled', conectivity = WC_paris )\n",
    "results = solver.compute_minimum_eigenvalue(qubit_op)\n",
    "print( results.eigenvalue )"
   ]
  },
  {
   "cell_type": "code",
   "execution_count": 15,
   "metadata": {
    "execution": {
     "iopub.execute_input": "2021-06-01T15:31:52.479079Z",
     "iopub.status.busy": "2021-06-01T15:31:52.479079Z",
     "iopub.status.idle": "2021-06-01T15:32:07.673346Z",
     "shell.execute_reply": "2021-06-01T15:32:07.673346Z",
     "shell.execute_reply.started": "2021-06-01T15:31:52.479079Z"
    }
   },
   "outputs": [
    {
     "name": "stdout",
     "output_type": "stream",
     "text": [
      "-3.55859375\n"
     ]
    }
   ],
   "source": [
    "parameters  = []\n",
    "evaluations = []\n",
    "solver = VQE( ansatz, optimizer, pars, grouping = 'Entangled', callback=callback )\n",
    "results = solver.compute_minimum_eigenvalue(qubit_op)\n",
    "print( results.eigenvalue )"
   ]
  },
  {
   "cell_type": "code",
   "execution_count": 16,
   "metadata": {
    "execution": {
     "iopub.execute_input": "2021-06-01T15:32:07.675355Z",
     "iopub.status.busy": "2021-06-01T15:32:07.674309Z",
     "iopub.status.idle": "2021-06-01T15:32:07.680294Z",
     "shell.execute_reply": "2021-06-01T15:32:07.678301Z",
     "shell.execute_reply.started": "2021-06-01T15:32:07.675355Z"
    }
   },
   "outputs": [],
   "source": [
    "# parameters  = []\n",
    "# evaluations = []\n",
    "# optimizer   = SPSA( maxiter=50, last_avg=1 )\n",
    "# solver = VQE( ansatz, optimizer, pars, grouping = 'Entangled', callback=callback, quantum_instance=backend_noise )\n",
    "# results = solver.compute_minimum_eigenvalue(qubit_op)\n",
    "# print( results.eigenvalue )"
   ]
  },
  {
   "cell_type": "code",
   "execution_count": 17,
   "metadata": {
    "execution": {
     "iopub.execute_input": "2021-06-01T15:32:07.681290Z",
     "iopub.status.busy": "2021-06-01T15:32:07.681290Z",
     "iopub.status.idle": "2021-06-01T15:32:07.687275Z",
     "shell.execute_reply": "2021-06-01T15:32:07.686309Z",
     "shell.execute_reply.started": "2021-06-01T15:32:07.681290Z"
    }
   },
   "outputs": [],
   "source": [
    "# plt.plot( evaluations )"
   ]
  },
  {
   "cell_type": "code",
   "execution_count": 18,
   "metadata": {
    "execution": {
     "iopub.execute_input": "2021-06-01T15:32:07.689269Z",
     "iopub.status.busy": "2021-06-01T15:32:07.688272Z",
     "iopub.status.idle": "2021-06-01T15:32:29.388211Z",
     "shell.execute_reply": "2021-06-01T15:32:29.387216Z",
     "shell.execute_reply.started": "2021-06-01T15:32:07.689269Z"
    }
   },
   "outputs": [
    {
     "name": "stdout",
     "output_type": "stream",
     "text": [
      "-29.2265625\n"
     ]
    }
   ],
   "source": [
    "qi = QuantumInstance( backend_sim, shots = NUM_SHOTS )\n",
    "parameters  = []\n",
    "evaluations = []\n",
    "optimizer   = SPSA( maxiter=50, last_avg=1 )\n",
    "solver = VQE( ansatz, optimizer, pars, grouping = 'Entangled', callback=callback, quantum_instance=qi )\n",
    "results = solver.compute_minimum_eigenvalue(qubit_op)\n",
    "print( results.eigenvalue )"
   ]
  },
  {
   "cell_type": "code",
   "execution_count": 36,
   "metadata": {
    "execution": {
     "iopub.execute_input": "2021-06-01T15:33:29.428322Z",
     "iopub.status.busy": "2021-06-01T15:33:29.427324Z",
     "iopub.status.idle": "2021-06-01T15:33:29.434308Z",
     "shell.execute_reply": "2021-06-01T15:33:29.433308Z",
     "shell.execute_reply.started": "2021-06-01T15:33:29.428322Z"
    }
   },
   "outputs": [
    {
     "name": "stdout",
     "output_type": "stream",
     "text": [
      "OrderedDict([   ('aux_operator_eigenvalues', None),\n",
      "                ('cost_function_evals', 100),\n",
      "                (   'eigenstate',\n",
      "                    {   '00': 0.2628531850196988,\n",
      "                        '01': 0.6381430580206918,\n",
      "                        '10': 0.18553659510996745,\n",
      "                        '11': 0.699469665174981}),\n",
      "                ('eigenvalue', -29.2265625),\n",
      "                (   'optimal_parameters',\n",
      "                    {   ParameterVectorElement(θ[0]): -0.6473682939489743,\n",
      "                        ParameterVectorElement(θ[1]): -1.759905825997268,\n",
      "                        ParameterVectorElement(θ[2]): 0.18472436137445564,\n",
      "                        ParameterVectorElement(θ[3]): 1.3924870573345818,\n",
      "                        ParameterVectorElement(θ[4]): -3.019899448196948,\n",
      "                        ParameterVectorElement(θ[5]): 0.47057785605775715,\n",
      "                        ParameterVectorElement(θ[6]): 1.9092911243661457,\n",
      "                        ParameterVectorElement(θ[7]): 3.621631441205533}),\n",
      "                (   'optimal_point',\n",
      "                    array([-0.64736829, -1.75990583,  0.18472436,  1.39248706, -3.01989945,\n",
      "        0.47057786,  1.90929112,  3.62163144])),\n",
      "                ('optimal_value', -29.2265625),\n",
      "                ('optimizer_evals', 100),\n",
      "                ('optimizer_time', 21.632120370864868)])\n"
     ]
    }
   ],
   "source": [
    "print(results)"
   ]
  },
  {
   "cell_type": "code",
   "execution_count": 19,
   "metadata": {
    "execution": {
     "iopub.execute_input": "2021-06-01T15:32:29.390215Z",
     "iopub.status.busy": "2021-06-01T15:32:29.389214Z",
     "iopub.status.idle": "2021-06-01T15:32:29.529831Z",
     "shell.execute_reply": "2021-06-01T15:32:29.528834Z",
     "shell.execute_reply.started": "2021-06-01T15:32:29.390215Z"
    }
   },
   "outputs": [
    {
     "data": {
      "text/plain": [
       "[<matplotlib.lines.Line2D at 0x2837caab948>]"
      ]
     },
     "execution_count": 19,
     "metadata": {},
     "output_type": "execute_result"
    },
    {
     "data": {
      "image/png": "[encoded data removed]",
      "text/plain": [
       "<Figure size 432x288 with 1 Axes>"
      ]
     },
     "metadata": {
      "needs_background": "light"
     },
     "output_type": "display_data"
    }
   ],
   "source": [
    "plt.plot( evaluations )"
   ]
  },
  {
   "cell_type": "code",
   "execution_count": null,
   "metadata": {},
   "outputs": [],
   "source": []
  },
  {
   "cell_type": "code",
   "execution_count": null,
   "metadata": {},
   "outputs": [],
   "source": []
  },
  {
   "cell_type": "code",
   "execution_count": 20,
   "metadata": {
    "execution": {
     "iopub.execute_input": "2021-06-01T15:32:29.530829Z",
     "iopub.status.busy": "2021-06-01T15:32:29.529831Z",
     "iopub.status.idle": "2021-06-01T15:32:29.536813Z",
     "shell.execute_reply": "2021-06-01T15:32:29.535832Z",
     "shell.execute_reply.started": "2021-06-01T15:32:29.530829Z"
    }
   },
   "outputs": [
    {
     "data": {
      "text/plain": [
       "<qiskit.circuit.quantumcircuit.QuantumCircuit at 0x283761ec948>"
      ]
     },
     "execution_count": 20,
     "metadata": {},
     "output_type": "execute_result"
    }
   ],
   "source": [
    "solver.ansatz"
   ]
  },
  {
   "cell_type": "code",
   "execution_count": 21,
   "metadata": {
    "execution": {
     "iopub.execute_input": "2021-06-01T15:32:29.538808Z",
     "iopub.status.busy": "2021-06-01T15:32:29.537810Z",
     "iopub.status.idle": "2021-06-01T15:32:29.546787Z",
     "shell.execute_reply": "2021-06-01T15:32:29.545789Z",
     "shell.execute_reply.started": "2021-06-01T15:32:29.538808Z"
    }
   },
   "outputs": [
    {
     "data": {
      "text/plain": [
       "<bound method VariationalAlgorithm.cleanup_parameterized_circuits of <VQE.VQE object at 0x000002837CABC288>>"
      ]
     },
     "execution_count": 21,
     "metadata": {},
     "output_type": "execute_result"
    }
   ],
   "source": [
    "solver.cleanup_parameterized_circuits"
   ]
  },
  {
   "cell_type": "code",
   "execution_count": 22,
   "metadata": {
    "execution": {
     "iopub.execute_input": "2021-06-01T15:32:29.547783Z",
     "iopub.status.busy": "2021-06-01T15:32:29.547783Z",
     "iopub.status.idle": "2021-06-01T15:32:29.553774Z",
     "shell.execute_reply": "2021-06-01T15:32:29.552797Z",
     "shell.execute_reply.started": "2021-06-01T15:32:29.547783Z"
    }
   },
   "outputs": [
    {
     "data": {
      "text/plain": [
       "<bound method VQE.construct_expectation of <VQE.VQE object at 0x000002837CABC288>>"
      ]
     },
     "execution_count": 22,
     "metadata": {},
     "output_type": "execute_result"
    }
   ],
   "source": [
    "solver.construct_expectation"
   ]
  },
  {
   "cell_type": "code",
   "execution_count": 23,
   "metadata": {
    "execution": {
     "iopub.execute_input": "2021-06-01T15:32:29.554765Z",
     "iopub.status.busy": "2021-06-01T15:32:29.554765Z",
     "iopub.status.idle": "2021-06-01T15:32:29.864936Z",
     "shell.execute_reply": "2021-06-01T15:32:29.864936Z",
     "shell.execute_reply.started": "2021-06-01T15:32:29.554765Z"
    }
   },
   "outputs": [
    {
     "data": {
      "image/png": "[encoded data removed]",
      "text/plain": [
       "<Figure size 808.852x144.48 with 1 Axes>"
      ]
     },
     "execution_count": 23,
     "metadata": {},
     "output_type": "execute_result"
    }
   ],
   "source": [
    "solver.get_optimal_circuit().draw(output='mpl')"
   ]
  },
  {
   "cell_type": "code",
   "execution_count": 24,
   "metadata": {
    "execution": {
     "iopub.execute_input": "2021-06-01T15:32:29.866929Z",
     "iopub.status.busy": "2021-06-01T15:32:29.865933Z",
     "iopub.status.idle": "2021-06-01T15:32:29.873917Z",
     "shell.execute_reply": "2021-06-01T15:32:29.872918Z",
     "shell.execute_reply.started": "2021-06-01T15:32:29.866929Z"
    }
   },
   "outputs": [
    {
     "data": {
      "text/plain": [
       "-29.2265625"
      ]
     },
     "execution_count": 24,
     "metadata": {},
     "output_type": "execute_result"
    }
   ],
   "source": [
    "solver.get_optimal_cost()"
   ]
  },
  {
   "cell_type": "code",
   "execution_count": 25,
   "metadata": {
    "execution": {
     "iopub.execute_input": "2021-06-01T15:32:29.875906Z",
     "iopub.status.busy": "2021-06-01T15:32:29.875906Z",
     "iopub.status.idle": "2021-06-01T15:32:29.926770Z",
     "shell.execute_reply": "2021-06-01T15:32:29.926770Z",
     "shell.execute_reply.started": "2021-06-01T15:32:29.875906Z"
    }
   },
   "outputs": [
    {
     "data": {
      "text/plain": [
       "{'00': 0.2667714231088105,\n",
       " '11': 0.7014737555229704,\n",
       " '01': 0.6307354028731065,\n",
       " '10': 0.19733329594242327}"
      ]
     },
     "execution_count": 25,
     "metadata": {},
     "output_type": "execute_result"
    }
   ],
   "source": [
    "solver.get_optimal_vector()"
   ]
  },
  {
   "cell_type": "code",
   "execution_count": 26,
   "metadata": {
    "execution": {
     "iopub.execute_input": "2021-06-01T15:32:29.928764Z",
     "iopub.status.busy": "2021-06-01T15:32:29.927767Z",
     "iopub.status.idle": "2021-06-01T15:32:29.932754Z",
     "shell.execute_reply": "2021-06-01T15:32:29.931757Z",
     "shell.execute_reply.started": "2021-06-01T15:32:29.928764Z"
    }
   },
   "outputs": [],
   "source": [
    "# solver.get_prob_vector_for_params()"
   ]
  },
  {
   "cell_type": "code",
   "execution_count": 27,
   "metadata": {
    "execution": {
     "iopub.execute_input": "2021-06-01T15:32:29.935747Z",
     "iopub.status.busy": "2021-06-01T15:32:29.934749Z",
     "iopub.status.idle": "2021-06-01T15:32:29.938738Z",
     "shell.execute_reply": "2021-06-01T15:32:29.937744Z",
     "shell.execute_reply.started": "2021-06-01T15:32:29.935747Z"
    }
   },
   "outputs": [],
   "source": [
    "# solver.get_probabilities_for_counts()"
   ]
  },
  {
   "cell_type": "code",
   "execution_count": 28,
   "metadata": {
    "execution": {
     "iopub.execute_input": "2021-06-01T15:32:29.941729Z",
     "iopub.status.busy": "2021-06-01T15:32:29.940732Z",
     "iopub.status.idle": "2021-06-01T15:32:29.948711Z",
     "shell.execute_reply": "2021-06-01T15:32:29.947714Z",
     "shell.execute_reply.started": "2021-06-01T15:32:29.941729Z"
    }
   },
   "outputs": [
    {
     "data": {
      "text/plain": [
       "[0.01, 0.01, 0.01, 0.01, 0.01, 0.01, 0.01, 0.01]"
      ]
     },
     "execution_count": 28,
     "metadata": {},
     "output_type": "execute_result"
    }
   ],
   "source": [
    "solver.initial_point"
   ]
  },
  {
   "cell_type": "code",
   "execution_count": 29,
   "metadata": {
    "execution": {
     "iopub.execute_input": "2021-06-01T15:32:29.949709Z",
     "iopub.status.busy": "2021-06-01T15:32:29.949709Z",
     "iopub.status.idle": "2021-06-01T15:32:29.957688Z",
     "shell.execute_reply": "2021-06-01T15:32:29.954695Z",
     "shell.execute_reply.started": "2021-06-01T15:32:29.949709Z"
    }
   },
   "outputs": [
    {
     "data": {
      "text/plain": [
       "array([-0.64736829, -1.75990583,  0.18472436,  1.39248706, -3.01989945,\n",
       "        0.47057786,  1.90929112,  3.62163144])"
      ]
     },
     "execution_count": 29,
     "metadata": {},
     "output_type": "execute_result"
    }
   ],
   "source": [
    "solver.optimal_params"
   ]
  },
  {
   "cell_type": "code",
   "execution_count": 30,
   "metadata": {
    "execution": {
     "iopub.execute_input": "2021-06-01T15:32:29.959682Z",
     "iopub.status.busy": "2021-06-01T15:32:29.958685Z",
     "iopub.status.idle": "2021-06-01T15:32:29.965666Z",
     "shell.execute_reply": "2021-06-01T15:32:29.964669Z",
     "shell.execute_reply.started": "2021-06-01T15:32:29.958685Z"
    }
   },
   "outputs": [
    {
     "data": {
      "text/plain": [
       "<qiskit.algorithms.optimizers.spsa.SPSA at 0x2837cabc448>"
      ]
     },
     "execution_count": 30,
     "metadata": {},
     "output_type": "execute_result"
    }
   ],
   "source": [
    "solver.optimizer"
   ]
  },
  {
   "cell_type": "code",
   "execution_count": 31,
   "metadata": {
    "execution": {
     "iopub.execute_input": "2021-06-01T15:32:29.966663Z",
     "iopub.status.busy": "2021-06-01T15:32:29.966663Z",
     "iopub.status.idle": "2021-06-01T15:32:29.973646Z",
     "shell.execute_reply": "2021-06-01T15:32:29.971650Z",
     "shell.execute_reply.started": "2021-06-01T15:32:29.966663Z"
    }
   },
   "outputs": [
    {
     "data": {
      "text/plain": [
       "<qiskit.utils.quantum_instance.QuantumInstance at 0x2837cabc748>"
      ]
     },
     "execution_count": 31,
     "metadata": {},
     "output_type": "execute_result"
    }
   ],
   "source": [
    "solver.quantum_instance"
   ]
  },
  {
   "cell_type": "code",
   "execution_count": 32,
   "metadata": {
    "execution": {
     "iopub.execute_input": "2021-06-01T15:32:29.975640Z",
     "iopub.status.busy": "2021-06-01T15:32:29.974642Z",
     "iopub.status.idle": "2021-06-01T15:32:29.980625Z",
     "shell.execute_reply": "2021-06-01T15:32:29.980625Z",
     "shell.execute_reply.started": "2021-06-01T15:32:29.975640Z"
    }
   },
   "outputs": [
    {
     "data": {
      "text/plain": [
       "False"
      ]
     },
     "execution_count": 32,
     "metadata": {},
     "output_type": "execute_result"
    }
   ],
   "source": [
    "solver.supports_aux_operators()"
   ]
  },
  {
   "cell_type": "code",
   "execution_count": 33,
   "metadata": {
    "execution": {
     "iopub.execute_input": "2021-06-01T15:32:29.982621Z",
     "iopub.status.busy": "2021-06-01T15:32:29.981623Z",
     "iopub.status.idle": "2021-06-01T15:32:29.995586Z",
     "shell.execute_reply": "2021-06-01T15:32:29.994589Z",
     "shell.execute_reply.started": "2021-06-01T15:32:29.982621Z"
    }
   },
   "outputs": [
    {
     "name": "stdout",
     "output_type": "stream",
     "text": [
      "\n",
      "==================== Setting of VQE ============================\n",
      "Algorithm: VQE\n",
      "-- ansatz_params: [ParameterVectorElement(θ[0]), ParameterVectorElement(θ[1]), ParameterVectorElement(θ[2]), ParameterVectorElement(θ[3]), ParameterVectorElement(θ[4]), ParameterVectorElement(θ[5]), ParameterVectorElement(θ[6]), ParameterVectorElement(θ[7])]\n",
      "-- ansatz:      ┌──────────┐┌──────────┐     ┌──────────┐┌──────────┐\n",
      "q_0: ┤ RY(θ[0]) ├┤ RZ(θ[2]) ├──■──┤ RY(θ[4]) ├┤ RZ(θ[6]) ├\n",
      "     ├──────────┤├──────────┤┌─┴─┐├──────────┤├──────────┤\n",
      "q_1: ┤ RY(θ[1]) ├┤ RZ(θ[3]) ├┤ X ├┤ RY(θ[5]) ├┤ RZ(θ[7]) ├\n",
      "     └──────────┘└──────────┘└───┘└──────────┘└──────────┘\n",
      "-- quantum_instance: \n",
      "Qiskit Terra version: 0.17.0\n",
      "Backend: 'aer_simulator_statevector (None)', with following setting:\n",
      "{'basis_gates': ['ccx', 'cp', 'cswap', 'csx', 'cu1', 'cu2', 'cu3', 'cx', 'cy', 'cz', 'delay', 'diagonal', 'h', 'id', 'initialize', 'mcphase', 'mcr', 'mcrx', 'mcry', 'mcrz', 'mcswap', 'mcsx', 'mcu1', 'mcu2', 'mcu3', 'mcx', 'mcx_gray', 'mcy', 'mcz', 'multiplexer', 'p', 'pauli', 'r', 'rx', 'rxx', 'ry', 'ryy', 'rz', 'rzx', 'rzz', 's', 'sdg', 'swap', 'sx', 't', 'tdg', 'u', 'u1', 'u2', 'u3', 'unitary', 'x', 'y', 'z', 'kraus', 'roerror', 'save_amplitudes', 'save_amplitudes_sq', 'save_density_matrix', 'save_expval', 'save_expval_var', 'save_probabilities', 'save_probabilities_dict', 'save_state', 'save_statevector', 'save_statevector_dict', 'set_statevector', 'snapshot'], 'coupling_map': None}\n",
      "{'initial_layout': None, 'seed_transpiler': None, 'optimization_level': None}\n",
      "RunConfig(max_credits=10, shots=8192)\n",
      "{'timeout': None}\n",
      "{}\n",
      "{}\n",
      "Measurement mitigation: None\n",
      "-- optimizer: <qiskit.algorithms.optimizers.spsa.SPSA object at 0x000002837CABC448>\n",
      "-- gradient: None\n",
      "-- cost_fn: <bound method VQE._energy_evaluation of <VQE.VQE object at 0x000002837CABC288>>\n",
      "-- initial_point: [0.01, 0.01, 0.01, 0.01, 0.01, 0.01, 0.01, 0.01]\n",
      "-- parameterized_circuits: None\n",
      "-- order: [4, 3, 2, 1]\n",
      "-- conectiviy: [(0, 1), (1, 0)]\n",
      "-- grouping: Entangled\n",
      "-- eval_count: 100\n",
      "-- callback: <function callback at 0x000002837C6D0438>\n",
      "-- expect_op: [<qiskit.circuit.quantumcircuit.QuantumCircuit object at 0x000002837C7AE988>, <qiskit.circuit.quantumcircuit.QuantumCircuit object at 0x000002837C7AE608>, <qiskit.circuit.quantumcircuit.QuantumCircuit object at 0x000002837CACA608>, <qiskit.circuit.quantumcircuit.QuantumCircuit object at 0x000002837CAA5C88>]\n",
      "-- coeff: [1, 1, 1, 1, 1, 1]\n",
      "-- label: ['YZ', 'IZ', 'ZX', 'ZY', 'YY', 'IZ']\n",
      "-- Groups: [[2], [3], [4], [0, 1, 5]]\n",
      "-- Measurements: [[[3, [0]], [1, [1]]], [[3, [0]], [2, [1]]], [[2, [0]], [2, [1]]], [[2, [0]], [3, [1]]]]\n",
      "-- prob2Exp: [array([[ 1., -1., -1.,  1.]]), array([[ 1., -1., -1.,  1.]]), array([[ 1., -1., -1.,  1.]]), array([[ 1., -1., -1.,  1.],\n",
      "       [ 1.,  1., -1., -1.],\n",
      "       [ 1.,  1., -1., -1.]])]\n",
      "-- ret: OrderedDict([   ('aux_operator_eigenvalues', None),\n",
      "                ('cost_function_evals', 100),\n",
      "                (   'eigenstate',\n",
      "                    {   '00': 0.2628531850196988,\n",
      "                        '01': 0.6381430580206918,\n",
      "                        '10': 0.18553659510996745,\n",
      "                        '11': 0.699469665174981}),\n",
      "                ('eigenvalue', -29.2265625),\n",
      "                (   'optimal_parameters',\n",
      "                    {   ParameterVectorElement(θ[0]): -0.6473682939489743,\n",
      "                        ParameterVectorElement(θ[1]): -1.759905825997268,\n",
      "                        ParameterVectorElement(θ[2]): 0.18472436137445564,\n",
      "                        ParameterVectorElement(θ[3]): 1.3924870573345818,\n",
      "                        ParameterVectorElement(θ[4]): -3.019899448196948,\n",
      "                        ParameterVectorElement(θ[5]): 0.47057785605775715,\n",
      "                        ParameterVectorElement(θ[6]): 1.9092911243661457,\n",
      "                        ParameterVectorElement(θ[7]): 3.621631441205533}),\n",
      "                (   'optimal_point',\n",
      "                    array([-0.64736829, -1.75990583,  0.18472436,  1.39248706, -3.01989945,\n",
      "        0.47057786,  1.90929112,  3.62163144])),\n",
      "                ('optimal_value', -29.2265625),\n",
      "                ('optimizer_evals', 100),\n",
      "                ('optimizer_time', 21.632120370864868)])\n",
      "-- eval_time: 21.632120370864868\n",
      "===============================================================\n",
      "ansatz is a custom circuit===============================================================\n",
      "Optimizer: SPSA\n",
      "-- gradient_support_level: 1\n",
      "-- bounds_support_level: 1\n",
      "-- initial_point_support_level: 3\n",
      "-- options: {}\n",
      "-- max_evals_grouped: 1\n",
      "-- nfev: 100\n",
      "===============================================================\n",
      "\n"
     ]
    }
   ],
   "source": [
    "print( solver.print_settings() )"
   ]
  },
  {
   "cell_type": "code",
   "execution_count": null,
   "metadata": {},
   "outputs": [],
   "source": []
  },
  {
   "cell_type": "code",
   "execution_count": null,
   "metadata": {},
   "outputs": [],
   "source": []
  },
  {
   "cell_type": "code",
   "execution_count": null,
   "metadata": {},
   "outputs": [],
   "source": []
  }
 ],
 "metadata": {
  "kernelspec": {
   "display_name": "Python 3",
   "language": "python",
   "name": "python3"
  },
  "language_info": {
   "codemirror_mode": {
    "name": "ipython",
    "version": 3
   },
   "file_extension": ".py",
   "mimetype": "text/x-python",
   "name": "python",
   "nbconvert_exporter": "python",
   "pygments_lexer": "ipython3",
   "version": "3.7.7"
  }
 },
 "nbformat": 4,
 "nbformat_minor": 4
}
