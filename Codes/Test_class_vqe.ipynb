{
 "cells": [
  {
   "cell_type": "code",
   "execution_count": 1,
   "metadata": {
    "execution": {
     "iopub.execute_input": "2021-06-01T16:15:06.195500Z",
     "iopub.status.busy": "2021-06-01T16:15:06.195500Z",
     "iopub.status.idle": "2021-06-01T16:15:09.885244Z",
     "shell.execute_reply": "2021-06-01T16:15:09.885244Z",
     "shell.execute_reply.started": "2021-06-01T16:15:06.195500Z"
    }
   },
   "outputs": [],
   "source": [
    "import numpy as np\n",
    "import matplotlib.pyplot as plt\n",
    "from VQE import VQE\n",
    "from GroupingAlgorithm import *\n",
    "from utils import *\n",
    "# Importing standard Qiskit libraries\n",
    "from qiskit import IBMQ, QuantumCircuit\n",
    "from qiskit.providers.aer import AerSimulator\n",
    "from qiskit.circuit.library import EfficientSU2\n",
    "from qiskit.utils.quantum_instance import QuantumInstance\n",
    "from qiskit.algorithms import NumPyMinimumEigensolver\n",
    "from qiskit.ignis.mitigation.measurement import CompleteMeasFitter\n",
    "from qiskit_nature.circuit.library import HartreeFock\n",
    "from qiskit_nature.transformers import FreezeCoreTransformer\n",
    "from qiskit_nature.drivers import PyQuanteDriver\n",
    "from qiskit_nature.problems.second_quantization.electronic import ElectronicStructureProblem\n",
    "from qiskit_nature.mappers.second_quantization import ParityMapper, JordanWignerMapper\n",
    "from qiskit_nature.converters.second_quantization.qubit_converter import QubitConverter\n",
    "from qiskit_nature.algorithms.ground_state_solvers.minimum_eigensolver_factories import NumPyMinimumEigensolverFactory\n",
    "from qiskit_nature.algorithms.ground_state_solvers import GroundStateEigensolver\n",
    "from qiskit.opflow.primitive_ops import Z2Symmetries\n",
    "from qiskit.opflow import converters\n",
    "from qiskit.algorithms.optimizers import SPSA\n",
    "from IPython.display import display, clear_output"
   ]
  },
  {
   "cell_type": "code",
   "execution_count": 2,
   "metadata": {
    "execution": {
     "iopub.execute_input": "2021-06-01T16:15:09.887207Z",
     "iopub.status.busy": "2021-06-01T16:15:09.887207Z",
     "iopub.status.idle": "2021-06-01T16:15:22.020989Z",
     "shell.execute_reply": "2021-06-01T16:15:22.020117Z",
     "shell.execute_reply.started": "2021-06-01T16:15:09.887207Z"
    }
   },
   "outputs": [],
   "source": [
    "IBMQ.load_account()\n",
    "provider      = IBMQ.get_provider(hub='ibm-q-csic', group='internal', project='iff-csic') \n",
    "backend_paris = provider.get_backend('ibmq_paris')\n",
    "WC_paris      = get_backend_conectivity(backend_paris)\n",
    "backend_sim   = AerSimulator(method=\"statevector\") # Backend for simulation\n",
    "backend_noise = AerSimulator.from_backend(backend_paris)\n",
    "NUM_SHOTS = 2**13  # Number of shots for each circuit"
   ]
  },
  {
   "cell_type": "code",
   "execution_count": 3,
   "metadata": {
    "execution": {
     "iopub.execute_input": "2021-06-01T16:15:22.023994Z",
     "iopub.status.busy": "2021-06-01T16:15:22.023994Z",
     "iopub.status.idle": "2021-06-01T16:15:35.950040Z",
     "shell.execute_reply": "2021-06-01T16:15:35.950040Z",
     "shell.execute_reply.started": "2021-06-01T16:15:22.023994Z"
    }
   },
   "outputs": [
    {
     "name": "stdout",
     "output_type": "stream",
     "text": [
      "4\n",
      "-0.20316612481217325 * IIII\n",
      "+ (-0.365258527098598-1.3877787807814457e-17j) * ZIII\n",
      "+ 0.09275974420404098 * IZII\n",
      "- 0.2118902053549851 * ZZII\n",
      "+ (0.365258527098598+2.7755575615628914e-17j) * IIZI\n",
      "- 0.11384420116816225 * ZIZI\n",
      "+ 0.11395335131674317 * IZZI\n",
      "+ (-0.06043919280467715-3.469446951953614e-18j) * ZZZI\n",
      "+ (-0.09275974420404105-3.469446951953614e-18j) * IIIZ\n",
      "+ 0.11395335131674318 * ZIIZ\n",
      "+ (-0.12274347556009738-6.938893903907228e-18j) * IZIZ\n",
      "+ 0.056287757667526306 * ZZIZ\n",
      "+ (-0.2118902053549851-6.938893903907228e-18j) * IIZZ\n",
      "+ 0.06043919280467715 * ZIZZ\n",
      "- 0.056287757667526306 * IZZZ\n",
      "+ 0.0846016988633049 * ZZZZ\n",
      "+ 0.019390023793252498 * XIII\n",
      "+ (-0.019390023793252498+8.673617379884035e-19j) * XZII\n",
      "- 0.010951534973539137 * XIZI\n",
      "+ 0.010951534973539137 * XZZI\n",
      "+ 0.01277809801936714 * XIIZ\n",
      "- 0.01277809801936714 * XZIZ\n",
      "- 0.00900252139905185 * XIZZ\n",
      "+ 0.00900252139905185 * XZZZ\n",
      "- 0.002936887226605865 * IXII\n",
      "- 0.0029368872266058656 * ZXII\n",
      "+ 0.010679892682752462 * IXZI\n",
      "+ 0.010679892682752462 * ZXZI\n",
      "- 0.011923147970878475 * IXIZ\n",
      "+ (-0.011923147970878475+8.673617379884035e-19j) * ZXIZ\n",
      "+ 0.001696659423374515 * IXZZ\n",
      "+ (0.001696659423374515+1.0842021724855044e-19j) * ZXZZ\n",
      "+ 0.0007448136948643796 * XXII\n",
      "- 0.0007448136948643789 * YYII\n",
      "- 0.03439054159380009 * XXZI\n",
      "+ 0.03439054159380009 * YYZI\n",
      "+ 0.03239612975064377 * XXIZ\n",
      "- 0.03239612975064377 * YYIZ\n",
      "- 0.0027382496936227945 * XXZZ\n",
      "+ 0.0027382496936227945 * YYZZ\n",
      "+ (0.019390023793252498-8.673617379884035e-19j) * IIXI\n",
      "+ 0.010951534973539137 * ZIXI\n",
      "+ (-0.01277809801936714+8.673617379884035e-19j) * IZXI\n",
      "- 0.00900252139905185 * ZZXI\n",
      "+ 0.019390023793252498 * IIXZ\n",
      "+ 0.010951534973539137 * ZIXZ\n",
      "- 0.01277809801936714 * IZXZ\n",
      "- 0.00900252139905185 * ZZXZ\n",
      "+ 0.006586890911505881 * XIXI\n",
      "- 0.006586890911505881 * XZXI\n",
      "+ (0.006586890911505881-4.336808689942018e-19j) * XIXZ\n",
      "- 0.006586890911505881 * XZXZ\n",
      "- 0.0022204528143394257 * IXXI\n",
      "+ (-0.0022204528143394257-2.168404344971009e-19j) * ZXXI\n",
      "+ (-0.0022204528143394257-2.168404344971009e-19j) * IXXZ\n",
      "- 0.0022204528143394257 * ZXXZ\n",
      "+ 0.007858062290639314 * XXXI\n",
      "- 0.007858062290639314 * YYXI\n",
      "+ 0.007858062290639314 * XXXZ\n",
      "- 0.007858062290639314 * YYXZ\n",
      "- 0.002936887226605863 * IIIX\n",
      "- 0.010679892682752462 * ZIIX\n",
      "+ (0.011923147970878475-8.673617379884035e-19j) * IZIX\n",
      "+ 0.001696659423374515 * ZZIX\n",
      "+ 0.002936887226605863 * IIZX\n",
      "+ 0.010679892682752462 * ZIZX\n",
      "+ (-0.011923147970878475+8.673617379884035e-19j) * IZZX\n",
      "- 0.001696659423374515 * ZZZX\n",
      "- 0.0022204528143394257 * XIIX\n",
      "+ 0.0022204528143394257 * XZIX\n",
      "+ 0.0022204528143394257 * XIZX\n",
      "- 0.0022204528143394257 * XZZX\n",
      "+ 0.00313843976345993 * IXIX\n",
      "+ (0.0031384397634599296-2.168404344971009e-19j) * ZXIX\n",
      "- 0.00313843976345993 * IXZX\n",
      "+ (-0.0031384397634599296+2.168404344971009e-19j) * ZXZX\n",
      "- 0.008497862762266498 * XXIX\n",
      "+ 0.008497862762266498 * YYIX\n",
      "+ 0.008497862762266498 * XXZX\n",
      "- 0.008497862762266498 * YYZX\n",
      "+ 0.0007448136948643926 * IIXX\n",
      "+ 0.03439054159380009 * ZIXX\n",
      "- 0.03239612975064377 * IZXX\n",
      "- 0.0027382496936227945 * ZZXX\n",
      "- 0.000744813694864393 * IIYY\n",
      "- 0.03439054159380009 * ZIYY\n",
      "+ (0.03239612975064377+3.469446951953614e-18j) * IZYY\n",
      "+ 0.0027382496936227945 * ZZYY\n",
      "+ 0.007858062290639314 * XIXX\n",
      "- 0.007858062290639314 * XZXX\n",
      "- 0.007858062290639314 * XIYY\n",
      "+ 0.007858062290639314 * XZYY\n",
      "- 0.008497862762266498 * IXXX\n",
      "- 0.008497862762266498 * ZXXX\n",
      "+ 0.008497862762266498 * IXYY\n",
      "+ 0.008497862762266498 * ZXYY\n",
      "+ 0.03084669637448977 * XXXX\n",
      "- 0.03084669637448977 * YYXX\n",
      "- 0.03084669637448977 * XXYY\n",
      "+ 0.030846696374489765 * YYYY\n"
     ]
    }
   ],
   "source": [
    "molecule = 'Li 0.0 0.0 0.0; H 0.0 0.0 1.5474'\n",
    "driver = PyQuanteDriver(molecule)\n",
    "qmolecule = driver.run()\n",
    "freezeCoreTransfomer = FreezeCoreTransformer( freeze_core=True, remove_orbitals= [3,4] )\n",
    "problem = ElectronicStructureProblem(driver,q_molecule_transformers=[freezeCoreTransfomer])\n",
    "\n",
    "# Generate the second-quantized operators\n",
    "second_q_ops = problem.second_q_ops()\n",
    "\n",
    "# Hamiltonian\n",
    "main_op = second_q_ops[0]\n",
    "\n",
    "# Setup the mapper and qubit converter\n",
    "mapper_type = 'ParityMapper'\n",
    "mapper = ParityMapper()\n",
    "\n",
    "converter = QubitConverter( mapper=mapper, two_qubit_reduction=True, z2symmetry_reduction=[1,1],) #1] \n",
    "\n",
    "# The fermionic operators are mapped to qubit operators\n",
    "num_particles = (problem.molecule_data_transformed.num_alpha, problem.molecule_data_transformed.num_beta)\n",
    "\n",
    "num_spin_orbitals = 2 * problem.molecule_data_transformed.num_molecular_orbitals\n",
    "\n",
    "qubit_op = converter.convert(main_op, num_particles=num_particles)\n",
    "\n",
    "num_qubits = qubit_op.num_qubits\n",
    "WC = list(range(num_qubits))\n",
    "WC = list(permutations(list(range(num_qubits)),2))\n",
    "\n",
    "init_state = HartreeFock(num_spin_orbitals, num_particles, converter)\n",
    "\n",
    "print( num_qubits )\n",
    "print( qubit_op )"
   ]
  },
  {
   "cell_type": "code",
   "execution_count": 4,
   "metadata": {
    "execution": {
     "iopub.execute_input": "2021-06-01T16:15:35.952060Z",
     "iopub.status.busy": "2021-06-01T16:15:35.952060Z",
     "iopub.status.idle": "2021-06-01T16:15:35.957021Z",
     "shell.execute_reply": "2021-06-01T16:15:35.956042Z",
     "shell.execute_reply.started": "2021-06-01T16:15:35.952060Z"
    }
   },
   "outputs": [],
   "source": [
    "# num_qubits = 2\n",
    "# qubit_op = RandomHamiltonian( num_qubits, 6 )\n",
    "# WC = list(range(num_qubits))\n",
    "# WC = list(permutations(list(range(num_qubits)),2))\n",
    "# init_state = QuantumCircuit(num_qubits)\n",
    "# print( qubit_op )"
   ]
  },
  {
   "cell_type": "code",
   "execution_count": 5,
   "metadata": {
    "execution": {
     "iopub.execute_input": "2021-06-01T16:15:35.959021Z",
     "iopub.status.busy": "2021-06-01T16:15:35.958019Z",
     "iopub.status.idle": "2021-06-01T16:15:36.037832Z",
     "shell.execute_reply": "2021-06-01T16:15:36.037832Z",
     "shell.execute_reply.started": "2021-06-01T16:15:35.959021Z"
    }
   },
   "outputs": [
    {
     "data": {
      "text/plain": [
       "(-1.0887061050307454-8.101384526250279e-17j)"
      ]
     },
     "execution_count": 5,
     "metadata": {},
     "output_type": "execute_result"
    }
   ],
   "source": [
    "result_exact = NumPyMinimumEigensolver().compute_minimum_eigenvalue(qubit_op)\n",
    "result_exact.eigenvalue "
   ]
  },
  {
   "cell_type": "code",
   "execution_count": 6,
   "metadata": {
    "execution": {
     "iopub.execute_input": "2021-06-01T16:15:36.039813Z",
     "iopub.status.busy": "2021-06-01T16:15:36.038829Z",
     "iopub.status.idle": "2021-06-01T16:15:36.607136Z",
     "shell.execute_reply": "2021-06-01T16:15:36.606158Z",
     "shell.execute_reply.started": "2021-06-01T16:15:36.039813Z"
    }
   },
   "outputs": [
    {
     "data": {
      "image/png": "[encoded data removed]",
      "text/plain": [
       "<Figure size 568.197x264.88 with 1 Axes>"
      ]
     },
     "execution_count": 6,
     "metadata": {},
     "output_type": "execute_result"
    }
   ],
   "source": [
    "entangled_layer = []\n",
    "for qbs in WC_paris :\n",
    "    if qbs[0]<qbs[1] and qbs[1]<num_qubits :\n",
    "        entangled_layer.append(qbs)\n",
    "\n",
    "ansatz = init_state.compose( EfficientSU2(num_qubits,['ry','rz'], entanglement=entangled_layer, reps=1 ) )\n",
    "ansatz.draw(output='mpl')"
   ]
  },
  {
   "cell_type": "code",
   "execution_count": 7,
   "metadata": {
    "execution": {
     "iopub.execute_input": "2021-06-01T16:15:36.608121Z",
     "iopub.status.busy": "2021-06-01T16:15:36.608121Z",
     "iopub.status.idle": "2021-06-01T16:15:36.614105Z",
     "shell.execute_reply": "2021-06-01T16:15:36.613125Z",
     "shell.execute_reply.started": "2021-06-01T16:15:36.608121Z"
    }
   },
   "outputs": [],
   "source": [
    "def callback( evals, params ):  \n",
    "    display(\"{}, {}\".format(len(evaluations),evals))\n",
    "    clear_output(wait=True)\n",
    "    parameters.append(params)\n",
    "    evaluations.append(evals)\n",
    "\n",
    "parameters  = []\n",
    "evaluations = []"
   ]
  },
  {
   "cell_type": "code",
   "execution_count": 8,
   "metadata": {
    "execution": {
     "iopub.execute_input": "2021-06-01T16:15:36.615103Z",
     "iopub.status.busy": "2021-06-01T16:15:36.615103Z",
     "iopub.status.idle": "2021-06-01T16:15:36.623081Z",
     "shell.execute_reply": "2021-06-01T16:15:36.622083Z",
     "shell.execute_reply.started": "2021-06-01T16:15:36.615103Z"
    }
   },
   "outputs": [],
   "source": [
    "optimizer = SPSA( maxiter=100, last_avg=1 )"
   ]
  },
  {
   "cell_type": "code",
   "execution_count": 9,
   "metadata": {
    "execution": {
     "iopub.execute_input": "2021-06-01T16:15:36.627091Z",
     "iopub.status.busy": "2021-06-01T16:15:36.627091Z",
     "iopub.status.idle": "2021-06-01T16:15:36.632057Z",
     "shell.execute_reply": "2021-06-01T16:15:36.631059Z",
     "shell.execute_reply.started": "2021-06-01T16:15:36.627091Z"
    }
   },
   "outputs": [],
   "source": [
    "num_var = ansatz.num_parameters\n",
    "pars = [0.01] * num_var"
   ]
  },
  {
   "cell_type": "code",
   "execution_count": 10,
   "metadata": {
    "execution": {
     "iopub.execute_input": "2021-06-01T16:15:36.634052Z",
     "iopub.status.busy": "2021-06-01T16:15:36.634052Z",
     "iopub.status.idle": "2021-06-01T16:15:36.641033Z",
     "shell.execute_reply": "2021-06-01T16:15:36.640068Z",
     "shell.execute_reply.started": "2021-06-01T16:15:36.634052Z"
    }
   },
   "outputs": [
    {
     "data": {
      "text/plain": [
       "(-1.0887061050307454-8.101384526250279e-17j)"
      ]
     },
     "execution_count": 10,
     "metadata": {},
     "output_type": "execute_result"
    }
   ],
   "source": [
    "result_exact.eigenvalue "
   ]
  },
  {
   "cell_type": "code",
   "execution_count": 11,
   "metadata": {
    "execution": {
     "iopub.execute_input": "2021-06-01T16:15:36.643028Z",
     "iopub.status.busy": "2021-06-01T16:15:36.643028Z",
     "iopub.status.idle": "2021-06-01T16:17:15.978166Z",
     "shell.execute_reply": "2021-06-01T16:17:15.976169Z",
     "shell.execute_reply.started": "2021-06-01T16:15:36.643028Z"
    }
   },
   "outputs": [
    {
     "name": "stdout",
     "output_type": "stream",
     "text": [
      "-1.0684914358693567\n"
     ]
    }
   ],
   "source": [
    "solver = VQE( ansatz, optimizer, pars, grouping = 'Entangled' )\n",
    "results = solver.compute_minimum_eigenvalue(qubit_op)\n",
    "print( results.eigenvalue )"
   ]
  },
  {
   "cell_type": "code",
   "execution_count": 12,
   "metadata": {
    "execution": {
     "iopub.execute_input": "2021-06-01T16:17:15.980156Z",
     "iopub.status.busy": "2021-06-01T16:17:15.980156Z",
     "iopub.status.idle": "2021-06-01T16:19:42.906277Z",
     "shell.execute_reply": "2021-06-01T16:19:42.905280Z",
     "shell.execute_reply.started": "2021-06-01T16:17:15.980156Z"
    }
   },
   "outputs": [
    {
     "name": "stdout",
     "output_type": "stream",
     "text": [
      "-0.9599930473793601\n"
     ]
    }
   ],
   "source": [
    "solver = VQE( ansatz, optimizer, pars, grouping = 'TPB' )\n",
    "results = solver.compute_minimum_eigenvalue(qubit_op)\n",
    "print( results.eigenvalue )"
   ]
  },
  {
   "cell_type": "code",
   "execution_count": 13,
   "metadata": {
    "execution": {
     "iopub.execute_input": "2021-06-01T16:19:42.907274Z",
     "iopub.status.busy": "2021-06-01T16:19:42.907274Z",
     "iopub.status.idle": "2021-06-01T16:20:35.977651Z",
     "shell.execute_reply": "2021-06-01T16:20:35.976684Z",
     "shell.execute_reply.started": "2021-06-01T16:19:42.907274Z"
    }
   },
   "outputs": [
    {
     "name": "stdout",
     "output_type": "stream",
     "text": [
      "-0.9883603373608068\n"
     ]
    }
   ],
   "source": [
    "solver = VQE( ansatz, optimizer, pars, grouping = 'Entangled', conectivity = WC_paris )\n",
    "results = solver.compute_minimum_eigenvalue(qubit_op)\n",
    "print( results.eigenvalue )"
   ]
  },
  {
   "cell_type": "code",
   "execution_count": 14,
   "metadata": {
    "execution": {
     "iopub.execute_input": "2021-06-01T16:20:35.978648Z",
     "iopub.status.busy": "2021-06-01T16:20:35.978648Z",
     "iopub.status.idle": "2021-06-01T16:22:09.542137Z",
     "shell.execute_reply": "2021-06-01T16:22:09.541139Z",
     "shell.execute_reply.started": "2021-06-01T16:20:35.978648Z"
    }
   },
   "outputs": [
    {
     "name": "stdout",
     "output_type": "stream",
     "text": [
      "-1.0647613900772392\n"
     ]
    }
   ],
   "source": [
    "parameters  = []\n",
    "evaluations = []\n",
    "solver = VQE( ansatz, optimizer, pars, grouping = 'Entangled', callback=callback )\n",
    "results = solver.compute_minimum_eigenvalue(qubit_op)\n",
    "print( results.eigenvalue )"
   ]
  },
  {
   "cell_type": "code",
   "execution_count": 15,
   "metadata": {
    "execution": {
     "iopub.execute_input": "2021-06-01T16:22:09.544134Z",
     "iopub.status.busy": "2021-06-01T16:22:09.543135Z",
     "iopub.status.idle": "2021-06-01T16:22:09.549117Z",
     "shell.execute_reply": "2021-06-01T16:22:09.548120Z",
     "shell.execute_reply.started": "2021-06-01T16:22:09.544134Z"
    }
   },
   "outputs": [],
   "source": [
    "# parameters  = []\n",
    "# evaluations = []\n",
    "# optimizer   = SPSA( maxiter=50, last_avg=1 )\n",
    "# solver = VQE( ansatz, optimizer, pars, grouping = 'Entangled', callback=callback, quantum_instance=backend_noise )\n",
    "# results = solver.compute_minimum_eigenvalue(qubit_op)\n",
    "# print( results.eigenvalue )"
   ]
  },
  {
   "cell_type": "code",
   "execution_count": 16,
   "metadata": {
    "execution": {
     "iopub.execute_input": "2021-06-01T16:22:09.550115Z",
     "iopub.status.busy": "2021-06-01T16:22:09.550115Z",
     "iopub.status.idle": "2021-06-01T16:22:09.556101Z",
     "shell.execute_reply": "2021-06-01T16:22:09.556101Z",
     "shell.execute_reply.started": "2021-06-01T16:22:09.550115Z"
    }
   },
   "outputs": [],
   "source": [
    "# plt.plot( evaluations )"
   ]
  },
  {
   "cell_type": "code",
   "execution_count": 17,
   "metadata": {
    "execution": {
     "iopub.execute_input": "2021-06-01T16:22:09.558094Z",
     "iopub.status.busy": "2021-06-01T16:22:09.558094Z",
     "iopub.status.idle": "2021-06-01T16:23:52.733022Z",
     "shell.execute_reply": "2021-06-01T16:23:52.732013Z",
     "shell.execute_reply.started": "2021-06-01T16:22:09.558094Z"
    }
   },
   "outputs": [
    {
     "name": "stdout",
     "output_type": "stream",
     "text": [
      "-0.8658226297324528\n"
     ]
    }
   ],
   "source": [
    "qi = QuantumInstance( backend_sim, shots = NUM_SHOTS )\n",
    "parameters  = []\n",
    "evaluations = []\n",
    "optimizer   = SPSA( maxiter=50, last_avg=1 )\n",
    "solver = VQE( ansatz, optimizer, pars, grouping = 'Entangled', quantum_instance=qi )\n",
    "results = solver.compute_minimum_eigenvalue(qubit_op)\n",
    "print( results.eigenvalue )"
   ]
  },
  {
   "cell_type": "code",
   "execution_count": null,
   "metadata": {},
   "outputs": [],
   "source": []
  },
  {
   "cell_type": "code",
   "execution_count": null,
   "metadata": {},
   "outputs": [],
   "source": []
  },
  {
   "cell_type": "code",
   "execution_count": 18,
   "metadata": {
    "execution": {
     "iopub.execute_input": "2021-06-01T16:23:52.734007Z",
     "iopub.status.busy": "2021-06-01T16:23:52.734007Z",
     "iopub.status.idle": "2021-06-01T16:23:52.739992Z",
     "shell.execute_reply": "2021-06-01T16:23:52.738994Z",
     "shell.execute_reply.started": "2021-06-01T16:23:52.734007Z"
    }
   },
   "outputs": [
    {
     "data": {
      "text/plain": [
       "<qiskit_nature.circuit.library.initial_states.hartree_fock.HartreeFock at 0x162c2ce05c8>"
      ]
     },
     "execution_count": 18,
     "metadata": {},
     "output_type": "execute_result"
    }
   ],
   "source": [
    "solver.ansatz"
   ]
  },
  {
   "cell_type": "code",
   "execution_count": 19,
   "metadata": {
    "execution": {
     "iopub.execute_input": "2021-06-01T16:23:52.740989Z",
     "iopub.status.busy": "2021-06-01T16:23:52.740989Z",
     "iopub.status.idle": "2021-06-01T16:23:52.748986Z",
     "shell.execute_reply": "2021-06-01T16:23:52.747974Z",
     "shell.execute_reply.started": "2021-06-01T16:23:52.740989Z"
    }
   },
   "outputs": [
    {
     "data": {
      "text/plain": [
       "<bound method VariationalAlgorithm.cleanup_parameterized_circuits of <VQE.VQE object at 0x00000162C8D53C88>>"
      ]
     },
     "execution_count": 19,
     "metadata": {},
     "output_type": "execute_result"
    }
   ],
   "source": [
    "solver.cleanup_parameterized_circuits"
   ]
  },
  {
   "cell_type": "code",
   "execution_count": 20,
   "metadata": {
    "execution": {
     "iopub.execute_input": "2021-06-01T16:23:52.750963Z",
     "iopub.status.busy": "2021-06-01T16:23:52.749964Z",
     "iopub.status.idle": "2021-06-01T16:23:52.756946Z",
     "shell.execute_reply": "2021-06-01T16:23:52.755948Z",
     "shell.execute_reply.started": "2021-06-01T16:23:52.750963Z"
    }
   },
   "outputs": [
    {
     "data": {
      "text/plain": [
       "<bound method VQE.construct_expectation of <VQE.VQE object at 0x00000162C8D53C88>>"
      ]
     },
     "execution_count": 20,
     "metadata": {},
     "output_type": "execute_result"
    }
   ],
   "source": [
    "solver.construct_expectation"
   ]
  },
  {
   "cell_type": "code",
   "execution_count": 21,
   "metadata": {
    "execution": {
     "iopub.execute_input": "2021-06-01T16:23:52.757944Z",
     "iopub.status.busy": "2021-06-01T16:23:52.757944Z",
     "iopub.status.idle": "2021-06-01T16:23:53.171836Z",
     "shell.execute_reply": "2021-06-01T16:23:53.170870Z",
     "shell.execute_reply.started": "2021-06-01T16:23:52.757944Z"
    }
   },
   "outputs": [
    {
     "data": {
      "image/png": "[encoded data removed]",
      "text/plain": [
       "<Figure size 1411x264.88 with 1 Axes>"
      ]
     },
     "execution_count": 21,
     "metadata": {},
     "output_type": "execute_result"
    }
   ],
   "source": [
    "solver.get_optimal_circuit().draw(output='mpl')"
   ]
  },
  {
   "cell_type": "code",
   "execution_count": 22,
   "metadata": {
    "execution": {
     "iopub.execute_input": "2021-06-01T16:23:53.172834Z",
     "iopub.status.busy": "2021-06-01T16:23:53.172834Z",
     "iopub.status.idle": "2021-06-01T16:23:53.177847Z",
     "shell.execute_reply": "2021-06-01T16:23:53.177847Z",
     "shell.execute_reply.started": "2021-06-01T16:23:53.172834Z"
    }
   },
   "outputs": [
    {
     "data": {
      "text/plain": [
       "-0.8658226297324528"
      ]
     },
     "execution_count": 22,
     "metadata": {},
     "output_type": "execute_result"
    }
   ],
   "source": [
    "solver.get_optimal_cost()"
   ]
  },
  {
   "cell_type": "code",
   "execution_count": 23,
   "metadata": {
    "execution": {
     "iopub.execute_input": "2021-06-01T16:23:53.180812Z",
     "iopub.status.busy": "2021-06-01T16:23:53.180812Z",
     "iopub.status.idle": "2021-06-01T16:23:53.257607Z",
     "shell.execute_reply": "2021-06-01T16:23:53.257607Z",
     "shell.execute_reply.started": "2021-06-01T16:23:53.180812Z"
    }
   },
   "outputs": [
    {
     "data": {
      "text/plain": [
       "{'0010': 0.3914054703086047,\n",
       " '1010': 0.18520733736140152,\n",
       " '0001': 0.3694247005480278,\n",
       " '1001': 0.17917726470593304,\n",
       " '0110': 0.17780947932407878,\n",
       " '1111': 0.3605618987254477,\n",
       " '0011': 0.4803258171543562,\n",
       " '1100': 0.17258376589355096,\n",
       " '0000': 0.2593467605109036,\n",
       " '0101': 0.17044862679118303,\n",
       " '0111': 0.232544938533394,\n",
       " '0100': 0.10539638721275033,\n",
       " '1110': 0.15388840315306412,\n",
       " '1011': 0.17080633678965193,\n",
       " '1000': 0.08267972847076846,\n",
       " '1101': 0.024705294220065465}"
      ]
     },
     "execution_count": 23,
     "metadata": {},
     "output_type": "execute_result"
    }
   ],
   "source": [
    "solver.get_optimal_vector()"
   ]
  },
  {
   "cell_type": "code",
   "execution_count": 24,
   "metadata": {
    "execution": {
     "iopub.execute_input": "2021-06-01T16:23:53.259607Z",
     "iopub.status.busy": "2021-06-01T16:23:53.259607Z",
     "iopub.status.idle": "2021-06-01T16:23:53.263602Z",
     "shell.execute_reply": "2021-06-01T16:23:53.263602Z",
     "shell.execute_reply.started": "2021-06-01T16:23:53.259607Z"
    }
   },
   "outputs": [],
   "source": [
    "# solver.get_prob_vector_for_params()"
   ]
  },
  {
   "cell_type": "code",
   "execution_count": 25,
   "metadata": {
    "execution": {
     "iopub.execute_input": "2021-06-01T16:23:53.265586Z",
     "iopub.status.busy": "2021-06-01T16:23:53.265586Z",
     "iopub.status.idle": "2021-06-01T16:23:53.269575Z",
     "shell.execute_reply": "2021-06-01T16:23:53.268597Z",
     "shell.execute_reply.started": "2021-06-01T16:23:53.265586Z"
    }
   },
   "outputs": [],
   "source": [
    "# solver.get_probabilities_for_counts()"
   ]
  },
  {
   "cell_type": "code",
   "execution_count": 26,
   "metadata": {
    "execution": {
     "iopub.execute_input": "2021-06-01T16:23:53.270572Z",
     "iopub.status.busy": "2021-06-01T16:23:53.270572Z",
     "iopub.status.idle": "2021-06-01T16:23:53.277553Z",
     "shell.execute_reply": "2021-06-01T16:23:53.276562Z",
     "shell.execute_reply.started": "2021-06-01T16:23:53.270572Z"
    }
   },
   "outputs": [
    {
     "data": {
      "text/plain": [
       "[0.01,\n",
       " 0.01,\n",
       " 0.01,\n",
       " 0.01,\n",
       " 0.01,\n",
       " 0.01,\n",
       " 0.01,\n",
       " 0.01,\n",
       " 0.01,\n",
       " 0.01,\n",
       " 0.01,\n",
       " 0.01,\n",
       " 0.01,\n",
       " 0.01,\n",
       " 0.01,\n",
       " 0.01]"
      ]
     },
     "execution_count": 26,
     "metadata": {},
     "output_type": "execute_result"
    }
   ],
   "source": [
    "solver.initial_point"
   ]
  },
  {
   "cell_type": "code",
   "execution_count": 27,
   "metadata": {
    "execution": {
     "iopub.execute_input": "2021-06-01T16:23:53.280546Z",
     "iopub.status.busy": "2021-06-01T16:23:53.280546Z",
     "iopub.status.idle": "2021-06-01T16:23:53.287542Z",
     "shell.execute_reply": "2021-06-01T16:23:53.286529Z",
     "shell.execute_reply.started": "2021-06-01T16:23:53.280546Z"
    }
   },
   "outputs": [
    {
     "data": {
      "text/plain": [
       "array([ 2.58637669, -0.64938212, -1.0240385 ,  4.5771018 , -4.55509638,\n",
       "        3.63158667, -3.498753  ,  0.38745391, -4.16072226, -0.3255756 ,\n",
       "       -3.97327533,  1.07033661,  1.29371079, -3.75687266, -1.84227781,\n",
       "       -1.14174311])"
      ]
     },
     "execution_count": 27,
     "metadata": {},
     "output_type": "execute_result"
    }
   ],
   "source": [
    "solver.optimal_params"
   ]
  },
  {
   "cell_type": "code",
   "execution_count": 28,
   "metadata": {
    "execution": {
     "iopub.execute_input": "2021-06-01T16:23:53.288524Z",
     "iopub.status.busy": "2021-06-01T16:23:53.288524Z",
     "iopub.status.idle": "2021-06-01T16:23:53.294508Z",
     "shell.execute_reply": "2021-06-01T16:23:53.294508Z",
     "shell.execute_reply.started": "2021-06-01T16:23:53.288524Z"
    }
   },
   "outputs": [
    {
     "data": {
      "text/plain": [
       "<qiskit.algorithms.optimizers.spsa.SPSA at 0x162c8d00c88>"
      ]
     },
     "execution_count": 28,
     "metadata": {},
     "output_type": "execute_result"
    }
   ],
   "source": [
    "solver.optimizer"
   ]
  },
  {
   "cell_type": "code",
   "execution_count": 29,
   "metadata": {
    "execution": {
     "iopub.execute_input": "2021-06-01T16:23:53.296503Z",
     "iopub.status.busy": "2021-06-01T16:23:53.295505Z",
     "iopub.status.idle": "2021-06-01T16:23:53.301489Z",
     "shell.execute_reply": "2021-06-01T16:23:53.300501Z",
     "shell.execute_reply.started": "2021-06-01T16:23:53.296503Z"
    }
   },
   "outputs": [
    {
     "data": {
      "text/plain": [
       "<qiskit.utils.quantum_instance.QuantumInstance at 0x162c8d00fc8>"
      ]
     },
     "execution_count": 29,
     "metadata": {},
     "output_type": "execute_result"
    }
   ],
   "source": [
    "solver.quantum_instance"
   ]
  },
  {
   "cell_type": "code",
   "execution_count": 30,
   "metadata": {
    "execution": {
     "iopub.execute_input": "2021-06-01T16:23:53.302487Z",
     "iopub.status.busy": "2021-06-01T16:23:53.302487Z",
     "iopub.status.idle": "2021-06-01T16:23:53.309468Z",
     "shell.execute_reply": "2021-06-01T16:23:53.308470Z",
     "shell.execute_reply.started": "2021-06-01T16:23:53.302487Z"
    }
   },
   "outputs": [
    {
     "data": {
      "text/plain": [
       "False"
      ]
     },
     "execution_count": 30,
     "metadata": {},
     "output_type": "execute_result"
    }
   ],
   "source": [
    "solver.supports_aux_operators()"
   ]
  },
  {
   "cell_type": "code",
   "execution_count": 31,
   "metadata": {
    "execution": {
     "iopub.execute_input": "2021-06-01T16:23:53.310466Z",
     "iopub.status.busy": "2021-06-01T16:23:53.310466Z",
     "iopub.status.idle": "2021-06-01T16:23:53.339388Z",
     "shell.execute_reply": "2021-06-01T16:23:53.338390Z",
     "shell.execute_reply.started": "2021-06-01T16:23:53.310466Z"
    }
   },
   "outputs": [
    {
     "name": "stdout",
     "output_type": "stream",
     "text": [
      "\n",
      "==================== Setting of VQE ============================\n",
      "Algorithm: VQE\n",
      "-- ansatz_params: [ParameterVectorElement(θ[0]), ParameterVectorElement(θ[10]), ParameterVectorElement(θ[11]), ParameterVectorElement(θ[12]), ParameterVectorElement(θ[13]), ParameterVectorElement(θ[14]), ParameterVectorElement(θ[15]), ParameterVectorElement(θ[1]), ParameterVectorElement(θ[2]), ParameterVectorElement(θ[3]), ParameterVectorElement(θ[4]), ParameterVectorElement(θ[5]), ParameterVectorElement(θ[6]), ParameterVectorElement(θ[7]), ParameterVectorElement(θ[8]), ParameterVectorElement(θ[9])]\n",
      "-- ansatz:         ┌───┐    ┌──────────┐┌──────────┐     ┌──────────┐┌───────────┐»\n",
      "q_0: ───┤ X ├────┤ RY(θ[0]) ├┤ RZ(θ[4]) ├──■──┤ RY(θ[8]) ├┤ RZ(θ[12]) ├»\n",
      "        ├───┤    ├──────────┤├──────────┤┌─┴─┐└──────────┘└┬──────────┤»\n",
      "q_1: ───┤ X ├────┤ RY(θ[1]) ├┤ RZ(θ[5]) ├┤ X ├─────■───────┤ RY(θ[9]) ├»\n",
      "     ┌──┴───┴───┐├──────────┤└──────────┘└───┘   ┌─┴─┐     └──────────┘»\n",
      "q_2: ┤ RY(θ[2]) ├┤ RZ(θ[6]) ├────────────────────┤ X ├──────────■──────»\n",
      "     ├──────────┤├──────────┤                    └───┘        ┌─┴─┐    »\n",
      "q_3: ┤ RY(θ[3]) ├┤ RZ(θ[7]) ├─────────────────────────────────┤ X ├────»\n",
      "     └──────────┘└──────────┘                                 └───┘    »\n",
      "«                               \n",
      "«q_0: ──────────────────────────\n",
      "«     ┌───────────┐             \n",
      "«q_1: ┤ RZ(θ[13]) ├─────────────\n",
      "«     ├───────────┤┌───────────┐\n",
      "«q_2: ┤ RY(θ[10]) ├┤ RZ(θ[14]) ├\n",
      "«     ├───────────┤├───────────┤\n",
      "«q_3: ┤ RY(θ[11]) ├┤ RZ(θ[15]) ├\n",
      "«     └───────────┘└───────────┘\n",
      "-- quantum_instance: \n",
      "Qiskit Terra version: 0.17.0\n",
      "Backend: 'aer_simulator_statevector (None)', with following setting:\n",
      "{'basis_gates': ['ccx', 'cp', 'cswap', 'csx', 'cu1', 'cu2', 'cu3', 'cx', 'cy', 'cz', 'delay', 'diagonal', 'h', 'id', 'initialize', 'mcphase', 'mcr', 'mcrx', 'mcry', 'mcrz', 'mcswap', 'mcsx', 'mcu1', 'mcu2', 'mcu3', 'mcx', 'mcx_gray', 'mcy', 'mcz', 'multiplexer', 'p', 'pauli', 'r', 'rx', 'rxx', 'ry', 'ryy', 'rz', 'rzx', 'rzz', 's', 'sdg', 'swap', 'sx', 't', 'tdg', 'u', 'u1', 'u2', 'u3', 'unitary', 'x', 'y', 'z', 'kraus', 'roerror', 'save_amplitudes', 'save_amplitudes_sq', 'save_density_matrix', 'save_expval', 'save_expval_var', 'save_probabilities', 'save_probabilities_dict', 'save_state', 'save_statevector', 'save_statevector_dict', 'set_statevector', 'snapshot'], 'coupling_map': None}\n",
      "{'initial_layout': None, 'seed_transpiler': None, 'optimization_level': None}\n",
      "RunConfig(max_credits=10, shots=8192)\n",
      "{'timeout': None}\n",
      "{}\n",
      "{}\n",
      "Measurement mitigation: None\n",
      "-- optimizer: <qiskit.algorithms.optimizers.spsa.SPSA object at 0x00000162C8D00C88>\n",
      "-- gradient: None\n",
      "-- cost_fn: <bound method VQE._energy_evaluation of <VQE.VQE object at 0x00000162C8D53C88>>\n",
      "-- initial_point: [0.01, 0.01, 0.01, 0.01, 0.01, 0.01, 0.01, 0.01, 0.01, 0.01, 0.01, 0.01, 0.01, 0.01, 0.01, 0.01]\n",
      "-- parameterized_circuits: None\n",
      "-- order: [4, 3, 2, 1]\n",
      "-- conectiviy: [(0, 1), (0, 2), (0, 3), (1, 0), (1, 2), (1, 3), (2, 0), (2, 1), (2, 3), (3, 0), (3, 1), (3, 2)]\n",
      "-- grouping: Entangled\n",
      "-- eval_count: 100\n",
      "-- callback: None\n",
      "-- expect_op: [<qiskit.circuit.quantumcircuit.QuantumCircuit object at 0x00000162C8A15F88>, <qiskit.circuit.quantumcircuit.QuantumCircuit object at 0x00000162C8A7C508>, <qiskit.circuit.quantumcircuit.QuantumCircuit object at 0x00000162C8A0D4C8>, <qiskit.circuit.quantumcircuit.QuantumCircuit object at 0x00000162C8AB0C48>, <qiskit.circuit.quantumcircuit.QuantumCircuit object at 0x00000162C8AA0488>, <qiskit.circuit.quantumcircuit.QuantumCircuit object at 0x00000162C8A962C8>, <qiskit.circuit.quantumcircuit.QuantumCircuit object at 0x00000162C8A60908>, <qiskit.circuit.quantumcircuit.QuantumCircuit object at 0x00000162C8A02FC8>, <qiskit.circuit.quantumcircuit.QuantumCircuit object at 0x00000162C8E14788>, <qiskit.circuit.quantumcircuit.QuantumCircuit object at 0x00000162C8A24088>, <qiskit.circuit.quantumcircuit.QuantumCircuit object at 0x00000162C83C0E88>, <qiskit.circuit.quantumcircuit.QuantumCircuit object at 0x00000162C8E206C8>, <qiskit.circuit.quantumcircuit.QuantumCircuit object at 0x00000162C8EAB388>, <qiskit.circuit.quantumcircuit.QuantumCircuit object at 0x00000162C8AFE6C8>, <qiskit.circuit.quantumcircuit.QuantumCircuit object at 0x00000162C8AA1248>]\n",
      "-- coeff: [-0.20316612481217325, -0.365258527098598, 0.09275974420404098, -0.2118902053549851, 0.365258527098598, -0.11384420116816225, 0.11395335131674317, -0.06043919280467715, -0.09275974420404105, 0.11395335131674318, -0.12274347556009738, 0.056287757667526306, -0.2118902053549851, 0.06043919280467715, -0.056287757667526306, 0.0846016988633049, 0.019390023793252498, -0.019390023793252498, -0.010951534973539137, 0.010951534973539137, 0.01277809801936714, -0.01277809801936714, -0.00900252139905185, 0.00900252139905185, -0.002936887226605865, -0.0029368872266058656, 0.010679892682752462, 0.010679892682752462, -0.011923147970878475, -0.011923147970878475, 0.001696659423374515, 0.001696659423374515, 0.0007448136948643796, -0.0007448136948643789, -0.03439054159380009, 0.03439054159380009, 0.03239612975064377, -0.03239612975064377, -0.0027382496936227945, 0.0027382496936227945, 0.019390023793252498, 0.010951534973539137, -0.01277809801936714, -0.00900252139905185, 0.019390023793252498, 0.010951534973539137, -0.01277809801936714, -0.00900252139905185, 0.006586890911505881, -0.006586890911505881, 0.006586890911505881, -0.006586890911505881, -0.0022204528143394257, -0.0022204528143394257, -0.0022204528143394257, -0.0022204528143394257, 0.007858062290639314, -0.007858062290639314, 0.007858062290639314, -0.007858062290639314, -0.002936887226605863, -0.010679892682752462, 0.011923147970878475, 0.001696659423374515, 0.002936887226605863, 0.010679892682752462, -0.011923147970878475, -0.001696659423374515, -0.0022204528143394257, 0.0022204528143394257, 0.0022204528143394257, -0.0022204528143394257, 0.00313843976345993, 0.0031384397634599296, -0.00313843976345993, -0.0031384397634599296, -0.008497862762266498, 0.008497862762266498, 0.008497862762266498, -0.008497862762266498, 0.0007448136948643926, 0.03439054159380009, -0.03239612975064377, -0.0027382496936227945, -0.000744813694864393, -0.03439054159380009, 0.03239612975064377, 0.0027382496936227945, 0.007858062290639314, -0.007858062290639314, -0.007858062290639314, 0.007858062290639314, -0.008497862762266498, -0.008497862762266498, 0.008497862762266498, 0.008497862762266498, 0.03084669637448977, -0.03084669637448977, -0.03084669637448977, 0.030846696374489765]\n",
      "-- label: ['IIII', 'ZIII', 'IZII', 'ZZII', 'IIZI', 'ZIZI', 'IZZI', 'ZZZI', 'IIIZ', 'ZIIZ', 'IZIZ', 'ZZIZ', 'IIZZ', 'ZIZZ', 'IZZZ', 'ZZZZ', 'XIII', 'XZII', 'XIZI', 'XZZI', 'XIIZ', 'XZIZ', 'XIZZ', 'XZZZ', 'IXII', 'ZXII', 'IXZI', 'ZXZI', 'IXIZ', 'ZXIZ', 'IXZZ', 'ZXZZ', 'XXII', 'YYII', 'XXZI', 'YYZI', 'XXIZ', 'YYIZ', 'XXZZ', 'YYZZ', 'IIXI', 'ZIXI', 'IZXI', 'ZZXI', 'IIXZ', 'ZIXZ', 'IZXZ', 'ZZXZ', 'XIXI', 'XZXI', 'XIXZ', 'XZXZ', 'IXXI', 'ZXXI', 'IXXZ', 'ZXXZ', 'XXXI', 'YYXI', 'XXXZ', 'YYXZ', 'IIIX', 'ZIIX', 'IZIX', 'ZZIX', 'IIZX', 'ZIZX', 'IZZX', 'ZZZX', 'XIIX', 'XZIX', 'XIZX', 'XZZX', 'IXIX', 'ZXIX', 'IXZX', 'ZXZX', 'XXIX', 'YYIX', 'XXZX', 'YYZX', 'IIXX', 'ZIXX', 'IZXX', 'ZZXX', 'IIYY', 'ZIYY', 'IZYY', 'ZZYY', 'XIXX', 'XZXX', 'XIYY', 'XZYY', 'IXXX', 'ZXXX', 'IXYY', 'ZXYY', 'XXXX', 'YYXX', 'XXYY', 'YYYY']\n",
      "-- Groups: [[99, 39, 87, 97, 98, 15, 38, 83, 96, 33, 84, 3, 12, 32, 80, 0], [59, 37, 57, 47, 58, 11, 36, 43, 56, 44, 8, 40], [79, 35, 77, 67, 78, 7, 34, 63, 76, 64, 4, 60], [91, 86, 90, 23, 89, 14, 22, 82, 88, 17, 2, 16], [95, 85, 94, 31, 93, 13, 30, 81, 92, 25, 1, 24], [51, 75, 5, 10, 48, 72], [55, 71, 6, 9, 52, 68], [19, 21, 18, 20], [27, 29, 26, 28], [45, 46, 41, 42], [49, 50], [53, 54], [65, 66, 61, 62], [69, 70], [73, 74]]\n",
      "-- Measurements: [[[4, [2, 3]], [4, [0, 1]]], [[1, [2]], [3, [3]], [4, [0, 1]]], [[1, [3]], [3, [2]], [4, [0, 1]]], [[1, [0]], [3, [1]], [4, [2, 3]]], [[1, [1]], [3, [0]], [4, [2, 3]]], [[4, [0, 2]], [4, [1, 3]]], [[4, [0, 3]], [4, [1, 2]]], [[3, [2]], [3, [3]], [3, [1]], [1, [0]]], [[3, [2]], [3, [3]], [3, [0]], [1, [1]]], [[3, [0]], [3, [1]], [3, [3]], [1, [2]]], [[3, [1]], [3, [3]], [1, [0]], [1, [2]]], [[3, [0]], [3, [3]], [1, [1]], [1, [2]]], [[3, [0]], [3, [1]], [3, [2]], [1, [3]]], [[3, [1]], [3, [2]], [1, [0]], [1, [3]]], [[3, [0]], [3, [2]], [1, [1]], [1, [3]]]]\n",
      "-- prob2Exp: [array([[ 0.0308467 , -0.0308467 , -0.0308467 ,  0.0308467 , -0.0308467 ,\n",
      "         0.0308467 ,  0.0308467 , -0.0308467 , -0.0308467 ,  0.0308467 ,\n",
      "         0.0308467 , -0.0308467 ,  0.0308467 , -0.0308467 , -0.0308467 ,\n",
      "         0.0308467 ],\n",
      "       [-0.00273825, -0.00273825,  0.00273825,  0.00273825,  0.00273825,\n",
      "         0.00273825, -0.00273825, -0.00273825,  0.00273825,  0.00273825,\n",
      "        -0.00273825, -0.00273825, -0.00273825, -0.00273825,  0.00273825,\n",
      "         0.00273825],\n",
      "       [-0.00273825,  0.00273825,  0.00273825, -0.00273825, -0.00273825,\n",
      "         0.00273825,  0.00273825, -0.00273825,  0.00273825, -0.00273825,\n",
      "        -0.00273825,  0.00273825,  0.00273825, -0.00273825, -0.00273825,\n",
      "         0.00273825],\n",
      "       [ 0.0308467 , -0.0308467 ,  0.0308467 , -0.0308467 , -0.0308467 ,\n",
      "         0.0308467 , -0.0308467 ,  0.0308467 , -0.0308467 ,  0.0308467 ,\n",
      "        -0.0308467 ,  0.0308467 ,  0.0308467 , -0.0308467 ,  0.0308467 ,\n",
      "        -0.0308467 ],\n",
      "       [ 0.0308467 , -0.0308467 , -0.0308467 ,  0.0308467 , -0.0308467 ,\n",
      "         0.0308467 ,  0.0308467 , -0.0308467 ,  0.0308467 , -0.0308467 ,\n",
      "        -0.0308467 ,  0.0308467 , -0.0308467 ,  0.0308467 ,  0.0308467 ,\n",
      "        -0.0308467 ],\n",
      "       [ 0.0846017 ,  0.0846017 , -0.0846017 , -0.0846017 ,  0.0846017 ,\n",
      "         0.0846017 , -0.0846017 , -0.0846017 , -0.0846017 , -0.0846017 ,\n",
      "         0.0846017 ,  0.0846017 , -0.0846017 , -0.0846017 ,  0.0846017 ,\n",
      "         0.0846017 ],\n",
      "       [-0.00273825, -0.00273825,  0.00273825,  0.00273825,  0.00273825,\n",
      "         0.00273825, -0.00273825, -0.00273825, -0.00273825, -0.00273825,\n",
      "         0.00273825,  0.00273825,  0.00273825,  0.00273825, -0.00273825,\n",
      "        -0.00273825],\n",
      "       [-0.00273825,  0.00273825, -0.00273825,  0.00273825, -0.00273825,\n",
      "         0.00273825, -0.00273825,  0.00273825,  0.00273825, -0.00273825,\n",
      "         0.00273825, -0.00273825,  0.00273825, -0.00273825,  0.00273825,\n",
      "        -0.00273825],\n",
      "       [ 0.0308467 , -0.0308467 ,  0.0308467 , -0.0308467 , -0.0308467 ,\n",
      "         0.0308467 , -0.0308467 ,  0.0308467 ,  0.0308467 , -0.0308467 ,\n",
      "         0.0308467 , -0.0308467 , -0.0308467 ,  0.0308467 , -0.0308467 ,\n",
      "         0.0308467 ],\n",
      "       [ 0.00074481,  0.00074481,  0.00074481,  0.00074481, -0.00074481,\n",
      "        -0.00074481, -0.00074481, -0.00074481, -0.00074481, -0.00074481,\n",
      "        -0.00074481, -0.00074481,  0.00074481,  0.00074481,  0.00074481,\n",
      "         0.00074481],\n",
      "       [ 0.00074481, -0.00074481, -0.00074481,  0.00074481,  0.00074481,\n",
      "        -0.00074481, -0.00074481,  0.00074481,  0.00074481, -0.00074481,\n",
      "        -0.00074481,  0.00074481,  0.00074481, -0.00074481, -0.00074481,\n",
      "         0.00074481],\n",
      "       [-0.21189021, -0.21189021, -0.21189021, -0.21189021, -0.21189021,\n",
      "        -0.21189021, -0.21189021, -0.21189021,  0.21189021,  0.21189021,\n",
      "         0.21189021,  0.21189021,  0.21189021,  0.21189021,  0.21189021,\n",
      "         0.21189021],\n",
      "       [-0.21189021, -0.21189021,  0.21189021,  0.21189021, -0.21189021,\n",
      "        -0.21189021,  0.21189021,  0.21189021, -0.21189021, -0.21189021,\n",
      "         0.21189021,  0.21189021, -0.21189021, -0.21189021,  0.21189021,\n",
      "         0.21189021],\n",
      "       [ 0.00074481,  0.00074481,  0.00074481,  0.00074481, -0.00074481,\n",
      "        -0.00074481, -0.00074481, -0.00074481,  0.00074481,  0.00074481,\n",
      "         0.00074481,  0.00074481, -0.00074481, -0.00074481, -0.00074481,\n",
      "        -0.00074481],\n",
      "       [ 0.00074481, -0.00074481,  0.00074481, -0.00074481,  0.00074481,\n",
      "        -0.00074481,  0.00074481, -0.00074481,  0.00074481, -0.00074481,\n",
      "         0.00074481, -0.00074481,  0.00074481, -0.00074481,  0.00074481,\n",
      "        -0.00074481],\n",
      "       [-0.20316612, -0.20316612, -0.20316612, -0.20316612, -0.20316612,\n",
      "        -0.20316612, -0.20316612, -0.20316612, -0.20316612, -0.20316612,\n",
      "        -0.20316612, -0.20316612, -0.20316612, -0.20316612, -0.20316612,\n",
      "        -0.20316612]]), array([[ 0.00785806, -0.00785806, -0.00785806,  0.00785806, -0.00785806,\n",
      "         0.00785806,  0.00785806, -0.00785806, -0.00785806,  0.00785806,\n",
      "         0.00785806, -0.00785806,  0.00785806, -0.00785806, -0.00785806,\n",
      "         0.00785806],\n",
      "       [ 0.03239613,  0.03239613, -0.03239613, -0.03239613, -0.03239613,\n",
      "        -0.03239613,  0.03239613,  0.03239613, -0.03239613, -0.03239613,\n",
      "         0.03239613,  0.03239613,  0.03239613,  0.03239613, -0.03239613,\n",
      "        -0.03239613],\n",
      "       [ 0.00785806, -0.00785806,  0.00785806, -0.00785806, -0.00785806,\n",
      "         0.00785806, -0.00785806,  0.00785806, -0.00785806,  0.00785806,\n",
      "        -0.00785806,  0.00785806,  0.00785806, -0.00785806,  0.00785806,\n",
      "        -0.00785806],\n",
      "       [-0.00900252,  0.00900252,  0.00900252, -0.00900252, -0.00900252,\n",
      "         0.00900252,  0.00900252, -0.00900252,  0.00900252, -0.00900252,\n",
      "        -0.00900252,  0.00900252,  0.00900252, -0.00900252, -0.00900252,\n",
      "         0.00900252],\n",
      "       [ 0.00785806, -0.00785806, -0.00785806,  0.00785806, -0.00785806,\n",
      "         0.00785806,  0.00785806, -0.00785806,  0.00785806, -0.00785806,\n",
      "        -0.00785806,  0.00785806, -0.00785806,  0.00785806,  0.00785806,\n",
      "        -0.00785806],\n",
      "       [ 0.05628776,  0.05628776, -0.05628776, -0.05628776,  0.05628776,\n",
      "         0.05628776, -0.05628776, -0.05628776, -0.05628776, -0.05628776,\n",
      "         0.05628776,  0.05628776, -0.05628776, -0.05628776,  0.05628776,\n",
      "         0.05628776],\n",
      "       [ 0.03239613,  0.03239613, -0.03239613, -0.03239613, -0.03239613,\n",
      "        -0.03239613,  0.03239613,  0.03239613,  0.03239613,  0.03239613,\n",
      "        -0.03239613, -0.03239613, -0.03239613, -0.03239613,  0.03239613,\n",
      "         0.03239613],\n",
      "       [-0.00900252,  0.00900252, -0.00900252,  0.00900252, -0.00900252,\n",
      "         0.00900252, -0.00900252,  0.00900252,  0.00900252, -0.00900252,\n",
      "         0.00900252, -0.00900252,  0.00900252, -0.00900252,  0.00900252,\n",
      "        -0.00900252],\n",
      "       [ 0.00785806, -0.00785806,  0.00785806, -0.00785806, -0.00785806,\n",
      "         0.00785806, -0.00785806,  0.00785806,  0.00785806, -0.00785806,\n",
      "         0.00785806, -0.00785806, -0.00785806,  0.00785806, -0.00785806,\n",
      "         0.00785806],\n",
      "       [ 0.01939002, -0.01939002, -0.01939002,  0.01939002,  0.01939002,\n",
      "        -0.01939002, -0.01939002,  0.01939002,  0.01939002, -0.01939002,\n",
      "        -0.01939002,  0.01939002,  0.01939002, -0.01939002, -0.01939002,\n",
      "         0.01939002],\n",
      "       [-0.09275974, -0.09275974,  0.09275974,  0.09275974, -0.09275974,\n",
      "        -0.09275974,  0.09275974,  0.09275974, -0.09275974, -0.09275974,\n",
      "         0.09275974,  0.09275974, -0.09275974, -0.09275974,  0.09275974,\n",
      "         0.09275974],\n",
      "       [ 0.01939002, -0.01939002,  0.01939002, -0.01939002,  0.01939002,\n",
      "        -0.01939002,  0.01939002, -0.01939002,  0.01939002, -0.01939002,\n",
      "         0.01939002, -0.01939002,  0.01939002, -0.01939002,  0.01939002,\n",
      "        -0.01939002]]), array([[ 0.00849786, -0.00849786, -0.00849786,  0.00849786, -0.00849786,\n",
      "         0.00849786,  0.00849786, -0.00849786, -0.00849786,  0.00849786,\n",
      "         0.00849786, -0.00849786,  0.00849786, -0.00849786, -0.00849786,\n",
      "         0.00849786],\n",
      "       [-0.03439054, -0.03439054,  0.03439054,  0.03439054,  0.03439054,\n",
      "         0.03439054, -0.03439054, -0.03439054,  0.03439054,  0.03439054,\n",
      "        -0.03439054, -0.03439054, -0.03439054, -0.03439054,  0.03439054,\n",
      "         0.03439054],\n",
      "       [-0.00849786,  0.00849786, -0.00849786,  0.00849786,  0.00849786,\n",
      "        -0.00849786,  0.00849786, -0.00849786,  0.00849786, -0.00849786,\n",
      "         0.00849786, -0.00849786, -0.00849786,  0.00849786, -0.00849786,\n",
      "         0.00849786],\n",
      "       [-0.00169666,  0.00169666,  0.00169666, -0.00169666, -0.00169666,\n",
      "         0.00169666,  0.00169666, -0.00169666,  0.00169666, -0.00169666,\n",
      "        -0.00169666,  0.00169666,  0.00169666, -0.00169666, -0.00169666,\n",
      "         0.00169666],\n",
      "       [ 0.00849786, -0.00849786, -0.00849786,  0.00849786, -0.00849786,\n",
      "         0.00849786,  0.00849786, -0.00849786,  0.00849786, -0.00849786,\n",
      "        -0.00849786,  0.00849786, -0.00849786,  0.00849786,  0.00849786,\n",
      "        -0.00849786],\n",
      "       [-0.06043919, -0.06043919,  0.06043919,  0.06043919, -0.06043919,\n",
      "        -0.06043919,  0.06043919,  0.06043919,  0.06043919,  0.06043919,\n",
      "        -0.06043919, -0.06043919,  0.06043919,  0.06043919, -0.06043919,\n",
      "        -0.06043919],\n",
      "       [-0.03439054, -0.03439054,  0.03439054,  0.03439054,  0.03439054,\n",
      "         0.03439054, -0.03439054, -0.03439054, -0.03439054, -0.03439054,\n",
      "         0.03439054,  0.03439054,  0.03439054,  0.03439054, -0.03439054,\n",
      "        -0.03439054],\n",
      "       [ 0.00169666, -0.00169666,  0.00169666, -0.00169666,  0.00169666,\n",
      "        -0.00169666,  0.00169666, -0.00169666, -0.00169666,  0.00169666,\n",
      "        -0.00169666,  0.00169666, -0.00169666,  0.00169666, -0.00169666,\n",
      "         0.00169666],\n",
      "       [-0.00849786,  0.00849786, -0.00849786,  0.00849786,  0.00849786,\n",
      "        -0.00849786,  0.00849786, -0.00849786, -0.00849786,  0.00849786,\n",
      "        -0.00849786,  0.00849786,  0.00849786, -0.00849786,  0.00849786,\n",
      "        -0.00849786],\n",
      "       [ 0.00293689, -0.00293689, -0.00293689,  0.00293689,  0.00293689,\n",
      "        -0.00293689, -0.00293689,  0.00293689,  0.00293689, -0.00293689,\n",
      "        -0.00293689,  0.00293689,  0.00293689, -0.00293689, -0.00293689,\n",
      "         0.00293689],\n",
      "       [ 0.36525853,  0.36525853, -0.36525853, -0.36525853,  0.36525853,\n",
      "         0.36525853, -0.36525853, -0.36525853,  0.36525853,  0.36525853,\n",
      "        -0.36525853, -0.36525853,  0.36525853,  0.36525853, -0.36525853,\n",
      "        -0.36525853],\n",
      "       [-0.00293689,  0.00293689, -0.00293689,  0.00293689, -0.00293689,\n",
      "         0.00293689, -0.00293689,  0.00293689, -0.00293689,  0.00293689,\n",
      "        -0.00293689,  0.00293689, -0.00293689,  0.00293689, -0.00293689,\n",
      "         0.00293689]]), array([[-0.00785806,  0.00785806,  0.00785806, -0.00785806,  0.00785806,\n",
      "        -0.00785806, -0.00785806,  0.00785806,  0.00785806, -0.00785806,\n",
      "        -0.00785806,  0.00785806, -0.00785806,  0.00785806,  0.00785806,\n",
      "        -0.00785806],\n",
      "       [-0.03239613, -0.03239613,  0.03239613,  0.03239613,  0.03239613,\n",
      "         0.03239613, -0.03239613, -0.03239613,  0.03239613,  0.03239613,\n",
      "        -0.03239613, -0.03239613, -0.03239613, -0.03239613,  0.03239613,\n",
      "         0.03239613],\n",
      "       [ 0.00785806, -0.00785806,  0.00785806, -0.00785806, -0.00785806,\n",
      "         0.00785806, -0.00785806,  0.00785806, -0.00785806,  0.00785806,\n",
      "        -0.00785806,  0.00785806,  0.00785806, -0.00785806,  0.00785806,\n",
      "        -0.00785806],\n",
      "       [ 0.00900252, -0.00900252, -0.00900252,  0.00900252,  0.00900252,\n",
      "        -0.00900252, -0.00900252,  0.00900252, -0.00900252,  0.00900252,\n",
      "         0.00900252, -0.00900252, -0.00900252,  0.00900252,  0.00900252,\n",
      "        -0.00900252],\n",
      "       [-0.00785806,  0.00785806,  0.00785806, -0.00785806,  0.00785806,\n",
      "        -0.00785806, -0.00785806,  0.00785806, -0.00785806,  0.00785806,\n",
      "         0.00785806, -0.00785806,  0.00785806, -0.00785806, -0.00785806,\n",
      "         0.00785806],\n",
      "       [-0.05628776, -0.05628776,  0.05628776,  0.05628776, -0.05628776,\n",
      "        -0.05628776,  0.05628776,  0.05628776,  0.05628776,  0.05628776,\n",
      "        -0.05628776, -0.05628776,  0.05628776,  0.05628776, -0.05628776,\n",
      "        -0.05628776],\n",
      "       [-0.00900252,  0.00900252, -0.00900252,  0.00900252, -0.00900252,\n",
      "         0.00900252, -0.00900252,  0.00900252,  0.00900252, -0.00900252,\n",
      "         0.00900252, -0.00900252,  0.00900252, -0.00900252,  0.00900252,\n",
      "        -0.00900252],\n",
      "       [-0.03239613, -0.03239613,  0.03239613,  0.03239613,  0.03239613,\n",
      "         0.03239613, -0.03239613, -0.03239613, -0.03239613, -0.03239613,\n",
      "         0.03239613,  0.03239613,  0.03239613,  0.03239613, -0.03239613,\n",
      "        -0.03239613],\n",
      "       [ 0.00785806, -0.00785806,  0.00785806, -0.00785806, -0.00785806,\n",
      "         0.00785806, -0.00785806,  0.00785806,  0.00785806, -0.00785806,\n",
      "         0.00785806, -0.00785806, -0.00785806,  0.00785806, -0.00785806,\n",
      "         0.00785806],\n",
      "       [-0.01939002,  0.01939002,  0.01939002, -0.01939002, -0.01939002,\n",
      "         0.01939002,  0.01939002, -0.01939002, -0.01939002,  0.01939002,\n",
      "         0.01939002, -0.01939002, -0.01939002,  0.01939002,  0.01939002,\n",
      "        -0.01939002],\n",
      "       [ 0.09275974,  0.09275974, -0.09275974, -0.09275974,  0.09275974,\n",
      "         0.09275974, -0.09275974, -0.09275974,  0.09275974,  0.09275974,\n",
      "        -0.09275974, -0.09275974,  0.09275974,  0.09275974, -0.09275974,\n",
      "        -0.09275974],\n",
      "       [ 0.01939002, -0.01939002,  0.01939002, -0.01939002,  0.01939002,\n",
      "        -0.01939002,  0.01939002, -0.01939002,  0.01939002, -0.01939002,\n",
      "         0.01939002, -0.01939002,  0.01939002, -0.01939002,  0.01939002,\n",
      "        -0.01939002]]), array([[-0.00849786,  0.00849786,  0.00849786, -0.00849786,  0.00849786,\n",
      "        -0.00849786, -0.00849786,  0.00849786,  0.00849786, -0.00849786,\n",
      "        -0.00849786,  0.00849786, -0.00849786,  0.00849786,  0.00849786,\n",
      "        -0.00849786],\n",
      "       [ 0.03439054,  0.03439054, -0.03439054, -0.03439054, -0.03439054,\n",
      "        -0.03439054,  0.03439054,  0.03439054, -0.03439054, -0.03439054,\n",
      "         0.03439054,  0.03439054,  0.03439054,  0.03439054, -0.03439054,\n",
      "        -0.03439054],\n",
      "       [-0.00849786,  0.00849786, -0.00849786,  0.00849786,  0.00849786,\n",
      "        -0.00849786,  0.00849786, -0.00849786,  0.00849786, -0.00849786,\n",
      "         0.00849786, -0.00849786, -0.00849786,  0.00849786, -0.00849786,\n",
      "         0.00849786],\n",
      "       [ 0.00169666, -0.00169666, -0.00169666,  0.00169666,  0.00169666,\n",
      "        -0.00169666, -0.00169666,  0.00169666, -0.00169666,  0.00169666,\n",
      "         0.00169666, -0.00169666, -0.00169666,  0.00169666,  0.00169666,\n",
      "        -0.00169666],\n",
      "       [-0.00849786,  0.00849786,  0.00849786, -0.00849786,  0.00849786,\n",
      "        -0.00849786, -0.00849786,  0.00849786, -0.00849786,  0.00849786,\n",
      "         0.00849786, -0.00849786,  0.00849786, -0.00849786, -0.00849786,\n",
      "         0.00849786],\n",
      "       [ 0.06043919,  0.06043919, -0.06043919, -0.06043919,  0.06043919,\n",
      "         0.06043919, -0.06043919, -0.06043919, -0.06043919, -0.06043919,\n",
      "         0.06043919,  0.06043919, -0.06043919, -0.06043919,  0.06043919,\n",
      "         0.06043919],\n",
      "       [ 0.00169666, -0.00169666,  0.00169666, -0.00169666,  0.00169666,\n",
      "        -0.00169666,  0.00169666, -0.00169666, -0.00169666,  0.00169666,\n",
      "        -0.00169666,  0.00169666, -0.00169666,  0.00169666, -0.00169666,\n",
      "         0.00169666],\n",
      "       [ 0.03439054,  0.03439054, -0.03439054, -0.03439054, -0.03439054,\n",
      "        -0.03439054,  0.03439054,  0.03439054,  0.03439054,  0.03439054,\n",
      "        -0.03439054, -0.03439054, -0.03439054, -0.03439054,  0.03439054,\n",
      "         0.03439054],\n",
      "       [-0.00849786,  0.00849786, -0.00849786,  0.00849786,  0.00849786,\n",
      "        -0.00849786,  0.00849786, -0.00849786, -0.00849786,  0.00849786,\n",
      "        -0.00849786,  0.00849786,  0.00849786, -0.00849786,  0.00849786,\n",
      "        -0.00849786],\n",
      "       [-0.00293689,  0.00293689,  0.00293689, -0.00293689, -0.00293689,\n",
      "         0.00293689,  0.00293689, -0.00293689, -0.00293689,  0.00293689,\n",
      "         0.00293689, -0.00293689, -0.00293689,  0.00293689,  0.00293689,\n",
      "        -0.00293689],\n",
      "       [-0.36525853, -0.36525853,  0.36525853,  0.36525853, -0.36525853,\n",
      "        -0.36525853,  0.36525853,  0.36525853, -0.36525853, -0.36525853,\n",
      "         0.36525853,  0.36525853, -0.36525853, -0.36525853,  0.36525853,\n",
      "         0.36525853],\n",
      "       [-0.00293689,  0.00293689, -0.00293689,  0.00293689, -0.00293689,\n",
      "         0.00293689, -0.00293689,  0.00293689, -0.00293689,  0.00293689,\n",
      "        -0.00293689,  0.00293689, -0.00293689,  0.00293689, -0.00293689,\n",
      "         0.00293689]]), array([[-0.00658689,  0.00658689, -0.00658689,  0.00658689, -0.00658689,\n",
      "         0.00658689, -0.00658689,  0.00658689,  0.00658689, -0.00658689,\n",
      "         0.00658689, -0.00658689,  0.00658689, -0.00658689,  0.00658689,\n",
      "        -0.00658689],\n",
      "       [-0.00313844, -0.00313844,  0.00313844,  0.00313844,  0.00313844,\n",
      "         0.00313844, -0.00313844, -0.00313844, -0.00313844, -0.00313844,\n",
      "         0.00313844,  0.00313844,  0.00313844,  0.00313844, -0.00313844,\n",
      "        -0.00313844],\n",
      "       [-0.1138442 , -0.1138442 ,  0.1138442 ,  0.1138442 , -0.1138442 ,\n",
      "        -0.1138442 ,  0.1138442 ,  0.1138442 , -0.1138442 , -0.1138442 ,\n",
      "         0.1138442 ,  0.1138442 , -0.1138442 , -0.1138442 ,  0.1138442 ,\n",
      "         0.1138442 ],\n",
      "       [-0.12274348, -0.12274348, -0.12274348, -0.12274348, -0.12274348,\n",
      "        -0.12274348, -0.12274348, -0.12274348,  0.12274348,  0.12274348,\n",
      "         0.12274348,  0.12274348,  0.12274348,  0.12274348,  0.12274348,\n",
      "         0.12274348],\n",
      "       [ 0.00658689, -0.00658689,  0.00658689, -0.00658689,  0.00658689,\n",
      "        -0.00658689,  0.00658689, -0.00658689,  0.00658689, -0.00658689,\n",
      "         0.00658689, -0.00658689,  0.00658689, -0.00658689,  0.00658689,\n",
      "        -0.00658689],\n",
      "       [ 0.00313844,  0.00313844,  0.00313844,  0.00313844, -0.00313844,\n",
      "        -0.00313844, -0.00313844, -0.00313844,  0.00313844,  0.00313844,\n",
      "         0.00313844,  0.00313844, -0.00313844, -0.00313844, -0.00313844,\n",
      "        -0.00313844]]), array([[-0.00222045, -0.00222045,  0.00222045,  0.00222045,  0.00222045,\n",
      "         0.00222045, -0.00222045, -0.00222045, -0.00222045, -0.00222045,\n",
      "         0.00222045,  0.00222045,  0.00222045,  0.00222045, -0.00222045,\n",
      "        -0.00222045],\n",
      "       [-0.00222045,  0.00222045, -0.00222045,  0.00222045, -0.00222045,\n",
      "         0.00222045, -0.00222045,  0.00222045,  0.00222045, -0.00222045,\n",
      "         0.00222045, -0.00222045,  0.00222045, -0.00222045,  0.00222045,\n",
      "        -0.00222045],\n",
      "       [ 0.11395335,  0.11395335,  0.11395335,  0.11395335,  0.11395335,\n",
      "         0.11395335,  0.11395335,  0.11395335, -0.11395335, -0.11395335,\n",
      "        -0.11395335, -0.11395335, -0.11395335, -0.11395335, -0.11395335,\n",
      "        -0.11395335],\n",
      "       [ 0.11395335,  0.11395335, -0.11395335, -0.11395335,  0.11395335,\n",
      "         0.11395335, -0.11395335, -0.11395335,  0.11395335,  0.11395335,\n",
      "        -0.11395335, -0.11395335,  0.11395335,  0.11395335, -0.11395335,\n",
      "        -0.11395335],\n",
      "       [-0.00222045, -0.00222045, -0.00222045, -0.00222045,  0.00222045,\n",
      "         0.00222045,  0.00222045,  0.00222045, -0.00222045, -0.00222045,\n",
      "        -0.00222045, -0.00222045,  0.00222045,  0.00222045,  0.00222045,\n",
      "         0.00222045],\n",
      "       [-0.00222045,  0.00222045, -0.00222045,  0.00222045, -0.00222045,\n",
      "         0.00222045, -0.00222045,  0.00222045, -0.00222045,  0.00222045,\n",
      "        -0.00222045,  0.00222045, -0.00222045,  0.00222045, -0.00222045,\n",
      "         0.00222045]]), array([[ 0.01095153, -0.01095153,  0.01095153, -0.01095153, -0.01095153,\n",
      "         0.01095153, -0.01095153,  0.01095153, -0.01095153,  0.01095153,\n",
      "        -0.01095153,  0.01095153,  0.01095153, -0.01095153,  0.01095153,\n",
      "        -0.01095153],\n",
      "       [-0.0127781 , -0.0127781 ,  0.0127781 ,  0.0127781 ,  0.0127781 ,\n",
      "         0.0127781 , -0.0127781 , -0.0127781 ,  0.0127781 ,  0.0127781 ,\n",
      "        -0.0127781 , -0.0127781 , -0.0127781 , -0.0127781 ,  0.0127781 ,\n",
      "         0.0127781 ],\n",
      "       [-0.01095153,  0.01095153, -0.01095153,  0.01095153, -0.01095153,\n",
      "         0.01095153, -0.01095153,  0.01095153,  0.01095153, -0.01095153,\n",
      "         0.01095153, -0.01095153,  0.01095153, -0.01095153,  0.01095153,\n",
      "        -0.01095153],\n",
      "       [ 0.0127781 ,  0.0127781 , -0.0127781 , -0.0127781 ,  0.0127781 ,\n",
      "         0.0127781 , -0.0127781 , -0.0127781 , -0.0127781 , -0.0127781 ,\n",
      "         0.0127781 ,  0.0127781 , -0.0127781 , -0.0127781 ,  0.0127781 ,\n",
      "         0.0127781 ]]), array([[ 0.01067989, -0.01067989,  0.01067989, -0.01067989, -0.01067989,\n",
      "         0.01067989, -0.01067989,  0.01067989, -0.01067989,  0.01067989,\n",
      "        -0.01067989,  0.01067989,  0.01067989, -0.01067989,  0.01067989,\n",
      "        -0.01067989],\n",
      "       [-0.01192315, -0.01192315,  0.01192315,  0.01192315,  0.01192315,\n",
      "         0.01192315, -0.01192315, -0.01192315,  0.01192315,  0.01192315,\n",
      "        -0.01192315, -0.01192315, -0.01192315, -0.01192315,  0.01192315,\n",
      "         0.01192315],\n",
      "       [ 0.01067989, -0.01067989,  0.01067989, -0.01067989,  0.01067989,\n",
      "        -0.01067989,  0.01067989, -0.01067989, -0.01067989,  0.01067989,\n",
      "        -0.01067989,  0.01067989, -0.01067989,  0.01067989, -0.01067989,\n",
      "         0.01067989],\n",
      "       [-0.01192315, -0.01192315,  0.01192315,  0.01192315, -0.01192315,\n",
      "        -0.01192315,  0.01192315,  0.01192315,  0.01192315,  0.01192315,\n",
      "        -0.01192315, -0.01192315,  0.01192315,  0.01192315, -0.01192315,\n",
      "        -0.01192315]]), array([[ 0.01095153, -0.01095153,  0.01095153, -0.01095153, -0.01095153,\n",
      "         0.01095153, -0.01095153,  0.01095153, -0.01095153,  0.01095153,\n",
      "        -0.01095153,  0.01095153,  0.01095153, -0.01095153,  0.01095153,\n",
      "        -0.01095153],\n",
      "       [-0.0127781 , -0.0127781 ,  0.0127781 ,  0.0127781 ,  0.0127781 ,\n",
      "         0.0127781 , -0.0127781 , -0.0127781 ,  0.0127781 ,  0.0127781 ,\n",
      "        -0.0127781 , -0.0127781 , -0.0127781 , -0.0127781 ,  0.0127781 ,\n",
      "         0.0127781 ],\n",
      "       [ 0.01095153, -0.01095153,  0.01095153, -0.01095153,  0.01095153,\n",
      "        -0.01095153,  0.01095153, -0.01095153, -0.01095153,  0.01095153,\n",
      "        -0.01095153,  0.01095153, -0.01095153,  0.01095153, -0.01095153,\n",
      "         0.01095153],\n",
      "       [-0.0127781 , -0.0127781 ,  0.0127781 ,  0.0127781 , -0.0127781 ,\n",
      "        -0.0127781 ,  0.0127781 ,  0.0127781 ,  0.0127781 ,  0.0127781 ,\n",
      "        -0.0127781 , -0.0127781 ,  0.0127781 ,  0.0127781 , -0.0127781 ,\n",
      "        -0.0127781 ]]), array([[-0.00658689,  0.00658689, -0.00658689,  0.00658689,  0.00658689,\n",
      "        -0.00658689,  0.00658689, -0.00658689,  0.00658689, -0.00658689,\n",
      "         0.00658689, -0.00658689, -0.00658689,  0.00658689, -0.00658689,\n",
      "         0.00658689],\n",
      "       [ 0.00658689,  0.00658689, -0.00658689, -0.00658689, -0.00658689,\n",
      "        -0.00658689,  0.00658689,  0.00658689, -0.00658689, -0.00658689,\n",
      "         0.00658689,  0.00658689,  0.00658689,  0.00658689, -0.00658689,\n",
      "        -0.00658689]]), array([[-0.00222045,  0.00222045, -0.00222045,  0.00222045,  0.00222045,\n",
      "        -0.00222045,  0.00222045, -0.00222045,  0.00222045, -0.00222045,\n",
      "         0.00222045, -0.00222045, -0.00222045,  0.00222045, -0.00222045,\n",
      "         0.00222045],\n",
      "       [-0.00222045, -0.00222045,  0.00222045,  0.00222045,  0.00222045,\n",
      "         0.00222045, -0.00222045, -0.00222045,  0.00222045,  0.00222045,\n",
      "        -0.00222045, -0.00222045, -0.00222045, -0.00222045,  0.00222045,\n",
      "         0.00222045]]), array([[ 0.01067989, -0.01067989,  0.01067989, -0.01067989, -0.01067989,\n",
      "         0.01067989, -0.01067989,  0.01067989, -0.01067989,  0.01067989,\n",
      "        -0.01067989,  0.01067989,  0.01067989, -0.01067989,  0.01067989,\n",
      "        -0.01067989],\n",
      "       [-0.01192315, -0.01192315,  0.01192315,  0.01192315,  0.01192315,\n",
      "         0.01192315, -0.01192315, -0.01192315,  0.01192315,  0.01192315,\n",
      "        -0.01192315, -0.01192315, -0.01192315, -0.01192315,  0.01192315,\n",
      "         0.01192315],\n",
      "       [-0.01067989,  0.01067989, -0.01067989,  0.01067989, -0.01067989,\n",
      "         0.01067989, -0.01067989,  0.01067989,  0.01067989, -0.01067989,\n",
      "         0.01067989, -0.01067989,  0.01067989, -0.01067989,  0.01067989,\n",
      "        -0.01067989],\n",
      "       [ 0.01192315,  0.01192315, -0.01192315, -0.01192315,  0.01192315,\n",
      "         0.01192315, -0.01192315, -0.01192315, -0.01192315, -0.01192315,\n",
      "         0.01192315,  0.01192315, -0.01192315, -0.01192315,  0.01192315,\n",
      "         0.01192315]]), array([[ 0.00222045, -0.00222045,  0.00222045, -0.00222045, -0.00222045,\n",
      "         0.00222045, -0.00222045,  0.00222045, -0.00222045,  0.00222045,\n",
      "        -0.00222045,  0.00222045,  0.00222045, -0.00222045,  0.00222045,\n",
      "        -0.00222045],\n",
      "       [ 0.00222045,  0.00222045, -0.00222045, -0.00222045, -0.00222045,\n",
      "        -0.00222045,  0.00222045,  0.00222045, -0.00222045, -0.00222045,\n",
      "         0.00222045,  0.00222045,  0.00222045,  0.00222045, -0.00222045,\n",
      "        -0.00222045]]), array([[ 0.00313844, -0.00313844,  0.00313844, -0.00313844, -0.00313844,\n",
      "         0.00313844, -0.00313844,  0.00313844, -0.00313844,  0.00313844,\n",
      "        -0.00313844,  0.00313844,  0.00313844, -0.00313844,  0.00313844,\n",
      "        -0.00313844],\n",
      "       [-0.00313844, -0.00313844,  0.00313844,  0.00313844,  0.00313844,\n",
      "         0.00313844, -0.00313844, -0.00313844,  0.00313844,  0.00313844,\n",
      "        -0.00313844, -0.00313844, -0.00313844, -0.00313844,  0.00313844,\n",
      "         0.00313844]])]\n",
      "-- ret: OrderedDict([   ('aux_operator_eigenvalues', None),\n",
      "                ('cost_function_evals', 100),\n",
      "                (   'eigenstate',\n",
      "                    {   '0000': 0.2543565718140579,\n",
      "                        '0001': 0.3542432515235823,\n",
      "                        '0010': 0.3878023014372143,\n",
      "                        '0011': 0.4920014529323059,\n",
      "                        '0100': 0.10423175050098699,\n",
      "                        '0101': 0.17608480733726006,\n",
      "                        '0110': 0.17917726470593304,\n",
      "                        '0111': 0.23541436208311506,\n",
      "                        '1000': 0.07967217989988726,\n",
      "                        '1001': 0.1664630918176759,\n",
      "                        '1010': 0.16937096397405313,\n",
      "                        '1011': 0.1753901900050285,\n",
      "                        '1100': 0.1926379375927805,\n",
      "                        '1110': 0.15896085897949846,\n",
      "                        '1111': 0.3634282296754065}),\n",
      "                ('eigenvalue', -0.8658226297324528),\n",
      "                (   'optimal_parameters',\n",
      "                    {   ParameterVectorElement(θ[4]): -3.9732753349758863,\n",
      "                        ParameterVectorElement(θ[10]): -0.6493821233497198,\n",
      "                        ParameterVectorElement(θ[9]): -1.1417431059124867,\n",
      "                        ParameterVectorElement(θ[8]): -1.842277808525552,\n",
      "                        ParameterVectorElement(θ[7]): -3.756872655029408,\n",
      "                        ParameterVectorElement(θ[6]): 1.2937107893506825,\n",
      "                        ParameterVectorElement(θ[5]): 1.0703366144719477,\n",
      "                        ParameterVectorElement(θ[0]): 2.586376688369313,\n",
      "                        ParameterVectorElement(θ[1]): 0.38745390569116844,\n",
      "                        ParameterVectorElement(θ[2]): -4.160722261634658,\n",
      "                        ParameterVectorElement(θ[3]): -0.32557560364268734,\n",
      "                        ParameterVectorElement(θ[11]): -1.0240385020857863,\n",
      "                        ParameterVectorElement(θ[12]): 4.577101797090736,\n",
      "                        ParameterVectorElement(θ[13]): -4.555096382810705,\n",
      "                        ParameterVectorElement(θ[14]): 3.6315866651003423,\n",
      "                        ParameterVectorElement(θ[15]): -3.4987530037038295}),\n",
      "                (   'optimal_point',\n",
      "                    array([ 2.58637669, -0.64938212, -1.0240385 ,  4.5771018 , -4.55509638,\n",
      "        3.63158667, -3.498753  ,  0.38745391, -4.16072226, -0.3255756 ,\n",
      "       -3.97327533,  1.07033661,  1.29371079, -3.75687266, -1.84227781,\n",
      "       -1.14174311])),\n",
      "                ('optimal_value', -0.8658226297324528),\n",
      "                ('optimizer_evals', 100),\n",
      "                ('optimizer_time', 102.88170123100281)])\n",
      "-- eval_time: 102.88170123100281\n",
      "===============================================================\n",
      "ansatz is a custom circuit===============================================================\n",
      "Optimizer: SPSA\n",
      "-- gradient_support_level: 1\n",
      "-- bounds_support_level: 1\n",
      "-- initial_point_support_level: 3\n",
      "-- options: {}\n",
      "-- max_evals_grouped: 1\n",
      "-- nfev: 100\n",
      "===============================================================\n",
      "\n"
     ]
    }
   ],
   "source": [
    "print( solver.print_settings() )"
   ]
  },
  {
   "cell_type": "code",
   "execution_count": null,
   "metadata": {},
   "outputs": [],
   "source": []
  },
  {
   "cell_type": "code",
   "execution_count": null,
   "metadata": {},
   "outputs": [],
   "source": []
  },
  {
   "cell_type": "code",
   "execution_count": null,
   "metadata": {},
   "outputs": [],
   "source": []
  }
 ],
 "metadata": {
  "kernelspec": {
   "display_name": "Python 3",
   "language": "python",
   "name": "python3"
  },
  "language_info": {
   "codemirror_mode": {
    "name": "ipython",
    "version": 3
   },
   "file_extension": ".py",
   "mimetype": "text/x-python",
   "name": "python",
   "nbconvert_exporter": "python",
   "pygments_lexer": "ipython3",
   "version": "3.7.7"
  }
 },
 "nbformat": 4,
 "nbformat_minor": 4
}
