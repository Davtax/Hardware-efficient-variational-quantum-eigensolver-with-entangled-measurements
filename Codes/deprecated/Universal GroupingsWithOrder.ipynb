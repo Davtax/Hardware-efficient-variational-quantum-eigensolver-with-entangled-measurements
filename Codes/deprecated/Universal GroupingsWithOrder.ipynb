{
 "cells": [
  {
   "cell_type": "code",
   "execution_count": 5,
   "metadata": {},
   "outputs": [],
   "source": [
    "from GroupingAlgorithm import grouping, groupingWithOrder\n",
    "import numpy as np\n",
    "import itertools\n",
    "import networkx as nx"
   ]
  },
  {
   "cell_type": "code",
   "execution_count": 7,
   "metadata": {},
   "outputs": [
    {
     "name": "stdout",
     "output_type": "stream",
     "text": [
      "7 7 7\n",
      "21 21 21\n",
      "49 49 49\n"
     ]
    },
    {
     "ename": "KeyboardInterrupt",
     "evalue": "",
     "output_type": "error",
     "traceback": [
      "\u001B[1;31m---------------------------------------------------------------------------\u001B[0m",
      "\u001B[1;31mKeyboardInterrupt\u001B[0m                         Traceback (most recent call last)",
      "\u001B[1;32m<ipython-input-7-2a0317a30688>\u001B[0m in \u001B[0;36m<module>\u001B[1;34m\u001B[0m\n\u001B[0;32m      4\u001B[0m     \u001B[0mG\u001B[0m\u001B[1;33m=\u001B[0m\u001B[0mnx\u001B[0m\u001B[1;33m.\u001B[0m\u001B[0mcomplete_graph\u001B[0m\u001B[1;33m(\u001B[0m\u001B[0mi\u001B[0m\u001B[1;33m)\u001B[0m\u001B[1;33m\u001B[0m\u001B[1;33m\u001B[0m\u001B[0m\n\u001B[0;32m      5\u001B[0m     \u001B[0mWC\u001B[0m\u001B[1;33m=\u001B[0m\u001B[0mlist\u001B[0m\u001B[1;33m(\u001B[0m\u001B[0mG\u001B[0m\u001B[1;33m.\u001B[0m\u001B[0medges\u001B[0m\u001B[1;33m(\u001B[0m\u001B[1;33m)\u001B[0m\u001B[1;33m)\u001B[0m\u001B[1;33m\u001B[0m\u001B[1;33m\u001B[0m\u001B[0m\n\u001B[1;32m----> 6\u001B[1;33m     \u001B[0mGroups1\u001B[0m\u001B[1;33m,\u001B[0m\u001B[0mMeas1\u001B[0m\u001B[1;33m=\u001B[0m\u001B[0mgrouping\u001B[0m\u001B[1;33m(\u001B[0m\u001B[0mPS\u001B[0m\u001B[1;33m,\u001B[0m\u001B[1;33m[\u001B[0m\u001B[1;36m1\u001B[0m\u001B[1;33m,\u001B[0m\u001B[1;36m2\u001B[0m\u001B[1;33m,\u001B[0m\u001B[1;36m3\u001B[0m\u001B[1;33m,\u001B[0m\u001B[1;36m4\u001B[0m\u001B[1;33m,\u001B[0m\u001B[1;36m5\u001B[0m\u001B[1;33m,\u001B[0m\u001B[1;36m6\u001B[0m\u001B[1;33m,\u001B[0m\u001B[1;36m7\u001B[0m\u001B[1;33m,\u001B[0m\u001B[1;36m8\u001B[0m\u001B[1;33m,\u001B[0m\u001B[1;36m9\u001B[0m\u001B[1;33m]\u001B[0m\u001B[1;33m,\u001B[0m\u001B[0mWC\u001B[0m\u001B[1;33m)\u001B[0m\u001B[1;33m\u001B[0m\u001B[1;33m\u001B[0m\u001B[0m\n\u001B[0m\u001B[0;32m      7\u001B[0m     \u001B[0mGroups2\u001B[0m\u001B[1;33m,\u001B[0m \u001B[0mMeas2\u001B[0m\u001B[1;33m,\u001B[0m \u001B[0mT2\u001B[0m\u001B[1;33m=\u001B[0m\u001B[0mgroupingWithOrder\u001B[0m\u001B[1;33m(\u001B[0m\u001B[0mPS\u001B[0m\u001B[1;33m,\u001B[0m\u001B[0mG\u001B[0m\u001B[1;33m,\u001B[0m\u001B[1;32mFalse\u001B[0m\u001B[1;33m)\u001B[0m\u001B[1;33m\u001B[0m\u001B[1;33m\u001B[0m\u001B[0m\n\u001B[0;32m      8\u001B[0m     \u001B[0mGroups3\u001B[0m\u001B[1;33m,\u001B[0m \u001B[0mMeas3\u001B[0m\u001B[1;33m,\u001B[0m \u001B[0mT3\u001B[0m\u001B[1;33m=\u001B[0m\u001B[0mgroupingWithOrder\u001B[0m\u001B[1;33m(\u001B[0m\u001B[0mPS\u001B[0m\u001B[1;33m,\u001B[0m\u001B[0mG\u001B[0m\u001B[1;33m,\u001B[0m\u001B[1;32mTrue\u001B[0m\u001B[1;33m)\u001B[0m\u001B[1;33m\u001B[0m\u001B[1;33m\u001B[0m\u001B[0m\n",
      "\u001B[1;32m~\\Downloads\\Codes2\\GroupingAlgorithm.py\u001B[0m in \u001B[0;36mgrouping\u001B[1;34m(PS, AM, WC)\u001B[0m\n\u001B[0;32m    331\u001B[0m                 \u001B[0mencodes\u001B[0m \u001B[0mthe\u001B[0m \u001B[0mpartial\u001B[0m \u001B[0mmeasurement\u001B[0m \u001B[0massigned\u001B[0m \u001B[1;32mand\u001B[0m \u001B[0mthe\u001B[0m \u001B[0msecond\u001B[0m \u001B[0mthe\u001B[0m \u001B[0mqubits\u001B[0m \u001B[0mwhere\u001B[0m \u001B[0mit\u001B[0m \u001B[0mshould\u001B[0m \u001B[0mperformed\u001B[0m\u001B[1;33m.\u001B[0m\u001B[1;33m\u001B[0m\u001B[1;33m\u001B[0m\u001B[0m\n\u001B[0;32m    332\u001B[0m \t\"\"\"\n\u001B[1;32m--> 333\u001B[1;33m         \u001B[0mPG\u001B[0m \u001B[1;33m=\u001B[0m \u001B[0mPauliGraph\u001B[0m\u001B[1;33m(\u001B[0m\u001B[0mPS\u001B[0m\u001B[1;33m)\u001B[0m\u001B[1;33m\u001B[0m\u001B[1;33m\u001B[0m\u001B[0m\n\u001B[0m\u001B[0;32m    334\u001B[0m         \u001B[0mSV\u001B[0m \u001B[1;33m=\u001B[0m \u001B[0msorted\u001B[0m\u001B[1;33m(\u001B[0m\u001B[0mPG\u001B[0m\u001B[1;33m.\u001B[0m\u001B[0mdegree\u001B[0m\u001B[1;33m,\u001B[0m \u001B[0mkey\u001B[0m\u001B[1;33m=\u001B[0m\u001B[1;32mlambda\u001B[0m \u001B[0mx\u001B[0m\u001B[1;33m:\u001B[0m \u001B[0mx\u001B[0m\u001B[1;33m[\u001B[0m\u001B[1;36m1\u001B[0m\u001B[1;33m]\u001B[0m\u001B[1;33m,\u001B[0m \u001B[0mreverse\u001B[0m\u001B[1;33m=\u001B[0m\u001B[1;32mTrue\u001B[0m\u001B[1;33m)\u001B[0m  \u001B[1;31m# Sorted Vertices by decreasing degree.\u001B[0m\u001B[1;33m\u001B[0m\u001B[1;33m\u001B[0m\u001B[0m\n\u001B[0;32m    335\u001B[0m         \u001B[0mn\u001B[0m \u001B[1;33m=\u001B[0m \u001B[0mnp\u001B[0m\u001B[1;33m.\u001B[0m\u001B[0msize\u001B[0m\u001B[1;33m(\u001B[0m\u001B[0mPS\u001B[0m\u001B[1;33m[\u001B[0m\u001B[1;33m:\u001B[0m\u001B[1;33m,\u001B[0m \u001B[1;36m0\u001B[0m\u001B[1;33m]\u001B[0m\u001B[1;33m)\u001B[0m\u001B[1;33m\u001B[0m\u001B[1;33m\u001B[0m\u001B[0m\n",
      "\u001B[1;32m~\\Downloads\\Codes2\\GroupingAlgorithm.py\u001B[0m in \u001B[0;36mPauliGraph\u001B[1;34m(PS)\u001B[0m\n\u001B[0;32m    109\u001B[0m                 \u001B[1;32mfor\u001B[0m \u001B[0mj\u001B[0m \u001B[1;32min\u001B[0m \u001B[0mrange\u001B[0m\u001B[1;33m(\u001B[0m\u001B[0mi\u001B[0m \u001B[1;33m+\u001B[0m \u001B[1;36m1\u001B[0m\u001B[1;33m,\u001B[0m \u001B[0mn\u001B[0m\u001B[1;33m)\u001B[0m\u001B[1;33m:\u001B[0m  \u001B[1;31m# Nested loop over the following Pauli strings v_j\u001B[0m\u001B[1;33m\u001B[0m\u001B[1;33m\u001B[0m\u001B[0m\n\u001B[0;32m    110\u001B[0m                         \u001B[0mv_j\u001B[0m \u001B[1;33m=\u001B[0m \u001B[0mPS\u001B[0m\u001B[1;33m[\u001B[0m\u001B[0mj\u001B[0m\u001B[1;33m,\u001B[0m \u001B[1;33m:\u001B[0m\u001B[1;33m]\u001B[0m\u001B[1;33m\u001B[0m\u001B[1;33m\u001B[0m\u001B[0m\n\u001B[1;32m--> 111\u001B[1;33m                         \u001B[0mcompatiblequbits\u001B[0m \u001B[1;33m=\u001B[0m \u001B[0mnp\u001B[0m\u001B[1;33m.\u001B[0m\u001B[0mlogical_or\u001B[0m\u001B[1;33m.\u001B[0m\u001B[0mreduce\u001B[0m\u001B[1;33m(\u001B[0m\u001B[1;33m(\u001B[0m\u001B[0mv_i\u001B[0m \u001B[1;33m==\u001B[0m \u001B[0mv_j\u001B[0m\u001B[1;33m,\u001B[0m \u001B[0mv_i\u001B[0m \u001B[1;33m==\u001B[0m \u001B[1;36m0\u001B[0m\u001B[1;33m,\u001B[0m \u001B[0mv_j\u001B[0m \u001B[1;33m==\u001B[0m \u001B[1;36m0\u001B[0m\u001B[1;33m)\u001B[0m\u001B[1;33m)\u001B[0m\u001B[1;33m\u001B[0m\u001B[1;33m\u001B[0m\u001B[0m\n\u001B[0m\u001B[0;32m    112\u001B[0m                         \u001B[1;32mif\u001B[0m \u001B[1;32mnot\u001B[0m \u001B[0mnp\u001B[0m\u001B[1;33m.\u001B[0m\u001B[0mall\u001B[0m\u001B[1;33m(\u001B[0m\u001B[0mcompatiblequbits\u001B[0m\u001B[1;33m)\u001B[0m\u001B[1;33m:\u001B[0m  \u001B[1;31m# If at least one of the qubits shared by the PS is not commutative\u001B[0m\u001B[1;33m\u001B[0m\u001B[1;33m\u001B[0m\u001B[0m\n\u001B[0;32m    113\u001B[0m                                 \u001B[0mPG\u001B[0m\u001B[1;33m.\u001B[0m\u001B[0madd_edges_from\u001B[0m\u001B[1;33m(\u001B[0m\u001B[1;33m[\u001B[0m\u001B[1;33m(\u001B[0m\u001B[0mi\u001B[0m\u001B[1;33m,\u001B[0m \u001B[0mj\u001B[0m\u001B[1;33m)\u001B[0m\u001B[1;33m]\u001B[0m\u001B[1;33m)\u001B[0m  \u001B[1;31m# add an edge in the Pauli Graph\u001B[0m\u001B[1;33m\u001B[0m\u001B[1;33m\u001B[0m\u001B[0m\n",
      "\u001B[1;31mKeyboardInterrupt\u001B[0m: "
     ]
    }
   ],
   "source": [
    "for i in range(2, 10):\n",
    "\tx = np.arange(4)\n",
    "\tPS = np.array([np.array(list(p)) for p in itertools.product(x, repeat=i)])\n",
    "\tG = nx.complete_graph(i)\n",
    "\tWC = list(G.edges())\n",
    "\tGroups1, Meas1 = grouping(PS, [1, 2, 3, 4, 5, 6, 7, 8, 9], WC)\n",
    "\tGroups2, Meas2, T2 = groupingWithOrder(PS, G, False)\n",
    "\tGroups3, Meas3, T3 = groupingWithOrder(PS, G, True)\n",
    "\tif i == 2:\n",
    "\t\twith open(\"UniversalGroups.txt\", \"w\") as f:\n",
    "\t\t\tf.write(\n",
    "\t\t\t\t\"{0},{1},{2},{3},{4},{5},{6},{7},{8},{9},{10},{11},{12},{13},{14},{15},{16},{17},{18}, {19},{20},{21},{22},{23},{24},{25},{26},{27},{28},{29},{30},{31},{32},{33},{34},{35},{36},{37}\\n\".format(\n",
    "\t\t\t\t\t'Number of qubits', i, '\\n', 'Groups with the non-ordered grouping algorithm', '\\n', Groups1, '\\n',\n",
    "\t\t\t\t\t'Measurements with the non-ordered grouping algorithm', '\\n', Meas1, '\\n',\n",
    "\t\t\t\t\t'Groups with the ordered grouping algorithm and non-connected subroutine', '\\n', Groups2, '\\n',\n",
    "\t\t\t\t\t'Measurements with the ordered grouping algorithm and non-connected subroutine', '\\n', Meas2, '\\n',\n",
    "\t\t\t\t\t'Theo-phys map with the non-connected subroutine', '\\n', T2, '\\n',\n",
    "\t\t\t\t\t'Groups with the ordered grouping algorithm and connected subroutine', '\\n', Groups3, '\\n',\n",
    "\t\t\t\t\t'Measurements with the ordered grouping algorithm and connected subroutine', '\\n', Meas3, '\\n',\n",
    "\t\t\t\t\t'Theo-phys map with the connected subroutine', '\\n', T3, '\\n', '--------------------------------',\n",
    "\t\t\t\t\t'\\n', '--------------------------------'))\n",
    "\telse:\n",
    "\t\twith open(\"UniversalGroups.txt\", \"a\") as f:\n",
    "\t\t\tf.write(\n",
    "\t\t\t\t\"{0},{1},{2},{3},{4},{5},{6},{7},{8},{9},{10},{11},{12},{13},{14},{15},{16},{17},{18}, {19},{20},{21},{22},{23},{24},{25},{26},{27},{28},{29},{30},{31},{32},{33},{34},{35},{36},{37}\\n\".format(\n",
    "\t\t\t\t\t'Number of qubits', i, '\\n', 'Groups with the non-ordered grouping algorithm', '\\n', Groups1, '\\n',\n",
    "\t\t\t\t\t'Measurements with the non-ordered grouping algorithm', '\\n', Meas1, '\\n',\n",
    "\t\t\t\t\t'Groups with the ordered grouping algorithm and non-connected subroutine', '\\n', Groups2, '\\n',\n",
    "\t\t\t\t\t'Measurements with the ordered grouping algorithm and non-connected subroutine', '\\n', Meas2, '\\n',\n",
    "\t\t\t\t\t'Theo-phys map with the non-connected subroutine', '\\n', T2, '\\n',\n",
    "\t\t\t\t\t'Groups with the ordered grouping algorithm and connected subroutine', '\\n', Groups3, '\\n',\n",
    "\t\t\t\t\t'Measurements with the ordered grouping algorithm and connected subroutine', '\\n', Meas3, '\\n',\n",
    "\t\t\t\t\t'Theo-phys map with the connected subroutine', '\\n', T3, '\\n', '--------------------------------',\n",
    "\t\t\t\t\t'\\n', '--------------------------------'))\n",
    "\tprint(len(Groups1), len(Groups2), len(Groups3))"
   ]
  },
  {
   "cell_type": "code",
   "execution_count": null,
   "metadata": {},
   "outputs": [],
   "source": []
  }
 ],
 "metadata": {
  "kernelspec": {
   "display_name": "Python 3",
   "language": "python",
   "name": "python3"
  },
  "language_info": {
   "codemirror_mode": {
    "name": "ipython",
    "version": 3
   },
   "file_extension": ".py",
   "mimetype": "text/x-python",
   "name": "python",
   "nbconvert_exporter": "python",
   "pygments_lexer": "ipython3",
   "version": "3.8.5"
  }
 },
 "nbformat": 4,
 "nbformat_minor": 4
}