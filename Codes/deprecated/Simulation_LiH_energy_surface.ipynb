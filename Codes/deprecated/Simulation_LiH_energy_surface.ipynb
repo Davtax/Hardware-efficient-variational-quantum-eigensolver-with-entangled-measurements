{
 "cells": [
  {
   "cell_type": "code",
   "execution_count": 2,
   "metadata": {
    "execution": {
     "iopub.execute_input": "2021-06-03T14:14:43.902886Z",
     "iopub.status.busy": "2021-06-03T14:14:43.902886Z",
     "iopub.status.idle": "2021-06-03T14:14:44.432956Z",
     "shell.execute_reply": "2021-06-03T14:14:44.432956Z",
     "shell.execute_reply.started": "2021-06-03T14:14:43.902886Z"
    },
    "tags": []
   },
   "outputs": [
    {
     "name": "stdout",
     "output_type": "stream",
     "text": [
      "The autoreload extension is already loaded. To reload it, use:\n",
      "  %reload_ext autoreload\n"
     ]
    }
   ],
   "source": [
    "import sys\n",
    "sys.path.append('../')\n",
    "\n",
    "%load_ext autoreload\n",
    "%autoreload 1\n",
    "%aimport VQE, GroupingAlgorithm, HEEM_VQE_Functions, utils"
   ]
  },
  {
   "cell_type": "code",
   "execution_count": 3,
   "metadata": {
    "execution": {
     "iopub.execute_input": "2021-06-03T14:14:51.752657Z",
     "iopub.status.busy": "2021-06-03T14:14:51.752657Z",
     "iopub.status.idle": "2021-06-03T14:14:52.059082Z",
     "shell.execute_reply": "2021-06-03T14:14:52.058082Z",
     "shell.execute_reply.started": "2021-06-03T14:14:51.752657Z"
    },
    "tags": []
   },
   "outputs": [],
   "source": [
    "import numpy as np\n",
    "import matplotlib.pyplot as plt\n",
    "from VQE import VQE\n",
    "from qiskit.providers.aer import QasmSimulator\n",
    "from qiskit.providers.aer.noise import NoiseModel\n",
    "from utils import *\n",
    "from qiskit import IBMQ\n",
    "from qiskit import Aer\n",
    "from qiskit.circuit.library import EfficientSU2\n",
    "from qiskit.utils.quantum_instance import QuantumInstance\n",
    "from qiskit.algorithms import NumPyMinimumEigensolver\n",
    "from qiskit.algorithms.optimizers import SPSA\n",
    "from qiskit.test.mock import FakeVigo\n",
    "import os\n",
    "from joblib import Parallel, delayed\n",
    "from IPython.display import display, clear_output\n",
    "from GroupingAlgorithm import grouping_shuffle\n",
    "from tqdm.notebook import tqdm_notebook\n",
    "\n",
    "os.environ['QISKIT_IN_PARALLEL'] = 'TRUE'"
   ]
  },
  {
   "cell_type": "code",
   "execution_count": 4,
   "metadata": {
    "execution": {
     "iopub.execute_input": "2021-06-03T14:14:52.791954Z",
     "iopub.status.busy": "2021-06-03T14:14:52.791954Z",
     "iopub.status.idle": "2021-06-03T14:14:52.803957Z",
     "shell.execute_reply": "2021-06-03T14:14:52.803957Z",
     "shell.execute_reply.started": "2021-06-03T14:14:52.791954Z"
    },
    "tags": []
   },
   "outputs": [],
   "source": [
    "import contextlib\n",
    "import joblib\n",
    "\n",
    "@contextlib.contextmanager\n",
    "def tqdm_joblib(tqdm_object):\n",
    "    \"\"\"Context manager to patch joblib to report into tqdm progress bar given as argument\"\"\"\n",
    "    class TqdmBatchCompletionCallback(joblib.parallel.BatchCompletionCallBack):\n",
    "        def __init__(self, *args, **kwargs):\n",
    "            super().__init__(*args, **kwargs)\n",
    "\n",
    "        def __call__(self, *args, **kwargs):\n",
    "            tqdm_object.update(n=self.batch_size)\n",
    "            return super().__call__(*args, **kwargs)\n",
    "\n",
    "    old_batch_callback = joblib.parallel.BatchCompletionCallBack\n",
    "    joblib.parallel.BatchCompletionCallBack = TqdmBatchCompletionCallback\n",
    "    try:\n",
    "        yield tqdm_object\n",
    "    finally:\n",
    "        joblib.parallel.BatchCompletionCallBack = old_batch_callback\n",
    "        tqdm_object.close()   "
   ]
  },
  {
   "cell_type": "code",
   "execution_count": 5,
   "metadata": {
    "execution": {
     "iopub.execute_input": "2021-06-03T14:14:55.347963Z",
     "iopub.status.busy": "2021-06-03T14:14:55.347963Z",
     "iopub.status.idle": "2021-06-03T14:14:55.371968Z",
     "shell.execute_reply": "2021-06-03T14:14:55.370968Z",
     "shell.execute_reply.started": "2021-06-03T14:14:55.347963Z"
    },
    "tags": []
   },
   "outputs": [],
   "source": [
    "def molecule(d, quantum_instance, conectivity, basis):\n",
    "    E = np.zeros(4)\n",
    "\n",
    "    def callback(evals, params):  \n",
    "        display(\"{}, {}\".format(len(evaluations),evals))\n",
    "        clear_output(wait=True)\n",
    "        parameters.append(params)\n",
    "        evaluations.append(evals)\n",
    "\n",
    "    parameters  = []\n",
    "    evaluations = []\n",
    "\n",
    "\n",
    "    qubit_op, init_state = LiH(d, initial_state=True)\n",
    "#     qubit_op = grouping_shuffle(qubit_op, basis, coupling_map)\n",
    "    \n",
    "    num_qubits = qubit_op.num_qubits\n",
    "\n",
    "    # Exact energy\n",
    "    E[0] = NumPyMinimumEigensolver().compute_minimum_eigenvalue(qubit_op).eigenvalue.real\n",
    "    print('Exact energy: {}'.format(E[0]))\n",
    "\n",
    "    optimizer = SPSA(maxiter=maxiter, last_avg=1)\n",
    "    ansatz = init_state.compose(EfficientSU2(num_qubits, ['ry', 'rz'], entanglement='linear', reps=1))\n",
    "    num_var = ansatz.num_parameters\n",
    "    initial_params = np.random.rand(num_var)\n",
    "\n",
    "\n",
    "    solver_TPB = VQE(ansatz, optimizer, initial_params, grouping='TPB', quantum_instance=quantum_instance,\n",
    "                     callback=callback, order=basis)\n",
    "    solver_ENT = VQE(ansatz, optimizer, initial_params, grouping='Entangled', quantum_instance=quantum_instance,\n",
    "                     callback=callback, order=basis)\n",
    "    solver_HEEM = VQE(ansatz, optimizer, initial_params, grouping='Entangled', conectivity=conectivity,\n",
    "                      quantum_instance=quantum_instance, callback=callback, order=basis)\n",
    "\n",
    "\n",
    "    print('-' * 100)\n",
    "    print('Computing TPB:')\n",
    "    E[1] = solver_TPB.compute_minimum_eigenvalue(qubit_op).eigenvalue.real\n",
    "\n",
    "    print('-' * 100)\n",
    "    print('Computing ENT:')\n",
    "    E[2] = solver_ENT.compute_minimum_eigenvalue(qubit_op).eigenvalue.real\n",
    "\n",
    "    print('-' * 100)\n",
    "    print('Computing HEEM:')\n",
    "    E[3] = solver_HEEM.compute_minimum_eigenvalue(qubit_op).eigenvalue.real\n",
    "\n",
    "    return E, evaluations"
   ]
  },
  {
   "cell_type": "code",
   "execution_count": 6,
   "metadata": {
    "execution": {
     "iopub.execute_input": "2021-06-03T14:14:55.743702Z",
     "iopub.status.busy": "2021-06-03T14:14:55.743702Z",
     "iopub.status.idle": "2021-06-03T14:14:55.758926Z",
     "shell.execute_reply": "2021-06-03T14:14:55.758926Z",
     "shell.execute_reply.started": "2021-06-03T14:14:55.743702Z"
    },
    "tags": []
   },
   "outputs": [],
   "source": [
    "def molecule_potentials_comparison(distances, quantum_instance, conectivity, basis, file_name_out):\n",
    "    E_EXACT = np.zeros_like(distances)\n",
    "    E_TPB = np.zeros_like(distances)\n",
    "    E_ENT = np.zeros_like(distances)\n",
    "    E_HEEM = np.zeros_like(distances)\n",
    "    evaluations = []\n",
    "\n",
    "\n",
    "    with tqdm_joblib(tqdm_notebook(desc=\"Computing\", total=len(distances))) as progress_bar:\n",
    "        results = Parallel(n_jobs=24)(delayed(molecule)(d, quantum_instance, conectivity, basis) for d in distances)\n",
    "        \n",
    "    for i in range(len(distances)):\n",
    "        E_EXACT[i] = results[i][0][0]\n",
    "        E_TPB[i] = results[i][0][1]\n",
    "        E_ENT[i] = results[i][0][2]\n",
    "        E_HEEM[i] = results[i][0][3]\n",
    "        evaluations.append(results[i][1])\n",
    "\n",
    "#     Save results\n",
    "    np.savez(file_name_out, distances=distances, E_EXACT=E_EXACT, E_TPB=E_TPB, E_ENT=E_ENT, E_HEEM=E_HEEM, evaluations=evaluations)\n",
    "\n",
    "    return E_EXACT, E_TPB, E_ENT, E_HEEM, evaluations"
   ]
  },
  {
   "cell_type": "code",
   "execution_count": 7,
   "metadata": {
    "execution": {
     "iopub.execute_input": "2021-06-03T14:14:56.703392Z",
     "iopub.status.busy": "2021-06-03T14:14:56.703392Z",
     "iopub.status.idle": "2021-06-03T14:14:57.170134Z",
     "shell.execute_reply": "2021-06-03T14:14:57.170134Z",
     "shell.execute_reply.started": "2021-06-03T14:14:56.703392Z"
    },
    "tags": []
   },
   "outputs": [],
   "source": [
    "distances = np.linspace(0.5, 5, 100)\n",
    "backend = Aer.get_backend('qasm_simulator')\n",
    "device_backend = FakeVigo()\n",
    "device = QasmSimulator.from_backend(device_backend)\n",
    "coupling_map = device.configuration().coupling_map\n",
    "noise_model = NoiseModel.from_backend(device)\n",
    "basis_gates = noise_model.basis_gates\n",
    "NUM_SHOTS = 2 ** 13  # Number of shots for each circuit\n",
    "maxiter = 300\n",
    "qi = QuantumInstance(backend=backend, coupling_map=coupling_map, noise_model=noise_model, basis_gates=basis_gates, shots=NUM_SHOTS)\n",
    "basis = [4, 6, 7, 8, 9, 5, 3, 2, 1]"
   ]
  },
  {
   "cell_type": "code",
   "execution_count": 15,
   "metadata": {
    "execution": {
     "iopub.execute_input": "2021-06-03T15:03:04.295511Z",
     "iopub.status.busy": "2021-06-03T15:03:04.295511Z",
     "iopub.status.idle": "2021-06-03T15:03:04.314515Z",
     "shell.execute_reply": "2021-06-03T15:03:04.313514Z",
     "shell.execute_reply.started": "2021-06-03T15:03:04.295511Z"
    }
   },
   "outputs": [
    {
     "data": {
      "text/plain": [
       "[[0, 1], [1, 0], [1, 2], [1, 3], [2, 1], [3, 1], [3, 4], [4, 3]]"
      ]
     },
     "execution_count": 15,
     "metadata": {},
     "output_type": "execute_result"
    }
   ],
   "source": [
    "coupling_map"
   ]
  },
  {
   "cell_type": "code",
   "execution_count": 8,
   "metadata": {
    "execution": {
     "iopub.execute_input": "2021-06-03T14:14:58.483786Z",
     "iopub.status.busy": "2021-06-03T14:14:58.483786Z",
     "iopub.status.idle": "2021-06-03T14:14:58.497212Z",
     "shell.execute_reply": "2021-06-03T14:14:58.496262Z",
     "shell.execute_reply.started": "2021-06-03T14:14:58.483786Z"
    },
    "tags": []
   },
   "outputs": [],
   "source": [
    "file_name_out = '../data/LiH_' + qi.backend_name + '_NUM_SHOTS=' + str(NUM_SHOTS) + '_dist=' + str(distances[0]) + '_to_' + str(distances[-1])"
   ]
  },
  {
   "cell_type": "code",
   "execution_count": 8,
   "metadata": {
    "execution": {
     "iopub.execute_input": "2021-06-02T21:41:56.256457Z",
     "iopub.status.busy": "2021-06-02T21:41:56.256243Z",
     "iopub.status.idle": "2021-06-03T03:26:48.428198Z",
     "shell.execute_reply": "2021-06-03T03:26:48.427796Z",
     "shell.execute_reply.started": "2021-06-02T21:41:56.256433Z"
    },
    "tags": []
   },
   "outputs": [
    {
     "data": {
      "application/vnd.jupyter.widget-view+json": {
       "model_id": "164001c9a59749abbbf48c0c3d47c6f1",
       "version_major": 2,
       "version_minor": 0
      },
      "text/plain": [
       "Computing:   0%|          | 0/100 [00:00<?, ?it/s]"
      ]
     },
     "metadata": {},
     "output_type": "display_data"
    }
   ],
   "source": [
    "results = molecule_potentials_comparison(distances, qi, coupling_map, basis, file_name_out)"
   ]
  },
  {
   "cell_type": "code",
   "execution_count": 9,
   "metadata": {
    "execution": {
     "iopub.execute_input": "2021-06-03T14:15:11.836910Z",
     "iopub.status.busy": "2021-06-03T14:15:11.836910Z",
     "iopub.status.idle": "2021-06-03T14:15:12.336613Z",
     "shell.execute_reply": "2021-06-03T14:15:12.335644Z",
     "shell.execute_reply.started": "2021-06-03T14:15:11.836910Z"
    },
    "tags": []
   },
   "outputs": [
    {
     "data": {
      "text/plain": [
       "<matplotlib.legend.Legend at 0x1fdc459e700>"
      ]
     },
     "execution_count": 9,
     "metadata": {},
     "output_type": "execute_result"
    },
    {
     "data": {
      "image/png": "[encoded data removed]",
      "text/plain": [
       "<Figure size 432x324 with 1 Axes>"
      ]
     },
     "metadata": {
      "needs_background": "light"
     },
     "output_type": "display_data"
    }
   ],
   "source": [
    "data = np.load(file_name_out + '.npz')\n",
    "\n",
    "E_EXACT = data['E_EXACT']\n",
    "E_TPB = data['E_TPB']\n",
    "E_ENT = data['E_ENT']\n",
    "E_HEEM = data['E_HEEM']\n",
    "evaluations = data['evaluations']\n",
    "\n",
    "fig, ax = plt.subplots(ncols=1, nrows=1, figsize=(6, 4.5))\n",
    "ax.set_xlabel(r'distance [$\\AA$]')\n",
    "ax.set_ylabel('Energy [a.u.]')\n",
    "\n",
    "ax.plot(distances, E_TPB)\n",
    "ax.plot(distances, E_ENT)\n",
    "ax.plot(distances, E_HEEM)\n",
    "ax.plot(distances, E_EXACT, color='black', linestyle='--')\n",
    "\n",
    "ax.legend(['$TPB$', '$ENT$', '$HEEM$'])\n",
    "\n",
    "# plt.savefig(\"../Figures/E vs d.pdf\")"
   ]
  },
  {
   "cell_type": "code",
   "execution_count": 10,
   "metadata": {
    "execution": {
     "iopub.execute_input": "2021-06-03T14:15:16.852994Z",
     "iopub.status.busy": "2021-06-03T14:15:16.852994Z",
     "iopub.status.idle": "2021-06-03T14:15:16.870999Z",
     "shell.execute_reply": "2021-06-03T14:15:16.870999Z",
     "shell.execute_reply.started": "2021-06-03T14:15:16.852994Z"
    },
    "tags": []
   },
   "outputs": [
    {
     "name": "stdout",
     "output_type": "stream",
     "text": [
      "-0.16539265098097683\n",
      "-0.1651958924429035\n",
      "-0.17025973693426644\n"
     ]
    }
   ],
   "source": [
    "print(np.mean(E_EXACT - E_TPB))\n",
    "print(np.mean(E_EXACT - E_ENT))\n",
    "print(np.mean(E_EXACT - E_HEEM))"
   ]
  },
  {
   "cell_type": "code",
   "execution_count": 13,
   "metadata": {
    "execution": {
     "iopub.execute_input": "2021-06-03T15:01:02.442608Z",
     "iopub.status.busy": "2021-06-03T15:01:02.442608Z",
     "iopub.status.idle": "2021-06-03T15:01:02.458611Z",
     "shell.execute_reply": "2021-06-03T15:01:02.458611Z",
     "shell.execute_reply.started": "2021-06-03T15:01:02.442608Z"
    }
   },
   "outputs": [
    {
     "data": {
      "text/plain": [
       "24"
      ]
     },
     "execution_count": 13,
     "metadata": {},
     "output_type": "execute_result"
    }
   ],
   "source": [
    "np.argmax(E_HEEM)"
   ]
  },
  {
   "cell_type": "code",
   "execution_count": 14,
   "metadata": {
    "execution": {
     "iopub.execute_input": "2021-06-03T15:01:05.510313Z",
     "iopub.status.busy": "2021-06-03T15:01:05.509313Z",
     "iopub.status.idle": "2021-06-03T15:01:05.716934Z",
     "shell.execute_reply": "2021-06-03T15:01:05.716934Z",
     "shell.execute_reply.started": "2021-06-03T15:01:05.510313Z"
    },
    "tags": []
   },
   "outputs": [
    {
     "data": {
      "text/plain": [
       "<matplotlib.legend.Legend at 0x1fdc49f60d0>"
      ]
     },
     "execution_count": 14,
     "metadata": {},
     "output_type": "execute_result"
    },
    {
     "data": {
      "image/png": "[encoded data removed]",
      "text/plain": [
       "<Figure size 432x288 with 1 Axes>"
      ]
     },
     "metadata": {
      "needs_background": "light"
     },
     "output_type": "display_data"
    }
   ],
   "source": [
    "index = 24\n",
    "evaluation = evaluations[index]\n",
    "maxiter = int((len(evaluation) / 3 - 1 - 50) / 2)\n",
    "\n",
    "fig, ax = plt.subplots()\n",
    "\n",
    "labels = ['$TPB$', '$ENT$', '$HEEM$']\n",
    "for i in range(3):\n",
    "    ax.plot(evaluation[50 * (i + 1) + 2 * maxiter * i : 50 * (i + 1) + 2 * maxiter * (i + 1)][::2], '.', label=labels[i])\n",
    "\n",
    "ax.set_xlim([0, maxiter])\n",
    "ax.set_xlabel('Iteration')\n",
    "ax.set_ylabel('Energy [a.u.]')\n",
    "ax.legend()"
   ]
  },
  {
   "cell_type": "code",
   "execution_count": 1,
   "metadata": {
    "execution": {
     "iopub.execute_input": "2021-06-04T06:17:54.496237Z",
     "iopub.status.busy": "2021-06-04T06:17:54.496028Z",
     "iopub.status.idle": "2021-06-04T06:17:55.760190Z",
     "shell.execute_reply": "2021-06-04T06:17:55.759809Z",
     "shell.execute_reply.started": "2021-06-04T06:17:54.496183Z"
    }
   },
   "outputs": [
    {
     "data": {
      "text/html": [
       "<h3>Version Information</h3><table><tr><th>Qiskit Software</th><th>Version</th></tr><tr><td>Qiskit</td><td>0.26.0</td></tr><tr><td>Terra</td><td>0.17.3</td></tr><tr><td>Aer</td><td>0.8.2</td></tr><tr><td>Ignis</td><td>0.6.0</td></tr><tr><td>Aqua</td><td>0.9.1</td></tr><tr><td>IBM Q Provider</td><td>0.13.1</td></tr><tr><th>System information</th></tr><tr><td>Python</td><td>3.8.8 (default, Apr 13 2021, 19:58:26) \n",
       "[GCC 7.3.0]</td></tr><tr><td>OS</td><td>Linux</td></tr><tr><td>CPUs</td><td>12</td></tr><tr><td>Memory (Gb)</td><td>31.36279296875</td></tr><tr><td colspan='2'>Fri Jun 04 08:17:55 2021 CEST</td></tr></table>"
      ],
      "text/plain": [
       "<IPython.core.display.HTML object>"
      ]
     },
     "metadata": {},
     "output_type": "display_data"
    }
   ],
   "source": [
    "import qiskit.tools.jupyter\n",
    "%qiskit_version_table"
   ]
  }
 ],
 "metadata": {
  "kernelspec": {
   "display_name": "Python 3",
   "language": "python",
   "name": "python3"
  },
  "language_info": {
   "codemirror_mode": {
    "name": "ipython",
    "version": 3
   },
   "file_extension": ".py",
   "mimetype": "text/x-python",
   "name": "python",
   "nbconvert_exporter": "python",
   "pygments_lexer": "ipython3",
   "version": "3.8.6"
  }
 },
 "nbformat": 4,
 "nbformat_minor": 5
}
