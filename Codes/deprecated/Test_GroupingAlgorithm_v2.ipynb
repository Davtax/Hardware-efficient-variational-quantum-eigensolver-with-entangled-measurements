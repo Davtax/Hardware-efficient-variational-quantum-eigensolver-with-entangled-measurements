{
 "cells": [
  {
   "cell_type": "code",
   "execution_count": 1,
   "metadata": {},
   "outputs": [],
   "source": [
    "import numpy as np\n",
    "import networkx as nx\n",
    "from itertools import permutations\n",
    "import time\n",
    "import GroupingAlgorithm as ga\n",
    "import GroupingAlgorithm_v2 as ga2"
   ]
  },
  {
   "cell_type": "markdown",
   "metadata": {},
   "source": [
    "# Test Grouping algorithm v2 \n",
    "---\n",
    "# Functions tests\n",
    "## Test 1: PauliGraph\n",
    "\n",
    "The new function is approx. twice as fast."
   ]
  },
  {
   "cell_type": "code",
   "execution_count": 2,
   "metadata": {},
   "outputs": [
    {
     "name": "stdout",
     "output_type": "stream",
     "text": [
      "Execution time v1 0.27976131439208984 seconds\n",
      "Execution time v2 0.10223531723022461 seconds\n"
     ]
    },
    {
     "data": {
      "text/plain": [
       "True"
      ]
     },
     "execution_count": 2,
     "metadata": {},
     "output_type": "execute_result"
    }
   ],
   "source": [
    "PS = np.random.randint(4, size=(100,3))\n",
    "\n",
    "start=time.time()\n",
    "PG = ga.PauliGraph(PS)\n",
    "print('Execution time v1', time.time()-start, 'seconds')\n",
    "\n",
    "start=time.time()\n",
    "PG2 = ga2.PauliGraph(PS)\n",
    "print('Execution time v2', time.time()-start, 'seconds')\n",
    "\n",
    "nx.is_isomorphic(PG,PG2)"
   ]
  },
  {
   "cell_type": "markdown",
   "metadata": {},
   "source": [
    "## Test 2: colorgroups\n",
    "This function is very fast, no need to optimize."
   ]
  },
  {
   "cell_type": "code",
   "execution_count": 3,
   "metadata": {},
   "outputs": [
    {
     "name": "stdout",
     "output_type": "stream",
     "text": [
      "Execution time v2 0.0 seconds\n"
     ]
    }
   ],
   "source": [
    "Color = nx.coloring.greedy_color(PG)  # Graph coloring code of networkx. By default it uses LDFC strategy.\n",
    "\n",
    "start=time.time()\n",
    "Groups = ga.colorgroups(Color)  # Groups of strings with the same color assigned\n",
    "print('Execution time v2', time.time()-start, 'seconds')"
   ]
  },
  {
   "cell_type": "markdown",
   "metadata": {},
   "source": [
    "---\n",
    "# Global tests\n",
    "## Test 1: Easy TPB grouping"
   ]
  },
  {
   "cell_type": "markdown",
   "metadata": {},
   "source": [
    "We start off with a very naive example. We manually create four chains that we know in advance how they should be grouped. This test is performed with the TPBgrouping function, which implements the LDFC algorithm (the same qiskit uses)."
   ]
  },
  {
   "cell_type": "code",
   "execution_count": 4,
   "metadata": {},
   "outputs": [
    {
     "name": "stdout",
     "output_type": "stream",
     "text": [
      "Execution time v1 0.001993894577026367 seconds\n",
      "Colors {0: 0, 2: 1, 1: 2, 3: 2}\n",
      "Groups [[0], [2], [1, 3]]\n",
      "Measurements [[[2, [0]], [1, [1]], [2, [2]]], [[0, [0]], [2, [1]], [3, [2]]], [[3, [0]], [2, [1]], [1, [2]]]] \n",
      "\n",
      "Execution time v2 0.0009968280792236328 seconds\n",
      "Colors {0: 0, 2: 1, 1: 2, 3: 2}\n",
      "Groups [[0], [2], [1, 3]]\n",
      "Measurements [[[2, [0]], [1, [1]], [2, [2]]], [[0, [0]], [2, [1]], [3, [2]]], [[3, [0]], [2, [1]], [1, [2]]]]\n"
     ]
    }
   ],
   "source": [
    "PS = np.random.randint(4, size=(4,3))\n",
    "\n",
    "start=time.time()\n",
    "Colors, Groups, Measurements = ga.TPBgrouping(PS)\n",
    "print('Execution time v1', time.time()-start, 'seconds')\n",
    "print('Colors', Colors)\n",
    "print('Groups', Groups)\n",
    "print('Measurements', Measurements , '\\n')\n",
    "\n",
    "start=time.time()\n",
    "Colors, Groups, Measurements = ga2.TPBgrouping(PS)\n",
    "print('Execution time v2', time.time()-start, 'seconds')\n",
    "print('Colors', Colors)\n",
    "print('Groups', Groups)\n",
    "print('Measurements', Measurements)"
   ]
  },
  {
   "cell_type": "markdown",
   "metadata": {},
   "source": [
    "Test is succesful. Chains 0 ($\\{X,X,I\\}$) and 3 ($\\{I,X,X\\}$) get grouped. This is the only option allowing only local measurements."
   ]
  },
  {
   "cell_type": "markdown",
   "metadata": {},
   "source": [
    "## Test 2: Hard TPB grouping"
   ]
  },
  {
   "cell_type": "markdown",
   "metadata": {},
   "source": [
    "Much more demanding test, also with the TPBgrouping function but now with 400 Pauli strings, each of them composed of 6 Pauli operators. Te objective of this test is essentially to check the execution time."
   ]
  },
  {
   "cell_type": "code",
   "execution_count": 5,
   "metadata": {},
   "outputs": [
    {
     "name": "stdout",
     "output_type": "stream",
     "text": [
      "Execution time 4.045861005783081 seconds\n",
      "Number of groups 139\n",
      "Strings of the first group [[1 1 3 1 3 2]\n",
      " [1 1 3 1 3 0]]\n",
      "Measurements of the first group [[1, [0]], [1, [1]], [3, [2]], [1, [3]], [3, [4]], [2, [5]]] \n",
      "\n",
      "Execution time 1.9543702602386475 seconds\n",
      "Number of groups 139\n",
      "Strings of the first group [[1 1 3 1 3 2]\n",
      " [1 1 3 1 3 0]]\n",
      "Measurements of the first group [[1, [0]], [1, [1]], [3, [2]], [1, [3]], [3, [4]], [2, [5]]]\n"
     ]
    }
   ],
   "source": [
    "start=time.time()\n",
    "N=6\n",
    "np.random.seed(0)\n",
    "PS=np.random.randint(0,4,[400,N])\n",
    "Colors, Groups, Measurements=ga.TPBgrouping(PS)\n",
    "print('Execution time', time.time()-start, 'seconds')\n",
    "print('Number of groups', len(Groups))\n",
    "print('Strings of the first group', PS[Groups[0],:])\n",
    "print('Measurements of the first group', Measurements[0], '\\n')\n",
    "\n",
    "start=time.time()\n",
    "N=6\n",
    "np.random.seed(0)\n",
    "PS=np.random.randint(0,4,[400,N])\n",
    "Colors, Groups, Measurements=ga2.TPBgrouping(PS)\n",
    "print('Execution time', time.time()-start, 'seconds')\n",
    "print('Number of groups', len(Groups))\n",
    "print('Strings of the first group', PS[Groups[0],:])\n",
    "print('Measurements of the first group', Measurements[0])"
   ]
  },
  {
   "cell_type": "markdown",
   "metadata": {},
   "source": [
    "## Test 3: Easy Bell grouping (all-to-all connectivity)"
   ]
  },
  {
   "cell_type": "markdown",
   "metadata": {},
   "source": [
    "We introduce by hand 3 strings of three qubits and allow Bell measurements as well as TPB. The example has been puròsedly chosen such that a Bell measurement can group the qubits 0 and 1 of all three chains. \n",
    "\n",
    "Test is succesful."
   ]
  },
  {
   "cell_type": "code",
   "execution_count": 6,
   "metadata": {},
   "outputs": [
    {
     "name": "stdout",
     "output_type": "stream",
     "text": [
      "Execution time 0.0 seconds\n",
      "Groups [[0, 1, 2]] This means that there is only one group, with strings 0, 1 and 2.\n",
      "Measurements [[[4, [0, 1]], [3, [2]]]] This means that (for the group 0) the measurement 4 (Bell) should be performed on the qubits 0 and 1, and the measurement 3 (TPBZ) should be performed on qubit 2\n"
     ]
    }
   ],
   "source": [
    "start=time.time()\n",
    "PS=np.array([[1,1,3],[2,2,3],[3,3,3]])\n",
    "WC=list(permutations(list(range(3)),2))\n",
    "Groups, Measurements = ga2.grouping(PS,[4,3,2,1],WC)\n",
    "print('Execution time', time.time()-start, 'seconds')\n",
    "print('Groups', Groups, 'This means that there is only one group, with strings 0, 1 and 2.')\n",
    "print('Measurements', Measurements, 'This means that (for the group 0) the measurement 4 (Bell) should be performed on the qubits 0 and 1, and the measurement 3 (TPBZ) should be performed on qubit 2')"
   ]
  },
  {
   "cell_type": "markdown",
   "metadata": {},
   "source": [
    "##  Test 4: No grouping (all-to-all connectivity)"
   ]
  },
  {
   "cell_type": "markdown",
   "metadata": {},
   "source": [
    "Test in which we know by hand that no grouping is possible using only TPB+Bell."
   ]
  },
  {
   "cell_type": "code",
   "execution_count": 7,
   "metadata": {},
   "outputs": [
    {
     "name": "stdout",
     "output_type": "stream",
     "text": [
      "Execution time 0.0009968280792236328 seconds\n",
      "Groups [[0], [1], [2]] This means that there are 3 groups, one for each string.\n",
      "Measurements [[[1, [0]], [2, [1]], [3, [2]]], [[3, [0]], [2, [1]], [2, [2]]], [[1, [0]], [3, [1]], [2, [2]]]]\n",
      "Measurements of group 0: [[1, [0]], [2, [1]], [3, [2]]] This means that (for the group 0) the measurement 1 (TPBX) should be performed on the qubit 0, the measurement 2 (TPBY) should be performed on the qubit 1 and the measurement 3 (TPBZ) should be performed on the qubit 2.\n"
     ]
    }
   ],
   "source": [
    "start=time.time()\n",
    "PS=np.array([[1,2,3],[3,2,2],[1,3,2]])\n",
    "WC=list(permutations(list(range(3)),2))\n",
    "Groups, Measurements = ga2.grouping(PS,[4,3,2,1],WC)#  Only the measurements 4 (Bell) and TPB are considered for grouping). The Bell measurement is the preferential.\n",
    "print('Execution time', time.time()-start, 'seconds')\n",
    "print('Groups', Groups, 'This means that there are 3 groups, one for each string.')\n",
    "print('Measurements', Measurements)\n",
    "print('Measurements of group 0:', Measurements[0],  'This means that (for the group 0) the measurement 1 (TPBX) should be performed on the qubit 0, the measurement 2 (TPBY) should be performed on the qubit 1 and the measurement 3 (TPBZ) should be performed on the qubit 2.')"
   ]
  },
  {
   "cell_type": "markdown",
   "metadata": {},
   "source": [
    "## Test 5: Different conectivities"
   ]
  },
  {
   "cell_type": "markdown",
   "metadata": {},
   "source": [
    "We check that the grouping depends on the connectivity (which qubits in the are allowed to get entangled with which).\n",
    "\n",
    "First, with this example of 3 Pauli strings and all-to-all conections we check that grouping into just 1 group is possible."
   ]
  },
  {
   "cell_type": "code",
   "execution_count": 8,
   "metadata": {},
   "outputs": [
    {
     "name": "stdout",
     "output_type": "stream",
     "text": [
      "Execution time 0.0009963512420654297 seconds\n",
      "Groups [[0, 1, 2]]\n",
      "Measurements [[[4, [0, 2]], [1, [1]]]]\n"
     ]
    }
   ],
   "source": [
    "start=time.time()\n",
    "PS=np.array([[1,1,1],[2,1,2],[3,1,3]])\n",
    "WC=list(permutations(list(range(3)),2))\n",
    "Groups, Measurements = ga2.grouping(PS,[4,3,2,1],WC)\n",
    "print('Execution time', time.time()-start, 'seconds')\n",
    "print('Groups', Groups)\n",
    "print('Measurements', Measurements)"
   ]
  },
  {
   "cell_type": "markdown",
   "metadata": {},
   "source": [
    "If we restrict the conectivity between qubits, for the same example the number of groups increases. It goes from 1 group --> to 3 groups."
   ]
  },
  {
   "cell_type": "code",
   "execution_count": 9,
   "metadata": {},
   "outputs": [
    {
     "name": "stdout",
     "output_type": "stream",
     "text": [
      "Execution time 0.0 seconds\n",
      "Groups [[0], [1], [2]]\n",
      "Measurements [[[1, [0]], [1, [1]], [1, [2]]], [[2, [0]], [1, [1]], [2, [2]]], [[3, [0]], [1, [1]], [3, [2]]]]\n"
     ]
    }
   ],
   "source": [
    "start=time.time()\n",
    "PS=np.array([[1,1,1],[2,1,2],[3,1,3]])\n",
    "WC=[0,1,2,(0,1),(1,0)]\n",
    "Groups, Measurements = ga2.grouping(PS,[4,3,2,1],WC)\n",
    "print('Execution time', time.time()-start, 'seconds')\n",
    "print('Groups', Groups)\n",
    "print('Measurements', Measurements)"
   ]
  },
  {
   "cell_type": "markdown",
   "metadata": {},
   "source": [
    "## Test 6: Hard grouping test. Measurement preference dependence"
   ]
  },
  {
   "cell_type": "markdown",
   "metadata": {},
   "source": [
    "Here, we show with an example that the grouping algorithm works with hard instances for PS. In addition, we show that the algorithm depends on the preference of assigned measurements.\n"
   ]
  },
  {
   "cell_type": "code",
   "execution_count": 10,
   "metadata": {},
   "outputs": [
    {
     "name": "stdout",
     "output_type": "stream",
     "text": [
      "Execution time v1 4.859209060668945 seconds\n",
      "Number of groups 80\n",
      "Strings of the first group [[1 1 3 1 3 2]\n",
      " [1 3 1 1 3 2]\n",
      " [2 1 3 1 2 2]\n",
      " [1 3 1 3 3 3]\n",
      " [2 1 3 0 2 0]]\n",
      "Measurements of the first group [[6, [1, 2]], [6, [0, 4]], [7, [3, 5]]]\n",
      "Execution time v2 3.920708179473877 seconds\n",
      "Number of groups 80\n",
      "Strings of the first group [[1 1 3 1 3 2]\n",
      " [1 3 1 1 3 2]\n",
      " [2 1 3 1 2 2]\n",
      " [1 3 1 3 3 3]\n",
      " [2 1 3 0 2 0]]\n",
      "Measurements of the first group [[6, [1, 2]], [6, [0, 4]], [7, [3, 5]]]\n"
     ]
    }
   ],
   "source": [
    "N=6\n",
    "np.random.seed(0)\n",
    "WC=list(permutations(list(range(N)),2))\n",
    "AM=[1,2,3,4,5,6,7,8,9] \n",
    "PS=np.random.randint(0,4,[400,N])\n",
    "\n",
    "start=time.time()\n",
    "Groups, Measurements=ga.grouping(PS,AM,WC)\n",
    "print('Execution time v1', time.time()-start, 'seconds')\n",
    "print('Number of groups', len(Groups))\n",
    "print('Strings of the first group', PS[Groups[0],:])\n",
    "print('Measurements of the first group', Measurements[0])\n",
    "\n",
    "start=time.time()\n",
    "Groups, Measurements=ga2.grouping(PS,AM,WC)\n",
    "print('Execution time v2', time.time()-start, 'seconds')\n",
    "print('Number of groups', len(Groups))\n",
    "print('Strings of the first group', PS[Groups[0],:])\n",
    "print('Measurements of the first group', Measurements[0])"
   ]
  },
  {
   "cell_type": "code",
   "execution_count": 11,
   "metadata": {},
   "outputs": [
    {
     "name": "stdout",
     "output_type": "stream",
     "text": [
      "Execution time 2.869967460632324 seconds\n",
      "Number of groups 82\n",
      "Strings of the first group [[1 1 3 1 3 2]\n",
      " [1 3 1 1 3 2]\n",
      " [2 1 3 1 2 2]\n",
      " [1 3 1 3 3 3]\n",
      " [2 1 3 0 2 0]]\n",
      "Measurements of the first group [[6, [1, 2]], [6, [0, 4]], [7, [3, 5]]]\n"
     ]
    }
   ],
   "source": [
    "start=time.time()\n",
    "AM=[9,8,7,6,5,4,3,2,1] \n",
    "Groups, Measurements = ga2.grouping(PS,AM,WC)\n",
    "print('Execution time', time.time()-start, 'seconds')\n",
    "print('Number of groups', len(Groups))\n",
    "print('Strings of the first group', PS[Groups[0],:])\n",
    "print('Measurements of the first group', Measurements[0])"
   ]
  },
  {
   "cell_type": "markdown",
   "metadata": {},
   "source": [
    "import qiskit.tools.jupyter\n",
    "%qiskit_version_table__For a much more careful discussion on how the order in which the measurements are assigned, as well as the order of the Pauli strings, please visit the notebook: Order_Paulis__"
   ]
  },
  {
   "cell_type": "code",
   "execution_count": 12,
   "metadata": {
    "tags": []
   },
   "outputs": [
    {
     "name": "stderr",
     "output_type": "stream",
     "text": [
      "C:\\Users\\lucia\\miniconda3\\lib\\site-packages\\qiskit\\aqua\\__init__.py:86: DeprecationWarning: The package qiskit.aqua is deprecated. It was moved/refactored to qiskit-terra For more information see <https://github.com/Qiskit/qiskit-aqua/blob/main/README.md#migration-guide>\n",
      "  warn_package('aqua', 'qiskit-terra')\n"
     ]
    },
    {
     "data": {
      "text/html": [
       "<h3>Version Information</h3><table><tr><th>Qiskit Software</th><th>Version</th></tr><tr><td><code>qiskit-terra</code></td><td>0.18.1</td></tr><tr><td><code>qiskit-aer</code></td><td>0.8.2</td></tr><tr><td><code>qiskit-ignis</code></td><td>0.6.0</td></tr><tr><td><code>qiskit-ibmq-provider</code></td><td>0.16.0</td></tr><tr><td><code>qiskit-aqua</code></td><td>0.9.4</td></tr><tr><td><code>qiskit</code></td><td>0.29.0</td></tr><tr><td><code>qiskit-nature</code></td><td>0.2.0</td></tr><tr><th>System information</th></tr><tr><td>Python</td><td>3.9.1 (default, Dec 11 2020, 09:29:25) [MSC v.1916 64 bit (AMD64)]</td></tr><tr><td>OS</td><td>Windows</td></tr><tr><td>CPUs</td><td>4</td></tr><tr><td>Memory (Gb)</td><td>11.887619018554688</td></tr><tr><td colspan='2'>Sun Sep 05 23:54:51 2021 Hora de verano romance</td></tr></table>"
      ],
      "text/plain": [
       "<IPython.core.display.HTML object>"
      ]
     },
     "metadata": {},
     "output_type": "display_data"
    }
   ],
   "source": [
    "import qiskit.tools.jupyter\n",
    "%qiskit_version_table"
   ]
  },
  {
   "cell_type": "code",
   "execution_count": null,
   "metadata": {},
   "outputs": [],
   "source": []
  }
 ],
 "metadata": {
  "kernelspec": {
   "display_name": "Python 3 (ipykernel)",
   "language": "python",
   "name": "python3"
  },
  "language_info": {
   "codemirror_mode": {
    "name": "ipython",
    "version": 3
   },
   "file_extension": ".py",
   "mimetype": "text/x-python",
   "name": "python",
   "nbconvert_exporter": "python",
   "pygments_lexer": "ipython3",
   "version": "3.9.1"
  }
 },
 "nbformat": 4,
 "nbformat_minor": 4
}
