{
 "cells": [
  {
   "cell_type": "code",
   "execution_count": 8,
   "metadata": {
    "execution": {
     "iopub.execute_input": "2021-05-19T12:15:19.580219Z",
     "iopub.status.busy": "2021-05-19T12:15:19.579996Z",
     "iopub.status.idle": "2021-05-19T12:15:19.663602Z",
     "shell.execute_reply": "2021-05-19T12:15:19.663176Z",
     "shell.execute_reply.started": "2021-05-19T12:15:19.580193Z"
    },
    "tags": []
   },
   "outputs": [],
   "source": [
    "import numpy as np\n",
    "import networkx as nx\n",
    "from itertools import permutations\n",
    "import time\n",
    "import matplotlib.pyplot as plt"
   ]
  },
  {
   "cell_type": "markdown",
   "metadata": {},
   "source": [
    "I think that it could be useful mapping the Pauli strings into arrays in the following way\n",
    "\\begin{align*}\n",
    "    I&\\mapsto 0\\\\\n",
    "    X&\\mapsto 1\\\\\n",
    "    Y&\\mapsto 2\\\\\n",
    "    Z&\\mapsto 3.\n",
    "\\end{align*}\n",
    "Then, for example, $XIZY$ would be mapped to $[1,0,3,2]$. Similarly, we should map the measurements into numbers:\n",
    "\\begin{align*}\n",
    "    TPBX&\\mapsto 1\\\\\n",
    "    TPBY&\\mapsto 2\\\\\n",
    "    TPBZ&\\mapsto 3\\\\\n",
    "    Bell&\\mapsto 4\\\\\n",
    "    \\Omega^X&\\mapsto 5\\\\\n",
    "    \\Omega^Y&\\mapsto 6\\\\\n",
    "    \\Omega^Z&\\mapsto 7\\\\\n",
    "    \\chi&\\mapsto 8.\\\\\n",
    "\\end{align*}\n",
    "Finally, we could builds strings of compatibility, one for each measurement. The string of compatibility of the measurement k should contain the vectors assigned to the Pauli strings that are compatible with the measurement k. For instance, if we consider the measure 4 (the Bell measure) its compatibility string should contain (0,0), (1,1), (2,2), (3,3), because the Bell measurement is compatible with $II,XX,YY\\ \\mathrm{and}\\ ZZ.$\n",
    "\n",
    "\n",
    "Thus, when checking the compatibility of the strings $v_i$ and $v_j$ with a measurement $k$ on the qubits $l,m$, what we should do is checking if $(v_i(l),v_i(m))$ and $(v_j(l),v_j(m))$ are both in the compatibility string of the measurement $k$. For example, if we had $v_i=YIZZ=[2,0,3,3]$ and $v_j=XIZY=[1,0,3,2]$ and wanted to check if theses strings are compatible with the measurement 0 (the Bell measurement) on the qubits (3,4), what we have to do is checking if $(v_i(3),v_i(4))=(3,3)$ and $(v_j(3),v_j(4))=(3,2)$ are in the compatibility string of the measurement 4. As this compatibility string is $Str_4=\\{(0,0),(1,1),(2,2),(3,3)\\}$, we have that $(v_i(3),v_i(4))$ belongs to $Str_4$ but $(v_j(3),v_j(4))$ does not. In consequence, the measurement 4 on the qubits (3,4) is not compatible with $v_i$ and $v_j$. "
   ]
  },
  {
   "cell_type": "markdown",
   "metadata": {},
   "source": [
    "# With the notation fixed, let's go for the code. First, we will implement the Pauli Graph construction with TPB basis, the LDFC and the TPBGrouping.  "
   ]
  },
  {
   "cell_type": "code",
   "execution_count": 61,
   "metadata": {
    "execution": {
     "iopub.execute_input": "2021-05-19T12:25:31.015367Z",
     "iopub.status.busy": "2021-05-19T12:25:31.015189Z",
     "iopub.status.idle": "2021-05-19T12:25:31.019994Z",
     "shell.execute_reply": "2021-05-19T12:25:31.019354Z",
     "shell.execute_reply.started": "2021-05-19T12:25:31.015347Z"
    },
    "tags": []
   },
   "outputs": [],
   "source": [
    "def PauliGraph(PS):#PS==Pauli Strings. AM=Admisible Measurements. WC==Well Connected Qubits. \n",
    "    #    If we want to group n Pauli arrays of size N, PS should be a matrix of n rows and N columns,\n",
    "    # each row representing a Pauli string.\n",
    "    n=np.size(PS[:,0])\n",
    "    N=np.size(PS[0,:])\n",
    "    \n",
    "    G = nx.Graph()\n",
    "    G.add_nodes_from(np.arange(n))\n",
    "    for i in range(n):\n",
    "        v_i=PS[i,:]\n",
    "        for j in range(i+1,n):\n",
    "            v_j=PS[j,:]\n",
    "            qubits=np.arange(N)\n",
    "            noncommonqubits=np.delete(qubits,np.argwhere(v_i==v_j))\n",
    "            vi=v_i[noncommonqubits]\n",
    "            vj=v_j[noncommonqubits]\n",
    "            if (vi*vj!=0).any():\n",
    "                G.add_edges_from([(i,j)])\n",
    "    return G"
   ]
  },
  {
   "cell_type": "code",
   "execution_count": 130,
   "metadata": {
    "execution": {
     "iopub.execute_input": "2021-05-19T12:51:39.931980Z",
     "iopub.status.busy": "2021-05-19T12:51:39.931802Z",
     "iopub.status.idle": "2021-05-19T12:51:39.982690Z",
     "shell.execute_reply": "2021-05-19T12:51:39.982247Z",
     "shell.execute_reply.started": "2021-05-19T12:51:39.931961Z"
    },
    "tags": []
   },
   "outputs": [
    {
     "data": {
      "image/png": "[encoded data removed]",
      "text/plain": [
       "<Figure size 432x288 with 1 Axes>"
      ]
     },
     "metadata": {},
     "output_type": "display_data"
    }
   ],
   "source": [
    "PS = np.array([[1,1,3, 2],[2,2,3, 1],[3,3,3,0], [0, 1, 0, 0]])\n",
    "test = PauliGraph(PS)\n",
    "nx.draw(test, with_labels=True, font_weight='bold')"
   ]
  },
  {
   "cell_type": "code",
   "execution_count": 122,
   "metadata": {
    "execution": {
     "iopub.execute_input": "2021-05-19T12:45:13.012680Z",
     "iopub.status.busy": "2021-05-19T12:45:13.012447Z",
     "iopub.status.idle": "2021-05-19T12:45:13.018522Z",
     "shell.execute_reply": "2021-05-19T12:45:13.017956Z",
     "shell.execute_reply.started": "2021-05-19T12:45:13.012651Z"
    },
    "tags": []
   },
   "outputs": [],
   "source": [
    "def LDFC(PG):\n",
    "    SV=sorted(PG.degree, key=lambda x: x[1], reverse=True)#Sorted Vertices by decreasing degree\n",
    "    n=PG.number_of_nodes()\n",
    "    aux=list(np.arange(n))\n",
    "#     Color=n*np.ones(n) # WHY NOT TO START WITH ZEROS, IF NOT, WHY NOT TO TAKE max(AC)\n",
    "    Color = np.zeros(n)\n",
    "    for i in range(n):\n",
    "        IV=list(list(PG.neighbors(SV[i][0])))#Vertices that are Incompatible with vertex SV[i][0]  # WHY THE ARE TWO LIST OPERATORS??\n",
    "        IC=Color[IV]#Colors that are assigned to vertices that are incompatible with vertex SV[i]\n",
    "        AC=[ elem for elem in aux if elem not in IC]#Available colors for vertex SV[i]\n",
    "        Color[SV[i][0]]=min(AC)\n",
    "#     MC=int(max(Color)) # This is not always true. Better to use np.unique\n",
    "    MC = len(np.unique(Color)) - 1\n",
    "    Groups=[]\n",
    "    for i in range(MC + 1):\n",
    "        Groups.append(list(np.argwhere(Color==i)))\n",
    "    return Color, Groups #Color is an array whose i entry has the color assigned to the i Pauli String.\n",
    "    #Groups is a list of lists, where the i list comprenhends the arrays assigned to the color i."
   ]
  },
  {
   "cell_type": "code",
   "execution_count": 123,
   "metadata": {
    "execution": {
     "iopub.execute_input": "2021-05-19T12:45:13.549148Z",
     "iopub.status.busy": "2021-05-19T12:45:13.548881Z",
     "iopub.status.idle": "2021-05-19T12:45:13.555114Z",
     "shell.execute_reply": "2021-05-19T12:45:13.554530Z",
     "shell.execute_reply.started": "2021-05-19T12:45:13.549117Z"
    },
    "tags": []
   },
   "outputs": [
    {
     "name": "stdout",
     "output_type": "stream",
     "text": [
      "[0. 1. 2. 0.] [[array([0]), array([3])], [array([1])], [array([2])]]\n"
     ]
    }
   ],
   "source": [
    "PS = np.array([[1,1,3, 2],[2,2,3, 1],[3,3,3,0], [0, 1, 0, 0]])\n",
    "PG = PauliGraph(PS)\n",
    "# list(PG.neighbors(1))\n",
    "Color, Groups = LDFC(PG)\n",
    "print(Color, Groups)"
   ]
  },
  {
   "cell_type": "code",
   "execution_count": 124,
   "metadata": {
    "execution": {
     "iopub.execute_input": "2021-05-19T12:45:14.060231Z",
     "iopub.status.busy": "2021-05-19T12:45:14.060015Z",
     "iopub.status.idle": "2021-05-19T12:45:14.064773Z",
     "shell.execute_reply": "2021-05-19T12:45:14.064212Z",
     "shell.execute_reply.started": "2021-05-19T12:45:14.060207Z"
    },
    "tags": []
   },
   "outputs": [],
   "source": [
    "def TPBgrouping(PS): #PS==Pauli Strings. AM=Admisible Measurements. WC==Well Connected Qubits. \n",
    "    #    If we want to group n Pauli arrays of size N, PS should be a matrix of n rows and N columns,\n",
    "    # each row representing a Pauli string.\n",
    "    PG=PauliGraph(PS)\n",
    "    Color, Groups=LDFC(PG)\n",
    "    N=np.size(PS[0,:])\n",
    "    Measurements=[]#The list of measurements. Each element will be the total measurement for a certain group. That measurement \n",
    "    #will be encoded as an N-array of {0,1,3,4}. 0 will appear in the position k if in the qubit k we can measure with any \n",
    "    # basis (will only happen if the k factor of every element of the group is I), 1 will appear in the position k if in the qubit k\n",
    "    #we can measure with TPBX,...\n",
    "    for i in range(len(Groups)):\n",
    "        Mi=[]\n",
    "        for k in range(N):\n",
    "            Mi.append(max(PS[Groups[i],k]))\n",
    "        Measurements.append(Mi)\n",
    "    return Color, Groups, Measurements"
   ]
  },
  {
   "cell_type": "code",
   "execution_count": 125,
   "metadata": {
    "execution": {
     "iopub.execute_input": "2021-05-19T12:45:14.845192Z",
     "iopub.status.busy": "2021-05-19T12:45:14.844953Z",
     "iopub.status.idle": "2021-05-19T12:45:14.850784Z",
     "shell.execute_reply": "2021-05-19T12:45:14.850298Z",
     "shell.execute_reply.started": "2021-05-19T12:45:14.845167Z"
    },
    "tags": []
   },
   "outputs": [
    {
     "name": "stdout",
     "output_type": "stream",
     "text": [
      "[[array([1]), array([1]), array([3]), array([2])], [array([2]), array([2]), array([3]), array([1])], [array([3]), array([3]), array([3]), array([0])]]\n"
     ]
    }
   ],
   "source": [
    "PS = np.array([[1,1,3, 2],[2,2,3, 1],[3,3,3,0], [0, 1, 0, 0]])\n",
    "temp = TPBgrouping(PS)\n",
    "print(temp[2])"
   ]
  },
  {
   "cell_type": "markdown",
   "metadata": {},
   "source": [
    "# Now, let's implement the information about local measurements manually.\n",
    "This is the commutation table "
   ]
  },
  {
   "cell_type": "code",
   "execution_count": 131,
   "metadata": {
    "execution": {
     "iopub.execute_input": "2021-05-19T12:52:23.546589Z",
     "iopub.status.busy": "2021-05-19T12:52:23.546371Z",
     "iopub.status.idle": "2021-05-19T12:52:23.551374Z",
     "shell.execute_reply": "2021-05-19T12:52:23.550814Z",
     "shell.execute_reply.started": "2021-05-19T12:52:23.546561Z"
    }
   },
   "outputs": [],
   "source": [
    "Comp=[]\n",
    "Comp.append([])#This empty list is just to fix notation\n",
    "Comp.append([[0],[1]])\n",
    "Comp.append([[0],[2]])\n",
    "Comp.append([[0],[3]])\n",
    "Comp.append([[0,0],[1,1],[2,2],[3,3]])  # WHAT MEANS THIS LINE??\n",
    "\n",
    "length=[]\n",
    "length.append([])#This empty list is just to fix notation\n",
    "length.append(1)\n",
    "length.append(1)\n",
    "length.append(1)\n",
    "length.append(2)"
   ]
  },
  {
   "cell_type": "markdown",
   "metadata": {},
   "source": [
    "# Now, let's implement the grouping code."
   ]
  },
  {
   "cell_type": "code",
   "execution_count": 136,
   "metadata": {
    "execution": {
     "iopub.execute_input": "2021-05-19T13:40:30.760978Z",
     "iopub.status.busy": "2021-05-19T13:40:30.760764Z",
     "iopub.status.idle": "2021-05-19T13:40:30.771105Z",
     "shell.execute_reply": "2021-05-19T13:40:30.770594Z",
     "shell.execute_reply.started": "2021-05-19T13:40:30.760953Z"
    },
    "tags": []
   },
   "outputs": [],
   "source": [
    "def MeasurementAssignment(Vi,Vj,Mi,AM,WC):#This program is the Algorithm 2 of https://arxiv.org/abs/1909.09119. Syntax can\n",
    "    #be looked in 'grouping(PS,AM,WC)'\n",
    "    \n",
    "    # Let's first check for compatibility of Vj with the current assigment of Mi.\n",
    "    # Mi is a list of local measurement. Each local measurement is encoded as list of two elements. The first one \n",
    "    # are the qubits where the local measurement acts and the second is the type of local measurement. For example,\n",
    "    # if Mi contains {4,(1,2)} it would mean that Mi has the Bell measurement (nº4) as the local measurement acting on \n",
    "    # the qubits (1,2).\n",
    "    N=np.size(Vi)\n",
    "    U=list(np.arange(N))\n",
    "    S=0  # WHAT IS THE PURPOSE OF S??\n",
    "    for LM in Mi:\n",
    "        if list(Vj[LM[1]]) not in Comp[LM[0]]:  # WHAT IS COMP???\n",
    "            return Mi, S\n",
    "        else:\n",
    "            for s in LM[1]:### SEGURO QUE HAY UNA FORMA MÁS RÁPIDA DE ELIMINAR VARIOS VALORES A LA VEZ DE LA LISTA\n",
    "                U.remove(s)\n",
    "    commonfactors=np.argwhere(Vi==Vj)\n",
    "    for k in commonfactors:\n",
    "        if k in U:\n",
    "            U.remove(k)\n",
    "    PMi=Mi #I create a potential Mi.\n",
    "    while len(U)!=0:\n",
    "        for Eps in AM:\n",
    "            if len(U)>=length[Eps]:\n",
    "                perm=list(permutations(U,length[Eps])) #length of each local measurement will be manually programmed\n",
    "                perm=list({*map(tuple, map(sorted, perm))}) #This is a code for eliminating the permutations that\n",
    "                #are equal up to order for perm. This would reduce the iterations (I believe) without affecting the algorithm,\n",
    "                #because the WC array will contain all possible permutations, even those that are equal with disitinct order.\n",
    "                #and if the qubits (l,k) of Vi and Vj are compatible with a certain measurement, the qubits (k,l) of Vi and \n",
    "                #Vj will be compatible with other measurement. I should explain this better. \n",
    "                for per in perm:\n",
    "                    #if per in WC: \n",
    "                    #This raises an error, so here I have to check the code.\n",
    "                    if (list(Vi[[per]]) in Comp[Eps]) and (list(Vj[[per]]) in Comp[Eps]):\n",
    "                        PMi.append([Eps,list(per)])\n",
    "                        for s in per:\n",
    "                            U.remove(s)\n",
    "                        break\n",
    "                else:\n",
    "                    continue\n",
    "                break\n",
    "        else:\n",
    "            return Mi, S\n",
    "    S=1\n",
    "    return PMi, S            \n",
    "\n",
    "def grouping(PS, AM, WC): #PS==Pauli Strings. AM=Admisible Measurements. WC==Well Connected Qubits. \n",
    "    #    If we want to group n Pauli arrays of size N, PS should be a matrix of n rows and N columns,\n",
    "    # each row representing a Pauli string. \n",
    "    #    AM should be a vector containing the admisible measurements in the order of prefered assignenment. \n",
    "    #    WC should be a vector containing the pairs of qubits with good connectivity.\n",
    "    PG=PauliGraph(PS)\n",
    "    SV=sorted(PG.degree, key=lambda x: x[1], reverse=True)#Sorted Vertices by decreasing degree\n",
    "    n=np.size(PS[:,0])\n",
    "    N=np.size(PS[0,:])\n",
    "    AS=[]#list of strings with assigned measurement\n",
    "    Groups=[]#list of groups\n",
    "    Measurements=[]#list of total measurements Mi\n",
    "    for k in range(n):\n",
    "        i=SV[k][0]\n",
    "        if i not in AS:\n",
    "            Mi=[]#Mi will be the total measurement. It will be a list of local measurements. Each local measurement\n",
    "            #will appear as a list of two elements. The first will correspond with the local measurement and the second\n",
    "            # to the qubits. For example, if Mi contains {4,(1,2)} it would mean that Mi has the Bell measurement (nº4)\n",
    "            #as the local measurement acting on the qubits (1,2)\n",
    "            GroupMi=[i]\n",
    "            AS.append(i)\n",
    "            for l in range(n):\n",
    "                j=SV[l][0]\n",
    "                if j not in AS:\n",
    "                    Mi, S=MeasurementAssignment(PS[i,:],PS[j,:],Mi,AM,WC)#S is the success variable. If Mi is compatible with\n",
    "                    #Vj S=1 otherwise S=0\n",
    "                    if S==1:\n",
    "                        AS.append(j)\n",
    "                        GroupMi.append(j)\n",
    "            QWM=list(np.arange(N))#Qubits Without a Measurement assigned by Mi. There, all factors \n",
    "            # of the group will be equal or the identity, so we will have to use a TPB measurement.\n",
    "            for LM in Mi:\n",
    "                for s in LM[1]:\n",
    "                    QWM.remove(s)\n",
    "            for q in QWM:\n",
    "                TPBq=max(PS[GroupMi,q])\n",
    "                Mi.append([TPBq,[q]])\n",
    "            Groups.append(GroupMi)\n",
    "            Measurements.append(Mi)\n",
    "            \n",
    "    return Groups, Measurements"
   ]
  },
  {
   "cell_type": "markdown",
   "metadata": {},
   "source": [
    "# Test 1: TPB grouping"
   ]
  },
  {
   "cell_type": "code",
   "execution_count": 137,
   "metadata": {
    "execution": {
     "iopub.execute_input": "2021-05-19T13:40:31.572655Z",
     "iopub.status.busy": "2021-05-19T13:40:31.572442Z",
     "iopub.status.idle": "2021-05-19T13:40:31.579978Z",
     "shell.execute_reply": "2021-05-19T13:40:31.579391Z",
     "shell.execute_reply.started": "2021-05-19T13:40:31.572632Z"
    }
   },
   "outputs": [
    {
     "name": "stdout",
     "output_type": "stream",
     "text": [
      "0.00010371208190917969\n"
     ]
    },
    {
     "data": {
      "text/plain": [
       "(array([1., 2., 0.]),\n",
       " [[array([2])], [array([0])], [array([1])]],\n",
       " [[array([3]), array([3]), array([3])],\n",
       "  [array([1]), array([1]), array([3])],\n",
       "  [array([2]), array([2]), array([3])]])"
      ]
     },
     "execution_count": 137,
     "metadata": {},
     "output_type": "execute_result"
    }
   ],
   "source": [
    "start=time.time()\n",
    "PS=np.array([[1,1,3],[2,2,3],[3,3,3]])\n",
    "print(time.time()-start)\n",
    "TPBgrouping(PS)"
   ]
  },
  {
   "cell_type": "markdown",
   "metadata": {},
   "source": [
    "# Test 2: Easy Bell Grouping"
   ]
  },
  {
   "cell_type": "code",
   "execution_count": 138,
   "metadata": {
    "execution": {
     "iopub.execute_input": "2021-05-19T13:40:32.735407Z",
     "iopub.status.busy": "2021-05-19T13:40:32.735194Z",
     "iopub.status.idle": "2021-05-19T13:40:32.743000Z",
     "shell.execute_reply": "2021-05-19T13:40:32.742564Z",
     "shell.execute_reply.started": "2021-05-19T13:40:32.735382Z"
    },
    "scrolled": true,
    "tags": []
   },
   "outputs": [
    {
     "name": "stdout",
     "output_type": "stream",
     "text": [
      "[0, 1, 2]\n",
      "[0, 1, 2, (0, 1), (0, 2), (1, 0), (1, 2), (2, 0), (2, 1)]\n",
      "0.00039696693420410156\n"
     ]
    },
    {
     "name": "stderr",
     "output_type": "stream",
     "text": [
      "<ipython-input-136-ce26647e2f77>:35: FutureWarning: Using a non-tuple sequence for multidimensional indexing is deprecated; use `arr[tuple(seq)]` instead of `arr[seq]`. In the future this will be interpreted as an array index, `arr[np.array(seq)]`, which will result either in an error or a different result.\n",
      "  if (list(Vi[[per]]) in Comp[Eps]) and (list(Vj[[per]]) in Comp[Eps]):\n"
     ]
    },
    {
     "data": {
      "text/plain": [
       "([[0, 1, 2]], [[[4, [0, 1]], [3, [2]]]])"
      ]
     },
     "execution_count": 138,
     "metadata": {},
     "output_type": "execute_result"
    }
   ],
   "source": [
    "start=time.time()\n",
    "PS=np.array([[1,1,3],[2,2,3],[3,3,3]])\n",
    "WC=list(np.arange(np.size(PS[0,:])))#One should include all qubits in the WC array, othewise the if loop which checks if \n",
    "#the measurement is done in compatible qubits would reject all one qubit measurements.\n",
    "print(WC)\n",
    "WC2=permutations(WC,2)#let's suppose that all qubits are pairwise connected\n",
    "WC.extend(WC2)\n",
    "print(WC)\n",
    "print(time.time()-start)\n",
    "grouping(PS,[4],WC)"
   ]
  },
  {
   "cell_type": "markdown",
   "metadata": {},
   "source": [
    "# Test 3: No grouping"
   ]
  },
  {
   "cell_type": "code",
   "execution_count": 139,
   "metadata": {
    "execution": {
     "iopub.execute_input": "2021-05-19T13:42:01.660740Z",
     "iopub.status.busy": "2021-05-19T13:42:01.660518Z",
     "iopub.status.idle": "2021-05-19T13:42:01.666693Z",
     "shell.execute_reply": "2021-05-19T13:42:01.666195Z",
     "shell.execute_reply.started": "2021-05-19T13:42:01.660714Z"
    }
   },
   "outputs": [
    {
     "name": "stdout",
     "output_type": "stream",
     "text": [
      "0.0010886192321777344 seconds\n",
      "Groups [[0], [1], [2]] Measurements [[[1, [0]], [2, [1]], [3, [2]]], [[3, [0]], [2, [1]], [2, [2]]], [[1, [0]], [3, [1]], [2, [2]]]]\n"
     ]
    },
    {
     "name": "stderr",
     "output_type": "stream",
     "text": [
      "<ipython-input-136-ce26647e2f77>:35: FutureWarning: Using a non-tuple sequence for multidimensional indexing is deprecated; use `arr[tuple(seq)]` instead of `arr[seq]`. In the future this will be interpreted as an array index, `arr[np.array(seq)]`, which will result either in an error or a different result.\n",
      "  if (list(Vi[[per]]) in Comp[Eps]) and (list(Vj[[per]]) in Comp[Eps]):\n"
     ]
    }
   ],
   "source": [
    "start=time.time()\n",
    "PS=np.array([[1,2,3],[3,2,2],[1,3,2]])\n",
    "WC=list(np.arange(np.size(PS[0,:])))#One should include all qubits in the WC array, othewise the if loop which checks if \n",
    "#the measurement is done in compatible qubits would reject all one qubit measurements.\n",
    "WC2=permutations(WC,2)#let's suppose that all qubits are pairwise connected\n",
    "WC.extend(WC2)\n",
    "Groups, Measurements=grouping(PS,[4,3,2,1],WC)\n",
    "print(time.time()-start, 'seconds')\n",
    "print('Groups', Groups, 'Measurements', Measurements)"
   ]
  },
  {
   "cell_type": "code",
   "execution_count": 9,
   "metadata": {},
   "outputs": [],
   "source": [
    "from qiskit import IBMQ\n",
    "from qiskit.opflow.primitive_ops import PauliOp\n",
    "from qiskit.opflow.list_ops import SummedOp\n",
    "from qiskit.quantum_info import Pauli\n",
    "from qiskit.algorithms import VQE"
   ]
  },
  {
   "cell_type": "code",
   "execution_count": 10,
   "metadata": {},
   "outputs": [],
   "source": [
    "def HeisenbergHamiltonian( J=1, H=1, num_qubits=2, neighbours=[(0,1)] ):\n",
    "    \"\"\"\n",
    "    Qiskit operator of the 3-D Heisemberg Hamiltonian of a lattice of spins.\n",
    "    \n",
    "    H = - J Σ_j ( X_j X_{j+1} + Y_j Y_{j+1} + Z_j Z_{j+1} ) - H Σ_j Z_j\n",
    "    \n",
    "    input:\n",
    "        J          : Real. Coupling constant.\n",
    "        H          : Real. External magnetic field.\n",
    "        num_qubits : Integer. Number of qubits.\n",
    "        neighbours : List of tuples. Coupling between the spins.\n",
    "    output:\n",
    "        Hamiltonian : SummedOp of Qiskit. Heisenberg Hamiltonian of the system.\n",
    "    \"\"\"\n",
    "    num_op = num_qubits + 3*len(neighbours)\n",
    "    Hamiltonian_op_x = []    \n",
    "    Hamiltonian_op_z = []  \n",
    "    Hamiltonian_coef = num_qubits*[-H] + num_op*[-J]\n",
    "    \n",
    "    for idx in range(num_qubits):\n",
    "        op_x = np.zeros( num_qubits )\n",
    "        op_z = np.zeros( num_qubits )\n",
    "        op_z[idx] = 1\n",
    "        Hamiltonian_op_x.append( op_x.copy() )\n",
    "        Hamiltonian_op_z.append( op_z.copy() )        \n",
    "    \n",
    "    for idx in neighbours:\n",
    "        op_x = np.zeros( num_qubits )\n",
    "        op_z = np.zeros( num_qubits )\n",
    "        op_x[idx[0]] = 1\n",
    "        op_x[idx[1]] = 1\n",
    "        Hamiltonian_op_x.append( op_x.copy() )\n",
    "        Hamiltonian_op_z.append( op_z.copy() )\n",
    "        op_z[idx[0]] = 1\n",
    "        op_z[idx[1]] = 1\n",
    "        Hamiltonian_op_x.append( op_x.copy() )\n",
    "        Hamiltonian_op_z.append( op_z.copy() )        \n",
    "        op_x[idx[0]] = 0\n",
    "        op_x[idx[1]] = 0\n",
    "        Hamiltonian_op_x.append( op_x.copy() )\n",
    "        Hamiltonian_op_z.append( op_z.copy() )        \n",
    "#     Hamiltonian = WeightedPauliOperator( \n",
    "#         [ [Hamiltonian_coef[j], Pauli( ( Hamiltonian_op_z[j], Hamiltonian_op_x[j] )) ] \n",
    "#          for j in range(num_op) ] )\n",
    "\n",
    "    Hamiltonian = SummedOp( [ PauliOp(Pauli( ( Hamiltonian_op_z[j], Hamiltonian_op_x[j] )),Hamiltonian_coef[j]) for j in range(num_op) ] )\n",
    "\n",
    "    return Hamiltonian\n",
    "\n",
    "\n",
    "def RandomHamiltonian( num_qubits=2, num_paulis=4 ):\n",
    "    \n",
    "    idxs = np.random.randint(2, size=(2,num_qubits,num_paulis) )\n",
    "\n",
    "    Hamiltonian = SummedOp( [ PauliOp(Pauli( ( idxs[0,:,j], idxs[1,:,j] )),1) for j in range(num_paulis) ] )\n",
    "    \n",
    "    return Hamiltonian"
   ]
  },
  {
   "cell_type": "code",
   "execution_count": 12,
   "metadata": {},
   "outputs": [],
   "source": [
    "def Label2Chain(QubitOp):\n",
    "    \"\"\"\n",
    "    Transform a string of Pauli matrices into a numpy array.\n",
    "    'I' --> 0\n",
    "    'X' --> 1\n",
    "    'Y' --> 2\n",
    "    'Z' --> 3\n",
    "    \n",
    "    input:\n",
    "        QubitOp : SummedOp of Qiskit.\n",
    "    output:\n",
    "        ops     : narray of the Pauli operators.\n",
    "                  ops.shape = ( number_of_operators, number_of_qubits )\n",
    "        coef    : coefficient of each Pauli operator.\n",
    "    \"\"\"\n",
    "    Dict = {'I' : 0,\n",
    "            'X' : 1,\n",
    "            'Y' : 2,\n",
    "            'Z' : 3}\n",
    "    ops = [[ Dict.get(idx2) for idx2 in idx.primitive.to_label()] for idx in QubitOp.oplist ]\n",
    "    coef = [ idx.coeff for idx in QubitOp.oplist ]\n",
    "    return np.array(ops), coef"
   ]
  },
  {
   "cell_type": "code",
   "execution_count": 14,
   "metadata": {},
   "outputs": [
    {
     "name": "stdout",
     "output_type": "stream",
     "text": [
      "SummedOp([\n",
      "  -1 * IIIZ,\n",
      "  -1 * IIZI,\n",
      "  -1 * IZII,\n",
      "  -1 * ZIII,\n",
      "  -1 * IIXX,\n",
      "  -1 * IIYY,\n",
      "  -1 * IIZZ,\n",
      "  -1 * IXXI,\n",
      "  -1 * IYYI,\n",
      "  -1 * IZZI,\n",
      "  -1 * XXII,\n",
      "  -1 * YYII,\n",
      "  -1 * ZZII,\n",
      "  -1 * XIIX,\n",
      "  -1 * YIIY,\n",
      "  -1 * ZIIZ\n",
      "]) [[0 0 0 3]\n",
      " [0 0 3 0]\n",
      " [0 3 0 0]\n",
      " [3 0 0 0]\n",
      " [0 0 1 1]\n",
      " [0 0 2 2]\n",
      " [0 0 3 3]\n",
      " [0 1 1 0]\n",
      " [0 2 2 0]\n",
      " [0 3 3 0]\n",
      " [1 1 0 0]\n",
      " [2 2 0 0]\n",
      " [3 3 0 0]\n",
      " [1 0 0 1]\n",
      " [2 0 0 2]\n",
      " [3 0 0 3]]\n"
     ]
    }
   ],
   "source": [
    "QubitOp = HeisenbergHamiltonian( num_qubits=4, neighbours=[(0,1),(1,2),(2,3),(3,0)] )\n",
    "paulis, coef = Label2Chain(QubitOp)\n",
    "print( QubitOp, paulis )"
   ]
  },
  {
   "cell_type": "markdown",
   "metadata": {},
   "source": [
    "# Test 4: Nontrivial grouping "
   ]
  },
  {
   "cell_type": "code",
   "execution_count": 18,
   "metadata": {},
   "outputs": [
    {
     "name": "stdout",
     "output_type": "stream",
     "text": [
      "Groups [[4, 5, 10, 11, 6, 12], [7, 8, 13, 14, 9, 15], [0], [1], [2], [3]] Measurements [[[4, [2, 3]], [4, [0, 1]]], [[4, [1, 2]], [4, [0, 3]]], [[0, [0]], [0, [1]], [0, [2]], [3, [3]]], [[0, [0]], [0, [1]], [3, [2]], [0, [3]]], [[0, [0]], [3, [1]], [0, [2]], [0, [3]]], [[3, [0]], [0, [1]], [0, [2]], [0, [3]]]]\n"
     ]
    },
    {
     "name": "stderr",
     "output_type": "stream",
     "text": [
      "<ipython-input-4-b37eae86f721>:35: FutureWarning: Using a non-tuple sequence for multidimensional indexing is deprecated; use `arr[tuple(seq)]` instead of `arr[seq]`. In the future this will be interpreted as an array index, `arr[np.array(seq)]`, which will result either in an error or a different result.\n",
      "  if (list(Vi[[per]]) in Comp[Eps]) and (list(Vj[[per]]) in Comp[Eps]):\n"
     ]
    }
   ],
   "source": [
    "WC = list(np.arange(4))  #One should include all qubits in the WC array, othewise the if loop which checks if \n",
    "#the measurement is done in compatible qubits would reject all one qubit measurements.\n",
    "WC2 = permutations(WC,2) #let's suppose that all qubits are pairwise connected\n",
    "WC.extend(WC2)\n",
    "Groups, Measurements = grouping(paulis,[4],WC)\n",
    "print('Groups', Groups, 'Measurements', Measurements)"
   ]
  },
  {
   "cell_type": "code",
   "execution_count": null,
   "metadata": {},
   "outputs": [],
   "source": []
  }
 ],
 "metadata": {
  "kernelspec": {
   "display_name": "Python 3",
   "language": "python",
   "name": "python3"
  },
  "language_info": {
   "codemirror_mode": {
    "name": "ipython",
    "version": 3
   },
   "file_extension": ".py",
   "mimetype": "text/x-python",
   "name": "python",
   "nbconvert_exporter": "python",
   "pygments_lexer": "ipython3",
   "version": "3.8.8"
  }
 },
 "nbformat": 4,
 "nbformat_minor": 4
}
