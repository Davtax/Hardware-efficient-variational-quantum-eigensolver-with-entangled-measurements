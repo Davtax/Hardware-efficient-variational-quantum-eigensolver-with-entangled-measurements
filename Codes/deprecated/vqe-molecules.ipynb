{
 "cells": [
  {
   "cell_type": "markdown",
   "metadata": {
    "colab_type": "text",
    "id": "view-in-github"
   },
   "source": [
    "<a href=\"https://colab.research.google.com/github/LucianoPereiraValenzuela/Hardware-efficient-variational-quantum-eigensolver-with-entangled-measurements/blob/main/Codes/vqe-molecules.ipynb\" target=\"_parent\"><img src=\"https://colab.research.google.com/assets/colab-badge.svg\" alt=\"Open In Colab\"/></a>"
   ]
  },
  {
   "cell_type": "markdown",
   "metadata": {
    "id": "5_0uy_Q_eRkU",
    "tags": [
     "remove_cell"
    ]
   },
   "source": [
    "# Simulating Molecules using VQE"
   ]
  },
  {
   "cell_type": "markdown",
   "metadata": {
    "id": "-CLsmGIDeRkW"
   },
   "source": [
    "In this tutorial, we introduce the Variational Quantum Eigensolver (VQE), motivate its use, explain the necessary theory, and demonstrate its implementation in finding the ground state energy of molecules.\n",
    "\n",
    "## Contents\n",
    "1. [Introduction](#introduction)\n",
    "2. [The Variational Method of Quantum Mechanics](#varmethod)\n",
    "    1. [Mathematical Background](#backgroundmath)\n",
    "    2. [Bounding the Ground State](#groundstate)\n",
    "3. [The Variational Quantum Eigensolver](#vqe)\n",
    "    1. [Variational Forms](#varforms)\n",
    "    2. [Simple Variational Forms](#simplevarform)\n",
    "    3. [Parameter Optimization](#optimization)\n",
    "    4. [Example with a Single Qubit Variational Form](#example)\n",
    "    5. [Structure of Common Variational Forms](#commonvarforms)\n",
    "4. [VQE Implementation in Qiskit](#implementation)\n",
    "    1. [Running VQE on a Statevector Simulator](#implementationstatevec)\n",
    "    2. [Running VQE on a Noisy Simulator](#implementationnoisy)\n",
    "5. [Problems](#problems)\n",
    "6. [References](#references)"
   ]
  },
  {
   "cell_type": "markdown",
   "metadata": {
    "id": "fSOk9Fb5eRkW"
   },
   "source": [
    "## Introduction<a id='introduction'></a>\n",
    "In many applications it is important to find the minimum eigenvalue of a matrix. For example, in chemistry, the minimum eigenvalue of a Hermitian matrix characterizing the molecule is the ground state energy of that system. In the future, the quantum phase estimation algorithm may be used to find the minimum eigenvalue. However, its implementation on useful problems requires circuit depths exceeding the limits of hardware available in the NISQ era. Thus, in 2014, Peruzzo *et al.* proposed VQE to estimate the ground state energy of a molecule using much shallower circuits [1]. \n",
    "\n",
    "Formally stated, given a Hermitian matrix $H$ with an unknown minimum eigenvalue $\\lambda_{min}$, associated with the eigenstate $|\\psi_{min}\\rangle$, VQE provides an estimate $\\lambda_{\\theta}$ bounding $\\lambda_{min}$:\n",
    "\n",
    "\\begin{align*}\n",
    "    \\lambda_{min} \\le \\lambda_{\\theta} \\equiv \\langle \\psi(\\theta) |H|\\psi(\\theta) \\rangle\n",
    "\\end{align*}  \n",
    "\n",
    "where $|\\psi(\\theta)\\rangle$ is the eigenstate associated with $\\lambda_{\\theta}$. By applying a parameterized circuit, represented by $U(\\theta)$, to some arbitrary starting state $|\\psi\\rangle$, the algorithm obtains an estimate $U(\\theta)|\\psi\\rangle \\equiv |\\psi(\\theta)\\rangle$ on $|\\psi_{min}\\rangle$. The estimate is iteratively optimized by a classical controller changing the parameter $\\theta$ minimizing the expectation value of $\\langle \\psi(\\theta) |H|\\psi(\\theta) \\rangle$.\n",
    "\n"
   ]
  },
  {
   "cell_type": "markdown",
   "metadata": {
    "id": "XHl7IvQ7eRkX"
   },
   "source": [
    "## The Variational Method of Quantum Mechanics<a id='varmethod'></a>\n",
    "### Mathematical Background<a id='backgroundmath'></a>\n",
    "\n",
    "VQE is an application of the variational method of quantum mechanics. To better understand the variational method, some preliminary mathematical background is provided. An eigenvector, $|\\psi_i\\rangle$, of a matrix $A$ is invariant under transformation by $A$ up to a scalar multiplicative constant (the eigenvalue $\\lambda_i$). That is,\n",
    "\n",
    "\\begin{align*}\n",
    "    A |\\psi_i\\rangle = \\lambda_i |\\psi_i\\rangle\n",
    "\\end{align*}\n",
    "\n",
    "Furthermore, a matrix $H$ is Hermitian when it is equal to its own conjugate transpose.\n",
    "\n",
    "\\begin{align*}\n",
    "    H = H^{\\dagger}\n",
    "\\end{align*}\n",
    "\n",
    "The spectral theorem states that the eigenvalues of a Hermitian matrix must be real. Thus, any eigenvalue of $H$ has the property that $\\lambda_i = \\lambda_i^*$. As any measurable quantity must be real, Hermitian matrices are suitable for describing the Hamiltonians of quantum systems. Moreover, $H$ may be expressed as\n",
    "\n",
    "\\begin{align*}\n",
    "    H = \\sum_{i = 1}^{N} \\lambda_i |\\psi_i\\rangle \\langle \\psi_i |\n",
    "\\end{align*}\n",
    "\n",
    "where each $\\lambda_i$ is the eigenvalue corresponding to the eigenvector $|\\psi_i\\rangle$. Furthermore, the expectation value of the observable $H$ on an arbitrary quantum state $|\\psi\\rangle$ is given by \n",
    "\n",
    "\\begin{align}\n",
    "    \\langle H \\rangle_{\\psi} &\\equiv \\langle \\psi | H | \\psi \\rangle\n",
    "\\end{align}\n",
    "\n",
    "Substituting $H$ with its representation as a weighted sum of its eigenvectors,\n",
    "\n",
    "\\begin{align}\n",
    "    \\langle H \\rangle_{\\psi} = \\langle \\psi | H | \\psi \\rangle &= \\langle \\psi | \\left(\\sum_{i = 1}^{N} \\lambda_i |\\psi_i\\rangle \\langle \\psi_i |\\right) |\\psi\\rangle\\\\\n",
    "    &= \\sum_{i = 1}^{N} \\lambda_i \\langle \\psi | \\psi_i\\rangle \\langle \\psi_i | \\psi\\rangle \\\\\n",
    "    &= \\sum_{i = 1}^{N} \\lambda_i | \\langle \\psi_i | \\psi\\rangle |^2\n",
    "\\end{align}\n",
    "\n",
    "\n",
    "The last equation demonstrates that the expectation value of an observable on any state can be expressed as a linear combination using the eigenvalues associated with $H$ as the weights. Moreover, each of the weights in the linear combination is greater than or equal to 0, as $| \\langle \\psi_i | \\psi\\rangle |^2 \\ge 0$ and so it is clear that\n",
    "\n",
    "\\begin{align}\n",
    "    \\lambda_{min} \\le \\langle H \\rangle_{\\psi} = \\langle \\psi | H | \\psi \\rangle = \\sum_{i = 1}^{N} \\lambda_i | \\langle \\psi_i | \\psi\\rangle |^2\n",
    "\\end{align}\n",
    "\n",
    "The above equation is known as the **variational method** (in some texts it is also known as the variational principle) [2]. It is important to note that this implies that the expectation value of any wave function will always be at least the minimum eigenvalue associated with $H$. Moreover, the expectation value of the eigenstate $|\\psi_{min}\\rangle$ is given by $\\langle \\psi_{min}|H|\\psi_{min}\\rangle = \\langle \\psi_{min}|\\lambda_{min}|\\psi_{min}\\rangle = \\lambda_{min}$. Thus, as expected, $\\langle H \\rangle_{\\psi_{min}}=\\lambda_{min}$.\n",
    "\n",
    "### Bounding the Ground State<a id='groundstate'></a>\n",
    "When the Hamiltonian of a system is described by the Hermitian matrix $H$ the ground state energy of that system, $E_{gs}$, is the smallest eigenvalue associated with $H$. By arbitrarily selecting a wave function $|\\psi \\rangle$ (called an *ansatz*) as an initial guess approximating $|\\psi_{min}\\rangle$, calculating its expectation value, $\\langle H \\rangle_{\\psi}$, and iteratively updating the wave function, arbitrarily tight bounds on the ground state energy of a Hamiltonian may be obtained. \n",
    "\n",
    "\n"
   ]
  },
  {
   "cell_type": "markdown",
   "metadata": {
    "id": "MJSVxfByeRkZ"
   },
   "source": [
    "## The Variational Quantum Eigensolver<a id='vqe'></a>\n",
    "### Variational Forms<a id='varforms'></a>\n",
    "A systematic approach to varying the ansatz is required to implement the variational method on a quantum computer. VQE does so through the use of a parameterized circuit with a fixed form. Such a circuit is often called a *variational form*, and its action may be represented by the linear transformation $U(\\theta)$. A variational form is applied to a starting state $|\\psi\\rangle$ (such as the vacuum state $|0\\rangle$, or the Hartree Fock state) and generates an output state $U(\\theta)|\\psi\\rangle\\equiv |\\psi(\\theta)\\rangle$. Iterative optimization over $|\\psi(\\theta)\\rangle$ aims to yield an expectation value $\\langle \\psi(\\theta)|H|\\psi(\\theta)\\rangle \\approx E_{gs} \\equiv \\lambda_{min}$. Ideally, $|\\psi(\\theta)\\rangle$ will be close to $|\\psi_{min}\\rangle$ (where 'closeness' is characterized by either state fidelity, or Manhattan distance) although in practice, useful bounds on $E_{gs}$ can be obtained even if this is not the case.\n",
    "\n",
    "Moreover, a fixed variational form with a polynomial number of parameters can only generate transformations to a polynomially sized subspace of all the states in an exponentially sized Hilbert space. Consequently, various variational forms exist. Some, such as Ry and RyRz are heuristically designed, without consideration of the target domain. Others, such as UCCSD, utilize domain specific knowledge to generate close approximations based on the problem's structure. The structure of common variational forms is discussed in greater depth later in this document. \n",
    "\n",
    "### Simple Variational Forms<a id='simplevarform'></a>\n",
    "When constructing a variational form we must balance two opposing goals. Ideally, our $n$ qubit variational form would be able to generate any possible state $|\\psi\\rangle$ where $|\\psi\\rangle \\in \\mathbb{C}^N$ and $N=2^n$. However, we would like the variational form to use as few parameters as possible. Here, we aim to give intuition for the construction of variational forms satisfying our first goal, while disregarding the second goal for the sake of simplicity. \n",
    "\n",
    "Consider the case where $n=1$. The U3 gate takes three parameters, $\\theta, \\phi$ and $\\lambda$, and represents the following transformation:\n",
    "\n",
    "$$\n",
    "\\begin{align}\n",
    "    U3(\\theta, \\phi, \\lambda) = \\begin{pmatrix}\\cos(\\frac{\\theta}{2}) & -e^{i\\lambda}\\sin(\\frac{\\theta}{2}) \\\\ e^{i\\phi}\\sin(\\frac{\\theta}{2}) & e^{i\\lambda + i\\phi}\\cos(\\frac{\\theta}{2}) \\end{pmatrix}\n",
    "\\end{align}\n",
    "$$\n",
    "\n",
    "Up to a global phase, any possible single qubit transformation may be implemented by appropriately setting these parameters. Consequently, for the single qubit case, a variational form capable of generating any possible state is given by the circuit:\n",
    "\n",
    "![image1](https://github.com/LucianoPereiraValenzuela/Hardware-efficient-variational-quantum-eigensolver-with-entangled-measurements/blob/main/Codes/images/U3_var_form.png?raw=1)\n",
    "\n",
    "\n",
    "Moreover, this universal 'variational form' only has 3 parameters and thus can be efficiently optimized. It is worth emphasising that the ability to generate an arbitrary state ensures that during the optimization process, the variational form does not limit the set of attainable states over which the expectation value of $H$ can be taken. Ideally, this ensures that the minimum expectation value is limited only by the capabilities of the classical optimizer. \n",
    "\n",
    "A less trivial universal variational form may be derived for the 2 qubit case, where two body interactions, and thus entanglement, must be considered to achieve universality. Based on the work presented by *Shende et al.* [3] the following is an example of a universal parameterized 2 qubit circuit:\n",
    "\n",
    "![image2](https://github.com/LucianoPereiraValenzuela/Hardware-efficient-variational-quantum-eigensolver-with-entangled-measurements/blob/main/Codes/images/two_qubit_var_form.png?raw=1)\n",
    "     \n",
    "Allow the transformation performed by the above circuit to be represented by $U(\\theta)$. When optimized variationally, the expectation value of $H$ is minimized when $U(\\theta)|\\psi\\rangle \\equiv |\\psi(\\theta)\\rangle \\approx |\\psi_{min}\\rangle$. By formulation, $U(\\theta)$ may produce a transformation to any possible state, and so this variational form may obtain an arbitrarily tight bound on two qubit ground state energies, only limited by the capabilities of the classical optimizer.\n",
    "\n",
    "### Parameter Optimization<a id='optimization'></a>\n",
    "Once an efficiently parameterized variational form has been selected, in accordance with the variational method, its parameters must be optimized to minimize the expectation value of the target Hamiltonian. The parameter optimization process has various challenges. For example, quantum hardware has various types of noise and so objective function evaluation (energy calculation) may not necessarily reflect the true objective function. Additionally, some optimizers perform a number of objective function evaluations dependent on cardinality of the parameter set. An appropriate optimizer should be selected by considering the requirements of an application.\n",
    "\n",
    "A popular optimization strategy is gradient descent where each parameter is updated in the direction yielding the largest local change in energy. Consequently, the number of evaluations performed depends on the number of optimization parameters present. This allows the algorithm to quickly find a local optimum in the search space. However, this optimization strategy often gets stuck at poor local optima, and is relatively expensive in terms of the number of circuit evaluations performed. While an intuitive optimization strategy, it is not recommended for use in VQE.\n",
    "\n",
    "An appropriate optimizer for optimizing a noisy objective function is the *Simultaneous Perturbation Stochastic Approximation* optimizer (SPSA). SPSA approximates the gradient of the objective function with only two measurements. It does so by concurrently perturbing all of the parameters in a random fashion, in contrast to gradient descent where each parameter is perturbed independently. When utilizing VQE in either a noisy simulator or on real hardware, SPSA is recommended as the classical optimizer.\n",
    "\n",
    "When noise is not present in the cost function evaluation (such as when using VQE with a statevector simulator), a wide variety of classical optimizers may be useful. Two such optimizers supported by Qiskit Aqua are the *Sequential Least Squares Programming* optimizer (SLSQP) and the *Constrained Optimization by Linear Approximation* optimizer (COBYLA). It is worth noting that COBYLA only performs one objective function evaluation per optimization iteration (and thus the number of evaluations is independent of the parameter set's cardinality). Therefore, if the objective function is noise-free and minimizing the number of performed evaluations is desirable, it is recommended to try COBYLA. \n",
    "\n",
    "### Example with a Single Qubit Variational Form<a id='example'></a>\n",
    "\n",
    "We will now use the simple single qubit variational form to solve a problem similar to ground state energy estimation. Specifically, we are given a random probability vector $\\vec{x}$ and wish to determine a possible parameterization for our single qubit variational form such that it outputs a probability distribution that is close to $\\vec{x}$ (where closeness is defined in terms of the Manhattan distance between the two probability vectors).\n",
    "\n",
    "We first create the random probability vector in python:"
   ]
  },
  {
   "cell_type": "code",
   "execution_count": 1,
   "metadata": {
    "colab": {
     "base_uri": "https://localhost:8080/"
    },
    "id": "YFZnMNp1en_X",
    "outputId": "cb364055-df0e-4612-d97c-f14c382a8039"
   },
   "outputs": [
    {
     "name": "stdout",
     "output_type": "stream",
     "text": [
      "Requirement already satisfied: qiskit in /usr/local/lib/python3.7/dist-packages (0.26.0)\n",
      "Requirement already satisfied: pylatexenc in /usr/local/lib/python3.7/dist-packages (2.10)\n",
      "Requirement already satisfied: pyscf in /usr/local/lib/python3.7/dist-packages (1.7.6.post1)\n",
      "Requirement already satisfied: qiskit-optimization in /usr/local/lib/python3.7/dist-packages (0.1.0)\n",
      "Requirement already satisfied: qiskit-nature in /usr/local/lib/python3.7/dist-packages (0.1.2)\n",
      "Requirement already satisfied: qiskit-aqua==0.9.1 in /usr/local/lib/python3.7/dist-packages (from qiskit) (0.9.1)\n",
      "Requirement already satisfied: qiskit-ignis==0.6.0 in /usr/local/lib/python3.7/dist-packages (from qiskit) (0.6.0)\n",
      "Requirement already satisfied: qiskit-terra==0.17.3 in /usr/local/lib/python3.7/dist-packages (from qiskit) (0.17.3)\n",
      "Requirement already satisfied: qiskit-aer==0.8.2 in /usr/local/lib/python3.7/dist-packages (from qiskit) (0.8.2)\n",
      "Requirement already satisfied: qiskit-ibmq-provider==0.13.1 in /usr/local/lib/python3.7/dist-packages (from qiskit) (0.13.1)\n",
      "Requirement already satisfied: h5py>2.2 in /usr/local/lib/python3.7/dist-packages (from pyscf) (2.10.0)\n",
      "Requirement already satisfied: scipy!=1.5.0,!=1.5.1 in /usr/local/lib/python3.7/dist-packages (from pyscf) (1.4.1)\n",
      "Requirement already satisfied: numpy!=1.16,!=1.17,>1.8 in /usr/local/lib/python3.7/dist-packages (from pyscf) (1.19.5)\n",
      "Requirement already satisfied: docplex; sys_platform != \"darwin\" in /usr/local/lib/python3.7/dist-packages (from qiskit-optimization) (2.20.204)\n",
      "Requirement already satisfied: networkx>=2.2 in /usr/local/lib/python3.7/dist-packages (from qiskit-optimization) (2.5.1)\n",
      "Requirement already satisfied: setuptools>=40.1.0 in /usr/local/lib/python3.7/dist-packages (from qiskit-optimization) (56.1.0)\n",
      "Requirement already satisfied: psutil>=5 in /usr/local/lib/python3.7/dist-packages (from qiskit-nature) (5.4.8)\n",
      "Requirement already satisfied: scikit-learn>=0.20.0 in /usr/local/lib/python3.7/dist-packages (from qiskit-nature) (0.22.2.post1)\n",
      "Requirement already satisfied: pandas<=1.2.3 in /usr/local/lib/python3.7/dist-packages (from qiskit-aqua==0.9.1->qiskit) (1.1.5)\n",
      "Requirement already satisfied: yfinance<=0.1.55 in /usr/local/lib/python3.7/dist-packages (from qiskit-aqua==0.9.1->qiskit) (0.1.55)\n",
      "Requirement already satisfied: quandl<=3.6.0 in /usr/local/lib/python3.7/dist-packages (from qiskit-aqua==0.9.1->qiskit) (3.6.0)\n",
      "Requirement already satisfied: dlx<=1.0.4 in /usr/local/lib/python3.7/dist-packages (from qiskit-aqua==0.9.1->qiskit) (1.0.4)\n",
      "Requirement already satisfied: fastdtw<=0.3.4 in /usr/local/lib/python3.7/dist-packages (from qiskit-aqua==0.9.1->qiskit) (0.3.4)\n",
      "Requirement already satisfied: sympy<=1.7.1,>=1.3 in /usr/local/lib/python3.7/dist-packages (from qiskit-aqua==0.9.1->qiskit) (1.7.1)\n",
      "Requirement already satisfied: retworkx<=0.8.0,>=0.7.0 in /usr/local/lib/python3.7/dist-packages (from qiskit-aqua==0.9.1->qiskit) (0.8.0)\n",
      "Requirement already satisfied: jsonschema>=2.6 in /usr/local/lib/python3.7/dist-packages (from qiskit-terra==0.17.3->qiskit) (2.6.0)\n",
      "Requirement already satisfied: python-dateutil>=2.8.0 in /usr/local/lib/python3.7/dist-packages (from qiskit-terra==0.17.3->qiskit) (2.8.1)\n",
      "Requirement already satisfied: ply>=3.10 in /usr/local/lib/python3.7/dist-packages (from qiskit-terra==0.17.3->qiskit) (3.11)\n",
      "Requirement already satisfied: dill>=0.3 in /usr/local/lib/python3.7/dist-packages (from qiskit-terra==0.17.3->qiskit) (0.3.3)\n",
      "Requirement already satisfied: fastjsonschema>=2.10 in /usr/local/lib/python3.7/dist-packages (from qiskit-terra==0.17.3->qiskit) (2.15.1)\n",
      "Requirement already satisfied: python-constraint>=1.4 in /usr/local/lib/python3.7/dist-packages (from qiskit-terra==0.17.3->qiskit) (1.4.0)\n",
      "Requirement already satisfied: pybind11>=2.6 in /usr/local/lib/python3.7/dist-packages (from qiskit-aer==0.8.2->qiskit) (2.6.2)\n",
      "Requirement already satisfied: nest-asyncio!=1.1.0,>=1.0.0 in /usr/local/lib/python3.7/dist-packages (from qiskit-ibmq-provider==0.13.1->qiskit) (1.5.1)\n",
      "Requirement already satisfied: requests>=2.19 in /usr/local/lib/python3.7/dist-packages (from qiskit-ibmq-provider==0.13.1->qiskit) (2.23.0)\n",
      "Requirement already satisfied: requests-ntlm>=1.1.0 in /usr/local/lib/python3.7/dist-packages (from qiskit-ibmq-provider==0.13.1->qiskit) (1.1.0)\n",
      "Requirement already satisfied: urllib3>=1.21.1 in /usr/local/lib/python3.7/dist-packages (from qiskit-ibmq-provider==0.13.1->qiskit) (1.24.3)\n",
      "Requirement already satisfied: websockets>=8 in /usr/local/lib/python3.7/dist-packages (from qiskit-ibmq-provider==0.13.1->qiskit) (9.0.1)\n",
      "Requirement already satisfied: six in /usr/local/lib/python3.7/dist-packages (from h5py>2.2->pyscf) (1.15.0)\n",
      "Requirement already satisfied: decorator<5,>=4.3 in /usr/local/lib/python3.7/dist-packages (from networkx>=2.2->qiskit-optimization) (4.4.2)\n",
      "Requirement already satisfied: joblib>=0.11 in /usr/local/lib/python3.7/dist-packages (from scikit-learn>=0.20.0->qiskit-nature) (1.0.1)\n",
      "Requirement already satisfied: pytz>=2017.2 in /usr/local/lib/python3.7/dist-packages (from pandas<=1.2.3->qiskit-aqua==0.9.1->qiskit) (2018.9)\n",
      "Requirement already satisfied: multitasking>=0.0.7 in /usr/local/lib/python3.7/dist-packages (from yfinance<=0.1.55->qiskit-aqua==0.9.1->qiskit) (0.0.9)\n",
      "Requirement already satisfied: lxml>=4.5.1 in /usr/local/lib/python3.7/dist-packages (from yfinance<=0.1.55->qiskit-aqua==0.9.1->qiskit) (4.6.3)\n",
      "Requirement already satisfied: more-itertools in /usr/local/lib/python3.7/dist-packages (from quandl<=3.6.0->qiskit-aqua==0.9.1->qiskit) (8.7.0)\n",
      "Requirement already satisfied: inflection>=0.3.1 in /usr/local/lib/python3.7/dist-packages (from quandl<=3.6.0->qiskit-aqua==0.9.1->qiskit) (0.5.1)\n",
      "Requirement already satisfied: mpmath>=0.19 in /usr/local/lib/python3.7/dist-packages (from sympy<=1.7.1,>=1.3->qiskit-aqua==0.9.1->qiskit) (1.2.1)\n",
      "Requirement already satisfied: idna<3,>=2.5 in /usr/local/lib/python3.7/dist-packages (from requests>=2.19->qiskit-ibmq-provider==0.13.1->qiskit) (2.10)\n",
      "Requirement already satisfied: certifi>=2017.4.17 in /usr/local/lib/python3.7/dist-packages (from requests>=2.19->qiskit-ibmq-provider==0.13.1->qiskit) (2020.12.5)\n",
      "Requirement already satisfied: chardet<4,>=3.0.2 in /usr/local/lib/python3.7/dist-packages (from requests>=2.19->qiskit-ibmq-provider==0.13.1->qiskit) (3.0.4)\n",
      "Requirement already satisfied: cryptography>=1.3 in /usr/local/lib/python3.7/dist-packages (from requests-ntlm>=1.1.0->qiskit-ibmq-provider==0.13.1->qiskit) (3.4.7)\n",
      "Requirement already satisfied: ntlm-auth>=1.0.2 in /usr/local/lib/python3.7/dist-packages (from requests-ntlm>=1.1.0->qiskit-ibmq-provider==0.13.1->qiskit) (1.5.0)\n",
      "Requirement already satisfied: cffi>=1.12 in /usr/local/lib/python3.7/dist-packages (from cryptography>=1.3->requests-ntlm>=1.1.0->qiskit-ibmq-provider==0.13.1->qiskit) (1.14.5)\n",
      "Requirement already satisfied: pycparser in /usr/local/lib/python3.7/dist-packages (from cffi>=1.12->cryptography>=1.3->requests-ntlm>=1.1.0->qiskit-ibmq-provider==0.13.1->qiskit) (2.20)\n"
     ]
    }
   ],
   "source": [
    "!pip install qiskit pylatexenc pyscf qiskit-optimization qiskit-nature"
   ]
  },
  {
   "cell_type": "code",
   "execution_count": 2,
   "metadata": {
    "colab": {
     "base_uri": "https://localhost:8080/"
    },
    "id": "VlRI76mgftxI",
    "outputId": "80c78006-4623-4a44-e5d2-ad85cb78e40e"
   },
   "outputs": [
    {
     "data": {
      "text/plain": [
       "{'qiskit-terra': '0.17.3', 'qiskit-aer': '0.8.2', 'qiskit-ignis': '0.6.0', 'qiskit-ibmq-provider': '0.13.1', 'qiskit-aqua': '0.9.1', 'qiskit': '0.26.0', 'qiskit-nature': '0.1.2', 'qiskit-finance': None, 'qiskit-optimization': '0.1.0', 'qiskit-machine-learning': None}"
      ]
     },
     "execution_count": 2,
     "metadata": {
      "tags": []
     },
     "output_type": "execute_result"
    }
   ],
   "source": [
    "import qiskit\n",
    "qiskit.__qiskit_version__"
   ]
  },
  {
   "cell_type": "code",
   "execution_count": 3,
   "metadata": {
    "execution": {
     "iopub.execute_input": "2021-05-12T09:23:30.583052Z",
     "iopub.status.busy": "2021-05-12T09:23:30.582798Z",
     "iopub.status.idle": "2021-05-12T09:23:30.679495Z",
     "shell.execute_reply": "2021-05-12T09:23:30.679142Z",
     "shell.execute_reply.started": "2021-05-12T09:23:30.582980Z"
    },
    "id": "xbTKKDCweRkc",
    "tags": []
   },
   "outputs": [],
   "source": [
    "import numpy as np\n",
    "np.random.seed(999999)\n",
    "target_distr = np.random.rand(2)\n",
    "# We now convert the random vector into a valid probability vector\n",
    "target_distr /= sum(target_distr)"
   ]
  },
  {
   "cell_type": "markdown",
   "metadata": {
    "id": "fB8UoIOSeRkd"
   },
   "source": [
    "We subsequently create a function that takes the parameters of our single U3 variational form as arguments and returns the corresponding quantum circuit:"
   ]
  },
  {
   "cell_type": "code",
   "execution_count": 4,
   "metadata": {
    "execution": {
     "iopub.execute_input": "2021-05-12T09:23:31.369371Z",
     "iopub.status.busy": "2021-05-12T09:23:31.369154Z",
     "iopub.status.idle": "2021-05-12T09:23:31.824197Z",
     "shell.execute_reply": "2021-05-12T09:23:31.823703Z",
     "shell.execute_reply.started": "2021-05-12T09:23:31.369346Z"
    },
    "id": "oBujlos1eRkd",
    "tags": []
   },
   "outputs": [],
   "source": [
    "from qiskit import QuantumCircuit, ClassicalRegister, QuantumRegister\n",
    "def get_var_form(params):\n",
    "\tqr = QuantumRegister(1, name=\"q\")\n",
    "\tcr = ClassicalRegister(1, name='c')\n",
    "\tqc = QuantumCircuit(qr, cr)\n",
    "\tqc.u3(params[0], params[1], params[2], qr[0])\n",
    "\tqc.measure(qr, cr[0])\n",
    "\treturn qc"
   ]
  },
  {
   "cell_type": "markdown",
   "metadata": {
    "id": "94rEi5v8eRkd"
   },
   "source": [
    "Now we specify the objective function which takes as input a list of the variational form's parameters, and returns the cost associated with those parameters:"
   ]
  },
  {
   "cell_type": "code",
   "execution_count": 5,
   "metadata": {
    "execution": {
     "iopub.execute_input": "2021-05-12T09:23:32.716219Z",
     "iopub.status.busy": "2021-05-12T09:23:32.716005Z",
     "iopub.status.idle": "2021-05-12T09:23:32.836262Z",
     "shell.execute_reply": "2021-05-12T09:23:32.835849Z",
     "shell.execute_reply.started": "2021-05-12T09:23:32.716195Z"
    },
    "id": "SXoLa5qHeRkd",
    "tags": []
   },
   "outputs": [],
   "source": [
    "from qiskit import Aer, transpile, assemble\n",
    "backend = Aer.get_backend(\"qasm_simulator\")\n",
    "NUM_SHOTS = 10000\n",
    "\n",
    "def get_probability_distribution(counts):\n",
    "\toutput_distr = [v / NUM_SHOTS for v in counts.values()]\n",
    "\tif len(output_distr) == 1:\n",
    "\t\toutput_distr.append(1 - output_distr[0])\n",
    "\treturn output_distr\n",
    "\n",
    "def objective_function(params):\n",
    "\t# Obtain a quantum circuit instance from the paramters\n",
    "\tqc = get_var_form(params)\n",
    "\t# Execute the quantum circuit to obtain the probability distribution associated with the current parameters\n",
    "\tt_qc = transpile(qc, backend)\n",
    "\tqobj = assemble(t_qc, shots=NUM_SHOTS)\n",
    "\tresult = backend.run(qobj).result()\n",
    "\t# Obtain the counts for each measured state, and convert those counts into a probability vector\n",
    "\toutput_distr = get_probability_distribution(result.get_counts(qc))\n",
    "\t# Calculate the cost as the distance between the output distribution and the target distribution\n",
    "\tcost = sum([np.abs(output_distr[i] - target_distr[i]) for i in range(2)])\n",
    "\treturn cost"
   ]
  },
  {
   "cell_type": "markdown",
   "metadata": {
    "id": "aToHV8EeeRke"
   },
   "source": [
    "Finally, we create an instance of the COBYLA optimizer, and run the algorithm. Note that the output varies from run to run. Moreover, while close, the obtained distribution might not be exactly the same as the target distribution, however, increasing the number of shots taken will increase the accuracy of the output."
   ]
  },
  {
   "cell_type": "code",
   "execution_count": 6,
   "metadata": {
    "colab": {
     "base_uri": "https://localhost:8080/"
    },
    "execution": {
     "iopub.execute_input": "2021-05-12T09:23:33.674125Z",
     "iopub.status.busy": "2021-05-12T09:23:33.673881Z",
     "iopub.status.idle": "2021-05-12T09:23:34.937267Z",
     "shell.execute_reply": "2021-05-12T09:23:34.936548Z",
     "shell.execute_reply.started": "2021-05-12T09:23:33.674100Z"
    },
    "id": "eYSgswbaeRke",
    "outputId": "b506f289-dff7-48d7-def1-288237c4daed",
    "tags": []
   },
   "outputs": [
    {
     "name": "stderr",
     "output_type": "stream",
     "text": [
      "/usr/local/lib/python3.7/dist-packages/ipykernel_launcher.py:6: DeprecationWarning: The QuantumCircuit.u3 method is deprecated as of 0.16.0. It will be removed no earlier than 3 months after the release date. You should use QuantumCircuit.u instead, which acts identically. Alternatively, you can decompose u3 in terms of QuantumCircuit.p and QuantumCircuit.sx: u3(ϴ,φ,λ) = p(φ+π) sx p(ϴ+π) sx p(λ) (2 pulses on hardware).\n",
      "  \n"
     ]
    },
    {
     "name": "stdout",
     "output_type": "stream",
     "text": [
      "Target Distribution: [0.51357006 0.48642994]\n",
      "Obtained Distribution: [0.4819, 0.5181]\n",
      "Output Error (Manhattan Distance): 0.02845988126116089\n",
      "Parameters Found: [1.60673351 0.94063218 1.34657553]\n"
     ]
    }
   ],
   "source": [
    "from qiskit.algorithms.optimizers import COBYLA\n",
    "\n",
    "# Initialize the COBYLA optimizer\n",
    "optimizer = COBYLA(maxiter=500, tol=0.0001)\n",
    "\n",
    "# Create the initial parameters (noting that our single qubit variational form has 3 parameters)\n",
    "params = np.random.rand(3)\n",
    "ret = optimizer.optimize(num_vars=3, objective_function=objective_function, initial_point=params)\n",
    "\n",
    "# Obtain the output distribution using the final parameters\n",
    "qc = get_var_form(ret[0])\n",
    "t_qc = transpile(qc, backend)\n",
    "qobj = assemble(t_qc, shots=NUM_SHOTS)\n",
    "counts = backend.run(qobj).result().get_counts(qc)\n",
    "output_distr = get_probability_distribution(counts)\n",
    "\n",
    "print(\"Target Distribution:\", target_distr)\n",
    "print(\"Obtained Distribution:\", output_distr)\n",
    "print(\"Output Error (Manhattan Distance):\", ret[1])\n",
    "print(\"Parameters Found:\", ret[0])"
   ]
  },
  {
   "cell_type": "markdown",
   "metadata": {
    "id": "oRGBRNSLeRke"
   },
   "source": [
    "### Structure of Common Variational Forms<a id='commonvarforms'></a>\n",
    "As already discussed, it is not possible for a polynomially parameterized variational form to generate a transformation to any state. Variational forms can be grouped into two categories, depending on how they deal with this limitation. The first category of variational forms use domain or application specific knowledge to limit the set of possible output states. The second approach uses a heuristic circuit without prior domain or application specific knowledge. \n",
    "\n",
    "The first category of variational forms exploit characteristics of the problem domain to restrict the set of transformations that may be required. For example, when calculating the ground state energy of a molecule, the number of particles in the system is known *a priori*. Therefore, if a starting state with the correct number of particles is used, by limiting the variational form to only producing particle preserving transformations, the number of parameters required to span the new transformation subspace can be greatly reduced. Indeed, by utilizing similar information from Coupled-Cluster theory, the variational form UCCSD can obtain very accurate results for molecular ground state energy estimation when starting from the Hartree Fock state. Another example illustrating the exploitation of domain-specific knowledge follows from considering the set of circuits realizable on real quantum hardware. Extant quantum computers, such as those based on super conducting qubits, have limited qubit connectivity. That is, it is not possible to implement 2-qubit gates on arbitrary qubit pairs (without inserting swap gates). Thus, variational forms have been constructed for specific quantum computer architectures where the circuits are specifically tuned to maximally exploit the natively available connectivity and gates of a given quantum device. Such a variational form was used in 2017 to successfully implement VQE for the estimation of the ground state energies of molecules as large as BeH$_2$ on an IBM quantum computer [4].\n",
    "\n",
    "In the second approach, gates are layered such that good approximations on a wide range of states may be obtained. Qiskit Aqua supports three such variational forms: RyRz, Ry and SwapRz (we will only discuss the first two). All of these variational forms accept multiple user-specified configurations. Three essential configurations are the number of qubits in the system, the depth setting, and the entanglement setting. A single layer of a variational form specifies a certain pattern of single qubit rotations and CX gates. The depth setting says how many times the variational form should repeat this pattern. By increasing the depth setting, at the cost of increasing the number of parameters that must be optimized, the set of states the variational form can generate increases. Finally, the entanglement setting selects the configuration, and implicitly the number, of CX gates. For example, when the entanglement setting is linear, CX gates are applied to adjacent qubit pairs in order (and thus $n-1$ CX gates are added per layer). When the entanglement setting is full, a CX gate is applied to each qubit pair in each layer. The circuits for RyRz corresponding to `entanglement=\"full\"` and `entanglement=\"linear\"` can be seen by executing the following code snippet:"
   ]
  },
  {
   "cell_type": "code",
   "execution_count": 7,
   "metadata": {
    "colab": {
     "base_uri": "https://localhost:8080/",
     "height": 996
    },
    "execution": {
     "iopub.execute_input": "2021-05-12T09:23:44.749132Z",
     "iopub.status.busy": "2021-05-12T09:23:44.748914Z",
     "iopub.status.idle": "2021-05-12T09:23:45.832019Z",
     "shell.execute_reply": "2021-05-12T09:23:45.831697Z",
     "shell.execute_reply.started": "2021-05-12T09:23:44.749109Z"
    },
    "id": "5aw-6TFkeRke",
    "outputId": "4524984d-1d29-4129-efc3-32d1a73abe89",
    "tags": []
   },
   "outputs": [
    {
     "name": "stdout",
     "output_type": "stream",
     "text": [
      "=============Linear Entanglement:=============\n"
     ]
    },
    {
     "data": {
      "text/html": [
       "<pre style=\"word-wrap: normal;white-space: pre;background: #fff0;line-height: 1.1;font-family: &quot;Courier New&quot;,Courier,monospace\">     ┌──────────┐┌──────────┐     ┌──────────┐┌───────────┐             »\n",
       "q_0: ┤ RY(θ[0]) ├┤ RZ(θ[4]) ├──■──┤ RY(θ[8]) ├┤ RZ(θ[12]) ├─────────────»\n",
       "     ├──────────┤├──────────┤┌─┴─┐└──────────┘└┬──────────┤┌───────────┐»\n",
       "q_1: ┤ RY(θ[1]) ├┤ RZ(θ[5]) ├┤ X ├─────■───────┤ RY(θ[9]) ├┤ RZ(θ[13]) ├»\n",
       "     ├──────────┤├──────────┤└───┘   ┌─┴─┐     └──────────┘├───────────┤»\n",
       "q_2: ┤ RY(θ[2]) ├┤ RZ(θ[6]) ├────────┤ X ├──────────■──────┤ RY(θ[10]) ├»\n",
       "     ├──────────┤├──────────┤        └───┘        ┌─┴─┐    ├───────────┤»\n",
       "q_3: ┤ RY(θ[3]) ├┤ RZ(θ[7]) ├─────────────────────┤ X ├────┤ RY(θ[11]) ├»\n",
       "     └──────────┘└──────────┘                     └───┘    └───────────┘»\n",
       "«                  ┌───────────┐┌───────────┐                          »\n",
       "«q_0: ──────■──────┤ RY(θ[16]) ├┤ RZ(θ[20]) ├───────────────────■──────»\n",
       "«         ┌─┴─┐    └───────────┘├───────────┤┌───────────┐    ┌─┴─┐    »\n",
       "«q_1: ────┤ X ├──────────■──────┤ RY(θ[17]) ├┤ RZ(θ[21]) ├────┤ X ├────»\n",
       "«     ┌───┴───┴───┐    ┌─┴─┐    └───────────┘├───────────┤┌───┴───┴───┐»\n",
       "«q_2: ┤ RZ(θ[14]) ├────┤ X ├──────────■──────┤ RY(θ[18]) ├┤ RZ(θ[22]) ├»\n",
       "«     ├───────────┤    └───┘        ┌─┴─┐    ├───────────┤├───────────┤»\n",
       "«q_3: ┤ RZ(θ[15]) ├─────────────────┤ X ├────┤ RY(θ[19]) ├┤ RZ(θ[23]) ├»\n",
       "«     └───────────┘                 └───┘    └───────────┘└───────────┘»\n",
       "«     ┌───────────┐┌───────────┐                          \n",
       "«q_0: ┤ RY(θ[24]) ├┤ RZ(θ[28]) ├──────────────────────────\n",
       "«     └───────────┘├───────────┤┌───────────┐             \n",
       "«q_1: ──────■──────┤ RY(θ[25]) ├┤ RZ(θ[29]) ├─────────────\n",
       "«         ┌─┴─┐    └───────────┘├───────────┤┌───────────┐\n",
       "«q_2: ────┤ X ├──────────■──────┤ RY(θ[26]) ├┤ RZ(θ[30]) ├\n",
       "«         └───┘        ┌─┴─┐    ├───────────┤├───────────┤\n",
       "«q_3: ─────────────────┤ X ├────┤ RY(θ[27]) ├┤ RZ(θ[31]) ├\n",
       "«                      └───┘    └───────────┘└───────────┘</pre>"
      ],
      "text/plain": [
       "     ┌──────────┐┌──────────┐     ┌──────────┐┌───────────┐             »\n",
       "q_0: ┤ RY(θ[0]) ├┤ RZ(θ[4]) ├──■──┤ RY(θ[8]) ├┤ RZ(θ[12]) ├─────────────»\n",
       "     ├──────────┤├──────────┤┌─┴─┐└──────────┘└┬──────────┤┌───────────┐»\n",
       "q_1: ┤ RY(θ[1]) ├┤ RZ(θ[5]) ├┤ X ├─────■───────┤ RY(θ[9]) ├┤ RZ(θ[13]) ├»\n",
       "     ├──────────┤├──────────┤└───┘   ┌─┴─┐     └──────────┘├───────────┤»\n",
       "q_2: ┤ RY(θ[2]) ├┤ RZ(θ[6]) ├────────┤ X ├──────────■──────┤ RY(θ[10]) ├»\n",
       "     ├──────────┤├──────────┤        └───┘        ┌─┴─┐    ├───────────┤»\n",
       "q_3: ┤ RY(θ[3]) ├┤ RZ(θ[7]) ├─────────────────────┤ X ├────┤ RY(θ[11]) ├»\n",
       "     └──────────┘└──────────┘                     └───┘    └───────────┘»\n",
       "«                  ┌───────────┐┌───────────┐                          »\n",
       "«q_0: ──────■──────┤ RY(θ[16]) ├┤ RZ(θ[20]) ├───────────────────■──────»\n",
       "«         ┌─┴─┐    └───────────┘├───────────┤┌───────────┐    ┌─┴─┐    »\n",
       "«q_1: ────┤ X ├──────────■──────┤ RY(θ[17]) ├┤ RZ(θ[21]) ├────┤ X ├────»\n",
       "«     ┌───┴───┴───┐    ┌─┴─┐    └───────────┘├───────────┤┌───┴───┴───┐»\n",
       "«q_2: ┤ RZ(θ[14]) ├────┤ X ├──────────■──────┤ RY(θ[18]) ├┤ RZ(θ[22]) ├»\n",
       "«     ├───────────┤    └───┘        ┌─┴─┐    ├───────────┤├───────────┤»\n",
       "«q_3: ┤ RZ(θ[15]) ├─────────────────┤ X ├────┤ RY(θ[19]) ├┤ RZ(θ[23]) ├»\n",
       "«     └───────────┘                 └───┘    └───────────┘└───────────┘»\n",
       "«     ┌───────────┐┌───────────┐                          \n",
       "«q_0: ┤ RY(θ[24]) ├┤ RZ(θ[28]) ├──────────────────────────\n",
       "«     └───────────┘├───────────┤┌───────────┐             \n",
       "«q_1: ──────■──────┤ RY(θ[25]) ├┤ RZ(θ[29]) ├─────────────\n",
       "«         ┌─┴─┐    └───────────┘├───────────┤┌───────────┐\n",
       "«q_2: ────┤ X ├──────────■──────┤ RY(θ[26]) ├┤ RZ(θ[30]) ├\n",
       "«         └───┘        ┌─┴─┐    ├───────────┤├───────────┤\n",
       "«q_3: ─────────────────┤ X ├────┤ RY(θ[27]) ├┤ RZ(θ[31]) ├\n",
       "«                      └───┘    └───────────┘└───────────┘"
      ]
     },
     "metadata": {
      "tags": []
     },
     "output_type": "display_data"
    },
    {
     "name": "stdout",
     "output_type": "stream",
     "text": [
      "=============Full Entanglement:=============\n"
     ]
    },
    {
     "data": {
      "text/html": [
       "<pre style=\"word-wrap: normal;white-space: pre;background: #fff0;line-height: 1.1;font-family: &quot;Courier New&quot;,Courier,monospace\">     ┌──────────┐┌──────────┐               ┌──────────┐┌───────────┐»\n",
       "q_0: ┤ RY(θ[0]) ├┤ RZ(θ[4]) ├──■────■────■──┤ RY(θ[8]) ├┤ RZ(θ[12]) ├»\n",
       "     ├──────────┤├──────────┤┌─┴─┐  │    │  └──────────┘└───────────┘»\n",
       "q_1: ┤ RY(θ[1]) ├┤ RZ(θ[5]) ├┤ X ├──┼────┼───────■────────────■──────»\n",
       "     ├──────────┤├──────────┤└───┘┌─┴─┐  │     ┌─┴─┐          │      »\n",
       "q_2: ┤ RY(θ[2]) ├┤ RZ(θ[6]) ├─────┤ X ├──┼─────┤ X ├──────────┼──────»\n",
       "     ├──────────┤├──────────┤     └───┘┌─┴─┐   └───┘        ┌─┴─┐    »\n",
       "q_3: ┤ RY(θ[3]) ├┤ RZ(θ[7]) ├──────────┤ X ├────────────────┤ X ├────»\n",
       "     └──────────┘└──────────┘          └───┘                └───┘    »\n",
       "«                                                     ┌───────────┐»\n",
       "«q_0: ───────────────────────────────■────────■────■──┤ RY(θ[16]) ├»\n",
       "«     ┌──────────┐┌───────────┐    ┌─┴─┐      │    │  └───────────┘»\n",
       "«q_1: ┤ RY(θ[9]) ├┤ RZ(θ[13]) ├────┤ X ├──────┼────┼────────■──────»\n",
       "«     └──────────┘├───────────┤┌───┴───┴───┐┌─┴─┐  │      ┌─┴─┐    »\n",
       "«q_2: ─────■──────┤ RY(θ[10]) ├┤ RZ(θ[14]) ├┤ X ├──┼──────┤ X ├────»\n",
       "«        ┌─┴─┐    ├───────────┤├───────────┤└───┘┌─┴─┐    └───┘    »\n",
       "«q_3: ───┤ X ├────┤ RY(θ[11]) ├┤ RZ(θ[15]) ├─────┤ X ├─────────────»\n",
       "«        └───┘    └───────────┘└───────────┘     └───┘             »\n",
       "«     ┌───────────┐                                                 »\n",
       "«q_0: ┤ RZ(θ[20]) ├────────────────────────────────■────────■────■──»\n",
       "«     └───────────┘┌───────────┐┌───────────┐    ┌─┴─┐      │    │  »\n",
       "«q_1: ──────■──────┤ RY(θ[17]) ├┤ RZ(θ[21]) ├────┤ X ├──────┼────┼──»\n",
       "«           │      └───────────┘├───────────┤┌───┴───┴───┐┌─┴─┐  │  »\n",
       "«q_2: ──────┼────────────■──────┤ RY(θ[18]) ├┤ RZ(θ[22]) ├┤ X ├──┼──»\n",
       "«         ┌─┴─┐        ┌─┴─┐    ├───────────┤├───────────┤└───┘┌─┴─┐»\n",
       "«q_3: ────┤ X ├────────┤ X ├────┤ RY(θ[19]) ├┤ RZ(θ[23]) ├─────┤ X ├»\n",
       "«         └───┘        └───┘    └───────────┘└───────────┘     └───┘»\n",
       "«     ┌───────────┐┌───────────┐                                       \n",
       "«q_0: ┤ RY(θ[24]) ├┤ RZ(θ[28]) ├───────────────────────────────────────\n",
       "«     └───────────┘└───────────┘┌───────────┐┌───────────┐             \n",
       "«q_1: ──────■────────────■──────┤ RY(θ[25]) ├┤ RZ(θ[29]) ├─────────────\n",
       "«         ┌─┴─┐          │      └───────────┘├───────────┤┌───────────┐\n",
       "«q_2: ────┤ X ├──────────┼────────────■──────┤ RY(θ[26]) ├┤ RZ(θ[30]) ├\n",
       "«         └───┘        ┌─┴─┐        ┌─┴─┐    ├───────────┤├───────────┤\n",
       "«q_3: ─────────────────┤ X ├────────┤ X ├────┤ RY(θ[27]) ├┤ RZ(θ[31]) ├\n",
       "«                      └───┘        └───┘    └───────────┘└───────────┘</pre>"
      ],
      "text/plain": [
       "     ┌──────────┐┌──────────┐               ┌──────────┐┌───────────┐»\n",
       "q_0: ┤ RY(θ[0]) ├┤ RZ(θ[4]) ├──■────■────■──┤ RY(θ[8]) ├┤ RZ(θ[12]) ├»\n",
       "     ├──────────┤├──────────┤┌─┴─┐  │    │  └──────────┘└───────────┘»\n",
       "q_1: ┤ RY(θ[1]) ├┤ RZ(θ[5]) ├┤ X ├──┼────┼───────■────────────■──────»\n",
       "     ├──────────┤├──────────┤└───┘┌─┴─┐  │     ┌─┴─┐          │      »\n",
       "q_2: ┤ RY(θ[2]) ├┤ RZ(θ[6]) ├─────┤ X ├──┼─────┤ X ├──────────┼──────»\n",
       "     ├──────────┤├──────────┤     └───┘┌─┴─┐   └───┘        ┌─┴─┐    »\n",
       "q_3: ┤ RY(θ[3]) ├┤ RZ(θ[7]) ├──────────┤ X ├────────────────┤ X ├────»\n",
       "     └──────────┘└──────────┘          └───┘                └───┘    »\n",
       "«                                                     ┌───────────┐»\n",
       "«q_0: ───────────────────────────────■────────■────■──┤ RY(θ[16]) ├»\n",
       "«     ┌──────────┐┌───────────┐    ┌─┴─┐      │    │  └───────────┘»\n",
       "«q_1: ┤ RY(θ[9]) ├┤ RZ(θ[13]) ├────┤ X ├──────┼────┼────────■──────»\n",
       "«     └──────────┘├───────────┤┌───┴───┴───┐┌─┴─┐  │      ┌─┴─┐    »\n",
       "«q_2: ─────■──────┤ RY(θ[10]) ├┤ RZ(θ[14]) ├┤ X ├──┼──────┤ X ├────»\n",
       "«        ┌─┴─┐    ├───────────┤├───────────┤└───┘┌─┴─┐    └───┘    »\n",
       "«q_3: ───┤ X ├────┤ RY(θ[11]) ├┤ RZ(θ[15]) ├─────┤ X ├─────────────»\n",
       "«        └───┘    └───────────┘└───────────┘     └───┘             »\n",
       "«     ┌───────────┐                                                 »\n",
       "«q_0: ┤ RZ(θ[20]) ├────────────────────────────────■────────■────■──»\n",
       "«     └───────────┘┌───────────┐┌───────────┐    ┌─┴─┐      │    │  »\n",
       "«q_1: ──────■──────┤ RY(θ[17]) ├┤ RZ(θ[21]) ├────┤ X ├──────┼────┼──»\n",
       "«           │      └───────────┘├───────────┤┌───┴───┴───┐┌─┴─┐  │  »\n",
       "«q_2: ──────┼────────────■──────┤ RY(θ[18]) ├┤ RZ(θ[22]) ├┤ X ├──┼──»\n",
       "«         ┌─┴─┐        ┌─┴─┐    ├───────────┤├───────────┤└───┘┌─┴─┐»\n",
       "«q_3: ────┤ X ├────────┤ X ├────┤ RY(θ[19]) ├┤ RZ(θ[23]) ├─────┤ X ├»\n",
       "«         └───┘        └───┘    └───────────┘└───────────┘     └───┘»\n",
       "«     ┌───────────┐┌───────────┐                                       \n",
       "«q_0: ┤ RY(θ[24]) ├┤ RZ(θ[28]) ├───────────────────────────────────────\n",
       "«     └───────────┘└───────────┘┌───────────┐┌───────────┐             \n",
       "«q_1: ──────■────────────■──────┤ RY(θ[25]) ├┤ RZ(θ[29]) ├─────────────\n",
       "«         ┌─┴─┐          │      └───────────┘├───────────┤┌───────────┐\n",
       "«q_2: ────┤ X ├──────────┼────────────■──────┤ RY(θ[26]) ├┤ RZ(θ[30]) ├\n",
       "«         └───┘        ┌─┴─┐        ┌─┴─┐    ├───────────┤├───────────┤\n",
       "«q_3: ─────────────────┤ X ├────────┤ X ├────┤ RY(θ[27]) ├┤ RZ(θ[31]) ├\n",
       "«                      └───┘        └───┘    └───────────┘└───────────┘"
      ]
     },
     "metadata": {
      "tags": []
     },
     "output_type": "display_data"
    }
   ],
   "source": [
    "from qiskit.circuit.library import EfficientSU2\n",
    "entanglements = [\"linear\", \"full\"]\n",
    "for entanglement in entanglements:\n",
    "\tform = EfficientSU2(num_qubits=4, entanglement=entanglement)\n",
    "\tif entanglement == \"linear\":\n",
    "\t\tprint(\"=============Linear Entanglement:=============\")\n",
    "\telse:\n",
    "\t\tprint(\"=============Full Entanglement:=============\")\n",
    "\t# We initialize all parameters to 0 for this demonstration\n",
    "\tdisplay(form.draw())"
   ]
  },
  {
   "cell_type": "markdown",
   "metadata": {
    "id": "qx8UBEdxeRkf"
   },
   "source": [
    "Assume the depth setting is set to $d$. Then, RyRz has $2n\\times (d+1)$ parameters and Ry (not shown) has $n\\times (d+1)$ parameters."
   ]
  },
  {
   "cell_type": "markdown",
   "metadata": {
    "id": "FdycW7LMeRkf"
   },
   "source": [
    "## VQE Implementation in Qiskit<a id='implementation'></a>\n",
    "This section illustrates an implementation of VQE using the programmatic approach. Qiskit Aqua also enables a declarative implementation, however, it reveals less information about the underlying algorithm. This code, specifically the preparation of qubit operators, is based on the code found in the Qiskit Tutorials repository (and as of July 2019, may be found at: https://github.com/Qiskit/qiskit-tutorials ).\n",
    "\n",
    "The following libraries must first be imported. \n"
   ]
  },
  {
   "cell_type": "code",
   "execution_count": 8,
   "metadata": {
    "execution": {
     "iopub.execute_input": "2021-05-12T09:24:04.221106Z",
     "iopub.status.busy": "2021-05-12T09:24:04.220886Z",
     "iopub.status.idle": "2021-05-12T09:24:04.227339Z",
     "shell.execute_reply": "2021-05-12T09:24:04.226786Z",
     "shell.execute_reply.started": "2021-05-12T09:24:04.221082Z"
    },
    "id": "YkoQC2f2eRkf",
    "tags": []
   },
   "outputs": [],
   "source": [
    "import warnings\n",
    "warnings.filterwarnings(\"ignore\", category=DeprecationWarning)\n",
    "\n",
    "from qiskit.aqua.algorithms import VQE, NumPyEigensolver\n",
    "import matplotlib.pyplot as plt\n",
    "import numpy as np\n",
    "from qiskit.chemistry.components.variational_forms import UCCSD\n",
    "from qiskit.chemistry.components.initial_states import HartreeFock\n",
    "from qiskit.circuit.library import EfficientSU2\n",
    "from qiskit.aqua.components.optimizers import COBYLA, SPSA, SLSQP\n",
    "from qiskit.aqua.operators import Z2Symmetries\n",
    "from qiskit import IBMQ, BasicAer, Aer\n",
    "from qiskit.chemistry.drivers import PySCFDriver, UnitsType\n",
    "from qiskit.chemistry import FermionicOperator\n",
    "from qiskit.aqua import QuantumInstance\n",
    "from qiskit.ignis.mitigation.measurement import CompleteMeasFitter\n",
    "from qiskit.providers.aer.noise import NoiseModel"
   ]
  },
  {
   "cell_type": "markdown",
   "metadata": {
    "id": "3LLtUp5teRkf"
   },
   "source": [
    "### Running VQE on a Statevector Simulator<a id='implementationstatevec'></a>\n",
    "We demonstrate the calculation of the ground state energy for LiH at various interatomic distances. A driver for the molecule must be created at each such distance. Note that in this experiment, to reduce the number of qubits used, we freeze the core and remove two unoccupied orbitals. First, we define a function that takes an interatomic distance and returns the appropriate qubit operator, $H$, as well as some other information about the operator."
   ]
  },
  {
   "cell_type": "code",
   "execution_count": 9,
   "metadata": {
    "execution": {
     "iopub.execute_input": "2021-05-12T09:24:08.576523Z",
     "iopub.status.busy": "2021-05-12T09:24:08.576286Z",
     "iopub.status.idle": "2021-05-12T09:24:08.584329Z",
     "shell.execute_reply": "2021-05-12T09:24:08.583936Z",
     "shell.execute_reply.started": "2021-05-12T09:24:08.576495Z"
    },
    "id": "gQwwIh3GeRkf",
    "tags": []
   },
   "outputs": [],
   "source": [
    "def get_qubit_op(dist):\n",
    "\tdriver = PySCFDriver(atom=\"Li .0 .0 .0; H .0 .0 \" + str(dist), unit=UnitsType.ANGSTROM,\n",
    "\t\t\t\t\t\t charge=0, spin=0, basis='sto3g')\n",
    "\tmolecule = driver.run()\n",
    "\tfreeze_list = [0]\n",
    "\tremove_list = [-3, -2]\n",
    "\trepulsion_energy = molecule.nuclear_repulsion_energy\n",
    "\tnum_particles = molecule.num_alpha + molecule.num_beta\n",
    "\tnum_spin_orbitals = molecule.num_orbitals * 2\n",
    "\tremove_list = [x % molecule.num_orbitals for x in remove_list]\n",
    "\tfreeze_list = [x % molecule.num_orbitals for x in freeze_list]\n",
    "\tremove_list = [x - len(freeze_list) for x in remove_list]\n",
    "\tremove_list += [x + molecule.num_orbitals - len(freeze_list)  for x in remove_list]\n",
    "\tfreeze_list += [x + molecule.num_orbitals for x in freeze_list]\n",
    "\tferOp = FermionicOperator(h1=molecule.one_body_integrals, h2=molecule.two_body_integrals)\n",
    "\tferOp, energy_shift = ferOp.fermion_mode_freezing(freeze_list)\n",
    "\tnum_spin_orbitals -= len(freeze_list)\n",
    "\tnum_particles -= len(freeze_list)\n",
    "\tferOp = ferOp.fermion_mode_elimination(remove_list)\n",
    "\tnum_spin_orbitals -= len(remove_list)\n",
    "\tqubitOp = ferOp.mapping(map_type='parity', threshold=0.00000001)\n",
    "\tqubitOp = Z2Symmetries.two_qubit_reduction(qubitOp, num_particles)\n",
    "\tshift = energy_shift + repulsion_energy\n",
    "\treturn qubitOp, num_particles, num_spin_orbitals, shift"
   ]
  },
  {
   "cell_type": "code",
   "execution_count": 10,
   "metadata": {
    "execution": {
     "iopub.execute_input": "2021-05-12T13:28:25.501065Z",
     "iopub.status.busy": "2021-05-12T13:28:25.500794Z",
     "iopub.status.idle": "2021-05-12T13:28:29.010985Z",
     "shell.execute_reply": "2021-05-12T13:28:29.010483Z",
     "shell.execute_reply.started": "2021-05-12T13:28:25.501036Z"
    },
    "id": "UOniQivueRkf",
    "tags": []
   },
   "outputs": [],
   "source": [
    "test = get_qubit_op(5)"
   ]
  },
  {
   "cell_type": "code",
   "execution_count": 11,
   "metadata": {
    "colab": {
     "base_uri": "https://localhost:8080/"
    },
    "execution": {
     "iopub.execute_input": "2021-05-12T13:28:33.111760Z",
     "iopub.status.busy": "2021-05-12T13:28:33.111500Z",
     "iopub.status.idle": "2021-05-12T13:28:33.116315Z",
     "shell.execute_reply": "2021-05-12T13:28:33.115838Z",
     "shell.execute_reply.started": "2021-05-12T13:28:33.111730Z"
    },
    "id": "Nn3-Ckv9eRkf",
    "outputId": "09a9e368-0efd-4c8e-e95c-cede7ff503e7",
    "scrolled": true,
    "tags": []
   },
   "outputs": [
    {
     "name": "stdout",
     "output_type": "stream",
     "text": [
      "IIII\t(-0.24895049579243647+0j)\n",
      "IIIZ\t(-0.10355107795320165+0j)\n",
      "IIZX\t(0.03199498432512055+0j)\n",
      "IIIX\t(-0.03199498432512055+0j)\n",
      "IIXX\t(-8.037317235985459e-05+0j)\n",
      "IIYY\t(8.037317235985459e-05+0j)\n",
      "IIZZ\t(-0.10495431256365699+0j)\n",
      "IIXZ\t(-0.007763818717513042+0j)\n",
      "IIXI\t(-0.007763818717513042+0j)\n",
      "IIZI\t(0.18494127529584625+0j)\n",
      "IZII\t(0.10355107795320162+0j)\n",
      "ZXII\t(-0.031994984325120594+0j)\n",
      "IXII\t(-0.031994984325120594+0j)\n",
      "XXII\t(-8.037317235985372e-05+0j)\n",
      "YYII\t(8.037317235985372e-05+0j)\n",
      "ZZII\t(-0.10495431256365696+0j)\n",
      "XZII\t(0.007763818717513045+0j)\n",
      "XIII\t(-0.007763818717513045+0j)\n",
      "ZIII\t(-0.1849412752958463+0j)\n",
      "IZIZ\t(-0.08610127549155787+0j)\n",
      "IZZX\t(-0.03579168847775564+0j)\n",
      "IZIX\t(0.03579168847775564+0j)\n",
      "IZXX\t(-0.0018516651980102718+0j)\n",
      "IZYY\t(0.0018516651980102718+0j)\n",
      "IXIZ\t(-0.035791688477755636+0j)\n",
      "ZXIZ\t(-0.035791688477755636+0j)\n",
      "IXZX\t(-0.05240325622937928+0j)\n",
      "ZXZX\t(-0.05240325622937928+0j)\n",
      "IXIX\t(0.05240325622937928+0j)\n",
      "ZXIX\t(0.05240325622937928+0j)\n",
      "IXXX\t(-0.0015594266359363455+0j)\n",
      "ZXXX\t(-0.0015594266359363455+0j)\n",
      "IXYY\t(0.0015594266359363455+0j)\n",
      "ZXYY\t(0.0015594266359363455+0j)\n",
      "YYIZ\t(-0.0018516651980102718+0j)\n",
      "XXIZ\t(0.0018516651980102718+0j)\n",
      "YYZX\t(-0.0015594266359363455+0j)\n",
      "XXZX\t(0.0015594266359363455+0j)\n",
      "YYIX\t(0.0015594266359363455+0j)\n",
      "XXIX\t(-0.0015594266359363455+0j)\n",
      "YYXX\t(-0.006836196406086257+0j)\n",
      "XXXX\t(0.006836196406086257+0j)\n",
      "YYYY\t(0.006836196406086257+0j)\n",
      "XXYY\t(-0.006836196406086257+0j)\n",
      "ZZIZ\t(0.07871466945331695+0j)\n",
      "ZZZX\t(0.025428956445414572+0j)\n",
      "ZZIX\t(-0.025428956445414572+0j)\n",
      "ZZXX\t(0.0013611636985270052+0j)\n",
      "ZZYY\t(-0.0013611636985270052+0j)\n",
      "XIIZ\t(-0.0019779084048441526+0j)\n",
      "XZIZ\t(0.0019779084048441526+0j)\n",
      "XIZX\t(-0.0022456955020494526+0j)\n",
      "XZZX\t(0.0022456955020494526+0j)\n",
      "XIIX\t(0.0022456955020494526+0j)\n",
      "XZIX\t(-0.0022456955020494526+0j)\n",
      "XIXX\t(-0.00755590553877301+0j)\n",
      "XZXX\t(0.00755590553877301+0j)\n",
      "XIYY\t(0.00755590553877301+0j)\n",
      "XZYY\t(-0.00755590553877301+0j)\n",
      "ZIIZ\t(0.047691770911415576+0j)\n",
      "ZIZX\t(-0.02163228484433784+0j)\n",
      "ZIIX\t(0.02163228484433784+0j)\n",
      "ZIXX\t(0.0005708759813297672+0j)\n",
      "ZIYY\t(-0.0005708759813297672+0j)\n",
      "IZZZ\t(-0.07871466945331695+0j)\n",
      "IZXZ\t(0.0019779084048441526+0j)\n",
      "IZXI\t(0.0019779084048441526+0j)\n",
      "IXZZ\t(-0.025428956445414572+0j)\n",
      "ZXZZ\t(-0.025428956445414572+0j)\n",
      "IXXZ\t(0.002245695502049452+0j)\n",
      "ZXXZ\t(0.002245695502049452+0j)\n",
      "IXXI\t(0.002245695502049452+0j)\n",
      "ZXXI\t(0.002245695502049452+0j)\n",
      "YYZZ\t(-0.0013611636985270054+0j)\n",
      "XXZZ\t(0.0013611636985270054+0j)\n",
      "YYXZ\t(0.00755590553877301+0j)\n",
      "XXXZ\t(-0.00755590553877301+0j)\n",
      "YYXI\t(0.00755590553877301+0j)\n",
      "XXXI\t(-0.00755590553877301+0j)\n",
      "ZZZZ\t(0.07339861997499947+0j)\n",
      "ZZXZ\t(-0.0013551951164092015+0j)\n",
      "ZZXI\t(-0.0013551951164092015+0j)\n",
      "XIZZ\t(-0.0013551951164092013+0j)\n",
      "XZZZ\t(0.0013551951164092013+0j)\n",
      "XIXZ\t(0.008388964880819524+0j)\n",
      "XZXZ\t(-0.008388964880819524+0j)\n",
      "XIXI\t(0.008388964880819524+0j)\n",
      "XZXI\t(-0.008388964880819524+0j)\n",
      "ZIZZ\t(0.05169075211329939+0j)\n",
      "ZIXZ\t(6.643872733554543e-05+0j)\n",
      "ZIXI\t(6.643872733554543e-05+0j)\n",
      "IZZI\t(0.047691770911415576+0j)\n",
      "IXZI\t(-0.02163228484433784+0j)\n",
      "ZXZI\t(-0.02163228484433784+0j)\n",
      "YYZI\t(0.0005708759813297672+0j)\n",
      "XXZI\t(-0.0005708759813297672+0j)\n",
      "ZZZI\t(-0.05169075211329939+0j)\n",
      "XIZI\t(-6.643872733554543e-05+0j)\n",
      "XZZI\t(6.643872733554543e-05+0j)\n",
      "ZIZI\t(-0.07827444714823735+0j)\n",
      "\n"
     ]
    }
   ],
   "source": [
    "# print(len(test[0].print_details()))\n",
    "print(test[0].print_details())"
   ]
  },
  {
   "cell_type": "markdown",
   "metadata": {
    "id": "Xd08XCrZeRkg"
   },
   "source": [
    "First, the exact ground state energy is calculated using the qubit operator and a classical exact eigensolver. Subsequently, the initial state $|\\psi\\rangle$ is created, which the VQE instance uses to produce the final ansatz $\\min_{\\theta}(|\\psi(\\theta)\\rangle)$. The exact result and the VQE result at each interatomic distance is stored. Observe that the result given by `vqe.run(backend)['energy'] + shift` is equivalent the quantity $\\min_{\\theta}\\left(\\langle \\psi(\\theta)|H|\\psi(\\theta)\\rangle\\right)$, where the minimum is not necessarily the global minimum. \n",
    "\n",
    "When initializing the VQE instance with `VQE(qubitOp, var_form, optimizer, 'matrix')` the expectation value of $H$ on $|\\psi(\\theta)\\rangle$ is directly calculated through matrix multiplication. However, when using an actual quantum device, or a true simulator such as the `qasm_simulator` with `VQE(qubitOp, var_form, optimizer, 'paulis')` the calculation of the expectation value is more complicated. A Hamiltonian may be represented as a sum of a Pauli strings, with each Pauli term acting on a qubit as specified by the mapping being used. Each Pauli string has a corresponding circuit appended to the circuit corresponding to $|\\psi(\\theta)\\rangle$. Subsequently, each of these circuits is executed, and all of the results are used to determine the expectation value of $H$ on $|\\psi(\\theta)\\rangle$. In the following example, we initialize the VQE instance with `matrix` mode, and so the expectation value is directly calculated through matrix multiplication. \n",
    "\n",
    "Note that the following code snippet may take a few minutes to run to completion. "
   ]
  },
  {
   "cell_type": "code",
   "execution_count": 12,
   "metadata": {
    "colab": {
     "base_uri": "https://localhost:8080/"
    },
    "execution": {
     "iopub.execute_input": "2021-05-09T18:50:04.979288Z",
     "iopub.status.busy": "2021-05-09T18:50:04.979024Z",
     "iopub.status.idle": "2021-05-09T18:51:27.583545Z",
     "shell.execute_reply": "2021-05-09T18:51:27.582976Z",
     "shell.execute_reply.started": "2021-05-09T18:50:04.979246Z"
    },
    "id": "bImugyw-eRkg",
    "outputId": "959fdb6a-983b-47b8-bfe4-f345695b0434",
    "tags": [
     "output_scroll"
    ]
   },
   "outputs": [
    {
     "name": "stdout",
     "output_type": "stream",
     "text": [
      "Interatomic Distance: 0.5 VQE Result: -7.039710214877602 Exact Energy: [-7.03973252]\n",
      "Interatomic Distance: 0.6 VQE Result: -7.313344301244756 Exact Energy: [-7.31334583]\n",
      "Interatomic Distance: 0.7 VQE Result: -7.500921095711126 Exact Energy: [-7.50092209]\n",
      "Interatomic Distance: 0.8 VQE Result: -7.630976915080151 Exact Energy: [-7.63097825]\n",
      "Interatomic Distance: 0.9 VQE Result: -7.7208107948795694 Exact Energy: [-7.72081241]\n",
      "Interatomic Distance: 1.0 VQE Result: -7.78224065533281 Exact Energy: [-7.7822424]\n",
      "Interatomic Distance: 1.1 VQE Result: -7.823597493135857 Exact Energy: [-7.82359928]\n",
      "Interatomic Distance: 1.2 VQE Result: -7.850696622411123 Exact Energy: [-7.85069838]\n",
      "Interatomic Distance: 1.3 VQE Result: -7.867561602386951 Exact Energy: [-7.86756329]\n",
      "Interatomic Distance: 1.4 VQE Result: -7.876999876408476 Exact Energy: [-7.87700149]\n",
      "Interatomic Distance: 1.5 VQE Result: -7.881014174012377 Exact Energy: [-7.88101572]\n",
      "Interatomic Distance: 1.6 VQE Result: -7.881070663240508 Exact Energy: [-7.88107204]\n",
      "Interatomic Distance: 1.7 VQE Result: -7.8782671619219276 Exact Energy: [-7.87826817]\n",
      "Interatomic Distance: 1.8 VQE Result: -7.873440112030098 Exact Energy: [-7.87344029]\n",
      "Interatomic Distance: 1.9 VQE Result: -7.867233666638194 Exact Energy: [-7.86723396]\n",
      "Interatomic Distance: 2.0 VQE Result: -7.860152327897854 Exact Energy: [-7.86015321]\n",
      "Interatomic Distance: 2.1 VQE Result: -7.85259510551686 Exact Energy: [-7.85259583]\n",
      "Interatomic Distance: 2.2 VQE Result: -7.8448787261668835 Exact Energy: [-7.84487909]\n",
      "Interatomic Distance: 2.3 VQE Result: -7.83725743955286 Exact Energy: [-7.83725797]\n",
      "Interatomic Distance: 2.4 VQE Result: -7.8299350445969775 Exact Energy: [-7.829937]\n",
      "Interatomic Distance: 2.5 VQE Result: -7.823070191386146 Exact Energy: [-7.82307664]\n",
      "Interatomic Distance: 2.6 VQE Result: -7.816782591844441 Exact Energy: [-7.81679515]\n",
      "Interatomic Distance: 2.7 VQE Result: -7.81115343849597 Exact Energy: [-7.81116828]\n",
      "Interatomic Distance: 2.8 VQE Result: -7.806218298212125 Exact Energy: [-7.80622956]\n",
      "Interatomic Distance: 2.9 VQE Result: -7.801962398171526 Exact Energy: [-7.8019736]\n",
      "Interatomic Distance: 3.0 VQE Result: -7.798352410708635 Exact Energy: [-7.79836343]\n",
      "Interatomic Distance: 3.1 VQE Result: -7.795326815522893 Exact Energy: [-7.79534045]\n",
      "Interatomic Distance: 3.2 VQE Result: -7.792800698386452 Exact Energy: [-7.79283481]\n",
      "Interatomic Distance: 3.3 VQE Result: -7.790603801159787 Exact Energy: [-7.79077401]\n",
      "Interatomic Distance: 3.4 VQE Result: -7.788715348519802 Exact Energy: [-7.7890889]\n",
      "Interatomic Distance: 3.5 VQE Result: -7.7872157739668655 Exact Energy: [-7.78771697]\n",
      "Interatomic Distance: 3.6 VQE Result: -7.7860803825447435 Exact Energy: [-7.78660376]\n",
      "Interatomic Distance: 3.7 VQE Result: -7.785203502806949 Exact Energy: [-7.78570291]\n",
      "Interatomic Distance: 3.8 VQE Result: -7.784479532115525 Exact Energy: [-7.78497559]\n",
      "Interatomic Distance: 3.9 VQE Result: -7.783853372001101 Exact Energy: [-7.78438961]\n",
      "All energies have been calculated\n"
     ]
    }
   ],
   "source": [
    "backend = BasicAer.get_backend(\"statevector_simulator\")\n",
    "distances = np.arange(0.5, 4.0, 0.1)\n",
    "exact_energies = []\n",
    "vqe_energies = []\n",
    "optimizer = SLSQP(maxiter=5)\n",
    "for dist in distances:\n",
    "\tqubitOp, num_particles, num_spin_orbitals, shift = get_qubit_op(dist)\n",
    "\tresult = NumPyEigensolver(qubitOp).run()\n",
    "\texact_energies.append(np.real(result.eigenvalues) + shift)\n",
    "\tinitial_state = HartreeFock(\n",
    "\t\tnum_spin_orbitals,\n",
    "\t\tnum_particles,\n",
    "\t\tqubit_mapping='parity'\n",
    "\t\t)\n",
    "\tvar_form = UCCSD(\n",
    "\t\tnum_orbitals=num_spin_orbitals,\n",
    "\t\tnum_particles=num_particles,\n",
    "\t\tinitial_state=initial_state,\n",
    "\t\tqubit_mapping='parity'\n",
    "\t\t)\n",
    "\tvqe = VQE(qubitOp, var_form, optimizer)\n",
    "\tvqe_result = np.real(vqe.run(backend)['eigenvalue'] + shift)\n",
    "\tvqe_energies.append(vqe_result)\n",
    "\tprint(\"Interatomic Distance:\", np.round(dist, 2), \"VQE Result:\", vqe_result, \"Exact Energy:\", exact_energies[-1])\n",
    "\n",
    "print(\"All energies have been calculated\")"
   ]
  },
  {
   "cell_type": "code",
   "execution_count": 13,
   "metadata": {
    "colab": {
     "base_uri": "https://localhost:8080/",
     "height": 283
    },
    "execution": {
     "iopub.execute_input": "2021-05-09T18:52:29.118517Z",
     "iopub.status.busy": "2021-05-09T18:52:29.118286Z",
     "iopub.status.idle": "2021-05-09T18:52:29.198145Z",
     "shell.execute_reply": "2021-05-09T18:52:29.197799Z",
     "shell.execute_reply.started": "2021-05-09T18:52:29.118491Z"
    },
    "id": "HtEgh3W1eRkg",
    "outputId": "89a7d6a2-4df1-4d69-c089-c8d4350c06f6",
    "tags": []
   },
   "outputs": [
    {
     "data": {
      "image/png": "[encoded data removed]",
      "text/plain": [
       "<Figure size 432x288 with 1 Axes>"
      ]
     },
     "metadata": {
      "needs_background": "light",
      "tags": []
     },
     "output_type": "display_data"
    }
   ],
   "source": [
    "plt.plot(distances, exact_energies, label=\"Exact Energy\")\n",
    "plt.plot(distances, vqe_energies, label=\"VQE Energy\")\n",
    "plt.xlabel('Atomic distance (Angstrom)')\n",
    "plt.ylabel('Energy')\n",
    "plt.legend()\n",
    "plt.show()"
   ]
  },
  {
   "cell_type": "markdown",
   "metadata": {
    "id": "JtyD-onBeRkg"
   },
   "source": [
    "Note that the VQE results are very close to the exact results, and so the exact energy curve is hidden by the VQE curve."
   ]
  },
  {
   "cell_type": "markdown",
   "metadata": {
    "id": "cx8ZiPAgeRkg"
   },
   "source": [
    "### Running VQE on a Noisy Simulator<a id='implementationnoisy'></a>\n",
    "\n",
    "Here, we calculate the ground state energy for H$_2$ using a noisy simulator and error mitigation. \n",
    "\n",
    "First, we prepare the qubit operator representing the molecule's Hamiltonian:"
   ]
  },
  {
   "cell_type": "code",
   "execution_count": null,
   "metadata": {
    "execution": {
     "iopub.execute_input": "2021-05-12T10:58:15.076423Z",
     "iopub.status.busy": "2021-05-12T10:58:15.076190Z",
     "iopub.status.idle": "2021-05-12T10:58:16.223175Z",
     "shell.execute_reply": "2021-05-12T10:58:16.222767Z",
     "shell.execute_reply.started": "2021-05-12T10:58:15.076396Z"
    },
    "id": "DjqvI9ayeRkg",
    "tags": []
   },
   "outputs": [],
   "source": [
    "driver = PySCFDriver(atom='H .0 .0 -0.3625; H .0 .0 0.3625', unit=UnitsType.ANGSTROM, charge=0, spin=0, basis='sto3g')\n",
    "molecule = driver.run()\n",
    "num_particles = molecule.num_alpha + molecule.num_beta\n",
    "qubitOp = FermionicOperator(h1=molecule.one_body_integrals, h2=molecule.two_body_integrals).mapping(map_type='parity')\n",
    "qubitOp = Z2Symmetries.two_qubit_reduction(qubitOp, num_particles)"
   ]
  },
  {
   "cell_type": "markdown",
   "metadata": {
    "id": "wVZHTSb2eRkg"
   },
   "source": [
    "Now, we load a device coupling map and noise model from the IBMQ provider and create a quantum instance, enabling error mitigation:"
   ]
  },
  {
   "cell_type": "code",
   "execution_count": null,
   "metadata": {
    "execution": {
     "iopub.execute_input": "2021-05-12T10:58:16.943250Z",
     "iopub.status.busy": "2021-05-12T10:58:16.943021Z",
     "iopub.status.idle": "2021-05-12T10:58:20.616001Z",
     "shell.execute_reply": "2021-05-12T10:58:20.615617Z",
     "shell.execute_reply.started": "2021-05-12T10:58:16.943229Z"
    },
    "id": "tmcL59f0eRkh",
    "outputId": "52d4d07a-eb48-4faa-b79f-f593187e3f4b",
    "tags": [
     "uses-hardware"
    ]
   },
   "outputs": [
    {
     "name": "stderr",
     "output_type": "stream",
     "text": [
      "/home/david/anaconda3/envs/hackathon/lib/python3.8/site-packages/urllib3/connection.py:379: SystemTimeWarning: System time is way off (before 2020-07-01). This will probably lead to SSL verification errors\n",
      "  warnings.warn(\n",
      "ibmqfactory.load_account:WARNING:1970-01-01 17:34:53,414: Credentials are already in use. The existing account in the session will be replaced.\n",
      "/home/david/anaconda3/envs/hackathon/lib/python3.8/site-packages/urllib3/connection.py:379: SystemTimeWarning: System time is way off (before 2020-07-01). This will probably lead to SSL verification errors\n",
      "  warnings.warn(\n",
      "/home/david/anaconda3/envs/hackathon/lib/python3.8/site-packages/urllib3/connection.py:379: SystemTimeWarning: System time is way off (before 2020-07-01). This will probably lead to SSL verification errors\n",
      "  warnings.warn(\n",
      "/home/david/anaconda3/envs/hackathon/lib/python3.8/site-packages/urllib3/connection.py:379: SystemTimeWarning: System time is way off (before 2020-07-01). This will probably lead to SSL verification errors\n",
      "  warnings.warn(\n"
     ]
    }
   ],
   "source": [
    "IBMQ.load_account()\n",
    "provider = IBMQ.get_provider(hub='ibm-q')\n",
    "backend = Aer.get_backend(\"qasm_simulator\")\n",
    "device = provider.get_backend(\"ibmq_lima\")\n",
    "coupling_map = device.configuration().coupling_map\n",
    "noise_model = NoiseModel.from_backend(device.properties())\n",
    "quantum_instance = QuantumInstance(backend=backend,\n",
    "\t\t\t\t\t\t\t\t   shots=8192,\n",
    "\t\t\t\t\t\t\t\t   noise_model=noise_model,\n",
    "\t\t\t\t\t\t\t\t   coupling_map=coupling_map,\n",
    "\t\t\t\t\t\t\t\t   measurement_error_mitigation_cls=CompleteMeasFitter,\n",
    "\t\t\t\t\t\t\t\t   cals_matrix_refresh_period=30)"
   ]
  },
  {
   "cell_type": "markdown",
   "metadata": {
    "id": "-qa2Qtc0eRkh"
   },
   "source": [
    "Finally, we must configure the optimizer, the variational form, and the VQE instance. As the effects of noise increase as the number of two qubit gates circuit depth increase, we use a heuristic variational form (RYRZ) rather than UCCSD as RYRZ has a much shallower circuit than UCCSD and uses substantially fewer two qubit gates.\n",
    "\n",
    "The following code may take a few minutes to run to completion."
   ]
  },
  {
   "cell_type": "code",
   "execution_count": null,
   "metadata": {
    "execution": {
     "iopub.execute_input": "2021-05-12T10:58:21.253326Z",
     "iopub.status.busy": "2021-05-12T10:58:21.253149Z",
     "iopub.status.idle": "2021-05-12T10:59:10.493848Z",
     "shell.execute_reply": "2021-05-12T10:59:10.493368Z",
     "shell.execute_reply.started": "2021-05-12T10:58:21.253307Z"
    },
    "id": "Wze86QXQeRkh",
    "outputId": "64c8b3ef-7ad5-41a4-e9fa-315256e50eba",
    "tags": [
     "uses-hardware"
    ]
   },
   "outputs": [
    {
     "name": "stdout",
     "output_type": "stream",
     "text": [
      "Exact Result: [-1.13722138]\n",
      "VQE Result: -1.1150545129847238\n"
     ]
    }
   ],
   "source": [
    "exact_solution = NumPyEigensolver(qubitOp).run()\n",
    "print(\"Exact Result:\", np.real(exact_solution.eigenvalues) + molecule.nuclear_repulsion_energy)\n",
    "optimizer = SPSA(maxiter=100)\n",
    "var_form = EfficientSU2(qubitOp.num_qubits, entanglement=\"linear\")\n",
    "vqe = VQE(qubitOp, var_form, optimizer=optimizer)\n",
    "ret = vqe.run(quantum_instance)\n",
    "vqe_result = np.real(ret['eigenvalue'] + molecule.nuclear_repulsion_energy)\n",
    "print(\"VQE Result:\", vqe_result)"
   ]
  },
  {
   "cell_type": "code",
   "execution_count": null,
   "metadata": {
    "execution": {
     "iopub.execute_input": "2021-05-12T09:43:29.104499Z",
     "iopub.status.busy": "2021-05-12T09:43:29.104279Z",
     "iopub.status.idle": "2021-05-12T09:43:29.107717Z",
     "shell.execute_reply": "2021-05-12T09:43:29.107192Z",
     "shell.execute_reply.started": "2021-05-12T09:43:29.104475Z"
    },
    "id": "A0ld89OOeRkh",
    "outputId": "7864ea9c-3e3f-4626-bc1f-6b0edecf1988",
    "tags": []
   },
   "outputs": [
    {
     "name": "stdout",
     "output_type": "stream",
     "text": [
      "II\t(-1.0501604336972703+0j)\n",
      "IZ\t(0.4042146605457886+0j)\n",
      "ZI\t(-0.4042146605457887+0j)\n",
      "ZZ\t(-0.011346884397300416+0j)\n",
      "XX\t(0.18037524720542222+0j)\n",
      "\n"
     ]
    }
   ],
   "source": [
    "print(qubitOp.print_details())"
   ]
  },
  {
   "cell_type": "code",
   "execution_count": null,
   "metadata": {
    "execution": {
     "iopub.execute_input": "2021-05-12T09:57:52.205698Z",
     "iopub.status.busy": "2021-05-12T09:57:52.205476Z",
     "iopub.status.idle": "2021-05-12T09:57:52.218586Z",
     "shell.execute_reply": "2021-05-12T09:57:52.218267Z",
     "shell.execute_reply.started": "2021-05-12T09:57:52.205674Z"
    },
    "id": "lwGNsEoZeRkh",
    "outputId": "022c9a3b-6018-4105-dccc-17767843677b",
    "tags": []
   },
   "outputs": [
    {
     "name": "stdout",
     "output_type": "stream",
     "text": [
      "      ░ ┌─┐   \n",
      "q_0: ─░─┤M├───\n",
      "      ░ └╥┘┌─┐\n",
      "q_1: ─░──╫─┤M├\n",
      "      ░  ║ └╥┘\n",
      "c: 2/════╩══╩═\n",
      "         0  1 \n",
      "      ░ ┌─┐   \n",
      "q_0: ─░─┤M├───\n",
      "      ░ └╥┘┌─┐\n",
      "q_1: ─░──╫─┤M├\n",
      "      ░  ║ └╥┘\n",
      "c: 2/════╩══╩═\n",
      "         0  1 \n",
      "      ░ ┌─┐   \n",
      "q_0: ─░─┤M├───\n",
      "      ░ └╥┘┌─┐\n",
      "q_1: ─░──╫─┤M├\n",
      "      ░  ║ └╥┘\n",
      "c: 2/════╩══╩═\n",
      "         0  1 \n",
      "      ░ ┌─┐   \n",
      "q_0: ─░─┤M├───\n",
      "      ░ └╥┘┌─┐\n",
      "q_1: ─░──╫─┤M├\n",
      "      ░  ║ └╥┘\n",
      "c: 2/════╩══╩═\n",
      "         0  1 \n",
      "     ┌───┐ ░ ┌─┐   \n",
      "q_0: ┤ H ├─░─┤M├───\n",
      "     ├───┤ ░ └╥┘┌─┐\n",
      "q_1: ┤ H ├─░──╫─┤M├\n",
      "     └───┘ ░  ║ └╥┘\n",
      "c: 2/═════════╩══╩═\n",
      "              0  1 \n"
     ]
    }
   ],
   "source": [
    "circuit = QuantumCircuit(2)\n",
    "# circuit.h([0,1])\n",
    "# circuit.x([0])\n",
    "temp = qubitOp.construct_evaluation_circuit(wave_function=circuit, statevector_mode=False)\n",
    "for x in temp:\n",
    "\tprint(x.decompose())"
   ]
  },
  {
   "cell_type": "markdown",
   "metadata": {
    "id": "FqKOX7J4eRkh"
   },
   "source": [
    "When noise mitigation is enabled, even though the result does not fall within chemical accuracy (defined as being within 0.0016 Hartree of the exact result), it is fairly close to the exact solution. "
   ]
  },
  {
   "cell_type": "markdown",
   "metadata": {
    "id": "pFTELJLaeRki"
   },
   "source": [
    "## Problems<a id='problems'></a>\n",
    "1. You are given a Hamiltonian $H$ with the promise that its ground state is close to a maximally entangled $n$ qubit state. Explain which variational form (or forms) is likely to efficiently and accurately learn the ground state energy of $H$. You may also answer by creating your own variational form, and explaining why it is appropriate for use with this Hamiltonian. \n",
    "2. Calculate the number of circuit evaluations performed per optimization iteration, when using the COBYLA optimizer, the `qasm_simulator` with 1000 shots, and a Hamiltonian with 60 Pauli strings.\n",
    "3. Use VQE to estimate the ground state energy of BeH$_2$ with an interatomic distance of $1.3$Å. You may re-use the function `get_qubit_op(dist)` by replacing `atom=\"Li .0 .0 .0; H .0 .0 \" + str(dist)` with `atom=\"Be .0 .0 .0; H .0 .0 -\" + str(dist) + \"; H .0 .0 \" + str(dist)` and invoking the function with `get_qubit_op(1.3)`. Note that removing the unoccupied orbitals does not preserve chemical precision for this molecule. However, to get the number of qubits  required down to 6 (and thereby allowing efficient simulation on most laptops), the loss of precision is acceptable. While beyond the scope of this exercise, the interested reader may use qubit tapering operations to reduce the number of required qubits to 7, without losing any chemical precision."
   ]
  },
  {
   "cell_type": "markdown",
   "metadata": {
    "id": "Uj6aoWuleRki"
   },
   "source": [
    "## References<a id='references'></a>\n",
    "1. Peruzzo, Alberto, et al. \"A variational eigenvalue solver on a photonic quantum processor.\" *Nature communications* 5 (2014): 4213.\n",
    "2. Griffiths, David J., and Darrell F. Schroeter. Introduction to quantum mechanics. *Cambridge University Press*, 2018.\n",
    "3. Shende, Vivek V., Igor L. Markov, and Stephen S. Bullock. \"Minimal universal two-qubit cnot-based circuits.\" arXiv preprint quant-ph/0308033 (2003).\n",
    "4. Kandala, Abhinav, et al. \"Hardware-efficient variational quantum eigensolver for small molecules and quantum magnets.\" Nature 549.7671 (2017): 242."
   ]
  },
  {
   "cell_type": "code",
   "execution_count": null,
   "metadata": {
    "execution": {
     "iopub.execute_input": "2021-05-09T18:36:36.163184Z",
     "iopub.status.busy": "2021-05-09T18:36:36.162960Z",
     "iopub.status.idle": "2021-05-09T18:36:36.166747Z",
     "shell.execute_reply": "2021-05-09T18:36:36.166325Z",
     "shell.execute_reply.started": "2021-05-09T18:36:36.163159Z"
    },
    "id": "3S_8z6SZeRki",
    "outputId": "6b83182f-62ef-4d91-e92e-ae1eded00787",
    "tags": []
   },
   "outputs": [
    {
     "data": {
      "text/plain": [
       "{'qiskit-terra': '0.17.2', 'qiskit-aer': '0.8.2', 'qiskit-ignis': '0.6.0', 'qiskit-ibmq-provider': '0.12.3', 'qiskit-aqua': '0.9.1', 'qiskit': '0.25.4', 'qiskit-nature': '0.1.1', 'qiskit-finance': None, 'qiskit-optimization': None, 'qiskit-machine-learning': None}"
      ]
     },
     "execution_count": 84,
     "metadata": {
      "tags": []
     },
     "output_type": "execute_result"
    }
   ],
   "source": [
    "import qiskit\n",
    "qiskit.__qiskit_version__"
   ]
  }
 ],
 "metadata": {
  "colab": {
   "include_colab_link": true,
   "name": "vqe-molecules.ipynb",
   "provenance": []
  },
  "kernelspec": {
   "display_name": "Python 3",
   "language": "python",
   "name": "python3"
  },
  "language_info": {
   "codemirror_mode": {
    "name": "ipython",
    "version": 3
   },
   "file_extension": ".py",
   "mimetype": "text/x-python",
   "name": "python",
   "nbconvert_exporter": "python",
   "pygments_lexer": "ipython3",
   "version": "3.8.8"
  }
 },
 "nbformat": 4,
 "nbformat_minor": 4
}