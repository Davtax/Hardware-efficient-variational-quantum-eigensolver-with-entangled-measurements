{
 "cells": [
  {
   "cell_type": "code",
   "execution_count": 1,
   "metadata": {
    "execution": {
     "iopub.execute_input": "2021-05-31T11:47:36.421530Z",
     "iopub.status.busy": "2021-05-31T11:47:36.417543Z",
     "iopub.status.idle": "2021-05-31T11:47:40.067639Z",
     "shell.execute_reply": "2021-05-31T11:47:40.066642Z",
     "shell.execute_reply.started": "2021-05-31T11:47:36.420532Z"
    }
   },
   "outputs": [
    {
     "ename": "ModuleNotFoundError",
     "evalue": "No module named 'functions_VQE_v2'",
     "output_type": "error",
     "traceback": [
      "\u001b[1;31m---------------------------------------------------------------------------\u001b[0m",
      "\u001b[1;31mModuleNotFoundError\u001b[0m                       Traceback (most recent call last)",
      "\u001b[1;32m<ipython-input-1-5f6cc315d2ad>\u001b[0m in \u001b[0;36m<module>\u001b[1;34m\u001b[0m\n\u001b[0;32m      2\u001b[0m \u001b[1;32mimport\u001b[0m \u001b[0mmatplotlib\u001b[0m\u001b[1;33m.\u001b[0m\u001b[0mpyplot\u001b[0m \u001b[1;32mas\u001b[0m \u001b[0mplt\u001b[0m\u001b[1;33m\u001b[0m\u001b[1;33m\u001b[0m\u001b[0m\n\u001b[0;32m      3\u001b[0m \u001b[1;32mfrom\u001b[0m \u001b[0mGroupingAlgorithms\u001b[0m \u001b[1;32mimport\u001b[0m \u001b[1;33m*\u001b[0m\u001b[1;33m\u001b[0m\u001b[1;33m\u001b[0m\u001b[0m\n\u001b[1;32m----> 4\u001b[1;33m \u001b[1;32mfrom\u001b[0m \u001b[0mfunctions_VQE_v2\u001b[0m \u001b[1;32mimport\u001b[0m \u001b[1;33m*\u001b[0m\u001b[1;33m\u001b[0m\u001b[1;33m\u001b[0m\u001b[0m\n\u001b[0m\u001b[0;32m      5\u001b[0m \u001b[1;31m# Importing standard Qiskit libraries\u001b[0m\u001b[1;33m\u001b[0m\u001b[1;33m\u001b[0m\u001b[1;33m\u001b[0m\u001b[0m\n\u001b[0;32m      6\u001b[0m \u001b[1;32mfrom\u001b[0m \u001b[0mqiskit\u001b[0m \u001b[1;32mimport\u001b[0m \u001b[0mIBMQ\u001b[0m\u001b[1;33m\u001b[0m\u001b[1;33m\u001b[0m\u001b[0m\n",
      "\u001b[1;31mModuleNotFoundError\u001b[0m: No module named 'functions_VQE_v2'"
     ]
    }
   ],
   "source": [
    "import numpy as np\n",
    "import matplotlib.pyplot as plt\n",
    "from GroupingAlgorithms import *\n",
    "from functions_VQE_v2 import *\n",
    "# Importing standard Qiskit libraries\n",
    "from qiskit import IBMQ\n",
    "from qiskit.providers.aer import AerSimulator\n",
    "from qiskit.circuit.library import EfficientSU2\n",
    "from qiskit_nature.circuit.library import HartreeFock\n",
    "from qiskit_nature.transformers import FreezeCoreTransformer\n",
    "from qiskit_nature.drivers import PyQuanteDriver\n",
    "from qiskit_nature.problems.second_quantization.electronic import ElectronicStructureProblem\n",
    "from qiskit_nature.mappers.second_quantization import ParityMapper, JordanWignerMapper\n",
    "from qiskit_nature.converters.second_quantization.qubit_converter import QubitConverter\n",
    "from qiskit_nature.algorithms.ground_state_solvers.minimum_eigensolver_factories import NumPyMinimumEigensolverFactory\n",
    "from qiskit_nature.algorithms.ground_state_solvers import GroundStateEigensolver\n",
    "from qiskit.opflow import converters\n",
    "from qiskit.algorithms.optimizers import SPSA\n",
    "from qiskit.opflow.primitive_ops import Z2Symmetries\n",
    "from IPython.display import display, clear_output"
   ]
  },
  {
   "cell_type": "code",
   "execution_count": 2,
   "metadata": {
    "execution": {
     "iopub.execute_input": "2021-05-30T01:32:24.217375Z",
     "iopub.status.busy": "2021-05-30T01:32:24.217375Z",
     "iopub.status.idle": "2021-05-30T01:32:34.843948Z",
     "shell.execute_reply": "2021-05-30T01:32:34.842982Z",
     "shell.execute_reply.started": "2021-05-30T01:32:24.217375Z"
    }
   },
   "outputs": [],
   "source": [
    "IBMQ.load_account()\n",
    "provider      = IBMQ.get_provider(hub='ibm-q-csic', group='internal', project='iff-csic') \n",
    "backend_paris = provider.get_backend('ibmq_paris')\n",
    "WC_paris      = get_backend_conectivity(backend_paris)\n",
    "backend_sim   = AerSimulator(method=\"statevector\") # Backend for simulation\n",
    "backend_noise = AerSimulator.from_backend(backend_paris)\n",
    "NUM_SHOTS = 2**13  # Number of shots for each circuit"
   ]
  },
  {
   "cell_type": "code",
   "execution_count": 3,
   "metadata": {
    "execution": {
     "iopub.execute_input": "2021-05-30T01:32:34.845969Z",
     "iopub.status.busy": "2021-05-30T01:32:34.844945Z",
     "iopub.status.idle": "2021-05-30T01:32:47.554972Z",
     "shell.execute_reply": "2021-05-30T01:32:47.554972Z",
     "shell.execute_reply.started": "2021-05-30T01:32:34.845969Z"
    }
   },
   "outputs": [
    {
     "name": "stdout",
     "output_type": "stream",
     "text": [
      "4\n",
      "-0.20316612481217325 * IIII\n",
      "+ (-0.365258527098598-1.3877787807814457e-17j) * ZIII\n",
      "+ 0.09275974420404098 * IZII\n",
      "- 0.2118902053549851 * ZZII\n",
      "+ (0.365258527098598+2.7755575615628914e-17j) * IIZI\n",
      "- 0.11384420116816225 * ZIZI\n",
      "+ 0.11395335131674317 * IZZI\n",
      "+ (-0.06043919280467715-3.469446951953614e-18j) * ZZZI\n",
      "+ (-0.09275974420404105-3.469446951953614e-18j) * IIIZ\n",
      "+ 0.11395335131674318 * ZIIZ\n",
      "+ (-0.12274347556009738-6.938893903907228e-18j) * IZIZ\n",
      "+ 0.056287757667526306 * ZZIZ\n",
      "+ (-0.2118902053549851-6.938893903907228e-18j) * IIZZ\n",
      "+ 0.06043919280467715 * ZIZZ\n",
      "- 0.056287757667526306 * IZZZ\n",
      "+ 0.0846016988633049 * ZZZZ\n",
      "+ 0.019390023793252498 * XIII\n",
      "+ (-0.019390023793252498+8.673617379884035e-19j) * XZII\n",
      "- 0.010951534973539137 * XIZI\n",
      "+ 0.010951534973539137 * XZZI\n",
      "+ 0.01277809801936714 * XIIZ\n",
      "- 0.01277809801936714 * XZIZ\n",
      "- 0.00900252139905185 * XIZZ\n",
      "+ 0.00900252139905185 * XZZZ\n",
      "- 0.002936887226605865 * IXII\n",
      "- 0.0029368872266058656 * ZXII\n",
      "+ 0.010679892682752462 * IXZI\n",
      "+ 0.010679892682752462 * ZXZI\n",
      "- 0.011923147970878475 * IXIZ\n",
      "+ (-0.011923147970878475+8.673617379884035e-19j) * ZXIZ\n",
      "+ 0.001696659423374515 * IXZZ\n",
      "+ (0.001696659423374515+1.0842021724855044e-19j) * ZXZZ\n",
      "+ 0.0007448136948643796 * XXII\n",
      "- 0.0007448136948643789 * YYII\n",
      "- 0.03439054159380009 * XXZI\n",
      "+ 0.03439054159380009 * YYZI\n",
      "+ 0.03239612975064377 * XXIZ\n",
      "- 0.03239612975064377 * YYIZ\n",
      "- 0.0027382496936227945 * XXZZ\n",
      "+ 0.0027382496936227945 * YYZZ\n",
      "+ (0.019390023793252498-8.673617379884035e-19j) * IIXI\n",
      "+ 0.010951534973539137 * ZIXI\n",
      "+ (-0.01277809801936714+8.673617379884035e-19j) * IZXI\n",
      "- 0.00900252139905185 * ZZXI\n",
      "+ 0.019390023793252498 * IIXZ\n",
      "+ 0.010951534973539137 * ZIXZ\n",
      "- 0.01277809801936714 * IZXZ\n",
      "- 0.00900252139905185 * ZZXZ\n",
      "+ 0.006586890911505881 * XIXI\n",
      "- 0.006586890911505881 * XZXI\n",
      "+ (0.006586890911505881-4.336808689942018e-19j) * XIXZ\n",
      "- 0.006586890911505881 * XZXZ\n",
      "- 0.0022204528143394257 * IXXI\n",
      "+ (-0.0022204528143394257-2.168404344971009e-19j) * ZXXI\n",
      "+ (-0.0022204528143394257-2.168404344971009e-19j) * IXXZ\n",
      "- 0.0022204528143394257 * ZXXZ\n",
      "+ 0.007858062290639314 * XXXI\n",
      "- 0.007858062290639314 * YYXI\n",
      "+ 0.007858062290639314 * XXXZ\n",
      "- 0.007858062290639314 * YYXZ\n",
      "- 0.002936887226605863 * IIIX\n",
      "- 0.010679892682752462 * ZIIX\n",
      "+ (0.011923147970878475-8.673617379884035e-19j) * IZIX\n",
      "+ 0.001696659423374515 * ZZIX\n",
      "+ 0.002936887226605863 * IIZX\n",
      "+ 0.010679892682752462 * ZIZX\n",
      "+ (-0.011923147970878475+8.673617379884035e-19j) * IZZX\n",
      "- 0.001696659423374515 * ZZZX\n",
      "- 0.0022204528143394257 * XIIX\n",
      "+ 0.0022204528143394257 * XZIX\n",
      "+ 0.0022204528143394257 * XIZX\n",
      "- 0.0022204528143394257 * XZZX\n",
      "+ 0.00313843976345993 * IXIX\n",
      "+ (0.0031384397634599296-2.168404344971009e-19j) * ZXIX\n",
      "- 0.00313843976345993 * IXZX\n",
      "+ (-0.0031384397634599296+2.168404344971009e-19j) * ZXZX\n",
      "- 0.008497862762266498 * XXIX\n",
      "+ 0.008497862762266498 * YYIX\n",
      "+ 0.008497862762266498 * XXZX\n",
      "- 0.008497862762266498 * YYZX\n",
      "+ 0.0007448136948643926 * IIXX\n",
      "+ 0.03439054159380009 * ZIXX\n",
      "- 0.03239612975064377 * IZXX\n",
      "- 0.0027382496936227945 * ZZXX\n",
      "- 0.000744813694864393 * IIYY\n",
      "- 0.03439054159380009 * ZIYY\n",
      "+ (0.03239612975064377+3.469446951953614e-18j) * IZYY\n",
      "+ 0.0027382496936227945 * ZZYY\n",
      "+ 0.007858062290639314 * XIXX\n",
      "- 0.007858062290639314 * XZXX\n",
      "- 0.007858062290639314 * XIYY\n",
      "+ 0.007858062290639314 * XZYY\n",
      "- 0.008497862762266498 * IXXX\n",
      "- 0.008497862762266498 * ZXXX\n",
      "+ 0.008497862762266498 * IXYY\n",
      "+ 0.008497862762266498 * ZXYY\n",
      "+ 0.03084669637448977 * XXXX\n",
      "- 0.03084669637448977 * YYXX\n",
      "- 0.03084669637448977 * XXYY\n",
      "+ 0.030846696374489765 * YYYY\n"
     ]
    }
   ],
   "source": [
    "molecule = 'Li 0.0 0.0 0.0; H 0.0 0.0 1.5474'\n",
    "driver = PyQuanteDriver(molecule)\n",
    "qmolecule = driver.run()\n",
    "freezeCoreTransfomer = FreezeCoreTransformer( freeze_core=True, remove_orbitals= [3,4] )\n",
    "problem = ElectronicStructureProblem(driver,q_molecule_transformers=[freezeCoreTransfomer])\n",
    "\n",
    "# Generate the second-quantized operators\n",
    "second_q_ops = problem.second_q_ops()\n",
    "\n",
    "# Hamiltonian\n",
    "main_op = second_q_ops[0]\n",
    "\n",
    "# Setup the mapper and qubit converter\n",
    "mapper_type = 'ParityMapper'\n",
    "mapper = ParityMapper()\n",
    "\n",
    "converter = QubitConverter( mapper=mapper, two_qubit_reduction=True, z2symmetry_reduction=[1,1],) #1] \n",
    "\n",
    "# The fermionic operators are mapped to qubit operators\n",
    "num_particles = (problem.molecule_data_transformed.num_alpha,\n",
    "             problem.molecule_data_transformed.num_beta)\n",
    "\n",
    "num_spin_orbitals = 2 * problem.molecule_data_transformed.num_molecular_orbitals\n",
    "\n",
    "qubit_op = converter.convert(main_op, num_particles=num_particles)\n",
    "\n",
    "num_qubits = qubit_op.num_qubits\n",
    "WC=list(range(num_qubits))\n",
    "WC=list(permutations(list(range(num_qubits)),2))\n",
    "\n",
    "init_state = HartreeFock(num_spin_orbitals, num_particles, converter)\n",
    "\n",
    "print( num_qubits )\n",
    "print( qubit_op )"
   ]
  },
  {
   "cell_type": "code",
   "execution_count": 4,
   "metadata": {
    "execution": {
     "iopub.execute_input": "2021-05-30T01:32:47.557939Z",
     "iopub.status.busy": "2021-05-30T01:32:47.556940Z",
     "iopub.status.idle": "2021-05-30T01:32:47.565916Z",
     "shell.execute_reply": "2021-05-30T01:32:47.565916Z",
     "shell.execute_reply.started": "2021-05-30T01:32:47.557939Z"
    }
   },
   "outputs": [
    {
     "data": {
      "text/html": [
       "<pre style=\"word-wrap: normal;white-space: pre;background: #fff0;line-height: 1.1;font-family: &quot;Courier New&quot;,Courier,monospace\">     ┌───┐\n",
       "q_0: ┤ X ├\n",
       "     ├───┤\n",
       "q_1: ┤ X ├\n",
       "     └───┘\n",
       "q_2: ─────\n",
       "          \n",
       "q_3: ─────\n",
       "          </pre>"
      ],
      "text/plain": [
       "     ┌───┐\n",
       "q_0: ┤ X ├\n",
       "     ├───┤\n",
       "q_1: ┤ X ├\n",
       "     └───┘\n",
       "q_2: ─────\n",
       "          \n",
       "q_3: ─────\n",
       "          "
      ]
     },
     "execution_count": 4,
     "metadata": {},
     "output_type": "execute_result"
    }
   ],
   "source": [
    "init_state.draw()"
   ]
  },
  {
   "cell_type": "code",
   "execution_count": 5,
   "metadata": {
    "execution": {
     "iopub.execute_input": "2021-05-30T01:32:47.567911Z",
     "iopub.status.busy": "2021-05-30T01:32:47.567911Z",
     "iopub.status.idle": "2021-05-30T01:32:48.157335Z",
     "shell.execute_reply": "2021-05-30T01:32:48.156337Z",
     "shell.execute_reply.started": "2021-05-30T01:32:47.567911Z"
    }
   },
   "outputs": [
    {
     "name": "stdout",
     "output_type": "stream",
     "text": [
      "number of Paulis: 100\n",
      "number of TPB groups: 25\n",
      "number of Bell groups: 15\n"
     ]
    },
    {
     "name": "stderr",
     "output_type": "stream",
     "text": [
      "D:\\Saco_CSIC\\Programas\\Github\\Hardware-efficient-variational-quantum-eigensolver-with-entangled-measurements\\Codes\\GroupingAlgorithms.py:118: FutureWarning: Using a non-tuple sequence for multidimensional indexing is deprecated; use `arr[tuple(seq)]` instead of `arr[seq]`. In the future this will be interpreted as an array index, `arr[np.array(seq)]`, which will result either in an error or a different result.\n",
      "  if (list(Vi[[per]]) in Comp[Eps]) and (list(Vj[[per]]) in Comp[Eps]):\n"
     ]
    },
    {
     "name": "stdout",
     "output_type": "stream",
     "text": [
      "number of Bell groups: 9\n"
     ]
    }
   ],
   "source": [
    "paulis, coeff, label = Label2Chain(qubit_op)\n",
    "print( 'number of Paulis:', len(coeff) )\n",
    "\n",
    "Color, Groups_tpb, Measurements_tpb = TPBgrouping(paulis)\n",
    "print( 'number of TPB groups:', len(Groups_tpb) )\n",
    "Groups_tpb = [ [ idx2[0] for idx2 in idx1 ] for idx1 in Groups_tpb ]\n",
    "Measurements_tpb = [ [ [idx[j][0],[j]] for j in range(num_qubits) ] for idx in Measurements_tpb ]\n",
    "\n",
    "Groups_bell, Measurements_bell = grouping( paulis,[4,3,1,2],WC)\n",
    "print('number of Bell groups:', len(Groups_bell) )\n",
    "\n",
    "Groups_bell_paris, Measurements_bell_paris = grouping( paulis,[4,3,1,2],WC_paris)\n",
    "print('number of Bell groups:', len(Groups_bell_paris) )"
   ]
  },
  {
   "cell_type": "code",
   "execution_count": 6,
   "metadata": {
    "execution": {
     "iopub.execute_input": "2021-05-30T01:32:48.159329Z",
     "iopub.status.busy": "2021-05-30T01:32:48.158332Z",
     "iopub.status.idle": "2021-05-30T01:32:48.162321Z",
     "shell.execute_reply": "2021-05-30T01:32:48.161484Z",
     "shell.execute_reply.started": "2021-05-30T01:32:48.158332Z"
    }
   },
   "outputs": [],
   "source": [
    "# 0-1-2-3\n",
    "#   |\n",
    "#   4"
   ]
  },
  {
   "cell_type": "code",
   "execution_count": 7,
   "metadata": {
    "execution": {
     "iopub.execute_input": "2021-05-30T01:32:48.163319Z",
     "iopub.status.busy": "2021-05-30T01:32:48.163319Z",
     "iopub.status.idle": "2021-05-30T01:32:48.177282Z",
     "shell.execute_reply": "2021-05-30T01:32:48.176283Z",
     "shell.execute_reply.started": "2021-05-30T01:32:48.163319Z"
    }
   },
   "outputs": [
    {
     "data": {
      "text/plain": [
       "[[[4, [2, 3]], [4, [0, 1]]],\n",
       " [[1, [2]], [3, [3]], [4, [0, 1]]],\n",
       " [[1, [3]], [3, [2]], [4, [0, 1]]],\n",
       " [[1, [0]], [3, [1]], [4, [2, 3]]],\n",
       " [[1, [1]], [3, [0]], [4, [2, 3]]],\n",
       " [[4, [0, 2]], [4, [1, 3]]],\n",
       " [[4, [0, 3]], [4, [1, 2]]],\n",
       " [[3, [2]], [3, [3]], [3, [1]], [1, [0]]],\n",
       " [[3, [2]], [3, [3]], [3, [0]], [1, [1]]],\n",
       " [[3, [0]], [3, [1]], [3, [3]], [1, [2]]],\n",
       " [[3, [1]], [3, [3]], [1, [0]], [1, [2]]],\n",
       " [[3, [0]], [3, [3]], [1, [1]], [1, [2]]],\n",
       " [[3, [0]], [3, [1]], [3, [2]], [1, [3]]],\n",
       " [[3, [1]], [3, [2]], [1, [0]], [1, [3]]],\n",
       " [[3, [0]], [3, [2]], [1, [1]], [1, [3]]]]"
      ]
     },
     "execution_count": 7,
     "metadata": {},
     "output_type": "execute_result"
    }
   ],
   "source": [
    "Measurements_bell"
   ]
  },
  {
   "cell_type": "code",
   "execution_count": 8,
   "metadata": {
    "execution": {
     "iopub.execute_input": "2021-05-30T01:32:48.178278Z",
     "iopub.status.busy": "2021-05-30T01:32:48.178278Z",
     "iopub.status.idle": "2021-05-30T01:32:48.187254Z",
     "shell.execute_reply": "2021-05-30T01:32:48.186257Z",
     "shell.execute_reply.started": "2021-05-30T01:32:48.178278Z"
    }
   },
   "outputs": [
    {
     "data": {
      "text/plain": [
       "[[[4, [2, 3]], [4, [0, 1]]],\n",
       " [[1, [2]], [3, [3]], [4, [0, 1]]],\n",
       " [[1, [3]], [3, [2]], [4, [0, 1]]],\n",
       " [[1, [0]], [3, [1]], [4, [2, 3]]],\n",
       " [[1, [1]], [3, [0]], [4, [2, 3]]],\n",
       " [[1, [2]], [1, [0]], [3, [3]], [3, [1]]],\n",
       " [[1, [2]], [1, [1]], [3, [3]], [3, [0]]],\n",
       " [[1, [3]], [1, [0]], [3, [2]], [3, [1]]],\n",
       " [[1, [3]], [1, [1]], [3, [2]], [3, [0]]]]"
      ]
     },
     "execution_count": 8,
     "metadata": {},
     "output_type": "execute_result"
    }
   ],
   "source": [
    "Measurements_bell_paris"
   ]
  },
  {
   "cell_type": "code",
   "execution_count": 9,
   "metadata": {
    "execution": {
     "iopub.execute_input": "2021-05-30T01:32:48.191244Z",
     "iopub.status.busy": "2021-05-30T01:32:48.189249Z",
     "iopub.status.idle": "2021-05-30T01:32:48.202214Z",
     "shell.execute_reply": "2021-05-30T01:32:48.201216Z",
     "shell.execute_reply.started": "2021-05-30T01:32:48.191244Z"
    }
   },
   "outputs": [
    {
     "data": {
      "text/plain": [
       "[(0, 1), (1, 2), (2, 3)]"
      ]
     },
     "execution_count": 9,
     "metadata": {},
     "output_type": "execute_result"
    }
   ],
   "source": [
    "entangled_layer = []\n",
    "for qbs in WC_paris :\n",
    "    if qbs[0]<qbs[1] and qbs[1]<num_qubits :\n",
    "        entangled_layer.append(qbs)\n",
    "entangled_layer"
   ]
  },
  {
   "cell_type": "code",
   "execution_count": 10,
   "metadata": {
    "execution": {
     "iopub.execute_input": "2021-05-30T01:32:48.204209Z",
     "iopub.status.busy": "2021-05-30T01:32:48.203211Z",
     "iopub.status.idle": "2021-05-30T01:32:48.753765Z",
     "shell.execute_reply": "2021-05-30T01:32:48.753765Z",
     "shell.execute_reply.started": "2021-05-30T01:32:48.204209Z"
    }
   },
   "outputs": [
    {
     "data": {
      "image/png": "[encoded data removed]",
      "text/plain": [
       "<Figure size 568.197x264.88 with 1 Axes>"
      ]
     },
     "execution_count": 10,
     "metadata": {},
     "output_type": "execute_result"
    }
   ],
   "source": [
    "entangled_layer = []\n",
    "for qbs in WC_paris :\n",
    "    if qbs[0]<qbs[1] and qbs[1]<num_qubits :\n",
    "        entangled_layer.append(qbs)\n",
    "\n",
    "ansatz = init_state.compose( EfficientSU2(num_qubits,['ry','rz'], entanglement=entangled_layer, reps=1 ) )\n",
    "ansatz.draw(output='mpl')"
   ]
  },
  {
   "cell_type": "code",
   "execution_count": 11,
   "metadata": {
    "execution": {
     "iopub.execute_input": "2021-05-30T01:32:48.755734Z",
     "iopub.status.busy": "2021-05-30T01:32:48.754736Z",
     "iopub.status.idle": "2021-05-30T01:32:48.774683Z",
     "shell.execute_reply": "2021-05-30T01:32:48.772688Z",
     "shell.execute_reply.started": "2021-05-30T01:32:48.755734Z"
    }
   },
   "outputs": [
    {
     "data": {
      "text/plain": [
       "9"
      ]
     },
     "execution_count": 11,
     "metadata": {},
     "output_type": "execute_result"
    }
   ],
   "source": [
    "prob2Exp =  probability2expected( coeff, label, Groups_bell_paris, Measurements_bell_paris )\n",
    "len(prob2Exp)"
   ]
  },
  {
   "cell_type": "code",
   "execution_count": 12,
   "metadata": {
    "execution": {
     "iopub.execute_input": "2021-05-30T01:32:48.781664Z",
     "iopub.status.busy": "2021-05-30T01:32:48.781664Z",
     "iopub.status.idle": "2021-05-30T01:32:48.801611Z",
     "shell.execute_reply": "2021-05-30T01:32:48.800614Z",
     "shell.execute_reply.started": "2021-05-30T01:32:48.781664Z"
    }
   },
   "outputs": [],
   "source": [
    "qc = []\n",
    "n_measure = []\n",
    "for measure in Measurements_bell_paris :\n",
    "    qc_temp, n_measure_temp = measure_circuit_factor( measure , num_qubits )\n",
    "    qc.append( qc_temp.compose(ansatz,front=True) )\n",
    "    n_measure.append( n_measure_temp )"
   ]
  },
  {
   "cell_type": "code",
   "execution_count": 13,
   "metadata": {
    "execution": {
     "iopub.execute_input": "2021-05-30T01:32:48.802609Z",
     "iopub.status.busy": "2021-05-30T01:32:48.802609Z",
     "iopub.status.idle": "2021-05-30T01:32:48.813580Z",
     "shell.execute_reply": "2021-05-30T01:32:48.812608Z",
     "shell.execute_reply.started": "2021-05-30T01:32:48.802609Z"
    }
   },
   "outputs": [],
   "source": [
    "def Objective( pars, qc, callback=None, backend=AerSimulator(method=\"statevector\") ) :\n",
    "    \n",
    "    qc = [ qci.assign_parameters(pars) for qci in qc ]\n",
    "    t_qc = transpile(qc, backend)\n",
    "    qc_obj = assemble(t_qc, shots=NUM_SHOTS)\n",
    "    counts = backend.run(qc_obj).result().get_counts()\n",
    "     \n",
    "    probabilities = [ post_process_results(counts[j], n_measure[j], NUM_SHOTS) for j in range(len(counts))]\n",
    "    \n",
    "    ExpectedValues = 0\n",
    "    for j in range(len(probabilities)) :\n",
    "        ExpectedValues += np.sum( prob2Exp[j]@probabilities[j] )\n",
    "        \n",
    "    if callback is not None :\n",
    "        callback( ExpectedValues, pars )\n",
    "        \n",
    "    return ExpectedValues    "
   ]
  },
  {
   "cell_type": "code",
   "execution_count": 14,
   "metadata": {
    "execution": {
     "iopub.execute_input": "2021-05-30T01:32:48.814576Z",
     "iopub.status.busy": "2021-05-30T01:32:48.814576Z",
     "iopub.status.idle": "2021-05-30T01:32:48.821558Z",
     "shell.execute_reply": "2021-05-30T01:32:48.820586Z",
     "shell.execute_reply.started": "2021-05-30T01:32:48.814576Z"
    }
   },
   "outputs": [],
   "source": [
    "num_var = ansatz.num_parameters\n",
    "pars = [0.01] * num_var\n",
    "fun1 = lambda pars : Objective( pars, qc, backend=backend_noise )\n",
    "fun2 = lambda pars : objective_function(pars, coeff, label, Groups_tpb, Measurements_tpb, ansatz, backend_sim, NUM_SHOTS)"
   ]
  },
  {
   "cell_type": "code",
   "execution_count": 15,
   "metadata": {
    "execution": {
     "iopub.execute_input": "2021-05-30T01:32:48.822555Z",
     "iopub.status.busy": "2021-05-30T01:32:48.822555Z",
     "iopub.status.idle": "2021-05-30T01:32:51.570206Z",
     "shell.execute_reply": "2021-05-30T01:32:51.570206Z",
     "shell.execute_reply.started": "2021-05-30T01:32:48.822555Z"
    }
   },
   "outputs": [
    {
     "data": {
      "text/plain": [
       "-0.22211027701475572"
      ]
     },
     "execution_count": 15,
     "metadata": {},
     "output_type": "execute_result"
    }
   ],
   "source": [
    "fun1(pars)"
   ]
  },
  {
   "cell_type": "code",
   "execution_count": 16,
   "metadata": {
    "execution": {
     "iopub.execute_input": "2021-05-30T01:32:51.572200Z",
     "iopub.status.busy": "2021-05-30T01:32:51.571203Z",
     "iopub.status.idle": "2021-05-30T01:32:52.640342Z",
     "shell.execute_reply": "2021-05-30T01:32:52.640342Z",
     "shell.execute_reply.started": "2021-05-30T01:32:51.572200Z"
    }
   },
   "outputs": [
    {
     "data": {
      "text/plain": [
       "-0.2129459369317149"
      ]
     },
     "execution_count": 16,
     "metadata": {},
     "output_type": "execute_result"
    }
   ],
   "source": [
    "fun2(pars)"
   ]
  },
  {
   "cell_type": "code",
   "execution_count": 17,
   "metadata": {
    "execution": {
     "iopub.execute_input": "2021-05-30T01:32:52.642336Z",
     "iopub.status.busy": "2021-05-30T01:32:52.641339Z",
     "iopub.status.idle": "2021-05-30T01:32:52.691207Z",
     "shell.execute_reply": "2021-05-30T01:32:52.690210Z",
     "shell.execute_reply.started": "2021-05-30T01:32:52.642336Z"
    }
   },
   "outputs": [
    {
     "data": {
      "text/plain": [
       "(-0.214956492657136+2.7755575615628914e-17j)"
      ]
     },
     "execution_count": 17,
     "metadata": {},
     "output_type": "execute_result"
    }
   ],
   "source": [
    "Hamiltonian = qubit_op.to_matrix()\n",
    "qc_state = ansatz.assign_parameters(pars)\n",
    "qc_state.save_statevector()\n",
    "state = backend_sim.run(qc_state).result().get_statevector()\n",
    "np.vdot( state, Hamiltonian@state )"
   ]
  },
  {
   "cell_type": "code",
   "execution_count": 18,
   "metadata": {
    "execution": {
     "iopub.execute_input": "2021-05-30T01:32:52.693201Z",
     "iopub.status.busy": "2021-05-30T01:32:52.692204Z",
     "iopub.status.idle": "2021-05-30T01:32:59.530910Z",
     "shell.execute_reply": "2021-05-30T01:32:59.529912Z",
     "shell.execute_reply.started": "2021-05-30T01:32:52.693201Z"
    }
   },
   "outputs": [
    {
     "name": "stdout",
     "output_type": "stream",
     "text": [
      "Exact electronic energy -1.0887061050307454\n"
     ]
    }
   ],
   "source": [
    "def exact_diagonalizer(problem, converter):\n",
    "    solver = NumPyMinimumEigensolverFactory()\n",
    "    calc   = GroundStateEigensolver(converter, solver)\n",
    "    result = calc.solve(problem)\n",
    "    return result\n",
    "\n",
    "result_exact = exact_diagonalizer(problem, converter)\n",
    "exact_energy = np.real(result_exact.eigenenergies[0])\n",
    "print(\"Exact electronic energy\", exact_energy)"
   ]
  },
  {
   "cell_type": "code",
   "execution_count": 19,
   "metadata": {
    "execution": {
     "iopub.execute_input": "2021-05-30T01:32:59.531907Z",
     "iopub.status.busy": "2021-05-30T01:32:59.531907Z",
     "iopub.status.idle": "2021-05-30T01:32:59.536893Z",
     "shell.execute_reply": "2021-05-30T01:32:59.536499Z",
     "shell.execute_reply.started": "2021-05-30T01:32:59.531907Z"
    }
   },
   "outputs": [],
   "source": [
    "def callback( evals, params ):  \n",
    "    display(\"{}, {}\".format(len(evaluations),evals))\n",
    "    clear_output(wait=True)\n",
    "    parameters.append(params)\n",
    "    evaluations.append(evals)\n",
    "\n",
    "parameters  = []\n",
    "evaluations = []\n",
    "\n",
    "fun = lambda pars : Objective( pars, qc , callback, backend_noise )\n",
    "\n",
    "optimizer = SPSA( maxiter=300, last_avg=25 )"
   ]
  },
  {
   "cell_type": "code",
   "execution_count": 20,
   "metadata": {
    "execution": {
     "iopub.execute_input": "2021-05-30T01:32:59.537891Z",
     "iopub.status.busy": "2021-05-30T01:32:59.537891Z",
     "iopub.status.idle": "2021-05-30T01:59:46.556883Z",
     "shell.execute_reply": "2021-05-30T01:59:46.556883Z",
     "shell.execute_reply.started": "2021-05-30T01:32:59.537891Z"
    }
   },
   "outputs": [
    {
     "data": {
      "text/plain": [
       "'650, -1.0314680666144007'"
      ]
     },
     "metadata": {},
     "output_type": "display_data"
    }
   ],
   "source": [
    "results = optimizer.optimize( num_var, fun, initial_point=pars )"
   ]
  },
  {
   "cell_type": "code",
   "execution_count": 21,
   "metadata": {
    "execution": {
     "iopub.execute_input": "2021-05-30T01:59:46.558903Z",
     "iopub.status.busy": "2021-05-30T01:59:46.558903Z",
     "iopub.status.idle": "2021-05-30T01:59:46.565858Z",
     "shell.execute_reply": "2021-05-30T01:59:46.564860Z",
     "shell.execute_reply.started": "2021-05-30T01:59:46.558903Z"
    }
   },
   "outputs": [
    {
     "data": {
      "text/plain": [
       "(array([ 1.44349824e-01,  1.51342197e+00,  4.73330142e+00, -1.59273471e+00,\n",
       "        -7.00476083e+00,  2.59816783e-03, -3.14334589e+00, -3.15638122e+00,\n",
       "         1.60929778e-01,  4.66481252e+00, -1.57060167e+00, -1.57543874e+00,\n",
       "         2.25935263e+00,  4.71125283e+00,  5.46801487e+00, -4.69586878e+00]),\n",
       " -1.0314680666144007,\n",
       " 600)"
      ]
     },
     "execution_count": 21,
     "metadata": {},
     "output_type": "execute_result"
    }
   ],
   "source": [
    "results"
   ]
  },
  {
   "cell_type": "code",
   "execution_count": 22,
   "metadata": {
    "execution": {
     "iopub.execute_input": "2021-05-30T01:59:46.566855Z",
     "iopub.status.busy": "2021-05-30T01:59:46.566855Z",
     "iopub.status.idle": "2021-05-30T01:59:46.572839Z",
     "shell.execute_reply": "2021-05-30T01:59:46.572839Z",
     "shell.execute_reply.started": "2021-05-30T01:59:46.566855Z"
    }
   },
   "outputs": [
    {
     "data": {
      "text/plain": [
       "651"
      ]
     },
     "execution_count": 22,
     "metadata": {},
     "output_type": "execute_result"
    }
   ],
   "source": [
    "len( evaluations )"
   ]
  },
  {
   "cell_type": "code",
   "execution_count": 23,
   "metadata": {
    "execution": {
     "iopub.execute_input": "2021-05-30T01:59:46.574834Z",
     "iopub.status.busy": "2021-05-30T01:59:46.573837Z",
     "iopub.status.idle": "2021-05-30T01:59:46.699529Z",
     "shell.execute_reply": "2021-05-30T01:59:46.698536Z",
     "shell.execute_reply.started": "2021-05-30T01:59:46.574834Z"
    }
   },
   "outputs": [
    {
     "data": {
      "text/plain": [
       "[<matplotlib.lines.Line2D at 0x2956c519408>]"
      ]
     },
     "execution_count": 23,
     "metadata": {},
     "output_type": "execute_result"
    },
    {
     "data": {
      "image/png": "[encoded data removed]",
      "text/plain": [
       "<Figure size 432x288 with 1 Axes>"
      ]
     },
     "metadata": {
      "needs_background": "light"
     },
     "output_type": "display_data"
    }
   ],
   "source": [
    "plt.plot(evaluations,'-o')"
   ]
  },
  {
   "cell_type": "code",
   "execution_count": 24,
   "metadata": {
    "execution": {
     "iopub.execute_input": "2021-05-30T01:59:46.700526Z",
     "iopub.status.busy": "2021-05-30T01:59:46.700526Z",
     "iopub.status.idle": "2021-05-30T01:59:46.708477Z",
     "shell.execute_reply": "2021-05-30T01:59:46.707512Z",
     "shell.execute_reply.started": "2021-05-30T01:59:46.700526Z"
    }
   },
   "outputs": [],
   "source": [
    "np.save( 'sim_noise_params_rep1', np.array(parameters) )\n",
    "np.save( 'sim_noise_energy_rep1', np.array(evaluations) )"
   ]
  },
  {
   "cell_type": "code",
   "execution_count": null,
   "metadata": {},
   "outputs": [],
   "source": []
  },
  {
   "cell_type": "code",
   "execution_count": null,
   "metadata": {},
   "outputs": [],
   "source": []
  },
  {
   "cell_type": "code",
   "execution_count": null,
   "metadata": {},
   "outputs": [],
   "source": []
  },
  {
   "cell_type": "code",
   "execution_count": 2,
   "metadata": {
    "execution": {
     "iopub.execute_input": "2021-05-31T11:47:44.004550Z",
     "iopub.status.busy": "2021-05-31T11:47:44.003560Z",
     "iopub.status.idle": "2021-05-31T11:47:44.036465Z",
     "shell.execute_reply": "2021-05-31T11:47:44.035664Z",
     "shell.execute_reply.started": "2021-05-31T11:47:44.004550Z"
    }
   },
   "outputs": [],
   "source": [
    "F = [-1.9933792581873249, -1.6550700937983223, -1.676321959962387, -1.9426267725701503, -1.517824451345494, -1.952561140151579, -1.494377267797823, -1.8820203014218233, -1.9077282248434408, -1.5445878075682757, -1.5481860346844882, -1.821284898180879, -1.8036872894428015, -1.5647862921706222, -1.274354720353787, -1.7316201670022666, -0.8788327182938768, -0.8995657814668836, -1.0375658981288467, -1.0250619866889386, -1.8656245561964995, -1.2904387360113052, -1.292706344290027, -0.8454567602539662, -0.6294123355792686, -1.3467951989517193, -1.9228968065276604, -1.4772654363347768, -1.084126377624762, -1.0015693612790324, -0.8315918984824449, -1.2080905711623164, -1.4877170470020005, -1.8250892437873651, -0.9353763104742613, -0.9636969742540176, -1.0165005462795413, -0.9684744068519145, -1.4385756978345805, -1.8972234621087574, -1.4105498822893983, -1.9552291010504819, -1.8067673089421543, -1.481753003583416, -1.2938129466089137, -0.699550772371212, -1.0952594651356449, -1.0583976194706763, -1.7793206943175512, -1.489883187787827, -1.4692283797690548, -1.784487039576422, -3.11329760259875, -2.3140889254676273, -3.6287509823318866, -3.162632004304565, -3.52037207417133, -3.8695360015021465, -3.256712746251054, -4.470246942146149, -3.0060373788244057, -3.2843040389567992, -2.965571191863911, -3.645856418069292, -4.180964118907917, -3.697163827337713, -4.5447862872099085, -3.5919219495624013, -4.165061586247675, -4.296126211942877, -4.3925264753691495, -4.1797310367614084, -3.9086604164345022, -4.502454128736257, -4.656436458148853, -3.9661040341097245, -4.107946431161961, -3.9848523338357404, -3.833902693281653, -4.462180973502574, -3.7773741140886012, -4.714208428733224, -3.96273782646118, -3.0598922433483478, -3.6381070360850196, -4.589548412954737, -4.138575666543778, -4.182989260313181, -4.581543014607178, -3.5837951756267254, -4.505320583537177, -5.0071327763478175, -4.642718065191729, -4.651445455083323, -4.318223235828724, -5.19576407783542, -4.62343449469968, -4.987248791822046, -4.719468963721089, -4.7195426857046385, -4.5968743204637175, -5.2164254169334825, -4.933597837977029, -5.3676779933721965, -5.746066887175846, -4.77359786964996, -5.35795718330889, -5.462969484830785, -5.237308757107121, -5.703102158626203, -5.148315043500316, -6.094202793850118, -5.670538068320766, -5.232713637215165, -5.395558378438022, -5.366555405287796, -5.227694839952869, -5.533397323564809, -5.118251960497883, -5.791249386778762, -5.782329982940055, -5.715321812384343, -6.067979521657034, -5.410229352265843, -5.7463813650092925, -6.0546499693160145, -6.311469505137478, -5.478096178521609, -6.328824130850367, -5.983866063374041, -5.988022593355597, -6.352407887242552, -5.923596224960655, -6.042533804855225, -5.596058566689651, -6.622558658188812, -6.255362247579349, -6.670829184825495, -6.516643462339682, -6.331004356044579, -6.830016288001502, -6.083565995957752, -6.558891638396563, -6.742918634107086, -6.447675835266706, -6.813582914678946, -6.748431004065757, -6.771355035319172, -6.906397317489539, -6.659152736502856, -6.680812611822234, -7.0019076700548935, -6.809907219442879, -7.008094670853922, -6.392869936939573, -7.036843412958079, -7.003931667616758, -6.468961009295699, -6.7626933577305115, -6.710862689709369, -6.336405859417667, -7.164796860427525, -7.019885207690296, -6.835411563801986, -6.864199136278763, -6.7739715118038495, -6.69193704065792, -6.866597812289904, -6.652388896901087, -7.1835162432154425, -6.856406295293679, -7.121690625768297, -7.092999034492004, -6.850827710397002, -7.175287716592138, -6.993308798538261, -7.06963189601329, -7.018666406663497, -7.061352240396198, -7.208444021577087, -7.0455323396790455, -7.031589156650982, -6.789245559681554, -7.181268643663977, -7.0701100783688915, -7.254016467700835, -6.997326338646344, -7.241680060964678, -6.966471344675132, -7.145767448746229, -7.293701109457636, -6.931038875229017, -7.189497882135789, -6.9920097432542905, -7.247779229299038, -6.991596834999514, -7.1223380146847, -7.0370374653621806, -7.243866154095605, -7.194749911755868, -7.212750708708178, -7.209130349046713, -7.2114509657571, -7.224690229754911, -7.1966800802033495, -7.040250822679546, -7.214012714855839, -7.199583970470244, -7.237368172804722, -7.074579310307138, -7.167219129441633, -7.344450832795903, -7.216890660532714, -7.240983449815417, -7.239799133597213, -6.98180220239748, -7.215464706666828, -7.217849503958443, -7.480955540508984, -6.957862833491332, -7.365658736156798, -7.221000911402168, -7.2878162194103195, -7.072478771569871, -7.391377736417728, -7.200543255534717, -7.377674620089888, -7.19775077504247, -7.2374173879592725, -7.549535942840725, -7.573830754451855, -7.245031169953695, -7.49786673398442, -7.264574839835168, -7.635459053920329, -7.2740467693248485, -7.3817504822806566, -7.53745614698374, -7.449144219262602, -7.595351615049595, -7.505962128608989, -7.51716452658607, -7.407032448414876, -7.355804983955566, -7.243083704366398, -7.367109220361064, -7.431680749885574, -7.378566435257588, -7.464086956019032, -7.3975245019467195, -7.352914796996826, -7.410515511791234, -7.466328462373319, -7.236960028833875, -7.3168379296296315, -7.315079034778285, -7.375026084342542, -7.524360944843881, -7.296517165041882, -7.319659720172725, -7.50620105114624, -7.499005426190598, -7.514820723379592, -7.282995646361661, -7.47447308767084, -7.373031461541417, -7.446565408504165, -7.367556985153253, -7.442829984441937, -7.544578138880618, -7.514980611589758, -7.599977354387478, -7.52221686647181, -7.582386073967334, -7.6221760628755915, -7.671719227194313, -7.687550950648108, -7.598214856966328, -7.466380694021991, -7.492296102605013, -7.5401703112335206, -7.6339859993847625, -7.648328531001729, -7.451541917447027, -7.757946430270573, -7.655946987235059, -7.616308057519479, -7.691401545753611, -7.666002676698699, -7.52767013128919, -7.5362325249344515, -7.712772362770771, -7.73912840058235, -7.536228918540985, -7.650928046333662, -7.7788825162667345, -7.604841396484032, -7.581983329889963, -7.671998574524922, -7.580295471236884, -7.574097341069146, -7.606560866653769, -7.583578050288212, -7.650733066447964, -7.681141076561817, -7.641591734833924, -7.567362106678014, -7.6535265871314575, -7.52676467784947, -7.586179938569869, -7.494848549036865, -7.623250649092266, -7.597940834520087, -7.577313697510577, -7.661797846563942, -7.635268444705707, -7.561350342203746, -7.58853103326157, -7.768583858341612, -7.576879141887241, -7.575076703912462, -7.616428115199027, -7.636587117948656, -7.571358116910493, -7.491116638418793, -7.683627189603271, -7.7118373444502595, -7.575866886586663, -7.627661690239592, -7.632051802040635, -7.758862463163134, -7.616760806976185, -7.6842380049661365, -7.6806945245389, -7.653133754373271, -7.668479422608128, -7.597163638336989, -7.763998705334547, -7.658647226833983, -7.627299046777108, -7.670663885333307, -7.693468409194459, -7.687342096777604, -7.721803269379686, -7.710762264213609, -7.664591198525417, -7.518817160854935, -7.5795505878189875, -7.7229819581026815, -7.7023386147199995, -7.769308288344124]"
   ]
  },
  {
   "cell_type": "code",
   "execution_count": 4,
   "metadata": {
    "execution": {
     "iopub.execute_input": "2021-05-31T14:16:07.771015Z",
     "iopub.status.busy": "2021-05-31T14:16:07.768007Z",
     "iopub.status.idle": "2021-05-31T14:16:08.003379Z",
     "shell.execute_reply": "2021-05-31T14:16:08.002381Z",
     "shell.execute_reply.started": "2021-05-31T14:16:07.771015Z"
    }
   },
   "outputs": [
    {
     "data": {
      "image/png": "[encoded data removed]",
      "text/plain": [
       "<Figure size 432x288 with 1 Axes>"
      ]
     },
     "metadata": {
      "needs_background": "light"
     },
     "output_type": "display_data"
    }
   ],
   "source": [
    "plt.plot(F)\n",
    "plt.grid()"
   ]
  },
  {
   "cell_type": "code",
   "execution_count": null,
   "metadata": {},
   "outputs": [],
   "source": []
  }
 ],
 "metadata": {
  "kernelspec": {
   "display_name": "Python 3",
   "language": "python",
   "name": "python3"
  },
  "language_info": {
   "codemirror_mode": {
    "name": "ipython",
    "version": 3
   },
   "file_extension": ".py",
   "mimetype": "text/x-python",
   "name": "python",
   "nbconvert_exporter": "python",
   "pygments_lexer": "ipython3",
   "version": "3.7.7"
  }
 },
 "nbformat": 4,
 "nbformat_minor": 4
}
