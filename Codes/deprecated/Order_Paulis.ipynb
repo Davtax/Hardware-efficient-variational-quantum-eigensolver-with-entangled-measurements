{
 "cells": [
  {
   "cell_type": "code",
   "execution_count": 1,
   "metadata": {
    "execution": {
     "iopub.execute_input": "2021-05-27T13:19:45.619817Z",
     "iopub.status.busy": "2021-05-27T13:19:45.619567Z",
     "iopub.status.idle": "2021-05-27T13:19:46.223769Z",
     "shell.execute_reply": "2021-05-27T13:19:46.223409Z",
     "shell.execute_reply.started": "2021-05-27T13:19:45.619745Z"
    },
    "tags": []
   },
   "outputs": [],
   "source": [
    "import numpy as np\n",
    "from itertools import product, permutations\n",
    "from tqdm.notebook import tqdm\n",
    "from multiprocessing import Pool\n",
    "from GroupingAlgorithms import grouping\n",
    "import matplotlib.pyplot as plt\n",
    "\n",
    "import warnings\n",
    "warnings.simplefilter(action='ignore', category=FutureWarning)"
   ]
  },
  {
   "cell_type": "code",
   "execution_count": 2,
   "metadata": {
    "execution": {
     "iopub.execute_input": "2021-05-27T13:19:46.616941Z",
     "iopub.status.busy": "2021-05-27T13:19:46.616725Z",
     "iopub.status.idle": "2021-05-27T13:19:46.624113Z",
     "shell.execute_reply": "2021-05-27T13:19:46.623590Z",
     "shell.execute_reply.started": "2021-05-27T13:19:46.616916Z"
    },
    "tags": []
   },
   "outputs": [],
   "source": [
    "def sort_solution(data):\n",
    "    \"\"\"\n",
    "    Function to sort the data obtained for a parallel computation\n",
    "    :param data: (list) List in which each entry represents one solution of the parallel computation. The elements are\n",
    "    also list which contains in the first element the index and in the second one the result of the computation.\n",
    "    :return: (list) List with the data sorted\n",
    "    \"\"\"\n",
    "    n = len(data)  # Extract the number of computations done\n",
    "    sorted_sol = [None] * n  # Empty list with the correct number of elements\n",
    "    for i in range(n):  # Iterate over all the elements\n",
    "        index = data[i][0]  # Obtain the index of the result\n",
    "        temp = data[i][1]  # Obtain the result\n",
    "        sorted_sol[index] = temp  # Save the result in the correct element\n",
    "\n",
    "    return sorted_sol\n",
    "    \n",
    "def unpack_functions(pack):\n",
    "    if len(pack) < 4:\n",
    "        pack.append({})\n",
    "    return [pack[0], pack[1](*pack[2], **pack[3])]\n",
    "    \n",
    "def n_groups(seed, random_order=True, basis=[4, 6, 7, 8, 9, 5, 3, 2, 1]):\n",
    "    if random_order:\n",
    "        np.random.seed(seed)\n",
    "        np.random.shuffle(order)\n",
    "        Groups, _ = grouping(PS[order], basis, WC)\n",
    "        return len(Groups), order\n",
    "    else:\n",
    "        Groups, _ = grouping(PS, basis, WC)\n",
    "        return len(Groups)"
   ]
  },
  {
   "cell_type": "code",
   "execution_count": 3,
   "metadata": {
    "execution": {
     "iopub.execute_input": "2021-05-27T13:19:50.916877Z",
     "iopub.status.busy": "2021-05-27T13:19:50.916665Z",
     "iopub.status.idle": "2021-05-27T13:19:50.920808Z",
     "shell.execute_reply": "2021-05-27T13:19:50.920361Z",
     "shell.execute_reply.started": "2021-05-27T13:19:50.916853Z"
    },
    "tags": []
   },
   "outputs": [],
   "source": [
    "num_qubits = 4\n",
    "WC = list(range(num_qubits))\n",
    "WC = list(permutations(list(range(num_qubits)), 2))\n",
    "\n",
    "PS = np.array(list(product([0, 1, 2, 3], repeat=num_qubits)))\n",
    "order = np.arange(num_qubits ** 4)"
   ]
  },
  {
   "cell_type": "markdown",
   "metadata": {},
   "source": [
    "# Order Paulis"
   ]
  },
  {
   "cell_type": "code",
   "execution_count": 4,
   "metadata": {
    "execution": {
     "iopub.execute_input": "2021-05-27T13:19:54.483371Z",
     "iopub.status.busy": "2021-05-27T13:19:54.483174Z",
     "iopub.status.idle": "2021-05-27T13:20:43.211528Z",
     "shell.execute_reply": "2021-05-27T13:20:43.211143Z",
     "shell.execute_reply.started": "2021-05-27T13:19:54.483350Z"
    },
    "tags": []
   },
   "outputs": [
    {
     "data": {
      "application/vnd.jupyter.widget-view+json": {
       "model_id": "c3cea44f4ec94a6b96d3262a8585b4cf",
       "version_major": 2,
       "version_minor": 0
      },
      "text/plain": [
       "  0%|          | 0/1000 [00:00<?, ?it/s]"
      ]
     },
     "metadata": {},
     "output_type": "display_data"
    },
    {
     "name": "stdout",
     "output_type": "stream",
     "text": [
      "Minimum number of groups: 34\n",
      "Maximum number of groups: 48\n"
     ]
    }
   ],
   "source": [
    "n = 1000\n",
    "args = []\n",
    "results = []\n",
    "\n",
    "for i in range(n):\n",
    "    args.append([i, n_groups, [i]])\n",
    "    \n",
    "pbar = tqdm(total=n)\n",
    "pool = Pool()\n",
    "for i, result in enumerate(pool.imap_unordered(unpack_functions, args, chunksize=1), 1): \n",
    "        results.append(result) # Save the result\n",
    "        pbar.update() #Update the progress bar\n",
    "        \n",
    "pool.terminate()\n",
    "pbar.close()\n",
    "results = sort_solution(results) # Sort the asyn results\n",
    "\n",
    "number_grups = []\n",
    "orders = []\n",
    "for result in results:\n",
    "    number_grups.append(result[0])\n",
    "    orders.append(result[1])\n",
    "    \n",
    "results = None\n",
    "\n",
    "print('Minimum number of groups:', min(number_grups))\n",
    "print('Maximum number of groups:', max(number_grups))"
   ]
  },
  {
   "cell_type": "code",
   "execution_count": 5,
   "metadata": {
    "execution": {
     "iopub.execute_input": "2021-05-27T13:20:43.212338Z",
     "iopub.status.busy": "2021-05-27T13:20:43.212230Z",
     "iopub.status.idle": "2021-05-27T13:20:43.214281Z",
     "shell.execute_reply": "2021-05-27T13:20:43.214024Z",
     "shell.execute_reply.started": "2021-05-27T13:20:43.212323Z"
    },
    "tags": []
   },
   "outputs": [],
   "source": [
    "pool.terminate()"
   ]
  },
  {
   "cell_type": "code",
   "execution_count": 6,
   "metadata": {
    "execution": {
     "iopub.execute_input": "2021-05-27T13:20:43.214946Z",
     "iopub.status.busy": "2021-05-27T13:20:43.214855Z",
     "iopub.status.idle": "2021-05-27T13:20:43.313162Z",
     "shell.execute_reply": "2021-05-27T13:20:43.312813Z",
     "shell.execute_reply.started": "2021-05-27T13:20:43.214934Z"
    },
    "tags": []
   },
   "outputs": [
    {
     "data": {
      "text/plain": [
       "<matplotlib.collections.LineCollection at 0x7f191603af40>"
      ]
     },
     "execution_count": 6,
     "metadata": {},
     "output_type": "execute_result"
    },
    {
     "data": {
      "image/png": "[encoded data removed]",
      "text/plain": [
       "<Figure size 432x288 with 1 Axes>"
      ]
     },
     "metadata": {
      "needs_background": "light"
     },
     "output_type": "display_data"
    }
   ],
   "source": [
    "plt.plot(number_grups, 'o')\n",
    "plt.hlines(min(number_grups), 0, n, ls='--')\n",
    "plt.hlines(max(number_grups), 0, n, ls='--')"
   ]
  },
  {
   "cell_type": "code",
   "execution_count": 7,
   "metadata": {
    "execution": {
     "iopub.execute_input": "2021-05-27T13:20:43.313961Z",
     "iopub.status.busy": "2021-05-27T13:20:43.313861Z",
     "iopub.status.idle": "2021-05-27T13:20:43.391339Z",
     "shell.execute_reply": "2021-05-27T13:20:43.391035Z",
     "shell.execute_reply.started": "2021-05-27T13:20:43.313948Z"
    },
    "tags": []
   },
   "outputs": [
    {
     "data": {
      "image/png": "[encoded data removed]",
      "text/plain": [
       "<Figure size 432x288 with 1 Axes>"
      ]
     },
     "metadata": {
      "needs_background": "light"
     },
     "output_type": "display_data"
    }
   ],
   "source": [
    "num_bins = max(number_grups) - min(number_grups)\n",
    "plt.hist(number_grups, num_bins);"
   ]
  },
  {
   "cell_type": "markdown",
   "metadata": {},
   "source": [
    "# Order basis"
   ]
  },
  {
   "cell_type": "code",
   "execution_count": 10,
   "metadata": {
    "execution": {
     "iopub.execute_input": "2021-05-27T13:21:40.151014Z",
     "iopub.status.busy": "2021-05-27T13:21:40.150793Z",
     "iopub.status.idle": "2021-05-27T13:22:30.141560Z",
     "shell.execute_reply": "2021-05-27T13:22:30.141251Z",
     "shell.execute_reply.started": "2021-05-27T13:21:40.150990Z"
    },
    "tags": []
   },
   "outputs": [
    {
     "data": {
      "application/vnd.jupyter.widget-view+json": {
       "model_id": "d220380e001c41efa925a0463a78121a",
       "version_major": 2,
       "version_minor": 0
      },
      "text/plain": [
       "  0%|          | 0/1000 [00:00<?, ?it/s]"
      ]
     },
     "metadata": {},
     "output_type": "display_data"
    },
    {
     "name": "stdout",
     "output_type": "stream",
     "text": [
      "Minimum number of groups: 39\n",
      "Maximum number of groups: 40\n"
     ]
    }
   ],
   "source": [
    "order = orders[np.argmin(number_grups)]\n",
    "PS = np.array(list(product([0, 1, 2, 3], repeat=num_qubits)))[order]\n",
    "\n",
    "groups_basis = list(permutations([1, 2, 3, 4, 5, 6, 7, 8, 9], 9))\n",
    "n = len(groups_basis)\n",
    "args = []\n",
    "results = []\n",
    "\n",
    "for i in range(n):\n",
    "    args.append([i, n_groups, [i], {'basis': groups_basis[i], 'random_order': False}])\n",
    "    \n",
    "pbar = tqdm(total=n)\n",
    "pool = Pool()\n",
    "for i, result in enumerate(pool.imap_unordered(unpack_functions, args, chunksize=1), 1): \n",
    "        results.append(result) # Save the result\n",
    "        pbar.update() #Update the progress bar\n",
    "        \n",
    "pool.terminate()\n",
    "pbar.close()\n",
    "results = np.array(sort_solution(results)) # Sort the asyn results\n",
    "\n",
    "print('Minimum number of groups:', min(results))\n",
    "print('Maximum number of groups:', max(results))"
   ]
  },
  {
   "cell_type": "code",
   "execution_count": 11,
   "metadata": {
    "execution": {
     "iopub.execute_input": "2021-05-27T13:22:34.214904Z",
     "iopub.status.busy": "2021-05-27T13:22:34.214614Z",
     "iopub.status.idle": "2021-05-27T13:22:34.218195Z",
     "shell.execute_reply": "2021-05-27T13:22:34.217621Z",
     "shell.execute_reply.started": "2021-05-27T13:22:34.214870Z"
    },
    "tags": []
   },
   "outputs": [],
   "source": [
    "pool.terminate()"
   ]
  },
  {
   "cell_type": "code",
   "execution_count": 12,
   "metadata": {
    "execution": {
     "iopub.execute_input": "2021-05-27T13:22:34.567989Z",
     "iopub.status.busy": "2021-05-27T13:22:34.567791Z",
     "iopub.status.idle": "2021-05-27T13:22:34.644188Z",
     "shell.execute_reply": "2021-05-27T13:22:34.643825Z",
     "shell.execute_reply.started": "2021-05-27T13:22:34.567966Z"
    },
    "tags": []
   },
   "outputs": [
    {
     "data": {
      "text/plain": [
       "<matplotlib.collections.LineCollection at 0x7f192d784070>"
      ]
     },
     "execution_count": 12,
     "metadata": {},
     "output_type": "execute_result"
    },
    {
     "data": {
      "image/png": "[encoded data removed]",
      "text/plain": [
       "<Figure size 432x288 with 1 Axes>"
      ]
     },
     "metadata": {
      "needs_background": "light"
     },
     "output_type": "display_data"
    }
   ],
   "source": [
    "plt.plot(results, 'o')\n",
    "plt.hlines(min(results), 0, n, ls='--')\n",
    "plt.hlines(max(results), 0, n, ls='--')"
   ]
  },
  {
   "cell_type": "code",
   "execution_count": 13,
   "metadata": {
    "execution": {
     "iopub.execute_input": "2021-05-27T13:22:36.779594Z",
     "iopub.status.busy": "2021-05-27T13:22:36.779375Z",
     "iopub.status.idle": "2021-05-27T13:22:36.841232Z",
     "shell.execute_reply": "2021-05-27T13:22:36.840889Z",
     "shell.execute_reply.started": "2021-05-27T13:22:36.779570Z"
    },
    "tags": []
   },
   "outputs": [
    {
     "data": {
      "image/png": "[encoded data removed]",
      "text/plain": [
       "<Figure size 432x288 with 1 Axes>"
      ]
     },
     "metadata": {
      "needs_background": "light"
     },
     "output_type": "display_data"
    }
   ],
   "source": [
    "num_bins = max(results) - min(results)\n",
    "plt.hist(results, num_bins);"
   ]
  },
  {
   "cell_type": "code",
   "execution_count": 14,
   "metadata": {
    "execution": {
     "iopub.execute_input": "2021-05-27T13:22:45.321169Z",
     "iopub.status.busy": "2021-05-27T13:22:45.320949Z",
     "iopub.status.idle": "2021-05-27T13:22:45.352673Z",
     "shell.execute_reply": "2021-05-27T13:22:45.352357Z",
     "shell.execute_reply.started": "2021-05-27T13:22:45.321144Z"
    },
    "scrolled": true,
    "tags": []
   },
   "outputs": [
    {
     "name": "stdout",
     "output_type": "stream",
     "text": [
      "The best basis orders are:\n",
      "(9, 8, 1, 2, 4, 3, 5, 6, 7)\n",
      "(9, 8, 1, 2, 4, 3, 5, 7, 6)\n",
      "(9, 8, 1, 2, 4, 3, 6, 5, 7)\n",
      "(9, 8, 1, 2, 4, 3, 6, 7, 5)\n",
      "(9, 8, 1, 2, 4, 3, 7, 5, 6)\n",
      "(9, 8, 1, 2, 4, 3, 7, 6, 5)\n",
      "(9, 8, 1, 2, 4, 5, 3, 6, 7)\n",
      "(9, 8, 1, 2, 4, 5, 3, 7, 6)\n",
      "(9, 8, 1, 2, 4, 5, 6, 3, 7)\n",
      "(9, 8, 1, 2, 4, 5, 6, 7, 3)\n",
      "(9, 8, 1, 2, 4, 5, 7, 3, 6)\n",
      "(9, 8, 1, 2, 4, 5, 7, 6, 3)\n",
      "(9, 8, 1, 2, 4, 6, 3, 5, 7)\n",
      "(9, 8, 1, 2, 4, 6, 3, 7, 5)\n",
      "(9, 8, 1, 2, 4, 6, 5, 3, 7)\n",
      "(9, 8, 1, 2, 4, 6, 5, 7, 3)\n",
      "(9, 8, 1, 2, 4, 6, 7, 3, 5)\n",
      "(9, 8, 1, 2, 4, 6, 7, 5, 3)\n",
      "(9, 8, 1, 2, 4, 7, 3, 5, 6)\n",
      "(9, 8, 1, 2, 4, 7, 3, 6, 5)\n",
      "(9, 8, 1, 2, 4, 7, 5, 3, 6)\n",
      "(9, 8, 1, 2, 4, 7, 5, 6, 3)\n",
      "(9, 8, 1, 2, 4, 7, 6, 3, 5)\n",
      "(9, 8, 1, 2, 4, 7, 6, 5, 3)\n",
      "(9, 8, 1, 2, 5, 3, 4, 6, 7)\n",
      "(9, 8, 1, 2, 5, 3, 4, 7, 6)\n",
      "(9, 8, 1, 2, 5, 3, 6, 4, 7)\n",
      "(9, 8, 1, 2, 5, 4, 3, 6, 7)\n",
      "(9, 8, 1, 2, 5, 4, 3, 7, 6)\n",
      "(9, 8, 1, 2, 5, 4, 6, 3, 7)\n",
      "(9, 8, 1, 2, 5, 4, 6, 7, 3)\n",
      "(9, 8, 1, 2, 5, 4, 7, 3, 6)\n",
      "(9, 8, 1, 2, 5, 4, 7, 6, 3)\n",
      "(9, 8, 1, 2, 5, 6, 3, 4, 7)\n",
      "(9, 8, 1, 2, 5, 6, 4, 3, 7)\n",
      "(9, 8, 1, 2, 5, 6, 4, 7, 3)\n",
      "(9, 8, 1, 2, 6, 3, 4, 5, 7)\n",
      "(9, 8, 1, 2, 6, 3, 4, 7, 5)\n",
      "(9, 8, 1, 2, 6, 3, 5, 4, 7)\n",
      "(9, 8, 1, 2, 6, 4, 3, 5, 7)\n",
      "(9, 8, 1, 2, 6, 4, 3, 7, 5)\n",
      "(9, 8, 1, 2, 6, 4, 5, 3, 7)\n",
      "(9, 8, 1, 2, 6, 4, 5, 7, 3)\n",
      "(9, 8, 1, 2, 6, 4, 7, 3, 5)\n",
      "(9, 8, 1, 2, 6, 4, 7, 5, 3)\n",
      "(9, 8, 1, 2, 6, 5, 3, 4, 7)\n",
      "(9, 8, 1, 2, 6, 5, 4, 3, 7)\n",
      "(9, 8, 1, 2, 6, 5, 4, 7, 3)\n",
      "(9, 8, 1, 3, 2, 4, 5, 6, 7)\n",
      "(9, 8, 1, 3, 2, 4, 5, 7, 6)\n",
      "(9, 8, 1, 3, 2, 4, 6, 5, 7)\n",
      "(9, 8, 1, 3, 2, 4, 6, 7, 5)\n",
      "(9, 8, 1, 3, 2, 4, 7, 5, 6)\n",
      "(9, 8, 1, 3, 2, 4, 7, 6, 5)\n",
      "(9, 8, 1, 3, 2, 5, 4, 6, 7)\n",
      "(9, 8, 1, 3, 2, 5, 4, 7, 6)\n",
      "(9, 8, 1, 3, 2, 5, 6, 4, 7)\n",
      "(9, 8, 1, 3, 2, 6, 4, 5, 7)\n",
      "(9, 8, 1, 3, 2, 6, 4, 7, 5)\n",
      "(9, 8, 1, 3, 2, 6, 5, 4, 7)\n",
      "(9, 8, 1, 3, 4, 2, 5, 6, 7)\n",
      "(9, 8, 1, 3, 4, 2, 5, 7, 6)\n",
      "(9, 8, 1, 3, 4, 2, 6, 5, 7)\n",
      "(9, 8, 1, 3, 4, 2, 6, 7, 5)\n",
      "(9, 8, 1, 3, 4, 2, 7, 5, 6)\n",
      "(9, 8, 1, 3, 4, 2, 7, 6, 5)\n",
      "(9, 8, 1, 3, 4, 5, 2, 6, 7)\n",
      "(9, 8, 1, 3, 4, 5, 2, 7, 6)\n",
      "(9, 8, 1, 3, 4, 5, 6, 2, 7)\n",
      "(9, 8, 1, 3, 4, 5, 6, 7, 2)\n",
      "(9, 8, 1, 3, 4, 5, 7, 2, 6)\n",
      "(9, 8, 1, 3, 4, 5, 7, 6, 2)\n",
      "(9, 8, 1, 3, 4, 6, 2, 5, 7)\n",
      "(9, 8, 1, 3, 4, 6, 2, 7, 5)\n",
      "(9, 8, 1, 3, 4, 6, 5, 2, 7)\n",
      "(9, 8, 1, 3, 4, 6, 5, 7, 2)\n",
      "(9, 8, 1, 3, 4, 6, 7, 2, 5)\n",
      "(9, 8, 1, 3, 4, 6, 7, 5, 2)\n",
      "(9, 8, 1, 3, 4, 7, 2, 5, 6)\n",
      "(9, 8, 1, 3, 4, 7, 2, 6, 5)\n",
      "(9, 8, 1, 3, 4, 7, 5, 2, 6)\n",
      "(9, 8, 1, 3, 4, 7, 5, 6, 2)\n",
      "(9, 8, 1, 3, 4, 7, 6, 2, 5)\n",
      "(9, 8, 1, 3, 4, 7, 6, 5, 2)\n",
      "(9, 8, 1, 3, 5, 2, 4, 6, 7)\n",
      "(9, 8, 1, 3, 5, 2, 4, 7, 6)\n",
      "(9, 8, 1, 3, 5, 2, 6, 4, 7)\n",
      "(9, 8, 1, 3, 5, 4, 2, 6, 7)\n",
      "(9, 8, 1, 3, 5, 4, 2, 7, 6)\n",
      "(9, 8, 1, 3, 5, 4, 6, 2, 7)\n",
      "(9, 8, 1, 3, 5, 4, 6, 7, 2)\n",
      "(9, 8, 1, 3, 5, 4, 7, 2, 6)\n",
      "(9, 8, 1, 3, 5, 4, 7, 6, 2)\n",
      "(9, 8, 1, 3, 5, 6, 2, 4, 7)\n",
      "(9, 8, 1, 3, 5, 6, 4, 2, 7)\n",
      "(9, 8, 1, 3, 5, 6, 4, 7, 2)\n",
      "(9, 8, 1, 3, 6, 2, 4, 5, 7)\n",
      "(9, 8, 1, 3, 6, 2, 4, 7, 5)\n",
      "(9, 8, 1, 3, 6, 2, 5, 4, 7)\n",
      "(9, 8, 1, 3, 6, 4, 2, 5, 7)\n",
      "(9, 8, 1, 3, 6, 4, 2, 7, 5)\n",
      "(9, 8, 1, 3, 6, 4, 5, 2, 7)\n",
      "(9, 8, 1, 3, 6, 4, 5, 7, 2)\n",
      "(9, 8, 1, 3, 6, 4, 7, 2, 5)\n",
      "(9, 8, 1, 3, 6, 4, 7, 5, 2)\n",
      "(9, 8, 1, 3, 6, 5, 2, 4, 7)\n",
      "(9, 8, 1, 3, 6, 5, 4, 2, 7)\n",
      "(9, 8, 1, 3, 6, 5, 4, 7, 2)\n",
      "(9, 8, 1, 4, 2, 3, 5, 6, 7)\n",
      "(9, 8, 1, 4, 2, 3, 5, 7, 6)\n",
      "(9, 8, 1, 4, 2, 3, 6, 5, 7)\n",
      "(9, 8, 1, 4, 2, 3, 6, 7, 5)\n",
      "(9, 8, 1, 4, 2, 3, 7, 5, 6)\n",
      "(9, 8, 1, 4, 2, 3, 7, 6, 5)\n",
      "(9, 8, 1, 4, 2, 5, 3, 6, 7)\n",
      "(9, 8, 1, 4, 2, 5, 3, 7, 6)\n",
      "(9, 8, 1, 4, 2, 5, 6, 3, 7)\n",
      "(9, 8, 1, 4, 2, 5, 6, 7, 3)\n",
      "(9, 8, 1, 4, 2, 5, 7, 3, 6)\n",
      "(9, 8, 1, 4, 2, 5, 7, 6, 3)\n",
      "(9, 8, 1, 4, 2, 6, 3, 5, 7)\n",
      "(9, 8, 1, 4, 2, 6, 3, 7, 5)\n",
      "(9, 8, 1, 4, 2, 6, 5, 3, 7)\n",
      "(9, 8, 1, 4, 2, 6, 5, 7, 3)\n",
      "(9, 8, 1, 4, 2, 6, 7, 3, 5)\n",
      "(9, 8, 1, 4, 2, 6, 7, 5, 3)\n",
      "(9, 8, 1, 4, 2, 7, 3, 5, 6)\n",
      "(9, 8, 1, 4, 2, 7, 3, 6, 5)\n",
      "(9, 8, 1, 4, 2, 7, 5, 3, 6)\n",
      "(9, 8, 1, 4, 2, 7, 5, 6, 3)\n",
      "(9, 8, 1, 4, 2, 7, 6, 3, 5)\n",
      "(9, 8, 1, 4, 2, 7, 6, 5, 3)\n",
      "(9, 8, 1, 4, 3, 2, 5, 6, 7)\n",
      "(9, 8, 1, 4, 3, 2, 5, 7, 6)\n",
      "(9, 8, 1, 4, 3, 2, 6, 5, 7)\n",
      "(9, 8, 1, 4, 3, 2, 6, 7, 5)\n",
      "(9, 8, 1, 4, 3, 2, 7, 5, 6)\n",
      "(9, 8, 1, 4, 3, 2, 7, 6, 5)\n",
      "(9, 8, 1, 4, 3, 5, 2, 6, 7)\n",
      "(9, 8, 1, 4, 3, 5, 2, 7, 6)\n",
      "(9, 8, 1, 4, 3, 5, 6, 2, 7)\n",
      "(9, 8, 1, 4, 3, 5, 6, 7, 2)\n",
      "(9, 8, 1, 4, 3, 5, 7, 2, 6)\n",
      "(9, 8, 1, 4, 3, 5, 7, 6, 2)\n",
      "(9, 8, 1, 4, 3, 6, 2, 5, 7)\n",
      "(9, 8, 1, 4, 3, 6, 2, 7, 5)\n",
      "(9, 8, 1, 4, 3, 6, 5, 2, 7)\n",
      "(9, 8, 1, 4, 3, 6, 5, 7, 2)\n",
      "(9, 8, 1, 4, 3, 6, 7, 2, 5)\n",
      "(9, 8, 1, 4, 3, 6, 7, 5, 2)\n",
      "(9, 8, 1, 4, 3, 7, 2, 5, 6)\n",
      "(9, 8, 1, 4, 3, 7, 2, 6, 5)\n",
      "(9, 8, 1, 4, 3, 7, 5, 2, 6)\n",
      "(9, 8, 1, 4, 3, 7, 5, 6, 2)\n",
      "(9, 8, 1, 4, 3, 7, 6, 2, 5)\n",
      "(9, 8, 1, 4, 3, 7, 6, 5, 2)\n",
      "(9, 8, 1, 4, 5, 2, 3, 6, 7)\n",
      "(9, 8, 1, 4, 5, 2, 3, 7, 6)\n",
      "(9, 8, 1, 4, 5, 2, 6, 3, 7)\n",
      "(9, 8, 1, 4, 5, 2, 6, 7, 3)\n",
      "(9, 8, 1, 4, 5, 2, 7, 3, 6)\n",
      "(9, 8, 1, 4, 5, 2, 7, 6, 3)\n",
      "(9, 8, 1, 4, 5, 3, 2, 6, 7)\n",
      "(9, 8, 1, 4, 5, 3, 2, 7, 6)\n",
      "(9, 8, 1, 4, 5, 3, 6, 2, 7)\n",
      "(9, 8, 1, 4, 5, 3, 6, 7, 2)\n",
      "(9, 8, 1, 4, 5, 3, 7, 2, 6)\n",
      "(9, 8, 1, 4, 5, 3, 7, 6, 2)\n",
      "(9, 8, 1, 4, 5, 6, 2, 3, 7)\n",
      "(9, 8, 1, 4, 5, 6, 2, 7, 3)\n",
      "(9, 8, 1, 4, 5, 6, 3, 2, 7)\n",
      "(9, 8, 1, 4, 5, 6, 3, 7, 2)\n",
      "(9, 8, 1, 4, 5, 6, 7, 2, 3)\n",
      "(9, 8, 1, 4, 5, 6, 7, 3, 2)\n",
      "(9, 8, 1, 4, 5, 7, 2, 3, 6)\n",
      "(9, 8, 1, 4, 5, 7, 2, 6, 3)\n",
      "(9, 8, 1, 4, 5, 7, 3, 2, 6)\n",
      "(9, 8, 1, 4, 5, 7, 3, 6, 2)\n",
      "(9, 8, 1, 4, 5, 7, 6, 2, 3)\n",
      "(9, 8, 1, 4, 5, 7, 6, 3, 2)\n",
      "(9, 8, 1, 4, 6, 2, 3, 5, 7)\n",
      "(9, 8, 1, 4, 6, 2, 3, 7, 5)\n",
      "(9, 8, 1, 4, 6, 2, 5, 3, 7)\n",
      "(9, 8, 1, 4, 6, 2, 5, 7, 3)\n",
      "(9, 8, 1, 4, 6, 2, 7, 3, 5)\n",
      "(9, 8, 1, 4, 6, 2, 7, 5, 3)\n",
      "(9, 8, 1, 4, 6, 3, 2, 5, 7)\n",
      "(9, 8, 1, 4, 6, 3, 2, 7, 5)\n",
      "(9, 8, 1, 4, 6, 3, 5, 2, 7)\n",
      "(9, 8, 1, 4, 6, 3, 5, 7, 2)\n",
      "(9, 8, 1, 4, 6, 3, 7, 2, 5)\n",
      "(9, 8, 1, 4, 6, 3, 7, 5, 2)\n",
      "(9, 8, 1, 4, 6, 5, 2, 3, 7)\n",
      "(9, 8, 1, 4, 6, 5, 2, 7, 3)\n",
      "(9, 8, 1, 4, 6, 5, 3, 2, 7)\n",
      "(9, 8, 1, 4, 6, 5, 3, 7, 2)\n",
      "(9, 8, 1, 4, 6, 5, 7, 2, 3)\n",
      "(9, 8, 1, 4, 6, 5, 7, 3, 2)\n",
      "(9, 8, 1, 4, 6, 7, 2, 3, 5)\n",
      "(9, 8, 1, 4, 6, 7, 2, 5, 3)\n",
      "(9, 8, 1, 4, 6, 7, 3, 2, 5)\n",
      "(9, 8, 1, 4, 6, 7, 3, 5, 2)\n",
      "(9, 8, 1, 4, 6, 7, 5, 2, 3)\n",
      "(9, 8, 1, 4, 6, 7, 5, 3, 2)\n",
      "(9, 8, 1, 4, 7, 2, 3, 5, 6)\n",
      "(9, 8, 1, 4, 7, 2, 3, 6, 5)\n",
      "(9, 8, 1, 4, 7, 2, 5, 3, 6)\n",
      "(9, 8, 1, 4, 7, 2, 5, 6, 3)\n",
      "(9, 8, 1, 4, 7, 2, 6, 3, 5)\n",
      "(9, 8, 1, 4, 7, 2, 6, 5, 3)\n",
      "(9, 8, 1, 4, 7, 3, 2, 5, 6)\n",
      "(9, 8, 1, 4, 7, 3, 2, 6, 5)\n",
      "(9, 8, 1, 4, 7, 3, 5, 2, 6)\n",
      "(9, 8, 1, 4, 7, 3, 5, 6, 2)\n",
      "(9, 8, 1, 4, 7, 3, 6, 2, 5)\n",
      "(9, 8, 1, 4, 7, 3, 6, 5, 2)\n",
      "(9, 8, 1, 4, 7, 5, 2, 3, 6)\n",
      "(9, 8, 1, 4, 7, 5, 2, 6, 3)\n",
      "(9, 8, 1, 4, 7, 5, 3, 2, 6)\n",
      "(9, 8, 1, 4, 7, 5, 3, 6, 2)\n",
      "(9, 8, 1, 4, 7, 5, 6, 2, 3)\n",
      "(9, 8, 1, 4, 7, 5, 6, 3, 2)\n",
      "(9, 8, 1, 4, 7, 6, 2, 3, 5)\n",
      "(9, 8, 1, 4, 7, 6, 2, 5, 3)\n",
      "(9, 8, 1, 4, 7, 6, 3, 2, 5)\n",
      "(9, 8, 1, 4, 7, 6, 3, 5, 2)\n",
      "(9, 8, 1, 4, 7, 6, 5, 2, 3)\n",
      "(9, 8, 1, 4, 7, 6, 5, 3, 2)\n",
      "(9, 8, 1, 5, 2, 3, 4, 6, 7)\n",
      "(9, 8, 1, 5, 2, 3, 4, 7, 6)\n",
      "(9, 8, 1, 5, 2, 3, 6, 4, 7)\n",
      "(9, 8, 1, 5, 2, 4, 3, 6, 7)\n",
      "(9, 8, 1, 5, 2, 4, 3, 7, 6)\n",
      "(9, 8, 1, 5, 2, 4, 6, 3, 7)\n",
      "(9, 8, 1, 5, 2, 4, 6, 7, 3)\n",
      "(9, 8, 1, 5, 2, 4, 7, 3, 6)\n",
      "(9, 8, 1, 5, 2, 4, 7, 6, 3)\n",
      "(9, 8, 1, 5, 2, 6, 3, 4, 7)\n",
      "(9, 8, 1, 5, 2, 6, 4, 3, 7)\n",
      "(9, 8, 1, 5, 2, 6, 4, 7, 3)\n",
      "(9, 8, 1, 5, 3, 2, 4, 6, 7)\n",
      "(9, 8, 1, 5, 3, 2, 4, 7, 6)\n",
      "(9, 8, 1, 5, 3, 2, 6, 4, 7)\n",
      "(9, 8, 1, 5, 3, 4, 2, 6, 7)\n",
      "(9, 8, 1, 5, 3, 4, 2, 7, 6)\n",
      "(9, 8, 1, 5, 3, 4, 6, 2, 7)\n",
      "(9, 8, 1, 5, 3, 4, 6, 7, 2)\n",
      "(9, 8, 1, 5, 3, 4, 7, 2, 6)\n",
      "(9, 8, 1, 5, 3, 4, 7, 6, 2)\n",
      "(9, 8, 1, 5, 3, 6, 2, 4, 7)\n",
      "(9, 8, 1, 5, 3, 6, 4, 2, 7)\n",
      "(9, 8, 1, 5, 3, 6, 4, 7, 2)\n",
      "(9, 8, 1, 5, 4, 2, 3, 6, 7)\n",
      "(9, 8, 1, 5, 4, 2, 3, 7, 6)\n",
      "(9, 8, 1, 5, 4, 2, 6, 3, 7)\n",
      "(9, 8, 1, 5, 4, 2, 6, 7, 3)\n",
      "(9, 8, 1, 5, 4, 2, 7, 3, 6)\n",
      "(9, 8, 1, 5, 4, 2, 7, 6, 3)\n",
      "(9, 8, 1, 5, 4, 3, 2, 6, 7)\n",
      "(9, 8, 1, 5, 4, 3, 2, 7, 6)\n",
      "(9, 8, 1, 5, 4, 3, 6, 2, 7)\n",
      "(9, 8, 1, 5, 4, 3, 6, 7, 2)\n",
      "(9, 8, 1, 5, 4, 3, 7, 2, 6)\n",
      "(9, 8, 1, 5, 4, 3, 7, 6, 2)\n",
      "(9, 8, 1, 5, 4, 6, 2, 3, 7)\n",
      "(9, 8, 1, 5, 4, 6, 2, 7, 3)\n",
      "(9, 8, 1, 5, 4, 6, 3, 2, 7)\n",
      "(9, 8, 1, 5, 4, 6, 3, 7, 2)\n",
      "(9, 8, 1, 5, 4, 6, 7, 2, 3)\n",
      "(9, 8, 1, 5, 4, 6, 7, 3, 2)\n",
      "(9, 8, 1, 5, 4, 7, 2, 3, 6)\n",
      "(9, 8, 1, 5, 4, 7, 2, 6, 3)\n",
      "(9, 8, 1, 5, 4, 7, 3, 2, 6)\n",
      "(9, 8, 1, 5, 4, 7, 3, 6, 2)\n",
      "(9, 8, 1, 5, 4, 7, 6, 2, 3)\n",
      "(9, 8, 1, 5, 4, 7, 6, 3, 2)\n",
      "(9, 8, 1, 5, 6, 2, 3, 4, 7)\n",
      "(9, 8, 1, 5, 6, 2, 4, 3, 7)\n",
      "(9, 8, 1, 5, 6, 2, 4, 7, 3)\n",
      "(9, 8, 1, 5, 6, 3, 2, 4, 7)\n",
      "(9, 8, 1, 5, 6, 3, 4, 2, 7)\n",
      "(9, 8, 1, 5, 6, 3, 4, 7, 2)\n",
      "(9, 8, 1, 5, 6, 4, 2, 3, 7)\n",
      "(9, 8, 1, 5, 6, 4, 2, 7, 3)\n",
      "(9, 8, 1, 5, 6, 4, 3, 2, 7)\n",
      "(9, 8, 1, 5, 6, 4, 3, 7, 2)\n",
      "(9, 8, 1, 5, 6, 4, 7, 2, 3)\n",
      "(9, 8, 1, 5, 6, 4, 7, 3, 2)\n",
      "(9, 8, 1, 6, 2, 3, 4, 5, 7)\n",
      "(9, 8, 1, 6, 2, 3, 4, 7, 5)\n",
      "(9, 8, 1, 6, 2, 3, 5, 4, 7)\n",
      "(9, 8, 1, 6, 2, 4, 3, 5, 7)\n",
      "(9, 8, 1, 6, 2, 4, 3, 7, 5)\n",
      "(9, 8, 1, 6, 2, 4, 5, 3, 7)\n",
      "(9, 8, 1, 6, 2, 4, 5, 7, 3)\n",
      "(9, 8, 1, 6, 2, 4, 7, 3, 5)\n",
      "(9, 8, 1, 6, 2, 4, 7, 5, 3)\n",
      "(9, 8, 1, 6, 2, 5, 3, 4, 7)\n",
      "(9, 8, 1, 6, 2, 5, 4, 3, 7)\n",
      "(9, 8, 1, 6, 2, 5, 4, 7, 3)\n",
      "(9, 8, 1, 6, 3, 2, 4, 5, 7)\n",
      "(9, 8, 1, 6, 3, 2, 4, 7, 5)\n",
      "(9, 8, 1, 6, 3, 2, 5, 4, 7)\n",
      "(9, 8, 1, 6, 3, 4, 2, 5, 7)\n",
      "(9, 8, 1, 6, 3, 4, 2, 7, 5)\n",
      "(9, 8, 1, 6, 3, 4, 5, 2, 7)\n",
      "(9, 8, 1, 6, 3, 4, 5, 7, 2)\n",
      "(9, 8, 1, 6, 3, 4, 7, 2, 5)\n",
      "(9, 8, 1, 6, 3, 4, 7, 5, 2)\n",
      "(9, 8, 1, 6, 3, 5, 2, 4, 7)\n",
      "(9, 8, 1, 6, 3, 5, 4, 2, 7)\n",
      "(9, 8, 1, 6, 3, 5, 4, 7, 2)\n",
      "(9, 8, 1, 6, 4, 2, 3, 5, 7)\n",
      "(9, 8, 1, 6, 4, 2, 3, 7, 5)\n",
      "(9, 8, 1, 6, 4, 2, 5, 3, 7)\n",
      "(9, 8, 1, 6, 4, 2, 5, 7, 3)\n",
      "(9, 8, 1, 6, 4, 2, 7, 3, 5)\n",
      "(9, 8, 1, 6, 4, 2, 7, 5, 3)\n",
      "(9, 8, 1, 6, 4, 3, 2, 5, 7)\n",
      "(9, 8, 1, 6, 4, 3, 2, 7, 5)\n",
      "(9, 8, 1, 6, 4, 3, 5, 2, 7)\n",
      "(9, 8, 1, 6, 4, 3, 5, 7, 2)\n",
      "(9, 8, 1, 6, 4, 3, 7, 2, 5)\n",
      "(9, 8, 1, 6, 4, 3, 7, 5, 2)\n",
      "(9, 8, 1, 6, 4, 5, 2, 3, 7)\n",
      "(9, 8, 1, 6, 4, 5, 2, 7, 3)\n",
      "(9, 8, 1, 6, 4, 5, 3, 2, 7)\n",
      "(9, 8, 1, 6, 4, 5, 3, 7, 2)\n",
      "(9, 8, 1, 6, 4, 5, 7, 2, 3)\n",
      "(9, 8, 1, 6, 4, 5, 7, 3, 2)\n",
      "(9, 8, 1, 6, 4, 7, 2, 3, 5)\n",
      "(9, 8, 1, 6, 4, 7, 2, 5, 3)\n",
      "(9, 8, 1, 6, 4, 7, 3, 2, 5)\n",
      "(9, 8, 1, 6, 4, 7, 3, 5, 2)\n",
      "(9, 8, 1, 6, 4, 7, 5, 2, 3)\n",
      "(9, 8, 1, 6, 4, 7, 5, 3, 2)\n",
      "(9, 8, 1, 6, 5, 2, 3, 4, 7)\n",
      "(9, 8, 1, 6, 5, 2, 4, 3, 7)\n",
      "(9, 8, 1, 6, 5, 2, 4, 7, 3)\n",
      "(9, 8, 1, 6, 5, 3, 2, 4, 7)\n",
      "(9, 8, 1, 6, 5, 3, 4, 2, 7)\n",
      "(9, 8, 1, 6, 5, 3, 4, 7, 2)\n",
      "(9, 8, 1, 6, 5, 4, 2, 3, 7)\n",
      "(9, 8, 1, 6, 5, 4, 2, 7, 3)\n",
      "(9, 8, 1, 6, 5, 4, 3, 2, 7)\n",
      "(9, 8, 1, 6, 5, 4, 3, 7, 2)\n",
      "(9, 8, 1, 6, 5, 4, 7, 2, 3)\n",
      "(9, 8, 1, 6, 5, 4, 7, 3, 2)\n",
      "(9, 8, 2, 1, 3, 4, 5, 6, 7)\n",
      "(9, 8, 2, 1, 3, 4, 5, 7, 6)\n",
      "(9, 8, 2, 1, 3, 4, 6, 5, 7)\n",
      "(9, 8, 2, 1, 3, 4, 6, 7, 5)\n",
      "(9, 8, 2, 1, 3, 4, 7, 5, 6)\n",
      "(9, 8, 2, 1, 3, 4, 7, 6, 5)\n",
      "(9, 8, 2, 1, 3, 5, 4, 6, 7)\n",
      "(9, 8, 2, 1, 3, 5, 4, 7, 6)\n",
      "(9, 8, 2, 1, 3, 5, 6, 4, 7)\n",
      "(9, 8, 2, 1, 3, 6, 4, 5, 7)\n",
      "(9, 8, 2, 1, 3, 6, 4, 7, 5)\n",
      "(9, 8, 2, 1, 3, 6, 5, 4, 7)\n",
      "(9, 8, 2, 1, 4, 3, 5, 6, 7)\n",
      "(9, 8, 2, 1, 4, 3, 5, 7, 6)\n",
      "(9, 8, 2, 1, 4, 3, 6, 5, 7)\n",
      "(9, 8, 2, 1, 4, 3, 6, 7, 5)\n",
      "(9, 8, 2, 1, 4, 3, 7, 5, 6)\n",
      "(9, 8, 2, 1, 4, 3, 7, 6, 5)\n",
      "(9, 8, 2, 1, 4, 5, 3, 6, 7)\n",
      "(9, 8, 2, 1, 4, 5, 3, 7, 6)\n",
      "(9, 8, 2, 1, 4, 5, 6, 3, 7)\n",
      "(9, 8, 2, 1, 4, 5, 6, 7, 3)\n",
      "(9, 8, 2, 1, 4, 5, 7, 3, 6)\n",
      "(9, 8, 2, 1, 4, 5, 7, 6, 3)\n",
      "(9, 8, 2, 1, 4, 6, 3, 5, 7)\n",
      "(9, 8, 2, 1, 4, 6, 3, 7, 5)\n",
      "(9, 8, 2, 1, 4, 6, 5, 3, 7)\n",
      "(9, 8, 2, 1, 4, 6, 5, 7, 3)\n",
      "(9, 8, 2, 1, 4, 6, 7, 3, 5)\n",
      "(9, 8, 2, 1, 4, 6, 7, 5, 3)\n",
      "(9, 8, 2, 1, 4, 7, 3, 5, 6)\n",
      "(9, 8, 2, 1, 4, 7, 3, 6, 5)\n",
      "(9, 8, 2, 1, 4, 7, 5, 3, 6)\n",
      "(9, 8, 2, 1, 4, 7, 5, 6, 3)\n",
      "(9, 8, 2, 1, 4, 7, 6, 3, 5)\n",
      "(9, 8, 2, 1, 4, 7, 6, 5, 3)\n",
      "(9, 8, 2, 1, 5, 3, 4, 6, 7)\n",
      "(9, 8, 2, 1, 5, 3, 4, 7, 6)\n",
      "(9, 8, 2, 1, 5, 3, 6, 4, 7)\n",
      "(9, 8, 2, 1, 5, 4, 3, 6, 7)\n",
      "(9, 8, 2, 1, 5, 4, 3, 7, 6)\n",
      "(9, 8, 2, 1, 5, 4, 6, 3, 7)\n",
      "(9, 8, 2, 1, 5, 4, 6, 7, 3)\n",
      "(9, 8, 2, 1, 5, 4, 7, 3, 6)\n",
      "(9, 8, 2, 1, 5, 4, 7, 6, 3)\n",
      "(9, 8, 2, 1, 5, 6, 3, 4, 7)\n",
      "(9, 8, 2, 1, 5, 6, 4, 3, 7)\n",
      "(9, 8, 2, 1, 5, 6, 4, 7, 3)\n",
      "(9, 8, 2, 1, 6, 3, 4, 5, 7)\n",
      "(9, 8, 2, 1, 6, 3, 4, 7, 5)\n",
      "(9, 8, 2, 1, 6, 3, 5, 4, 7)\n",
      "(9, 8, 2, 1, 6, 4, 3, 5, 7)\n",
      "(9, 8, 2, 1, 6, 4, 3, 7, 5)\n",
      "(9, 8, 2, 1, 6, 4, 5, 3, 7)\n",
      "(9, 8, 2, 1, 6, 4, 5, 7, 3)\n",
      "(9, 8, 2, 1, 6, 4, 7, 3, 5)\n",
      "(9, 8, 2, 1, 6, 4, 7, 5, 3)\n",
      "(9, 8, 2, 1, 6, 5, 3, 4, 7)\n",
      "(9, 8, 2, 1, 6, 5, 4, 3, 7)\n",
      "(9, 8, 2, 1, 6, 5, 4, 7, 3)\n",
      "(9, 8, 2, 3, 1, 4, 5, 6, 7)\n",
      "(9, 8, 2, 3, 1, 4, 5, 7, 6)\n",
      "(9, 8, 2, 3, 1, 4, 6, 5, 7)\n",
      "(9, 8, 2, 3, 1, 4, 6, 7, 5)\n",
      "(9, 8, 2, 3, 1, 4, 7, 5, 6)\n",
      "(9, 8, 2, 3, 1, 4, 7, 6, 5)\n",
      "(9, 8, 2, 3, 1, 5, 4, 6, 7)\n",
      "(9, 8, 2, 3, 1, 5, 4, 7, 6)\n",
      "(9, 8, 2, 3, 1, 5, 6, 4, 7)\n",
      "(9, 8, 2, 3, 1, 6, 4, 5, 7)\n",
      "(9, 8, 2, 3, 1, 6, 4, 7, 5)\n",
      "(9, 8, 2, 3, 1, 6, 5, 4, 7)\n",
      "(9, 8, 2, 3, 4, 1, 5, 6, 7)\n",
      "(9, 8, 2, 3, 4, 1, 5, 7, 6)\n",
      "(9, 8, 2, 3, 4, 1, 6, 5, 7)\n",
      "(9, 8, 2, 3, 4, 1, 6, 7, 5)\n",
      "(9, 8, 2, 3, 4, 1, 7, 5, 6)\n",
      "(9, 8, 2, 3, 4, 1, 7, 6, 5)\n",
      "(9, 8, 2, 3, 4, 5, 1, 6, 7)\n",
      "(9, 8, 2, 3, 4, 5, 1, 7, 6)\n",
      "(9, 8, 2, 3, 4, 5, 6, 1, 7)\n",
      "(9, 8, 2, 3, 4, 5, 6, 7, 1)\n",
      "(9, 8, 2, 3, 4, 5, 7, 1, 6)\n",
      "(9, 8, 2, 3, 4, 5, 7, 6, 1)\n",
      "(9, 8, 2, 3, 4, 6, 1, 5, 7)\n",
      "(9, 8, 2, 3, 4, 6, 1, 7, 5)\n",
      "(9, 8, 2, 3, 4, 6, 5, 1, 7)\n",
      "(9, 8, 2, 3, 4, 6, 5, 7, 1)\n",
      "(9, 8, 2, 3, 4, 6, 7, 1, 5)\n",
      "(9, 8, 2, 3, 4, 6, 7, 5, 1)\n",
      "(9, 8, 2, 3, 4, 7, 1, 5, 6)\n",
      "(9, 8, 2, 3, 4, 7, 1, 6, 5)\n",
      "(9, 8, 2, 3, 4, 7, 5, 1, 6)\n",
      "(9, 8, 2, 3, 4, 7, 5, 6, 1)\n",
      "(9, 8, 2, 3, 4, 7, 6, 1, 5)\n",
      "(9, 8, 2, 3, 4, 7, 6, 5, 1)\n",
      "(9, 8, 2, 3, 5, 1, 4, 6, 7)\n",
      "(9, 8, 2, 3, 5, 1, 4, 7, 6)\n",
      "(9, 8, 2, 3, 5, 1, 6, 4, 7)\n",
      "(9, 8, 2, 3, 5, 4, 1, 6, 7)\n",
      "(9, 8, 2, 3, 5, 4, 1, 7, 6)\n",
      "(9, 8, 2, 3, 5, 4, 6, 1, 7)\n",
      "(9, 8, 2, 3, 5, 4, 6, 7, 1)\n",
      "(9, 8, 2, 3, 5, 4, 7, 1, 6)\n",
      "(9, 8, 2, 3, 5, 4, 7, 6, 1)\n",
      "(9, 8, 2, 3, 5, 6, 1, 4, 7)\n",
      "(9, 8, 2, 3, 5, 6, 4, 1, 7)\n",
      "(9, 8, 2, 3, 5, 6, 4, 7, 1)\n",
      "(9, 8, 2, 3, 6, 1, 4, 5, 7)\n",
      "(9, 8, 2, 3, 6, 1, 4, 7, 5)\n",
      "(9, 8, 2, 3, 6, 1, 5, 4, 7)\n",
      "(9, 8, 2, 3, 6, 4, 1, 5, 7)\n",
      "(9, 8, 2, 3, 6, 4, 1, 7, 5)\n",
      "(9, 8, 2, 3, 6, 4, 5, 1, 7)\n",
      "(9, 8, 2, 3, 6, 4, 5, 7, 1)\n",
      "(9, 8, 2, 3, 6, 4, 7, 1, 5)\n",
      "(9, 8, 2, 3, 6, 4, 7, 5, 1)\n",
      "(9, 8, 2, 3, 6, 5, 1, 4, 7)\n",
      "(9, 8, 2, 3, 6, 5, 4, 1, 7)\n",
      "(9, 8, 2, 3, 6, 5, 4, 7, 1)\n",
      "(9, 8, 2, 4, 1, 3, 5, 6, 7)\n",
      "(9, 8, 2, 4, 1, 3, 5, 7, 6)\n",
      "(9, 8, 2, 4, 1, 3, 6, 5, 7)\n",
      "(9, 8, 2, 4, 1, 3, 6, 7, 5)\n",
      "(9, 8, 2, 4, 1, 3, 7, 5, 6)\n",
      "(9, 8, 2, 4, 1, 3, 7, 6, 5)\n",
      "(9, 8, 2, 4, 1, 5, 3, 6, 7)\n",
      "(9, 8, 2, 4, 1, 5, 3, 7, 6)\n",
      "(9, 8, 2, 4, 1, 5, 6, 3, 7)\n",
      "(9, 8, 2, 4, 1, 5, 6, 7, 3)\n",
      "(9, 8, 2, 4, 1, 5, 7, 3, 6)\n",
      "(9, 8, 2, 4, 1, 5, 7, 6, 3)\n",
      "(9, 8, 2, 4, 1, 6, 3, 5, 7)\n",
      "(9, 8, 2, 4, 1, 6, 3, 7, 5)\n",
      "(9, 8, 2, 4, 1, 6, 5, 3, 7)\n",
      "(9, 8, 2, 4, 1, 6, 5, 7, 3)\n",
      "(9, 8, 2, 4, 1, 6, 7, 3, 5)\n",
      "(9, 8, 2, 4, 1, 6, 7, 5, 3)\n",
      "(9, 8, 2, 4, 1, 7, 3, 5, 6)\n",
      "(9, 8, 2, 4, 1, 7, 3, 6, 5)\n",
      "(9, 8, 2, 4, 1, 7, 5, 3, 6)\n",
      "(9, 8, 2, 4, 1, 7, 5, 6, 3)\n",
      "(9, 8, 2, 4, 1, 7, 6, 3, 5)\n",
      "(9, 8, 2, 4, 1, 7, 6, 5, 3)\n",
      "(9, 8, 2, 4, 3, 1, 5, 6, 7)\n",
      "(9, 8, 2, 4, 3, 1, 5, 7, 6)\n",
      "(9, 8, 2, 4, 3, 1, 6, 5, 7)\n",
      "(9, 8, 2, 4, 3, 1, 6, 7, 5)\n",
      "(9, 8, 2, 4, 3, 1, 7, 5, 6)\n",
      "(9, 8, 2, 4, 3, 1, 7, 6, 5)\n",
      "(9, 8, 2, 4, 3, 5, 1, 6, 7)\n",
      "(9, 8, 2, 4, 3, 5, 1, 7, 6)\n",
      "(9, 8, 2, 4, 3, 5, 6, 1, 7)\n",
      "(9, 8, 2, 4, 3, 5, 6, 7, 1)\n",
      "(9, 8, 2, 4, 3, 5, 7, 1, 6)\n",
      "(9, 8, 2, 4, 3, 5, 7, 6, 1)\n",
      "(9, 8, 2, 4, 3, 6, 1, 5, 7)\n",
      "(9, 8, 2, 4, 3, 6, 1, 7, 5)\n",
      "(9, 8, 2, 4, 3, 6, 5, 1, 7)\n",
      "(9, 8, 2, 4, 3, 6, 5, 7, 1)\n",
      "(9, 8, 2, 4, 3, 6, 7, 1, 5)\n",
      "(9, 8, 2, 4, 3, 6, 7, 5, 1)\n",
      "(9, 8, 2, 4, 3, 7, 1, 5, 6)\n",
      "(9, 8, 2, 4, 3, 7, 1, 6, 5)\n",
      "(9, 8, 2, 4, 3, 7, 5, 1, 6)\n",
      "(9, 8, 2, 4, 3, 7, 5, 6, 1)\n",
      "(9, 8, 2, 4, 3, 7, 6, 1, 5)\n",
      "(9, 8, 2, 4, 3, 7, 6, 5, 1)\n",
      "(9, 8, 2, 4, 5, 1, 3, 6, 7)\n",
      "(9, 8, 2, 4, 5, 1, 3, 7, 6)\n",
      "(9, 8, 2, 4, 5, 1, 6, 3, 7)\n",
      "(9, 8, 2, 4, 5, 1, 6, 7, 3)\n",
      "(9, 8, 2, 4, 5, 1, 7, 3, 6)\n",
      "(9, 8, 2, 4, 5, 1, 7, 6, 3)\n",
      "(9, 8, 2, 4, 5, 3, 1, 6, 7)\n",
      "(9, 8, 2, 4, 5, 3, 1, 7, 6)\n",
      "(9, 8, 2, 4, 5, 3, 6, 1, 7)\n"
     ]
    }
   ],
   "source": [
    "index_min = np.argmin(results)\n",
    "print('The best basis orders are:')\n",
    "for i in range(n):\n",
    "    if results[i] == results[index_min]:\n",
    "        print(groups_basis[i])"
   ]
  },
  {
   "cell_type": "code",
   "execution_count": 1,
   "metadata": {},
   "outputs": [
    {
     "data": {
      "text/html": [
       "<h3>Version Information</h3><table><tr><th>Qiskit Software</th><th>Version</th></tr><tr><td>Qiskit</td><td>0.26.2</td></tr><tr><td>Terra</td><td>0.17.4</td></tr><tr><td>Aer</td><td>0.8.2</td></tr><tr><td>Ignis</td><td>0.6.0</td></tr><tr><td>Aqua</td><td>0.9.1</td></tr><tr><td>IBM Q Provider</td><td>0.13.1</td></tr><tr><th>System information</th></tr><tr><td>Python</td><td>3.8.5 (default, Sep  4 2020, 07:30:14) \n",
       "[GCC 7.3.0]</td></tr><tr><td>OS</td><td>Linux</td></tr><tr><td>CPUs</td><td>4</td></tr><tr><td>Memory (Gb)</td><td>11.680419921875</td></tr><tr><td colspan='2'>Fri Jun 04 23:14:04 2021 CEST</td></tr></table>"
      ],
      "text/plain": [
       "<IPython.core.display.HTML object>"
      ]
     },
     "metadata": {},
     "output_type": "display_data"
    }
   ],
   "source": [
    "import qiskit.tools.jupyter\n",
    "%qiskit_version_table"
   ]
  },
  {
   "cell_type": "code",
   "execution_count": null,
   "metadata": {},
   "outputs": [],
   "source": []
  }
 ],
 "metadata": {
  "kernelspec": {
   "display_name": "Python 3",
   "language": "python",
   "name": "python3"
  },
  "language_info": {
   "codemirror_mode": {
    "name": "ipython",
    "version": 3
   },
   "file_extension": ".py",
   "mimetype": "text/x-python",
   "name": "python",
   "nbconvert_exporter": "python",
   "pygments_lexer": "ipython3",
   "version": "3.8.5"
  }
 },
 "nbformat": 4,
 "nbformat_minor": 5
}
