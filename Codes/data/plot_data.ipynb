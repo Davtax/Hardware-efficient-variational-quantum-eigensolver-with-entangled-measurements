{
 "cells": [
  {
   "cell_type": "code",
   "execution_count": 3,
   "id": "559b4fa7-f319-4668-ba53-ee9f690b7bc0",
   "metadata": {
    "execution": {
     "iopub.execute_input": "2022-05-30T07:25:47.304742Z",
     "iopub.status.busy": "2022-05-30T07:25:47.304453Z",
     "iopub.status.idle": "2022-05-30T07:25:48.385508Z",
     "shell.execute_reply": "2022-05-30T07:25:48.385069Z",
     "shell.execute_reply.started": "2022-05-30T07:25:47.304729Z"
    },
    "tags": []
   },
   "outputs": [],
   "source": [
    "import sys\n",
    "sys.path.append('../')\n",
    "\n",
    "%load_ext autoreload\n",
    "%autoreload 1\n",
    "\n",
    "import numpy as np\n",
    "import matplotlib.pyplot as plt\n",
    "from mpl_toolkits.axes_grid1.inset_locator import inset_axes\n",
    "import matplotlib.patches as mpatches\n",
    "import warnings\n",
    "from string import ascii_lowercase\n",
    "from qiskit.algorithms import NumPyMinimumEigensolver\n",
    "\n",
    "%matplotlib widget"
   ]
  },
  {
   "cell_type": "code",
   "execution_count": 2,
   "id": "0fa2302c-a961-498c-9ccd-b759993587d1",
   "metadata": {
    "execution": {
     "iopub.execute_input": "2022-02-14T17:50:21.113249Z",
     "iopub.status.busy": "2022-02-14T17:50:21.113249Z",
     "iopub.status.idle": "2022-02-14T17:50:21.127250Z",
     "shell.execute_reply": "2022-02-14T17:50:21.127250Z",
     "shell.execute_reply.started": "2022-02-14T17:50:21.113249Z"
    },
    "tags": []
   },
   "outputs": [],
   "source": [
    "def add_labels(axs, positions=None, letters=None, fontsize=11, initial_parenthesis=True):\n",
    "    if positions is None:\n",
    "        positions = [[-0.1, 1.1]] * len(axs)\n",
    "    else:\n",
    "        if type(positions[0]) != 'list':\n",
    "            positions = [positions] * len(axs)\n",
    "\n",
    "    if letters is None:\n",
    "        letters = []\n",
    "        for i in range(len(axs)):\n",
    "            letters.append(ascii_lowercase[i])\n",
    "\n",
    "    if initial_parenthesis:\n",
    "        initial = '('\n",
    "    else:\n",
    "        initial = ''\n",
    "\n",
    "    for i in range(len(axs)):\n",
    "        ax = axs[i]\n",
    "        ax.text(positions[i][0], positions[i][1], initial + letters[i] + ')', horizontalalignment='center',\n",
    "                verticalalignment='center', transform=ax.transAxes, fontsize=fontsize)"
   ]
  },
  {
   "cell_type": "markdown",
   "id": "85e36a47-b881-453d-92c7-ebc916ffaa38",
   "metadata": {
    "jp-MarkdownHeadingCollapsed": true,
    "tags": []
   },
   "source": [
    "# $H_20$ grouping vs $x$ (w/ shuffle)"
   ]
  },
  {
   "cell_type": "code",
   "execution_count": 2,
   "id": "7f2f6d92-f8c9-4ef9-a733-8ba924efa922",
   "metadata": {
    "execution": {
     "iopub.execute_input": "2021-11-16T10:14:09.204264Z",
     "iopub.status.busy": "2021-11-16T10:14:09.204156Z",
     "iopub.status.idle": "2021-11-16T10:14:09.209666Z",
     "shell.execute_reply": "2021-11-16T10:14:09.209266Z",
     "shell.execute_reply.started": "2021-11-16T10:14:09.204249Z"
    },
    "tags": []
   },
   "outputs": [
    {
     "name": "stdout",
     "output_type": "stream",
     "text": [
      "dict_keys(['x_vec', 'n_groups', 'optimal_order_paulis', 'optimal_order_qubits', 'optimal_graph'])\n"
     ]
    }
   ],
   "source": [
    "file = 'H20_grouping_shuffle_ideal_vs_connectivity'\n",
    "data = np.load(file + '.npy', allow_pickle=True).item()\n",
    "\n",
    "print(data.keys())\n",
    "\n",
    "for key in data:\n",
    "    vars()[key] = data[key]"
   ]
  },
  {
   "cell_type": "code",
   "execution_count": 3,
   "id": "c88310d2-560e-4778-aa50-0f12e347cee1",
   "metadata": {
    "execution": {
     "iopub.execute_input": "2021-11-16T10:14:09.210534Z",
     "iopub.status.busy": "2021-11-16T10:14:09.210400Z",
     "iopub.status.idle": "2021-11-16T10:14:09.283313Z",
     "shell.execute_reply": "2021-11-16T10:14:09.282685Z",
     "shell.execute_reply.started": "2021-11-16T10:14:09.210520Z"
    },
    "tags": []
   },
   "outputs": [],
   "source": [
    "n_x = len(x_vec)\n",
    "\n",
    "n_std = np.zeros(n_x)\n",
    "n_avg = np.zeros(n_x)\n",
    "n_min = np.zeros(n_x)\n",
    "n_max = np.zeros(n_x)\n",
    "\n",
    "for i in range(n_x):\n",
    "    n_std[i] = np.std(n_groups[i])\n",
    "    n_avg[i] = np.mean(n_groups[i])\n",
    "    n_min[i] = np.min(n_groups[i])\n",
    "    n_max[i] = np.max(n_groups[i])"
   ]
  },
  {
   "cell_type": "code",
   "execution_count": 4,
   "id": "6af6b35a-354c-4b50-86ed-8c9e8e9f7cac",
   "metadata": {
    "execution": {
     "iopub.execute_input": "2021-11-16T10:14:09.284077Z",
     "iopub.status.busy": "2021-11-16T10:14:09.283911Z",
     "iopub.status.idle": "2021-11-16T10:14:09.391162Z",
     "shell.execute_reply": "2021-11-16T10:14:09.390753Z",
     "shell.execute_reply.started": "2021-11-16T10:14:09.284055Z"
    },
    "tags": []
   },
   "outputs": [
    {
     "data": {
      "image/png": "[encoded data removed]",
      "text/plain": [
       "<Figure size 432x288 with 1 Axes>"
      ]
     },
     "metadata": {
      "needs_background": "light"
     },
     "output_type": "display_data"
    }
   ],
   "source": [
    "fig, ax = plt.subplots()\n",
    "ax.plot(x_vec, n_avg)\n",
    "ax.fill_between(x_vec, n_avg - n_std, n_avg + n_std, alpha=0.25)\n",
    "ax.plot(x_vec, n_min, '--')\n",
    "ax.plot(x_vec, n_max, '--')\n",
    "ax.set_xlabel('x')\n",
    "ax.set_ylabel('# of groups')\n",
    "ax.set_xlim([x_vec[0], x_vec[-1]]);"
   ]
  },
  {
   "cell_type": "code",
   "execution_count": 5,
   "id": "28efef47-62a7-46dc-8ee3-a921987dfa0b",
   "metadata": {
    "execution": {
     "iopub.execute_input": "2021-10-29T07:41:27.626154Z",
     "iopub.status.busy": "2021-10-29T07:41:27.625955Z",
     "iopub.status.idle": "2021-10-29T07:41:27.629713Z",
     "shell.execute_reply": "2021-10-29T07:41:27.629301Z",
     "shell.execute_reply.started": "2021-10-29T07:41:27.626131Z"
    },
    "tags": []
   },
   "outputs": [
    {
     "name": "stdout",
     "output_type": "stream",
     "text": [
      "The minumum number of groups is 36, obtained for x = 0.842\n"
     ]
    }
   ],
   "source": [
    "index_min = np.argmin(n_min)\n",
    "print('The minumum number of groups is {:.0f}, obtained for x = {:.3f}'.format(n_min[index_min], x_vec[index_min]))"
   ]
  },
  {
   "cell_type": "code",
   "execution_count": 14,
   "id": "40dfb10c-7cf4-446f-ad03-7f8bc53119fc",
   "metadata": {
    "execution": {
     "iopub.execute_input": "2021-10-29T07:53:14.487003Z",
     "iopub.status.busy": "2021-10-29T07:53:14.486783Z",
     "iopub.status.idle": "2021-10-29T07:53:14.540167Z",
     "shell.execute_reply": "2021-10-29T07:53:14.539847Z",
     "shell.execute_reply.started": "2021-10-29T07:53:14.486980Z"
    },
    "tags": []
   },
   "outputs": [
    {
     "data": {
      "application/vnd.jupyter.widget-view+json": {
       "model_id": "679d0d58b613434696b6d5b413201f94",
       "version_major": 2,
       "version_minor": 0
      },
      "image/png": "[encoded data removed]",
      "text/plain": [
       "Canvas(toolbar=Toolbar(toolitems=[('Home', 'Reset original view', 'home', 'home'), ('Back', 'Back to previous …"
      ]
     },
     "metadata": {},
     "output_type": "display_data"
    }
   ],
   "source": [
    "plt.figure()\n",
    "nx.draw(optimal_graph[index_min])"
   ]
  },
  {
   "cell_type": "markdown",
   "id": "0fbafcb0-e0e1-476d-ae4f-330ba90f0e71",
   "metadata": {
    "tags": []
   },
   "source": [
    "# Optimal VQE"
   ]
  },
  {
   "cell_type": "markdown",
   "id": "ef182dbe-4bf0-4c53-bd50-03c1ae54290b",
   "metadata": {},
   "source": [
    "## Simulation"
   ]
  },
  {
   "cell_type": "code",
   "execution_count": 53,
   "id": "0fae5200-b6ff-4aed-89a7-1b0902a8af3e",
   "metadata": {
    "execution": {
     "iopub.execute_input": "2022-02-10T15:44:28.397416Z",
     "iopub.status.busy": "2022-02-10T15:44:28.396415Z",
     "iopub.status.idle": "2022-02-10T15:44:28.611411Z",
     "shell.execute_reply": "2022-02-10T15:44:28.611411Z",
     "shell.execute_reply.started": "2022-02-10T15:44:28.397416Z"
    },
    "tags": []
   },
   "outputs": [
    {
     "name": "stdout",
     "output_type": "stream",
     "text": [
      "The exact energy is: -13.918\n",
      "Number of groups for each algorithm {'TPB': 93, 'EM': 41, 'HEEM': 50}\n",
      "There is a total of 240 VQE runs\n"
     ]
    }
   ],
   "source": [
    "molecule = 'H2O'\n",
    "name_backend = 'ibmq_montreal'\n",
    "\n",
    "noise = True\n",
    "file_name = 'VQE_'\n",
    "if not noise:\n",
    "    file_name += 'noise_free_'\n",
    "    \n",
    "data_sim = np.load('../data/' + file_name + molecule + '_' + name_backend + '.npy', allow_pickle=True).item()\n",
    "\n",
    "data_qubit_op = np.load('../data/optimal_grouping_' + molecule + '_' + name_backend + '.npy', allow_pickle=True).item()\n",
    "qubit_op = data_qubit_op['qubit_op']\n",
    "num_qubits = qubit_op.num_qubits\n",
    "\n",
    "groupings = ['TPB', 'EM', 'HEEM']\n",
    "n_groups = {}\n",
    "for grouping in groupings:\n",
    "    n_groups[grouping] = data_qubit_op[grouping]['n_min']\n",
    "\n",
    "result_exact = NumPyMinimumEigensolver().compute_minimum_eigenvalue(qubit_op)\n",
    "print('The exact energy is: {:.3f}'.format(np.real(result_exact.eigenvalue)))\n",
    "\n",
    "print('Number of groups for each algorithm', n_groups)\n",
    "\n",
    "print('There is a total of {} VQE runs'.format(data_sim['TPB'].shape[0]))"
   ]
  },
  {
   "cell_type": "code",
   "execution_count": 54,
   "id": "50d09326-3b8a-4d7f-a5f6-6f8f5a39a1e0",
   "metadata": {
    "execution": {
     "iopub.execute_input": "2022-02-10T15:44:28.674413Z",
     "iopub.status.busy": "2022-02-10T15:44:28.674413Z",
     "iopub.status.idle": "2022-02-10T15:44:28.751411Z",
     "shell.execute_reply": "2022-02-10T15:44:28.751411Z",
     "shell.execute_reply.started": "2022-02-10T15:44:28.674413Z"
    },
    "tags": []
   },
   "outputs": [
    {
     "data": {
      "application/vnd.jupyter.widget-view+json": {
       "model_id": "c1ddeebeba474811b040df53023f417c",
       "version_major": 2,
       "version_minor": 0
      },
      "text/plain": [
       "Canvas(toolbar=Toolbar(toolitems=[('Home', 'Reset original view', 'home', 'home'), ('Back', 'Back to previous …"
      ]
     },
     "metadata": {},
     "output_type": "display_data"
    },
    {
     "name": "stdout",
     "output_type": "stream",
     "text": [
      "For TPB, the final energy is -11.791 ± 0.216\n",
      "For EM, the final energy is -11.204 ± 0.340\n",
      "For HEEM, the final energy is -12.115 ± 0.261\n"
     ]
    },
    {
     "name": "stderr",
     "output_type": "stream",
     "text": [
      "C:\\Users\\david\\AppData\\Local\\Temp/ipykernel_23420/2300978107.py:49: UserWarning: This figure includes Axes that are not compatible with tight_layout, so results might be incorrect.\n",
      "  fig.tight_layout()\n"
     ]
    }
   ],
   "source": [
    "plt.style.use('default')\n",
    "\n",
    "labels = ['TPB', 'EM', 'HEEM']\n",
    "colors = {'TPB': '#0C5DA5', 'HEEM':'#00B945', 'EM': '#FF9500'}\n",
    "\n",
    "fig, ax = plt.subplots()\n",
    "\n",
    "axins = inset_axes(ax, width=\"100%\", height=\"100%\",\n",
    "                   bbox_to_anchor=(.45, .6, .53, .4),\n",
    "                   bbox_transform=ax.transAxes)\n",
    "\n",
    "for label in labels:\n",
    "    color = colors[label]\n",
    "    \n",
    "    energies_temp = data_sim[label][:, 50:-1]\n",
    "    energies = (energies_temp[:, ::2] + energies_temp[:, 1::2]) / 2\n",
    "    \n",
    "    std = np.std(energies, axis=0)\n",
    "    mean = np.mean(energies, axis=0)\n",
    "    \n",
    "    x_vec = np.arange(0, len(energies[0]))\n",
    "    \n",
    "    line = ax.plot(x_vec, mean, label=label, c=color)\n",
    "    ax.fill_between(x_vec, mean - std, mean + std, alpha=0.2, color=color)\n",
    "    for i in range(2):\n",
    "        ax.plot(x_vec, mean + (-1) ** i * std, ls='-', alpha=0.3, c=color)\n",
    "    \n",
    "    x_vec *= n_groups[label]  \n",
    "    line = axins.plot(x_vec, mean, label=label, c=color)\n",
    "    axins.fill_between(x_vec, mean - std, mean + std, alpha=0.2, color=color)\n",
    "    for i in range(2):\n",
    "        axins.plot(x_vec, mean + (-1) ** i * std, ls='-', alpha=0.3, c=color)\n",
    "    \n",
    "    print('For {}, the final energy is {:.3f} ± {:.3f}'.format(label, mean[-1], std[-1]))\n",
    "\n",
    "\n",
    "ax.set_xlabel('iteration')\n",
    "ax.set_xlim(0, (len(std) - 1))\n",
    "ax.set_ylim(-12.5, -9)\n",
    "\n",
    "axins.set_xlabel('number of circuits')\n",
    "axins.set_xlim(0, (len(std) - 1) * n_groups['EM'])\n",
    "axins.set_ylim(ax.set_ylim())\n",
    "\n",
    "ax.set_ylabel('energy [Ha]')\n",
    "axins.set_ylabel('energy [Ha]')\n",
    "\n",
    "# ax.legend()\n",
    "fig.tight_layout()\n",
    "\n",
    "# plt.savefig('../../Paper/figures/VQE_' + molecule + '.pdf')"
   ]
  },
  {
   "cell_type": "markdown",
   "id": "f5b02cf6-0d0f-454d-bf2e-819c88d389bc",
   "metadata": {},
   "source": [
    "## Real device"
   ]
  },
  {
   "cell_type": "code",
   "execution_count": 55,
   "id": "9d993a40-00d6-45dd-aa7d-ed525b894dd9",
   "metadata": {
    "execution": {
     "iopub.execute_input": "2022-02-10T15:44:30.255214Z",
     "iopub.status.busy": "2022-02-10T15:44:30.254214Z",
     "iopub.status.idle": "2022-02-10T15:44:30.268210Z",
     "shell.execute_reply": "2022-02-10T15:44:30.268210Z",
     "shell.execute_reply.started": "2022-02-10T15:44:30.255214Z"
    },
    "tags": []
   },
   "outputs": [],
   "source": [
    "molecule = 'H2O'\n",
    "name_backend = 'ibmq_guadalupe'\n",
    "    \n",
    "data_real = np.load('../data/' + file_name + molecule + '_' + name_backend + '_experiment.npy')"
   ]
  },
  {
   "cell_type": "code",
   "execution_count": 57,
   "id": "fdad2337-cd63-4359-b1a0-e119dba354d0",
   "metadata": {
    "execution": {
     "iopub.execute_input": "2022-02-10T15:44:42.691176Z",
     "iopub.status.busy": "2022-02-10T15:44:42.691176Z",
     "iopub.status.idle": "2022-02-10T15:44:42.766182Z",
     "shell.execute_reply": "2022-02-10T15:44:42.766182Z",
     "shell.execute_reply.started": "2022-02-10T15:44:42.691176Z"
    },
    "tags": []
   },
   "outputs": [
    {
     "data": {
      "application/vnd.jupyter.widget-view+json": {
       "model_id": "f3321ee3797a464ea488140785f9d32a",
       "version_major": 2,
       "version_minor": 0
      },
      "text/plain": [
       "Canvas(toolbar=Toolbar(toolitems=[('Home', 'Reset original view', 'home', 'home'), ('Back', 'Back to previous …"
      ]
     },
     "metadata": {},
     "output_type": "display_data"
    },
    {
     "name": "stderr",
     "output_type": "stream",
     "text": [
      "C:\\Users\\david\\AppData\\Local\\Temp/ipykernel_23420/139130207.py:29: UserWarning: This figure includes Axes that are not compatible with tight_layout, so results might be incorrect.\n",
      "  fig.tight_layout()\n"
     ]
    }
   ],
   "source": [
    "plt.style.use('default')\n",
    "\n",
    "labels = ['TPB', 'EM', 'HEEM']\n",
    "n_groups = [93, 48, 62]\n",
    "colors = {'TPB': '#0C5DA5', 'HEEM':'#00B945', 'EM': '#FF9500'}\n",
    "\n",
    "fig, ax = plt.subplots()\n",
    "axins = inset_axes(ax, width=\"100%\", height=\"100%\",\n",
    "                   bbox_to_anchor=(.45, .55, .53, .45),\n",
    "                   bbox_transform=ax.transAxes)\n",
    "\n",
    "for i, label in enumerate(labels):\n",
    "    color = colors[label]\n",
    "    \n",
    "    energies_temp = data_real[i, :-1]\n",
    "    energies = (energies_temp[::2] + energies_temp[1::2]) / 2\n",
    "    \n",
    "    x_vec = np.arange(0, len(energies))\n",
    "    \n",
    "    ax.plot(x_vec, energies, c=color)\n",
    "    axins.plot(x_vec * n_groups[i], energies, c=color)\n",
    "    \n",
    "ax.set_ylabel('energy [Ha]')\n",
    "ax.set_xlabel('iteration')\n",
    "axins.set_xlabel('circuits')\n",
    "axins.set_xlim(0, min(n_groups) * len(x_vec))\n",
    "ax.set_xlim(0, len(x_vec) - 1)\n",
    "\n",
    "fig.tight_layout()"
   ]
  },
  {
   "cell_type": "markdown",
   "id": "743d52d7-e08e-4e8c-9e4b-f0ebdbc9102e",
   "metadata": {},
   "source": [
    "## Join"
   ]
  },
  {
   "cell_type": "code",
   "execution_count": 58,
   "id": "76bf22b4-609a-4f6e-8262-e3fb49ac75ff",
   "metadata": {
    "execution": {
     "iopub.execute_input": "2022-02-10T15:44:45.331228Z",
     "iopub.status.busy": "2022-02-10T15:44:45.331228Z",
     "iopub.status.idle": "2022-02-10T15:44:45.866227Z",
     "shell.execute_reply": "2022-02-10T15:44:45.866227Z",
     "shell.execute_reply.started": "2022-02-10T15:44:45.331228Z"
    },
    "tags": []
   },
   "outputs": [
    {
     "data": {
      "application/vnd.jupyter.widget-view+json": {
       "model_id": "c6f970010f0243f3a4d253b7f1e4dc75",
       "version_major": 2,
       "version_minor": 0
      },
      "text/plain": [
       "Canvas(toolbar=Toolbar(toolitems=[('Home', 'Reset original view', 'home', 'home'), ('Back', 'Back to previous …"
      ]
     },
     "metadata": {},
     "output_type": "display_data"
    },
    {
     "name": "stderr",
     "output_type": "stream",
     "text": [
      "C:\\Users\\david\\AppData\\Local\\Temp/ipykernel_23420/1155994236.py:79: UserWarning: This figure includes Axes that are not compatible with tight_layout, so results might be incorrect.\n",
      "  fig.tight_layout()\n"
     ]
    }
   ],
   "source": [
    "plt.style.use('science')\n",
    "\n",
    "labels = ['TPB', 'EM', 'HEEM']\n",
    "colors = {'TPB': '#0C5DA5', 'HEEM':'#00B945', 'EM': '#FF9500'}\n",
    "\n",
    "factor = 0.55\n",
    "fig, [ax1, ax2] = plt.subplots(2, 1, figsize=(7 * factor, 9 * factor))\n",
    "\n",
    "# ------------- SIMULATION -------------------\n",
    "n_groups = {}\n",
    "for grouping in groupings:\n",
    "    n_groups[grouping] = data_qubit_op[grouping]['n_min']\n",
    "\n",
    "axins1 = inset_axes(ax1, width=\"100%\", height=\"100%\",\n",
    "                     bbox_to_anchor=(.45, .65, .53, .35),\n",
    "                     bbox_transform=ax1.transAxes)\n",
    "\n",
    "for label in labels:\n",
    "    color = colors[label]\n",
    "    \n",
    "    energies_temp = data_sim[label][:, 50:-1]\n",
    "    energies = (energies_temp[:, ::2] + energies_temp[:, 1::2]) / 2\n",
    "    \n",
    "    std = np.std(energies, axis=0)\n",
    "    mean = np.mean(energies, axis=0)\n",
    "    \n",
    "    x_vec = np.arange(0, len(energies[0]))\n",
    "    \n",
    "    line = ax1.plot(x_vec, mean, label=label, c=color)\n",
    "    ax1.fill_between(x_vec, mean - std, mean + std, alpha=0.2, color=color)\n",
    "    for i in range(2):\n",
    "        ax1.plot(x_vec, mean + (-1) ** i * std, ls='-', alpha=0.3, c=color)\n",
    "    \n",
    "    x_vec *= n_groups[label]  \n",
    "    line = axins1.plot(x_vec, mean, label=label, c=color)\n",
    "    axins1.fill_between(x_vec, mean - std, mean + std, alpha=0.2, color=color)\n",
    "    for i in range(2):\n",
    "        axins1.plot(x_vec, mean + (-1) ** i * std, ls='-', alpha=0.3, c=color)\n",
    "\n",
    "ax1.set_xlabel('iterations')\n",
    "ax1.set_xlim(0, (len(std) - 1))\n",
    "ax1.set_ylim(-12.5, -8.5)\n",
    "\n",
    "axins1.set_xlabel('circuits')\n",
    "axins1.set_xlim(0, (len(std) - 1) * n_groups['EM'])\n",
    "axins1.set_ylim(-12.5, -10.5)\n",
    "\n",
    "ax1.set_ylabel('energy [Ha]')\n",
    "axins1.set_ylabel('energy [Ha]')\n",
    "\n",
    "# ------------  REAL ----------------\n",
    "n_groups = [93, 48, 62]\n",
    "\n",
    "axins2 = inset_axes(ax2, width=\"100%\", height=\"100%\",\n",
    "                   bbox_to_anchor=(.47, .55, .5, .45),\n",
    "                   bbox_transform=ax2.transAxes)\n",
    "\n",
    "for i, label in enumerate(labels):\n",
    "    color = colors[label]\n",
    "    \n",
    "    energies_temp = data_real[i, :-1]\n",
    "    energies = (energies_temp[::2] + energies_temp[1::2]) / 2\n",
    "    \n",
    "    x_vec = np.arange(0, len(energies))\n",
    "    \n",
    "    ax2.plot(x_vec, energies, c=color)\n",
    "    axins2.plot(x_vec * n_groups[i], energies, c=color)\n",
    "    \n",
    "ax2.set_ylabel('energy [Ha]')\n",
    "axins2.set_ylabel('energy [Ha]')\n",
    "ax2.set_xlabel('iterations')\n",
    "axins2.set_xlabel('circuits')\n",
    "ax2.set_ylim(-12.6, -9)\n",
    "axins2.set_xlim(0, min(n_groups) * len(x_vec))\n",
    "ax2.set_xlim(0, len(x_vec) - 1)\n",
    "\n",
    "add_labels([ax1, ax2], positions=[-0.15, 1.05], initial_parenthesis=False, fontsize=13)\n",
    "\n",
    "fig.tight_layout()\n",
    "fig.subplots_adjust(hspace=0.3)\n",
    "\n",
    "plt.savefig('../../Paper/figures/VQE_' + molecule + '.pdf')"
   ]
  },
  {
   "cell_type": "markdown",
   "id": "a1c4d894-3c8e-46bf-b556-8cbf5c93e40e",
   "metadata": {
    "jp-MarkdownHeadingCollapsed": true,
    "tags": []
   },
   "source": [
    "# Universal grouping"
   ]
  },
  {
   "cell_type": "code",
   "execution_count": 18,
   "id": "32fc410b-3100-4059-ae30-70702f04ec15",
   "metadata": {
    "execution": {
     "iopub.execute_input": "2022-01-26T09:33:06.231661Z",
     "iopub.status.busy": "2022-01-26T09:33:06.231353Z",
     "iopub.status.idle": "2022-01-26T09:33:07.625475Z",
     "shell.execute_reply": "2022-01-26T09:33:07.624553Z",
     "shell.execute_reply.started": "2022-01-26T09:33:06.231627Z"
    },
    "tags": []
   },
   "outputs": [],
   "source": [
    "data = np.load('../data/comparison_grouping_algorithms.npy', allow_pickle=True).item()"
   ]
  },
  {
   "cell_type": "code",
   "execution_count": 19,
   "id": "92a97c6f-f52f-4022-821b-90d32349278e",
   "metadata": {
    "execution": {
     "iopub.execute_input": "2022-01-26T09:33:10.293833Z",
     "iopub.status.busy": "2022-01-26T09:33:10.293537Z",
     "iopub.status.idle": "2022-01-26T09:33:10.555980Z",
     "shell.execute_reply": "2022-01-26T09:33:10.555085Z",
     "shell.execute_reply.started": "2022-01-26T09:33:10.293798Z"
    },
    "tags": []
   },
   "outputs": [
    {
     "data": {
      "application/vnd.jupyter.widget-view+json": {
       "model_id": "cbb508594c5746699f222f6a3a322556",
       "version_major": 2,
       "version_minor": 0
      },
      "text/plain": [
       "Canvas(toolbar=Toolbar(toolitems=[('Home', 'Reset original view', 'home', 'home'), ('Back', 'Back to previous …"
      ]
     },
     "metadata": {},
     "output_type": "display_data"
    }
   ],
   "source": [
    "labels = ['naive', 'order_disconnected', 'order_connected']\n",
    "colors = ['C0', 'C1', 'C2']\n",
    "\n",
    "fig, ax = plt.subplots()\n",
    "\n",
    "w_spacing = 0.0  # Spacing between bar of equal n_qubits\n",
    "w_spacing_big = 0.1  # Spacing between bars of different n_qubits\n",
    "w_bar = (1 - 2 * w_spacing_big - 2 * w_spacing) / 3\n",
    "delta = 1 / 2 - w_spacing_big - w_bar / 2\n",
    "\n",
    "ticks_labels = list(data.keys())\n",
    "order = []\n",
    "for (j, n_qubit) in enumerate(data.keys()):\n",
    "    if data[n_qubit]['parameters']['n_paulis'] < 4 ** int(n_qubit):\n",
    "        ticks_labels[j] += '*'\n",
    "    for (i, label) in enumerate(labels):\n",
    "        ax.bar(int(n_qubit) + delta * (i - 1), np.mean(data[n_qubit][label]), width=w_bar, color=colors[i], zorder=3,\n",
    "               yerr = np.std(data[n_qubit][label]), ecolor='black', capsize=4,\n",
    "               label=label if n_qubit == min(data.keys()) else None)\n",
    "\n",
    "        \n",
    "ax.set_xticks(range(min([int(x) for x in data.keys()]), max([int(x) for x in data.keys()]) + 1))\n",
    "ax.set_xticklabels(np.array(ticks_labels)[np.argsort([int(i) for  i in data.keys()])])\n",
    "ax.set_xlabel('number of qubits')\n",
    "ax.set_ylabel('average number of groups')\n",
    "ax.yaxis.grid(zorder=0)\n",
    "ax.legend()\n",
    "ax.set_title('Random Pauli strings ({})'.format(list(data.values())[0]['parameters']['name_backend']));"
   ]
  },
  {
   "cell_type": "code",
   "execution_count": 20,
   "id": "c80c7771-1375-4d68-8a36-0ddf092eb77b",
   "metadata": {
    "execution": {
     "iopub.execute_input": "2022-01-26T09:33:31.015102Z",
     "iopub.status.busy": "2022-01-26T09:33:31.014769Z",
     "iopub.status.idle": "2022-01-26T09:33:31.079244Z",
     "shell.execute_reply": "2022-01-26T09:33:31.078257Z",
     "shell.execute_reply.started": "2022-01-26T09:33:31.015050Z"
    },
    "tags": []
   },
   "outputs": [
    {
     "data": {
      "application/vnd.jupyter.widget-view+json": {
       "model_id": "0778dfac17624d9097ca110afd70d078",
       "version_major": 2,
       "version_minor": 0
      },
      "text/plain": [
       "Canvas(toolbar=Toolbar(toolitems=[('Home', 'Reset original view', 'home', 'home'), ('Back', 'Back to previous …"
      ]
     },
     "metadata": {},
     "output_type": "display_data"
    }
   ],
   "source": [
    "fig, ax = plt.subplots()\n",
    "for (i, label) in enumerate(labels):\n",
    "    data_plot_x = np.array([int(x) for x in data.keys()])\n",
    "    indices_sort = np.argsort(data_plot_x)\n",
    "    data_plot_y = np.array([data[n_qubit]['times'][label] / len(data[n_qubit][label]) / 60 for n_qubit in data.keys()])\n",
    "    ax.plot(data_plot_x[indices_sort], data_plot_y[indices_sort], c=colors[i], label=label, marker='.')\n",
    "        \n",
    "ax.legend()\n",
    "# ax.set_yscale('log')\n",
    "ax.set_xlabel('number of qubits')\n",
    "ax.set_ylabel('average time (min)')\n",
    "ax.set_title('Random Pauli strings ({})'.format(list(data.values())[0]['parameters']['name_backend']));"
   ]
  },
  {
   "cell_type": "markdown",
   "id": "4f464b8f-2cdd-4b68-bb03-10ef82ca9784",
   "metadata": {
    "tags": []
   },
   "source": [
    "# Comparing grouping for molecules"
   ]
  },
  {
   "cell_type": "code",
   "execution_count": 5,
   "id": "fe5798ff-a78c-4163-8166-6c9254a8b8cd",
   "metadata": {
    "execution": {
     "iopub.execute_input": "2022-02-09T15:16:18.376172Z",
     "iopub.status.busy": "2022-02-09T15:16:18.376172Z",
     "iopub.status.idle": "2022-02-09T15:16:18.441173Z",
     "shell.execute_reply": "2022-02-09T15:16:18.440175Z",
     "shell.execute_reply.started": "2022-02-09T15:16:18.376172Z"
    },
    "tags": []
   },
   "outputs": [
    {
     "name": "stdout",
     "output_type": "stream",
     "text": [
      "Montercarlo shots for H2: 5310060\n",
      "Montercarlo shots for LiH: 1487808\n",
      "Montercarlo shots for BeH2: 1229184\n",
      "Montercarlo shots for H2O: 58608\n",
      "Montercarlo shots for CH4: 6768\n",
      "Montercarlo shots for C2H2: 1152\n"
     ]
    }
   ],
   "source": [
    "algorithm = 'HEEM'\n",
    "data = np.load('../data/comparison_grouping_algorithms_molecules_only_paulis_' + algorithm + '.npy', allow_pickle=True).item()\n",
    "n_qubits = {'H2': 2, 'LiH': 4, 'BeH2': 6, 'H2O': 8, 'CH4': 10, 'C2H2': 16}\n",
    "ticks_labels = [r'$H_2$', r'$LiH$', r'$BeH_2$', r'$H_2O$', r'$CH_4$', r'$C_2H_2$']\n",
    "print_shots = True\n",
    "\n",
    "for (j, molecule) in enumerate(n_qubits.keys()):\n",
    "    ticks_labels[j] += ' ({})'.format(n_qubits[molecule])\n",
    "    \n",
    "    try:\n",
    "        n = len(data[molecule]['naive'])\n",
    "    except:\n",
    "        n = 0\n",
    "    \n",
    "    print('Montercarlo shots for {}: {}'.format(molecule, n))\n",
    "    \n",
    "    if print_shots:\n",
    "        temp = '{:.1e}'.format(n).split('+')\n",
    "        exponent = r'\\times 10^{{{}}}$'.format(int(temp[1]))\n",
    "        ticks_labels[j] += '\\n[' + '$' + temp[0][:3] + exponent +']'"
   ]
  },
  {
   "cell_type": "code",
   "execution_count": 6,
   "id": "567d3af2-1a18-4e48-89ac-9dd717211505",
   "metadata": {
    "execution": {
     "iopub.execute_input": "2022-02-09T15:16:18.852387Z",
     "iopub.status.busy": "2022-02-09T15:16:18.851387Z",
     "iopub.status.idle": "2022-02-09T15:16:18.875395Z",
     "shell.execute_reply": "2022-02-09T15:16:18.875395Z",
     "shell.execute_reply.started": "2022-02-09T15:16:18.852387Z"
    },
    "tags": []
   },
   "outputs": [
    {
     "name": "stdout",
     "output_type": "stream",
     "text": [
      "H2\n",
      "  naive: 2\n",
      "  order_disconnected: 2\n",
      "  order_connected: 2\n",
      "------------------------------\n",
      "LiH\n",
      "  naive: 10\n",
      "  order_disconnected: 10\n",
      "  order_connected: 10\n",
      "------------------------------\n",
      "BeH2\n",
      "  naive: 14\n",
      "  order_disconnected: 16\n",
      "  order_connected: 17\n",
      "------------------------------\n",
      "H2O\n",
      "  naive: 55\n",
      "  order_disconnected: 55\n",
      "  order_connected: 53\n",
      "------------------------------\n",
      "CH4\n",
      "  naive: 135\n",
      "  order_disconnected: 164\n",
      "  order_connected: 139\n",
      "------------------------------\n",
      "C2H2\n",
      "  naive: 283\n",
      "  order_disconnected: 311\n",
      "  order_connected: 281\n",
      "------------------------------\n"
     ]
    }
   ],
   "source": [
    "labels = ['naive', 'order_disconnected', 'order_connected']\n",
    "\n",
    "for molecule in n_qubits.keys():\n",
    "    print(molecule)\n",
    "    for label in labels:\n",
    "        print('  {}: {}'.format(label, int(np.min(data[molecule][label]))))\n",
    "    print('-' * 30)"
   ]
  },
  {
   "cell_type": "code",
   "execution_count": 14,
   "id": "66c7e1f7-814a-4cb7-a249-555c042120ba",
   "metadata": {
    "execution": {
     "iopub.execute_input": "2022-02-09T13:00:00.558302Z",
     "iopub.status.busy": "2022-02-09T13:00:00.558302Z",
     "iopub.status.idle": "2022-02-09T13:00:00.819905Z",
     "shell.execute_reply": "2022-02-09T13:00:00.819905Z",
     "shell.execute_reply.started": "2022-02-09T13:00:00.558302Z"
    },
    "tags": []
   },
   "outputs": [
    {
     "data": {
      "application/vnd.jupyter.widget-view+json": {
       "model_id": "ae295103f6f5467b86c2acbcec1aecfb",
       "version_major": 2,
       "version_minor": 0
      },
      "text/plain": [
       "Canvas(toolbar=Toolbar(toolitems=[('Home', 'Reset original view', 'home', 'home'), ('Back', 'Back to previous …"
      ]
     },
     "metadata": {},
     "output_type": "display_data"
    }
   ],
   "source": [
    "labels = ['naive', 'order_disconnected', 'order_connected']\n",
    "colors = ['C0', 'C1', 'C2']\n",
    "\n",
    "# plt.style.use('science')\n",
    "plt.style.use('default')\n",
    "fig, ax = plt.subplots(figsize=(15, 7))\n",
    "\n",
    "w_spacing = 0.0  # Spacing between bar of equal n_qubits\n",
    "w_spacing_big = 0.1  # Spacing between bars of different n_qubits\n",
    "w_bar = (1 - 2 * w_spacing_big - 2 * w_spacing) / 3\n",
    "delta = 1 / 2 - w_spacing_big - w_bar / 2\n",
    "\n",
    "# ticks_labels = list(n_qubits.keys())\n",
    "legend = True\n",
    "for (j, molecule) in enumerate(n_qubits.keys()):\n",
    "    try:\n",
    "        for (i, label) in enumerate(labels):\n",
    "            ax.bar(j + delta * (i - 1), np.mean(data[molecule][label]), width=w_bar, color=colors[i], zorder=3,\n",
    "                   yerr = np.std(data[molecule][label]), ecolor='black', capsize=4, label=label.replace('_', ' ') if legend else None)\n",
    "            # ax.hlines(np.min(data[molecule][label]), j + delta * (i - 1) - w_bar / 2, j + delta * (i - 1) + w_bar / 2, zorder=4, color='k', ls='--')\n",
    "            # ax.vlines(j + delta * (i - 1), np.min(data[molecule][label]), np.max(data[molecule][label]), zorder=4, color='r', ls='--')\n",
    "            ax.scatter(j + delta * (i - 1), np.max(data[molecule][label]), zorder=4, color='k', marker='v', label='max' if (legend and not i) else None)\n",
    "            ax.scatter(j + delta * (i - 1), np.min(data[molecule][label]), zorder=4, color='k', marker='^', label='min' if (legend and not i) else None)\n",
    "        legend = False\n",
    "        \n",
    "    except:\n",
    "        pass\n",
    "        \n",
    "ax.set_xticks(range(0, len(n_qubits.keys())))\n",
    "ax.set_xticklabels(ticks_labels)\n",
    "ax.set_xlabel('molecule')\n",
    "ax.set_ylabel('average # of groups')\n",
    "ax.yaxis.grid(zorder=0, alpha=0.4)\n",
    "# ax.set_title('Molecules Pauli strings ({})'.format(list(data.values())[0]['parameters']['name_backend']))\n",
    "ax.legend(bbox_to_anchor=(0.75, 0.95))\n",
    "\n",
    "axins = inset_axes(ax, width=\"100%\", height=\"100%\",\n",
    "                   bbox_to_anchor=(0.07, .45, .5, .5),\n",
    "                   bbox_transform=ax.transAxes)\n",
    "\n",
    "for (i, label) in enumerate(labels):\n",
    "    data_plot_x = []\n",
    "    data_plot_y = []\n",
    "    for molecule in n_qubits.keys():\n",
    "        try:\n",
    "            data_plot_y.append(data[molecule]['times'][label] / len(data[molecule][label]))\n",
    "            data_plot_x.append(n_qubits[molecule])\n",
    "        except:\n",
    "            pass\n",
    "    \n",
    "    axins.plot(data_plot_x, data_plot_y, c=colors[i], marker='.')\n",
    "        \n",
    "axins.set_ylabel('average time (s)')\n",
    "\n",
    "axins.set_xticks(list(n_qubits.values()))\n",
    "# axins.set_yscale('log')\n",
    "axins.set_xticklabels(ticks_labels);"
   ]
  },
  {
   "cell_type": "code",
   "execution_count": 7,
   "id": "a4b720f5-1287-48f1-9649-b8a954d96e4b",
   "metadata": {
    "execution": {
     "iopub.execute_input": "2022-02-09T15:16:21.776704Z",
     "iopub.status.busy": "2022-02-09T15:16:21.776704Z",
     "iopub.status.idle": "2022-02-09T15:16:27.831376Z",
     "shell.execute_reply": "2022-02-09T15:16:27.831376Z",
     "shell.execute_reply.started": "2022-02-09T15:16:21.776704Z"
    },
    "tags": []
   },
   "outputs": [
    {
     "data": {
      "application/vnd.jupyter.widget-view+json": {
       "model_id": "cd7c62d459f745d298090f6c4b924044",
       "version_major": 2,
       "version_minor": 0
      },
      "text/plain": [
       "Canvas(toolbar=Toolbar(toolitems=[('Home', 'Reset original view', 'home', 'home'), ('Back', 'Back to previous …"
      ]
     },
     "metadata": {},
     "output_type": "display_data"
    },
    {
     "name": "stderr",
     "output_type": "stream",
     "text": [
      "C:\\Users\\david\\AppData\\Local\\Temp/ipykernel_4236/2257064088.py:76: UserWarning: This figure includes Axes that are not compatible with tight_layout, so results might be incorrect.\n",
      "  fig.tight_layout()\n"
     ]
    }
   ],
   "source": [
    "labels = ['naive', 'order_disconnected', 'order_connected']\n",
    "colors = ['C0', 'C1', 'C2']\n",
    "\n",
    "plt.style.use('science')\n",
    "fig, ax = plt.subplots(figsize=(10, 5))\n",
    "# fig, ax = plt.subplots()\n",
    "\n",
    "w_spacing = 0.02  # Spacing between bar of equal n_qubits\n",
    "w_spacing_big = 0.1  # Spacing between bars of different n_qubits\n",
    "w_bar = (1 - 2 * w_spacing_big - 2 * w_spacing) / 3\n",
    "delta = 1 / 2 - w_spacing_big - w_bar / 2\n",
    "\n",
    "x_pos_mean = []\n",
    "y_pos_mean = []\n",
    "color_mean = []\n",
    "legend = True\n",
    "labels_legend = []\n",
    "\n",
    "for (j, molecule) in enumerate(n_qubits.keys()):\n",
    "    try:\n",
    "        for (i, label) in enumerate(labels):\n",
    "            violin_parts = ax.violinplot(data[molecule][label], showextrema=False, positions=[j + delta * (i - 1)], widths=w_bar,\n",
    "                                         points=min(1e6, int(np.max(data[molecule][label]) - np.min(data[molecule][label])) + 1))\n",
    "            \n",
    "            for pc in violin_parts['bodies']:\n",
    "                pc.set_facecolor(colors[i])\n",
    "                pc.set_edgecolor(colors[i])\n",
    "                pc.set_alpha(0.4)\n",
    "                \n",
    "            x_pos_mean.append(j + delta * (i - 1))\n",
    "            y_pos_mean.append(np.median(data[molecule][label]))\n",
    "            color_mean.append(colors[i])\n",
    "            \n",
    "            if legend:\n",
    "                color = violin_parts[\"bodies\"][0].get_facecolor().flatten()\n",
    "                labels_legend.append((mpatches.Patch(color=color), label.replace('_', ' ')))\n",
    "        legend = False\n",
    "    except:\n",
    "        pass\n",
    "    \n",
    "ax.scatter(x_pos_mean, y_pos_mean, marker='o', c=color_mean, s=40, zorder=3, alpha=0.9, edgecolors='k')\n",
    "\n",
    "ax.set_xticks(range(0, len(n_qubits.keys())))\n",
    "ax.set_xticklabels(ticks_labels)\n",
    "ax.set_xlabel('molecule')\n",
    "ax.set_ylabel('number of groups')\n",
    "ax.set_ylim([0, ax.get_ylim()[1]])\n",
    "\n",
    "ax.yaxis.grid(zorder=0, alpha=0.4)\n",
    "# ax.set_title('Molecules Pauli strings ({})'.format(list(data.values())[0]['parameters']['name_backend']))\n",
    "ax.legend(*zip(*labels_legend), bbox_to_anchor=(0.75, 0.95))\n",
    "\n",
    "axins = inset_axes(ax, width=\"100%\", height=\"100%\",\n",
    "                   bbox_to_anchor=(0.07, .45, .5, .5),\n",
    "                   bbox_transform=ax.transAxes)\n",
    "\n",
    "\n",
    "for (i, label) in enumerate(labels):\n",
    "    data_plot_x = []\n",
    "    data_plot_y = []\n",
    "    for molecule in n_qubits.keys():\n",
    "        try:\n",
    "            data_plot_y.append(data[molecule]['times'][label] / len(data[molecule][label]))\n",
    "            data_plot_x.append(n_qubits[molecule])\n",
    "        except:\n",
    "            pass\n",
    "    \n",
    "    axins.plot(data_plot_x, data_plot_y, c=colors[i], marker='.')\n",
    "        \n",
    "axins.set_ylabel('average time (s)')\n",
    "# axins.set_yscale('log')\n",
    "\n",
    "axins.set_xticks(list(n_qubits.values()))\n",
    "axins.set_xticklabels(ticks_labels);\n",
    "\n",
    "fig.tight_layout()\n",
    "\n",
    "# plt.savefig('grouping_HEEM.pdf')"
   ]
  },
  {
   "cell_type": "markdown",
   "id": "2b14e780-ce42-45ca-92ba-4c4c1d5d4129",
   "metadata": {
    "jp-MarkdownHeadingCollapsed": true,
    "tags": []
   },
   "source": [
    "# Grouping with different devices"
   ]
  },
  {
   "cell_type": "code",
   "execution_count": 17,
   "id": "031e1eff-bf4c-4dab-8cfc-8c5bfef2f144",
   "metadata": {
    "execution": {
     "iopub.execute_input": "2022-02-09T13:00:30.970794Z",
     "iopub.status.busy": "2022-02-09T13:00:30.970794Z",
     "iopub.status.idle": "2022-02-09T13:00:30.991793Z",
     "shell.execute_reply": "2022-02-09T13:00:30.991793Z",
     "shell.execute_reply.started": "2022-02-09T13:00:30.970794Z"
    },
    "tags": []
   },
   "outputs": [
    {
     "name": "stdout",
     "output_type": "stream",
     "text": [
      "Montecarlo shots = 108\n"
     ]
    }
   ],
   "source": [
    "molecule_name = 'C2H2'\n",
    "data = np.load('../data/grouping_devices_only_paulis_{}.npy'.format(molecule_name), allow_pickle=True).item()\n",
    "data['huge']\n",
    "\n",
    "print('Montecarlo shots = {}'.format(len(data['huge']['naive'])))"
   ]
  },
  {
   "cell_type": "code",
   "execution_count": 18,
   "id": "76652cde-432e-4702-a741-66c9c41f38fe",
   "metadata": {
    "execution": {
     "iopub.execute_input": "2022-02-09T13:00:31.258490Z",
     "iopub.status.busy": "2022-02-09T13:00:31.258490Z",
     "iopub.status.idle": "2022-02-09T13:00:31.447490Z",
     "shell.execute_reply": "2022-02-09T13:00:31.447490Z",
     "shell.execute_reply.started": "2022-02-09T13:00:31.258490Z"
    },
    "tags": []
   },
   "outputs": [
    {
     "data": {
      "application/vnd.jupyter.widget-view+json": {
       "model_id": "d8aa0ff4e4df4a1f8afb94d758d27d40",
       "version_major": 2,
       "version_minor": 0
      },
      "text/plain": [
       "Canvas(toolbar=Toolbar(toolitems=[('Home', 'Reset original view', 'home', 'home'), ('Back', 'Back to previous …"
      ]
     },
     "metadata": {},
     "output_type": "display_data"
    },
    {
     "name": "stderr",
     "output_type": "stream",
     "text": [
      "C:\\Users\\david\\AppData\\Local\\Temp/ipykernel_12700/253674882.py:74: UserWarning: This figure includes Axes that are not compatible with tight_layout, so results might be incorrect.\n",
      "  fig.tight_layout()\n"
     ]
    }
   ],
   "source": [
    "chips = ['small', 'big', 'huge']\n",
    "labels = ['naive', 'order_disconnected', 'order_connected']\n",
    "colors = ['C0', 'C1', 'C2']\n",
    "n_qubits_device = {'huge': 65, 'big': 27, 'small': 16}\n",
    "ticks_labels = []\n",
    "for chip in chips:\n",
    "    ticks_labels.append((data['parameters']['name_' + chip] + ' ({})'.format(n_qubits_device[chip])).replace('_', ' '))\n",
    "\n",
    "plt.style.use('science')\n",
    "# fig, ax = plt.subplots()\n",
    "fig, ax = plt.subplots(figsize=(15, 7))\n",
    "\n",
    "w_spacing = 0.02  # Spacing between bar of equal n_qubits\n",
    "w_spacing_big = 0.2  # Spacing between bars of different n_qubits\n",
    "w_bar = (1 - 2 * w_spacing_big - 2 * w_spacing) / 3\n",
    "delta = 1 / 2 - w_spacing_big - w_bar / 2\n",
    "\n",
    "x_pos_mean = []\n",
    "y_pos_mean = []\n",
    "color_mean = []\n",
    "legend = True\n",
    "labels_legend = []\n",
    "\n",
    "for (j, chip) in enumerate(chips):\n",
    "    for (i, label) in enumerate(labels):\n",
    "        violin_parts = ax.violinplot(data[chip][label], showextrema=False, positions=[j + delta * (i - 1)], widths=w_bar,\n",
    "                                         points=max(1, int(np.max(data[chip][label]) - np.min(data[chip][label]))))\n",
    "                                     # points=4)\n",
    "            \n",
    "        for pc in violin_parts['bodies']:\n",
    "            pc.set_facecolor(colors[i])\n",
    "            pc.set_edgecolor(colors[i])\n",
    "            pc.set_alpha(0.4)\n",
    "                \n",
    "        x_pos_mean.append(j + delta * (i - 1))\n",
    "        y_pos_mean.append(np.median(data[chip][label]))\n",
    "        color_mean.append(colors[i])\n",
    "            \n",
    "        if legend:\n",
    "            color = violin_parts[\"bodies\"][0].get_facecolor().flatten()\n",
    "            labels_legend.append((mpatches.Patch(color=color), label.replace('_', ' ')))\n",
    "            \n",
    "    legend = False\n",
    "    \n",
    "ax.scatter(x_pos_mean, y_pos_mean, marker='o', c=color_mean, s=40, zorder=3, alpha=0.9, edgecolors='k')\n",
    "    \n",
    "ax.set_xticks(range(0, 3))\n",
    "ax.set_xticklabels(ticks_labels)\n",
    "ax.set_ylabel('\\# of groups')\n",
    "# ax.set_xlabel('device')\n",
    "ax.set_ylim([ax.get_ylim()[0] - 70, ax.get_ylim()[1]])\n",
    "\n",
    "ax.yaxis.grid(zorder=0, alpha=0.4)\n",
    "# ax.set_title('Grouping ' + molecule_name + ' ({} qubits)'.format(data['parameters']['n_qubits_molecule']))\n",
    "ax.legend(*zip(*labels_legend), bbox_to_anchor=(0.27, 0.3))\n",
    "\n",
    "axins = inset_axes(ax, width=\"100%\", height=\"100%\",\n",
    "                   bbox_to_anchor=(0.55, .13, .4, .25),\n",
    "                   bbox_transform=ax.transAxes)\n",
    "\n",
    "for (i, label) in enumerate(labels):\n",
    "    data_plot_x = []\n",
    "    data_plot_y = []\n",
    "    for chip in chips:\n",
    "        data_plot_y.append(data['time'][chip][label] / len(data[chip][label]))\n",
    "        data_plot_x.append(n_qubits_device[chip])\n",
    "    \n",
    "    axins.plot(data_plot_x, data_plot_y, c=colors[i], marker='.')\n",
    "\n",
    "axins.set_ylabel('time (s)')\n",
    "axins.set_xlabel('\\# of qubits')\n",
    "\n",
    "# axins.set_yscale('log')\n",
    "fig.tight_layout()\n",
    "\n",
    "# plt.savefig('grouping_devices.pdf')"
   ]
  },
  {
   "cell_type": "markdown",
   "id": "90b4bc35-4271-4b93-8a11-e02d9591b7aa",
   "metadata": {
    "tags": []
   },
   "source": [
    "# Join figures"
   ]
  },
  {
   "cell_type": "code",
   "execution_count": 14,
   "id": "3dba564d-a953-45cc-8573-cf5d2c89bf84",
   "metadata": {
    "execution": {
     "iopub.execute_input": "2022-02-14T14:26:49.002128Z",
     "iopub.status.busy": "2022-02-14T14:26:49.002128Z",
     "iopub.status.idle": "2022-02-14T14:26:50.335132Z",
     "shell.execute_reply": "2022-02-14T14:26:50.335132Z",
     "shell.execute_reply.started": "2022-02-14T14:26:49.002128Z"
    },
    "tags": []
   },
   "outputs": [
    {
     "name": "stdout",
     "output_type": "stream",
     "text": [
      "Montercarlo shots for LiH: 5409792\n",
      "Montercarlo shots for BeH2: 3902976\n",
      "Montercarlo shots for H2O: 206208\n",
      "Montercarlo shots for CH4: 24192\n",
      "Montercarlo shots for C2H2: 3444\n"
     ]
    },
    {
     "data": {
      "application/vnd.jupyter.widget-view+json": {
       "model_id": "b8d127d7ce1244c9b15b80f5a6c625df",
       "version_major": 2,
       "version_minor": 0
      },
      "text/plain": [
       "Canvas(toolbar=Toolbar(toolitems=[('Home', 'Reset original view', 'home', 'home'), ('Back', 'Back to previous …"
      ]
     },
     "metadata": {},
     "output_type": "display_data"
    },
    {
     "name": "stderr",
     "output_type": "stream",
     "text": [
      "C:\\Users\\david\\AppData\\Local\\Temp/ipykernel_6508/1434332977.py:166: UserWarning: This figure includes Axes that are not compatible with tight_layout, so results might be incorrect.\n",
      "  fig.tight_layout()\n"
     ]
    }
   ],
   "source": [
    "algorithm = 'HEEM'\n",
    "data_molecules = np.load('../data/comparison_grouping_algorithms_molecules_' + algorithm + '.npy', allow_pickle=True).item()\n",
    "n_qubits = {'LiH': 4, 'BeH2': 6, 'H2O': 8, 'CH4': 10, 'C2H2': 16}\n",
    "ticks_labels = [r'$LiH$', r'$BeH_2$', r'$H_2O$', r'$CH_4$', r'$C_2H_2$']\n",
    "labels = ['naive', 'order_disconnected', 'order_connected']\n",
    "\n",
    "n_montecarlos = {}\n",
    "for (j, molecule) in enumerate(n_qubits.keys()):   \n",
    "    try:\n",
    "        n = len(data_molecules[molecule]['naive'])\n",
    "    except:\n",
    "        n = 0\n",
    "    \n",
    "    print('Montercarlo shots for {}: {}'.format(molecule, n))\n",
    "    n_montecarlos[molecule] = n\n",
    "    # Reduce computation time\n",
    "    if n > 1000:\n",
    "        for label in labels:\n",
    "            data_molecules[molecule][label] = data_molecules[molecule][label][:1000]\n",
    "\n",
    "# -----------------------------------------------------------------------------\n",
    "molecule_name = 'C2H2'\n",
    "data_devices = np.load('../data/grouping_devices_{}.npy'.format(molecule_name), allow_pickle=True).item()\n",
    "chips = ['small', 'big', 'huge']\n",
    "\n",
    "# -----------------------------------------------------------------------------\n",
    "plt.style.use('science')\n",
    "factor = 0.9\n",
    "fig, [ax1, ax2] = plt.subplots(1, 2, figsize=(10 * factor, 4 * factor))\n",
    "\n",
    "labels = ['naive', 'order_disconnected', 'order_connected']\n",
    "colors = ['C0', 'C1', 'C2']\n",
    "\n",
    "w_spacing = 0.02  # Spacing between bar of equal n_qubits\n",
    "w_spacing_big = 0.1  # Spacing between bars of different n_qubits\n",
    "w_bar = (1 - 2 * w_spacing_big - 2 * w_spacing) / 3\n",
    "delta = 1 / 2 - w_spacing_big - w_bar / 2\n",
    "    \n",
    "# -----------------------------------------------------------------------------\n",
    "ax = ax1\n",
    "\n",
    "x_pos_mean = []\n",
    "y_pos_mean = []\n",
    "color_mean = []\n",
    "legend = True\n",
    "\n",
    "for (j, molecule) in enumerate(n_qubits.keys()):\n",
    "    try:\n",
    "        for (i, label) in enumerate(labels):\n",
    "            violin_parts = ax.violinplot(data_molecules[molecule][label], showextrema=False,\n",
    "                                         positions=[j + delta * (i - 1)], widths=w_bar,\n",
    "                                         points=max(1, int(np.max(data_molecules[molecule][label]) - np.min(data_molecules[molecule][label]))))\n",
    "\n",
    "            for pc in violin_parts['bodies']:\n",
    "                pc.set_facecolor(colors[i])\n",
    "                pc.set_edgecolor(colors[i])\n",
    "                pc.set_alpha(0.4)\n",
    "\n",
    "            x_pos_mean.append(j + delta * (i - 1))\n",
    "            y_pos_mean.append(np.median(data_molecules[molecule][label]))\n",
    "            color_mean.append(colors[i])\n",
    "\n",
    "            if legend:\n",
    "                color = violin_parts[\"bodies\"][0].get_facecolor().flatten()\n",
    "        legend = False\n",
    "    except:\n",
    "        pass\n",
    "\n",
    "ax.scatter(x_pos_mean, y_pos_mean, marker='o', c=color_mean, s=40, zorder=3, alpha=0.9, edgecolors='k')\n",
    "\n",
    "ax.set_xticks(range(len(n_qubits.keys())))\n",
    "ax.set_xticklabels(ticks_labels)\n",
    "ax.set_xlabel('molecule')\n",
    "ax.set_ylabel('groups')\n",
    "ax.set_ylim(0, ax.get_ylim()[1])\n",
    "ax.set_xlim(-1, ax.get_xlim()[1])\n",
    "\n",
    "ax.yaxis.grid(zorder=0, alpha=0.4)\n",
    "\n",
    "axins = inset_axes(ax, width=\"100%\", height=\"100%\",\n",
    "                   bbox_to_anchor=(0.13, .45, .5, .5),\n",
    "                   bbox_transform=ax.transAxes)\n",
    "\n",
    "for (i, label) in enumerate(labels):\n",
    "    data_plot_x = []\n",
    "    data_plot_y = []\n",
    "    for molecule in n_qubits.keys():\n",
    "        try:\n",
    "            data_plot_y.append(data_molecules[molecule]['times'][label] / n_montecarlos[molecule])\n",
    "            data_plot_x.append(n_qubits[molecule])\n",
    "        except:\n",
    "            pass\n",
    "    \n",
    "    axins.plot(data_plot_x, data_plot_y, c=colors[i], marker='.')\n",
    "        \n",
    "axins.set_ylabel('time (s)', labelpad=1)\n",
    "\n",
    "# axins.set_xticks(list(n_qubits.values()))\n",
    "# axins.set_xticklabels(ticks_labels)\n",
    "axins.set_xlabel('theoretical qubits')\n",
    "\n",
    "for item in axins.get_xticklabels():\n",
    "    item.set_fontsize(8)\n",
    "\n",
    "# -----------------------------------------------------------------------------\n",
    "ax = ax2\n",
    "n_qubits_device = {'huge': 65, 'big': 27, 'small': 16}\n",
    "ticks_labels = []\n",
    "for chip in chips:\n",
    "    ticks_labels.append(data_devices['parameters']['name_' + chip].replace('_', '\\_'))\n",
    "\n",
    "x_pos_mean = []\n",
    "y_pos_mean = []\n",
    "color_mean = []\n",
    "legend = True\n",
    "\n",
    "for (j, chip) in enumerate(chips):\n",
    "    for (i, label) in enumerate(labels):\n",
    "        violin_parts = ax.violinplot(data_devices[chip][label], showextrema=False, positions=[j + delta * (i - 1)], widths=w_bar,\n",
    "                                         points=max(1, int(np.max(data_devices[chip][label]) - np.min(data_devices[chip][label]))))\n",
    "            \n",
    "        for pc in violin_parts['bodies']:\n",
    "            pc.set_facecolor(colors[i])\n",
    "            pc.set_edgecolor(colors[i])\n",
    "            pc.set_alpha(0.4)\n",
    "                \n",
    "        x_pos_mean.append(j + delta * (i - 1))\n",
    "        y_pos_mean.append(np.median(data_devices[chip][label]))\n",
    "        color_mean.append(colors[i])\n",
    "            \n",
    "        if legend:\n",
    "            color = violin_parts[\"bodies\"][0].get_facecolor().flatten()\n",
    "            \n",
    "    legend = False\n",
    "    \n",
    "ax.scatter(x_pos_mean, y_pos_mean, marker='o', c=color_mean, s=40, zorder=3, alpha=0.9, edgecolors='k')\n",
    "    \n",
    "ax.set_xticks(range(3))\n",
    "ax.set_xticklabels(ticks_labels)\n",
    "ax.set_ylabel('groups')\n",
    "ax.set_xlabel('device')\n",
    "ax.set_ylim([ax.get_ylim()[0] - 100, ax.get_ylim()[1]])\n",
    "\n",
    "ax.yaxis.grid(zorder=0, alpha=0.4)\n",
    "\n",
    "axins = inset_axes(ax, width=\"100%\", height=\"100%\",\n",
    "                   bbox_to_anchor=(0.55, .17, .4, .25),\n",
    "                   bbox_transform=ax.transAxes)\n",
    "\n",
    "for (i, label) in enumerate(labels):\n",
    "    data_plot_x = []\n",
    "    data_plot_y = []\n",
    "    for chip in chips:\n",
    "        data_plot_y.append(data_devices['time'][chip][label] / len(data_devices[chip][label]))\n",
    "        data_plot_x.append(n_qubits_device[chip])\n",
    "    \n",
    "    axins.plot(data_plot_x, data_plot_y, c=colors[i], marker='.')\n",
    "\n",
    "axins.set_ylabel('time (s)')\n",
    "axins.set_xlabel('physical qubits', labelpad=1)\n",
    "\n",
    "# axins.set_yscale('log')\n",
    "\n",
    "fig.subplots_adjust(wspace=0.2)\n",
    "add_labels([ax1, ax2], positions=[-0.08, 1.05], initial_parenthesis=False, fontsize=13)\n",
    "fig.tight_layout()\n",
    "\n",
    "fig.savefig('../../Paper/figures/groups_violins.pdf')"
   ]
  },
  {
   "cell_type": "markdown",
   "id": "a08c872d-a63a-4781-aa85-a62c94704b47",
   "metadata": {},
   "source": [
    "# Evaluate energy"
   ]
  },
  {
   "cell_type": "code",
   "execution_count": 12,
   "id": "9da62a0b-1782-4bb1-b6cc-74623a333299",
   "metadata": {
    "execution": {
     "iopub.execute_input": "2022-02-14T15:20:26.321737Z",
     "iopub.status.busy": "2022-02-14T15:20:26.320737Z",
     "iopub.status.idle": "2022-02-14T15:20:26.328737Z",
     "shell.execute_reply": "2022-02-14T15:20:26.328737Z",
     "shell.execute_reply.started": "2022-02-14T15:20:26.321737Z"
    },
    "tags": []
   },
   "outputs": [
    {
     "name": "stdout",
     "output_type": "stream",
     "text": [
      "Parameters: {'molecule': 'CH4', 'device': 'ibmq_montreal', 'NUM_SHOTS': 16384, 'n_states': 108}\n"
     ]
    }
   ],
   "source": [
    "molecule = 'CH4'\n",
    "noise = True\n",
    "if not noise:\n",
    "    molecule += '_noise_free'\n",
    "data = np.load('../data/energy_evaluation_GHZ_' + molecule + '.npy', allow_pickle=True).item()\n",
    "\n",
    "print('Parameters:', data['parameters'])"
   ]
  },
  {
   "cell_type": "code",
   "execution_count": 13,
   "id": "3905ecf1-beae-4fff-8381-f5a57877dd0e",
   "metadata": {
    "execution": {
     "iopub.execute_input": "2022-02-14T15:20:26.700075Z",
     "iopub.status.busy": "2022-02-14T15:20:26.700075Z",
     "iopub.status.idle": "2022-02-14T15:20:26.708075Z",
     "shell.execute_reply": "2022-02-14T15:20:26.708075Z",
     "shell.execute_reply.started": "2022-02-14T15:20:26.700075Z"
    },
    "tags": []
   },
   "outputs": [
    {
     "name": "stdout",
     "output_type": "stream",
     "text": [
      "TPB:\n",
      "    The number of CNOTs is 0\n",
      "    The average error is 38.555%\n",
      "--------------------------------\n",
      "EM:\n",
      "    The number of CNOTs is 3286\n",
      "    The average error is 32.774%\n",
      "--------------------------------\n",
      "HEEM:\n",
      "    The number of CNOTs is 232\n",
      "    The average error is 14.168%\n",
      "--------------------------------\n"
     ]
    }
   ],
   "source": [
    "methods = ['TPB', 'EM', 'HEEM']\n",
    "\n",
    "for method in methods:\n",
    "    print(method + ':')\n",
    "    if noise:\n",
    "        print('    The number of CNOTs is {}'.format(data['n_cnots_' + method]))\n",
    "    print('    The average error is {:.3f}%'.format(np.average(data[method]) * 100))\n",
    "    print('-' * 32)"
   ]
  },
  {
   "cell_type": "markdown",
   "id": "64c8fe1c-0b6f-4be3-9b89-7f684a8ede28",
   "metadata": {},
   "source": [
    "# Number of CNOTS"
   ]
  },
  {
   "cell_type": "code",
   "execution_count": 46,
   "id": "5d39020d-5b53-486a-9e6a-88e54c0af85f",
   "metadata": {
    "execution": {
     "iopub.execute_input": "2022-02-09T10:33:52.363253Z",
     "iopub.status.busy": "2022-02-09T10:33:52.363253Z",
     "iopub.status.idle": "2022-02-09T10:33:59.065576Z",
     "shell.execute_reply": "2022-02-09T10:33:59.065576Z",
     "shell.execute_reply.started": "2022-02-09T10:33:52.363253Z"
    },
    "tags": []
   },
   "outputs": [
    {
     "name": "stderr",
     "output_type": "stream",
     "text": [
      "ibmqfactory.load_account:WARNING:2022-02-09 11:33:53,222: Credentials are already in use. The existing account in the session will be replaced.\n"
     ]
    }
   ],
   "source": [
    "import networkx as nx\n",
    "import warnings\n",
    "from qiskit import IBMQ\n",
    "from utils import number_cnots_raw, get_backend_connectivity\n",
    "\n",
    "with warnings.catch_warnings():\n",
    "    warnings.simplefilter(\"ignore\")\n",
    "    IBMQ.load_account()\n",
    "    \n",
    "provider = IBMQ.get_provider(hub='ibm-q-csic', group='internal', project='iff-csic')"
   ]
  },
  {
   "cell_type": "code",
   "execution_count": 47,
   "id": "c1b76651-8fd1-4294-9029-56a71ce73a8d",
   "metadata": {
    "execution": {
     "iopub.execute_input": "2022-02-09T10:33:59.066578Z",
     "iopub.status.busy": "2022-02-09T10:33:59.066578Z",
     "iopub.status.idle": "2022-02-09T10:34:01.322078Z",
     "shell.execute_reply": "2022-02-09T10:34:01.322078Z",
     "shell.execute_reply.started": "2022-02-09T10:33:59.066578Z"
    },
    "tags": []
   },
   "outputs": [],
   "source": [
    "name_backend = 'ibmq_montreal'\n",
    "backend_device = provider.get_backend(name_backend)\n",
    "WC_device = get_backend_connectivity(backend_device)\n",
    "G_device = nx.Graph()\n",
    "G_device.add_edges_from(WC_device)"
   ]
  },
  {
   "cell_type": "code",
   "execution_count": 57,
   "id": "73c555bc-d4ac-4c60-9f58-54d57ca2ef2a",
   "metadata": {
    "execution": {
     "iopub.execute_input": "2022-02-09T10:47:32.142928Z",
     "iopub.status.busy": "2022-02-09T10:47:32.141928Z",
     "iopub.status.idle": "2022-02-09T10:47:36.646430Z",
     "shell.execute_reply": "2022-02-09T10:47:36.646430Z",
     "shell.execute_reply.started": "2022-02-09T10:47:32.141928Z"
    },
    "tags": []
   },
   "outputs": [
    {
     "name": "stdout",
     "output_type": "stream",
     "text": [
      "H2 (0)\n",
      "  HEEM (all): 2 groups, 1 CNOTS\n",
      "  HEEM (mont): 2 groups, 1 CNOTS\n",
      "------------------------------------\n",
      "LiH (0)\n",
      "  HEEM (all): 10 groups, 8 CNOTS\n",
      "  HEEM (mont): 10 groups, 8 CNOTS\n",
      "------------------------------------\n",
      "BeH2 (0)\n",
      "  HEEM (all): 11 groups, 17 CNOTS\n",
      "  HEEM (mont): 16 groups, 18 CNOTS\n",
      "------------------------------------\n",
      "H2O (0)\n",
      "  HEEM (all): 41 groups, 86 CNOTS\n",
      "  HEEM (mont): 50 groups, 80 CNOTS\n",
      "------------------------------------\n",
      "CH4 (0)\n",
      "  HEEM (all): 101 groups, 343 CNOTS\n",
      "  HEEM (mont): 138 groups, 224 CNOTS\n",
      "------------------------------------\n",
      "C2H2 (0)\n",
      "  HEEM (all): 183 groups, 1137 CNOTS\n",
      "  HEEM (mont): 282 groups, 433 CNOTS\n",
      "------------------------------------\n"
     ]
    }
   ],
   "source": [
    "molecule_names = ['H2', 'LiH', 'BeH2', 'H2O', 'CH4', 'C2H2']\n",
    "\n",
    "for molecule in molecule_names:\n",
    "    data = np.load('../data/optimal_grouping_' + molecule + '_ibmq_montreal.npy', allow_pickle=True).item()\n",
    "    print(molecule, f\"({data['HEEM']['N_total']})\")\n",
    "    Measurements_HEEM_all = data['EM']['Measurements']\n",
    "    Measurements_HEEM_mont = data['HEEM']['Measurements']\n",
    "    T = data['HEEM']['T']\n",
    "    \n",
    "    num_qubits = len(T)\n",
    "    \n",
    "    n_cnots_HEEM_all = number_cnots_raw(Measurements_HEEM_all, num_qubits, WC_device)\n",
    "    n_cnots_HEEM_mont = number_cnots_raw(Measurements_HEEM_mont, num_qubits, WC_device, T)\n",
    "    \n",
    "    print('  HEEM (all): {} groups, {} CNOTS'.format(len(Measurements_HEEM_all), n_cnots_HEEM_all))\n",
    "    print('  HEEM (mont): {} groups, {} CNOTS'.format(len(Measurements_HEEM_mont), n_cnots_HEEM_mont))\n",
    "    print('-' * 36)"
   ]
  },
  {
   "cell_type": "markdown",
   "id": "9ec01e20-348c-4900-91a3-2a2dab00975e",
   "metadata": {},
   "source": [
    "# Time complexity"
   ]
  },
  {
   "cell_type": "code",
   "execution_count": 14,
   "id": "5df4e28e-935a-4de3-bdbf-dcaced18d5b1",
   "metadata": {
    "execution": {
     "iopub.execute_input": "2022-02-14T15:26:37.544598Z",
     "iopub.status.busy": "2022-02-14T15:26:37.543610Z",
     "iopub.status.idle": "2022-02-14T15:26:38.024101Z",
     "shell.execute_reply": "2022-02-14T15:26:38.024101Z",
     "shell.execute_reply.started": "2022-02-14T15:26:37.544598Z"
    },
    "tags": []
   },
   "outputs": [],
   "source": [
    "from utils import molecules"
   ]
  },
  {
   "cell_type": "code",
   "execution_count": 34,
   "id": "163cd3d3-7efb-4a44-9ceb-68bcbb13870c",
   "metadata": {
    "execution": {
     "iopub.execute_input": "2022-02-14T15:33:59.353876Z",
     "iopub.status.busy": "2022-02-14T15:33:59.352876Z",
     "iopub.status.idle": "2022-02-14T15:34:37.539129Z",
     "shell.execute_reply": "2022-02-14T15:34:37.539129Z",
     "shell.execute_reply.started": "2022-02-14T15:33:59.353876Z"
    },
    "tags": []
   },
   "outputs": [
    {
     "name": "stdout",
     "output_type": "stream",
     "text": [
      "Computing molecule\n",
      "Computing molecule\n",
      "Computing molecule\n",
      "Computing molecule\n",
      "Data loaded\n",
      "Computing molecule\n"
     ]
    }
   ],
   "source": [
    "data = np.load('comparison_grouping_algorithms_molecules_HEEM.npy', allow_pickle=True).item()\n",
    "\n",
    "qubits_op = {}\n",
    "for molecule in data.keys():\n",
    "    try:\n",
    "        qubits_op[molecule] = np.load('big_molecules.npy', allow_pickle=True).item()[molecule]\n",
    "        print('Data loaded')\n",
    "    except KeyError:\n",
    "        print('Computing molecule')\n",
    "        qubits_op[molecule] = molecules(molecule)"
   ]
  },
  {
   "cell_type": "code",
   "execution_count": 48,
   "id": "414a78a7-c3f8-4b27-8b53-80e542c72a6e",
   "metadata": {
    "execution": {
     "iopub.execute_input": "2022-02-14T15:37:28.649317Z",
     "iopub.status.busy": "2022-02-14T15:37:28.649317Z",
     "iopub.status.idle": "2022-02-14T15:37:28.675315Z",
     "shell.execute_reply": "2022-02-14T15:37:28.675315Z",
     "shell.execute_reply.started": "2022-02-14T15:37:28.649317Z"
    },
    "tags": []
   },
   "outputs": [],
   "source": [
    "n_qubits_dic = {'H2': 2, 'LiH': 4, 'BeH2': 6, 'H2O': 8, 'CH4': 10, 'C2H2': 16}\n",
    "n_paulis = []\n",
    "n_groups = []\n",
    "n_qubits = []\n",
    "times = []\n",
    "\n",
    "# method = 'order_connected'\n",
    "method = 'naive'\n",
    "\n",
    "for molecule in data.keys():\n",
    "    qubit_op = qubits_op[molecule]\n",
    "\n",
    "    n_paulis.append(len(qubit_op))\n",
    "    n_groups.append(np.min(data[molecule][method]))\n",
    "    n_qubits.append(n_qubits_dic[molecule])\n",
    "    times.append(data[molecule]['times'][method] / len(data[molecule][method]))"
   ]
  },
  {
   "cell_type": "code",
   "execution_count": 49,
   "id": "b2738d13-7f58-4fbd-87ad-e930d04a165d",
   "metadata": {
    "execution": {
     "iopub.execute_input": "2022-02-14T15:37:29.215633Z",
     "iopub.status.busy": "2022-02-14T15:37:29.215633Z",
     "iopub.status.idle": "2022-02-14T15:37:29.255678Z",
     "shell.execute_reply": "2022-02-14T15:37:29.255678Z",
     "shell.execute_reply.started": "2022-02-14T15:37:29.215633Z"
    },
    "tags": []
   },
   "outputs": [
    {
     "name": "stderr",
     "output_type": "stream",
     "text": [
      "C:\\Users\\david\\anaconda3\\envs\\heem\\lib\\site-packages\\ipywidgets\\widgets\\widget.py:412: DeprecationWarning: Passing unrecognized arguments to super(Toolbar).__init__().\n",
      "__init__() missing 1 required positional argument: 'canvas'\n",
      "This is deprecated in traitlets 4.2.This error will be raised in a future release of traitlets.\n",
      "  super(Widget, self).__init__(**kwargs)\n"
     ]
    },
    {
     "data": {
      "application/vnd.jupyter.widget-view+json": {
       "model_id": "aaeeeb00460a4827af789d0dbf886167",
       "version_major": 2,
       "version_minor": 0
      },
      "text/plain": [
       "Canvas(toolbar=Toolbar(toolitems=[('Home', 'Reset original view', 'home', 'home'), ('Back', 'Back to previous …"
      ]
     },
     "metadata": {},
     "output_type": "display_data"
    },
    {
     "name": "stdout",
     "output_type": "stream",
     "text": [
      "2.3969973636509523 2.9011701119083213\n"
     ]
    }
   ],
   "source": [
    "fig, ax = plt.subplots()\n",
    "ax.plot(n_qubits, n_groups, 'g.')\n",
    "ax.plot(n_qubits, n_paulis, 'r.')\n",
    "\n",
    "alpha1, beta1 = np.polyfit(np.log10(n_qubits), np.log10(n_groups), 1)\n",
    "alpha2, beta2 = np.polyfit(np.log10(n_qubits), np.log10(n_paulis), 1)\n",
    "\n",
    "x_array = np.array([min(n_qubits), max(n_qubits)])\n",
    "ax.plot(x_array, 10 ** beta1 * x_array ** alpha1,'g--')\n",
    "ax.plot(x_array, 10 ** beta2 * x_array ** alpha2, 'r--')\n",
    "\n",
    "ax.set_xlabel('# qubits')\n",
    "ax.set_ylabel('# terms')\n",
    "\n",
    "ax.set_yscale('log')\n",
    "ax.set_xscale('log')\n",
    "\n",
    "print(alpha1, alpha2)"
   ]
  },
  {
   "cell_type": "code",
   "execution_count": 42,
   "id": "d1236f54-b4e0-473f-b6f3-89c819cd718c",
   "metadata": {
    "execution": {
     "iopub.execute_input": "2022-02-14T15:36:06.140207Z",
     "iopub.status.busy": "2022-02-14T15:36:06.140207Z",
     "iopub.status.idle": "2022-02-14T15:36:06.169208Z",
     "shell.execute_reply": "2022-02-14T15:36:06.169208Z",
     "shell.execute_reply.started": "2022-02-14T15:36:06.140207Z"
    },
    "tags": []
   },
   "outputs": [
    {
     "name": "stderr",
     "output_type": "stream",
     "text": [
      "C:\\Users\\david\\anaconda3\\envs\\heem\\lib\\site-packages\\ipywidgets\\widgets\\widget.py:412: DeprecationWarning: Passing unrecognized arguments to super(Toolbar).__init__().\n",
      "__init__() missing 1 required positional argument: 'canvas'\n",
      "This is deprecated in traitlets 4.2.This error will be raised in a future release of traitlets.\n",
      "  super(Widget, self).__init__(**kwargs)\n"
     ]
    },
    {
     "data": {
      "application/vnd.jupyter.widget-view+json": {
       "model_id": "c2c549b1a4ec40c6894f96c9dd103694",
       "version_major": 2,
       "version_minor": 0
      },
      "text/plain": [
       "Canvas(toolbar=Toolbar(toolitems=[('Home', 'Reset original view', 'home', 'home'), ('Back', 'Back to previous …"
      ]
     },
     "metadata": {},
     "output_type": "display_data"
    },
    {
     "name": "stdout",
     "output_type": "stream",
     "text": [
      "5.072705358910606\n"
     ]
    }
   ],
   "source": [
    "fig, ax = plt.subplots()\n",
    "ax.plot(n_qubits, times, 'g.')\n",
    "\n",
    "alpha, beta = np.polyfit(np.log10(n_qubits), np.log10(times), 1)\n",
    "\n",
    "x_array = np.array([min(n_qubits), max(n_qubits)])\n",
    "ax.plot(x_array, 10 ** beta * x_array ** alpha,'g--')\n",
    "\n",
    "ax.set_xlabel('# qubits')\n",
    "ax.set_ylabel('time (s)')\n",
    "\n",
    "ax.set_yscale('log')\n",
    "ax.set_xscale('log')\n",
    "\n",
    "print(alpha)"
   ]
  },
  {
   "cell_type": "markdown",
   "id": "7acccce6-6c88-46e5-b1e8-21ea6a1db72f",
   "metadata": {},
   "source": [
    "# Error in simulation"
   ]
  },
  {
   "cell_type": "code",
   "execution_count": 51,
   "id": "f4796309-7ad8-43bd-9c7d-c87696fd9888",
   "metadata": {
    "execution": {
     "iopub.execute_input": "2022-05-31T06:37:54.135081Z",
     "iopub.status.busy": "2022-05-31T06:37:54.133540Z",
     "iopub.status.idle": "2022-05-31T06:37:54.168708Z",
     "shell.execute_reply": "2022-05-31T06:37:54.167945Z",
     "shell.execute_reply.started": "2022-05-31T06:37:54.134949Z"
    },
    "tags": []
   },
   "outputs": [],
   "source": [
    "initial_state = '0xN'\n",
    "folder = 'energies/' + initial_state + '/'\n",
    "molecules = ['LiH', 'H2O', 'CH4', 'C2H2', 'CH3OH', 'C2H6']\n",
    "exact_energies = [-0.551, -6.406, -10.663, -10.663, -13.724, -11.419]"
   ]
  },
  {
   "cell_type": "code",
   "execution_count": 52,
   "id": "ce7b6667-8e95-49cd-b33c-82909b114c7c",
   "metadata": {
    "execution": {
     "iopub.execute_input": "2022-05-31T06:37:54.934182Z",
     "iopub.status.busy": "2022-05-31T06:37:54.933928Z",
     "iopub.status.idle": "2022-05-31T06:37:55.026485Z",
     "shell.execute_reply": "2022-05-31T06:37:55.026054Z",
     "shell.execute_reply.started": "2022-05-31T06:37:54.934168Z"
    },
    "tags": []
   },
   "outputs": [],
   "source": [
    "methods = ['TPB', 'EM', 'HEEM']\n",
    "\n",
    "data_avg = {}\n",
    "data_std = {}\n",
    "for method in methods:\n",
    "    avg = []\n",
    "    std = []\n",
    "    for exact_energy, molecule in zip(exact_energies, molecules):\n",
    "        energies = np.load(folder + molecule + '_' + method + '.npy')\n",
    "        error = np.abs((energies - exact_energy) / exact_energy)\n",
    "                       \n",
    "        avg.append(np.average(error))\n",
    "        std.append(np.std(error))\n",
    "                       \n",
    "    data_avg[method] = np.array(avg)\n",
    "    data_std[method] = np.array(std)"
   ]
  },
  {
   "cell_type": "code",
   "execution_count": 72,
   "id": "7e8e5740-9fef-4e76-a5c5-786be91b6e4d",
   "metadata": {
    "execution": {
     "iopub.execute_input": "2022-05-31T06:48:13.734247Z",
     "iopub.status.busy": "2022-05-31T06:48:13.733881Z",
     "iopub.status.idle": "2022-05-31T06:48:13.800364Z",
     "shell.execute_reply": "2022-05-31T06:48:13.799842Z",
     "shell.execute_reply.started": "2022-05-31T06:48:13.734231Z"
    },
    "tags": []
   },
   "outputs": [
    {
     "data": {
      "application/vnd.jupyter.widget-view+json": {
       "model_id": "aaf7823db36d4c549b8463cde61811fd",
       "version_major": 2,
       "version_minor": 0
      },
      "image/png": "[encoded data removed]",
      "text/html": [
       "\n",
       "            <div style=\"display: inline-block;\">\n",
       "                <div class=\"jupyter-widgets widget-label\" style=\"text-align: center;\">\n",
       "                    Figure\n",
       "                </div>\n",
       "                <img src='data:image/png;base64,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' width=640.0/>\n",
       "            </div>\n",
       "        "
      ],
      "text/plain": [
       "Canvas(toolbar=Toolbar(toolitems=[('Home', 'Reset original view', 'home', 'home'), ('Back', 'Back to previous …"
      ]
     },
     "metadata": {},
     "output_type": "display_data"
    }
   ],
   "source": [
    "colors = {'TPB': '#0C5DA5', 'HEEM':'#00B945', 'EM': '#FF9500'}\n",
    "fig, ax = plt.subplots()\n",
    "\n",
    "x = np.arange(len(molecules))\n",
    "for method in methods:\n",
    "    color = colors[method]\n",
    "    avg = data_avg[method] * 100\n",
    "    std = data_std[method] * 100\n",
    "    \n",
    "    # ax.errorbar(x, avg, yerr=std, fmt='o', label=method, ecolor=color)\n",
    "    \n",
    "    line = ax.plot(x, avg, label=method, c=color)\n",
    "    ax.fill_between(x, avg - std, avg + std, alpha=0.2, color=color)\n",
    "    for i in range(2):\n",
    "        ax.plot(x, avg + (-1) ** i * std, ls='-', alpha=0.3, c=color)\n",
    "\n",
    "# ax.set_yscale('log')\n",
    "        \n",
    "ax.set_xlim(0, max(x))\n",
    "ax.set_ylim(0, None)\n",
    "\n",
    "ax.set_ylabel('error [%]')\n",
    "\n",
    "ax.set_xticks(np.arange(len(molecules)))\n",
    "ax.set_xticklabels(molecules)\n",
    "\n",
    "ax.legend();"
   ]
  }
 ],
 "metadata": {
  "kernelspec": {
   "display_name": "Python 3 (ipykernel)",
   "language": "python",
   "name": "python3"
  },
  "language_info": {
   "codemirror_mode": {
    "name": "ipython",
    "version": 3
   },
   "file_extension": ".py",
   "mimetype": "text/x-python",
   "name": "python",
   "nbconvert_exporter": "python",
   "pygments_lexer": "ipython3",
   "version": "3.9.12"
  }
 },
 "nbformat": 4,
 "nbformat_minor": 5
}
