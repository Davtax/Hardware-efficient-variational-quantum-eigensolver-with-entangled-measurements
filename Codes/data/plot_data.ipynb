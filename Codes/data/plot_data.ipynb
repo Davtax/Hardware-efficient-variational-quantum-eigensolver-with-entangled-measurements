{
 "cells": [
  {
   "cell_type": "code",
   "execution_count": 1,
   "id": "559b4fa7-f319-4668-ba53-ee9f690b7bc0",
   "metadata": {
    "execution": {
     "iopub.execute_input": "2022-06-20T12:49:28.144232Z",
     "iopub.status.busy": "2022-06-20T12:49:28.143233Z",
     "iopub.status.idle": "2022-06-20T12:49:30.555225Z",
     "shell.execute_reply": "2022-06-20T12:49:30.554223Z",
     "shell.execute_reply.started": "2022-06-20T12:49:28.144232Z"
    },
    "tags": []
   },
   "outputs": [],
   "source": [
    "import sys\n",
    "sys.path.append('../')\n",
    "\n",
    "%load_ext autoreload\n",
    "%autoreload 1\n",
    "\n",
    "import numpy as np\n",
    "import matplotlib.pyplot as plt\n",
    "from mpl_toolkits.axes_grid1.inset_locator import inset_axes\n",
    "import matplotlib.patches as mpatches\n",
    "import warnings\n",
    "from string import ascii_lowercase\n",
    "# from qiskit.algorithms import NumPyMinimumEigensolver\n",
    "\n",
    "%matplotlib widget"
   ]
  },
  {
   "cell_type": "code",
   "execution_count": 4,
   "id": "0fa2302c-a961-498c-9ccd-b759993587d1",
   "metadata": {
    "execution": {
     "iopub.execute_input": "2022-06-14T13:55:12.645831Z",
     "iopub.status.busy": "2022-06-14T13:55:12.645831Z",
     "iopub.status.idle": "2022-06-14T13:55:12.653832Z",
     "shell.execute_reply": "2022-06-14T13:55:12.653832Z",
     "shell.execute_reply.started": "2022-06-14T13:55:12.645831Z"
    },
    "tags": []
   },
   "outputs": [],
   "source": [
    "def add_labels(axs, positions=None, letters=None, fontsize=11, initial_parenthesis=True):\n",
    "    if positions is None:\n",
    "        positions = [[-0.1, 1.1]] * len(axs)\n",
    "    else:\n",
    "        if type(positions[0]) != 'list':\n",
    "            positions = [positions] * len(axs)\n",
    "\n",
    "    if letters is None:\n",
    "        letters = []\n",
    "        for i in range(len(axs)):\n",
    "            letters.append(ascii_lowercase[i])\n",
    "\n",
    "    if initial_parenthesis:\n",
    "        initial = '('\n",
    "    else:\n",
    "        initial = ''\n",
    "\n",
    "    for i in range(len(axs)):\n",
    "        ax = axs[i]\n",
    "        ax.text(positions[i][0], positions[i][1], initial + letters[i] + ')', horizontalalignment='center',\n",
    "                verticalalignment='center', transform=ax.transAxes, fontsize=fontsize)"
   ]
  },
  {
   "cell_type": "markdown",
   "id": "85e36a47-b881-453d-92c7-ebc916ffaa38",
   "metadata": {
    "jp-MarkdownHeadingCollapsed": true,
    "tags": []
   },
   "source": [
    "# $H_20$ grouping vs $x$ (w/ shuffle)"
   ]
  },
  {
   "cell_type": "code",
   "execution_count": 2,
   "id": "7f2f6d92-f8c9-4ef9-a733-8ba924efa922",
   "metadata": {
    "execution": {
     "iopub.execute_input": "2021-11-16T10:14:09.204264Z",
     "iopub.status.busy": "2021-11-16T10:14:09.204156Z",
     "iopub.status.idle": "2021-11-16T10:14:09.209666Z",
     "shell.execute_reply": "2021-11-16T10:14:09.209266Z",
     "shell.execute_reply.started": "2021-11-16T10:14:09.204249Z"
    },
    "tags": []
   },
   "outputs": [
    {
     "name": "stdout",
     "output_type": "stream",
     "text": [
      "dict_keys(['x_vec', 'n_groups', 'optimal_order_paulis', 'optimal_order_qubits', 'optimal_graph'])\n"
     ]
    }
   ],
   "source": [
    "file = 'H20_grouping_shuffle_ideal_vs_connectivity'\n",
    "data = np.load(file + '.npy', allow_pickle=True).item()\n",
    "\n",
    "print(data.keys())\n",
    "\n",
    "for key in data:\n",
    "    vars()[key] = data[key]"
   ]
  },
  {
   "cell_type": "code",
   "execution_count": 3,
   "id": "c88310d2-560e-4778-aa50-0f12e347cee1",
   "metadata": {
    "execution": {
     "iopub.execute_input": "2021-11-16T10:14:09.210534Z",
     "iopub.status.busy": "2021-11-16T10:14:09.210400Z",
     "iopub.status.idle": "2021-11-16T10:14:09.283313Z",
     "shell.execute_reply": "2021-11-16T10:14:09.282685Z",
     "shell.execute_reply.started": "2021-11-16T10:14:09.210520Z"
    },
    "tags": []
   },
   "outputs": [],
   "source": [
    "n_x = len(x_vec)\n",
    "\n",
    "n_std = np.zeros(n_x)\n",
    "n_avg = np.zeros(n_x)\n",
    "n_min = np.zeros(n_x)\n",
    "n_max = np.zeros(n_x)\n",
    "\n",
    "for i in range(n_x):\n",
    "    n_std[i] = np.std(n_groups[i])\n",
    "    n_avg[i] = np.mean(n_groups[i])\n",
    "    n_min[i] = np.min(n_groups[i])\n",
    "    n_max[i] = np.max(n_groups[i])"
   ]
  },
  {
   "cell_type": "code",
   "execution_count": 4,
   "id": "6af6b35a-354c-4b50-86ed-8c9e8e9f7cac",
   "metadata": {
    "execution": {
     "iopub.execute_input": "2021-11-16T10:14:09.284077Z",
     "iopub.status.busy": "2021-11-16T10:14:09.283911Z",
     "iopub.status.idle": "2021-11-16T10:14:09.391162Z",
     "shell.execute_reply": "2021-11-16T10:14:09.390753Z",
     "shell.execute_reply.started": "2021-11-16T10:14:09.284055Z"
    },
    "tags": []
   },
   "outputs": [
    {
     "data": {
      "image/png": "[encoded data removed]",
      "text/plain": [
       "<Figure size 432x288 with 1 Axes>"
      ]
     },
     "metadata": {
      "needs_background": "light"
     },
     "output_type": "display_data"
    }
   ],
   "source": [
    "fig, ax = plt.subplots()\n",
    "ax.plot(x_vec, n_avg)\n",
    "ax.fill_between(x_vec, n_avg - n_std, n_avg + n_std, alpha=0.25)\n",
    "ax.plot(x_vec, n_min, '--')\n",
    "ax.plot(x_vec, n_max, '--')\n",
    "ax.set_xlabel('x')\n",
    "ax.set_ylabel('# of groups')\n",
    "ax.set_xlim([x_vec[0], x_vec[-1]]);"
   ]
  },
  {
   "cell_type": "code",
   "execution_count": 5,
   "id": "28efef47-62a7-46dc-8ee3-a921987dfa0b",
   "metadata": {
    "execution": {
     "iopub.execute_input": "2021-10-29T07:41:27.626154Z",
     "iopub.status.busy": "2021-10-29T07:41:27.625955Z",
     "iopub.status.idle": "2021-10-29T07:41:27.629713Z",
     "shell.execute_reply": "2021-10-29T07:41:27.629301Z",
     "shell.execute_reply.started": "2021-10-29T07:41:27.626131Z"
    },
    "tags": []
   },
   "outputs": [
    {
     "name": "stdout",
     "output_type": "stream",
     "text": [
      "The minumum number of groups is 36, obtained for x = 0.842\n"
     ]
    }
   ],
   "source": [
    "index_min = np.argmin(n_min)\n",
    "print('The minumum number of groups is {:.0f}, obtained for x = {:.3f}'.format(n_min[index_min], x_vec[index_min]))"
   ]
  },
  {
   "cell_type": "code",
   "execution_count": 14,
   "id": "40dfb10c-7cf4-446f-ad03-7f8bc53119fc",
   "metadata": {
    "execution": {
     "iopub.execute_input": "2021-10-29T07:53:14.487003Z",
     "iopub.status.busy": "2021-10-29T07:53:14.486783Z",
     "iopub.status.idle": "2021-10-29T07:53:14.540167Z",
     "shell.execute_reply": "2021-10-29T07:53:14.539847Z",
     "shell.execute_reply.started": "2021-10-29T07:53:14.486980Z"
    },
    "tags": []
   },
   "outputs": [
    {
     "data": {
      "application/vnd.jupyter.widget-view+json": {
       "model_id": "679d0d58b613434696b6d5b413201f94",
       "version_major": 2,
       "version_minor": 0
      },
      "image/png": "[encoded data removed]",
      "text/plain": [
       "Canvas(toolbar=Toolbar(toolitems=[('Home', 'Reset original view', 'home', 'home'), ('Back', 'Back to previous …"
      ]
     },
     "metadata": {},
     "output_type": "display_data"
    }
   ],
   "source": [
    "plt.figure()\n",
    "nx.draw(optimal_graph[index_min])"
   ]
  },
  {
   "cell_type": "markdown",
   "id": "0fbafcb0-e0e1-476d-ae4f-330ba90f0e71",
   "metadata": {
    "jp-MarkdownHeadingCollapsed": true,
    "tags": []
   },
   "source": [
    "# Optimal VQE"
   ]
  },
  {
   "cell_type": "markdown",
   "id": "ef182dbe-4bf0-4c53-bd50-03c1ae54290b",
   "metadata": {},
   "source": [
    "## Simulation"
   ]
  },
  {
   "cell_type": "code",
   "execution_count": 53,
   "id": "0fae5200-b6ff-4aed-89a7-1b0902a8af3e",
   "metadata": {
    "execution": {
     "iopub.execute_input": "2022-02-10T15:44:28.397416Z",
     "iopub.status.busy": "2022-02-10T15:44:28.396415Z",
     "iopub.status.idle": "2022-02-10T15:44:28.611411Z",
     "shell.execute_reply": "2022-02-10T15:44:28.611411Z",
     "shell.execute_reply.started": "2022-02-10T15:44:28.397416Z"
    },
    "tags": []
   },
   "outputs": [
    {
     "name": "stdout",
     "output_type": "stream",
     "text": [
      "The exact energy is: -13.918\n",
      "Number of groups for each algorithm {'TPB': 93, 'EM': 41, 'HEEM': 50}\n",
      "There is a total of 240 VQE runs\n"
     ]
    }
   ],
   "source": [
    "molecule = 'H2O'\n",
    "name_backend = 'ibmq_montreal'\n",
    "\n",
    "noise = True\n",
    "file_name = 'VQE_'\n",
    "if not noise:\n",
    "    file_name += 'noise_free_'\n",
    "    \n",
    "data_sim = np.load('../data/' + file_name + molecule + '_' + name_backend + '.npy', allow_pickle=True).item()\n",
    "\n",
    "data_qubit_op = np.load('../data/optimal_grouping_' + molecule + '_' + name_backend + '.npy', allow_pickle=True).item()\n",
    "qubit_op = data_qubit_op['qubit_op']\n",
    "num_qubits = qubit_op.num_qubits\n",
    "\n",
    "groupings = ['TPB', 'EM', 'HEEM']\n",
    "n_groups = {}\n",
    "for grouping in groupings:\n",
    "    n_groups[grouping] = data_qubit_op[grouping]['n_min']\n",
    "\n",
    "result_exact = NumPyMinimumEigensolver().compute_minimum_eigenvalue(qubit_op)\n",
    "print('The exact energy is: {:.3f}'.format(np.real(result_exact.eigenvalue)))\n",
    "\n",
    "print('Number of groups for each algorithm', n_groups)\n",
    "\n",
    "print('There is a total of {} VQE runs'.format(data_sim['TPB'].shape[0]))"
   ]
  },
  {
   "cell_type": "code",
   "execution_count": 54,
   "id": "50d09326-3b8a-4d7f-a5f6-6f8f5a39a1e0",
   "metadata": {
    "execution": {
     "iopub.execute_input": "2022-02-10T15:44:28.674413Z",
     "iopub.status.busy": "2022-02-10T15:44:28.674413Z",
     "iopub.status.idle": "2022-02-10T15:44:28.751411Z",
     "shell.execute_reply": "2022-02-10T15:44:28.751411Z",
     "shell.execute_reply.started": "2022-02-10T15:44:28.674413Z"
    },
    "tags": []
   },
   "outputs": [
    {
     "data": {
      "application/vnd.jupyter.widget-view+json": {
       "model_id": "c1ddeebeba474811b040df53023f417c",
       "version_major": 2,
       "version_minor": 0
      },
      "text/plain": [
       "Canvas(toolbar=Toolbar(toolitems=[('Home', 'Reset original view', 'home', 'home'), ('Back', 'Back to previous …"
      ]
     },
     "metadata": {},
     "output_type": "display_data"
    },
    {
     "name": "stdout",
     "output_type": "stream",
     "text": [
      "For TPB, the final energy is -11.791 ± 0.216\n",
      "For EM, the final energy is -11.204 ± 0.340\n",
      "For HEEM, the final energy is -12.115 ± 0.261\n"
     ]
    },
    {
     "name": "stderr",
     "output_type": "stream",
     "text": [
      "C:\\Users\\david\\AppData\\Local\\Temp/ipykernel_23420/2300978107.py:49: UserWarning: This figure includes Axes that are not compatible with tight_layout, so results might be incorrect.\n",
      "  fig.tight_layout()\n"
     ]
    }
   ],
   "source": [
    "plt.style.use('default')\n",
    "\n",
    "labels = ['TPB', 'EM', 'HEEM']\n",
    "colors = {'TPB': '#0C5DA5', 'HEEM':'#00B945', 'EM': '#FF9500'}\n",
    "\n",
    "fig, ax = plt.subplots()\n",
    "\n",
    "axins = inset_axes(ax, width=\"100%\", height=\"100%\",\n",
    "                   bbox_to_anchor=(.45, .6, .53, .4),\n",
    "                   bbox_transform=ax.transAxes)\n",
    "\n",
    "for label in labels:\n",
    "    color = colors[label]\n",
    "    \n",
    "    energies_temp = data_sim[label][:, 50:-1]\n",
    "    energies = (energies_temp[:, ::2] + energies_temp[:, 1::2]) / 2\n",
    "    \n",
    "    std = np.std(energies, axis=0)\n",
    "    mean = np.mean(energies, axis=0)\n",
    "    \n",
    "    x_vec = np.arange(0, len(energies[0]))\n",
    "    \n",
    "    line = ax.plot(x_vec, mean, label=label, c=color)\n",
    "    ax.fill_between(x_vec, mean - std, mean + std, alpha=0.2, color=color)\n",
    "    for i in range(2):\n",
    "        ax.plot(x_vec, mean + (-1) ** i * std, ls='-', alpha=0.3, c=color)\n",
    "    \n",
    "    x_vec *= n_groups[label]  \n",
    "    line = axins.plot(x_vec, mean, label=label, c=color)\n",
    "    axins.fill_between(x_vec, mean - std, mean + std, alpha=0.2, color=color)\n",
    "    for i in range(2):\n",
    "        axins.plot(x_vec, mean + (-1) ** i * std, ls='-', alpha=0.3, c=color)\n",
    "    \n",
    "    print('For {}, the final energy is {:.3f} ± {:.3f}'.format(label, mean[-1], std[-1]))\n",
    "\n",
    "\n",
    "ax.set_xlabel('iteration')\n",
    "ax.set_xlim(0, (len(std) - 1))\n",
    "ax.set_ylim(-12.5, -9)\n",
    "\n",
    "axins.set_xlabel('number of circuits')\n",
    "axins.set_xlim(0, (len(std) - 1) * n_groups['EM'])\n",
    "axins.set_ylim(ax.set_ylim())\n",
    "\n",
    "ax.set_ylabel('energy [Ha]')\n",
    "axins.set_ylabel('energy [Ha]')\n",
    "\n",
    "# ax.legend()\n",
    "fig.tight_layout()\n",
    "\n",
    "# plt.savefig('../../Paper/figures/VQE_' + molecule + '.pdf')"
   ]
  },
  {
   "cell_type": "markdown",
   "id": "f5b02cf6-0d0f-454d-bf2e-819c88d389bc",
   "metadata": {},
   "source": [
    "## Real device"
   ]
  },
  {
   "cell_type": "code",
   "execution_count": 55,
   "id": "9d993a40-00d6-45dd-aa7d-ed525b894dd9",
   "metadata": {
    "execution": {
     "iopub.execute_input": "2022-02-10T15:44:30.255214Z",
     "iopub.status.busy": "2022-02-10T15:44:30.254214Z",
     "iopub.status.idle": "2022-02-10T15:44:30.268210Z",
     "shell.execute_reply": "2022-02-10T15:44:30.268210Z",
     "shell.execute_reply.started": "2022-02-10T15:44:30.255214Z"
    },
    "tags": []
   },
   "outputs": [],
   "source": [
    "molecule = 'H2O'\n",
    "name_backend = 'ibmq_guadalupe'\n",
    "    \n",
    "data_real = np.load('../data/' + file_name + molecule + '_' + name_backend + '_experiment.npy')"
   ]
  },
  {
   "cell_type": "code",
   "execution_count": 57,
   "id": "fdad2337-cd63-4359-b1a0-e119dba354d0",
   "metadata": {
    "execution": {
     "iopub.execute_input": "2022-02-10T15:44:42.691176Z",
     "iopub.status.busy": "2022-02-10T15:44:42.691176Z",
     "iopub.status.idle": "2022-02-10T15:44:42.766182Z",
     "shell.execute_reply": "2022-02-10T15:44:42.766182Z",
     "shell.execute_reply.started": "2022-02-10T15:44:42.691176Z"
    },
    "tags": []
   },
   "outputs": [
    {
     "data": {
      "application/vnd.jupyter.widget-view+json": {
       "model_id": "f3321ee3797a464ea488140785f9d32a",
       "version_major": 2,
       "version_minor": 0
      },
      "text/plain": [
       "Canvas(toolbar=Toolbar(toolitems=[('Home', 'Reset original view', 'home', 'home'), ('Back', 'Back to previous …"
      ]
     },
     "metadata": {},
     "output_type": "display_data"
    },
    {
     "name": "stderr",
     "output_type": "stream",
     "text": [
      "C:\\Users\\david\\AppData\\Local\\Temp/ipykernel_23420/139130207.py:29: UserWarning: This figure includes Axes that are not compatible with tight_layout, so results might be incorrect.\n",
      "  fig.tight_layout()\n"
     ]
    }
   ],
   "source": [
    "plt.style.use('default')\n",
    "\n",
    "labels = ['TPB', 'EM', 'HEEM']\n",
    "n_groups = [93, 48, 62]\n",
    "colors = {'TPB': '#0C5DA5', 'HEEM':'#00B945', 'EM': '#FF9500'}\n",
    "\n",
    "fig, ax = plt.subplots()\n",
    "axins = inset_axes(ax, width=\"100%\", height=\"100%\",\n",
    "                   bbox_to_anchor=(.45, .55, .53, .45),\n",
    "                   bbox_transform=ax.transAxes)\n",
    "\n",
    "for i, label in enumerate(labels):\n",
    "    color = colors[label]\n",
    "    \n",
    "    energies_temp = data_real[i, :-1]\n",
    "    energies = (energies_temp[::2] + energies_temp[1::2]) / 2\n",
    "    \n",
    "    x_vec = np.arange(0, len(energies))\n",
    "    \n",
    "    ax.plot(x_vec, energies, c=color)\n",
    "    axins.plot(x_vec * n_groups[i], energies, c=color)\n",
    "    \n",
    "ax.set_ylabel('energy [Ha]')\n",
    "ax.set_xlabel('iteration')\n",
    "axins.set_xlabel('circuits')\n",
    "axins.set_xlim(0, min(n_groups) * len(x_vec))\n",
    "ax.set_xlim(0, len(x_vec) - 1)\n",
    "\n",
    "fig.tight_layout()"
   ]
  },
  {
   "cell_type": "markdown",
   "id": "743d52d7-e08e-4e8c-9e4b-f0ebdbc9102e",
   "metadata": {},
   "source": [
    "## Join"
   ]
  },
  {
   "cell_type": "code",
   "execution_count": 58,
   "id": "76bf22b4-609a-4f6e-8262-e3fb49ac75ff",
   "metadata": {
    "execution": {
     "iopub.execute_input": "2022-02-10T15:44:45.331228Z",
     "iopub.status.busy": "2022-02-10T15:44:45.331228Z",
     "iopub.status.idle": "2022-02-10T15:44:45.866227Z",
     "shell.execute_reply": "2022-02-10T15:44:45.866227Z",
     "shell.execute_reply.started": "2022-02-10T15:44:45.331228Z"
    },
    "tags": []
   },
   "outputs": [
    {
     "data": {
      "application/vnd.jupyter.widget-view+json": {
       "model_id": "c6f970010f0243f3a4d253b7f1e4dc75",
       "version_major": 2,
       "version_minor": 0
      },
      "text/plain": [
       "Canvas(toolbar=Toolbar(toolitems=[('Home', 'Reset original view', 'home', 'home'), ('Back', 'Back to previous …"
      ]
     },
     "metadata": {},
     "output_type": "display_data"
    },
    {
     "name": "stderr",
     "output_type": "stream",
     "text": [
      "C:\\Users\\david\\AppData\\Local\\Temp/ipykernel_23420/1155994236.py:79: UserWarning: This figure includes Axes that are not compatible with tight_layout, so results might be incorrect.\n",
      "  fig.tight_layout()\n"
     ]
    }
   ],
   "source": [
    "plt.style.use('science')\n",
    "\n",
    "labels = ['TPB', 'EM', 'HEEM']\n",
    "colors = {'TPB': '#0C5DA5', 'HEEM':'#00B945', 'EM': '#FF9500'}\n",
    "\n",
    "factor = 0.55\n",
    "fig, [ax1, ax2] = plt.subplots(2, 1, figsize=(7 * factor, 9 * factor))\n",
    "\n",
    "# ------------- SIMULATION -------------------\n",
    "n_groups = {}\n",
    "for grouping in groupings:\n",
    "    n_groups[grouping] = data_qubit_op[grouping]['n_min']\n",
    "\n",
    "axins1 = inset_axes(ax1, width=\"100%\", height=\"100%\",\n",
    "                     bbox_to_anchor=(.45, .65, .53, .35),\n",
    "                     bbox_transform=ax1.transAxes)\n",
    "\n",
    "for label in labels:\n",
    "    color = colors[label]\n",
    "    \n",
    "    energies_temp = data_sim[label][:, 50:-1]\n",
    "    energies = (energies_temp[:, ::2] + energies_temp[:, 1::2]) / 2\n",
    "    \n",
    "    std = np.std(energies, axis=0)\n",
    "    mean = np.mean(energies, axis=0)\n",
    "    \n",
    "    x_vec = np.arange(0, len(energies[0]))\n",
    "    \n",
    "    line = ax1.plot(x_vec, mean, label=label, c=color)\n",
    "    ax1.fill_between(x_vec, mean - std, mean + std, alpha=0.2, color=color)\n",
    "    for i in range(2):\n",
    "        ax1.plot(x_vec, mean + (-1) ** i * std, ls='-', alpha=0.3, c=color)\n",
    "    \n",
    "    x_vec *= n_groups[label]  \n",
    "    line = axins1.plot(x_vec, mean, label=label, c=color)\n",
    "    axins1.fill_between(x_vec, mean - std, mean + std, alpha=0.2, color=color)\n",
    "    for i in range(2):\n",
    "        axins1.plot(x_vec, mean + (-1) ** i * std, ls='-', alpha=0.3, c=color)\n",
    "\n",
    "ax1.set_xlabel('iterations')\n",
    "ax1.set_xlim(0, (len(std) - 1))\n",
    "ax1.set_ylim(-12.5, -8.5)\n",
    "\n",
    "axins1.set_xlabel('circuits')\n",
    "axins1.set_xlim(0, (len(std) - 1) * n_groups['EM'])\n",
    "axins1.set_ylim(-12.5, -10.5)\n",
    "\n",
    "ax1.set_ylabel('energy [Ha]')\n",
    "axins1.set_ylabel('energy [Ha]')\n",
    "\n",
    "# ------------  REAL ----------------\n",
    "n_groups = [93, 48, 62]\n",
    "\n",
    "axins2 = inset_axes(ax2, width=\"100%\", height=\"100%\",\n",
    "                   bbox_to_anchor=(.47, .55, .5, .45),\n",
    "                   bbox_transform=ax2.transAxes)\n",
    "\n",
    "for i, label in enumerate(labels):\n",
    "    color = colors[label]\n",
    "    \n",
    "    energies_temp = data_real[i, :-1]\n",
    "    energies = (energies_temp[::2] + energies_temp[1::2]) / 2\n",
    "    \n",
    "    x_vec = np.arange(0, len(energies))\n",
    "    \n",
    "    ax2.plot(x_vec, energies, c=color)\n",
    "    axins2.plot(x_vec * n_groups[i], energies, c=color)\n",
    "    \n",
    "ax2.set_ylabel('energy [Ha]')\n",
    "axins2.set_ylabel('energy [Ha]')\n",
    "ax2.set_xlabel('iterations')\n",
    "axins2.set_xlabel('circuits')\n",
    "ax2.set_ylim(-12.6, -9)\n",
    "axins2.set_xlim(0, min(n_groups) * len(x_vec))\n",
    "ax2.set_xlim(0, len(x_vec) - 1)\n",
    "\n",
    "add_labels([ax1, ax2], positions=[-0.15, 1.05], initial_parenthesis=False, fontsize=13)\n",
    "\n",
    "fig.tight_layout()\n",
    "fig.subplots_adjust(hspace=0.3)\n",
    "\n",
    "plt.savefig('../../Paper/figures/VQE_' + molecule + '.pdf')"
   ]
  },
  {
   "cell_type": "markdown",
   "id": "a1c4d894-3c8e-46bf-b556-8cbf5c93e40e",
   "metadata": {
    "jp-MarkdownHeadingCollapsed": true,
    "tags": []
   },
   "source": [
    "# Universal grouping"
   ]
  },
  {
   "cell_type": "code",
   "execution_count": 18,
   "id": "32fc410b-3100-4059-ae30-70702f04ec15",
   "metadata": {
    "execution": {
     "iopub.execute_input": "2022-01-26T09:33:06.231661Z",
     "iopub.status.busy": "2022-01-26T09:33:06.231353Z",
     "iopub.status.idle": "2022-01-26T09:33:07.625475Z",
     "shell.execute_reply": "2022-01-26T09:33:07.624553Z",
     "shell.execute_reply.started": "2022-01-26T09:33:06.231627Z"
    },
    "tags": []
   },
   "outputs": [],
   "source": [
    "data = np.load('../data/comparison_grouping_algorithms.npy', allow_pickle=True).item()"
   ]
  },
  {
   "cell_type": "code",
   "execution_count": 19,
   "id": "92a97c6f-f52f-4022-821b-90d32349278e",
   "metadata": {
    "execution": {
     "iopub.execute_input": "2022-01-26T09:33:10.293833Z",
     "iopub.status.busy": "2022-01-26T09:33:10.293537Z",
     "iopub.status.idle": "2022-01-26T09:33:10.555980Z",
     "shell.execute_reply": "2022-01-26T09:33:10.555085Z",
     "shell.execute_reply.started": "2022-01-26T09:33:10.293798Z"
    },
    "tags": []
   },
   "outputs": [
    {
     "data": {
      "application/vnd.jupyter.widget-view+json": {
       "model_id": "cbb508594c5746699f222f6a3a322556",
       "version_major": 2,
       "version_minor": 0
      },
      "text/plain": [
       "Canvas(toolbar=Toolbar(toolitems=[('Home', 'Reset original view', 'home', 'home'), ('Back', 'Back to previous …"
      ]
     },
     "metadata": {},
     "output_type": "display_data"
    }
   ],
   "source": [
    "labels = ['naive', 'order_disconnected', 'order_connected']\n",
    "colors = ['C0', 'C1', 'C2']\n",
    "\n",
    "fig, ax = plt.subplots()\n",
    "\n",
    "w_spacing = 0.0  # Spacing between bar of equal n_qubits\n",
    "w_spacing_big = 0.1  # Spacing between bars of different n_qubits\n",
    "w_bar = (1 - 2 * w_spacing_big - 2 * w_spacing) / 3\n",
    "delta = 1 / 2 - w_spacing_big - w_bar / 2\n",
    "\n",
    "ticks_labels = list(data.keys())\n",
    "order = []\n",
    "for (j, n_qubit) in enumerate(data.keys()):\n",
    "    if data[n_qubit]['parameters']['n_paulis'] < 4 ** int(n_qubit):\n",
    "        ticks_labels[j] += '*'\n",
    "    for (i, label) in enumerate(labels):\n",
    "        ax.bar(int(n_qubit) + delta * (i - 1), np.mean(data[n_qubit][label]), width=w_bar, color=colors[i], zorder=3,\n",
    "               yerr = np.std(data[n_qubit][label]), ecolor='black', capsize=4,\n",
    "               label=label if n_qubit == min(data.keys()) else None)\n",
    "\n",
    "        \n",
    "ax.set_xticks(range(min([int(x) for x in data.keys()]), max([int(x) for x in data.keys()]) + 1))\n",
    "ax.set_xticklabels(np.array(ticks_labels)[np.argsort([int(i) for  i in data.keys()])])\n",
    "ax.set_xlabel('number of qubits')\n",
    "ax.set_ylabel('average number of groups')\n",
    "ax.yaxis.grid(zorder=0)\n",
    "ax.legend()\n",
    "ax.set_title('Random Pauli strings ({})'.format(list(data.values())[0]['parameters']['name_backend']));"
   ]
  },
  {
   "cell_type": "code",
   "execution_count": 20,
   "id": "c80c7771-1375-4d68-8a36-0ddf092eb77b",
   "metadata": {
    "execution": {
     "iopub.execute_input": "2022-01-26T09:33:31.015102Z",
     "iopub.status.busy": "2022-01-26T09:33:31.014769Z",
     "iopub.status.idle": "2022-01-26T09:33:31.079244Z",
     "shell.execute_reply": "2022-01-26T09:33:31.078257Z",
     "shell.execute_reply.started": "2022-01-26T09:33:31.015050Z"
    },
    "tags": []
   },
   "outputs": [
    {
     "data": {
      "application/vnd.jupyter.widget-view+json": {
       "model_id": "0778dfac17624d9097ca110afd70d078",
       "version_major": 2,
       "version_minor": 0
      },
      "text/plain": [
       "Canvas(toolbar=Toolbar(toolitems=[('Home', 'Reset original view', 'home', 'home'), ('Back', 'Back to previous …"
      ]
     },
     "metadata": {},
     "output_type": "display_data"
    }
   ],
   "source": [
    "fig, ax = plt.subplots()\n",
    "for (i, label) in enumerate(labels):\n",
    "    data_plot_x = np.array([int(x) for x in data.keys()])\n",
    "    indices_sort = np.argsort(data_plot_x)\n",
    "    data_plot_y = np.array([data[n_qubit]['times'][label] / len(data[n_qubit][label]) / 60 for n_qubit in data.keys()])\n",
    "    ax.plot(data_plot_x[indices_sort], data_plot_y[indices_sort], c=colors[i], label=label, marker='.')\n",
    "        \n",
    "ax.legend()\n",
    "# ax.set_yscale('log')\n",
    "ax.set_xlabel('number of qubits')\n",
    "ax.set_ylabel('average time (min)')\n",
    "ax.set_title('Random Pauli strings ({})'.format(list(data.values())[0]['parameters']['name_backend']));"
   ]
  },
  {
   "cell_type": "markdown",
   "id": "4f464b8f-2cdd-4b68-bb03-10ef82ca9784",
   "metadata": {
    "jp-MarkdownHeadingCollapsed": true,
    "tags": []
   },
   "source": [
    "# Comparing grouping for molecules"
   ]
  },
  {
   "cell_type": "code",
   "execution_count": 5,
   "id": "fe5798ff-a78c-4163-8166-6c9254a8b8cd",
   "metadata": {
    "execution": {
     "iopub.execute_input": "2022-02-09T15:16:18.376172Z",
     "iopub.status.busy": "2022-02-09T15:16:18.376172Z",
     "iopub.status.idle": "2022-02-09T15:16:18.441173Z",
     "shell.execute_reply": "2022-02-09T15:16:18.440175Z",
     "shell.execute_reply.started": "2022-02-09T15:16:18.376172Z"
    },
    "tags": []
   },
   "outputs": [
    {
     "name": "stdout",
     "output_type": "stream",
     "text": [
      "Montercarlo shots for H2: 5310060\n",
      "Montercarlo shots for LiH: 1487808\n",
      "Montercarlo shots for BeH2: 1229184\n",
      "Montercarlo shots for H2O: 58608\n",
      "Montercarlo shots for CH4: 6768\n",
      "Montercarlo shots for C2H2: 1152\n"
     ]
    }
   ],
   "source": [
    "algorithm = 'HEEM'\n",
    "data = np.load('../data/comparison_grouping_algorithms_molecules_only_paulis_' + algorithm + '.npy', allow_pickle=True).item()\n",
    "n_qubits = {'H2': 2, 'LiH': 4, 'BeH2': 6, 'H2O': 8, 'CH4': 10, 'C2H2': 16}\n",
    "ticks_labels = [r'$H_2$', r'$LiH$', r'$BeH_2$', r'$H_2O$', r'$CH_4$', r'$C_2H_2$']\n",
    "print_shots = True\n",
    "\n",
    "for (j, molecule) in enumerate(n_qubits.keys()):\n",
    "    ticks_labels[j] += ' ({})'.format(n_qubits[molecule])\n",
    "    \n",
    "    try:\n",
    "        n = len(data[molecule]['naive'])\n",
    "    except:\n",
    "        n = 0\n",
    "    \n",
    "    print('Montercarlo shots for {}: {}'.format(molecule, n))\n",
    "    \n",
    "    if print_shots:\n",
    "        temp = '{:.1e}'.format(n).split('+')\n",
    "        exponent = r'\\times 10^{{{}}}$'.format(int(temp[1]))\n",
    "        ticks_labels[j] += '\\n[' + '$' + temp[0][:3] + exponent +']'"
   ]
  },
  {
   "cell_type": "code",
   "execution_count": 6,
   "id": "567d3af2-1a18-4e48-89ac-9dd717211505",
   "metadata": {
    "execution": {
     "iopub.execute_input": "2022-02-09T15:16:18.852387Z",
     "iopub.status.busy": "2022-02-09T15:16:18.851387Z",
     "iopub.status.idle": "2022-02-09T15:16:18.875395Z",
     "shell.execute_reply": "2022-02-09T15:16:18.875395Z",
     "shell.execute_reply.started": "2022-02-09T15:16:18.852387Z"
    },
    "tags": []
   },
   "outputs": [
    {
     "name": "stdout",
     "output_type": "stream",
     "text": [
      "H2\n",
      "  naive: 2\n",
      "  order_disconnected: 2\n",
      "  order_connected: 2\n",
      "------------------------------\n",
      "LiH\n",
      "  naive: 10\n",
      "  order_disconnected: 10\n",
      "  order_connected: 10\n",
      "------------------------------\n",
      "BeH2\n",
      "  naive: 14\n",
      "  order_disconnected: 16\n",
      "  order_connected: 17\n",
      "------------------------------\n",
      "H2O\n",
      "  naive: 55\n",
      "  order_disconnected: 55\n",
      "  order_connected: 53\n",
      "------------------------------\n",
      "CH4\n",
      "  naive: 135\n",
      "  order_disconnected: 164\n",
      "  order_connected: 139\n",
      "------------------------------\n",
      "C2H2\n",
      "  naive: 283\n",
      "  order_disconnected: 311\n",
      "  order_connected: 281\n",
      "------------------------------\n"
     ]
    }
   ],
   "source": [
    "labels = ['naive', 'order_disconnected', 'order_connected']\n",
    "\n",
    "for molecule in n_qubits.keys():\n",
    "    print(molecule)\n",
    "    for label in labels:\n",
    "        print('  {}: {}'.format(label, int(np.min(data[molecule][label]))))\n",
    "    print('-' * 30)"
   ]
  },
  {
   "cell_type": "code",
   "execution_count": 14,
   "id": "66c7e1f7-814a-4cb7-a249-555c042120ba",
   "metadata": {
    "execution": {
     "iopub.execute_input": "2022-02-09T13:00:00.558302Z",
     "iopub.status.busy": "2022-02-09T13:00:00.558302Z",
     "iopub.status.idle": "2022-02-09T13:00:00.819905Z",
     "shell.execute_reply": "2022-02-09T13:00:00.819905Z",
     "shell.execute_reply.started": "2022-02-09T13:00:00.558302Z"
    },
    "tags": []
   },
   "outputs": [
    {
     "data": {
      "application/vnd.jupyter.widget-view+json": {
       "model_id": "ae295103f6f5467b86c2acbcec1aecfb",
       "version_major": 2,
       "version_minor": 0
      },
      "text/plain": [
       "Canvas(toolbar=Toolbar(toolitems=[('Home', 'Reset original view', 'home', 'home'), ('Back', 'Back to previous …"
      ]
     },
     "metadata": {},
     "output_type": "display_data"
    }
   ],
   "source": [
    "labels = ['naive', 'order_disconnected', 'order_connected']\n",
    "colors = ['C0', 'C1', 'C2']\n",
    "\n",
    "# plt.style.use('science')\n",
    "plt.style.use('default')\n",
    "fig, ax = plt.subplots(figsize=(15, 7))\n",
    "\n",
    "w_spacing = 0.0  # Spacing between bar of equal n_qubits\n",
    "w_spacing_big = 0.1  # Spacing between bars of different n_qubits\n",
    "w_bar = (1 - 2 * w_spacing_big - 2 * w_spacing) / 3\n",
    "delta = 1 / 2 - w_spacing_big - w_bar / 2\n",
    "\n",
    "# ticks_labels = list(n_qubits.keys())\n",
    "legend = True\n",
    "for (j, molecule) in enumerate(n_qubits.keys()):\n",
    "    try:\n",
    "        for (i, label) in enumerate(labels):\n",
    "            ax.bar(j + delta * (i - 1), np.mean(data[molecule][label]), width=w_bar, color=colors[i], zorder=3,\n",
    "                   yerr = np.std(data[molecule][label]), ecolor='black', capsize=4, label=label.replace('_', ' ') if legend else None)\n",
    "            # ax.hlines(np.min(data[molecule][label]), j + delta * (i - 1) - w_bar / 2, j + delta * (i - 1) + w_bar / 2, zorder=4, color='k', ls='--')\n",
    "            # ax.vlines(j + delta * (i - 1), np.min(data[molecule][label]), np.max(data[molecule][label]), zorder=4, color='r', ls='--')\n",
    "            ax.scatter(j + delta * (i - 1), np.max(data[molecule][label]), zorder=4, color='k', marker='v', label='max' if (legend and not i) else None)\n",
    "            ax.scatter(j + delta * (i - 1), np.min(data[molecule][label]), zorder=4, color='k', marker='^', label='min' if (legend and not i) else None)\n",
    "        legend = False\n",
    "        \n",
    "    except:\n",
    "        pass\n",
    "        \n",
    "ax.set_xticks(range(0, len(n_qubits.keys())))\n",
    "ax.set_xticklabels(ticks_labels)\n",
    "ax.set_xlabel('molecule')\n",
    "ax.set_ylabel('average # of groups')\n",
    "ax.yaxis.grid(zorder=0, alpha=0.4)\n",
    "# ax.set_title('Molecules Pauli strings ({})'.format(list(data.values())[0]['parameters']['name_backend']))\n",
    "ax.legend(bbox_to_anchor=(0.75, 0.95))\n",
    "\n",
    "axins = inset_axes(ax, width=\"100%\", height=\"100%\",\n",
    "                   bbox_to_anchor=(0.07, .45, .5, .5),\n",
    "                   bbox_transform=ax.transAxes)\n",
    "\n",
    "for (i, label) in enumerate(labels):\n",
    "    data_plot_x = []\n",
    "    data_plot_y = []\n",
    "    for molecule in n_qubits.keys():\n",
    "        try:\n",
    "            data_plot_y.append(data[molecule]['times'][label] / len(data[molecule][label]))\n",
    "            data_plot_x.append(n_qubits[molecule])\n",
    "        except:\n",
    "            pass\n",
    "    \n",
    "    axins.plot(data_plot_x, data_plot_y, c=colors[i], marker='.')\n",
    "        \n",
    "axins.set_ylabel('average time (s)')\n",
    "\n",
    "axins.set_xticks(list(n_qubits.values()))\n",
    "# axins.set_yscale('log')\n",
    "axins.set_xticklabels(ticks_labels);"
   ]
  },
  {
   "cell_type": "code",
   "execution_count": 7,
   "id": "a4b720f5-1287-48f1-9649-b8a954d96e4b",
   "metadata": {
    "execution": {
     "iopub.execute_input": "2022-02-09T15:16:21.776704Z",
     "iopub.status.busy": "2022-02-09T15:16:21.776704Z",
     "iopub.status.idle": "2022-02-09T15:16:27.831376Z",
     "shell.execute_reply": "2022-02-09T15:16:27.831376Z",
     "shell.execute_reply.started": "2022-02-09T15:16:21.776704Z"
    },
    "tags": []
   },
   "outputs": [
    {
     "data": {
      "application/vnd.jupyter.widget-view+json": {
       "model_id": "cd7c62d459f745d298090f6c4b924044",
       "version_major": 2,
       "version_minor": 0
      },
      "text/plain": [
       "Canvas(toolbar=Toolbar(toolitems=[('Home', 'Reset original view', 'home', 'home'), ('Back', 'Back to previous …"
      ]
     },
     "metadata": {},
     "output_type": "display_data"
    },
    {
     "name": "stderr",
     "output_type": "stream",
     "text": [
      "C:\\Users\\david\\AppData\\Local\\Temp/ipykernel_4236/2257064088.py:76: UserWarning: This figure includes Axes that are not compatible with tight_layout, so results might be incorrect.\n",
      "  fig.tight_layout()\n"
     ]
    }
   ],
   "source": [
    "labels = ['naive', 'order_disconnected', 'order_connected']\n",
    "colors = ['C0', 'C1', 'C2']\n",
    "\n",
    "plt.style.use('science')\n",
    "fig, ax = plt.subplots(figsize=(10, 5))\n",
    "# fig, ax = plt.subplots()\n",
    "\n",
    "w_spacing = 0.02  # Spacing between bar of equal n_qubits\n",
    "w_spacing_big = 0.1  # Spacing between bars of different n_qubits\n",
    "w_bar = (1 - 2 * w_spacing_big - 2 * w_spacing) / 3\n",
    "delta = 1 / 2 - w_spacing_big - w_bar / 2\n",
    "\n",
    "x_pos_mean = []\n",
    "y_pos_mean = []\n",
    "color_mean = []\n",
    "legend = True\n",
    "labels_legend = []\n",
    "\n",
    "for (j, molecule) in enumerate(n_qubits.keys()):\n",
    "    try:\n",
    "        for (i, label) in enumerate(labels):\n",
    "            violin_parts = ax.violinplot(data[molecule][label], showextrema=False, positions=[j + delta * (i - 1)], widths=w_bar,\n",
    "                                         points=min(1e6, int(np.max(data[molecule][label]) - np.min(data[molecule][label])) + 1))\n",
    "            \n",
    "            for pc in violin_parts['bodies']:\n",
    "                pc.set_facecolor(colors[i])\n",
    "                pc.set_edgecolor(colors[i])\n",
    "                pc.set_alpha(0.4)\n",
    "                \n",
    "            x_pos_mean.append(j + delta * (i - 1))\n",
    "            y_pos_mean.append(np.median(data[molecule][label]))\n",
    "            color_mean.append(colors[i])\n",
    "            \n",
    "            if legend:\n",
    "                color = violin_parts[\"bodies\"][0].get_facecolor().flatten()\n",
    "                labels_legend.append((mpatches.Patch(color=color), label.replace('_', ' ')))\n",
    "        legend = False\n",
    "    except:\n",
    "        pass\n",
    "    \n",
    "ax.scatter(x_pos_mean, y_pos_mean, marker='o', c=color_mean, s=40, zorder=3, alpha=0.9, edgecolors='k')\n",
    "\n",
    "ax.set_xticks(range(0, len(n_qubits.keys())))\n",
    "ax.set_xticklabels(ticks_labels)\n",
    "ax.set_xlabel('molecule')\n",
    "ax.set_ylabel('number of groups')\n",
    "ax.set_ylim([0, ax.get_ylim()[1]])\n",
    "\n",
    "ax.yaxis.grid(zorder=0, alpha=0.4)\n",
    "# ax.set_title('Molecules Pauli strings ({})'.format(list(data.values())[0]['parameters']['name_backend']))\n",
    "ax.legend(*zip(*labels_legend), bbox_to_anchor=(0.75, 0.95))\n",
    "\n",
    "axins = inset_axes(ax, width=\"100%\", height=\"100%\",\n",
    "                   bbox_to_anchor=(0.07, .45, .5, .5),\n",
    "                   bbox_transform=ax.transAxes)\n",
    "\n",
    "\n",
    "for (i, label) in enumerate(labels):\n",
    "    data_plot_x = []\n",
    "    data_plot_y = []\n",
    "    for molecule in n_qubits.keys():\n",
    "        try:\n",
    "            data_plot_y.append(data[molecule]['times'][label] / len(data[molecule][label]))\n",
    "            data_plot_x.append(n_qubits[molecule])\n",
    "        except:\n",
    "            pass\n",
    "    \n",
    "    axins.plot(data_plot_x, data_plot_y, c=colors[i], marker='.')\n",
    "        \n",
    "axins.set_ylabel('average time (s)')\n",
    "# axins.set_yscale('log')\n",
    "\n",
    "axins.set_xticks(list(n_qubits.values()))\n",
    "axins.set_xticklabels(ticks_labels);\n",
    "\n",
    "fig.tight_layout()\n",
    "\n",
    "# plt.savefig('grouping_HEEM.pdf')"
   ]
  },
  {
   "cell_type": "markdown",
   "id": "2b14e780-ce42-45ca-92ba-4c4c1d5d4129",
   "metadata": {
    "jp-MarkdownHeadingCollapsed": true,
    "tags": []
   },
   "source": [
    "# Grouping with different devices"
   ]
  },
  {
   "cell_type": "code",
   "execution_count": 17,
   "id": "031e1eff-bf4c-4dab-8cfc-8c5bfef2f144",
   "metadata": {
    "execution": {
     "iopub.execute_input": "2022-02-09T13:00:30.970794Z",
     "iopub.status.busy": "2022-02-09T13:00:30.970794Z",
     "iopub.status.idle": "2022-02-09T13:00:30.991793Z",
     "shell.execute_reply": "2022-02-09T13:00:30.991793Z",
     "shell.execute_reply.started": "2022-02-09T13:00:30.970794Z"
    },
    "tags": []
   },
   "outputs": [
    {
     "name": "stdout",
     "output_type": "stream",
     "text": [
      "Montecarlo shots = 108\n"
     ]
    }
   ],
   "source": [
    "molecule_name = 'C2H2'\n",
    "data = np.load('../data/grouping_devices_only_paulis_{}.npy'.format(molecule_name), allow_pickle=True).item()\n",
    "data['huge']\n",
    "\n",
    "print('Montecarlo shots = {}'.format(len(data['huge']['naive'])))"
   ]
  },
  {
   "cell_type": "code",
   "execution_count": 18,
   "id": "76652cde-432e-4702-a741-66c9c41f38fe",
   "metadata": {
    "execution": {
     "iopub.execute_input": "2022-02-09T13:00:31.258490Z",
     "iopub.status.busy": "2022-02-09T13:00:31.258490Z",
     "iopub.status.idle": "2022-02-09T13:00:31.447490Z",
     "shell.execute_reply": "2022-02-09T13:00:31.447490Z",
     "shell.execute_reply.started": "2022-02-09T13:00:31.258490Z"
    },
    "tags": []
   },
   "outputs": [
    {
     "data": {
      "application/vnd.jupyter.widget-view+json": {
       "model_id": "d8aa0ff4e4df4a1f8afb94d758d27d40",
       "version_major": 2,
       "version_minor": 0
      },
      "text/plain": [
       "Canvas(toolbar=Toolbar(toolitems=[('Home', 'Reset original view', 'home', 'home'), ('Back', 'Back to previous …"
      ]
     },
     "metadata": {},
     "output_type": "display_data"
    },
    {
     "name": "stderr",
     "output_type": "stream",
     "text": [
      "C:\\Users\\david\\AppData\\Local\\Temp/ipykernel_12700/253674882.py:74: UserWarning: This figure includes Axes that are not compatible with tight_layout, so results might be incorrect.\n",
      "  fig.tight_layout()\n"
     ]
    }
   ],
   "source": [
    "chips = ['small', 'big', 'huge']\n",
    "labels = ['naive', 'order_disconnected', 'order_connected']\n",
    "colors = ['C0', 'C1', 'C2']\n",
    "n_qubits_device = {'huge': 65, 'big': 27, 'small': 16}\n",
    "ticks_labels = []\n",
    "for chip in chips:\n",
    "    ticks_labels.append((data['parameters']['name_' + chip] + ' ({})'.format(n_qubits_device[chip])).replace('_', ' '))\n",
    "\n",
    "plt.style.use('science')\n",
    "# fig, ax = plt.subplots()\n",
    "fig, ax = plt.subplots(figsize=(15, 7))\n",
    "\n",
    "w_spacing = 0.02  # Spacing between bar of equal n_qubits\n",
    "w_spacing_big = 0.2  # Spacing between bars of different n_qubits\n",
    "w_bar = (1 - 2 * w_spacing_big - 2 * w_spacing) / 3\n",
    "delta = 1 / 2 - w_spacing_big - w_bar / 2\n",
    "\n",
    "x_pos_mean = []\n",
    "y_pos_mean = []\n",
    "color_mean = []\n",
    "legend = True\n",
    "labels_legend = []\n",
    "\n",
    "for (j, chip) in enumerate(chips):\n",
    "    for (i, label) in enumerate(labels):\n",
    "        violin_parts = ax.violinplot(data[chip][label], showextrema=False, positions=[j + delta * (i - 1)], widths=w_bar,\n",
    "                                         points=max(1, int(np.max(data[chip][label]) - np.min(data[chip][label]))))\n",
    "                                     # points=4)\n",
    "            \n",
    "        for pc in violin_parts['bodies']:\n",
    "            pc.set_facecolor(colors[i])\n",
    "            pc.set_edgecolor(colors[i])\n",
    "            pc.set_alpha(0.4)\n",
    "                \n",
    "        x_pos_mean.append(j + delta * (i - 1))\n",
    "        y_pos_mean.append(np.median(data[chip][label]))\n",
    "        color_mean.append(colors[i])\n",
    "            \n",
    "        if legend:\n",
    "            color = violin_parts[\"bodies\"][0].get_facecolor().flatten()\n",
    "            labels_legend.append((mpatches.Patch(color=color), label.replace('_', ' ')))\n",
    "            \n",
    "    legend = False\n",
    "    \n",
    "ax.scatter(x_pos_mean, y_pos_mean, marker='o', c=color_mean, s=40, zorder=3, alpha=0.9, edgecolors='k')\n",
    "    \n",
    "ax.set_xticks(range(0, 3))\n",
    "ax.set_xticklabels(ticks_labels)\n",
    "ax.set_ylabel('\\# of groups')\n",
    "# ax.set_xlabel('device')\n",
    "ax.set_ylim([ax.get_ylim()[0] - 70, ax.get_ylim()[1]])\n",
    "\n",
    "ax.yaxis.grid(zorder=0, alpha=0.4)\n",
    "# ax.set_title('Grouping ' + molecule_name + ' ({} qubits)'.format(data['parameters']['n_qubits_molecule']))\n",
    "ax.legend(*zip(*labels_legend), bbox_to_anchor=(0.27, 0.3))\n",
    "\n",
    "axins = inset_axes(ax, width=\"100%\", height=\"100%\",\n",
    "                   bbox_to_anchor=(0.55, .13, .4, .25),\n",
    "                   bbox_transform=ax.transAxes)\n",
    "\n",
    "for (i, label) in enumerate(labels):\n",
    "    data_plot_x = []\n",
    "    data_plot_y = []\n",
    "    for chip in chips:\n",
    "        data_plot_y.append(data['time'][chip][label] / len(data[chip][label]))\n",
    "        data_plot_x.append(n_qubits_device[chip])\n",
    "    \n",
    "    axins.plot(data_plot_x, data_plot_y, c=colors[i], marker='.')\n",
    "\n",
    "axins.set_ylabel('time (s)')\n",
    "axins.set_xlabel('\\# of qubits')\n",
    "\n",
    "# axins.set_yscale('log')\n",
    "fig.tight_layout()\n",
    "\n",
    "# plt.savefig('grouping_devices.pdf')"
   ]
  },
  {
   "cell_type": "markdown",
   "id": "90b4bc35-4271-4b93-8a11-e02d9591b7aa",
   "metadata": {
    "jp-MarkdownHeadingCollapsed": true,
    "tags": []
   },
   "source": [
    "# Join figures"
   ]
  },
  {
   "cell_type": "code",
   "execution_count": 14,
   "id": "3dba564d-a953-45cc-8573-cf5d2c89bf84",
   "metadata": {
    "execution": {
     "iopub.execute_input": "2022-02-14T14:26:49.002128Z",
     "iopub.status.busy": "2022-02-14T14:26:49.002128Z",
     "iopub.status.idle": "2022-02-14T14:26:50.335132Z",
     "shell.execute_reply": "2022-02-14T14:26:50.335132Z",
     "shell.execute_reply.started": "2022-02-14T14:26:49.002128Z"
    },
    "tags": []
   },
   "outputs": [
    {
     "name": "stdout",
     "output_type": "stream",
     "text": [
      "Montercarlo shots for LiH: 5409792\n",
      "Montercarlo shots for BeH2: 3902976\n",
      "Montercarlo shots for H2O: 206208\n",
      "Montercarlo shots for CH4: 24192\n",
      "Montercarlo shots for C2H2: 3444\n"
     ]
    },
    {
     "data": {
      "application/vnd.jupyter.widget-view+json": {
       "model_id": "b8d127d7ce1244c9b15b80f5a6c625df",
       "version_major": 2,
       "version_minor": 0
      },
      "text/plain": [
       "Canvas(toolbar=Toolbar(toolitems=[('Home', 'Reset original view', 'home', 'home'), ('Back', 'Back to previous …"
      ]
     },
     "metadata": {},
     "output_type": "display_data"
    },
    {
     "name": "stderr",
     "output_type": "stream",
     "text": [
      "C:\\Users\\david\\AppData\\Local\\Temp/ipykernel_6508/1434332977.py:166: UserWarning: This figure includes Axes that are not compatible with tight_layout, so results might be incorrect.\n",
      "  fig.tight_layout()\n"
     ]
    }
   ],
   "source": [
    "algorithm = 'HEEM'\n",
    "data_molecules = np.load('../data/comparison_grouping_algorithms_molecules_' + algorithm + '.npy', allow_pickle=True).item()\n",
    "n_qubits = {'LiH': 4, 'BeH2': 6, 'H2O': 8, 'CH4': 10, 'C2H2': 16}\n",
    "ticks_labels = [r'$LiH$', r'$BeH_2$', r'$H_2O$', r'$CH_4$', r'$C_2H_2$']\n",
    "labels = ['naive', 'order_disconnected', 'order_connected']\n",
    "\n",
    "n_montecarlos = {}\n",
    "for (j, molecule) in enumerate(n_qubits.keys()):   \n",
    "    try:\n",
    "        n = len(data_molecules[molecule]['naive'])\n",
    "    except:\n",
    "        n = 0\n",
    "    \n",
    "    print('Montercarlo shots for {}: {}'.format(molecule, n))\n",
    "    n_montecarlos[molecule] = n\n",
    "    # Reduce computation time\n",
    "    if n > 1000:\n",
    "        for label in labels:\n",
    "            data_molecules[molecule][label] = data_molecules[molecule][label][:1000]\n",
    "\n",
    "# -----------------------------------------------------------------------------\n",
    "molecule_name = 'C2H2'\n",
    "data_devices = np.load('../data/grouping_devices_{}.npy'.format(molecule_name), allow_pickle=True).item()\n",
    "chips = ['small', 'big', 'huge']\n",
    "\n",
    "# -----------------------------------------------------------------------------\n",
    "plt.style.use('science')\n",
    "factor = 0.9\n",
    "fig, [ax1, ax2] = plt.subplots(1, 2, figsize=(10 * factor, 4 * factor))\n",
    "\n",
    "labels = ['naive', 'order_disconnected', 'order_connected']\n",
    "colors = ['C0', 'C1', 'C2']\n",
    "\n",
    "w_spacing = 0.02  # Spacing between bar of equal n_qubits\n",
    "w_spacing_big = 0.1  # Spacing between bars of different n_qubits\n",
    "w_bar = (1 - 2 * w_spacing_big - 2 * w_spacing) / 3\n",
    "delta = 1 / 2 - w_spacing_big - w_bar / 2\n",
    "    \n",
    "# -----------------------------------------------------------------------------\n",
    "ax = ax1\n",
    "\n",
    "x_pos_mean = []\n",
    "y_pos_mean = []\n",
    "color_mean = []\n",
    "legend = True\n",
    "\n",
    "for (j, molecule) in enumerate(n_qubits.keys()):\n",
    "    try:\n",
    "        for (i, label) in enumerate(labels):\n",
    "            violin_parts = ax.violinplot(data_molecules[molecule][label], showextrema=False,\n",
    "                                         positions=[j + delta * (i - 1)], widths=w_bar,\n",
    "                                         points=max(1, int(np.max(data_molecules[molecule][label]) - np.min(data_molecules[molecule][label]))))\n",
    "\n",
    "            for pc in violin_parts['bodies']:\n",
    "                pc.set_facecolor(colors[i])\n",
    "                pc.set_edgecolor(colors[i])\n",
    "                pc.set_alpha(0.4)\n",
    "\n",
    "            x_pos_mean.append(j + delta * (i - 1))\n",
    "            y_pos_mean.append(np.median(data_molecules[molecule][label]))\n",
    "            color_mean.append(colors[i])\n",
    "\n",
    "            if legend:\n",
    "                color = violin_parts[\"bodies\"][0].get_facecolor().flatten()\n",
    "        legend = False\n",
    "    except:\n",
    "        pass\n",
    "\n",
    "ax.scatter(x_pos_mean, y_pos_mean, marker='o', c=color_mean, s=40, zorder=3, alpha=0.9, edgecolors='k')\n",
    "\n",
    "ax.set_xticks(range(len(n_qubits.keys())))\n",
    "ax.set_xticklabels(ticks_labels)\n",
    "ax.set_xlabel('molecule')\n",
    "ax.set_ylabel('groups')\n",
    "ax.set_ylim(0, ax.get_ylim()[1])\n",
    "ax.set_xlim(-1, ax.get_xlim()[1])\n",
    "\n",
    "ax.yaxis.grid(zorder=0, alpha=0.4)\n",
    "\n",
    "axins = inset_axes(ax, width=\"100%\", height=\"100%\",\n",
    "                   bbox_to_anchor=(0.13, .45, .5, .5),\n",
    "                   bbox_transform=ax.transAxes)\n",
    "\n",
    "for (i, label) in enumerate(labels):\n",
    "    data_plot_x = []\n",
    "    data_plot_y = []\n",
    "    for molecule in n_qubits.keys():\n",
    "        try:\n",
    "            data_plot_y.append(data_molecules[molecule]['times'][label] / n_montecarlos[molecule])\n",
    "            data_plot_x.append(n_qubits[molecule])\n",
    "        except:\n",
    "            pass\n",
    "    \n",
    "    axins.plot(data_plot_x, data_plot_y, c=colors[i], marker='.')\n",
    "        \n",
    "axins.set_ylabel('time (s)', labelpad=1)\n",
    "\n",
    "# axins.set_xticks(list(n_qubits.values()))\n",
    "# axins.set_xticklabels(ticks_labels)\n",
    "axins.set_xlabel('theoretical qubits')\n",
    "\n",
    "for item in axins.get_xticklabels():\n",
    "    item.set_fontsize(8)\n",
    "\n",
    "# -----------------------------------------------------------------------------\n",
    "ax = ax2\n",
    "n_qubits_device = {'huge': 65, 'big': 27, 'small': 16}\n",
    "ticks_labels = []\n",
    "for chip in chips:\n",
    "    ticks_labels.append(data_devices['parameters']['name_' + chip].replace('_', '\\_'))\n",
    "\n",
    "x_pos_mean = []\n",
    "y_pos_mean = []\n",
    "color_mean = []\n",
    "legend = True\n",
    "\n",
    "for (j, chip) in enumerate(chips):\n",
    "    for (i, label) in enumerate(labels):\n",
    "        violin_parts = ax.violinplot(data_devices[chip][label], showextrema=False, positions=[j + delta * (i - 1)], widths=w_bar,\n",
    "                                         points=max(1, int(np.max(data_devices[chip][label]) - np.min(data_devices[chip][label]))))\n",
    "            \n",
    "        for pc in violin_parts['bodies']:\n",
    "            pc.set_facecolor(colors[i])\n",
    "            pc.set_edgecolor(colors[i])\n",
    "            pc.set_alpha(0.4)\n",
    "                \n",
    "        x_pos_mean.append(j + delta * (i - 1))\n",
    "        y_pos_mean.append(np.median(data_devices[chip][label]))\n",
    "        color_mean.append(colors[i])\n",
    "            \n",
    "        if legend:\n",
    "            color = violin_parts[\"bodies\"][0].get_facecolor().flatten()\n",
    "            \n",
    "    legend = False\n",
    "    \n",
    "ax.scatter(x_pos_mean, y_pos_mean, marker='o', c=color_mean, s=40, zorder=3, alpha=0.9, edgecolors='k')\n",
    "    \n",
    "ax.set_xticks(range(3))\n",
    "ax.set_xticklabels(ticks_labels)\n",
    "ax.set_ylabel('groups')\n",
    "ax.set_xlabel('device')\n",
    "ax.set_ylim([ax.get_ylim()[0] - 100, ax.get_ylim()[1]])\n",
    "\n",
    "ax.yaxis.grid(zorder=0, alpha=0.4)\n",
    "\n",
    "axins = inset_axes(ax, width=\"100%\", height=\"100%\",\n",
    "                   bbox_to_anchor=(0.55, .17, .4, .25),\n",
    "                   bbox_transform=ax.transAxes)\n",
    "\n",
    "for (i, label) in enumerate(labels):\n",
    "    data_plot_x = []\n",
    "    data_plot_y = []\n",
    "    for chip in chips:\n",
    "        data_plot_y.append(data_devices['time'][chip][label] / len(data_devices[chip][label]))\n",
    "        data_plot_x.append(n_qubits_device[chip])\n",
    "    \n",
    "    axins.plot(data_plot_x, data_plot_y, c=colors[i], marker='.')\n",
    "\n",
    "axins.set_ylabel('time (s)')\n",
    "axins.set_xlabel('physical qubits', labelpad=1)\n",
    "\n",
    "# axins.set_yscale('log')\n",
    "\n",
    "fig.subplots_adjust(wspace=0.2)\n",
    "add_labels([ax1, ax2], positions=[-0.08, 1.05], initial_parenthesis=False, fontsize=13)\n",
    "fig.tight_layout()\n",
    "\n",
    "fig.savefig('../../Paper/figures/groups_violins.pdf')"
   ]
  },
  {
   "cell_type": "markdown",
   "id": "a08c872d-a63a-4781-aa85-a62c94704b47",
   "metadata": {
    "jp-MarkdownHeadingCollapsed": true,
    "tags": []
   },
   "source": [
    "# Evaluate energy"
   ]
  },
  {
   "cell_type": "code",
   "execution_count": 12,
   "id": "9da62a0b-1782-4bb1-b6cc-74623a333299",
   "metadata": {
    "execution": {
     "iopub.execute_input": "2022-02-14T15:20:26.321737Z",
     "iopub.status.busy": "2022-02-14T15:20:26.320737Z",
     "iopub.status.idle": "2022-02-14T15:20:26.328737Z",
     "shell.execute_reply": "2022-02-14T15:20:26.328737Z",
     "shell.execute_reply.started": "2022-02-14T15:20:26.321737Z"
    },
    "tags": []
   },
   "outputs": [
    {
     "name": "stdout",
     "output_type": "stream",
     "text": [
      "Parameters: {'molecule': 'CH4', 'device': 'ibmq_montreal', 'NUM_SHOTS': 16384, 'n_states': 108}\n"
     ]
    }
   ],
   "source": [
    "molecule = 'CH4'\n",
    "noise = True\n",
    "if not noise:\n",
    "    molecule += '_noise_free'\n",
    "data = np.load('../data/energy_evaluation_GHZ_' + molecule + '.npy', allow_pickle=True).item()\n",
    "\n",
    "print('Parameters:', data['parameters'])"
   ]
  },
  {
   "cell_type": "code",
   "execution_count": 13,
   "id": "3905ecf1-beae-4fff-8381-f5a57877dd0e",
   "metadata": {
    "execution": {
     "iopub.execute_input": "2022-02-14T15:20:26.700075Z",
     "iopub.status.busy": "2022-02-14T15:20:26.700075Z",
     "iopub.status.idle": "2022-02-14T15:20:26.708075Z",
     "shell.execute_reply": "2022-02-14T15:20:26.708075Z",
     "shell.execute_reply.started": "2022-02-14T15:20:26.700075Z"
    },
    "tags": []
   },
   "outputs": [
    {
     "name": "stdout",
     "output_type": "stream",
     "text": [
      "TPB:\n",
      "    The number of CNOTs is 0\n",
      "    The average error is 38.555%\n",
      "--------------------------------\n",
      "EM:\n",
      "    The number of CNOTs is 3286\n",
      "    The average error is 32.774%\n",
      "--------------------------------\n",
      "HEEM:\n",
      "    The number of CNOTs is 232\n",
      "    The average error is 14.168%\n",
      "--------------------------------\n"
     ]
    }
   ],
   "source": [
    "methods = ['TPB', 'EM', 'HEEM']\n",
    "\n",
    "for method in methods:\n",
    "    print(method + ':')\n",
    "    if noise:\n",
    "        print('    The number of CNOTs is {}'.format(data['n_cnots_' + method]))\n",
    "    print('    The average error is {:.3f}%'.format(np.average(data[method]) * 100))\n",
    "    print('-' * 32)"
   ]
  },
  {
   "cell_type": "markdown",
   "id": "64c8fe1c-0b6f-4be3-9b89-7f684a8ede28",
   "metadata": {
    "jp-MarkdownHeadingCollapsed": true,
    "tags": []
   },
   "source": [
    "# Number of CNOTS"
   ]
  },
  {
   "cell_type": "code",
   "execution_count": 46,
   "id": "5d39020d-5b53-486a-9e6a-88e54c0af85f",
   "metadata": {
    "execution": {
     "iopub.execute_input": "2022-02-09T10:33:52.363253Z",
     "iopub.status.busy": "2022-02-09T10:33:52.363253Z",
     "iopub.status.idle": "2022-02-09T10:33:59.065576Z",
     "shell.execute_reply": "2022-02-09T10:33:59.065576Z",
     "shell.execute_reply.started": "2022-02-09T10:33:52.363253Z"
    },
    "tags": []
   },
   "outputs": [
    {
     "name": "stderr",
     "output_type": "stream",
     "text": [
      "ibmqfactory.load_account:WARNING:2022-02-09 11:33:53,222: Credentials are already in use. The existing account in the session will be replaced.\n"
     ]
    }
   ],
   "source": [
    "import networkx as nx\n",
    "import warnings\n",
    "from qiskit import IBMQ\n",
    "from utils import number_cnots_raw, get_backend_connectivity\n",
    "\n",
    "with warnings.catch_warnings():\n",
    "    warnings.simplefilter(\"ignore\")\n",
    "    IBMQ.load_account()\n",
    "    \n",
    "provider = IBMQ.get_provider(hub='ibm-q-csic', group='internal', project='iff-csic')"
   ]
  },
  {
   "cell_type": "code",
   "execution_count": 47,
   "id": "c1b76651-8fd1-4294-9029-56a71ce73a8d",
   "metadata": {
    "execution": {
     "iopub.execute_input": "2022-02-09T10:33:59.066578Z",
     "iopub.status.busy": "2022-02-09T10:33:59.066578Z",
     "iopub.status.idle": "2022-02-09T10:34:01.322078Z",
     "shell.execute_reply": "2022-02-09T10:34:01.322078Z",
     "shell.execute_reply.started": "2022-02-09T10:33:59.066578Z"
    },
    "tags": []
   },
   "outputs": [],
   "source": [
    "name_backend = 'ibmq_montreal'\n",
    "backend_device = provider.get_backend(name_backend)\n",
    "WC_device = get_backend_connectivity(backend_device)\n",
    "G_device = nx.Graph()\n",
    "G_device.add_edges_from(WC_device)"
   ]
  },
  {
   "cell_type": "code",
   "execution_count": 57,
   "id": "73c555bc-d4ac-4c60-9f58-54d57ca2ef2a",
   "metadata": {
    "execution": {
     "iopub.execute_input": "2022-02-09T10:47:32.142928Z",
     "iopub.status.busy": "2022-02-09T10:47:32.141928Z",
     "iopub.status.idle": "2022-02-09T10:47:36.646430Z",
     "shell.execute_reply": "2022-02-09T10:47:36.646430Z",
     "shell.execute_reply.started": "2022-02-09T10:47:32.141928Z"
    },
    "tags": []
   },
   "outputs": [
    {
     "name": "stdout",
     "output_type": "stream",
     "text": [
      "H2 (0)\n",
      "  HEEM (all): 2 groups, 1 CNOTS\n",
      "  HEEM (mont): 2 groups, 1 CNOTS\n",
      "------------------------------------\n",
      "LiH (0)\n",
      "  HEEM (all): 10 groups, 8 CNOTS\n",
      "  HEEM (mont): 10 groups, 8 CNOTS\n",
      "------------------------------------\n",
      "BeH2 (0)\n",
      "  HEEM (all): 11 groups, 17 CNOTS\n",
      "  HEEM (mont): 16 groups, 18 CNOTS\n",
      "------------------------------------\n",
      "H2O (0)\n",
      "  HEEM (all): 41 groups, 86 CNOTS\n",
      "  HEEM (mont): 50 groups, 80 CNOTS\n",
      "------------------------------------\n",
      "CH4 (0)\n",
      "  HEEM (all): 101 groups, 343 CNOTS\n",
      "  HEEM (mont): 138 groups, 224 CNOTS\n",
      "------------------------------------\n",
      "C2H2 (0)\n",
      "  HEEM (all): 183 groups, 1137 CNOTS\n",
      "  HEEM (mont): 282 groups, 433 CNOTS\n",
      "------------------------------------\n"
     ]
    }
   ],
   "source": [
    "molecule_names = ['H2', 'LiH', 'BeH2', 'H2O', 'CH4', 'C2H2']\n",
    "\n",
    "for molecule in molecule_names:\n",
    "    data = np.load('../data/optimal_grouping_' + molecule + '_ibmq_montreal.npy', allow_pickle=True).item()\n",
    "    print(molecule, f\"({data['HEEM']['N_total']})\")\n",
    "    Measurements_HEEM_all = data['EM']['Measurements']\n",
    "    Measurements_HEEM_mont = data['HEEM']['Measurements']\n",
    "    T = data['HEEM']['T']\n",
    "    \n",
    "    num_qubits = len(T)\n",
    "    \n",
    "    n_cnots_HEEM_all = number_cnots_raw(Measurements_HEEM_all, num_qubits, WC_device)\n",
    "    n_cnots_HEEM_mont = number_cnots_raw(Measurements_HEEM_mont, num_qubits, WC_device, T)\n",
    "    \n",
    "    print('  HEEM (all): {} groups, {} CNOTS'.format(len(Measurements_HEEM_all), n_cnots_HEEM_all))\n",
    "    print('  HEEM (mont): {} groups, {} CNOTS'.format(len(Measurements_HEEM_mont), n_cnots_HEEM_mont))\n",
    "    print('-' * 36)"
   ]
  },
  {
   "cell_type": "markdown",
   "id": "9ec01e20-348c-4900-91a3-2a2dab00975e",
   "metadata": {
    "jp-MarkdownHeadingCollapsed": true,
    "tags": []
   },
   "source": [
    "# Time complexity"
   ]
  },
  {
   "cell_type": "code",
   "execution_count": 14,
   "id": "5df4e28e-935a-4de3-bdbf-dcaced18d5b1",
   "metadata": {
    "execution": {
     "iopub.execute_input": "2022-02-14T15:26:37.544598Z",
     "iopub.status.busy": "2022-02-14T15:26:37.543610Z",
     "iopub.status.idle": "2022-02-14T15:26:38.024101Z",
     "shell.execute_reply": "2022-02-14T15:26:38.024101Z",
     "shell.execute_reply.started": "2022-02-14T15:26:37.544598Z"
    },
    "tags": []
   },
   "outputs": [],
   "source": [
    "from utils import molecules"
   ]
  },
  {
   "cell_type": "code",
   "execution_count": 34,
   "id": "163cd3d3-7efb-4a44-9ceb-68bcbb13870c",
   "metadata": {
    "execution": {
     "iopub.execute_input": "2022-02-14T15:33:59.353876Z",
     "iopub.status.busy": "2022-02-14T15:33:59.352876Z",
     "iopub.status.idle": "2022-02-14T15:34:37.539129Z",
     "shell.execute_reply": "2022-02-14T15:34:37.539129Z",
     "shell.execute_reply.started": "2022-02-14T15:33:59.353876Z"
    },
    "tags": []
   },
   "outputs": [
    {
     "name": "stdout",
     "output_type": "stream",
     "text": [
      "Computing molecule\n",
      "Computing molecule\n",
      "Computing molecule\n",
      "Computing molecule\n",
      "Data loaded\n",
      "Computing molecule\n"
     ]
    }
   ],
   "source": [
    "data = np.load('comparison_grouping_algorithms_molecules_HEEM.npy', allow_pickle=True).item()\n",
    "\n",
    "qubits_op = {}\n",
    "for molecule in data.keys():\n",
    "    try:\n",
    "        qubits_op[molecule] = np.load('big_molecules.npy', allow_pickle=True).item()[molecule]\n",
    "        print('Data loaded')\n",
    "    except KeyError:\n",
    "        print('Computing molecule')\n",
    "        qubits_op[molecule] = molecules(molecule)"
   ]
  },
  {
   "cell_type": "code",
   "execution_count": 48,
   "id": "414a78a7-c3f8-4b27-8b53-80e542c72a6e",
   "metadata": {
    "execution": {
     "iopub.execute_input": "2022-02-14T15:37:28.649317Z",
     "iopub.status.busy": "2022-02-14T15:37:28.649317Z",
     "iopub.status.idle": "2022-02-14T15:37:28.675315Z",
     "shell.execute_reply": "2022-02-14T15:37:28.675315Z",
     "shell.execute_reply.started": "2022-02-14T15:37:28.649317Z"
    },
    "tags": []
   },
   "outputs": [],
   "source": [
    "n_qubits_dic = {'H2': 2, 'LiH': 4, 'BeH2': 6, 'H2O': 8, 'CH4': 10, 'C2H2': 16}\n",
    "n_paulis = []\n",
    "n_groups = []\n",
    "n_qubits = []\n",
    "times = []\n",
    "\n",
    "# method = 'order_connected'\n",
    "method = 'naive'\n",
    "\n",
    "for molecule in data.keys():\n",
    "    qubit_op = qubits_op[molecule]\n",
    "\n",
    "    n_paulis.append(len(qubit_op))\n",
    "    n_groups.append(np.min(data[molecule][method]))\n",
    "    n_qubits.append(n_qubits_dic[molecule])\n",
    "    times.append(data[molecule]['times'][method] / len(data[molecule][method]))"
   ]
  },
  {
   "cell_type": "code",
   "execution_count": 49,
   "id": "b2738d13-7f58-4fbd-87ad-e930d04a165d",
   "metadata": {
    "execution": {
     "iopub.execute_input": "2022-02-14T15:37:29.215633Z",
     "iopub.status.busy": "2022-02-14T15:37:29.215633Z",
     "iopub.status.idle": "2022-02-14T15:37:29.255678Z",
     "shell.execute_reply": "2022-02-14T15:37:29.255678Z",
     "shell.execute_reply.started": "2022-02-14T15:37:29.215633Z"
    },
    "tags": []
   },
   "outputs": [
    {
     "name": "stderr",
     "output_type": "stream",
     "text": [
      "C:\\Users\\david\\anaconda3\\envs\\heem\\lib\\site-packages\\ipywidgets\\widgets\\widget.py:412: DeprecationWarning: Passing unrecognized arguments to super(Toolbar).__init__().\n",
      "__init__() missing 1 required positional argument: 'canvas'\n",
      "This is deprecated in traitlets 4.2.This error will be raised in a future release of traitlets.\n",
      "  super(Widget, self).__init__(**kwargs)\n"
     ]
    },
    {
     "data": {
      "application/vnd.jupyter.widget-view+json": {
       "model_id": "aaeeeb00460a4827af789d0dbf886167",
       "version_major": 2,
       "version_minor": 0
      },
      "text/plain": [
       "Canvas(toolbar=Toolbar(toolitems=[('Home', 'Reset original view', 'home', 'home'), ('Back', 'Back to previous …"
      ]
     },
     "metadata": {},
     "output_type": "display_data"
    },
    {
     "name": "stdout",
     "output_type": "stream",
     "text": [
      "2.3969973636509523 2.9011701119083213\n"
     ]
    }
   ],
   "source": [
    "fig, ax = plt.subplots()\n",
    "ax.plot(n_qubits, n_groups, 'g.')\n",
    "ax.plot(n_qubits, n_paulis, 'r.')\n",
    "\n",
    "alpha1, beta1 = np.polyfit(np.log10(n_qubits), np.log10(n_groups), 1)\n",
    "alpha2, beta2 = np.polyfit(np.log10(n_qubits), np.log10(n_paulis), 1)\n",
    "\n",
    "x_array = np.array([min(n_qubits), max(n_qubits)])\n",
    "ax.plot(x_array, 10 ** beta1 * x_array ** alpha1,'g--')\n",
    "ax.plot(x_array, 10 ** beta2 * x_array ** alpha2, 'r--')\n",
    "\n",
    "ax.set_xlabel('# qubits')\n",
    "ax.set_ylabel('# terms')\n",
    "\n",
    "ax.set_yscale('log')\n",
    "ax.set_xscale('log')\n",
    "\n",
    "print(alpha1, alpha2)"
   ]
  },
  {
   "cell_type": "code",
   "execution_count": 42,
   "id": "d1236f54-b4e0-473f-b6f3-89c819cd718c",
   "metadata": {
    "execution": {
     "iopub.execute_input": "2022-02-14T15:36:06.140207Z",
     "iopub.status.busy": "2022-02-14T15:36:06.140207Z",
     "iopub.status.idle": "2022-02-14T15:36:06.169208Z",
     "shell.execute_reply": "2022-02-14T15:36:06.169208Z",
     "shell.execute_reply.started": "2022-02-14T15:36:06.140207Z"
    },
    "tags": []
   },
   "outputs": [
    {
     "name": "stderr",
     "output_type": "stream",
     "text": [
      "C:\\Users\\david\\anaconda3\\envs\\heem\\lib\\site-packages\\ipywidgets\\widgets\\widget.py:412: DeprecationWarning: Passing unrecognized arguments to super(Toolbar).__init__().\n",
      "__init__() missing 1 required positional argument: 'canvas'\n",
      "This is deprecated in traitlets 4.2.This error will be raised in a future release of traitlets.\n",
      "  super(Widget, self).__init__(**kwargs)\n"
     ]
    },
    {
     "data": {
      "application/vnd.jupyter.widget-view+json": {
       "model_id": "c2c549b1a4ec40c6894f96c9dd103694",
       "version_major": 2,
       "version_minor": 0
      },
      "text/plain": [
       "Canvas(toolbar=Toolbar(toolitems=[('Home', 'Reset original view', 'home', 'home'), ('Back', 'Back to previous …"
      ]
     },
     "metadata": {},
     "output_type": "display_data"
    },
    {
     "name": "stdout",
     "output_type": "stream",
     "text": [
      "5.072705358910606\n"
     ]
    }
   ],
   "source": [
    "fig, ax = plt.subplots()\n",
    "ax.plot(n_qubits, times, 'g.')\n",
    "\n",
    "alpha, beta = np.polyfit(np.log10(n_qubits), np.log10(times), 1)\n",
    "\n",
    "x_array = np.array([min(n_qubits), max(n_qubits)])\n",
    "ax.plot(x_array, 10 ** beta * x_array ** alpha,'g--')\n",
    "\n",
    "ax.set_xlabel('# qubits')\n",
    "ax.set_ylabel('time (s)')\n",
    "\n",
    "ax.set_yscale('log')\n",
    "ax.set_xscale('log')\n",
    "\n",
    "print(alpha)"
   ]
  },
  {
   "cell_type": "markdown",
   "id": "7acccce6-6c88-46e5-b1e8-21ea6a1db72f",
   "metadata": {},
   "source": [
    "# Error in simulation"
   ]
  },
  {
   "cell_type": "code",
   "execution_count": 2,
   "id": "f4796309-7ad8-43bd-9c7d-c87696fd9888",
   "metadata": {
    "execution": {
     "iopub.execute_input": "2022-06-20T12:50:06.986779Z",
     "iopub.status.busy": "2022-06-20T12:50:06.985777Z",
     "iopub.status.idle": "2022-06-20T12:50:06.994770Z",
     "shell.execute_reply": "2022-06-20T12:50:06.993770Z",
     "shell.execute_reply.started": "2022-06-20T12:50:06.986779Z"
    },
    "tags": []
   },
   "outputs": [],
   "source": [
    "initial_state = '0xN'\n",
    "folder = 'energies/' + initial_state + '/'\n",
    "molecules = ['LiH', 'H2O', 'CH4', 'C2H2', 'CH3OH', 'C2H6']\n",
    "exact_energies = {'H2': -1.068, 'LiH': -0.551, 'H2O': -6.406, 'CH4': -10.663,\n",
    "                  'C2H2': -10.663, 'CH3OH': -13.724, 'C2H6': -11.419}"
   ]
  },
  {
   "cell_type": "code",
   "execution_count": 3,
   "id": "ce7b6667-8e95-49cd-b33c-82909b114c7c",
   "metadata": {
    "execution": {
     "iopub.execute_input": "2022-06-20T12:50:07.578146Z",
     "iopub.status.busy": "2022-06-20T12:50:07.577163Z",
     "iopub.status.idle": "2022-06-20T12:50:07.729144Z",
     "shell.execute_reply": "2022-06-20T12:50:07.726137Z",
     "shell.execute_reply.started": "2022-06-20T12:50:07.578146Z"
    },
    "tags": []
   },
   "outputs": [
    {
     "name": "stdout",
     "output_type": "stream",
     "text": [
      "TPB/LiH: Total of 25 points, error of -0.4 ± 1.1 %\n",
      "TPB/H2O: Total of 25 points, error of -6.8 ± 1.1 %\n",
      "TPB/CH4: Total of 25 points, error of -14.9 ± 2.4 %\n",
      "TPB/C2H2: Total of 25 points, error of 15.6 ± 1.3 %\n",
      "TPB/CH3OH: Total of 25 points, error of -24.9 ± 4.9 %\n",
      "TPB/C2H6: Total of 25 points, error of -34.0 ± 6.6 %\n",
      "-------------------------------------------------------\n",
      "EM/LiH: Total of 25 points, error of -0.3 ± 1.0 %\n",
      "EM/H2O: Total of 25 points, error of -8.5 ± 0.97 %\n",
      "EM/CH4: Total of 25 points, error of -10.5 ± 1.8 %\n",
      "EM/C2H2: Total of 25 points, error of 13.5 ± 1.3 %\n",
      "EM/CH3OH: Total of 25 points, error of -30.8 ± 2.8 %\n",
      "EM/C2H6: Total of 25 points, error of -39.8 ± 3.1 %\n",
      "-------------------------------------------------------\n",
      "HEEM/LiH: Total of 25 points, error of 0.2 ± 0.92 %\n",
      "HEEM/H2O: Total of 25 points, error of -3.2 ± 0.81 %\n",
      "HEEM/CH4: Total of 25 points, error of -5.6 ± 2.9 %\n",
      "HEEM/C2H2: Total of 25 points, error of 18.9 ± 1.8 %\n",
      "HEEM/CH3OH: Total of 25 points, error of -19.6 ± 3.6 %\n",
      "HEEM/C2H6: Total of 25 points, error of -21.6 ± 3.8 %\n",
      "-------------------------------------------------------\n"
     ]
    }
   ],
   "source": [
    "methods = ['TPB', 'EM', 'HEEM']\n",
    "\n",
    "data_avg = {}\n",
    "data_std = {}\n",
    "for method in methods:\n",
    "    avg = []\n",
    "    std = []\n",
    "    for molecule in molecules:\n",
    "        exact_energy = exact_energies[molecule]\n",
    "        energies = np.load(folder + molecule + '_' + method + '.npy')\n",
    "        error = (energies - exact_energy) / np.abs(exact_energy)\n",
    "                       \n",
    "        avg.append(np.average(error))\n",
    "        std.append(np.std(error))\n",
    "        \n",
    "        print(f'{method}/{molecule}: Total of {len(energies)} points, error of {np.average(error) * 100:.1f} ± {np.std(error) * 100:.2} %')\n",
    "    print('-' * 55)\n",
    "        \n",
    "    data_avg[method] = np.array(avg)\n",
    "    data_std[method] = np.array(std)"
   ]
  },
  {
   "cell_type": "code",
   "execution_count": 4,
   "id": "7e8e5740-9fef-4e76-a5c5-786be91b6e4d",
   "metadata": {
    "execution": {
     "iopub.execute_input": "2022-06-20T12:50:21.482737Z",
     "iopub.status.busy": "2022-06-20T12:50:21.482737Z",
     "iopub.status.idle": "2022-06-20T12:50:22.544062Z",
     "shell.execute_reply": "2022-06-20T12:50:22.542069Z",
     "shell.execute_reply.started": "2022-06-20T12:50:21.482737Z"
    },
    "tags": []
   },
   "outputs": [
    {
     "data": {
      "application/vnd.jupyter.widget-view+json": {
       "model_id": "8029e596e8004695a86abb5bf67600a7",
       "version_major": 2,
       "version_minor": 0
      },
      "image/png": "[encoded data removed]",
      "text/html": [
       "\n",
       "            <div style=\"display: inline-block;\">\n",
       "                <div class=\"jupyter-widgets widget-label\" style=\"text-align: center;\">\n",
       "                    Figure\n",
       "                </div>\n",
       "                <img src='data:image/png;base64,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' width=640.0/>\n",
       "            </div>\n",
       "        "
      ],
      "text/plain": [
       "Canvas(toolbar=Toolbar(toolitems=[('Home', 'Reset original view', 'home', 'home'), ('Back', 'Back to previous …"
      ]
     },
     "metadata": {},
     "output_type": "display_data"
    }
   ],
   "source": [
    "colors = {'TPB': '#0C5DA5', 'HEEM':'#00B945', 'EM': '#FF9500'}\n",
    "fig, ax = plt.subplots()\n",
    "\n",
    "x = np.arange(len(molecules))\n",
    "for method in methods:\n",
    "    color = colors[method]\n",
    "    avg = np.abs(data_avg[method] * 100)\n",
    "    std = data_std[method] * 100\n",
    "    \n",
    "    # ax.errorbar(x, avg, yerr=std, fmt='o', label=method, ecolor=color)\n",
    "    \n",
    "    line = ax.plot(x, avg, label=method, c=color)\n",
    "    ax.fill_between(x, avg - std, avg + std, alpha=0.2, color=color)\n",
    "    for i in range(2):\n",
    "        ax.plot(x, avg + (-1) ** i * std, ls='-', alpha=0.3, c=color)\n",
    "\n",
    "# ax.set_yscale('log')\n",
    "        \n",
    "ax.set_xlim(0, max(x))\n",
    "# ax.set_ylim(0, None)\n",
    "\n",
    "ax.set_ylabel('|error| [%]')\n",
    "\n",
    "ax.set_xticks(np.arange(len(molecules)))\n",
    "ax.set_xticklabels(molecules)\n",
    "\n",
    "ax.legend();"
   ]
  }
 ],
 "metadata": {
  "kernelspec": {
   "display_name": "Python 3 (ipykernel)",
   "language": "python",
   "name": "python3"
  },
  "language_info": {
   "codemirror_mode": {
    "name": "ipython",
    "version": 3
   },
   "file_extension": ".py",
   "mimetype": "text/x-python",
   "name": "python",
   "nbconvert_exporter": "python",
   "pygments_lexer": "ipython3",
   "version": "3.9.0"
  }
 },
 "nbformat": 4,
 "nbformat_minor": 5
}
