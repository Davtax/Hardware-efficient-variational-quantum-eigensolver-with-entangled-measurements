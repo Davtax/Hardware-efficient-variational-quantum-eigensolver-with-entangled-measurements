{
 "cells": [
  {
   "cell_type": "code",
   "execution_count": 10,
   "id": "559b4fa7-f319-4668-ba53-ee9f690b7bc0",
   "metadata": {
    "execution": {
     "iopub.execute_input": "2021-10-21T22:29:50.554618Z",
     "iopub.status.busy": "2021-10-21T22:29:50.554618Z",
     "iopub.status.idle": "2021-10-21T22:29:50.559611Z",
     "shell.execute_reply": "2021-10-21T22:29:50.559611Z",
     "shell.execute_reply.started": "2021-10-21T22:29:50.554618Z"
    },
    "tags": []
   },
   "outputs": [],
   "source": [
    "import numpy as np\n",
    "import matplotlib.pyplot as plt\n",
    "import networkx as nx\n",
    "%matplotlib widget"
   ]
  },
  {
   "cell_type": "markdown",
   "id": "85e36a47-b881-453d-92c7-ebc916ffaa38",
   "metadata": {},
   "source": [
    "# $H_20$ grouping vs $x$ (w/ shuffle)"
   ]
  },
  {
   "cell_type": "code",
   "execution_count": 2,
   "id": "7f2f6d92-f8c9-4ef9-a733-8ba924efa922",
   "metadata": {
    "execution": {
     "iopub.execute_input": "2021-10-21T22:27:21.512326Z",
     "iopub.status.busy": "2021-10-21T22:27:21.512326Z",
     "iopub.status.idle": "2021-10-21T22:27:21.708269Z",
     "shell.execute_reply": "2021-10-21T22:27:21.708269Z",
     "shell.execute_reply.started": "2021-10-21T22:27:21.512326Z"
    },
    "tags": []
   },
   "outputs": [
    {
     "name": "stdout",
     "output_type": "stream",
     "text": [
      "dict_keys(['x_vec', 'n_groups', 'optimal_order_paulis', 'optimal_order_qubits', 'optimal_graph'])\n"
     ]
    }
   ],
   "source": [
    "file = 'H20_grouping_shuffle_ideal_vs_connectivity'\n",
    "data = np.load(file + '.npy', allow_pickle=True).item()\n",
    "\n",
    "print(data.keys())\n",
    "\n",
    "for key in data:\n",
    "    vars()[key] = data[key]"
   ]
  },
  {
   "cell_type": "code",
   "execution_count": 3,
   "id": "c88310d2-560e-4778-aa50-0f12e347cee1",
   "metadata": {
    "execution": {
     "iopub.execute_input": "2021-10-21T22:27:22.651683Z",
     "iopub.status.busy": "2021-10-21T22:27:22.650684Z",
     "iopub.status.idle": "2021-10-21T22:27:22.679689Z",
     "shell.execute_reply": "2021-10-21T22:27:22.679689Z",
     "shell.execute_reply.started": "2021-10-21T22:27:22.651683Z"
    },
    "tags": []
   },
   "outputs": [],
   "source": [
    "n_x = len(x_vec)\n",
    "\n",
    "n_std = np.zeros(n_x)\n",
    "n_avg = np.zeros(n_x)\n",
    "n_min = np.zeros(n_x)\n",
    "n_max = np.zeros(n_x)\n",
    "\n",
    "for i in range(n_x):\n",
    "    n_std[i] = np.std(n_groups[i])\n",
    "    n_avg[i] = np.mean(n_groups[i])\n",
    "    n_min[i] = np.min(n_groups[i])\n",
    "    n_max[i] = np.max(n_groups[i])"
   ]
  },
  {
   "cell_type": "code",
   "execution_count": 12,
   "id": "6af6b35a-354c-4b50-86ed-8c9e8e9f7cac",
   "metadata": {
    "execution": {
     "iopub.execute_input": "2021-10-21T22:31:14.452618Z",
     "iopub.status.busy": "2021-10-21T22:31:14.451618Z",
     "iopub.status.idle": "2021-10-21T22:31:14.484817Z",
     "shell.execute_reply": "2021-10-21T22:31:14.484817Z",
     "shell.execute_reply.started": "2021-10-21T22:31:14.452618Z"
    },
    "tags": []
   },
   "outputs": [
    {
     "data": {
      "application/vnd.jupyter.widget-view+json": {
       "model_id": "e3c9466d992e4ab8b715917a97a63d86",
       "version_major": 2,
       "version_minor": 0
      },
      "text/plain": [
       "Canvas(toolbar=Toolbar(toolitems=[('Home', 'Reset original view', 'home', 'home'), ('Back', 'Back to previous …"
      ]
     },
     "metadata": {},
     "output_type": "display_data"
    }
   ],
   "source": [
    "fig, ax = plt.subplots()\n",
    "ax.plot(x_vec, n_avg)\n",
    "ax.fill_between(x_vec, n_avg - n_std, n_avg + n_std, alpha=0.25)\n",
    "ax.plot(x_vec, n_min, '--')\n",
    "ax.plot(x_vec, n_max, '--')\n",
    "ax.set_xlabel('x')\n",
    "ax.set_ylabel('# of groups')\n",
    "ax.set_xlim([x_vec[0], x_vec[-1]]);"
   ]
  },
  {
   "cell_type": "code",
   "execution_count": 9,
   "id": "28efef47-62a7-46dc-8ee3-a921987dfa0b",
   "metadata": {
    "execution": {
     "iopub.execute_input": "2021-10-21T22:29:31.926256Z",
     "iopub.status.busy": "2021-10-21T22:29:31.925255Z",
     "iopub.status.idle": "2021-10-21T22:29:31.928255Z",
     "shell.execute_reply": "2021-10-21T22:29:31.928255Z",
     "shell.execute_reply.started": "2021-10-21T22:29:31.926256Z"
    },
    "tags": []
   },
   "outputs": [
    {
     "name": "stdout",
     "output_type": "stream",
     "text": [
      "The minumum number of groups is 36, obtained for x = 0.842\n"
     ]
    }
   ],
   "source": [
    "index_min = np.argmin(n_min)\n",
    "print('The minumum number of groups is {:.0f}, obtained for x = {:.3f}'.format(n_min[index_min], x_vec[index_min]))"
   ]
  },
  {
   "cell_type": "code",
   "execution_count": 11,
   "id": "40dfb10c-7cf4-446f-ad03-7f8bc53119fc",
   "metadata": {
    "execution": {
     "iopub.execute_input": "2021-10-21T22:30:11.975535Z",
     "iopub.status.busy": "2021-10-21T22:30:11.974535Z",
     "iopub.status.idle": "2021-10-21T22:30:12.015544Z",
     "shell.execute_reply": "2021-10-21T22:30:12.015544Z",
     "shell.execute_reply.started": "2021-10-21T22:30:11.975535Z"
    }
   },
   "outputs": [
    {
     "data": {
      "application/vnd.jupyter.widget-view+json": {
       "model_id": "7b15ff2ffdcc4133ac308523373a170d",
       "version_major": 2,
       "version_minor": 0
      },
      "text/plain": [
       "Canvas(toolbar=Toolbar(toolitems=[('Home', 'Reset original view', 'home', 'home'), ('Back', 'Back to previous …"
      ]
     },
     "metadata": {},
     "output_type": "display_data"
    }
   ],
   "source": [
    "plt.figure()\n",
    "nx.draw(optimal_graph[index_min])"
   ]
  },
  {
   "cell_type": "code",
   "execution_count": null,
   "id": "1d2e92a1-4a74-453a-9d85-f56d26eebf83",
   "metadata": {},
   "outputs": [],
   "source": []
  }
 ],
 "metadata": {
  "kernelspec": {
   "display_name": "Python 3 (ipykernel)",
   "language": "python",
   "name": "python3"
  },
  "language_info": {
   "codemirror_mode": {
    "name": "ipython",
    "version": 3
   },
   "file_extension": ".py",
   "mimetype": "text/x-python",
   "name": "python",
   "nbconvert_exporter": "python",
   "pygments_lexer": "ipython3",
   "version": "3.9.7"
  }
 },
 "nbformat": 4,
 "nbformat_minor": 5
}
