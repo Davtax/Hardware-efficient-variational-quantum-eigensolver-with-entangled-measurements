{
 "cells": [
  {
   "cell_type": "code",
   "execution_count": 16,
   "id": "1c27b442-d7f1-42ac-92b4-b0aabe84c050",
   "metadata": {
    "execution": {
     "iopub.execute_input": "2021-11-04T09:13:27.624088Z",
     "iopub.status.busy": "2021-11-04T09:13:27.623603Z",
     "iopub.status.idle": "2021-11-04T09:13:27.633692Z",
     "shell.execute_reply": "2021-11-04T09:13:27.633365Z",
     "shell.execute_reply.started": "2021-11-04T09:13:27.624059Z"
    },
    "tags": []
   },
   "outputs": [
    {
     "name": "stdout",
     "output_type": "stream",
     "text": [
      "The autoreload extension is already loaded. To reload it, use:\n",
      "  %reload_ext autoreload\n"
     ]
    }
   ],
   "source": [
    "import sys\n",
    "sys.path.append('../')\n",
    "\n",
    "%load_ext autoreload\n",
    "%autoreload 1\n",
    "%aimport utils, GroupingAlgorithm\n",
    "\n",
    "import numpy as np\n",
    "import networkx as nx\n",
    "import warnings\n",
    "from itertools import permutations\n",
    "from utils import number2SummedOp, get_backend_connectivity, Label2Chain, save_object, molecules\n",
    "from GroupingAlgorithm import groupingWithOrder, TPBgrouping\n",
    "from qiskit.algorithms import NumPyMinimumEigensolver\n",
    "from qiskit import IBMQ"
   ]
  },
  {
   "cell_type": "code",
   "execution_count": 17,
   "id": "a7d740c3-d9e3-48f7-961e-0ee789842240",
   "metadata": {
    "execution": {
     "iopub.execute_input": "2021-11-04T09:13:27.901165Z",
     "iopub.status.busy": "2021-11-04T09:13:27.900884Z",
     "iopub.status.idle": "2021-11-04T09:13:33.904893Z",
     "shell.execute_reply": "2021-11-04T09:13:33.904511Z",
     "shell.execute_reply.started": "2021-11-04T09:13:27.901141Z"
    },
    "tags": []
   },
   "outputs": [
    {
     "name": "stderr",
     "output_type": "stream",
     "text": [
      "ibmqfactory.load_account:WARNING:1970-01-01 13:10:30,770: Credentials are already in use. The existing account in the session will be replaced.\n"
     ]
    }
   ],
   "source": [
    "with warnings.catch_warnings():\n",
    "    warnings.simplefilter(\"ignore\")\n",
    "    IBMQ.load_account()\n",
    "provider = IBMQ.get_provider(hub='ibm-q-csic', group='internal', project='iff-csic') "
   ]
  },
  {
   "cell_type": "markdown",
   "id": "9a46efbf-9a68-41c5-b3c6-72cff4b7adbd",
   "metadata": {},
   "source": [
    "# Optimal grouping"
   ]
  },
  {
   "cell_type": "code",
   "execution_count": 22,
   "id": "5fc20c25-45db-4ff8-915c-52e891f038bd",
   "metadata": {
    "execution": {
     "iopub.execute_input": "2021-11-04T09:15:40.405421Z",
     "iopub.status.busy": "2021-11-04T09:15:40.405217Z",
     "iopub.status.idle": "2021-11-04T09:15:49.895922Z",
     "shell.execute_reply": "2021-11-04T09:15:49.895406Z",
     "shell.execute_reply.started": "2021-11-04T09:15:40.405399Z"
    },
    "tags": []
   },
   "outputs": [
    {
     "name": "stdin",
     "output_type": "stream",
     "text": [
      "Do you want to overwrite the file (../data/optimal_grouping_H2_ibmq_montreal.npy)?  [y]/n:  \n"
     ]
    },
    {
     "name": "stdout",
     "output_type": "stream",
     "text": [
      "data saved\n"
     ]
    },
    {
     "name": "stdin",
     "output_type": "stream",
     "text": [
      "Do you want to overwrite the file (../data/optimal_grouping_LiH_ibmq_montreal.npy)?  [y]/n:  \n"
     ]
    },
    {
     "name": "stdout",
     "output_type": "stream",
     "text": [
      "data saved\n"
     ]
    },
    {
     "name": "stdin",
     "output_type": "stream",
     "text": [
      "Do you want to overwrite the file (../data/optimal_grouping_BeH2_ibmq_montreal.npy)?  [y]/n:  \n"
     ]
    },
    {
     "name": "stdout",
     "output_type": "stream",
     "text": [
      "data saved\n"
     ]
    },
    {
     "name": "stdin",
     "output_type": "stream",
     "text": [
      "Do you want to overwrite the file (../data/optimal_grouping_H2O_ibmq_montreal.npy)?  [y]/n:  \n"
     ]
    },
    {
     "name": "stdout",
     "output_type": "stream",
     "text": [
      "data saved\n"
     ]
    }
   ],
   "source": [
    "backend_device = provider.get_backend(name_backend)\n",
    "\n",
    "WC_device = get_backend_connectivity(backend_device)\n",
    "\n",
    "molecules_names = ['H2', 'LiH', 'BeH2', 'H2O']\n",
    "\n",
    "for molecule in molecules_names:\n",
    "    name_backend = 'ibmq_montreal'\n",
    "    file_name = 'optimal_grouping_' + molecule + '_' + name_backend    \n",
    "    \n",
    "    data_qubit_op = np.load('../data/' + file_name + '.npy', allow_pickle=True).item()\n",
    "    qubit_op = number2SummedOp(data_qubit_op['optimal_labels'], data_qubit_op['optimal_coeffs'])\n",
    "    num_qubits = qubit_op.num_qubits\n",
    "    paulis, _, _ = Label2Chain(qubit_op)\n",
    "    \n",
    "    WC_ideal = list(permutations(list(range(num_qubits)), 2))\n",
    "    \n",
    "    n_groups = {'TPB': len(TPBgrouping(paulis)[1]),\n",
    "                'EM': len(groupingWithOrder(paulis, WC_ideal)[0]),\n",
    "                'HEEM': len(groupingWithOrder(paulis, WC_device)[0])}\n",
    "    data_qubit_op['n_groups'] = n_groups\n",
    "    \n",
    "    _, init_state = molecules(molecule, initial_state=True)\n",
    "    data_qubit_op['init_state'] = init_state\n",
    "    \n",
    "    save_object(data_qubit_op, file_name)"
   ]
  }
 ],
 "metadata": {
  "kernelspec": {
   "display_name": "Python 3 (ipykernel)",
   "language": "python",
   "name": "python3"
  },
  "language_info": {
   "codemirror_mode": {
    "name": "ipython",
    "version": 3
   },
   "file_extension": ".py",
   "mimetype": "text/x-python",
   "name": "python",
   "nbconvert_exporter": "python",
   "pygments_lexer": "ipython3",
   "version": "3.9.5"
  }
 },
 "nbformat": 4,
 "nbformat_minor": 5
}
