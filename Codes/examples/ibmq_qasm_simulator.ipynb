{
 "cells": [
  {
   "cell_type": "code",
   "execution_count": 12,
   "id": "45c586e5-af22-40e0-a44e-fd16db787831",
   "metadata": {
    "execution": {
     "iopub.execute_input": "2022-05-12T13:34:05.890380Z",
     "iopub.status.busy": "2022-05-12T13:34:05.890135Z",
     "iopub.status.idle": "2022-05-12T13:34:05.897105Z",
     "shell.execute_reply": "2022-05-12T13:34:05.896593Z",
     "shell.execute_reply.started": "2022-05-12T13:34:05.890365Z"
    },
    "pycharm": {
     "name": "#%%\n"
    },
    "tags": []
   },
   "outputs": [
    {
     "name": "stdout",
     "output_type": "stream",
     "text": [
      "The autoreload extension is already loaded. To reload it, use:\n",
      "  %reload_ext autoreload\n"
     ]
    }
   ],
   "source": [
    "import sys\n",
    "import warnings\n",
    "sys.path.append('../')\n",
    "warnings.filterwarnings('ignore')\n",
    "\n",
    "%load_ext autoreload\n",
    "%autoreload 1\n",
    "%aimport utils, GroupingAlgorithm, HEEM_VQE_Functions"
   ]
  },
  {
   "cell_type": "code",
   "execution_count": 13,
   "id": "9236dd35-e3fa-436f-a731-3f2b642d212f",
   "metadata": {
    "execution": {
     "iopub.execute_input": "2022-05-12T13:34:06.070058Z",
     "iopub.status.busy": "2022-05-12T13:34:06.069838Z",
     "iopub.status.idle": "2022-05-12T13:34:06.074627Z",
     "shell.execute_reply": "2022-05-12T13:34:06.074218Z",
     "shell.execute_reply.started": "2022-05-12T13:34:06.070045Z"
    },
    "pycharm": {
     "name": "#%%\n"
    },
    "tags": []
   },
   "outputs": [],
   "source": [
    "import numpy as np\n",
    "import matplotlib.pyplot as plt\n",
    "import networkx as nx\n",
    "from tqdm.auto import tqdm\n",
    "\n",
    "from qiskit import IBMQ, Aer, QuantumCircuit, QuantumRegister, ClassicalRegister\n",
    "from qiskit.providers.aer import QasmSimulator\n",
    "from qiskit.providers.aer.noise import NoiseModel\n",
    "from qiskit.utils.quantum_instance import QuantumInstance\n",
    "from qiskit.ignis.verification import get_ghz_simple\n",
    "from qiskit.compiler import transpile\n",
    "from qiskit.tools.monitor import job_monitor\n",
    "\n",
    "from utils import get_backend_connectivity, molecules, Label2Chain, from_string_to_numbers\n",
    "from GroupingAlgorithm import groupingWithOrder, TPBgrouping\n",
    "from HEEM_VQE_Functions import measure_circuit_factor, probability2expected, probability2expected_parallel, post_process_results"
   ]
  },
  {
   "cell_type": "code",
   "execution_count": 14,
   "id": "5808cddc-1d63-427a-8682-c80730217c79",
   "metadata": {
    "execution": {
     "iopub.execute_input": "2022-05-12T13:34:06.246219Z",
     "iopub.status.busy": "2022-05-12T13:34:06.245900Z",
     "iopub.status.idle": "2022-05-12T13:34:06.252888Z",
     "shell.execute_reply": "2022-05-12T13:34:06.252468Z",
     "shell.execute_reply.started": "2022-05-12T13:34:06.246198Z"
    },
    "pycharm": {
     "name": "#%%\n"
    },
    "tags": []
   },
   "outputs": [],
   "source": [
    "def compute_energy(qi, circuits, diagonals, factors, method, n_chunks=25):\n",
    "\n",
    "    counts = []\n",
    "\n",
    "    counter = 0\n",
    "    n_runs = int(np.ceil(len(circuits) / n_chunks))\n",
    "    \n",
    "    with open('progress_' + method + '.txt', 'w') as f:\n",
    "            f.write('{}/{}\\n'.format(0, len(circuits)))\n",
    "    \n",
    "    pbar = tqdm(total=len(circuits), desc='Simulating circuits for {}'.format(method))\n",
    "    while len(counts) < len(circuits):\n",
    "        initial = counter * n_chunks\n",
    "        final = min((counter + 1) * n_chunks, len(circuits))\n",
    "         \n",
    "        # Some time IBMQ is returning some random error [5204], so if this happens\n",
    "        while True:\n",
    "            try:\n",
    "                qi.set_config(job_tags=[f'{counter + 1}/{n_runs}'])\n",
    "                counts_temp = qi.execute(circuits[initial:final]).get_counts()\n",
    "                break\n",
    "            except (KeyboardInterrupt, SystemExit):\n",
    "                return None\n",
    "            except Exception as e:\n",
    "                print(e)\n",
    "                print('Trying again ...')\n",
    "                pass\n",
    "\n",
    "        counts += counts_temp\n",
    "        counter += 1\n",
    "        \n",
    "        with open('progress_' + method + '.txt', 'w') as f:\n",
    "            f.write('{}/{}\\n'.format(final, len(circuits)))            \n",
    "        pbar.update(final - initial)\n",
    "    pbar.close()\n",
    "    \n",
    "    if len(circuits) == 1:\n",
    "        counts = [counts]\n",
    "        \n",
    "    probabilities = [post_process_results(counts[j], circuits[j].num_clbits, qi.run_config.shots) for j in\n",
    "                     range(len(counts))]\n",
    "    energy = 0\n",
    "    \n",
    "    for j in range(len(probabilities)):\n",
    "        energy += np.sum((diagonals[j] * np.array(factors[j])[:, None]) @ probabilities[j])\n",
    "        # energy += np.sum(prob2Exp[j] @ probabilities[j])\n",
    "\n",
    "    return energy"
   ]
  },
  {
   "cell_type": "code",
   "execution_count": 15,
   "id": "d4dc7ac2-ba99-4a52-99b7-58a9e85f3bc6",
   "metadata": {
    "execution": {
     "iopub.execute_input": "2022-05-12T13:34:06.919521Z",
     "iopub.status.busy": "2022-05-12T13:34:06.919255Z",
     "iopub.status.idle": "2022-05-12T13:34:15.515222Z",
     "shell.execute_reply": "2022-05-12T13:34:15.514809Z",
     "shell.execute_reply.started": "2022-05-12T13:34:06.919507Z"
    },
    "pycharm": {
     "name": "#%%\n"
    },
    "tags": []
   },
   "outputs": [
    {
     "name": "stderr",
     "output_type": "stream",
     "text": [
      "ibmqfactory.load_account:WARNING:2022-05-12 15:34:07,816: Credentials are already in use. The existing account in the session will be replaced.\n"
     ]
    }
   ],
   "source": [
    "with warnings.catch_warnings():\n",
    "    warnings.simplefilter(\"ignore\")\n",
    "    IBMQ.load_account()\n",
    "\n",
    "provider_main = IBMQ.get_provider(hub='ibm-q', group='open', project='main')\n",
    "provider_CSIC = IBMQ.get_provider(hub='ibm-q-csic', group='internal', project='iff-csic')\n",
    "\n",
    "name_backend = 'ibmq_montreal'\n",
    "backend = provider_CSIC.get_backend(name_backend)\n",
    "WC_device = get_backend_connectivity(backend)\n",
    "\n",
    "G_device = nx.Graph()\n",
    "G_device.add_edges_from(WC_device)"
   ]
  },
  {
   "cell_type": "code",
   "execution_count": 16,
   "id": "805bf7a5-238f-448d-a890-01229945a78b",
   "metadata": {
    "execution": {
     "iopub.execute_input": "2022-05-12T13:34:15.516123Z",
     "iopub.status.busy": "2022-05-12T13:34:15.515923Z",
     "iopub.status.idle": "2022-05-12T13:34:17.864199Z",
     "shell.execute_reply": "2022-05-12T13:34:17.863814Z",
     "shell.execute_reply.started": "2022-05-12T13:34:15.516110Z"
    },
    "pycharm": {
     "name": "#%%\n"
    },
    "tags": []
   },
   "outputs": [],
   "source": [
    "NUM_SHOTS = 2 ** 14\n",
    "\n",
    "backend_hpc = provider_main.get_backend('ibmq_qasm_simulator')\n",
    "backed_simulation = provider_main.get_backend('simulator_statevector')\n",
    "simulator = Aer.get_backend('aer_simulator')  # Backend for simulation\n",
    "\n",
    "device = QasmSimulator.from_backend(backend)\n",
    "coupling_map = device.configuration().coupling_map\n",
    "noise_model = NoiseModel.from_backend(device)\n",
    "basis_gates = noise_model.basis_gates\n",
    "\n",
    "backed_calculations = simulator"
   ]
  },
  {
   "cell_type": "code",
   "execution_count": 17,
   "id": "7c47c5b7-0457-4014-9690-4127b693272c",
   "metadata": {
    "execution": {
     "iopub.execute_input": "2022-05-12T13:34:17.864741Z",
     "iopub.status.busy": "2022-05-12T13:34:17.864649Z",
     "iopub.status.idle": "2022-05-12T13:34:18.560916Z",
     "shell.execute_reply": "2022-05-12T13:34:18.560591Z",
     "shell.execute_reply.started": "2022-05-12T13:34:17.864730Z"
    },
    "pycharm": {
     "name": "#%%\n"
    },
    "tags": []
   },
   "outputs": [
    {
     "name": "stdout",
     "output_type": "stream",
     "text": [
      "Computing molecule\n",
      "100 total Pauli strings\n"
     ]
    }
   ],
   "source": [
    "molecule_name = 'LiH'\n",
    "\n",
    "try:\n",
    "    qubit_op = np.load('../data/big_molecules.npy', allow_pickle=True).item()[molecule_name]\n",
    "    print('Data loaded')\n",
    "except KeyError:\n",
    "    print('Computing molecule')\n",
    "    qubit_op = molecules(molecule_name)\n",
    "        \n",
    "paulis, coeffs, labels = Label2Chain(qubit_op)\n",
    "\n",
    "n_qubits = qubit_op.num_qubits\n",
    "state_0 = QuantumCircuit(n_qubits)\n",
    "state_0 = state_0.compose(get_ghz_simple(n_qubits, measure=False))  # Initialized in the GHZ state\n",
    "\n",
    "print(f'{len(paulis)} total Pauli strings')"
   ]
  },
  {
   "cell_type": "markdown",
   "id": "3d0e3ede-c1b0-4296-b201-c765f6695597",
   "metadata": {
    "pycharm": {
     "name": "#%% md\n"
    },
    "tags": []
   },
   "source": [
    "# Exact (only valid for GHZ)"
   ]
  },
  {
   "cell_type": "code",
   "execution_count": 18,
   "id": "9741a0b7-d517-4870-86eb-2f20d2bef959",
   "metadata": {
    "execution": {
     "iopub.execute_input": "2022-05-12T13:34:18.563948Z",
     "iopub.status.busy": "2022-05-12T13:34:18.562990Z",
     "iopub.status.idle": "2022-05-12T13:34:18.573340Z",
     "shell.execute_reply": "2022-05-12T13:34:18.573031Z",
     "shell.execute_reply.started": "2022-05-12T13:34:18.563931Z"
    },
    "pycharm": {
     "name": "#%%\n"
    },
    "tags": []
   },
   "outputs": [
    {
     "name": "stdout",
     "output_type": "stream",
     "text": [
      "Exact energy: (-0.42764080030360263+0j)\n"
     ]
    }
   ],
   "source": [
    "diagonals = {'I': np.array([1, 0, 0, 1]), 'X': np.array([0, 1, 1, 0]),\n",
    "             'Y': np.array([0, 1j, -1j, 0]), 'Z': np.array([1, 0, 0, -1])}\n",
    "\n",
    "energy_exact = 0\n",
    "for label, coeff in zip(labels, coeffs):\n",
    "    diagonal = np.ones(4, dtype=complex)\n",
    "    for op in label:\n",
    "        diagonal *= diagonals[op]\n",
    "    energy_exact += coeff * np.sum(diagonal) / 2\n",
    "    \n",
    "print('Exact energy: {}'.format(energy_exact))"
   ]
  },
  {
   "cell_type": "markdown",
   "id": "dd897c35-9ebe-4d9c-8c51-3c3d1c0f3e3e",
   "metadata": {
    "jp-MarkdownHeadingCollapsed": true,
    "pycharm": {
     "name": "#%% md\n"
    },
    "tags": []
   },
   "source": [
    "## Exact: Simulation"
   ]
  },
  {
   "cell_type": "raw",
   "id": "b96bd3b7-320d-4deb-9f06-da751aa681b9",
   "metadata": {
    "execution": {
     "iopub.execute_input": "2022-02-15T19:42:27.525629Z",
     "iopub.status.busy": "2022-02-15T19:42:27.524994Z",
     "iopub.status.idle": "2022-02-15T19:47:01.154528Z",
     "shell.execute_reply": "2022-02-15T19:47:01.154137Z",
     "shell.execute_reply.started": "2022-02-15T19:42:27.525561Z"
    },
    "pycharm": {
     "name": "#%% raw\n"
    },
    "tags": []
   },
   "source": [
    "Groups_HEEM, Measurements_HEEM, layout_HEEM = groupingWithOrder(paulis, G_device, connected=True, print_progress=True)\n",
    "prob2Exp_exact = probability2expected_parallel(-1, coeffs, labels, Groups_HEEM, Measurements_HEEM, print_progress=True)"
   ]
  },
  {
   "cell_type": "raw",
   "id": "428724a8-1c17-406a-be04-a95df648e8b0",
   "metadata": {
    "execution": {
     "iopub.execute_input": "2022-02-15T19:47:01.155308Z",
     "iopub.status.busy": "2022-02-15T19:47:01.155180Z",
     "iopub.status.idle": "2022-02-15T19:47:01.422207Z",
     "shell.execute_reply": "2022-02-15T19:47:01.421785Z",
     "shell.execute_reply.started": "2022-02-15T19:47:01.155295Z"
    },
    "pycharm": {
     "name": "#%% raw\n"
    },
    "tags": []
   },
   "source": [
    "circuits_exact = []\n",
    "for j, measure in enumerate(Measurements_HEEM):\n",
    "    circuit = measure_circuit_factor(measure, n_qubits, make_measurements=False)\n",
    "    circuit = circuit.compose(state_0, front=True)\n",
    "    circuit.save_statevector()\n",
    "    circuits_exact.append(circuit)"
   ]
  },
  {
   "cell_type": "raw",
   "id": "d41cc386-fbc3-493a-9ad4-e9abdde8402d",
   "metadata": {
    "execution": {
     "iopub.execute_input": "2022-02-15T19:47:01.422848Z",
     "iopub.status.busy": "2022-02-15T19:47:01.422727Z",
     "iopub.status.idle": "2022-02-15T19:47:02.360145Z",
     "shell.execute_reply": "2022-02-15T19:47:02.359630Z",
     "shell.execute_reply.started": "2022-02-15T19:47:01.422823Z"
    },
    "pycharm": {
     "name": "#%% raw\n"
    },
    "tags": []
   },
   "source": [
    "results_exact = simulator.run(circuits_exact).result()\n",
    "\n",
    "energy_exact = 0\n",
    "for j in range(len(Measurements_HEEM)):\n",
    "    prob = np.abs(results_exact.get_statevector(circuits_exact[j])) ** 2\n",
    "    energy_exact += np.sum(prob2Exp_exact[j] @ prob)\n",
    "    \n",
    "print('Exact energy: {}'.format(energy_exact))"
   ]
  },
  {
   "cell_type": "markdown",
   "id": "672e438c-67cc-4611-ab27-94d78b4161b1",
   "metadata": {
    "pycharm": {
     "name": "#%% md\n"
    },
    "tags": []
   },
   "source": [
    "# TPB"
   ]
  },
  {
   "cell_type": "code",
   "execution_count": 30,
   "id": "9ef8163e-520a-4817-bc2e-9463cb1ce987",
   "metadata": {
    "execution": {
     "iopub.execute_input": "2022-05-12T13:35:47.064021Z",
     "iopub.status.busy": "2022-05-12T13:35:47.063605Z",
     "iopub.status.idle": "2022-05-12T13:35:50.554736Z",
     "shell.execute_reply": "2022-05-12T13:35:50.553933Z",
     "shell.execute_reply.started": "2022-05-12T13:35:47.064006Z"
    },
    "pycharm": {
     "name": "#%%\n"
    },
    "tags": []
   },
   "outputs": [
    {
     "data": {
      "application/vnd.jupyter.widget-view+json": {
       "model_id": "ae8c4d15b6d548ffb51a59ce3a938a39",
       "version_major": 2,
       "version_minor": 0
      },
      "text/plain": [
       "Computing Pauli graph:   0%|          | 0/100 [00:00<?, ?it/s]"
      ]
     },
     "metadata": {},
     "output_type": "display_data"
    },
    {
     "name": "stdout",
     "output_type": "stream",
     "text": [
      "Number of groups 25\n"
     ]
    },
    {
     "data": {
      "application/vnd.jupyter.widget-view+json": {
       "model_id": "f75f265307e14c3b9fa9fb0b577cb81f",
       "version_major": 2,
       "version_minor": 0
      },
      "text/plain": [
       "Computing diagonal factors:   0%|          | 0/25 [00:00<?, ?it/s]"
      ]
     },
     "metadata": {},
     "output_type": "display_data"
    }
   ],
   "source": [
    "_, Groups_TPB, Measurements_TPB = TPBgrouping(paulis, print_progress=True)\n",
    "\n",
    "max_size = 250\n",
    "print('Number of groups', len(Groups_TPB))\n",
    "n_runs = int(np.ceil(len(Groups_TPB) / max_size))\n",
    "\n",
    "prob2Exp_TPB = []\n",
    "for i in range(n_runs):\n",
    "    initial = i * max_size\n",
    "    final = min((i + 1) * max_size, len(Groups_TPB))\n",
    "    \n",
    "    prob2Exp_TPB += probability2expected_parallel(-1, coeffs, labels, Groups_TPB[initial:final], Measurements_TPB[initial:final],\n",
    "                                                  print_progress=True, shift=False, binary=False)\n",
    "\n",
    "diagonals_TPB = [temp[0] for temp in prob2Exp_TPB]\n",
    "factors_TPB = [temp[1] for temp in prob2Exp_TPB]\n",
    "\n",
    "circuits_TPB = [measure_circuit_factor(measurement, n_qubits, measure_all=False).compose(state_0, front=True) for measurement\n",
    "                 in Measurements_TPB]"
   ]
  },
  {
   "cell_type": "code",
   "execution_count": 31,
   "id": "424d60cf-5791-400f-bc87-558d7d780f90",
   "metadata": {
    "execution": {
     "iopub.execute_input": "2022-05-12T13:35:50.556377Z",
     "iopub.status.busy": "2022-05-12T13:35:50.556163Z",
     "iopub.status.idle": "2022-05-12T13:35:51.255845Z",
     "shell.execute_reply": "2022-05-12T13:35:51.255438Z",
     "shell.execute_reply.started": "2022-05-12T13:35:50.556351Z"
    },
    "pycharm": {
     "name": "#%%\n"
    },
    "tags": []
   },
   "outputs": [
    {
     "data": {
      "application/vnd.jupyter.widget-view+json": {
       "model_id": "3f040b9e76ed4e8a9e8cefbaa28843ab",
       "version_major": 2,
       "version_minor": 0
      },
      "text/plain": [
       "Simulating circuits for TPB:   0%|          | 0/25 [00:00<?, ?it/s]"
      ]
     },
     "metadata": {},
     "output_type": "display_data"
    },
    {
     "name": "stdout",
     "output_type": "stream",
     "text": [
      "TPB energy: -0.43611295449779247\n",
      "Relative error: 1.981 %\n",
      "Simulation time 0.5522315502166748 s\n"
     ]
    }
   ],
   "source": [
    "method='TPB'\n",
    "qi_TPB = QuantumInstance(backend=backed_calculations, coupling_map=coupling_map, noise_model=noise_model,\n",
    "                         basis_gates=basis_gates, shots=NUM_SHOTS // len(Groups_TPB))\n",
    "\n",
    "qi_TPB._RUN_CONFIG += [\"job_name\", \"job_tags\"]\n",
    "qi_TPB.set_config(job_name=f'{molecule_name} / {method}')\n",
    "\n",
    "energy_TPB = compute_energy(qi_TPB, circuits_TPB, diagonals_TPB, factors_TPB, method=method)\n",
    "relative_TPB = np.abs((energy_TPB - energy_exact) / energy_exact)\n",
    "\n",
    "print('TPB energy: {}'.format(energy_TPB))\n",
    "print('Relative error: {:.3f} %'.format(relative_TPB * 100))\n",
    "print(f'Simulation time {qi_TPB.time_taken} s')\n",
    "\n",
    "with open('progress_' + method + '.txt', 'w') as f:\n",
    "    f.write('Done: {}\\n'.format(energy_TPB))"
   ]
  },
  {
   "cell_type": "markdown",
   "id": "decf7b5c-d934-4118-92b1-b6ce9cd72466",
   "metadata": {
    "pycharm": {
     "name": "#%% md\n"
    },
    "tags": []
   },
   "source": [
    "# EM"
   ]
  },
  {
   "cell_type": "code",
   "execution_count": 26,
   "id": "9c2029bb-6c83-44a1-bd4e-974daf145bf8",
   "metadata": {
    "execution": {
     "iopub.execute_input": "2022-05-12T13:35:08.825494Z",
     "iopub.status.busy": "2022-05-12T13:35:08.825199Z",
     "iopub.status.idle": "2022-05-12T13:35:11.905695Z",
     "shell.execute_reply": "2022-05-12T13:35:11.904958Z",
     "shell.execute_reply.started": "2022-05-12T13:35:08.825480Z"
    },
    "pycharm": {
     "name": "#%%\n"
    },
    "tags": []
   },
   "outputs": [
    {
     "data": {
      "application/vnd.jupyter.widget-view+json": {
       "model_id": "cf0d9967d8fe4f288b8812612c1018b4",
       "version_major": 2,
       "version_minor": 0
      },
      "text/plain": [
       "Computing Pauli graph:   0%|          | 0/100 [00:00<?, ?it/s]"
      ]
     },
     "metadata": {},
     "output_type": "display_data"
    },
    {
     "data": {
      "application/vnd.jupyter.widget-view+json": {
       "model_id": "37b134ded7694b51b3c7d9212823e41e",
       "version_major": 2,
       "version_minor": 0
      },
      "text/plain": [
       "Computing grouping:   0%|          | 0/100 [00:00<?, ?it/s]"
      ]
     },
     "metadata": {},
     "output_type": "display_data"
    },
    {
     "name": "stdout",
     "output_type": "stream",
     "text": [
      "Number of groups 11\n"
     ]
    },
    {
     "data": {
      "application/vnd.jupyter.widget-view+json": {
       "model_id": "effb21dbb1cb42efa1c60262fe9ff0e3",
       "version_major": 2,
       "version_minor": 0
      },
      "text/plain": [
       "Computing diagonal factors:   0%|          | 0/11 [00:00<?, ?it/s]"
      ]
     },
     "metadata": {},
     "output_type": "display_data"
    }
   ],
   "source": [
    "Groups_EM, Measurements_EM, layout_EM = groupingWithOrder(paulis, connected=True, print_progress=True)\n",
    "\n",
    "max_size = 50\n",
    "print('Number of groups', len(Groups_EM))\n",
    "n_runs = int(np.ceil(len(Groups_EM) / max_size))\n",
    "\n",
    "prob2Exp_EM = []\n",
    "for i in range(n_runs):\n",
    "    initial = i * max_size\n",
    "    final = min((i + 1) * max_size, len(Groups_EM))\n",
    "    \n",
    "    prob2Exp_EM += probability2expected_parallel(-1, coeffs, labels, Groups_EM[initial:final], Measurements_EM[initial:final],\n",
    "                                                  print_progress=True, shift=False, binary=False)\n",
    "\n",
    "diagonals_EM = [temp[0] for temp in prob2Exp_EM]\n",
    "factors_EM = [temp[1] for temp in prob2Exp_EM]\n",
    "    \n",
    "circuits_EM = [measure_circuit_factor(measurement, n_qubits, measure_all=False).compose(state_0, front=True) for measurement\n",
    "                 in Measurements_EM]"
   ]
  },
  {
   "cell_type": "code",
   "execution_count": 27,
   "id": "c02c9924-6614-4f60-a189-67d8ec8ae84a",
   "metadata": {
    "execution": {
     "iopub.execute_input": "2022-05-12T13:35:11.907796Z",
     "iopub.status.busy": "2022-05-12T13:35:11.907241Z",
     "iopub.status.idle": "2022-05-12T13:35:12.301049Z",
     "shell.execute_reply": "2022-05-12T13:35:12.300247Z",
     "shell.execute_reply.started": "2022-05-12T13:35:11.907760Z"
    },
    "pycharm": {
     "name": "#%%\n"
    },
    "tags": []
   },
   "outputs": [
    {
     "data": {
      "application/vnd.jupyter.widget-view+json": {
       "model_id": "23f85aefc4674733a598e7cd42ab69e7",
       "version_major": 2,
       "version_minor": 0
      },
      "text/plain": [
       "Simulating circuits for EM:   0%|          | 0/11 [00:00<?, ?it/s]"
      ]
     },
     "metadata": {},
     "output_type": "display_data"
    },
    {
     "name": "stdout",
     "output_type": "stream",
     "text": [
      "EM energy: -0.4398563580673711\n",
      "Relative error: 2.856 %\n",
      "Simulation time 0.3066246509552002 s\n"
     ]
    }
   ],
   "source": [
    "method = 'EM'\n",
    "qi_EM = QuantumInstance(backend=backed_calculations, coupling_map=coupling_map, noise_model=noise_model,\n",
    "                        basis_gates=basis_gates, shots=NUM_SHOTS // len(Groups_EM))\n",
    "qi_EM.set_config(initial_layout=layout_EM[::-1])\n",
    "\n",
    "qi_EM._RUN_CONFIG += [\"job_name\", \"job_tags\"]\n",
    "qi_EM.set_config(job_name=f'{molecule_name} / {method}')\n",
    "\n",
    "energy_EM = compute_energy(qi_EM, circuits_EM, diagonals_EM, factors_EM, method=method)\n",
    "relative_EM= np.abs((energy_EM - energy_exact) / energy_exact)\n",
    "\n",
    "print('EM energy: {}'.format(energy_EM))\n",
    "print('Relative error: {:.3f} %'.format(relative_EM * 100))\n",
    "print(f'Simulation time {qi_EM.time_taken} s')\n",
    "\n",
    "with open('progress_' + method + '.txt', 'w') as f:\n",
    "    f.write('Done: {}\\n'.format(energy_EM))"
   ]
  },
  {
   "cell_type": "markdown",
   "id": "074933a7-641e-44fa-b2d4-91d8e15cf898",
   "metadata": {
    "pycharm": {
     "name": "#%% md\n"
    },
    "tags": []
   },
   "source": [
    "# HEEM"
   ]
  },
  {
   "cell_type": "code",
   "execution_count": 28,
   "id": "87dce716-6a03-447a-b590-9eb8aa154f31",
   "metadata": {
    "execution": {
     "iopub.execute_input": "2022-05-12T13:35:12.301858Z",
     "iopub.status.busy": "2022-05-12T13:35:12.301722Z",
     "iopub.status.idle": "2022-05-12T13:35:12.423833Z",
     "shell.execute_reply": "2022-05-12T13:35:12.423361Z",
     "shell.execute_reply.started": "2022-05-12T13:35:12.301843Z"
    },
    "pycharm": {
     "name": "#%%\n"
    },
    "tags": []
   },
   "outputs": [
    {
     "data": {
      "application/vnd.jupyter.widget-view+json": {
       "model_id": "e4bd2026b70f442b8b04e440e0a8c515",
       "version_major": 2,
       "version_minor": 0
      },
      "text/plain": [
       "Computing Pauli graph:   0%|          | 0/100 [00:00<?, ?it/s]"
      ]
     },
     "metadata": {},
     "output_type": "display_data"
    },
    {
     "data": {
      "application/vnd.jupyter.widget-view+json": {
       "model_id": "bb4d9fa442bc43fa8d7ff55e2f837326",
       "version_major": 2,
       "version_minor": 0
      },
      "text/plain": [
       "Computing grouping:   0%|          | 0/100 [00:00<?, ?it/s]"
      ]
     },
     "metadata": {},
     "output_type": "display_data"
    },
    {
     "name": "stdout",
     "output_type": "stream",
     "text": [
      "Number of groups 11\n"
     ]
    },
    {
     "data": {
      "application/vnd.jupyter.widget-view+json": {
       "model_id": "a3346dc86370462f8d8757c597907144",
       "version_major": 2,
       "version_minor": 0
      },
      "text/plain": [
       "Computing diagonal factors:   0%|          | 0/11 [00:00<?, ?it/s]"
      ]
     },
     "metadata": {},
     "output_type": "display_data"
    }
   ],
   "source": [
    "Groups_HEEM, Measurements_HEEM, layout_HEEM = groupingWithOrder(paulis, G_device, connected=True, print_progress=True)\n",
    "\n",
    "max_size = 250\n",
    "print('Number of groups', len(Groups_HEEM))\n",
    "n_runs = int(np.ceil(len(Groups_HEEM) / max_size))\n",
    "\n",
    "prob2Exp_HEEM = []\n",
    "for i in range(n_runs):\n",
    "    initial = i * max_size\n",
    "    final = min((i + 1) * max_size, len(Groups_HEEM))\n",
    "    \n",
    "    prob2Exp_HEEM += probability2expected_parallel(-1, coeffs, labels, Groups_HEEM[initial:final], Measurements_HEEM[initial:final],\n",
    "                                                  print_progress=True, shift=False, binary=False)\n",
    "\n",
    "diagonals_HEEM = [temp[0] for temp in prob2Exp_HEEM]\n",
    "factors_HEEM = [temp[1] for temp in prob2Exp_HEEM]\n",
    "    \n",
    "circuits_HEEM = [measure_circuit_factor(measurement, n_qubits, measure_all=False).compose(state_0, front=True) for measurement\n",
    "                 in Measurements_HEEM]"
   ]
  },
  {
   "cell_type": "code",
   "execution_count": 29,
   "id": "11050b1e-1fb1-4539-873e-ed27ca650a35",
   "metadata": {
    "execution": {
     "iopub.execute_input": "2022-05-12T13:35:12.424826Z",
     "iopub.status.busy": "2022-05-12T13:35:12.424630Z",
     "iopub.status.idle": "2022-05-12T13:35:12.764471Z",
     "shell.execute_reply": "2022-05-12T13:35:12.764086Z",
     "shell.execute_reply.started": "2022-05-12T13:35:12.424813Z"
    },
    "pycharm": {
     "name": "#%%\n"
    },
    "tags": []
   },
   "outputs": [
    {
     "data": {
      "application/vnd.jupyter.widget-view+json": {
       "model_id": "ec57a1d147af4f04ad9b364c6b437a1c",
       "version_major": 2,
       "version_minor": 0
      },
      "text/plain": [
       "Simulating circuits for HEEM:   0%|          | 0/11 [00:00<?, ?it/s]"
      ]
     },
     "metadata": {},
     "output_type": "display_data"
    },
    {
     "name": "stdout",
     "output_type": "stream",
     "text": [
      "HEEM energy: -0.43616664261264043\n",
      "Relative error: 1.994 %\n",
      "Simulation time 0.27233409881591797 s\n"
     ]
    }
   ],
   "source": [
    "method = 'HEEM'\n",
    "qi_HEEM = QuantumInstance(backend=backed_calculations, coupling_map=coupling_map, noise_model=noise_model,\n",
    "                          basis_gates=basis_gates, shots=NUM_SHOTS // len(Groups_HEEM))\n",
    "qi_HEEM.set_config(initial_layout=layout_HEEM[::-1])\n",
    "\n",
    "qi_HEEM._RUN_CONFIG += [\"job_name\", \"job_tags\"]\n",
    "qi_HEEM.set_config(job_name=f'{molecule_name} / {method}')\n",
    "\n",
    "energy_HEEM = compute_energy(qi_HEEM, circuits_HEEM, diagonals_HEEM, factors_HEEM, method=method, n_chunks=100)\n",
    "relative_HEEM = np.abs((energy_HEEM - energy_exact) / energy_exact)\n",
    "\n",
    "print('HEEM energy: {}'.format(energy_HEEM))\n",
    "print('Relative error: {:.3f} %'.format(relative_HEEM * 100))\n",
    "print(f'Simulation time {qi_HEEM.time_taken} s')\n",
    "\n",
    "with open('progress_' + method + '.txt', 'w') as f:\n",
    "    f.write('Done: {}\\n'.format(energy_HEEM))"
   ]
  }
 ],
 "metadata": {
  "kernelspec": {
   "display_name": "Python 3 (ipykernel)",
   "language": "python",
   "name": "python3"
  },
  "language_info": {
   "codemirror_mode": {
    "name": "ipython",
    "version": 3
   },
   "file_extension": ".py",
   "mimetype": "text/x-python",
   "name": "python",
   "nbconvert_exporter": "python",
   "pygments_lexer": "ipython3",
   "version": "3.9.12"
  }
 },
 "nbformat": 4,
 "nbformat_minor": 5
}
