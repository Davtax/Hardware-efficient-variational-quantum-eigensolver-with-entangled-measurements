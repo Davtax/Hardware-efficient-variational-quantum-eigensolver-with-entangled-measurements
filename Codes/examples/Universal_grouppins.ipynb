{
 "cells": [
  {
   "cell_type": "code",
   "execution_count": 1,
   "id": "ae78e4de-dc33-489a-acf8-f1b429095475",
   "metadata": {},
   "outputs": [],
   "source": [
    "import sys\n",
    "sys.path.append('../')\n",
    "import numpy as np\n",
    "from GroupingAlgorithm import *\n",
    "from HEEM_VQE_Functions import *\n",
    "from utils import Label2Chain, get_backend_conectivity\n",
    "from qiskit import IBMQ\n",
    "from qiskit.test.mock import FakeParis\n",
    "from qiskit.opflow.primitive_ops.pauli_sum_op import PauliSumOp"
   ]
  },
  {
   "cell_type": "code",
   "execution_count": 2,
   "id": "e3e7302f-b49f-4a4e-b2b9-4fc3923316d1",
   "metadata": {},
   "outputs": [],
   "source": [
    "IBMQ.load_account()\n",
    "provider    = IBMQ.get_provider(hub='ibm-q-csic', group='internal', project='iff-csic') # put here your provider\n",
    "# backend_exp = provider.get_backend('ibmq_toronto') # select a quantum computer\n",
    "backend_exp = FakeParis() # select a quantum computer\n",
    "WC_exp      = get_backend_conectivity(backend_exp)"
   ]
  },
  {
   "cell_type": "code",
   "execution_count": null,
   "id": "24a04bb7-bd06-4821-b151-15602360fac2",
   "metadata": {},
   "outputs": [],
   "source": [
    "num_qubits = 6\n",
    "mc = 1\n",
    "WC = list(range(num_qubits))\n",
    "WC = list(permutations(list(range(num_qubits)),2))"
   ]
  },
  {
   "cell_type": "code",
   "execution_count": null,
   "id": "308fa22e-ac1a-490c-9db1-dfe7aa01752f",
   "metadata": {},
   "outputs": [],
   "source": [
    "idxs = []\n",
    "for k in range(2**num_qubits):\n",
    "    binary = bin(k)[2:].zfill(num_qubits)\n",
    "    idxs.append( [int(j) for j in binary] )"
   ]
  },
  {
   "cell_type": "code",
   "execution_count": null,
   "id": "00e22fb4-8d21-4871-b6c0-ceae6e4f22c8",
   "metadata": {},
   "outputs": [],
   "source": [
    "Hamiltonian = SummedOp([PauliOp(Pauli((idxs[i], idxs[j])), 1) for i in range(2**num_qubits) for j in range(2**num_qubits)])"
   ]
  },
  {
   "cell_type": "code",
   "execution_count": null,
   "id": "e283f468-ed48-403c-9158-042c91306d38",
   "metadata": {},
   "outputs": [],
   "source": [
    "paulis, coeff, labels = Label2Chain(Hamiltonian)"
   ]
  },
  {
   "cell_type": "code",
   "execution_count": null,
   "id": "c7166e92-aa6b-423f-a9b5-b44e17c18cb5",
   "metadata": {},
   "outputs": [],
   "source": [
    "2**num_qubits, 3**num_qubits, 4**num_qubits"
   ]
  },
  {
   "cell_type": "code",
   "execution_count": null,
   "id": "42d0daa5-31c8-4229-bee7-21c1991d74fe",
   "metadata": {},
   "outputs": [],
   "source": [
    "results = grouping_shuffle( Hamiltonian, [4,3,1,2], WC, mc )"
   ]
  },
  {
   "cell_type": "code",
   "execution_count": null,
   "id": "d356be12-b837-467a-a1ea-00c93c34c573",
   "metadata": {},
   "outputs": [],
   "source": []
  },
  {
   "cell_type": "code",
   "execution_count": null,
   "id": "f76b44d4-8149-4af7-a38d-004208a5fe27",
   "metadata": {},
   "outputs": [],
   "source": []
  },
  {
   "cell_type": "code",
   "execution_count": null,
   "id": "810b0929-27b1-43f8-8b2d-3a0ddbc9658f",
   "metadata": {},
   "outputs": [],
   "source": []
  },
  {
   "cell_type": "code",
   "execution_count": null,
   "id": "76a73feb-b49f-4b66-8ea8-d27ea78dd425",
   "metadata": {},
   "outputs": [],
   "source": []
  }
 ],
 "metadata": {
  "kernelspec": {
   "display_name": "Python 3 (ipykernel)",
   "language": "python",
   "name": "python3"
  },
  "language_info": {
   "codemirror_mode": {
    "name": "ipython",
    "version": 3
   },
   "file_extension": ".py",
   "mimetype": "text/x-python",
   "name": "python",
   "nbconvert_exporter": "python",
   "pygments_lexer": "ipython3",
   "version": "3.9.5"
  }
 },
 "nbformat": 4,
 "nbformat_minor": 5
}
