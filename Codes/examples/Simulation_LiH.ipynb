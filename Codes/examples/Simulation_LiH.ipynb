{
 "cells": [
  {
   "cell_type": "code",
   "execution_count": 17,
   "metadata": {
    "tags": []
   },
   "outputs": [
    {
     "name": "stdout",
     "output_type": "stream",
     "text": [
      "The autoreload extension is already loaded. To reload it, use:\n",
      "  %reload_ext autoreload\n"
     ]
    }
   ],
   "source": [
    "import sys\n",
    "sys.path.append('../')\n",
    "\n",
    "%load_ext autoreload\n",
    "%autoreload 1\n",
    "%aimport VQE, GroupingAlgorithm, HEEM_VQE_Functions, utils\n",
    "\n",
    "import numpy as np\n",
    "import matplotlib.pyplot as plt\n",
    "from VQE import VQE\n",
    "from qiskit.providers.aer import QasmSimulator\n",
    "from qiskit.providers.aer.noise import NoiseModel\n",
    "from utils import *\n",
    "from qiskit import IBMQ\n",
    "from qiskit import Aer\n",
    "from qiskit.circuit.library import EfficientSU2\n",
    "from qiskit.utils.quantum_instance import QuantumInstance\n",
    "from qiskit.algorithms import NumPyMinimumEigensolver\n",
    "from qiskit.algorithms.optimizers import SPSA\n",
    "from qiskit.test.mock import FakeMelbourne\n",
    "import os\n",
    "from joblib import Parallel, delayed\n",
    "from IPython.display import display, clear_output\n",
    "from GroupingAlgorithm import grouping_shuffle\n",
    "from tqdm.notebook import tqdm_notebook\n",
    "from qiskit.visualization import plot_gate_map\n",
    "from GroupingAlgorithm import grouping\n",
    "from utils import Label2Chain\n",
    "from joblib import Parallel, delayed\n",
    "from time import time\n",
    "\n",
    "os.environ['QISKIT_IN_PARALLEL'] = 'TRUE'"
   ]
  },
  {
   "cell_type": "code",
   "execution_count": 20,
   "metadata": {
    "tags": []
   },
   "outputs": [],
   "source": [
    "def callback(evals, params, mean, deviation):  \n",
    "    print(\"{}, {}\".format(evals, mean))\n",
    "\n",
    "def run_VQE(solver, qubitop):    \n",
    "    evaluations = []\n",
    "    solution = solver.compute_minimum_eigenvalue(qubit_op).eigenvalue.real\n",
    "    return solver.energies"
   ]
  },
  {
   "cell_type": "code",
   "execution_count": 21,
   "metadata": {
    "tags": []
   },
   "outputs": [],
   "source": [
    "backend = Aer.get_backend('qasm_simulator')\n",
    "device_backend = FakeMelbourne()\n",
    "device = QasmSimulator.from_backend(device_backend)\n",
    "coupling_map = device.configuration().coupling_map\n",
    "noise_model = NoiseModel.from_backend(device)\n",
    "basis_gates = noise_model.basis_gates\n",
    "NUM_SHOTS = 2 ** 13  # Number of shots for each circuit\n",
    "maxiter = 300\n",
    "qi = QuantumInstance(backend=backend, coupling_map=coupling_map, noise_model=noise_model, basis_gates=basis_gates, shots=NUM_SHOTS)\n",
    "basis = [4, 6, 7, 8, 9, 5, 3, 2, 1]"
   ]
  },
  {
   "cell_type": "code",
   "execution_count": 23,
   "metadata": {
    "tags": []
   },
   "outputs": [
    {
     "data": {
      "application/vnd.jupyter.widget-view+json": {
       "model_id": "8a33efc326144f1990ba0c79fe475674",
       "version_major": 2,
       "version_minor": 0
      },
      "text/plain": [
       "HBox(children=(HTML(value='Computing optimal order'), FloatProgress(value=0.0, max=1000.0), HTML(value='')))"
      ]
     },
     "metadata": {},
     "output_type": "display_data"
    },
    {
     "name": "stdout",
     "output_type": "stream",
     "text": [
      "\n",
      "The original order gives 25 groups\n",
      "The best order found gives 25 groups\n"
     ]
    }
   ],
   "source": [
    "qubit_op, init_state = LiH(initial_state=True)\n",
    "qubit_op = grouping_shuffle(qubit_op, basis, coupling_map, n_mc=1000)\n",
    "num_qubits = qubit_op.num_qubits\n",
    "optimizer = SPSA(maxiter=maxiter, last_avg=1)\n",
    "ansatz = init_state.compose(EfficientSU2(num_qubits, ['ry', 'rz'], entanglement='linear', reps=1))\n",
    "num_var = ansatz.num_parameters\n",
    "initial_params = [0.1] *num_var\n",
    "\n",
    "solver_TPB = VQE(ansatz, optimizer, initial_params, grouping='TPB',\n",
    "                 quantum_instance=qi, callback=callback, order=basis, transpile=True)\n",
    "solver_EM = VQE(ansatz, optimizer, initial_params, grouping='Entangled',\n",
    "                quantum_instance=qi, callback=callback, order=basis, transpile=True)\n",
    "solver_HEEM = VQE(ansatz, optimizer, initial_params, grouping='Entangled',\n",
    "                  quantum_instance=qi, callback=callback, order=basis, conectivity=coupling_map, transpile=True)\n",
    "\n",
    "solvers = [solver_TPB, solver_EM, solver_HEEM]\n",
    "\n",
    "exact = NumPyMinimumEigensolver().compute_minimum_eigenvalue(qubit_op).eigenvalue.real"
   ]
  },
  {
   "cell_type": "code",
   "execution_count": null,
   "metadata": {
    "tags": []
   },
   "outputs": [],
   "source": [
    "start = time()\n",
    "E_TPB, E_EM, E_HEEM = Parallel(n_jobs=3)(delayed(run_VQE)(solver, qubit_op) for solver in solvers)\n",
    "print('VQE completed in {} min'.format((time() - start) / 60))"
   ]
  },
  {
   "cell_type": "code",
   "execution_count": null,
   "metadata": {
    "tags": []
   },
   "outputs": [],
   "source": [
    "file = '../data/simulation_LiH_3'\n",
    "np.savez(file, NUM_SHOTS=NUM_SHOTS, maxiter=maxiter, basis=basis, E_TPB=E_TPB, E_EM=E_EM, E_HEEM=E_HEEM, E_EXACT=exact)"
   ]
  },
  {
   "cell_type": "code",
   "execution_count": null,
   "metadata": {
    "tags": []
   },
   "outputs": [],
   "source": [
    "data = np.load(file + '.npz')\n",
    "\n",
    "E_EXACT = data['E_EXACT']\n",
    "E_TPB = data['E_TPB']\n",
    "E_EM = data['E_EM']\n",
    "E_HEEM = data['E_HEEM']\n",
    "\n",
    "fig, ax = plt.subplots(ncols=1, nrows=1, figsize=(6, 4.5))\n",
    "ax.set_xlabel('Iteration')\n",
    "ax.set_ylabel('Energy [a.u.]')\n",
    "\n",
    "ax.plot(E_TPB)\n",
    "ax.plot(E_EM)\n",
    "ax.plot(E_HEEM)\n",
    "ax.hlines(E_EXACT,0, len(E_TPB), color='black', linestyle='--')\n",
    "\n",
    "ax.legend(['$TPB$', '$EM$', '$HEEM$', 'Exact'])\n",
    "\n",
    "plt.savefig(\"../Figures/simulation_LiH_3.pdf\")"
   ]
  },
  {
   "cell_type": "code",
   "execution_count": null,
   "metadata": {},
   "outputs": [],
   "source": [
    "import qiskit.tools.jupyter\n",
    "%qiskit_version_table"
   ]
  }
 ],
 "metadata": {
  "kernelspec": {
   "display_name": "Python 3",
   "language": "python",
   "name": "python3"
  },
  "language_info": {
   "codemirror_mode": {
    "name": "ipython",
    "version": 3
   },
   "file_extension": ".py",
   "mimetype": "text/x-python",
   "name": "python",
   "nbconvert_exporter": "python",
   "pygments_lexer": "ipython3",
   "version": "3.8.5"
  }
 },
 "nbformat": 4,
 "nbformat_minor": 5
}
