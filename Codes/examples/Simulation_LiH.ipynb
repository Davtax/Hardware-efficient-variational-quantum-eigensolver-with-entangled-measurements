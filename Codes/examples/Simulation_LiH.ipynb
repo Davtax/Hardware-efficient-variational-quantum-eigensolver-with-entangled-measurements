{
 "cells": [
  {
   "cell_type": "markdown",
   "id": "6052edd2",
   "metadata": {},
   "source": [
    "# Imports\n",
    "\n",
    "Import the necessary dependencies to use HEEM VQE, and perform the simulations on a fake quantum device. There will be three different simulations (TPB, Entangled Measurements, and Hardware Efficient Entangled Measurements). These three simulations will be run in parallel using the joblib module."
   ]
  },
  {
   "cell_type": "code",
   "execution_count": 1,
   "id": "3ffd125d",
   "metadata": {
    "execution": {
     "iopub.execute_input": "2021-07-06T14:58:47.312033Z",
     "iopub.status.busy": "2021-07-06T14:58:47.311747Z",
     "iopub.status.idle": "2021-07-06T14:58:48.304843Z",
     "shell.execute_reply": "2021-07-06T14:58:48.304350Z",
     "shell.execute_reply.started": "2021-07-06T14:58:47.311973Z"
    },
    "tags": []
   },
   "outputs": [],
   "source": [
    "import sys\n",
    "sys.path.append('../')\n",
    "\n",
    "%load_ext autoreload\n",
    "%autoreload 1\n",
    "%aimport VQE, GroupingAlgorithm, HEEM_VQE_Functions, utils\n",
    "\n",
    "import numpy as np\n",
    "import matplotlib.pyplot as plt\n",
    "from VQE import VQE\n",
    "from qiskit.providers.aer import QasmSimulator\n",
    "from qiskit.providers.aer.noise import NoiseModel\n",
    "from utils import *\n",
    "from qiskit import IBMQ\n",
    "from qiskit import Aer\n",
    "from qiskit.circuit.library import EfficientSU2\n",
    "from qiskit.utils.quantum_instance import QuantumInstance\n",
    "from qiskit.algorithms import NumPyMinimumEigensolver\n",
    "from qiskit.algorithms.optimizers import SPSA\n",
    "from qiskit.test.mock import FakeMelbourne\n",
    "import os\n",
    "from joblib import Parallel, delayed\n",
    "from IPython.display import display, clear_output\n",
    "from GroupingAlgorithm import grouping_shuffle\n",
    "from tqdm.notebook import tqdm_notebook\n",
    "from qiskit.visualization import plot_gate_map\n",
    "from GroupingAlgorithm import grouping\n",
    "from utils import Label2Chain\n",
    "from joblib import Parallel, delayed\n",
    "from time import time\n",
    "from qiskit.ignis.mitigation.measurement import CompleteMeasFitter\n",
    "\n",
    "os.environ['QISKIT_IN_PARALLEL'] = 'TRUE'"
   ]
  },
  {
   "cell_type": "code",
   "execution_count": 2,
   "id": "c1341ae2",
   "metadata": {
    "execution": {
     "iopub.execute_input": "2021-07-06T14:58:49.030788Z",
     "iopub.status.busy": "2021-07-06T14:58:49.030550Z",
     "iopub.status.idle": "2021-07-06T14:58:49.034798Z",
     "shell.execute_reply": "2021-07-06T14:58:49.034342Z",
     "shell.execute_reply.started": "2021-07-06T14:58:49.030761Z"
    },
    "tags": []
   },
   "outputs": [],
   "source": [
    "# Define the callback to visualize the progress of VQE\n",
    "def callback(evals, params, mean, deviation):  \n",
    "    print(\"{}, {}\".format(evals, mean))\n",
    "\n",
    "# Define a function that run the VQE for a giben instance, and some quantum operators\n",
    "def run_VQE(solver, qubitop):    \n",
    "    evaluations = []\n",
    "    solution = solver.compute_minimum_eigenvalue(qubit_op).eigenvalue.real\n",
    "    return solver.energies"
   ]
  },
  {
   "cell_type": "markdown",
   "id": "9dc0400d",
   "metadata": {},
   "source": [
    "# Setting the simulation\n",
    "\n",
    "Load the QASM simulator and the fake quantum device, in this case ibmq 16 Melbourne. We also need the couping map of the device, the noise model and the gates that can be performed in this quantum chip. Latter we have to define the number of shots each circuit is measured, and the maximum number of iterations for the classical optimizer. After all that, we construct the quantum instance, and define the preference of basis for the grouping."
   ]
  },
  {
   "cell_type": "code",
   "execution_count": 3,
   "id": "371b92c5",
   "metadata": {
    "execution": {
     "iopub.execute_input": "2021-07-06T14:58:50.558215Z",
     "iopub.status.busy": "2021-07-06T14:58:50.558051Z",
     "iopub.status.idle": "2021-07-06T14:58:51.937269Z",
     "shell.execute_reply": "2021-07-06T14:58:51.936869Z",
     "shell.execute_reply.started": "2021-07-06T14:58:50.558195Z"
    },
    "tags": []
   },
   "outputs": [],
   "source": [
    "backend = Aer.get_backend('qasm_simulator')\n",
    "device_backend = FakeMelbourne()\n",
    "device = QasmSimulator.from_backend(device_backend)\n",
    "coupling_map = device.configuration().coupling_map\n",
    "noise_model = NoiseModel.from_backend(device)\n",
    "basis_gates = noise_model.basis_gates\n",
    "NUM_SHOTS = 2 ** 13  # Number of shots for each circuit\n",
    "maxiter = 300\n",
    "qi = QuantumInstance(backend=backend, coupling_map=coupling_map, noise_model=noise_model, basis_gates=basis_gates, shots=NUM_SHOTS,\n",
    "                     measurement_error_mitigation_cls=CompleteMeasFitter, cals_matrix_refresh_period=15)\n",
    "basis = [4, 6, 7, 8, 9, 5, 3, 2, 1]"
   ]
  },
  {
   "cell_type": "markdown",
   "id": "acec351d",
   "metadata": {},
   "source": [
    "# Setting the VQE algorithm\n",
    "We need to load the quantum operators for the LiH molecule and distance of interest. Later we try a Monte Carlo approach to randomize the order of the Paulis strings in order to find the best possible grouping with the connectivity and the basis preference defined above. Later we initialize the classical optimizer, in this case SPSA, and define some variational circuit and initialize all the angles in 0.1.\n",
    "\n",
    "Them we initiaize a VQE instance for a TPB grouping, entangled measurement gruping without taking into account the coupling map, and the last one with HEEM. In order to verify the obtained energies, we compute the exact bond energy."
   ]
  },
  {
   "cell_type": "code",
   "execution_count": 6,
   "id": "1538e49d",
   "metadata": {
    "execution": {
     "iopub.execute_input": "2021-07-06T14:59:20.165127Z",
     "iopub.status.busy": "2021-07-06T14:59:20.164898Z",
     "iopub.status.idle": "2021-07-06T14:59:30.916322Z",
     "shell.execute_reply": "2021-07-06T14:59:30.915785Z",
     "shell.execute_reply.started": "2021-07-06T14:59:20.165100Z"
    },
    "tags": []
   },
   "outputs": [
    {
     "data": {
      "application/vnd.jupyter.widget-view+json": {
       "model_id": "b4013573fb6a42638258b192b4d53d37",
       "version_major": 2,
       "version_minor": 0
      },
      "text/plain": [
       "Computing optimal order:   0%|          | 0/1000 [00:00<?, ?it/s]"
      ]
     },
     "metadata": {},
     "output_type": "display_data"
    },
    {
     "name": "stdout",
     "output_type": "stream",
     "text": [
      "The original order gives 25 groups\n",
      "The best order found gives 25 groups\n",
      "The exact minimum energy is:  -1.0887060157347437\n"
     ]
    }
   ],
   "source": [
    "qubit_op, init_state = LiH(initial_state=True)\n",
    "qubit_op = grouping_shuffle(qubit_op, basis, coupling_map, n_mc=1000)\n",
    "num_qubits = qubit_op.num_qubits\n",
    "optimizer = SPSA(maxiter=maxiter, last_avg=1)\n",
    "ansatz = init_state.compose(EfficientSU2(num_qubits, ['ry', 'rz'], entanglement='linear', reps=1))\n",
    "num_var = ansatz.num_parameters\n",
    "initial_params = [0.1] *num_var\n",
    "\n",
    "solver_TPB = VQE(ansatz, optimizer, initial_params, grouping='TPB',\n",
    "                 quantum_instance=qi, callback=callback, order=basis)\n",
    "solver_EM = VQE(ansatz, optimizer, initial_params, grouping='Entangled',\n",
    "                quantum_instance=qi, callback=callback, order=basis)\n",
    "solver_HEEM = VQE(ansatz, optimizer, initial_params, grouping='Entangled',\n",
    "                  quantum_instance=qi, callback=callback, order=basis, conectivity=coupling_map)\n",
    "\n",
    "solvers = [solver_TPB, solver_EM, solver_HEEM]\n",
    "\n",
    "exact = NumPyMinimumEigensolver().compute_minimum_eigenvalue(qubit_op).eigenvalue.real\n",
    "print('The exact minimum energy is: ', exact)"
   ]
  },
  {
   "cell_type": "code",
   "execution_count": 7,
   "id": "f2b84003",
   "metadata": {
    "execution": {
     "iopub.execute_input": "2021-07-06T14:59:51.861203Z",
     "iopub.status.busy": "2021-07-06T14:59:51.860973Z",
     "iopub.status.idle": "2021-07-06T15:00:21.521979Z",
     "shell.execute_reply": "2021-07-06T15:00:21.521485Z",
     "shell.execute_reply.started": "2021-07-06T14:59:51.861177Z"
    },
    "tags": []
   },
   "outputs": [
    {
     "ename": "KeyboardInterrupt",
     "evalue": "",
     "output_type": "error",
     "traceback": [
      "\u001b[0;31m---------------------------------------------------------------------------\u001b[0m",
      "\u001b[0;31mKeyboardInterrupt\u001b[0m                         Traceback (most recent call last)",
      "\u001b[0;32m<ipython-input-7-a85e5f1eb0cd>\u001b[0m in \u001b[0;36m<module>\u001b[0;34m\u001b[0m\n\u001b[1;32m      2\u001b[0m \u001b[0;34m\u001b[0m\u001b[0m\n\u001b[1;32m      3\u001b[0m \u001b[0mstart\u001b[0m \u001b[0;34m=\u001b[0m \u001b[0mtime\u001b[0m\u001b[0;34m(\u001b[0m\u001b[0;34m)\u001b[0m\u001b[0;34m\u001b[0m\u001b[0;34m\u001b[0m\u001b[0m\n\u001b[0;32m----> 4\u001b[0;31m \u001b[0mE_TPB\u001b[0m\u001b[0;34m,\u001b[0m \u001b[0mE_EM\u001b[0m\u001b[0;34m,\u001b[0m \u001b[0mE_HEEM\u001b[0m \u001b[0;34m=\u001b[0m \u001b[0mParallel\u001b[0m\u001b[0;34m(\u001b[0m\u001b[0mn_jobs\u001b[0m\u001b[0;34m=\u001b[0m\u001b[0;36m3\u001b[0m\u001b[0;34m)\u001b[0m\u001b[0;34m(\u001b[0m\u001b[0mdelayed\u001b[0m\u001b[0;34m(\u001b[0m\u001b[0mrun_VQE\u001b[0m\u001b[0;34m)\u001b[0m\u001b[0;34m(\u001b[0m\u001b[0msolver\u001b[0m\u001b[0;34m,\u001b[0m \u001b[0mqubit_op\u001b[0m\u001b[0;34m)\u001b[0m \u001b[0;32mfor\u001b[0m \u001b[0msolver\u001b[0m \u001b[0;32min\u001b[0m \u001b[0msolvers\u001b[0m\u001b[0;34m)\u001b[0m\u001b[0;34m\u001b[0m\u001b[0;34m\u001b[0m\u001b[0m\n\u001b[0m\u001b[1;32m      5\u001b[0m \u001b[0mprint\u001b[0m\u001b[0;34m(\u001b[0m\u001b[0;34m'VQE completed in {} min'\u001b[0m\u001b[0;34m.\u001b[0m\u001b[0mformat\u001b[0m\u001b[0;34m(\u001b[0m\u001b[0;34m(\u001b[0m\u001b[0mtime\u001b[0m\u001b[0;34m(\u001b[0m\u001b[0;34m)\u001b[0m \u001b[0;34m-\u001b[0m \u001b[0mstart\u001b[0m\u001b[0;34m)\u001b[0m \u001b[0;34m/\u001b[0m \u001b[0;36m60\u001b[0m\u001b[0;34m)\u001b[0m\u001b[0;34m)\u001b[0m\u001b[0;34m\u001b[0m\u001b[0;34m\u001b[0m\u001b[0m\n",
      "\u001b[0;32m~/anaconda3/envs/hackathon/lib/python3.8/site-packages/joblib/parallel.py\u001b[0m in \u001b[0;36m__call__\u001b[0;34m(self, iterable)\u001b[0m\n\u001b[1;32m   1052\u001b[0m \u001b[0;34m\u001b[0m\u001b[0m\n\u001b[1;32m   1053\u001b[0m             \u001b[0;32mwith\u001b[0m \u001b[0mself\u001b[0m\u001b[0;34m.\u001b[0m\u001b[0m_backend\u001b[0m\u001b[0;34m.\u001b[0m\u001b[0mretrieval_context\u001b[0m\u001b[0;34m(\u001b[0m\u001b[0;34m)\u001b[0m\u001b[0;34m:\u001b[0m\u001b[0;34m\u001b[0m\u001b[0;34m\u001b[0m\u001b[0m\n\u001b[0;32m-> 1054\u001b[0;31m                 \u001b[0mself\u001b[0m\u001b[0;34m.\u001b[0m\u001b[0mretrieve\u001b[0m\u001b[0;34m(\u001b[0m\u001b[0;34m)\u001b[0m\u001b[0;34m\u001b[0m\u001b[0;34m\u001b[0m\u001b[0m\n\u001b[0m\u001b[1;32m   1055\u001b[0m             \u001b[0;31m# Make sure that we get a last message telling us we are done\u001b[0m\u001b[0;34m\u001b[0m\u001b[0;34m\u001b[0m\u001b[0;34m\u001b[0m\u001b[0m\n\u001b[1;32m   1056\u001b[0m             \u001b[0melapsed_time\u001b[0m \u001b[0;34m=\u001b[0m \u001b[0mtime\u001b[0m\u001b[0;34m.\u001b[0m\u001b[0mtime\u001b[0m\u001b[0;34m(\u001b[0m\u001b[0;34m)\u001b[0m \u001b[0;34m-\u001b[0m \u001b[0mself\u001b[0m\u001b[0;34m.\u001b[0m\u001b[0m_start_time\u001b[0m\u001b[0;34m\u001b[0m\u001b[0;34m\u001b[0m\u001b[0m\n",
      "\u001b[0;32m~/anaconda3/envs/hackathon/lib/python3.8/site-packages/joblib/parallel.py\u001b[0m in \u001b[0;36mretrieve\u001b[0;34m(self)\u001b[0m\n\u001b[1;32m    931\u001b[0m             \u001b[0;32mtry\u001b[0m\u001b[0;34m:\u001b[0m\u001b[0;34m\u001b[0m\u001b[0;34m\u001b[0m\u001b[0m\n\u001b[1;32m    932\u001b[0m                 \u001b[0;32mif\u001b[0m \u001b[0mgetattr\u001b[0m\u001b[0;34m(\u001b[0m\u001b[0mself\u001b[0m\u001b[0;34m.\u001b[0m\u001b[0m_backend\u001b[0m\u001b[0;34m,\u001b[0m \u001b[0;34m'supports_timeout'\u001b[0m\u001b[0;34m,\u001b[0m \u001b[0;32mFalse\u001b[0m\u001b[0;34m)\u001b[0m\u001b[0;34m:\u001b[0m\u001b[0;34m\u001b[0m\u001b[0;34m\u001b[0m\u001b[0m\n\u001b[0;32m--> 933\u001b[0;31m                     \u001b[0mself\u001b[0m\u001b[0;34m.\u001b[0m\u001b[0m_output\u001b[0m\u001b[0;34m.\u001b[0m\u001b[0mextend\u001b[0m\u001b[0;34m(\u001b[0m\u001b[0mjob\u001b[0m\u001b[0;34m.\u001b[0m\u001b[0mget\u001b[0m\u001b[0;34m(\u001b[0m\u001b[0mtimeout\u001b[0m\u001b[0;34m=\u001b[0m\u001b[0mself\u001b[0m\u001b[0;34m.\u001b[0m\u001b[0mtimeout\u001b[0m\u001b[0;34m)\u001b[0m\u001b[0;34m)\u001b[0m\u001b[0;34m\u001b[0m\u001b[0;34m\u001b[0m\u001b[0m\n\u001b[0m\u001b[1;32m    934\u001b[0m                 \u001b[0;32melse\u001b[0m\u001b[0;34m:\u001b[0m\u001b[0;34m\u001b[0m\u001b[0;34m\u001b[0m\u001b[0m\n\u001b[1;32m    935\u001b[0m                     \u001b[0mself\u001b[0m\u001b[0;34m.\u001b[0m\u001b[0m_output\u001b[0m\u001b[0;34m.\u001b[0m\u001b[0mextend\u001b[0m\u001b[0;34m(\u001b[0m\u001b[0mjob\u001b[0m\u001b[0;34m.\u001b[0m\u001b[0mget\u001b[0m\u001b[0;34m(\u001b[0m\u001b[0;34m)\u001b[0m\u001b[0;34m)\u001b[0m\u001b[0;34m\u001b[0m\u001b[0;34m\u001b[0m\u001b[0m\n",
      "\u001b[0;32m~/anaconda3/envs/hackathon/lib/python3.8/site-packages/joblib/_parallel_backends.py\u001b[0m in \u001b[0;36mwrap_future_result\u001b[0;34m(future, timeout)\u001b[0m\n\u001b[1;32m    540\u001b[0m         AsyncResults.get from multiprocessing.\"\"\"\n\u001b[1;32m    541\u001b[0m         \u001b[0;32mtry\u001b[0m\u001b[0;34m:\u001b[0m\u001b[0;34m\u001b[0m\u001b[0;34m\u001b[0m\u001b[0m\n\u001b[0;32m--> 542\u001b[0;31m             \u001b[0;32mreturn\u001b[0m \u001b[0mfuture\u001b[0m\u001b[0;34m.\u001b[0m\u001b[0mresult\u001b[0m\u001b[0;34m(\u001b[0m\u001b[0mtimeout\u001b[0m\u001b[0;34m=\u001b[0m\u001b[0mtimeout\u001b[0m\u001b[0;34m)\u001b[0m\u001b[0;34m\u001b[0m\u001b[0;34m\u001b[0m\u001b[0m\n\u001b[0m\u001b[1;32m    543\u001b[0m         \u001b[0;32mexcept\u001b[0m \u001b[0mCfTimeoutError\u001b[0m \u001b[0;32mas\u001b[0m \u001b[0me\u001b[0m\u001b[0;34m:\u001b[0m\u001b[0;34m\u001b[0m\u001b[0;34m\u001b[0m\u001b[0m\n\u001b[1;32m    544\u001b[0m             \u001b[0;32mraise\u001b[0m \u001b[0mTimeoutError\u001b[0m \u001b[0;32mfrom\u001b[0m \u001b[0me\u001b[0m\u001b[0;34m\u001b[0m\u001b[0;34m\u001b[0m\u001b[0m\n",
      "\u001b[0;32m~/anaconda3/envs/hackathon/lib/python3.8/concurrent/futures/_base.py\u001b[0m in \u001b[0;36mresult\u001b[0;34m(self, timeout)\u001b[0m\n\u001b[1;32m    432\u001b[0m                 \u001b[0;32mreturn\u001b[0m \u001b[0mself\u001b[0m\u001b[0;34m.\u001b[0m\u001b[0m__get_result\u001b[0m\u001b[0;34m(\u001b[0m\u001b[0;34m)\u001b[0m\u001b[0;34m\u001b[0m\u001b[0;34m\u001b[0m\u001b[0m\n\u001b[1;32m    433\u001b[0m \u001b[0;34m\u001b[0m\u001b[0m\n\u001b[0;32m--> 434\u001b[0;31m             \u001b[0mself\u001b[0m\u001b[0;34m.\u001b[0m\u001b[0m_condition\u001b[0m\u001b[0;34m.\u001b[0m\u001b[0mwait\u001b[0m\u001b[0;34m(\u001b[0m\u001b[0mtimeout\u001b[0m\u001b[0;34m)\u001b[0m\u001b[0;34m\u001b[0m\u001b[0;34m\u001b[0m\u001b[0m\n\u001b[0m\u001b[1;32m    435\u001b[0m \u001b[0;34m\u001b[0m\u001b[0m\n\u001b[1;32m    436\u001b[0m             \u001b[0;32mif\u001b[0m \u001b[0mself\u001b[0m\u001b[0;34m.\u001b[0m\u001b[0m_state\u001b[0m \u001b[0;32min\u001b[0m \u001b[0;34m[\u001b[0m\u001b[0mCANCELLED\u001b[0m\u001b[0;34m,\u001b[0m \u001b[0mCANCELLED_AND_NOTIFIED\u001b[0m\u001b[0;34m]\u001b[0m\u001b[0;34m:\u001b[0m\u001b[0;34m\u001b[0m\u001b[0;34m\u001b[0m\u001b[0m\n",
      "\u001b[0;32m~/anaconda3/envs/hackathon/lib/python3.8/threading.py\u001b[0m in \u001b[0;36mwait\u001b[0;34m(self, timeout)\u001b[0m\n\u001b[1;32m    300\u001b[0m         \u001b[0;32mtry\u001b[0m\u001b[0;34m:\u001b[0m    \u001b[0;31m# restore state no matter what (e.g., KeyboardInterrupt)\u001b[0m\u001b[0;34m\u001b[0m\u001b[0;34m\u001b[0m\u001b[0m\n\u001b[1;32m    301\u001b[0m             \u001b[0;32mif\u001b[0m \u001b[0mtimeout\u001b[0m \u001b[0;32mis\u001b[0m \u001b[0;32mNone\u001b[0m\u001b[0;34m:\u001b[0m\u001b[0;34m\u001b[0m\u001b[0;34m\u001b[0m\u001b[0m\n\u001b[0;32m--> 302\u001b[0;31m                 \u001b[0mwaiter\u001b[0m\u001b[0;34m.\u001b[0m\u001b[0macquire\u001b[0m\u001b[0;34m(\u001b[0m\u001b[0;34m)\u001b[0m\u001b[0;34m\u001b[0m\u001b[0;34m\u001b[0m\u001b[0m\n\u001b[0m\u001b[1;32m    303\u001b[0m                 \u001b[0mgotit\u001b[0m \u001b[0;34m=\u001b[0m \u001b[0;32mTrue\u001b[0m\u001b[0;34m\u001b[0m\u001b[0;34m\u001b[0m\u001b[0m\n\u001b[1;32m    304\u001b[0m             \u001b[0;32melse\u001b[0m\u001b[0;34m:\u001b[0m\u001b[0;34m\u001b[0m\u001b[0;34m\u001b[0m\u001b[0m\n",
      "\u001b[0;31mKeyboardInterrupt\u001b[0m: "
     ]
    }
   ],
   "source": [
    "# Solve the VQE instances\n",
    "\n",
    "start = time()\n",
    "E_TPB, E_EM, E_HEEM = Parallel(n_jobs=3)(delayed(run_VQE)(solver, qubit_op) for solver in solvers)\n",
    "print('VQE completed in {} min'.format((time() - start) / 60))"
   ]
  },
  {
   "cell_type": "markdown",
   "id": "e4cb4c28",
   "metadata": {},
   "source": [
    "# Save data"
   ]
  },
  {
   "cell_type": "code",
   "execution_count": 6,
   "id": "8f062b10",
   "metadata": {
    "execution": {
     "iopub.execute_input": "2021-07-05T20:32:30.680798Z",
     "iopub.status.busy": "2021-07-05T20:32:30.680615Z",
     "iopub.status.idle": "2021-07-05T20:32:30.686953Z",
     "shell.execute_reply": "2021-07-05T20:32:30.686609Z",
     "shell.execute_reply.started": "2021-07-05T20:32:30.680775Z"
    },
    "tags": []
   },
   "outputs": [],
   "source": [
    "file = '../data/simulation_LiH_error_mitigation'\n",
    "np.savez(file, NUM_SHOTS=NUM_SHOTS, maxiter=maxiter, basis=basis, E_TPB=E_TPB, E_EM=E_EM, E_HEEM=E_HEEM, E_EXACT=exact)"
   ]
  },
  {
   "cell_type": "markdown",
   "id": "ee2e7a8c",
   "metadata": {},
   "source": [
    "# Load and plot data"
   ]
  },
  {
   "cell_type": "code",
   "execution_count": 9,
   "id": "0be1484f",
   "metadata": {
    "execution": {
     "iopub.execute_input": "2021-07-05T21:50:57.325147Z",
     "iopub.status.busy": "2021-07-05T21:50:57.324928Z",
     "iopub.status.idle": "2021-07-05T21:50:57.599874Z",
     "shell.execute_reply": "2021-07-05T21:50:57.599340Z",
     "shell.execute_reply.started": "2021-07-05T21:50:57.325124Z"
    },
    "tags": []
   },
   "outputs": [
    {
     "data": {
      "image/png": "[encoded data removed]",
      "text/plain": [
       "<Figure size 432x324 with 1 Axes>"
      ]
     },
     "metadata": {
      "needs_background": "light"
     },
     "output_type": "display_data"
    }
   ],
   "source": [
    "data = np.load(file + '.npz')\n",
    "\n",
    "E_EXACT = data['E_EXACT']\n",
    "E_TPB = data['E_TPB']\n",
    "E_EM = data['E_EM']\n",
    "E_HEEM = data['E_HEEM']\n",
    "\n",
    "fig, ax = plt.subplots(ncols=1, nrows=1, figsize=(6, 4.5))\n",
    "ax.set_xlabel('Iteration')\n",
    "ax.set_ylabel('Energy [a.u.]')\n",
    "\n",
    "ax.plot(E_TPB)\n",
    "ax.plot(E_EM)\n",
    "ax.plot(E_HEEM)\n",
    "ax.hlines(E_EXACT,0, len(E_TPB), color='black', linestyle='--')\n",
    "\n",
    "ax.legend(['$TPB$', '$EM$', '$HEEM$', 'Exact'])\n",
    "\n",
    "plt.savefig(\"../../Figures/simulation_LiH_mitigation.pdf\")"
   ]
  },
  {
   "cell_type": "code",
   "execution_count": null,
   "id": "7ecb97b3",
   "metadata": {
    "execution": {
     "iopub.status.busy": "2021-07-05T20:32:31.082979Z",
     "iopub.status.idle": "2021-07-05T20:32:31.083118Z",
     "shell.execute_reply": "2021-07-05T20:32:31.083046Z"
    },
    "tags": []
   },
   "outputs": [],
   "source": [
    "import qiskit.tools.jupyter\n",
    "%qiskit_version_table"
   ]
  }
 ],
 "metadata": {
  "kernelspec": {
   "display_name": "Python 3",
   "language": "python",
   "name": "python3"
  },
  "language_info": {
   "codemirror_mode": {
    "name": "ipython",
    "version": 3
   },
   "file_extension": ".py",
   "mimetype": "text/x-python",
   "name": "python",
   "nbconvert_exporter": "python",
   "pygments_lexer": "ipython3",
   "version": "3.8.8"
  }
 },
 "nbformat": 4,
 "nbformat_minor": 5
}
