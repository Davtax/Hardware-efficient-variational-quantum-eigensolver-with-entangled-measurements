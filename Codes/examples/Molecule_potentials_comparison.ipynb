{
 "cells": [
  {
   "cell_type": "code",
   "execution_count": 2,
   "id": "35b38e33-9c33-4424-bc90-309798f6fb15",
   "metadata": {
    "execution": {
     "iopub.execute_input": "2021-06-02T18:15:19.574932Z",
     "iopub.status.busy": "2021-06-02T18:15:19.574721Z",
     "iopub.status.idle": "2021-06-02T18:15:20.416939Z",
     "shell.execute_reply": "2021-06-02T18:15:20.416581Z",
     "shell.execute_reply.started": "2021-06-02T18:15:19.574909Z"
    },
    "tags": []
   },
   "outputs": [],
   "source": [
    "import sys\n",
    "sys.path.append('../')\n",
    "\n",
    "%load_ext autoreload\n",
    "%autoreload 1\n",
    "%aimport VQE, GroupingAlgorithm, HEEM_VQE_Functions, utils"
   ]
  },
  {
   "cell_type": "code",
   "execution_count": 3,
   "id": "025022e7-170e-45d2-b71a-42d806a7cf15",
   "metadata": {
    "execution": {
     "iopub.execute_input": "2021-06-02T18:15:20.417635Z",
     "iopub.status.busy": "2021-06-02T18:15:20.417540Z",
     "iopub.status.idle": "2021-06-02T18:15:20.564165Z",
     "shell.execute_reply": "2021-06-02T18:15:20.563731Z",
     "shell.execute_reply.started": "2021-06-02T18:15:20.417624Z"
    },
    "tags": []
   },
   "outputs": [],
   "source": [
    "import numpy as np\n",
    "import matplotlib.pyplot as plt\n",
    "from VQE import VQE\n",
    "from qiskit.providers.aer import QasmSimulator\n",
    "from qiskit.providers.aer.noise import NoiseModel\n",
    "from utils import *\n",
    "from qiskit import IBMQ\n",
    "from qiskit import Aer\n",
    "from qiskit.circuit.library import EfficientSU2\n",
    "from qiskit.utils.quantum_instance import QuantumInstance\n",
    "from qiskit.algorithms import NumPyMinimumEigensolver\n",
    "from qiskit.algorithms.optimizers import SPSA\n",
    "from qiskit.test.mock import FakeVigo\n",
    "import os\n",
    "from joblib import Parallel, delayed\n",
    "from IPython.display import display, clear_output\n",
    "from GroupingAlgorithm import grouping_shuffle\n",
    "from tqdm.notebook import tqdm_notebook\n",
    "\n",
    "os.environ['QISKIT_IN_PARALLEL'] = 'TRUE'"
   ]
  },
  {
   "cell_type": "code",
   "execution_count": 4,
   "id": "b124881f-5333-4041-a030-85d9a62d7495",
   "metadata": {
    "execution": {
     "iopub.execute_input": "2021-06-02T18:15:25.082004Z",
     "iopub.status.busy": "2021-06-02T18:15:25.081784Z",
     "iopub.status.idle": "2021-06-02T18:15:25.088567Z",
     "shell.execute_reply": "2021-06-02T18:15:25.087908Z",
     "shell.execute_reply.started": "2021-06-02T18:15:25.081980Z"
    },
    "tags": []
   },
   "outputs": [],
   "source": [
    "import contextlib\n",
    "import joblib\n",
    "\n",
    "@contextlib.contextmanager\n",
    "def tqdm_joblib(tqdm_object):\n",
    "    \"\"\"Context manager to patch joblib to report into tqdm progress bar given as argument\"\"\"\n",
    "    class TqdmBatchCompletionCallback(joblib.parallel.BatchCompletionCallBack):\n",
    "        def __init__(self, *args, **kwargs):\n",
    "            super().__init__(*args, **kwargs)\n",
    "\n",
    "        def __call__(self, *args, **kwargs):\n",
    "            tqdm_object.update(n=self.batch_size)\n",
    "            return super().__call__(*args, **kwargs)\n",
    "\n",
    "    old_batch_callback = joblib.parallel.BatchCompletionCallBack\n",
    "    joblib.parallel.BatchCompletionCallBack = TqdmBatchCompletionCallback\n",
    "    try:\n",
    "        yield tqdm_object\n",
    "    finally:\n",
    "        joblib.parallel.BatchCompletionCallBack = old_batch_callback\n",
    "        tqdm_object.close()   "
   ]
  },
  {
   "cell_type": "code",
   "execution_count": 5,
   "id": "1f156880-9d85-4313-8b24-f4b457e42e62",
   "metadata": {
    "execution": {
     "iopub.execute_input": "2021-06-02T18:15:27.941142Z",
     "iopub.status.busy": "2021-06-02T18:15:27.940918Z",
     "iopub.status.idle": "2021-06-02T18:15:27.948744Z",
     "shell.execute_reply": "2021-06-02T18:15:27.948345Z",
     "shell.execute_reply.started": "2021-06-02T18:15:27.941118Z"
    },
    "tags": []
   },
   "outputs": [],
   "source": [
    "def molecule(d, quantum_instance, conectivity, basis):\n",
    "    print(d)\n",
    "    E = np.zeros(4)\n",
    "\n",
    "    def callback( evals, params ):  \n",
    "        display(\"{}, {}\".format(len(evaluations),evals))\n",
    "        clear_output(wait=True)\n",
    "        parameters.append(params)\n",
    "        evaluations.append(evals)\n",
    "\n",
    "    parameters  = []\n",
    "    evaluations = []\n",
    "\n",
    "\n",
    "    qubit_op, init_state = LiH(d, initial_state=True)\n",
    "#     qubit_op = grouping_shuffle(qubit_op, basis, coupling_map)\n",
    "    \n",
    "    num_qubits = qubit_op.num_qubits\n",
    "\n",
    "    # Exact energy\n",
    "    E[0] = NumPyMinimumEigensolver().compute_minimum_eigenvalue(qubit_op).eigenvalue.real\n",
    "    print('Exact energy: {}'.format(E[0]))\n",
    "\n",
    "    optimizer = SPSA(maxiter=2, last_avg=1)\n",
    "    ansatz = init_state.compose(EfficientSU2(num_qubits, ['ry', 'rz'], entanglement='linear', reps=1))\n",
    "    num_var = ansatz.num_parameters\n",
    "    initial_params = np.random.rand(num_var)\n",
    "\n",
    "\n",
    "    solver_TPB = VQE(ansatz, optimizer, initial_params, grouping='TPB', quantum_instance=quantum_instance,\n",
    "                     callback=callback, order=basis)\n",
    "    solver_ENT = VQE(ansatz, optimizer, initial_params, grouping='Entangled', quantum_instance=quantum_instance,\n",
    "                     callback=callback, order=basis)\n",
    "    solver_HEEM = VQE(ansatz, optimizer, initial_params, grouping='Entangled', conectivity=conectivity,\n",
    "                      quantum_instance=quantum_instance, callback=callback, order=basis)\n",
    "\n",
    "\n",
    "#     print('-' * 100)\n",
    "#     print('Computing TPB:')\n",
    "#     E[1] = solver_TPB.compute_minimum_eigenvalue(qubit_op).eigenvalue.real\n",
    "\n",
    "#     print('-' * 100)\n",
    "#     print('Computing ENT:')\n",
    "#     E[2] = solver_ENT.compute_minimum_eigenvalue(qubit_op).eigenvalue.real\n",
    "\n",
    "#     print('-' * 100)\n",
    "    print('Computing HEEM:')\n",
    "#     E[3] = solver_HEEM.compute_minimum_eigenvalue(qubit_op).eigenvalue.real\n",
    "\n",
    "    return E"
   ]
  },
  {
   "cell_type": "code",
   "execution_count": 27,
   "id": "953f3fe3-aedb-4297-af3a-0275c1f0e50b",
   "metadata": {
    "execution": {
     "iopub.execute_input": "2021-06-02T18:17:57.760111Z",
     "iopub.status.busy": "2021-06-02T18:17:57.759905Z",
     "iopub.status.idle": "2021-06-02T18:17:57.767499Z",
     "shell.execute_reply": "2021-06-02T18:17:57.766918Z",
     "shell.execute_reply.started": "2021-06-02T18:17:57.760089Z"
    },
    "tags": []
   },
   "outputs": [],
   "source": [
    "def molecule_potentials_comparison(distances, quantum_instance, conectivity, basis, file_name_out):\n",
    "    E_EXACT = np.zeros_like(distances)\n",
    "    E_TPB = np.zeros_like(distances)\n",
    "    E_ENT = np.zeros_like(distances)\n",
    "    E_HEEM = np.zeros_like(distances)\n",
    "\n",
    "\n",
    "    with tqdm_joblib(tqdm_notebook(desc=\"Computing\", total=len(distances))) as progress_bar:\n",
    "        results = Parallel(n_jobs=24)(delayed(molecule)(d, quantum_instance, conectivity, basis) for d in distances)\n",
    "        \n",
    "    for i in range(len(distances)):\n",
    "        E_EXACT[i] = results[i][0]\n",
    "        E_TPB[i] = results[i][1]\n",
    "        E_ENT[i] = results[i][2]\n",
    "        E_HEEM[i] = results[i][3]\n",
    "\n",
    "    # Save results\n",
    "    np.savez(file_name_out, distances=distances, E_EXACT=E_EXACT, E_TPB=E_TPB, E_ENT=E_ENT, E_HEEM=E_HEEM)\n",
    "\n",
    "    return E_EXACT, E_TPB, E_ENT, E_HEEM"
   ]
  },
  {
   "cell_type": "code",
   "execution_count": 21,
   "id": "787858f0-fe83-4fa2-a26f-961288978fa6",
   "metadata": {
    "execution": {
     "iopub.execute_input": "2021-06-02T18:17:22.619771Z",
     "iopub.status.busy": "2021-06-02T18:17:22.619560Z",
     "iopub.status.idle": "2021-06-02T18:17:22.821334Z",
     "shell.execute_reply": "2021-06-02T18:17:22.820915Z",
     "shell.execute_reply.started": "2021-06-02T18:17:22.619747Z"
    },
    "tags": []
   },
   "outputs": [],
   "source": [
    "distances = np.linspace(0.5, 5, 100)\n",
    "backend = Aer.get_backend('qasm_simulator')\n",
    "device_backend = FakeVigo()\n",
    "device = QasmSimulator.from_backend(device_backend)\n",
    "coupling_map = device.configuration().coupling_map\n",
    "noise_model = NoiseModel.from_backend(device)\n",
    "basis_gates = noise_model.basis_gates\n",
    "NUM_SHOTS = 2 ** 13  # Number of shots for each circuit\n",
    "qi = QuantumInstance(backend=backend, coupling_map=coupling_map, noise_model=noise_model, basis_gates=basis_gates, shots=NUM_SHOTS)\n",
    "basis = [4, 6, 7, 8, 9, 5, 3, 2, 1]"
   ]
  },
  {
   "cell_type": "code",
   "execution_count": 22,
   "id": "1cb4511a-59bf-479f-a2f5-40737270104a",
   "metadata": {
    "execution": {
     "iopub.execute_input": "2021-06-02T18:17:22.951816Z",
     "iopub.status.busy": "2021-06-02T18:17:22.951576Z",
     "iopub.status.idle": "2021-06-02T18:17:22.956684Z",
     "shell.execute_reply": "2021-06-02T18:17:22.955939Z",
     "shell.execute_reply.started": "2021-06-02T18:17:22.951788Z"
    },
    "tags": []
   },
   "outputs": [],
   "source": [
    "file_name_out = '../data/LiH_' + qi.backend_name + '_NUM_SHOTS=' + str(NUM_SHOTS) + '_dist=' + str(distances[0]) + '_to_' + str(distances[-1])"
   ]
  },
  {
   "cell_type": "code",
   "execution_count": 23,
   "id": "f4eb548c-ab0c-49d6-aa51-7302831d3c83",
   "metadata": {
    "execution": {
     "iopub.execute_input": "2021-06-02T18:17:23.305307Z",
     "iopub.status.busy": "2021-06-02T18:17:23.305098Z",
     "iopub.status.idle": "2021-06-02T18:17:24.340496Z",
     "shell.execute_reply": "2021-06-02T18:17:24.339775Z",
     "shell.execute_reply.started": "2021-06-02T18:17:23.305283Z"
    },
    "tags": []
   },
   "outputs": [
    {
     "name": "stdout",
     "output_type": "stream",
     "text": [
      "1\n",
      "Exact energy: -1.1724576315066804\n",
      "Computing HEEM:\n"
     ]
    },
    {
     "data": {
      "text/plain": [
       "array([-1.17245763,  0.        ,  0.        ,  0.        ])"
      ]
     },
     "execution_count": 23,
     "metadata": {},
     "output_type": "execute_result"
    }
   ],
   "source": [
    "molecule(1, qi, coupling_map, basis)"
   ]
  },
  {
   "cell_type": "code",
   "execution_count": 28,
   "id": "7370e1f0-db35-40f5-b8ed-d905c5307c81",
   "metadata": {
    "execution": {
     "iopub.execute_input": "2021-06-02T18:18:00.659685Z",
     "iopub.status.busy": "2021-06-02T18:18:00.659453Z",
     "iopub.status.idle": "2021-06-02T18:18:05.006212Z",
     "shell.execute_reply": "2021-06-02T18:18:05.005606Z",
     "shell.execute_reply.started": "2021-06-02T18:18:00.659660Z"
    },
    "tags": []
   },
   "outputs": [
    {
     "data": {
      "application/vnd.jupyter.widget-view+json": {
       "model_id": "e202cf45ad44477db2e2e86a764bc48d",
       "version_major": 2,
       "version_minor": 0
      },
      "text/plain": [
       "Computing:   0%|          | 0/100 [00:00<?, ?it/s]"
      ]
     },
     "metadata": {},
     "output_type": "display_data"
    },
    {
     "name": "stdout",
     "output_type": "stream",
     "text": [
      "[-0.97926755 -1.01155042 -1.04316568 -1.07233236 -1.09804629 -1.11981176\n",
      " -1.13748502 -1.15116797 -1.16112616 -1.16772245 -1.17136308 -1.17245763\n",
      " -1.17139226 -1.16851501 -1.16413024 -1.15849903 -1.15184288 -1.14434889\n",
      " -1.13617491 -1.12745441 -1.11830058 -1.10880972 -1.09906409 -1.08913418\n",
      " -1.07908058 -1.06895555 -1.05880426 -1.04866588 -1.03857445 -1.02855963\n",
      " -1.0186473  -1.00886015 -0.99921805 -0.98973853 -0.98043701 -0.97132715\n",
      " -0.96242104 -0.95372943 -0.94526183 -0.93702666 -0.92903128 -0.92128206\n",
      " -0.91378432 -0.90654236 -0.89955936 -0.89283731 -0.88637696 -0.88017775\n",
      " -0.87423775 -0.8685537  -0.86312099 -0.85793378 -0.8529851  -0.84826699\n",
      " -0.8437707  -0.83948685 -0.83540564 -0.83151704 -0.82781093 -0.82427727\n",
      " -0.82090619 -0.81768814 -0.8146139  -0.8116747  -0.8088622  -0.8061685\n",
      " -0.80358621 -0.80110838 -0.79872852 -0.79644059 -0.79423894 -0.79211834\n",
      " -0.79007391 -0.78810114 -0.78619583 -0.78435408 -0.78257228 -0.78084707\n",
      " -0.77917533 -0.77755416 -0.77598088 -0.77445299 -0.77296814 -0.77152419\n",
      " -0.77011911 -0.76875101 -0.76741814 -0.76611887 -0.76485122 -0.76361506\n",
      " -0.76238288 -0.7612285  -0.76007609 -0.75894944 -0.7578475  -0.75675201\n",
      " -0.75569785 -0.75467106 -0.75365436 -0.75266346]\n"
     ]
    }
   ],
   "source": [
    "test = molecule_potentials_comparison(distances, qi, coupling_map, basis, file_name_out)"
   ]
  },
  {
   "cell_type": "code",
   "execution_count": null,
   "id": "2bb615e5-0ad7-4586-986b-593bd309415b",
   "metadata": {},
   "outputs": [],
   "source": [
    "data = np.load(file_name_out + '.npz')\n",
    "\n",
    "E_EXACT = data['E_EXACT']\n",
    "E_TPB = data['E_TPB']\n",
    "E_ENT = data['E_ENT']\n",
    "E_HEEM = data['E_HEEM']\n",
    "\n",
    "fig, ax = plt.subplots(ncols=1, nrows=1, figsize=(6, 4.5))\n",
    "ax.set_xlabel(r'$d$')\n",
    "ax.set_ylabel(r'$E$')\n",
    "\n",
    "ax.plot(distances, E_TPB)\n",
    "ax.plot(distances, E_ENT)\n",
    "ax.plot(distances, E_HEEM)\n",
    "ax.plot(distances, E_EXACT, color='black', linestyle='--')\n",
    "\n",
    "ax.legend(['$TPB$', '$ENT$', '$HEEM$'])\n",
    "\n",
    "plt.savefig(\"Figures/E vs d.pdf\")"
   ]
  }
 ],
 "metadata": {
  "kernelspec": {
   "display_name": "Python 3",
   "language": "python",
   "name": "python3"
  },
  "language_info": {
   "codemirror_mode": {
    "name": "ipython",
    "version": 3
   },
   "file_extension": ".py",
   "mimetype": "text/x-python",
   "name": "python",
   "nbconvert_exporter": "python",
   "pygments_lexer": "ipython3",
   "version": "3.8.8"
  }
 },
 "nbformat": 4,
 "nbformat_minor": 5
}
