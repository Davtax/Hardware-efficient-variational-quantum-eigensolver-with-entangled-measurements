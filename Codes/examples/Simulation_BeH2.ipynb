{
 "cells": [
  {
   "cell_type": "markdown",
   "metadata": {},
   "source": [
    "# Imports\n",
    "\n",
    "Import the necessary dependencies to use HEEM VQE, and perform the simulations on a fake quantum device. There will be three different simulations (TPB, Entangled Measurements, and Hardware Efficient Entangled Measurements). These three simulations will be run in parallel using the joblib module."
   ]
  },
  {
   "cell_type": "code",
   "execution_count": 1,
   "metadata": {
    "execution": {
     "iopub.execute_input": "2021-06-03T23:04:49.404872Z",
     "iopub.status.busy": "2021-06-03T23:04:49.404607Z",
     "iopub.status.idle": "2021-06-03T23:04:50.416748Z",
     "shell.execute_reply": "2021-06-03T23:04:50.416311Z",
     "shell.execute_reply.started": "2021-06-03T23:04:49.404802Z"
    },
    "tags": []
   },
   "outputs": [],
   "source": [
    "import sys\n",
    "sys.path.append('../')\n",
    "\n",
    "%load_ext autoreload\n",
    "%autoreload 1\n",
    "%aimport VQE, GroupingAlgorithm, HEEM_VQE_Functions, utils\n",
    "\n",
    "import numpy as np\n",
    "import matplotlib.pyplot as plt\n",
    "from VQE import VQE\n",
    "from qiskit.providers.aer import QasmSimulator\n",
    "from qiskit.providers.aer.noise import NoiseModel\n",
    "from utils import *\n",
    "from qiskit import IBMQ\n",
    "from qiskit import Aer\n",
    "from qiskit.circuit.library import EfficientSU2\n",
    "from qiskit.utils.quantum_instance import QuantumInstance\n",
    "from qiskit.algorithms import NumPyMinimumEigensolver\n",
    "from qiskit.algorithms.optimizers import SPSA\n",
    "from qiskit.test.mock import FakeMelbourne\n",
    "import os\n",
    "from joblib import Parallel, delayed\n",
    "from IPython.display import display, clear_output\n",
    "from GroupingAlgorithm import grouping_shuffle\n",
    "from tqdm.notebook import tqdm_notebook\n",
    "from qiskit.visualization import plot_gate_map\n",
    "from GroupingAlgorithm import grouping\n",
    "from utils import Label2Chain\n",
    "from joblib import Parallel, delayed\n",
    "\n",
    "os.environ['QISKIT_IN_PARALLEL'] = 'TRUE'"
   ]
  },
  {
   "cell_type": "code",
   "execution_count": 2,
   "metadata": {
    "execution": {
     "iopub.execute_input": "2021-06-03T23:04:50.417443Z",
     "iopub.status.busy": "2021-06-03T23:04:50.417347Z",
     "iopub.status.idle": "2021-06-03T23:04:50.420301Z",
     "shell.execute_reply": "2021-06-03T23:04:50.419918Z",
     "shell.execute_reply.started": "2021-06-03T23:04:50.417430Z"
    },
    "tags": []
   },
   "outputs": [],
   "source": [
    "def callback(evals, params, mean, deviation):  \n",
    "    print(\"{}, {}\".format(evals, mean))\n",
    "\n",
    "def run_VQE(solver, qubitop):    \n",
    "    evaluations = []\n",
    "    solution = solver.compute_minimum_eigenvalue(qubit_op).eigenvalue.real\n",
    "    return solver.energies"
   ]
  },
  {
   "cell_type": "markdown",
   "metadata": {},
   "source": [
    "# Setting the simulation\n",
    "\n",
    "Load the QASM simulator and the fake quantum device, in this case ibmq 16 Melbourne. We also need the couping map of the device, the noise model and the gates that can be performed in this quantum chip. Latter we have to define the number of shots each circuit is measured, and the maximum number of iterations for the classical optimizer. After all that, we construct the quantum instance, and define the preference of basis for the grouping."
   ]
  },
  {
   "cell_type": "code",
   "execution_count": 4,
   "metadata": {
    "execution": {
     "iopub.execute_input": "2021-06-03T23:05:13.662997Z",
     "iopub.status.busy": "2021-06-03T23:05:13.662780Z",
     "iopub.status.idle": "2021-06-03T23:05:15.067829Z",
     "shell.execute_reply": "2021-06-03T23:05:15.067514Z",
     "shell.execute_reply.started": "2021-06-03T23:05:13.662971Z"
    },
    "tags": []
   },
   "outputs": [],
   "source": [
    "backend = Aer.get_backend('qasm_simulator')\n",
    "device_backend = FakeMelbourne()\n",
    "device = QasmSimulator.from_backend(device_backend)\n",
    "coupling_map = device.configuration().coupling_map\n",
    "noise_model = NoiseModel.from_backend(device)\n",
    "basis_gates = noise_model.basis_gates\n",
    "NUM_SHOTS = 2 ** 13  # Number of shots for each circuit\n",
    "maxiter = 300\n",
    "qi = QuantumInstance(backend=backend, coupling_map=coupling_map, noise_model=noise_model, basis_gates=basis_gates, shots=NUM_SHOTS)\n",
    "basis = [4, 6, 7, 8, 9, 5, 3, 2, 1]"
   ]
  },
  {
   "cell_type": "markdown",
   "metadata": {},
   "source": [
    "# Setting the VQE algorithm\n",
    "We need to load the quantum operators for the molecule and distance of interest. Later we try a Monte Carlo approach to randomize the order of the Paulis strings in order to find the best possible grouping with the connectivity and the basis preference defined above. Later we initialize the classical optimizer, in this case SPSA, and define some variational circuit and initialize all the angles in 0.1.\n",
    "\n",
    "Them we initiaize a VQE instance for a TPB grouping, entangled measurement gruping without taking into account the coupling map, and the last one with HEEM. In order to verify the obtained energies, we compute the exact bond energy."
   ]
  },
  {
   "cell_type": "code",
   "execution_count": 6,
   "metadata": {
    "execution": {
     "iopub.execute_input": "2021-06-03T23:05:30.967097Z",
     "iopub.status.busy": "2021-06-03T23:05:30.966878Z",
     "iopub.status.idle": "2021-06-03T23:11:31.414222Z",
     "shell.execute_reply": "2021-06-03T23:11:31.413771Z",
     "shell.execute_reply.started": "2021-06-03T23:05:30.967073Z"
    },
    "tags": []
   },
   "outputs": [
    {
     "data": {
      "application/vnd.jupyter.widget-view+json": {
       "model_id": "703c7e9420f843c9b564cffcb2dfdefb",
       "version_major": 2,
       "version_minor": 0
      },
      "text/plain": [
       "Computing optimal order:   0%|          | 0/1000 [00:00<?, ?it/s]"
      ]
     },
     "metadata": {},
     "output_type": "display_data"
    },
    {
     "name": "stdout",
     "output_type": "stream",
     "text": [
      "The original order gives 118 groups\n",
      "The best order found gives 117 groups\n"
     ]
    }
   ],
   "source": [
    "qubit_op, init_state = BeH2(initial_state=True)\n",
    "qubit_op = grouping_shuffle(qubit_op, basis, coupling_map, n_mc=1000)\n",
    "num_qubits = qubit_op.num_qubits\n",
    "optimizer = SPSA(maxiter=maxiter, last_avg=1)\n",
    "ansatz = init_state.compose(EfficientSU2(num_qubits, ['ry', 'rz'], entanglement='linear', reps=1))\n",
    "num_var = ansatz.num_parameters\n",
    "initial_params = [0.1] *num_var\n",
    "\n",
    "solver_TPB = VQE(ansatz, optimizer, initial_params, grouping='TPB',\n",
    "                 quantum_instance=qi, callback=callback, order=basis, transpile=True)\n",
    "solver_EM = VQE(ansatz, optimizer, initial_params, grouping='Entangled',\n",
    "                quantum_instance=qi, callback=callback, order=basis, transpile=True)\n",
    "solver_HEEM = VQE(ansatz, optimizer, initial_params, grouping='Entangled',\n",
    "                  quantum_instance=qi, callback=callback, order=basis, conectivity=coupling_map, transpile=True)\n",
    "\n",
    "solvers = [solver_TPB, solver_EM, solver_HEEM]\n",
    "\n",
    "exact = NumPyMinimumEigensolver().compute_minimum_eigenvalue(qubit_op).eigenvalue.real"
   ]
  },
  {
   "cell_type": "code",
   "execution_count": null,
   "metadata": {
    "execution": {
     "iopub.execute_input": "2021-06-04T05:18:32.016520Z",
     "iopub.status.busy": "2021-06-04T05:18:32.016279Z"
    },
    "tags": []
   },
   "outputs": [],
   "source": [
    "E_TPB, E_EM, E_HEEM = Parallel(n_jobs=3)(delayed(run_VQE)(solver, qubit_op) for solver in solvers)"
   ]
  },
  {
   "cell_type": "markdown",
   "metadata": {},
   "source": [
    "# Save data"
   ]
  },
  {
   "cell_type": "code",
   "execution_count": null,
   "metadata": {
    "tags": []
   },
   "outputs": [],
   "source": [
    "file = '../data/simulation_BeH_1'\n",
    "np.savez(file, NUM_SHOTS=NUM_SHOTS, maxiter=maxiter, basis=basis, E_TPB=E_TPB, E_EM=E_EM, E_HEEM=E_HEEM, E_EXACT=exact)"
   ]
  },
  {
   "cell_type": "code",
   "execution_count": null,
   "metadata": {
    "tags": []
   },
   "outputs": [],
   "source": [
    "data = np.load(file + '.npz')\n",
    "\n",
    "E_EXACT = data['E_EXACT']\n",
    "E_TPB = data['E_TPB']\n",
    "E_EM = data['E_EM']\n",
    "E_HEEM = data['E_HEEM']\n",
    "\n",
    "fig, ax = plt.subplots(ncols=1, nrows=1, figsize=(6, 4.5))\n",
    "ax.set_xlabel('Iteration')\n",
    "ax.set_ylabel('Energy [a.u.]')\n",
    "\n",
    "ax.plot(E_TPB)\n",
    "ax.plot(E_EM)\n",
    "ax.plot(E_HEEM)\n",
    "ax.hlines(E_EXACT,0, len(E_TPB), color='black', linestyle='--')\n",
    "\n",
    "ax.legend(['$TPB$', '$EM$', '$HEEM$', 'Exact'])\n",
    "\n",
    "plt.savefig(\"../Figures/simulation_BeH_1.pdf\")"
   ]
  },
  {
   "cell_type": "code",
   "execution_count": null,
   "metadata": {
    "tags": []
   },
   "outputs": [],
   "source": [
    "print(np.mean(E_TPB[-50:]))\n",
    "print(np.mean(E_EM[-50:]))\n",
    "print(np.mean(E_HEEM[-50:]))"
   ]
  },
  {
   "cell_type": "code",
   "execution_count": 11,
   "metadata": {
    "execution": {
     "iopub.execute_input": "2021-06-04T05:15:59.092092Z",
     "iopub.status.busy": "2021-06-04T05:15:59.091870Z",
     "iopub.status.idle": "2021-06-04T05:15:59.420063Z",
     "shell.execute_reply": "2021-06-04T05:15:59.419714Z",
     "shell.execute_reply.started": "2021-06-04T05:15:59.092068Z"
    }
   },
   "outputs": [
    {
     "data": {
      "text/html": [
       "<h3>Version Information</h3><table><tr><th>Qiskit Software</th><th>Version</th></tr><tr><td>Qiskit</td><td>0.26.0</td></tr><tr><td>Terra</td><td>0.17.3</td></tr><tr><td>Aer</td><td>0.8.2</td></tr><tr><td>Ignis</td><td>0.6.0</td></tr><tr><td>Aqua</td><td>0.9.1</td></tr><tr><td>IBM Q Provider</td><td>0.13.1</td></tr><tr><th>System information</th></tr><tr><td>Python</td><td>3.8.8 (default, Apr 13 2021, 19:58:26) \n",
       "[GCC 7.3.0]</td></tr><tr><td>OS</td><td>Linux</td></tr><tr><td>CPUs</td><td>12</td></tr><tr><td>Memory (Gb)</td><td>31.36279296875</td></tr><tr><td colspan='2'>Fri Jun 04 07:15:59 2021 CEST</td></tr></table>"
      ],
      "text/plain": [
       "<IPython.core.display.HTML object>"
      ]
     },
     "metadata": {},
     "output_type": "display_data"
    }
   ],
   "source": [
    "import qiskit.tools.jupyter\n",
    "%qiskit_version_table"
   ]
  }
 ],
 "metadata": {
  "kernelspec": {
   "display_name": "Python 3",
   "language": "python",
   "name": "python3"
  },
  "language_info": {
   "codemirror_mode": {
    "name": "ipython",
    "version": 3
   },
   "file_extension": ".py",
   "mimetype": "text/x-python",
   "name": "python",
   "nbconvert_exporter": "python",
   "pygments_lexer": "ipython3",
   "version": "3.7.7"
  }
 },
 "nbformat": 4,
 "nbformat_minor": 5
}
