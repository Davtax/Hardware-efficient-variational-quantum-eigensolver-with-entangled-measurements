{
 "cells": [
  {
   "cell_type": "code",
   "execution_count": 1,
   "id": "22c30247-2f13-4cc5-ad2d-ad4183680aad",
   "metadata": {
    "execution": {
     "iopub.execute_input": "2021-06-03T21:02:28.719832Z",
     "iopub.status.busy": "2021-06-03T21:02:28.719596Z",
     "iopub.status.idle": "2021-06-03T21:02:29.711534Z",
     "shell.execute_reply": "2021-06-03T21:02:29.711137Z",
     "shell.execute_reply.started": "2021-06-03T21:02:28.719766Z"
    },
    "tags": []
   },
   "outputs": [],
   "source": [
    "import sys\n",
    "sys.path.append('../')\n",
    "\n",
    "%load_ext autoreload\n",
    "%autoreload 1\n",
    "%aimport VQE, GroupingAlgorithm, HEEM_VQE_Functions, utils\n",
    "\n",
    "import numpy as np\n",
    "import matplotlib.pyplot as plt\n",
    "from VQE import VQE\n",
    "from qiskit.providers.aer import QasmSimulator\n",
    "from qiskit.providers.aer.noise import NoiseModel\n",
    "from utils import *\n",
    "from qiskit import IBMQ\n",
    "from qiskit import Aer\n",
    "from qiskit.circuit.library import EfficientSU2\n",
    "from qiskit.utils.quantum_instance import QuantumInstance\n",
    "from qiskit.algorithms import NumPyMinimumEigensolver\n",
    "from qiskit.algorithms.optimizers import SPSA\n",
    "from qiskit.test.mock import FakeMelbourne\n",
    "import os\n",
    "from joblib import Parallel, delayed\n",
    "from IPython.display import display, clear_output\n",
    "from GroupingAlgorithm import grouping_shuffle\n",
    "from tqdm.notebook import tqdm_notebook\n",
    "from qiskit.visualization import plot_gate_map\n",
    "from GroupingAlgorithm import grouping\n",
    "from utils import Label2Chain\n",
    "from joblib import Parallel, delayed\n",
    "\n",
    "os.environ['QISKIT_IN_PARALLEL'] = 'TRUE'"
   ]
  },
  {
   "cell_type": "code",
   "execution_count": 14,
   "id": "f72aa3ce-6e76-4f18-9cd6-ae71eba5caad",
   "metadata": {
    "execution": {
     "iopub.execute_input": "2021-06-03T21:07:22.293399Z",
     "iopub.status.busy": "2021-06-03T21:07:22.293182Z",
     "iopub.status.idle": "2021-06-03T21:07:22.297751Z",
     "shell.execute_reply": "2021-06-03T21:07:22.297194Z",
     "shell.execute_reply.started": "2021-06-03T21:07:22.293376Z"
    },
    "tags": []
   },
   "outputs": [],
   "source": [
    "def callback(evals, params, mean, deviation):  \n",
    "    print(\"{}, {}\".format(evals, mean))\n",
    "\n",
    "def run_VQE(solver, qubitop):    \n",
    "    evaluations = []\n",
    "    solution = solver.compute_minimum_eigenvalue(qubit_op).eigenvalue.real\n",
    "    return solver.energies"
   ]
  },
  {
   "cell_type": "code",
   "execution_count": 15,
   "id": "fab28b39-c63e-4a0e-801c-5f65a541c032",
   "metadata": {
    "execution": {
     "iopub.execute_input": "2021-06-03T21:07:22.510325Z",
     "iopub.status.busy": "2021-06-03T21:07:22.510111Z",
     "iopub.status.idle": "2021-06-03T21:07:23.933758Z",
     "shell.execute_reply": "2021-06-03T21:07:23.933337Z",
     "shell.execute_reply.started": "2021-06-03T21:07:22.510301Z"
    },
    "tags": []
   },
   "outputs": [],
   "source": [
    "backend = Aer.get_backend('qasm_simulator')\n",
    "device_backend = FakeMelbourne()\n",
    "device = QasmSimulator.from_backend(device_backend)\n",
    "coupling_map = device.configuration().coupling_map\n",
    "noise_model = NoiseModel.from_backend(device)\n",
    "basis_gates = noise_model.basis_gates\n",
    "NUM_SHOTS = 2 ** 5  # Number of shots for each circuit\n",
    "maxiter = 1\n",
    "qi = QuantumInstance(backend=backend, coupling_map=coupling_map, noise_model=noise_model, basis_gates=basis_gates, shots=NUM_SHOTS)\n",
    "basis = [4, 6, 7, 8, 9, 5, 3, 2, 1]"
   ]
  },
  {
   "cell_type": "code",
   "execution_count": null,
   "id": "7263b930-0d02-4ff0-baf2-a9c743eb9a8a",
   "metadata": {
    "execution": {
     "iopub.execute_input": "2021-06-03T21:15:02.103671Z",
     "iopub.status.busy": "2021-06-03T21:15:02.103449Z"
    },
    "tags": []
   },
   "outputs": [
    {
     "data": {
      "application/vnd.jupyter.widget-view+json": {
       "model_id": "3cda98fa39f742fbbc61b4931b269a21",
       "version_major": 2,
       "version_minor": 0
      },
      "text/plain": [
       "Computing optimal order:   0%|          | 0/500 [00:00<?, ?it/s]"
      ]
     },
     "metadata": {},
     "output_type": "display_data"
    }
   ],
   "source": [
    "qubit_op, init_state = BeH2(initial_state=True)\n",
    "qubit_op = grouping_shuffle(qubit_op, basis, coupling_map)\n",
    "num_qubits = qubit_op.num_qubits\n",
    "optimizer = SPSA(maxiter=maxiter, last_avg=1)\n",
    "ansatz = init_state.compose(EfficientSU2(num_qubits, ['ry', 'rz'], entanglement='linear', reps=1))\n",
    "num_var = ansatz.num_parameters\n",
    "initial_params = [0.1] *num_var\n",
    "\n",
    "solver_TPB = VQE(ansatz, optimizer, initial_params, grouping='TPB',\n",
    "                 quantum_instance=qi, callback=callback, order=basis, transpile=True)\n",
    "solver_EM = VQE(ansatz, optimizer, initial_params, grouping='Entangled',\n",
    "                quantum_instance=qi, callback=callback, order=basis, transpile=True)\n",
    "solver_HEEM = VQE(ansatz, optimizer, initial_params, grouping='Entangled',\n",
    "                  quantum_instance=qi, callback=callback, order=basis, conectivity=coupling_map, transpile=True)\n",
    "\n",
    "solvers = [solver_TPB, solver_EM, solver_HEEM]\n",
    "\n",
    "exact = NumPyMinimumEigensolver().compute_minimum_eigenvalue(qubit_op).eigenvalue.real"
   ]
  },
  {
   "cell_type": "code",
   "execution_count": 20,
   "id": "2167e2ca-4903-4c52-80e2-b209f904d08b",
   "metadata": {
    "execution": {
     "iopub.execute_input": "2021-06-03T21:09:46.892243Z",
     "iopub.status.busy": "2021-06-03T21:09:46.892024Z",
     "iopub.status.idle": "2021-06-03T21:11:26.771850Z",
     "shell.execute_reply": "2021-06-03T21:11:26.771279Z",
     "shell.execute_reply.started": "2021-06-03T21:09:46.892218Z"
    },
    "tags": []
   },
   "outputs": [],
   "source": [
    "E_TPB, E_EM, E_HEEM = Parallel(n_jobs=3)(delayed(run_VQE)(solver, qubit_op) for solver in solvers)"
   ]
  },
  {
   "cell_type": "code",
   "execution_count": 23,
   "id": "45061684-b65d-4d27-bb6f-c39b57dbc739",
   "metadata": {
    "execution": {
     "iopub.execute_input": "2021-06-03T21:12:18.305914Z",
     "iopub.status.busy": "2021-06-03T21:12:18.305702Z",
     "iopub.status.idle": "2021-06-03T21:12:18.313908Z",
     "shell.execute_reply": "2021-06-03T21:12:18.313373Z",
     "shell.execute_reply.started": "2021-06-03T21:12:18.305891Z"
    },
    "tags": []
   },
   "outputs": [],
   "source": [
    "file = '../data/simulation_BeH'\n",
    "np.savez(file, NUM_SHOTS=NUM_SHOTS, maxiter=maxiter, basis=basis, E_TPB=E_TPB, E_EM=E_EM, E_HEEM=E_HEEM, E_EXACT=exact)"
   ]
  },
  {
   "cell_type": "code",
   "execution_count": 32,
   "id": "cb83166a-943e-410f-a662-179ecd8d5fc5",
   "metadata": {
    "execution": {
     "iopub.execute_input": "2021-06-03T21:14:24.588601Z",
     "iopub.status.busy": "2021-06-03T21:14:24.588334Z",
     "iopub.status.idle": "2021-06-03T21:14:24.692671Z",
     "shell.execute_reply": "2021-06-03T21:14:24.692273Z",
     "shell.execute_reply.started": "2021-06-03T21:14:24.588572Z"
    },
    "tags": []
   },
   "outputs": [
    {
     "data": {
      "text/plain": [
       "<matplotlib.legend.Legend at 0x7f2adb1e80d0>"
      ]
     },
     "execution_count": 32,
     "metadata": {},
     "output_type": "execute_result"
    },
    {
     "data": {
      "image/png": "[encoded data removed]",
      "text/plain": [
       "<Figure size 432x324 with 1 Axes>"
      ]
     },
     "metadata": {
      "needs_background": "light"
     },
     "output_type": "display_data"
    }
   ],
   "source": [
    "data = np.load(file + '.npz')\n",
    "\n",
    "E_EXACT = data['E_EXACT']\n",
    "E_TPB = data['E_TPB']\n",
    "E_EM = data['E_EM']\n",
    "E_HEEM = data['E_HEEM']\n",
    "\n",
    "fig, ax = plt.subplots(ncols=1, nrows=1, figsize=(6, 4.5))\n",
    "ax.set_xlabel('Iteration')\n",
    "ax.set_ylabel('Energy [a.u.]')\n",
    "\n",
    "ax.plot(E_TPB)\n",
    "ax.plot(E_EM)\n",
    "ax.plot(E_HEEM)\n",
    "ax.hlines(E_EXACT,0, len(E_TPB), color='black', linestyle='--')\n",
    "\n",
    "ax.legend(['$TPB$', '$EM$', '$HEEM$', 'Exact'])\n",
    "\n",
    "# plt.savefig(\"../Figures/E vs d.pdf\")"
   ]
  }
 ],
 "metadata": {
  "kernelspec": {
   "display_name": "Python 3",
   "language": "python",
   "name": "python3"
  },
  "language_info": {
   "codemirror_mode": {
    "name": "ipython",
    "version": 3
   },
   "file_extension": ".py",
   "mimetype": "text/x-python",
   "name": "python",
   "nbconvert_exporter": "python",
   "pygments_lexer": "ipython3",
   "version": "3.8.8"
  }
 },
 "nbformat": 4,
 "nbformat_minor": 5
}
