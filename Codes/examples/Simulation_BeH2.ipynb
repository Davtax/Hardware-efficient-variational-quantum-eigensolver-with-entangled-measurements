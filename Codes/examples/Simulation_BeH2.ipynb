{
 "cells": [
  {
   "cell_type": "markdown",
   "id": "07fb646e",
   "metadata": {},
   "source": [
    "# Imports\n",
    "\n",
    "Import the necessary dependencies to use HEEM VQE, and perform the simulations on a fake quantum device. There will be three different simulations (TPB, Entangled Measurements, and Hardware Efficient Entangled Measurements). These three simulations will be run in parallel using the joblib module."
   ]
  },
  {
   "cell_type": "code",
   "execution_count": 1,
   "id": "3289bdad",
   "metadata": {
    "execution": {
     "iopub.execute_input": "2021-07-06T15:00:32.542219Z",
     "iopub.status.busy": "2021-07-06T15:00:32.542020Z",
     "iopub.status.idle": "2021-07-06T15:00:33.598291Z",
     "shell.execute_reply": "2021-07-06T15:00:33.597854Z",
     "shell.execute_reply.started": "2021-07-06T15:00:32.542161Z"
    },
    "tags": []
   },
   "outputs": [],
   "source": [
    "import sys\n",
    "sys.path.append('../')\n",
    "\n",
    "%load_ext autoreload\n",
    "%autoreload 1\n",
    "%aimport VQE, GroupingAlgorithm, HEEM_VQE_Functions, utils\n",
    "\n",
    "import numpy as np\n",
    "import matplotlib.pyplot as plt\n",
    "from VQE import VQE\n",
    "from qiskit.providers.aer import QasmSimulator\n",
    "from qiskit.providers.aer.noise import NoiseModel\n",
    "from utils import *\n",
    "from qiskit import IBMQ\n",
    "from qiskit import Aer\n",
    "from qiskit.circuit.library import EfficientSU2\n",
    "from qiskit.utils.quantum_instance import QuantumInstance\n",
    "from qiskit.algorithms import NumPyMinimumEigensolver\n",
    "from qiskit.algorithms.optimizers import SPSA\n",
    "from qiskit.test.mock import FakeMelbourne\n",
    "import os\n",
    "from joblib import Parallel, delayed\n",
    "from IPython.display import display, clear_output\n",
    "from GroupingAlgorithm import grouping_shuffle\n",
    "from tqdm.notebook import tqdm_notebook\n",
    "from qiskit.visualization import plot_gate_map\n",
    "from GroupingAlgorithm import grouping\n",
    "from utils import Label2Chain\n",
    "from joblib import Parallel, delayed\n",
    "from qiskit.ignis.mitigation.measurement import CompleteMeasFitter\n",
    "\n",
    "os.environ['QISKIT_IN_PARALLEL'] = 'TRUE'"
   ]
  },
  {
   "cell_type": "code",
   "execution_count": 2,
   "id": "53ca50bd",
   "metadata": {
    "execution": {
     "iopub.execute_input": "2021-07-06T15:00:33.598929Z",
     "iopub.status.busy": "2021-07-06T15:00:33.598826Z",
     "iopub.status.idle": "2021-07-06T15:00:33.601605Z",
     "shell.execute_reply": "2021-07-06T15:00:33.601252Z",
     "shell.execute_reply.started": "2021-07-06T15:00:33.598916Z"
    },
    "tags": []
   },
   "outputs": [],
   "source": [
    "def callback(evals, params, mean, deviation):  \n",
    "    print(\"{}, {}\".format(evals, mean))\n",
    "\n",
    "def run_VQE(solver, qubitop):    \n",
    "    evaluations = []\n",
    "    solution = solver.compute_minimum_eigenvalue(qubit_op).eigenvalue.real\n",
    "    return solver.energies"
   ]
  },
  {
   "cell_type": "markdown",
   "id": "f8612aa2",
   "metadata": {},
   "source": [
    "# Setting the simulation\n",
    "\n",
    "Load the QASM simulator and the fake quantum device, in this case ibmq 16 Melbourne. We also need the couping map of the device, the noise model and the gates that can be performed in this quantum chip. Latter we have to define the number of shots each circuit is measured, and the maximum number of iterations for the classical optimizer. After all that, we construct the quantum instance, and define the preference of basis for the grouping."
   ]
  },
  {
   "cell_type": "code",
   "execution_count": 3,
   "id": "eb9774ed",
   "metadata": {
    "execution": {
     "iopub.execute_input": "2021-07-06T15:00:33.602212Z",
     "iopub.status.busy": "2021-07-06T15:00:33.602118Z",
     "iopub.status.idle": "2021-07-06T15:00:34.993872Z",
     "shell.execute_reply": "2021-07-06T15:00:34.993462Z",
     "shell.execute_reply.started": "2021-07-06T15:00:33.602200Z"
    },
    "tags": []
   },
   "outputs": [],
   "source": [
    "backend = Aer.get_backend('qasm_simulator')\n",
    "device_backend = FakeMelbourne()\n",
    "device = QasmSimulator.from_backend(device_backend)\n",
    "coupling_map = device.configuration().coupling_map\n",
    "noise_model = NoiseModel.from_backend(device)\n",
    "basis_gates = noise_model.basis_gates\n",
    "NUM_SHOTS = 2 ** 13  # Number of shots for each circuit\n",
    "maxiter = 300\n",
    "qi = QuantumInstance(backend=backend, coupling_map=coupling_map, noise_model=noise_model, basis_gates=basis_gates, shots=NUM_SHOTS,\n",
    "                     measurement_error_mitigation_cls=CompleteMeasFitter, cals_matrix_refresh_period=30)\n",
    "basis = [4, 6, 7, 8, 9, 5, 3, 2, 1]"
   ]
  },
  {
   "cell_type": "markdown",
   "id": "cbca523a",
   "metadata": {},
   "source": [
    "# Setting the VQE algorithm\n",
    "We need to load the quantum operators for the BeH2 molecule and distance of interest. Later we try a Monte Carlo approach to randomize the order of the Paulis strings in order to find the best possible grouping with the connectivity and the basis preference defined above. Later we initialize the classical optimizer, in this case SPSA, and define some variational circuit and initialize all the angles in 0.1.\n",
    "\n",
    "Them we initiaize a VQE instance for a TPB grouping, entangled measurement gruping without taking into account the coupling map, and the last one with HEEM. In order to verify the obtained energies, we compute the exact bond energy."
   ]
  },
  {
   "cell_type": "code",
   "execution_count": 4,
   "id": "c6d8ba47",
   "metadata": {
    "execution": {
     "iopub.execute_input": "2021-07-06T15:00:38.328564Z",
     "iopub.status.busy": "2021-07-06T15:00:38.328344Z",
     "iopub.status.idle": "2021-07-06T15:01:58.318512Z",
     "shell.execute_reply": "2021-07-06T15:01:58.318114Z",
     "shell.execute_reply.started": "2021-07-06T15:00:38.328540Z"
    },
    "tags": []
   },
   "outputs": [
    {
     "data": {
      "application/vnd.jupyter.widget-view+json": {
       "model_id": "fcc28a07fc8d42e2bb88ccba1423119d",
       "version_major": 2,
       "version_minor": 0
      },
      "text/plain": [
       "Computing optimal order:   0%|          | 0/200 [00:00<?, ?it/s]"
      ]
     },
     "metadata": {},
     "output_type": "display_data"
    },
    {
     "name": "stdout",
     "output_type": "stream",
     "text": [
      "The original order gives 121 groups\n",
      "The best order found gives 120 groups\n",
      "-3.4131138648494455\n"
     ]
    }
   ],
   "source": [
    "qubit_op, init_state = BeH2(initial_state=True)\n",
    "qubit_op = grouping_shuffle(qubit_op, basis, coupling_map, n_mc=200)\n",
    "num_qubits = qubit_op.num_qubits\n",
    "optimizer = SPSA(maxiter=maxiter, last_avg=1)\n",
    "ansatz = init_state.compose(EfficientSU2(num_qubits, ['ry', 'rz'], entanglement='linear', reps=1))\n",
    "num_var = ansatz.num_parameters\n",
    "initial_params = [0.1] *num_var\n",
    "\n",
    "solver_TPB = VQE(ansatz, optimizer, initial_params, grouping='TPB',\n",
    "                 quantum_instance=qi, callback=callback, order=basis)\n",
    "solver_EM = VQE(ansatz, optimizer, initial_params, grouping='Entangled',\n",
    "                quantum_instance=qi, callback=callback, order=basis)\n",
    "solver_HEEM = VQE(ansatz, optimizer, initial_params, grouping='Entangled',\n",
    "                  quantum_instance=qi, callback=callback, order=basis, conectivity=coupling_map)\n",
    "\n",
    "solvers = [solver_TPB, solver_EM, solver_HEEM]\n",
    "\n",
    "exact = NumPyMinimumEigensolver().compute_minimum_eigenvalue(qubit_op).eigenvalue.real\n",
    "print(exact)"
   ]
  },
  {
   "cell_type": "code",
   "execution_count": 9,
   "id": "7974d58a-2e76-48a1-8b58-6c01e10fe74a",
   "metadata": {
    "execution": {
     "iopub.execute_input": "2021-07-05T22:24:16.064715Z",
     "iopub.status.busy": "2021-07-05T22:24:16.064496Z",
     "iopub.status.idle": "2021-07-05T22:24:16.380794Z",
     "shell.execute_reply": "2021-07-05T22:24:16.380388Z",
     "shell.execute_reply.started": "2021-07-05T22:24:16.064691Z"
    }
   },
   "outputs": [
    {
     "name": "stdout",
     "output_type": "stream",
     "text": [
      "-3.413113864849454\n"
     ]
    }
   ],
   "source": [
    "solver_TPB = VQE(ansatz, optimizer, initial_params, grouping='TPB',\n",
    "                 quantum_instance=qi, callback=callback, order=basis)\n",
    "solver_EM = VQE(ansatz, optimizer, initial_params, grouping='Entangled',\n",
    "                quantum_instance=qi, callback=callback, order=basis)\n",
    "solver_HEEM = VQE(ansatz, optimizer, initial_params, grouping='Entangled',\n",
    "                  quantum_instance=qi, callback=callback, order=basis, conectivity=coupling_map)\n",
    "\n",
    "solvers = [solver_TPB, solver_EM, solver_HEEM]\n",
    "\n",
    "exact = NumPyMinimumEigensolver().compute_minimum_eigenvalue(qubit_op).eigenvalue.real\n",
    "print(exact)"
   ]
  },
  {
   "cell_type": "code",
   "execution_count": 10,
   "id": "7cd2c4f1",
   "metadata": {
    "execution": {
     "iopub.execute_input": "2021-07-05T22:24:18.647987Z",
     "iopub.status.busy": "2021-07-05T22:24:18.647769Z",
     "iopub.status.idle": "2021-07-05T22:24:25.190385Z",
     "shell.execute_reply": "2021-07-05T22:24:25.189822Z",
     "shell.execute_reply.started": "2021-07-05T22:24:18.647961Z"
    },
    "tags": []
   },
   "outputs": [
    {
     "ename": "QiskitError",
     "evalue": "'The used qubit index are different. ([0, 1, 2, 3, 4, 5, 6]) vs ([0, 1, 3, 4, 5, 6]).\\nCurrently, we only support all circuits using the same set of qubits regardless qubit order.'",
     "output_type": "error",
     "traceback": [
      "\u001b[0;31m---------------------------------------------------------------------------\u001b[0m",
      "\u001b[0;31m_RemoteTraceback\u001b[0m                          Traceback (most recent call last)",
      "\u001b[0;31m_RemoteTraceback\u001b[0m: \n\"\"\"\nTraceback (most recent call last):\n  File \"/home/david/anaconda3/envs/hackathon/lib/python3.8/site-packages/joblib/externals/loky/process_executor.py\", line 431, in _process_worker\n    r = call_item()\n  File \"/home/david/anaconda3/envs/hackathon/lib/python3.8/site-packages/joblib/externals/loky/process_executor.py\", line 285, in __call__\n    return self.fn(*self.args, **self.kwargs)\n  File \"/home/david/anaconda3/envs/hackathon/lib/python3.8/site-packages/joblib/_parallel_backends.py\", line 595, in __call__\n    return self.func(*args, **kwargs)\n  File \"/home/david/anaconda3/envs/hackathon/lib/python3.8/site-packages/joblib/parallel.py\", line 262, in __call__\n    return [func(*args, **kwargs)\n  File \"/home/david/anaconda3/envs/hackathon/lib/python3.8/site-packages/joblib/parallel.py\", line 262, in <listcomp>\n    return [func(*args, **kwargs)\n  File \"<ipython-input-2-cf0ac7ae5bf6>\", line 6, in run_VQE\n  File \"../VQE.py\", line 352, in compute_minimum_eigenvalue\n    vqresult = self.find_minimum(initial_point=self.initial_point,\n  File \"/home/david/anaconda3/envs/hackathon/lib/python3.8/site-packages/qiskit/algorithms/variational_algorithm.py\", line 216, in find_minimum\n    opt_params, opt_val, num_optimizer_evals = optimizer.optimize(nparms,\n  File \"/home/david/anaconda3/envs/hackathon/lib/python3.8/site-packages/qiskit/algorithms/optimizers/spsa.py\", line 369, in optimize\n    return self._minimize(objective_function, initial_point)\n  File \"/home/david/anaconda3/envs/hackathon/lib/python3.8/site-packages/qiskit/algorithms/optimizers/spsa.py\", line 263, in _minimize\n    get_learning_rate, get_perturbation = self.calibrate(loss, initial_point)\n  File \"/home/david/anaconda3/envs/hackathon/lib/python3.8/site-packages/qiskit/algorithms/optimizers/spsa.py\", line 182, in calibrate\n    delta = loss(initial_point + c * pert) - loss(initial_point - c * pert)\n  File \"../VQE.py\", line 305, in _energy_evaluation\n    means = self._circuit_sampler(self._expect_op, params=parameters)\n  File \"../VQE.py\", line 265, in _circuit_sampler\n    counts = self.quantum_instance.execute(expected_op).get_counts()\n  File \"/home/david/anaconda3/envs/hackathon/lib/python3.8/site-packages/qiskit/utils/quantum_instance.py\", line 323, in execute\n    if circuit_job else get_measured_qubits_from_qobj(qobj)\n  File \"/home/david/anaconda3/envs/hackathon/lib/python3.8/site-packages/qiskit/utils/measurement_error_mitigation.py\", line 91, in get_measured_qubits_from_qobj\n    raise QiskitError(\"The used qubit index are different. ({}) vs ({}).\\nCurrently, \"\nqiskit.exceptions.QiskitError: 'The used qubit index are different. ([0, 1, 2, 3, 4, 5, 6]) vs ([0, 1, 3, 4, 5, 6]).\\nCurrently, we only support all circuits using the same set of qubits regardless qubit order.'\n\"\"\"",
      "\nThe above exception was the direct cause of the following exception:\n",
      "\u001b[0;31mQiskitError\u001b[0m                               Traceback (most recent call last)",
      "\u001b[0;32m<ipython-input-10-f8923adce444>\u001b[0m in \u001b[0;36m<module>\u001b[0;34m\u001b[0m\n\u001b[0;32m----> 1\u001b[0;31m \u001b[0mE_TPB\u001b[0m\u001b[0;34m,\u001b[0m \u001b[0mE_EM\u001b[0m\u001b[0;34m,\u001b[0m \u001b[0mE_HEEM\u001b[0m \u001b[0;34m=\u001b[0m \u001b[0mParallel\u001b[0m\u001b[0;34m(\u001b[0m\u001b[0mn_jobs\u001b[0m\u001b[0;34m=\u001b[0m\u001b[0;36m3\u001b[0m\u001b[0;34m)\u001b[0m\u001b[0;34m(\u001b[0m\u001b[0mdelayed\u001b[0m\u001b[0;34m(\u001b[0m\u001b[0mrun_VQE\u001b[0m\u001b[0;34m)\u001b[0m\u001b[0;34m(\u001b[0m\u001b[0msolver\u001b[0m\u001b[0;34m,\u001b[0m \u001b[0mqubit_op\u001b[0m\u001b[0;34m)\u001b[0m \u001b[0;32mfor\u001b[0m \u001b[0msolver\u001b[0m \u001b[0;32min\u001b[0m \u001b[0msolvers\u001b[0m\u001b[0;34m)\u001b[0m\u001b[0;34m\u001b[0m\u001b[0;34m\u001b[0m\u001b[0m\n\u001b[0m",
      "\u001b[0;32m~/anaconda3/envs/hackathon/lib/python3.8/site-packages/joblib/parallel.py\u001b[0m in \u001b[0;36m__call__\u001b[0;34m(self, iterable)\u001b[0m\n\u001b[1;32m   1052\u001b[0m \u001b[0;34m\u001b[0m\u001b[0m\n\u001b[1;32m   1053\u001b[0m             \u001b[0;32mwith\u001b[0m \u001b[0mself\u001b[0m\u001b[0;34m.\u001b[0m\u001b[0m_backend\u001b[0m\u001b[0;34m.\u001b[0m\u001b[0mretrieval_context\u001b[0m\u001b[0;34m(\u001b[0m\u001b[0;34m)\u001b[0m\u001b[0;34m:\u001b[0m\u001b[0;34m\u001b[0m\u001b[0;34m\u001b[0m\u001b[0m\n\u001b[0;32m-> 1054\u001b[0;31m                 \u001b[0mself\u001b[0m\u001b[0;34m.\u001b[0m\u001b[0mretrieve\u001b[0m\u001b[0;34m(\u001b[0m\u001b[0;34m)\u001b[0m\u001b[0;34m\u001b[0m\u001b[0;34m\u001b[0m\u001b[0m\n\u001b[0m\u001b[1;32m   1055\u001b[0m             \u001b[0;31m# Make sure that we get a last message telling us we are done\u001b[0m\u001b[0;34m\u001b[0m\u001b[0;34m\u001b[0m\u001b[0;34m\u001b[0m\u001b[0m\n\u001b[1;32m   1056\u001b[0m             \u001b[0melapsed_time\u001b[0m \u001b[0;34m=\u001b[0m \u001b[0mtime\u001b[0m\u001b[0;34m.\u001b[0m\u001b[0mtime\u001b[0m\u001b[0;34m(\u001b[0m\u001b[0;34m)\u001b[0m \u001b[0;34m-\u001b[0m \u001b[0mself\u001b[0m\u001b[0;34m.\u001b[0m\u001b[0m_start_time\u001b[0m\u001b[0;34m\u001b[0m\u001b[0;34m\u001b[0m\u001b[0m\n",
      "\u001b[0;32m~/anaconda3/envs/hackathon/lib/python3.8/site-packages/joblib/parallel.py\u001b[0m in \u001b[0;36mretrieve\u001b[0;34m(self)\u001b[0m\n\u001b[1;32m    931\u001b[0m             \u001b[0;32mtry\u001b[0m\u001b[0;34m:\u001b[0m\u001b[0;34m\u001b[0m\u001b[0;34m\u001b[0m\u001b[0m\n\u001b[1;32m    932\u001b[0m                 \u001b[0;32mif\u001b[0m \u001b[0mgetattr\u001b[0m\u001b[0;34m(\u001b[0m\u001b[0mself\u001b[0m\u001b[0;34m.\u001b[0m\u001b[0m_backend\u001b[0m\u001b[0;34m,\u001b[0m \u001b[0;34m'supports_timeout'\u001b[0m\u001b[0;34m,\u001b[0m \u001b[0;32mFalse\u001b[0m\u001b[0;34m)\u001b[0m\u001b[0;34m:\u001b[0m\u001b[0;34m\u001b[0m\u001b[0;34m\u001b[0m\u001b[0m\n\u001b[0;32m--> 933\u001b[0;31m                     \u001b[0mself\u001b[0m\u001b[0;34m.\u001b[0m\u001b[0m_output\u001b[0m\u001b[0;34m.\u001b[0m\u001b[0mextend\u001b[0m\u001b[0;34m(\u001b[0m\u001b[0mjob\u001b[0m\u001b[0;34m.\u001b[0m\u001b[0mget\u001b[0m\u001b[0;34m(\u001b[0m\u001b[0mtimeout\u001b[0m\u001b[0;34m=\u001b[0m\u001b[0mself\u001b[0m\u001b[0;34m.\u001b[0m\u001b[0mtimeout\u001b[0m\u001b[0;34m)\u001b[0m\u001b[0;34m)\u001b[0m\u001b[0;34m\u001b[0m\u001b[0;34m\u001b[0m\u001b[0m\n\u001b[0m\u001b[1;32m    934\u001b[0m                 \u001b[0;32melse\u001b[0m\u001b[0;34m:\u001b[0m\u001b[0;34m\u001b[0m\u001b[0;34m\u001b[0m\u001b[0m\n\u001b[1;32m    935\u001b[0m                     \u001b[0mself\u001b[0m\u001b[0;34m.\u001b[0m\u001b[0m_output\u001b[0m\u001b[0;34m.\u001b[0m\u001b[0mextend\u001b[0m\u001b[0;34m(\u001b[0m\u001b[0mjob\u001b[0m\u001b[0;34m.\u001b[0m\u001b[0mget\u001b[0m\u001b[0;34m(\u001b[0m\u001b[0;34m)\u001b[0m\u001b[0;34m)\u001b[0m\u001b[0;34m\u001b[0m\u001b[0;34m\u001b[0m\u001b[0m\n",
      "\u001b[0;32m~/anaconda3/envs/hackathon/lib/python3.8/site-packages/joblib/_parallel_backends.py\u001b[0m in \u001b[0;36mwrap_future_result\u001b[0;34m(future, timeout)\u001b[0m\n\u001b[1;32m    540\u001b[0m         AsyncResults.get from multiprocessing.\"\"\"\n\u001b[1;32m    541\u001b[0m         \u001b[0;32mtry\u001b[0m\u001b[0;34m:\u001b[0m\u001b[0;34m\u001b[0m\u001b[0;34m\u001b[0m\u001b[0m\n\u001b[0;32m--> 542\u001b[0;31m             \u001b[0;32mreturn\u001b[0m \u001b[0mfuture\u001b[0m\u001b[0;34m.\u001b[0m\u001b[0mresult\u001b[0m\u001b[0;34m(\u001b[0m\u001b[0mtimeout\u001b[0m\u001b[0;34m=\u001b[0m\u001b[0mtimeout\u001b[0m\u001b[0;34m)\u001b[0m\u001b[0;34m\u001b[0m\u001b[0;34m\u001b[0m\u001b[0m\n\u001b[0m\u001b[1;32m    543\u001b[0m         \u001b[0;32mexcept\u001b[0m \u001b[0mCfTimeoutError\u001b[0m \u001b[0;32mas\u001b[0m \u001b[0me\u001b[0m\u001b[0;34m:\u001b[0m\u001b[0;34m\u001b[0m\u001b[0;34m\u001b[0m\u001b[0m\n\u001b[1;32m    544\u001b[0m             \u001b[0;32mraise\u001b[0m \u001b[0mTimeoutError\u001b[0m \u001b[0;32mfrom\u001b[0m \u001b[0me\u001b[0m\u001b[0;34m\u001b[0m\u001b[0;34m\u001b[0m\u001b[0m\n",
      "\u001b[0;32m~/anaconda3/envs/hackathon/lib/python3.8/concurrent/futures/_base.py\u001b[0m in \u001b[0;36mresult\u001b[0;34m(self, timeout)\u001b[0m\n\u001b[1;32m    437\u001b[0m                 \u001b[0;32mraise\u001b[0m \u001b[0mCancelledError\u001b[0m\u001b[0;34m(\u001b[0m\u001b[0;34m)\u001b[0m\u001b[0;34m\u001b[0m\u001b[0;34m\u001b[0m\u001b[0m\n\u001b[1;32m    438\u001b[0m             \u001b[0;32melif\u001b[0m \u001b[0mself\u001b[0m\u001b[0;34m.\u001b[0m\u001b[0m_state\u001b[0m \u001b[0;34m==\u001b[0m \u001b[0mFINISHED\u001b[0m\u001b[0;34m:\u001b[0m\u001b[0;34m\u001b[0m\u001b[0;34m\u001b[0m\u001b[0m\n\u001b[0;32m--> 439\u001b[0;31m                 \u001b[0;32mreturn\u001b[0m \u001b[0mself\u001b[0m\u001b[0;34m.\u001b[0m\u001b[0m__get_result\u001b[0m\u001b[0;34m(\u001b[0m\u001b[0;34m)\u001b[0m\u001b[0;34m\u001b[0m\u001b[0;34m\u001b[0m\u001b[0m\n\u001b[0m\u001b[1;32m    440\u001b[0m             \u001b[0;32melse\u001b[0m\u001b[0;34m:\u001b[0m\u001b[0;34m\u001b[0m\u001b[0;34m\u001b[0m\u001b[0m\n\u001b[1;32m    441\u001b[0m                 \u001b[0;32mraise\u001b[0m \u001b[0mTimeoutError\u001b[0m\u001b[0;34m(\u001b[0m\u001b[0;34m)\u001b[0m\u001b[0;34m\u001b[0m\u001b[0;34m\u001b[0m\u001b[0m\n",
      "\u001b[0;32m~/anaconda3/envs/hackathon/lib/python3.8/concurrent/futures/_base.py\u001b[0m in \u001b[0;36m__get_result\u001b[0;34m(self)\u001b[0m\n\u001b[1;32m    386\u001b[0m     \u001b[0;32mdef\u001b[0m \u001b[0m__get_result\u001b[0m\u001b[0;34m(\u001b[0m\u001b[0mself\u001b[0m\u001b[0;34m)\u001b[0m\u001b[0;34m:\u001b[0m\u001b[0;34m\u001b[0m\u001b[0;34m\u001b[0m\u001b[0m\n\u001b[1;32m    387\u001b[0m         \u001b[0;32mif\u001b[0m \u001b[0mself\u001b[0m\u001b[0;34m.\u001b[0m\u001b[0m_exception\u001b[0m\u001b[0;34m:\u001b[0m\u001b[0;34m\u001b[0m\u001b[0;34m\u001b[0m\u001b[0m\n\u001b[0;32m--> 388\u001b[0;31m             \u001b[0;32mraise\u001b[0m \u001b[0mself\u001b[0m\u001b[0;34m.\u001b[0m\u001b[0m_exception\u001b[0m\u001b[0;34m\u001b[0m\u001b[0;34m\u001b[0m\u001b[0m\n\u001b[0m\u001b[1;32m    389\u001b[0m         \u001b[0;32melse\u001b[0m\u001b[0;34m:\u001b[0m\u001b[0;34m\u001b[0m\u001b[0;34m\u001b[0m\u001b[0m\n\u001b[1;32m    390\u001b[0m             \u001b[0;32mreturn\u001b[0m \u001b[0mself\u001b[0m\u001b[0;34m.\u001b[0m\u001b[0m_result\u001b[0m\u001b[0;34m\u001b[0m\u001b[0;34m\u001b[0m\u001b[0m\n",
      "\u001b[0;31mQiskitError\u001b[0m: 'The used qubit index are different. ([0, 1, 2, 3, 4, 5, 6]) vs ([0, 1, 3, 4, 5, 6]).\\nCurrently, we only support all circuits using the same set of qubits regardless qubit order.'"
     ]
    }
   ],
   "source": [
    "E_TPB, E_EM, E_HEEM = Parallel(n_jobs=3)(delayed(run_VQE)(solver, qubit_op) for solver in solvers)"
   ]
  },
  {
   "cell_type": "markdown",
   "id": "1996a996",
   "metadata": {},
   "source": [
    "# Save data"
   ]
  },
  {
   "cell_type": "code",
   "execution_count": null,
   "id": "7e35bd40",
   "metadata": {
    "execution": {
     "iopub.status.busy": "2021-07-05T22:02:31.895140Z",
     "iopub.status.idle": "2021-07-05T22:02:31.895295Z",
     "shell.execute_reply": "2021-07-05T22:02:31.895221Z"
    },
    "tags": []
   },
   "outputs": [],
   "source": [
    "file = '../data/simulation_BeH_error_mitigation'\n",
    "np.savez(file, NUM_SHOTS=NUM_SHOTS, maxiter=maxiter, basis=basis, E_TPB=E_TPB, E_EM=E_EM, E_HEEM=E_HEEM, E_EXACT=exact)"
   ]
  },
  {
   "cell_type": "markdown",
   "id": "f74ef286",
   "metadata": {},
   "source": [
    "# Load and plot data"
   ]
  },
  {
   "cell_type": "code",
   "execution_count": null,
   "id": "6fe3a265",
   "metadata": {
    "execution": {
     "iopub.status.busy": "2021-07-05T22:02:31.895853Z",
     "iopub.status.idle": "2021-07-05T22:02:31.896071Z",
     "shell.execute_reply": "2021-07-05T22:02:31.895959Z"
    },
    "tags": []
   },
   "outputs": [],
   "source": [
    "data = np.load(file + '.npz')\n",
    "\n",
    "E_EXACT = data['E_EXACT']\n",
    "E_TPB = data['E_TPB']\n",
    "E_EM = data['E_EM']\n",
    "E_HEEM = data['E_HEEM']\n",
    "\n",
    "fig, ax = plt.subplots(ncols=1, nrows=1, figsize=(6, 4.5))\n",
    "ax.set_xlabel('Iteration')\n",
    "ax.set_ylabel('Energy [a.u.]')\n",
    "\n",
    "ax.plot(E_TPB)\n",
    "ax.plot(E_EM)\n",
    "ax.plot(E_HEEM)\n",
    "ax.hlines(E_EXACT,0, len(E_TPB), color='black', linestyle='--')\n",
    "\n",
    "ax.legend(['$TPB$', '$EM$', '$HEEM$', 'Exact'])\n",
    "\n",
    "plt.savefig(\"../../Figures/simulation_BeH_mitigation.pdf\")"
   ]
  },
  {
   "cell_type": "code",
   "execution_count": null,
   "id": "2c23c7f7",
   "metadata": {
    "execution": {
     "iopub.status.busy": "2021-07-05T22:02:31.896617Z",
     "iopub.status.idle": "2021-07-05T22:02:31.896827Z",
     "shell.execute_reply": "2021-07-05T22:02:31.896721Z"
    },
    "tags": []
   },
   "outputs": [],
   "source": [
    "print(np.mean(E_TPB[-50:]))\n",
    "print(np.mean(E_EM[-50:]))\n",
    "print(np.mean(E_HEEM[-50:]))"
   ]
  },
  {
   "cell_type": "code",
   "execution_count": null,
   "id": "2cb905d1",
   "metadata": {
    "execution": {
     "iopub.status.busy": "2021-07-05T22:02:31.897448Z",
     "iopub.status.idle": "2021-07-05T22:02:31.897664Z",
     "shell.execute_reply": "2021-07-05T22:02:31.897552Z"
    },
    "tags": []
   },
   "outputs": [],
   "source": [
    "import qiskit.tools.jupyter\n",
    "%qiskit_version_table"
   ]
  }
 ],
 "metadata": {
  "kernelspec": {
   "display_name": "Python 3 (ipykernel)",
   "language": "python",
   "name": "python3"
  },
  "language_info": {
   "codemirror_mode": {
    "name": "ipython",
    "version": 3
   },
   "file_extension": ".py",
   "mimetype": "text/x-python",
   "name": "python",
   "nbconvert_exporter": "python",
   "pygments_lexer": "ipython3",
   "version": "3.9.5"
  }
 },
 "nbformat": 4,
 "nbformat_minor": 5
}
