{
 "cells": [
  {
   "cell_type": "code",
   "execution_count": 5,
   "metadata": {},
   "outputs": [],
   "source": [
    "from GroupingAlgorithm import *\n",
    "import numpy as np\n",
    "import itertools\n",
    "import networkx as nx"
   ]
  },
  {
   "cell_type": "code",
   "execution_count": 7,
   "metadata": {},
   "outputs": [
    {
     "name": "stdout",
     "output_type": "stream",
     "text": [
      "7 7 7\n",
      "21 21 21\n",
      "49 49 49\n"
     ]
    },
    {
     "ename": "KeyboardInterrupt",
     "evalue": "",
     "output_type": "error",
     "traceback": [
      "\u001b[1;31m---------------------------------------------------------------------------\u001b[0m",
      "\u001b[1;31mKeyboardInterrupt\u001b[0m                         Traceback (most recent call last)",
      "\u001b[1;32m<ipython-input-7-2a0317a30688>\u001b[0m in \u001b[0;36m<module>\u001b[1;34m\u001b[0m\n\u001b[0;32m      4\u001b[0m     \u001b[0mG\u001b[0m\u001b[1;33m=\u001b[0m\u001b[0mnx\u001b[0m\u001b[1;33m.\u001b[0m\u001b[0mcomplete_graph\u001b[0m\u001b[1;33m(\u001b[0m\u001b[0mi\u001b[0m\u001b[1;33m)\u001b[0m\u001b[1;33m\u001b[0m\u001b[1;33m\u001b[0m\u001b[0m\n\u001b[0;32m      5\u001b[0m     \u001b[0mWC\u001b[0m\u001b[1;33m=\u001b[0m\u001b[0mlist\u001b[0m\u001b[1;33m(\u001b[0m\u001b[0mG\u001b[0m\u001b[1;33m.\u001b[0m\u001b[0medges\u001b[0m\u001b[1;33m(\u001b[0m\u001b[1;33m)\u001b[0m\u001b[1;33m)\u001b[0m\u001b[1;33m\u001b[0m\u001b[1;33m\u001b[0m\u001b[0m\n\u001b[1;32m----> 6\u001b[1;33m     \u001b[0mGroups1\u001b[0m\u001b[1;33m,\u001b[0m\u001b[0mMeas1\u001b[0m\u001b[1;33m=\u001b[0m\u001b[0mgrouping\u001b[0m\u001b[1;33m(\u001b[0m\u001b[0mPS\u001b[0m\u001b[1;33m,\u001b[0m\u001b[1;33m[\u001b[0m\u001b[1;36m1\u001b[0m\u001b[1;33m,\u001b[0m\u001b[1;36m2\u001b[0m\u001b[1;33m,\u001b[0m\u001b[1;36m3\u001b[0m\u001b[1;33m,\u001b[0m\u001b[1;36m4\u001b[0m\u001b[1;33m,\u001b[0m\u001b[1;36m5\u001b[0m\u001b[1;33m,\u001b[0m\u001b[1;36m6\u001b[0m\u001b[1;33m,\u001b[0m\u001b[1;36m7\u001b[0m\u001b[1;33m,\u001b[0m\u001b[1;36m8\u001b[0m\u001b[1;33m,\u001b[0m\u001b[1;36m9\u001b[0m\u001b[1;33m]\u001b[0m\u001b[1;33m,\u001b[0m\u001b[0mWC\u001b[0m\u001b[1;33m)\u001b[0m\u001b[1;33m\u001b[0m\u001b[1;33m\u001b[0m\u001b[0m\n\u001b[0m\u001b[0;32m      7\u001b[0m     \u001b[0mGroups2\u001b[0m\u001b[1;33m,\u001b[0m \u001b[0mMeas2\u001b[0m\u001b[1;33m,\u001b[0m \u001b[0mT2\u001b[0m\u001b[1;33m=\u001b[0m\u001b[0mgroupingWithOrder\u001b[0m\u001b[1;33m(\u001b[0m\u001b[0mPS\u001b[0m\u001b[1;33m,\u001b[0m\u001b[0mG\u001b[0m\u001b[1;33m,\u001b[0m\u001b[1;32mFalse\u001b[0m\u001b[1;33m)\u001b[0m\u001b[1;33m\u001b[0m\u001b[1;33m\u001b[0m\u001b[0m\n\u001b[0;32m      8\u001b[0m     \u001b[0mGroups3\u001b[0m\u001b[1;33m,\u001b[0m \u001b[0mMeas3\u001b[0m\u001b[1;33m,\u001b[0m \u001b[0mT3\u001b[0m\u001b[1;33m=\u001b[0m\u001b[0mgroupingWithOrder\u001b[0m\u001b[1;33m(\u001b[0m\u001b[0mPS\u001b[0m\u001b[1;33m,\u001b[0m\u001b[0mG\u001b[0m\u001b[1;33m,\u001b[0m\u001b[1;32mTrue\u001b[0m\u001b[1;33m)\u001b[0m\u001b[1;33m\u001b[0m\u001b[1;33m\u001b[0m\u001b[0m\n",
      "\u001b[1;32m~\\Downloads\\Codes2\\GroupingAlgorithm.py\u001b[0m in \u001b[0;36mgrouping\u001b[1;34m(PS, AM, WC)\u001b[0m\n\u001b[0;32m    331\u001b[0m                 \u001b[0mencodes\u001b[0m \u001b[0mthe\u001b[0m \u001b[0mpartial\u001b[0m \u001b[0mmeasurement\u001b[0m \u001b[0massigned\u001b[0m \u001b[1;32mand\u001b[0m \u001b[0mthe\u001b[0m \u001b[0msecond\u001b[0m \u001b[0mthe\u001b[0m \u001b[0mqubits\u001b[0m \u001b[0mwhere\u001b[0m \u001b[0mit\u001b[0m \u001b[0mshould\u001b[0m \u001b[0mperformed\u001b[0m\u001b[1;33m.\u001b[0m\u001b[1;33m\u001b[0m\u001b[1;33m\u001b[0m\u001b[0m\n\u001b[0;32m    332\u001b[0m \t\"\"\"\n\u001b[1;32m--> 333\u001b[1;33m         \u001b[0mPG\u001b[0m \u001b[1;33m=\u001b[0m \u001b[0mPauliGraph\u001b[0m\u001b[1;33m(\u001b[0m\u001b[0mPS\u001b[0m\u001b[1;33m)\u001b[0m\u001b[1;33m\u001b[0m\u001b[1;33m\u001b[0m\u001b[0m\n\u001b[0m\u001b[0;32m    334\u001b[0m         \u001b[0mSV\u001b[0m \u001b[1;33m=\u001b[0m \u001b[0msorted\u001b[0m\u001b[1;33m(\u001b[0m\u001b[0mPG\u001b[0m\u001b[1;33m.\u001b[0m\u001b[0mdegree\u001b[0m\u001b[1;33m,\u001b[0m \u001b[0mkey\u001b[0m\u001b[1;33m=\u001b[0m\u001b[1;32mlambda\u001b[0m \u001b[0mx\u001b[0m\u001b[1;33m:\u001b[0m \u001b[0mx\u001b[0m\u001b[1;33m[\u001b[0m\u001b[1;36m1\u001b[0m\u001b[1;33m]\u001b[0m\u001b[1;33m,\u001b[0m \u001b[0mreverse\u001b[0m\u001b[1;33m=\u001b[0m\u001b[1;32mTrue\u001b[0m\u001b[1;33m)\u001b[0m  \u001b[1;31m# Sorted Vertices by decreasing degree.\u001b[0m\u001b[1;33m\u001b[0m\u001b[1;33m\u001b[0m\u001b[0m\n\u001b[0;32m    335\u001b[0m         \u001b[0mn\u001b[0m \u001b[1;33m=\u001b[0m \u001b[0mnp\u001b[0m\u001b[1;33m.\u001b[0m\u001b[0msize\u001b[0m\u001b[1;33m(\u001b[0m\u001b[0mPS\u001b[0m\u001b[1;33m[\u001b[0m\u001b[1;33m:\u001b[0m\u001b[1;33m,\u001b[0m \u001b[1;36m0\u001b[0m\u001b[1;33m]\u001b[0m\u001b[1;33m)\u001b[0m\u001b[1;33m\u001b[0m\u001b[1;33m\u001b[0m\u001b[0m\n",
      "\u001b[1;32m~\\Downloads\\Codes2\\GroupingAlgorithm.py\u001b[0m in \u001b[0;36mPauliGraph\u001b[1;34m(PS)\u001b[0m\n\u001b[0;32m    109\u001b[0m                 \u001b[1;32mfor\u001b[0m \u001b[0mj\u001b[0m \u001b[1;32min\u001b[0m \u001b[0mrange\u001b[0m\u001b[1;33m(\u001b[0m\u001b[0mi\u001b[0m \u001b[1;33m+\u001b[0m \u001b[1;36m1\u001b[0m\u001b[1;33m,\u001b[0m \u001b[0mn\u001b[0m\u001b[1;33m)\u001b[0m\u001b[1;33m:\u001b[0m  \u001b[1;31m# Nested loop over the following Pauli strings v_j\u001b[0m\u001b[1;33m\u001b[0m\u001b[1;33m\u001b[0m\u001b[0m\n\u001b[0;32m    110\u001b[0m                         \u001b[0mv_j\u001b[0m \u001b[1;33m=\u001b[0m \u001b[0mPS\u001b[0m\u001b[1;33m[\u001b[0m\u001b[0mj\u001b[0m\u001b[1;33m,\u001b[0m \u001b[1;33m:\u001b[0m\u001b[1;33m]\u001b[0m\u001b[1;33m\u001b[0m\u001b[1;33m\u001b[0m\u001b[0m\n\u001b[1;32m--> 111\u001b[1;33m                         \u001b[0mcompatiblequbits\u001b[0m \u001b[1;33m=\u001b[0m \u001b[0mnp\u001b[0m\u001b[1;33m.\u001b[0m\u001b[0mlogical_or\u001b[0m\u001b[1;33m.\u001b[0m\u001b[0mreduce\u001b[0m\u001b[1;33m(\u001b[0m\u001b[1;33m(\u001b[0m\u001b[0mv_i\u001b[0m \u001b[1;33m==\u001b[0m \u001b[0mv_j\u001b[0m\u001b[1;33m,\u001b[0m \u001b[0mv_i\u001b[0m \u001b[1;33m==\u001b[0m \u001b[1;36m0\u001b[0m\u001b[1;33m,\u001b[0m \u001b[0mv_j\u001b[0m \u001b[1;33m==\u001b[0m \u001b[1;36m0\u001b[0m\u001b[1;33m)\u001b[0m\u001b[1;33m)\u001b[0m\u001b[1;33m\u001b[0m\u001b[1;33m\u001b[0m\u001b[0m\n\u001b[0m\u001b[0;32m    112\u001b[0m                         \u001b[1;32mif\u001b[0m \u001b[1;32mnot\u001b[0m \u001b[0mnp\u001b[0m\u001b[1;33m.\u001b[0m\u001b[0mall\u001b[0m\u001b[1;33m(\u001b[0m\u001b[0mcompatiblequbits\u001b[0m\u001b[1;33m)\u001b[0m\u001b[1;33m:\u001b[0m  \u001b[1;31m# If at least one of the qubits shared by the PS is not commutative\u001b[0m\u001b[1;33m\u001b[0m\u001b[1;33m\u001b[0m\u001b[0m\n\u001b[0;32m    113\u001b[0m                                 \u001b[0mPG\u001b[0m\u001b[1;33m.\u001b[0m\u001b[0madd_edges_from\u001b[0m\u001b[1;33m(\u001b[0m\u001b[1;33m[\u001b[0m\u001b[1;33m(\u001b[0m\u001b[0mi\u001b[0m\u001b[1;33m,\u001b[0m \u001b[0mj\u001b[0m\u001b[1;33m)\u001b[0m\u001b[1;33m]\u001b[0m\u001b[1;33m)\u001b[0m  \u001b[1;31m# add an edge in the Pauli Graph\u001b[0m\u001b[1;33m\u001b[0m\u001b[1;33m\u001b[0m\u001b[0m\n",
      "\u001b[1;31mKeyboardInterrupt\u001b[0m: "
     ]
    }
   ],
   "source": [
    "for i in range(2,10):\n",
    "    x = np.arange(4)\n",
    "    PS=np.array([np.array(list(p)) for p in itertools.product(x, repeat=i)])\n",
    "    G=nx.complete_graph(i)\n",
    "    WC=list(G.edges())\n",
    "    Groups1,Meas1=grouping(PS,[1,2,3,4,5,6,7,8,9],WC)\n",
    "    Groups2, Meas2, T2=groupingWithOrder(PS,G,False)\n",
    "    Groups3, Meas3, T3=groupingWithOrder(PS,G,True)\n",
    "    if i==2:\n",
    "        with open(\"UniversalGroups.txt\",\"w\") as f:\n",
    "            #f.write(\"{0},{1},{2},{3},{4},{5},{6},{7},{8},{9},{10},{11},{12},{13},{14},{15},{16},{17},{18}, {19},{20},{21},{22},{23},{24},{25},{26},{27},{28},{29},{30},{31},{32},{33},{34},{35},{36},{37}\\n\".format('Number of qubits',i,'\\n','Groups with the non-ordered grouping algorithm', '\\n', Groups1, '\\n', 'Measurements with the non-ordered grouping algorithm', '\\n', Meas1,'\\n', 'Groups with the ordered grouping algorithm and non-connected subroutine', '\\n', Groups2, '\\n', 'Measurements with the ordered grouping algorithm and non-connected subroutine' ,'\\n', Meas2, '\\n', 'Theo-phys map with the non-connected subroutine', '\\n', T2, '\\n', 'Groups with the ordered grouping algorithm and connected subroutine', '\\n', Groups3,'\\n', 'Measurements with the ordered grouping algorithm and connected subroutine', '\\n', Meas3, '\\n', 'Theo-phys map with the connected subroutine', '\\n', T3, '\\n', '--------------------------------','\\n','--------------------------------'))\n",
    "            f.write(\"{0},{1},{2},{3},{4},{5},{6},{7},{8},{9}\\n\".format('Number of qubits',i,'\\n','Groups with the non-ordered grouping algorithm', '\\n', Groups1, '\\n', 'Measurements with the non-ordered grouping algorithm', '\\n', Meas1))  \n",
    "    else:\n",
    "        with open(\"UniversalGroups.txt\",\"a\") as f:\n",
    "            #f.write(\"{0},{1},{2},{3},{4},{5},{6},{7},{8},{9},{10},{11},{12},{13},{14},{15},{16},{17},{18}, {19},{20},{21},{22},{23},{24},{25},{26},{27},{28},{29},{30},{31},{32},{33},{34},{35},{36},{37}\\n\".format('Number of qubits',i,'\\n','Groups with the non-ordered grouping algorithm', '\\n', Groups1, '\\n', 'Measurements with the non-ordered grouping algorithm', '\\n', Meas1,'\\n', 'Groups with the ordered grouping algorithm and non-connected subroutine', '\\n', Groups2, '\\n', 'Measurements with the ordered grouping algorithm and non-connected subroutine' ,'\\n', Meas2, '\\n', 'Theo-phys map with the non-connected subroutine', '\\n', T2, '\\n', 'Groups with the ordered grouping algorithm and connected subroutine', '\\n', Groups3,'\\n', 'Measurements with the ordered grouping algorithm and connected subroutine', '\\n', Meas3, '\\n', 'Theo-phys map with the connected subroutine', '\\n', T3, '\\n', '--------------------------------','\\n', '--------------------------------'))\n",
    "            f.write(\"{0},{1},{2},{3},{4},{5},{6},{7},{8},{9}\\n\".format('Number of qubits',i,'\\n','Groups with the non-ordered grouping algorithm', '\\n', Groups1, '\\n', 'Measurements with the non-ordered grouping algorithm', '\\n', Meas1)) \n",
    "    print(len(Groups1),len(Groups2),len(Groups3))"
   ]
  },
  {
   "cell_type": "code",
   "execution_count": null,
   "metadata": {},
   "outputs": [],
   "source": []
  }
 ],
 "metadata": {
  "kernelspec": {
   "display_name": "Python 3",
   "language": "python",
   "name": "python3"
  },
  "language_info": {
   "codemirror_mode": {
    "name": "ipython",
    "version": 3
   },
   "file_extension": ".py",
   "mimetype": "text/x-python",
   "name": "python",
   "nbconvert_exporter": "python",
   "pygments_lexer": "ipython3",
   "version": "3.8.5"
  }
 },
 "nbformat": 4,
 "nbformat_minor": 4
}
