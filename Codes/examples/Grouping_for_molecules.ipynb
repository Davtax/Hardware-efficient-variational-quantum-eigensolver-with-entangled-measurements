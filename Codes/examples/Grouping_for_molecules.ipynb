{
 "cells": [
  {
   "cell_type": "code",
   "execution_count": 1,
   "metadata": {
    "execution": {
     "iopub.execute_input": "2021-06-03T17:29:44.587625Z",
     "iopub.status.busy": "2021-06-03T17:29:44.587625Z",
     "iopub.status.idle": "2021-06-03T17:29:47.616904Z",
     "shell.execute_reply": "2021-06-03T17:29:47.615924Z",
     "shell.execute_reply.started": "2021-06-03T17:29:44.587625Z"
    }
   },
   "outputs": [],
   "source": [
    "import sys\n",
    "sys.path.append('../')\n",
    "import numpy as np\n",
    "from GroupingAlgorithm import *\n",
    "from HEEM_VQE_Functions import *\n",
    "from utils import Label2Chain, get_backend_conectivity\n",
    "from qiskit import IBMQ\n",
    "from qiskit_nature.drivers import PyQuanteDriver\n",
    "from qiskit_nature.problems.second_quantization.electronic import ElectronicStructureProblem\n",
    "from qiskit_nature.mappers.second_quantization import ParityMapper, JordanWignerMapper, BravyiKitaevMapper\n",
    "from qiskit_nature.converters.second_quantization.qubit_converter import QubitConverter\n",
    "from qiskit_nature.transformers import FreezeCoreTransformer\n",
    "from qiskit.opflow import converters\n",
    "from qiskit.opflow.primitive_ops import Z2Symmetries"
   ]
  },
  {
   "cell_type": "markdown",
   "metadata": {},
   "source": [
    "Obtaing the conectivity of a real quantum hardware."
   ]
  },
  {
   "cell_type": "code",
   "execution_count": 2,
   "metadata": {
    "execution": {
     "iopub.execute_input": "2021-06-03T17:29:47.617891Z",
     "iopub.status.busy": "2021-06-03T17:29:47.617891Z",
     "iopub.status.idle": "2021-06-03T17:29:56.475659Z",
     "shell.execute_reply": "2021-06-03T17:29:56.475659Z",
     "shell.execute_reply.started": "2021-06-03T17:29:47.617891Z"
    }
   },
   "outputs": [],
   "source": [
    "IBMQ.load_account()\n",
    "provider    = IBMQ.get_provider(hub='ibm-q-csic', group='internal', project='iff-csic') # put here your provider\n",
    "backend_exp = provider.get_backend('ibmq_paris') # select a quantum computer\n",
    "WC_exp      = get_backend_conectivity(backend_exp)"
   ]
  },
  {
   "cell_type": "markdown",
   "metadata": {},
   "source": [
    "Groups for different molecules. The grouping strategies considered are: non grouping, TPB, Bell+TPB, 2Q+TPB and HEEM."
   ]
  },
  {
   "cell_type": "code",
   "execution_count": 8,
   "metadata": {
    "execution": {
     "iopub.execute_input": "2021-06-03T17:38:54.501230Z",
     "iopub.status.busy": "2021-06-03T17:38:54.500233Z",
     "iopub.status.idle": "2021-06-03T17:38:54.507214Z",
     "shell.execute_reply": "2021-06-03T17:38:54.505218Z",
     "shell.execute_reply.started": "2021-06-03T17:38:54.501230Z"
    }
   },
   "outputs": [],
   "source": [
    "mc = 10"
   ]
  },
  {
   "cell_type": "code",
   "execution_count": 9,
   "metadata": {
    "execution": {
     "iopub.execute_input": "2021-06-03T17:38:54.509258Z",
     "iopub.status.busy": "2021-06-03T17:38:54.508286Z",
     "iopub.status.idle": "2021-06-03T17:50:48.393734Z",
     "shell.execute_reply": "2021-06-03T17:50:48.392731Z",
     "shell.execute_reply.started": "2021-06-03T17:38:54.509258Z"
    }
   },
   "outputs": [
    {
     "name": "stdout",
     "output_type": "stream",
     "text": [
      "molecule: H .0 .0 .0; H .0 .0 0.761\n",
      "number of qubits: 4\n",
      "number of Paulis: 15\n",
      "number of TPB groups: 5\n",
      "number of Bell groups:\n"
     ]
    },
    {
     "data": {
      "application/vnd.jupyter.widget-view+json": {
       "model_id": "38ed2d1e2efe455ea024a6861a8e2b3c",
       "version_major": 2,
       "version_minor": 0
      },
      "text/plain": [
       "HBox(children=(FloatProgress(value=0.0, description='Computing optimal order', max=10.0, style=ProgressStyle(d…"
      ]
     },
     "metadata": {},
     "output_type": "display_data"
    },
    {
     "name": "stdout",
     "output_type": "stream",
     "text": [
      "\n",
      "The original order gives 2 groups\n",
      "The best order found gives 2 groups\n",
      "number of 2Q groups:\n"
     ]
    },
    {
     "data": {
      "application/vnd.jupyter.widget-view+json": {
       "model_id": "a20c5e357ec044b787ebf4cd221fb33d",
       "version_major": 2,
       "version_minor": 0
      },
      "text/plain": [
       "HBox(children=(FloatProgress(value=0.0, description='Computing optimal order', max=10.0, style=ProgressStyle(d…"
      ]
     },
     "metadata": {},
     "output_type": "display_data"
    },
    {
     "name": "stdout",
     "output_type": "stream",
     "text": [
      "\n",
      "The original order gives 2 groups\n",
      "The best order found gives 2 groups\n",
      "number of HEEM groups:\n"
     ]
    },
    {
     "data": {
      "application/vnd.jupyter.widget-view+json": {
       "model_id": "1eed3f53b0cd462b8cc4f69d5d10b783",
       "version_major": 2,
       "version_minor": 0
      },
      "text/plain": [
       "HBox(children=(FloatProgress(value=0.0, description='Computing optimal order', max=10.0, style=ProgressStyle(d…"
      ]
     },
     "metadata": {},
     "output_type": "display_data"
    },
    {
     "name": "stdout",
     "output_type": "stream",
     "text": [
      "\n",
      "The original order gives 2 groups\n",
      "The best order found gives 2 groups\n",
      "----------------------------------------\n",
      "molecule: Li 0.0 0.0 0.0; H 0.0 0.0 1.619\n",
      "number of qubits: 12\n",
      "number of Paulis: 631\n",
      "number of TPB groups: 136\n",
      "number of Bell groups:\n"
     ]
    },
    {
     "data": {
      "application/vnd.jupyter.widget-view+json": {
       "model_id": "4671ac3d2a084a93a1719851562bf78e",
       "version_major": 2,
       "version_minor": 0
      },
      "text/plain": [
       "HBox(children=(FloatProgress(value=0.0, description='Computing optimal order', max=10.0, style=ProgressStyle(d…"
      ]
     },
     "metadata": {},
     "output_type": "display_data"
    },
    {
     "name": "stdout",
     "output_type": "stream",
     "text": [
      "\n",
      "The original order gives 39 groups\n",
      "The best order found gives 39 groups\n",
      "number of 2Q groups:\n"
     ]
    },
    {
     "data": {
      "application/vnd.jupyter.widget-view+json": {
       "model_id": "f739e37c264d4291beb6f352983abd68",
       "version_major": 2,
       "version_minor": 0
      },
      "text/plain": [
       "HBox(children=(FloatProgress(value=0.0, description='Computing optimal order', max=10.0, style=ProgressStyle(d…"
      ]
     },
     "metadata": {},
     "output_type": "display_data"
    },
    {
     "name": "stdout",
     "output_type": "stream",
     "text": [
      "\n",
      "The original order gives 39 groups\n",
      "The best order found gives 39 groups\n",
      "number of HEEM groups:\n"
     ]
    },
    {
     "data": {
      "application/vnd.jupyter.widget-view+json": {
       "model_id": "7b5941c468c54031adeee6958f716aa3",
       "version_major": 2,
       "version_minor": 0
      },
      "text/plain": [
       "HBox(children=(FloatProgress(value=0.0, description='Computing optimal order', max=10.0, style=ProgressStyle(d…"
      ]
     },
     "metadata": {},
     "output_type": "display_data"
    },
    {
     "name": "stdout",
     "output_type": "stream",
     "text": [
      "\n",
      "The original order gives 97 groups\n",
      "The best order found gives 95 groups\n",
      "----------------------------------------\n",
      "molecule: H 0.0 0.0 -1.339; Be 0.0 0.0 0.0; H 0.0 0.0 1.339\n",
      "number of qubits: 14\n",
      "number of Paulis: 666\n",
      "number of TPB groups: 140\n",
      "number of Bell groups:\n"
     ]
    },
    {
     "data": {
      "application/vnd.jupyter.widget-view+json": {
       "model_id": "91228dc4472d47e68cc888410d1dbcde",
       "version_major": 2,
       "version_minor": 0
      },
      "text/plain": [
       "HBox(children=(FloatProgress(value=0.0, description='Computing optimal order', max=10.0, style=ProgressStyle(d…"
      ]
     },
     "metadata": {},
     "output_type": "display_data"
    },
    {
     "name": "stdout",
     "output_type": "stream",
     "text": [
      "\n",
      "The original order gives 41 groups\n",
      "The best order found gives 38 groups\n",
      "number of 2Q groups:\n"
     ]
    },
    {
     "data": {
      "application/vnd.jupyter.widget-view+json": {
       "model_id": "d79706dd57464cac8503752f144cc2c3",
       "version_major": 2,
       "version_minor": 0
      },
      "text/plain": [
       "HBox(children=(FloatProgress(value=0.0, description='Computing optimal order', max=10.0, style=ProgressStyle(d…"
      ]
     },
     "metadata": {},
     "output_type": "display_data"
    },
    {
     "name": "stdout",
     "output_type": "stream",
     "text": [
      "\n",
      "The original order gives 41 groups\n",
      "The best order found gives 41 groups\n",
      "number of HEEM groups:\n"
     ]
    },
    {
     "data": {
      "application/vnd.jupyter.widget-view+json": {
       "model_id": "ac3a30fce7854221a446d9ea42ee7f88",
       "version_major": 2,
       "version_minor": 0
      },
      "text/plain": [
       "HBox(children=(FloatProgress(value=0.0, description='Computing optimal order', max=10.0, style=ProgressStyle(d…"
      ]
     },
     "metadata": {},
     "output_type": "display_data"
    },
    {
     "name": "stdout",
     "output_type": "stream",
     "text": [
      "\n",
      "The original order gives 116 groups\n",
      "The best order found gives 111 groups\n",
      "----------------------------------------\n",
      "molecule: O 0.0 0.0 0.0; H 0.757 0.586 0.0; H -0.757 0.586 0.0\n",
      "number of qubits: 14\n",
      "number of Paulis: 1086\n",
      "number of TPB groups: 224\n",
      "number of Bell groups:\n"
     ]
    },
    {
     "data": {
      "application/vnd.jupyter.widget-view+json": {
       "model_id": "ea33bcd0394a40898ce4f79dfef1e404",
       "version_major": 2,
       "version_minor": 0
      },
      "text/plain": [
       "HBox(children=(FloatProgress(value=0.0, description='Computing optimal order', max=10.0, style=ProgressStyle(d…"
      ]
     },
     "metadata": {},
     "output_type": "display_data"
    },
    {
     "name": "stdout",
     "output_type": "stream",
     "text": [
      "\n",
      "The original order gives 58 groups\n",
      "The best order found gives 54 groups\n",
      "number of 2Q groups:\n"
     ]
    },
    {
     "data": {
      "application/vnd.jupyter.widget-view+json": {
       "model_id": "de5a8cd8398f4de28a21a6775f7bd4c2",
       "version_major": 2,
       "version_minor": 0
      },
      "text/plain": [
       "HBox(children=(FloatProgress(value=0.0, description='Computing optimal order', max=10.0, style=ProgressStyle(d…"
      ]
     },
     "metadata": {},
     "output_type": "display_data"
    },
    {
     "name": "stdout",
     "output_type": "stream",
     "text": [
      "\n",
      "The original order gives 58 groups\n",
      "The best order found gives 58 groups\n",
      "number of HEEM groups:\n"
     ]
    },
    {
     "data": {
      "application/vnd.jupyter.widget-view+json": {
       "model_id": "912fe4e38ce14129a02b0f41561a75b4",
       "version_major": 2,
       "version_minor": 0
      },
      "text/plain": [
       "HBox(children=(FloatProgress(value=0.0, description='Computing optimal order', max=10.0, style=ProgressStyle(d…"
      ]
     },
     "metadata": {},
     "output_type": "display_data"
    },
    {
     "name": "stdout",
     "output_type": "stream",
     "text": [
      "\n",
      "The original order gives 153 groups\n",
      "The best order found gives 149 groups\n",
      "----------------------------------------\n"
     ]
    }
   ],
   "source": [
    "molecules = [ 'H .0 .0 .0; H .0 .0 0.761'  #0.88\n",
    "             ,\n",
    "             'Li 0.0 0.0 0.0; H 0.0 0.0 1.619'\n",
    "             ,\n",
    "            'H 0.0 0.0 -1.339; Be 0.0 0.0 0.0; H 0.0 0.0 1.339'\n",
    "             ,\n",
    "            'O 0.0 0.0 0.0; H 0.757 0.586 0.0; H -0.757 0.586 0.0'\n",
    "#              ,\n",
    "#              'H 0.0 0.0 0.0; F 0.0 0.0 0.995'\n",
    "#              ,\n",
    "#             'Cl 0.0 0.0 0.0; H 0.0 0.0 1.0' \n",
    "            ]\n",
    "\n",
    "\n",
    "for molecule in molecules :\n",
    "    \n",
    "    print( 'molecule: '+molecule )\n",
    "\n",
    "    driver = PyQuanteDriver(molecule)\n",
    "    qmolecule = driver.run()\n",
    "    problem = ElectronicStructureProblem(driver)\n",
    "\n",
    "    # Generate the second-quantized operators\n",
    "    second_q_ops = problem.second_q_ops()\n",
    "\n",
    "    # Hamiltonian\n",
    "    main_op = second_q_ops[0]\n",
    "\n",
    "    # Setup the mapper and qubit converter\n",
    "    mapper = JordanWignerMapper()\n",
    "\n",
    "    converter = QubitConverter(mapper=mapper)\n",
    "\n",
    "    # The fermionic operators are mapped to qubit operators\n",
    "    num_particles = (problem.molecule_data_transformed.num_alpha,\n",
    "                 problem.molecule_data_transformed.num_beta)\n",
    "    qubit_op   = converter.convert(main_op, num_particles=num_particles)\n",
    "    \n",
    "    \n",
    "    \n",
    "    num_qubits = qubit_op.num_qubits\n",
    "    WC=list(range(num_qubits))\n",
    "    WC=list(permutations(list(range(num_qubits)),2))\n",
    "\n",
    "    print('number of qubits:', num_qubits)\n",
    "\n",
    "    paulis, coeff, labels = Label2Chain(qubit_op)\n",
    "    print( 'number of Paulis:', len(coeff) )\n",
    "    \n",
    "    Color, Groups_tpb, Measurements_tpb = TPBgrouping(paulis)\n",
    "    print( 'number of TPB groups:', len(Groups_tpb) )\n",
    "        \n",
    "    print('number of Bell groups:' )\n",
    "    qubit_op_temp = grouping_shuffle( qubit_op,[4,3,1,2], WC,n_mc=mc )\n",
    "    \n",
    "    print('number of 2Q groups:' )\n",
    "    qubit_op_temp = grouping_shuffle( qubit_op,[4,9,8,7,6,5,3,2,1], WC,n_mc=mc )\n",
    "    \n",
    "    print('number of HEEM groups:')\n",
    "    qubit_op_temp = grouping_shuffle( qubit_op,[4,9,8,7,6,5,3,2,1], WC_exp,n_mc=mc )\n",
    "    \n",
    "    print('----------------------------------------')\n"
   ]
  },
  {
   "cell_type": "code",
   "execution_count": 4,
   "metadata": {
    "execution": {
     "iopub.execute_input": "2021-06-03T17:38:31.017392Z",
     "iopub.status.busy": "2021-06-03T17:38:31.016398Z",
     "iopub.status.idle": "2021-06-03T17:38:46.320222Z",
     "shell.execute_reply": "2021-06-03T17:38:46.319224Z",
     "shell.execute_reply.started": "2021-06-03T17:38:31.017392Z"
    }
   },
   "outputs": [
    {
     "name": "stdout",
     "output_type": "stream",
     "text": [
      "number of qubits: 4\n",
      "number of Paulis: 100\n",
      "number of TPB groups: 25\n",
      "number of Bell groups: 15\n",
      "number of 2Q groups v1: 11\n",
      "number of 2Q groups v2: 11\n",
      "number of HEEM groups : 9\n",
      "----------------------------------------\n"
     ]
    }
   ],
   "source": [
    "molecule = 'Li 0.0 0.0 0.0; H 0.0 0.0 1.619'\n",
    "\n",
    "driver = PyQuanteDriver(molecule)\n",
    "qmolecule = driver.run()\n",
    "\n",
    "freezeCoreTransfomer = FreezeCoreTransformer(freeze_core=True, remove_orbitals=[3, 4])\n",
    "problem = ElectronicStructureProblem(driver, q_molecule_transformers=[freezeCoreTransfomer])\n",
    "\n",
    "# Generate the second-quantized operators\n",
    "second_q_ops = problem.second_q_ops()\n",
    "\n",
    "# Hamiltonian\n",
    "main_op = second_q_ops[0]\n",
    "\n",
    "# Setup the mapper and qubit converter\n",
    "mapper = ParityMapper()\n",
    "\n",
    "converter = QubitConverter(mapper=mapper, two_qubit_reduction=True)\n",
    "\n",
    "# The fermionic operators are mapped to qubit operators\n",
    "num_particles = (problem.molecule_data_transformed.num_alpha,\n",
    "             problem.molecule_data_transformed.num_beta)\n",
    "qubit_op   = converter.convert(main_op, num_particles=num_particles)\n",
    "\n",
    "num_qubits = qubit_op.num_qubits\n",
    "WC=list(range(num_qubits))\n",
    "WC=list(permutations(list(range(num_qubits)),2))\n",
    "\n",
    "print('number of qubits:', num_qubits)\n",
    "\n",
    "paulis, coeff, labels = Label2Chain(qubit_op)\n",
    "print( 'number of Paulis:', len(coeff) )\n",
    "\n",
    "Color, Groups_tpb, Measurements_tpb = TPBgrouping(paulis)\n",
    "print( 'number of TPB groups:', len(Groups_tpb) )\n",
    "\n",
    "Groups_bell, Measurements_bell = grouping( paulis,[4,3,1,2],WC)\n",
    "print('number of Bell groups:', len(Groups_bell) )\n",
    "\n",
    "Groups_2Q1, Measurements_2Q1 = grouping( paulis,[4,9,8,7,6,5,3,2,1],WC)\n",
    "print('number of 2Q groups v1:', len(Groups_2Q1) )\n",
    "\n",
    "Groups_2Q2, Measurements_2Q2 = grouping( paulis,[7,6,5,4,9,8,3,2,1],WC)\n",
    "print('number of 2Q groups v2:', len(Groups_2Q1) )\n",
    "\n",
    "Groups_HEEM, Measurements_HEEM = grouping( paulis,[4,3,2,1],WC_exp)\n",
    "print('number of HEEM groups :', len(Measurements_HEEM) )\n",
    "\n",
    "print('----------------------------------------')\n"
   ]
  },
  {
   "cell_type": "code",
   "execution_count": 5,
   "metadata": {
    "execution": {
     "iopub.execute_input": "2021-06-03T17:38:46.321219Z",
     "iopub.status.busy": "2021-06-03T17:38:46.321219Z",
     "iopub.status.idle": "2021-06-03T17:38:46.333187Z",
     "shell.execute_reply": "2021-06-03T17:38:46.332211Z",
     "shell.execute_reply.started": "2021-06-03T17:38:46.321219Z"
    }
   },
   "outputs": [
    {
     "data": {
      "text/plain": [
       "[[[4, [2, 3]], [4, [0, 1]]],\n",
       " [[1, [2]], [3, [3]], [4, [0, 1]]],\n",
       " [[1, [3]], [3, [2]], [4, [0, 1]]],\n",
       " [[1, [0]], [3, [1]], [4, [2, 3]]],\n",
       " [[1, [1]], [3, [0]], [4, [2, 3]]],\n",
       " [[1, [2]], [1, [0]], [3, [3]], [3, [1]]],\n",
       " [[1, [2]], [1, [1]], [3, [3]], [3, [0]]],\n",
       " [[1, [3]], [1, [0]], [3, [2]], [3, [1]]],\n",
       " [[1, [3]], [1, [1]], [3, [2]], [3, [0]]]]"
      ]
     },
     "execution_count": 5,
     "metadata": {},
     "output_type": "execute_result"
    }
   ],
   "source": [
    "Measurements_HEEM"
   ]
  },
  {
   "cell_type": "code",
   "execution_count": 6,
   "metadata": {
    "execution": {
     "iopub.execute_input": "2021-06-03T17:38:46.335181Z",
     "iopub.status.busy": "2021-06-03T17:38:46.334184Z",
     "iopub.status.idle": "2021-06-03T17:38:54.053235Z",
     "shell.execute_reply": "2021-06-03T17:38:54.052238Z",
     "shell.execute_reply.started": "2021-06-03T17:38:46.335181Z"
    }
   },
   "outputs": [
    {
     "data": {
      "application/vnd.jupyter.widget-view+json": {
       "model_id": "15aeb32d9e7041f091acf2a71d2d2116",
       "version_major": 2,
       "version_minor": 0
      },
      "text/plain": [
       "HBox(children=(FloatProgress(value=0.0, description='Computing optimal order', max=50.0, style=ProgressStyle(d…"
      ]
     },
     "metadata": {},
     "output_type": "display_data"
    },
    {
     "name": "stdout",
     "output_type": "stream",
     "text": [
      "\n",
      "The original order gives 15 groups\n",
      "The best order found gives 11 groups\n"
     ]
    }
   ],
   "source": [
    "qubit_op_2 = grouping_shuffle( qubit_op,[4,3,2,1], WC, n_mc=50 )"
   ]
  },
  {
   "cell_type": "code",
   "execution_count": null,
   "metadata": {},
   "outputs": [],
   "source": []
  },
  {
   "cell_type": "code",
   "execution_count": null,
   "metadata": {},
   "outputs": [],
   "source": []
  },
  {
   "cell_type": "code",
   "execution_count": 7,
   "metadata": {
    "execution": {
     "iopub.execute_input": "2021-06-03T17:38:54.054233Z",
     "iopub.status.busy": "2021-06-03T17:38:54.053235Z",
     "iopub.status.idle": "2021-06-03T17:38:54.201256Z",
     "shell.execute_reply": "2021-06-03T17:38:54.200260Z",
     "shell.execute_reply.started": "2021-06-03T17:38:54.054233Z"
    }
   },
   "outputs": [
    {
     "data": {
      "text/html": [
       "<h3>Version Information</h3><table><tr><th>Qiskit Software</th><th>Version</th></tr><tr><td>Qiskit</td><td>0.25.0</td></tr><tr><td>Terra</td><td>0.17.0</td></tr><tr><td>Aer</td><td>0.8.0</td></tr><tr><td>Ignis</td><td>0.6.0</td></tr><tr><td>Aqua</td><td>0.9.0</td></tr><tr><td>IBM Q Provider</td><td>0.12.2</td></tr><tr><th>System information</th></tr><tr><td>Python</td><td>3.7.7 (default, May  6 2020, 11:45:54) [MSC v.1916 64 bit (AMD64)]</td></tr><tr><td>OS</td><td>Windows</td></tr><tr><td>CPUs</td><td>4</td></tr><tr><td>Memory (Gb)</td><td>11.887619018554688</td></tr><tr><td colspan='2'>Thu Jun 03 19:38:54 2021 Hora de verano romance</td></tr></table>"
      ],
      "text/plain": [
       "<IPython.core.display.HTML object>"
      ]
     },
     "metadata": {},
     "output_type": "display_data"
    }
   ],
   "source": [
    "import qiskit.tools.jupyter\n",
    "%qiskit_version_table"
   ]
  },
  {
   "cell_type": "code",
   "execution_count": null,
   "metadata": {},
   "outputs": [],
   "source": []
  }
 ],
 "metadata": {
  "kernelspec": {
   "display_name": "Python 3",
   "language": "python",
   "name": "python3"
  },
  "language_info": {
   "codemirror_mode": {
    "name": "ipython",
    "version": 3
   },
   "file_extension": ".py",
   "mimetype": "text/x-python",
   "name": "python",
   "nbconvert_exporter": "python",
   "pygments_lexer": "ipython3",
   "version": "3.7.7"
  }
 },
 "nbformat": 4,
 "nbformat_minor": 4
}
