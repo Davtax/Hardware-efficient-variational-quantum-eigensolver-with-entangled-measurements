{
 "cells": [
  {
   "cell_type": "code",
   "execution_count": 1,
   "metadata": {
    "execution": {
     "iopub.status.idle": "2021-06-03T10:39:55.545349Z",
     "shell.execute_reply": "2021-06-03T10:39:55.544352Z",
     "shell.execute_reply.started": "2021-06-03T10:39:47.996486Z"
    }
   },
   "outputs": [],
   "source": [
    "import sys\n",
    "sys.path.append('../')\n",
    "import numpy as np\n",
    "from GroupingAlgorithm import *\n",
    "from HEEM_VQE_Functions import *\n",
    "from utils import Label2Chain, get_backend_conectivity\n",
    "from qiskit import IBMQ\n",
    "from qiskit_nature.drivers import PyQuanteDriver\n",
    "from qiskit_nature.problems.second_quantization.electronic import ElectronicStructureProblem\n",
    "from qiskit_nature.mappers.second_quantization import ParityMapper, JordanWignerMapper, BravyiKitaevMapper\n",
    "from qiskit_nature.converters.second_quantization.qubit_converter import QubitConverter\n",
    "from qiskit_nature.transformers import FreezeCoreTransformer\n",
    "from qiskit.opflow import converters\n",
    "from qiskit.opflow.primitive_ops import Z2Symmetries"
   ]
  },
  {
   "cell_type": "markdown",
   "metadata": {},
   "source": [
    "Obtaing the conectivity of a real quantum hardware."
   ]
  },
  {
   "cell_type": "code",
   "execution_count": 2,
   "metadata": {
    "execution": {
     "iopub.execute_input": "2021-06-03T10:39:55.547344Z",
     "iopub.status.busy": "2021-06-03T10:39:55.547344Z",
     "iopub.status.idle": "2021-06-03T10:40:06.715906Z",
     "shell.execute_reply": "2021-06-03T10:40:06.715906Z",
     "shell.execute_reply.started": "2021-06-03T10:39:55.547344Z"
    }
   },
   "outputs": [],
   "source": [
    "IBMQ.load_account()\n",
    "provider    = IBMQ.get_provider(hub='ibm-q-csic', group='internal', project='iff-csic') # put here your provider\n",
    "backend_exp = provider.get_backend('ibmq_paris') # select a quantum computer\n",
    "WC_exp      = get_backend_conectivity(backend_exp)"
   ]
  },
  {
   "cell_type": "markdown",
   "metadata": {},
   "source": [
    "Groups for different molecules. The grouping strategies considered are: non grouping, TPB, Bell+TPB, 2Q+TPB and HEEM."
   ]
  },
  {
   "cell_type": "code",
   "execution_count": 3,
   "metadata": {
    "execution": {
     "iopub.execute_input": "2021-06-03T10:40:06.717897Z",
     "iopub.status.busy": "2021-06-03T10:40:06.717897Z",
     "iopub.status.idle": "2021-06-03T10:45:42.801926Z",
     "shell.execute_reply": "2021-06-03T10:45:42.801926Z",
     "shell.execute_reply.started": "2021-06-03T10:40:06.717897Z"
    }
   },
   "outputs": [
    {
     "name": "stdout",
     "output_type": "stream",
     "text": [
      "molecule: H .0 .0 .0; H .0 .0 0.761\n",
      "number of qubits: 4\n",
      "number of Paulis: 15\n",
      "number of TPB groups: 5\n",
      "number of Bell groups: 2\n",
      "number of 2Q groups v1: 2\n",
      "number of 2Q groups v2: 2\n",
      "number of HEEM groups : 2\n",
      "----------------------------------------\n",
      "molecule: Li 0.0 0.0 0.0; H 0.0 0.0 1.619\n",
      "number of qubits: 12\n",
      "number of Paulis: 631\n",
      "number of TPB groups: 136\n",
      "number of Bell groups: 39\n",
      "number of 2Q groups v1: 39\n",
      "number of 2Q groups v2: 39\n",
      "number of HEEM groups : 101\n",
      "----------------------------------------\n",
      "molecule: H 0.0 0.0 -1.339; Be 0.0 0.0 0.0; H 0.0 0.0 1.339\n",
      "number of qubits: 14\n",
      "number of Paulis: 666\n",
      "number of TPB groups: 140\n",
      "number of Bell groups: 41\n",
      "number of 2Q groups v1: 41\n",
      "number of 2Q groups v2: 41\n",
      "number of HEEM groups : 126\n",
      "----------------------------------------\n",
      "molecule: O 0.0 0.0 0.0; H 0.757 0.586 0.0; H -0.757 0.586 0.0\n",
      "number of qubits: 14\n",
      "number of Paulis: 1086\n",
      "number of TPB groups: 224\n",
      "number of Bell groups: 58\n",
      "number of 2Q groups v1: 58\n",
      "number of 2Q groups v2: 58\n",
      "number of HEEM groups : 174\n",
      "----------------------------------------\n"
     ]
    }
   ],
   "source": [
    "molecules = [ 'H .0 .0 .0; H .0 .0 0.761'  #0.88\n",
    "             ,\n",
    "             'Li 0.0 0.0 0.0; H 0.0 0.0 1.619'\n",
    "             ,\n",
    "            'H 0.0 0.0 -1.339; Be 0.0 0.0 0.0; H 0.0 0.0 1.339'\n",
    "             ,\n",
    "            'O 0.0 0.0 0.0; H 0.757 0.586 0.0; H -0.757 0.586 0.0'\n",
    "#              ,\n",
    "#              'H 0.0 0.0 0.0; F 0.0 0.0 0.995'\n",
    "#              ,\n",
    "#             'Cl 0.0 0.0 0.0; H 0.0 0.0 1.0' \n",
    "            ]\n",
    "\n",
    "\n",
    "for molecule in molecules :\n",
    "    \n",
    "    print( 'molecule: '+molecule )\n",
    "\n",
    "    driver = PyQuanteDriver(molecule)\n",
    "    qmolecule = driver.run()\n",
    "    problem = ElectronicStructureProblem(driver)\n",
    "\n",
    "    # Generate the second-quantized operators\n",
    "    second_q_ops = problem.second_q_ops()\n",
    "\n",
    "    # Hamiltonian\n",
    "    main_op = second_q_ops[0]\n",
    "\n",
    "    # Setup the mapper and qubit converter\n",
    "    mapper = JordanWignerMapper()\n",
    "\n",
    "    converter = QubitConverter(mapper=mapper)\n",
    "\n",
    "    # The fermionic operators are mapped to qubit operators\n",
    "    num_particles = (problem.molecule_data_transformed.num_alpha,\n",
    "                 problem.molecule_data_transformed.num_beta)\n",
    "    qubit_op   = converter.convert(main_op, num_particles=num_particles)\n",
    "\n",
    "    num_qubits = qubit_op.num_qubits\n",
    "    WC=list(range(num_qubits))\n",
    "    WC=list(permutations(list(range(num_qubits)),2))\n",
    "\n",
    "    print('number of qubits:', num_qubits)\n",
    "\n",
    "    paulis, coeff, labels = Label2Chain(qubit_op)\n",
    "    print( 'number of Paulis:', len(coeff) )\n",
    "    \n",
    "    Color, Groups_tpb, Measurements_tpb = TPBgrouping(paulis)\n",
    "    print( 'number of TPB groups:', len(Groups_tpb) )\n",
    "        \n",
    "    Groups_bell, Measurements_bell = grouping( paulis,[4,3,1,2],WC)\n",
    "    print('number of Bell groups:', len(Groups_bell) )\n",
    "    \n",
    "    Groups_2Q1, Measurements_2Q1 = grouping( paulis,[4,3,2,1,9,8,7,6,5],WC)\n",
    "    print('number of 2Q groups v1:', len(Groups_2Q1) )\n",
    "\n",
    "    Groups_2Q2, Measurements_2Q2 = grouping( paulis,[4,3,2,1,7,6,5,9,8],WC)\n",
    "    print('number of 2Q groups v2:', len(Groups_2Q2) )\n",
    "    \n",
    "    Groups_HEEM, Measurements_HEEM = grouping( paulis,[4,3,1,2],WC_exp)\n",
    "    print('number of HEEM groups :', len(Groups_HEEM) )\n",
    "    \n",
    "    print('----------------------------------------')\n"
   ]
  },
  {
   "cell_type": "code",
   "execution_count": 4,
   "metadata": {
    "execution": {
     "iopub.execute_input": "2021-06-03T10:45:42.803889Z",
     "iopub.status.busy": "2021-06-03T10:45:42.803889Z",
     "iopub.status.idle": "2021-06-03T10:45:57.400452Z",
     "shell.execute_reply": "2021-06-03T10:45:57.399454Z",
     "shell.execute_reply.started": "2021-06-03T10:45:42.803889Z"
    }
   },
   "outputs": [
    {
     "name": "stdout",
     "output_type": "stream",
     "text": [
      "number of qubits: 4\n",
      "number of Paulis: 100\n",
      "number of TPB groups: 25\n",
      "number of Bell groups: 15\n",
      "number of 2Q groups v1: 11\n",
      "number of 2Q groups v2: 11\n",
      "number of HEEM groups : 9\n",
      "----------------------------------------\n"
     ]
    }
   ],
   "source": [
    "molecule = 'Li 0.0 0.0 0.0; H 0.0 0.0 1.619'\n",
    "\n",
    "driver = PyQuanteDriver(molecule)\n",
    "qmolecule = driver.run()\n",
    "\n",
    "freezeCoreTransfomer = FreezeCoreTransformer(freeze_core=True, remove_orbitals=[3, 4])\n",
    "problem = ElectronicStructureProblem(driver, q_molecule_transformers=[freezeCoreTransfomer])\n",
    "\n",
    "# Generate the second-quantized operators\n",
    "second_q_ops = problem.second_q_ops()\n",
    "\n",
    "# Hamiltonian\n",
    "main_op = second_q_ops[0]\n",
    "\n",
    "# Setup the mapper and qubit converter\n",
    "mapper = ParityMapper()\n",
    "\n",
    "converter = QubitConverter(mapper=mapper, two_qubit_reduction=True)\n",
    "\n",
    "# The fermionic operators are mapped to qubit operators\n",
    "num_particles = (problem.molecule_data_transformed.num_alpha,\n",
    "             problem.molecule_data_transformed.num_beta)\n",
    "qubit_op   = converter.convert(main_op, num_particles=num_particles)\n",
    "\n",
    "num_qubits = qubit_op.num_qubits\n",
    "WC=list(range(num_qubits))\n",
    "WC=list(permutations(list(range(num_qubits)),2))\n",
    "\n",
    "print('number of qubits:', num_qubits)\n",
    "\n",
    "paulis, coeff, labels = Label2Chain(qubit_op)\n",
    "print( 'number of Paulis:', len(coeff) )\n",
    "\n",
    "Color, Groups_tpb, Measurements_tpb = TPBgrouping(paulis)\n",
    "print( 'number of TPB groups:', len(Groups_tpb) )\n",
    "\n",
    "Groups_bell, Measurements_bell = grouping( paulis,[4,3,1,2],WC)\n",
    "print('number of Bell groups:', len(Groups_bell) )\n",
    "\n",
    "Groups_2Q1, Measurements_2Q1 = grouping( paulis,[4,9,8,7,6,5,3,2,1],WC)\n",
    "print('number of 2Q groups v1:', len(Groups_2Q1) )\n",
    "\n",
    "Groups_2Q2, Measurements_2Q2 = grouping( paulis,[7,6,5,4,9,8,3,2,1],WC)\n",
    "print('number of 2Q groups v2:', len(Groups_2Q1) )\n",
    "\n",
    "Groups_HEEM, Measurements_HEEM = grouping( paulis,[4,3,2,1],WC_exp)\n",
    "print('number of HEEM groups :', len(Measurements_HEEM) )\n",
    "\n",
    "print('----------------------------------------')\n"
   ]
  },
  {
   "cell_type": "code",
   "execution_count": null,
   "metadata": {},
   "outputs": [],
   "source": []
  }
 ],
 "metadata": {
  "kernelspec": {
   "display_name": "Python 3",
   "language": "python",
   "name": "python3"
  },
  "language_info": {
   "codemirror_mode": {
    "name": "ipython",
    "version": 3
   },
   "file_extension": ".py",
   "mimetype": "text/x-python",
   "name": "python",
   "nbconvert_exporter": "python",
   "pygments_lexer": "ipython3",
   "version": "3.7.7"
  }
 },
 "nbformat": 4,
 "nbformat_minor": 4
}
