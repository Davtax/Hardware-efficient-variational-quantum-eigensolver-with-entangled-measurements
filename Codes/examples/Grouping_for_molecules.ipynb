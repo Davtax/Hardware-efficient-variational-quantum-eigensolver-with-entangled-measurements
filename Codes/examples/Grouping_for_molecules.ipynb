{
 "cells": [
  {
   "cell_type": "code",
   "execution_count": 1,
   "metadata": {
    "tags": []
   },
   "outputs": [],
   "source": [
    "import sys\n",
    "sys.path.append('../')\n",
    "import numpy as np\n",
    "from GroupingAlgorithm_v3 import *\n",
    "from HEEM_VQE_Functions import *\n",
    "from utils import Label2Chain, get_backend_conectivity\n",
    "from qiskit import IBMQ\n",
    "from qiskit_nature.drivers import PyQuanteDriver\n",
    "from qiskit_nature.problems.second_quantization.electronic import ElectronicStructureProblem\n",
    "from qiskit_nature.mappers.second_quantization import ParityMapper, JordanWignerMapper, BravyiKitaevMapper\n",
    "from qiskit_nature.converters.second_quantization.qubit_converter import QubitConverter\n",
    "from qiskit_nature.transformers import FreezeCoreTransformer\n",
    "from qiskit.opflow import converters\n",
    "from qiskit.opflow.primitive_ops import Z2Symmetries\n",
    "from time import time\n",
    "import networkx as nx"
   ]
  },
  {
   "cell_type": "markdown",
   "metadata": {},
   "source": [
    "Obtaing the conectivity of a real quantum hardware."
   ]
  },
  {
   "cell_type": "code",
   "execution_count": 2,
   "metadata": {
    "tags": []
   },
   "outputs": [],
   "source": [
    "IBMQ.load_account()\n",
    "provider    = IBMQ.get_provider(hub='ibm-q-csic', group='internal', project='iff-csic') # put here your provider\n",
    "backend_exp = provider.get_backend('ibmq_toronto') # select a quantum computer\n",
    "WC_exp      = get_backend_conectivity(backend_exp)"
   ]
  },
  {
   "cell_type": "code",
   "execution_count": 3,
   "metadata": {},
   "outputs": [],
   "source": [
    "G_exp=nx.Graph()\n",
    "G_exp.add_nodes_from(range(27))\n",
    "G_exp.add_edges_from(WC_exp)"
   ]
  },
  {
   "cell_type": "markdown",
   "metadata": {},
   "source": [
    "Groups for different molecules. The grouping strategies considered are: non grouping, TPB, Bell+TPB, 2Q+TPB and HEEM."
   ]
  },
  {
   "cell_type": "code",
   "execution_count": 4,
   "metadata": {
    "tags": []
   },
   "outputs": [
    {
     "name": "stdout",
     "output_type": "stream",
     "text": [
      "molecule: H .0 .0 .0; H .0 .0 0.761\n",
      "number of qubits: 4\n",
      "number of Paulis: 15\n",
      "number of TPB groups: 5\n",
      "number of EM groups: 2\n",
      "number of HEEM groups : 2\n",
      "----------------------------------------\n",
      "molecule: Li 0.0 0.0 0.0; H 0.0 0.0 1.619\n"
     ]
    },
    {
     "name": "stderr",
     "output_type": "stream",
     "text": [
      "C:\\Users\\lucia\\AppData\\Local\\Temp/ipykernel_18488/1115234347.py:21: DeprecationWarning: The PyQuanteDriver class is deprecated as of version 0.2.0 and will be removed no sooner than 3 months after the release. Instead use the PyQuanteDriver class from qiskit_nature.drivers.second_quantization.pyquanted.\n",
      "  driver = PyQuanteDriver(atoms=molecule)\n",
      "C:\\Users\\lucia\\miniconda3\\lib\\site-packages\\qiskit_nature\\drivers\\pyquanted\\pyquantedriver.py:93: DeprecationWarning: The HFMethodType enum is deprecated as of version 0.2.0 and will be removed no sooner than 3 months after the release. Instead use the HFMethodType enum from qiskit_nature.drivers.second_quantization.\n",
      "  hf_method = HFMethodType.RHF\n",
      "C:\\Users\\lucia\\miniconda3\\lib\\site-packages\\qiskit_nature\\drivers\\pyquanted\\pyquantedriver.py:99: DeprecationWarning: The BaseDriver class is deprecated as of version 0.2.0 and will be removed no sooner than 3 months after the release. Instead use the BaseDriver class from qiskit_nature.drivers.second_quantization.\n",
      "  super().__init__(\n",
      "C:\\Users\\lucia\\miniconda3\\lib\\site-packages\\qiskit_nature\\drivers\\pyquanted\\pyquantedriver.py:99: DeprecationWarning: The FermionicDriver class is deprecated as of version 0.2.0 and will be removed no sooner than 3 months after the release. Instead use the ElectronicStructureDriver class from qiskit_nature.drivers.second_quantization.\n",
      "  super().__init__(\n",
      "C:\\Users\\lucia\\miniconda3\\lib\\site-packages\\qiskit_nature\\drivers\\pyquanted\\integrals.py:119: DeprecationWarning: The QMolecule class is deprecated as of version 0.2.0 and will be removed no sooner than 3 months after the release Instead look towards the qiskit_nature.properties.second_quantization.electronic module. The new return object for drivers is the ElectronicStructureDriverResult which you can construct from a QMolecule via the `from_legacy_driver_result()` method..\n",
      "  _q_ = QMolecule()\n"
     ]
    },
    {
     "name": "stdout",
     "output_type": "stream",
     "text": [
      "number of qubits: 12\n",
      "number of Paulis: 631\n",
      "number of TPB groups: 136\n",
      "number of EM groups: 43\n",
      "number of HEEM groups : 105\n",
      "----------------------------------------\n",
      "molecule: H 0.0 0.0 -1.339; Be 0.0 0.0 0.0; H 0.0 0.0 1.339\n",
      "number of qubits: 14\n",
      "number of Paulis: 666\n",
      "number of TPB groups: 140\n",
      "number of EM groups: 46\n",
      "number of HEEM groups : 106\n",
      "----------------------------------------\n",
      "molecule: O 0.0 0.0 0.0; H 0.757 0.586 0.0; H -0.757 0.586 0.0\n",
      "number of qubits: 14\n",
      "number of Paulis: 1086\n",
      "number of TPB groups: 224\n",
      "number of EM groups: 59\n",
      "number of HEEM groups : 183\n",
      "----------------------------------------\n",
      "molecule: H 0.0 0.0 0.0; F 0.0 0.0 0.995\n",
      "number of qubits: 12\n",
      "number of Paulis: 631\n",
      "number of TPB groups: 136\n",
      "number of EM groups: 43\n",
      "number of HEEM groups : 105\n",
      "----------------------------------------\n",
      "molecule: Cl 0.0 0.0 0.0; H 0.0 0.0 1.0\n",
      "number of qubits: 20\n",
      "number of Paulis: 5851\n",
      "number of TPB groups: 1320\n",
      "number of EM groups: 214\n",
      "number of HEEM groups : 867\n",
      "----------------------------------------\n",
      "1072.814656496048\n"
     ]
    }
   ],
   "source": [
    "t1 = time()\n",
    "\n",
    "molecules = ['H .0 .0 .0; H .0 .0 0.761'  #0.88\n",
    "             ,\n",
    "             'Li 0.0 0.0 0.0; H 0.0 0.0 1.619'\n",
    "             ,\n",
    "            'H 0.0 0.0 -1.339; Be 0.0 0.0 0.0; H 0.0 0.0 1.339'\n",
    "             ,\n",
    "            'O 0.0 0.0 0.0; H 0.757 0.586 0.0; H -0.757 0.586 0.0'\n",
    "             ,\n",
    "             'H 0.0 0.0 0.0; F 0.0 0.0 0.995'\n",
    "             ,\n",
    "            'Cl 0.0 0.0 0.0; H 0.0 0.0 1.0' \n",
    "            ]\n",
    "\n",
    "\n",
    "for molecule in molecules :\n",
    "    \n",
    "    print( 'molecule: '+molecule )\n",
    "\n",
    "    driver = PyQuanteDriver(atoms=molecule)\n",
    "    qmolecule = driver.run()\n",
    "    problem = ElectronicStructureProblem(driver)\n",
    "\n",
    "    # Generate the second-quantized operators\n",
    "    second_q_ops = problem.second_q_ops()\n",
    "\n",
    "    # Hamiltonian\n",
    "    main_op = second_q_ops[0]\n",
    "\n",
    "    # Setup the mapper and qubit converter\n",
    "    mapper = JordanWignerMapper()\n",
    "\n",
    "    converter = QubitConverter(mapper=mapper)\n",
    "\n",
    "    # The fermionic operators are mapped to qubit operators\n",
    "    num_particles = (problem.grouped_property_transformed.get_property(\"ParticleNumber\").num_alpha,\n",
    "                     problem.grouped_property_transformed.get_property(\"ParticleNumber\").num_beta)\n",
    "    qubit_op   = converter.convert(main_op, num_particles=num_particles)\n",
    "    \n",
    "    num_qubits = qubit_op.num_qubits\n",
    "    WC = list(range(num_qubits))\n",
    "    WC = list(permutations(list(range(num_qubits)),2))\n",
    "    G=nx.Graph()\n",
    "    G.add_nodes_from(range(num_qubits))\n",
    "    G.add_edges_from(WC)\n",
    "    \n",
    "    print('number of qubits:', num_qubits)\n",
    "\n",
    "    paulis, coeff, labels = Label2Chain(qubit_op)\n",
    "    print( 'number of Paulis:', len(coeff) )\n",
    "    \n",
    "    Color, Groups_tpb, Measurements_tpb = TPBgrouping(paulis)\n",
    "    print( 'number of TPB groups:', len(Groups_tpb) )\n",
    "    \n",
    "    Groups_bell, Measurements_bell, T = groupingWithOrder( paulis, G )\n",
    "    print('number of EM groups:', len(Groups_bell) )\n",
    "\n",
    "    Groups_HEEM, Measurements_HEEM,T = groupingWithOrder( paulis, G_exp )\n",
    "    print('number of HEEM groups :', len(Measurements_HEEM) )\n",
    "    \n",
    "    print('----------------------------------------')\n",
    "    \n",
    "t2 = time()\n",
    "print(t2-t1)"
   ]
  },
  {
   "cell_type": "code",
   "execution_count": 5,
   "metadata": {},
   "outputs": [],
   "source": [
    "# v1\n",
    "# molecule: H .0 .0 .0; H .0 .0 0.761\n",
    "# number of qubits: 4\n",
    "# number of Paulis: 15\n",
    "# number of TPB groups: 5\n",
    "# number of Bell groups: 2\n",
    "# number of 2Q groups v1: 2\n",
    "# number of 2Q groups v2: 2\n",
    "# number of HEEM groups : 2\n",
    "# ----------------------------------------\n",
    "# molecule: Li 0.0 0.0 0.0; H 0.0 0.0 1.619\n",
    "# number of qubits: 12\n",
    "# number of Paulis: 631\n",
    "# number of TPB groups: 136\n",
    "# number of Bell groups: 39\n",
    "# number of 2Q groups v1: 39\n",
    "# number of 2Q groups v2: 39\n",
    "# number of HEEM groups : 101\n",
    "# ----------------------------------------\n",
    "# molecule: H 0.0 0.0 -1.339; Be 0.0 0.0 0.0; H 0.0 0.0 1.339\n",
    "# number of qubits: 14\n",
    "# number of Paulis: 666\n",
    "# number of TPB groups: 140\n",
    "# number of Bell groups: 41\n",
    "# number of 2Q groups v1: 41\n",
    "# number of 2Q groups v2: 41\n",
    "# number of HEEM groups : 126\n",
    "# ----------------------------------------\n",
    "# molecule: O 0.0 0.0 0.0; H 0.757 0.586 0.0; H -0.757 0.586 0.0\n",
    "# number of qubits: 14\n",
    "# number of Paulis: 1086\n",
    "# number of TPB groups: 224\n",
    "# number of Bell groups: 58\n",
    "# number of 2Q groups v1: 58\n",
    "# number of 2Q groups v2: 58\n",
    "# number of HEEM groups : 174\n",
    "# ----------------------------------------\n",
    "# 349.39394330978394\n",
    "\n",
    "# v2\n",
    "# molecule: H .0 .0 .0; H .0 .0 0.761\n",
    "# number of qubits: 4\n",
    "# number of Paulis: 15\n",
    "# number of TPB groups: 5\n",
    "# number of Bell groups: 2\n",
    "# number of 2Q groups v1: 2\n",
    "# number of 2Q groups v2: 2\n",
    "# number of HEEM groups : 2\n",
    "# ----------------------------------------\n",
    "# molecule: Li 0.0 0.0 0.0; H 0.0 0.0 1.619\n",
    "# number of qubits: 12\n",
    "# number of Paulis: 631\n",
    "# number of TPB groups: 136\n",
    "# number of Bell groups: 39\n",
    "# number of 2Q groups v1: 39\n",
    "# number of 2Q groups v2: 39\n",
    "# number of HEEM groups : 101\n",
    "# ----------------------------------------\n",
    "# molecule: H 0.0 0.0 -1.339; Be 0.0 0.0 0.0; H 0.0 0.0 1.339\n",
    "# number of qubits: 14\n",
    "# number of Paulis: 666\n",
    "# number of TPB groups: 140\n",
    "# number of Bell groups: 41\n",
    "# number of 2Q groups v1: 41\n",
    "# number of 2Q groups v2: 41\n",
    "# number of HEEM groups : 126\n",
    "# ----------------------------------------\n",
    "# molecule: O 0.0 0.0 0.0; H 0.757 0.586 0.0; H -0.757 0.586 0.0\n",
    "# number of qubits: 14\n",
    "# number of Paulis: 1086\n",
    "# number of TPB groups: 224\n",
    "# number of Bell groups: 58\n",
    "# number of 2Q groups v1: 58\n",
    "# number of 2Q groups v2: 58\n",
    "# number of HEEM groups : 174\n",
    "# ----------------------------------------\n",
    "# 248.50871014595032"
   ]
  },
  {
   "cell_type": "code",
   "execution_count": 6,
   "metadata": {
    "tags": []
   },
   "outputs": [
    {
     "name": "stderr",
     "output_type": "stream",
     "text": [
      "C:\\Users\\lucia\\miniconda3\\lib\\site-packages\\qiskit\\aqua\\__init__.py:86: DeprecationWarning: The package qiskit.aqua is deprecated. It was moved/refactored to qiskit-terra For more information see <https://github.com/Qiskit/qiskit-aqua/blob/main/README.md#migration-guide>\n",
      "  warn_package('aqua', 'qiskit-terra')\n"
     ]
    },
    {
     "data": {
      "text/html": [
       "<h3>Version Information</h3><table><tr><th>Qiskit Software</th><th>Version</th></tr><tr><td><code>qiskit-terra</code></td><td>0.18.3</td></tr><tr><td><code>qiskit-aer</code></td><td>0.9.0</td></tr><tr><td><code>qiskit-ignis</code></td><td>0.6.0</td></tr><tr><td><code>qiskit-ibmq-provider</code></td><td>0.16.0</td></tr><tr><td><code>qiskit-aqua</code></td><td>0.9.5</td></tr><tr><td><code>qiskit</code></td><td>0.30.1</td></tr><tr><td><code>qiskit-nature</code></td><td>0.2.1</td></tr><tr><th>System information</th></tr><tr><td>Python</td><td>3.9.5 (default, May 18 2021, 14:42:02) [MSC v.1916 64 bit (AMD64)]</td></tr><tr><td>OS</td><td>Windows</td></tr><tr><td>CPUs</td><td>8</td></tr><tr><td>Memory (Gb)</td><td>15.363838195800781</td></tr><tr><td colspan='2'>Wed Oct 13 23:04:35 2021 Hora de verano romance</td></tr></table>"
      ],
      "text/plain": [
       "<IPython.core.display.HTML object>"
      ]
     },
     "metadata": {},
     "output_type": "display_data"
    }
   ],
   "source": [
    "import qiskit.tools.jupyter\n",
    "%qiskit_version_table"
   ]
  },
  {
   "cell_type": "code",
   "execution_count": null,
   "metadata": {},
   "outputs": [],
   "source": []
  },
  {
   "cell_type": "code",
   "execution_count": null,
   "metadata": {},
   "outputs": [],
   "source": []
  },
  {
   "cell_type": "code",
   "execution_count": null,
   "metadata": {},
   "outputs": [],
   "source": []
  }
 ],
 "metadata": {
  "kernelspec": {
   "display_name": "Python 3 (ipykernel)",
   "language": "python",
   "name": "python3"
  },
  "language_info": {
   "codemirror_mode": {
    "name": "ipython",
    "version": 3
   },
   "file_extension": ".py",
   "mimetype": "text/x-python",
   "name": "python",
   "nbconvert_exporter": "python",
   "pygments_lexer": "ipython3",
   "version": "3.9.5"
  }
 },
 "nbformat": 4,
 "nbformat_minor": 4
}
