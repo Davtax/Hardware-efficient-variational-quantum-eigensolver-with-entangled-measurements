{
 "cells": [
  {
   "cell_type": "code",
   "execution_count": 1,
   "metadata": {
    "tags": []
   },
   "outputs": [],
   "source": [
    "import sys\n",
    "sys.path.append('../')\n",
    "import numpy as np\n",
    "from GroupingAlgorithm import *\n",
    "from HEEM_VQE_Functions import *\n",
    "from utils import Label2Chain, get_backend_conectivity\n",
    "from qiskit import IBMQ\n",
    "from qiskit.test.mock import FakeParis\n",
    "from qiskit_nature.drivers import PyQuanteDriver\n",
    "from qiskit_nature.problems.second_quantization.electronic import ElectronicStructureProblem\n",
    "from qiskit_nature.mappers.second_quantization import ParityMapper, JordanWignerMapper, BravyiKitaevMapper\n",
    "from qiskit_nature.converters.second_quantization.qubit_converter import QubitConverter\n",
    "from qiskit_nature.transformers import FreezeCoreTransformer\n",
    "from qiskit.opflow import converters\n",
    "from qiskit.opflow.primitive_ops import Z2Symmetries\n",
    "from time import time"
   ]
  },
  {
   "cell_type": "markdown",
   "metadata": {},
   "source": [
    "Obtaing the conectivity of a real quantum hardware."
   ]
  },
  {
   "cell_type": "code",
   "execution_count": 2,
   "metadata": {
    "tags": []
   },
   "outputs": [],
   "source": [
    "IBMQ.load_account()\n",
    "provider    = IBMQ.get_provider(hub='ibm-q-csic', group='internal', project='iff-csic') # put here your provider\n",
    "# backend_exp = provider.get_backend('ibmq_toronto') # select a quantum computer\n",
    "backend_exp = FakeParis() # select a quantum computer\n",
    "WC_exp      = get_backend_conectivity(backend_exp)"
   ]
  },
  {
   "cell_type": "code",
   "execution_count": 3,
   "metadata": {},
   "outputs": [],
   "source": [
    "mc = 10"
   ]
  },
  {
   "cell_type": "markdown",
   "metadata": {},
   "source": [
    "Groups for different molecules using \"grouping_shuffle\". The grouping strategies considered are: non grouping, TPB, Bell+TPB, 2Q+TPB and HEEM."
   ]
  },
  {
   "cell_type": "code",
   "execution_count": 4,
   "metadata": {
    "tags": []
   },
   "outputs": [
    {
     "name": "stdout",
     "output_type": "stream",
     "text": [
      "molecule: H .0 .0 .0; H .0 .0 0.761\n",
      "number of qubits: 4\n",
      "number of Paulis: 15\n",
      "number of TPB groups: 5\n"
     ]
    },
    {
     "name": "stderr",
     "output_type": "stream",
     "text": [
      "C:\\Users\\lucia\\AppData\\Local\\Temp/ipykernel_19556/3596419538.py:21: DeprecationWarning: The PyQuanteDriver class is deprecated as of version 0.2.0 and will be removed no sooner than 3 months after the release. Instead use the PyQuanteDriver class from qiskit_nature.drivers.second_quantization.pyquanted.\n",
      "  driver = PyQuanteDriver(atoms=molecule)\n",
      "C:\\Users\\lucia\\miniconda3\\lib\\site-packages\\qiskit_nature\\drivers\\pyquanted\\pyquantedriver.py:93: DeprecationWarning: The HFMethodType enum is deprecated as of version 0.2.0 and will be removed no sooner than 3 months after the release. Instead use the HFMethodType enum from qiskit_nature.drivers.second_quantization.\n",
      "  hf_method = HFMethodType.RHF\n",
      "C:\\Users\\lucia\\miniconda3\\lib\\site-packages\\qiskit_nature\\drivers\\pyquanted\\pyquantedriver.py:99: DeprecationWarning: The BaseDriver class is deprecated as of version 0.2.0 and will be removed no sooner than 3 months after the release. Instead use the BaseDriver class from qiskit_nature.drivers.second_quantization.\n",
      "  super().__init__(\n",
      "C:\\Users\\lucia\\miniconda3\\lib\\site-packages\\qiskit_nature\\drivers\\pyquanted\\pyquantedriver.py:99: DeprecationWarning: The FermionicDriver class is deprecated as of version 0.2.0 and will be removed no sooner than 3 months after the release. Instead use the ElectronicStructureDriver class from qiskit_nature.drivers.second_quantization.\n",
      "  super().__init__(\n",
      "C:\\Users\\lucia\\miniconda3\\lib\\site-packages\\qiskit_nature\\drivers\\pyquanted\\integrals.py:119: DeprecationWarning: The QMolecule class is deprecated as of version 0.2.0 and will be removed no sooner than 3 months after the release Instead look towards the qiskit_nature.properties.second_quantization.electronic module. The new return object for drivers is the ElectronicStructureDriverResult which you can construct from a QMolecule via the `from_legacy_driver_result()` method..\n",
      "  _q_ = QMolecule()\n"
     ]
    },
    {
     "data": {
      "application/vnd.jupyter.widget-view+json": {
       "model_id": "e7219866491e406d96a59b8ea4a37886",
       "version_major": 2,
       "version_minor": 0
      },
      "text/plain": [
       "Computing optimal order:   0%|          | 0/10 [00:00<?, ?it/s]"
      ]
     },
     "metadata": {},
     "output_type": "display_data"
    },
    {
     "name": "stdout",
     "output_type": "stream",
     "text": [
      "The original order gives 2 groups\n",
      "The best order found gives 2 groups\n",
      "number of Bell groups: 2\n"
     ]
    },
    {
     "data": {
      "application/vnd.jupyter.widget-view+json": {
       "model_id": "a1a48b816b2744c08f2091778ced9b14",
       "version_major": 2,
       "version_minor": 0
      },
      "text/plain": [
       "Computing optimal order:   0%|          | 0/10 [00:00<?, ?it/s]"
      ]
     },
     "metadata": {},
     "output_type": "display_data"
    },
    {
     "name": "stdout",
     "output_type": "stream",
     "text": [
      "The original order gives 2 groups\n",
      "The best order found gives 2 groups\n",
      "number of 2Q groups v1: 2\n"
     ]
    },
    {
     "data": {
      "application/vnd.jupyter.widget-view+json": {
       "model_id": "fd665284a8314e0681cf5f9cfe560839",
       "version_major": 2,
       "version_minor": 0
      },
      "text/plain": [
       "Computing optimal order:   0%|          | 0/10 [00:00<?, ?it/s]"
      ]
     },
     "metadata": {},
     "output_type": "display_data"
    },
    {
     "name": "stdout",
     "output_type": "stream",
     "text": [
      "The original order gives 2 groups\n",
      "The best order found gives 2 groups\n",
      "number of 2Q groups v2: 2\n"
     ]
    },
    {
     "data": {
      "application/vnd.jupyter.widget-view+json": {
       "model_id": "db85a64d5ded4b4e961798ce2697ddd6",
       "version_major": 2,
       "version_minor": 0
      },
      "text/plain": [
       "Computing optimal order:   0%|          | 0/10 [00:00<?, ?it/s]"
      ]
     },
     "metadata": {},
     "output_type": "display_data"
    },
    {
     "name": "stdout",
     "output_type": "stream",
     "text": [
      "The original order gives 2 groups\n",
      "The best order found gives 2 groups\n",
      "number of HEEM groups : 2\n",
      "----------------------------------------\n",
      "molecule: Li 0.0 0.0 0.0; H 0.0 0.0 1.619\n",
      "number of qubits: 12\n",
      "number of Paulis: 631\n",
      "number of TPB groups: 136\n"
     ]
    },
    {
     "data": {
      "application/vnd.jupyter.widget-view+json": {
       "model_id": "7962bbdd959b47a989916bb18bf8a098",
       "version_major": 2,
       "version_minor": 0
      },
      "text/plain": [
       "Computing optimal order:   0%|          | 0/10 [00:00<?, ?it/s]"
      ]
     },
     "metadata": {},
     "output_type": "display_data"
    },
    {
     "name": "stdout",
     "output_type": "stream",
     "text": [
      "The original order gives 39 groups\n",
      "The best order found gives 38 groups\n",
      "number of Bell groups: 38\n"
     ]
    },
    {
     "data": {
      "application/vnd.jupyter.widget-view+json": {
       "model_id": "b89f93791ad94cffb45c8343c41f6906",
       "version_major": 2,
       "version_minor": 0
      },
      "text/plain": [
       "Computing optimal order:   0%|          | 0/10 [00:00<?, ?it/s]"
      ]
     },
     "metadata": {},
     "output_type": "display_data"
    },
    {
     "name": "stdout",
     "output_type": "stream",
     "text": [
      "The original order gives 39 groups\n",
      "The best order found gives 39 groups\n",
      "number of 2Q groups v1: 39\n"
     ]
    },
    {
     "data": {
      "application/vnd.jupyter.widget-view+json": {
       "model_id": "6f02e5c6e3bf407590163d286232184a",
       "version_major": 2,
       "version_minor": 0
      },
      "text/plain": [
       "Computing optimal order:   0%|          | 0/10 [00:00<?, ?it/s]"
      ]
     },
     "metadata": {},
     "output_type": "display_data"
    },
    {
     "name": "stdout",
     "output_type": "stream",
     "text": [
      "The original order gives 64 groups\n",
      "The best order found gives 64 groups\n",
      "number of 2Q groups v2: 64\n"
     ]
    },
    {
     "data": {
      "application/vnd.jupyter.widget-view+json": {
       "model_id": "ef6447cc5d6e4a36a75786ae068b076e",
       "version_major": 2,
       "version_minor": 0
      },
      "text/plain": [
       "Computing optimal order:   0%|          | 0/10 [00:00<?, ?it/s]"
      ]
     },
     "metadata": {},
     "output_type": "display_data"
    },
    {
     "name": "stdout",
     "output_type": "stream",
     "text": [
      "The original order gives 101 groups\n",
      "The best order found gives 99 groups\n",
      "number of HEEM groups : 99\n",
      "----------------------------------------\n",
      "molecule: H 0.0 0.0 -1.339; Be 0.0 0.0 0.0; H 0.0 0.0 1.339\n",
      "number of qubits: 14\n",
      "number of Paulis: 666\n",
      "number of TPB groups: 140\n"
     ]
    },
    {
     "data": {
      "application/vnd.jupyter.widget-view+json": {
       "model_id": "93e62be51789484f929cc8d89317fc68",
       "version_major": 2,
       "version_minor": 0
      },
      "text/plain": [
       "Computing optimal order:   0%|          | 0/10 [00:00<?, ?it/s]"
      ]
     },
     "metadata": {},
     "output_type": "display_data"
    },
    {
     "name": "stdout",
     "output_type": "stream",
     "text": [
      "The original order gives 41 groups\n",
      "The best order found gives 37 groups\n",
      "number of Bell groups: 37\n"
     ]
    },
    {
     "data": {
      "application/vnd.jupyter.widget-view+json": {
       "model_id": "c04d32d073394d15a1bb73e7f1450364",
       "version_major": 2,
       "version_minor": 0
      },
      "text/plain": [
       "Computing optimal order:   0%|          | 0/10 [00:00<?, ?it/s]"
      ]
     },
     "metadata": {},
     "output_type": "display_data"
    },
    {
     "name": "stdout",
     "output_type": "stream",
     "text": [
      "The original order gives 41 groups\n",
      "The best order found gives 41 groups\n",
      "number of 2Q groups v1: 41\n"
     ]
    },
    {
     "data": {
      "application/vnd.jupyter.widget-view+json": {
       "model_id": "0e2a2a94b5d1459e909f391148e4aa54",
       "version_major": 2,
       "version_minor": 0
      },
      "text/plain": [
       "Computing optimal order:   0%|          | 0/10 [00:00<?, ?it/s]"
      ]
     },
     "metadata": {},
     "output_type": "display_data"
    },
    {
     "name": "stdout",
     "output_type": "stream",
     "text": [
      "The original order gives 71 groups\n",
      "The best order found gives 70 groups\n",
      "number of 2Q groups v2: 70\n"
     ]
    },
    {
     "data": {
      "application/vnd.jupyter.widget-view+json": {
       "model_id": "f4355e91fc1e4f0ebcad5d112318e314",
       "version_major": 2,
       "version_minor": 0
      },
      "text/plain": [
       "Computing optimal order:   0%|          | 0/10 [00:00<?, ?it/s]"
      ]
     },
     "metadata": {},
     "output_type": "display_data"
    },
    {
     "name": "stdout",
     "output_type": "stream",
     "text": [
      "The original order gives 126 groups\n",
      "The best order found gives 124 groups\n",
      "number of HEEM groups : 124\n",
      "----------------------------------------\n",
      "molecule: O 0.0 0.0 0.0; H 0.757 0.586 0.0; H -0.757 0.586 0.0\n",
      "number of qubits: 14\n",
      "number of Paulis: 1086\n",
      "number of TPB groups: 224\n"
     ]
    },
    {
     "data": {
      "application/vnd.jupyter.widget-view+json": {
       "model_id": "38d965d0f9b84c558cf764b44ad834d7",
       "version_major": 2,
       "version_minor": 0
      },
      "text/plain": [
       "Computing optimal order:   0%|          | 0/10 [00:00<?, ?it/s]"
      ]
     },
     "metadata": {},
     "output_type": "display_data"
    },
    {
     "name": "stdout",
     "output_type": "stream",
     "text": [
      "The original order gives 58 groups\n",
      "The best order found gives 55 groups\n",
      "number of Bell groups: 55\n"
     ]
    },
    {
     "data": {
      "application/vnd.jupyter.widget-view+json": {
       "model_id": "e6f0d62b30c443159bf0a2d3709ff96d",
       "version_major": 2,
       "version_minor": 0
      },
      "text/plain": [
       "Computing optimal order:   0%|          | 0/10 [00:00<?, ?it/s]"
      ]
     },
     "metadata": {},
     "output_type": "display_data"
    },
    {
     "name": "stdout",
     "output_type": "stream",
     "text": [
      "The original order gives 58 groups\n",
      "The best order found gives 58 groups\n",
      "number of 2Q groups v1: 58\n"
     ]
    },
    {
     "data": {
      "application/vnd.jupyter.widget-view+json": {
       "model_id": "916972492d8640918ed547ebb6f2208a",
       "version_major": 2,
       "version_minor": 0
      },
      "text/plain": [
       "Computing optimal order:   0%|          | 0/10 [00:00<?, ?it/s]"
      ]
     },
     "metadata": {},
     "output_type": "display_data"
    },
    {
     "name": "stdout",
     "output_type": "stream",
     "text": [
      "The original order gives 97 groups\n",
      "The best order found gives 97 groups\n",
      "number of 2Q groups v2: 97\n"
     ]
    },
    {
     "data": {
      "application/vnd.jupyter.widget-view+json": {
       "model_id": "55add3eb560b423280996f6310ef5ad6",
       "version_major": 2,
       "version_minor": 0
      },
      "text/plain": [
       "Computing optimal order:   0%|          | 0/10 [00:00<?, ?it/s]"
      ]
     },
     "metadata": {},
     "output_type": "display_data"
    },
    {
     "name": "stdout",
     "output_type": "stream",
     "text": [
      "The original order gives 174 groups\n",
      "The best order found gives 170 groups\n",
      "number of HEEM groups : 170\n",
      "----------------------------------------\n",
      "446.8130204677582\n"
     ]
    }
   ],
   "source": [
    "t1 = time()\n",
    "\n",
    "molecules = ['H .0 .0 .0; H .0 .0 0.761'  #0.88\n",
    "             ,\n",
    "             'Li 0.0 0.0 0.0; H 0.0 0.0 1.619'\n",
    "             ,\n",
    "            'H 0.0 0.0 -1.339; Be 0.0 0.0 0.0; H 0.0 0.0 1.339'\n",
    "             ,\n",
    "            'O 0.0 0.0 0.0; H 0.757 0.586 0.0; H -0.757 0.586 0.0'\n",
    "#              ,\n",
    "#              'H 0.0 0.0 0.0; F 0.0 0.0 0.995'\n",
    "#              ,\n",
    "#             'Cl 0.0 0.0 0.0; H 0.0 0.0 1.0' \n",
    "            ]\n",
    "\n",
    "\n",
    "for molecule in molecules :\n",
    "    \n",
    "    print( 'molecule: '+molecule )\n",
    "\n",
    "    driver = PyQuanteDriver(atoms=molecule)\n",
    "    qmolecule = driver.run()\n",
    "    problem = ElectronicStructureProblem(driver)\n",
    "\n",
    "    # Generate the second-quantized operators\n",
    "    second_q_ops = problem.second_q_ops()\n",
    "\n",
    "    # Hamiltonian\n",
    "    main_op = second_q_ops[0]\n",
    "\n",
    "    # Setup the mapper and qubit converter\n",
    "    mapper = JordanWignerMapper()\n",
    "\n",
    "    converter = QubitConverter(mapper=mapper)\n",
    "\n",
    "    # The fermionic operators are mapped to qubit operators\n",
    "    num_particles = (problem.grouped_property_transformed.get_property(\"ParticleNumber\").num_alpha,\n",
    "                     problem.grouped_property_transformed.get_property(\"ParticleNumber\").num_beta)\n",
    "    qubit_op   = converter.convert(main_op, num_particles=num_particles)\n",
    "    \n",
    "    num_qubits = qubit_op.num_qubits\n",
    "    WC = list(range(num_qubits))\n",
    "    WC = list(permutations(list(range(num_qubits)),2))\n",
    "\n",
    "    print('number of qubits:', num_qubits)\n",
    "\n",
    "    paulis, coeff, labels = Label2Chain(qubit_op)\n",
    "    print( 'number of Paulis:', len(coeff) )\n",
    "    \n",
    "    Color, Groups_tpb, Measurements_tpb = TPBgrouping(paulis)\n",
    "    print( 'number of TPB groups:', len(Groups_tpb) )\n",
    "    \n",
    "    Groups_bell, Measurements_bell = grouping_shuffle( qubit_op, [4,3,1,2], WC, mc )\n",
    "    print('number of Bell groups:', len(Groups_bell) )\n",
    "\n",
    "    Groups_2Q1, Measurements_2Q1 = grouping_shuffle( qubit_op, [4,9,8,7,6,5,3,2,1], WC, mc )\n",
    "    print('number of 2Q groups v1:', len(Groups_2Q1) )\n",
    "\n",
    "    Groups_2Q2, Measurements_2Q2 = grouping_shuffle( qubit_op, [7,6,5,4,9,8,3,2,1], WC, mc )\n",
    "    print('number of 2Q groups v2:', len(Groups_2Q2) )\n",
    "\n",
    "    Groups_HEEM, Measurements_HEEM = grouping_shuffle( qubit_op, [4,3,2,1], WC_exp, mc )\n",
    "    print('number of HEEM groups :', len(Measurements_HEEM) )\n",
    "    \n",
    "    print('----------------------------------------')\n",
    "    \n",
    "t2 = time()\n",
    "print(t2-t1)"
   ]
  },
  {
   "cell_type": "code",
   "execution_count": 5,
   "metadata": {
    "tags": []
   },
   "outputs": [
    {
     "name": "stderr",
     "output_type": "stream",
     "text": [
      "C:\\Users\\lucia\\miniconda3\\lib\\site-packages\\qiskit\\aqua\\__init__.py:86: DeprecationWarning: The package qiskit.aqua is deprecated. It was moved/refactored to qiskit-terra For more information see <https://github.com/Qiskit/qiskit-aqua/blob/main/README.md#migration-guide>\n",
      "  warn_package('aqua', 'qiskit-terra')\n"
     ]
    },
    {
     "data": {
      "text/html": [
       "<h3>Version Information</h3><table><tr><th>Qiskit Software</th><th>Version</th></tr><tr><td><code>qiskit-terra</code></td><td>0.18.1</td></tr><tr><td><code>qiskit-aer</code></td><td>0.8.2</td></tr><tr><td><code>qiskit-ignis</code></td><td>0.6.0</td></tr><tr><td><code>qiskit-ibmq-provider</code></td><td>0.16.0</td></tr><tr><td><code>qiskit-aqua</code></td><td>0.9.4</td></tr><tr><td><code>qiskit</code></td><td>0.29.0</td></tr><tr><td><code>qiskit-nature</code></td><td>0.2.0</td></tr><tr><th>System information</th></tr><tr><td>Python</td><td>3.9.5 (default, May 18 2021, 14:42:02) [MSC v.1916 64 bit (AMD64)]</td></tr><tr><td>OS</td><td>Windows</td></tr><tr><td>CPUs</td><td>8</td></tr><tr><td>Memory (Gb)</td><td>15.363838195800781</td></tr><tr><td colspan='2'>Mon Sep 13 13:44:35 2021 Hora de verano romance</td></tr></table>"
      ],
      "text/plain": [
       "<IPython.core.display.HTML object>"
      ]
     },
     "metadata": {},
     "output_type": "display_data"
    }
   ],
   "source": [
    "import qiskit.tools.jupyter\n",
    "%qiskit_version_table"
   ]
  },
  {
   "cell_type": "code",
   "execution_count": null,
   "metadata": {},
   "outputs": [],
   "source": []
  },
  {
   "cell_type": "code",
   "execution_count": null,
   "metadata": {},
   "outputs": [],
   "source": []
  },
  {
   "cell_type": "code",
   "execution_count": null,
   "metadata": {},
   "outputs": [],
   "source": []
  }
 ],
 "metadata": {
  "kernelspec": {
   "display_name": "Python 3 (ipykernel)",
   "language": "python",
   "name": "python3"
  },
  "language_info": {
   "codemirror_mode": {
    "name": "ipython",
    "version": 3
   },
   "file_extension": ".py",
   "mimetype": "text/x-python",
   "name": "python",
   "nbconvert_exporter": "python",
   "pygments_lexer": "ipython3",
   "version": "3.9.5"
  }
 },
 "nbformat": 4,
 "nbformat_minor": 4
}
