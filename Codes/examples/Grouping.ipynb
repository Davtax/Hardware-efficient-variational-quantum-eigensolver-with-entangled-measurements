{
 "cells": [
  {
   "cell_type": "code",
   "execution_count": 1,
   "id": "e02e4904-5c39-4edf-9937-1262de9de49a",
   "metadata": {
    "execution": {
     "iopub.execute_input": "2022-02-09T08:40:40.354642Z",
     "iopub.status.busy": "2022-02-09T08:40:40.354642Z",
     "iopub.status.idle": "2022-02-09T08:40:42.348240Z",
     "shell.execute_reply": "2022-02-09T08:40:42.348240Z",
     "shell.execute_reply.started": "2022-02-09T08:40:40.354642Z"
    },
    "tags": []
   },
   "outputs": [],
   "source": [
    "import sys\n",
    "sys.path.append('../')\n",
    "\n",
    "%load_ext autoreload\n",
    "%autoreload 1\n",
    "%aimport utils, GroupingAlgorithm"
   ]
  },
  {
   "cell_type": "code",
   "execution_count": 2,
   "id": "87b4d322-75c5-4080-a889-c7a2fa2cd643",
   "metadata": {
    "execution": {
     "iopub.execute_input": "2022-02-09T08:40:42.349243Z",
     "iopub.status.busy": "2022-02-09T08:40:42.349243Z",
     "iopub.status.idle": "2022-02-09T08:40:42.364241Z",
     "shell.execute_reply": "2022-02-09T08:40:42.364241Z",
     "shell.execute_reply.started": "2022-02-09T08:40:42.349243Z"
    },
    "tags": []
   },
   "outputs": [],
   "source": [
    "import numpy as np\n",
    "import networkx as nx\n",
    "import warnings\n",
    "\n",
    "from qiskit import IBMQ\n",
    "\n",
    "from utils import molecules, Label2Chain, get_backend_connectivity, number_cnots_raw\n",
    "from GroupingAlgorithm import grouping, groupingWithOrder"
   ]
  },
  {
   "cell_type": "code",
   "execution_count": 3,
   "id": "dd9fd592-874f-457b-9da7-55b133d9864f",
   "metadata": {
    "execution": {
     "iopub.execute_input": "2022-02-09T08:40:42.365245Z",
     "iopub.status.busy": "2022-02-09T08:40:42.365245Z",
     "iopub.status.idle": "2022-02-09T08:40:50.032866Z",
     "shell.execute_reply": "2022-02-09T08:40:50.032866Z",
     "shell.execute_reply.started": "2022-02-09T08:40:42.365245Z"
    },
    "tags": []
   },
   "outputs": [],
   "source": [
    "with warnings.catch_warnings():\n",
    "    warnings.simplefilter(\"ignore\")\n",
    "    IBMQ.load_account()\n",
    "provider = IBMQ.get_provider(hub='ibm-q-csic', group='internal', project='iff-csic')"
   ]
  },
  {
   "cell_type": "code",
   "execution_count": 4,
   "id": "2845a24b-4ba2-4ea7-bd94-15f77b93bd98",
   "metadata": {
    "execution": {
     "iopub.execute_input": "2022-02-09T08:40:50.033867Z",
     "iopub.status.busy": "2022-02-09T08:40:50.033867Z",
     "iopub.status.idle": "2022-02-09T08:40:52.413071Z",
     "shell.execute_reply": "2022-02-09T08:40:52.413071Z",
     "shell.execute_reply.started": "2022-02-09T08:40:50.033867Z"
    },
    "tags": []
   },
   "outputs": [],
   "source": [
    "name_backend = 'ibmq_montreal'\n",
    "backend_device = provider.get_backend(name_backend)\n",
    "WC_device = get_backend_connectivity(backend_device)\n",
    "G_device = nx.Graph()\n",
    "G_device.add_edges_from(WC_device)"
   ]
  },
  {
   "cell_type": "code",
   "execution_count": null,
   "id": "7eee177a-b347-4c94-ac30-ae4049c6791f",
   "metadata": {
    "tags": []
   },
   "outputs": [],
   "source": [
    "molecule_names = ['H2', 'LiH', 'BeH2', 'H2O', 'CH4', 'C2H2', 'CH3OH', 'C2H6']\n",
    "qubit_ops = []\n",
    "paulis = []\n",
    "coeffs = []\n",
    "labels = []\n",
    "num_qubits = []\n",
    "\n",
    "for molecule in molecule_names:\n",
    "    print('Molecule: {}'.format(molecule))\n",
    "    try:\n",
    "        qubit_ops.append(np.load('../data/big_molecules.npy', allow_pickle=True).item()[molecule])\n",
    "        print('  Data loaded')\n",
    "    except KeyError:\n",
    "        print('  Computing qubit_operator ...')\n",
    "        qubit_ops.append(molecules(molecule))\n",
    "    \n",
    "    temp = Label2Chain(qubit_ops[-1])\n",
    "    paulis.append(temp[0])\n",
    "    coeffs.append(temp[1])\n",
    "    labels.append(temp[2])\n",
    "    \n",
    "    num_qubits.append(qubit_ops[-1].num_qubits)\n",
    "    \n",
    "    print('-' * 30)"
   ]
  },
  {
   "cell_type": "markdown",
   "id": "f72dfbf5-931e-4f51-b4ec-a162f4fa8fb6",
   "metadata": {},
   "source": [
    "# EM"
   ]
  },
  {
   "cell_type": "code",
   "execution_count": null,
   "id": "c55802be-b011-49ff-aa11-f6069f257fe9",
   "metadata": {
    "tags": []
   },
   "outputs": [],
   "source": [
    "Groups_EM = []\n",
    "Measurements_EM = []\n",
    "n_cnots_EM = []\n",
    "\n",
    "for i in range(len(molecule_names)):    \n",
    "    temp = grouping(paulis[i])\n",
    "    Groups_EM.append(temp[0])\n",
    "    Measurements_EM.append(temp[1])\n",
    "    \n",
    "    n_cnots_EM.append(number_cnots_raw(Measurements_EM[i], num_qubits[i], WC_device))\n",
    "    \n",
    "    print('{}: {} groups with {} cnots'.format(molecule_names[i], len(Groups_EM[i]), n_cnots_EM[i]))"
   ]
  },
  {
   "cell_type": "markdown",
   "id": "bd2be522-7a23-48a2-a876-2cc7c15665f0",
   "metadata": {},
   "source": [
    "# HEEM (all)"
   ]
  },
  {
   "cell_type": "code",
   "execution_count": null,
   "id": "65128b2f-aaf6-4eff-af2c-cd2ec449220c",
   "metadata": {
    "tags": []
   },
   "outputs": [],
   "source": [
    "Groups_HEEM_all = []\n",
    "Measurements_HEEM_all = []\n",
    "n_cnots_HEEM_all = []\n",
    "\n",
    "for i in range(len(molecule_names)):\n",
    "    temp = groupingWithOrder(paulis[i], connected=True)\n",
    "    Groups_HEEM_all.append(temp[0])\n",
    "    Measurements_HEEM_all.append(temp[1])\n",
    "    \n",
    "    n_cnots_HEEM_all.append(number_cnots_raw(Measurements_HEEM_all[i], num_qubits[i], WC_device))\n",
    "    \n",
    "    print('{}: {} groups with {} cnots'.format(molecule_names[i], len(Groups_HEEM_all[i]), n_cnots_HEEM_all[i]))"
   ]
  },
  {
   "cell_type": "markdown",
   "id": "b3b3a65f-9bb1-48c6-8e5a-3e3204841092",
   "metadata": {},
   "source": [
    "# HEEM (montreal)"
   ]
  },
  {
   "cell_type": "code",
   "execution_count": null,
   "id": "a609029e-5113-40a5-85e9-f340f27e45a5",
   "metadata": {
    "tags": []
   },
   "outputs": [],
   "source": [
    "Groups_HEEM_mont = []\n",
    "Measurements_HEEM_mont = []\n",
    "n_cnots_HEEM_mont = []\n",
    "\n",
    "for i in range(len(molecule_names)):\n",
    "    temp = groupingWithOrder(paulis[i], G_device, connected=True)\n",
    "    Groups_HEEM_mont.append(temp[0])\n",
    "    Measurements_HEEM_mont.append(temp[1])\n",
    "    T = temp[2]\n",
    "    \n",
    "    n_cnots_HEEM_mont.append(number_cnots_raw(Measurements_HEEM_mont[i], num_qubits[i], WC_device, T))\n",
    "    \n",
    "    print('{}: {} groups with {} cnots'.format(molecule_names[i], len(Groups_HEEM_mont[i]), n_cnots_HEEM_mont[i]))"
   ]
  },
  {
   "cell_type": "markdown",
   "id": "b264e604-6098-47c5-841f-6d0b45e9e0e1",
   "metadata": {
    "tags": []
   },
   "source": [
    "# Results\n",
    "\n",
    "## EM\n",
    "| Molecule                    | Groups      | # CNOTS     |\n",
    "| :------:                    | :----:      | :------:    |\n",
    "| H<sub>2</sub>               | 2           | 1           |\n",
    "| LiH                         | 11          | 9           |\n",
    "| BeH<sub>2</sub>             | 15          | 30          |\n",
    "| H<sub>2</sub>O              | 51          | 152         |\n",
    "| CH<sub>4</sub>              | 113         | 426         |\n",
    "| C<sub>2</sub>H<sub>2</sub>  | 189         | 1152        |\n",
    "| CH<sub>3</sub>OH            | 688         | 6066        |\n",
    "| C<sub>2</sub>H<sub>6</sub>  | 767         | 8104        |\n",
    "\n",
    "## HEEM (all)\n",
    "| Molecule                    | Groups      | # CNOTS     |\n",
    "| :------:                    | :----:      | :------:    |\n",
    "| H<sub>2</sub>               | 2           | 1           |\n",
    "| LiH                         | 11          | 9           |\n",
    "| BeH<sub>2</sub>             | 13          | 20          |\n",
    "| H<sub>2</sub>O              | 48          | 99          |\n",
    "| CH<sub>4</sub>              | 115         | 412         |\n",
    "| C<sub>2</sub>H<sub>2</sub>  | 205         | 1277        |\n",
    "| CH<sub>3</sub>OH            | 682         | 6082        |\n",
    "| C<sub>2</sub>H<sub>6</sub>  | 758         | 7994        |\n",
    "\n",
    "\n",
    "## HEEM (all)\n",
    "| Molecule                    | Groups      | # CNOTS     |\n",
    "| :------:                    | :----:      | :------:    |\n",
    "| H<sub>2</sub>               | 2           | 1           |\n",
    "| LiH                         | 11          | 9           |\n",
    "| BeH<sub>2</sub>             | 19          | 25          |\n",
    "| H<sub>2</sub>O              | 53          | 61          |\n",
    "| CH<sub>4</sub>              | 169         | 246         |\n",
    "| C<sub>2</sub>H<sub>2</sub>  | 287         | 433         |\n",
    "| CH<sub>3</sub>OH            | 1503        | 2770        |\n",
    "| C<sub>2</sub>H<sub>6</sub>  | 1529        | 2873        |"
   ]
  }
 ],
 "metadata": {
  "kernelspec": {
   "display_name": "Python 3 (ipykernel)",
   "language": "python",
   "name": "python3"
  },
  "language_info": {
   "codemirror_mode": {
    "name": "ipython",
    "version": 3
   },
   "file_extension": ".py",
   "mimetype": "text/x-python",
   "name": "python",
   "nbconvert_exporter": "python",
   "pygments_lexer": "ipython3",
   "version": "3.9.12"
  }
 },
 "nbformat": 4,
 "nbformat_minor": 5
}
