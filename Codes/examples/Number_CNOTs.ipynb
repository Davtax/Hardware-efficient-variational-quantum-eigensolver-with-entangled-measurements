{
 "cells": [
  {
   "cell_type": "code",
   "execution_count": 1,
   "id": "afbbe72f-b594-4f51-86ed-81666986bdab",
   "metadata": {
    "execution": {
     "iopub.execute_input": "2022-01-27T15:18:30.920444Z",
     "iopub.status.busy": "2022-01-27T15:18:30.920286Z",
     "iopub.status.idle": "2022-01-27T15:18:33.115757Z",
     "shell.execute_reply": "2022-01-27T15:18:33.115319Z",
     "shell.execute_reply.started": "2022-01-27T15:18:30.920401Z"
    },
    "tags": []
   },
   "outputs": [
    {
     "name": "stderr",
     "output_type": "stream",
     "text": [
      "/home/dfernandez/anaconda3/envs/heem/lib/python3.9/site-packages/pyscf/lib/misc.py:46: H5pyDeprecationWarning: Using default_file_mode other than 'r' is deprecated. Pass the mode to h5py.File() instead.\n",
      "  h5py.get_config().default_file_mode = 'a'\n"
     ]
    }
   ],
   "source": [
    "import sys\n",
    "\n",
    "sys.path.append('../')\n",
    "\n",
    "%load_ext autoreload\n",
    "%autoreload 1\n",
    "%aimport HEEM_VQE_Functions"
   ]
  },
  {
   "cell_type": "code",
   "execution_count": 28,
   "id": "176452b4-6ffa-443a-99fe-00bef6ea01cc",
   "metadata": {
    "execution": {
     "iopub.execute_input": "2022-01-27T15:32:43.623433Z",
     "iopub.status.busy": "2022-01-27T15:32:43.623292Z",
     "iopub.status.idle": "2022-01-27T15:33:15.046138Z",
     "shell.execute_reply": "2022-01-27T15:33:15.045690Z",
     "shell.execute_reply.started": "2022-01-27T15:32:43.623417Z"
    },
    "tags": []
   },
   "outputs": [
    {
     "name": "stderr",
     "output_type": "stream",
     "text": [
      "ibmqfactory.load_account:WARNING:1970-05-10 07:39:57,498: Credentials are already in use. The existing account in the session will be replaced.\n"
     ]
    }
   ],
   "source": [
    "import numpy as np\n",
    "import matplotlib.pyplot as plt\n",
    "%matplotlib widget\n",
    "\n",
    "import warnings\n",
    "from qiskit import IBMQ, transpile\n",
    "\n",
    "from HEEM_VQE_Functions import measure_circuit_factor\n",
    "\n",
    "with warnings.catch_warnings():\n",
    "    warnings.simplefilter(\"ignore\")\n",
    "    IBMQ.load_account()"
   ]
  },
  {
   "cell_type": "code",
   "execution_count": 41,
   "id": "f381d7b0-3e87-4c42-9dd4-9c2eb35e1e81",
   "metadata": {
    "execution": {
     "iopub.execute_input": "2022-01-27T15:42:20.284546Z",
     "iopub.status.busy": "2022-01-27T15:42:20.284003Z",
     "iopub.status.idle": "2022-01-27T15:42:31.601285Z",
     "shell.execute_reply": "2022-01-27T15:42:31.600806Z",
     "shell.execute_reply.started": "2022-01-27T15:42:20.284479Z"
    },
    "tags": []
   },
   "outputs": [
    {
     "name": "stdout",
     "output_type": "stream",
     "text": [
      "Molecule:  H2 (2 qubits)\n",
      "  Grouping: EM\n",
      "    Number of groups:  2\n",
      "    Number of CNOTs:  1\n",
      "  Grouping: HEEM\n",
      "    Number of groups:  2\n",
      "    Number of CNOTs:  1\n",
      "---------------------------\n",
      "Molecule:  LiH (4 qubits)\n",
      "  Grouping: EM\n",
      "    Number of groups:  10\n",
      "    Number of CNOTs:  8\n",
      "  Grouping: HEEM\n",
      "    Number of groups:  10\n",
      "    Number of CNOTs:  8\n",
      "---------------------------\n",
      "Molecule:  BeH2 (6 qubits)\n",
      "  Grouping: EM\n",
      "    Number of groups:  11\n",
      "    Number of CNOTs:  74\n",
      "  Grouping: HEEM\n",
      "    Number of groups:  16\n",
      "    Number of CNOTs:  18\n",
      "---------------------------\n",
      "Molecule:  H2O (8 qubits)\n",
      "  Grouping: EM\n",
      "    Number of groups:  41\n",
      "    Number of CNOTs:  563\n",
      "  Grouping: HEEM\n",
      "    Number of groups:  50\n",
      "    Number of CNOTs:  80\n",
      "---------------------------\n",
      "Molecule:  CH4 (10 qubits)\n",
      "  Grouping: EM\n",
      "    Number of groups:  101\n",
      "    Number of CNOTs:  2677\n",
      "  Grouping: HEEM\n",
      "    Number of groups:  138\n",
      "    Number of CNOTs:  224\n",
      "---------------------------\n",
      "Molecule:  C2H2 (16 qubits)\n",
      "  Grouping: EM\n",
      "    Number of groups:  183\n",
      "    Number of CNOTs:  8969\n",
      "  Grouping: HEEM\n",
      "    Number of groups:  282\n",
      "    Number of CNOTs:  433\n",
      "---------------------------\n"
     ]
    }
   ],
   "source": [
    "molecules = ['H2', 'LiH', 'BeH2', 'H2O', 'CH4', 'C2H2']\n",
    "groupings = ['EM', 'HEEM']\n",
    "\n",
    "device_name = 'ibmq_montreal'\n",
    "provider = IBMQ.get_provider(hub='ibm-q-csic', group='internal', project='iff-csic')\n",
    "backend = provider.get_backend(device_name)\n",
    "\n",
    "n_qubits = {}\n",
    "n_cnots_dic = {'HEEM': {}, 'EM': {}}\n",
    "\n",
    "for molecule in molecules:\n",
    "    data = np.load('../data/optimal_grouping_' + molecule + '_' + device_name + '.npy', allow_pickle=True).item()\n",
    "    n_qubits[molecule] = data['qubit_op'].num_qubits\n",
    "    print('Molecule: ', molecule, '({} qubits)'.format(n_qubits[molecule]))\n",
    "    \n",
    "    for grouping in groupings:\n",
    "        print('  Grouping:', grouping)\n",
    "        \n",
    "        num_qubits = len(data[grouping]['T'])\n",
    "        circuits = [measure_circuit_factor(measure, num_qubits) for measure in data[grouping]['Measurements']]\n",
    "\n",
    "        circuits_transpiled = transpile(circuits, backend, initial_layout=data[grouping]['T'][::-1])\n",
    "\n",
    "        n_cnots = 0\n",
    "        for circuit in circuits_transpiled:\n",
    "            try:\n",
    "                n_cnots += circuit.count_ops()['cx']\n",
    "            except KeyError:\n",
    "                pass\n",
    "        \n",
    "        n_cnots_dic[grouping][molecule] = n_cnots\n",
    "        \n",
    "        print('    Number of groups: ', len(data[grouping]['Groups']))\n",
    "        print('    Number of CNOTs: ', n_cnots)\n",
    "    print('-' * 27)"
   ]
  },
  {
   "cell_type": "code",
   "execution_count": 46,
   "id": "8bbce322-785a-4106-b64f-b51dd82163aa",
   "metadata": {
    "execution": {
     "iopub.execute_input": "2022-01-27T15:43:10.243490Z",
     "iopub.status.busy": "2022-01-27T15:43:10.242877Z",
     "iopub.status.idle": "2022-01-27T15:43:10.433645Z",
     "shell.execute_reply": "2022-01-27T15:43:10.433192Z",
     "shell.execute_reply.started": "2022-01-27T15:43:10.243422Z"
    },
    "tags": [],
    "pycharm": {
     "name": "#%%\n"
    }
   },
   "outputs": [
    {
     "data": {
      "text/plain": [
       "Text(0, 0.5, '# CNOTs')"
      ]
     },
     "execution_count": 46,
     "metadata": {},
     "output_type": "execute_result"
    },
    {
     "data": {
      "application/vnd.jupyter.widget-view+json": {
       "model_id": "a23f52208b9b4f579df43e5d6b7c287c",
       "version_major": 2,
       "version_minor": 0
      },
      "text/html": [
       "\n",
       "            <div style=\"display: inline-block;\">\n",
       "                <div class=\"jupyter-widgets widget-label\" style=\"text-align: center;\">\n",
       "                    Figure\n",
       "                </div>\n",
       "                <img src='data:image/png;base64,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' width=640.0/>\n",
       "            </div>\n",
       "        "
      ],
      "text/plain": [
       "Canvas(toolbar=Toolbar(toolitems=[('Home', 'Reset original view', 'home', 'home'), ('Back', 'Back to previous …"
      ]
     },
     "metadata": {},
     "output_type": "display_data"
    }
   ],
   "source": [
    "fig, ax = plt.subplots()\n",
    "\n",
    "for grouping in groupings:\n",
    "    y_cnots = []\n",
    "    x_cnots = []\n",
    "    for molecule in molecules:\n",
    "        x_cnots.append(n_qubits[molecule])\n",
    "        y_cnots.append(n_cnots_dic[grouping][molecule])\n",
    "    ax.plot(x_cnots, y_cnots,label=grouping, marker='.')\n",
    "\n",
    "ax.legend()\n",
    "ax.set_yscale('log')\n",
    "\n",
    "ax.set_xlabel('# qubits')\n",
    "ax.set_ylabel('# CNOTs')"
   ]
  }
 ],
 "metadata": {
  "kernelspec": {
   "display_name": "Python 3 (ipykernel)",
   "language": "python",
   "name": "python3"
  },
  "language_info": {
   "codemirror_mode": {
    "name": "ipython",
    "version": 3
   },
   "file_extension": ".py",
   "mimetype": "text/x-python",
   "name": "python",
   "nbconvert_exporter": "python",
   "pygments_lexer": "ipython3",
   "version": "3.9.9"
  }
 },
 "nbformat": 4,
 "nbformat_minor": 5
}