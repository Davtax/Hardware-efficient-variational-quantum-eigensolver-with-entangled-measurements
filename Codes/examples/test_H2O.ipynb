{
 "cells": [
  {
   "cell_type": "code",
   "execution_count": 1,
   "id": "98382c3e-de72-4597-bfb3-b8d1de058346",
   "metadata": {},
   "outputs": [],
   "source": [
    "import numpy as np\n",
    "from qiskit.opflow.primitive_ops import PauliOp\n",
    "from qiskit.opflow.list_ops import SummedOp\n",
    "from qiskit.quantum_info import Pauli\n",
    "from qiskit.opflow.primitive_ops.pauli_sum_op import PauliSumOp\n",
    "from qiskit.opflow.primitive_ops.tapered_pauli_sum_op import TaperedPauliSumOp\n",
    "from qiskit_nature.circuit.library import HartreeFock\n",
    "from qiskit_nature.transformers.second_quantization.electronic import FreezeCoreTransformer\n",
    "from qiskit_nature.problems.second_quantization.electronic import ElectronicStructureProblem\n",
    "from qiskit_nature.mappers.second_quantization import ParityMapper, JordanWignerMapper, BravyiKitaevMapper\n",
    "from qiskit_nature.converters.second_quantization.qubit_converter import QubitConverter\n",
    "from qiskit.opflow.primitive_ops import Z2Symmetries\n",
    "from qiskit_nature.algorithms import GroundStateEigensolver\n",
    "from qiskit.algorithms import NumPyMinimumEigensolver\n",
    "from qiskit_nature.drivers.second_quantization.pyquanted import PyQuanteDriver\n",
    "\n",
    "from joblib import Parallel, delayed\n",
    "import matplotlib.pyplot as plt"
   ]
  },
  {
   "cell_type": "code",
   "execution_count": 2,
   "id": "725f1f7e-4a5f-4df0-98a7-83af91c37b64",
   "metadata": {},
   "outputs": [],
   "source": [
    "def H2O(distance=0.9573, freeze_core=True, remove_orbitals=None, operator=True, initial_state=False, mapper_type='ParityMapper'): #\n",
    "\t\"\"\"\n",
    "\tQiskit operator of the BeH2\n",
    "\n",
    "\tParameters\n",
    "\t----------\n",
    "\tdistance: float (optional)\n",
    "\t\tDistance between atoms of Be and H\n",
    "\tfreeze_core: Bool (optional)\n",
    "\t\tIf freeze some cores that do highly impact in the energy\n",
    "\tremove_orbitals: Bool (optional)\n",
    "\t\tRemove some orbitals that do no impact in the energy\n",
    "\tinitial_state: Bool (optional)\n",
    "\t\tReturn the initial Hartree Fock state\n",
    "\tmapper_type: str (optional)\n",
    "\t\tType of mapping between orbitals and qubits. Available options:\n",
    "\t\t\t'ParityMapper'\n",
    "\t\t\t'JordanWignerMapper'\n",
    "\t\t\t'BravyiKitaevMapper'\n",
    "\n",
    "\tReturns\n",
    "\t-------\n",
    "\tqubit_op: SummedOp\n",
    "\t\tPauli strings and coefficients for the Hamiltonian\n",
    "\tinit_state: QuantumCircuit (if initial_state=True)\n",
    "\t\tQuantum Circuit with the initial state given by Hartree Fock\n",
    "\t\"\"\"\n",
    "    \n",
    "\tdist1 = distance*0.757/0.9573\n",
    "\tdist2 = distance*0.586/0.9573\n",
    "\tmolecule = 'O 0.0 0.0 0.0; H '+str(dist1)+' '+str(dist2)+' 0.0; H -'+str(dist1)+' '+str(dist2)+' 0.0' \n",
    "\n",
    "\ttry:\n",
    "\t\tdriver = PySCFDriver(molecule)\n",
    "\texcept:\n",
    "\t\tfrom qiskit_nature.drivers.second_quantization.pyquanted import PyQuanteDriver\n",
    "\t\tdriver = PyQuanteDriver(molecule)\n",
    "\n",
    "\tqmolecule = driver.run()\n",
    "\tif remove_orbitals is False:\n",
    "\t\tTransfomer = FreezeCoreTransformer(freeze_core=freeze_core)        \n",
    "\telse:        \n",
    "\t\tTransfomer = FreezeCoreTransformer(freeze_core=freeze_core, remove_orbitals=remove_orbitals)\n",
    "\n",
    "\tproblem = ElectronicStructureProblem(driver,transformers=[Transfomer])\n",
    "\n",
    "\t# Generate the second-quantized operators\n",
    "\tsecond_q_ops = problem.second_q_ops()\n",
    "\n",
    "\t# Hamiltonian\n",
    "\tmain_op = second_q_ops[0]\n",
    "\n",
    "\t# Setup the mapper and qubit converter\n",
    "\tif mapper_type == 'ParityMapper':\n",
    "\t\tmapper = ParityMapper()\n",
    "\telif mapper_type == 'JordanWignerMapper':\n",
    "\t\tmapper = JordanWignerMapper()\n",
    "\telif mapper_type == 'BravyiKitaevMapper':\n",
    "\t\tmapper = BravyiKitaevMapper()\n",
    "        \n",
    "\tnum_particles = (problem.grouped_property_transformed.get_property(\"ParticleNumber\").num_alpha,\n",
    "                     problem.grouped_property_transformed.get_property(\"ParticleNumber\").num_beta)\n",
    "\t# The fermionic operators are mapped\n",
    "\tconverter = QubitConverter(mapper=mapper, two_qubit_reduction=True)\n",
    "        \n",
    "\tif operator is False :\n",
    "\t\treturn converter, problem\n",
    "\telse :\n",
    "\t\tparticle_number   = problem.grouped_property_transformed.get_property(\"ParticleNumber\")\n",
    "\t\tnum_particles     = ( particle_number.num_alpha, particle_number.num_beta )\n",
    "\t\tnum_spin_orbitals = particle_number.num_spin_orbitals\n",
    "\t\tqubit_op = converter.convert(main_op, num_particles=num_particles)         \n",
    "\t\tif initial_state is False:\n",
    "\t\t\treturn qubit_op \n",
    "\t\telse:\n",
    "\t\t\tinit_state = HartreeFock(num_spin_orbitals, num_particles, converter)\n",
    "\t\t\treturn qubit_op, init_state\n"
   ]
  },
  {
   "cell_type": "code",
   "execution_count": 3,
   "id": "f4b58979-8762-4339-9573-03d65671a1d7",
   "metadata": {},
   "outputs": [
    {
     "data": {
      "text/plain": [
       "10"
      ]
     },
     "execution_count": 3,
     "metadata": {},
     "output_type": "execute_result"
    }
   ],
   "source": [
    "opt, init_state = H2O(operator=True, initial_state=True)\n",
    "opt.num_qubits"
   ]
  },
  {
   "cell_type": "code",
   "execution_count": 4,
   "id": "d9df78d6-5a01-4f58-83ac-342c7e70da4c",
   "metadata": {},
   "outputs": [
    {
     "data": {
      "text/plain": [
       "array([-75.01235921+0.j])"
      ]
     },
     "execution_count": 4,
     "metadata": {},
     "output_type": "execute_result"
    }
   ],
   "source": [
    "converter, problem = H2O(operator=False)\n",
    "calc = GroundStateEigensolver( converter, NumPyMinimumEigensolver() )\n",
    "res = calc.solve(problem)\n",
    "res.total_energies"
   ]
  },
  {
   "cell_type": "code",
   "execution_count": 5,
   "id": "a337eed9-f68c-4740-988d-9407fe54a628",
   "metadata": {},
   "outputs": [],
   "source": [
    "def GroundStateEigensolver_exact_loop( d ):\n",
    "    converter, problem = H2O( distance=d, operator=False )\n",
    "    calc = GroundStateEigensolver( converter, NumPyMinimumEigensolver() )\n",
    "    res = calc.solve(problem)\n",
    "    return res.total_energies "
   ]
  },
  {
   "cell_type": "code",
   "execution_count": 6,
   "id": "39ca81b9-0203-4003-91cd-58a56b58425a",
   "metadata": {},
   "outputs": [],
   "source": [
    "distances = np.linspace(0.7,1.3,15)"
   ]
  },
  {
   "cell_type": "code",
   "execution_count": 7,
   "id": "4d6eed73-b86e-4360-a39c-e73e84f0551c",
   "metadata": {},
   "outputs": [],
   "source": [
    "energies = Parallel(n_jobs=-1)( delayed(GroundStateEigensolver_exact_loop)(d) for d in distances )"
   ]
  },
  {
   "cell_type": "code",
   "execution_count": 8,
   "id": "544f2334-5db0-49ce-a85e-9bc95e345232",
   "metadata": {},
   "outputs": [
    {
     "name": "stderr",
     "output_type": "stream",
     "text": [
      "C:\\Users\\lucia\\miniconda3\\lib\\site-packages\\numpy\\core\\_asarray.py:102: ComplexWarning: Casting complex values to real discards the imaginary part\n",
      "  return array(a, dtype, copy=False, order=order)\n"
     ]
    },
    {
     "data": {
      "text/plain": [
       "[<matplotlib.lines.Line2D at 0x1d134fde4f0>]"
      ]
     },
     "execution_count": 8,
     "metadata": {},
     "output_type": "execute_result"
    },
    {
     "data": {
      "image/png": "[encoded data removed]",
      "text/plain": [
       "<Figure size 432x288 with 1 Axes>"
      ]
     },
     "metadata": {
      "needs_background": "light"
     },
     "output_type": "display_data"
    }
   ],
   "source": [
    "plt.plot( distances, energies, '-o' )"
   ]
  },
  {
   "cell_type": "code",
   "execution_count": 9,
   "id": "e06c00b9-58dd-4d92-9b61-9f3c3c2bf10a",
   "metadata": {},
   "outputs": [
    {
     "data": {
      "text/plain": [
       "8"
      ]
     },
     "execution_count": 9,
     "metadata": {},
     "output_type": "execute_result"
    }
   ],
   "source": [
    "opt, init_state = H2O(operator=True, initial_state=True, remove_orbitals=[4])\n",
    "opt.num_qubits"
   ]
  },
  {
   "cell_type": "code",
   "execution_count": 10,
   "id": "40566555-cd98-435e-872c-888671a63e5c",
   "metadata": {},
   "outputs": [],
   "source": [
    "def GroundStateEigensolver_exact_loop( d ):\n",
    "    converter, problem = H2O( distance=d, operator=False, remove_orbitals=[4] )\n",
    "    calc = GroundStateEigensolver( converter, NumPyMinimumEigensolver() )\n",
    "    res = calc.solve(problem)\n",
    "    return res.total_energies "
   ]
  },
  {
   "cell_type": "code",
   "execution_count": 11,
   "id": "c109c3ee-b014-40b6-9f0d-e8b3d49df9cf",
   "metadata": {},
   "outputs": [],
   "source": [
    "energies2 = Parallel(n_jobs=-1)( delayed(GroundStateEigensolver_exact_loop)(d) for d in distances )"
   ]
  },
  {
   "cell_type": "code",
   "execution_count": 12,
   "id": "57a67342-801a-425d-aee1-dce19eea526e",
   "metadata": {},
   "outputs": [
    {
     "name": "stderr",
     "output_type": "stream",
     "text": [
      "C:\\Users\\lucia\\miniconda3\\lib\\site-packages\\numpy\\core\\_asarray.py:102: ComplexWarning: Casting complex values to real discards the imaginary part\n",
      "  return array(a, dtype, copy=False, order=order)\n"
     ]
    },
    {
     "data": {
      "text/plain": [
       "[<matplotlib.lines.Line2D at 0x1d1350bdd00>]"
      ]
     },
     "execution_count": 12,
     "metadata": {},
     "output_type": "execute_result"
    },
    {
     "data": {
      "image/png": "[encoded data removed]",
      "text/plain": [
       "<Figure size 432x288 with 1 Axes>"
      ]
     },
     "metadata": {
      "needs_background": "light"
     },
     "output_type": "display_data"
    }
   ],
   "source": [
    "plt.plot( distances, energies2, '-o' )"
   ]
  },
  {
   "cell_type": "code",
   "execution_count": 13,
   "id": "9a99f41d-718f-47bd-8faf-020d33e99994",
   "metadata": {},
   "outputs": [
    {
     "data": {
      "text/plain": [
       "0.003834422186210097"
      ]
     },
     "execution_count": 13,
     "metadata": {},
     "output_type": "execute_result"
    }
   ],
   "source": [
    "np.linalg.norm( np.array(energies)-np.array(energies2) )"
   ]
  },
  {
   "cell_type": "code",
   "execution_count": 14,
   "id": "9ab4c1bc-9ce5-4b98-916a-f2a309983732",
   "metadata": {},
   "outputs": [
    {
     "data": {
      "text/plain": [
       "(0.05642773304644712,\n",
       " 0.145930669132429,\n",
       " 0.1054764919488905,\n",
       " 0.0039759107879492415,\n",
       " 0.1466120525852858,\n",
       " 0.15227803832381695)"
      ]
     },
     "execution_count": 14,
     "metadata": {},
     "output_type": "execute_result"
    }
   ],
   "source": [
    "0.05642773304644712, 0.145930669132429, 0.1054764919488905, 0.0039759107879492415, 0.1466120525852858, 0.15227803832381695"
   ]
  },
  {
   "cell_type": "code",
   "execution_count": 15,
   "id": "937ca6f6-c1c6-442e-89d5-87ae0b9b6613",
   "metadata": {},
   "outputs": [
    {
     "data": {
      "text/plain": [
       "array([[-0.00109257+0.j],\n",
       "       [-0.00110239+0.j],\n",
       "       [-0.00110553+0.j],\n",
       "       [-0.00110203+0.j],\n",
       "       [-0.00109201+0.j],\n",
       "       [-0.0010757 +0.j],\n",
       "       [-0.00105347+0.j],\n",
       "       [-0.00102582+0.j],\n",
       "       [-0.00099334+0.j],\n",
       "       [-0.00095671+0.j],\n",
       "       [-0.00091661+0.j],\n",
       "       [-0.00087375+0.j],\n",
       "       [-0.00082883+0.j],\n",
       "       [-0.00078247+0.j],\n",
       "       [-0.00073524+0.j]])"
      ]
     },
     "execution_count": 15,
     "metadata": {},
     "output_type": "execute_result"
    }
   ],
   "source": [
    "np.array(energies)-np.array(energies2) "
   ]
  },
  {
   "cell_type": "code",
   "execution_count": null,
   "id": "dc7e3f20-3039-44bc-a3a3-112866a5e7b9",
   "metadata": {},
   "outputs": [],
   "source": []
  },
  {
   "cell_type": "code",
   "execution_count": null,
   "id": "cadbe8e2-e5d3-47c4-8ed6-67418205d5c2",
   "metadata": {},
   "outputs": [],
   "source": []
  },
  {
   "cell_type": "code",
   "execution_count": null,
   "id": "d0794837-5c0f-4135-a88f-e883be29954d",
   "metadata": {},
   "outputs": [],
   "source": []
  }
 ],
 "metadata": {
  "kernelspec": {
   "display_name": "Python 3 (ipykernel)",
   "language": "python",
   "name": "python3"
  },
  "language_info": {
   "codemirror_mode": {
    "name": "ipython",
    "version": 3
   },
   "file_extension": ".py",
   "mimetype": "text/x-python",
   "name": "python",
   "nbconvert_exporter": "python",
   "pygments_lexer": "ipython3",
   "version": "3.9.5"
  }
 },
 "nbformat": 4,
 "nbformat_minor": 5
}
