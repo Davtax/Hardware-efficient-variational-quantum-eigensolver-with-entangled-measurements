{
 "cells": [
  {
   "cell_type": "code",
   "execution_count": 1,
   "id": "45c586e5-af22-40e0-a44e-fd16db787831",
   "metadata": {
    "execution": {
     "iopub.execute_input": "2022-06-07T07:50:25.512201Z",
     "iopub.status.busy": "2022-06-07T07:50:25.512023Z",
     "iopub.status.idle": "2022-06-07T07:50:31.183157Z",
     "shell.execute_reply": "2022-06-07T07:50:31.182352Z",
     "shell.execute_reply.started": "2022-06-07T07:50:25.512161Z"
    },
    "pycharm": {
     "name": "#%%\n"
    },
    "tags": []
   },
   "outputs": [],
   "source": [
    "import sys\n",
    "import warnings\n",
    "sys.path.append('../')\n",
    "warnings.filterwarnings('ignore')\n",
    "\n",
    "%matplotlib widget\n",
    "%load_ext autoreload\n",
    "%autoreload 1\n",
    "%aimport utils, GroupingAlgorithm, HEEM_VQE_Functions"
   ]
  },
  {
   "cell_type": "code",
   "execution_count": 2,
   "id": "9236dd35-e3fa-436f-a731-3f2b642d212f",
   "metadata": {
    "execution": {
     "iopub.execute_input": "2022-06-07T07:50:31.185288Z",
     "iopub.status.busy": "2022-06-07T07:50:31.184835Z",
     "iopub.status.idle": "2022-06-07T07:50:31.404747Z",
     "shell.execute_reply": "2022-06-07T07:50:31.404170Z",
     "shell.execute_reply.started": "2022-06-07T07:50:31.185261Z"
    },
    "pycharm": {
     "name": "#%%\n"
    },
    "tags": []
   },
   "outputs": [],
   "source": [
    "import numpy as np\n",
    "import matplotlib.pyplot as plt\n",
    "import networkx as nx\n",
    "from tqdm.auto import tqdm\n",
    "from os.path import isfile, exists\n",
    "from os import mkdir\n",
    "\n",
    "from qiskit import IBMQ, Aer, QuantumCircuit, QuantumRegister, ClassicalRegister, transpile, execute\n",
    "from qiskit.providers.aer import QasmSimulator\n",
    "from qiskit.providers.aer.noise import NoiseModel\n",
    "from qiskit.utils.quantum_instance import QuantumInstance\n",
    "from qiskit.ignis.verification import get_ghz_simple\n",
    "from qiskit.compiler import transpile\n",
    "from qiskit.tools.monitor import job_monitor\n",
    "from qiskit.opflow.state_fns import CircuitStateFn\n",
    "from qiskit.providers.aer.extensions.snapshot_statevector import *\n",
    "from qiskit.test.mock import FakeMontreal\n",
    "\n",
    "from utils import get_backend_connectivity, molecules, Label2Chain, from_string_to_numbers, load_grouping_data, current_time, load_data_IBMQ, send_ibmq_parallel\n",
    "from GroupingAlgorithm import groupingWithOrder, TPBgrouping\n",
    "from HEEM_VQE_Functions import measure_circuit_factor, probability2expected_binary, post_process_results, probability2expected_parallel, post_process_results_2, post_process_results_3"
   ]
  },
  {
   "cell_type": "code",
   "execution_count": 67,
   "id": "65d8a98b-75d6-43e5-a635-c48116120463",
   "metadata": {
    "execution": {
     "iopub.execute_input": "2022-06-07T08:26:50.253733Z",
     "iopub.status.busy": "2022-06-07T08:26:50.253576Z",
     "iopub.status.idle": "2022-06-07T08:26:50.260978Z",
     "shell.execute_reply": "2022-06-07T08:26:50.260488Z",
     "shell.execute_reply.started": "2022-06-07T08:26:50.253710Z"
    },
    "tags": []
   },
   "outputs": [],
   "source": [
    "NUM_SHOTS = 2 ** 14\n",
    "# NUM_SHOTS = 2 ** 16\n",
    "\n",
    "def compute_energy_sparse(Groups, Measurements, method, n_chunks=10, layout=None, return_energy_temp=False, noisy=True, shots=NUM_SHOTS):\n",
    "    \n",
    "    circuits = [measure_circuit_factor(measurement, n_qubits, measure_all=False).compose(state_0, front=True) for measurement\n",
    "                 in Measurements]\n",
    "    \n",
    "    if noisy:\n",
    "        kwards_run = {'coupling_map': coupling_map, 'noise_model': noise_model, 'basis_gates': basis_gates}\n",
    "    else:\n",
    "        kwards_run = {}\n",
    "    \n",
    "    if shots == -1:\n",
    "        shots = 20000 * len(Groups)  # Max allowed shots\n",
    "    \n",
    "    kwards_run['shots'] = shots // len(Groups)\n",
    "                \n",
    "    if layout is not None:\n",
    "        kwards_run['initial_layout'] = layout[::-1]\n",
    "    \n",
    "    jobs = send_ibmq_parallel(backed_calculations, n_chunks, circuits, job_tag=[molecule_name, method], verbose=False,\n",
    "                              progress_bar=True, kwards_run=kwards_run)\n",
    "\n",
    "    counts = []\n",
    "    \n",
    "    for job in jobs:\n",
    "        counts += job.result().get_counts()\n",
    "    \n",
    "    energy_temp = []\n",
    "    pbar = tqdm(range(len(counts)), desc='Computing energy')\n",
    "    for j in pbar:\n",
    "        counts_indices, counts_values = post_process_results_3(counts[j])\n",
    "\n",
    "        diagonals, factors = probability2expected_binary(coeffs, labels, [Groups[j]], [Measurements[j]], shift=False)\n",
    "        diagonals = [(~diagonal * 2 - 1).astype('int8') for diagonal in diagonals[0][:, counts_indices]]\n",
    "\n",
    "        energy_temp.append(np.sum((diagonals * np.array(factors[0])[:, None]) * counts_values[None, :]) / kwards_run['shots'])\n",
    "\n",
    "    returns = [jobs, sum(energy_temp)]\n",
    "    \n",
    "    if return_energy_temp:\n",
    "        returns.append(energy_temp)\n",
    "        \n",
    "    return returns"
   ]
  },
  {
   "cell_type": "code",
   "execution_count": 59,
   "id": "ef353e48-f105-4518-8c22-c7f5aae9ab4d",
   "metadata": {
    "execution": {
     "iopub.execute_input": "2022-06-07T08:23:58.859916Z",
     "iopub.status.busy": "2022-06-07T08:23:58.859132Z",
     "iopub.status.idle": "2022-06-07T08:23:58.866595Z",
     "shell.execute_reply": "2022-06-07T08:23:58.866133Z",
     "shell.execute_reply.started": "2022-06-07T08:23:58.859843Z"
    },
    "tags": []
   },
   "outputs": [],
   "source": [
    "# 1: Luciano, 2: Guillermo, 3: Gabriel, 4: Fran, 5: David\n",
    "index = None\n",
    "if index is None:\n",
    "    raise Exception('Use you index!')\n",
    "    \n",
    "    \n",
    "def check_folder_create(path):\n",
    "    if exists(path):\n",
    "        pass\n",
    "    else:\n",
    "        mkdir(path)\n",
    "\n",
    "def save_data(energy, method):\n",
    "    subdics = ['data', 'energies', initial_state, 'partial']\n",
    "    \n",
    "    folder = '../'\n",
    "    for dic in subdics:\n",
    "        folder += dic + '/'\n",
    "        check_folder_create(folder)\n",
    "    \n",
    "    file = folder + molecule_name + '_' + method +'_' + str(index) + '.npy'\n",
    "    if isfile(file):\n",
    "        data = np.load(file)\n",
    "    else:\n",
    "        data = np.array([])\n",
    "    \n",
    "    data = np.append(data, energy)\n",
    "    np.save(file, data)"
   ]
  },
  {
   "cell_type": "code",
   "execution_count": 60,
   "id": "d4dc7ac2-ba99-4a52-99b7-58a9e85f3bc6",
   "metadata": {
    "execution": {
     "iopub.execute_input": "2022-06-07T08:23:59.850849Z",
     "iopub.status.busy": "2022-06-07T08:23:59.850095Z",
     "iopub.status.idle": "2022-06-07T08:24:22.652403Z",
     "shell.execute_reply": "2022-06-07T08:24:22.651872Z",
     "shell.execute_reply.started": "2022-06-07T08:23:59.850777Z"
    },
    "pycharm": {
     "name": "#%%\n"
    },
    "tags": []
   },
   "outputs": [
    {
     "name": "stderr",
     "output_type": "stream",
     "text": [
      "ibmqfactory.load_account:WARNING:1970-03-18 09:48:23,011: Credentials are already in use. The existing account in the session will be replaced.\n"
     ]
    }
   ],
   "source": [
    "with warnings.catch_warnings():\n",
    "    warnings.simplefilter(\"ignore\")\n",
    "    IBMQ.load_account()\n",
    "\n",
    "provider_main = IBMQ.get_provider(hub='ibm-q', group='open', project='main')\n",
    "# provider_CSIC = IBMQ.get_provider(hub='ibm-q-csic', group='internal', project='iff-csic')\n",
    "\n",
    "# name_backend = 'ibmq_montreal'\n",
    "# backend = provider_CSIC.get_backend(name_backend)\n",
    "backend = FakeMontreal()\n",
    "WC_device = get_backend_connectivity(backend)\n",
    "\n",
    "G_device = nx.Graph()\n",
    "G_device.add_edges_from(WC_device)"
   ]
  },
  {
   "cell_type": "code",
   "execution_count": 61,
   "id": "805bf7a5-238f-448d-a890-01229945a78b",
   "metadata": {
    "execution": {
     "iopub.execute_input": "2022-06-07T08:24:22.653315Z",
     "iopub.status.busy": "2022-06-07T08:24:22.653154Z",
     "iopub.status.idle": "2022-06-07T08:24:24.176192Z",
     "shell.execute_reply": "2022-06-07T08:24:24.175652Z",
     "shell.execute_reply.started": "2022-06-07T08:24:22.653299Z"
    },
    "pycharm": {
     "name": "#%%\n"
    },
    "tags": []
   },
   "outputs": [],
   "source": [
    "backend_hpc = provider_main.get_backend('ibmq_qasm_simulator')\n",
    "backed_simulation = provider_main.get_backend('simulator_statevector')\n",
    "simulator = Aer.get_backend('aer_simulator')  # Backend for simulation\n",
    "\n",
    "device = QasmSimulator.from_backend(backend)\n",
    "coupling_map = device.configuration().coupling_map\n",
    "noise_model = NoiseModel.from_backend(device)\n",
    "# noise_model = None\n",
    "basis_gates = noise_model.basis_gates if noise_model is not None else None\n",
    "\n",
    "backed_calculations = backend_hpc"
   ]
  },
  {
   "cell_type": "code",
   "execution_count": 62,
   "id": "d93cb5f1-0c76-432a-b8b6-7632369bebf8",
   "metadata": {
    "execution": {
     "iopub.execute_input": "2022-06-07T08:24:24.177007Z",
     "iopub.status.busy": "2022-06-07T08:24:24.176780Z",
     "iopub.status.idle": "2022-06-07T08:24:24.180515Z",
     "shell.execute_reply": "2022-06-07T08:24:24.180028Z",
     "shell.execute_reply.started": "2022-06-07T08:24:24.176992Z"
    },
    "tags": []
   },
   "outputs": [],
   "source": [
    "shots_TPB = {'H2': 300, 'LiH': 300, 'BeH2': 300, 'H2O': 300, 'CH4': 300,\n",
    "             'C2H2': 300, 'CH3OH': 300, 'C2H6': 100}\n",
    "\n",
    "shots_EM = {'H2': 300, 'LiH': 300, 'BeH2': 300, 'H2O': 300, 'CH4': 300,\n",
    "            'C2H2': 100, 'CH3OH': 50, 'C2H6': 25}\n",
    "\n",
    "shots_HEEM = {'H2': 300, 'LiH': 300, 'BeH2': 300, 'H2O': 300, 'CH4': 300,\n",
    "              'C2H2': 300, 'CH3OH': 300, 'C2H6': 50}"
   ]
  },
  {
   "cell_type": "code",
   "execution_count": 63,
   "id": "75c98463-3862-4843-9909-bbd931ee95a6",
   "metadata": {
    "collapsed": false,
    "execution": {
     "iopub.execute_input": "2022-06-07T08:24:24.181670Z",
     "iopub.status.busy": "2022-06-07T08:24:24.181409Z",
     "iopub.status.idle": "2022-06-07T08:24:24.248316Z",
     "shell.execute_reply": "2022-06-07T08:24:24.247537Z",
     "shell.execute_reply.started": "2022-06-07T08:24:24.181655Z"
    },
    "jupyter": {
     "outputs_hidden": false
    },
    "pycharm": {
     "name": "#%%\n"
    },
    "tags": []
   },
   "outputs": [
    {
     "name": "stdout",
     "output_type": "stream",
     "text": [
      "Molecule loaded\n",
      "5 total Pauli strings\n",
      "2 qubits\n"
     ]
    }
   ],
   "source": [
    "# All molecules H2, LiH, H2O, CH4, C2H2, CH3OH, C2H6\n",
    "molecule_name = 'H2'\n",
    "initial_state = '0xN'\n",
    "\n",
    "try:\n",
    "    qubit_op = molecules(molecule_name)\n",
    "    paulis, coeffs, labels = Label2Chain(qubit_op)\n",
    "except AttributeError:\n",
    "    paulis, coeffs, labels = np.load('../data/molecules_qubitop_list.npy', allow_pickle=True).item()[molecule_name]\n",
    "\n",
    "n_qubits = len(paulis[0])\n",
    "state_0 = QuantumCircuit(n_qubits)\n",
    "# state_0 = state_0.compose(get_ghz_simple(n_qubits, measure=False))  # Initialized in the GHZ state\n",
    "\n",
    "print(f'{len(paulis)} total Pauli strings')\n",
    "print(f'{n_qubits} qubits')"
   ]
  },
  {
   "cell_type": "markdown",
   "id": "ffc87f02-7a80-4c13-8bf9-9c9c1e6f7bf8",
   "metadata": {
    "tags": []
   },
   "source": [
    "# Exact energy"
   ]
  },
  {
   "cell_type": "markdown",
   "id": "6d17b689-a954-4a22-8da0-ec13719155c4",
   "metadata": {
    "tags": []
   },
   "source": [
    "## $|0\\rangle^{\\otimes N}$"
   ]
  },
  {
   "cell_type": "code",
   "execution_count": 64,
   "id": "6de095b7-3ea0-4587-9150-f80f154f0361",
   "metadata": {
    "execution": {
     "iopub.execute_input": "2022-06-07T08:24:24.249326Z",
     "iopub.status.busy": "2022-06-07T08:24:24.249079Z",
     "iopub.status.idle": "2022-06-07T08:24:24.278166Z",
     "shell.execute_reply": "2022-06-07T08:24:24.276666Z",
     "shell.execute_reply.started": "2022-06-07T08:24:24.249302Z"
    },
    "tags": []
   },
   "outputs": [
    {
     "name": "stdout",
     "output_type": "stream",
     "text": [
      "Exact energy: -1.0685130305334074\n"
     ]
    }
   ],
   "source": [
    "if initial_state == '0xN':\n",
    "    energy_exact = 0\n",
    "\n",
    "    for i in range(len(labels)):\n",
    "        label = labels[i]\n",
    "        if 'X' not in label and 'Y' not in label:\n",
    "            energy_exact += coeffs[i]\n",
    "    print('Exact energy: {}'.format(energy_exact))"
   ]
  },
  {
   "cell_type": "markdown",
   "id": "eea7dfde-1d4c-414b-940d-7090153201f0",
   "metadata": {
    "jp-MarkdownHeadingCollapsed": true,
    "tags": []
   },
   "source": [
    "## $|\\mathrm{GHZ}\\rangle$"
   ]
  },
  {
   "cell_type": "code",
   "execution_count": 10,
   "id": "1b3c93c7-a72c-4d02-b65a-bb8b190f7511",
   "metadata": {
    "execution": {
     "iopub.execute_input": "2022-06-03T10:43:39.151678Z",
     "iopub.status.busy": "2022-06-03T10:43:39.151164Z",
     "iopub.status.idle": "2022-06-03T10:43:39.188213Z",
     "shell.execute_reply": "2022-06-03T10:43:39.187687Z",
     "shell.execute_reply.started": "2022-06-03T10:43:39.151611Z"
    },
    "tags": []
   },
   "outputs": [],
   "source": [
    "if initial_state == 'GHZ':\n",
    "    diagonals = {'I': np.array([1, 0, 0, 1]), 'X': np.array([0, 1, 1, 0]),\n",
    "                 'Y': np.array([0, 1j, -1j, 0]), 'Z': np.array([1, 0, 0, -1])}\n",
    "\n",
    "    energy_exact = 0\n",
    "    for label, coeff in zip(labels, coeffs):\n",
    "        diagonal = np.ones(4, dtype=complex)\n",
    "        for op in label:\n",
    "            diagonal *= diagonals[op]\n",
    "        energy_exact += coeff * np.sum(diagonal) / 2\n",
    "\n",
    "    print('Exact energy: {}'.format(energy_exact.real))"
   ]
  },
  {
   "cell_type": "markdown",
   "id": "8d9d2d5b",
   "metadata": {
    "jp-MarkdownHeadingCollapsed": true,
    "pycharm": {
     "name": "#%% md\n"
    },
    "tags": []
   },
   "source": [
    "## Exact (Numerical)"
   ]
  },
  {
   "cell_type": "markdown",
   "id": "59da1be4-475e-4714-b2c9-4809a81ce4fe",
   "metadata": {
    "execution": {
     "iopub.execute_input": "2022-05-23T10:05:35.085068Z",
     "iopub.status.busy": "2022-05-23T10:05:35.084667Z",
     "iopub.status.idle": "2022-05-23T10:07:17.044664Z",
     "shell.execute_reply": "2022-05-23T10:07:17.044113Z",
     "shell.execute_reply.started": "2022-05-23T10:05:35.085053Z"
    },
    "pycharm": {
     "name": "#%%\n"
    },
    "tags": []
   },
   "source": [
    "psi = CircuitStateFn(state_0)\n",
    "energy_exact = psi.adjoint().compose(qubit_op).compose(psi).eval().real\n",
    "    \n",
    "print('Exact energy: {}'.format(energy_exact))"
   ]
  },
  {
   "cell_type": "markdown",
   "id": "0616a9a9",
   "metadata": {
    "jp-MarkdownHeadingCollapsed": true,
    "pycharm": {
     "name": "#%% md\n"
    },
    "tags": []
   },
   "source": [
    "## Exact (Simulation)"
   ]
  },
  {
   "cell_type": "code",
   "execution_count": 32,
   "id": "7cce5c7e",
   "metadata": {
    "collapsed": false,
    "execution": {
     "iopub.execute_input": "2022-06-03T11:51:00.116730Z",
     "iopub.status.busy": "2022-06-03T11:51:00.116197Z",
     "iopub.status.idle": "2022-06-03T11:51:00.495852Z",
     "shell.execute_reply": "2022-06-03T11:51:00.495414Z",
     "shell.execute_reply.started": "2022-06-03T11:51:00.116663Z"
    },
    "jupyter": {
     "outputs_hidden": false
    },
    "pycharm": {
     "name": "#%%\n"
    },
    "tags": []
   },
   "outputs": [
    {
     "name": "stdout",
     "output_type": "stream",
     "text": [
      "Number of groups: 205\n"
     ]
    }
   ],
   "source": [
    "Groups, Measurements, _ = load_grouping_data(molecule_name, 'EM')\n",
    "# Groups, Measurements, _ = groupingWithOrder(paulis, connected=True, print_progress=True)\n",
    "print('Number of groups: {}'.format(len(Groups)))\n",
    "\n",
    "circuits_exact = []\n",
    "for j, measure in enumerate(Measurements):\n",
    "    circuit = measure_circuit_factor(measure, n_qubits, make_measurements=False)\n",
    "    circuit = circuit.compose(state_0, front=True)\n",
    "    # circuit.save_statevector()\n",
    "    circuit.snapshot_statevector('snapshot')\n",
    "    circuits_exact.append(circuit)"
   ]
  },
  {
   "cell_type": "code",
   "execution_count": 35,
   "id": "5bb0b910",
   "metadata": {
    "collapsed": false,
    "execution": {
     "iopub.execute_input": "2022-06-03T11:52:12.349967Z",
     "iopub.status.busy": "2022-06-03T11:52:12.349457Z",
     "iopub.status.idle": "2022-06-03T11:52:12.355916Z",
     "shell.execute_reply": "2022-06-03T11:52:12.355626Z",
     "shell.execute_reply.started": "2022-06-03T11:52:12.349902Z"
    },
    "jupyter": {
     "outputs_hidden": false
    },
    "pycharm": {
     "name": "#%%\n"
    },
    "tags": []
   },
   "outputs": [
    {
     "name": "stdout",
     "output_type": "stream",
     "text": [
      "3\n"
     ]
    }
   ],
   "source": [
    "n_max = 100\n",
    "\n",
    "if n_max == -1:\n",
    "    n_max = len(circuits_exact)\n",
    "n_runs = int(np.ceil(len(circuits_exact) / n_max))\n",
    "print(n_runs)"
   ]
  },
  {
   "cell_type": "code",
   "execution_count": 40,
   "id": "2bcdbe7f-93ce-41fb-84cd-ce905d645995",
   "metadata": {
    "execution": {
     "iopub.execute_input": "2022-06-03T11:55:36.884420Z",
     "iopub.status.busy": "2022-06-03T11:55:36.883867Z",
     "iopub.status.idle": "2022-06-03T11:56:30.489870Z",
     "shell.execute_reply": "2022-06-03T11:56:30.489242Z",
     "shell.execute_reply.started": "2022-06-03T11:55:36.884354Z"
    },
    "tags": []
   },
   "outputs": [
    {
     "data": {
      "application/vnd.jupyter.widget-view+json": {
       "model_id": "86f9c1f70bbf495fb92c5b2189b638dd",
       "version_major": 2,
       "version_minor": 0
      },
      "text/plain": [
       "Jobs completed:   0%|          | 0/3 [00:00<?, ?it/s]"
      ]
     },
     "metadata": {},
     "output_type": "display_data"
    }
   ],
   "source": [
    "jobs = send_ibmq_parallel(backed_calculations, n_max, circuits_exact, job_tag=molecule_name, kwards_run={'shots': 1}, progress_bar=True, verbose=False)\n",
    "jobs_ids = [job.job_id() for job in jobs]\n",
    "\n",
    "np.save(molecule_name + '_exact_job_ids.npy', jobs_ids)"
   ]
  },
  {
   "cell_type": "code",
   "execution_count": 37,
   "id": "31608616",
   "metadata": {
    "collapsed": false,
    "execution": {
     "iopub.execute_input": "2022-06-03T11:53:13.999760Z",
     "iopub.status.busy": "2022-06-03T11:53:13.999170Z",
     "iopub.status.idle": "2022-06-03T11:53:14.007117Z",
     "shell.execute_reply": "2022-06-03T11:53:14.006772Z",
     "shell.execute_reply.started": "2022-06-03T11:53:13.999681Z"
    },
    "jupyter": {
     "outputs_hidden": false
    },
    "pycharm": {
     "name": "#%%\n"
    },
    "tags": []
   },
   "outputs": [],
   "source": [
    "jobs_ids = np.load(molecule_name + '_exact_job_ids.npy').tolist()"
   ]
  },
  {
   "cell_type": "code",
   "execution_count": 39,
   "id": "3c4c512b-5b03-4fd3-9c34-836e5e16b525",
   "metadata": {
    "execution": {
     "iopub.execute_input": "2022-06-03T11:54:53.833464Z",
     "iopub.status.busy": "2022-06-03T11:54:53.832907Z",
     "iopub.status.idle": "2022-06-03T11:54:53.934729Z",
     "shell.execute_reply": "2022-06-03T11:54:53.934286Z",
     "shell.execute_reply.started": "2022-06-03T11:54:53.833398Z"
    },
    "tags": []
   },
   "outputs": [
    {
     "data": {
      "application/vnd.jupyter.widget-view+json": {
       "model_id": "6b209849f11b4a79beaa6afa29a4da6f",
       "version_major": 2,
       "version_minor": 0
      },
      "text/plain": [
       "Computing exact energy:   0%|          | 0/3 [00:00<?, ?it/s]"
      ]
     },
     "metadata": {},
     "output_type": "display_data"
    },
    {
     "ename": "FileNotFoundError",
     "evalue": "[Errno 2] No such file or directory: 'C:/Users/david/Downloads/'",
     "output_type": "error",
     "traceback": [
      "\u001b[0;31m---------------------------------------------------------------------------\u001b[0m",
      "\u001b[0;31mFileNotFoundError\u001b[0m                         Traceback (most recent call last)",
      "\u001b[0;32m/tmp/ipykernel_2624917/3791632228.py\u001b[0m in \u001b[0;36m<module>\u001b[0;34m\u001b[0m\n\u001b[1;32m      3\u001b[0m \u001b[0mpbar\u001b[0m \u001b[0;34m=\u001b[0m \u001b[0mtqdm\u001b[0m\u001b[0;34m(\u001b[0m\u001b[0mtotal\u001b[0m\u001b[0;34m=\u001b[0m\u001b[0mlen\u001b[0m\u001b[0;34m(\u001b[0m\u001b[0mjobs_ids\u001b[0m\u001b[0;34m)\u001b[0m\u001b[0;34m,\u001b[0m \u001b[0mdesc\u001b[0m\u001b[0;34m=\u001b[0m\u001b[0;34m'Computing exact energy'\u001b[0m\u001b[0;34m)\u001b[0m\u001b[0;34m\u001b[0m\u001b[0;34m\u001b[0m\u001b[0m\n\u001b[1;32m      4\u001b[0m \u001b[0;32mfor\u001b[0m \u001b[0mi\u001b[0m \u001b[0;32min\u001b[0m \u001b[0mrange\u001b[0m\u001b[0;34m(\u001b[0m\u001b[0mlen\u001b[0m\u001b[0;34m(\u001b[0m\u001b[0mjobs_ids\u001b[0m\u001b[0;34m)\u001b[0m\u001b[0;34m)\u001b[0m\u001b[0;34m:\u001b[0m\u001b[0;34m\u001b[0m\u001b[0;34m\u001b[0m\u001b[0m\n\u001b[0;32m----> 5\u001b[0;31m     \u001b[0mprob\u001b[0m \u001b[0;34m=\u001b[0m \u001b[0mload_data_IBMQ\u001b[0m\u001b[0;34m(\u001b[0m\u001b[0mjobs_ids\u001b[0m\u001b[0;34m[\u001b[0m\u001b[0mi\u001b[0m\u001b[0;34m]\u001b[0m\u001b[0;34m,\u001b[0m \u001b[0mverbose\u001b[0m\u001b[0;34m=\u001b[0m\u001b[0;32mTrue\u001b[0m\u001b[0;34m)\u001b[0m\u001b[0;34m\u001b[0m\u001b[0;34m\u001b[0m\u001b[0m\n\u001b[0m\u001b[1;32m      6\u001b[0m \u001b[0;34m\u001b[0m\u001b[0m\n\u001b[1;32m      7\u001b[0m     \u001b[0minitial\u001b[0m \u001b[0;34m=\u001b[0m \u001b[0mi\u001b[0m \u001b[0;34m*\u001b[0m \u001b[0mn_max\u001b[0m\u001b[0;34m\u001b[0m\u001b[0;34m\u001b[0m\u001b[0m\n",
      "\u001b[0;32m~/HEEM/examples/../utils.py\u001b[0m in \u001b[0;36mload_data_IBMQ\u001b[0;34m(job_id, download_path, verbose)\u001b[0m\n\u001b[1;32m   1379\u001b[0m         \u001b[0mdownload_path\u001b[0m \u001b[0;34m=\u001b[0m \u001b[0;34m'C:/Users/david/Downloads/'\u001b[0m\u001b[0;34m\u001b[0m\u001b[0;34m\u001b[0m\u001b[0m\n\u001b[1;32m   1380\u001b[0m \u001b[0;34m\u001b[0m\u001b[0m\n\u001b[0;32m-> 1381\u001b[0;31m     \u001b[0mdownload_data_IBMQ\u001b[0m\u001b[0;34m(\u001b[0m\u001b[0mjob_id\u001b[0m\u001b[0;34m,\u001b[0m \u001b[0mdownload_path\u001b[0m\u001b[0;34m)\u001b[0m\u001b[0;34m\u001b[0m\u001b[0;34m\u001b[0m\u001b[0m\n\u001b[0m\u001b[1;32m   1382\u001b[0m     \u001b[0;32mif\u001b[0m \u001b[0mverbose\u001b[0m\u001b[0;34m:\u001b[0m\u001b[0;34m\u001b[0m\u001b[0;34m\u001b[0m\u001b[0m\n\u001b[1;32m   1383\u001b[0m         \u001b[0mprint\u001b[0m\u001b[0;34m(\u001b[0m\u001b[0;34m'data downloaded'\u001b[0m\u001b[0;34m)\u001b[0m\u001b[0;34m\u001b[0m\u001b[0;34m\u001b[0m\u001b[0m\n",
      "\u001b[0;32m~/HEEM/examples/../utils.py\u001b[0m in \u001b[0;36mdownload_data_IBMQ\u001b[0;34m(job_id, download_path)\u001b[0m\n\u001b[1;32m   1355\u001b[0m     \u001b[0mwebbrowser\u001b[0m\u001b[0;34m.\u001b[0m\u001b[0mopen\u001b[0m\u001b[0;34m(\u001b[0m\u001b[0mprefix\u001b[0m \u001b[0;34m+\u001b[0m \u001b[0mjob_id\u001b[0m\u001b[0;34m)\u001b[0m\u001b[0;34m\u001b[0m\u001b[0;34m\u001b[0m\u001b[0m\n\u001b[1;32m   1356\u001b[0m     \u001b[0;32mwhile\u001b[0m \u001b[0;32mTrue\u001b[0m\u001b[0;34m:\u001b[0m\u001b[0;34m\u001b[0m\u001b[0;34m\u001b[0m\u001b[0m\n\u001b[0;32m-> 1357\u001b[0;31m         \u001b[0;32mif\u001b[0m \u001b[0mlen\u001b[0m\u001b[0;34m(\u001b[0m\u001b[0;34m[\u001b[0m\u001b[0mname\u001b[0m \u001b[0;32mfor\u001b[0m \u001b[0mname\u001b[0m \u001b[0;32min\u001b[0m \u001b[0mos\u001b[0m\u001b[0;34m.\u001b[0m\u001b[0mlistdir\u001b[0m\u001b[0;34m(\u001b[0m\u001b[0mdownload_path\u001b[0m\u001b[0;34m)\u001b[0m \u001b[0;32mif\u001b[0m \u001b[0mjob_id\u001b[0m \u001b[0;32min\u001b[0m \u001b[0mname\u001b[0m\u001b[0;34m]\u001b[0m\u001b[0;34m)\u001b[0m \u001b[0;34m>\u001b[0m \u001b[0;36m0\u001b[0m\u001b[0;34m:\u001b[0m\u001b[0;34m\u001b[0m\u001b[0;34m\u001b[0m\u001b[0m\n\u001b[0m\u001b[1;32m   1358\u001b[0m             \u001b[0;32mbreak\u001b[0m\u001b[0;34m\u001b[0m\u001b[0;34m\u001b[0m\u001b[0m\n\u001b[1;32m   1359\u001b[0m         \u001b[0;32melse\u001b[0m\u001b[0;34m:\u001b[0m\u001b[0;34m\u001b[0m\u001b[0;34m\u001b[0m\u001b[0m\n",
      "\u001b[0;31mFileNotFoundError\u001b[0m: [Errno 2] No such file or directory: 'C:/Users/david/Downloads/'"
     ]
    }
   ],
   "source": [
    "energy_exact = 0\n",
    "\n",
    "pbar = tqdm(total=len(jobs_ids), desc='Computing exact energy')\n",
    "for i in range(len(jobs_ids)):\n",
    "    prob = load_data_IBMQ(jobs_ids[i], verbose=True)\n",
    "    \n",
    "    initial = i * n_max\n",
    "    final = min(initial + n_max, len(circuits_exact))\n",
    "    \n",
    "    temp = probability2expected_parallel(-1, coeffs, labels, Groups[initial:final], Measurements[initial:final], shift=True, print_progress=True)\n",
    "    diagonals = [x[0] for x in temp]\n",
    "    factors = [x[1] for x in temp]\n",
    "    \n",
    "    diagonals = [(~diagonal * 2 - 1).astype('int8') for diagonal in diagonals]\n",
    "    \n",
    "    for j in range(len(diagonals)):\n",
    "        energy_exact += np.sum((diagonals[j] * np.array(factors[j])[:, None]) @ prob[j])\n",
    "        \n",
    "    pbar.update()\n",
    "pbar.close()\n",
    "print('Exact energy: {}'.format(energy_exact))"
   ]
  },
  {
   "cell_type": "markdown",
   "id": "1dfd4c50-ba67-49c2-a091-193f57ec0612",
   "metadata": {
    "jp-MarkdownHeadingCollapsed": true,
    "tags": []
   },
   "source": [
    "## Approximation (Simulation)"
   ]
  },
  {
   "cell_type": "code",
   "execution_count": 64,
   "id": "80dc75ad-a6fb-43f1-8b9d-aabce9bf0481",
   "metadata": {
    "execution": {
     "iopub.execute_input": "2022-06-03T12:20:17.279130Z",
     "iopub.status.busy": "2022-06-03T12:20:17.278435Z",
     "iopub.status.idle": "2022-06-03T12:20:17.417050Z",
     "shell.execute_reply": "2022-06-03T12:20:17.416629Z",
     "shell.execute_reply.started": "2022-06-03T12:20:17.279055Z"
    },
    "tags": []
   },
   "outputs": [
    {
     "name": "stdout",
     "output_type": "stream",
     "text": [
      "Number of groups 758\n"
     ]
    }
   ],
   "source": [
    "temp = load_grouping_data(molecule_name, 'EM')\n",
    "\n",
    "if temp is not None:\n",
    "    Groups, Measurements, layout = temp\n",
    "else:\n",
    "    Groups, Measurements, layout = groupingWithOrder(paulis, connected=True, print_progress=True)\n",
    "\n",
    "print('Number of groups', len(Groups))"
   ]
  },
  {
   "cell_type": "code",
   "execution_count": 65,
   "id": "f97d483d-ae49-46d4-8c20-d05f2730c4d0",
   "metadata": {
    "execution": {
     "iopub.execute_input": "2022-06-03T12:20:19.546852Z",
     "iopub.status.busy": "2022-06-03T12:20:19.546108Z",
     "iopub.status.idle": "2022-06-03T12:57:25.390987Z",
     "shell.execute_reply": "2022-06-03T12:57:25.390575Z",
     "shell.execute_reply.started": "2022-06-03T12:20:19.546776Z"
    },
    "tags": []
   },
   "outputs": [
    {
     "data": {
      "application/vnd.jupyter.widget-view+json": {
       "model_id": "3e58a153748549e1b24ad087d32f106e",
       "version_major": 2,
       "version_minor": 0
      },
      "text/plain": [
       "Jobs completed:   0%|          | 0/3 [00:00<?, ?it/s]"
      ]
     },
     "metadata": {},
     "output_type": "display_data"
    },
    {
     "data": {
      "application/vnd.jupyter.widget-view+json": {
       "model_id": "6bf4390c27ff4a3db80aca575f3684d4",
       "version_major": 2,
       "version_minor": 0
      },
      "text/plain": [
       "Computing energy:   0%|          | 0/758 [00:00<?, ?it/s]"
      ]
     },
     "metadata": {},
     "output_type": "display_data"
    },
    {
     "name": "stdout",
     "output_type": "stream",
     "text": [
      "Exact energy: -11.432072396915947\n"
     ]
    }
   ],
   "source": [
    "jobs, energy_exact = compute_energy_sparse(Groups, Measurements, 'Noiseless', n_chunks=300, layout=layout, shots=-1, noisy=False)\n",
    "print('Exact energy: {}'.format(energy_exact))"
   ]
  },
  {
   "cell_type": "markdown",
   "id": "cf5ca092-ba69-45dd-83f2-2639a360cfd6",
   "metadata": {},
   "source": [
    "# TPB"
   ]
  },
  {
   "cell_type": "code",
   "execution_count": 65,
   "id": "b805ff85-c9fc-43a1-88e3-7a66f8d52381",
   "metadata": {
    "execution": {
     "iopub.execute_input": "2022-06-07T08:24:28.652510Z",
     "iopub.status.busy": "2022-06-07T08:24:28.651758Z",
     "iopub.status.idle": "2022-06-07T08:24:28.662342Z",
     "shell.execute_reply": "2022-06-07T08:24:28.661859Z",
     "shell.execute_reply.started": "2022-06-07T08:24:28.652439Z"
    },
    "pycharm": {
     "name": "#%%\n"
    },
    "tags": []
   },
   "outputs": [
    {
     "name": "stdout",
     "output_type": "stream",
     "text": [
      "Number of groups 2\n"
     ]
    }
   ],
   "source": [
    "temp = load_grouping_data(molecule_name, 'TPB')\n",
    "# temp = None\n",
    "\n",
    "if temp is not None:\n",
    "    Groups, Measurements = temp\n",
    "else:\n",
    "    _, Groups, Measurements = TPBgrouping(paulis, print_progress=True)\n",
    "\n",
    "print('Number of groups', len(Groups))"
   ]
  },
  {
   "cell_type": "code",
   "execution_count": 66,
   "id": "424d60cf-5791-400f-bc87-558d7d780f90",
   "metadata": {
    "execution": {
     "iopub.execute_input": "2022-06-07T08:24:30.284312Z",
     "iopub.status.busy": "2022-06-07T08:24:30.283566Z",
     "iopub.status.idle": "2022-06-07T08:26:50.123644Z",
     "shell.execute_reply": "2022-06-07T08:26:50.122905Z",
     "shell.execute_reply.started": "2022-06-07T08:24:30.284242Z"
    },
    "pycharm": {
     "name": "#%%\n"
    },
    "tags": []
   },
   "outputs": [
    {
     "data": {
      "application/vnd.jupyter.widget-view+json": {
       "model_id": "eccb8778ce93401a9d93092d40646c0c",
       "version_major": 2,
       "version_minor": 0
      },
      "text/plain": [
       "Jobs completed:   0%|          | 0/1 [00:00<?, ?it/s]"
      ]
     },
     "metadata": {},
     "output_type": "display_data"
    },
    {
     "data": {
      "application/vnd.jupyter.widget-view+json": {
       "model_id": "949276ce47d14e0bb3256941a9dd037c",
       "version_major": 2,
       "version_minor": 0
      },
      "text/plain": [
       "Computing energy:   0%|          | 0/2 [00:00<?, ?it/s]"
      ]
     },
     "metadata": {},
     "output_type": "display_data"
    },
    {
     "name": "stdout",
     "output_type": "stream",
     "text": [
      "TPB energy: -1.0420566965912978\n",
      "Relative error: 2.476 %\n",
      "Simulation time 2.312 s\n"
     ]
    },
    {
     "data": {
      "application/vnd.jupyter.widget-view+json": {
       "model_id": "855e19e254404dafabe0a67630cfe179",
       "version_major": 2,
       "version_minor": 0
      },
      "text/plain": [
       "Jobs completed:   0%|          | 0/1 [00:00<?, ?it/s]"
      ]
     },
     "metadata": {},
     "output_type": "display_data"
    },
    {
     "data": {
      "application/vnd.jupyter.widget-view+json": {
       "model_id": "dab47163c58244f3b9d416cb09023235",
       "version_major": 2,
       "version_minor": 0
      },
      "text/plain": [
       "Computing energy:   0%|          | 0/2 [00:00<?, ?it/s]"
      ]
     },
     "metadata": {},
     "output_type": "display_data"
    },
    {
     "name": "stdout",
     "output_type": "stream",
     "text": [
      "TPB energy: -1.0349691787138675\n",
      "Relative error: 3.139 %\n",
      "Simulation time 1.275 s\n"
     ]
    },
    {
     "data": {
      "application/vnd.jupyter.widget-view+json": {
       "model_id": "16a8f544a10b4f81829545b2c981b3a9",
       "version_major": 2,
       "version_minor": 0
      },
      "text/plain": [
       "Jobs completed:   0%|          | 0/1 [00:00<?, ?it/s]"
      ]
     },
     "metadata": {},
     "output_type": "display_data"
    },
    {
     "data": {
      "application/vnd.jupyter.widget-view+json": {
       "model_id": "77be99670df04b04b13b0276656a2c8f",
       "version_major": 2,
       "version_minor": 0
      },
      "text/plain": [
       "Computing energy:   0%|          | 0/2 [00:00<?, ?it/s]"
      ]
     },
     "metadata": {},
     "output_type": "display_data"
    },
    {
     "name": "stdout",
     "output_type": "stream",
     "text": [
      "TPB energy: -1.0327698048136116\n",
      "Relative error: 3.345 %\n",
      "Simulation time 1.301 s\n"
     ]
    },
    {
     "data": {
      "application/vnd.jupyter.widget-view+json": {
       "model_id": "2896af748fbf4bc7ba0b4e793f3bcf00",
       "version_major": 2,
       "version_minor": 0
      },
      "text/plain": [
       "Jobs completed:   0%|          | 0/1 [00:00<?, ?it/s]"
      ]
     },
     "metadata": {},
     "output_type": "display_data"
    },
    {
     "data": {
      "application/vnd.jupyter.widget-view+json": {
       "model_id": "02c85819887a4d519c80b919b7e2b599",
       "version_major": 2,
       "version_minor": 0
      },
      "text/plain": [
       "Computing energy:   0%|          | 0/2 [00:00<?, ?it/s]"
      ]
     },
     "metadata": {},
     "output_type": "display_data"
    },
    {
     "name": "stdout",
     "output_type": "stream",
     "text": [
      "TPB energy: -1.0399246188402291\n",
      "Relative error: 2.676 %\n",
      "Simulation time 1.326 s\n"
     ]
    },
    {
     "data": {
      "application/vnd.jupyter.widget-view+json": {
       "model_id": "38fb8a52318b4b3da3f862dd680c383a",
       "version_major": 2,
       "version_minor": 0
      },
      "text/plain": [
       "Jobs completed:   0%|          | 0/1 [00:00<?, ?it/s]"
      ]
     },
     "metadata": {},
     "output_type": "display_data"
    },
    {
     "data": {
      "application/vnd.jupyter.widget-view+json": {
       "model_id": "7487628baebb41fa8b8e095515f9c838",
       "version_major": 2,
       "version_minor": 0
      },
      "text/plain": [
       "Computing energy:   0%|          | 0/2 [00:00<?, ?it/s]"
      ]
     },
     "metadata": {},
     "output_type": "display_data"
    },
    {
     "name": "stdout",
     "output_type": "stream",
     "text": [
      "TPB energy: -1.035908477148414\n",
      "Relative error: 3.051 %\n",
      "Simulation time 1.027 s\n"
     ]
    }
   ],
   "source": [
    "method = 'TPB'\n",
    "\n",
    "n_repeats = 5\n",
    "\n",
    "for _ in range(n_repeats):\n",
    "    jobs_TPB, energy_TPB, energies_TPB_temp = compute_energy_sparse(Groups, Measurements, method, n_chunks=shots_TPB[molecule_name], return_energy_temp=True)\n",
    "    relative_TPB = np.abs((energy_TPB - energy_exact) / energy_exact)\n",
    "\n",
    "    print('TPB energy: {}'.format(energy_TPB))\n",
    "    print('Relative error: {:.3f} %'.format(relative_TPB * 100))\n",
    "    \n",
    "    try:\n",
    "        time = sum((job.time_per_step()['COMPLETED'] - job.time_per_step()['RUNNING']).total_seconds() for job in jobs_TPB)\n",
    "        print(f'Simulation time {time} s')\n",
    "    except KeyError:\n",
    "        print('WTF IBMQ?')\n",
    "\n",
    "    save_data(energy_TPB, method)"
   ]
  },
  {
   "cell_type": "code",
   "execution_count": 68,
   "id": "245f59f5-e542-4d8b-8b93-c3c5c789899c",
   "metadata": {
    "execution": {
     "iopub.execute_input": "2022-06-07T08:26:50.261655Z",
     "iopub.status.busy": "2022-06-07T08:26:50.261404Z",
     "iopub.status.idle": "2022-06-07T08:26:50.379064Z",
     "shell.execute_reply": "2022-06-07T08:26:50.378567Z",
     "shell.execute_reply.started": "2022-06-07T08:26:50.261639Z"
    },
    "tags": []
   },
   "outputs": [
    {
     "data": {
      "application/vnd.jupyter.widget-view+json": {
       "model_id": "63db8a9a6b0c44b9a525d0788a5389e6",
       "version_major": 2,
       "version_minor": 0
      },
      "text/html": [
       "\n",
       "            <div style=\"display: inline-block;\">\n",
       "                <div class=\"jupyter-widgets widget-label\" style=\"text-align: center;\">\n",
       "                    Figure\n",
       "                </div>\n",
       "                <img src='data:image/png;base64,iVBORw0KGgoAAAANSUhEUgAAAoAAAAHgCAYAAAA10dzkAAAAOXRFWHRTb2Z0d2FyZQBNYXRwbG90bGliIHZlcnNpb24zLjQuMywgaHR0cHM6Ly9tYXRwbG90bGliLm9yZy/MnkTPAAAACXBIWXMAAA9hAAAPYQGoP6dpAABTZElEQVR4nO3dfVxUdd7/8feoMELg4IIwsKJYUmZmYm7eZEmZrrllWVlma9aWeXORiZU36x2YSpipFZVWpraXWf10a9utZSVDa1dULLHUojSUupIoRdBUMDi/P2adHLmRWw/DeT0fj3l05sz3fM/nyyHm7bm1GYZhCAAAAJbRzOwCAAAAcH4RAAEAACyGAAgAAGAxBEAAAACLIQACAABYDAEQAADAYgiAAAAAFkMABAAAsBgCIAAAgMUQAAEAACyGAAgAAGAxBEAAAACLIQACAABYDAEQAADAYgiAAAAAFkMABAAAsBgCIAAAgMUQAAEAACyGAAgAAGAxBEAAAACLIQACAABYDAEQAADAYgiAAAAAFkMABAAAsBgCIAAAgMUQAAEAACyGAAgAAGAxBEAAAACLIQACAABYDAEQAADAYgiAAAAAFkMABAAAsBgCIAAAgMUQAAEAACyGAAgAAGAxBEAAAACLIQACaDRsNlu1Xhs3btT+/fs95jVr1kzBwcEaPHiwMjIyquz3ggsu0KWXXqrExET9/PPP1a6vtLRUoaGhWrx4caVtEhISZLPZ9NNPP1X4eZcuXRQbG+t+f/DgQc2YMUO9e/dWSEiIWrVqpSuvvFIvvfSSSktLq10bANREC7MLAIDTzg5uTzzxhNLT0/Xhhx96zO/cubMOHz4sSXr44Yc1YsQIlZaWavfu3UpMTNR1112njIwMxcTEuJe544479Oijj0qSjh07pk2bNmnOnDn67LPPtG7dumrV99FHH+nHH3/UbbfdVpdhevjkk0/02muv6d5779XMmTPl4+Ojf/7znxo3bpy2bNmiV199td7WBQCnEQABNBq9evXyeN+mTRs1a9as3HxJ7gDYrl079+dXX321OnbsqP79++uFF17Qyy+/7G4fFhbm0c8NN9ygAwcOaPXq1Tp58qRatmx5zvrWrl2rHj16qH379rUaX0Wuvvpq7du3Tz4+Pu55AwYMUElJiZ5//nklJiYqMjKy3tYHABKHgAE0MadD3oEDB87Z1uFwyGazqXnz5udsaxiG3n77bd1+++11rvFMrVu39gh/p1111VWSpO+++65e1wcAEnsAATQxe/fuleTae3gmwzD0yy+/SPr1EPCqVas0fPjwCgPY2TZv3qyDBw9WOwCWlpa611cbH374oVq0aKGLL7641n0AQGXYAwjAq5WVlemXX35RcXGxPv30Uz344IOSpHvuucej3QsvvCAfHx/5+PiodevWuvXWW9W3b18tW7asWutZu3atLr/8ckVHR1ervdPpdK/vzNfu3bvPuez69ev1l7/8RQ8//LCCg4OrtT4AqAn2AALwalOmTNGUKVPc78PCwrRs2TINHjzYo92dd96pxx9/XJJ04sQJZWVl6YknntCgQYP0wQcfyG63V7mev/71r/rTn/5U7bo++OADORyOcvOHDx9e5XKffvqp7rzzTvXq1UtJSUnVXh8A1AQBEIBXe+SRR/THP/5RzZo1U1BQkDp06CCbzVauXZs2bdSjRw/3+2uuuUZt2rTR3XffrZUrV2rMmDGVrmPbtm3Kzc2t0fl/V1xxhUJCQsrNr+pikx07dmjAgAGKjo7W+++/f85QCgC1RQAE4NXatm3rEexqomvXrpKknTt3Vtlu3bp1uvjii9WlS5darac6duzYoRtuuEHt27fX+vXrK9x7CAD1hXMAAVhWVlaWJCk0NLTKduvWrav3q3/PruOGG25Q27ZtlZaWptatWzfYugBAYg8gAIv44YcftGXLFknSyZMnlZWVpblz5yooKEj3339/pctlZWVp3759DRYAs7OzdcMNN0iS5s2bp6+//lpff/21+/OLLrqo3BXNAFBXBEAAlrB27VqtXbtWkuTj46PIyEgNGTJE06dPr/LGzuvWrVP79u115ZVXNkhdGRkZOnTokCTp5ptvLvf5ihUrdN999zXIugFYl80wDMPsIgCgsercubNuvPFGPf3002aXAgD1hgAIAABgMVwEAgAAYDEEQAAAAIshAAIAAFgMARAAAMBiCIAAAAAWQwAEAACwGG4EXQdlZWX6/vvvFRgYWOHD5wEAQONjGIaOHj2qiIgINWtmzX1hBMA6+P777xUZGWl2GQAAoBa+/fZbtW3b1uwyTEEArIPAwEBJrl+gVq1amVwNAACojqKiIkVGRrq/x62IAFgHpw/7tmrVigAIAICXsfLpW6Ye+J43b5769Okjf39/BQUFVWsZwzCUkJCgiIgI+fn5KTY2Vrt37/ZoM2bMGF100UXy8/NTmzZtdMstt+jLL7/0aBMVFSWbzebxmjp1an0NDQAAoNEyNQCWlJRo2LBhGjduXLWXWbBggRYtWqSUlBRlZmbK6XRqwIABOnr0qLvNlVdeqRUrVuiLL77Qv/71LxmGoYEDB6q0tNSjrzlz5ujgwYPu14wZM+ptbAAAAI2VqYeAExMTJUkrV66sVnvDMLRkyRJNnz5dt912myRp1apVCgsL0+uvv64xY8ZIkh566CH3MlFRUZo7d66uuOIK7d+/XxdddJH7s8DAQDmdznoaDQAAgHfwqmufc3JylJeXp4EDB7rn2e129evXT5s3b65wmZ9//lkrVqxQhw4dyl2xm5ycrODgYHXr1k3z5s1TSUlJlesvLi5WUVGRxwsAAMDbeFUAzMvLkySFhYV5zA8LC3N/dtoLL7yggIAABQQEKDU1VWlpafL19XV//sgjj+iNN95Qenq64uLitGTJEo0fP77K9SclJcnhcLhf3AIGAAB4o3oPgAkJCeUurjj7tX379jqt4+yrdgzDKDfvnnvu0Y4dO7Rp0yZFR0frzjvv1MmTJ92fx8fHq1+/furatasefPBBLV26VMuXL9ehQ4cqXe+0adNUWFjofn377bd1GgcAAIAZ6v0cwLi4OA0fPrzKNlFRUbXq+/T5enl5eQoPD3fPz8/PL7dX8PReuujoaPXq1UutW7fW22+/rbvvvrvCvnv16iVJ2rt3r4KDgytsY7fbZbfba1U7AABAY1HvATAkJEQhISH13a0kqUOHDnI6nUpLS1NMTIwk15XEmzZtUnJycpXLGoah4uLiSj/fsWOHJHkESwAAgKbI1KuAc3NzdfjwYeXm5qq0tFRZWVmSpI4dOyogIECS1KlTJyUlJWno0KGy2WyaOHGi5s+fr+joaEVHR2v+/Pny9/fXiBEjJEnffPON3nzzTQ0cOFBt2rTR//3f/yk5OVl+fn4aPHiwJCkjI0NbtmzRddddJ4fDoczMTMXHx2vIkCFq166dKT8LAACA88XUADhr1iytWrXK/f70Xr309HTFxsZKkrKzs1VYWOhuM3nyZJ04cULjx49XQUGBevbsqfXr17sf59KyZUt9/PHHWrJkiQoKChQWFqZrr71WmzdvVmhoqCTXodw333xTiYmJKi4uVvv27TV69GhNnjz5PI0cAADAPDbDMAyzi/BWRUVFcjgcKiws5FFwAAB4Cb6/eRYwAFTu558r/6x5c6lly+q1bdZM8vOrXdvjx6XK/p1us0n+/rVre+KEVFZWeR0XXFC7tidPSmc9danWbf39XXVLUnGx9Msv9dPWz8/1c5akkhLp1CnXz62i58JW1LYyLVu6fi9q2vbUKVf7ytjtUosWNW/7yy+un0VlfH0lH5+aty0tdW27yvj4uNrXtG1Zmet3rT7atmjh+llIrm17/Ljn51X9P2gVBmqtsLDQkGQUFhaaXQqAhuD66qj4NXiwZ1t//8rb9uvn2TYkpPK2PXp4tm3fvvK2nTt7tu3cufK27dt7tu3Ro/K2ISGebfv1q7ytv79n28GDq/65nemOO6pue+zYr21Hjaq6bX7+r23Hj6+6bU7Or20fe6zqtrt2/dp29uyq227b9mvbBQuqbpue/mvblJSq2/7jH7+2XbGi6rZvvfVr27feqrrtihW/tv3HP6pum5Lya9v09KrbLljwa9tt26puO3v2r2137aq67WOP/do2J6fqtuPH/9o2P7/c54WSYfXvb6+6ETQAAADqjnMA64BzCIAmjkPANW/rbYeAjxyRunWTDhyQHnlEmjev8rYcAnZNN4FDwEVFRXJERFj6+5sAWAcEQADwcn/+s5SUJEVGSnv2SP+9BRmaNr6/vexZwAAA1Jvdu6WnnnJNP/cc4Q+WQgAEAFiPYUjjxrkOfQ4ZIt1yi9kVAecVARAAYD2rVkkff+w6d/DZZ82uBjjvCIAAAGs5dEh67DHXdEKC1L69qeUAZiAAAgCsZcoUVwjs0kWaONHsagBTEAABANbx739Ly5e7ppcu/fXWJoDFEAABANZw6pQ0dqxr+sEHpauvNrcewEQEQACANSxe7Lr1S0iI9OSTZlcDmIoACABo+g4ckBITXdMLF0rBwebWA5iMAAgAaPomTHA9DqxfP+nee82uBjAdARAA0LT97W/Su++6Lvh48cVfnxkMWBgBEADQdB07Jj38sGv68celSy81tx6gkSAAAgCarsRE6dtvpQ4dpOnTza4GaDQIgACApumzz1xX/kpSSorrsW8AJBEAAQBNUVmZ655/paXS7bdLgwebXRHQqBAAAQBNz/LlUkaGFBAgLVlidjVAo0MABAA0Lfn5ruf9StITT0ht25pbD9AIEQABAE3L449LBQVSt25SXJzZ1QCNEgEQANB0pKdLr73mutff0qVSixZmVwQ0SgRAAEDTUFwsjRvnmh47VurZ09x6gEaMAAgAaBoWLpSys6XQUGn+fLOrARo1AiAAwPvt2yfNneuaXrxYCgoytRygsSMAAgC8m2G4LvY4eVLq31+6+26zKwIaPQIgAMC7rV0rpaZKvr7SCy+4LgABUCUCIADAexUVSY884pqeNk26+GJz6wG8BAEQAOC9Zs6UDh6UOnaUpk41uxrAaxAAAQDe6ZNPpJQU1/QLL0gtW5pbD+BFCIAAAO9TWuq6119ZmeuijwEDzK4I8CoEQACA91m6VNq+XXI4pEWLzK4G8DoEQACAdzl4UPrzn13T8+dLTqe59QBeiAAIAPAujz7quvr3d7+TxowxuxrAKxEAAQDeIy1NWrNGatbMdRi4eXOzKwK8EgEQAOAdTp6Uxo93TT/8sNS9u7n1AF6MAAgA8A5PPint3StFREhz5phdDeDVCIAAgMbvq6+kpCTX9DPPSK1amVsP4OVMDYDz5s1Tnz595O/vr6CgoGotYxiGEhISFBERIT8/P8XGxmr37t2Vtr3xxhtls9n0zjvveHxWUFCgkSNHyuFwyOFwaOTIkTpy5EjdBgQAqH+G4Tr0W1IiDRok3X672RUBXs/UAFhSUqJhw4Zp3Lhx1V5mwYIFWrRokVJSUpSZmSmn06kBAwbo6NGj5douWbJEtkoeCj5ixAhlZWUpNTVVqampysrK0siRI2s9FgBAA1mzRtqwwfWkj5QUqZK/6wCqr4WZK09MTJQkrVy5slrtDcPQkiVLNH36dN12222SpFWrViksLEyvv/66xpxxO4CdO3dq0aJFyszMVHh4uEc/X3zxhVJTU7Vlyxb17NlTkvTyyy+rd+/eys7O1iWXXFIPowMA1FlBgRQf75qeMUO66CJz6wGaCK86BzAnJ0d5eXkaOHCge57dble/fv20efNm97zjx4/r7rvvVkpKipwV3CA0IyNDDofDHf4kqVevXnI4HB79AABMNn26lJ8vdeokPfaY2dUATYapewBrKi8vT5IUFhbmMT8sLEwHDhxwv4+Pj1efPn10yy23VNpPaGhoufmhoaHudVSkuLhYxcXF7vdFRUU1qh8AUANbt7ru9SdJL74o2e3m1gM0IfW+BzAhIUE2m63K1/bt2+u0jrPP6zMMwz3v3Xff1YcffqglS5bUqI+z+6lIUlKS+6IRh8OhyMjImhcPADi3X36Rxo51XQBy771SbKzZFQFNSr3vAYyLi9Pw4cOrbBMVFVWrvk8fzs3Ly/M4ry8/P9+9V/DDDz/Uvn37yl1VfPvtt+uaa67Rxo0b5XQ69cMPP5Tr/8cffyy3d/FM06ZN06RJk9zvi4qKCIEA0BBSUqSsLKl1a+mpp8yuBmhy6j0AhoSEKCQkpL67lSR16NBBTqdTaWlpiomJkeS6knjTpk1KTk6WJE2dOlUPPvigx3KXX365Fi9erJtvvlmS1Lt3bxUWFmrbtm266qqrJElbt25VYWGh+vTpU+n67Xa77ByCAICG9d130syZrunkZKmCU3YA1I2p5wDm5ubq8OHDys3NVWlpqbKysiRJHTt2VEBAgCSpU6dOSkpK0tChQ2Wz2TRx4kTNnz9f0dHRio6O1vz58+Xv768RI0ZIcu0lrOjCj3bt2qlDhw6SpEsvvVSDBg3S6NGjtWzZMknSQw89pJtuuokrgAHAbBMnSseOSb17Sw88YHY1QJNkagCcNWuWVq1a5X5/eq9eenq6Yv97vkd2drYKCwvdbSZPnqwTJ05o/PjxKigoUM+ePbV+/XoFBgbWaN2rV6/WhAkT3FcUDxkyRCkpKXUcEQCgTt57T1q3Tmre3HUBSDOvulkF4DVshmEYZhfhrYqKiuRwOFRYWKhWPJYIAOrm+HHpssuk/ftdt3zh3D80EL6/vew+gACAJmzuXFf4i4yUZs82uxqgSSMAAgDMt3v3r3v8nntO+u954AAaBgEQAGAuw5DGjXPd+2/IEKmSm/gDqD8EQACAuVatkj7+WPL3l5591uxqAEsgAAIAzHPo0K/P+E1IkNq3N7UcwCoIgAAA80yZ4gqBXbq47v8H4LwgAAIAzPGf/0jLl7umly6VfHzMrQewEAIgAOD8O3VKGjvWNf3gg9LVV5tbD2AxBEAAwPm3ZIm0a5cUEiI9+aTZ1QCWQwAEAJxfBw64LviQpIULpeBgU8sBrIgACAA4vyZMcD32rV8/6d57za4GsCQCIADg/Pnb36R335VatJBeeEGy2cyuCLAkAiAA4Pw4dkx6+GHX9OOPS507m1sPYGEEQADA+ZGYKH37rRQVJc2YYXY1gKURAAEADe+zz6TFi13Tzz/veuwbANMQAAEADauszHXPv9JS6fbbpcGDza4IsDwCIACgYS1fLmVkSAEBrvv/ATAdARAA0HDy813P+5WkJ56Q2rY1tx4AkgiAAICG9PjjUkGB1K2bFBdndjUA/osACABoGOnp0muvue71t3Sp695/ABoFAiAAoP4VF0vjxrmmx46VevY0tx4AHgiAAID6t3ChlJ0thYZK8+ebXQ2AsxAAAQD1a98+ae5c1/TixVJQkKnlACiPAAgAqD+G4brY4+RJqX9/6e67za4IQAUIgACA+rN2rZSaKvn6Si+84LoABECjQwAEANSPoiLpkUdc09OmSRdfbG49ACpFAAQA1I+ZM6WDB6WOHaWpU82uBkAVCIAAgLr79FMpJcU1/cILUsuW5tYDoEoEQABA3ZSWuu71V1bmuuhjwACzKwJwDgRAAEDdLFsmZWZKDoe0aJHZ1QCoBgIgAKD28vJcF3xIrhs+O53m1gOgWgiAAIDamzTJdfXv734njRljdjUAqokACAConbQ0ac0aqVkzaelSqXlzsysCUE0EQABAzZ08KY0f75qOi5O6dze3HgA1QgAEANTck09Ke/dK4eHSE0+YXQ2AGiIAAgBq5quvpKQk1/Qzz0itWplbD4AaIwACAKrPMFyHfktKpEGDpDvuMLsiALVAAAQAVN+aNdKGDa4nfaSkSDab2RUBqAUCIACgegoKpPh41/SMGdJFF5lbD4BaIwACAKpn+nQpP1/q1El67DGzqwFQBwRAAMC5bd3qutefJL34omS3m1sPgDoxNQDOmzdPffr0kb+/v4KCgqq1jGEYSkhIUEREhPz8/BQbG6vdu3dX2vbGG2+UzWbTO++84/FZVFSUbDabx2vq1Kl1HBEANEG//CKNHeu6AOTee6XYWLMrAlBHpgbAkpISDRs2TOPGjav2MgsWLNCiRYuUkpKizMxMOZ1ODRgwQEePHi3XdsmSJbJVcYLynDlzdPDgQfdrxowZtRoHADRpKSlSVpbUurX01FNmVwOgHrQwc+WJiYmSpJUrV1arvWEYWrJkiaZPn67bbrtNkrRq1SqFhYXp9ddf15gznkO5c+dOLVq0SJmZmQoPD6+wv8DAQDl5cDkAVO6776SZM13TyclSaKi59QCoF151DmBOTo7y8vI0cOBA9zy73a5+/fpp8+bN7nnHjx/X3XffrZSUlCoDXnJysoKDg9WtWzfNmzdPJSUlVa6/uLhYRUVFHi8AaNImTpSOHZN695YeeMDsagDUE1P3ANZUXl6eJCksLMxjflhYmA4cOOB+Hx8frz59+uiWW26ptK9HHnlE3bt3V+vWrbVt2zZNmzZNOTk5euWVVypdJikpyb3XEgCavPfek9atk5o3d10A0syr9hkAqEK9/9+ckJBQ7uKKs1/bt2+v0zrOPq/PMAz3vHfffVcffvihlixZUmUf8fHx6tevn7p27aoHH3xQS5cu1fLly3Xo0KFKl5k2bZoKCwvdr2+//bZO4wCARuv4cSkuzjUdHy917WpuPQDqVb3vAYyLi9Pw4cOrbBMVFVWrvk8fzs3Ly/M4ry8/P9+9V/DDDz/Uvn37yl1VfPvtt+uaa67Rxo0bK+y7V69ekqS9e/cqODi4wjZ2u112bn0AwArmzpX275ciI6XZs82uBkA9q/cAGBISopCQkPruVpLUoUMHOZ1OpaWlKSYmRpLrSuJNmzYpOTlZkjR16lQ9+OCDHstdfvnlWrx4sW6++eZK+96xY4ckVXrBCABYxu7dv17t+9xzUkCAufUAqHemngOYm5urw4cPKzc3V6WlpcrKypIkdezYUQH//YPTqVMnJSUlaejQobLZbJo4caLmz5+v6OhoRUdHa/78+fL399eIESMkufYSVnThR7t27dShQwdJUkZGhrZs2aLrrrtODodDmZmZio+P15AhQ9SuXbvzM3gAaIwMQxo/3nXvvyFDpCrOpQbgvUwNgLNmzdKqVavc70/v1UtPT1fsf280mp2drcLCQnebyZMn68SJExo/frwKCgrUs2dPrV+/XoGBgdVer91u15tvvqnExEQVFxerffv2Gj16tCZPnlw/AwMAb/Xaa9JHH0n+/tKzz5pdDYAGYjMMwzC7CG9VVFQkh8OhwsJCtWrVyuxyAKBuDh1yPef3p5+kBQukxx83uyKgQfD97WX3AQQANKCpU13hr0sX1/3/ADRZBEAAgPSf/0in74O6dKnk42NuPQAaFAEQAKzu1Clp7FjX9AMPSFdfbW49ABocARAArG7JEmnXLik42PW8XwBNHgEQAKzswAEpIcE1vXChKwQCaPIIgABgZRMmuB77du210qhRZlcD4DwhAAKAVf3tb9K770otWkgvviid9Zx1AE0XARAArOjYMenhh13Tjz8ude5sbj0AzisCIABYUWKi9O23UlSUNGOG2dUAOM8IgABgNZ99Ji1e7Jp+/nnXY98AWAoBEACspKzMdc+/0lLp9tulwYPNrgiACQiAAGAly5dLGRlSQIDr/n8ALIkACABWkZ8vTZnimn7iCaltW3PrAWAaAiAAWMXjj0sFBVK3blJcnNnVADARARAArCA9XXrtNde9/pYudd37D4BlEQABoKkrLpbGjXNNjx0r9expbj0ATEcABICmbuFCKTtbCg2V5s83uxoAjQABEACasn37pLlzXdOLF0tBQaaWA6BxIAACQFNlGK6LPU6elPr3l+6+2+yKADQSBEAAaKrWrpVSUyVfX+mFF1wXgACACIAA0DQVFUkTJ7qmp02TLr7Y1HIANC4EQABoimbNkr7/XurYUZo61exqADQyBEAAaGo+/VR67jnX9AsvSC1bmlsPgEaHAAgATUlpqetef2Vlros+BgwwuyIAjRABEACakmXLpMxMqVUradEis6sB0EgRAAGgqcjLc13wIblu+Ox0mlsPgEaLAAgATcWkSa6rf3v0cB0GBoBKEAABoClIS5PWrJGaNZOWLpWaNze7IgCNGAEQALzdyZPS+PGu6bg46corza0HQKNHAAQAb/fkk9LevVJ4uPTEE2ZXA8ALEAABwJt99ZWUlOSafuYZ19W/AHAOBEAA8FaG4Tr0W1IiDRok3XGH2RUB8BIEQADwVmvWSBs2uJ70kZIi2WxmVwTASxAAAcAbFRRI8fGu6RkzpIsuMrceAF6FAAgA3mj6dCk/X+rUSXrsMbOrAeBlCIAA4G22bnXd60+SXnxRstvNrQeA1yEAAoA3+eUX11M+DEO6914pNtbsigB4IQIgAHiTlBQpK0tq3Vp66imzqwHgpQiAAOAtvvtOmjnTNZ2cLIWGmlsPAK9FAAQAbzFxonTsmNS7t/TAA2ZXA8CLmRoA582bpz59+sjf319BQUHVWsYwDCUkJCgiIkJ+fn6KjY3V7t27PdrExsbKZrN5vIYPH+7RpqCgQCNHjpTD4ZDD4dDIkSN15MiRehoZANSz996T1q2Tmjd3XQDSjH+/A6g9U/+ClJSUaNiwYRo3bly1l1mwYIEWLVqklJQUZWZmyul0asCAATp69KhHu9GjR+vgwYPu17Jlyzw+HzFihLKyspSamqrU1FRlZWVp5MiR9TIuAKhXx49LcXGu6fh4qWtXc+sB4PVamLnyxMRESdLKlSur1d4wDC1ZskTTp0/XbbfdJklatWqVwsLC9Prrr2vMmDHutv7+/nI6nRX288UXXyg1NVVbtmxRz549JUkvv/yyevfurezsbF1yySV1GBUA1LN586T9+6XISGn2bLOrAdAEeNUxhJycHOXl5WngwIHueXa7Xf369dPmzZs92q5evVohISG67LLL9Nhjj3nsIczIyJDD4XCHP0nq1auXHA5HuX4AwFR79vx6te9zz0kBAebWA6BJMHUPYE3l5eVJksLCwjzmh4WF6cCBA+7399xzjzp06CCn06ldu3Zp2rRp2rlzp9LS0tz9hFZw9VxoaKh7HRUpLi5WcXGx+31RUVGdxgMAVTIMadw46dQpacgQ6ZZbzK4IQBNR73sAExISyl2AcfZr+/btdVqH7awHnhuG4TFv9OjRuuGGG9SlSxcNHz5ca9eu1QcffKBPP/200j4q6udsSUlJ7otGHA6HIiMj6zQOAKjSa69JH30k+ftLzz5rdjUAmpB63wMYFxdX7orbs0VFRdWq79Pn9OXl5Sk8PNw9Pz8/v9xewTN1795dPj4++vrrr9W9e3c5nU798MMP5dr9+OOPVfYzbdo0TZo0yf2+qKiIEAigYRw69OszfmfPltq3N7ceAE1KvQfAkJAQhYSE1He3kuQ+rJuWlqaYmBhJriuJN23apOTk5EqX2717t06dOuUOjb1791ZhYaG2bdumq666SpK0detWFRYWqk+fPpX2Y7fbZeeZmwDOh6lTpZ9+ki67zHXlLwDUI1MvAsnNzVVWVpZyc3NVWlqqrKwsZWVl6dixY+42nTp10ttvvy3Jddh24sSJmj9/vt5++23t2rVL9913n/z9/TVixAhJ0r59+zRnzhxt375d+/fv1/vvv69hw4YpJiZGV199tSTp0ksv1aBBgzR69Ght2bJFW7Zs0ejRo3XTTTdxBTAA8/3nP9Irr7imly6VfHzMrQdAk2PqRSCzZs3SqlWr3O9P79VLT09X7H8fcJ6dna3CwkJ3m8mTJ+vEiRMaP368CgoK1LNnT61fv16BgYGSJF9fX23YsEHPPPOMjh07psjISP3hD3/Q7Nmz1bx5c3c/q1ev1oQJE9xXFA8ZMkQpKSkNPWQAqNqpU9LYsa7pBx6Q+vY1tx4ATZLNMAzD7CK8VVFRkRwOhwoLC9WqVSuzywHQFDz1lDR5shQcLGVnu/4LoF7x/e1l9wEEgCbtwAEpIcE1vXAh4Q9AgyEAAkBjMWGC67Fv114rjRpldjUAmjACIAA0Bn/7m/Tuu1KLFtKLL0pV3JMUAOqKAAgAZjt2THr4Ydf0449LnTubWw+AJo8ACABmS0yUvv1WioqSZswwuxoAFkAABAAzffaZtHixa/r5512PfQOABkYABACzlJW57vlXWirdfrs0eLDZFQGwCAIgAJhl+XIpI0MKCJCWLDG7GgAWQgAEADPk50tTprimn3hCatvW3HoAWAoBEADM8PjjUkGB1K2bFBdndjUALIYACADnW3q69Nprrnv9LV3quvcfAJxHBEAAOJ+Ki6Vx41zTY8dKPXuaWw8ASyIAAsD5tHChlJ0thYZK8+ebXQ0AiyIAAsD58s030ty5runFi6WgIFPLAWBdBEAAOB8MQ/qf/5FOnpT695fuvtvsigBYGAEQAM6Hdeuk1FTJ11d64QXXBSAAYBICIAA0tKIi6ZFHXNPTpkkXX2xuPQAsjwAIAA1t1izp+++ljh2lqVPNrgYACIAA0KA+/VR67jnX9PPPSy1bmlsPAIgACAANp7TUda+/sjJp+HBp4ECzKwIASQRAAGg4y5ZJmZlSq1bSokVmVwMAbgRAAGgIeXmuCz4k1w2fw8PNrQcAzkAABICGMGmS6+rfHj1ch4EBoBEhAAJAfUtLk9askZo1k5YulZo3N7siAPBAAASA+nTypDR+vGs6Lk668kpz6wGAChAAAaA+PfmktHev65y/J54wuxoAqBABEADqy1dfSUlJrulnnnFd/QsAjRABEADqg2G4Dv2WlEiDBkl33GF2RQBQKQIgANSHNWukDRtcT/pISZFsNrMrAoBKEQABoK4KCqT4eNf0jBnSRReZWw8AnAMBEADqavp0KT9f6tRJeuwxs6sBgHMiAAJAXWzd6rrXnyS9+KJkt5tbDwBUAwEQAGrrl19cT/kwDOnee6XYWLMrAoBqIQACQG2lpEhZWVLr1tJTT5ldDQBUGwEQAGrju++kmTNd08nJUmioufUAQA0QAAGgNuLjpWPHpN69pQceMLsaAKgRAiAA1NT770tr10rNm7suAGnGn1IA3oW/WgBQE8ePS3Fxrun4eKlrV3PrAYBaaPbMM89IkrKzs1VWVmZyOQDQyM2bJ+XkSJGR0uzZZlcDALXSokuXLpKk+Ph47d27VwEBAbrsssvUpUsXdenSRX/4wx9MLhEAGok9e3692vfZZ6WAAHPrAYBashmGYZw5o6ioSLt27dKuXbu0Z88eLVmyxKTSGr+ioiI5HA4VFhaqVatWZpcDoCEZhus+fx99JN18s/S3v/G8X8BL8f1dwTmArVq1Up8+ffTQQw81ePibN2+e+vTpI39/fwUFBVVrGcMwlJCQoIiICPn5+Sk2Nla7d+/2aBMbGyubzebxGj58uEebqKiocm2mTp1aX0MD0NS89por/Pn7S889R/gD4NVMvQikpKREw4YN07hx46q9zIIFC7Ro0SKlpKQoMzNTTqdTAwYM0NGjRz3ajR49WgcPHnS/li1bVq6vOXPmeLSZMWNGnccEoAk6dOjXZ/zOni21b29uPQBQRy3MXHliYqIkaeXKldVqbxiGlixZounTp+u2226TJK1atUphYWF6/fXXNWbMGHdbf39/OZ3OKvsLDAw8ZxsA0NSp0k8/SZdd5rryFwC8nFfdBiYnJ0d5eXkaOHCge57dble/fv20efNmj7arV69WSEiILrvsMj322GPl9hBKUnJysoKDg9WtWzfNmzdPJSUlVa6/uLhYRUVFHi8ATdx//iO98opreulSycfH3HoAoB6YugewpvLy8iRJYWFhHvPDwsJ04MAB9/t77rlHHTp0kNPp1K5duzRt2jTt3LlTaWlp7jaPPPKIunfvrtatW2vbtm2aNm2acnJy9MrpP/QVSEpKcu+1BGABp05JY8e6ph94QOrb19x6AKCe1HsATEhIOGdIyszMVI8ePWq9DttZJ18bhuExb/To0e7pLl26KDo6Wj169NCnn36q7t27S3Ld9ua0rl27qnXr1rrjjjvcewUrMm3aNE2aNMn9vqioSJGRkbUeB4BGbskSadcuKTjY9bxfAGgi6j0AxsXFlbvi9mxRUVG16vv0+Xp5eXkKDw93z8/Pzy+3V/BM3bt3l4+Pj77++mt3ADxbr169JEl79+6tNADa7XbZ7fZa1Q7Ayxw4ICUkuKYXLnSFQABoIuo9AIaEhCgkJKS+u5Uk92HdtLQ0xcTESHJdSbxp0yYlV/Gv8927d+vUqVMeofFsO3bskKQq2wCwkAkTXI99u/ZaadQos6sBgHpl6jmAubm5Onz4sHJzc1VaWqqsrCxJUseOHRXw3zvsd+rUSUlJSRo6dKhsNpsmTpyo+fPnKzo6WtHR0Zo/f778/f01YsQISdK+ffu0evVqDR48WCEhIdqzZ48effRRxcTE6Oqrr5YkZWRkaMuWLbruuuvkcDiUmZmp+Ph4DRkyRO3atTPlZwGgEdm2TXr3XalFC+nFF7nnH4Amx9QAOGvWLK1atcr9/vRevfT0dMXGxkpyPaO4sLDQ3Wby5Mk6ceKExo8fr4KCAvXs2VPr169XYGCgJMnX11cbNmzQM888o2PHjikyMlJ/+MMfNHv2bDVv3lyS61Dum2++qcTERBUXF6t9+/YaPXq0Jk+efJ5GDqBRu+oq6f33pa++kjp3NrsaAKh35R4Fh+rjUTIAAHgfvr+97D6AAAAAqDsCIAAAgMUQAAEAACyGAAgAAGAxBEAAAACLIQACAABYDAEQAADAYgiAAAAAFkMABAAAsBgCIAAAgMUQAAEAACyGAAgAAGAxBEAAAACLIQACAABYDAEQAADAYgiAAAAAFkMABAAAsBgCIAAAgMUQAAEAACyGAAgAAGAxBEAAAACLIQACAABYDAEQAADAYgiAAAAAFkMABAAAsBgCIAAAgMUQAAEAACyGAAgAAGAxBEAAAACLIQACAABYDAEQAADAYgiAAAAAFkMABAAAsBgCIAAAgMUQAAEAACyGAAgAAGAxBEAAAACLIQACAABYDAEQAADAYgiAAAAAFmNqAJw3b5769Okjf39/BQUFVWsZwzCUkJCgiIgI+fn5KTY2Vrt37y7XLiMjQ9dff70uuOACBQUFKTY2VidOnHB/XlBQoJEjR8rhcMjhcGjkyJE6cuRIPY0MAACg8TI1AJaUlGjYsGEaN25ctZdZsGCBFi1apJSUFGVmZsrpdGrAgAE6evSou01GRoYGDRqkgQMHatu2bcrMzFRcXJyaNft1uCNGjFBWVpZSU1OVmpqqrKwsjRw5sl7HBwAA0BjZDMMwzC5i5cqVmjhx4jn3wBmGoYiICE2cOFFTpkyRJBUXFyssLEzJyckaM2aMJKlXr14aMGCAnnjiiQr7+eKLL9S5c2dt2bJFPXv2lCRt2bJFvXv31pdffqlLLrmkWnUXFRXJ4XCosLBQrVq1quZoAQCAmfj+9rJzAHNycpSXl6eBAwe659ntdvXr10+bN2+WJOXn52vr1q0KDQ1Vnz59FBYWpn79+unf//63e5mMjAw5HA53+JNcodHhcLj7AQAAaKq8KgDm5eVJksLCwjzmh4WFuT/75ptvJEkJCQkaPXq0UlNT1b17d/Xv319ff/21u5/Q0NBy/YeGhrr7qUhxcbGKioo8XgAAAN6m3gNgQkKCbDZbla/t27fXaR02m83jvWEY7nllZWWSpDFjxuj+++9XTEyMFi9erEsuuUSvvvpqpX2c3U9FkpKS3BeNOBwORUZG1mkcAAAAZmhR3x3GxcVp+PDhVbaJioqqVd9Op1OSaw9eeHi4e35+fr57r+Dp+Z07d/ZY9tJLL1Vubq67nx9++KFc/z/++GO5vYtnmjZtmiZNmuR+X1RURAgEAABep94DYEhIiEJCQuq7W0lShw4d5HQ6lZaWppiYGEmuK4k3bdqk5ORkSa5wGRERoezsbI9lv/rqK914442SpN69e6uwsFDbtm3TVVddJUnaunWrCgsL1adPn0rXb7fbZbfbG2JoAAAA5029B8CayM3N1eHDh5Wbm6vS0lJlZWVJkjp27KiAgABJUqdOnZSUlKShQ4fKZrNp4sSJmj9/vqKjoxUdHa358+fL399fI0aMkOQ6tPv4449r9uzZuuKKK9StWzetWrVKX375pdauXSvJtTdw0KBBGj16tJYtWyZJeuihh3TTTTdV+wpgAAAAb2VqAJw1a5ZWrVrlfn96r156erpiY2MlSdnZ2SosLHS3mTx5sk6cOKHx48eroKBAPXv21Pr16xUYGOhuM3HiRJ08eVLx8fE6fPiwrrjiCqWlpemiiy5yt1m9erUmTJjgvqJ4yJAhSklJacjhAgAANAqN4j6A3or7CAEA4H34/vay28AAAACg7giAAAAAFkMABAAAsBgCIAAAgMUQAAEAACyGAAgAAGAxBEAAAACLIQACAABYDAEQAADAYgiAAAAAFkMABAAAsBgCIAAAgMUQAAEAACyGAAgAAGAxBEAAAACLIQACAABYDAEQAADAYgiAAAAAFkMABAAAsBgCIAAAgMUQAAEAACyGAAgAAGAxBEAAAACLIQACAABYDAEQAADAYgiAAAAAFkMABAAAsBgCIAAAgMUQAAEAACyGAAgAAGAxBEAAAACLIQACAABYDAEQAADAYgiAAAAAFkMABAAAsBgCIAAAgMUQAAEAACyGAAgAAGAxBEAAAACLIQACAABYDAEQAADAYkwNgPPmzVOfPn3k7++voKCgai1jGIYSEhIUEREhPz8/xcbGavfu3eXaZWRk6Prrr9cFF1ygoKAgxcbG6sSJE+7Po6KiZLPZPF5Tp06tr6EBAAA0WqYGwJKSEg0bNkzjxo2r9jILFizQokWLlJKSoszMTDmdTg0YMEBHjx51t8nIyNCgQYM0cOBAbdu2TZmZmYqLi1OzZp7DnTNnjg4ePOh+zZgxo97GBgAA0Fi1MHPliYmJkqSVK1dWq71hGFqyZImmT5+u2267TZK0atUqhYWF6fXXX9eYMWMkSfHx8ZowYYLHHr3o6Ohy/QUGBsrpdNZxFAAAAN7F1ABYUzk5OcrLy9PAgQPd8+x2u/r166fNmzdrzJgxys/P19atW3XPPfeoT58+2rdvnzp16qR58+apb9++Hv0lJyfriSeeUGRkpIYNG6bHH39cvr6+la6/uLhYxcXF7vdFRUX1P0gA8HKlpaU6deqU2WXAwnx8fNS8eXOzy2jUvCoA5uXlSZLCwsI85oeFhenAgQOSpG+++UaSlJCQoIULF6pbt2567bXX1L9/f+3atcu9J/CRRx5R9+7d1bp1a23btk3Tpk1TTk6OXnnllUrXn5SU5N5rCQDwZBiG8vLydOTIEbNLARQUFCSn0ymbzWZ2KY1SvQfAhISEc4akzMxM9ejRo9brOHtjGobhnldWViZJGjNmjO6//35JUkxMjDZs2KBXX31VSUlJklyHiU/r2rWrWrdurTvuuEPJyckKDg6ucL3Tpk3TpEmT3O+LiooUGRlZ63EAQFNyOvyFhobK39+fL16YwjAMHT9+XPn5+ZKk8PBwkytqnOo9AMbFxWn48OFVtomKiqpV36fP18vLy/PYoPn5+e69gqfnd+7c2WPZSy+9VLm5uZX23atXL0nS3r17Kw2Adrtddru9VrUDQFNWWlrqDn+V/Q0Fzhc/Pz9JrnwQGhrK4eAK1HsADAkJUUhISH13K0nq0KGDnE6n0tLSFBMTI8l1JfGmTZuUnJwsyRUuIyIilJ2d7bHsV199pRtvvLHSvnfs2CGJfykAQG2cPufP39/f5EoAl9O/i6dOnSIAVsDUcwBzc3N1+PBh5ebmqrS0VFlZWZKkjh07KiAgQJLUqVMnJSUlaejQobLZbJo4caLmz5+v6OhoRUdHa/78+fL399eIESMkuQ4PP/7445o9e7auuOIKdevWTatWrdKXX36ptWvXSnLdJmbLli267rrr5HA4lJmZqfj4eA0ZMkTt2rUz5WcBAE0Bh33RWPC7WDVTA+CsWbO0atUq9/vTe/XS09MVGxsrScrOzlZhYaG7zeTJk3XixAmNHz9eBQUF6tmzp9avX6/AwEB3m4kTJ+rkyZOKj4/X4cOHdcUVVygtLU0XXXSRJNeh3DfffFOJiYkqLi5W+/btNXr0aE2ePPk8jBoAAMBcNsMwDLOL8FZFRUVyOBwqLCxUq1atzC4HAExz8uRJ5eTkqEOHDmrZsqXZ5QBV/k7y/c2zgAEAFnffffeVezSozWbToEGDzsv6ExIS1K1bt/OyLuA0r7oPIAAADWHQoEFasWKFxzzu+oCmjD2AAADLs9vtcjqdHq/WrVtr48aN8vX11ccff+xu+/TTTyskJEQHDx6UJKWmpqpv374KCgpScHCwbrrpJu3bt8+j/++++07Dhw/Xb37zG11wwQXq0aOHtm7dqpUrVyoxMVE7d+5073ms7uNRgbpgDyAAoEH9/PPP53V9F1xwQb31FRsbq4kTJ2rkyJHauXOn9u/fr+nTp2vNmjXu24b9/PPPmjRpki6//HL9/PPPmjVrloYOHaqsrCw1a9ZMx44dU79+/fTb3/5W7777rpxOpz799FOVlZXprrvu0q5du5SamqoPPvhAkuRwOOqtfqAyBEAAQIM6fVuv86U21zb+4x//KFfnlClTNHPmTM2dO1cffPCBHnroIe3evVsjR47U0KFD3e1uv/12j+WWL1+u0NBQ7dmzR126dNHrr7+uH3/8UZmZmfrNb34jyXW7s9MCAgLUokUL98MOgPOBAAgAsLzrrrtOL774ose802HN19dX//u//6uuXbuqffv2WrJkiUe7ffv2aebMmdqyZYt++ukn9yNJc3Nz1aVLF2VlZSkmJsbdH9AYEAABAA3q2LFjZpdwThdccIHHXrmzbd68WZJ0+PBhHT582OMw880336zIyEi9/PLLioiIUFlZmbp06aKSkhJJvz6WDGhMCIAAgAZVn+fkmWHfvn2Kj4/Xyy+/rLfeekv33nuvNmzYoGbNmunQoUP64osvtGzZMl1zzTWSpH//+98ey3ft2lWvvPKKDh8+XOFeQF9fX5WWlp6XsQCncRUwAMDyiouLlZeX5/H66aefVFpaqpEjR2rgwIG6//77tWLFCu3atUtPP/20JKl169YKDg7WSy+9pL179+rDDz/UpEmTPPq+++675XQ6deutt+o///mPvvnmG61bt04ZGRmSXM+wz8nJUVZWln766ScVFxef9/HDegiAAADLS01NVXh4uMerb9++mjdvnvbv36+XXnpJkuR0OvXKK69oxowZ7qt833jjDX3yySfq0qWL4uPj9dRTT3n07evrq/Xr1ys0NFSDBw/W5ZdfrieffFLNmzeX5LqIZNCgQbruuuvUpk0brVmz5ryPH9bDo+DqgEfJAIALj4JDY8Oj4KrGHkAAAACLIQACAABYDAEQAADAYgiAAAAAFkMABAAAsBgCIAAAgMUQAAEAACyGAAgAAGAxBEAAAACLIQACAFBPoqKitGTJkvO+3v3798tmsykrK6vB12Wz2fTOO+80mn5QOwRAAICl3XfffbLZbHryySc95r/zzjuy2Ww16iszM1MPPfRQfZZXLZGRkTp48KC6dOly3td9LgkJCerWrVu5+QcPHtSNN954/guCJAIgAABq2bKlkpOTVVBQUKd+2rRpI39//3qqqvqaN28up9OpFi1anPd115bT6ZTdbje7DMsiAAIALO+GG26Q0+lUUlJSle3WrVunyy67THa7XVFRUXr66ac9Pj/7EHBCQoLatWsnu92uiIgITZgwQZI0Z84cXX755eX6v/LKKzVr1qwK111QUKB77rlHbdq0kZ+fn6Kjo7VixQpJ5Q8Bb9y4UTabTf/6178UExMjPz8/XX/99crPz9c///lPXXrppWrVqpXuvvtuHT9+vNL6Jalbt25KSEio9GcyZcoUXXzxxfL399eFF16omTNn6tSpU5KklStXKjExUTt37pTNZpPNZtPKlSsllT8E/Pnnn+v666+Xn5+fgoOD9dBDD+nYsWPuz++77z7deuutWrhwocLDwxUcHKz/+Z//ca8LNeM9/1QAAHinn3+u/LPmzaWWLavXtlkzyc/v3G0vuKBm9cm1B23+/PkaMWKEJkyYoLZt25Zr88knn+jOO+9UQkKC7rrrLm3evFnjx49XcHCw7rvvvnLt165dq8WLF+uNN97QZZddpry8PO3cuVOS9Kc//UmJiYnKzMzU7373O0nSZ599ph07duj//b//V2GNM2fO1J49e/TPf/5TISEh2rt3r06cOFHluBISEpSSkiJ/f3/deeeduvPOO2W32/X666/r2LFjGjp0qJ577jlNmTKlhj+xXwUGBmrlypWKiIjQ559/rtGjRyswMFCTJ0/WXXfdpV27dik1NVUffPCBJMnhcJTr4/jx4xo0aJB69eqlzMxM5efn68EHH1RcXJw7MEpSenq6wsPDlZ6err179+quu+5St27dNHr06FrXb1UEQABAwwoIqPyzwYOl99779X1oqHTGHikP/fpJGzf++j4qSvrpp/LtDKM2VWro0KHq1q2bZs+ereXLl5f7fNGiRerfv79mzpwpSbr44ou1Z88ePfXUUxUGwNzcXDmdTt1www3y8fFRu3btdNVVV0mS2rZtq9///vdasWKFOwCuWLFC/fr104UXXlhhfbm5uYqJiVGPHj0kufbWncvcuXN19dVXS5IeeOABTZs2Tfv27XOv44477lB6enqdAuCMGTPc01FRUXr00Uf15ptvavLkyfLz81NAQIBatGghp9NZaR+rV6/WiRMn9Nprr+mC/wb4lJQU3XzzzUpOTlZYWJgkqXXr1kpJSVHz5s3VqVMn/eEPf9CGDRsIgLXAIWAAAP4rOTlZq1at0p49e8p99sUXX7jD1GlXX321vv76a5WWlpZrP2zYMJ04cUIXXnihRo8erbffflu//PKL+/PRo0drzZo1OnnypE6dOqXVq1frT3/6U6W1jRs3Tm+88Ya6deumyZMna/PmzeccT9euXd3TYWFh7sO0Z87Lz88/Zz9VWbt2rfr27Sun06mAgADNnDlTubm5Nerjiy++0BVXXOEOf5LrZ1tWVqbs7Gz3vMsuu0zNmzd3vw8PD69z/VbFHkAAqMTPVR2OhIfi4mKVlZWptLS0fBgqLKx8webNpTPbHzxYedtmzTzb7ttXcbsKwlhVDMOQYRgqLS3V1VdfrYEDB2ratGkaNWrUf7srLdfu11WVevxXkvvnEBERoT179uiDDz7Qhg0bNH78eC1YsEDp6eny8fHR4MGDZbfbtW7dOtntdhUXF+vWW2+tMExK0sCBA/XNN9/o/fff14YNG9S/f3+NGzdOTz31lEcdZ26DZs2aedTv4+Pj0b9hGO56z2x/ZptTp055tDlzjFu2bNHw4cM1e/ZsPf3003I4HHrzzTe1ePFid/uysrJyP6Oz+6no53jm8qWlpTIMQy1atCjXT4W/c/+dX1ZWpuPHj5f7nP+3CYAAUKmAqg5dwkP79u21dOnSc56T1hgdOnRIx44d044dOyRJ9957r+655x73uWqn54eFhSk1NVU33XSTe9l33nlHkZGR+uyzzyRJJSUl+u6779zLSK7DvaNGjVK/fv00bNgwrV27Vp06dZIk/f73v9dzzz0nHx8f9e/f32NvV2W6du2qrl27qn379nr22Wc1YsQIff/995KkL7/8UoZhaO/evZJc5xUGBgZKkg4cOKDS0lKP2vLy8nT8+HH3PH9/f+3cudP9/tixY9q3b5/y8vI8lvvmm2/c5ys6nU737VxO/xzPXM/ZP98zne4nICBAn376qTZv3iy//57n+Z///EfNmjVTcXGxduzYUWE/+fn5lfYtST/99JP+8Ic/6MCBA+f8uVoNh4ABADhDx44dNWjQIL311lse8//4xz8qMzNTr7zyig4cOKB//OMfeuutt/THP/6xwn7+/ve/629/+5v27t2r7777Tv/85z9lt9s9zoW75ZZbtH37dmVkZGjIkCFV1rV06VJt2rRJ3377rfbt26ePP/64WucB1kSPHj30/vvva8eOHdq7d68SExM9DrmeLTIyUnl5eVq/fr2+++47vfHGG9p45nmach2m/f7775Wdna0jR46opKSkXD833nijfH19lZCQoL1792r79u166qmndOONNyo4OLhexwgX9gACQCXOvAUFqlZcXKyDBw8qKipKLc+8qtcLBAcHq3nz5oqJiXHPe+6559S5c2dJcs+PiYmR3W5XQkKCXn31VYWHh2vOnDl69NFH3cv5+vqqbdu2iomJUW5urpKTk/Xss8+qtLRUXbp00bvvvqvrrrvO3T4mJka9e/fW4cOHNXLkyCrrbNeunZYvX679+/fLz89Pffv21YoVK9ShQwe1bt1aktSpUyd169ZNhf897N61a1cFBQVJcu0NPHucTqdT/v7+7nmLFy/W8ePH9dhjj8nhcCgxMVEFBQVyOp0ey1144YWKiYlRTEyMDh48qEWLFqm4uFiDBw/WrFmzNGfOHHf7zp07a8eOHYqLi9ORI0e0fPly9+H10/1IUlpamuLj43X//ffL399ft912mxYuXOjeE1/RdgoNDdX333/vMe+0kydPav/+/fr000/L3W+wqKhIERERVf68mzqbYdTycimoqKhIDodDhYWFatWqldnlAIBpTp48qZycHHXo0MHrAqCZDMNQp06dNGbMGE2aNMnscpqUqn4n+f5mDyAAAKbIz8/XX/7yF/3f//2f7r//frPLgcUQAAEAMEFYWJhCQkL00ksvuQ/hAucLARAAABNwBhbMxFXAAAAAFkMABADUG/ZqobHgd7FqBEAAQJ35+PhIko5X9hxf4Dw7/bt4+ncTnjgHEABQZ82bN1dQUJD7uaz+/v6y2WwmVwUrMgxDx48fV35+voKCgqq8kbWVEQABAPXi9BMuTodAwExBQUEeT12BJ1MD4Lx58/Tee+8pKytLvr6+OnLkyDmXMQxDiYmJeumll1RQUKCePXvq+eef12WXXSZJ2r9/vzp06FDhsm+99ZaGDRsmSSooKNCECRP07rvvSpKGDBmi5557zn3HdABAzdhsNoWHhys0NFSnTp0yuxxYmI+PD3v+zsHUAFhSUqJhw4apd+/eWr58ebWWWbBggRYtWqSVK1fq4osv1ty5czVgwABlZ2crMDBQkZGROnjwoMcyL730khYsWOB+WLUkjRgxQt99951SU1MlSQ899JBGjhypv//97/U3QACwoObNm/PlCzRyjeJRcCtXrtTEiRPPuQfQMAxFRERo4sSJmjJliiTX8yfDwsKUnJysMWPGVLhcTEyMunfv7g6ZX3zxhTp37qwtW7aoZ8+ekqQtW7aod+/e+vLLL3XJJZdUq24eJQMAgPfh+9vLrgLOyclRXl6eBg4c6J5nt9vVr18/bd68ucJlPvnkE2VlZemBBx5wz8vIyJDD4XCHP0nq1auXHA5Hpf0AAAA0FV51EUheXp4k1+NzzhQWFqYDBw5UuMzy5ct16aWXqk+fPh79hIaGlmsbGhrqXkdFiouLVVxc7H5fVFRUo/oBAAAag3oPgAkJCUpMTKyyTWZmpnr06FHrdZx9awHDMCq83cCJEyf0+uuva+bMmefso6p+TktKSqpwbARBAAC8x+nv7UZwFpxp6j0AxsXFafjw4VW2iYqKqlXfpy/nzsvLU3h4uHt+fn5+ub2CkrR27VodP35c9957b7l+fvjhh3Ltf/zxxwr7OW3atGmaNGmS+31OTo66deumyMjIGo8FAACY69ChQ3I4HGaXYYp6D4AhISEKCQmp724lSR06dJDT6VRaWppiYmIkua4k3rRpk5KTk8u1X758uYYMGaI2bdp4zO/du7cKCwu1bds2XXXVVZKkrVu3qrCw0ONQ8dnsdrvsdrv7ffv27SVJubm5lvoFKioqUmRkpL799ltLnTzLuBm3FTBuxm0FhYWFateunX7zm9+YXYppTD0HMDc3V4cPH1Zubq5KS0uVlZUlSerYsaMCAgIkSZ06dVJSUpKGDh0qm82miRMnav78+YqOjlZ0dLTmz58vf39/jRgxwqPvvXv36qOPPtL7779fbr2XXnqpBg0apNGjR2vZsmWSXLeBuemmm6p9BbAkNWvmuobG4XBY6n+c01q1asW4LYRxWwvjtharjvv097gVmRoAZ82apVWrVrnfn96rl56ertjYWElSdna2CgsL3W0mT56sEydOaPz48e4bQa9fv16BgYEefb/66qv67W9/63HF8JlWr16tCRMmuD8fMmSIUlJS6nN4AAAAjVKjuA+gt7LqfYQYN+O2AsbNuK2AcVtr3Gey7r7PemC32zV79myP8wKtgHEzbitg3IzbChi3tcZ9JvYAAgAAWAx7AAEAACyGAAgAAGAxBEAAAACLIQACAABYDAGwhubNm6c+ffrI399fQUFB1VrGMAwlJCQoIiJCfn5+io2N1e7duxu20HpWUFCgkSNHyuFwyOFwaOTIkTpy5EiVy9x3332y2Wwer169ep2fgmvphRdeUIcOHdSyZUtdeeWV+vjjj6tsv2nTJl155ZVq2bKlLrzwQi1duvQ8VVq/ajLujRs3ltuuNptNX3755XmsuG4++ugj3XzzzYqIiJDNZtM777xzzmWawrau6bibwraWXM9x/93vfqfAwECFhobq1ltvVXZ29jmX8/ZtXptxN4Vt/uKLL6pr167um1v37t1b//znP6tcxtu3dW0QAGuopKREw4YN07hx46q9zIIFC7Ro0SKlpKQoMzNTTqdTAwYM0NGjRxuw0vo1YsQIZWVlKTU1VampqcrKytLIkSPPudygQYN08OBB96uiJ7M0Fm+++aYmTpyo6dOna8eOHbrmmmt04403Kjc3t8L2OTk5Gjx4sK655hrt2LFDf/7znzVhwgStW7fuPFdeNzUd92nZ2dke2zY6Ovo8VVx3P//8s6644opq3/y9qWzrmo77NG/e1pLry/1//ud/tGXLFqWlpemXX37RwIED9fPPP1e6TFPY5rUZ92nevM3btm2rJ598Utu3b9f27dt1/fXX65Zbbql0x0tT2Na1YqBWVqxYYTgcjnO2KysrM5xOp/Hkk0+65508edJwOBzG0qVLG7DC+rNnzx5DkrFlyxb3vIyMDEOS8eWXX1a63KhRo4xbbrnlPFRYP6666ipj7NixHvM6depkTJ06tcL2kydPNjp16uQxb8yYMUavXr0arMaGUNNxp6enG5KMgoKC81Bdw5NkvP3221W2aSrb+kzVGXdT29an5efnG5KMTZs2VdqmKW7z6oy7qW7z1q1bG6+88kqFnzXFbV0d7AFsYDk5OcrLy/N4JJ3dble/fv20efNmEyurvoyMDDkcDvXs2dM9r1evXnI4HOccw8aNGxUaGqqLL75Yo0ePVn5+fkOXWyslJSX65JNPyj06cODAgZWOMSMjo1z73//+99q+fbtOnTrVYLXWp9qM+7SYmBiFh4erf//+Sk9Pb8gyTdcUtnVdNLVtffrxor/5zW8qbdMUt3l1xn1aU9nmpaWleuONN/Tzzz+rd+/eFbZpitu6OgiADSwvL0+SFBYW5jE/LCzM/Vljl5eXp9DQ0HLzQ0NDqxzDjTfeqNWrV+vDDz/U008/rczMTF1//fUqLi5uyHJr5aefflJpaWmNtlNeXl6F7X/55Rf99NNPDVZrfarNuMPDw/XSSy9p3bp1+utf/6pLLrlE/fv310cffXQ+SjZFU9jWtdEUt7VhGJo0aZL69u2rLl26VNquqW3z6o67qWzzzz//XAEBAbLb7Ro7dqzefvttde7cucK2TW1bV1cLswtoDBISEpSYmFhlm8zMTPXo0aPW67DZbB7vDcMoN+98q+64pfL1S+cew1133eWe7tKli3r06KH27dvrvffe02233VbLqhtWTbdTRe0rmt/Y1WTcl1xyiS655BL3+969e+vbb7/VwoULde211zZonWZqKtu6Jprito6Li9Nnn32mf//73+ds25S2eXXH3VS2+SWXXKKsrCwdOXJE69at06hRo7Rp06ZKQ2BT2tbVRQCU63+M4cOHV9kmKiqqVn07nU5Jrn9hhIeHu+fn5+eX+xfH+VbdcX/22Wf64Ycfyn32448/1mgM4eHhat++vb7++usa19rQQkJC1Lx583J7varaTk6ns8L2LVq0UHBwcIPVWp9qM+6K9OrVS//7v/9b3+U1Gk1hW9cXb97WDz/8sN5991199NFHatu2bZVtm9I2r8m4K+KN29zX11cdO3aUJPXo0UOZmZl65plntGzZsnJtm9K2rgkCoFxfgiEhIQ3Sd4cOHeR0OpWWlqaYmBhJrvOuNm3apOTk5AZZZ3VVd9y9e/dWYWGhtm3bpquuukqStHXrVhUWFqpPnz7VXt+hQ4f07bffegThxsLX11dXXnml0tLSNHToUPf8tLQ03XLLLRUu07t3b/3973/3mLd+/Xr16NFDPj4+DVpvfanNuCuyY8eORrld60tT2Nb1xRu3tWEYevjhh/X2229r48aN6tChwzmXaQrbvDbjrog3bvOzGYZR6elHTWFb14opl554sQMHDhg7duwwEhMTjYCAAGPHjh3Gjh07jKNHj7rbXHLJJcZf//pX9/snn3zScDgcxl//+lfj888/N+6++24jPDzcKCoqMmMItTJo0CCja9euRkZGhpGRkWFcfvnlxk033eTR5sxxHz161Hj00UeNzZs3Gzk5OUZ6errRu3dv47e//W2jHfcbb7xh+Pj4GMuXLzf27NljTJw40bjggguM/fv3G4ZhGFOnTjVGjhzpbv/NN98Y/v7+Rnx8vLFnzx5j+fLlho+Pj7F27VqzhlArNR334sWLjbffftv46quvjF27dhlTp041JBnr1q0zawg1dvToUff/u5KMRYsWGTt27DAOHDhgGEbT3dY1HXdT2NaGYRjjxo0zHA6HsXHjRuPgwYPu1/Hjx91tmuI2r824m8I2nzZtmvHRRx8ZOTk5xmeffWb8+c9/Npo1a2asX7/eMIymua1rgwBYQ6NGjTIklXulp6e720gyVqxY4X5fVlZmzJ4923A6nYbdbjeuvfZa4/PPPz//xdfBoUOHjHvuuccIDAw0AgMDjXvuuafcbQLOHPfx48eNgQMHGm3atDF8fHyMdu3aGaNGjTJyc3PPf/E18Pzzzxvt27c3fH19je7du3vcLmHUqFFGv379PNpv3LjRiImJMXx9fY2oqCjjxRdfPM8V14+ajDs5Odm46KKLjJYtWxqtW7c2+vbta7z33nsmVF17p291cfZr1KhRhmE03W1d03E3hW1tGEaFYz7773RT3Oa1GXdT2OZ/+tOf3H/P2rRpY/Tv398d/gyjaW7r2rAZxn/PdAQAAIAlcBsYAAAAiyEAAgAAWAwBEAAAwGIIgAAAABZDAAQAALAYAiAAAIDFEAABAAAshgAIoEnav3+/bDabsrKyGnQ9K1euVFBQUIOuAwDqGzeCBtAklZaW6scff1RISIhatGi4x56fOHFCR48eVWhoqCQpISFB77zzToMHTwCoi4b7qwgAJmrevLmcTmelnxuGodLS0jqHQz8/P/n5+dWpDwA43zgEDMCrlZWVKTk5WR07dpTdble7du00b968coeAN27cKJvNpn/961/q0aOH7Ha7Pv7440qXP3OZI0eOuNeXlZUlm82m/fv3S/I8BLxy5UolJiZq586dstlsstlsWrlypSTXnsF27drJbrcrIiJCEyZMOE8/IQAojz2AALzatGnT9PLLL2vx4sXq27evDh48qC+//LLS9pMnT9bChQt14YUXKigoqMbLV+Wuu+7Srl27lJqaqg8++ECS5HA4tHbtWi1evFhvvPGGLrvsMuXl5Wnnzp21WgcA1AcCIACvdfToUT3zzDNKSUnRqFGjJEkXXXSR+vbt695Dd7Y5c+ZowIAB51y+Nvz8/BQQEKAWLVp4HH7Ozc2V0+nUDTfcIB8fH7Vr105XXXVVrdYBAPWBQ8AAvNYXX3yh4uJi9e/fv9rL9OjRo07L18awYcN04sQJXXjhhRo9erTefvtt/fLLLw26TgCoCgEQgNeqzcUXF1xwQbWXb9bM9SfyzJslnDp1qsbrjIyMVHZ2tp5//nn5+flp/Pjxuvbaa2vVFwDUBwIgAK8VHR0tPz8/bdiwoUGWb9OmjSTp4MGD7nnnur2Lr6+vSktLy8338/PTkCFD9Oyzz2rjxo3KyMjQ559/Xqu6AaCuOAcQgNdq2bKlpkyZosmTJ8vX11dXX321fvzxR+3evbtah3WrWv6BBx5Qx44dFRkZqYSEBM2dO1dff/21nn766Sr7jIqKUk5OjrKystS2bVsFBgZqzZo1Ki0tVc+ePeXv76+//OUv8vPzU/v27evrRwEANUIABODVZs6cqRYtWmjWrFn6/vvvFR4errFjx9bL8j4+PlqzZo3GjRunK664Qr/73e80d+5cDRs2rNL+br/9dv31r3/VddddpyNHjmjFihUKCgrSk08+qUmTJqm0tFSXX365/v73vys4OLjO4weA2uBJIAAAABbDOYAAAAAWQwAEAACwGAIgAACAxRAAAQAALIYACAAAYDEEQAAAAIshAAIAAFgMARAAAMBiCIAAAAAWQwAEAACwGAIgAACAxRAAAQAALOb/A2KcLtenqeYgAAAAAElFTkSuQmCC' width=640.0/>\n",
       "            </div>\n",
       "        "
      ],
      "text/plain": [
       "Canvas(toolbar=Toolbar(toolitems=[('Home', 'Reset original view', 'home', 'home'), ('Back', 'Back to previous …"
      ]
     },
     "metadata": {},
     "output_type": "display_data"
    }
   ],
   "source": [
    "fig, ax = plt.subplots()\n",
    "\n",
    "data = np.array(energies_TPB_temp)\n",
    "x = np.arange(1, len(data) + 1)\n",
    "mask = data > 0\n",
    "\n",
    "ax.plot(x, np.cumsum(data), 'r')\n",
    "ax.hlines(energy_exact, 1, len(data) + 1, color='k', label='Exact')\n",
    "ax.hlines(sum(data), 1, len(data) + 1, color='r', ls='--', label='Noisy simulation')\n",
    "\n",
    "# ax.plot(x, np.abs(data))\n",
    "\n",
    "# ax.bar(x[mask], np.abs(data)[mask], width=1, color='b', label=r'$E_i>0$')\n",
    "# ax.bar(x[~mask], np.abs(data)[~mask], width=1, color='r', label=r'$E_i\\leq0$')\n",
    "\n",
    "ax.set_xlim(-1, len(data) + 1)\n",
    "ax.set_xlabel('circuits')\n",
    "# ax.set_ylabel(r'$|E_i|$ [Ha]')\n",
    "ax.set_ylabel(r'$\\sum_{i}^n E_i$ [Ha]')\n",
    "\n",
    "# ax.set_yscale('log')\n",
    "\n",
    "ax.legend(loc=4)\n",
    "ax.set_title(f'{method} / {molecule_name}');"
   ]
  },
  {
   "cell_type": "markdown",
   "id": "decf7b5c-d934-4118-92b1-b6ce9cd72466",
   "metadata": {
    "pycharm": {
     "name": "#%% md\n"
    },
    "tags": []
   },
   "source": [
    "# EM"
   ]
  },
  {
   "cell_type": "code",
   "execution_count": 69,
   "id": "9c2029bb-6c83-44a1-bd4e-974daf145bf8",
   "metadata": {
    "execution": {
     "iopub.execute_input": "2022-06-07T08:26:50.380274Z",
     "iopub.status.busy": "2022-06-07T08:26:50.380115Z",
     "iopub.status.idle": "2022-06-07T08:26:50.388961Z",
     "shell.execute_reply": "2022-06-07T08:26:50.388455Z",
     "shell.execute_reply.started": "2022-06-07T08:26:50.380258Z"
    },
    "pycharm": {
     "name": "#%%\n"
    },
    "tags": []
   },
   "outputs": [
    {
     "name": "stdout",
     "output_type": "stream",
     "text": [
      "Number of groups 2\n"
     ]
    }
   ],
   "source": [
    "temp = load_grouping_data(molecule_name, 'EM')\n",
    "\n",
    "if temp is not None:\n",
    "    Groups, Measurements, layout = temp\n",
    "else:\n",
    "    Groups, Measurements, layout = groupingWithOrder(paulis, connected=True, print_progress=True)\n",
    "\n",
    "missing = []\n",
    "for i in range(np.max(np.array(WC_device)) + 1):\n",
    "    if i not in layout:\n",
    "        missing.append(i)    \n",
    "    \n",
    "print('Number of groups', len(Groups))"
   ]
  },
  {
   "cell_type": "code",
   "execution_count": null,
   "id": "c02c9924-6614-4f60-a189-67d8ec8ae84a",
   "metadata": {
    "execution": {
     "iopub.execute_input": "2022-06-07T08:26:50.389696Z",
     "iopub.status.busy": "2022-06-07T08:26:50.389539Z"
    },
    "pycharm": {
     "name": "#%%\n"
    },
    "tags": []
   },
   "outputs": [
    {
     "data": {
      "application/vnd.jupyter.widget-view+json": {
       "model_id": "ff4c61426b9448feb2540162ff2afaa5",
       "version_major": 2,
       "version_minor": 0
      },
      "text/plain": [
       "Jobs completed:   0%|          | 0/1 [00:00<?, ?it/s]"
      ]
     },
     "metadata": {},
     "output_type": "display_data"
    },
    {
     "data": {
      "application/vnd.jupyter.widget-view+json": {
       "model_id": "953d6aefcb7b4c9d89a72e80cc32e9af",
       "version_major": 2,
       "version_minor": 0
      },
      "text/plain": [
       "Computing energy:   0%|          | 0/2 [00:00<?, ?it/s]"
      ]
     },
     "metadata": {},
     "output_type": "display_data"
    },
    {
     "name": "stdout",
     "output_type": "stream",
     "text": [
      "EM energy: -1.097093263120432\n",
      "Relative error: 2.675 %\n",
      "Simulation time 1.08 s\n"
     ]
    },
    {
     "data": {
      "application/vnd.jupyter.widget-view+json": {
       "model_id": "c6ef873c825b45808afa88c10efbe3ab",
       "version_major": 2,
       "version_minor": 0
      },
      "text/plain": [
       "Jobs completed:   0%|          | 0/1 [00:00<?, ?it/s]"
      ]
     },
     "metadata": {},
     "output_type": "display_data"
    }
   ],
   "source": [
    "method = 'EM'\n",
    "\n",
    "n_repeats = 5\n",
    "\n",
    "for _ in range(n_repeats):\n",
    "    jobs_EM, energy_EM, energies_EM_temp = compute_energy_sparse(Groups, Measurements, method, layout=layout, n_chunks=shots_EM[molecule_name], return_energy_temp=True)\n",
    "    relative_EM= np.abs((energy_EM - energy_exact) / energy_exact)\n",
    "\n",
    "    print('EM energy: {}'.format(energy_EM))\n",
    "    print('Relative error: {:.3f} %'.format(relative_EM * 100))\n",
    "    \n",
    "    try:\n",
    "        time = sum((job.time_per_step()['COMPLETED'] - job.time_per_step()['RUNNING']).total_seconds() for job in jobs_EM)\n",
    "        print(f'Simulation time {time} s')\n",
    "    except KeyError:\n",
    "        print('WTF IBMQ?')\n",
    "\n",
    "    save_data(energy_EM, method)"
   ]
  },
  {
   "cell_type": "code",
   "execution_count": 55,
   "id": "81498c0d-4b3b-46da-a8f1-b0835714ecc1",
   "metadata": {
    "execution": {
     "iopub.execute_input": "2022-06-07T08:18:26.068206Z",
     "iopub.status.busy": "2022-06-07T08:18:26.067802Z",
     "iopub.status.idle": "2022-06-07T08:18:26.168929Z",
     "shell.execute_reply": "2022-06-07T08:18:26.168405Z",
     "shell.execute_reply.started": "2022-06-07T08:18:26.068158Z"
    },
    "tags": []
   },
   "outputs": [
    {
     "data": {
      "application/vnd.jupyter.widget-view+json": {
       "model_id": "2f196dcb15d44fb7acd02d00545d7363",
       "version_major": 2,
       "version_minor": 0
      },
      "text/html": [
       "\n",
       "            <div style=\"display: inline-block;\">\n",
       "                <div class=\"jupyter-widgets widget-label\" style=\"text-align: center;\">\n",
       "                    Figure\n",
       "                </div>\n",
       "                <img src='data:image/png;base64,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' width=640.0/>\n",
       "            </div>\n",
       "        "
      ],
      "text/plain": [
       "Canvas(toolbar=Toolbar(toolitems=[('Home', 'Reset original view', 'home', 'home'), ('Back', 'Back to previous …"
      ]
     },
     "metadata": {},
     "output_type": "display_data"
    }
   ],
   "source": [
    "fig, ax = plt.subplots()\n",
    "\n",
    "data = np.array(energies_EM_temp)\n",
    "x = np.arange(1, len(data) + 1)\n",
    "mask = data > 0\n",
    "\n",
    "ax.plot(x, np.cumsum(data), 'r')\n",
    "ax.hlines(energy_exact, 1, len(data) + 1, color='k', label='Exact')\n",
    "ax.hlines(sum(data), 1, len(data) + 1, color='r', ls='--', label='Noisy simulation')\n",
    "\n",
    "# ax.plot(x, np.abs(data))\n",
    "\n",
    "# ax.bar(x[mask], np.abs(data)[mask], width=1, color='b', label=r'$E_i>0$')\n",
    "# ax.bar(x[~mask], np.abs(data)[~mask], width=1, color='r', label=r'$E_i\\leq0$')\n",
    "\n",
    "ax.set_xlim(-1, len(data) + 1)\n",
    "ax.set_xlabel('circuits')\n",
    "# ax.set_ylabel(r'$|E_i|$ [Ha]')\n",
    "ax.set_ylabel(r'$\\sum_{i}^n E_i$ [Ha]')\n",
    "\n",
    "# ax.set_yscale('log')\n",
    "\n",
    "ax.legend(loc=4)\n",
    "ax.set_title(f'{method} / {molecule_name}');"
   ]
  },
  {
   "cell_type": "markdown",
   "id": "074933a7-641e-44fa-b2d4-91d8e15cf898",
   "metadata": {
    "pycharm": {
     "name": "#%% md\n"
    },
    "tags": []
   },
   "source": [
    "# HEEM"
   ]
  },
  {
   "cell_type": "code",
   "execution_count": 56,
   "id": "87dce716-6a03-447a-b590-9eb8aa154f31",
   "metadata": {
    "execution": {
     "iopub.execute_input": "2022-06-07T08:18:26.169663Z",
     "iopub.status.busy": "2022-06-07T08:18:26.169506Z",
     "iopub.status.idle": "2022-06-07T08:18:26.181420Z",
     "shell.execute_reply": "2022-06-07T08:18:26.181011Z",
     "shell.execute_reply.started": "2022-06-07T08:18:26.169647Z"
    },
    "pycharm": {
     "name": "#%%\n"
    },
    "tags": []
   },
   "outputs": [
    {
     "name": "stdout",
     "output_type": "stream",
     "text": [
      "Number of groups 11\n"
     ]
    }
   ],
   "source": [
    "temp = load_grouping_data(molecule_name, 'HEEM')\n",
    "\n",
    "if temp is not None:\n",
    "    Groups, Measurements, layout = temp\n",
    "else:\n",
    "    Groups, Measurements, layout = groupingWithOrder(paulis, G_device, connected=True, print_progress=True)\n",
    "\n",
    "missing = []\n",
    "for i in range(np.max(np.array(WC_device)) + 1):\n",
    "    if i not in layout:\n",
    "        missing.append(i)    \n",
    "\n",
    "print('Number of groups', len(Groups))"
   ]
  },
  {
   "cell_type": "code",
   "execution_count": 57,
   "id": "11050b1e-1fb1-4539-873e-ed27ca650a35",
   "metadata": {
    "execution": {
     "iopub.execute_input": "2022-06-07T08:18:26.182105Z",
     "iopub.status.busy": "2022-06-07T08:18:26.181957Z",
     "iopub.status.idle": "2022-06-07T08:21:38.355075Z",
     "shell.execute_reply": "2022-06-07T08:21:38.353550Z",
     "shell.execute_reply.started": "2022-06-07T08:18:26.182091Z"
    },
    "pycharm": {
     "name": "#%%\n"
    },
    "tags": []
   },
   "outputs": [
    {
     "data": {
      "application/vnd.jupyter.widget-view+json": {
       "model_id": "1472fd85943a42b2a062aed80ff047e5",
       "version_major": 2,
       "version_minor": 0
      },
      "text/plain": [
       "Jobs completed:   0%|          | 0/1 [00:00<?, ?it/s]"
      ]
     },
     "metadata": {},
     "output_type": "display_data"
    },
    {
     "data": {
      "application/vnd.jupyter.widget-view+json": {
       "model_id": "e0128234ffe64f829920e2c598c53964",
       "version_major": 2,
       "version_minor": 0
      },
      "text/plain": [
       "Computing energy:   0%|          | 0/11 [00:00<?, ?it/s]"
      ]
     },
     "metadata": {},
     "output_type": "display_data"
    },
    {
     "name": "stdout",
     "output_type": "stream",
     "text": [
      "HEEM energy: -0.5514218541089151\n",
      "Relative error: 0.072 %\n",
      "Simulation time 1.527 s\n"
     ]
    },
    {
     "data": {
      "application/vnd.jupyter.widget-view+json": {
       "model_id": "c3eb79283fe3486589c09fc2dd34ebc9",
       "version_major": 2,
       "version_minor": 0
      },
      "text/plain": [
       "Jobs completed:   0%|          | 0/1 [00:00<?, ?it/s]"
      ]
     },
     "metadata": {},
     "output_type": "display_data"
    },
    {
     "data": {
      "application/vnd.jupyter.widget-view+json": {
       "model_id": "0760c52fe1de43e8bc191e946a52a5bd",
       "version_major": 2,
       "version_minor": 0
      },
      "text/plain": [
       "Computing energy:   0%|          | 0/11 [00:00<?, ?it/s]"
      ]
     },
     "metadata": {},
     "output_type": "display_data"
    },
    {
     "name": "stdout",
     "output_type": "stream",
     "text": [
      "HEEM energy: -0.5479518732160972\n",
      "Relative error: 0.558 %\n",
      "Simulation time 1.547 s\n"
     ]
    },
    {
     "data": {
      "application/vnd.jupyter.widget-view+json": {
       "model_id": "9b2dfe4ea0d9451d96300bc3851f7004",
       "version_major": 2,
       "version_minor": 0
      },
      "text/plain": [
       "Jobs completed:   0%|          | 0/1 [00:00<?, ?it/s]"
      ]
     },
     "metadata": {},
     "output_type": "display_data"
    },
    {
     "data": {
      "application/vnd.jupyter.widget-view+json": {
       "model_id": "e091669e045844938ccb73ac83610855",
       "version_major": 2,
       "version_minor": 0
      },
      "text/plain": [
       "Computing energy:   0%|          | 0/11 [00:00<?, ?it/s]"
      ]
     },
     "metadata": {},
     "output_type": "display_data"
    },
    {
     "name": "stdout",
     "output_type": "stream",
     "text": [
      "HEEM energy: -0.5472438131963147\n",
      "Relative error: 0.686 %\n",
      "Simulation time 1.651 s\n"
     ]
    },
    {
     "data": {
      "application/vnd.jupyter.widget-view+json": {
       "model_id": "eb2a02f4f3b2447c8bf36486b5f27719",
       "version_major": 2,
       "version_minor": 0
      },
      "text/plain": [
       "Jobs completed:   0%|          | 0/1 [00:00<?, ?it/s]"
      ]
     },
     "metadata": {},
     "output_type": "display_data"
    },
    {
     "data": {
      "application/vnd.jupyter.widget-view+json": {
       "model_id": "359f8256f9a9489bbca93513b797633e",
       "version_major": 2,
       "version_minor": 0
      },
      "text/plain": [
       "Computing energy:   0%|          | 0/11 [00:00<?, ?it/s]"
      ]
     },
     "metadata": {},
     "output_type": "display_data"
    },
    {
     "name": "stdout",
     "output_type": "stream",
     "text": [
      "HEEM energy: -0.550313653288874\n",
      "Relative error: 0.129 %\n",
      "Simulation time 2.696 s\n"
     ]
    },
    {
     "data": {
      "application/vnd.jupyter.widget-view+json": {
       "model_id": "8a9124c8d2044b3d8c44e96def392e77",
       "version_major": 2,
       "version_minor": 0
      },
      "text/plain": [
       "Jobs completed:   0%|          | 0/1 [00:00<?, ?it/s]"
      ]
     },
     "metadata": {},
     "output_type": "display_data"
    },
    {
     "data": {
      "application/vnd.jupyter.widget-view+json": {
       "model_id": "53f44ae69af94c3e981fbcdc7cd7e911",
       "version_major": 2,
       "version_minor": 0
      },
      "text/plain": [
       "Computing energy:   0%|          | 0/11 [00:00<?, ?it/s]"
      ]
     },
     "metadata": {},
     "output_type": "display_data"
    },
    {
     "name": "stdout",
     "output_type": "stream",
     "text": [
      "HEEM energy: -0.5542761544068631\n",
      "Relative error: 0.590 %\n",
      "Simulation time 3.251 s\n"
     ]
    }
   ],
   "source": [
    "method = 'HEEM'\n",
    "\n",
    "n_repeats = 5\n",
    "\n",
    "for _ in range(n_repeats):\n",
    "    jobs_HEEM, energy_HEEM, energies_HEEM_temp = compute_energy_sparse(Groups, Measurements, method, n_chunks=shots_HEEM[molecule_name], layout=layout, return_energy_temp=True)\n",
    "    relative_HEEM = np.abs((energy_HEEM - energy_exact) / energy_exact)\n",
    "\n",
    "    print('HEEM energy: {}'.format(energy_HEEM))\n",
    "    print('Relative error: {:.3f} %'.format(relative_HEEM * 100))\n",
    "    \n",
    "    try:\n",
    "        time = sum((job.time_per_step()['COMPLETED'] - job.time_per_step()['RUNNING']).total_seconds() for job in jobs_HEEM)\n",
    "        print(f'Simulation time {time} s')\n",
    "    except KeyError:\n",
    "        print('WTF IBMQ?')\n",
    "\n",
    "    save_data(energy_HEEM, method)"
   ]
  },
  {
   "cell_type": "code",
   "execution_count": 58,
   "id": "16a56fc3-f84c-4d62-8f4f-938b85021dd3",
   "metadata": {
    "execution": {
     "iopub.execute_input": "2022-06-07T08:21:38.357363Z",
     "iopub.status.busy": "2022-06-07T08:21:38.356862Z",
     "iopub.status.idle": "2022-06-07T08:21:38.455539Z",
     "shell.execute_reply": "2022-06-07T08:21:38.455029Z",
     "shell.execute_reply.started": "2022-06-07T08:21:38.357305Z"
    },
    "tags": []
   },
   "outputs": [
    {
     "data": {
      "application/vnd.jupyter.widget-view+json": {
       "model_id": "27348160005043089097ae6eadd781f9",
       "version_major": 2,
       "version_minor": 0
      },
      "text/html": [
       "\n",
       "            <div style=\"display: inline-block;\">\n",
       "                <div class=\"jupyter-widgets widget-label\" style=\"text-align: center;\">\n",
       "                    Figure\n",
       "                </div>\n",
       "                <img src='data:image/png;base64,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' width=640.0/>\n",
       "            </div>\n",
       "        "
      ],
      "text/plain": [
       "Canvas(toolbar=Toolbar(toolitems=[('Home', 'Reset original view', 'home', 'home'), ('Back', 'Back to previous …"
      ]
     },
     "metadata": {},
     "output_type": "display_data"
    }
   ],
   "source": [
    "fig, ax = plt.subplots()\n",
    "\n",
    "data = np.array(energies_HEEM_temp)\n",
    "x = np.arange(1, len(data) + 1)\n",
    "mask = data > 0\n",
    "\n",
    "ax.plot(x, np.cumsum(data), 'r')\n",
    "ax.hlines(energy_exact, 1, len(data) + 1, color='k', label='Exact')\n",
    "ax.hlines(sum(data), 1, len(data) + 1, color='r', ls='--', label='Noisy simulation')\n",
    "\n",
    "# ax.plot(x, np.abs(data))\n",
    "\n",
    "# ax.bar(x[mask], np.abs(data)[mask], width=1, color='b', label=r'$E_i>0$')\n",
    "# ax.bar(x[~mask], np.abs(data)[~mask], width=1, color='r', label=r'$E_i\\leq0$')\n",
    "\n",
    "ax.set_xlim(1, len(data))\n",
    "ax.set_xlabel('circuits')\n",
    "# ax.set_ylabel(r'$|E_i|$ [Ha]')\n",
    "ax.set_ylabel(r'$\\sum_{i}^n E_i$ [Ha]')\n",
    "\n",
    "# ax.set_yscale('log')\n",
    "\n",
    "ax.legend(loc=4)\n",
    "ax.set_title(f'{method} / {molecule_name}');"
   ]
  }
 ],
 "metadata": {
  "kernelspec": {
   "display_name": "Python 3 (ipykernel)",
   "language": "python",
   "name": "python3"
  },
  "language_info": {
   "codemirror_mode": {
    "name": "ipython",
    "version": 3
   },
   "file_extension": ".py",
   "mimetype": "text/x-python",
   "name": "python",
   "nbconvert_exporter": "python",
   "pygments_lexer": "ipython3",
   "version": "3.9.7"
  }
 },
 "nbformat": 4,
 "nbformat_minor": 5
}
