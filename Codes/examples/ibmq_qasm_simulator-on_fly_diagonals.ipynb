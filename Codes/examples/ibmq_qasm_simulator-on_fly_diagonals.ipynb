{
 "cells": [
  {
   "cell_type": "code",
   "execution_count": 1,
   "id": "45c586e5-af22-40e0-a44e-fd16db787831",
   "metadata": {
    "execution": {
     "iopub.execute_input": "2022-05-12T12:35:08.971011Z",
     "iopub.status.busy": "2022-05-12T12:35:08.970624Z",
     "iopub.status.idle": "2022-05-12T12:35:10.104015Z",
     "shell.execute_reply": "2022-05-12T12:35:10.103606Z",
     "shell.execute_reply.started": "2022-05-12T12:35:08.970970Z"
    },
    "pycharm": {
     "name": "#%%\n"
    },
    "tags": []
   },
   "outputs": [],
   "source": [
    "import sys\n",
    "import warnings\n",
    "sys.path.append('../')\n",
    "warnings.filterwarnings('ignore')\n",
    "\n",
    "%load_ext autoreload\n",
    "%autoreload 1\n",
    "%aimport utils, GroupingAlgorithm, HEEM_VQE_Functions"
   ]
  },
  {
   "cell_type": "code",
   "execution_count": 3,
   "id": "9236dd35-e3fa-436f-a731-3f2b642d212f",
   "metadata": {
    "execution": {
     "iopub.execute_input": "2022-05-12T13:20:20.027558Z",
     "iopub.status.busy": "2022-05-12T13:20:20.027304Z",
     "iopub.status.idle": "2022-05-12T13:20:20.032530Z",
     "shell.execute_reply": "2022-05-12T13:20:20.032117Z",
     "shell.execute_reply.started": "2022-05-12T13:20:20.027543Z"
    },
    "pycharm": {
     "name": "#%%\n"
    },
    "tags": []
   },
   "outputs": [],
   "source": [
    "import numpy as np\n",
    "import matplotlib.pyplot as plt\n",
    "import networkx as nx\n",
    "from tqdm.auto import tqdm\n",
    "\n",
    "from qiskit import IBMQ, Aer, QuantumCircuit, QuantumRegister, ClassicalRegister\n",
    "from qiskit.providers.aer import QasmSimulator\n",
    "from qiskit.providers.aer.noise import NoiseModel\n",
    "from qiskit.utils.quantum_instance import QuantumInstance\n",
    "from qiskit.ignis.verification import get_ghz_simple\n",
    "from qiskit.compiler import transpile\n",
    "from qiskit.tools.monitor import job_monitor\n",
    "\n",
    "from utils import get_backend_connectivity, molecules, Label2Chain, from_string_to_numbers\n",
    "from GroupingAlgorithm import groupingWithOrder, TPBgrouping\n",
    "from HEEM_VQE_Functions import measure_circuit_factor, probability2expected_binary, post_process_results"
   ]
  },
  {
   "cell_type": "code",
   "execution_count": 37,
   "id": "5808cddc-1d63-427a-8682-c80730217c79",
   "metadata": {
    "execution": {
     "iopub.execute_input": "2022-05-12T13:29:19.780430Z",
     "iopub.status.busy": "2022-05-12T13:29:19.780128Z",
     "iopub.status.idle": "2022-05-12T13:29:19.788109Z",
     "shell.execute_reply": "2022-05-12T13:29:19.787659Z",
     "shell.execute_reply.started": "2022-05-12T13:29:19.780417Z"
    },
    "pycharm": {
     "name": "#%%\n"
    },
    "tags": []
   },
   "outputs": [],
   "source": [
    "def compute_energy(Groups, Measurements, method, n_chunks=25, layout=None):\n",
    "    \n",
    "    circuits = [measure_circuit_factor(measurement, n_qubits, measure_all=False).compose(state_0, front=True) for measurement\n",
    "                 in Measurements]\n",
    "    \n",
    "    qi = QuantumInstance(backend=backed_calculations, coupling_map=coupling_map, noise_model=noise_model,\n",
    "                          basis_gates=basis_gates, shots=NUM_SHOTS // len(Groups))\n",
    "    \n",
    "    if layout is not None:\n",
    "        qi.set_config(initial_layout=layout[::-1])\n",
    "        \n",
    "    qi._RUN_CONFIG += [\"job_name\", \"job_tags\"]\n",
    "    qi.set_config(job_name=f'{molecule_name} / {method}')\n",
    "\n",
    "    counts = []\n",
    "\n",
    "    counter = 0\n",
    "    n_runs = int(np.ceil(len(circuits) / n_chunks))\n",
    "    \n",
    "    with open('progress_' + method + '.txt', 'w') as f:\n",
    "            f.write('{}/{}\\n'.format(0, len(circuits)))\n",
    "    \n",
    "    pbar = tqdm(total=len(circuits), desc='Simulating circuits for {}'.format(method))\n",
    "    while len(counts) < len(circuits):\n",
    "        initial = counter * n_chunks\n",
    "        final = min((counter + 1) * n_chunks, len(circuits))\n",
    "         \n",
    "        # Some time IBMQ is returning some random error [5204], so if this happens\n",
    "        while True:\n",
    "            try:\n",
    "                qi.set_config(job_tags=[f'{counter + 1}/{n_runs}'])\n",
    "                counts_temp = qi.execute(circuits[initial:final]).get_counts()\n",
    "                break\n",
    "            except (KeyboardInterrupt, SystemExit):\n",
    "                return None\n",
    "            except Exception as e:\n",
    "                print(e)\n",
    "                print('Trying again ...')\n",
    "                pass\n",
    "\n",
    "        counts += counts_temp\n",
    "        counter += 1\n",
    "        \n",
    "        with open('progress_' + method + '.txt', 'w') as f:\n",
    "            f.write('{}/{}\\n'.format(final, len(circuits)))            \n",
    "        pbar.update(final - initial)\n",
    "    pbar.close()\n",
    "    \n",
    "    if len(circuits) == 1:\n",
    "        counts = [counts]\n",
    "        \n",
    "    probabilities = [post_process_results(counts[j], circuits[j].num_clbits, qi.run_config.shots) for j in\n",
    "                     range(len(counts))]\n",
    "    energy = 0\n",
    "    \n",
    "    for j in range(len(probabilities)):\n",
    "        diagonals, factors = probability2expected_binary(coeffs, labels, [Groups[j]], [Measurements[j]], shift=False)\n",
    "        diagonals = [~diagonal * 2 - 1 for diagonal in diagonals[0]]\n",
    "\n",
    "        energy += np.sum((diagonals * np.array(factors[0])[:, None]) @ probabilities[j])\n",
    "        # energy += np.sum(prob2Exp[j] @ probabilities[j])\n",
    "\n",
    "    return qi, energy"
   ]
  },
  {
   "cell_type": "code",
   "execution_count": 5,
   "id": "d4dc7ac2-ba99-4a52-99b7-58a9e85f3bc6",
   "metadata": {
    "execution": {
     "iopub.execute_input": "2022-05-12T13:23:55.877766Z",
     "iopub.status.busy": "2022-05-12T13:23:55.877584Z",
     "iopub.status.idle": "2022-05-12T13:24:04.806125Z",
     "shell.execute_reply": "2022-05-12T13:24:04.805686Z",
     "shell.execute_reply.started": "2022-05-12T13:23:55.877752Z"
    },
    "pycharm": {
     "name": "#%%\n"
    },
    "tags": []
   },
   "outputs": [],
   "source": [
    "with warnings.catch_warnings():\n",
    "    warnings.simplefilter(\"ignore\")\n",
    "    IBMQ.load_account()\n",
    "\n",
    "provider_main = IBMQ.get_provider(hub='ibm-q', group='open', project='main')\n",
    "provider_CSIC = IBMQ.get_provider(hub='ibm-q-csic', group='internal', project='iff-csic')\n",
    "\n",
    "name_backend = 'ibmq_montreal'\n",
    "backend = provider_CSIC.get_backend(name_backend)\n",
    "WC_device = get_backend_connectivity(backend)\n",
    "\n",
    "G_device = nx.Graph()\n",
    "G_device.add_edges_from(WC_device)"
   ]
  },
  {
   "cell_type": "code",
   "execution_count": 6,
   "id": "805bf7a5-238f-448d-a890-01229945a78b",
   "metadata": {
    "execution": {
     "iopub.execute_input": "2022-05-12T13:24:04.807005Z",
     "iopub.status.busy": "2022-05-12T13:24:04.806787Z",
     "iopub.status.idle": "2022-05-12T13:24:06.585440Z",
     "shell.execute_reply": "2022-05-12T13:24:06.585015Z",
     "shell.execute_reply.started": "2022-05-12T13:24:04.806991Z"
    },
    "pycharm": {
     "name": "#%%\n"
    },
    "tags": []
   },
   "outputs": [],
   "source": [
    "NUM_SHOTS = 2 ** 14\n",
    "\n",
    "backend_hpc = provider_main.get_backend('ibmq_qasm_simulator')\n",
    "backed_simulation = provider_main.get_backend('simulator_statevector')\n",
    "simulator = Aer.get_backend('aer_simulator')  # Backend for simulation\n",
    "\n",
    "device = QasmSimulator.from_backend(backend)\n",
    "coupling_map = device.configuration().coupling_map\n",
    "noise_model = NoiseModel.from_backend(device)\n",
    "basis_gates = noise_model.basis_gates\n",
    "\n",
    "backed_calculations = simulator"
   ]
  },
  {
   "cell_type": "code",
   "execution_count": 7,
   "id": "7c47c5b7-0457-4014-9690-4127b693272c",
   "metadata": {
    "execution": {
     "iopub.execute_input": "2022-05-12T13:24:06.586316Z",
     "iopub.status.busy": "2022-05-12T13:24:06.586039Z",
     "iopub.status.idle": "2022-05-12T13:24:07.270391Z",
     "shell.execute_reply": "2022-05-12T13:24:07.270065Z",
     "shell.execute_reply.started": "2022-05-12T13:24:06.586301Z"
    },
    "pycharm": {
     "name": "#%%\n"
    },
    "tags": []
   },
   "outputs": [
    {
     "name": "stdout",
     "output_type": "stream",
     "text": [
      "Computing molecule\n",
      "100 total Pauli strings\n"
     ]
    }
   ],
   "source": [
    "molecule_name = 'LiH'\n",
    "\n",
    "try:\n",
    "    qubit_op = np.load('../data/big_molecules.npy', allow_pickle=True).item()[molecule_name]\n",
    "    print('Data loaded')\n",
    "except KeyError:\n",
    "    print('Computing molecule')\n",
    "    qubit_op = molecules(molecule_name)\n",
    "        \n",
    "paulis, coeffs, labels = Label2Chain(qubit_op)\n",
    "\n",
    "n_qubits = qubit_op.num_qubits\n",
    "state_0 = QuantumCircuit(n_qubits)\n",
    "state_0 = state_0.compose(get_ghz_simple(n_qubits, measure=False))  # Initialized in the GHZ state\n",
    "\n",
    "print(f'{len(paulis)} total Pauli strings')"
   ]
  },
  {
   "cell_type": "markdown",
   "id": "3d0e3ede-c1b0-4296-b201-c765f6695597",
   "metadata": {
    "pycharm": {
     "name": "#%% md\n"
    },
    "tags": []
   },
   "source": [
    "# Exact (only valid for GHZ)"
   ]
  },
  {
   "cell_type": "code",
   "execution_count": 8,
   "id": "9741a0b7-d517-4870-86eb-2f20d2bef959",
   "metadata": {
    "execution": {
     "iopub.execute_input": "2022-05-12T13:24:15.346373Z",
     "iopub.status.busy": "2022-05-12T13:24:15.346006Z",
     "iopub.status.idle": "2022-05-12T13:24:15.353743Z",
     "shell.execute_reply": "2022-05-12T13:24:15.353336Z",
     "shell.execute_reply.started": "2022-05-12T13:24:15.346357Z"
    },
    "pycharm": {
     "name": "#%%\n"
    },
    "tags": []
   },
   "outputs": [
    {
     "name": "stdout",
     "output_type": "stream",
     "text": [
      "Exact energy: (-0.427640800303574+0j)\n"
     ]
    }
   ],
   "source": [
    "diagonals = {'I': np.array([1, 0, 0, 1]), 'X': np.array([0, 1, 1, 0]),\n",
    "             'Y': np.array([0, 1j, -1j, 0]), 'Z': np.array([1, 0, 0, -1])}\n",
    "\n",
    "energy_exact = 0\n",
    "for label, coeff in zip(labels, coeffs):\n",
    "    diagonal = np.ones(4, dtype=complex)\n",
    "    for op in label:\n",
    "        diagonal *= diagonals[op]\n",
    "    energy_exact += coeff * np.sum(diagonal) / 2\n",
    "    \n",
    "print('Exact energy: {}'.format(energy_exact))"
   ]
  },
  {
   "cell_type": "markdown",
   "id": "dd897c35-9ebe-4d9c-8c51-3c3d1c0f3e3e",
   "metadata": {
    "pycharm": {
     "name": "#%% md\n"
    },
    "tags": []
   },
   "source": [
    "## Exact: Simulation"
   ]
  },
  {
   "cell_type": "raw",
   "id": "b96bd3b7-320d-4deb-9f06-da751aa681b9",
   "metadata": {
    "execution": {
     "iopub.execute_input": "2022-02-15T19:42:27.525629Z",
     "iopub.status.busy": "2022-02-15T19:42:27.524994Z",
     "iopub.status.idle": "2022-02-15T19:47:01.154528Z",
     "shell.execute_reply": "2022-02-15T19:47:01.154137Z",
     "shell.execute_reply.started": "2022-02-15T19:42:27.525561Z"
    },
    "pycharm": {
     "name": "#%% raw\n"
    },
    "tags": []
   },
   "source": [
    "Groups_HEEM, Measurements_HEEM, layout_HEEM = groupingWithOrder(paulis, G_device, connected=True, print_progress=True)\n",
    "prob2Exp_exact = probability2expected_parallel(-1, coeffs, labels, Groups_HEEM, Measurements_HEEM, print_progress=True)"
   ]
  },
  {
   "cell_type": "raw",
   "id": "428724a8-1c17-406a-be04-a95df648e8b0",
   "metadata": {
    "execution": {
     "iopub.execute_input": "2022-02-15T19:47:01.155308Z",
     "iopub.status.busy": "2022-02-15T19:47:01.155180Z",
     "iopub.status.idle": "2022-02-15T19:47:01.422207Z",
     "shell.execute_reply": "2022-02-15T19:47:01.421785Z",
     "shell.execute_reply.started": "2022-02-15T19:47:01.155295Z"
    },
    "pycharm": {
     "name": "#%% raw\n"
    },
    "tags": []
   },
   "source": [
    "circuits_exact = []\n",
    "for j, measure in enumerate(Measurements_HEEM):\n",
    "    circuit = measure_circuit_factor(measure, n_qubits, make_measurements=False)\n",
    "    circuit = circuit.compose(state_0, front=True)\n",
    "    circuit.save_statevector()\n",
    "    circuits_exact.append(circuit)"
   ]
  },
  {
   "cell_type": "raw",
   "id": "d41cc386-fbc3-493a-9ad4-e9abdde8402d",
   "metadata": {
    "execution": {
     "iopub.execute_input": "2022-02-15T19:47:01.422848Z",
     "iopub.status.busy": "2022-02-15T19:47:01.422727Z",
     "iopub.status.idle": "2022-02-15T19:47:02.360145Z",
     "shell.execute_reply": "2022-02-15T19:47:02.359630Z",
     "shell.execute_reply.started": "2022-02-15T19:47:01.422823Z"
    },
    "pycharm": {
     "name": "#%% raw\n"
    },
    "tags": []
   },
   "source": [
    "results_exact = simulator.run(circuits_exact).result()\n",
    "\n",
    "energy_exact = 0\n",
    "for j in range(len(Measurements_HEEM)):\n",
    "    prob = np.abs(results_exact.get_statevector(circuits_exact[j])) ** 2\n",
    "    energy_exact += np.sum(prob2Exp_exact[j] @ prob)\n",
    "    \n",
    "print('Exact energy: {}'.format(energy_exact))"
   ]
  },
  {
   "cell_type": "markdown",
   "id": "672e438c-67cc-4611-ab27-94d78b4161b1",
   "metadata": {
    "pycharm": {
     "name": "#%% md\n"
    },
    "tags": []
   },
   "source": [
    "# TPB"
   ]
  },
  {
   "cell_type": "code",
   "execution_count": 46,
   "id": "b805ff85-c9fc-43a1-88e3-7a66f8d52381",
   "metadata": {
    "execution": {
     "iopub.execute_input": "2022-05-12T13:30:14.766239Z",
     "iopub.status.busy": "2022-05-12T13:30:14.765973Z",
     "iopub.status.idle": "2022-05-12T13:30:14.872395Z",
     "shell.execute_reply": "2022-05-12T13:30:14.871941Z",
     "shell.execute_reply.started": "2022-05-12T13:30:14.766222Z"
    },
    "pycharm": {
     "name": "#%%\n"
    },
    "tags": []
   },
   "outputs": [
    {
     "data": {
      "application/vnd.jupyter.widget-view+json": {
       "model_id": "72d85de8a2eb4cf091af2743a3870747",
       "version_major": 2,
       "version_minor": 0
      },
      "text/plain": [
       "Computing Pauli graph:   0%|          | 0/100 [00:00<?, ?it/s]"
      ]
     },
     "metadata": {},
     "output_type": "display_data"
    },
    {
     "name": "stdout",
     "output_type": "stream",
     "text": [
      "Number of groups 25\n"
     ]
    }
   ],
   "source": [
    "_, Groups_TPB, Measurements_TPB = TPBgrouping(paulis, print_progress=True)\n",
    "\n",
    "print('Number of groups', len(Groups_TPB))\n",
    "n_runs = int(np.ceil(len(Groups_TPB) / max_size))"
   ]
  },
  {
   "cell_type": "code",
   "execution_count": 48,
   "id": "424d60cf-5791-400f-bc87-558d7d780f90",
   "metadata": {
    "execution": {
     "iopub.execute_input": "2022-05-12T13:30:58.239790Z",
     "iopub.status.busy": "2022-05-12T13:30:58.239214Z",
     "iopub.status.idle": "2022-05-12T13:30:58.836865Z",
     "shell.execute_reply": "2022-05-12T13:30:58.836409Z",
     "shell.execute_reply.started": "2022-05-12T13:30:58.239757Z"
    },
    "pycharm": {
     "name": "#%%\n"
    },
    "tags": []
   },
   "outputs": [
    {
     "data": {
      "application/vnd.jupyter.widget-view+json": {
       "model_id": "e967370de0b2432fad9cc515938f5793",
       "version_major": 2,
       "version_minor": 0
      },
      "text/plain": [
       "Simulating circuits for TPB:   0%|          | 0/25 [00:00<?, ?it/s]"
      ]
     },
     "metadata": {},
     "output_type": "display_data"
    },
    {
     "name": "stdout",
     "output_type": "stream",
     "text": [
      "TPB energy: -0.43096555970724315\n",
      "Relative error: 0.777 %\n",
      "Simulation time 0.45838069915771484 s\n"
     ]
    }
   ],
   "source": [
    "method = 'TPB'\n",
    "qi_TPB, energy_TPB = compute_energy(Groups_TPB, Measurements_TPB, method)\n",
    "relative_TPB = np.abs((energy_TPB - energy_exact) / energy_exact)\n",
    "\n",
    "print('TPB energy: {}'.format(energy_TPB))\n",
    "print('Relative error: {:.3f} %'.format(relative_TPB * 100))\n",
    "print(f'Simulation time {qi_TPB.time_taken} s')\n",
    "\n",
    "with open('progress_' + method + '.txt', 'w') as f:\n",
    "    f.write('Done: {}\\n'.format(energy_TPB))"
   ]
  },
  {
   "cell_type": "markdown",
   "id": "decf7b5c-d934-4118-92b1-b6ce9cd72466",
   "metadata": {
    "pycharm": {
     "name": "#%% md\n"
    },
    "tags": []
   },
   "source": [
    "# EM"
   ]
  },
  {
   "cell_type": "code",
   "execution_count": 56,
   "id": "9c2029bb-6c83-44a1-bd4e-974daf145bf8",
   "metadata": {
    "execution": {
     "iopub.execute_input": "2022-05-12T13:32:20.833098Z",
     "iopub.status.busy": "2022-05-12T13:32:20.832899Z",
     "iopub.status.idle": "2022-05-12T13:32:20.913266Z",
     "shell.execute_reply": "2022-05-12T13:32:20.912798Z",
     "shell.execute_reply.started": "2022-05-12T13:32:20.833084Z"
    },
    "pycharm": {
     "name": "#%%\n"
    },
    "tags": []
   },
   "outputs": [
    {
     "data": {
      "application/vnd.jupyter.widget-view+json": {
       "model_id": "783c443884f64fc69e830af6b9d4044d",
       "version_major": 2,
       "version_minor": 0
      },
      "text/plain": [
       "Computing Pauli graph:   0%|          | 0/100 [00:00<?, ?it/s]"
      ]
     },
     "metadata": {},
     "output_type": "display_data"
    },
    {
     "data": {
      "application/vnd.jupyter.widget-view+json": {
       "model_id": "cb7b884c661b43779bcb452e79c01c67",
       "version_major": 2,
       "version_minor": 0
      },
      "text/plain": [
       "Computing grouping:   0%|          | 0/100 [00:00<?, ?it/s]"
      ]
     },
     "metadata": {},
     "output_type": "display_data"
    },
    {
     "name": "stdout",
     "output_type": "stream",
     "text": [
      "Number of groups 11\n"
     ]
    }
   ],
   "source": [
    "Groups_EM, Measurements_EM, layout_EM = groupingWithOrder(paulis, connected=True, print_progress=True)\n",
    "\n",
    "print('Number of groups', len(Groups_EM))\n",
    "n_runs = int(np.ceil(len(Groups_EM) / max_size))"
   ]
  },
  {
   "cell_type": "code",
   "execution_count": 62,
   "id": "c02c9924-6614-4f60-a189-67d8ec8ae84a",
   "metadata": {
    "execution": {
     "iopub.execute_input": "2022-05-12T13:32:44.478611Z",
     "iopub.status.busy": "2022-05-12T13:32:44.478327Z",
     "iopub.status.idle": "2022-05-12T13:32:44.816763Z",
     "shell.execute_reply": "2022-05-12T13:32:44.816289Z",
     "shell.execute_reply.started": "2022-05-12T13:32:44.478598Z"
    },
    "pycharm": {
     "name": "#%%\n"
    },
    "tags": []
   },
   "outputs": [
    {
     "data": {
      "application/vnd.jupyter.widget-view+json": {
       "model_id": "f24d487046714621b3df155d1b9b3421",
       "version_major": 2,
       "version_minor": 0
      },
      "text/plain": [
       "Simulating circuits for EM:   0%|          | 0/11 [00:00<?, ?it/s]"
      ]
     },
     "metadata": {},
     "output_type": "display_data"
    },
    {
     "name": "stdout",
     "output_type": "stream",
     "text": [
      "EM energy: -0.4496827656776536\n",
      "Relative error: 5.154 %\n",
      "Simulation time 0.2612137794494629 s\n"
     ]
    }
   ],
   "source": [
    "method = 'EM'\n",
    "\n",
    "qi_EM, energy_EM = compute_energy(Groups_EM, Measurements_EM, method, layout=layout_EM)\n",
    "relative_EM= np.abs((energy_EM - energy_exact) / energy_exact)\n",
    "\n",
    "print('EM energy: {}'.format(energy_EM))\n",
    "print('Relative error: {:.3f} %'.format(relative_EM * 100))\n",
    "print(f'Simulation time {qi_EM.time_taken} s')\n",
    "\n",
    "with open('progress_' + method + '.txt', 'w') as f:\n",
    "    f.write('Done: {}\\n'.format(energy_EM))"
   ]
  },
  {
   "cell_type": "markdown",
   "id": "074933a7-641e-44fa-b2d4-91d8e15cf898",
   "metadata": {
    "pycharm": {
     "name": "#%% md\n"
    },
    "tags": []
   },
   "source": [
    "# HEEM"
   ]
  },
  {
   "cell_type": "code",
   "execution_count": 70,
   "id": "87dce716-6a03-447a-b590-9eb8aa154f31",
   "metadata": {
    "execution": {
     "iopub.execute_input": "2022-05-12T13:35:20.740542Z",
     "iopub.status.busy": "2022-05-12T13:35:20.740189Z",
     "iopub.status.idle": "2022-05-12T13:35:20.826594Z",
     "shell.execute_reply": "2022-05-12T13:35:20.826196Z",
     "shell.execute_reply.started": "2022-05-12T13:35:20.740522Z"
    },
    "pycharm": {
     "name": "#%%\n"
    },
    "tags": []
   },
   "outputs": [
    {
     "data": {
      "application/vnd.jupyter.widget-view+json": {
       "model_id": "0b030bca54d449bbb27a0843eff8152a",
       "version_major": 2,
       "version_minor": 0
      },
      "text/plain": [
       "Computing Pauli graph:   0%|          | 0/100 [00:00<?, ?it/s]"
      ]
     },
     "metadata": {},
     "output_type": "display_data"
    },
    {
     "data": {
      "application/vnd.jupyter.widget-view+json": {
       "model_id": "be41c584e7f3468e90e860895ba03595",
       "version_major": 2,
       "version_minor": 0
      },
      "text/plain": [
       "Computing grouping:   0%|          | 0/100 [00:00<?, ?it/s]"
      ]
     },
     "metadata": {},
     "output_type": "display_data"
    },
    {
     "name": "stdout",
     "output_type": "stream",
     "text": [
      "Number of groups 11\n"
     ]
    }
   ],
   "source": [
    "Groups_HEEM, Measurements_HEEM, layout_HEEM = groupingWithOrder(paulis, G_device, connected=True, print_progress=True)\n",
    "\n",
    "print('Number of groups', len(Groups_HEEM))\n",
    "n_runs = int(np.ceil(len(Groups_HEEM) / max_size))"
   ]
  },
  {
   "cell_type": "code",
   "execution_count": 76,
   "id": "11050b1e-1fb1-4539-873e-ed27ca650a35",
   "metadata": {
    "execution": {
     "iopub.execute_input": "2022-05-12T13:35:28.744629Z",
     "iopub.status.busy": "2022-05-12T13:35:28.744272Z",
     "iopub.status.idle": "2022-05-12T13:35:29.074120Z",
     "shell.execute_reply": "2022-05-12T13:35:29.073666Z",
     "shell.execute_reply.started": "2022-05-12T13:35:28.744614Z"
    },
    "pycharm": {
     "name": "#%%\n"
    },
    "tags": []
   },
   "outputs": [
    {
     "data": {
      "application/vnd.jupyter.widget-view+json": {
       "model_id": "99d1e6b0fcd04faab7b0fc362453401b",
       "version_major": 2,
       "version_minor": 0
      },
      "text/plain": [
       "Simulating circuits for HEEM:   0%|          | 0/11 [00:00<?, ?it/s]"
      ]
     },
     "metadata": {},
     "output_type": "display_data"
    },
    {
     "name": "stdout",
     "output_type": "stream",
     "text": [
      "HEEM energy: -0.45709925872727863\n",
      "Relative error: 6.889 %\n",
      "Simulation time 0.2507467269897461 s\n"
     ]
    }
   ],
   "source": [
    "method = 'HEEM'\n",
    "\n",
    "qi_HEEM, energy_HEEM = compute_energy(Groups_HEEM, Measurements_HEEM, method, n_chunks=100, layout=layout_HEEM)\n",
    "relative_HEEM = np.abs((energy_HEEM - energy_exact) / energy_exact)\n",
    "\n",
    "print('HEEM energy: {}'.format(energy_HEEM))\n",
    "print('Relative error: {:.3f} %'.format(relative_HEEM * 100))\n",
    "print(f'Simulation time {qi_HEEM.time_taken} s')\n",
    "\n",
    "with open('progress_' + method + '.txt', 'w') as f:\n",
    "    f.write('Done: {}\\n'.format(energy_HEEM))"
   ]
  }
 ],
 "metadata": {
  "kernelspec": {
   "display_name": "Python 3 (ipykernel)",
   "language": "python",
   "name": "python3"
  },
  "language_info": {
   "codemirror_mode": {
    "name": "ipython",
    "version": 3
   },
   "file_extension": ".py",
   "mimetype": "text/x-python",
   "name": "python",
   "nbconvert_exporter": "python",
   "pygments_lexer": "ipython3",
   "version": "3.9.12"
  }
 },
 "nbformat": 4,
 "nbformat_minor": 5
}
