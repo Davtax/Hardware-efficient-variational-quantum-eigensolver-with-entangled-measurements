{
 "cells": [
  {
   "cell_type": "code",
   "execution_count": 1,
   "id": "45c586e5-af22-40e0-a44e-fd16db787831",
   "metadata": {
    "execution": {
     "iopub.execute_input": "2022-05-23T20:54:43.782025Z",
     "iopub.status.busy": "2022-05-23T20:54:43.781841Z",
     "iopub.status.idle": "2022-05-23T20:54:45.341901Z",
     "shell.execute_reply": "2022-05-23T20:54:45.341259Z",
     "shell.execute_reply.started": "2022-05-23T20:54:43.781985Z"
    },
    "pycharm": {
     "name": "#%%\n"
    },
    "tags": []
   },
   "outputs": [],
   "source": [
    "import sys\n",
    "import warnings\n",
    "sys.path.append('../')\n",
    "warnings.filterwarnings('ignore')\n",
    "\n",
    "%load_ext autoreload\n",
    "%autoreload 1\n",
    "%aimport utils, GroupingAlgorithm, HEEM_VQE_Functions, qiskit"
   ]
  },
  {
   "cell_type": "code",
   "execution_count": 2,
   "id": "9236dd35-e3fa-436f-a731-3f2b642d212f",
   "metadata": {
    "execution": {
     "iopub.execute_input": "2022-05-23T20:54:45.349217Z",
     "iopub.status.busy": "2022-05-23T20:54:45.349033Z",
     "iopub.status.idle": "2022-05-23T20:54:45.384741Z",
     "shell.execute_reply": "2022-05-23T20:54:45.383848Z",
     "shell.execute_reply.started": "2022-05-23T20:54:45.349201Z"
    },
    "pycharm": {
     "name": "#%%\n"
    },
    "tags": []
   },
   "outputs": [],
   "source": [
    "import numpy as np\n",
    "import matplotlib.pyplot as plt\n",
    "import networkx as nx\n",
    "from tqdm.auto import tqdm\n",
    "\n",
    "from qiskit import IBMQ, Aer, QuantumCircuit, QuantumRegister, ClassicalRegister, transpile, execute\n",
    "from qiskit.providers.aer import QasmSimulator\n",
    "from qiskit.providers.aer.noise import NoiseModel\n",
    "from qiskit.utils.quantum_instance import QuantumInstance\n",
    "from qiskit.ignis.verification import get_ghz_simple\n",
    "from qiskit.compiler import transpile\n",
    "from qiskit.tools.monitor import job_monitor\n",
    "from qiskit.opflow.state_fns import CircuitStateFn\n",
    "from qiskit.providers.aer.extensions.snapshot_statevector import *\n",
    "\n",
    "from utils import get_backend_connectivity, molecules, Label2Chain, from_string_to_numbers, load_grouping_data, current_time, load_data_IBMQ, send_ibmq_parallel\n",
    "from GroupingAlgorithm import groupingWithOrder, TPBgrouping\n",
    "from HEEM_VQE_Functions import measure_circuit_factor, probability2expected_binary, post_process_results, probability2expected_parallel"
   ]
  },
  {
   "cell_type": "code",
   "execution_count": 62,
   "id": "2be63308-947a-4edc-a05a-0b0de13bc999",
   "metadata": {
    "execution": {
     "iopub.execute_input": "2022-05-23T21:20:53.535541Z",
     "iopub.status.busy": "2022-05-23T21:20:53.535212Z",
     "iopub.status.idle": "2022-05-23T21:20:53.544993Z",
     "shell.execute_reply": "2022-05-23T21:20:53.544091Z",
     "shell.execute_reply.started": "2022-05-23T21:20:53.535526Z"
    },
    "tags": []
   },
   "outputs": [],
   "source": [
    "def compute_energy(Groups, Measurements, method, n_chunks=10, layout=None):\n",
    "    \n",
    "    circuits = [measure_circuit_factor(measurement, n_qubits, measure_all=False).compose(state_0, front=True) for measurement\n",
    "                 in Measurements]\n",
    "    \n",
    "    kwards_run = {'coupling_map': coupling_map, 'noise_model': noise_model, 'basis_gates': basis_gates, 'shots': NUM_SHOTS // len(Groups)}\n",
    "    \n",
    "    if layout is not None:\n",
    "        kwards_run['initial_layout'] = layout[::-1]\n",
    "    \n",
    "    jobs = send_ibmq_parallel(backed_calculations, n_chunks, circuits, job_tag=[molecule_name, method], verbose=False,\n",
    "                              progress_bar=True, output_file='progress_' + method + '.txt', kwards_run=kwards_run)\n",
    "\n",
    "    counts = []\n",
    "    \n",
    "    for job in jobs:\n",
    "        counts += job.result().get_counts()\n",
    "    \n",
    "    energy = 0\n",
    "    pbar = tqdm(range(len(counts)), desc='Computing energy')\n",
    "    for j in pbar:\n",
    "        probabilities = post_process_results(counts[j], circuits[j].num_clbits, kwards_run['shots'])\n",
    "        diagonals, factors = probability2expected_binary(coeffs, labels, [Groups[j]], [Measurements[j]], shift=False)\n",
    "        diagonals = [(~diagonal * 2 - 1).astype('int8') for diagonal in diagonals[0]]\n",
    "\n",
    "        energy += np.sum((diagonals * np.array(factors[0])[:, None]) @ probabilities)\n",
    "\n",
    "    return jobs, energy"
   ]
  },
  {
   "cell_type": "code",
   "execution_count": 5,
   "id": "d4dc7ac2-ba99-4a52-99b7-58a9e85f3bc6",
   "metadata": {
    "execution": {
     "iopub.execute_input": "2022-05-23T20:54:45.409588Z",
     "iopub.status.busy": "2022-05-23T20:54:45.409164Z",
     "iopub.status.idle": "2022-05-23T20:54:52.817788Z",
     "shell.execute_reply": "2022-05-23T20:54:52.817229Z",
     "shell.execute_reply.started": "2022-05-23T20:54:45.409565Z"
    },
    "pycharm": {
     "name": "#%%\n"
    },
    "tags": []
   },
   "outputs": [],
   "source": [
    "with warnings.catch_warnings():\n",
    "    warnings.simplefilter(\"ignore\")\n",
    "    IBMQ.load_account()\n",
    "\n",
    "provider_main = IBMQ.get_provider(hub='ibm-q', group='open', project='main')\n",
    "provider_CSIC = IBMQ.get_provider(hub='ibm-q-csic', group='internal', project='iff-csic')\n",
    "\n",
    "name_backend = 'ibmq_montreal'\n",
    "backend = provider_CSIC.get_backend(name_backend)\n",
    "WC_device = get_backend_connectivity(backend)\n",
    "\n",
    "G_device = nx.Graph()\n",
    "G_device.add_edges_from(WC_device)"
   ]
  },
  {
   "cell_type": "code",
   "execution_count": 6,
   "id": "805bf7a5-238f-448d-a890-01229945a78b",
   "metadata": {
    "execution": {
     "iopub.execute_input": "2022-05-23T20:54:52.818602Z",
     "iopub.status.busy": "2022-05-23T20:54:52.818467Z",
     "iopub.status.idle": "2022-05-23T20:54:54.847933Z",
     "shell.execute_reply": "2022-05-23T20:54:54.847386Z",
     "shell.execute_reply.started": "2022-05-23T20:54:52.818589Z"
    },
    "pycharm": {
     "name": "#%%\n"
    },
    "tags": []
   },
   "outputs": [],
   "source": [
    "NUM_SHOTS = 2 ** 14\n",
    "\n",
    "backend_hpc = provider_main.get_backend('ibmq_qasm_simulator')\n",
    "backed_simulation = provider_main.get_backend('simulator_statevector')\n",
    "simulator = Aer.get_backend('aer_simulator')  # Backend for simulation\n",
    "\n",
    "device = QasmSimulator.from_backend(backend)\n",
    "coupling_map = device.configuration().coupling_map\n",
    "noise_model = NoiseModel.from_backend(device)\n",
    "basis_gates = noise_model.basis_gates\n",
    "\n",
    "backed_calculations = backend_hpc"
   ]
  },
  {
   "cell_type": "code",
   "execution_count": 78,
   "id": "94f85aed",
   "metadata": {
    "collapsed": false,
    "execution": {
     "iopub.execute_input": "2022-05-24T04:14:01.254456Z",
     "iopub.status.busy": "2022-05-24T04:14:01.254236Z",
     "iopub.status.idle": "2022-05-24T04:14:01.597844Z",
     "shell.execute_reply": "2022-05-24T04:14:01.597152Z",
     "shell.execute_reply.started": "2022-05-24T04:14:01.254441Z"
    },
    "jupyter": {
     "outputs_hidden": false
    },
    "pycharm": {
     "name": "#%%\n"
    },
    "tags": []
   },
   "outputs": [
    {
     "name": "stdout",
     "output_type": "stream",
     "text": [
      "Data loaded\n",
      "8919 total Pauli strings\n",
      "26 qubits\n"
     ]
    }
   ],
   "source": [
    "molecule_name = 'C2H6'\n",
    "\n",
    "try:\n",
    "    qubit_op = np.load('../data/big_molecules.npy', allow_pickle=True).item()[molecule_name]\n",
    "    print('Data loaded')\n",
    "except KeyError:\n",
    "    print('Computing molecule')\n",
    "    qubit_op = molecules(molecule_name)\n",
    "        \n",
    "paulis, coeffs, labels = Label2Chain(qubit_op)\n",
    "\n",
    "n_qubits = qubit_op.num_qubits\n",
    "state_0 = QuantumCircuit(n_qubits)\n",
    "# state_0 = state_0.compose(get_ghz_simple(n_qubits, measure=False))  # Initialized in the GHZ state\n",
    "\n",
    "print(f'{len(paulis)} total Pauli strings')\n",
    "print(f'{n_qubits} qubits')"
   ]
  },
  {
   "cell_type": "markdown",
   "id": "ffc87f02-7a80-4c13-8bf9-9c9c1e6f7bf8",
   "metadata": {
    "tags": []
   },
   "source": [
    "# Exact analytical"
   ]
  },
  {
   "cell_type": "markdown",
   "id": "6d17b689-a954-4a22-8da0-ec13719155c4",
   "metadata": {},
   "source": [
    "## $|0\\rangle^{\\otimes N}$"
   ]
  },
  {
   "cell_type": "code",
   "execution_count": 79,
   "id": "6de095b7-3ea0-4587-9150-f80f154f0361",
   "metadata": {
    "execution": {
     "iopub.execute_input": "2022-05-24T04:14:04.324017Z",
     "iopub.status.busy": "2022-05-24T04:14:04.323346Z",
     "iopub.status.idle": "2022-05-24T04:14:04.331178Z",
     "shell.execute_reply": "2022-05-24T04:14:04.330572Z",
     "shell.execute_reply.started": "2022-05-24T04:14:04.323990Z"
    },
    "tags": []
   },
   "outputs": [
    {
     "name": "stdout",
     "output_type": "stream",
     "text": [
      "Exact energy: -11.419431103002799\n"
     ]
    }
   ],
   "source": [
    "energy_exact = 0\n",
    "\n",
    "for i in range(len(labels)):\n",
    "    label = labels[i]\n",
    "    if 'X' not in label and 'Y' not in label:\n",
    "        energy_exact += coeffs[i]\n",
    "print('Exact energy: {}'.format(energy_exact))"
   ]
  },
  {
   "cell_type": "markdown",
   "id": "eea7dfde-1d4c-414b-940d-7090153201f0",
   "metadata": {},
   "source": [
    "## $|\\mathrm{GHZ}\\rangle$"
   ]
  },
  {
   "cell_type": "code",
   "execution_count": 70,
   "id": "1b3c93c7-a72c-4d02-b65a-bb8b190f7511",
   "metadata": {
    "execution": {
     "iopub.execute_input": "2022-05-23T21:24:22.998294Z",
     "iopub.status.busy": "2022-05-23T21:24:22.998038Z",
     "iopub.status.idle": "2022-05-23T21:24:23.268007Z",
     "shell.execute_reply": "2022-05-23T21:24:23.267427Z",
     "shell.execute_reply.started": "2022-05-23T21:24:22.998281Z"
    },
    "tags": []
   },
   "outputs": [
    {
     "name": "stdout",
     "output_type": "stream",
     "text": [
      "Exact energy: -13.647455702351461\n"
     ]
    }
   ],
   "source": [
    "diagonals = {'I': np.array([1, 0, 0, 1]), 'X': np.array([0, 1, 1, 0]),\n",
    "             'Y': np.array([0, 1j, -1j, 0]), 'Z': np.array([1, 0, 0, -1])}\n",
    "\n",
    "energy_exact = 0\n",
    "for label, coeff in zip(labels, coeffs):\n",
    "    diagonal = np.ones(4, dtype=complex)\n",
    "    for op in label:\n",
    "        diagonal *= diagonals[op]\n",
    "    energy_exact += coeff * np.sum(diagonal) / 2\n",
    "    \n",
    "print('Exact energy: {}'.format(energy_exact.real))"
   ]
  },
  {
   "cell_type": "markdown",
   "id": "8d9d2d5b",
   "metadata": {
    "jp-MarkdownHeadingCollapsed": true,
    "pycharm": {
     "name": "#%% md\n"
    },
    "tags": []
   },
   "source": [
    "# Exact (Numerical)"
   ]
  },
  {
   "cell_type": "markdown",
   "id": "59da1be4-475e-4714-b2c9-4809a81ce4fe",
   "metadata": {
    "execution": {
     "iopub.execute_input": "2022-05-23T10:05:35.085068Z",
     "iopub.status.busy": "2022-05-23T10:05:35.084667Z",
     "iopub.status.idle": "2022-05-23T10:07:17.044664Z",
     "shell.execute_reply": "2022-05-23T10:07:17.044113Z",
     "shell.execute_reply.started": "2022-05-23T10:05:35.085053Z"
    },
    "pycharm": {
     "name": "#%%\n"
    },
    "tags": []
   },
   "source": [
    "psi = CircuitStateFn(state_0)\n",
    "energy_exact = psi.adjoint().compose(qubit_op).compose(psi).eval().real\n",
    "    \n",
    "print('Exact energy: {}'.format(energy_exact))"
   ]
  },
  {
   "cell_type": "markdown",
   "id": "0616a9a9",
   "metadata": {
    "jp-MarkdownHeadingCollapsed": true,
    "pycharm": {
     "name": "#%% md\n"
    },
    "tags": []
   },
   "source": [
    "# Exact (Simulation)"
   ]
  },
  {
   "cell_type": "code",
   "execution_count": 8,
   "id": "7cce5c7e",
   "metadata": {
    "collapsed": false,
    "execution": {
     "iopub.execute_input": "2022-05-23T12:35:19.453023Z",
     "iopub.status.busy": "2022-05-23T12:35:19.453023Z",
     "iopub.status.idle": "2022-05-23T12:35:20.324009Z",
     "shell.execute_reply": "2022-05-23T12:35:20.324009Z",
     "shell.execute_reply.started": "2022-05-23T12:35:19.453023Z"
    },
    "jupyter": {
     "outputs_hidden": false
    },
    "pycharm": {
     "name": "#%%\n"
    },
    "tags": []
   },
   "outputs": [
    {
     "name": "stdout",
     "output_type": "stream",
     "text": [
      "Data loaded\n",
      "Number of groups: 682\n"
     ]
    },
    {
     "name": "stderr",
     "output_type": "stream",
     "text": [
      "C:\\Users\\david\\anaconda3\\envs\\heem\\lib\\site-packages\\qiskit\\providers\\aer\\extensions\\snapshot_statevector.py:86: DeprecationWarning: The `SnapshotStatevector` instruction will be deprecated in thefuture. It has been superseded by the `SaveStatevector` instructions.\n",
      "  SnapshotStatevector(label, num_qubits=len(snapshot_register)),\n",
      "C:\\Users\\david\\anaconda3\\envs\\heem\\lib\\site-packages\\qiskit\\providers\\aer\\extensions\\snapshot_statevector.py:49: DeprecationWarning: The `Snapshot` instruction will be deprecated in the future. It has been superseded by the `SaveStatevector` instructions.\n",
      "  super().__init__(label, snapshot_type='statevector', num_qubits=num_qubits)\n"
     ]
    }
   ],
   "source": [
    "Groups, Measurements, _ = load_grouping_data(molecule_name, 'EM')\n",
    "# Groups, Measurements, _ = groupingWithOrder(paulis, connected=True, print_progress=True)\n",
    "print('Number of groups: {}'.format(len(Groups)))\n",
    "\n",
    "circuits_exact = []\n",
    "for j, measure in enumerate(Measurements):\n",
    "    circuit = measure_circuit_factor(measure, n_qubits, make_measurements=False)\n",
    "    circuit = circuit.compose(state_0, front=True)\n",
    "    # circuit.save_statevector()\n",
    "    circuit.snapshot_statevector('snapshot')\n",
    "    circuits_exact.append(circuit)"
   ]
  },
  {
   "cell_type": "code",
   "execution_count": 9,
   "id": "fc339dec-1a75-47da-b1b6-54ce7001cd8e",
   "metadata": {
    "execution": {
     "iopub.execute_input": "2022-05-23T12:35:20.392096Z",
     "iopub.status.busy": "2022-05-23T12:35:20.392096Z",
     "iopub.status.idle": "2022-05-23T12:35:20.433955Z",
     "shell.execute_reply": "2022-05-23T12:35:20.433955Z",
     "shell.execute_reply.started": "2022-05-23T12:35:20.392096Z"
    },
    "tags": []
   },
   "outputs": [
    {
     "name": "stdout",
     "output_type": "stream",
     "text": [
      "3.1510263929618767 3.0 4\n"
     ]
    }
   ],
   "source": [
    "depth = []\n",
    "for circuit in circuits_exact:\n",
    "    depth.append(circuit.depth())\n",
    "    \n",
    "print(np.average(depth), np.median(depth), np.max(depth))"
   ]
  },
  {
   "cell_type": "code",
   "execution_count": 10,
   "id": "5bb0b910",
   "metadata": {
    "collapsed": false,
    "execution": {
     "iopub.execute_input": "2022-05-23T12:35:22.184978Z",
     "iopub.status.busy": "2022-05-23T12:35:22.183974Z",
     "iopub.status.idle": "2022-05-23T12:35:22.192977Z",
     "shell.execute_reply": "2022-05-23T12:35:22.192977Z",
     "shell.execute_reply.started": "2022-05-23T12:35:22.184978Z"
    },
    "jupyter": {
     "outputs_hidden": false
    },
    "pycharm": {
     "name": "#%%\n"
    },
    "tags": []
   },
   "outputs": [],
   "source": [
    "n_max = 25\n",
    "\n",
    "if n_max == -1:\n",
    "    n_max = len(circuits_exact)\n",
    "n_runs = int(np.ceil(len(circuits_exact) / n_max))"
   ]
  },
  {
   "cell_type": "code",
   "execution_count": 27,
   "id": "2bcdbe7f-93ce-41fb-84cd-ce905d645995",
   "metadata": {
    "execution": {
     "iopub.execute_input": "2022-05-23T11:24:09.649205Z",
     "iopub.status.busy": "2022-05-23T11:24:09.649205Z",
     "iopub.status.idle": "2022-05-23T11:24:38.924131Z",
     "shell.execute_reply": "2022-05-23T11:24:38.924131Z",
     "shell.execute_reply.started": "2022-05-23T11:24:09.649205Z"
    },
    "tags": []
   },
   "outputs": [
    {
     "data": {
      "application/vnd.jupyter.widget-view+json": {
       "model_id": "0b7393bcb5474d66af64e5951c02ce39",
       "version_major": 2,
       "version_minor": 0
      },
      "text/plain": [
       "Jobs completed:   0%|          | 0/5 [00:00<?, ?it/s]"
      ]
     },
     "metadata": {},
     "output_type": "display_data"
    },
    {
     "name": "stdout",
     "output_type": "stream",
     "text": [
      "Job 1/5 sent to IBMQ\n",
      "Job 2/5 sent to IBMQ\n",
      "Job 3/5 sent to IBMQ\n",
      "Job 4/5 sent to IBMQ\n",
      "Job 5/5 sent to IBMQ\n"
     ]
    }
   ],
   "source": [
    "jobs = send_ibmq_parallel(backed_calculations, n_max, circuits_exact, job_tag=molecule_name, kwards_run={'shots': 1}, progress_bar=True)\n",
    "jobs_ids = [job.job_id() for job in jobs]\n",
    "\n",
    "np.save(molecule_name + '_exact_job_ids.npy', jobs_ids)"
   ]
  },
  {
   "cell_type": "code",
   "execution_count": 11,
   "id": "31608616",
   "metadata": {
    "collapsed": false,
    "execution": {
     "iopub.execute_input": "2022-05-23T12:35:24.615621Z",
     "iopub.status.busy": "2022-05-23T12:35:24.615621Z",
     "iopub.status.idle": "2022-05-23T12:35:24.623622Z",
     "shell.execute_reply": "2022-05-23T12:35:24.623622Z",
     "shell.execute_reply.started": "2022-05-23T12:35:24.615621Z"
    },
    "jupyter": {
     "outputs_hidden": false
    },
    "pycharm": {
     "name": "#%%\n"
    },
    "tags": []
   },
   "outputs": [],
   "source": [
    "jobs_ids = np.load(molecule_name + '_exact_job_ids.npy').tolist()"
   ]
  },
  {
   "cell_type": "code",
   "execution_count": 13,
   "id": "3c4c512b-5b03-4fd3-9c34-836e5e16b525",
   "metadata": {
    "execution": {
     "iopub.execute_input": "2022-05-23T12:49:19.819242Z",
     "iopub.status.busy": "2022-05-23T12:49:19.819242Z",
     "iopub.status.idle": "2022-05-23T16:01:36.440397Z",
     "shell.execute_reply": "2022-05-23T16:01:36.440397Z",
     "shell.execute_reply.started": "2022-05-23T12:49:19.819242Z"
    },
    "tags": []
   },
   "outputs": [
    {
     "data": {
      "application/vnd.jupyter.widget-view+json": {
       "model_id": "c7204d08afcc41559f5051b4acd6d708",
       "version_major": 2,
       "version_minor": 0
      },
      "text/plain": [
       "Computing exact energy:   0%|          | 0/28 [00:00<?, ?it/s]"
      ]
     },
     "metadata": {},
     "output_type": "display_data"
    },
    {
     "name": "stdout",
     "output_type": "stream",
     "text": [
      "data downloaded\n",
      "Loading data...\n"
     ]
    },
    {
     "data": {
      "application/vnd.jupyter.widget-view+json": {
       "model_id": "c0115e3acbbe4c148e222abed2945bb0",
       "version_major": 2,
       "version_minor": 0
      },
      "text/plain": [
       "Computing diagonal factors:   0%|          | 0/24 [00:00<?, ?it/s]"
      ]
     },
     "metadata": {},
     "output_type": "display_data"
    },
    {
     "ename": "KeyboardInterrupt",
     "evalue": "",
     "output_type": "error",
     "traceback": [
      "\u001b[1;31m---------------------------------------------------------------------------\u001b[0m",
      "\u001b[1;31mKeyboardInterrupt\u001b[0m                         Traceback (most recent call last)",
      "Input \u001b[1;32mIn [13]\u001b[0m, in \u001b[0;36m<cell line: 4>\u001b[1;34m()\u001b[0m\n\u001b[0;32m      7\u001b[0m initial \u001b[38;5;241m=\u001b[39m i \u001b[38;5;241m*\u001b[39m n_max\n\u001b[0;32m      8\u001b[0m final \u001b[38;5;241m=\u001b[39m \u001b[38;5;28mmin\u001b[39m(initial \u001b[38;5;241m+\u001b[39m n_max, \u001b[38;5;28mlen\u001b[39m(circuits_exact))\n\u001b[1;32m---> 10\u001b[0m temp \u001b[38;5;241m=\u001b[39m \u001b[43mprobability2expected_parallel\u001b[49m\u001b[43m(\u001b[49m\u001b[38;5;241;43m-\u001b[39;49m\u001b[38;5;241;43m1\u001b[39;49m\u001b[43m,\u001b[49m\u001b[43m \u001b[49m\u001b[43mcoeffs\u001b[49m\u001b[43m,\u001b[49m\u001b[43m \u001b[49m\u001b[43mlabels\u001b[49m\u001b[43m,\u001b[49m\u001b[43m \u001b[49m\u001b[43mGroups\u001b[49m\u001b[43m[\u001b[49m\u001b[43minitial\u001b[49m\u001b[43m:\u001b[49m\u001b[43mfinal\u001b[49m\u001b[43m]\u001b[49m\u001b[43m,\u001b[49m\u001b[43m \u001b[49m\u001b[43mMeasurements\u001b[49m\u001b[43m[\u001b[49m\u001b[43minitial\u001b[49m\u001b[43m:\u001b[49m\u001b[43mfinal\u001b[49m\u001b[43m]\u001b[49m\u001b[43m,\u001b[49m\u001b[43m \u001b[49m\u001b[43mshift\u001b[49m\u001b[38;5;241;43m=\u001b[39;49m\u001b[38;5;28;43;01mTrue\u001b[39;49;00m\u001b[43m,\u001b[49m\u001b[43m \u001b[49m\u001b[43mprint_progress\u001b[49m\u001b[38;5;241;43m=\u001b[39;49m\u001b[38;5;28;43;01mTrue\u001b[39;49;00m\u001b[43m)\u001b[49m\n\u001b[0;32m     11\u001b[0m diagonals \u001b[38;5;241m=\u001b[39m [x[\u001b[38;5;241m0\u001b[39m] \u001b[38;5;28;01mfor\u001b[39;00m x \u001b[38;5;129;01min\u001b[39;00m temp]\n\u001b[0;32m     12\u001b[0m factors \u001b[38;5;241m=\u001b[39m [x[\u001b[38;5;241m1\u001b[39m] \u001b[38;5;28;01mfor\u001b[39;00m x \u001b[38;5;129;01min\u001b[39;00m temp]\n",
      "File \u001b[1;32mD:\\OneDrive - UAM\\Projects\\HEEM\\Hardware-efficient-variational-quantum-eigensolver-with-entangled-measurements\\Codes\\examples\\..\\HEEM_VQE_Functions.py:497\u001b[0m, in \u001b[0;36mprobability2expected_parallel\u001b[1;34m(n_jobs, Pauli_weights, Pauli_labels, Groups, Measurements, shift, print_progress, binary)\u001b[0m\n\u001b[0;32m    495\u001b[0m \u001b[38;5;28;01mif\u001b[39;00m print_progress:\n\u001b[0;32m    496\u001b[0m     \u001b[38;5;28;01mwith\u001b[39;00m tqdm_joblib(tqdm(total\u001b[38;5;241m=\u001b[39mn_jobs, desc\u001b[38;5;241m=\u001b[39m\u001b[38;5;124m'\u001b[39m\u001b[38;5;124mComputing diagonal factors\u001b[39m\u001b[38;5;124m'\u001b[39m)) \u001b[38;5;28;01mas\u001b[39;00m _:\n\u001b[1;32m--> 497\u001b[0m         results \u001b[38;5;241m=\u001b[39m \u001b[43mParallel\u001b[49m\u001b[43m(\u001b[49m\u001b[43mn_jobs\u001b[49m\u001b[38;5;241;43m=\u001b[39;49m\u001b[43mn_jobs\u001b[49m\u001b[43m)\u001b[49m\u001b[43m(\u001b[49m\n\u001b[0;32m    498\u001b[0m \u001b[43m            \u001b[49m\u001b[43mdelayed\u001b[49m\u001b[43m(\u001b[49m\u001b[43mp2e_fun\u001b[49m\u001b[43m)\u001b[49m\u001b[43m(\u001b[49m\u001b[43mPauli_weights\u001b[49m\u001b[43m,\u001b[49m\u001b[43m \u001b[49m\u001b[43mPauli_labels\u001b[49m\u001b[43m,\u001b[49m\u001b[43m \u001b[49m\u001b[43mGroups_batchs\u001b[49m\u001b[43m[\u001b[49m\u001b[43mj\u001b[49m\u001b[43m]\u001b[49m\u001b[43m,\u001b[49m\u001b[43m \u001b[49m\u001b[43mMeasurements_batchs\u001b[49m\u001b[43m[\u001b[49m\u001b[43mj\u001b[49m\u001b[43m]\u001b[49m\u001b[43m,\u001b[49m\u001b[43m \u001b[49m\u001b[43mshift\u001b[49m\u001b[38;5;241;43m=\u001b[39;49m\u001b[43mshift\u001b[49m\u001b[43m)\u001b[49m\u001b[43m \u001b[49m\u001b[38;5;28;43;01mfor\u001b[39;49;00m\n\u001b[0;32m    499\u001b[0m \u001b[43m            \u001b[49m\u001b[43mj\u001b[49m\u001b[43m \u001b[49m\u001b[38;5;129;43;01min\u001b[39;49;00m\u001b[43m \u001b[49m\u001b[38;5;28;43mrange\u001b[39;49m\u001b[43m(\u001b[49m\u001b[43mn_jobs\u001b[49m\u001b[43m)\u001b[49m\u001b[43m)\u001b[49m\n\u001b[0;32m    500\u001b[0m \u001b[38;5;28;01melse\u001b[39;00m:\n\u001b[0;32m    501\u001b[0m     results \u001b[38;5;241m=\u001b[39m Parallel(n_jobs\u001b[38;5;241m=\u001b[39mn_jobs)(\n\u001b[0;32m    502\u001b[0m         delayed(p2e_fun)(Pauli_weights, Pauli_labels, Groups_batchs[j], Measurements_batchs[j], shift\u001b[38;5;241m=\u001b[39mshift) \u001b[38;5;28;01mfor\u001b[39;00m j\n\u001b[0;32m    503\u001b[0m         \u001b[38;5;129;01min\u001b[39;00m \u001b[38;5;28mrange\u001b[39m(n_jobs))\n",
      "File \u001b[1;32m~\\anaconda3\\envs\\heem\\lib\\site-packages\\joblib\\parallel.py:1056\u001b[0m, in \u001b[0;36mParallel.__call__\u001b[1;34m(self, iterable)\u001b[0m\n\u001b[0;32m   1053\u001b[0m     \u001b[38;5;28mself\u001b[39m\u001b[38;5;241m.\u001b[39m_iterating \u001b[38;5;241m=\u001b[39m \u001b[38;5;28;01mFalse\u001b[39;00m\n\u001b[0;32m   1055\u001b[0m \u001b[38;5;28;01mwith\u001b[39;00m \u001b[38;5;28mself\u001b[39m\u001b[38;5;241m.\u001b[39m_backend\u001b[38;5;241m.\u001b[39mretrieval_context():\n\u001b[1;32m-> 1056\u001b[0m     \u001b[38;5;28;43mself\u001b[39;49m\u001b[38;5;241;43m.\u001b[39;49m\u001b[43mretrieve\u001b[49m\u001b[43m(\u001b[49m\u001b[43m)\u001b[49m\n\u001b[0;32m   1057\u001b[0m \u001b[38;5;66;03m# Make sure that we get a last message telling us we are done\u001b[39;00m\n\u001b[0;32m   1058\u001b[0m elapsed_time \u001b[38;5;241m=\u001b[39m time\u001b[38;5;241m.\u001b[39mtime() \u001b[38;5;241m-\u001b[39m \u001b[38;5;28mself\u001b[39m\u001b[38;5;241m.\u001b[39m_start_time\n",
      "File \u001b[1;32m~\\anaconda3\\envs\\heem\\lib\\site-packages\\joblib\\parallel.py:935\u001b[0m, in \u001b[0;36mParallel.retrieve\u001b[1;34m(self)\u001b[0m\n\u001b[0;32m    933\u001b[0m \u001b[38;5;28;01mtry\u001b[39;00m:\n\u001b[0;32m    934\u001b[0m     \u001b[38;5;28;01mif\u001b[39;00m \u001b[38;5;28mgetattr\u001b[39m(\u001b[38;5;28mself\u001b[39m\u001b[38;5;241m.\u001b[39m_backend, \u001b[38;5;124m'\u001b[39m\u001b[38;5;124msupports_timeout\u001b[39m\u001b[38;5;124m'\u001b[39m, \u001b[38;5;28;01mFalse\u001b[39;00m):\n\u001b[1;32m--> 935\u001b[0m         \u001b[38;5;28mself\u001b[39m\u001b[38;5;241m.\u001b[39m_output\u001b[38;5;241m.\u001b[39mextend(\u001b[43mjob\u001b[49m\u001b[38;5;241;43m.\u001b[39;49m\u001b[43mget\u001b[49m\u001b[43m(\u001b[49m\u001b[43mtimeout\u001b[49m\u001b[38;5;241;43m=\u001b[39;49m\u001b[38;5;28;43mself\u001b[39;49m\u001b[38;5;241;43m.\u001b[39;49m\u001b[43mtimeout\u001b[49m\u001b[43m)\u001b[49m)\n\u001b[0;32m    936\u001b[0m     \u001b[38;5;28;01melse\u001b[39;00m:\n\u001b[0;32m    937\u001b[0m         \u001b[38;5;28mself\u001b[39m\u001b[38;5;241m.\u001b[39m_output\u001b[38;5;241m.\u001b[39mextend(job\u001b[38;5;241m.\u001b[39mget())\n",
      "File \u001b[1;32m~\\anaconda3\\envs\\heem\\lib\\site-packages\\joblib\\_parallel_backends.py:542\u001b[0m, in \u001b[0;36mLokyBackend.wrap_future_result\u001b[1;34m(future, timeout)\u001b[0m\n\u001b[0;32m    539\u001b[0m \u001b[38;5;124;03m\"\"\"Wrapper for Future.result to implement the same behaviour as\u001b[39;00m\n\u001b[0;32m    540\u001b[0m \u001b[38;5;124;03mAsyncResults.get from multiprocessing.\"\"\"\u001b[39;00m\n\u001b[0;32m    541\u001b[0m \u001b[38;5;28;01mtry\u001b[39;00m:\n\u001b[1;32m--> 542\u001b[0m     \u001b[38;5;28;01mreturn\u001b[39;00m \u001b[43mfuture\u001b[49m\u001b[38;5;241;43m.\u001b[39;49m\u001b[43mresult\u001b[49m\u001b[43m(\u001b[49m\u001b[43mtimeout\u001b[49m\u001b[38;5;241;43m=\u001b[39;49m\u001b[43mtimeout\u001b[49m\u001b[43m)\u001b[49m\n\u001b[0;32m    543\u001b[0m \u001b[38;5;28;01mexcept\u001b[39;00m CfTimeoutError \u001b[38;5;28;01mas\u001b[39;00m e:\n\u001b[0;32m    544\u001b[0m     \u001b[38;5;28;01mraise\u001b[39;00m \u001b[38;5;167;01mTimeoutError\u001b[39;00m \u001b[38;5;28;01mfrom\u001b[39;00m \u001b[38;5;21;01me\u001b[39;00m\n",
      "File \u001b[1;32m~\\anaconda3\\envs\\heem\\lib\\concurrent\\futures\\_base.py:441\u001b[0m, in \u001b[0;36mFuture.result\u001b[1;34m(self, timeout)\u001b[0m\n\u001b[0;32m    438\u001b[0m \u001b[38;5;28;01melif\u001b[39;00m \u001b[38;5;28mself\u001b[39m\u001b[38;5;241m.\u001b[39m_state \u001b[38;5;241m==\u001b[39m FINISHED:\n\u001b[0;32m    439\u001b[0m     \u001b[38;5;28;01mreturn\u001b[39;00m \u001b[38;5;28mself\u001b[39m\u001b[38;5;241m.\u001b[39m__get_result()\n\u001b[1;32m--> 441\u001b[0m \u001b[38;5;28;43mself\u001b[39;49m\u001b[38;5;241;43m.\u001b[39;49m\u001b[43m_condition\u001b[49m\u001b[38;5;241;43m.\u001b[39;49m\u001b[43mwait\u001b[49m\u001b[43m(\u001b[49m\u001b[43mtimeout\u001b[49m\u001b[43m)\u001b[49m\n\u001b[0;32m    443\u001b[0m \u001b[38;5;28;01mif\u001b[39;00m \u001b[38;5;28mself\u001b[39m\u001b[38;5;241m.\u001b[39m_state \u001b[38;5;129;01min\u001b[39;00m [CANCELLED, CANCELLED_AND_NOTIFIED]:\n\u001b[0;32m    444\u001b[0m     \u001b[38;5;28;01mraise\u001b[39;00m CancelledError()\n",
      "File \u001b[1;32m~\\anaconda3\\envs\\heem\\lib\\threading.py:312\u001b[0m, in \u001b[0;36mCondition.wait\u001b[1;34m(self, timeout)\u001b[0m\n\u001b[0;32m    310\u001b[0m \u001b[38;5;28;01mtry\u001b[39;00m:    \u001b[38;5;66;03m# restore state no matter what (e.g., KeyboardInterrupt)\u001b[39;00m\n\u001b[0;32m    311\u001b[0m     \u001b[38;5;28;01mif\u001b[39;00m timeout \u001b[38;5;129;01mis\u001b[39;00m \u001b[38;5;28;01mNone\u001b[39;00m:\n\u001b[1;32m--> 312\u001b[0m         \u001b[43mwaiter\u001b[49m\u001b[38;5;241;43m.\u001b[39;49m\u001b[43macquire\u001b[49m\u001b[43m(\u001b[49m\u001b[43m)\u001b[49m\n\u001b[0;32m    313\u001b[0m         gotit \u001b[38;5;241m=\u001b[39m \u001b[38;5;28;01mTrue\u001b[39;00m\n\u001b[0;32m    314\u001b[0m     \u001b[38;5;28;01melse\u001b[39;00m:\n",
      "\u001b[1;31mKeyboardInterrupt\u001b[0m: "
     ]
    }
   ],
   "source": [
    "energy_exact = 0\n",
    "\n",
    "pbar = tqdm(total=len(jobs_ids), desc='Computing exact energy')\n",
    "for i in range(len(jobs_ids)):\n",
    "    prob = load_data_IBMQ(jobs_ids[i], verbose=True)\n",
    "    \n",
    "    initial = i * n_max\n",
    "    final = min(initial + n_max, len(circuits_exact))\n",
    "    \n",
    "    temp = probability2expected_parallel(-1, coeffs, labels, Groups[initial:final], Measurements[initial:final], shift=True, print_progress=True)\n",
    "    diagonals = [x[0] for x in temp]\n",
    "    factors = [x[1] for x in temp]\n",
    "    \n",
    "    diagonals = [(~diagonal * 2 - 1).astype('int8') for diagonal in diagonals]\n",
    "    \n",
    "    for j in range(len(diagonals)):\n",
    "        energy_exact += np.sum((diagonals[j] * np.array(factors[j])[:, None]) @ prob[j])\n",
    "        \n",
    "    pbar.update()\n",
    "pbar.close()\n",
    "print('Exact energy: {}'.format(energy_exact))"
   ]
  },
  {
   "cell_type": "markdown",
   "id": "cf5ca092-ba69-45dd-83f2-2639a360cfd6",
   "metadata": {},
   "source": [
    "# TPB"
   ]
  },
  {
   "cell_type": "code",
   "execution_count": 80,
   "id": "b805ff85-c9fc-43a1-88e3-7a66f8d52381",
   "metadata": {
    "execution": {
     "iopub.execute_input": "2022-05-24T04:14:09.769869Z",
     "iopub.status.busy": "2022-05-24T04:14:09.769618Z",
     "iopub.status.idle": "2022-05-24T04:14:10.148178Z",
     "shell.execute_reply": "2022-05-24T04:14:10.147456Z",
     "shell.execute_reply.started": "2022-05-24T04:14:09.769856Z"
    },
    "pycharm": {
     "name": "#%%\n"
    },
    "tags": []
   },
   "outputs": [
    {
     "name": "stdout",
     "output_type": "stream",
     "text": [
      "Data loaded\n",
      "Number of groups 2069\n"
     ]
    }
   ],
   "source": [
    "temp = load_grouping_data(molecule_name, 'TPB')\n",
    "# temp = None\n",
    "\n",
    "if temp is not None:\n",
    "    Groups, Measurements = temp\n",
    "else:\n",
    "    _, Groups, Measurements = TPBgrouping(paulis, print_progress=True)\n",
    "\n",
    "print('Number of groups', len(Groups))"
   ]
  },
  {
   "cell_type": "code",
   "execution_count": null,
   "id": "424d60cf-5791-400f-bc87-558d7d780f90",
   "metadata": {
    "execution": {
     "iopub.execute_input": "2022-05-24T07:29:36.946675Z",
     "iopub.status.busy": "2022-05-24T07:29:36.946094Z"
    },
    "pycharm": {
     "name": "#%%\n"
    },
    "tags": []
   },
   "outputs": [
    {
     "data": {
      "application/vnd.jupyter.widget-view+json": {
       "model_id": "36bd078a6f1c4bce821280c96f5b57cf",
       "version_major": 2,
       "version_minor": 0
      },
      "text/plain": [
       "Jobs completed:   0%|          | 0/21 [00:00<?, ?it/s]"
      ]
     },
     "metadata": {},
     "output_type": "display_data"
    }
   ],
   "source": [
    "method = 'TPB'\n",
    "jobs_TPB, energy_TPB = compute_energy(Groups, Measurements, method, n_chunks=100)\n",
    "relative_TPB = np.abs((energy_TPB - energy_exact) / energy_exact)\n",
    "\n",
    "print('TPB energy: {}'.format(energy_TPB))\n",
    "print('Relative error: {:.3f} %'.format(relative_TPB * 100))\n",
    "\n",
    "time = sum((job.time_per_step()['COMPLETED'] - job.time_per_step()['RUNNING']).total_seconds() for job in jobs_TPB)\n",
    "print(f'Simulation time {time} s')\n",
    "\n",
    "with open('progress_' + method + '.txt', 'w') as f:\n",
    "    f.write('Done: {}\\n'.format(energy_TPB))"
   ]
  },
  {
   "cell_type": "markdown",
   "id": "decf7b5c-d934-4118-92b1-b6ce9cd72466",
   "metadata": {
    "pycharm": {
     "name": "#%% md\n"
    },
    "tags": []
   },
   "source": [
    "# EM"
   ]
  },
  {
   "cell_type": "code",
   "execution_count": null,
   "id": "9c2029bb-6c83-44a1-bd4e-974daf145bf8",
   "metadata": {
    "pycharm": {
     "name": "#%%\n"
    },
    "tags": []
   },
   "outputs": [],
   "source": [
    "temp = load_grouping_data(molecule_name, 'EM')\n",
    "# temp = None\n",
    "\n",
    "if temp is not None:\n",
    "    Groups, Measurements, layout = temp\n",
    "else:\n",
    "    Groups, Measurements, layout = groupingWithOrder(paulis, connected=True, print_progress=True)\n",
    "\n",
    "print('Number of groups', len(Groups))"
   ]
  },
  {
   "cell_type": "code",
   "execution_count": null,
   "id": "c02c9924-6614-4f60-a189-67d8ec8ae84a",
   "metadata": {
    "pycharm": {
     "name": "#%%\n"
    },
    "tags": []
   },
   "outputs": [],
   "source": [
    "method = 'EM'\n",
    "\n",
    "jobs_EM, energy_EM = compute_energy(Groups, Measurements, method, layout=layout, n_chunks=25)\n",
    "relative_EM= np.abs((energy_EM - energy_exact) / energy_exact)\n",
    "\n",
    "print('EM energy: {}'.format(energy_EM))\n",
    "print('Relative error: {:.3f} %'.format(relative_EM * 100))\n",
    "\n",
    "time = sum((job.time_per_step()['COMPLETED'] - job.time_per_step()['RUNNING']).total_seconds() for job in jobs_EM)\n",
    "print(f'Simulation time {time} s')\n",
    "\n",
    "with open('progress_' + method + '.txt', 'w') as f:\n",
    "    f.write('Done: {}\\n'.format(energy_EM))"
   ]
  },
  {
   "cell_type": "markdown",
   "id": "074933a7-641e-44fa-b2d4-91d8e15cf898",
   "metadata": {
    "pycharm": {
     "name": "#%% md\n"
    },
    "tags": []
   },
   "source": [
    "# HEEM"
   ]
  },
  {
   "cell_type": "code",
   "execution_count": null,
   "id": "87dce716-6a03-447a-b590-9eb8aa154f31",
   "metadata": {
    "pycharm": {
     "name": "#%%\n"
    },
    "tags": []
   },
   "outputs": [],
   "source": [
    "temp = load_grouping_data(molecule_name, 'HEEM')\n",
    "# temp = None\n",
    "\n",
    "if temp is not None:\n",
    "    Groups, Measurements, layout = temp\n",
    "else:\n",
    "    Groups, Measurements, layout = groupingWithOrder(paulis, G_device, connected=True, print_progress=True)\n",
    "\n",
    "print('Number of groups', len(Groups))"
   ]
  },
  {
   "cell_type": "code",
   "execution_count": null,
   "id": "11050b1e-1fb1-4539-873e-ed27ca650a35",
   "metadata": {
    "pycharm": {
     "name": "#%%\n"
    },
    "tags": []
   },
   "outputs": [],
   "source": [
    "method = 'HEEM'\n",
    "\n",
    "jobs_HEEM, energy_HEEM = compute_energy(Groups, Measurements, method, n_chunks=50, layout=layout)\n",
    "relative_HEEM = np.abs((energy_HEEM - energy_exact) / energy_exact)\n",
    "\n",
    "print('HEEM energy: {}'.format(energy_HEEM))\n",
    "print('Relative error: {:.3f} %'.format(relative_HEEM * 100))\n",
    "\n",
    "time = sum((job.time_per_step()['COMPLETED'] - job.time_per_step()['RUNNING']).total_seconds() for job in jobs_HEEM)\n",
    "print(f'Simulation time {time} s')\n",
    "\n",
    "with open('progress_' + method + '.txt', 'w') as f:\n",
    "    f.write('Done: {}\\n'.format(energy_HEEM))"
   ]
  }
 ],
 "metadata": {
  "kernelspec": {
   "display_name": "Python 3 (ipykernel)",
   "language": "python",
   "name": "python3"
  },
  "language_info": {
   "codemirror_mode": {
    "name": "ipython",
    "version": 3
   },
   "file_extension": ".py",
   "mimetype": "text/x-python",
   "name": "python",
   "nbconvert_exporter": "python",
   "pygments_lexer": "ipython3",
   "version": "3.9.12"
  }
 },
 "nbformat": 4,
 "nbformat_minor": 5
}
