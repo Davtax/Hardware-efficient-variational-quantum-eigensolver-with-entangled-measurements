{
 "cells": [
  {
   "cell_type": "code",
   "execution_count": 1,
   "id": "45c586e5-af22-40e0-a44e-fd16db787831",
   "metadata": {
    "execution": {
     "iopub.execute_input": "2022-05-13T10:36:26.448692Z",
     "iopub.status.busy": "2022-05-13T10:36:26.448558Z",
     "iopub.status.idle": "2022-05-13T10:36:30.899950Z",
     "shell.execute_reply": "2022-05-13T10:36:30.899512Z",
     "shell.execute_reply.started": "2022-05-13T10:36:26.448653Z"
    },
    "pycharm": {
     "name": "#%%\n"
    },
    "tags": []
   },
   "outputs": [],
   "source": [
    "import sys\n",
    "import warnings\n",
    "sys.path.append('../')\n",
    "warnings.filterwarnings('ignore')\n",
    "\n",
    "%load_ext autoreload\n",
    "%autoreload 1\n",
    "%aimport utils, GroupingAlgorithm, HEEM_VQE_Functions"
   ]
  },
  {
   "cell_type": "code",
   "execution_count": 129,
   "id": "9236dd35-e3fa-436f-a731-3f2b642d212f",
   "metadata": {
    "execution": {
     "iopub.execute_input": "2022-05-13T13:26:02.998644Z",
     "iopub.status.busy": "2022-05-13T13:26:02.998125Z",
     "iopub.status.idle": "2022-05-13T13:26:03.006126Z",
     "shell.execute_reply": "2022-05-13T13:26:03.005673Z",
     "shell.execute_reply.started": "2022-05-13T13:26:02.998577Z"
    },
    "pycharm": {
     "name": "#%%\n"
    },
    "tags": []
   },
   "outputs": [],
   "source": [
    "import numpy as np\n",
    "import matplotlib.pyplot as plt\n",
    "import networkx as nx\n",
    "from tqdm.auto import tqdm\n",
    "\n",
    "from qiskit import IBMQ, Aer, QuantumCircuit, QuantumRegister, ClassicalRegister, transpile\n",
    "from qiskit.providers.aer import QasmSimulator\n",
    "from qiskit.providers.aer.noise import NoiseModel\n",
    "from qiskit.utils.quantum_instance import QuantumInstance\n",
    "from qiskit.ignis.verification import get_ghz_simple\n",
    "from qiskit.compiler import transpile\n",
    "from qiskit.tools.monitor import job_monitor\n",
    "from qiskit.opflow.state_fns import CircuitStateFn\n",
    "from qiskit.providers.aer.extensions.snapshot_statevector import *\n",
    "\n",
    "from utils import get_backend_connectivity, molecules, Label2Chain, from_string_to_numbers, load_grouping_data\n",
    "from GroupingAlgorithm import groupingWithOrder, TPBgrouping\n",
    "from HEEM_VQE_Functions import measure_circuit_factor, probability2expected_binary, post_process_results"
   ]
  },
  {
   "cell_type": "code",
   "execution_count": 3,
   "id": "5808cddc-1d63-427a-8682-c80730217c79",
   "metadata": {
    "execution": {
     "iopub.execute_input": "2022-05-13T10:36:31.110554Z",
     "iopub.status.busy": "2022-05-13T10:36:31.110275Z",
     "iopub.status.idle": "2022-05-13T10:36:31.130439Z",
     "shell.execute_reply": "2022-05-13T10:36:31.129092Z",
     "shell.execute_reply.started": "2022-05-13T10:36:31.110518Z"
    },
    "pycharm": {
     "name": "#%%\n"
    },
    "tags": []
   },
   "outputs": [],
   "source": [
    "def compute_energy(Groups, Measurements, method, n_chunks=10, layout=None):\n",
    "    \n",
    "    circuits = [measure_circuit_factor(measurement, n_qubits, measure_all=False).compose(state_0, front=True) for measurement\n",
    "                 in Measurements]\n",
    "    \n",
    "    qi = QuantumInstance(backend=backed_calculations, coupling_map=coupling_map, noise_model=noise_model,\n",
    "                          basis_gates=basis_gates, shots=NUM_SHOTS // len(Groups))\n",
    "    \n",
    "    if layout is not None:\n",
    "        qi.set_config(initial_layout=layout[::-1])\n",
    "        \n",
    "    qi._RUN_CONFIG += [\"job_name\", \"job_tags\"]\n",
    "    qi.set_config(job_name=f'{molecule_name} / {method}')\n",
    "\n",
    "    counts = []\n",
    "\n",
    "    counter = 0\n",
    "    n_runs = int(np.ceil(len(circuits) / n_chunks))\n",
    "    \n",
    "    with open('progress_' + method + '.txt', 'w') as f:\n",
    "            f.write('{}/{}\\n'.format(0, len(circuits)))\n",
    "    \n",
    "    pbar = tqdm(total=len(circuits), desc='Simulating circuits for {}'.format(method))\n",
    "    while len(counts) < len(circuits):\n",
    "        initial = counter * n_chunks\n",
    "        final = min((counter + 1) * n_chunks, len(circuits))\n",
    "         \n",
    "        # Some time IBMQ is returning some random error [5204], so if this happens\n",
    "        while True:\n",
    "            try:\n",
    "                qi.set_config(job_tags=[f'{counter + 1}/{n_runs}'])\n",
    "                counts_temp = qi.execute(circuits[initial:final]).get_counts()\n",
    "                break\n",
    "            except (KeyboardInterrupt, SystemExit):\n",
    "                return None\n",
    "            except Exception as e:\n",
    "                print(e)\n",
    "                print('Trying again ...')\n",
    "                pass\n",
    "\n",
    "        counts += counts_temp\n",
    "        counter += 1\n",
    "        \n",
    "        with open('progress_' + method + '.txt', 'w') as f:\n",
    "            f.write('{}/{}\\n'.format(final, len(circuits)))            \n",
    "        pbar.update(final - initial)\n",
    "    pbar.close()\n",
    "    \n",
    "    if len(circuits) == 1:\n",
    "        counts = [counts]\n",
    "        \n",
    "    probabilities = [post_process_results(counts[j], circuits[j].num_clbits, qi.run_config.shots) for j in\n",
    "                     range(len(counts))]\n",
    "    energy = 0\n",
    "    \n",
    "    for j in range(len(probabilities)):\n",
    "        diagonals, factors = probability2expected_binary(coeffs, labels, [Groups[j]], [Measurements[j]], shift=False)\n",
    "        diagonals = [~diagonal * 2 - 1 for diagonal in diagonals[0]]\n",
    "\n",
    "        energy += np.sum((diagonals * np.array(factors[0])[:, None]) @ probabilities[j])\n",
    "        # energy += np.sum(prob2Exp[j] @ probabilities[j])\n",
    "\n",
    "    return qi, energy"
   ]
  },
  {
   "cell_type": "code",
   "execution_count": 4,
   "id": "d4dc7ac2-ba99-4a52-99b7-58a9e85f3bc6",
   "metadata": {
    "execution": {
     "iopub.execute_input": "2022-05-13T10:36:31.138835Z",
     "iopub.status.busy": "2022-05-13T10:36:31.138567Z",
     "iopub.status.idle": "2022-05-13T10:36:39.708600Z",
     "shell.execute_reply": "2022-05-13T10:36:39.708116Z",
     "shell.execute_reply.started": "2022-05-13T10:36:31.138799Z"
    },
    "pycharm": {
     "name": "#%%\n"
    },
    "tags": []
   },
   "outputs": [],
   "source": [
    "with warnings.catch_warnings():\n",
    "    warnings.simplefilter(\"ignore\")\n",
    "    IBMQ.load_account()\n",
    "\n",
    "provider_main = IBMQ.get_provider(hub='ibm-q', group='open', project='main')\n",
    "provider_CSIC = IBMQ.get_provider(hub='ibm-q-csic', group='internal', project='iff-csic')\n",
    "\n",
    "name_backend = 'ibmq_montreal'\n",
    "backend = provider_CSIC.get_backend(name_backend)\n",
    "WC_device = get_backend_connectivity(backend)\n",
    "\n",
    "G_device = nx.Graph()\n",
    "G_device.add_edges_from(WC_device)"
   ]
  },
  {
   "cell_type": "code",
   "execution_count": 5,
   "id": "805bf7a5-238f-448d-a890-01229945a78b",
   "metadata": {
    "execution": {
     "iopub.execute_input": "2022-05-13T10:36:39.709223Z",
     "iopub.status.busy": "2022-05-13T10:36:39.709114Z",
     "iopub.status.idle": "2022-05-13T10:36:42.170759Z",
     "shell.execute_reply": "2022-05-13T10:36:42.170283Z",
     "shell.execute_reply.started": "2022-05-13T10:36:39.709208Z"
    },
    "pycharm": {
     "name": "#%%\n"
    },
    "tags": []
   },
   "outputs": [],
   "source": [
    "NUM_SHOTS = 2 ** 14\n",
    "\n",
    "backend_hpc = provider_main.get_backend('ibmq_qasm_simulator')\n",
    "backed_simulation = provider_main.get_backend('simulator_statevector')\n",
    "simulator = Aer.get_backend('aer_simulator')  # Backend for simulation\n",
    "\n",
    "device = QasmSimulator.from_backend(backend)\n",
    "coupling_map = device.configuration().coupling_map\n",
    "noise_model = NoiseModel.from_backend(device)\n",
    "basis_gates = noise_model.basis_gates\n",
    "\n",
    "backed_calculations = simulator"
   ]
  },
  {
   "cell_type": "code",
   "execution_count": 168,
   "id": "7c47c5b7-0457-4014-9690-4127b693272c",
   "metadata": {
    "execution": {
     "iopub.execute_input": "2022-05-13T14:21:45.040479Z",
     "iopub.status.busy": "2022-05-13T14:21:45.039918Z",
     "iopub.status.idle": "2022-05-13T14:21:45.415477Z",
     "shell.execute_reply": "2022-05-13T14:21:45.415084Z",
     "shell.execute_reply.started": "2022-05-13T14:21:45.040409Z"
    },
    "pycharm": {
     "name": "#%%\n"
    },
    "tags": []
   },
   "outputs": [
    {
     "name": "stdout",
     "output_type": "stream",
     "text": [
      "Data loaded\n",
      "9257 total Pauli strings\n"
     ]
    }
   ],
   "source": [
    "molecule_name = 'CH3OH'\n",
    "\n",
    "try:\n",
    "    qubit_op = np.load('../data/big_molecules.npy', allow_pickle=True).item()[molecule_name]\n",
    "    print('Data loaded')\n",
    "except KeyError:\n",
    "    print('Computing molecule')\n",
    "    qubit_op = molecules(molecule_name)\n",
    "        \n",
    "paulis, coeffs, labels = Label2Chain(qubit_op)\n",
    "\n",
    "n_qubits = qubit_op.num_qubits\n",
    "state_0 = QuantumCircuit(n_qubits)\n",
    "# state_0 = state_0.compose(get_ghz_simple(n_qubits, measure=False))  # Initialized in the GHZ state\n",
    "\n",
    "print(f'{len(paulis)} total Pauli strings')"
   ]
  },
  {
   "cell_type": "markdown",
   "id": "3d0e3ede-c1b0-4296-b201-c765f6695597",
   "metadata": {
    "pycharm": {
     "name": "#%% md\n"
    },
    "tags": []
   },
   "source": [
    "# Exact"
   ]
  },
  {
   "cell_type": "raw",
   "id": "f17ddce3-6909-4a99-a304-1e39f1e3cdbe",
   "metadata": {
    "execution": {
     "iopub.execute_input": "2022-05-13T09:57:09.091914Z",
     "iopub.status.busy": "2022-05-13T09:57:09.091378Z",
     "iopub.status.idle": "2022-05-13T09:59:16.089222Z",
     "shell.execute_reply": "2022-05-13T09:59:16.088807Z",
     "shell.execute_reply.started": "2022-05-13T09:57:09.091847Z"
    },
    "pycharm": {
     "name": "#%%\n"
    },
    "tags": []
   },
   "source": [
    "psi = CircuitStateFn(state_0)\n",
    "energy_exact = psi.adjoint().compose(qubit_op).compose(psi).eval().real\n",
    "    \n",
    "print('Exact energy: {}'.format(energy_exact))"
   ]
  },
  {
   "cell_type": "markdown",
   "id": "2b9bf0b6-09ce-47d9-90eb-dc3be03f7ab3",
   "metadata": {},
   "source": [
    "# Exact (Simulation)"
   ]
  },
  {
   "cell_type": "code",
   "execution_count": 169,
   "id": "c6f2d378-5629-43a6-924a-2edeeadda547",
   "metadata": {
    "execution": {
     "iopub.execute_input": "2022-05-13T14:21:54.379165Z",
     "iopub.status.busy": "2022-05-13T14:21:54.378640Z",
     "iopub.status.idle": "2022-05-13T14:21:55.034301Z",
     "shell.execute_reply": "2022-05-13T14:21:55.033863Z",
     "shell.execute_reply.started": "2022-05-13T14:21:54.379099Z"
    },
    "tags": []
   },
   "outputs": [
    {
     "name": "stdout",
     "output_type": "stream",
     "text": [
      "Data loaded\n",
      "Number of groups: 682\n"
     ]
    }
   ],
   "source": [
    "Groups, Measurements, _ = load_grouping_data(molecule_name, 'EM')\n",
    "print('Number of groups: {}'.format(len(Groups)))\n",
    "\n",
    "circuits_exact = []\n",
    "for j, measure in enumerate(Measurements):\n",
    "    circuit = measure_circuit_factor(measure, n_qubits, make_measurements=False)\n",
    "    circuit = circuit.compose(state_0, front=True)\n",
    "    # circuit.save_statevector()\n",
    "    circuit.snapshot_statevector('snapshot')\n",
    "    circuits_exact.append(circuit)"
   ]
  },
  {
   "cell_type": "code",
   "execution_count": null,
   "id": "dd0b422a-2862-47a8-aca0-f71cfd0de50f",
   "metadata": {
    "execution": {
     "iopub.execute_input": "2022-05-13T14:22:40.104067Z",
     "iopub.status.busy": "2022-05-13T14:22:40.102633Z"
    },
    "tags": []
   },
   "outputs": [
    {
     "data": {
      "application/vnd.jupyter.widget-view+json": {
       "model_id": "bd735356410448718cd169fc616506c8",
       "version_major": 2,
       "version_minor": 0
      },
      "text/plain": [
       "Simulating circuits:   0%|          | 0/682 [00:00<?, ?it/s]"
      ]
     },
     "metadata": {},
     "output_type": "display_data"
    }
   ],
   "source": [
    "n_max = 300\n",
    "\n",
    "if n_max == -1:\n",
    "    n_max = len(circuits_exact)\n",
    "n_runs = int(np.ceil(len(circuits_exact) / n_max))\n",
    "\n",
    "results = []\n",
    "\n",
    "pbar = tqdm(total=len(circuits_exact), desc='Simulating circuits')\n",
    "for i in range(n_runs):\n",
    "    initial = i * n_max\n",
    "    final = min(initial + n_max, len(circuits_exact))\n",
    "    \n",
    "    results += backed_simulation.run(circuits_exact[initial:final], shots=1).result().to_dict()['results']\n",
    "    pbar.update(final - initial)\n",
    "pbar.close()"
   ]
  },
  {
   "cell_type": "code",
   "execution_count": null,
   "id": "d2aec69c-447e-4b90-88ca-4e50852a1e32",
   "metadata": {
    "tags": []
   },
   "outputs": [],
   "source": [
    "pbar = tqdm(total=len(Measurements), desc='Computing energy')\n",
    "energy_exact = 0\n",
    "for j in range(len(Measurements)):\n",
    "    diagonals, factors = probability2expected_binary(coeffs, labels, [Groups[j]], [Measurements[j]], shift=True)\n",
    "    diagonals = [~diagonal * 2 - 1 for diagonal in diagonals[0]]\n",
    "    \n",
    "    prob = np.linalg.norm(np.array(results[j]['data']['snapshots']['statevector']['snapshot'][0]), axis=1) ** 2    \n",
    "    energy_exact += np.sum((diagonals * np.array(factors[0])[:, None]) @ prob)\n",
    "    pbar.update()\n",
    "pbar.close()\n",
    "    \n",
    "print('Exact energy: {}'.format(energy_exact))"
   ]
  },
  {
   "cell_type": "markdown",
   "id": "672e438c-67cc-4611-ab27-94d78b4161b1",
   "metadata": {
    "pycharm": {
     "name": "#%% md\n"
    },
    "tags": []
   },
   "source": [
    "# TPB"
   ]
  },
  {
   "cell_type": "code",
   "execution_count": null,
   "id": "b805ff85-c9fc-43a1-88e3-7a66f8d52381",
   "metadata": {
    "pycharm": {
     "name": "#%%\n"
    },
    "tags": []
   },
   "outputs": [],
   "source": [
    "_, Groups_TPB, Measurements_TPB = TPBgrouping(paulis, print_progress=True)\n",
    "\n",
    "print('Number of groups', len(Groups_TPB))"
   ]
  },
  {
   "cell_type": "code",
   "execution_count": null,
   "id": "424d60cf-5791-400f-bc87-558d7d780f90",
   "metadata": {
    "pycharm": {
     "name": "#%%\n"
    },
    "tags": []
   },
   "outputs": [],
   "source": [
    "method = 'TPB'\n",
    "qi_TPB, energy_TPB = compute_energy(Groups_TPB, Measurements_TPB, method, n_chunks=100)\n",
    "relative_TPB = np.abs((energy_TPB - energy_exact) / energy_exact)\n",
    "\n",
    "print('TPB energy: {}'.format(energy_TPB))\n",
    "print('Relative error: {:.3f} %'.format(relative_TPB * 100))\n",
    "print(f'Simulation time {qi_TPB.time_taken} s')\n",
    "\n",
    "with open('progress_' + method + '.txt', 'w') as f:\n",
    "    f.write('Done: {}\\n'.format(energy_TPB))"
   ]
  },
  {
   "cell_type": "markdown",
   "id": "decf7b5c-d934-4118-92b1-b6ce9cd72466",
   "metadata": {
    "pycharm": {
     "name": "#%% md\n"
    },
    "tags": []
   },
   "source": [
    "# EM"
   ]
  },
  {
   "cell_type": "code",
   "execution_count": null,
   "id": "9c2029bb-6c83-44a1-bd4e-974daf145bf8",
   "metadata": {
    "pycharm": {
     "name": "#%%\n"
    },
    "tags": []
   },
   "outputs": [],
   "source": [
    "Groups_EM, Measurements_EM, layout_EM = groupingWithOrder(paulis, connected=True, print_progress=True)\n",
    "\n",
    "print('Number of groups', len(Groups_EM))"
   ]
  },
  {
   "cell_type": "code",
   "execution_count": null,
   "id": "c02c9924-6614-4f60-a189-67d8ec8ae84a",
   "metadata": {
    "pycharm": {
     "name": "#%%\n"
    },
    "tags": []
   },
   "outputs": [],
   "source": [
    "method = 'EM'\n",
    "\n",
    "qi_EM, energy_EM = compute_energy(Groups_EM, Measurements_EM, method, layout=layout_EM, n_chunks=25)\n",
    "relative_EM= np.abs((energy_EM - energy_exact) / energy_exact)\n",
    "\n",
    "print('EM energy: {}'.format(energy_EM))\n",
    "print('Relative error: {:.3f} %'.format(relative_EM * 100))\n",
    "print(f'Simulation time {qi_EM.time_taken} s')\n",
    "\n",
    "with open('progress_' + method + '.txt', 'w') as f:\n",
    "    f.write('Done: {}\\n'.format(energy_EM))"
   ]
  },
  {
   "cell_type": "markdown",
   "id": "074933a7-641e-44fa-b2d4-91d8e15cf898",
   "metadata": {
    "pycharm": {
     "name": "#%% md\n"
    },
    "tags": []
   },
   "source": [
    "# HEEM"
   ]
  },
  {
   "cell_type": "code",
   "execution_count": null,
   "id": "87dce716-6a03-447a-b590-9eb8aa154f31",
   "metadata": {
    "pycharm": {
     "name": "#%%\n"
    },
    "tags": []
   },
   "outputs": [],
   "source": [
    "Groups_HEEM, Measurements_HEEM, layout_HEEM = groupingWithOrder(paulis, G_device, connected=True, print_progress=True)\n",
    "\n",
    "print('Number of groups', len(Groups_HEEM))"
   ]
  },
  {
   "cell_type": "code",
   "execution_count": null,
   "id": "11050b1e-1fb1-4539-873e-ed27ca650a35",
   "metadata": {
    "pycharm": {
     "name": "#%%\n"
    },
    "tags": []
   },
   "outputs": [],
   "source": [
    "method = 'HEEM'\n",
    "\n",
    "qi_HEEM, energy_HEEM = compute_energy(Groups_HEEM, Measurements_HEEM, method, n_chunks=100, layout=layout_HEEM)\n",
    "relative_HEEM = np.abs((energy_HEEM - energy_exact) / energy_exact)\n",
    "\n",
    "print('HEEM energy: {}'.format(energy_HEEM))\n",
    "print('Relative error: {:.3f} %'.format(relative_HEEM * 100))\n",
    "print(f'Simulation time {qi_HEEM.time_taken} s')\n",
    "\n",
    "with open('progress_' + method + '.txt', 'w') as f:\n",
    "    f.write('Done: {}\\n'.format(energy_HEEM))"
   ]
  }
 ],
 "metadata": {
  "kernelspec": {
   "display_name": "Python 3 (ipykernel)",
   "language": "python",
   "name": "python3"
  },
  "language_info": {
   "codemirror_mode": {
    "name": "ipython",
    "version": 3
   },
   "file_extension": ".py",
   "mimetype": "text/x-python",
   "name": "python",
   "nbconvert_exporter": "python",
   "pygments_lexer": "ipython3",
   "version": "3.9.7"
  }
 },
 "nbformat": 4,
 "nbformat_minor": 5
}
