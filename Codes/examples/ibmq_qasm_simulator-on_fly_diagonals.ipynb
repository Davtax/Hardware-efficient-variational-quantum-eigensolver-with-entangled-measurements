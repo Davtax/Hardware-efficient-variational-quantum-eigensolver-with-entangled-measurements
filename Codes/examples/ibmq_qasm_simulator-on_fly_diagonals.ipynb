{
 "cells": [
  {
   "cell_type": "code",
   "execution_count": 1,
   "id": "b3cc101f",
   "metadata": {
    "collapsed": false,
    "execution": {
     "iopub.execute_input": "2022-07-19T10:19:29.866930Z",
     "iopub.status.busy": "2022-07-19T10:19:29.866930Z",
     "iopub.status.idle": "2022-07-19T10:19:29.883929Z",
     "shell.execute_reply": "2022-07-19T10:19:29.883929Z",
     "shell.execute_reply.started": "2022-07-19T10:19:29.866930Z"
    },
    "jupyter": {
     "outputs_hidden": false
    },
    "pycharm": {
     "name": "#%%\n"
    },
    "tags": []
   },
   "outputs": [],
   "source": [
    "import sys\n",
    "import warnings\n",
    "sys.path.append('../')\n",
    "warnings.filterwarnings('ignore')\n",
    "\n",
    "# %matplotlib widget\n",
    "# %load_ext autoreload\n",
    "# %autoreload 1\n",
    "# %aimport utils, GroupingAlgorithm, HEEM_VQE_Functions"
   ]
  },
  {
   "cell_type": "code",
   "execution_count": 2,
   "id": "804cb642",
   "metadata": {
    "collapsed": false,
    "execution": {
     "iopub.execute_input": "2022-07-19T10:19:29.884930Z",
     "iopub.status.busy": "2022-07-19T10:19:29.884930Z",
     "iopub.status.idle": "2022-07-19T10:19:32.006828Z",
     "shell.execute_reply": "2022-07-19T10:19:32.006828Z",
     "shell.execute_reply.started": "2022-07-19T10:19:29.884930Z"
    },
    "jupyter": {
     "outputs_hidden": false
    },
    "pycharm": {
     "name": "#%%\n"
    },
    "tags": []
   },
   "outputs": [],
   "source": [
    "import numpy as np\n",
    "import matplotlib.pyplot as plt\n",
    "import networkx as nx\n",
    "from tqdm.auto import tqdm\n",
    "from os.path import isfile, exists\n",
    "from os import mkdir\n",
    "\n",
    "from qiskit import IBMQ, Aer, QuantumCircuit, QuantumRegister, ClassicalRegister, transpile, execute\n",
    "from qiskit.providers.aer import QasmSimulator\n",
    "from qiskit.providers.aer.noise import NoiseModel\n",
    "from qiskit.utils.quantum_instance import QuantumInstance\n",
    "from qiskit.ignis.verification import get_ghz_simple\n",
    "from qiskit.compiler import transpile\n",
    "from qiskit.tools.monitor import job_monitor\n",
    "from qiskit.opflow.state_fns import CircuitStateFn\n",
    "from qiskit.providers.aer.extensions.snapshot_statevector import *\n",
    "from qiskit.test.mock import FakeMontreal\n",
    "\n",
    "from utils import get_backend_connectivity, molecules, Label2Chain, from_string_to_numbers, load_grouping_data, current_time, load_data_IBMQ, send_ibmq_parallel\n",
    "from GroupingAlgorithm import groupingWithOrder, TPBgrouping\n",
    "from HEEM_VQE_Functions import measure_circuit_factor, probability2expected_binary, post_process_results, probability2expected_parallel, post_process_results_2, post_process_results_3"
   ]
  },
  {
   "cell_type": "code",
   "execution_count": 3,
   "id": "3cfd656a",
   "metadata": {
    "collapsed": false,
    "execution": {
     "iopub.execute_input": "2022-07-19T10:19:32.007830Z",
     "iopub.status.busy": "2022-07-19T10:19:32.007830Z",
     "iopub.status.idle": "2022-07-19T10:19:32.021829Z",
     "shell.execute_reply": "2022-07-19T10:19:32.021829Z",
     "shell.execute_reply.started": "2022-07-19T10:19:32.007830Z"
    },
    "jupyter": {
     "outputs_hidden": false
    },
    "pycharm": {
     "name": "#%%\n"
    },
    "tags": []
   },
   "outputs": [],
   "source": [
    "NUM_SHOTS = 2 ** 14\n",
    "# NUM_SHOTS = 2 ** 16\n",
    "\n",
    "def compute_energy_sparse(Groups, Measurements, method, n_chunks=10, layout=None, return_energy_temp=False, noisy=True, shots=NUM_SHOTS):\n",
    "    \n",
    "    circuits = [measure_circuit_factor(measurement, n_qubits, measure_all=False).compose(state_0, front=True) for measurement\n",
    "                in Measurements]\n",
    "    \n",
    "    # circuits = transpile(circuits, backend, optimization_level=2, initial_layout=layout[::-1])\n",
    "    \n",
    "    if noisy:\n",
    "        kwards_run = {'coupling_map': coupling_map, 'noise_model': noise_model, 'basis_gates': basis_gates}\n",
    "    else:\n",
    "        kwards_run = {}\n",
    "    \n",
    "    if shots == -1:\n",
    "        shots = 20000 * len(Groups)  # Max allowed shots\n",
    "    \n",
    "    kwards_run['shots'] = shots // len(Groups)\n",
    "    kwards_run['optimization_level'] = 2\n",
    "                \n",
    "    if layout is not None:\n",
    "        kwards_run['initial_layout'] = layout[::-1]\n",
    "    \n",
    "    jobs = send_ibmq_parallel(backed_calculations, n_chunks, circuits, job_tag=[molecule_name, method], verbose=False,\n",
    "                              progress_bar=True, kwards_run=kwards_run)\n",
    "\n",
    "    counts = []\n",
    "    \n",
    "    for job in jobs:\n",
    "        counts += job.result().get_counts()\n",
    "    \n",
    "    energy_temp = []\n",
    "    pbar = tqdm(range(len(counts)), desc='Computing energy')\n",
    "    for j in pbar:\n",
    "        counts_indices, counts_values = post_process_results_3(counts[j])\n",
    "\n",
    "        diagonals, factors = probability2expected_binary(coeffs, labels, [Groups[j]], [Measurements[j]], shift=False)\n",
    "        diagonals = [(~diagonal * 2 - 1).astype('int8') for diagonal in diagonals[0][:, counts_indices]]\n",
    "\n",
    "        energy_temp.append(np.sum((diagonals * np.array(factors[0])[:, None]) * counts_values[None, :]) / kwards_run['shots'])\n",
    "\n",
    "    returns = [jobs, sum(energy_temp)]\n",
    "    \n",
    "    if return_energy_temp:\n",
    "        returns.append(energy_temp)\n",
    "        \n",
    "    return returns"
   ]
  },
  {
   "cell_type": "code",
   "execution_count": 4,
   "id": "4a44ad51",
   "metadata": {
    "collapsed": false,
    "execution": {
     "iopub.execute_input": "2022-07-19T10:19:32.026828Z",
     "iopub.status.busy": "2022-07-19T10:19:32.026828Z",
     "iopub.status.idle": "2022-07-19T10:19:32.037827Z",
     "shell.execute_reply": "2022-07-19T10:19:32.037827Z",
     "shell.execute_reply.started": "2022-07-19T10:19:32.026828Z"
    },
    "jupyter": {
     "outputs_hidden": false
    },
    "pycharm": {
     "name": "#%%\n"
    },
    "tags": []
   },
   "outputs": [],
   "source": [
    "# 1: Luciano, 2: Guillermo, 3: Gabriel, 4: Fran, 5: David\n",
    "index = -1\n",
    "if index is None:\n",
    "    raise Exception('Use you index!')\n",
    "    \n",
    "    \n",
    "def check_folder_create(path):\n",
    "    if exists(path):\n",
    "        pass\n",
    "    else:\n",
    "        mkdir(path)\n",
    "\n",
    "def save_data(energy, method):\n",
    "    subdics = ['data', 'energies', initial_state, 'partial']\n",
    "    \n",
    "    folder = '../'\n",
    "    for dic in subdics:\n",
    "        folder += dic + '/'\n",
    "        check_folder_create(folder)\n",
    "    \n",
    "    file = folder + molecule_name + '_' + method +'_' + str(index) + '.npy'\n",
    "    if isfile(file):\n",
    "        data = np.load(file)\n",
    "    else:\n",
    "        data = np.array([])\n",
    "    \n",
    "    data = np.append(data, energy)\n",
    "    np.save(file, data)"
   ]
  },
  {
   "cell_type": "code",
   "execution_count": 5,
   "id": "38a9991e",
   "metadata": {
    "collapsed": false,
    "execution": {
     "iopub.execute_input": "2022-07-19T10:19:32.038828Z",
     "iopub.status.busy": "2022-07-19T10:19:32.038828Z",
     "iopub.status.idle": "2022-07-19T10:19:36.599017Z",
     "shell.execute_reply": "2022-07-19T10:19:36.599017Z",
     "shell.execute_reply.started": "2022-07-19T10:19:32.038828Z"
    },
    "jupyter": {
     "outputs_hidden": false
    },
    "pycharm": {
     "name": "#%%\n"
    },
    "tags": []
   },
   "outputs": [],
   "source": [
    "with warnings.catch_warnings():\n",
    "    warnings.simplefilter(\"ignore\")\n",
    "    IBMQ.load_account()\n",
    "\n",
    "provider_main = IBMQ.get_provider(hub='ibm-q', group='open', project='main')\n",
    "\n",
    "backend = FakeMontreal()\n",
    "WC_device = get_backend_connectivity(backend)\n",
    "\n",
    "G_device = nx.Graph()\n",
    "G_device.add_edges_from(WC_device)"
   ]
  },
  {
   "cell_type": "code",
   "execution_count": 6,
   "id": "aa4ba647",
   "metadata": {
    "collapsed": false,
    "execution": {
     "iopub.execute_input": "2022-07-19T10:19:36.601018Z",
     "iopub.status.busy": "2022-07-19T10:19:36.601018Z",
     "iopub.status.idle": "2022-07-19T10:19:37.928529Z",
     "shell.execute_reply": "2022-07-19T10:19:37.928529Z",
     "shell.execute_reply.started": "2022-07-19T10:19:36.601018Z"
    },
    "jupyter": {
     "outputs_hidden": false
    },
    "pycharm": {
     "name": "#%%\n"
    },
    "tags": []
   },
   "outputs": [],
   "source": [
    "backend_hpc = provider_main.get_backend('ibmq_qasm_simulator')\n",
    "backed_simulation = provider_main.get_backend('simulator_statevector')\n",
    "simulator = Aer.get_backend('aer_simulator')  # Backend for simulation\n",
    "\n",
    "device = QasmSimulator.from_backend(backend)\n",
    "coupling_map = device.configuration().coupling_map\n",
    "noise_model = NoiseModel.from_backend(device)\n",
    "# noise_model = None\n",
    "basis_gates = noise_model.basis_gates if noise_model is not None else None\n",
    "\n",
    "backed_calculations = backend_hpc"
   ]
  },
  {
   "cell_type": "code",
   "execution_count": 7,
   "id": "60ee5ca3",
   "metadata": {
    "collapsed": false,
    "execution": {
     "iopub.execute_input": "2022-07-19T10:19:37.929530Z",
     "iopub.status.busy": "2022-07-19T10:19:37.929530Z",
     "iopub.status.idle": "2022-07-19T10:19:37.944529Z",
     "shell.execute_reply": "2022-07-19T10:19:37.944529Z",
     "shell.execute_reply.started": "2022-07-19T10:19:37.929530Z"
    },
    "jupyter": {
     "outputs_hidden": false
    },
    "pycharm": {
     "name": "#%%\n"
    },
    "tags": []
   },
   "outputs": [],
   "source": [
    "shots_TPB = {'H2': 300, 'LiH': 300, 'BeH2': 300, 'H2O': 300, 'CH4': 300,\n",
    "             'C2H2': 300, 'CH3OH': 300, 'C2H6': 100}\n",
    "\n",
    "shots_EM = {'H2': 300, 'LiH': 300, 'BeH2': 300, 'H2O': 300, 'CH4': 300,\n",
    "            'C2H2': 100, 'CH3OH': 50, 'C2H6': 25}\n",
    "\n",
    "shots_HEEM = {'H2': 300, 'LiH': 300, 'BeH2': 300, 'H2O': 300, 'CH4': 300,\n",
    "              'C2H2': 300, 'CH3OH': 300, 'C2H6': 50}"
   ]
  },
  {
   "cell_type": "code",
   "execution_count": 31,
   "id": "07b1ee7f",
   "metadata": {
    "collapsed": false,
    "execution": {
     "iopub.execute_input": "2022-07-19T10:54:59.886188Z",
     "iopub.status.busy": "2022-07-19T10:54:59.886188Z",
     "iopub.status.idle": "2022-07-19T10:54:59.909187Z",
     "shell.execute_reply": "2022-07-19T10:54:59.909187Z",
     "shell.execute_reply.started": "2022-07-19T10:54:59.886188Z"
    },
    "jupyter": {
     "outputs_hidden": false
    },
    "pycharm": {
     "name": "#%%\n"
    },
    "tags": []
   },
   "outputs": [
    {
     "name": "stdout",
     "output_type": "stream",
     "text": [
      "Molecule loaded\n",
      "8919 total Pauli strings\n",
      "26 qubits\n"
     ]
    }
   ],
   "source": [
    "# All molecules H2, LiH, H2O, CH4, C2H2, CH3OH, C2H6\n",
    "molecule_name = 'C2H6'\n",
    "initial_state = '0xN'\n",
    "\n",
    "try:\n",
    "    qubit_op = molecules(molecule_name, load=True)\n",
    "    paulis, coeffs, labels = Label2Chain(qubit_op)\n",
    "except AttributeError:\n",
    "    paulis, coeffs, labels = np.load('../data/molecules_qubitop_list.npy', allow_pickle=True).item()[molecule_name]\n",
    "\n",
    "n_qubits = len(paulis[0])\n",
    "state_0 = QuantumCircuit(n_qubits)\n",
    "# state_0 = state_0.compose(get_ghz_simple(n_qubits, measure=False))  # Initialized in the GHZ state\n",
    "\n",
    "print(f'{len(paulis)} total Pauli strings')\n",
    "print(f'{n_qubits} qubits')"
   ]
  },
  {
   "cell_type": "markdown",
   "id": "2ddeeb05",
   "metadata": {
    "pycharm": {
     "name": "#%% md\n"
    }
   },
   "source": [
    "# Exact energy"
   ]
  },
  {
   "cell_type": "markdown",
   "id": "2ee7670e",
   "metadata": {
    "pycharm": {
     "name": "#%% md\n"
    }
   },
   "source": [
    "## $|0\\rangle^{\\otimes N}$"
   ]
  },
  {
   "cell_type": "code",
   "execution_count": 32,
   "id": "880b66e4",
   "metadata": {
    "collapsed": false,
    "execution": {
     "iopub.execute_input": "2022-07-19T10:55:00.712302Z",
     "iopub.status.busy": "2022-07-19T10:55:00.712302Z",
     "iopub.status.idle": "2022-07-19T10:55:00.724301Z",
     "shell.execute_reply": "2022-07-19T10:55:00.724301Z",
     "shell.execute_reply.started": "2022-07-19T10:55:00.712302Z"
    },
    "jupyter": {
     "outputs_hidden": false
    },
    "pycharm": {
     "name": "#%%\n"
    },
    "tags": []
   },
   "outputs": [
    {
     "name": "stdout",
     "output_type": "stream",
     "text": [
      "Exact energy: -11.419431103002747\n"
     ]
    }
   ],
   "source": [
    "if initial_state == '0xN':\n",
    "    energy_exact = 0\n",
    "\n",
    "    for i in range(len(labels)):\n",
    "        label = labels[i]\n",
    "        if 'X' not in label and 'Y' not in label:\n",
    "            energy_exact += coeffs[i]\n",
    "    print('Exact energy: {}'.format(energy_exact))"
   ]
  },
  {
   "cell_type": "markdown",
   "id": "51fb8a8c",
   "metadata": {
    "jp-MarkdownHeadingCollapsed": true,
    "pycharm": {
     "name": "#%% md\n"
    },
    "tags": []
   },
   "source": [
    "## $|\\mathrm{GHZ}\\rangle$"
   ]
  },
  {
   "cell_type": "code",
   "execution_count": null,
   "id": "e98246ee",
   "metadata": {
    "collapsed": false,
    "jupyter": {
     "outputs_hidden": false
    },
    "pycharm": {
     "name": "#%%\n"
    }
   },
   "outputs": [],
   "source": [
    "if initial_state == 'GHZ':\n",
    "    diagonals = {'I': np.array([1, 0, 0, 1]), 'X': np.array([0, 1, 1, 0]),\n",
    "                 'Y': np.array([0, 1j, -1j, 0]), 'Z': np.array([1, 0, 0, -1])}\n",
    "\n",
    "    energy_exact = 0\n",
    "    for label, coeff in zip(labels, coeffs):\n",
    "        diagonal = np.ones(4, dtype=complex)\n",
    "        for op in label:\n",
    "            diagonal *= diagonals[op]\n",
    "        energy_exact += coeff * np.sum(diagonal) / 2\n",
    "\n",
    "    print('Exact energy: {}'.format(energy_exact.real))"
   ]
  },
  {
   "cell_type": "markdown",
   "id": "607b0e67",
   "metadata": {
    "jp-MarkdownHeadingCollapsed": true,
    "pycharm": {
     "name": "#%% md\n"
    },
    "tags": []
   },
   "source": [
    "## Exact (Numerical)"
   ]
  },
  {
   "cell_type": "code",
   "execution_count": null,
   "id": "44a67d2d",
   "metadata": {
    "collapsed": false,
    "jupyter": {
     "outputs_hidden": false
    },
    "pycharm": {
     "name": "#%%\n"
    }
   },
   "outputs": [],
   "source": [
    "psi = CircuitStateFn(state_0)\n",
    "energy_exact = psi.adjoint().compose(qubit_op).compose(psi).eval().real\n",
    "    \n",
    "print('Exact energy: {}'.format(energy_exact))"
   ]
  },
  {
   "cell_type": "markdown",
   "id": "7630e503",
   "metadata": {
    "jp-MarkdownHeadingCollapsed": true,
    "pycharm": {
     "name": "#%% md\n"
    },
    "tags": []
   },
   "source": [
    "## Exact (Simulation)"
   ]
  },
  {
   "cell_type": "code",
   "execution_count": null,
   "id": "d7fdbea9",
   "metadata": {
    "collapsed": false,
    "jupyter": {
     "outputs_hidden": false
    },
    "pycharm": {
     "name": "#%%\n"
    }
   },
   "outputs": [],
   "source": [
    "Groups, Measurements, _ = load_grouping_data(molecule_name, 'EM')\n",
    "# Groups, Measurements, _ = groupingWithOrder(paulis, connected=True, print_progress=True)\n",
    "print('Number of groups: {}'.format(len(Groups)))\n",
    "\n",
    "circuits_exact = []\n",
    "for j, measure in enumerate(Measurements):\n",
    "    circuit = measure_circuit_factor(measure, n_qubits, make_measurements=False)\n",
    "    circuit = circuit.compose(state_0, front=True)\n",
    "    # circuit.save_statevector()\n",
    "    circuit.snapshot_statevector('snapshot')\n",
    "    circuits_exact.append(circuit)"
   ]
  },
  {
   "cell_type": "code",
   "execution_count": null,
   "id": "5416f589",
   "metadata": {
    "collapsed": false,
    "jupyter": {
     "outputs_hidden": false
    },
    "pycharm": {
     "name": "#%%\n"
    }
   },
   "outputs": [],
   "source": [
    "n_max = 100\n",
    "\n",
    "if n_max == -1:\n",
    "    n_max = len(circuits_exact)\n",
    "n_runs = int(np.ceil(len(circuits_exact) / n_max))\n",
    "print(n_runs)"
   ]
  },
  {
   "cell_type": "code",
   "execution_count": null,
   "id": "45d0ab8d",
   "metadata": {
    "collapsed": false,
    "jupyter": {
     "outputs_hidden": false
    },
    "pycharm": {
     "name": "#%%\n"
    }
   },
   "outputs": [],
   "source": [
    "jobs = send_ibmq_parallel(backed_calculations, n_max, circuits_exact, job_tag=molecule_name, kwards_run={'shots': 1}, progress_bar=True, verbose=False)\n",
    "jobs_ids = [job.job_id() for job in jobs]\n",
    "\n",
    "np.save(molecule_name + '_exact_job_ids.npy', jobs_ids)"
   ]
  },
  {
   "cell_type": "code",
   "execution_count": null,
   "id": "0f2c7b68",
   "metadata": {
    "collapsed": false,
    "jupyter": {
     "outputs_hidden": false
    },
    "pycharm": {
     "name": "#%%\n"
    }
   },
   "outputs": [],
   "source": [
    "jobs_ids = np.load(molecule_name + '_exact_job_ids.npy').tolist()"
   ]
  },
  {
   "cell_type": "code",
   "execution_count": null,
   "id": "9a437717",
   "metadata": {
    "collapsed": false,
    "jupyter": {
     "outputs_hidden": false
    },
    "pycharm": {
     "name": "#%%\n"
    }
   },
   "outputs": [],
   "source": [
    "energy_exact = 0\n",
    "\n",
    "pbar = tqdm(total=len(jobs_ids), desc='Computing exact energy')\n",
    "for i in range(len(jobs_ids)):\n",
    "    prob = load_data_IBMQ(jobs_ids[i], verbose=True)\n",
    "    \n",
    "    initial = i * n_max\n",
    "    final = min(initial + n_max, len(circuits_exact))\n",
    "    \n",
    "    temp = probability2expected_parallel(-1, coeffs, labels, Groups[initial:final], Measurements[initial:final], shift=True, print_progress=True)\n",
    "    diagonals = [x[0] for x in temp]\n",
    "    factors = [x[1] for x in temp]\n",
    "    \n",
    "    diagonals = [(~diagonal * 2 - 1).astype('int8') for diagonal in diagonals]\n",
    "    \n",
    "    for j in range(len(diagonals)):\n",
    "        energy_exact += np.sum((diagonals[j] * np.array(factors[j])[:, None]) @ prob[j])\n",
    "        \n",
    "    pbar.update()\n",
    "pbar.close()\n",
    "print('Exact energy: {}'.format(energy_exact))"
   ]
  },
  {
   "cell_type": "markdown",
   "id": "cf79bf24",
   "metadata": {
    "jp-MarkdownHeadingCollapsed": true,
    "pycharm": {
     "name": "#%% md\n"
    },
    "tags": []
   },
   "source": [
    "## Approximation (Simulation)"
   ]
  },
  {
   "cell_type": "code",
   "execution_count": null,
   "id": "07b27e23",
   "metadata": {
    "collapsed": false,
    "jupyter": {
     "outputs_hidden": false
    },
    "pycharm": {
     "name": "#%%\n"
    }
   },
   "outputs": [],
   "source": [
    "temp = load_grouping_data(molecule_name, 'EM')\n",
    "\n",
    "if temp is not None:\n",
    "    Groups, Measurements, layout = temp\n",
    "else:\n",
    "    Groups, Measurements, layout = groupingWithOrder(paulis, connected=True, print_progress=True)\n",
    "\n",
    "print('Number of groups', len(Groups))"
   ]
  },
  {
   "cell_type": "code",
   "execution_count": null,
   "id": "2c35a8f0",
   "metadata": {
    "collapsed": false,
    "jupyter": {
     "outputs_hidden": false
    },
    "pycharm": {
     "name": "#%%\n"
    }
   },
   "outputs": [],
   "source": [
    "jobs, energy_exact = compute_energy_sparse(Groups, Measurements, 'Noiseless', n_chunks=300, layout=layout, shots=-1, noisy=False)\n",
    "print('Exact energy: {}'.format(energy_exact))"
   ]
  },
  {
   "cell_type": "markdown",
   "id": "e4edd845",
   "metadata": {
    "pycharm": {
     "name": "#%% md\n"
    }
   },
   "source": [
    "# TPB"
   ]
  },
  {
   "cell_type": "code",
   "execution_count": 10,
   "id": "453d15e0",
   "metadata": {
    "collapsed": false,
    "execution": {
     "iopub.execute_input": "2022-07-19T10:21:16.149175Z",
     "iopub.status.busy": "2022-07-19T10:21:16.148175Z",
     "iopub.status.idle": "2022-07-19T10:21:16.192175Z",
     "shell.execute_reply": "2022-07-19T10:21:16.192175Z",
     "shell.execute_reply.started": "2022-07-19T10:21:16.149175Z"
    },
    "jupyter": {
     "outputs_hidden": false
    },
    "pycharm": {
     "name": "#%%\n"
    },
    "tags": []
   },
   "outputs": [
    {
     "name": "stdout",
     "output_type": "stream",
     "text": [
      "Number of groups 457\n"
     ]
    }
   ],
   "source": [
    "temp = load_grouping_data(molecule_name, 'TPB')\n",
    "\n",
    "if temp is not None:\n",
    "    Groups, Measurements = temp\n",
    "else:\n",
    "    _, Groups, Measurements = TPBgrouping(paulis, print_progress=True)\n",
    "\n",
    "print('Number of groups', len(Groups))"
   ]
  },
  {
   "cell_type": "code",
   "execution_count": 11,
   "id": "424d60cf-5791-400f-bc87-558d7d780f90",
   "metadata": {
    "execution": {
     "iopub.execute_input": "2022-07-19T10:21:17.758182Z",
     "iopub.status.busy": "2022-07-19T10:21:17.758182Z",
     "iopub.status.idle": "2022-07-19T10:27:31.778434Z",
     "shell.execute_reply": "2022-07-19T10:27:31.778434Z",
     "shell.execute_reply.started": "2022-07-19T10:21:17.758182Z"
    },
    "pycharm": {
     "name": "#%%\n"
    },
    "tags": []
   },
   "outputs": [
    {
     "data": {
      "application/vnd.jupyter.widget-view+json": {
       "model_id": "7dc645aafbc4482391a9877ac8d3f03d",
       "version_major": 2,
       "version_minor": 0
      },
      "text/plain": [
       "Jobs completed:   0%|          | 0/2 [00:00<?, ?it/s]"
      ]
     },
     "metadata": {},
     "output_type": "display_data"
    },
    {
     "data": {
      "application/vnd.jupyter.widget-view+json": {
       "model_id": "c27a5ee6946149ffb5ed2704811292f2",
       "version_major": 2,
       "version_minor": 0
      },
      "text/plain": [
       "Computing energy:   0%|          | 0/457 [00:00<?, ?it/s]"
      ]
     },
     "metadata": {},
     "output_type": "display_data"
    },
    {
     "name": "stdout",
     "output_type": "stream",
     "text": [
      "TPB energy: -9.067222217315923\n",
      "Relative error: 16.905 %\n",
      "Simulation time 57.256 s\n"
     ]
    },
    {
     "data": {
      "application/vnd.jupyter.widget-view+json": {
       "model_id": "835cf30557f344cc85b72b7f2ae94ea2",
       "version_major": 2,
       "version_minor": 0
      },
      "text/plain": [
       "Jobs completed:   0%|          | 0/2 [00:00<?, ?it/s]"
      ]
     },
     "metadata": {},
     "output_type": "display_data"
    },
    {
     "data": {
      "application/vnd.jupyter.widget-view+json": {
       "model_id": "b34059bbd7e84097b3bc438464a0d5d8",
       "version_major": 2,
       "version_minor": 0
      },
      "text/plain": [
       "Computing energy:   0%|          | 0/457 [00:00<?, ?it/s]"
      ]
     },
     "metadata": {},
     "output_type": "display_data"
    },
    {
     "name": "stdout",
     "output_type": "stream",
     "text": [
      "TPB energy: -9.458906255331186\n",
      "Relative error: 21.955 %\n",
      "Simulation time 47.81700000000001 s\n"
     ]
    },
    {
     "data": {
      "application/vnd.jupyter.widget-view+json": {
       "model_id": "e59d18cd13ef441e81a6616c6b4593d6",
       "version_major": 2,
       "version_minor": 0
      },
      "text/plain": [
       "Jobs completed:   0%|          | 0/2 [00:00<?, ?it/s]"
      ]
     },
     "metadata": {},
     "output_type": "display_data"
    },
    {
     "data": {
      "application/vnd.jupyter.widget-view+json": {
       "model_id": "2347126b2ff54e868e25e6220875b8f8",
       "version_major": 2,
       "version_minor": 0
      },
      "text/plain": [
       "Computing energy:   0%|          | 0/457 [00:00<?, ?it/s]"
      ]
     },
     "metadata": {},
     "output_type": "display_data"
    },
    {
     "name": "stdout",
     "output_type": "stream",
     "text": [
      "TPB energy: -9.436420026383075\n",
      "Relative error: 21.665 %\n",
      "Simulation time 117.62 s\n"
     ]
    },
    {
     "data": {
      "application/vnd.jupyter.widget-view+json": {
       "model_id": "712d5435c7d147f98f4f53040f6c0d24",
       "version_major": 2,
       "version_minor": 0
      },
      "text/plain": [
       "Jobs completed:   0%|          | 0/2 [00:00<?, ?it/s]"
      ]
     },
     "metadata": {},
     "output_type": "display_data"
    },
    {
     "data": {
      "application/vnd.jupyter.widget-view+json": {
       "model_id": "befcba206c5d47f682c502bb7e230700",
       "version_major": 2,
       "version_minor": 0
      },
      "text/plain": [
       "Computing energy:   0%|          | 0/457 [00:00<?, ?it/s]"
      ]
     },
     "metadata": {},
     "output_type": "display_data"
    },
    {
     "name": "stdout",
     "output_type": "stream",
     "text": [
      "TPB energy: -9.225109841718707\n",
      "Relative error: 18.941 %\n",
      "Simulation time 49.765 s\n"
     ]
    },
    {
     "data": {
      "application/vnd.jupyter.widget-view+json": {
       "model_id": "5f0c454300d744acae8a6c69741a3df5",
       "version_major": 2,
       "version_minor": 0
      },
      "text/plain": [
       "Jobs completed:   0%|          | 0/2 [00:00<?, ?it/s]"
      ]
     },
     "metadata": {},
     "output_type": "display_data"
    },
    {
     "data": {
      "application/vnd.jupyter.widget-view+json": {
       "model_id": "9aeade5eb4f8405fb7abea012b817443",
       "version_major": 2,
       "version_minor": 0
      },
      "text/plain": [
       "Computing energy:   0%|          | 0/457 [00:00<?, ?it/s]"
      ]
     },
     "metadata": {},
     "output_type": "display_data"
    },
    {
     "name": "stdout",
     "output_type": "stream",
     "text": [
      "TPB energy: -9.434566042108708\n",
      "Relative error: 21.642 %\n",
      "Simulation time 59.452 s\n"
     ]
    }
   ],
   "source": [
    "method = 'TPB'\n",
    "\n",
    "n_repeats = 5\n",
    "\n",
    "for _ in range(n_repeats):\n",
    "    jobs_TPB, energy_TPB, energies_TPB_temp = compute_energy_sparse(Groups, Measurements, method, n_chunks=shots_TPB[molecule_name], return_energy_temp=True)\n",
    "    relative_TPB = np.abs((energy_TPB - energy_exact) / energy_exact)\n",
    "\n",
    "    print('TPB energy: {}'.format(energy_TPB))\n",
    "    print('Relative error: {:.3f} %'.format(relative_TPB * 100))\n",
    "    \n",
    "    try:\n",
    "        time = sum((job.time_per_step()['COMPLETED'] - job.time_per_step()['RUNNING']).total_seconds() for job in jobs_TPB)\n",
    "        print(f'Simulation time {time} s')\n",
    "    except KeyError:\n",
    "        print('WTF IBMQ?')\n",
    "\n",
    "    save_data(energy_TPB, method)"
   ]
  },
  {
   "cell_type": "code",
   "execution_count": 12,
   "id": "245f59f5-e542-4d8b-8b93-c3c5c789899c",
   "metadata": {
    "execution": {
     "iopub.execute_input": "2022-07-19T10:27:31.779434Z",
     "iopub.status.busy": "2022-07-19T10:27:31.779434Z",
     "iopub.status.idle": "2022-07-19T10:27:32.014434Z",
     "shell.execute_reply": "2022-07-19T10:27:32.014434Z",
     "shell.execute_reply.started": "2022-07-19T10:27:31.779434Z"
    },
    "pycharm": {
     "name": "#%%\n"
    },
    "tags": []
   },
   "outputs": [
    {
     "data": {
      "image/png": "[encoded data removed]",
      "text/plain": [
       "<Figure size 432x288 with 1 Axes>"
      ]
     },
     "metadata": {
      "needs_background": "light"
     },
     "output_type": "display_data"
    }
   ],
   "source": [
    "fig, ax = plt.subplots()\n",
    "\n",
    "data = np.array(energies_TPB_temp)\n",
    "x = np.arange(1, len(data) + 1)\n",
    "mask = data > 0\n",
    "\n",
    "ax.plot(x, np.cumsum(data), 'r')\n",
    "ax.hlines(energy_exact, 1, len(data) + 1, color='k', label='Exact')\n",
    "ax.hlines(sum(data), 1, len(data) + 1, color='r', ls='--', label='Noisy simulation')\n",
    "\n",
    "# ax.plot(x, np.abs(data))\n",
    "\n",
    "# ax.bar(x[mask], np.abs(data)[mask], width=1, color='b', label=r'$E_i>0$')\n",
    "# ax.bar(x[~mask], np.abs(data)[~mask], width=1, color='r', label=r'$E_i\\leq0$')\n",
    "\n",
    "ax.set_xlim(-1, len(data) + 1)\n",
    "ax.set_xlabel('circuits')\n",
    "# ax.set_ylabel(r'$|E_i|$ [Ha]')\n",
    "ax.set_ylabel(r'$\\sum_{i}^n E_i$ [Ha]')\n",
    "\n",
    "# ax.set_yscale('log')\n",
    "\n",
    "ax.legend(loc=4)\n",
    "ax.set_title(f'{method} / {molecule_name}');"
   ]
  },
  {
   "cell_type": "markdown",
   "id": "decf7b5c-d934-4118-92b1-b6ce9cd72466",
   "metadata": {
    "pycharm": {
     "name": "#%% md\n"
    },
    "tags": []
   },
   "source": [
    "# EM"
   ]
  },
  {
   "cell_type": "code",
   "execution_count": 13,
   "id": "9c2029bb-6c83-44a1-bd4e-974daf145bf8",
   "metadata": {
    "execution": {
     "iopub.execute_input": "2022-07-19T10:27:32.015435Z",
     "iopub.status.busy": "2022-07-19T10:27:32.015435Z",
     "iopub.status.idle": "2022-07-19T10:27:32.030435Z",
     "shell.execute_reply": "2022-07-19T10:27:32.030435Z",
     "shell.execute_reply.started": "2022-07-19T10:27:32.015435Z"
    },
    "pycharm": {
     "name": "#%%\n"
    },
    "tags": []
   },
   "outputs": [
    {
     "name": "stdout",
     "output_type": "stream",
     "text": [
      "Number of groups 205\n"
     ]
    }
   ],
   "source": [
    "temp = load_grouping_data(molecule_name, 'EM')\n",
    "\n",
    "if temp is not None:\n",
    "    Groups, Measurements, layout = temp\n",
    "else:\n",
    "    Groups, Measurements, layout = groupingWithOrder(paulis, connected=True, print_progress=True)\n",
    "\n",
    "missing = []\n",
    "for i in range(np.max(np.array(WC_device)) + 1):\n",
    "    if i not in layout:\n",
    "        missing.append(i)    \n",
    "    \n",
    "print('Number of groups', len(Groups))"
   ]
  },
  {
   "cell_type": "code",
   "execution_count": 14,
   "id": "c02c9924-6614-4f60-a189-67d8ec8ae84a",
   "metadata": {
    "execution": {
     "iopub.execute_input": "2022-07-19T10:27:32.031434Z",
     "iopub.status.busy": "2022-07-19T10:27:32.031434Z",
     "iopub.status.idle": "2022-07-19T10:33:49.594271Z",
     "shell.execute_reply": "2022-07-19T10:33:49.594271Z",
     "shell.execute_reply.started": "2022-07-19T10:27:32.031434Z"
    },
    "pycharm": {
     "name": "#%%\n"
    },
    "tags": []
   },
   "outputs": [
    {
     "data": {
      "application/vnd.jupyter.widget-view+json": {
       "model_id": "1a5dfe8e41154f6b8de07cf54131efb0",
       "version_major": 2,
       "version_minor": 0
      },
      "text/plain": [
       "Jobs completed:   0%|          | 0/3 [00:00<?, ?it/s]"
      ]
     },
     "metadata": {},
     "output_type": "display_data"
    },
    {
     "data": {
      "application/vnd.jupyter.widget-view+json": {
       "model_id": "4663e470d87944249cc2e94a3d85089f",
       "version_major": 2,
       "version_minor": 0
      },
      "text/plain": [
       "Computing energy:   0%|          | 0/205 [00:00<?, ?it/s]"
      ]
     },
     "metadata": {},
     "output_type": "display_data"
    },
    {
     "name": "stdout",
     "output_type": "stream",
     "text": [
      "EM energy: -9.155828325843261\n",
      "Relative error: 18.048 %\n",
      "Simulation time 57.68 s\n"
     ]
    },
    {
     "data": {
      "application/vnd.jupyter.widget-view+json": {
       "model_id": "f2dafcef98b7478386890948ec887819",
       "version_major": 2,
       "version_minor": 0
      },
      "text/plain": [
       "Jobs completed:   0%|          | 0/3 [00:00<?, ?it/s]"
      ]
     },
     "metadata": {},
     "output_type": "display_data"
    },
    {
     "data": {
      "application/vnd.jupyter.widget-view+json": {
       "model_id": "9534c5a3b96c4f04a7395374c03780cc",
       "version_major": 2,
       "version_minor": 0
      },
      "text/plain": [
       "Computing energy:   0%|          | 0/205 [00:00<?, ?it/s]"
      ]
     },
     "metadata": {},
     "output_type": "display_data"
    },
    {
     "name": "stdout",
     "output_type": "stream",
     "text": [
      "EM energy: -9.211748402776\n",
      "Relative error: 18.769 %\n",
      "Simulation time 66.194 s\n"
     ]
    },
    {
     "data": {
      "application/vnd.jupyter.widget-view+json": {
       "model_id": "ea3a0ac3152241679234fce5daac555c",
       "version_major": 2,
       "version_minor": 0
      },
      "text/plain": [
       "Jobs completed:   0%|          | 0/3 [00:00<?, ?it/s]"
      ]
     },
     "metadata": {},
     "output_type": "display_data"
    },
    {
     "data": {
      "application/vnd.jupyter.widget-view+json": {
       "model_id": "7814495bfe5745ae959336682ff5175a",
       "version_major": 2,
       "version_minor": 0
      },
      "text/plain": [
       "Computing energy:   0%|          | 0/205 [00:00<?, ?it/s]"
      ]
     },
     "metadata": {},
     "output_type": "display_data"
    },
    {
     "name": "stdout",
     "output_type": "stream",
     "text": [
      "EM energy: -9.310821771067697\n",
      "Relative error: 20.046 %\n",
      "Simulation time 120.46399999999998 s\n"
     ]
    },
    {
     "data": {
      "application/vnd.jupyter.widget-view+json": {
       "model_id": "23812de53b4b496db020c41224a19668",
       "version_major": 2,
       "version_minor": 0
      },
      "text/plain": [
       "Jobs completed:   0%|          | 0/3 [00:00<?, ?it/s]"
      ]
     },
     "metadata": {},
     "output_type": "display_data"
    },
    {
     "data": {
      "application/vnd.jupyter.widget-view+json": {
       "model_id": "21118b166f0a4ab58687435d5bd0ecec",
       "version_major": 2,
       "version_minor": 0
      },
      "text/plain": [
       "Computing energy:   0%|          | 0/205 [00:00<?, ?it/s]"
      ]
     },
     "metadata": {},
     "output_type": "display_data"
    },
    {
     "name": "stdout",
     "output_type": "stream",
     "text": [
      "EM energy: -9.219291212220243\n",
      "Relative error: 18.866 %\n",
      "Simulation time 67.257 s\n"
     ]
    },
    {
     "data": {
      "application/vnd.jupyter.widget-view+json": {
       "model_id": "d1fc97470dd14486ba282bcae3e7f734",
       "version_major": 2,
       "version_minor": 0
      },
      "text/plain": [
       "Jobs completed:   0%|          | 0/3 [00:00<?, ?it/s]"
      ]
     },
     "metadata": {},
     "output_type": "display_data"
    },
    {
     "data": {
      "application/vnd.jupyter.widget-view+json": {
       "model_id": "0d5ed7888bbb4c3487805db56e67a30f",
       "version_major": 2,
       "version_minor": 0
      },
      "text/plain": [
       "Computing energy:   0%|          | 0/205 [00:00<?, ?it/s]"
      ]
     },
     "metadata": {},
     "output_type": "display_data"
    },
    {
     "name": "stdout",
     "output_type": "stream",
     "text": [
      "EM energy: -9.138165236844022\n",
      "Relative error: 17.820 %\n",
      "Simulation time 88.883 s\n"
     ]
    }
   ],
   "source": [
    "method = 'EM'\n",
    "\n",
    "n_repeats = 5\n",
    "\n",
    "for _ in range(n_repeats):\n",
    "    jobs_EM, energy_EM, energies_EM_temp = compute_energy_sparse(Groups, Measurements, method, layout=layout, n_chunks=shots_EM[molecule_name], return_energy_temp=True)\n",
    "    relative_EM= np.abs((energy_EM - energy_exact) / energy_exact)\n",
    "\n",
    "    print('EM energy: {}'.format(energy_EM))\n",
    "    print('Relative error: {:.3f} %'.format(relative_EM * 100))\n",
    "    \n",
    "    try:\n",
    "        time = sum((job.time_per_step()['COMPLETED'] - job.time_per_step()['RUNNING']).total_seconds() for job in jobs_EM)\n",
    "        print(f'Simulation time {time} s')\n",
    "    except KeyError:\n",
    "        print('WTF IBMQ?')\n",
    "\n",
    "    save_data(energy_EM, method)"
   ]
  },
  {
   "cell_type": "code",
   "execution_count": 15,
   "id": "81498c0d-4b3b-46da-a8f1-b0835714ecc1",
   "metadata": {
    "execution": {
     "iopub.execute_input": "2022-07-19T10:33:49.595274Z",
     "iopub.status.busy": "2022-07-19T10:33:49.595274Z",
     "iopub.status.idle": "2022-07-19T10:33:49.688272Z",
     "shell.execute_reply": "2022-07-19T10:33:49.688272Z",
     "shell.execute_reply.started": "2022-07-19T10:33:49.595274Z"
    },
    "pycharm": {
     "name": "#%%\n"
    },
    "tags": []
   },
   "outputs": [
    {
     "data": {
      "image/png": "[encoded data removed]",
      "text/plain": [
       "<Figure size 432x288 with 1 Axes>"
      ]
     },
     "metadata": {
      "needs_background": "light"
     },
     "output_type": "display_data"
    }
   ],
   "source": [
    "fig, ax = plt.subplots()\n",
    "\n",
    "data = np.array(energies_EM_temp)\n",
    "x = np.arange(1, len(data) + 1)\n",
    "mask = data > 0\n",
    "\n",
    "ax.plot(x, np.cumsum(data), 'r')\n",
    "ax.hlines(energy_exact, 1, len(data) + 1, color='k', label='Exact')\n",
    "ax.hlines(sum(data), 1, len(data) + 1, color='r', ls='--', label='Noisy simulation')\n",
    "\n",
    "# ax.plot(x, np.abs(data))\n",
    "\n",
    "# ax.bar(x[mask], np.abs(data)[mask], width=1, color='b', label=r'$E_i>0$')\n",
    "# ax.bar(x[~mask], np.abs(data)[~mask], width=1, color='r', label=r'$E_i\\leq0$')\n",
    "\n",
    "ax.set_xlim(-1, len(data) + 1)\n",
    "ax.set_xlabel('circuits')\n",
    "# ax.set_ylabel(r'$|E_i|$ [Ha]')\n",
    "ax.set_ylabel(r'$\\sum_{i}^n E_i$ [Ha]')\n",
    "\n",
    "# ax.set_yscale('log')\n",
    "\n",
    "ax.legend(loc=4)\n",
    "ax.set_title(f'{method} / {molecule_name}');"
   ]
  },
  {
   "cell_type": "markdown",
   "id": "074933a7-641e-44fa-b2d4-91d8e15cf898",
   "metadata": {
    "pycharm": {
     "name": "#%% md\n"
    },
    "tags": []
   },
   "source": [
    "# HEEM"
   ]
  },
  {
   "cell_type": "code",
   "execution_count": 16,
   "id": "87dce716-6a03-447a-b590-9eb8aa154f31",
   "metadata": {
    "execution": {
     "iopub.execute_input": "2022-07-19T10:33:49.689273Z",
     "iopub.status.busy": "2022-07-19T10:33:49.689273Z",
     "iopub.status.idle": "2022-07-19T10:33:49.718270Z",
     "shell.execute_reply": "2022-07-19T10:33:49.718270Z",
     "shell.execute_reply.started": "2022-07-19T10:33:49.689273Z"
    },
    "pycharm": {
     "name": "#%%\n"
    },
    "tags": []
   },
   "outputs": [
    {
     "name": "stdout",
     "output_type": "stream",
     "text": [
      "Number of groups 287\n"
     ]
    }
   ],
   "source": [
    "temp = load_grouping_data(molecule_name, 'HEEM')\n",
    "\n",
    "if temp is not None:\n",
    "    Groups, Measurements, layout = temp\n",
    "else:\n",
    "    Groups, Measurements, layout = groupingWithOrder(paulis, G_device, connected=True, print_progress=True)\n",
    "\n",
    "missing = []\n",
    "for i in range(np.max(np.array(WC_device)) + 1):\n",
    "    if i not in layout:\n",
    "        missing.append(i)    \n",
    "\n",
    "print('Number of groups', len(Groups))"
   ]
  },
  {
   "cell_type": "code",
   "execution_count": 17,
   "id": "11050b1e-1fb1-4539-873e-ed27ca650a35",
   "metadata": {
    "execution": {
     "iopub.execute_input": "2022-07-19T10:33:49.719273Z",
     "iopub.status.busy": "2022-07-19T10:33:49.719273Z",
     "iopub.status.idle": "2022-07-19T10:39:49.475542Z",
     "shell.execute_reply": "2022-07-19T10:39:49.475542Z",
     "shell.execute_reply.started": "2022-07-19T10:33:49.719273Z"
    },
    "pycharm": {
     "name": "#%%\n"
    },
    "tags": []
   },
   "outputs": [
    {
     "data": {
      "application/vnd.jupyter.widget-view+json": {
       "model_id": "0905fafc3e574374b65bee873ab40672",
       "version_major": 2,
       "version_minor": 0
      },
      "text/plain": [
       "Jobs completed:   0%|          | 0/1 [00:00<?, ?it/s]"
      ]
     },
     "metadata": {},
     "output_type": "display_data"
    },
    {
     "data": {
      "application/vnd.jupyter.widget-view+json": {
       "model_id": "eeaafd54f11a48c38fd89e641538e3e6",
       "version_major": 2,
       "version_minor": 0
      },
      "text/plain": [
       "Computing energy:   0%|          | 0/287 [00:00<?, ?it/s]"
      ]
     },
     "metadata": {},
     "output_type": "display_data"
    },
    {
     "name": "stdout",
     "output_type": "stream",
     "text": [
      "HEEM energy: -8.562940658505905\n",
      "Relative error: 10.404 %\n",
      "Simulation time 45.713 s\n"
     ]
    },
    {
     "data": {
      "application/vnd.jupyter.widget-view+json": {
       "model_id": "b64ef6c4527645798e66e85b190ec014",
       "version_major": 2,
       "version_minor": 0
      },
      "text/plain": [
       "Jobs completed:   0%|          | 0/1 [00:00<?, ?it/s]"
      ]
     },
     "metadata": {},
     "output_type": "display_data"
    },
    {
     "data": {
      "application/vnd.jupyter.widget-view+json": {
       "model_id": "4dd6d457cca2439aa892d4b75b79f45f",
       "version_major": 2,
       "version_minor": 0
      },
      "text/plain": [
       "Computing energy:   0%|          | 0/287 [00:00<?, ?it/s]"
      ]
     },
     "metadata": {},
     "output_type": "display_data"
    },
    {
     "name": "stdout",
     "output_type": "stream",
     "text": [
      "HEEM energy: -8.57982522918238\n",
      "Relative error: 10.621 %\n",
      "Simulation time 46.487 s\n"
     ]
    },
    {
     "data": {
      "application/vnd.jupyter.widget-view+json": {
       "model_id": "d604118721824ac6a3daf50b68371134",
       "version_major": 2,
       "version_minor": 0
      },
      "text/plain": [
       "Jobs completed:   0%|          | 0/1 [00:00<?, ?it/s]"
      ]
     },
     "metadata": {},
     "output_type": "display_data"
    },
    {
     "data": {
      "application/vnd.jupyter.widget-view+json": {
       "model_id": "736da91fa0da4b799ea8ec7da3c124f4",
       "version_major": 2,
       "version_minor": 0
      },
      "text/plain": [
       "Computing energy:   0%|          | 0/287 [00:00<?, ?it/s]"
      ]
     },
     "metadata": {},
     "output_type": "display_data"
    },
    {
     "name": "stdout",
     "output_type": "stream",
     "text": [
      "HEEM energy: -8.584977821357345\n",
      "Relative error: 10.688 %\n",
      "Simulation time 48.212 s\n"
     ]
    },
    {
     "data": {
      "application/vnd.jupyter.widget-view+json": {
       "model_id": "3d3db651fad343478430706fb63e8ca5",
       "version_major": 2,
       "version_minor": 0
      },
      "text/plain": [
       "Jobs completed:   0%|          | 0/1 [00:00<?, ?it/s]"
      ]
     },
     "metadata": {},
     "output_type": "display_data"
    },
    {
     "data": {
      "application/vnd.jupyter.widget-view+json": {
       "model_id": "16c038458b0b4d3dbc02d08d12a1e3d2",
       "version_major": 2,
       "version_minor": 0
      },
      "text/plain": [
       "Computing energy:   0%|          | 0/287 [00:00<?, ?it/s]"
      ]
     },
     "metadata": {},
     "output_type": "display_data"
    },
    {
     "name": "stdout",
     "output_type": "stream",
     "text": [
      "HEEM energy: -8.367610203810198\n",
      "Relative error: 7.885 %\n",
      "Simulation time 47.401 s\n"
     ]
    },
    {
     "data": {
      "application/vnd.jupyter.widget-view+json": {
       "model_id": "777f3500b3ce458e943d72ec222120d7",
       "version_major": 2,
       "version_minor": 0
      },
      "text/plain": [
       "Jobs completed:   0%|          | 0/1 [00:00<?, ?it/s]"
      ]
     },
     "metadata": {},
     "output_type": "display_data"
    },
    {
     "data": {
      "application/vnd.jupyter.widget-view+json": {
       "model_id": "f98c6debdba44ba0a4d6d7a2e9eb2284",
       "version_major": 2,
       "version_minor": 0
      },
      "text/plain": [
       "Computing energy:   0%|          | 0/287 [00:00<?, ?it/s]"
      ]
     },
     "metadata": {},
     "output_type": "display_data"
    },
    {
     "name": "stdout",
     "output_type": "stream",
     "text": [
      "HEEM energy: -8.783631138242013\n",
      "Relative error: 13.249 %\n",
      "Simulation time 45.626 s\n"
     ]
    }
   ],
   "source": [
    "method = 'HEEM'\n",
    "\n",
    "n_repeats = 5\n",
    "\n",
    "for _ in range(n_repeats):\n",
    "    jobs_HEEM, energy_HEEM, energies_HEEM_temp = compute_energy_sparse(Groups, Measurements, method, n_chunks=shots_HEEM[molecule_name], layout=layout, return_energy_temp=True)\n",
    "    relative_HEEM = np.abs((energy_HEEM - energy_exact) / energy_exact)\n",
    "\n",
    "    print('HEEM energy: {}'.format(energy_HEEM))\n",
    "    print('Relative error: {:.3f} %'.format(relative_HEEM * 100))\n",
    "    \n",
    "    try:\n",
    "        time = sum((job.time_per_step()['COMPLETED'] - job.time_per_step()['RUNNING']).total_seconds() for job in jobs_HEEM)\n",
    "        print(f'Simulation time {time} s')\n",
    "    except KeyError:\n",
    "        print('WTF IBMQ?')\n",
    "\n",
    "    save_data(energy_HEEM, method)"
   ]
  },
  {
   "cell_type": "code",
   "execution_count": 18,
   "id": "16a56fc3-f84c-4d62-8f4f-938b85021dd3",
   "metadata": {
    "execution": {
     "iopub.execute_input": "2022-07-19T10:39:49.476540Z",
     "iopub.status.busy": "2022-07-19T10:39:49.476540Z",
     "iopub.status.idle": "2022-07-19T10:39:49.568541Z",
     "shell.execute_reply": "2022-07-19T10:39:49.568541Z",
     "shell.execute_reply.started": "2022-07-19T10:39:49.476540Z"
    },
    "pycharm": {
     "name": "#%%\n"
    },
    "tags": []
   },
   "outputs": [
    {
     "data": {
      "image/png": "[encoded data removed]",
      "text/plain": [
       "<Figure size 432x288 with 1 Axes>"
      ]
     },
     "metadata": {
      "needs_background": "light"
     },
     "output_type": "display_data"
    }
   ],
   "source": [
    "fig, ax = plt.subplots()\n",
    "\n",
    "data = np.array(energies_HEEM_temp)\n",
    "x = np.arange(1, len(data) + 1)\n",
    "mask = data > 0\n",
    "\n",
    "ax.plot(x, np.cumsum(data), 'r')\n",
    "ax.hlines(energy_exact, 1, len(data) + 1, color='k', label='Exact')\n",
    "ax.hlines(sum(data), 1, len(data) + 1, color='r', ls='--', label='Noisy simulation')\n",
    "\n",
    "# ax.plot(x, np.abs(data))\n",
    "\n",
    "# ax.bar(x[mask], np.abs(data)[mask], width=1, color='b', label=r'$E_i>0$')\n",
    "# ax.bar(x[~mask], np.abs(data)[~mask], width=1, color='r', label=r'$E_i\\leq0$')\n",
    "\n",
    "ax.set_xlim(1, len(data))\n",
    "ax.set_xlabel('circuits')\n",
    "# ax.set_ylabel(r'$|E_i|$ [Ha]')\n",
    "ax.set_ylabel(r'$\\sum_{i}^n E_i$ [Ha]')\n",
    "\n",
    "# ax.set_yscale('log')\n",
    "\n",
    "ax.legend(loc=4)\n",
    "ax.set_title(f'{method} / {molecule_name}');"
   ]
  }
 ],
 "metadata": {
  "kernelspec": {
   "display_name": "Python 3 (ipykernel)",
   "language": "python",
   "name": "python3"
  },
  "language_info": {
   "codemirror_mode": {
    "name": "ipython",
    "version": 3
   },
   "file_extension": ".py",
   "mimetype": "text/x-python",
   "name": "python",
   "nbconvert_exporter": "python",
   "pygments_lexer": "ipython3",
   "version": "3.9.12"
  }
 },
 "nbformat": 4,
 "nbformat_minor": 5
}
