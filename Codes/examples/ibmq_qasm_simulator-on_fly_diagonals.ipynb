{
 "cells": [
  {
   "cell_type": "code",
   "execution_count": null,
   "outputs": [],
   "source": [
    "import sys\n",
    "import warnings\n",
    "sys.path.append('../')\n",
    "warnings.filterwarnings('ignore')\n",
    "\n",
    "# %matplotlib widget\n",
    "# %load_ext autoreload\n",
    "# %autoreload 1\n",
    "# %aimport utils, GroupingAlgorithm, HEEM_VQE_Functions"
   ],
   "metadata": {
    "collapsed": false,
    "pycharm": {
     "name": "#%%\n"
    }
   }
  },
  {
   "cell_type": "code",
   "execution_count": null,
   "outputs": [],
   "source": [
    "import numpy as np\n",
    "import matplotlib.pyplot as plt\n",
    "import networkx as nx\n",
    "from tqdm.auto import tqdm\n",
    "from os.path import isfile, exists\n",
    "from os import mkdir\n",
    "\n",
    "from qiskit import IBMQ, Aer, QuantumCircuit, QuantumRegister, ClassicalRegister, transpile, execute\n",
    "from qiskit.providers.aer import QasmSimulator\n",
    "from qiskit.providers.aer.noise import NoiseModel\n",
    "from qiskit.utils.quantum_instance import QuantumInstance\n",
    "from qiskit.ignis.verification import get_ghz_simple\n",
    "from qiskit.compiler import transpile\n",
    "from qiskit.tools.monitor import job_monitor\n",
    "from qiskit.opflow.state_fns import CircuitStateFn\n",
    "from qiskit.providers.aer.extensions.snapshot_statevector import *\n",
    "from qiskit.test.mock import FakeMontreal\n",
    "\n",
    "from utils import get_backend_connectivity, molecules, Label2Chain, from_string_to_numbers, load_grouping_data, current_time, load_data_IBMQ, send_ibmq_parallel\n",
    "from GroupingAlgorithm import groupingWithOrder, TPBgrouping\n",
    "from HEEM_VQE_Functions import measure_circuit_factor, probability2expected_binary, post_process_results, probability2expected_parallel, post_process_results_2, post_process_results_3"
   ],
   "metadata": {
    "collapsed": false,
    "pycharm": {
     "name": "#%%\n"
    }
   }
  },
  {
   "cell_type": "code",
   "execution_count": null,
   "outputs": [],
   "source": [
    "NUM_SHOTS = 2 ** 14\n",
    "# NUM_SHOTS = 2 ** 16\n",
    "\n",
    "def compute_energy_sparse(Groups, Measurements, method, n_chunks=10, layout=None, return_energy_temp=False, noisy=True, shots=NUM_SHOTS):\n",
    "    \n",
    "    circuits = [measure_circuit_factor(measurement, n_qubits, measure_all=False).compose(state_0, front=True) for measurement\n",
    "                 in Measurements]\n",
    "    \n",
    "    if noisy:\n",
    "        kwards_run = {'coupling_map': coupling_map, 'noise_model': noise_model, 'basis_gates': basis_gates}\n",
    "    else:\n",
    "        kwards_run = {}\n",
    "    \n",
    "    if shots == -1:\n",
    "        shots = 20000 * len(Groups)  # Max allowed shots\n",
    "    \n",
    "    kwards_run['shots'] = shots // len(Groups)\n",
    "                \n",
    "    if layout is not None:\n",
    "        kwards_run['initial_layout'] = layout[::-1]\n",
    "    \n",
    "    jobs = send_ibmq_parallel(backed_calculations, n_chunks, circuits, job_tag=[molecule_name, method], verbose=False,\n",
    "                              progress_bar=True, kwards_run=kwards_run)\n",
    "\n",
    "    counts = []\n",
    "    \n",
    "    for job in jobs:\n",
    "        counts += job.result().get_counts()\n",
    "    \n",
    "    energy_temp = []\n",
    "    pbar = tqdm(range(len(counts)), desc='Computing energy')\n",
    "    for j in pbar:\n",
    "        counts_indices, counts_values = post_process_results_3(counts[j])\n",
    "\n",
    "        diagonals, factors = probability2expected_binary(coeffs, labels, [Groups[j]], [Measurements[j]], shift=False)\n",
    "        diagonals = [(~diagonal * 2 - 1).astype('int8') for diagonal in diagonals[0][:, counts_indices]]\n",
    "\n",
    "        energy_temp.append(np.sum((diagonals * np.array(factors[0])[:, None]) * counts_values[None, :]) / kwards_run['shots'])\n",
    "\n",
    "    returns = [jobs, sum(energy_temp)]\n",
    "    \n",
    "    if return_energy_temp:\n",
    "        returns.append(energy_temp)\n",
    "        \n",
    "    return returns"
   ],
   "metadata": {
    "collapsed": false,
    "pycharm": {
     "name": "#%%\n"
    }
   }
  },
  {
   "cell_type": "code",
   "execution_count": null,
   "outputs": [],
   "source": [
    "# 1: Luciano, 2: Guillermo, 3: Gabriel, 4: Fran, 5: David\n",
    "index = 5\n",
    "if index is None:\n",
    "    raise Exception('Use you index!')\n",
    "    \n",
    "    \n",
    "def check_folder_create(path):\n",
    "    if exists(path):\n",
    "        pass\n",
    "    else:\n",
    "        mkdir(path)\n",
    "\n",
    "def save_data(energy, method):\n",
    "    subdics = ['data', 'energies', initial_state, 'partial']\n",
    "    \n",
    "    folder = '../'\n",
    "    for dic in subdics:\n",
    "        folder += dic + '/'\n",
    "        check_folder_create(folder)\n",
    "    \n",
    "    file = folder + molecule_name + '_' + method +'_' + str(index) + '.npy'\n",
    "    if isfile(file):\n",
    "        data = np.load(file)\n",
    "    else:\n",
    "        data = np.array([])\n",
    "    \n",
    "    data = np.append(data, energy)\n",
    "    np.save(file, data)"
   ],
   "metadata": {
    "collapsed": false,
    "pycharm": {
     "name": "#%%\n"
    }
   }
  },
  {
   "cell_type": "code",
   "execution_count": null,
   "outputs": [],
   "source": [
    "with warnings.catch_warnings():\n",
    "    warnings.simplefilter(\"ignore\")\n",
    "    IBMQ.load_account()\n",
    "\n",
    "provider_main = IBMQ.get_provider(hub='ibm-q', group='open', project='main')\n",
    "# provider_CSIC = IBMQ.get_provider(hub='ibm-q-csic', group='internal', project='iff-csic')\n",
    "\n",
    "# name_backend = 'ibmq_montreal'\n",
    "# backend = provider_CSIC.get_backend(name_backend)\n",
    "backend = FakeMontreal()\n",
    "WC_device = get_backend_connectivity(backend)\n",
    "\n",
    "G_device = nx.Graph()\n",
    "G_device.add_edges_from(WC_device)"
   ],
   "metadata": {
    "collapsed": false,
    "pycharm": {
     "name": "#%%\n"
    }
   }
  },
  {
   "cell_type": "code",
   "execution_count": null,
   "outputs": [],
   "source": [
    "backend_hpc = provider_main.get_backend('ibmq_qasm_simulator')\n",
    "backed_simulation = provider_main.get_backend('simulator_statevector')\n",
    "simulator = Aer.get_backend('aer_simulator')  # Backend for simulation\n",
    "\n",
    "device = QasmSimulator.from_backend(backend)\n",
    "coupling_map = device.configuration().coupling_map\n",
    "noise_model = NoiseModel.from_backend(device)\n",
    "# noise_model = None\n",
    "basis_gates = noise_model.basis_gates if noise_model is not None else None\n",
    "\n",
    "backed_calculations = backend_hpc"
   ],
   "metadata": {
    "collapsed": false,
    "pycharm": {
     "name": "#%%\n"
    }
   }
  },
  {
   "cell_type": "code",
   "execution_count": null,
   "outputs": [],
   "source": [
    "shots_TPB = {'H2': 300, 'LiH': 300, 'BeH2': 300, 'H2O': 300, 'CH4': 300,\n",
    "             'C2H2': 300, 'CH3OH': 300, 'C2H6': 100}\n",
    "\n",
    "shots_EM = {'H2': 300, 'LiH': 300, 'BeH2': 300, 'H2O': 300, 'CH4': 300,\n",
    "            'C2H2': 100, 'CH3OH': 50, 'C2H6': 25}\n",
    "\n",
    "shots_HEEM = {'H2': 300, 'LiH': 300, 'BeH2': 300, 'H2O': 300, 'CH4': 300,\n",
    "              'C2H2': 300, 'CH3OH': 300, 'C2H6': 50}"
   ],
   "metadata": {
    "collapsed": false,
    "pycharm": {
     "name": "#%%\n"
    }
   }
  },
  {
   "cell_type": "code",
   "execution_count": null,
   "outputs": [],
   "source": [
    "# All molecules H2, LiH, H2O, CH4, C2H2, CH3OH, C2H6\n",
    "molecule_name = 'C2H6'\n",
    "initial_state = '0xN'\n",
    "\n",
    "try:\n",
    "    qubit_op = molecules(molecule_name)\n",
    "    paulis, coeffs, labels = Label2Chain(qubit_op)\n",
    "except AttributeError:\n",
    "    paulis, coeffs, labels = np.load('../data/molecules_qubitop_list.npy', allow_pickle=True).item()[molecule_name]\n",
    "\n",
    "n_qubits = len(paulis[0])\n",
    "state_0 = QuantumCircuit(n_qubits)\n",
    "# state_0 = state_0.compose(get_ghz_simple(n_qubits, measure=False))  # Initialized in the GHZ state\n",
    "\n",
    "print(f'{len(paulis)} total Pauli strings')\n",
    "print(f'{n_qubits} qubits')"
   ],
   "metadata": {
    "collapsed": false,
    "pycharm": {
     "name": "#%%\n"
    }
   }
  },
  {
   "cell_type": "markdown",
   "source": [
    "# Exact energy"
   ],
   "metadata": {
    "collapsed": false,
    "pycharm": {
     "name": "#%% md\n"
    }
   }
  },
  {
   "cell_type": "markdown",
   "source": [
    "## $|0\\rangle^{\\otimes N}$"
   ],
   "metadata": {
    "collapsed": false,
    "pycharm": {
     "name": "#%% md\n"
    }
   }
  },
  {
   "cell_type": "code",
   "execution_count": null,
   "outputs": [],
   "source": [
    "if initial_state == '0xN':\n",
    "    energy_exact = 0\n",
    "\n",
    "    for i in range(len(labels)):\n",
    "        label = labels[i]\n",
    "        if 'X' not in label and 'Y' not in label:\n",
    "            energy_exact += coeffs[i]\n",
    "    print('Exact energy: {}'.format(energy_exact))"
   ],
   "metadata": {
    "collapsed": false,
    "pycharm": {
     "name": "#%%\n"
    }
   }
  },
  {
   "cell_type": "markdown",
   "source": [
    "## $|\\mathrm{GHZ}\\rangle$"
   ],
   "metadata": {
    "collapsed": false,
    "pycharm": {
     "name": "#%% md\n"
    }
   }
  },
  {
   "cell_type": "code",
   "execution_count": null,
   "outputs": [],
   "source": [
    "if initial_state == 'GHZ':\n",
    "    diagonals = {'I': np.array([1, 0, 0, 1]), 'X': np.array([0, 1, 1, 0]),\n",
    "                 'Y': np.array([0, 1j, -1j, 0]), 'Z': np.array([1, 0, 0, -1])}\n",
    "\n",
    "    energy_exact = 0\n",
    "    for label, coeff in zip(labels, coeffs):\n",
    "        diagonal = np.ones(4, dtype=complex)\n",
    "        for op in label:\n",
    "            diagonal *= diagonals[op]\n",
    "        energy_exact += coeff * np.sum(diagonal) / 2\n",
    "\n",
    "    print('Exact energy: {}'.format(energy_exact.real))"
   ],
   "metadata": {
    "collapsed": false,
    "pycharm": {
     "name": "#%%\n"
    }
   }
  },
  {
   "cell_type": "markdown",
   "source": [
    "## Exact (Numerical)"
   ],
   "metadata": {
    "collapsed": false,
    "pycharm": {
     "name": "#%% md\n"
    }
   }
  },
  {
   "cell_type": "code",
   "execution_count": null,
   "outputs": [],
   "source": [
    "psi = CircuitStateFn(state_0)\n",
    "energy_exact = psi.adjoint().compose(qubit_op).compose(psi).eval().real\n",
    "    \n",
    "print('Exact energy: {}'.format(energy_exact))"
   ],
   "metadata": {
    "collapsed": false,
    "pycharm": {
     "name": "#%%\n"
    }
   }
  },
  {
   "cell_type": "markdown",
   "source": [
    "## Exact (Simulation)"
   ],
   "metadata": {
    "collapsed": false,
    "pycharm": {
     "name": "#%% md\n"
    }
   }
  },
  {
   "cell_type": "code",
   "execution_count": null,
   "outputs": [],
   "source": [
    "Groups, Measurements, _ = load_grouping_data(molecule_name, 'EM')\n",
    "# Groups, Measurements, _ = groupingWithOrder(paulis, connected=True, print_progress=True)\n",
    "print('Number of groups: {}'.format(len(Groups)))\n",
    "\n",
    "circuits_exact = []\n",
    "for j, measure in enumerate(Measurements):\n",
    "    circuit = measure_circuit_factor(measure, n_qubits, make_measurements=False)\n",
    "    circuit = circuit.compose(state_0, front=True)\n",
    "    # circuit.save_statevector()\n",
    "    circuit.snapshot_statevector('snapshot')\n",
    "    circuits_exact.append(circuit)"
   ],
   "metadata": {
    "collapsed": false,
    "pycharm": {
     "name": "#%%\n"
    }
   }
  },
  {
   "cell_type": "code",
   "execution_count": null,
   "outputs": [],
   "source": [
    "n_max = 100\n",
    "\n",
    "if n_max == -1:\n",
    "    n_max = len(circuits_exact)\n",
    "n_runs = int(np.ceil(len(circuits_exact) / n_max))\n",
    "print(n_runs)"
   ],
   "metadata": {
    "collapsed": false,
    "pycharm": {
     "name": "#%%\n"
    }
   }
  },
  {
   "cell_type": "code",
   "execution_count": null,
   "outputs": [],
   "source": [
    "jobs = send_ibmq_parallel(backed_calculations, n_max, circuits_exact, job_tag=molecule_name, kwards_run={'shots': 1}, progress_bar=True, verbose=False)\n",
    "jobs_ids = [job.job_id() for job in jobs]\n",
    "\n",
    "np.save(molecule_name + '_exact_job_ids.npy', jobs_ids)"
   ],
   "metadata": {
    "collapsed": false,
    "pycharm": {
     "name": "#%%\n"
    }
   }
  },
  {
   "cell_type": "code",
   "execution_count": null,
   "outputs": [],
   "source": [
    "jobs_ids = np.load(molecule_name + '_exact_job_ids.npy').tolist()"
   ],
   "metadata": {
    "collapsed": false,
    "pycharm": {
     "name": "#%%\n"
    }
   }
  },
  {
   "cell_type": "code",
   "execution_count": null,
   "outputs": [],
   "source": [
    "energy_exact = 0\n",
    "\n",
    "pbar = tqdm(total=len(jobs_ids), desc='Computing exact energy')\n",
    "for i in range(len(jobs_ids)):\n",
    "    prob = load_data_IBMQ(jobs_ids[i], verbose=True)\n",
    "    \n",
    "    initial = i * n_max\n",
    "    final = min(initial + n_max, len(circuits_exact))\n",
    "    \n",
    "    temp = probability2expected_parallel(-1, coeffs, labels, Groups[initial:final], Measurements[initial:final], shift=True, print_progress=True)\n",
    "    diagonals = [x[0] for x in temp]\n",
    "    factors = [x[1] for x in temp]\n",
    "    \n",
    "    diagonals = [(~diagonal * 2 - 1).astype('int8') for diagonal in diagonals]\n",
    "    \n",
    "    for j in range(len(diagonals)):\n",
    "        energy_exact += np.sum((diagonals[j] * np.array(factors[j])[:, None]) @ prob[j])\n",
    "        \n",
    "    pbar.update()\n",
    "pbar.close()\n",
    "print('Exact energy: {}'.format(energy_exact))"
   ],
   "metadata": {
    "collapsed": false,
    "pycharm": {
     "name": "#%%\n"
    }
   }
  },
  {
   "cell_type": "markdown",
   "source": [
    "## Approximation (Simulation)"
   ],
   "metadata": {
    "collapsed": false,
    "pycharm": {
     "name": "#%% md\n"
    }
   }
  },
  {
   "cell_type": "code",
   "execution_count": null,
   "outputs": [],
   "source": [
    "temp = load_grouping_data(molecule_name, 'EM')\n",
    "\n",
    "if temp is not None:\n",
    "    Groups, Measurements, layout = temp\n",
    "else:\n",
    "    Groups, Measurements, layout = groupingWithOrder(paulis, connected=True, print_progress=True)\n",
    "\n",
    "print('Number of groups', len(Groups))"
   ],
   "metadata": {
    "collapsed": false,
    "pycharm": {
     "name": "#%%\n"
    }
   }
  },
  {
   "cell_type": "code",
   "execution_count": null,
   "outputs": [],
   "source": [
    "jobs, energy_exact = compute_energy_sparse(Groups, Measurements, 'Noiseless', n_chunks=300, layout=layout, shots=-1, noisy=False)\n",
    "print('Exact energy: {}'.format(energy_exact))"
   ],
   "metadata": {
    "collapsed": false,
    "pycharm": {
     "name": "#%%\n"
    }
   }
  },
  {
   "cell_type": "markdown",
   "source": [
    "# TPB"
   ],
   "metadata": {
    "collapsed": false,
    "pycharm": {
     "name": "#%% md\n"
    }
   }
  },
  {
   "cell_type": "code",
   "execution_count": null,
   "outputs": [],
   "source": [
    "temp = load_grouping_data(molecule_name, 'TPB')\n",
    "\n",
    "if temp is not None:\n",
    "    Groups, Measurements = temp\n",
    "else:\n",
    "    _, Groups, Measurements = TPBgrouping(paulis, print_progress=True)\n",
    "\n",
    "print('Number of groups', len(Groups))"
   ],
   "metadata": {
    "collapsed": false,
    "pycharm": {
     "name": "#%%\n"
    }
   }
  },
  {
   "cell_type": "code",
   "execution_count": 22,
   "id": "424d60cf-5791-400f-bc87-558d7d780f90",
   "metadata": {
    "execution": {
     "iopub.execute_input": "2022-06-08T14:32:51.067252Z",
     "iopub.status.busy": "2022-06-08T14:32:51.067092Z",
     "iopub.status.idle": "2022-06-09T05:27:53.911305Z",
     "shell.execute_reply": "2022-06-09T05:27:53.910649Z",
     "shell.execute_reply.started": "2022-06-08T14:32:51.067237Z"
    },
    "pycharm": {
     "name": "#%%\n"
    },
    "tags": []
   },
   "outputs": [
    {
     "data": {
      "application/vnd.jupyter.widget-view+json": {
       "model_id": "174ee6ad831241d7b0962d9cd499fe4d",
       "version_major": 2,
       "version_minor": 0
      },
      "text/plain": [
       "Jobs completed:   0%|          | 0/21 [00:00<?, ?it/s]"
      ]
     },
     "metadata": {},
     "output_type": "display_data"
    },
    {
     "data": {
      "application/vnd.jupyter.widget-view+json": {
       "model_id": "c4e2184e49624dc289758ab47e7356be",
       "version_major": 2,
       "version_minor": 0
      },
      "text/plain": [
       "Computing energy:   0%|          | 0/2069 [00:00<?, ?it/s]"
      ]
     },
     "metadata": {},
     "output_type": "display_data"
    },
    {
     "name": "stdout",
     "output_type": "stream",
     "text": [
      "TPB energy: -14.795505059084809\n",
      "Relative error: 29.564 %\n",
      "Simulation time 47812.80100000001 s\n"
     ]
    },
    {
     "data": {
      "application/vnd.jupyter.widget-view+json": {
       "model_id": "f6c663bc314f4b15ba11e8ec774845f2",
       "version_major": 2,
       "version_minor": 0
      },
      "text/plain": [
       "Jobs completed:   0%|          | 0/21 [00:00<?, ?it/s]"
      ]
     },
     "metadata": {},
     "output_type": "display_data"
    },
    {
     "data": {
      "application/vnd.jupyter.widget-view+json": {
       "model_id": "36be0ace48f54f8ba42987dc8ec15bff",
       "version_major": 2,
       "version_minor": 0
      },
      "text/plain": [
       "Computing energy:   0%|          | 0/2069 [00:00<?, ?it/s]"
      ]
     },
     "metadata": {},
     "output_type": "display_data"
    },
    {
     "name": "stdout",
     "output_type": "stream",
     "text": [
      "TPB energy: -15.35849045427978\n",
      "Relative error: 34.494 %\n",
      "Simulation time 44449.327 s\n"
     ]
    },
    {
     "data": {
      "application/vnd.jupyter.widget-view+json": {
       "model_id": "cd2a458d87204d4c9d5b324a3fad9fe4",
       "version_major": 2,
       "version_minor": 0
      },
      "text/plain": [
       "Jobs completed:   0%|          | 0/21 [00:00<?, ?it/s]"
      ]
     },
     "metadata": {},
     "output_type": "display_data"
    },
    {
     "data": {
      "application/vnd.jupyter.widget-view+json": {
       "model_id": "bdd0e9ea924144a7bc39c0510541ad34",
       "version_major": 2,
       "version_minor": 0
      },
      "text/plain": [
       "Computing energy:   0%|          | 0/2069 [00:00<?, ?it/s]"
      ]
     },
     "metadata": {},
     "output_type": "display_data"
    },
    {
     "name": "stdout",
     "output_type": "stream",
     "text": [
      "TPB energy: -14.7144838764195\n",
      "Relative error: 28.855 %\n",
      "Simulation time 47244.71200000001 s\n"
     ]
    },
    {
     "data": {
      "application/vnd.jupyter.widget-view+json": {
       "model_id": "2e1f245f269e4765b1bbc8e3ce539ab7",
       "version_major": 2,
       "version_minor": 0
      },
      "text/plain": [
       "Jobs completed:   0%|          | 0/21 [00:00<?, ?it/s]"
      ]
     },
     "metadata": {},
     "output_type": "display_data"
    },
    {
     "data": {
      "application/vnd.jupyter.widget-view+json": {
       "model_id": "a41a03709fbe4c27b4ea5c92a0e95a92",
       "version_major": 2,
       "version_minor": 0
      },
      "text/plain": [
       "Computing energy:   0%|          | 0/2069 [00:00<?, ?it/s]"
      ]
     },
     "metadata": {},
     "output_type": "display_data"
    },
    {
     "name": "stdout",
     "output_type": "stream",
     "text": [
      "TPB energy: -15.78705579268489\n",
      "Relative error: 38.247 %\n",
      "Simulation time 45475.196 s\n"
     ]
    },
    {
     "data": {
      "application/vnd.jupyter.widget-view+json": {
       "model_id": "739e5e8fd6c44f90bc9e13cfa7d47ac2",
       "version_major": 2,
       "version_minor": 0
      },
      "text/plain": [
       "Jobs completed:   0%|          | 0/21 [00:00<?, ?it/s]"
      ]
     },
     "metadata": {},
     "output_type": "display_data"
    },
    {
     "data": {
      "application/vnd.jupyter.widget-view+json": {
       "model_id": "534c3c22d22c45018ca25aa5392929b2",
       "version_major": 2,
       "version_minor": 0
      },
      "text/plain": [
       "Computing energy:   0%|          | 0/2069 [00:00<?, ?it/s]"
      ]
     },
     "metadata": {},
     "output_type": "display_data"
    },
    {
     "name": "stdout",
     "output_type": "stream",
     "text": [
      "TPB energy: -15.999923214972522\n",
      "Relative error: 40.111 %\n",
      "Simulation time 48639.11 s\n"
     ]
    }
   ],
   "source": [
    "method = 'TPB'\n",
    "\n",
    "n_repeats = 5\n",
    "\n",
    "for _ in range(n_repeats):\n",
    "    jobs_TPB, energy_TPB, energies_TPB_temp = compute_energy_sparse(Groups, Measurements, method, n_chunks=shots_TPB[molecule_name], return_energy_temp=True)\n",
    "    relative_TPB = np.abs((energy_TPB - energy_exact) / energy_exact)\n",
    "\n",
    "    print('TPB energy: {}'.format(energy_TPB))\n",
    "    print('Relative error: {:.3f} %'.format(relative_TPB * 100))\n",
    "    \n",
    "    try:\n",
    "        time = sum((job.time_per_step()['COMPLETED'] - job.time_per_step()['RUNNING']).total_seconds() for job in jobs_TPB)\n",
    "        print(f'Simulation time {time} s')\n",
    "    except KeyError:\n",
    "        print('WTF IBMQ?')\n",
    "\n",
    "    save_data(energy_TPB, method)"
   ]
  },
  {
   "cell_type": "code",
   "execution_count": 23,
   "id": "245f59f5-e542-4d8b-8b93-c3c5c789899c",
   "metadata": {
    "execution": {
     "iopub.execute_input": "2022-06-09T05:27:53.912542Z",
     "iopub.status.busy": "2022-06-09T05:27:53.912346Z",
     "iopub.status.idle": "2022-06-09T05:27:54.018117Z",
     "shell.execute_reply": "2022-06-09T05:27:54.017593Z",
     "shell.execute_reply.started": "2022-06-09T05:27:53.912524Z"
    },
    "tags": [],
    "pycharm": {
     "name": "#%%\n"
    }
   },
   "outputs": [
    {
     "data": {
      "image/png": "[encoded data removed]",
      "text/plain": [
       "<Figure size 432x288 with 1 Axes>"
      ]
     },
     "metadata": {
      "needs_background": "light"
     },
     "output_type": "display_data"
    }
   ],
   "source": [
    "fig, ax = plt.subplots()\n",
    "\n",
    "data = np.array(energies_TPB_temp)\n",
    "x = np.arange(1, len(data) + 1)\n",
    "mask = data > 0\n",
    "\n",
    "ax.plot(x, np.cumsum(data), 'r')\n",
    "ax.hlines(energy_exact, 1, len(data) + 1, color='k', label='Exact')\n",
    "ax.hlines(sum(data), 1, len(data) + 1, color='r', ls='--', label='Noisy simulation')\n",
    "\n",
    "# ax.plot(x, np.abs(data))\n",
    "\n",
    "# ax.bar(x[mask], np.abs(data)[mask], width=1, color='b', label=r'$E_i>0$')\n",
    "# ax.bar(x[~mask], np.abs(data)[~mask], width=1, color='r', label=r'$E_i\\leq0$')\n",
    "\n",
    "ax.set_xlim(-1, len(data) + 1)\n",
    "ax.set_xlabel('circuits')\n",
    "# ax.set_ylabel(r'$|E_i|$ [Ha]')\n",
    "ax.set_ylabel(r'$\\sum_{i}^n E_i$ [Ha]')\n",
    "\n",
    "# ax.set_yscale('log')\n",
    "\n",
    "ax.legend(loc=4)\n",
    "ax.set_title(f'{method} / {molecule_name}');"
   ]
  },
  {
   "cell_type": "markdown",
   "id": "decf7b5c-d934-4118-92b1-b6ce9cd72466",
   "metadata": {
    "pycharm": {
     "name": "#%% md\n"
    },
    "tags": []
   },
   "source": [
    "# EM"
   ]
  },
  {
   "cell_type": "code",
   "execution_count": 24,
   "id": "9c2029bb-6c83-44a1-bd4e-974daf145bf8",
   "metadata": {
    "execution": {
     "iopub.execute_input": "2022-06-09T05:27:54.018739Z",
     "iopub.status.busy": "2022-06-09T05:27:54.018592Z",
     "iopub.status.idle": "2022-06-09T05:27:54.104156Z",
     "shell.execute_reply": "2022-06-09T05:27:54.103655Z",
     "shell.execute_reply.started": "2022-06-09T05:27:54.018725Z"
    },
    "pycharm": {
     "name": "#%%\n"
    },
    "tags": []
   },
   "outputs": [
    {
     "name": "stdout",
     "output_type": "stream",
     "text": [
      "Number of groups 758\n"
     ]
    }
   ],
   "source": [
    "temp = load_grouping_data(molecule_name, 'EM')\n",
    "\n",
    "if temp is not None:\n",
    "    Groups, Measurements, layout = temp\n",
    "else:\n",
    "    Groups, Measurements, layout = groupingWithOrder(paulis, connected=True, print_progress=True)\n",
    "\n",
    "missing = []\n",
    "for i in range(np.max(np.array(WC_device)) + 1):\n",
    "    if i not in layout:\n",
    "        missing.append(i)    \n",
    "    \n",
    "print('Number of groups', len(Groups))"
   ]
  },
  {
   "cell_type": "code",
   "execution_count": null,
   "id": "c02c9924-6614-4f60-a189-67d8ec8ae84a",
   "metadata": {
    "execution": {
     "iopub.execute_input": "2022-06-09T05:27:54.105266Z",
     "iopub.status.busy": "2022-06-09T05:27:54.105115Z"
    },
    "pycharm": {
     "name": "#%%\n"
    },
    "tags": []
   },
   "outputs": [
    {
     "data": {
      "application/vnd.jupyter.widget-view+json": {
       "model_id": "dae850f0948b4f17b9d0cfdc70b50498",
       "version_major": 2,
       "version_minor": 0
      },
      "text/plain": [
       "Jobs completed:   0%|          | 0/31 [00:00<?, ?it/s]"
      ]
     },
     "metadata": {},
     "output_type": "display_data"
    },
    {
     "data": {
      "application/vnd.jupyter.widget-view+json": {
       "model_id": "4de48a443dd74842a2be1ede4fe1b1d7",
       "version_major": 2,
       "version_minor": 0
      },
      "text/plain": [
       "Computing energy:   0%|          | 0/758 [00:00<?, ?it/s]"
      ]
     },
     "metadata": {},
     "output_type": "display_data"
    },
    {
     "name": "stdout",
     "output_type": "stream",
     "text": [
      "EM energy: -16.043297669688386\n",
      "Relative error: 40.491 %\n",
      "Simulation time 193396.604 s\n"
     ]
    },
    {
     "data": {
      "application/vnd.jupyter.widget-view+json": {
       "model_id": "941a8abe428a46c2ac6d62e1d6a4c6a9",
       "version_major": 2,
       "version_minor": 0
      },
      "text/plain": [
       "Jobs completed:   0%|          | 0/31 [00:00<?, ?it/s]"
      ]
     },
     "metadata": {},
     "output_type": "display_data"
    },
    {
     "data": {
      "application/vnd.jupyter.widget-view+json": {
       "model_id": "8e16c02486f642298c7ef3aae42a3fbb",
       "version_major": 2,
       "version_minor": 0
      },
      "text/plain": [
       "Computing energy:   0%|          | 0/758 [00:00<?, ?it/s]"
      ]
     },
     "metadata": {},
     "output_type": "display_data"
    },
    {
     "name": "stdout",
     "output_type": "stream",
     "text": [
      "EM energy: -16.29028098333063\n",
      "Relative error: 42.654 %\n",
      "Simulation time 171840.26700000005 s\n"
     ]
    },
    {
     "data": {
      "application/vnd.jupyter.widget-view+json": {
       "model_id": "ebfba81fb1e049bfa2a27d6bfdd02411",
       "version_major": 2,
       "version_minor": 0
      },
      "text/plain": [
       "Jobs completed:   0%|          | 0/31 [00:00<?, ?it/s]"
      ]
     },
     "metadata": {},
     "output_type": "display_data"
    },
    {
     "data": {
      "application/vnd.jupyter.widget-view+json": {
       "model_id": "59bb6c6f40404acda7bbf8baa420a787",
       "version_major": 2,
       "version_minor": 0
      },
      "text/plain": [
       "Computing energy:   0%|          | 0/758 [00:00<?, ?it/s]"
      ]
     },
     "metadata": {},
     "output_type": "display_data"
    },
    {
     "name": "stdout",
     "output_type": "stream",
     "text": [
      "EM energy: -15.612897409990513\n",
      "Relative error: 36.722 %\n",
      "Simulation time 174222.75300000003 s\n"
     ]
    },
    {
     "data": {
      "application/vnd.jupyter.widget-view+json": {
       "model_id": "d7feb3dfc9444bae8c36702df34e426f",
       "version_major": 2,
       "version_minor": 0
      },
      "text/plain": [
       "Jobs completed:   0%|          | 0/31 [00:00<?, ?it/s]"
      ]
     },
     "metadata": {},
     "output_type": "display_data"
    },
    {
     "data": {
      "application/vnd.jupyter.widget-view+json": {
       "model_id": "d51e93fb1dd0418fab184c59c941683a",
       "version_major": 2,
       "version_minor": 0
      },
      "text/plain": [
       "Computing energy:   0%|          | 0/758 [00:00<?, ?it/s]"
      ]
     },
     "metadata": {},
     "output_type": "display_data"
    },
    {
     "name": "stdout",
     "output_type": "stream",
     "text": [
      "EM energy: -15.636802452634198\n",
      "Relative error: 36.932 %\n",
      "Simulation time 196758.60399999996 s\n"
     ]
    },
    {
     "data": {
      "application/vnd.jupyter.widget-view+json": {
       "model_id": "e9eae9ce73d0482bbc89034d4691b5a2",
       "version_major": 2,
       "version_minor": 0
      },
      "text/plain": [
       "Jobs completed:   0%|          | 0/31 [00:00<?, ?it/s]"
      ]
     },
     "metadata": {},
     "output_type": "display_data"
    }
   ],
   "source": [
    "method = 'EM'\n",
    "\n",
    "n_repeats = 5\n",
    "\n",
    "for _ in range(n_repeats):\n",
    "    jobs_EM, energy_EM, energies_EM_temp = compute_energy_sparse(Groups, Measurements, method, layout=layout, n_chunks=shots_EM[molecule_name], return_energy_temp=True)\n",
    "    relative_EM= np.abs((energy_EM - energy_exact) / energy_exact)\n",
    "\n",
    "    print('EM energy: {}'.format(energy_EM))\n",
    "    print('Relative error: {:.3f} %'.format(relative_EM * 100))\n",
    "    \n",
    "    try:\n",
    "        time = sum((job.time_per_step()['COMPLETED'] - job.time_per_step()['RUNNING']).total_seconds() for job in jobs_EM)\n",
    "        print(f'Simulation time {time} s')\n",
    "    except KeyError:\n",
    "        print('WTF IBMQ?')\n",
    "\n",
    "    save_data(energy_EM, method)"
   ]
  },
  {
   "cell_type": "code",
   "execution_count": null,
   "id": "81498c0d-4b3b-46da-a8f1-b0835714ecc1",
   "metadata": {
    "tags": [],
    "pycharm": {
     "name": "#%%\n"
    }
   },
   "outputs": [],
   "source": [
    "fig, ax = plt.subplots()\n",
    "\n",
    "data = np.array(energies_EM_temp)\n",
    "x = np.arange(1, len(data) + 1)\n",
    "mask = data > 0\n",
    "\n",
    "ax.plot(x, np.cumsum(data), 'r')\n",
    "ax.hlines(energy_exact, 1, len(data) + 1, color='k', label='Exact')\n",
    "ax.hlines(sum(data), 1, len(data) + 1, color='r', ls='--', label='Noisy simulation')\n",
    "\n",
    "# ax.plot(x, np.abs(data))\n",
    "\n",
    "# ax.bar(x[mask], np.abs(data)[mask], width=1, color='b', label=r'$E_i>0$')\n",
    "# ax.bar(x[~mask], np.abs(data)[~mask], width=1, color='r', label=r'$E_i\\leq0$')\n",
    "\n",
    "ax.set_xlim(-1, len(data) + 1)\n",
    "ax.set_xlabel('circuits')\n",
    "# ax.set_ylabel(r'$|E_i|$ [Ha]')\n",
    "ax.set_ylabel(r'$\\sum_{i}^n E_i$ [Ha]')\n",
    "\n",
    "# ax.set_yscale('log')\n",
    "\n",
    "ax.legend(loc=4)\n",
    "ax.set_title(f'{method} / {molecule_name}');"
   ]
  },
  {
   "cell_type": "markdown",
   "id": "074933a7-641e-44fa-b2d4-91d8e15cf898",
   "metadata": {
    "pycharm": {
     "name": "#%% md\n"
    },
    "tags": []
   },
   "source": [
    "# HEEM"
   ]
  },
  {
   "cell_type": "code",
   "execution_count": null,
   "id": "87dce716-6a03-447a-b590-9eb8aa154f31",
   "metadata": {
    "pycharm": {
     "name": "#%%\n"
    },
    "tags": []
   },
   "outputs": [],
   "source": [
    "temp = load_grouping_data(molecule_name, 'HEEM')\n",
    "\n",
    "if temp is not None:\n",
    "    Groups, Measurements, layout = temp\n",
    "else:\n",
    "    Groups, Measurements, layout = groupingWithOrder(paulis, G_device, connected=True, print_progress=True)\n",
    "\n",
    "missing = []\n",
    "for i in range(np.max(np.array(WC_device)) + 1):\n",
    "    if i not in layout:\n",
    "        missing.append(i)    \n",
    "\n",
    "print('Number of groups', len(Groups))"
   ]
  },
  {
   "cell_type": "code",
   "execution_count": null,
   "id": "11050b1e-1fb1-4539-873e-ed27ca650a35",
   "metadata": {
    "pycharm": {
     "name": "#%%\n"
    },
    "tags": []
   },
   "outputs": [],
   "source": [
    "method = 'HEEM'\n",
    "\n",
    "n_repeats = 5\n",
    "\n",
    "for _ in range(n_repeats):\n",
    "    jobs_HEEM, energy_HEEM, energies_HEEM_temp = compute_energy_sparse(Groups, Measurements, method, n_chunks=shots_HEEM[molecule_name], layout=layout, return_energy_temp=True)\n",
    "    relative_HEEM = np.abs((energy_HEEM - energy_exact) / energy_exact)\n",
    "\n",
    "    print('HEEM energy: {}'.format(energy_HEEM))\n",
    "    print('Relative error: {:.3f} %'.format(relative_HEEM * 100))\n",
    "    \n",
    "    try:\n",
    "        time = sum((job.time_per_step()['COMPLETED'] - job.time_per_step()['RUNNING']).total_seconds() for job in jobs_HEEM)\n",
    "        print(f'Simulation time {time} s')\n",
    "    except KeyError:\n",
    "        print('WTF IBMQ?')\n",
    "\n",
    "    save_data(energy_HEEM, method)"
   ]
  },
  {
   "cell_type": "code",
   "execution_count": null,
   "id": "16a56fc3-f84c-4d62-8f4f-938b85021dd3",
   "metadata": {
    "tags": [],
    "pycharm": {
     "name": "#%%\n"
    }
   },
   "outputs": [],
   "source": [
    "fig, ax = plt.subplots()\n",
    "\n",
    "data = np.array(energies_HEEM_temp)\n",
    "x = np.arange(1, len(data) + 1)\n",
    "mask = data > 0\n",
    "\n",
    "ax.plot(x, np.cumsum(data), 'r')\n",
    "ax.hlines(energy_exact, 1, len(data) + 1, color='k', label='Exact')\n",
    "ax.hlines(sum(data), 1, len(data) + 1, color='r', ls='--', label='Noisy simulation')\n",
    "\n",
    "# ax.plot(x, np.abs(data))\n",
    "\n",
    "# ax.bar(x[mask], np.abs(data)[mask], width=1, color='b', label=r'$E_i>0$')\n",
    "# ax.bar(x[~mask], np.abs(data)[~mask], width=1, color='r', label=r'$E_i\\leq0$')\n",
    "\n",
    "ax.set_xlim(1, len(data))\n",
    "ax.set_xlabel('circuits')\n",
    "# ax.set_ylabel(r'$|E_i|$ [Ha]')\n",
    "ax.set_ylabel(r'$\\sum_{i}^n E_i$ [Ha]')\n",
    "\n",
    "# ax.set_yscale('log')\n",
    "\n",
    "ax.legend(loc=4)\n",
    "ax.set_title(f'{method} / {molecule_name}');"
   ]
  }
 ],
 "metadata": {
  "kernelspec": {
   "display_name": "Python 3 (ipykernel)",
   "language": "python",
   "name": "python3"
  },
  "language_info": {
   "codemirror_mode": {
    "name": "ipython",
    "version": 3
   },
   "file_extension": ".py",
   "mimetype": "text/x-python",
   "name": "python",
   "nbconvert_exporter": "python",
   "pygments_lexer": "ipython3",
   "version": "3.9.7"
  }
 },
 "nbformat": 4,
 "nbformat_minor": 5
}