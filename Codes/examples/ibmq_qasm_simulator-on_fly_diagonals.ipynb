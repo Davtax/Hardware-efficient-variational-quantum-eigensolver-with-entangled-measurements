{
 "cells": [
  {
   "cell_type": "code",
   "execution_count": 1,
   "id": "45c586e5-af22-40e0-a44e-fd16db787831",
   "metadata": {
    "execution": {
     "iopub.execute_input": "2022-05-26T15:46:26.269736Z",
     "iopub.status.busy": "2022-05-26T15:46:26.269463Z",
     "iopub.status.idle": "2022-05-26T15:46:27.232607Z",
     "shell.execute_reply": "2022-05-26T15:46:27.232176Z",
     "shell.execute_reply.started": "2022-05-26T15:46:26.269694Z"
    },
    "pycharm": {
     "name": "#%%\n"
    },
    "tags": []
   },
   "outputs": [],
   "source": [
    "import sys\n",
    "import warnings\n",
    "sys.path.append('../')\n",
    "warnings.filterwarnings('ignore')\n",
    "\n",
    "%matplotlib widget\n",
    "%load_ext autoreload\n",
    "%autoreload 1\n",
    "%aimport utils, GroupingAlgorithm, HEEM_VQE_Functions"
   ]
  },
  {
   "cell_type": "code",
   "execution_count": 2,
   "id": "9236dd35-e3fa-436f-a731-3f2b642d212f",
   "metadata": {
    "execution": {
     "iopub.execute_input": "2022-05-26T15:46:27.233606Z",
     "iopub.status.busy": "2022-05-26T15:46:27.233412Z",
     "iopub.status.idle": "2022-05-26T15:46:27.255262Z",
     "shell.execute_reply": "2022-05-26T15:46:27.254837Z",
     "shell.execute_reply.started": "2022-05-26T15:46:27.233593Z"
    },
    "pycharm": {
     "name": "#%%\n"
    },
    "tags": []
   },
   "outputs": [],
   "source": [
    "import numpy as np\n",
    "import matplotlib.pyplot as plt\n",
    "import networkx as nx\n",
    "from tqdm.auto import tqdm\n",
    "from os.path import isfile\n",
    "\n",
    "from qiskit import IBMQ, Aer, QuantumCircuit, QuantumRegister, ClassicalRegister, transpile, execute\n",
    "from qiskit.providers.aer import QasmSimulator\n",
    "from qiskit.providers.aer.noise import NoiseModel\n",
    "from qiskit.utils.quantum_instance import QuantumInstance\n",
    "from qiskit.ignis.verification import get_ghz_simple\n",
    "from qiskit.compiler import transpile\n",
    "from qiskit.tools.monitor import job_monitor\n",
    "from qiskit.opflow.state_fns import CircuitStateFn\n",
    "from qiskit.providers.aer.extensions.snapshot_statevector import *\n",
    "\n",
    "from utils import get_backend_connectivity, molecules, Label2Chain, from_string_to_numbers, load_grouping_data, current_time, load_data_IBMQ, send_ibmq_parallel\n",
    "from GroupingAlgorithm import groupingWithOrder, TPBgrouping\n",
    "from HEEM_VQE_Functions import measure_circuit_factor, probability2expected_binary, post_process_results, probability2expected_parallel, post_process_results_2, post_process_results_3"
   ]
  },
  {
   "cell_type": "code",
   "execution_count": 3,
   "id": "2be63308-947a-4edc-a05a-0b0de13bc999",
   "metadata": {
    "execution": {
     "iopub.execute_input": "2022-05-26T15:46:28.168306Z",
     "iopub.status.busy": "2022-05-26T15:46:28.167905Z",
     "iopub.status.idle": "2022-05-26T15:46:28.174832Z",
     "shell.execute_reply": "2022-05-26T15:46:28.174426Z",
     "shell.execute_reply.started": "2022-05-26T15:46:28.168289Z"
    },
    "tags": []
   },
   "outputs": [],
   "source": [
    "def compute_energy(Groups, Measurements, method, n_chunks=10, layout=None, return_energy_temp=False):\n",
    "    \n",
    "    circuits = [measure_circuit_factor(measurement, n_qubits, measure_all=False).compose(state_0, front=True) for measurement\n",
    "                 in Measurements]\n",
    "    \n",
    "    kwards_run = {'coupling_map': coupling_map, 'noise_model': noise_model, 'basis_gates': basis_gates, 'shots': NUM_SHOTS // len(Groups)}\n",
    "    \n",
    "    if layout is not None:\n",
    "        kwards_run['initial_layout'] = layout[::-1]\n",
    "    \n",
    "    jobs = send_ibmq_parallel(backed_calculations, n_chunks, circuits, job_tag=[molecule_name, method], verbose=False,\n",
    "                              progress_bar=True, output_file='progress_' + method + '.txt', kwards_run=kwards_run)\n",
    "\n",
    "    counts = []\n",
    "    \n",
    "    for job in jobs:\n",
    "        counts += job.result().get_counts()\n",
    "    \n",
    "    energy_temp = []\n",
    "    pbar = tqdm(range(len(counts)), desc='Computing energy')\n",
    "    for j in pbar:\n",
    "        # probabilities = post_process_results(counts[j], circuits[j].num_clbits, kwards_run['shots'])\n",
    "        probabilities = post_process_results_2(counts[j], circuits[j].num_clbits)\n",
    "        \n",
    "        diagonals, factors = probability2expected_binary(coeffs, labels, [Groups[j]], [Measurements[j]], shift=False)\n",
    "        diagonals = [(~diagonal * 2 - 1).astype('int8') for diagonal in diagonals[0]]\n",
    "        \n",
    "        # energy_temp.append(np.sum((diagonals * np.array(factors[0])[:, None]) @ probabilities))\n",
    "        energy_temp.append(np.sum((diagonals * np.array(factors[0])[:, None]) @ probabilities) / kwards_run['shots'])\n",
    "\n",
    "    returns = [jobs, sum(energy_temp)]\n",
    "    \n",
    "    if return_energy_temp:\n",
    "        returns.append(energy_temp)\n",
    "        \n",
    "    return returns"
   ]
  },
  {
   "cell_type": "code",
   "execution_count": 63,
   "id": "65d8a98b-75d6-43e5-a635-c48116120463",
   "metadata": {
    "execution": {
     "iopub.execute_input": "2022-05-26T16:22:51.730179Z",
     "iopub.status.busy": "2022-05-26T16:22:51.729878Z",
     "iopub.status.idle": "2022-05-26T16:22:51.737451Z",
     "shell.execute_reply": "2022-05-26T16:22:51.736970Z",
     "shell.execute_reply.started": "2022-05-26T16:22:51.730165Z"
    },
    "tags": []
   },
   "outputs": [],
   "source": [
    "def compute_energy_sparse(Groups, Measurements, method, n_chunks=10, layout=None, return_energy_temp=False):\n",
    "    \n",
    "    circuits = [measure_circuit_factor(measurement, n_qubits, measure_all=False).compose(state_0, front=True) for measurement\n",
    "                 in Measurements]\n",
    "    \n",
    "    # circuits = transpile(circuits, backend)\n",
    "    \n",
    "    kwards_run = {'coupling_map': coupling_map, 'noise_model': noise_model, 'basis_gates': basis_gates, 'shots': NUM_SHOTS // len(Groups)}\n",
    "    \n",
    "    if layout is not None:\n",
    "        kwards_run['initial_layout'] = layout[::-1]\n",
    "    \n",
    "    jobs = send_ibmq_parallel(backed_calculations, n_chunks, circuits, job_tag=[molecule_name, method], verbose=False,\n",
    "                              progress_bar=True, output_file='progress_' + method + '.txt', kwards_run=kwards_run)\n",
    "\n",
    "    counts = []\n",
    "    \n",
    "    for job in jobs:\n",
    "        counts += job.result().get_counts()\n",
    "    \n",
    "    energy_temp = []\n",
    "    pbar = tqdm(range(len(counts)), desc='Computing energy')\n",
    "    for j in pbar:\n",
    "        counts_indices, counts_values = post_process_results_3(counts[j])\n",
    "\n",
    "        diagonals, factors = probability2expected_binary(coeffs, labels, [Groups[j]], [Measurements[j]], shift=False)\n",
    "        diagonals = [(~diagonal * 2 - 1).astype('int8') for diagonal in diagonals[0][:, counts_indices]]\n",
    "\n",
    "        energy_temp.append(np.sum((diagonals * np.array(factors[0])[:, None]) * counts_values[None, :]) / kwards_run['shots'])\n",
    "\n",
    "    returns = [jobs, sum(energy_temp)]\n",
    "    \n",
    "    if return_energy_temp:\n",
    "        returns.append(energy_temp)\n",
    "        \n",
    "    return returns"
   ]
  },
  {
   "cell_type": "code",
   "execution_count": 5,
   "id": "ef353e48-f105-4518-8c22-c7f5aae9ab4d",
   "metadata": {
    "execution": {
     "iopub.execute_input": "2022-05-26T15:46:31.036145Z",
     "iopub.status.busy": "2022-05-26T15:46:31.035963Z",
     "iopub.status.idle": "2022-05-26T15:46:31.040471Z",
     "shell.execute_reply": "2022-05-26T15:46:31.040069Z",
     "shell.execute_reply.started": "2022-05-26T15:46:31.036132Z"
    },
    "tags": []
   },
   "outputs": [],
   "source": [
    "def save_data(energy, method):\n",
    "    file = '../data/energies/' + initial_state +'/' + molecule_name + '_' + method + '.npy'\n",
    "    if isfile(file):\n",
    "        data = np.load(file)\n",
    "    else:\n",
    "        data = np.array([])\n",
    "    \n",
    "    data = np.append(data, energy)\n",
    "    np.save(file, data)"
   ]
  },
  {
   "cell_type": "code",
   "execution_count": 6,
   "id": "d4dc7ac2-ba99-4a52-99b7-58a9e85f3bc6",
   "metadata": {
    "execution": {
     "iopub.execute_input": "2022-05-26T15:46:31.608695Z",
     "iopub.status.busy": "2022-05-26T15:46:31.608442Z",
     "iopub.status.idle": "2022-05-26T15:46:37.494895Z",
     "shell.execute_reply": "2022-05-26T15:46:37.494488Z",
     "shell.execute_reply.started": "2022-05-26T15:46:31.608668Z"
    },
    "pycharm": {
     "name": "#%%\n"
    },
    "tags": []
   },
   "outputs": [],
   "source": [
    "with warnings.catch_warnings():\n",
    "    warnings.simplefilter(\"ignore\")\n",
    "    IBMQ.load_account()\n",
    "\n",
    "provider_main = IBMQ.get_provider(hub='ibm-q', group='open', project='main')\n",
    "provider_CSIC = IBMQ.get_provider(hub='ibm-q-csic', group='internal', project='iff-csic')\n",
    "\n",
    "name_backend = 'ibmq_montreal'\n",
    "backend = provider_CSIC.get_backend(name_backend)\n",
    "WC_device = get_backend_connectivity(backend)\n",
    "\n",
    "G_device = nx.Graph()\n",
    "G_device.add_edges_from(WC_device)"
   ]
  },
  {
   "cell_type": "code",
   "execution_count": 7,
   "id": "805bf7a5-238f-448d-a890-01229945a78b",
   "metadata": {
    "execution": {
     "iopub.execute_input": "2022-05-26T15:46:42.459641Z",
     "iopub.status.busy": "2022-05-26T15:46:42.459325Z",
     "iopub.status.idle": "2022-05-26T15:46:44.445276Z",
     "shell.execute_reply": "2022-05-26T15:46:44.444864Z",
     "shell.execute_reply.started": "2022-05-26T15:46:42.459622Z"
    },
    "pycharm": {
     "name": "#%%\n"
    },
    "tags": []
   },
   "outputs": [],
   "source": [
    "NUM_SHOTS = 2 ** 14\n",
    "\n",
    "backend_hpc = provider_main.get_backend('ibmq_qasm_simulator')\n",
    "backed_simulation = provider_main.get_backend('simulator_statevector')\n",
    "simulator = Aer.get_backend('aer_simulator')  # Backend for simulation\n",
    "\n",
    "device = QasmSimulator.from_backend(backend)\n",
    "coupling_map = device.configuration().coupling_map\n",
    "noise_model = NoiseModel.from_backend(device)\n",
    "basis_gates = noise_model.basis_gates\n",
    "\n",
    "backed_calculations = backend_hpc"
   ]
  },
  {
   "cell_type": "code",
   "execution_count": 100,
   "id": "94f85aed",
   "metadata": {
    "collapsed": false,
    "execution": {
     "iopub.execute_input": "2022-05-30T07:37:17.532608Z",
     "iopub.status.busy": "2022-05-30T07:37:17.532120Z",
     "iopub.status.idle": "2022-05-30T07:37:17.663283Z",
     "shell.execute_reply": "2022-05-30T07:37:17.662825Z",
     "shell.execute_reply.started": "2022-05-30T07:37:17.532564Z"
    },
    "jupyter": {
     "outputs_hidden": false
    },
    "pycharm": {
     "name": "#%%\n"
    },
    "tags": []
   },
   "outputs": [
    {
     "name": "stdout",
     "output_type": "stream",
     "text": [
      "Molecule loaded\n",
      "100 total Pauli strings\n",
      "4 qubits\n"
     ]
    }
   ],
   "source": [
    "molecule_name = 'LiH'\n",
    "initial_state = '0xN'\n",
    "\n",
    "try:\n",
    "    qubit_op = molecules(molecule_name)\n",
    "    paulis, coeffs, labels = Label2Chain(qubit_op)\n",
    "except AttributeError:\n",
    "    paulis, coeffs, labels = np.load('../data/molecules_qubitop_list.npy', allow_pickle=True).item()[molecule_name]\n",
    "\n",
    "n_qubits = len(paulis[0])\n",
    "state_0 = QuantumCircuit(n_qubits)\n",
    "# state_0 = state_0.compose(get_ghz_simple(n_qubits, measure=False))  # Initialized in the GHZ state\n",
    "\n",
    "print(f'{len(paulis)} total Pauli strings')\n",
    "print(f'{n_qubits} qubits')"
   ]
  },
  {
   "cell_type": "markdown",
   "id": "ffc87f02-7a80-4c13-8bf9-9c9c1e6f7bf8",
   "metadata": {
    "tags": []
   },
   "source": [
    "# Exact analytical"
   ]
  },
  {
   "cell_type": "markdown",
   "id": "6d17b689-a954-4a22-8da0-ec13719155c4",
   "metadata": {},
   "source": [
    "## $|0\\rangle^{\\otimes N}$"
   ]
  },
  {
   "cell_type": "code",
   "execution_count": 101,
   "id": "6de095b7-3ea0-4587-9150-f80f154f0361",
   "metadata": {
    "execution": {
     "iopub.execute_input": "2022-05-30T07:37:19.345734Z",
     "iopub.status.busy": "2022-05-30T07:37:19.345313Z",
     "iopub.status.idle": "2022-05-30T07:37:19.350570Z",
     "shell.execute_reply": "2022-05-30T07:37:19.350140Z",
     "shell.execute_reply.started": "2022-05-30T07:37:19.345716Z"
    },
    "tags": []
   },
   "outputs": [
    {
     "name": "stdout",
     "output_type": "stream",
     "text": [
      "Exact energy: -0.5510251881566791\n"
     ]
    }
   ],
   "source": [
    "if initial_state == '0xN':\n",
    "    energy_exact = 0\n",
    "\n",
    "    for i in range(len(labels)):\n",
    "        label = labels[i]\n",
    "        if 'X' not in label and 'Y' not in label:\n",
    "            energy_exact += coeffs[i]\n",
    "    print('Exact energy: {}'.format(energy_exact))"
   ]
  },
  {
   "cell_type": "markdown",
   "id": "eea7dfde-1d4c-414b-940d-7090153201f0",
   "metadata": {
    "tags": []
   },
   "source": [
    "## $|\\mathrm{GHZ}\\rangle$"
   ]
  },
  {
   "cell_type": "code",
   "execution_count": 106,
   "id": "1b3c93c7-a72c-4d02-b65a-bb8b190f7511",
   "metadata": {
    "execution": {
     "iopub.execute_input": "2022-05-25T07:21:51.804456Z",
     "iopub.status.busy": "2022-05-25T07:21:51.804219Z",
     "iopub.status.idle": "2022-05-25T07:21:51.812952Z",
     "shell.execute_reply": "2022-05-25T07:21:51.812515Z",
     "shell.execute_reply.started": "2022-05-25T07:21:51.804442Z"
    },
    "tags": []
   },
   "outputs": [],
   "source": [
    "if initial_state == 'GHZ':\n",
    "    diagonals = {'I': np.array([1, 0, 0, 1]), 'X': np.array([0, 1, 1, 0]),\n",
    "                 'Y': np.array([0, 1j, -1j, 0]), 'Z': np.array([1, 0, 0, -1])}\n",
    "\n",
    "    energy_exact = 0\n",
    "    for label, coeff in zip(labels, coeffs):\n",
    "        diagonal = np.ones(4, dtype=complex)\n",
    "        for op in label:\n",
    "            diagonal *= diagonals[op]\n",
    "        energy_exact += coeff * np.sum(diagonal) / 2\n",
    "\n",
    "    print('Exact energy: {}'.format(energy_exact.real))"
   ]
  },
  {
   "cell_type": "markdown",
   "id": "8d9d2d5b",
   "metadata": {
    "jp-MarkdownHeadingCollapsed": true,
    "pycharm": {
     "name": "#%% md\n"
    },
    "tags": []
   },
   "source": [
    "# Exact (Numerical)"
   ]
  },
  {
   "cell_type": "markdown",
   "id": "59da1be4-475e-4714-b2c9-4809a81ce4fe",
   "metadata": {
    "execution": {
     "iopub.execute_input": "2022-05-23T10:05:35.085068Z",
     "iopub.status.busy": "2022-05-23T10:05:35.084667Z",
     "iopub.status.idle": "2022-05-23T10:07:17.044664Z",
     "shell.execute_reply": "2022-05-23T10:07:17.044113Z",
     "shell.execute_reply.started": "2022-05-23T10:05:35.085053Z"
    },
    "pycharm": {
     "name": "#%%\n"
    },
    "tags": []
   },
   "source": [
    "psi = CircuitStateFn(state_0)\n",
    "energy_exact = psi.adjoint().compose(qubit_op).compose(psi).eval().real\n",
    "    \n",
    "print('Exact energy: {}'.format(energy_exact))"
   ]
  },
  {
   "cell_type": "markdown",
   "id": "0616a9a9",
   "metadata": {
    "jp-MarkdownHeadingCollapsed": true,
    "pycharm": {
     "name": "#%% md\n"
    },
    "tags": []
   },
   "source": [
    "# Exact (Simulation)"
   ]
  },
  {
   "cell_type": "code",
   "execution_count": 8,
   "id": "7cce5c7e",
   "metadata": {
    "collapsed": false,
    "execution": {
     "iopub.execute_input": "2022-05-23T12:35:19.453023Z",
     "iopub.status.busy": "2022-05-23T12:35:19.453023Z",
     "iopub.status.idle": "2022-05-23T12:35:20.324009Z",
     "shell.execute_reply": "2022-05-23T12:35:20.324009Z",
     "shell.execute_reply.started": "2022-05-23T12:35:19.453023Z"
    },
    "jupyter": {
     "outputs_hidden": false
    },
    "pycharm": {
     "name": "#%%\n"
    },
    "tags": []
   },
   "outputs": [
    {
     "name": "stdout",
     "output_type": "stream",
     "text": [
      "Data loaded\n",
      "Number of groups: 682\n"
     ]
    },
    {
     "name": "stderr",
     "output_type": "stream",
     "text": [
      "C:\\Users\\david\\anaconda3\\envs\\heem\\lib\\site-packages\\qiskit\\providers\\aer\\extensions\\snapshot_statevector.py:86: DeprecationWarning: The `SnapshotStatevector` instruction will be deprecated in thefuture. It has been superseded by the `SaveStatevector` instructions.\n",
      "  SnapshotStatevector(label, num_qubits=len(snapshot_register)),\n",
      "C:\\Users\\david\\anaconda3\\envs\\heem\\lib\\site-packages\\qiskit\\providers\\aer\\extensions\\snapshot_statevector.py:49: DeprecationWarning: The `Snapshot` instruction will be deprecated in the future. It has been superseded by the `SaveStatevector` instructions.\n",
      "  super().__init__(label, snapshot_type='statevector', num_qubits=num_qubits)\n"
     ]
    }
   ],
   "source": [
    "Groups, Measurements, _ = load_grouping_data(molecule_name, 'EM')\n",
    "# Groups, Measurements, _ = groupingWithOrder(paulis, connected=True, print_progress=True)\n",
    "print('Number of groups: {}'.format(len(Groups)))\n",
    "\n",
    "circuits_exact = []\n",
    "for j, measure in enumerate(Measurements):\n",
    "    circuit = measure_circuit_factor(measure, n_qubits, make_measurements=False)\n",
    "    circuit = circuit.compose(state_0, front=True)\n",
    "    # circuit.save_statevector()\n",
    "    circuit.snapshot_statevector('snapshot')\n",
    "    circuits_exact.append(circuit)"
   ]
  },
  {
   "cell_type": "code",
   "execution_count": 9,
   "id": "fc339dec-1a75-47da-b1b6-54ce7001cd8e",
   "metadata": {
    "execution": {
     "iopub.execute_input": "2022-05-23T12:35:20.392096Z",
     "iopub.status.busy": "2022-05-23T12:35:20.392096Z",
     "iopub.status.idle": "2022-05-23T12:35:20.433955Z",
     "shell.execute_reply": "2022-05-23T12:35:20.433955Z",
     "shell.execute_reply.started": "2022-05-23T12:35:20.392096Z"
    },
    "tags": []
   },
   "outputs": [
    {
     "name": "stdout",
     "output_type": "stream",
     "text": [
      "3.1510263929618767 3.0 4\n"
     ]
    }
   ],
   "source": [
    "depth = []\n",
    "for circuit in circuits_exact:\n",
    "    depth.append(circuit.depth())\n",
    "    \n",
    "print(np.average(depth), np.median(depth), np.max(depth))"
   ]
  },
  {
   "cell_type": "code",
   "execution_count": 10,
   "id": "5bb0b910",
   "metadata": {
    "collapsed": false,
    "execution": {
     "iopub.execute_input": "2022-05-23T12:35:22.184978Z",
     "iopub.status.busy": "2022-05-23T12:35:22.183974Z",
     "iopub.status.idle": "2022-05-23T12:35:22.192977Z",
     "shell.execute_reply": "2022-05-23T12:35:22.192977Z",
     "shell.execute_reply.started": "2022-05-23T12:35:22.184978Z"
    },
    "jupyter": {
     "outputs_hidden": false
    },
    "pycharm": {
     "name": "#%%\n"
    },
    "tags": []
   },
   "outputs": [],
   "source": [
    "n_max = 25\n",
    "\n",
    "if n_max == -1:\n",
    "    n_max = len(circuits_exact)\n",
    "n_runs = int(np.ceil(len(circuits_exact) / n_max))"
   ]
  },
  {
   "cell_type": "code",
   "execution_count": 27,
   "id": "2bcdbe7f-93ce-41fb-84cd-ce905d645995",
   "metadata": {
    "execution": {
     "iopub.execute_input": "2022-05-23T11:24:09.649205Z",
     "iopub.status.busy": "2022-05-23T11:24:09.649205Z",
     "iopub.status.idle": "2022-05-23T11:24:38.924131Z",
     "shell.execute_reply": "2022-05-23T11:24:38.924131Z",
     "shell.execute_reply.started": "2022-05-23T11:24:09.649205Z"
    },
    "tags": []
   },
   "outputs": [
    {
     "data": {
      "application/vnd.jupyter.widget-view+json": {
       "model_id": "0b7393bcb5474d66af64e5951c02ce39",
       "version_major": 2,
       "version_minor": 0
      },
      "text/plain": [
       "Jobs completed:   0%|          | 0/5 [00:00<?, ?it/s]"
      ]
     },
     "metadata": {},
     "output_type": "display_data"
    },
    {
     "name": "stdout",
     "output_type": "stream",
     "text": [
      "Job 1/5 sent to IBMQ\n",
      "Job 2/5 sent to IBMQ\n",
      "Job 3/5 sent to IBMQ\n",
      "Job 4/5 sent to IBMQ\n",
      "Job 5/5 sent to IBMQ\n"
     ]
    }
   ],
   "source": [
    "jobs = send_ibmq_parallel(backed_calculations, n_max, circuits_exact, job_tag=molecule_name, kwards_run={'shots': 1}, progress_bar=True)\n",
    "jobs_ids = [job.job_id() for job in jobs]\n",
    "\n",
    "np.save(molecule_name + '_exact_job_ids.npy', jobs_ids)"
   ]
  },
  {
   "cell_type": "code",
   "execution_count": 11,
   "id": "31608616",
   "metadata": {
    "collapsed": false,
    "execution": {
     "iopub.execute_input": "2022-05-23T12:35:24.615621Z",
     "iopub.status.busy": "2022-05-23T12:35:24.615621Z",
     "iopub.status.idle": "2022-05-23T12:35:24.623622Z",
     "shell.execute_reply": "2022-05-23T12:35:24.623622Z",
     "shell.execute_reply.started": "2022-05-23T12:35:24.615621Z"
    },
    "jupyter": {
     "outputs_hidden": false
    },
    "pycharm": {
     "name": "#%%\n"
    },
    "tags": []
   },
   "outputs": [],
   "source": [
    "jobs_ids = np.load(molecule_name + '_exact_job_ids.npy').tolist()"
   ]
  },
  {
   "cell_type": "code",
   "execution_count": 13,
   "id": "3c4c512b-5b03-4fd3-9c34-836e5e16b525",
   "metadata": {
    "execution": {
     "iopub.execute_input": "2022-05-23T12:49:19.819242Z",
     "iopub.status.busy": "2022-05-23T12:49:19.819242Z",
     "iopub.status.idle": "2022-05-23T16:01:36.440397Z",
     "shell.execute_reply": "2022-05-23T16:01:36.440397Z",
     "shell.execute_reply.started": "2022-05-23T12:49:19.819242Z"
    },
    "tags": []
   },
   "outputs": [
    {
     "data": {
      "application/vnd.jupyter.widget-view+json": {
       "model_id": "c7204d08afcc41559f5051b4acd6d708",
       "version_major": 2,
       "version_minor": 0
      },
      "text/plain": [
       "Computing exact energy:   0%|          | 0/28 [00:00<?, ?it/s]"
      ]
     },
     "metadata": {},
     "output_type": "display_data"
    },
    {
     "name": "stdout",
     "output_type": "stream",
     "text": [
      "data downloaded\n",
      "Loading data...\n"
     ]
    },
    {
     "data": {
      "application/vnd.jupyter.widget-view+json": {
       "model_id": "c0115e3acbbe4c148e222abed2945bb0",
       "version_major": 2,
       "version_minor": 0
      },
      "text/plain": [
       "Computing diagonal factors:   0%|          | 0/24 [00:00<?, ?it/s]"
      ]
     },
     "metadata": {},
     "output_type": "display_data"
    },
    {
     "ename": "KeyboardInterrupt",
     "evalue": "",
     "output_type": "error",
     "traceback": [
      "\u001b[1;31m---------------------------------------------------------------------------\u001b[0m",
      "\u001b[1;31mKeyboardInterrupt\u001b[0m                         Traceback (most recent call last)",
      "Input \u001b[1;32mIn [13]\u001b[0m, in \u001b[0;36m<cell line: 4>\u001b[1;34m()\u001b[0m\n\u001b[0;32m      7\u001b[0m initial \u001b[38;5;241m=\u001b[39m i \u001b[38;5;241m*\u001b[39m n_max\n\u001b[0;32m      8\u001b[0m final \u001b[38;5;241m=\u001b[39m \u001b[38;5;28mmin\u001b[39m(initial \u001b[38;5;241m+\u001b[39m n_max, \u001b[38;5;28mlen\u001b[39m(circuits_exact))\n\u001b[1;32m---> 10\u001b[0m temp \u001b[38;5;241m=\u001b[39m \u001b[43mprobability2expected_parallel\u001b[49m\u001b[43m(\u001b[49m\u001b[38;5;241;43m-\u001b[39;49m\u001b[38;5;241;43m1\u001b[39;49m\u001b[43m,\u001b[49m\u001b[43m \u001b[49m\u001b[43mcoeffs\u001b[49m\u001b[43m,\u001b[49m\u001b[43m \u001b[49m\u001b[43mlabels\u001b[49m\u001b[43m,\u001b[49m\u001b[43m \u001b[49m\u001b[43mGroups\u001b[49m\u001b[43m[\u001b[49m\u001b[43minitial\u001b[49m\u001b[43m:\u001b[49m\u001b[43mfinal\u001b[49m\u001b[43m]\u001b[49m\u001b[43m,\u001b[49m\u001b[43m \u001b[49m\u001b[43mMeasurements\u001b[49m\u001b[43m[\u001b[49m\u001b[43minitial\u001b[49m\u001b[43m:\u001b[49m\u001b[43mfinal\u001b[49m\u001b[43m]\u001b[49m\u001b[43m,\u001b[49m\u001b[43m \u001b[49m\u001b[43mshift\u001b[49m\u001b[38;5;241;43m=\u001b[39;49m\u001b[38;5;28;43;01mTrue\u001b[39;49;00m\u001b[43m,\u001b[49m\u001b[43m \u001b[49m\u001b[43mprint_progress\u001b[49m\u001b[38;5;241;43m=\u001b[39;49m\u001b[38;5;28;43;01mTrue\u001b[39;49;00m\u001b[43m)\u001b[49m\n\u001b[0;32m     11\u001b[0m diagonals \u001b[38;5;241m=\u001b[39m [x[\u001b[38;5;241m0\u001b[39m] \u001b[38;5;28;01mfor\u001b[39;00m x \u001b[38;5;129;01min\u001b[39;00m temp]\n\u001b[0;32m     12\u001b[0m factors \u001b[38;5;241m=\u001b[39m [x[\u001b[38;5;241m1\u001b[39m] \u001b[38;5;28;01mfor\u001b[39;00m x \u001b[38;5;129;01min\u001b[39;00m temp]\n",
      "File \u001b[1;32mD:\\OneDrive - UAM\\Projects\\HEEM\\Hardware-efficient-variational-quantum-eigensolver-with-entangled-measurements\\Codes\\examples\\..\\HEEM_VQE_Functions.py:497\u001b[0m, in \u001b[0;36mprobability2expected_parallel\u001b[1;34m(n_jobs, Pauli_weights, Pauli_labels, Groups, Measurements, shift, print_progress, binary)\u001b[0m\n\u001b[0;32m    495\u001b[0m \u001b[38;5;28;01mif\u001b[39;00m print_progress:\n\u001b[0;32m    496\u001b[0m     \u001b[38;5;28;01mwith\u001b[39;00m tqdm_joblib(tqdm(total\u001b[38;5;241m=\u001b[39mn_jobs, desc\u001b[38;5;241m=\u001b[39m\u001b[38;5;124m'\u001b[39m\u001b[38;5;124mComputing diagonal factors\u001b[39m\u001b[38;5;124m'\u001b[39m)) \u001b[38;5;28;01mas\u001b[39;00m _:\n\u001b[1;32m--> 497\u001b[0m         results \u001b[38;5;241m=\u001b[39m \u001b[43mParallel\u001b[49m\u001b[43m(\u001b[49m\u001b[43mn_jobs\u001b[49m\u001b[38;5;241;43m=\u001b[39;49m\u001b[43mn_jobs\u001b[49m\u001b[43m)\u001b[49m\u001b[43m(\u001b[49m\n\u001b[0;32m    498\u001b[0m \u001b[43m            \u001b[49m\u001b[43mdelayed\u001b[49m\u001b[43m(\u001b[49m\u001b[43mp2e_fun\u001b[49m\u001b[43m)\u001b[49m\u001b[43m(\u001b[49m\u001b[43mPauli_weights\u001b[49m\u001b[43m,\u001b[49m\u001b[43m \u001b[49m\u001b[43mPauli_labels\u001b[49m\u001b[43m,\u001b[49m\u001b[43m \u001b[49m\u001b[43mGroups_batchs\u001b[49m\u001b[43m[\u001b[49m\u001b[43mj\u001b[49m\u001b[43m]\u001b[49m\u001b[43m,\u001b[49m\u001b[43m \u001b[49m\u001b[43mMeasurements_batchs\u001b[49m\u001b[43m[\u001b[49m\u001b[43mj\u001b[49m\u001b[43m]\u001b[49m\u001b[43m,\u001b[49m\u001b[43m \u001b[49m\u001b[43mshift\u001b[49m\u001b[38;5;241;43m=\u001b[39;49m\u001b[43mshift\u001b[49m\u001b[43m)\u001b[49m\u001b[43m \u001b[49m\u001b[38;5;28;43;01mfor\u001b[39;49;00m\n\u001b[0;32m    499\u001b[0m \u001b[43m            \u001b[49m\u001b[43mj\u001b[49m\u001b[43m \u001b[49m\u001b[38;5;129;43;01min\u001b[39;49;00m\u001b[43m \u001b[49m\u001b[38;5;28;43mrange\u001b[39;49m\u001b[43m(\u001b[49m\u001b[43mn_jobs\u001b[49m\u001b[43m)\u001b[49m\u001b[43m)\u001b[49m\n\u001b[0;32m    500\u001b[0m \u001b[38;5;28;01melse\u001b[39;00m:\n\u001b[0;32m    501\u001b[0m     results \u001b[38;5;241m=\u001b[39m Parallel(n_jobs\u001b[38;5;241m=\u001b[39mn_jobs)(\n\u001b[0;32m    502\u001b[0m         delayed(p2e_fun)(Pauli_weights, Pauli_labels, Groups_batchs[j], Measurements_batchs[j], shift\u001b[38;5;241m=\u001b[39mshift) \u001b[38;5;28;01mfor\u001b[39;00m j\n\u001b[0;32m    503\u001b[0m         \u001b[38;5;129;01min\u001b[39;00m \u001b[38;5;28mrange\u001b[39m(n_jobs))\n",
      "File \u001b[1;32m~\\anaconda3\\envs\\heem\\lib\\site-packages\\joblib\\parallel.py:1056\u001b[0m, in \u001b[0;36mParallel.__call__\u001b[1;34m(self, iterable)\u001b[0m\n\u001b[0;32m   1053\u001b[0m     \u001b[38;5;28mself\u001b[39m\u001b[38;5;241m.\u001b[39m_iterating \u001b[38;5;241m=\u001b[39m \u001b[38;5;28;01mFalse\u001b[39;00m\n\u001b[0;32m   1055\u001b[0m \u001b[38;5;28;01mwith\u001b[39;00m \u001b[38;5;28mself\u001b[39m\u001b[38;5;241m.\u001b[39m_backend\u001b[38;5;241m.\u001b[39mretrieval_context():\n\u001b[1;32m-> 1056\u001b[0m     \u001b[38;5;28;43mself\u001b[39;49m\u001b[38;5;241;43m.\u001b[39;49m\u001b[43mretrieve\u001b[49m\u001b[43m(\u001b[49m\u001b[43m)\u001b[49m\n\u001b[0;32m   1057\u001b[0m \u001b[38;5;66;03m# Make sure that we get a last message telling us we are done\u001b[39;00m\n\u001b[0;32m   1058\u001b[0m elapsed_time \u001b[38;5;241m=\u001b[39m time\u001b[38;5;241m.\u001b[39mtime() \u001b[38;5;241m-\u001b[39m \u001b[38;5;28mself\u001b[39m\u001b[38;5;241m.\u001b[39m_start_time\n",
      "File \u001b[1;32m~\\anaconda3\\envs\\heem\\lib\\site-packages\\joblib\\parallel.py:935\u001b[0m, in \u001b[0;36mParallel.retrieve\u001b[1;34m(self)\u001b[0m\n\u001b[0;32m    933\u001b[0m \u001b[38;5;28;01mtry\u001b[39;00m:\n\u001b[0;32m    934\u001b[0m     \u001b[38;5;28;01mif\u001b[39;00m \u001b[38;5;28mgetattr\u001b[39m(\u001b[38;5;28mself\u001b[39m\u001b[38;5;241m.\u001b[39m_backend, \u001b[38;5;124m'\u001b[39m\u001b[38;5;124msupports_timeout\u001b[39m\u001b[38;5;124m'\u001b[39m, \u001b[38;5;28;01mFalse\u001b[39;00m):\n\u001b[1;32m--> 935\u001b[0m         \u001b[38;5;28mself\u001b[39m\u001b[38;5;241m.\u001b[39m_output\u001b[38;5;241m.\u001b[39mextend(\u001b[43mjob\u001b[49m\u001b[38;5;241;43m.\u001b[39;49m\u001b[43mget\u001b[49m\u001b[43m(\u001b[49m\u001b[43mtimeout\u001b[49m\u001b[38;5;241;43m=\u001b[39;49m\u001b[38;5;28;43mself\u001b[39;49m\u001b[38;5;241;43m.\u001b[39;49m\u001b[43mtimeout\u001b[49m\u001b[43m)\u001b[49m)\n\u001b[0;32m    936\u001b[0m     \u001b[38;5;28;01melse\u001b[39;00m:\n\u001b[0;32m    937\u001b[0m         \u001b[38;5;28mself\u001b[39m\u001b[38;5;241m.\u001b[39m_output\u001b[38;5;241m.\u001b[39mextend(job\u001b[38;5;241m.\u001b[39mget())\n",
      "File \u001b[1;32m~\\anaconda3\\envs\\heem\\lib\\site-packages\\joblib\\_parallel_backends.py:542\u001b[0m, in \u001b[0;36mLokyBackend.wrap_future_result\u001b[1;34m(future, timeout)\u001b[0m\n\u001b[0;32m    539\u001b[0m \u001b[38;5;124;03m\"\"\"Wrapper for Future.result to implement the same behaviour as\u001b[39;00m\n\u001b[0;32m    540\u001b[0m \u001b[38;5;124;03mAsyncResults.get from multiprocessing.\"\"\"\u001b[39;00m\n\u001b[0;32m    541\u001b[0m \u001b[38;5;28;01mtry\u001b[39;00m:\n\u001b[1;32m--> 542\u001b[0m     \u001b[38;5;28;01mreturn\u001b[39;00m \u001b[43mfuture\u001b[49m\u001b[38;5;241;43m.\u001b[39;49m\u001b[43mresult\u001b[49m\u001b[43m(\u001b[49m\u001b[43mtimeout\u001b[49m\u001b[38;5;241;43m=\u001b[39;49m\u001b[43mtimeout\u001b[49m\u001b[43m)\u001b[49m\n\u001b[0;32m    543\u001b[0m \u001b[38;5;28;01mexcept\u001b[39;00m CfTimeoutError \u001b[38;5;28;01mas\u001b[39;00m e:\n\u001b[0;32m    544\u001b[0m     \u001b[38;5;28;01mraise\u001b[39;00m \u001b[38;5;167;01mTimeoutError\u001b[39;00m \u001b[38;5;28;01mfrom\u001b[39;00m \u001b[38;5;21;01me\u001b[39;00m\n",
      "File \u001b[1;32m~\\anaconda3\\envs\\heem\\lib\\concurrent\\futures\\_base.py:441\u001b[0m, in \u001b[0;36mFuture.result\u001b[1;34m(self, timeout)\u001b[0m\n\u001b[0;32m    438\u001b[0m \u001b[38;5;28;01melif\u001b[39;00m \u001b[38;5;28mself\u001b[39m\u001b[38;5;241m.\u001b[39m_state \u001b[38;5;241m==\u001b[39m FINISHED:\n\u001b[0;32m    439\u001b[0m     \u001b[38;5;28;01mreturn\u001b[39;00m \u001b[38;5;28mself\u001b[39m\u001b[38;5;241m.\u001b[39m__get_result()\n\u001b[1;32m--> 441\u001b[0m \u001b[38;5;28;43mself\u001b[39;49m\u001b[38;5;241;43m.\u001b[39;49m\u001b[43m_condition\u001b[49m\u001b[38;5;241;43m.\u001b[39;49m\u001b[43mwait\u001b[49m\u001b[43m(\u001b[49m\u001b[43mtimeout\u001b[49m\u001b[43m)\u001b[49m\n\u001b[0;32m    443\u001b[0m \u001b[38;5;28;01mif\u001b[39;00m \u001b[38;5;28mself\u001b[39m\u001b[38;5;241m.\u001b[39m_state \u001b[38;5;129;01min\u001b[39;00m [CANCELLED, CANCELLED_AND_NOTIFIED]:\n\u001b[0;32m    444\u001b[0m     \u001b[38;5;28;01mraise\u001b[39;00m CancelledError()\n",
      "File \u001b[1;32m~\\anaconda3\\envs\\heem\\lib\\threading.py:312\u001b[0m, in \u001b[0;36mCondition.wait\u001b[1;34m(self, timeout)\u001b[0m\n\u001b[0;32m    310\u001b[0m \u001b[38;5;28;01mtry\u001b[39;00m:    \u001b[38;5;66;03m# restore state no matter what (e.g., KeyboardInterrupt)\u001b[39;00m\n\u001b[0;32m    311\u001b[0m     \u001b[38;5;28;01mif\u001b[39;00m timeout \u001b[38;5;129;01mis\u001b[39;00m \u001b[38;5;28;01mNone\u001b[39;00m:\n\u001b[1;32m--> 312\u001b[0m         \u001b[43mwaiter\u001b[49m\u001b[38;5;241;43m.\u001b[39;49m\u001b[43macquire\u001b[49m\u001b[43m(\u001b[49m\u001b[43m)\u001b[49m\n\u001b[0;32m    313\u001b[0m         gotit \u001b[38;5;241m=\u001b[39m \u001b[38;5;28;01mTrue\u001b[39;00m\n\u001b[0;32m    314\u001b[0m     \u001b[38;5;28;01melse\u001b[39;00m:\n",
      "\u001b[1;31mKeyboardInterrupt\u001b[0m: "
     ]
    }
   ],
   "source": [
    "energy_exact = 0\n",
    "\n",
    "pbar = tqdm(total=len(jobs_ids), desc='Computing exact energy')\n",
    "for i in range(len(jobs_ids)):\n",
    "    prob = load_data_IBMQ(jobs_ids[i], verbose=True)\n",
    "    \n",
    "    initial = i * n_max\n",
    "    final = min(initial + n_max, len(circuits_exact))\n",
    "    \n",
    "    temp = probability2expected_parallel(-1, coeffs, labels, Groups[initial:final], Measurements[initial:final], shift=True, print_progress=True)\n",
    "    diagonals = [x[0] for x in temp]\n",
    "    factors = [x[1] for x in temp]\n",
    "    \n",
    "    diagonals = [(~diagonal * 2 - 1).astype('int8') for diagonal in diagonals]\n",
    "    \n",
    "    for j in range(len(diagonals)):\n",
    "        energy_exact += np.sum((diagonals[j] * np.array(factors[j])[:, None]) @ prob[j])\n",
    "        \n",
    "    pbar.update()\n",
    "pbar.close()\n",
    "print('Exact energy: {}'.format(energy_exact))"
   ]
  },
  {
   "cell_type": "markdown",
   "id": "cf5ca092-ba69-45dd-83f2-2639a360cfd6",
   "metadata": {},
   "source": [
    "# TPB"
   ]
  },
  {
   "cell_type": "code",
   "execution_count": 102,
   "id": "b805ff85-c9fc-43a1-88e3-7a66f8d52381",
   "metadata": {
    "execution": {
     "iopub.execute_input": "2022-05-30T07:37:22.446548Z",
     "iopub.status.busy": "2022-05-30T07:37:22.446239Z",
     "iopub.status.idle": "2022-05-30T07:37:22.469147Z",
     "shell.execute_reply": "2022-05-30T07:37:22.468682Z",
     "shell.execute_reply.started": "2022-05-30T07:37:22.446534Z"
    },
    "pycharm": {
     "name": "#%%\n"
    },
    "tags": []
   },
   "outputs": [
    {
     "name": "stdout",
     "output_type": "stream",
     "text": [
      "Number of groups 25\n"
     ]
    }
   ],
   "source": [
    "temp = load_grouping_data(molecule_name, 'TPB')\n",
    "# temp = None\n",
    "\n",
    "if temp is not None:\n",
    "    Groups, Measurements = temp\n",
    "else:\n",
    "    _, Groups, Measurements = TPBgrouping(paulis, print_progress=True)\n",
    "\n",
    "print('Number of groups', len(Groups))"
   ]
  },
  {
   "cell_type": "code",
   "execution_count": 103,
   "id": "424d60cf-5791-400f-bc87-558d7d780f90",
   "metadata": {
    "execution": {
     "iopub.execute_input": "2022-05-30T07:37:25.267709Z",
     "iopub.status.busy": "2022-05-30T07:37:25.267446Z",
     "iopub.status.idle": "2022-05-31T04:48:07.736544Z",
     "shell.execute_reply": "2022-05-31T04:48:07.736032Z",
     "shell.execute_reply.started": "2022-05-30T07:37:25.267694Z"
    },
    "pycharm": {
     "name": "#%%\n"
    },
    "tags": []
   },
   "outputs": [
    {
     "data": {
      "application/vnd.jupyter.widget-view+json": {
       "model_id": "df504309822d4ce58b9d38fe7b4725a8",
       "version_major": 2,
       "version_minor": 0
      },
      "text/plain": [
       "Jobs completed:   0%|          | 0/1 [00:00<?, ?it/s]"
      ]
     },
     "metadata": {},
     "output_type": "display_data"
    },
    {
     "data": {
      "application/vnd.jupyter.widget-view+json": {
       "model_id": "05728f3d6e3a4669bdc50d189dcf1661",
       "version_major": 2,
       "version_minor": 0
      },
      "text/plain": [
       "Computing energy:   0%|          | 0/25 [00:00<?, ?it/s]"
      ]
     },
     "metadata": {},
     "output_type": "display_data"
    },
    {
     "name": "stdout",
     "output_type": "stream",
     "text": [
      "TPB energy: -0.5383326046499145\n",
      "Relative error: 2.303 %\n",
      "Simulation time 12110.983 s\n"
     ]
    },
    {
     "data": {
      "application/vnd.jupyter.widget-view+json": {
       "model_id": "ac6b2c6f48c448f5aac2ed9b2a6da954",
       "version_major": 2,
       "version_minor": 0
      },
      "text/plain": [
       "Jobs completed:   0%|          | 0/1 [00:00<?, ?it/s]"
      ]
     },
     "metadata": {},
     "output_type": "display_data"
    },
    {
     "data": {
      "application/vnd.jupyter.widget-view+json": {
       "model_id": "27a603ff6f1442ac8bcb7640b71d325c",
       "version_major": 2,
       "version_minor": 0
      },
      "text/plain": [
       "Computing energy:   0%|          | 0/25 [00:00<?, ?it/s]"
      ]
     },
     "metadata": {},
     "output_type": "display_data"
    },
    {
     "name": "stdout",
     "output_type": "stream",
     "text": [
      "TPB energy: -0.5429005457982997\n",
      "Relative error: 1.474 %\n",
      "Simulation time 2.735 s\n"
     ]
    },
    {
     "data": {
      "application/vnd.jupyter.widget-view+json": {
       "model_id": "dbc4c8f2bc154c0b961bd50d7d76b402",
       "version_major": 2,
       "version_minor": 0
      },
      "text/plain": [
       "Jobs completed:   0%|          | 0/1 [00:00<?, ?it/s]"
      ]
     },
     "metadata": {},
     "output_type": "display_data"
    },
    {
     "data": {
      "application/vnd.jupyter.widget-view+json": {
       "model_id": "f170c7aef4bb48798249c150462c524f",
       "version_major": 2,
       "version_minor": 0
      },
      "text/plain": [
       "Computing energy:   0%|          | 0/25 [00:00<?, ?it/s]"
      ]
     },
     "metadata": {},
     "output_type": "display_data"
    },
    {
     "name": "stdout",
     "output_type": "stream",
     "text": [
      "TPB energy: -0.5375633966540851\n",
      "Relative error: 2.443 %\n",
      "Simulation time 2.394 s\n"
     ]
    },
    {
     "data": {
      "application/vnd.jupyter.widget-view+json": {
       "model_id": "34bee1521a724d60bd3415d69e866097",
       "version_major": 2,
       "version_minor": 0
      },
      "text/plain": [
       "Jobs completed:   0%|          | 0/1 [00:00<?, ?it/s]"
      ]
     },
     "metadata": {},
     "output_type": "display_data"
    },
    {
     "data": {
      "application/vnd.jupyter.widget-view+json": {
       "model_id": "d137c8367513488b8fe4c284bc2d3fa8",
       "version_major": 2,
       "version_minor": 0
      },
      "text/plain": [
       "Computing energy:   0%|          | 0/25 [00:00<?, ?it/s]"
      ]
     },
     "metadata": {},
     "output_type": "display_data"
    },
    {
     "name": "stdout",
     "output_type": "stream",
     "text": [
      "TPB energy: -0.540681394181628\n",
      "Relative error: 1.877 %\n",
      "Simulation time 13723.411 s\n"
     ]
    },
    {
     "data": {
      "application/vnd.jupyter.widget-view+json": {
       "model_id": "87708ca96d0b4542b157b9908e75b2e9",
       "version_major": 2,
       "version_minor": 0
      },
      "text/plain": [
       "Jobs completed:   0%|          | 0/1 [00:00<?, ?it/s]"
      ]
     },
     "metadata": {},
     "output_type": "display_data"
    },
    {
     "data": {
      "application/vnd.jupyter.widget-view+json": {
       "model_id": "2c4ae7cf76fe4a4695ca19d6527840c6",
       "version_major": 2,
       "version_minor": 0
      },
      "text/plain": [
       "Computing energy:   0%|          | 0/25 [00:00<?, ?it/s]"
      ]
     },
     "metadata": {},
     "output_type": "display_data"
    },
    {
     "name": "stdout",
     "output_type": "stream",
     "text": [
      "TPB energy: -0.532296486770539\n",
      "Relative error: 3.399 %\n",
      "Simulation time 2.503 s\n"
     ]
    },
    {
     "data": {
      "application/vnd.jupyter.widget-view+json": {
       "model_id": "b691a2bbb2c74b7db18810a7cc6f2c08",
       "version_major": 2,
       "version_minor": 0
      },
      "text/plain": [
       "Jobs completed:   0%|          | 0/1 [00:00<?, ?it/s]"
      ]
     },
     "metadata": {},
     "output_type": "display_data"
    },
    {
     "data": {
      "application/vnd.jupyter.widget-view+json": {
       "model_id": "e914016fe3484d4499f845feb6860da8",
       "version_major": 2,
       "version_minor": 0
      },
      "text/plain": [
       "Computing energy:   0%|          | 0/25 [00:00<?, ?it/s]"
      ]
     },
     "metadata": {},
     "output_type": "display_data"
    },
    {
     "name": "stdout",
     "output_type": "stream",
     "text": [
      "TPB energy: -0.5476969475728817\n",
      "Relative error: 0.604 %\n",
      "Simulation time 2.55 s\n"
     ]
    },
    {
     "data": {
      "application/vnd.jupyter.widget-view+json": {
       "model_id": "b79a642ba6d848a79536d203fe3285ce",
       "version_major": 2,
       "version_minor": 0
      },
      "text/plain": [
       "Jobs completed:   0%|          | 0/1 [00:00<?, ?it/s]"
      ]
     },
     "metadata": {},
     "output_type": "display_data"
    },
    {
     "data": {
      "application/vnd.jupyter.widget-view+json": {
       "model_id": "a40bec8e79a84cc8b57ba53dc2993e2a",
       "version_major": 2,
       "version_minor": 0
      },
      "text/plain": [
       "Computing energy:   0%|          | 0/25 [00:00<?, ?it/s]"
      ]
     },
     "metadata": {},
     "output_type": "display_data"
    },
    {
     "name": "stdout",
     "output_type": "stream",
     "text": [
      "TPB energy: -0.5441105004280452\n",
      "Relative error: 1.255 %\n",
      "Simulation time 2.805 s\n"
     ]
    },
    {
     "data": {
      "application/vnd.jupyter.widget-view+json": {
       "model_id": "885ba398f96a441ba67c714fcfc1b0b4",
       "version_major": 2,
       "version_minor": 0
      },
      "text/plain": [
       "Jobs completed:   0%|          | 0/1 [00:00<?, ?it/s]"
      ]
     },
     "metadata": {},
     "output_type": "display_data"
    },
    {
     "data": {
      "application/vnd.jupyter.widget-view+json": {
       "model_id": "7d608978e8c54388aabd18e1ddd4f0ab",
       "version_major": 2,
       "version_minor": 0
      },
      "text/plain": [
       "Computing energy:   0%|          | 0/25 [00:00<?, ?it/s]"
      ]
     },
     "metadata": {},
     "output_type": "display_data"
    },
    {
     "name": "stdout",
     "output_type": "stream",
     "text": [
      "TPB energy: -0.5314051696288145\n",
      "Relative error: 3.561 %\n",
      "Simulation time 2.641 s\n"
     ]
    },
    {
     "data": {
      "application/vnd.jupyter.widget-view+json": {
       "model_id": "fc98df31b96142dba90f4ccfcab3c87d",
       "version_major": 2,
       "version_minor": 0
      },
      "text/plain": [
       "Jobs completed:   0%|          | 0/1 [00:00<?, ?it/s]"
      ]
     },
     "metadata": {},
     "output_type": "display_data"
    },
    {
     "data": {
      "application/vnd.jupyter.widget-view+json": {
       "model_id": "085e2517c69a4f4f9f52936e1c72f42a",
       "version_major": 2,
       "version_minor": 0
      },
      "text/plain": [
       "Computing energy:   0%|          | 0/25 [00:00<?, ?it/s]"
      ]
     },
     "metadata": {},
     "output_type": "display_data"
    },
    {
     "name": "stdout",
     "output_type": "stream",
     "text": [
      "TPB energy: -0.539767689903399\n",
      "Relative error: 2.043 %\n",
      "Simulation time 2.205 s\n"
     ]
    },
    {
     "data": {
      "application/vnd.jupyter.widget-view+json": {
       "model_id": "e5faec7ac6cd486bb8ba762a7aa795e9",
       "version_major": 2,
       "version_minor": 0
      },
      "text/plain": [
       "Jobs completed:   0%|          | 0/1 [00:00<?, ?it/s]"
      ]
     },
     "metadata": {},
     "output_type": "display_data"
    },
    {
     "data": {
      "application/vnd.jupyter.widget-view+json": {
       "model_id": "c55535fd1be340a39355ea564f4ad9c7",
       "version_major": 2,
       "version_minor": 0
      },
      "text/plain": [
       "Computing energy:   0%|          | 0/25 [00:00<?, ?it/s]"
      ]
     },
     "metadata": {},
     "output_type": "display_data"
    },
    {
     "name": "stdout",
     "output_type": "stream",
     "text": [
      "TPB energy: -0.5362205880557489\n",
      "Relative error: 2.687 %\n",
      "Simulation time 2.377 s\n"
     ]
    },
    {
     "data": {
      "application/vnd.jupyter.widget-view+json": {
       "model_id": "00caec7fc48a47f18b279321e4daf9b9",
       "version_major": 2,
       "version_minor": 0
      },
      "text/plain": [
       "Jobs completed:   0%|          | 0/1 [00:00<?, ?it/s]"
      ]
     },
     "metadata": {},
     "output_type": "display_data"
    },
    {
     "data": {
      "application/vnd.jupyter.widget-view+json": {
       "model_id": "64b50d423e0c42008da5c9cba43828f8",
       "version_major": 2,
       "version_minor": 0
      },
      "text/plain": [
       "Computing energy:   0%|          | 0/25 [00:00<?, ?it/s]"
      ]
     },
     "metadata": {},
     "output_type": "display_data"
    },
    {
     "name": "stdout",
     "output_type": "stream",
     "text": [
      "TPB energy: -0.5414472177334222\n",
      "Relative error: 1.738 %\n",
      "Simulation time 13610.88 s\n"
     ]
    },
    {
     "data": {
      "application/vnd.jupyter.widget-view+json": {
       "model_id": "45b0022d0ec047a7b26eee151445d852",
       "version_major": 2,
       "version_minor": 0
      },
      "text/plain": [
       "Jobs completed:   0%|          | 0/1 [00:00<?, ?it/s]"
      ]
     },
     "metadata": {},
     "output_type": "display_data"
    },
    {
     "data": {
      "application/vnd.jupyter.widget-view+json": {
       "model_id": "8af688ab64f440bf8c01de188a64cede",
       "version_major": 2,
       "version_minor": 0
      },
      "text/plain": [
       "Computing energy:   0%|          | 0/25 [00:00<?, ?it/s]"
      ]
     },
     "metadata": {},
     "output_type": "display_data"
    },
    {
     "name": "stdout",
     "output_type": "stream",
     "text": [
      "TPB energy: -0.5418221165744016\n",
      "Relative error: 1.670 %\n",
      "Simulation time 3.451 s\n"
     ]
    },
    {
     "data": {
      "application/vnd.jupyter.widget-view+json": {
       "model_id": "907f1f2886c44e239763d4fc1002d22e",
       "version_major": 2,
       "version_minor": 0
      },
      "text/plain": [
       "Jobs completed:   0%|          | 0/1 [00:00<?, ?it/s]"
      ]
     },
     "metadata": {},
     "output_type": "display_data"
    },
    {
     "data": {
      "application/vnd.jupyter.widget-view+json": {
       "model_id": "d246c88005f44789874d0ad4f9dbcfd3",
       "version_major": 2,
       "version_minor": 0
      },
      "text/plain": [
       "Computing energy:   0%|          | 0/25 [00:00<?, ?it/s]"
      ]
     },
     "metadata": {},
     "output_type": "display_data"
    },
    {
     "name": "stdout",
     "output_type": "stream",
     "text": [
      "TPB energy: -0.5416598532385928\n",
      "Relative error: 1.700 %\n",
      "Simulation time 3.684 s\n"
     ]
    },
    {
     "data": {
      "application/vnd.jupyter.widget-view+json": {
       "model_id": "81d917146a8b45e2842da6e73d1997a7",
       "version_major": 2,
       "version_minor": 0
      },
      "text/plain": [
       "Jobs completed:   0%|          | 0/1 [00:00<?, ?it/s]"
      ]
     },
     "metadata": {},
     "output_type": "display_data"
    },
    {
     "data": {
      "application/vnd.jupyter.widget-view+json": {
       "model_id": "7dfa0a69f22545f5aca23de6527fdee4",
       "version_major": 2,
       "version_minor": 0
      },
      "text/plain": [
       "Computing energy:   0%|          | 0/25 [00:00<?, ?it/s]"
      ]
     },
     "metadata": {},
     "output_type": "display_data"
    },
    {
     "name": "stdout",
     "output_type": "stream",
     "text": [
      "TPB energy: -0.5431319896365989\n",
      "Relative error: 1.432 %\n",
      "Simulation time 2.541 s\n"
     ]
    },
    {
     "data": {
      "application/vnd.jupyter.widget-view+json": {
       "model_id": "ee05bc351d104313bbf4eb98125f5063",
       "version_major": 2,
       "version_minor": 0
      },
      "text/plain": [
       "Jobs completed:   0%|          | 0/1 [00:00<?, ?it/s]"
      ]
     },
     "metadata": {},
     "output_type": "display_data"
    },
    {
     "data": {
      "application/vnd.jupyter.widget-view+json": {
       "model_id": "bcc12fb070354ef1b0184b3d1f45392f",
       "version_major": 2,
       "version_minor": 0
      },
      "text/plain": [
       "Computing energy:   0%|          | 0/25 [00:00<?, ?it/s]"
      ]
     },
     "metadata": {},
     "output_type": "display_data"
    },
    {
     "name": "stdout",
     "output_type": "stream",
     "text": [
      "TPB energy: -0.5440210594381075\n",
      "Relative error: 1.271 %\n",
      "Simulation time 2.281 s\n"
     ]
    },
    {
     "data": {
      "application/vnd.jupyter.widget-view+json": {
       "model_id": "2734e2c2c29a46bfb4f4ff76a30bcc64",
       "version_major": 2,
       "version_minor": 0
      },
      "text/plain": [
       "Jobs completed:   0%|          | 0/1 [00:00<?, ?it/s]"
      ]
     },
     "metadata": {},
     "output_type": "display_data"
    },
    {
     "data": {
      "application/vnd.jupyter.widget-view+json": {
       "model_id": "a22165a6545645558e7c7a032254b268",
       "version_major": 2,
       "version_minor": 0
      },
      "text/plain": [
       "Computing energy:   0%|          | 0/25 [00:00<?, ?it/s]"
      ]
     },
     "metadata": {},
     "output_type": "display_data"
    },
    {
     "name": "stdout",
     "output_type": "stream",
     "text": [
      "TPB energy: -0.5445361721874836\n",
      "Relative error: 1.178 %\n",
      "Simulation time 2.167 s\n"
     ]
    },
    {
     "data": {
      "application/vnd.jupyter.widget-view+json": {
       "model_id": "bf13988d6ce84d0884be5b6523906221",
       "version_major": 2,
       "version_minor": 0
      },
      "text/plain": [
       "Jobs completed:   0%|          | 0/1 [00:00<?, ?it/s]"
      ]
     },
     "metadata": {},
     "output_type": "display_data"
    },
    {
     "data": {
      "application/vnd.jupyter.widget-view+json": {
       "model_id": "336439748f1e47b8bbbced2b4a2e9422",
       "version_major": 2,
       "version_minor": 0
      },
      "text/plain": [
       "Computing energy:   0%|          | 0/25 [00:00<?, ?it/s]"
      ]
     },
     "metadata": {},
     "output_type": "display_data"
    },
    {
     "name": "stdout",
     "output_type": "stream",
     "text": [
      "TPB energy: -0.548870631617372\n",
      "Relative error: 0.391 %\n",
      "Simulation time 13637.711 s\n"
     ]
    },
    {
     "data": {
      "application/vnd.jupyter.widget-view+json": {
       "model_id": "0ce001cf1bf340bfaa14e153bcf6dd66",
       "version_major": 2,
       "version_minor": 0
      },
      "text/plain": [
       "Jobs completed:   0%|          | 0/1 [00:00<?, ?it/s]"
      ]
     },
     "metadata": {},
     "output_type": "display_data"
    },
    {
     "data": {
      "application/vnd.jupyter.widget-view+json": {
       "model_id": "b7611e3e6ec749589812efd7dfde6002",
       "version_major": 2,
       "version_minor": 0
      },
      "text/plain": [
       "Computing energy:   0%|          | 0/25 [00:00<?, ?it/s]"
      ]
     },
     "metadata": {},
     "output_type": "display_data"
    },
    {
     "name": "stdout",
     "output_type": "stream",
     "text": [
      "TPB energy: -0.5443903395235942\n",
      "Relative error: 1.204 %\n",
      "Simulation time 6.064 s\n"
     ]
    },
    {
     "data": {
      "application/vnd.jupyter.widget-view+json": {
       "model_id": "3c8d91f49e1f49e4ad38d2b8c418fd88",
       "version_major": 2,
       "version_minor": 0
      },
      "text/plain": [
       "Jobs completed:   0%|          | 0/1 [00:00<?, ?it/s]"
      ]
     },
     "metadata": {},
     "output_type": "display_data"
    },
    {
     "data": {
      "application/vnd.jupyter.widget-view+json": {
       "model_id": "467254451ad04fc091ad0ea61ab2dae9",
       "version_major": 2,
       "version_minor": 0
      },
      "text/plain": [
       "Computing energy:   0%|          | 0/25 [00:00<?, ?it/s]"
      ]
     },
     "metadata": {},
     "output_type": "display_data"
    },
    {
     "name": "stdout",
     "output_type": "stream",
     "text": [
      "TPB energy: -0.5474186052967194\n",
      "Relative error: 0.655 %\n",
      "Simulation time 2.545 s\n"
     ]
    },
    {
     "data": {
      "application/vnd.jupyter.widget-view+json": {
       "model_id": "bc0288890b5e40e68d10c6bcf543c02f",
       "version_major": 2,
       "version_minor": 0
      },
      "text/plain": [
       "Jobs completed:   0%|          | 0/1 [00:00<?, ?it/s]"
      ]
     },
     "metadata": {},
     "output_type": "display_data"
    },
    {
     "data": {
      "application/vnd.jupyter.widget-view+json": {
       "model_id": "1ba90f8663c0479baedbcf5c95c91f90",
       "version_major": 2,
       "version_minor": 0
      },
      "text/plain": [
       "Computing energy:   0%|          | 0/25 [00:00<?, ?it/s]"
      ]
     },
     "metadata": {},
     "output_type": "display_data"
    },
    {
     "name": "stdout",
     "output_type": "stream",
     "text": [
      "TPB energy: -0.5533073838242992\n",
      "Relative error: 0.414 %\n",
      "Simulation time 13717.611 s\n"
     ]
    },
    {
     "data": {
      "application/vnd.jupyter.widget-view+json": {
       "model_id": "c917958f72594879a60acf919a02cda3",
       "version_major": 2,
       "version_minor": 0
      },
      "text/plain": [
       "Jobs completed:   0%|          | 0/1 [00:00<?, ?it/s]"
      ]
     },
     "metadata": {},
     "output_type": "display_data"
    },
    {
     "data": {
      "application/vnd.jupyter.widget-view+json": {
       "model_id": "1d728aa6417c4ece85d12be630456bfb",
       "version_major": 2,
       "version_minor": 0
      },
      "text/plain": [
       "Computing energy:   0%|          | 0/25 [00:00<?, ?it/s]"
      ]
     },
     "metadata": {},
     "output_type": "display_data"
    },
    {
     "name": "stdout",
     "output_type": "stream",
     "text": [
      "TPB energy: -0.5389532837074575\n",
      "Relative error: 2.191 %\n",
      "Simulation time 2.253 s\n"
     ]
    },
    {
     "data": {
      "application/vnd.jupyter.widget-view+json": {
       "model_id": "81bac4b162d049b6bfce9c0155c78595",
       "version_major": 2,
       "version_minor": 0
      },
      "text/plain": [
       "Jobs completed:   0%|          | 0/1 [00:00<?, ?it/s]"
      ]
     },
     "metadata": {},
     "output_type": "display_data"
    },
    {
     "data": {
      "application/vnd.jupyter.widget-view+json": {
       "model_id": "66d39d61797d40b0a3ef4516c5dde3f2",
       "version_major": 2,
       "version_minor": 0
      },
      "text/plain": [
       "Computing energy:   0%|          | 0/25 [00:00<?, ?it/s]"
      ]
     },
     "metadata": {},
     "output_type": "display_data"
    },
    {
     "name": "stdout",
     "output_type": "stream",
     "text": [
      "TPB energy: -0.5381778105565757\n",
      "Relative error: 2.332 %\n",
      "Simulation time 2.589 s\n"
     ]
    },
    {
     "data": {
      "application/vnd.jupyter.widget-view+json": {
       "model_id": "cef582844efe4441b1fa26359b94d61e",
       "version_major": 2,
       "version_minor": 0
      },
      "text/plain": [
       "Jobs completed:   0%|          | 0/1 [00:00<?, ?it/s]"
      ]
     },
     "metadata": {},
     "output_type": "display_data"
    },
    {
     "data": {
      "application/vnd.jupyter.widget-view+json": {
       "model_id": "b1136e6fa28448299f420883d5cb188a",
       "version_major": 2,
       "version_minor": 0
      },
      "text/plain": [
       "Computing energy:   0%|          | 0/25 [00:00<?, ?it/s]"
      ]
     },
     "metadata": {},
     "output_type": "display_data"
    },
    {
     "name": "stdout",
     "output_type": "stream",
     "text": [
      "TPB energy: -0.5424549788892084\n",
      "Relative error: 1.555 %\n",
      "Simulation time 2.42 s\n"
     ]
    },
    {
     "data": {
      "application/vnd.jupyter.widget-view+json": {
       "model_id": "377b17f771254d2980d450b4c801783a",
       "version_major": 2,
       "version_minor": 0
      },
      "text/plain": [
       "Jobs completed:   0%|          | 0/1 [00:00<?, ?it/s]"
      ]
     },
     "metadata": {},
     "output_type": "display_data"
    },
    {
     "data": {
      "application/vnd.jupyter.widget-view+json": {
       "model_id": "c8cf71314994409fbcee3c750662f964",
       "version_major": 2,
       "version_minor": 0
      },
      "text/plain": [
       "Computing energy:   0%|          | 0/25 [00:00<?, ?it/s]"
      ]
     },
     "metadata": {},
     "output_type": "display_data"
    },
    {
     "name": "stdout",
     "output_type": "stream",
     "text": [
      "TPB energy: -0.5498187077249688\n",
      "Relative error: 0.219 %\n",
      "Simulation time 2.528 s\n"
     ]
    },
    {
     "data": {
      "application/vnd.jupyter.widget-view+json": {
       "model_id": "a41495e5936d4ae9a769a4b5c0dbdc21",
       "version_major": 2,
       "version_minor": 0
      },
      "text/plain": [
       "Jobs completed:   0%|          | 0/1 [00:00<?, ?it/s]"
      ]
     },
     "metadata": {},
     "output_type": "display_data"
    },
    {
     "data": {
      "application/vnd.jupyter.widget-view+json": {
       "model_id": "71195017316242b5818e4dfc4a8ec2a9",
       "version_major": 2,
       "version_minor": 0
      },
      "text/plain": [
       "Computing energy:   0%|          | 0/25 [00:00<?, ?it/s]"
      ]
     },
     "metadata": {},
     "output_type": "display_data"
    },
    {
     "name": "stdout",
     "output_type": "stream",
     "text": [
      "TPB energy: -0.5393039847939978\n",
      "Relative error: 2.127 %\n",
      "Simulation time 2.273 s\n"
     ]
    }
   ],
   "source": [
    "method = 'TPB'\n",
    "\n",
    "n_repeats = 25\n",
    "\n",
    "for _ in range(n_repeats):\n",
    "    jobs_TPB, energy_TPB, energies_TPB_temp = compute_energy_sparse(Groups, Measurements, method, n_chunks=300, return_energy_temp=True)\n",
    "    relative_TPB = np.abs((energy_TPB - energy_exact) / energy_exact)\n",
    "\n",
    "    print('TPB energy: {}'.format(energy_TPB))\n",
    "    print('Relative error: {:.3f} %'.format(relative_TPB * 100))\n",
    "\n",
    "    time = sum((job.time_per_step()['COMPLETED'] - job.time_per_step()['RUNNING']).total_seconds() for job in jobs_TPB)\n",
    "    print(f'Simulation time {time} s')\n",
    "\n",
    "    with open('progress_' + method + '.txt', 'w') as f:\n",
    "        f.write('Done: {}\\n'.format(energy_TPB))\n",
    "\n",
    "    save_data(energy_TPB, method)"
   ]
  },
  {
   "cell_type": "code",
   "execution_count": 104,
   "id": "245f59f5-e542-4d8b-8b93-c3c5c789899c",
   "metadata": {
    "execution": {
     "iopub.execute_input": "2022-05-31T04:48:07.738211Z",
     "iopub.status.busy": "2022-05-31T04:48:07.738037Z",
     "iopub.status.idle": "2022-05-31T04:48:07.876817Z",
     "shell.execute_reply": "2022-05-31T04:48:07.876366Z",
     "shell.execute_reply.started": "2022-05-31T04:48:07.738195Z"
    },
    "tags": []
   },
   "outputs": [
    {
     "data": {
      "application/vnd.jupyter.widget-view+json": {
       "model_id": "823c6c32ebf24c06895f66bc8049e3d8",
       "version_major": 2,
       "version_minor": 0
      },
      "image/png": "[encoded data removed]",
      "text/html": [
       "\n",
       "            <div style=\"display: inline-block;\">\n",
       "                <div class=\"jupyter-widgets widget-label\" style=\"text-align: center;\">\n",
       "                    Figure\n",
       "                </div>\n",
       "                <img src='data:image/png;base64,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' width=640.0/>\n",
       "            </div>\n",
       "        "
      ],
      "text/plain": [
       "Canvas(toolbar=Toolbar(toolitems=[('Home', 'Reset original view', 'home', 'home'), ('Back', 'Back to previous …"
      ]
     },
     "metadata": {},
     "output_type": "display_data"
    }
   ],
   "source": [
    "fig, ax = plt.subplots()\n",
    "\n",
    "data = np.array(energies_TPB_temp)\n",
    "x = np.arange(1, len(data) + 1)\n",
    "mask = data > 0\n",
    "\n",
    "ax.plot(x, np.cumsum(data), 'r')\n",
    "ax.hlines(energy_exact, 1, len(data) + 1, color='k', label='Exact')\n",
    "ax.hlines(sum(data), 1, len(data) + 1, color='r', ls='--', label='Noisy simulation')\n",
    "\n",
    "# ax.plot(x, np.abs(data))\n",
    "\n",
    "# ax.bar(x[mask], np.abs(data)[mask], width=1, color='b', label=r'$E_i>0$')\n",
    "# ax.bar(x[~mask], np.abs(data)[~mask], width=1, color='r', label=r'$E_i\\leq0$')\n",
    "\n",
    "ax.set_xlim(-1, len(data) + 1)\n",
    "ax.set_xlabel('circuits')\n",
    "# ax.set_ylabel(r'$|E_i|$ [Ha]')\n",
    "ax.set_ylabel(r'$\\sum_{i}^n E_i$ [Ha]')\n",
    "\n",
    "# ax.set_yscale('log')\n",
    "\n",
    "ax.legend(loc=4)\n",
    "ax.set_title(f'{method} / {molecule_name}');"
   ]
  },
  {
   "cell_type": "markdown",
   "id": "decf7b5c-d934-4118-92b1-b6ce9cd72466",
   "metadata": {
    "pycharm": {
     "name": "#%% md\n"
    },
    "tags": []
   },
   "source": [
    "# EM"
   ]
  },
  {
   "cell_type": "code",
   "execution_count": 105,
   "id": "9c2029bb-6c83-44a1-bd4e-974daf145bf8",
   "metadata": {
    "execution": {
     "iopub.execute_input": "2022-05-31T04:48:07.877732Z",
     "iopub.status.busy": "2022-05-31T04:48:07.877425Z",
     "iopub.status.idle": "2022-05-31T04:48:07.903509Z",
     "shell.execute_reply": "2022-05-31T04:48:07.903136Z",
     "shell.execute_reply.started": "2022-05-31T04:48:07.877717Z"
    },
    "pycharm": {
     "name": "#%%\n"
    },
    "tags": []
   },
   "outputs": [
    {
     "name": "stdout",
     "output_type": "stream",
     "text": [
      "Number of groups 11\n"
     ]
    }
   ],
   "source": [
    "temp = load_grouping_data(molecule_name, 'EM')\n",
    "# temp = None\n",
    "\n",
    "if temp is not None:\n",
    "    Groups, Measurements, layout = temp\n",
    "else:\n",
    "    Groups, Measurements, layout = groupingWithOrder(paulis, connected=True, print_progress=True)\n",
    "\n",
    "missing = []\n",
    "for i in range(np.max(np.array(WC_device)) + 1):\n",
    "    if i not in layout:\n",
    "        missing.append(i)    \n",
    "\n",
    "# layout = (layout[::-1] + missing)[::-1]\n",
    "    \n",
    "print('Number of groups', len(Groups))"
   ]
  },
  {
   "cell_type": "code",
   "execution_count": null,
   "id": "c02c9924-6614-4f60-a189-67d8ec8ae84a",
   "metadata": {
    "execution": {
     "iopub.execute_input": "2022-05-31T04:48:07.904654Z",
     "iopub.status.busy": "2022-05-31T04:48:07.904515Z"
    },
    "pycharm": {
     "name": "#%%\n"
    },
    "tags": []
   },
   "outputs": [
    {
     "data": {
      "application/vnd.jupyter.widget-view+json": {
       "model_id": "0636288508b8434ca4d874b9b36256a7",
       "version_major": 2,
       "version_minor": 0
      },
      "text/plain": [
       "Jobs completed:   0%|          | 0/1 [00:00<?, ?it/s]"
      ]
     },
     "metadata": {},
     "output_type": "display_data"
    },
    {
     "data": {
      "application/vnd.jupyter.widget-view+json": {
       "model_id": "40db53e5144b4699b4fe3414bb769efa",
       "version_major": 2,
       "version_minor": 0
      },
      "text/plain": [
       "Computing energy:   0%|          | 0/11 [00:00<?, ?it/s]"
      ]
     },
     "metadata": {},
     "output_type": "display_data"
    },
    {
     "name": "stdout",
     "output_type": "stream",
     "text": [
      "EM energy: -0.551296711354084\n",
      "Relative error: 0.049 %\n",
      "Simulation time 1.599 s\n"
     ]
    },
    {
     "data": {
      "application/vnd.jupyter.widget-view+json": {
       "model_id": "c8657c5b31d047d2a71e50762e9ab636",
       "version_major": 2,
       "version_minor": 0
      },
      "text/plain": [
       "Jobs completed:   0%|          | 0/1 [00:00<?, ?it/s]"
      ]
     },
     "metadata": {},
     "output_type": "display_data"
    },
    {
     "data": {
      "application/vnd.jupyter.widget-view+json": {
       "model_id": "21aa557ad0d04fae9a5c62dd2f0951dd",
       "version_major": 2,
       "version_minor": 0
      },
      "text/plain": [
       "Computing energy:   0%|          | 0/11 [00:00<?, ?it/s]"
      ]
     },
     "metadata": {},
     "output_type": "display_data"
    },
    {
     "name": "stdout",
     "output_type": "stream",
     "text": [
      "EM energy: -0.5589081789448684\n",
      "Relative error: 1.431 %\n",
      "Simulation time 1.926 s\n"
     ]
    },
    {
     "data": {
      "application/vnd.jupyter.widget-view+json": {
       "model_id": "c999405472da45a38473759f17799dd0",
       "version_major": 2,
       "version_minor": 0
      },
      "text/plain": [
       "Jobs completed:   0%|          | 0/1 [00:00<?, ?it/s]"
      ]
     },
     "metadata": {},
     "output_type": "display_data"
    },
    {
     "data": {
      "application/vnd.jupyter.widget-view+json": {
       "model_id": "3dc0694818104c03a1a421db76f98e16",
       "version_major": 2,
       "version_minor": 0
      },
      "text/plain": [
       "Computing energy:   0%|          | 0/11 [00:00<?, ?it/s]"
      ]
     },
     "metadata": {},
     "output_type": "display_data"
    },
    {
     "name": "stdout",
     "output_type": "stream",
     "text": [
      "EM energy: -0.5508471608322028\n",
      "Relative error: 0.032 %\n",
      "Simulation time 1.872 s\n"
     ]
    },
    {
     "data": {
      "application/vnd.jupyter.widget-view+json": {
       "model_id": "192a3493e8e9472595d5498260c7885a",
       "version_major": 2,
       "version_minor": 0
      },
      "text/plain": [
       "Jobs completed:   0%|          | 0/1 [00:00<?, ?it/s]"
      ]
     },
     "metadata": {},
     "output_type": "display_data"
    },
    {
     "data": {
      "application/vnd.jupyter.widget-view+json": {
       "model_id": "800bac1d53634747844e127eec242992",
       "version_major": 2,
       "version_minor": 0
      },
      "text/plain": [
       "Computing energy:   0%|          | 0/11 [00:00<?, ?it/s]"
      ]
     },
     "metadata": {},
     "output_type": "display_data"
    },
    {
     "name": "stdout",
     "output_type": "stream",
     "text": [
      "EM energy: -0.5577294164307577\n",
      "Relative error: 1.217 %\n",
      "Simulation time 1.751 s\n"
     ]
    },
    {
     "data": {
      "application/vnd.jupyter.widget-view+json": {
       "model_id": "9a3297f32f42417a98b7000fcd8ec33a",
       "version_major": 2,
       "version_minor": 0
      },
      "text/plain": [
       "Jobs completed:   0%|          | 0/1 [00:00<?, ?it/s]"
      ]
     },
     "metadata": {},
     "output_type": "display_data"
    }
   ],
   "source": [
    "method = 'EM'\n",
    "\n",
    "n_repeats = 25\n",
    "\n",
    "for _ in range(n_repeats):\n",
    "    jobs_EM, energy_EM, energies_EM_temp = compute_energy_sparse(Groups, Measurements, method, layout=layout, n_chunks=100, return_energy_temp=True)\n",
    "    relative_EM= np.abs((energy_EM - energy_exact) / energy_exact)\n",
    "\n",
    "    print('EM energy: {}'.format(energy_EM))\n",
    "    print('Relative error: {:.3f} %'.format(relative_EM * 100))\n",
    "\n",
    "    time = sum((job.time_per_step()['COMPLETED'] - job.time_per_step()['RUNNING']).total_seconds() for job in jobs_EM)\n",
    "    print(f'Simulation time {time} s')\n",
    "\n",
    "    with open('progress_' + method + '.txt', 'w') as f:\n",
    "        f.write('Done: {}\\n'.format(energy_EM))\n",
    "\n",
    "    save_data(energy_EM, method)"
   ]
  },
  {
   "cell_type": "code",
   "execution_count": null,
   "id": "81498c0d-4b3b-46da-a8f1-b0835714ecc1",
   "metadata": {
    "tags": []
   },
   "outputs": [],
   "source": [
    "fig, ax = plt.subplots()\n",
    "\n",
    "data = np.array(energies_EM_temp)\n",
    "x = np.arange(1, len(data) + 1)\n",
    "mask = data > 0\n",
    "\n",
    "ax.plot(x, np.cumsum(data), 'r')\n",
    "ax.hlines(energy_exact, 1, len(data) + 1, color='k', label='Exact')\n",
    "ax.hlines(sum(data), 1, len(data) + 1, color='r', ls='--', label='Noisy simulation')\n",
    "\n",
    "# ax.plot(x, np.abs(data))\n",
    "\n",
    "# ax.bar(x[mask], np.abs(data)[mask], width=1, color='b', label=r'$E_i>0$')\n",
    "# ax.bar(x[~mask], np.abs(data)[~mask], width=1, color='r', label=r'$E_i\\leq0$')\n",
    "\n",
    "ax.set_xlim(-1, len(data) + 1)\n",
    "ax.set_xlabel('circuits')\n",
    "# ax.set_ylabel(r'$|E_i|$ [Ha]')\n",
    "ax.set_ylabel(r'$\\sum_{i}^n E_i$ [Ha]')\n",
    "\n",
    "# ax.set_yscale('log')\n",
    "\n",
    "ax.legend(loc=4)\n",
    "ax.set_title(f'{method} / {molecule_name}');"
   ]
  },
  {
   "cell_type": "markdown",
   "id": "074933a7-641e-44fa-b2d4-91d8e15cf898",
   "metadata": {
    "pycharm": {
     "name": "#%% md\n"
    },
    "tags": []
   },
   "source": [
    "# HEEM"
   ]
  },
  {
   "cell_type": "code",
   "execution_count": null,
   "id": "87dce716-6a03-447a-b590-9eb8aa154f31",
   "metadata": {
    "pycharm": {
     "name": "#%%\n"
    },
    "tags": []
   },
   "outputs": [],
   "source": [
    "temp = load_grouping_data(molecule_name, 'HEEM')\n",
    "# temp = None\n",
    "\n",
    "if temp is not None:\n",
    "    Groups, Measurements, layout = temp\n",
    "else:\n",
    "    Groups, Measurements, layout = groupingWithOrder(paulis, G_device, connected=True, print_progress=True)\n",
    "\n",
    "missing = []\n",
    "for i in range(np.max(np.array(WC_device)) + 1):\n",
    "    if i not in layout:\n",
    "        missing.append(i)    \n",
    "\n",
    "# layout = (layout[::-1] + missing)[::-1]\n",
    "\n",
    "print('Number of groups', len(Groups))"
   ]
  },
  {
   "cell_type": "code",
   "execution_count": null,
   "id": "11050b1e-1fb1-4539-873e-ed27ca650a35",
   "metadata": {
    "pycharm": {
     "name": "#%%\n"
    },
    "tags": []
   },
   "outputs": [],
   "source": [
    "method = 'HEEM'\n",
    "\n",
    "n_repeats = 25\n",
    "\n",
    "for _ in range(n_repeats):\n",
    "    jobs_HEEM, energy_HEEM, energies_HEEM_temp = compute_energy_sparse(Groups, Measurements, method, n_chunks=300, layout=layout, return_energy_temp=True)\n",
    "    relative_HEEM = np.abs((energy_HEEM - energy_exact) / energy_exact)\n",
    "\n",
    "    print('HEEM energy: {}'.format(energy_HEEM))\n",
    "    print('Relative error: {:.3f} %'.format(relative_HEEM * 100))\n",
    "\n",
    "    time = sum((job.time_per_step()['COMPLETED'] - job.time_per_step()['RUNNING']).total_seconds() for job in jobs_HEEM)\n",
    "    print(f'Simulation time {time} s')\n",
    "\n",
    "    with open('progress_' + method + '.txt', 'w') as f:\n",
    "        f.write('Done: {}\\n'.format(energy_HEEM))\n",
    "\n",
    "    save_data(energy_HEEM, method)"
   ]
  },
  {
   "cell_type": "code",
   "execution_count": null,
   "id": "16a56fc3-f84c-4d62-8f4f-938b85021dd3",
   "metadata": {
    "tags": []
   },
   "outputs": [],
   "source": [
    "fig, ax = plt.subplots()\n",
    "\n",
    "data = np.array(energies_HEEM_temp)\n",
    "x = np.arange(1, len(data) + 1)\n",
    "mask = data > 0\n",
    "\n",
    "ax.plot(x, np.cumsum(data), 'r')\n",
    "ax.hlines(energy_exact, 1, len(data) + 1, color='k', label='Exact')\n",
    "ax.hlines(sum(data), 1, len(data) + 1, color='r', ls='--', label='Noisy simulation')\n",
    "\n",
    "# ax.plot(x, np.abs(data))\n",
    "\n",
    "# ax.bar(x[mask], np.abs(data)[mask], width=1, color='b', label=r'$E_i>0$')\n",
    "# ax.bar(x[~mask], np.abs(data)[~mask], width=1, color='r', label=r'$E_i\\leq0$')\n",
    "\n",
    "ax.set_xlim(-1, len(data) + 1)\n",
    "ax.set_xlabel('circuits')\n",
    "# ax.set_ylabel(r'$|E_i|$ [Ha]')\n",
    "ax.set_ylabel(r'$\\sum_{i}^n E_i$ [Ha]')\n",
    "\n",
    "# ax.set_yscale('log')\n",
    "\n",
    "ax.legend(loc=4)\n",
    "ax.set_title(f'{method} / {molecule_name}');"
   ]
  }
 ],
 "metadata": {
  "kernelspec": {
   "display_name": "Python 3 (ipykernel)",
   "language": "python",
   "name": "python3"
  },
  "language_info": {
   "codemirror_mode": {
    "name": "ipython",
    "version": 3
   },
   "file_extension": ".py",
   "mimetype": "text/x-python",
   "name": "python",
   "nbconvert_exporter": "python",
   "pygments_lexer": "ipython3",
   "version": "3.9.12"
  }
 },
 "nbformat": 4,
 "nbformat_minor": 5
}
