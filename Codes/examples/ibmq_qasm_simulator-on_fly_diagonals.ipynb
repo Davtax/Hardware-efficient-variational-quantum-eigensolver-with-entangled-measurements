{
 "cells": [
  {
   "cell_type": "code",
   "execution_count": 1,
   "id": "45c586e5-af22-40e0-a44e-fd16db787831",
   "metadata": {
    "execution": {
     "iopub.execute_input": "2022-06-03T11:28:59.180424Z",
     "iopub.status.busy": "2022-06-03T11:28:59.179781Z",
     "iopub.status.idle": "2022-06-03T11:29:03.389668Z",
     "shell.execute_reply": "2022-06-03T11:29:03.388981Z",
     "shell.execute_reply.started": "2022-06-03T11:28:59.180253Z"
    },
    "pycharm": {
     "name": "#%%\n"
    },
    "tags": []
   },
   "outputs": [],
   "source": [
    "import sys\n",
    "import warnings\n",
    "sys.path.append('../')\n",
    "warnings.filterwarnings('ignore')\n",
    "\n",
    "%matplotlib widget\n",
    "%load_ext autoreload\n",
    "%autoreload 1\n",
    "%aimport utils, GroupingAlgorithm, HEEM_VQE_Functions"
   ]
  },
  {
   "cell_type": "code",
   "execution_count": 2,
   "id": "9236dd35-e3fa-436f-a731-3f2b642d212f",
   "metadata": {
    "execution": {
     "iopub.execute_input": "2022-06-03T11:29:03.391053Z",
     "iopub.status.busy": "2022-06-03T11:29:03.390711Z",
     "iopub.status.idle": "2022-06-03T11:29:03.868239Z",
     "shell.execute_reply": "2022-06-03T11:29:03.867774Z",
     "shell.execute_reply.started": "2022-06-03T11:29:03.391029Z"
    },
    "pycharm": {
     "name": "#%%\n"
    },
    "tags": []
   },
   "outputs": [],
   "source": [
    "import numpy as np\n",
    "import matplotlib.pyplot as plt\n",
    "import networkx as nx\n",
    "from tqdm.auto import tqdm\n",
    "from os.path import isfile\n",
    "\n",
    "from qiskit import IBMQ, Aer, QuantumCircuit, QuantumRegister, ClassicalRegister, transpile, execute\n",
    "from qiskit.providers.aer import QasmSimulator\n",
    "from qiskit.providers.aer.noise import NoiseModel\n",
    "from qiskit.utils.quantum_instance import QuantumInstance\n",
    "from qiskit.ignis.verification import get_ghz_simple\n",
    "from qiskit.compiler import transpile\n",
    "from qiskit.tools.monitor import job_monitor\n",
    "from qiskit.opflow.state_fns import CircuitStateFn\n",
    "from qiskit.providers.aer.extensions.snapshot_statevector import *\n",
    "from qiskit.test.mock import FakeMontreal\n",
    "\n",
    "from utils import get_backend_connectivity, molecules, Label2Chain, from_string_to_numbers, load_grouping_data, current_time, load_data_IBMQ, send_ibmq_parallel\n",
    "from GroupingAlgorithm import groupingWithOrder, TPBgrouping\n",
    "from HEEM_VQE_Functions import measure_circuit_factor, probability2expected_binary, post_process_results, probability2expected_parallel, post_process_results_2, post_process_results_3"
   ]
  },
  {
   "cell_type": "markdown",
   "id": "afd5a4c0-9a6e-4a11-88c2-26424205ded3",
   "metadata": {
    "execution": {
     "iopub.execute_input": "2022-06-03T11:29:03.868845Z",
     "iopub.status.busy": "2022-06-03T11:29:03.868740Z",
     "iopub.status.idle": "2022-06-03T11:29:03.874585Z",
     "shell.execute_reply": "2022-06-03T11:29:03.874273Z",
     "shell.execute_reply.started": "2022-06-03T11:29:03.868831Z"
    },
    "tags": []
   },
   "source": [
    "def compute_energy(Groups, Measurements, method, n_chunks=10, layout=None, return_energy_temp=False):\n",
    "    \n",
    "    circuits = [measure_circuit_factor(measurement, n_qubits, measure_all=False).compose(state_0, front=True) for measurement\n",
    "                 in Measurements]\n",
    "    \n",
    "    kwards_run = {'coupling_map': coupling_map, 'noise_model': noise_model, 'basis_gates': basis_gates, 'shots': NUM_SHOTS // len(Groups)}\n",
    "    \n",
    "    if layout is not None:\n",
    "        kwards_run['initial_layout'] = layout[::-1]\n",
    "    \n",
    "    jobs = send_ibmq_parallel(backed_calculations, n_chunks, circuits, job_tag=[molecule_name, method], verbose=False,\n",
    "                              progress_bar=True, output_file='progress_' + method + '.txt', kwards_run=kwards_run)\n",
    "\n",
    "    counts = []\n",
    "    \n",
    "    for job in jobs:\n",
    "        counts += job.result().get_counts()\n",
    "    \n",
    "    energy_temp = []\n",
    "    pbar = tqdm(range(len(counts)), desc='Computing energy')\n",
    "    for j in pbar:\n",
    "        # probabilities = post_process_results(counts[j], circuits[j].num_clbits, kwards_run['shots'])\n",
    "        probabilities = post_process_results_2(counts[j], circuits[j].num_clbits)\n",
    "        \n",
    "        diagonals, factors = probability2expected_binary(coeffs, labels, [Groups[j]], [Measurements[j]], shift=False)\n",
    "        diagonals = [(~diagonal * 2 - 1).astype('int8') for diagonal in diagonals[0]]\n",
    "        \n",
    "        # energy_temp.append(np.sum((diagonals * np.array(factors[0])[:, None]) @ probabilities))\n",
    "        energy_temp.append(np.sum((diagonals * np.array(factors[0])[:, None]) @ probabilities) / kwards_run['shots'])\n",
    "\n",
    "    returns = [jobs, sum(energy_temp)]\n",
    "    \n",
    "    if return_energy_temp:\n",
    "        returns.append(energy_temp)\n",
    "        \n",
    "    return returns"
   ]
  },
  {
   "cell_type": "code",
   "execution_count": 58,
   "id": "65d8a98b-75d6-43e5-a635-c48116120463",
   "metadata": {
    "execution": {
     "iopub.execute_input": "2022-06-03T12:17:34.926448Z",
     "iopub.status.busy": "2022-06-03T12:17:34.925721Z",
     "iopub.status.idle": "2022-06-03T12:17:34.936207Z",
     "shell.execute_reply": "2022-06-03T12:17:34.935758Z",
     "shell.execute_reply.started": "2022-06-03T12:17:34.926371Z"
    },
    "tags": []
   },
   "outputs": [],
   "source": [
    "def compute_energy_sparse(Groups, Measurements, method, n_chunks=10, layout=None, return_energy_temp=False, noisy=True, shots=NUM_SHOTS):\n",
    "    \n",
    "    circuits = [measure_circuit_factor(measurement, n_qubits, measure_all=False).compose(state_0, front=True) for measurement\n",
    "                 in Measurements]\n",
    "    \n",
    "    if noisy:\n",
    "        kwards_run = {'coupling_map': coupling_map, 'noise_model': noise_model, 'basis_gates': basis_gates}\n",
    "    else:\n",
    "        kwards_run = {}\n",
    "    \n",
    "    if shots == -1:\n",
    "        shots = 20000 * len(Groups)  # Max allowed shots\n",
    "    \n",
    "    kwards_run['shots'] = shots // len(Groups)\n",
    "                \n",
    "    if layout is not None:\n",
    "        kwards_run['initial_layout'] = layout[::-1]\n",
    "    \n",
    "    jobs = send_ibmq_parallel(backed_calculations, n_chunks, circuits, job_tag=[molecule_name, method], verbose=False,\n",
    "                              progress_bar=True, output_file='progress_' + method + '.txt', kwards_run=kwards_run)\n",
    "\n",
    "    counts = []\n",
    "    \n",
    "    for job in jobs:\n",
    "        counts += job.result().get_counts()\n",
    "    \n",
    "    energy_temp = []\n",
    "    pbar = tqdm(range(len(counts)), desc='Computing energy')\n",
    "    for j in pbar:\n",
    "        counts_indices, counts_values = post_process_results_3(counts[j])\n",
    "\n",
    "        diagonals, factors = probability2expected_binary(coeffs, labels, [Groups[j]], [Measurements[j]], shift=False)\n",
    "        diagonals = [(~diagonal * 2 - 1).astype('int8') for diagonal in diagonals[0][:, counts_indices]]\n",
    "\n",
    "        energy_temp.append(np.sum((diagonals * np.array(factors[0])[:, None]) * counts_values[None, :]) / kwards_run['shots'])\n",
    "\n",
    "    returns = [jobs, sum(energy_temp)]\n",
    "    \n",
    "    if return_energy_temp:\n",
    "        returns.append(energy_temp)\n",
    "        \n",
    "    return returns"
   ]
  },
  {
   "cell_type": "code",
   "execution_count": 5,
   "id": "ef353e48-f105-4518-8c22-c7f5aae9ab4d",
   "metadata": {
    "execution": {
     "iopub.execute_input": "2022-06-03T11:29:03.921585Z",
     "iopub.status.busy": "2022-06-03T11:29:03.921487Z",
     "iopub.status.idle": "2022-06-03T11:29:03.958736Z",
     "shell.execute_reply": "2022-06-03T11:29:03.958031Z",
     "shell.execute_reply.started": "2022-06-03T11:29:03.921572Z"
    },
    "tags": []
   },
   "outputs": [],
   "source": [
    "def save_data(energy, method):\n",
    "    file = '../data/energies/' + initial_state +'/' + molecule_name + '_' + method + '.npy'\n",
    "    if isfile(file):\n",
    "        data = np.load(file)\n",
    "    else:\n",
    "        data = np.array([])\n",
    "    \n",
    "    data = np.append(data, energy)\n",
    "    np.save(file, data)"
   ]
  },
  {
   "cell_type": "code",
   "execution_count": 6,
   "id": "d4dc7ac2-ba99-4a52-99b7-58a9e85f3bc6",
   "metadata": {
    "execution": {
     "iopub.execute_input": "2022-06-03T11:29:03.959766Z",
     "iopub.status.busy": "2022-06-03T11:29:03.959535Z",
     "iopub.status.idle": "2022-06-03T11:29:08.515334Z",
     "shell.execute_reply": "2022-06-03T11:29:08.514911Z",
     "shell.execute_reply.started": "2022-06-03T11:29:03.959733Z"
    },
    "pycharm": {
     "name": "#%%\n"
    },
    "tags": []
   },
   "outputs": [],
   "source": [
    "with warnings.catch_warnings():\n",
    "    warnings.simplefilter(\"ignore\")\n",
    "    IBMQ.load_account()\n",
    "\n",
    "provider_main = IBMQ.get_provider(hub='ibm-q', group='open', project='main')\n",
    "# provider_CSIC = IBMQ.get_provider(hub='ibm-q-csic', group='internal', project='iff-csic')\n",
    "\n",
    "# name_backend = 'ibmq_montreal'\n",
    "# backend = provider_CSIC.get_backend(name_backend)\n",
    "backend = FakeMontreal()\n",
    "WC_device = get_backend_connectivity(backend)\n",
    "\n",
    "G_device = nx.Graph()\n",
    "G_device.add_edges_from(WC_device)"
   ]
  },
  {
   "cell_type": "code",
   "execution_count": 67,
   "id": "805bf7a5-238f-448d-a890-01229945a78b",
   "metadata": {
    "execution": {
     "iopub.execute_input": "2022-06-03T13:36:16.155472Z",
     "iopub.status.busy": "2022-06-03T13:36:16.154555Z",
     "iopub.status.idle": "2022-06-03T13:36:18.481018Z",
     "shell.execute_reply": "2022-06-03T13:36:18.480501Z",
     "shell.execute_reply.started": "2022-06-03T13:36:16.155327Z"
    },
    "pycharm": {
     "name": "#%%\n"
    },
    "tags": []
   },
   "outputs": [],
   "source": [
    "NUM_SHOTS = 2 ** 14\n",
    "# NUM_SHOTS = 2 ** 16\n",
    "\n",
    "backend_hpc = provider_main.get_backend('ibmq_qasm_simulator')\n",
    "backed_simulation = provider_main.get_backend('simulator_statevector')\n",
    "simulator = Aer.get_backend('aer_simulator')  # Backend for simulation\n",
    "\n",
    "device = QasmSimulator.from_backend(backend)\n",
    "coupling_map = device.configuration().coupling_map\n",
    "noise_model = NoiseModel.from_backend(device)\n",
    "# noise_model = None\n",
    "basis_gates = noise_model.basis_gates if noise_model is not None else None\n",
    "\n",
    "backed_calculations = backend_hpc"
   ]
  },
  {
   "cell_type": "code",
   "execution_count": 68,
   "id": "d93cb5f1-0c76-432a-b8b6-7632369bebf8",
   "metadata": {
    "execution": {
     "iopub.execute_input": "2022-06-03T13:36:18.482336Z",
     "iopub.status.busy": "2022-06-03T13:36:18.482107Z",
     "iopub.status.idle": "2022-06-03T13:36:18.488303Z",
     "shell.execute_reply": "2022-06-03T13:36:18.487900Z",
     "shell.execute_reply.started": "2022-06-03T13:36:18.482305Z"
    },
    "tags": []
   },
   "outputs": [],
   "source": [
    "shots_TPB = {'H2': 300, 'LiH': 300, 'BeH2': 300, 'H2O': 300, 'CH4': 300,\n",
    "             'C2H2': 300, 'CH3OH': 300, 'C2H6': 100}\n",
    "\n",
    "shots_EM = {'H2': 300, 'LiH': 300, 'BeH2': 300, 'H2O': 300, 'CH4': 300,\n",
    "            'C2H2': 100, 'CH3OH': 50, 'C2H6': 25}\n",
    "\n",
    "shots_HEEM = {'H2': 300, 'LiH': 300, 'BeH2': 300, 'H2O': 300, 'CH4': 300,\n",
    "              'C2H2': 300, 'CH3OH': 300, 'C2H6': 50}"
   ]
  },
  {
   "cell_type": "code",
   "execution_count": 118,
   "id": "75c98463-3862-4843-9909-bbd931ee95a6",
   "metadata": {
    "collapsed": false,
    "execution": {
     "iopub.execute_input": "2022-06-03T14:49:27.862430Z",
     "iopub.status.busy": "2022-06-03T14:49:27.861422Z",
     "iopub.status.idle": "2022-06-03T14:49:27.878564Z",
     "shell.execute_reply": "2022-06-03T14:49:27.878015Z",
     "shell.execute_reply.started": "2022-06-03T14:49:27.862272Z"
    },
    "jupyter": {
     "outputs_hidden": false
    },
    "pycharm": {
     "name": "#%%\n"
    },
    "tags": []
   },
   "outputs": [
    {
     "name": "stdout",
     "output_type": "stream",
     "text": [
      "Molecule loaded\n",
      "1884 total Pauli strings\n",
      "16 qubits\n"
     ]
    }
   ],
   "source": [
    "molecule_name = 'C2H2'\n",
    "initial_state = '0xN'\n",
    "\n",
    "try:\n",
    "    qubit_op = molecules(molecule_name)\n",
    "    paulis, coeffs, labels = Label2Chain(qubit_op)\n",
    "except AttributeError:\n",
    "    paulis, coeffs, labels = np.load('../data/molecules_qubitop_list.npy', allow_pickle=True).item()[molecule_name]\n",
    "\n",
    "n_qubits = len(paulis[0])\n",
    "state_0 = QuantumCircuit(n_qubits)\n",
    "# state_0 = state_0.compose(get_ghz_simple(n_qubits, measure=False))  # Initialized in the GHZ state\n",
    "\n",
    "print(f'{len(paulis)} total Pauli strings')\n",
    "print(f'{n_qubits} qubits')"
   ]
  },
  {
   "cell_type": "markdown",
   "id": "ffc87f02-7a80-4c13-8bf9-9c9c1e6f7bf8",
   "metadata": {
    "tags": []
   },
   "source": [
    "# Exact energy"
   ]
  },
  {
   "cell_type": "markdown",
   "id": "6d17b689-a954-4a22-8da0-ec13719155c4",
   "metadata": {},
   "source": [
    "## $|0\\rangle^{\\otimes N}$"
   ]
  },
  {
   "cell_type": "code",
   "execution_count": 119,
   "id": "6de095b7-3ea0-4587-9150-f80f154f0361",
   "metadata": {
    "execution": {
     "iopub.execute_input": "2022-06-03T14:49:28.616402Z",
     "iopub.status.busy": "2022-06-03T14:49:28.615408Z",
     "iopub.status.idle": "2022-06-03T14:49:28.622478Z",
     "shell.execute_reply": "2022-06-03T14:49:28.622049Z",
     "shell.execute_reply.started": "2022-06-03T14:49:28.616245Z"
    },
    "tags": []
   },
   "outputs": [
    {
     "name": "stdout",
     "output_type": "stream",
     "text": [
      "Exact energy: -7.75603850898908\n"
     ]
    }
   ],
   "source": [
    "if initial_state == '0xN':\n",
    "    energy_exact = 0\n",
    "\n",
    "    for i in range(len(labels)):\n",
    "        label = labels[i]\n",
    "        if 'X' not in label and 'Y' not in label:\n",
    "            energy_exact += coeffs[i]\n",
    "    print('Exact energy: {}'.format(energy_exact))"
   ]
  },
  {
   "cell_type": "markdown",
   "id": "eea7dfde-1d4c-414b-940d-7090153201f0",
   "metadata": {
    "jp-MarkdownHeadingCollapsed": true,
    "tags": []
   },
   "source": [
    "## $|\\mathrm{GHZ}\\rangle$"
   ]
  },
  {
   "cell_type": "code",
   "execution_count": 10,
   "id": "1b3c93c7-a72c-4d02-b65a-bb8b190f7511",
   "metadata": {
    "execution": {
     "iopub.execute_input": "2022-06-03T10:43:39.151678Z",
     "iopub.status.busy": "2022-06-03T10:43:39.151164Z",
     "iopub.status.idle": "2022-06-03T10:43:39.188213Z",
     "shell.execute_reply": "2022-06-03T10:43:39.187687Z",
     "shell.execute_reply.started": "2022-06-03T10:43:39.151611Z"
    },
    "tags": []
   },
   "outputs": [],
   "source": [
    "if initial_state == 'GHZ':\n",
    "    diagonals = {'I': np.array([1, 0, 0, 1]), 'X': np.array([0, 1, 1, 0]),\n",
    "                 'Y': np.array([0, 1j, -1j, 0]), 'Z': np.array([1, 0, 0, -1])}\n",
    "\n",
    "    energy_exact = 0\n",
    "    for label, coeff in zip(labels, coeffs):\n",
    "        diagonal = np.ones(4, dtype=complex)\n",
    "        for op in label:\n",
    "            diagonal *= diagonals[op]\n",
    "        energy_exact += coeff * np.sum(diagonal) / 2\n",
    "\n",
    "    print('Exact energy: {}'.format(energy_exact.real))"
   ]
  },
  {
   "cell_type": "markdown",
   "id": "8d9d2d5b",
   "metadata": {
    "jp-MarkdownHeadingCollapsed": true,
    "pycharm": {
     "name": "#%% md\n"
    },
    "tags": []
   },
   "source": [
    "## Exact (Numerical)"
   ]
  },
  {
   "cell_type": "markdown",
   "id": "59da1be4-475e-4714-b2c9-4809a81ce4fe",
   "metadata": {
    "execution": {
     "iopub.execute_input": "2022-05-23T10:05:35.085068Z",
     "iopub.status.busy": "2022-05-23T10:05:35.084667Z",
     "iopub.status.idle": "2022-05-23T10:07:17.044664Z",
     "shell.execute_reply": "2022-05-23T10:07:17.044113Z",
     "shell.execute_reply.started": "2022-05-23T10:05:35.085053Z"
    },
    "pycharm": {
     "name": "#%%\n"
    },
    "tags": []
   },
   "source": [
    "psi = CircuitStateFn(state_0)\n",
    "energy_exact = psi.adjoint().compose(qubit_op).compose(psi).eval().real\n",
    "    \n",
    "print('Exact energy: {}'.format(energy_exact))"
   ]
  },
  {
   "cell_type": "markdown",
   "id": "0616a9a9",
   "metadata": {
    "jp-MarkdownHeadingCollapsed": true,
    "pycharm": {
     "name": "#%% md\n"
    },
    "tags": []
   },
   "source": [
    "## Exact (Simulation)"
   ]
  },
  {
   "cell_type": "code",
   "execution_count": 32,
   "id": "7cce5c7e",
   "metadata": {
    "collapsed": false,
    "execution": {
     "iopub.execute_input": "2022-06-03T11:51:00.116730Z",
     "iopub.status.busy": "2022-06-03T11:51:00.116197Z",
     "iopub.status.idle": "2022-06-03T11:51:00.495852Z",
     "shell.execute_reply": "2022-06-03T11:51:00.495414Z",
     "shell.execute_reply.started": "2022-06-03T11:51:00.116663Z"
    },
    "jupyter": {
     "outputs_hidden": false
    },
    "pycharm": {
     "name": "#%%\n"
    },
    "tags": []
   },
   "outputs": [
    {
     "name": "stdout",
     "output_type": "stream",
     "text": [
      "Number of groups: 205\n"
     ]
    }
   ],
   "source": [
    "Groups, Measurements, _ = load_grouping_data(molecule_name, 'EM')\n",
    "# Groups, Measurements, _ = groupingWithOrder(paulis, connected=True, print_progress=True)\n",
    "print('Number of groups: {}'.format(len(Groups)))\n",
    "\n",
    "circuits_exact = []\n",
    "for j, measure in enumerate(Measurements):\n",
    "    circuit = measure_circuit_factor(measure, n_qubits, make_measurements=False)\n",
    "    circuit = circuit.compose(state_0, front=True)\n",
    "    # circuit.save_statevector()\n",
    "    circuit.snapshot_statevector('snapshot')\n",
    "    circuits_exact.append(circuit)"
   ]
  },
  {
   "cell_type": "code",
   "execution_count": 35,
   "id": "5bb0b910",
   "metadata": {
    "collapsed": false,
    "execution": {
     "iopub.execute_input": "2022-06-03T11:52:12.349967Z",
     "iopub.status.busy": "2022-06-03T11:52:12.349457Z",
     "iopub.status.idle": "2022-06-03T11:52:12.355916Z",
     "shell.execute_reply": "2022-06-03T11:52:12.355626Z",
     "shell.execute_reply.started": "2022-06-03T11:52:12.349902Z"
    },
    "jupyter": {
     "outputs_hidden": false
    },
    "pycharm": {
     "name": "#%%\n"
    },
    "tags": []
   },
   "outputs": [
    {
     "name": "stdout",
     "output_type": "stream",
     "text": [
      "3\n"
     ]
    }
   ],
   "source": [
    "n_max = 100\n",
    "\n",
    "if n_max == -1:\n",
    "    n_max = len(circuits_exact)\n",
    "n_runs = int(np.ceil(len(circuits_exact) / n_max))\n",
    "print(n_runs)"
   ]
  },
  {
   "cell_type": "code",
   "execution_count": 40,
   "id": "2bcdbe7f-93ce-41fb-84cd-ce905d645995",
   "metadata": {
    "execution": {
     "iopub.execute_input": "2022-06-03T11:55:36.884420Z",
     "iopub.status.busy": "2022-06-03T11:55:36.883867Z",
     "iopub.status.idle": "2022-06-03T11:56:30.489870Z",
     "shell.execute_reply": "2022-06-03T11:56:30.489242Z",
     "shell.execute_reply.started": "2022-06-03T11:55:36.884354Z"
    },
    "tags": []
   },
   "outputs": [
    {
     "data": {
      "application/vnd.jupyter.widget-view+json": {
       "model_id": "86f9c1f70bbf495fb92c5b2189b638dd",
       "version_major": 2,
       "version_minor": 0
      },
      "text/plain": [
       "Jobs completed:   0%|          | 0/3 [00:00<?, ?it/s]"
      ]
     },
     "metadata": {},
     "output_type": "display_data"
    }
   ],
   "source": [
    "jobs = send_ibmq_parallel(backed_calculations, n_max, circuits_exact, job_tag=molecule_name, kwards_run={'shots': 1}, progress_bar=True, verbose=False)\n",
    "jobs_ids = [job.job_id() for job in jobs]\n",
    "\n",
    "np.save(molecule_name + '_exact_job_ids.npy', jobs_ids)"
   ]
  },
  {
   "cell_type": "code",
   "execution_count": 37,
   "id": "31608616",
   "metadata": {
    "collapsed": false,
    "execution": {
     "iopub.execute_input": "2022-06-03T11:53:13.999760Z",
     "iopub.status.busy": "2022-06-03T11:53:13.999170Z",
     "iopub.status.idle": "2022-06-03T11:53:14.007117Z",
     "shell.execute_reply": "2022-06-03T11:53:14.006772Z",
     "shell.execute_reply.started": "2022-06-03T11:53:13.999681Z"
    },
    "jupyter": {
     "outputs_hidden": false
    },
    "pycharm": {
     "name": "#%%\n"
    },
    "tags": []
   },
   "outputs": [],
   "source": [
    "jobs_ids = np.load(molecule_name + '_exact_job_ids.npy').tolist()"
   ]
  },
  {
   "cell_type": "code",
   "execution_count": 39,
   "id": "3c4c512b-5b03-4fd3-9c34-836e5e16b525",
   "metadata": {
    "execution": {
     "iopub.execute_input": "2022-06-03T11:54:53.833464Z",
     "iopub.status.busy": "2022-06-03T11:54:53.832907Z",
     "iopub.status.idle": "2022-06-03T11:54:53.934729Z",
     "shell.execute_reply": "2022-06-03T11:54:53.934286Z",
     "shell.execute_reply.started": "2022-06-03T11:54:53.833398Z"
    },
    "tags": []
   },
   "outputs": [
    {
     "data": {
      "application/vnd.jupyter.widget-view+json": {
       "model_id": "6b209849f11b4a79beaa6afa29a4da6f",
       "version_major": 2,
       "version_minor": 0
      },
      "text/plain": [
       "Computing exact energy:   0%|          | 0/3 [00:00<?, ?it/s]"
      ]
     },
     "metadata": {},
     "output_type": "display_data"
    },
    {
     "ename": "FileNotFoundError",
     "evalue": "[Errno 2] No such file or directory: 'C:/Users/david/Downloads/'",
     "output_type": "error",
     "traceback": [
      "\u001b[0;31m---------------------------------------------------------------------------\u001b[0m",
      "\u001b[0;31mFileNotFoundError\u001b[0m                         Traceback (most recent call last)",
      "\u001b[0;32m/tmp/ipykernel_2624917/3791632228.py\u001b[0m in \u001b[0;36m<module>\u001b[0;34m\u001b[0m\n\u001b[1;32m      3\u001b[0m \u001b[0mpbar\u001b[0m \u001b[0;34m=\u001b[0m \u001b[0mtqdm\u001b[0m\u001b[0;34m(\u001b[0m\u001b[0mtotal\u001b[0m\u001b[0;34m=\u001b[0m\u001b[0mlen\u001b[0m\u001b[0;34m(\u001b[0m\u001b[0mjobs_ids\u001b[0m\u001b[0;34m)\u001b[0m\u001b[0;34m,\u001b[0m \u001b[0mdesc\u001b[0m\u001b[0;34m=\u001b[0m\u001b[0;34m'Computing exact energy'\u001b[0m\u001b[0;34m)\u001b[0m\u001b[0;34m\u001b[0m\u001b[0;34m\u001b[0m\u001b[0m\n\u001b[1;32m      4\u001b[0m \u001b[0;32mfor\u001b[0m \u001b[0mi\u001b[0m \u001b[0;32min\u001b[0m \u001b[0mrange\u001b[0m\u001b[0;34m(\u001b[0m\u001b[0mlen\u001b[0m\u001b[0;34m(\u001b[0m\u001b[0mjobs_ids\u001b[0m\u001b[0;34m)\u001b[0m\u001b[0;34m)\u001b[0m\u001b[0;34m:\u001b[0m\u001b[0;34m\u001b[0m\u001b[0;34m\u001b[0m\u001b[0m\n\u001b[0;32m----> 5\u001b[0;31m     \u001b[0mprob\u001b[0m \u001b[0;34m=\u001b[0m \u001b[0mload_data_IBMQ\u001b[0m\u001b[0;34m(\u001b[0m\u001b[0mjobs_ids\u001b[0m\u001b[0;34m[\u001b[0m\u001b[0mi\u001b[0m\u001b[0;34m]\u001b[0m\u001b[0;34m,\u001b[0m \u001b[0mverbose\u001b[0m\u001b[0;34m=\u001b[0m\u001b[0;32mTrue\u001b[0m\u001b[0;34m)\u001b[0m\u001b[0;34m\u001b[0m\u001b[0;34m\u001b[0m\u001b[0m\n\u001b[0m\u001b[1;32m      6\u001b[0m \u001b[0;34m\u001b[0m\u001b[0m\n\u001b[1;32m      7\u001b[0m     \u001b[0minitial\u001b[0m \u001b[0;34m=\u001b[0m \u001b[0mi\u001b[0m \u001b[0;34m*\u001b[0m \u001b[0mn_max\u001b[0m\u001b[0;34m\u001b[0m\u001b[0;34m\u001b[0m\u001b[0m\n",
      "\u001b[0;32m~/HEEM/examples/../utils.py\u001b[0m in \u001b[0;36mload_data_IBMQ\u001b[0;34m(job_id, download_path, verbose)\u001b[0m\n\u001b[1;32m   1379\u001b[0m         \u001b[0mdownload_path\u001b[0m \u001b[0;34m=\u001b[0m \u001b[0;34m'C:/Users/david/Downloads/'\u001b[0m\u001b[0;34m\u001b[0m\u001b[0;34m\u001b[0m\u001b[0m\n\u001b[1;32m   1380\u001b[0m \u001b[0;34m\u001b[0m\u001b[0m\n\u001b[0;32m-> 1381\u001b[0;31m     \u001b[0mdownload_data_IBMQ\u001b[0m\u001b[0;34m(\u001b[0m\u001b[0mjob_id\u001b[0m\u001b[0;34m,\u001b[0m \u001b[0mdownload_path\u001b[0m\u001b[0;34m)\u001b[0m\u001b[0;34m\u001b[0m\u001b[0;34m\u001b[0m\u001b[0m\n\u001b[0m\u001b[1;32m   1382\u001b[0m     \u001b[0;32mif\u001b[0m \u001b[0mverbose\u001b[0m\u001b[0;34m:\u001b[0m\u001b[0;34m\u001b[0m\u001b[0;34m\u001b[0m\u001b[0m\n\u001b[1;32m   1383\u001b[0m         \u001b[0mprint\u001b[0m\u001b[0;34m(\u001b[0m\u001b[0;34m'data downloaded'\u001b[0m\u001b[0;34m)\u001b[0m\u001b[0;34m\u001b[0m\u001b[0;34m\u001b[0m\u001b[0m\n",
      "\u001b[0;32m~/HEEM/examples/../utils.py\u001b[0m in \u001b[0;36mdownload_data_IBMQ\u001b[0;34m(job_id, download_path)\u001b[0m\n\u001b[1;32m   1355\u001b[0m     \u001b[0mwebbrowser\u001b[0m\u001b[0;34m.\u001b[0m\u001b[0mopen\u001b[0m\u001b[0;34m(\u001b[0m\u001b[0mprefix\u001b[0m \u001b[0;34m+\u001b[0m \u001b[0mjob_id\u001b[0m\u001b[0;34m)\u001b[0m\u001b[0;34m\u001b[0m\u001b[0;34m\u001b[0m\u001b[0m\n\u001b[1;32m   1356\u001b[0m     \u001b[0;32mwhile\u001b[0m \u001b[0;32mTrue\u001b[0m\u001b[0;34m:\u001b[0m\u001b[0;34m\u001b[0m\u001b[0;34m\u001b[0m\u001b[0m\n\u001b[0;32m-> 1357\u001b[0;31m         \u001b[0;32mif\u001b[0m \u001b[0mlen\u001b[0m\u001b[0;34m(\u001b[0m\u001b[0;34m[\u001b[0m\u001b[0mname\u001b[0m \u001b[0;32mfor\u001b[0m \u001b[0mname\u001b[0m \u001b[0;32min\u001b[0m \u001b[0mos\u001b[0m\u001b[0;34m.\u001b[0m\u001b[0mlistdir\u001b[0m\u001b[0;34m(\u001b[0m\u001b[0mdownload_path\u001b[0m\u001b[0;34m)\u001b[0m \u001b[0;32mif\u001b[0m \u001b[0mjob_id\u001b[0m \u001b[0;32min\u001b[0m \u001b[0mname\u001b[0m\u001b[0;34m]\u001b[0m\u001b[0;34m)\u001b[0m \u001b[0;34m>\u001b[0m \u001b[0;36m0\u001b[0m\u001b[0;34m:\u001b[0m\u001b[0;34m\u001b[0m\u001b[0;34m\u001b[0m\u001b[0m\n\u001b[0m\u001b[1;32m   1358\u001b[0m             \u001b[0;32mbreak\u001b[0m\u001b[0;34m\u001b[0m\u001b[0;34m\u001b[0m\u001b[0m\n\u001b[1;32m   1359\u001b[0m         \u001b[0;32melse\u001b[0m\u001b[0;34m:\u001b[0m\u001b[0;34m\u001b[0m\u001b[0;34m\u001b[0m\u001b[0m\n",
      "\u001b[0;31mFileNotFoundError\u001b[0m: [Errno 2] No such file or directory: 'C:/Users/david/Downloads/'"
     ]
    }
   ],
   "source": [
    "energy_exact = 0\n",
    "\n",
    "pbar = tqdm(total=len(jobs_ids), desc='Computing exact energy')\n",
    "for i in range(len(jobs_ids)):\n",
    "    prob = load_data_IBMQ(jobs_ids[i], verbose=True)\n",
    "    \n",
    "    initial = i * n_max\n",
    "    final = min(initial + n_max, len(circuits_exact))\n",
    "    \n",
    "    temp = probability2expected_parallel(-1, coeffs, labels, Groups[initial:final], Measurements[initial:final], shift=True, print_progress=True)\n",
    "    diagonals = [x[0] for x in temp]\n",
    "    factors = [x[1] for x in temp]\n",
    "    \n",
    "    diagonals = [(~diagonal * 2 - 1).astype('int8') for diagonal in diagonals]\n",
    "    \n",
    "    for j in range(len(diagonals)):\n",
    "        energy_exact += np.sum((diagonals[j] * np.array(factors[j])[:, None]) @ prob[j])\n",
    "        \n",
    "    pbar.update()\n",
    "pbar.close()\n",
    "print('Exact energy: {}'.format(energy_exact))"
   ]
  },
  {
   "cell_type": "markdown",
   "id": "1dfd4c50-ba67-49c2-a091-193f57ec0612",
   "metadata": {
    "jp-MarkdownHeadingCollapsed": true,
    "tags": []
   },
   "source": [
    "## Approximation (Simulation)"
   ]
  },
  {
   "cell_type": "code",
   "execution_count": 64,
   "id": "80dc75ad-a6fb-43f1-8b9d-aabce9bf0481",
   "metadata": {
    "execution": {
     "iopub.execute_input": "2022-06-03T12:20:17.279130Z",
     "iopub.status.busy": "2022-06-03T12:20:17.278435Z",
     "iopub.status.idle": "2022-06-03T12:20:17.417050Z",
     "shell.execute_reply": "2022-06-03T12:20:17.416629Z",
     "shell.execute_reply.started": "2022-06-03T12:20:17.279055Z"
    },
    "tags": []
   },
   "outputs": [
    {
     "name": "stdout",
     "output_type": "stream",
     "text": [
      "Number of groups 758\n"
     ]
    }
   ],
   "source": [
    "temp = load_grouping_data(molecule_name, 'EM')\n",
    "\n",
    "if temp is not None:\n",
    "    Groups, Measurements, layout = temp\n",
    "else:\n",
    "    Groups, Measurements, layout = groupingWithOrder(paulis, connected=True, print_progress=True)\n",
    "\n",
    "print('Number of groups', len(Groups))"
   ]
  },
  {
   "cell_type": "code",
   "execution_count": 65,
   "id": "f97d483d-ae49-46d4-8c20-d05f2730c4d0",
   "metadata": {
    "execution": {
     "iopub.execute_input": "2022-06-03T12:20:19.546852Z",
     "iopub.status.busy": "2022-06-03T12:20:19.546108Z",
     "iopub.status.idle": "2022-06-03T12:57:25.390987Z",
     "shell.execute_reply": "2022-06-03T12:57:25.390575Z",
     "shell.execute_reply.started": "2022-06-03T12:20:19.546776Z"
    },
    "tags": []
   },
   "outputs": [
    {
     "data": {
      "application/vnd.jupyter.widget-view+json": {
       "model_id": "3e58a153748549e1b24ad087d32f106e",
       "version_major": 2,
       "version_minor": 0
      },
      "text/plain": [
       "Jobs completed:   0%|          | 0/3 [00:00<?, ?it/s]"
      ]
     },
     "metadata": {},
     "output_type": "display_data"
    },
    {
     "data": {
      "application/vnd.jupyter.widget-view+json": {
       "model_id": "6bf4390c27ff4a3db80aca575f3684d4",
       "version_major": 2,
       "version_minor": 0
      },
      "text/plain": [
       "Computing energy:   0%|          | 0/758 [00:00<?, ?it/s]"
      ]
     },
     "metadata": {},
     "output_type": "display_data"
    },
    {
     "name": "stdout",
     "output_type": "stream",
     "text": [
      "Exact energy: -11.432072396915947\n"
     ]
    }
   ],
   "source": [
    "jobs, energy_exact = compute_energy_sparse(Groups, Measurements, 'Noiseless', n_chunks=300, layout=layout, shots=-1, noisy=False)\n",
    "print('Exact energy: {}'.format(energy_exact))"
   ]
  },
  {
   "cell_type": "markdown",
   "id": "cf5ca092-ba69-45dd-83f2-2639a360cfd6",
   "metadata": {},
   "source": [
    "# TPB"
   ]
  },
  {
   "cell_type": "code",
   "execution_count": 120,
   "id": "b805ff85-c9fc-43a1-88e3-7a66f8d52381",
   "metadata": {
    "execution": {
     "iopub.execute_input": "2022-06-03T14:49:30.820568Z",
     "iopub.status.busy": "2022-06-03T14:49:30.819656Z",
     "iopub.status.idle": "2022-06-03T14:49:30.872517Z",
     "shell.execute_reply": "2022-06-03T14:49:30.872020Z",
     "shell.execute_reply.started": "2022-06-03T14:49:30.820425Z"
    },
    "pycharm": {
     "name": "#%%\n"
    },
    "tags": []
   },
   "outputs": [
    {
     "name": "stdout",
     "output_type": "stream",
     "text": [
      "Number of groups 457\n"
     ]
    }
   ],
   "source": [
    "temp = load_grouping_data(molecule_name, 'TPB')\n",
    "# temp = None\n",
    "\n",
    "if temp is not None:\n",
    "    Groups, Measurements = temp\n",
    "else:\n",
    "    _, Groups, Measurements = TPBgrouping(paulis, print_progress=True)\n",
    "\n",
    "print('Number of groups', len(Groups))"
   ]
  },
  {
   "cell_type": "code",
   "execution_count": null,
   "id": "424d60cf-5791-400f-bc87-558d7d780f90",
   "metadata": {
    "execution": {
     "iopub.execute_input": "2022-06-03T14:49:31.034788Z",
     "iopub.status.busy": "2022-06-03T14:49:31.033862Z"
    },
    "pycharm": {
     "name": "#%%\n"
    },
    "tags": []
   },
   "outputs": [
    {
     "data": {
      "application/vnd.jupyter.widget-view+json": {
       "model_id": "2dce13c810a541db8f3c8f737990c937",
       "version_major": 2,
       "version_minor": 0
      },
      "text/plain": [
       "Jobs completed:   0%|          | 0/2 [00:00<?, ?it/s]"
      ]
     },
     "metadata": {},
     "output_type": "display_data"
    },
    {
     "data": {
      "application/vnd.jupyter.widget-view+json": {
       "model_id": "2ca8029d241046cfbe349e4aff79b4ec",
       "version_major": 2,
       "version_minor": 0
      },
      "text/plain": [
       "Computing energy:   0%|          | 0/457 [00:00<?, ?it/s]"
      ]
     },
     "metadata": {},
     "output_type": "display_data"
    },
    {
     "name": "stdout",
     "output_type": "stream",
     "text": [
      "TPB energy: -9.014964142658684\n",
      "Relative error: 16.232 %\n",
      "Simulation time 57.632 s\n"
     ]
    },
    {
     "data": {
      "application/vnd.jupyter.widget-view+json": {
       "model_id": "ece006282d1d438bb0576121c35b6100",
       "version_major": 2,
       "version_minor": 0
      },
      "text/plain": [
       "Jobs completed:   0%|          | 0/2 [00:00<?, ?it/s]"
      ]
     },
     "metadata": {},
     "output_type": "display_data"
    },
    {
     "data": {
      "application/vnd.jupyter.widget-view+json": {
       "model_id": "9cbf913888184a9ea5683fc15734cf45",
       "version_major": 2,
       "version_minor": 0
      },
      "text/plain": [
       "Computing energy:   0%|          | 0/457 [00:00<?, ?it/s]"
      ]
     },
     "metadata": {},
     "output_type": "display_data"
    },
    {
     "name": "stdout",
     "output_type": "stream",
     "text": [
      "TPB energy: -8.980198531676542\n",
      "Relative error: 15.783 %\n",
      "Simulation time 69.236 s\n"
     ]
    },
    {
     "data": {
      "application/vnd.jupyter.widget-view+json": {
       "model_id": "c8203d45b9994380a5f75c2d9deec533",
       "version_major": 2,
       "version_minor": 0
      },
      "text/plain": [
       "Jobs completed:   0%|          | 0/2 [00:00<?, ?it/s]"
      ]
     },
     "metadata": {},
     "output_type": "display_data"
    },
    {
     "data": {
      "application/vnd.jupyter.widget-view+json": {
       "model_id": "ad61ff04c6b64024bd54d69de750fc70",
       "version_major": 2,
       "version_minor": 0
      },
      "text/plain": [
       "Computing energy:   0%|          | 0/457 [00:00<?, ?it/s]"
      ]
     },
     "metadata": {},
     "output_type": "display_data"
    },
    {
     "name": "stdout",
     "output_type": "stream",
     "text": [
      "TPB energy: -8.894368255477437\n",
      "Relative error: 14.677 %\n",
      "Simulation time 60.885999999999996 s\n"
     ]
    },
    {
     "data": {
      "application/vnd.jupyter.widget-view+json": {
       "model_id": "e2c0dc0dae3a440c9110e983b6dfde65",
       "version_major": 2,
       "version_minor": 0
      },
      "text/plain": [
       "Jobs completed:   0%|          | 0/2 [00:00<?, ?it/s]"
      ]
     },
     "metadata": {},
     "output_type": "display_data"
    },
    {
     "data": {
      "application/vnd.jupyter.widget-view+json": {
       "model_id": "89762a06df98403d901e52000ff9c814",
       "version_major": 2,
       "version_minor": 0
      },
      "text/plain": [
       "Computing energy:   0%|          | 0/457 [00:00<?, ?it/s]"
      ]
     },
     "metadata": {},
     "output_type": "display_data"
    },
    {
     "name": "stdout",
     "output_type": "stream",
     "text": [
      "TPB energy: -9.107656347506175\n",
      "Relative error: 17.427 %\n",
      "Simulation time 73.024 s\n"
     ]
    },
    {
     "data": {
      "application/vnd.jupyter.widget-view+json": {
       "model_id": "707382b17e904ca9a170b91280f72a1f",
       "version_major": 2,
       "version_minor": 0
      },
      "text/plain": [
       "Jobs completed:   0%|          | 0/2 [00:00<?, ?it/s]"
      ]
     },
     "metadata": {},
     "output_type": "display_data"
    }
   ],
   "source": [
    "method = 'TPB'\n",
    "\n",
    "n_repeats = 5\n",
    "\n",
    "for _ in range(n_repeats):\n",
    "    jobs_TPB, energy_TPB, energies_TPB_temp = compute_energy_sparse(Groups, Measurements, method, n_chunks=shots_TPB[molecule_name], return_energy_temp=True)\n",
    "    relative_TPB = np.abs((energy_TPB - energy_exact) / energy_exact)\n",
    "\n",
    "    print('TPB energy: {}'.format(energy_TPB))\n",
    "    print('Relative error: {:.3f} %'.format(relative_TPB * 100))\n",
    "    \n",
    "    try:\n",
    "        time = sum((job.time_per_step()['COMPLETED'] - job.time_per_step()['RUNNING']).total_seconds() for job in jobs_TPB)\n",
    "        print(f'Simulation time {time} s')\n",
    "    except KeyError:\n",
    "        print('WTF IBMQ?')\n",
    "\n",
    "    with open('progress_' + method + '.txt', 'w') as f:\n",
    "        f.write('Done: {}\\n'.format(energy_TPB))\n",
    "\n",
    "    save_data(energy_TPB, method)"
   ]
  },
  {
   "cell_type": "code",
   "execution_count": null,
   "id": "245f59f5-e542-4d8b-8b93-c3c5c789899c",
   "metadata": {
    "tags": []
   },
   "outputs": [],
   "source": [
    "fig, ax = plt.subplots()\n",
    "\n",
    "data = np.array(energies_TPB_temp)\n",
    "x = np.arange(1, len(data) + 1)\n",
    "mask = data > 0\n",
    "\n",
    "ax.plot(x, np.cumsum(data), 'r')\n",
    "ax.hlines(energy_exact, 1, len(data) + 1, color='k', label='Exact')\n",
    "ax.hlines(sum(data), 1, len(data) + 1, color='r', ls='--', label='Noisy simulation')\n",
    "\n",
    "# ax.plot(x, np.abs(data))\n",
    "\n",
    "# ax.bar(x[mask], np.abs(data)[mask], width=1, color='b', label=r'$E_i>0$')\n",
    "# ax.bar(x[~mask], np.abs(data)[~mask], width=1, color='r', label=r'$E_i\\leq0$')\n",
    "\n",
    "ax.set_xlim(-1, len(data) + 1)\n",
    "ax.set_xlabel('circuits')\n",
    "# ax.set_ylabel(r'$|E_i|$ [Ha]')\n",
    "ax.set_ylabel(r'$\\sum_{i}^n E_i$ [Ha]')\n",
    "\n",
    "# ax.set_yscale('log')\n",
    "\n",
    "ax.legend(loc=4)\n",
    "ax.set_title(f'{method} / {molecule_name}');"
   ]
  },
  {
   "cell_type": "markdown",
   "id": "decf7b5c-d934-4118-92b1-b6ce9cd72466",
   "metadata": {
    "pycharm": {
     "name": "#%% md\n"
    },
    "tags": []
   },
   "source": [
    "# EM"
   ]
  },
  {
   "cell_type": "code",
   "execution_count": null,
   "id": "9c2029bb-6c83-44a1-bd4e-974daf145bf8",
   "metadata": {
    "pycharm": {
     "name": "#%%\n"
    },
    "tags": []
   },
   "outputs": [],
   "source": [
    "temp = load_grouping_data(molecule_name, 'EM')\n",
    "# temp = None\n",
    "\n",
    "if temp is not None:\n",
    "    Groups, Measurements, layout = temp\n",
    "else:\n",
    "    Groups, Measurements, layout = groupingWithOrder(paulis, connected=True, print_progress=True)\n",
    "\n",
    "missing = []\n",
    "for i in range(np.max(np.array(WC_device)) + 1):\n",
    "    if i not in layout:\n",
    "        missing.append(i)    \n",
    "\n",
    "# layout = (layout[::-1] + missing)[::-1]\n",
    "    \n",
    "print('Number of groups', len(Groups))"
   ]
  },
  {
   "cell_type": "code",
   "execution_count": null,
   "id": "c02c9924-6614-4f60-a189-67d8ec8ae84a",
   "metadata": {
    "pycharm": {
     "name": "#%%\n"
    },
    "tags": []
   },
   "outputs": [],
   "source": [
    "method = 'EM'\n",
    "\n",
    "n_repeats = 5\n",
    "\n",
    "for _ in range(n_repeats):\n",
    "    jobs_EM, energy_EM, energies_EM_temp = compute_energy_sparse(Groups, Measurements, method, layout=layout, n_chunks=shots_EM[molecule_name], return_energy_temp=True)\n",
    "    relative_EM= np.abs((energy_EM - energy_exact) / energy_exact)\n",
    "\n",
    "    print('EM energy: {}'.format(energy_EM))\n",
    "    print('Relative error: {:.3f} %'.format(relative_EM * 100))\n",
    "    \n",
    "    try:\n",
    "        time = sum((job.time_per_step()['COMPLETED'] - job.time_per_step()['RUNNING']).total_seconds() for job in jobs_EM)\n",
    "        print(f'Simulation time {time} s')\n",
    "    except KeyError:\n",
    "        print('WTF IBMQ?')\n",
    "\n",
    "    with open('progress_' + method + '.txt', 'w') as f:\n",
    "        f.write('Done: {}\\n'.format(energy_EM))\n",
    "\n",
    "    save_data(energy_EM, method)"
   ]
  },
  {
   "cell_type": "code",
   "execution_count": null,
   "id": "81498c0d-4b3b-46da-a8f1-b0835714ecc1",
   "metadata": {
    "tags": []
   },
   "outputs": [],
   "source": [
    "fig, ax = plt.subplots()\n",
    "\n",
    "data = np.array(energies_EM_temp)\n",
    "x = np.arange(1, len(data) + 1)\n",
    "mask = data > 0\n",
    "\n",
    "ax.plot(x, np.cumsum(data), 'r')\n",
    "ax.hlines(energy_exact, 1, len(data) + 1, color='k', label='Exact')\n",
    "ax.hlines(sum(data), 1, len(data) + 1, color='r', ls='--', label='Noisy simulation')\n",
    "\n",
    "# ax.plot(x, np.abs(data))\n",
    "\n",
    "# ax.bar(x[mask], np.abs(data)[mask], width=1, color='b', label=r'$E_i>0$')\n",
    "# ax.bar(x[~mask], np.abs(data)[~mask], width=1, color='r', label=r'$E_i\\leq0$')\n",
    "\n",
    "ax.set_xlim(-1, len(data) + 1)\n",
    "ax.set_xlabel('circuits')\n",
    "# ax.set_ylabel(r'$|E_i|$ [Ha]')\n",
    "ax.set_ylabel(r'$\\sum_{i}^n E_i$ [Ha]')\n",
    "\n",
    "# ax.set_yscale('log')\n",
    "\n",
    "ax.legend(loc=4)\n",
    "ax.set_title(f'{method} / {molecule_name}');"
   ]
  },
  {
   "cell_type": "markdown",
   "id": "074933a7-641e-44fa-b2d4-91d8e15cf898",
   "metadata": {
    "pycharm": {
     "name": "#%% md\n"
    },
    "tags": []
   },
   "source": [
    "# HEEM"
   ]
  },
  {
   "cell_type": "code",
   "execution_count": null,
   "id": "87dce716-6a03-447a-b590-9eb8aa154f31",
   "metadata": {
    "pycharm": {
     "name": "#%%\n"
    },
    "tags": []
   },
   "outputs": [],
   "source": [
    "temp = load_grouping_data(molecule_name, 'HEEM')\n",
    "# temp = None\n",
    "\n",
    "if temp is not None:\n",
    "    Groups, Measurements, layout = temp\n",
    "else:\n",
    "    Groups, Measurements, layout = groupingWithOrder(paulis, G_device, connected=True, print_progress=True)\n",
    "\n",
    "missing = []\n",
    "for i in range(np.max(np.array(WC_device)) + 1):\n",
    "    if i not in layout:\n",
    "        missing.append(i)    \n",
    "\n",
    "# layout = (layout[::-1] + missing)[::-1]\n",
    "\n",
    "print('Number of groups', len(Groups))"
   ]
  },
  {
   "cell_type": "code",
   "execution_count": null,
   "id": "11050b1e-1fb1-4539-873e-ed27ca650a35",
   "metadata": {
    "pycharm": {
     "name": "#%%\n"
    },
    "tags": []
   },
   "outputs": [],
   "source": [
    "method = 'HEEM'\n",
    "\n",
    "n_repeats = 5\n",
    "\n",
    "for _ in range(n_repeats):\n",
    "    jobs_HEEM, energy_HEEM, energies_HEEM_temp = compute_energy_sparse(Groups, Measurements, method, n_chunks=shots_HEEM[molecule_name], layout=layout, return_energy_temp=True)\n",
    "    relative_HEEM = np.abs((energy_HEEM - energy_exact) / energy_exact)\n",
    "\n",
    "    print('HEEM energy: {}'.format(energy_HEEM))\n",
    "    print('Relative error: {:.3f} %'.format(relative_HEEM * 100))\n",
    "    \n",
    "    try:\n",
    "        time = sum((job.time_per_step()['COMPLETED'] - job.time_per_step()['RUNNING']).total_seconds() for job in jobs_HEEM)\n",
    "        print(f'Simulation time {time} s')\n",
    "    except KeyError:\n",
    "        print('WTF IBMQ?')\n",
    "\n",
    "    with open('progress_' + method + '.txt', 'w') as f:\n",
    "        f.write('Done: {}\\n'.format(energy_HEEM))\n",
    "\n",
    "    save_data(energy_HEEM, method)"
   ]
  },
  {
   "cell_type": "code",
   "execution_count": null,
   "id": "16a56fc3-f84c-4d62-8f4f-938b85021dd3",
   "metadata": {
    "tags": []
   },
   "outputs": [],
   "source": [
    "fig, ax = plt.subplots()\n",
    "\n",
    "data = np.array(energies_HEEM_temp)\n",
    "x = np.arange(1, len(data) + 1)\n",
    "mask = data > 0\n",
    "\n",
    "ax.plot(x, np.cumsum(data), 'r')\n",
    "ax.hlines(energy_exact, 1, len(data) + 1, color='k', label='Exact')\n",
    "ax.hlines(sum(data), 1, len(data) + 1, color='r', ls='--', label='Noisy simulation')\n",
    "\n",
    "# ax.plot(x, np.abs(data))\n",
    "\n",
    "# ax.bar(x[mask], np.abs(data)[mask], width=1, color='b', label=r'$E_i>0$')\n",
    "# ax.bar(x[~mask], np.abs(data)[~mask], width=1, color='r', label=r'$E_i\\leq0$')\n",
    "\n",
    "ax.set_xlim(1, len(data))\n",
    "ax.set_xlabel('circuits')\n",
    "# ax.set_ylabel(r'$|E_i|$ [Ha]')\n",
    "ax.set_ylabel(r'$\\sum_{i}^n E_i$ [Ha]')\n",
    "\n",
    "# ax.set_yscale('log')\n",
    "\n",
    "ax.legend(loc=4)\n",
    "ax.set_title(f'{method} / {molecule_name}');"
   ]
  }
 ],
 "metadata": {
  "kernelspec": {
   "display_name": "Python 3 (ipykernel)",
   "language": "python",
   "name": "python3"
  },
  "language_info": {
   "codemirror_mode": {
    "name": "ipython",
    "version": 3
   },
   "file_extension": ".py",
   "mimetype": "text/x-python",
   "name": "python",
   "nbconvert_exporter": "python",
   "pygments_lexer": "ipython3",
   "version": "3.9.7"
  }
 },
 "nbformat": 4,
 "nbformat_minor": 5
}
