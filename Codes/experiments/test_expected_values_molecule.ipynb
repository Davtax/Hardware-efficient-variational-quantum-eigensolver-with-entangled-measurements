{
 "cells": [
  {
   "cell_type": "code",
   "execution_count": 1,
   "metadata": {},
   "outputs": [],
   "source": [
    "import sys\n",
    "sys.path.append('../')\n",
    "import numpy as np \n",
    "import matplotlib.pyplot as plt \n",
    "from VQE import VQE \n",
    "from qiskit.providers.aer import AerSimulator \n",
    "from qiskit.providers.aer.noise import NoiseModel \n",
    "from utils import *\n",
    "from qiskit import IBMQ, Aer \n",
    "from qiskit.circuit.library import EfficientSU2 \n",
    "from qiskit.utils.quantum_instance import QuantumInstance \n",
    "from qiskit.algorithms import NumPyMinimumEigensolver \n",
    "from qiskit.algorithms.optimizers import SPSA \n",
    "from GroupingAlgorithm import grouping, groupingWithOrder \n",
    "from HEEM_VQE_Functions import * \n",
    "from qiskit.circuit.random import random_circuit \n"
   ]
  },
  {
   "cell_type": "code",
   "execution_count": 2,
   "metadata": {},
   "outputs": [],
   "source": [
    "IBMQ.load_account()\n",
    "provider      = IBMQ.get_provider(hub='ibm-q-csic', group='internal', project='iff-csic') \n",
    "backend_exp   = provider.get_backend('ibmq_guadalupe')\n",
    "WC_exp        = get_backend_connectivity(backend_exp)"
   ]
  },
  {
   "cell_type": "code",
   "execution_count": 3,
   "metadata": {},
   "outputs": [],
   "source": [
    "backend_sim = Aer.get_backend('aer_simulator')\n",
    "#backend_sim = AerSimulator.from_backend(backend_exp)\n",
    "shots = 2**13"
   ]
  },
  {
   "cell_type": "code",
   "execution_count": 6,
   "metadata": {},
   "outputs": [
    {
     "name": "stdout",
     "output_type": "stream",
     "text": [
      "24\n",
      "13\n",
      "18\n"
     ]
    }
   ],
   "source": [
    "H = BeH2()\n",
    "num_qubits = H.num_qubits\n",
    "\n",
    "ExpVal_theo = []\n",
    "ExpVal_TPB  = []\n",
    "ExpVal_EM   = []\n",
    "ExpVal_HEEM = []\n",
    "\n",
    "MC = 100\n",
    "\n",
    "for k in range( MC ) :\n",
    "\n",
    "    ###\n",
    "    paulis, coeff, labels = Label2Chain( H )\n",
    "    Color, Groups, Measurements = TPBgrouping( paulis )\n",
    "    if k == 0 :\n",
    "        print(len(Measurements))\n",
    "    prob2Exp = probability2expected( coeff, labels, Groups, Measurements)\n",
    "    circuits = [ measure_circuit_factor( measure , num_qubits )[0] for measure in Measurements ]\n",
    "    counts = backend_sim.run( circuits, shots=shots ).result().get_counts()\n",
    "    probs = [ post_process_results( count, num_qubits, shots ) for count in counts ]\n",
    "    ExpVal = 0\n",
    "    for j in range(len(probs)):\n",
    "        ExpVal += np.sum(prob2Exp[j]@probs[j])\n",
    "    ExpVal_TPB.append( ExpVal )\n",
    "    \n",
    "    ###\n",
    "    paulis, coeff, labels = Label2Chain( H )\n",
    "    Groups, Measurements, T = groupingWithOrder( paulis )\n",
    "    if k == 0 :\n",
    "        print(len(Measurements))\n",
    "    prob2Exp = probability2expected( coeff, labels, Groups, Measurements)\n",
    "    circuits = [ measure_circuit_factor( measure , num_qubits )[0] for measure in Measurements ]\n",
    "    counts = backend_sim.run( circuits, shots=shots ).result().get_counts()\n",
    "    probs = [ post_process_results( count, num_qubits, shots ) for count in counts ]\n",
    "    ExpVal = 0\n",
    "    for j in range(len(probs)):\n",
    "        ExpVal += np.sum(prob2Exp[j]@probs[j])\n",
    "    ExpVal_EM.append( ExpVal )\n",
    "\n",
    "    ####\n",
    "    paulis, coeff, labels = Label2Chain( H )\n",
    "    Groups, Measurements, T = groupingWithOrder( paulis, G = WC_exp )\n",
    "    if k == 0 :\n",
    "        print(len(Measurements))\n",
    "    prob2Exp = probability2expected( coeff, labels, Groups, Measurements)\n",
    "    circuits = [ measure_circuit_factor( measure , num_qubits )[0] for measure in Measurements ]\n",
    "    counts = backend_sim.run( circuits, shots=shots ).result().get_counts()\n",
    "    probs = [ post_process_results( count, num_qubits, shots ) for count in counts ]\n",
    "    ExpVal = 0\n",
    "    for j in range(len(probs)):\n",
    "        ExpVal += np.sum(prob2Exp[j]@probs[j])\n",
    "    ExpVal_HEEM.append( ExpVal )\n",
    "    ####\n",
    "\n",
    "    ExpVal_theo.append( H.to_matrix()[0,0] )"
   ]
  },
  {
   "cell_type": "code",
   "execution_count": 7,
   "metadata": {},
   "outputs": [
    {
     "data": {
      "text/plain": [
       "([0.0012321722587483074, 0.0011966003087224158, 0.0010187175645474755],\n",
       " [0.0008751930514613933, 0.0009753541336466575, 0.0009107899387878676])"
      ]
     },
     "execution_count": 7,
     "metadata": {},
     "output_type": "execute_result"
    }
   ],
   "source": [
    "ExpVal_theo = np.array(ExpVal_theo)\n",
    "ExpVal_TPB  = np.array(ExpVal_TPB)\n",
    "ExpVal_EM   = np.array(ExpVal_EM)\n",
    "ExpVal_HEEM = np.array(ExpVal_HEEM)\n",
    "mean= [ np.mean( np.abs(ExpVal_theo-ExpVal_TPB) ), np.mean( np.abs(ExpVal_theo-ExpVal_EM) ), np.mean( np.abs( ExpVal_theo- ExpVal_HEEM) ) ]\n",
    "std = [ np.std( np.abs(ExpVal_theo-ExpVal_TPB) ), np.std( np.abs(ExpVal_theo-ExpVal_EM) ), np.std( np.abs( ExpVal_theo- ExpVal_HEEM) ) ]\n",
    "mean, std"
   ]
  },
  {
   "cell_type": "code",
   "execution_count": 8,
   "metadata": {},
   "outputs": [
    {
     "data": {
      "image/png": "[encoded data removed]",
      "text/plain": [
       "<Figure size 432x288 with 1 Axes>"
      ]
     },
     "metadata": {
      "needs_background": "light"
     },
     "output_type": "display_data"
    }
   ],
   "source": [
    "plt.errorbar( [0,1,2], mean, std, capsize=5, fmt='o' )\n",
    "plt.grid()"
   ]
  },
  {
   "cell_type": "code",
   "execution_count": null,
   "metadata": {},
   "outputs": [],
   "source": []
  }
 ],
 "metadata": {
  "interpreter": {
   "hash": "77226c1dc9bf5b6e8896463442f774bf79a046d9b0c1383232480e54be477d27"
  },
  "kernelspec": {
   "display_name": "Python 3.9.5 64-bit ('base': conda)",
   "language": "python",
   "name": "python3"
  },
  "language_info": {
   "codemirror_mode": {
    "name": "ipython",
    "version": 3
   },
   "file_extension": ".py",
   "mimetype": "text/x-python",
   "name": "python",
   "nbconvert_exporter": "python",
   "pygments_lexer": "ipython3",
   "version": "3.9.5"
  },
  "orig_nbformat": 4
 },
 "nbformat": 4,
 "nbformat_minor": 2
}
