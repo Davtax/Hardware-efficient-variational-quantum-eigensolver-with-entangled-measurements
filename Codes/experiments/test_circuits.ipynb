{
 "cells": [
  {
   "cell_type": "code",
   "execution_count": 1,
   "metadata": {},
   "outputs": [],
   "source": [
    "import sys \n",
    "sys.path.append('../') \n",
    "import numpy as np \n",
    "import matplotlib.pyplot as plt \n",
    "from VQE import VQE \n",
    "from qiskit.providers.aer import AerSimulator \n",
    "from qiskit.providers.aer.noise import NoiseModel  \n",
    "from utils import * \n",
    "from qiskit import IBMQ, Aer, QuantumCircuit \n",
    "from qiskit.circuit.library import EfficientSU2 \n",
    "from qiskit.utils.quantum_instance import QuantumInstance \n",
    "from qiskit.algorithms import NumPyMinimumEigensolver \n",
    "from qiskit.algorithms.optimizers import SPSA \n",
    "from GroupingAlgorithm import grouping, groupingWithOrder \n",
    "from HEEM_VQE_Functions import * \n",
    "from qiskit.circuit.random import random_circuit \n",
    "from qiskit.compiler import transpile "
   ]
  },
  {
   "cell_type": "code",
   "execution_count": 2,
   "metadata": {},
   "outputs": [],
   "source": [
    "IBMQ.load_account()\n",
    "provider      = IBMQ.get_provider(hub='ibm-q-csic', group='internal', project='iff-csic') \n",
    "backend_exp   = provider.get_backend('ibmq_guadalupe') \n",
    "WC_exp        = get_backend_connectivity(backend_exp) \n",
    "#backend_sim = Aer.get_backend( 'aer_simulator' ) \n",
    "backend_sim = AerSimulator.from_backend(backend_exp) \n",
    "shots = 2**13 "
   ]
  },
  {
   "cell_type": "code",
   "execution_count": 7,
   "metadata": {},
   "outputs": [
    {
     "data": {
      "image/png": "[encoded data removed]",
      "text/plain": [
       "<Figure size 116.697x385.28 with 1 Axes>"
      ]
     },
     "execution_count": 7,
     "metadata": {},
     "output_type": "execute_result"
    }
   ],
   "source": [
    "H, variational_circuit = BeH2(initial_state=True) \n",
    "num_qubits = H.num_qubits \n",
    "variational_circuit = QuantumCircuit(num_qubits) \n",
    "#variational_circuit.compose( EfficientSU2( num_qubits, reps=1, entanglement='linear' ),  inplace=True ) \n",
    "num_params = variational_circuit.num_parameters \n",
    "variational_circuit.decompose().draw(output='mpl') "
   ]
  },
  {
   "cell_type": "code",
   "execution_count": 8,
   "metadata": {},
   "outputs": [
    {
     "name": "stderr",
     "output_type": "stream",
     "text": [
      "c:\\Users\\lucia\\Nextcloud\\Programas\\Github\\Hardware-efficient-variational-quantum-eigensolver-with-entangled-measurements\\Codes\\experiments\\..\\HEEM_VQE_Functions.py:301: DeprecationWarning: The QuantumCircuit.u2 method is deprecated as of 0.16.0. It will be removed no earlier than 3 months after the release date. You can use the general 1-qubit gate QuantumCircuit.u instead: u2(φ,λ) = u(π/2, φ, λ). Alternatively, you can decompose it interms of QuantumCircuit.p and QuantumCircuit.sx: u2(φ,λ) = p(π/2+φ) sx p(λ-π/2) (1 pulse on hardware).\n",
      "  circuit.u2(np.pi / 2, np.pi, qubits[0])\n"
     ]
    }
   ],
   "source": [
    "params = np.pi*np.random.randn(num_params)\n",
    "paulis, coeff, labels = Label2Chain( H )\n",
    "Groups, Measurements, T = groupingWithOrder( paulis, G = WC_exp )\n",
    "prob2Exp = probability2expected( coeff, labels, Groups, Measurements)\n",
    "circuits = [ measure_circuit_factor( measure , num_qubits )[0].compose( variational_circuit, front=True  ).assign_parameters(params)\n",
    "            for measure in Measurements ]"
   ]
  },
  {
   "cell_type": "code",
   "execution_count": 9,
   "metadata": {},
   "outputs": [
    {
     "data": {
      "image/png": "[encoded data removed]",
      "text/plain": [
       "<Figure size 474.195x445.48 with 1 Axes>"
      ]
     },
     "execution_count": 9,
     "metadata": {},
     "output_type": "execute_result"
    }
   ],
   "source": [
    "circuits[3].draw(output='mpl')"
   ]
  },
  {
   "cell_type": "code",
   "execution_count": 10,
   "metadata": {},
   "outputs": [
    {
     "data": {
      "text/plain": [
       "[[[2, [0]], [5, [1, 3]], [2, [2]], [4, [4, 5]]],\n",
       " [[1, [2]], [4, [0, 1]], [2, [3]], [8, [4, 5]]],\n",
       " [[2, [5]], [7, [3, 4]], [2, [0]], [7, [1, 2]]],\n",
       " [[3, [5]], [4, [3, 4]], [3, [2]], [4, [0, 1]]],\n",
       " [[3, [3]], [4, [4, 5]], [1, [2]], [6, [0, 1]]],\n",
       " [[1, [3]], [1, [0]], [4, [1, 2]], [4, [4, 5]]],\n",
       " [[3, [0]], [4, [1, 2]], [2, [5]], [9, [3, 4]]],\n",
       " [[1, [3]], [1, [0]], [6, [1, 2]], [6, [4, 5]]],\n",
       " [[3, [4]], [3, [3]], [3, [5]], [2, [2]], [7, [0, 1]]],\n",
       " [[3, [0]], [3, [5]], [6, [1, 2]], [6, [3, 4]]],\n",
       " [[1, [2]], [1, [5]], [4, [3, 4]], [4, [0, 1]]],\n",
       " [[3, [1]], [3, [2]], [1, [0]], [2, [5]], [9, [3, 4]]],\n",
       " [[3, [0]], [3, [5]], [1, [1]], [1, [4]], [1, [3]], [1, [2]]],\n",
       " [[3, [3]], [3, [2]], [1, [1]], [1, [4]], [1, [0]], [1, [5]]],\n",
       " [[3, [3]], [3, [5]], [1, [4]], [1, [0]], [1, [2]], [1, [1]]],\n",
       " [[3, [0]], [3, [2]], [1, [1]], [1, [3]], [1, [5]], [1, [4]]],\n",
       " [[1, [3]], [1, [0]], [1, [2]], [1, [5]], [3, [1]], [0, [4]]],\n",
       " [[3, [1]], [3, [4]], [3, [0]], [3, [2]], [3, [3]], [3, [5]]]]"
      ]
     },
     "execution_count": 10,
     "metadata": {},
     "output_type": "execute_result"
    }
   ],
   "source": [
    "Measurements"
   ]
  },
  {
   "cell_type": "code",
   "execution_count": null,
   "metadata": {},
   "outputs": [],
   "source": []
  },
  {
   "cell_type": "code",
   "execution_count": null,
   "metadata": {},
   "outputs": [],
   "source": []
  }
 ],
 "metadata": {
  "interpreter": {
   "hash": "77226c1dc9bf5b6e8896463442f774bf79a046d9b0c1383232480e54be477d27"
  },
  "kernelspec": {
   "display_name": "Python 3.9.5 64-bit ('base': conda)",
   "language": "python",
   "name": "python3"
  },
  "language_info": {
   "codemirror_mode": {
    "name": "ipython",
    "version": 3
   },
   "file_extension": ".py",
   "mimetype": "text/x-python",
   "name": "python",
   "nbconvert_exporter": "python",
   "pygments_lexer": "ipython3",
   "version": "3.9.5"
  },
  "orig_nbformat": 4
 },
 "nbformat": 4,
 "nbformat_minor": 2
}
