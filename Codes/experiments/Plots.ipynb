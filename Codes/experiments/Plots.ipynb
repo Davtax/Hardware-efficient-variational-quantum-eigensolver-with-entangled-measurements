{
 "cells": [
  {
   "cell_type": "code",
   "execution_count": 1,
   "metadata": {
    "execution": {
     "iopub.execute_input": "2021-06-03T14:46:25.961112Z",
     "iopub.status.busy": "2021-06-03T14:46:25.961112Z",
     "iopub.status.idle": "2021-06-03T14:46:26.384749Z",
     "shell.execute_reply": "2021-06-03T14:46:26.384749Z",
     "shell.execute_reply.started": "2021-06-03T14:46:25.961112Z"
    }
   },
   "outputs": [],
   "source": [
    "import numpy as np\n",
    "import matplotlib.pyplot as plt"
   ]
  },
  {
   "cell_type": "markdown",
   "metadata": {},
   "source": [
    "Loading the experimental data"
   ]
  },
  {
   "cell_type": "code",
   "execution_count": 2,
   "metadata": {
    "execution": {
     "iopub.execute_input": "2021-06-03T14:46:26.388737Z",
     "iopub.status.busy": "2021-06-03T14:46:26.386741Z",
     "iopub.status.idle": "2021-06-03T14:46:26.396715Z",
     "shell.execute_reply": "2021-06-03T14:46:26.395718Z",
     "shell.execute_reply.started": "2021-06-03T14:46:26.388737Z"
    }
   },
   "outputs": [],
   "source": [
    "energies = np.load('exp_energy_rep_1_ibmq_guadalupe.npy')"
   ]
  },
  {
   "cell_type": "markdown",
   "metadata": {},
   "source": [
    "Given that we remove orbitals in order to reduce the number of qubits, we have a shift in the energy."
   ]
  },
  {
   "cell_type": "code",
   "execution_count": 3,
   "metadata": {
    "execution": {
     "iopub.execute_input": "2021-06-03T14:46:26.403696Z",
     "iopub.status.busy": "2021-06-03T14:46:26.401702Z",
     "iopub.status.idle": "2021-06-03T14:46:26.420651Z",
     "shell.execute_reply": "2021-06-03T14:46:26.419657Z",
     "shell.execute_reply.started": "2021-06-03T14:46:26.402705Z"
    }
   },
   "outputs": [],
   "source": [
    "ΔE = -6.792223823484351"
   ]
  },
  {
   "cell_type": "code",
   "execution_count": 4,
   "metadata": {
    "execution": {
     "iopub.execute_input": "2021-06-03T14:46:26.423644Z",
     "iopub.status.busy": "2021-06-03T14:46:26.422646Z",
     "iopub.status.idle": "2021-06-03T14:46:26.433617Z",
     "shell.execute_reply": "2021-06-03T14:46:26.431622Z",
     "shell.execute_reply.started": "2021-06-03T14:46:26.423644Z"
    }
   },
   "outputs": [],
   "source": [
    "energies = 2**10*energies/2**13 # fixing a normalization error that had the first version of the VQE class"
   ]
  },
  {
   "cell_type": "markdown",
   "metadata": {},
   "source": [
    "The energy was evaluated 351 times. the first 50 were to calibrate the classical optimizer (SPSA), then 2 for each iteration of the algorithm (150 iterations), and finally one to evaluate the minimum energy. "
   ]
  },
  {
   "cell_type": "code",
   "execution_count": 5,
   "metadata": {
    "execution": {
     "iopub.execute_input": "2021-06-03T14:46:26.441596Z",
     "iopub.status.busy": "2021-06-03T14:46:26.436609Z",
     "iopub.status.idle": "2021-06-03T14:46:26.454561Z",
     "shell.execute_reply": "2021-06-03T14:46:26.451569Z",
     "shell.execute_reply.started": "2021-06-03T14:46:26.441596Z"
    }
   },
   "outputs": [
    {
     "data": {
      "text/plain": [
       "351"
      ]
     },
     "execution_count": 5,
     "metadata": {},
     "output_type": "execute_result"
    }
   ],
   "source": [
    "len(energies)"
   ]
  },
  {
   "cell_type": "code",
   "execution_count": 6,
   "metadata": {
    "execution": {
     "iopub.execute_input": "2021-06-03T14:46:26.461543Z",
     "iopub.status.busy": "2021-06-03T14:46:26.460548Z",
     "iopub.status.idle": "2021-06-03T14:46:26.466528Z",
     "shell.execute_reply": "2021-06-03T14:46:26.465532Z",
     "shell.execute_reply.started": "2021-06-03T14:46:26.461543Z"
    }
   },
   "outputs": [],
   "source": [
    "energy = ΔE - 1.089782485053685"
   ]
  },
  {
   "cell_type": "code",
   "execution_count": 7,
   "metadata": {
    "execution": {
     "iopub.execute_input": "2021-06-03T14:46:26.469524Z",
     "iopub.status.busy": "2021-06-03T14:46:26.467525Z",
     "iopub.status.idle": "2021-06-03T14:46:26.476503Z",
     "shell.execute_reply": "2021-06-03T14:46:26.475505Z",
     "shell.execute_reply.started": "2021-06-03T14:46:26.469524Z"
    }
   },
   "outputs": [],
   "source": [
    "fun = lambda x : 50*9+2*9*x\n",
    "funi = lambda x : (x-50*9)/2*9"
   ]
  },
  {
   "cell_type": "code",
   "execution_count": 8,
   "metadata": {
    "execution": {
     "iopub.execute_input": "2021-06-03T14:46:26.479494Z",
     "iopub.status.busy": "2021-06-03T14:46:26.478497Z",
     "iopub.status.idle": "2021-06-03T14:46:26.488470Z",
     "shell.execute_reply": "2021-06-03T14:46:26.487483Z",
     "shell.execute_reply.started": "2021-06-03T14:46:26.479494Z"
    }
   },
   "outputs": [],
   "source": [
    "fun2 = lambda x : 50*25+2*25*x\n",
    "funi2 = lambda x : (x-50*25)/2*25"
   ]
  },
  {
   "cell_type": "code",
   "execution_count": 9,
   "metadata": {
    "execution": {
     "iopub.execute_input": "2021-06-03T14:46:26.490464Z",
     "iopub.status.busy": "2021-06-03T14:46:26.489466Z",
     "iopub.status.idle": "2021-06-03T14:46:26.497446Z",
     "shell.execute_reply": "2021-06-03T14:46:26.495451Z",
     "shell.execute_reply.started": "2021-06-03T14:46:26.490464Z"
    }
   },
   "outputs": [],
   "source": [
    "plus = ΔE + energies[50:350:2]\n",
    "minus = ΔE + energies[51:350:2]\n",
    "final = ΔE + energies[-1]"
   ]
  },
  {
   "cell_type": "code",
   "execution_count": 14,
   "metadata": {
    "execution": {
     "iopub.execute_input": "2021-06-03T16:02:27.572082Z",
     "iopub.status.busy": "2021-06-03T16:02:27.572082Z",
     "iopub.status.idle": "2021-06-03T16:02:31.164142Z",
     "shell.execute_reply": "2021-06-03T16:02:31.164142Z",
     "shell.execute_reply.started": "2021-06-03T16:02:27.572082Z"
    }
   },
   "outputs": [
    {
     "data": {
      "image/png": "[encoded data removed]",
      "text/plain": [
       "<Figure size 432x288 with 1 Axes>"
      ]
     },
     "metadata": {
      "needs_background": "light"
     },
     "output_type": "display_data"
    }
   ],
   "source": [
    "plt.rc('text', usetex=True)\n",
    "plt.rc('font', family='serif')\n",
    "fig, ax = plt.subplots()\n",
    "ax.plot(range(1,151),plus,'-x', label=r'$E_+$')\n",
    "ax.plot(range(1,151),minus,'-x', label=r'$E_-$')\n",
    "# ax.plot(151,final,'-o',label=r'$E_{\\rm vqe}$')\n",
    "ax.hlines(final,1,151,color='tab:green')\n",
    "ax.hlines(energy,1,151,label=r'$E_{\\rm min}$')\n",
    "ax.set_xlabel('Iterations')\n",
    "ax.set_ylabel('Energy(HA)')\n",
    "ax.set_xlim(-2,154)\n",
    "ax.set_ylim(-8,-6.8)\n",
    "ax.legend()\n",
    "secax = ax.secondary_xaxis('top',functions=(fun,funi))\n",
    "secax.set_xlabel('Number of circuits')\n",
    "plt.savefig( 'Experiment.pdf', bbox_inches ='tight' )"
   ]
  },
  {
   "cell_type": "code",
   "execution_count": 13,
   "metadata": {
    "execution": {
     "iopub.execute_input": "2021-06-03T16:02:17.867954Z",
     "iopub.status.busy": "2021-06-03T16:02:17.867954Z",
     "iopub.status.idle": "2021-06-03T16:02:23.262459Z",
     "shell.execute_reply": "2021-06-03T16:02:23.261457Z",
     "shell.execute_reply.started": "2021-06-03T16:02:17.867954Z"
    }
   },
   "outputs": [
    {
     "data": {
      "text/html": [
       "<h3>Version Information</h3><table><tr><th>Qiskit Software</th><th>Version</th></tr><tr><td>Qiskit</td><td>0.25.0</td></tr><tr><td>Terra</td><td>0.17.0</td></tr><tr><td>Aer</td><td>0.8.0</td></tr><tr><td>Ignis</td><td>0.6.0</td></tr><tr><td>Aqua</td><td>0.9.0</td></tr><tr><td>IBM Q Provider</td><td>0.12.2</td></tr><tr><th>System information</th></tr><tr><td>Python</td><td>3.7.7 (default, May  6 2020, 11:45:54) [MSC v.1916 64 bit (AMD64)]</td></tr><tr><td>OS</td><td>Windows</td></tr><tr><td>CPUs</td><td>4</td></tr><tr><td>Memory (Gb)</td><td>11.887619018554688</td></tr><tr><td colspan='2'>Thu Jun 03 18:02:23 2021 Hora de verano romance</td></tr></table>"
      ],
      "text/plain": [
       "<IPython.core.display.HTML object>"
      ]
     },
     "metadata": {},
     "output_type": "display_data"
    }
   ],
   "source": [
    "import qiskit.tools.jupyter\n",
    "%qiskit_version_table"
   ]
  },
  {
   "cell_type": "code",
   "execution_count": null,
   "metadata": {},
   "outputs": [],
   "source": []
  }
 ],
 "metadata": {
  "kernelspec": {
   "display_name": "Python 3",
   "language": "python",
   "name": "python3"
  },
  "language_info": {
   "codemirror_mode": {
    "name": "ipython",
    "version": 3
   },
   "file_extension": ".py",
   "mimetype": "text/x-python",
   "name": "python",
   "nbconvert_exporter": "python",
   "pygments_lexer": "ipython3",
   "version": "3.7.7"
  }
 },
 "nbformat": 4,
 "nbformat_minor": 4
}
