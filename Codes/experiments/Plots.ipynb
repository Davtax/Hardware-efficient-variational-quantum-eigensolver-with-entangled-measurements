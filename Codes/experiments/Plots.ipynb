{
 "cells": [
  {
   "cell_type": "code",
   "execution_count": 1,
   "metadata": {
    "execution": {
     "iopub.status.idle": "2021-06-03T10:52:51.487163Z",
     "shell.execute_reply": "2021-06-03T10:52:51.486193Z",
     "shell.execute_reply.started": "2021-06-03T10:52:51.134020Z"
    }
   },
   "outputs": [],
   "source": [
    "import numpy as np\n",
    "import matplotlib.pyplot as plt"
   ]
  },
  {
   "cell_type": "markdown",
   "metadata": {},
   "source": [
    "Loading the experimental data"
   ]
  },
  {
   "cell_type": "code",
   "execution_count": 2,
   "metadata": {
    "execution": {
     "iopub.execute_input": "2021-06-03T10:52:51.489107Z",
     "iopub.status.busy": "2021-06-03T10:52:51.488108Z",
     "iopub.status.idle": "2021-06-03T10:52:51.566947Z",
     "shell.execute_reply": "2021-06-03T10:52:51.565981Z",
     "shell.execute_reply.started": "2021-06-03T10:52:51.489107Z"
    }
   },
   "outputs": [
    {
     "ename": "FileNotFoundError",
     "evalue": "[Errno 2] No such file or directory: 'exp_energy_rep_1_ibmq_guadalupe.npy'",
     "output_type": "error",
     "traceback": [
      "\u001b[1;31m---------------------------------------------------------------------------\u001b[0m",
      "\u001b[1;31mFileNotFoundError\u001b[0m                         Traceback (most recent call last)",
      "\u001b[1;32m<ipython-input-2-02a440778b22>\u001b[0m in \u001b[0;36m<module>\u001b[1;34m\u001b[0m\n\u001b[1;32m----> 1\u001b[1;33m \u001b[0menergies\u001b[0m \u001b[1;33m=\u001b[0m \u001b[0mnp\u001b[0m\u001b[1;33m.\u001b[0m\u001b[0mload\u001b[0m\u001b[1;33m(\u001b[0m\u001b[1;34m'exp_energy_rep_1_ibmq_guadalupe.npy'\u001b[0m\u001b[1;33m)\u001b[0m\u001b[1;33m\u001b[0m\u001b[1;33m\u001b[0m\u001b[0m\n\u001b[0m",
      "\u001b[1;32m~\\Anaconda3\\lib\\site-packages\\numpy\\lib\\npyio.py\u001b[0m in \u001b[0;36mload\u001b[1;34m(file, mmap_mode, allow_pickle, fix_imports, encoding)\u001b[0m\n\u001b[0;32m    415\u001b[0m             \u001b[0mown_fid\u001b[0m \u001b[1;33m=\u001b[0m \u001b[1;32mFalse\u001b[0m\u001b[1;33m\u001b[0m\u001b[1;33m\u001b[0m\u001b[0m\n\u001b[0;32m    416\u001b[0m         \u001b[1;32melse\u001b[0m\u001b[1;33m:\u001b[0m\u001b[1;33m\u001b[0m\u001b[1;33m\u001b[0m\u001b[0m\n\u001b[1;32m--> 417\u001b[1;33m             \u001b[0mfid\u001b[0m \u001b[1;33m=\u001b[0m \u001b[0mstack\u001b[0m\u001b[1;33m.\u001b[0m\u001b[0menter_context\u001b[0m\u001b[1;33m(\u001b[0m\u001b[0mopen\u001b[0m\u001b[1;33m(\u001b[0m\u001b[0mos_fspath\u001b[0m\u001b[1;33m(\u001b[0m\u001b[0mfile\u001b[0m\u001b[1;33m)\u001b[0m\u001b[1;33m,\u001b[0m \u001b[1;34m\"rb\"\u001b[0m\u001b[1;33m)\u001b[0m\u001b[1;33m)\u001b[0m\u001b[1;33m\u001b[0m\u001b[1;33m\u001b[0m\u001b[0m\n\u001b[0m\u001b[0;32m    418\u001b[0m             \u001b[0mown_fid\u001b[0m \u001b[1;33m=\u001b[0m \u001b[1;32mTrue\u001b[0m\u001b[1;33m\u001b[0m\u001b[1;33m\u001b[0m\u001b[0m\n\u001b[0;32m    419\u001b[0m \u001b[1;33m\u001b[0m\u001b[0m\n",
      "\u001b[1;31mFileNotFoundError\u001b[0m: [Errno 2] No such file or directory: 'exp_energy_rep_1_ibmq_guadalupe.npy'"
     ]
    }
   ],
   "source": [
    "energies = np.load('exp_energy_rep_1_ibmq_guadalupe.npy')"
   ]
  },
  {
   "cell_type": "markdown",
   "metadata": {},
   "source": [
    "Given that we remove orbitals in order to reduce the number of qubits, we have a shift in the energy."
   ]
  },
  {
   "cell_type": "code",
   "execution_count": null,
   "metadata": {
    "execution": {
     "iopub.status.busy": "2021-06-03T10:52:51.567944Z",
     "iopub.status.idle": "2021-06-03T10:52:51.568941Z"
    }
   },
   "outputs": [],
   "source": [
    "ΔE = -6.792223823484351"
   ]
  },
  {
   "cell_type": "code",
   "execution_count": null,
   "metadata": {
    "execution": {
     "iopub.status.busy": "2021-06-03T10:52:51.569939Z",
     "iopub.status.idle": "2021-06-03T10:52:51.569939Z"
    }
   },
   "outputs": [],
   "source": [
    "energies = 2**10*energies/2**13 # fixing a normalization error that had the first version of the VQE class"
   ]
  },
  {
   "cell_type": "markdown",
   "metadata": {},
   "source": [
    "The energy was evaluated 351 times. the first 50 were to calibrate the classical optimizer (SPSA), then 2 for each iteration of the algorithm (150 iterations), and finally one to evaluate the minimum energy. "
   ]
  },
  {
   "cell_type": "code",
   "execution_count": null,
   "metadata": {
    "execution": {
     "iopub.status.busy": "2021-06-03T10:52:51.571933Z",
     "iopub.status.idle": "2021-06-03T10:52:51.571933Z"
    }
   },
   "outputs": [],
   "source": [
    "len(energies)"
   ]
  },
  {
   "cell_type": "code",
   "execution_count": null,
   "metadata": {
    "execution": {
     "iopub.status.busy": "2021-06-03T10:52:51.572931Z",
     "iopub.status.idle": "2021-06-03T10:52:51.573928Z"
    }
   },
   "outputs": [],
   "source": [
    "energy = ΔE - 1.089782485053685"
   ]
  },
  {
   "cell_type": "code",
   "execution_count": null,
   "metadata": {
    "execution": {
     "iopub.status.busy": "2021-06-03T10:52:51.574926Z",
     "iopub.status.idle": "2021-06-03T10:52:51.575929Z"
    }
   },
   "outputs": [],
   "source": [
    "fun = lambda x : 50*9+2*9*x\n",
    "funi = lambda x : (x-50*9)/2*9"
   ]
  },
  {
   "cell_type": "code",
   "execution_count": null,
   "metadata": {
    "execution": {
     "iopub.status.busy": "2021-06-03T10:52:51.576920Z",
     "iopub.status.idle": "2021-06-03T10:52:51.577917Z"
    }
   },
   "outputs": [],
   "source": [
    "fun2 = lambda x : 50*25+2*25*x\n",
    "funi2 = lambda x : (x-50*25)/2*25"
   ]
  },
  {
   "cell_type": "code",
   "execution_count": null,
   "metadata": {
    "execution": {
     "iopub.status.busy": "2021-06-03T10:52:51.578915Z",
     "iopub.status.idle": "2021-06-03T10:52:51.578915Z"
    }
   },
   "outputs": [],
   "source": [
    "plus = ΔE + energies[50:350:2]\n",
    "minus = ΔE + energies[51:350:2]\n",
    "final = ΔE + energies[-1]"
   ]
  },
  {
   "cell_type": "code",
   "execution_count": null,
   "metadata": {
    "execution": {
     "iopub.status.busy": "2021-06-03T10:52:51.579927Z",
     "iopub.status.idle": "2021-06-03T10:52:51.579927Z"
    }
   },
   "outputs": [],
   "source": [
    "im = plt.imread('LiH_IBM2.PNG')"
   ]
  },
  {
   "cell_type": "code",
   "execution_count": null,
   "metadata": {
    "execution": {
     "iopub.status.busy": "2021-06-03T10:52:51.580909Z",
     "iopub.status.idle": "2021-06-03T10:52:51.581907Z"
    }
   },
   "outputs": [],
   "source": [
    "fig, ax = plt.subplots()\n",
    "ax.plot(range(1,151),plus,'-o', label=r'$E_+$')\n",
    "ax.plot(range(1,151),minus,'-o', label=r'$E_-$')\n",
    "ax.plot(151,final,'-o',label=r'$E_{\\rm vqe}$')\n",
    "ax.hlines(final,1,151,color='tab:green')\n",
    "ax.hlines(energy,1,151,label=r'$E_{\\rm min}$')\n",
    "ax.set_xlabel('iterations')\n",
    "ax.set_ylabel('Energy(HA)')\n",
    "ax.set_xlim(-2,154)\n",
    "ax.set_ylim(-8,-6.8)\n",
    "ax.legend()\n",
    "secax = ax.secondary_xaxis('top',functions=(fun,funi))\n",
    "secax.set_xlabel('number of circuits')\n",
    "plt.savefig( 'HEEM_VQE_Experimental.pdf', bbox_inches ='tight' )"
   ]
  },
  {
   "cell_type": "code",
   "execution_count": null,
   "metadata": {},
   "outputs": [],
   "source": []
  }
 ],
 "metadata": {
  "kernelspec": {
   "display_name": "Python 3",
   "language": "python",
   "name": "python3"
  },
  "language_info": {
   "codemirror_mode": {
    "name": "ipython",
    "version": 3
   },
   "file_extension": ".py",
   "mimetype": "text/x-python",
   "name": "python",
   "nbconvert_exporter": "python",
   "pygments_lexer": "ipython3",
   "version": "3.7.7"
  }
 },
 "nbformat": 4,
 "nbformat_minor": 4
}
