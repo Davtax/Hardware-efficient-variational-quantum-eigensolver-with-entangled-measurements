{
 "cells": [
  {
   "cell_type": "code",
   "execution_count": 1,
   "metadata": {
    "execution": {
     "iopub.execute_input": "2021-06-04T11:51:01.172934Z",
     "iopub.status.busy": "2021-06-04T11:51:01.172673Z",
     "iopub.status.idle": "2021-06-04T11:51:01.381002Z",
     "shell.execute_reply": "2021-06-04T11:51:01.380564Z",
     "shell.execute_reply.started": "2021-06-04T11:51:01.172867Z"
    },
    "tags": []
   },
   "outputs": [],
   "source": [
    "import numpy as np\n",
    "import matplotlib.pyplot as plt"
   ]
  },
  {
   "cell_type": "markdown",
   "metadata": {},
   "source": [
    "Loading the experimental data"
   ]
  },
  {
   "cell_type": "code",
   "execution_count": 2,
   "metadata": {
    "execution": {
     "iopub.execute_input": "2021-06-04T11:51:01.455136Z",
     "iopub.status.busy": "2021-06-04T11:51:01.454945Z",
     "iopub.status.idle": "2021-06-04T11:51:01.458714Z",
     "shell.execute_reply": "2021-06-04T11:51:01.458240Z",
     "shell.execute_reply.started": "2021-06-04T11:51:01.455112Z"
    },
    "tags": []
   },
   "outputs": [],
   "source": [
    "energies = np.load('exp_energy_rep_1_ibmq_guadalupe.npy')"
   ]
  },
  {
   "cell_type": "markdown",
   "metadata": {},
   "source": [
    "Given that we remove orbitals in order to reduce the number of qubits, we have a shift in the energy."
   ]
  },
  {
   "cell_type": "code",
   "execution_count": 3,
   "metadata": {
    "execution": {
     "iopub.execute_input": "2021-06-04T11:51:01.815581Z",
     "iopub.status.busy": "2021-06-04T11:51:01.815375Z",
     "iopub.status.idle": "2021-06-04T11:51:01.818366Z",
     "shell.execute_reply": "2021-06-04T11:51:01.817658Z",
     "shell.execute_reply.started": "2021-06-04T11:51:01.815557Z"
    },
    "tags": []
   },
   "outputs": [],
   "source": [
    "ΔE = -6.792223823484351"
   ]
  },
  {
   "cell_type": "code",
   "execution_count": 4,
   "metadata": {
    "execution": {
     "iopub.execute_input": "2021-06-04T11:51:01.955233Z",
     "iopub.status.busy": "2021-06-04T11:51:01.955055Z",
     "iopub.status.idle": "2021-06-04T11:51:01.957780Z",
     "shell.execute_reply": "2021-06-04T11:51:01.957306Z",
     "shell.execute_reply.started": "2021-06-04T11:51:01.955211Z"
    },
    "tags": []
   },
   "outputs": [],
   "source": [
    "energies = 2**10*energies/2**13 # fixing a normalization error that had the first version of the VQE class"
   ]
  },
  {
   "cell_type": "markdown",
   "metadata": {},
   "source": [
    "The energy was evaluated 351 times. the first 50 were to calibrate the classical optimizer (SPSA), then 2 for each iteration of the algorithm (150 iterations), and finally one to evaluate the minimum energy. "
   ]
  },
  {
   "cell_type": "code",
   "execution_count": 5,
   "metadata": {
    "execution": {
     "iopub.execute_input": "2021-06-04T11:51:02.220075Z",
     "iopub.status.busy": "2021-06-04T11:51:02.219874Z",
     "iopub.status.idle": "2021-06-04T11:51:02.225197Z",
     "shell.execute_reply": "2021-06-04T11:51:02.224740Z",
     "shell.execute_reply.started": "2021-06-04T11:51:02.220051Z"
    },
    "tags": []
   },
   "outputs": [
    {
     "data": {
      "text/plain": [
       "351"
      ]
     },
     "execution_count": 5,
     "metadata": {},
     "output_type": "execute_result"
    }
   ],
   "source": [
    "n = int((len(energies) - 50 - 1) / 2 + 1)\n",
    "len(energies)"
   ]
  },
  {
   "cell_type": "code",
   "execution_count": 6,
   "metadata": {
    "execution": {
     "iopub.execute_input": "2021-06-04T11:51:02.503187Z",
     "iopub.status.busy": "2021-06-04T11:51:02.502972Z",
     "iopub.status.idle": "2021-06-04T11:51:02.505906Z",
     "shell.execute_reply": "2021-06-04T11:51:02.505377Z",
     "shell.execute_reply.started": "2021-06-04T11:51:02.503163Z"
    },
    "tags": []
   },
   "outputs": [],
   "source": [
    "energy = ΔE - 1.089782485053685"
   ]
  },
  {
   "cell_type": "code",
   "execution_count": 7,
   "metadata": {
    "execution": {
     "iopub.execute_input": "2021-06-04T11:51:02.890354Z",
     "iopub.status.busy": "2021-06-04T11:51:02.890132Z",
     "iopub.status.idle": "2021-06-04T11:51:02.912937Z",
     "shell.execute_reply": "2021-06-04T11:51:02.912488Z",
     "shell.execute_reply.started": "2021-06-04T11:51:02.890330Z"
    },
    "tags": []
   },
   "outputs": [],
   "source": [
    "fun = lambda x : 50*9+2*9*x\n",
    "funi = lambda x : (x-50*9)/2*9"
   ]
  },
  {
   "cell_type": "code",
   "execution_count": 8,
   "metadata": {
    "execution": {
     "iopub.execute_input": "2021-06-04T11:51:03.143444Z",
     "iopub.status.busy": "2021-06-04T11:51:03.143227Z",
     "iopub.status.idle": "2021-06-04T11:51:03.146371Z",
     "shell.execute_reply": "2021-06-04T11:51:03.145935Z",
     "shell.execute_reply.started": "2021-06-04T11:51:03.143419Z"
    },
    "tags": []
   },
   "outputs": [],
   "source": [
    "fun2 = lambda x : 50*25+2*25*x\n",
    "funi2 = lambda x : (x-50*25)/2*25"
   ]
  },
  {
   "cell_type": "code",
   "execution_count": 9,
   "metadata": {
    "execution": {
     "iopub.execute_input": "2021-06-04T11:51:03.419460Z",
     "iopub.status.busy": "2021-06-04T11:51:03.419258Z",
     "iopub.status.idle": "2021-06-04T11:51:03.422577Z",
     "shell.execute_reply": "2021-06-04T11:51:03.422102Z",
     "shell.execute_reply.started": "2021-06-04T11:51:03.419436Z"
    },
    "tags": []
   },
   "outputs": [],
   "source": [
    "plus = ΔE + energies[50:350:2]\n",
    "minus = ΔE + energies[51:350:2]\n",
    "final = ΔE + energies[-1]"
   ]
  },
  {
   "cell_type": "code",
   "execution_count": 30,
   "metadata": {
    "execution": {
     "iopub.execute_input": "2021-06-04T11:57:30.213876Z",
     "iopub.status.busy": "2021-06-04T11:57:30.213653Z",
     "iopub.status.idle": "2021-06-04T11:57:31.099631Z",
     "shell.execute_reply": "2021-06-04T11:57:31.099269Z",
     "shell.execute_reply.started": "2021-06-04T11:57:30.213852Z"
    },
    "tags": []
   },
   "outputs": [
    {
     "data": {
      "image/png": "[encoded data removed]",
      "text/plain": [
       "<Figure size 252x189 with 1 Axes>"
      ]
     },
     "metadata": {
      "needs_background": "light"
     },
     "output_type": "display_data"
    }
   ],
   "source": [
    "styles = ['science']\n",
    "prefix = '../stylelib/'\n",
    "sufix = '.mplstyle'\n",
    "\n",
    "for i in range(len(styles)):\n",
    "    styles[i] = prefix + styles[i] + sufix\n",
    "\n",
    "plt.style.use(styles)\n",
    "\n",
    "fig, ax = plt.subplots()\n",
    "ax.plot(range(1,n),plus,'-x', label=r'$E_+$')\n",
    "ax.plot(range(1,n),minus,'-x', label=r'$E_-$')\n",
    "# ax.plot(151,final,'-o',label=r'$E_{\\rm vqe}$')\n",
    "ax.hlines(final,1,n,color='tab:green',label=r'$E_{\\rm VQE}$')\n",
    "ax.hlines(energy,1,n,color='k', label=r'$E_{\\rm min}$')\n",
    "ax.set_xlabel('Iterations')\n",
    "ax.set_ylabel('Energy(HA)')\n",
    "ax.set_ylim(-8,-6.8)\n",
    "\n",
    "ax.xaxis.set_ticks_position('bottom')\n",
    "ax.set_xlim([0, n])\n",
    "\n",
    "ax.legend()\n",
    "secax = ax.secondary_xaxis('top',functions=(fun,funi))\n",
    "secax.set_xlabel('Number of circuits')\n",
    "\n",
    "plt.savefig( '../../Figures/Experiment.pdf')"
   ]
  },
  {
   "cell_type": "code",
   "execution_count": 13,
   "metadata": {
    "execution": {
     "iopub.execute_input": "2021-06-03T16:02:17.867954Z",
     "iopub.status.busy": "2021-06-03T16:02:17.867954Z",
     "iopub.status.idle": "2021-06-03T16:02:23.262459Z",
     "shell.execute_reply": "2021-06-03T16:02:23.261457Z",
     "shell.execute_reply.started": "2021-06-03T16:02:17.867954Z"
    }
   },
   "outputs": [
    {
     "data": {
      "text/html": [
       "<h3>Version Information</h3><table><tr><th>Qiskit Software</th><th>Version</th></tr><tr><td>Qiskit</td><td>0.25.0</td></tr><tr><td>Terra</td><td>0.17.0</td></tr><tr><td>Aer</td><td>0.8.0</td></tr><tr><td>Ignis</td><td>0.6.0</td></tr><tr><td>Aqua</td><td>0.9.0</td></tr><tr><td>IBM Q Provider</td><td>0.12.2</td></tr><tr><th>System information</th></tr><tr><td>Python</td><td>3.7.7 (default, May  6 2020, 11:45:54) [MSC v.1916 64 bit (AMD64)]</td></tr><tr><td>OS</td><td>Windows</td></tr><tr><td>CPUs</td><td>4</td></tr><tr><td>Memory (Gb)</td><td>11.887619018554688</td></tr><tr><td colspan='2'>Thu Jun 03 18:02:23 2021 Hora de verano romance</td></tr></table>"
      ],
      "text/plain": [
       "<IPython.core.display.HTML object>"
      ]
     },
     "metadata": {},
     "output_type": "display_data"
    }
   ],
   "source": [
    "import qiskit.tools.jupyter\n",
    "%qiskit_version_table"
   ]
  }
 ],
 "metadata": {
  "kernelspec": {
   "display_name": "Python 3 (ipykernel)",
   "language": "python",
   "name": "python3"
  },
  "language_info": {
   "codemirror_mode": {
    "name": "ipython",
    "version": 3
   },
   "file_extension": ".py",
   "mimetype": "text/x-python",
   "name": "python",
   "nbconvert_exporter": "python",
   "pygments_lexer": "ipython3",
   "version": "3.9.5"
  }
 },
 "nbformat": 4,
 "nbformat_minor": 4
}
