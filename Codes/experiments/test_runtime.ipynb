{
 "cells": [
  {
   "cell_type": "code",
   "execution_count": 1,
   "id": "288b79f8-a27f-4a63-81b5-4247a9a9de10",
   "metadata": {},
   "outputs": [],
   "source": [
    "from HEEM_VQE import *\n",
    "from qiskit.providers.ibmq.runtime import UserMessenger\n",
    "from qiskit import Aer\n",
    "import matplotlib.pyplot as plt"
   ]
  },
  {
   "cell_type": "code",
   "execution_count": 2,
   "id": "6958b12d-3e2e-43f0-8b0d-cb516fba90de",
   "metadata": {},
   "outputs": [],
   "source": [
    "meta = {\n",
    "  \"name\": \"HEEM_VQE\",\n",
    "  \"description\": \"Variationa Quantum Eigensolver with hardware efficient entangled measurements\",\n",
    "  \"max_execution_time\": 50000,\n",
    "  \"version\": \"1.0\",\n",
    "}"
   ]
  },
  {
   "cell_type": "code",
   "execution_count": 3,
   "id": "f7980918-0d92-46cb-a939-fa68f0e7815b",
   "metadata": {},
   "outputs": [],
   "source": [
    "meta[\"parameters\"] = [\n",
    "    {\"name\": \"iters\", \"description\": \"number of iterations, default=10\", \"type\": \"int\", \"required\": False },\n",
    "    {\"name\": \"pars\", \"description\": \"Initial vector of parameters.\", \"type\": \"ndarray\", \"required\": False}, \n",
    "    {\"name\": \"shots\", \"description\": \"Number of shots to take per circuit, default=8192\", \"type\": \"int\", \"required\": False},\n",
    "    {\"name\": \"grouping\", \"description\": \"Method for grouping the local observables of the Hamiltonian into compatible measurements: tensor product basis ('TPB') or entangled measurements ('Entangled') , default='TPB'.\", \"type\": \"str\", \"required\": False},\n",
    "    {\"name\": \"conectivity\", \"description\": \"Device conectivity.\", \"type\": \"list\", \"required\": False}\n",
    "  ]\n",
    "\n",
    "meta['return_values'] = [\n",
    "    {\"name\": \"result\", \"description\": \"Final result in a dictionary.\", \"type\": \"dict\"}\n",
    "  ]\n",
    "\n",
    "meta[\"interim_results\"] = [\n",
    "    {\"name\": \"params\", \"description\": \"Energy evaluations\", \"type\": \"ndarray\"},\n",
    "  ]\n"
   ]
  },
  {
   "cell_type": "code",
   "execution_count": 4,
   "id": "1b93adc0-2d1e-4583-af5d-422e0e200fb2",
   "metadata": {},
   "outputs": [],
   "source": [
    "from qiskit import IBMQ\n",
    "IBMQ.load_account()\n",
    "provider = IBMQ.get_provider(hub='ibm-q-csic', group='internal', project='iff-csic') "
   ]
  },
  {
   "cell_type": "code",
   "execution_count": 5,
   "id": "93160fcc-f445-490a-b559-556495669879",
   "metadata": {},
   "outputs": [
    {
     "data": {
      "text/plain": [
       "'heem-vqe'"
      ]
     },
     "execution_count": 5,
     "metadata": {},
     "output_type": "execute_result"
    }
   ],
   "source": [
    "program_id = provider.runtime.upload_program(data='HEEM_VQE.py', metadata=meta)\n",
    "program_id"
   ]
  },
  {
   "cell_type": "code",
   "execution_count": 6,
   "id": "b6e9c3a0-6231-4ac4-8f2d-053028a85e9b",
   "metadata": {},
   "outputs": [],
   "source": [
    "#program_id = 'heem-vqe'\n",
    "#provider.runtime.delete_program(program_id)"
   ]
  },
  {
   "cell_type": "code",
   "execution_count": 7,
   "id": "86d72917-36b1-4027-9866-12074bc876f6",
   "metadata": {},
   "outputs": [],
   "source": [
    "#program_id = 'heem-vqe'"
   ]
  },
  {
   "cell_type": "code",
   "execution_count": 8,
   "id": "e172db47-d530-44ff-a693-85f0fd47c6e1",
   "metadata": {},
   "outputs": [
    {
     "name": "stdout",
     "output_type": "stream",
     "text": [
      "heem-vqe:\n",
      "  Name: HEEM_VQE\n",
      "  Description: Variationa Quantum Eigensolver with hardware efficient entangled measurements\n",
      "  Version: 1.0\n",
      "  Creation date: 2021-10-15T00:43:58.000000\n",
      "  Max execution time: 50000\n",
      "  Input parameters:\n",
      "    - iters:\n",
      "      Description: number of iterations, default=10\n",
      "      Type: int\n",
      "      Required: False\n",
      "    - pars:\n",
      "      Description: Initial vector of parameters.\n",
      "      Type: ndarray\n",
      "      Required: False\n",
      "    - shots:\n",
      "      Description: Number of shots to take per circuit, default=8192\n",
      "      Type: int\n",
      "      Required: False\n",
      "    - grouping:\n",
      "      Description: Method for grouping the local observables of the Hamiltonian into compatible measurements: tensor product basis ('TPB') or entangled measurements ('Entangled') , default='TPB'.\n",
      "      Type: str\n",
      "      Required: False\n",
      "    - conectivity:\n",
      "      Description: Device conectivity.\n",
      "      Type: list\n",
      "      Required: False\n",
      "  Interim results:\n",
      "    - params:\n",
      "      Description: Energy evaluations\n",
      "      Type: ndarray\n",
      "  Returns:\n",
      "    - result:\n",
      "      Description: Final result in a dictionary.\n",
      "      Type: dict\n"
     ]
    }
   ],
   "source": [
    "prog = provider.runtime.program(program_id)\n",
    "print(prog)"
   ]
  },
  {
   "cell_type": "code",
   "execution_count": 9,
   "id": "bad94896-b745-45fb-b119-6834e7f524c4",
   "metadata": {},
   "outputs": [],
   "source": [
    "# backend = provider.backend.ibmq_qasm_simulator\n",
    "backend = provider.get_backend('ibm_lagos')\n",
    "options = {'backend_name': backend.name()}"
   ]
  },
  {
   "cell_type": "code",
   "execution_count": 10,
   "id": "7d8bc297-bf0b-45ac-9549-b0701aa4b95b",
   "metadata": {},
   "outputs": [],
   "source": [
    "conectivity = get_backend_conectivity(backend)"
   ]
  },
  {
   "cell_type": "code",
   "execution_count": 11,
   "id": "69f92ab4-8517-475f-84b1-8e3886123bf9",
   "metadata": {},
   "outputs": [],
   "source": [
    "inputs = { \"iters\": 1 ,\n",
    "           \"grouping\": \"Entangled\",\n",
    "           \"shots\" : 2**3,\n",
    "           \"conectivity\" : conectivity }"
   ]
  },
  {
   "cell_type": "code",
   "execution_count": 12,
   "id": "220e0c91-0ecc-4061-97c1-aed837056f93",
   "metadata": {},
   "outputs": [],
   "source": [
    "interm_results = []\n",
    "def vqe_callback(job_id, data):\n",
    "    interm_results.append(data)"
   ]
  },
  {
   "cell_type": "code",
   "execution_count": 13,
   "id": "c31c0016-c59e-4502-8c73-6a3b07a6b8dd",
   "metadata": {},
   "outputs": [],
   "source": [
    "job = provider.runtime.run(program_id, options=options, inputs=inputs, callback=vqe_callback)"
   ]
  },
  {
   "cell_type": "code",
   "execution_count": null,
   "id": "7882a416-5880-4969-8b26-1785afecd5d1",
   "metadata": {},
   "outputs": [],
   "source": [
    "job.result()"
   ]
  },
  {
   "cell_type": "code",
   "execution_count": null,
   "id": "188bd46e-2850-4206-bf18-c2ba73c17db4",
   "metadata": {},
   "outputs": [],
   "source": [
    "energies= [ idx['energy'] for idx in interm_results ]"
   ]
  },
  {
   "cell_type": "code",
   "execution_count": null,
   "id": "67e69225-af10-464e-b1f5-2f676c8ef4b0",
   "metadata": {},
   "outputs": [],
   "source": [
    "energies"
   ]
  },
  {
   "cell_type": "code",
   "execution_count": null,
   "id": "d599adef-a102-465c-be4a-91859db26a9a",
   "metadata": {},
   "outputs": [],
   "source": [
    "plt.plot(energies)\n",
    "plt.grid()"
   ]
  },
  {
   "cell_type": "code",
   "execution_count": null,
   "id": "c8df5c4c-2026-43de-b5db-48f303b30f80",
   "metadata": {},
   "outputs": [],
   "source": [
    "plt.plot(energies)\n",
    "plt.grid()"
   ]
  },
  {
   "cell_type": "code",
   "execution_count": null,
   "id": "af7389a4-5964-44be-afe1-deb6bae9e9eb",
   "metadata": {},
   "outputs": [],
   "source": []
  },
  {
   "cell_type": "code",
   "execution_count": null,
   "id": "8c669458-7a2f-4f4f-b4ef-5e4fa5b2475c",
   "metadata": {},
   "outputs": [],
   "source": []
  },
  {
   "cell_type": "code",
   "execution_count": null,
   "id": "6c9c44a0-2320-4042-9016-ec298f55fa66",
   "metadata": {},
   "outputs": [],
   "source": []
  }
 ],
 "metadata": {
  "kernelspec": {
   "display_name": "Python 3 (ipykernel)",
   "language": "python",
   "name": "python3"
  },
  "language_info": {
   "codemirror_mode": {
    "name": "ipython",
    "version": 3
   },
   "file_extension": ".py",
   "mimetype": "text/x-python",
   "name": "python",
   "nbconvert_exporter": "python",
   "pygments_lexer": "ipython3",
   "version": "3.9.5"
  }
 },
 "nbformat": 4,
 "nbformat_minor": 5
}
