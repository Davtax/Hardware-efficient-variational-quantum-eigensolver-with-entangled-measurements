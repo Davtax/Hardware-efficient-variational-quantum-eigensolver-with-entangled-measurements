{
 "cells": [
  {
   "cell_type": "code",
   "execution_count": 1,
   "id": "288b79f8-a27f-4a63-81b5-4247a9a9de10",
   "metadata": {},
   "outputs": [],
   "source": [
    "from HEEM_VQE import *\n",
    "from qiskit.providers.ibmq.runtime import UserMessenger\n",
    "from qiskit import Aer\n",
    "import matplotlib.pyplot as plt"
   ]
  },
  {
   "cell_type": "code",
   "execution_count": 2,
   "id": "6958b12d-3e2e-43f0-8b0d-cb516fba90de",
   "metadata": {},
   "outputs": [],
   "source": [
    "meta = {\n",
    "  \"name\": \"HEEM_VQE\",\n",
    "  \"description\": \"Variationa Quantum Eigensolver with hardware efficient entangled measurements\",\n",
    "  \"max_execution_time\": 18000,\n",
    "  \"version\": \"1.0\",\n",
    "}"
   ]
  },
  {
   "cell_type": "code",
   "execution_count": 3,
   "id": "f7980918-0d92-46cb-a939-fa68f0e7815b",
   "metadata": {},
   "outputs": [],
   "source": [
    "meta[\"parameters\"] = [\n",
    "    {\"name\": \"iters\", \"description\": \"number of iterations, default=10\", \"type\": \"int\", \"required\": False },\n",
    "    {\"name\": \"pars\", \"description\": \"Initial vector of parameters.\", \"type\": \"ndarray\", \"required\": False}, \n",
    "    {\"name\": \"shots\", \"description\": \"Number of shots to take per circuit, default=8192\", \"type\": \"int\", \"required\": False},\n",
    "    {\"name\": \"grouping\", \"description\": \"Method for grouping the local observables of the Hamiltonian into compatible measurements: tensor product basis ('TPB') or entangled measurements ('Entangled') , default='TPB'.\", \"type\": \"str\", \"required\": False},\n",
    "    {\"name\": \"conectivity\", \"description\": \"Device conectivity.\", \"type\": \"list\", \"required\": False}\n",
    "  ]\n",
    "\n",
    "meta['return_values'] = [\n",
    "    {\"name\": \"result\", \"description\": \"Final result in a dictionary.\", \"type\": \"dict\"}\n",
    "  ]\n",
    "\n",
    "meta[\"interim_results\"] = [\n",
    "    {\"name\": \"params\", \"description\": \"Energy evaluations\", \"type\": \"ndarray\"},\n",
    "  ]\n"
   ]
  },
  {
   "cell_type": "code",
   "execution_count": 4,
   "id": "1b93adc0-2d1e-4583-af5d-422e0e200fb2",
   "metadata": {},
   "outputs": [],
   "source": [
    "from qiskit import IBMQ\n",
    "IBMQ.load_account()\n",
    "provider = IBMQ.get_provider(hub='ibm-q-csic', group='internal', project='iff-csic') "
   ]
  },
  {
   "cell_type": "code",
   "execution_count": 5,
   "id": "93160fcc-f445-490a-b559-556495669879",
   "metadata": {},
   "outputs": [
    {
     "ename": "RuntimeDuplicateProgramError",
     "evalue": "'Program with the same name already exists.'",
     "output_type": "error",
     "traceback": [
      "\u001b[1;31m---------------------------------------------------------------------------\u001b[0m",
      "\u001b[1;31mRuntimeDuplicateProgramError\u001b[0m              Traceback (most recent call last)",
      "\u001b[1;32m~\\AppData\\Local\\Temp/ipykernel_7036/1596609911.py\u001b[0m in \u001b[0;36m<module>\u001b[1;34m\u001b[0m\n\u001b[1;32m----> 1\u001b[1;33m \u001b[0mprogram_id\u001b[0m \u001b[1;33m=\u001b[0m \u001b[0mprovider\u001b[0m\u001b[1;33m.\u001b[0m\u001b[0mruntime\u001b[0m\u001b[1;33m.\u001b[0m\u001b[0mupload_program\u001b[0m\u001b[1;33m(\u001b[0m\u001b[0mdata\u001b[0m\u001b[1;33m=\u001b[0m\u001b[1;34m'HEEM_VQE.py'\u001b[0m\u001b[1;33m,\u001b[0m \u001b[0mmetadata\u001b[0m\u001b[1;33m=\u001b[0m\u001b[0mmeta\u001b[0m\u001b[1;33m)\u001b[0m\u001b[1;33m\u001b[0m\u001b[1;33m\u001b[0m\u001b[0m\n\u001b[0m\u001b[0;32m      2\u001b[0m \u001b[0mprogram_id\u001b[0m\u001b[1;33m\u001b[0m\u001b[1;33m\u001b[0m\u001b[0m\n",
      "\u001b[1;32m~\\miniconda3\\lib\\site-packages\\qiskit\\providers\\ibmq\\runtime\\ibm_runtime_service.py\u001b[0m in \u001b[0;36mupload_program\u001b[1;34m(self, data, metadata, name, max_execution_time, description, version, backend_requirements, parameters, return_values, interim_results)\u001b[0m\n\u001b[0;32m    320\u001b[0m         \u001b[1;32mexcept\u001b[0m \u001b[0mRequestsApiError\u001b[0m \u001b[1;32mas\u001b[0m \u001b[0mex\u001b[0m\u001b[1;33m:\u001b[0m\u001b[1;33m\u001b[0m\u001b[1;33m\u001b[0m\u001b[0m\n\u001b[0;32m    321\u001b[0m             \u001b[1;32mif\u001b[0m \u001b[0mex\u001b[0m\u001b[1;33m.\u001b[0m\u001b[0mstatus_code\u001b[0m \u001b[1;33m==\u001b[0m \u001b[1;36m409\u001b[0m\u001b[1;33m:\u001b[0m\u001b[1;33m\u001b[0m\u001b[1;33m\u001b[0m\u001b[0m\n\u001b[1;32m--> 322\u001b[1;33m                 raise RuntimeDuplicateProgramError(\n\u001b[0m\u001b[0;32m    323\u001b[0m                     \"Program with the same name already exists.\") from None\n\u001b[0;32m    324\u001b[0m             \u001b[1;32mif\u001b[0m \u001b[0mex\u001b[0m\u001b[1;33m.\u001b[0m\u001b[0mstatus_code\u001b[0m \u001b[1;33m==\u001b[0m \u001b[1;36m403\u001b[0m\u001b[1;33m:\u001b[0m\u001b[1;33m\u001b[0m\u001b[1;33m\u001b[0m\u001b[0m\n",
      "\u001b[1;31mRuntimeDuplicateProgramError\u001b[0m: 'Program with the same name already exists.'"
     ]
    }
   ],
   "source": [
    "program_id = provider.runtime.upload_program(data='HEEM_VQE.py', metadata=meta)\n",
    "program_id"
   ]
  },
  {
   "cell_type": "code",
   "execution_count": null,
   "id": "b6e9c3a0-6231-4ac4-8f2d-053028a85e9b",
   "metadata": {},
   "outputs": [],
   "source": [
    "# program_id = 'heem-vqe'\n",
    "# provider.runtime.delete_program(program_id)"
   ]
  },
  {
   "cell_type": "code",
   "execution_count": 9,
   "id": "86d72917-36b1-4027-9866-12074bc876f6",
   "metadata": {},
   "outputs": [],
   "source": [
    "program_id = 'heem-vqe'"
   ]
  },
  {
   "cell_type": "code",
   "execution_count": 10,
   "id": "e172db47-d530-44ff-a693-85f0fd47c6e1",
   "metadata": {},
   "outputs": [
    {
     "name": "stdout",
     "output_type": "stream",
     "text": [
      "heem-vqe:\n",
      "  Name: HEEM_VQE\n",
      "  Description: Variationa Quantum Eigensolver with hardware efficient entangled measurements\n",
      "  Version: 1.0\n",
      "  Creation date: 2021-10-13T14:29:48.000000\n",
      "  Max execution time: 18000\n",
      "  Input parameters:\n",
      "    - iters:\n",
      "      Description: number of iterations, default=10\n",
      "      Type: int\n",
      "      Required: False\n",
      "    - pars:\n",
      "      Description: Initial vector of parameters.\n",
      "      Type: ndarray\n",
      "      Required: False\n",
      "    - shots:\n",
      "      Description: Number of shots to take per circuit, default=8192\n",
      "      Type: int\n",
      "      Required: False\n",
      "    - grouping:\n",
      "      Description: Method for grouping the local observables of the Hamiltonian into compatible measurements: tensor product basis ('TPB') or entangled measurements ('Entangled') , default='TPB'.\n",
      "      Type: str\n",
      "      Required: False\n",
      "    - conectivity:\n",
      "      Description: Device conectivity.\n",
      "      Type: list\n",
      "      Required: False\n",
      "  Interim results:\n",
      "    - params:\n",
      "      Description: Energy evaluations\n",
      "      Type: ndarray\n",
      "  Returns:\n",
      "    - result:\n",
      "      Description: Final result in a dictionary.\n",
      "      Type: dict\n"
     ]
    }
   ],
   "source": [
    "prog = provider.runtime.program(program_id)\n",
    "print(prog)"
   ]
  },
  {
   "cell_type": "code",
   "execution_count": 11,
   "id": "bad94896-b745-45fb-b119-6834e7f524c4",
   "metadata": {},
   "outputs": [],
   "source": [
    "inputs = { \"iters\": 5 ,\n",
    "           \"grouping\": \"Entangled\",\n",
    "           \"shots\" : 2**13,\n",
    "           \"conectivity\" : False }\n",
    "# backend = provider.backend.ibmq_qasm_simulator\n",
    "backend = provider.get_backend('ibmq_quito')\n",
    "options = {'backend_name': backend.name()}"
   ]
  },
  {
   "cell_type": "code",
   "execution_count": 12,
   "id": "7d8bc297-bf0b-45ac-9549-b0701aa4b95b",
   "metadata": {},
   "outputs": [
    {
     "data": {
      "text/plain": [
       "[(0, 1), (1, 0), (1, 2), (1, 3), (2, 1), (3, 1), (3, 4), (4, 3)]"
      ]
     },
     "execution_count": 12,
     "metadata": {},
     "output_type": "execute_result"
    }
   ],
   "source": [
    "get_backend_conectivity(backend)"
   ]
  },
  {
   "cell_type": "code",
   "execution_count": 13,
   "id": "220e0c91-0ecc-4061-97c1-aed837056f93",
   "metadata": {},
   "outputs": [],
   "source": [
    "interm_results = []\n",
    "def vqe_callback(job_id, data):\n",
    "    interm_results.append(data)"
   ]
  },
  {
   "cell_type": "code",
   "execution_count": 14,
   "id": "c31c0016-c59e-4502-8c73-6a3b07a6b8dd",
   "metadata": {},
   "outputs": [],
   "source": [
    "job = provider.runtime.run(program_id, options=options, inputs=inputs, callback=vqe_callback)"
   ]
  },
  {
   "cell_type": "code",
   "execution_count": 15,
   "id": "7882a416-5880-4969-8b26-1785afecd5d1",
   "metadata": {},
   "outputs": [
    {
     "ename": "RuntimeJobFailureError",
     "evalue": "'Unable to retrieve job result. Job c5jf4rl7js99mk9ljhk0 ran longer than maximum execution time. Job was cancelled:\\n2021-10-13T10:52:07.031148964-04:00 Couldn\\'t find cython becke routine\\n2021-10-13T10:52:07.031271195-04:00 /usr/local/lib/python3.8/site-packages/pyscf/lib/misc.py:46: H5pyDeprecationWarning: Using default_file_mode other than \\'r\\' is deprecated. Pass the mode to h5py.File() instead.\\n2021-10-13T10:52:07.031271195-04:00   h5py.get_config().default_file_mode = \\'a\\'\\n2021-10-13T10:52:07.377075800-04:00 /usr/local/lib/python3.8/site-packages/qiskit/utils/run_circuits.py:612: UserWarning: max_credits is not a recognized runtime option and may be ignored by the backend.\\n2021-10-13T10:52:07.377075800-04:00   job = _run_circuits_on_backend(\\n2021-10-13T10:52:46.259401613-04:00 /usr/local/lib/python3.8/site-packages/nats/aio/client.py:888: DeprecationWarning: The loop argument is deprecated since Python 3.8, and scheduled for removal in Python 3.10.\\n2021-10-13T10:52:46.259401613-04:00   sub.pending_queue = asyncio.Queue(\\n2021-10-13T10:52:46.259401613-04:00 /usr/local/lib/python3.8/asyncio/queues.py:48: DeprecationWarning: The loop argument is deprecated since Python 3.8, and scheduled for removal in Python 3.10.\\n2021-10-13T10:52:46.259401613-04:00   self._finished = locks.Event(loop=loop)\\n2021-10-13T10:52:46.259401613-04:00 /usr/local/lib/python3.8/site-packages/nats/aio/client.py:940: DeprecationWarning: The loop argument is deprecated since Python 3.8, and scheduled for removal in Python 3.10.\\n2021-10-13T10:52:46.259401613-04:00   msg = await asyncio.wait_for(future, timeout, loop=self._loop)\\n2021-10-13T10:52:46.259401613-04:00 /usr/local/lib/python3.8/site-packages/nats/aio/client.py:1721: DeprecationWarning: The loop argument is deprecated since Python 3.8, and scheduled for removal in Python 3.10.\\n2021-10-13T10:52:46.259401613-04:00   await asyncio.sleep(self.options[\"ping_interval\"], loop=self._loop)\\n'",
     "output_type": "error",
     "traceback": [
      "\u001b[1;31m---------------------------------------------------------------------------\u001b[0m",
      "\u001b[1;31mRuntimeJobFailureError\u001b[0m                    Traceback (most recent call last)",
      "\u001b[1;32m~\\AppData\\Local\\Temp/ipykernel_7036/168863067.py\u001b[0m in \u001b[0;36m<module>\u001b[1;34m\u001b[0m\n\u001b[1;32m----> 1\u001b[1;33m \u001b[0mjob\u001b[0m\u001b[1;33m.\u001b[0m\u001b[0mresult\u001b[0m\u001b[1;33m(\u001b[0m\u001b[1;33m)\u001b[0m\u001b[1;33m\u001b[0m\u001b[1;33m\u001b[0m\u001b[0m\n\u001b[0m",
      "\u001b[1;32m~\\miniconda3\\lib\\site-packages\\qiskit\\providers\\ibmq\\runtime\\runtime_job.py\u001b[0m in \u001b[0;36mresult\u001b[1;34m(self, timeout, wait, decoder)\u001b[0m\n\u001b[0;32m    146\u001b[0m             \u001b[0mself\u001b[0m\u001b[1;33m.\u001b[0m\u001b[0mwait_for_final_state\u001b[0m\u001b[1;33m(\u001b[0m\u001b[0mtimeout\u001b[0m\u001b[1;33m=\u001b[0m\u001b[0mtimeout\u001b[0m\u001b[1;33m,\u001b[0m \u001b[0mwait\u001b[0m\u001b[1;33m=\u001b[0m\u001b[0mwait\u001b[0m\u001b[1;33m)\u001b[0m\u001b[1;33m\u001b[0m\u001b[1;33m\u001b[0m\u001b[0m\n\u001b[0;32m    147\u001b[0m             \u001b[1;32mif\u001b[0m \u001b[0mself\u001b[0m\u001b[1;33m.\u001b[0m\u001b[0m_status\u001b[0m \u001b[1;33m==\u001b[0m \u001b[0mJobStatus\u001b[0m\u001b[1;33m.\u001b[0m\u001b[0mERROR\u001b[0m\u001b[1;33m:\u001b[0m\u001b[1;33m\u001b[0m\u001b[1;33m\u001b[0m\u001b[0m\n\u001b[1;32m--> 148\u001b[1;33m                 raise RuntimeJobFailureError(f\"Unable to retrieve job result. \"\n\u001b[0m\u001b[0;32m    149\u001b[0m                                              f\"{self.error_message()}\")\n\u001b[0;32m    150\u001b[0m             \u001b[0mresult_raw\u001b[0m \u001b[1;33m=\u001b[0m \u001b[0mself\u001b[0m\u001b[1;33m.\u001b[0m\u001b[0m_api_client\u001b[0m\u001b[1;33m.\u001b[0m\u001b[0mjob_results\u001b[0m\u001b[1;33m(\u001b[0m\u001b[0mjob_id\u001b[0m\u001b[1;33m=\u001b[0m\u001b[0mself\u001b[0m\u001b[1;33m.\u001b[0m\u001b[0mjob_id\u001b[0m\u001b[1;33m(\u001b[0m\u001b[1;33m)\u001b[0m\u001b[1;33m)\u001b[0m\u001b[1;33m\u001b[0m\u001b[1;33m\u001b[0m\u001b[0m\n",
      "\u001b[1;31mRuntimeJobFailureError\u001b[0m: 'Unable to retrieve job result. Job c5jf4rl7js99mk9ljhk0 ran longer than maximum execution time. Job was cancelled:\\n2021-10-13T10:52:07.031148964-04:00 Couldn\\'t find cython becke routine\\n2021-10-13T10:52:07.031271195-04:00 /usr/local/lib/python3.8/site-packages/pyscf/lib/misc.py:46: H5pyDeprecationWarning: Using default_file_mode other than \\'r\\' is deprecated. Pass the mode to h5py.File() instead.\\n2021-10-13T10:52:07.031271195-04:00   h5py.get_config().default_file_mode = \\'a\\'\\n2021-10-13T10:52:07.377075800-04:00 /usr/local/lib/python3.8/site-packages/qiskit/utils/run_circuits.py:612: UserWarning: max_credits is not a recognized runtime option and may be ignored by the backend.\\n2021-10-13T10:52:07.377075800-04:00   job = _run_circuits_on_backend(\\n2021-10-13T10:52:46.259401613-04:00 /usr/local/lib/python3.8/site-packages/nats/aio/client.py:888: DeprecationWarning: The loop argument is deprecated since Python 3.8, and scheduled for removal in Python 3.10.\\n2021-10-13T10:52:46.259401613-04:00   sub.pending_queue = asyncio.Queue(\\n2021-10-13T10:52:46.259401613-04:00 /usr/local/lib/python3.8/asyncio/queues.py:48: DeprecationWarning: The loop argument is deprecated since Python 3.8, and scheduled for removal in Python 3.10.\\n2021-10-13T10:52:46.259401613-04:00   self._finished = locks.Event(loop=loop)\\n2021-10-13T10:52:46.259401613-04:00 /usr/local/lib/python3.8/site-packages/nats/aio/client.py:940: DeprecationWarning: The loop argument is deprecated since Python 3.8, and scheduled for removal in Python 3.10.\\n2021-10-13T10:52:46.259401613-04:00   msg = await asyncio.wait_for(future, timeout, loop=self._loop)\\n2021-10-13T10:52:46.259401613-04:00 /usr/local/lib/python3.8/site-packages/nats/aio/client.py:1721: DeprecationWarning: The loop argument is deprecated since Python 3.8, and scheduled for removal in Python 3.10.\\n2021-10-13T10:52:46.259401613-04:00   await asyncio.sleep(self.options[\"ping_interval\"], loop=self._loop)\\n'"
     ]
    }
   ],
   "source": [
    "job.result()"
   ]
  },
  {
   "cell_type": "code",
   "execution_count": null,
   "id": "188bd46e-2850-4206-bf18-c2ba73c17db4",
   "metadata": {},
   "outputs": [],
   "source": [
    "energies= [ idx['energy'] for idx in interm_results ]"
   ]
  },
  {
   "cell_type": "code",
   "execution_count": null,
   "id": "d599adef-a102-465c-be4a-91859db26a9a",
   "metadata": {},
   "outputs": [],
   "source": [
    "plt.plot(energies)\n",
    "plt.grid()"
   ]
  },
  {
   "cell_type": "code",
   "execution_count": null,
   "id": "c8df5c4c-2026-43de-b5db-48f303b30f80",
   "metadata": {},
   "outputs": [],
   "source": [
    "plt.plot(energies)\n",
    "plt.grid()"
   ]
  },
  {
   "cell_type": "code",
   "execution_count": null,
   "id": "c942ce45-1caa-4046-96ec-c5b36c71b1a3",
   "metadata": {},
   "outputs": [],
   "source": []
  },
  {
   "cell_type": "code",
   "execution_count": null,
   "id": "709fcfaa-ccc2-4b7e-9ece-8f8a36bf6d3e",
   "metadata": {},
   "outputs": [],
   "source": []
  },
  {
   "cell_type": "code",
   "execution_count": null,
   "id": "dd2bfefc-2f38-45e5-ba98-6af44a988174",
   "metadata": {},
   "outputs": [],
   "source": []
  },
  {
   "cell_type": "code",
   "execution_count": null,
   "id": "8378859b-ccc3-4f11-a46c-2cdc856a7332",
   "metadata": {},
   "outputs": [],
   "source": []
  },
  {
   "cell_type": "code",
   "execution_count": null,
   "id": "af7389a4-5964-44be-afe1-deb6bae9e9eb",
   "metadata": {},
   "outputs": [],
   "source": []
  }
 ],
 "metadata": {
  "kernelspec": {
   "display_name": "Python 3 (ipykernel)",
   "language": "python",
   "name": "python3"
  },
  "language_info": {
   "codemirror_mode": {
    "name": "ipython",
    "version": 3
   },
   "file_extension": ".py",
   "mimetype": "text/x-python",
   "name": "python",
   "nbconvert_exporter": "python",
   "pygments_lexer": "ipython3",
   "version": "3.9.5"
  }
 },
 "nbformat": 4,
 "nbformat_minor": 5
}
