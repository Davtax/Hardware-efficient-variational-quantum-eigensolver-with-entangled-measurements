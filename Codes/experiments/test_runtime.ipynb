{
 "cells": [
  {
   "cell_type": "code",
   "execution_count": 1,
   "id": "288b79f8-a27f-4a63-81b5-4247a9a9de10",
   "metadata": {},
   "outputs": [],
   "source": [
    "from HEEM_VQE import *\n",
    "from qiskit.providers.ibmq.runtime import UserMessenger\n",
    "from qiskit import Aer\n",
    "import matplotlib.pyplot as plt"
   ]
  },
  {
   "cell_type": "code",
   "execution_count": 2,
   "id": "6958b12d-3e2e-43f0-8b0d-cb516fba90de",
   "metadata": {},
   "outputs": [],
   "source": [
    "meta = {\n",
    "  \"name\": \"HEEM_VQE\",\n",
    "  \"description\": \"Variationa Quantum Eigensolver with hardware efficient entangled measurements\",\n",
    "  \"max_execution_time\": 50000\n",
    "}"
   ]
  },
  {
   "cell_type": "code",
   "execution_count": 3,
   "id": "f7980918-0d92-46cb-a939-fa68f0e7815b",
   "metadata": {},
   "outputs": [],
   "source": [
    "meta[\"parameters\"] = [\n",
    "    {\"name\": \"iters\", \"description\": \"number of iterations, default=10\", \"type\": \"int\", \"required\": False },\n",
    "    {\"name\": \"pars\", \"description\": \"Initial vector of parameters.\", \"type\": \"ndarray\", \"required\": False}, \n",
    "    {\"name\": \"shots\", \"description\": \"Number of shots to take per circuit, default=8192\", \"type\": \"int\", \"required\": False},\n",
    "    {\"name\": \"grouping\", \"description\": \"Method for grouping the local observables of the Hamiltonian into compatible measurements: tensor product basis ('TPB') or entangled measurements ('Entangled') , default='TPB'.\", \"type\": \"str\", \"required\": False},\n",
    "    {\"name\": \"conectivity\", \"description\": \"Device conectivity.\", \"type\": \"list\", \"required\": False}\n",
    "  ]\n",
    "\n",
    "\n",
    "meta['return_values'] = [\n",
    "    {\"name\": \"result\", \"description\": \"Final result in a dictionary.\", \"type\": \"dict\"}\n",
    "  ]\n",
    "\n",
    "meta[\"interim_results\"] = [\n",
    "    {\"name\": \"params\", \"description\": \"Energy evaluations\", \"type\": \"ndarray\"},\n",
    "  ]\n"
   ]
  },
  {
   "cell_type": "code",
   "execution_count": 4,
   "id": "1b93adc0-2d1e-4583-af5d-422e0e200fb2",
   "metadata": {},
   "outputs": [],
   "source": [
    "from qiskit import IBMQ\n",
    "IBMQ.load_account()\n",
    "provider = IBMQ.get_provider(hub='ibm-q-csic', group='internal', project='iff-csic') "
   ]
  },
  {
   "cell_type": "code",
   "execution_count": 5,
   "id": "93160fcc-f445-490a-b559-556495669879",
   "metadata": {},
   "outputs": [],
   "source": [
    "program_id = 'heem-vqe'\n",
    "provider.runtime.update_program(data='HEEM_VQE.py', metadata=meta, program_id=program_id)"
   ]
  },
  {
   "cell_type": "code",
   "execution_count": 6,
   "id": "e172db47-d530-44ff-a693-85f0fd47c6e1",
   "metadata": {},
   "outputs": [
    {
     "name": "stdout",
     "output_type": "stream",
     "text": [
      "heem-vqe:\n",
      "  Name: HEEM_VQE\n",
      "  Description: Variationa Quantum Eigensolver with hardware efficient entangled measurements\n",
      "  Creation date: 2021-10-16T20:48:20Z\n",
      "  Update date: 2021-11-12T14:15:16.169201Z\n",
      "  Max execution time: 50000\n",
      "  Input parameters:\n",
      "    none\n",
      "  Interim results:\n",
      "    none\n",
      "  Returns:\n",
      "    none\n"
     ]
    }
   ],
   "source": [
    "prog = provider.runtime.program(program_id)\n",
    "print(prog)"
   ]
  },
  {
   "cell_type": "code",
   "execution_count": 7,
   "id": "bad94896-b745-45fb-b119-6834e7f524c4",
   "metadata": {},
   "outputs": [],
   "source": [
    "backend = provider.backend.ibmq_qasm_simulator\n",
    "# backend = provider.get_backend('ibm_lagos')\n",
    "options = {'backend_name': backend.name()}"
   ]
  },
  {
   "cell_type": "code",
   "execution_count": 8,
   "id": "7d8bc297-bf0b-45ac-9549-b0701aa4b95b",
   "metadata": {},
   "outputs": [],
   "source": [
    "#conectivity = get_backend_conectivity(backend)"
   ]
  },
  {
   "cell_type": "code",
   "execution_count": 9,
   "id": "69f92ab4-8517-475f-84b1-8e3886123bf9",
   "metadata": {},
   "outputs": [],
   "source": [
    "inputs = { \"iters\": 100 ,\n",
    "           \"grouping\": \"Entangled\",\n",
    "           \"shots\" : 2**13}"
   ]
  },
  {
   "cell_type": "code",
   "execution_count": 10,
   "id": "220e0c91-0ecc-4061-97c1-aed837056f93",
   "metadata": {},
   "outputs": [],
   "source": [
    "interm_results = []\n",
    "def vqe_callback(job_id, data):\n",
    "    interm_results.append(data)"
   ]
  },
  {
   "cell_type": "code",
   "execution_count": 11,
   "id": "c31c0016-c59e-4502-8c73-6a3b07a6b8dd",
   "metadata": {},
   "outputs": [],
   "source": [
    "job = provider.runtime.run(program_id, options=options, inputs=inputs, callback=vqe_callback)"
   ]
  },
  {
   "cell_type": "code",
   "execution_count": 12,
   "id": "7882a416-5880-4969-8b26-1785afecd5d1",
   "metadata": {},
   "outputs": [
    {
     "ename": "RuntimeJobFailureError",
     "evalue": "'Unable to retrieve job result. Job c677dt737kiphhdbflm0 has failed:\\n2021-11-12T14:15:29.117373210Z /usr/local/lib/python3.8/site-packages/pyscf/lib/misc.py:46: H5pyDeprecationWarning: Using default_file_mode other than \\'r\\' is deprecated. Pass the mode to h5py.File() instead.\\n2021-11-12T14:15:29.117409592Z   h5py.get_config().default_file_mode = \\'a\\'\\n2021-11-12T14:15:29.117418421Z /usr/local/lib/python3.8/site-packages/sympy/core/expr.py:3949: SymPyDeprecationWarning: \\n2021-11-12T14:15:29.117424979Z \\n2021-11-12T14:15:29.117421944Z Couldn\\'t find cython becke routine\\n2021-11-12T14:15:29.117431749Z expr_free_symbols method has been deprecated since SymPy 1.9. See\\n2021-11-12T14:15:29.117453861Z https://github.com/sympy/sympy/issues/21494 for more info.\\n2021-11-12T14:15:29.117474711Z \\n2021-11-12T14:15:29.117482849Z   SymPyDeprecationWarning(feature=\"expr_free_symbols method\",\\n2021-11-12T14:15:29.547440366Z /usr/local/lib/python3.8/site-packages/nats/aio/client.py:1014: DeprecationWarning: The loop argument is deprecated since Python 3.8, and scheduled for removal in Python 3.10.\\n2021-11-12T14:15:29.547473295Z   await asyncio.wait_for(future, timeout, loop=self._loop)\\n2021-11-12T14:15:29.549253832Z Traceback (most recent call last):\\n2021-11-12T14:15:29.549268612Z   File \"/code/program_starter.py\", line 78, in <module>\\n2021-11-12T14:15:29.549280387Z     final_result = main(backend, messenger, **user_params)\\n2021-11-12T14:15:29.549286682Z   File \"/code/program.py\", line 70, in main\\n2021-11-12T14:15:29.549293742Z     results = solver.compute_minimum_eigenvalue( hamiltonian )\\n2021-11-12T14:15:29.549299142Z   File \"/code/program.py\", line 415, in compute_minimum_eigenvalue\\n2021-11-12T14:15:29.549301410Z     vqresult = self.find_minimum(initial_point=self._initial_point,\\n2021-11-12T14:15:29.549304956Z   File \"/code/program.py\", line 523, in find_minimum\\n2021-11-12T14:15:29.549310652Z     opt_params, opt_val, num_optimizer_evals = optimizer.optimize(\\n2021-11-12T14:15:29.549315918Z   File \"/usr/local/lib/python3.8/site-packages/qiskit/algorithms/optimizers/spsa.py\", line 556, in optimize\\n2021-11-12T14:15:29.549322386Z     return self._minimize(objective_function, initial_point)\\n2021-11-12T14:15:29.549327837Z   File \"/usr/local/lib/python3.8/site-packages/qiskit/algorithms/optimizers/spsa.py\", line 469, in _minimize\\n2021-11-12T14:15:29.549334593Z     update = self._compute_update(loss, x, k, next(eps), lse_solver)\\n2021-11-12T14:15:29.549340389Z   File \"/usr/local/lib/python3.8/site-packages/qiskit/algorithms/optimizers/spsa.py\", line 411, in _compute_update\\n2021-11-12T14:15:29.549345686Z     gradient, hessian = self._point_estimate(loss, x, eps, num_samples)\\n2021-11-12T14:15:29.549350733Z   File \"/usr/local/lib/python3.8/site-packages/qiskit/algorithms/optimizers/spsa.py\", line 395, in _point_estimate\\n2021-11-12T14:15:29.549356030Z     gradient_sample, hessian_sample = self._point_sample(loss, x, eps, delta1, delta2)\\n2021-11-12T14:15:29.549362659Z   File \"/usr/local/lib/python3.8/site-packages/qiskit/algorithms/optimizers/spsa.py\", line 357, in _point_sample\\n2021-11-12T14:15:29.549370867Z     values = _batch_evaluate(loss, points, self._max_evals_grouped)\\n2021-11-12T14:15:29.549373755Z   File \"/usr/local/lib/python3.8/site-packages/qiskit/algorithms/optimizers/spsa.py\", line 594, in _batch_evaluate\\n2021-11-12T14:15:29.549382055Z     return [\\n2021-11-12T14:15:29.549390282Z   File \"/usr/local/lib/python3.8/site-packages/qiskit/algorithms/optimizers/spsa.py\", line 595, in <listcomp>\\n2021-11-12T14:15:29.549393470Z     function(*point) if isinstance(point, tuple) else function(point) for point in points\\n2021-11-12T14:15:29.549398520Z   File \"/code/program.py\", line 368, in _energy_evaluation\\n2021-11-12T14:15:29.549404103Z     means = self._circuit_sampler(self._expect_op, params=parameters)\\n2021-11-12T14:15:29.549409714Z   File \"/code/program.py\", line 340, in _circuit_sampler\\n2021-11-12T14:15:29.549437157Z     self._callback(self._eval_count, params, ExpectedValue, None)\\n2021-11-12T14:15:29.549444309Z   File \"/code/program.py\", line 53, in callback\\n2021-11-12T14:15:29.549448070Z     user_messenger.publish( message, message, None )\\n2021-11-12T14:15:29.549451077Z   File \"/provider/programruntime/runtime_user_messenger.py\", line 42, in publish\\n2021-11-12T14:15:29.549461975Z     message = json.dumps(message, cls=encoder)\\n2021-11-12T14:15:29.549463134Z   File \"/usr/local/lib/python3.8/json/__init__.py\", line 234, in dumps\\n2021-11-12T14:15:29.549472995Z     return cls(\\n2021-11-12T14:15:29.549478275Z TypeError: \\'dict\\' object is not callable\\n'",
     "output_type": "error",
     "traceback": [
      "\u001b[1;31m---------------------------------------------------------------------------\u001b[0m",
      "\u001b[1;31mRuntimeJobFailureError\u001b[0m                    Traceback (most recent call last)",
      "\u001b[1;32m~\\AppData\\Local\\Temp/ipykernel_23524/168863067.py\u001b[0m in \u001b[0;36m<module>\u001b[1;34m\u001b[0m\n\u001b[1;32m----> 1\u001b[1;33m \u001b[0mjob\u001b[0m\u001b[1;33m.\u001b[0m\u001b[0mresult\u001b[0m\u001b[1;33m(\u001b[0m\u001b[1;33m)\u001b[0m\u001b[1;33m\u001b[0m\u001b[1;33m\u001b[0m\u001b[0m\n\u001b[0m",
      "\u001b[1;32m~\\miniconda3\\lib\\site-packages\\qiskit\\providers\\ibmq\\runtime\\runtime_job.py\u001b[0m in \u001b[0;36mresult\u001b[1;34m(self, timeout, wait, decoder)\u001b[0m\n\u001b[0;32m    149\u001b[0m             \u001b[0mself\u001b[0m\u001b[1;33m.\u001b[0m\u001b[0mwait_for_final_state\u001b[0m\u001b[1;33m(\u001b[0m\u001b[0mtimeout\u001b[0m\u001b[1;33m=\u001b[0m\u001b[0mtimeout\u001b[0m\u001b[1;33m,\u001b[0m \u001b[0mwait\u001b[0m\u001b[1;33m=\u001b[0m\u001b[0mwait\u001b[0m\u001b[1;33m)\u001b[0m\u001b[1;33m\u001b[0m\u001b[1;33m\u001b[0m\u001b[0m\n\u001b[0;32m    150\u001b[0m             \u001b[1;32mif\u001b[0m \u001b[0mself\u001b[0m\u001b[1;33m.\u001b[0m\u001b[0m_status\u001b[0m \u001b[1;33m==\u001b[0m \u001b[0mJobStatus\u001b[0m\u001b[1;33m.\u001b[0m\u001b[0mERROR\u001b[0m\u001b[1;33m:\u001b[0m\u001b[1;33m\u001b[0m\u001b[1;33m\u001b[0m\u001b[0m\n\u001b[1;32m--> 151\u001b[1;33m                 raise RuntimeJobFailureError(f\"Unable to retrieve job result. \"\n\u001b[0m\u001b[0;32m    152\u001b[0m                                              f\"{self.error_message()}\")\n\u001b[0;32m    153\u001b[0m             \u001b[0mresult_raw\u001b[0m \u001b[1;33m=\u001b[0m \u001b[0mself\u001b[0m\u001b[1;33m.\u001b[0m\u001b[0m_api_client\u001b[0m\u001b[1;33m.\u001b[0m\u001b[0mjob_results\u001b[0m\u001b[1;33m(\u001b[0m\u001b[0mjob_id\u001b[0m\u001b[1;33m=\u001b[0m\u001b[0mself\u001b[0m\u001b[1;33m.\u001b[0m\u001b[0mjob_id\u001b[0m\u001b[1;33m(\u001b[0m\u001b[1;33m)\u001b[0m\u001b[1;33m)\u001b[0m\u001b[1;33m\u001b[0m\u001b[1;33m\u001b[0m\u001b[0m\n",
      "\u001b[1;31mRuntimeJobFailureError\u001b[0m: 'Unable to retrieve job result. Job c677dt737kiphhdbflm0 has failed:\\n2021-11-12T14:15:29.117373210Z /usr/local/lib/python3.8/site-packages/pyscf/lib/misc.py:46: H5pyDeprecationWarning: Using default_file_mode other than \\'r\\' is deprecated. Pass the mode to h5py.File() instead.\\n2021-11-12T14:15:29.117409592Z   h5py.get_config().default_file_mode = \\'a\\'\\n2021-11-12T14:15:29.117418421Z /usr/local/lib/python3.8/site-packages/sympy/core/expr.py:3949: SymPyDeprecationWarning: \\n2021-11-12T14:15:29.117424979Z \\n2021-11-12T14:15:29.117421944Z Couldn\\'t find cython becke routine\\n2021-11-12T14:15:29.117431749Z expr_free_symbols method has been deprecated since SymPy 1.9. See\\n2021-11-12T14:15:29.117453861Z https://github.com/sympy/sympy/issues/21494 for more info.\\n2021-11-12T14:15:29.117474711Z \\n2021-11-12T14:15:29.117482849Z   SymPyDeprecationWarning(feature=\"expr_free_symbols method\",\\n2021-11-12T14:15:29.547440366Z /usr/local/lib/python3.8/site-packages/nats/aio/client.py:1014: DeprecationWarning: The loop argument is deprecated since Python 3.8, and scheduled for removal in Python 3.10.\\n2021-11-12T14:15:29.547473295Z   await asyncio.wait_for(future, timeout, loop=self._loop)\\n2021-11-12T14:15:29.549253832Z Traceback (most recent call last):\\n2021-11-12T14:15:29.549268612Z   File \"/code/program_starter.py\", line 78, in <module>\\n2021-11-12T14:15:29.549280387Z     final_result = main(backend, messenger, **user_params)\\n2021-11-12T14:15:29.549286682Z   File \"/code/program.py\", line 70, in main\\n2021-11-12T14:15:29.549293742Z     results = solver.compute_minimum_eigenvalue( hamiltonian )\\n2021-11-12T14:15:29.549299142Z   File \"/code/program.py\", line 415, in compute_minimum_eigenvalue\\n2021-11-12T14:15:29.549301410Z     vqresult = self.find_minimum(initial_point=self._initial_point,\\n2021-11-12T14:15:29.549304956Z   File \"/code/program.py\", line 523, in find_minimum\\n2021-11-12T14:15:29.549310652Z     opt_params, opt_val, num_optimizer_evals = optimizer.optimize(\\n2021-11-12T14:15:29.549315918Z   File \"/usr/local/lib/python3.8/site-packages/qiskit/algorithms/optimizers/spsa.py\", line 556, in optimize\\n2021-11-12T14:15:29.549322386Z     return self._minimize(objective_function, initial_point)\\n2021-11-12T14:15:29.549327837Z   File \"/usr/local/lib/python3.8/site-packages/qiskit/algorithms/optimizers/spsa.py\", line 469, in _minimize\\n2021-11-12T14:15:29.549334593Z     update = self._compute_update(loss, x, k, next(eps), lse_solver)\\n2021-11-12T14:15:29.549340389Z   File \"/usr/local/lib/python3.8/site-packages/qiskit/algorithms/optimizers/spsa.py\", line 411, in _compute_update\\n2021-11-12T14:15:29.549345686Z     gradient, hessian = self._point_estimate(loss, x, eps, num_samples)\\n2021-11-12T14:15:29.549350733Z   File \"/usr/local/lib/python3.8/site-packages/qiskit/algorithms/optimizers/spsa.py\", line 395, in _point_estimate\\n2021-11-12T14:15:29.549356030Z     gradient_sample, hessian_sample = self._point_sample(loss, x, eps, delta1, delta2)\\n2021-11-12T14:15:29.549362659Z   File \"/usr/local/lib/python3.8/site-packages/qiskit/algorithms/optimizers/spsa.py\", line 357, in _point_sample\\n2021-11-12T14:15:29.549370867Z     values = _batch_evaluate(loss, points, self._max_evals_grouped)\\n2021-11-12T14:15:29.549373755Z   File \"/usr/local/lib/python3.8/site-packages/qiskit/algorithms/optimizers/spsa.py\", line 594, in _batch_evaluate\\n2021-11-12T14:15:29.549382055Z     return [\\n2021-11-12T14:15:29.549390282Z   File \"/usr/local/lib/python3.8/site-packages/qiskit/algorithms/optimizers/spsa.py\", line 595, in <listcomp>\\n2021-11-12T14:15:29.549393470Z     function(*point) if isinstance(point, tuple) else function(point) for point in points\\n2021-11-12T14:15:29.549398520Z   File \"/code/program.py\", line 368, in _energy_evaluation\\n2021-11-12T14:15:29.549404103Z     means = self._circuit_sampler(self._expect_op, params=parameters)\\n2021-11-12T14:15:29.549409714Z   File \"/code/program.py\", line 340, in _circuit_sampler\\n2021-11-12T14:15:29.549437157Z     self._callback(self._eval_count, params, ExpectedValue, None)\\n2021-11-12T14:15:29.549444309Z   File \"/code/program.py\", line 53, in callback\\n2021-11-12T14:15:29.549448070Z     user_messenger.publish( message, message, None )\\n2021-11-12T14:15:29.549451077Z   File \"/provider/programruntime/runtime_user_messenger.py\", line 42, in publish\\n2021-11-12T14:15:29.549461975Z     message = json.dumps(message, cls=encoder)\\n2021-11-12T14:15:29.549463134Z   File \"/usr/local/lib/python3.8/json/__init__.py\", line 234, in dumps\\n2021-11-12T14:15:29.549472995Z     return cls(\\n2021-11-12T14:15:29.549478275Z TypeError: \\'dict\\' object is not callable\\n'"
     ]
    }
   ],
   "source": [
    "job.result()"
   ]
  },
  {
   "cell_type": "code",
   "execution_count": null,
   "id": "188bd46e-2850-4206-bf18-c2ba73c17db4",
   "metadata": {},
   "outputs": [],
   "source": [
    "energies= [ idx['energy'] for idx in interm_results ]"
   ]
  },
  {
   "cell_type": "code",
   "execution_count": null,
   "id": "67e69225-af10-464e-b1f5-2f676c8ef4b0",
   "metadata": {},
   "outputs": [],
   "source": [
    "energies"
   ]
  },
  {
   "cell_type": "code",
   "execution_count": null,
   "id": "d599adef-a102-465c-be4a-91859db26a9a",
   "metadata": {},
   "outputs": [],
   "source": [
    "plt.plot(energies)\n",
    "plt.grid()"
   ]
  },
  {
   "cell_type": "code",
   "execution_count": null,
   "id": "c8df5c4c-2026-43de-b5db-48f303b30f80",
   "metadata": {},
   "outputs": [],
   "source": [
    "plt.plot(energies)\n",
    "plt.grid()"
   ]
  },
  {
   "cell_type": "code",
   "execution_count": null,
   "id": "af7389a4-5964-44be-afe1-deb6bae9e9eb",
   "metadata": {},
   "outputs": [],
   "source": []
  },
  {
   "cell_type": "code",
   "execution_count": null,
   "id": "8c669458-7a2f-4f4f-b4ef-5e4fa5b2475c",
   "metadata": {},
   "outputs": [],
   "source": []
  },
  {
   "cell_type": "code",
   "execution_count": null,
   "id": "280b4b1b-6a56-4f68-8b03-e2b1e9237637",
   "metadata": {},
   "outputs": [],
   "source": []
  }
 ],
 "metadata": {
  "kernelspec": {
   "display_name": "Python 3 (ipykernel)",
   "language": "python",
   "name": "python3"
  },
  "language_info": {
   "codemirror_mode": {
    "name": "ipython",
    "version": 3
   },
   "file_extension": ".py",
   "mimetype": "text/x-python",
   "name": "python",
   "nbconvert_exporter": "python",
   "pygments_lexer": "ipython3",
   "version": "3.9.5"
  }
 },
 "nbformat": 4,
 "nbformat_minor": 5
}
