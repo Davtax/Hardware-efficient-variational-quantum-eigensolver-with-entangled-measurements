{
 "cells": [
  {
   "cell_type": "code",
   "execution_count": 4,
   "metadata": {
    "execution": {
     "iopub.execute_input": "2021-05-31T02:26:57.007590Z",
     "iopub.status.busy": "2021-05-31T02:26:57.006846Z",
     "iopub.status.idle": "2021-05-31T02:26:59.435993Z",
     "shell.execute_reply": "2021-05-31T02:26:59.436555Z"
    },
    "papermill": {
     "duration": 2.530509,
     "end_time": "2021-05-31T02:26:59.436792",
     "exception": false,
     "start_time": "2021-05-31T02:26:56.906283",
     "status": "completed"
    },
    "tags": []
   },
   "outputs": [],
   "source": [
    "import numpy as np\n",
    "import matplotlib.pyplot as plt\n",
    "from VQE import VQE\n",
    "from GroupingAlgorithms import *\n",
    "# Importing standard Qiskit libraries\n",
    "from qiskit import IBMQ, QuantumCircuit\n",
    "from qiskit.providers.aer import AerSimulator\n",
    "from qiskit.circuit.library import EfficientSU2\n",
    "from qiskit.utils.quantum_instance import QuantumInstance\n",
    "from qiskit.algorithms import NumPyMinimumEigensolver\n",
    "from qiskit.ignis.mitigation.measurement import CompleteMeasFitter\n",
    "from qiskit_nature.circuit.library import HartreeFock\n",
    "from qiskit_nature.transformers import FreezeCoreTransformer\n",
    "# from qiskit_nature.drivers import PyQuanteDriver\n",
    "from qiskit_nature.drivers import PySCFDriver\n",
    "from qiskit_nature.problems.second_quantization.electronic import ElectronicStructureProblem\n",
    "from qiskit_nature.mappers.second_quantization import ParityMapper, JordanWignerMapper\n",
    "from qiskit_nature.converters.second_quantization.qubit_converter import QubitConverter\n",
    "from qiskit_nature.algorithms.ground_state_solvers.minimum_eigensolver_factories import NumPyMinimumEigensolverFactory\n",
    "from qiskit_nature.algorithms.ground_state_solvers import GroundStateEigensolver\n",
    "from qiskit.opflow.primitive_ops import Z2Symmetries\n",
    "from qiskit.opflow import converters\n",
    "from qiskit.algorithms.optimizers import SPSA\n",
    "from IPython.display import display, clear_output"
   ]
  },
  {
   "cell_type": "markdown",
   "metadata": {},
   "source": [
    "## Experiment\n",
    "This notebook is a copy of the one used to run the experiment of VQE with HEEM for the LiH molecule in an IBM quantum device. First, we load our account, define the backend and the number of shots."
   ]
  },
  {
   "cell_type": "code",
   "execution_count": 5,
   "metadata": {
    "execution": {
     "iopub.execute_input": "2021-05-31T02:26:59.584727Z",
     "iopub.status.busy": "2021-05-31T02:26:59.584000Z",
     "iopub.status.idle": "2021-05-31T02:27:06.578812Z",
     "shell.execute_reply": "2021-05-31T02:27:06.579660Z"
    },
    "papermill": {
     "duration": 7.065082,
     "end_time": "2021-05-31T02:27:06.580042",
     "exception": false,
     "start_time": "2021-05-31T02:26:59.514960",
     "status": "completed"
    },
    "tags": []
   },
   "outputs": [],
   "source": [
    "IBMQ.load_account()\n",
    "provider      = IBMQ.get_provider(hub='ibm-q-csic', group='internal', project='iff-csic') \n",
    "# backend_exp   = provider.get_backend('ibmq_paris')\n",
    "backend_exp   = provider.get_backend('ibmq_guadalupe')\n",
    "WC_exp        = get_backend_conectivity(backend_exp)\n",
    "NUM_SHOTS = 2**13  # Number of shots for each circuit"
   ]
  },
  {
   "cell_type": "markdown",
   "metadata": {},
   "source": [
    "Defining the quantum instance to run the experiment."
   ]
  },
  {
   "cell_type": "code",
   "execution_count": 6,
   "metadata": {
    "execution": {
     "iopub.execute_input": "2021-05-31T02:27:06.762880Z",
     "iopub.status.busy": "2021-05-31T02:27:06.762126Z",
     "iopub.status.idle": "2021-05-31T02:27:06.766514Z",
     "shell.execute_reply": "2021-05-31T02:27:06.767152Z"
    },
    "papermill": {
     "duration": 0.084706,
     "end_time": "2021-05-31T02:27:06.767355",
     "exception": false,
     "start_time": "2021-05-31T02:27:06.682649",
     "status": "completed"
    },
    "tags": []
   },
   "outputs": [],
   "source": [
    "quantum_instance = QuantumInstance( backend_exp, shots = NUM_SHOTS )"
   ]
  },
  {
   "cell_type": "markdown",
   "metadata": {},
   "source": [
    "Creating the Hamiltonian of the LiH molecule."
   ]
  },
  {
   "cell_type": "code",
   "execution_count": 7,
   "metadata": {
    "execution": {
     "iopub.execute_input": "2021-05-31T02:27:06.912747Z",
     "iopub.status.busy": "2021-05-31T02:27:06.911937Z",
     "iopub.status.idle": "2021-05-31T02:27:12.192197Z",
     "shell.execute_reply": "2021-05-31T02:27:12.210821Z"
    },
    "papermill": {
     "duration": 5.373157,
     "end_time": "2021-05-31T02:27:12.211079",
     "exception": false,
     "start_time": "2021-05-31T02:27:06.837922",
     "status": "completed"
    },
    "tags": []
   },
   "outputs": [
    {
     "name": "stdout",
     "output_type": "stream",
     "text": [
      "4\n",
      "-0.2031660615055879 * IIII\n",
      "- 0.3652586902160348 * ZIII\n",
      "+ 0.0927599493349712 * IZII\n",
      "- 0.2118898429700965 * ZZII\n",
      "+ (0.36525869021603485+2.7755575615628914e-17j) * IIZI\n",
      "- 0.11384335176465854 * ZIZI\n",
      "+ 0.1139525188304805 * IZZI\n",
      "+ (-0.06044012857314275-3.469446951953614e-18j) * ZZZI\n",
      "- 0.09275994933497117 * IIIZ\n",
      "+ 0.11395251883048049 * ZIIZ\n",
      "+ (-0.12274244052546182-6.938893903907228e-18j) * IZIZ\n",
      "+ 0.05628878167215863 * ZZIZ\n",
      "+ (-0.2118898429700965+1.3877787807814457e-17j) * IIZZ\n",
      "+ 0.06044012857314275 * ZIZZ\n",
      "+ (-0.05628878167215863-3.469446951953614e-18j) * IZZZ\n",
      "+ 0.08460131391824587 * ZZZZ\n",
      "+ 0.01938940858371085 * XIII\n",
      "+ (-0.019389408583710854+4.336808689942018e-19j) * XZII\n",
      "- 0.01095277357378463 * XIZI\n",
      "+ 0.01095277357378463 * XZZI\n",
      "+ 0.012779333033002545 * XIIZ\n",
      "- 0.012779333033002545 * XZIZ\n",
      "- 0.0090025012438386 * XIZZ\n",
      "+ 0.0090025012438386 * XZZZ\n",
      "+ 0.0029411410872570622 * IXII\n",
      "+ 0.0029411410872570622 * ZXII\n",
      "+ (-0.010681856282912659-8.673617379884035e-19j) * IXZI\n",
      "- 0.010681856282912659 * ZXZI\n",
      "+ 0.0119255292844601 * IXIZ\n",
      "+ (0.0119255292844601+8.673617379884035e-19j) * ZXIZ\n",
      "- 0.0016974649623796932 * IXZZ\n",
      "+ (-0.0016974649623796932+1.0842021724855044e-19j) * ZXZZ\n",
      "- 0.0007427996395154297 * XXII\n",
      "+ 0.0007427996395154295 * YYII\n",
      "+ 0.034389748140487536 * XXZI\n",
      "- 0.034389748140487536 * YYZI\n",
      "- 0.03239529731987252 * XXIZ\n",
      "+ 0.03239529731987252 * YYIZ\n",
      "+ 0.0027372506123440237 * XXZZ\n",
      "- 0.0027372506123440237 * YYZZ\n",
      "+ (0.019389408583710844+1.3010426069826053e-18j) * IIXI\n",
      "+ 0.01095277357378463 * ZIXI\n",
      "+ (-0.012779333033002545+8.673617379884035e-19j) * IZXI\n",
      "- 0.0090025012438386 * ZZXI\n",
      "+ (0.01938940858371085-1.734723475976807e-18j) * IIXZ\n",
      "+ 0.01095277357378463 * ZIXZ\n",
      "- 0.012779333033002545 * IZXZ\n",
      "+ (-0.0090025012438386-8.673617379884035e-19j) * ZZXZ\n",
      "+ 0.0065875841900482745 * XIXI\n",
      "- 0.0065875841900482745 * XZXI\n",
      "+ (0.0065875841900482745-4.336808689942018e-19j) * XIXZ\n",
      "- 0.0065875841900482745 * XZXZ\n",
      "+ 0.00222161080813273 * IXXI\n",
      "+ (0.00222161080813273+2.168404344971009e-19j) * ZXXI\n",
      "+ (0.00222161080813273+2.168404344971009e-19j) * IXXZ\n",
      "+ 0.00222161080813273 * ZXXZ\n",
      "- 0.00785900326588702 * XXXI\n",
      "+ 0.00785900326588702 * YYXI\n",
      "- 0.00785900326588702 * XXXZ\n",
      "+ 0.00785900326588702 * YYXZ\n",
      "+ (0.002941141087257063-2.168404344971009e-19j) * IIIX\n",
      "+ 0.010681856282912659 * ZIIX\n",
      "+ (-0.0119255292844601-8.673617379884035e-19j) * IZIX\n",
      "- 0.0016974649623796932 * ZZIX\n",
      "+ (-0.002941141087257063+2.168404344971009e-19j) * IIZX\n",
      "- 0.010681856282912659 * ZIZX\n",
      "+ (0.0119255292844601+8.673617379884035e-19j) * IZZX\n",
      "+ 0.0016974649623796932 * ZZZX\n",
      "+ 0.00222161080813273 * XIIX\n",
      "- 0.00222161080813273 * XZIX\n",
      "- 0.00222161080813273 * XIZX\n",
      "+ 0.00222161080813273 * XZZX\n",
      "+ 0.003139482375488067 * IXIX\n",
      "+ (0.0031394823754880676+2.168404344971009e-19j) * ZXIX\n",
      "- 0.003139482375488067 * IXZX\n",
      "+ (-0.0031394823754880676-2.168404344971009e-19j) * ZXZX\n",
      "- 0.008499158469794365 * XXIX\n",
      "+ 0.008499158469794365 * YYIX\n",
      "+ 0.008499158469794365 * XXZX\n",
      "- 0.008499158469794365 * YYZX\n",
      "- 0.0007427996395154238 * IIXX\n",
      "- 0.034389748140487536 * ZIXX\n",
      "+ 0.03239529731987252 * IZXX\n",
      "+ (0.0027372506123440237+2.168404344971009e-19j) * ZZXX\n",
      "+ 0.0007427996395154238 * IIYY\n",
      "+ 0.034389748140487536 * ZIYY\n",
      "- 0.03239529731987252 * IZYY\n",
      "- 0.0027372506123440237 * ZZYY\n",
      "- 0.00785900326588702 * XIXX\n",
      "+ 0.00785900326588702 * XZXX\n",
      "+ 0.00785900326588702 * XIYY\n",
      "- 0.00785900326588702 * XZYY\n",
      "- 0.008499158469794366 * IXXX\n",
      "- 0.008499158469794366 * ZXXX\n",
      "+ 0.008499158469794366 * IXYY\n",
      "+ 0.008499158469794366 * ZXYY\n",
      "+ 0.030846096963279897 * XXXX\n",
      "+ (-0.030846096963279897-1.734723475976807e-18j) * YYXX\n",
      "- 0.030846096963279897 * XXYY\n",
      "+ 0.030846096963279893 * YYYY\n"
     ]
    }
   ],
   "source": [
    "molecule = 'Li 0.0 0.0 0.0; H 0.0 0.0 1.5474'\n",
    "driver = PySCFDriver(molecule)\n",
    "qmolecule = driver.run()\n",
    "freezeCoreTransfomer = FreezeCoreTransformer( freeze_core=True, remove_orbitals= [3,4] )\n",
    "problem = ElectronicStructureProblem(driver,q_molecule_transformers=[freezeCoreTransfomer])\n",
    "\n",
    "# Generate the second-quantized operators\n",
    "second_q_ops = problem.second_q_ops()\n",
    "\n",
    "# Hamiltonian\n",
    "main_op = second_q_ops[0]\n",
    "\n",
    "# Setup the mapper and qubit converter\n",
    "mapper_type = 'ParityMapper'\n",
    "mapper = ParityMapper()\n",
    "\n",
    "converter = QubitConverter( mapper=mapper, two_qubit_reduction=True, z2symmetry_reduction=[1,1],) #1] \n",
    "\n",
    "# The fermionic operators are mapped to qubit operators\n",
    "num_particles = (problem.molecule_data_transformed.num_alpha, problem.molecule_data_transformed.num_beta)\n",
    "\n",
    "num_spin_orbitals = 2 * problem.molecule_data_transformed.num_molecular_orbitals\n",
    "\n",
    "qubit_op = converter.convert(main_op, num_particles=num_particles)\n",
    "\n",
    "num_qubits = qubit_op.num_qubits\n",
    "WC = list(range(num_qubits))\n",
    "WC = list(permutations(list(range(num_qubits)),2))\n",
    "\n",
    "init_state = HartreeFock(num_spin_orbitals, num_particles, converter)\n",
    "\n",
    "print( num_qubits )\n",
    "print( qubit_op )"
   ]
  },
  {
   "cell_type": "markdown",
   "metadata": {
    "execution": {
     "iopub.execute_input": "2021-05-31T02:27:12.474699Z",
     "iopub.status.busy": "2021-05-31T02:27:12.473824Z",
     "iopub.status.idle": "2021-05-31T02:27:12.617249Z",
     "shell.execute_reply": "2021-05-31T02:27:12.616496Z"
    },
    "papermill": {
     "duration": 0.255152,
     "end_time": "2021-05-31T02:27:12.617476",
     "exception": false,
     "start_time": "2021-05-31T02:27:12.362324",
     "status": "completed"
    },
    "tags": []
   },
   "source": [
    "Creating the variational form. This is also hardware efficient."
   ]
  },
  {
   "cell_type": "code",
   "execution_count": 9,
   "metadata": {
    "execution": {
     "iopub.execute_input": "2021-05-31T02:27:12.818255Z",
     "iopub.status.busy": "2021-05-31T02:27:12.817402Z",
     "iopub.status.idle": "2021-05-31T02:27:13.494889Z",
     "shell.execute_reply": "2021-05-31T02:27:13.495485Z"
    },
    "papermill": {
     "duration": 0.773459,
     "end_time": "2021-05-31T02:27:13.495830",
     "exception": false,
     "start_time": "2021-05-31T02:27:12.722371",
     "status": "completed"
    },
    "tags": []
   },
   "outputs": [
    {
     "data": {
      "image/png": "[encoded data removed]",
      "text/plain": [
       "<Figure size 568.197x264.88 with 1 Axes>"
      ]
     },
     "execution_count": 9,
     "metadata": {},
     "output_type": "execute_result"
    }
   ],
   "source": [
    "entangled_layer = []\n",
    "for qbs in WC_exp :\n",
    "    if qbs[0]<qbs[1] and qbs[1]<num_qubits :\n",
    "        entangled_layer.append(qbs)\n",
    "\n",
    "ansatz = init_state.compose( EfficientSU2(num_qubits,['ry','rz'], entanglement=entangled_layer, reps=1 ) )\n",
    "ansatz.draw(output='mpl')"
   ]
  },
  {
   "cell_type": "markdown",
   "metadata": {},
   "source": [
    "Defining the callback, the optimizer and the initial parameters. "
   ]
  },
  {
   "cell_type": "code",
   "execution_count": 10,
   "metadata": {
    "execution": {
     "iopub.execute_input": "2021-05-31T02:27:13.660666Z",
     "iopub.status.busy": "2021-05-31T02:27:13.658988Z",
     "iopub.status.idle": "2021-05-31T02:27:13.661387Z",
     "shell.execute_reply": "2021-05-31T02:27:13.659923Z"
    },
    "papermill": {
     "duration": 0.085624,
     "end_time": "2021-05-31T02:27:13.661557",
     "exception": false,
     "start_time": "2021-05-31T02:27:13.575933",
     "status": "completed"
    },
    "tags": []
   },
   "outputs": [],
   "source": [
    "# Warning: This callback is deprecated in our code.\n",
    "def callback( evals, params ):  \n",
    "    display(\"{}, {}\".format(len(evaluations),evals))\n",
    "    clear_output(wait=True)\n",
    "    parameters.append(params)\n",
    "    evaluations.append(evals)\n",
    "\n",
    "parameters  = []\n",
    "evaluations = []"
   ]
  },
  {
   "cell_type": "code",
   "execution_count": 11,
   "metadata": {
    "execution": {
     "iopub.execute_input": "2021-05-31T02:27:13.834158Z",
     "iopub.status.busy": "2021-05-31T02:27:13.832306Z",
     "iopub.status.idle": "2021-05-31T02:27:13.835044Z",
     "shell.execute_reply": "2021-05-31T02:27:13.833118Z"
    },
    "papermill": {
     "duration": 0.095397,
     "end_time": "2021-05-31T02:27:13.835278",
     "exception": false,
     "start_time": "2021-05-31T02:27:13.739881",
     "status": "completed"
    },
    "tags": []
   },
   "outputs": [],
   "source": [
    "optimizer = SPSA( maxiter=150, last_avg=1 )"
   ]
  },
  {
   "cell_type": "code",
   "execution_count": 12,
   "metadata": {
    "execution": {
     "iopub.execute_input": "2021-05-31T02:27:13.987579Z",
     "iopub.status.busy": "2021-05-31T02:27:13.986842Z",
     "iopub.status.idle": "2021-05-31T02:27:13.991554Z",
     "shell.execute_reply": "2021-05-31T02:27:13.990954Z"
    },
    "papermill": {
     "duration": 0.083471,
     "end_time": "2021-05-31T02:27:13.991737",
     "exception": false,
     "start_time": "2021-05-31T02:27:13.908266",
     "status": "completed"
    },
    "tags": []
   },
   "outputs": [],
   "source": [
    "num_var = ansatz.num_parameters\n",
    "pars = [0.01] * num_var"
   ]
  },
  {
   "cell_type": "markdown",
   "metadata": {},
   "source": [
    "Runing the experiment."
   ]
  },
  {
   "cell_type": "code",
   "execution_count": 13,
   "metadata": {
    "execution": {
     "iopub.execute_input": "2021-05-31T02:27:14.203617Z",
     "iopub.status.busy": "2021-05-31T02:27:14.202855Z",
     "iopub.status.idle": "2021-05-31T10:18:02.943745Z",
     "shell.execute_reply": "2021-05-31T10:18:02.943079Z"
    },
    "papermill": {
     "duration": 28248.864947,
     "end_time": "2021-05-31T10:18:02.943941",
     "exception": false,
     "start_time": "2021-05-31T02:27:14.078994",
     "status": "completed"
    },
    "tags": []
   },
   "outputs": [
    {
     "name": "stdout",
     "output_type": "stream",
     "text": [
      "-7.769308288344124\n"
     ]
    }
   ],
   "source": [
    "solver = VQE( ansatz, optimizer, pars, grouping = 'Entangled', conectivity = WC_exp, callback=callback, quantum_instance=quantum_instance )\n",
    "results = solver.compute_minimum_eigenvalue(qubit_op)\n",
    "print( results.eigenvalue )"
   ]
  },
  {
   "cell_type": "markdown",
   "metadata": {},
   "source": [
    "Saving the data."
   ]
  },
  {
   "cell_type": "code",
   "execution_count": 14,
   "metadata": {
    "execution": {
     "iopub.execute_input": "2021-05-31T10:18:03.147161Z",
     "iopub.status.busy": "2021-05-31T10:18:03.145342Z",
     "iopub.status.idle": "2021-05-31T10:18:03.460444Z",
     "shell.execute_reply": "2021-05-31T10:18:03.461069Z"
    },
    "papermill": {
     "duration": 0.417881,
     "end_time": "2021-05-31T10:18:03.461315",
     "exception": false,
     "start_time": "2021-05-31T10:18:03.043434",
     "status": "completed"
    },
    "tags": []
   },
   "outputs": [],
   "source": [
    "np.save( 'exp_params_rep_1_'+backend_exp.name(), np.array(parameters) )\n",
    "np.save( 'exp_energy_rep_1_'+backend_exp.name(), np.array(evaluations) )"
   ]
  },
  {
   "cell_type": "code",
   "execution_count": 1,
   "metadata": {
    "execution": {
     "iopub.execute_input": "2021-06-04T19:34:07.773248Z",
     "iopub.status.busy": "2021-06-04T19:34:07.773248Z",
     "iopub.status.idle": "2021-06-04T19:34:11.187508Z",
     "shell.execute_reply": "2021-06-04T19:34:11.186509Z",
     "shell.execute_reply.started": "2021-06-04T19:34:07.773248Z"
    }
   },
   "outputs": [
    {
     "data": {
      "text/html": [
       "<h3>Version Information</h3><table><tr><th>Qiskit Software</th><th>Version</th></tr><tr><td>Qiskit</td><td>0.25.0</td></tr><tr><td>Terra</td><td>0.17.0</td></tr><tr><td>Aer</td><td>0.8.0</td></tr><tr><td>Ignis</td><td>0.6.0</td></tr><tr><td>Aqua</td><td>0.9.0</td></tr><tr><td>IBM Q Provider</td><td>0.12.2</td></tr><tr><th>System information</th></tr><tr><td>Python</td><td>3.7.7 (default, May  6 2020, 11:45:54) [MSC v.1916 64 bit (AMD64)]</td></tr><tr><td>OS</td><td>Windows</td></tr><tr><td>CPUs</td><td>4</td></tr><tr><td>Memory (Gb)</td><td>11.887619018554688</td></tr><tr><td colspan='2'>Fri Jun 04 21:34:11 2021 Hora de verano romance</td></tr></table>"
      ],
      "text/plain": [
       "<IPython.core.display.HTML object>"
      ]
     },
     "metadata": {},
     "output_type": "display_data"
    }
   ],
   "source": [
    "import qiskit.tools.jupyter\n",
    "%qiskit_version_table"
   ]
  },
  {
   "cell_type": "code",
   "execution_count": null,
   "metadata": {},
   "outputs": [],
   "source": []
  }
 ],
 "metadata": {
  "kernelspec": {
   "display_name": "Python 3",
   "language": "python",
   "name": "python3"
  },
  "language_info": {
   "codemirror_mode": {
    "name": "ipython",
    "version": 3
   },
   "file_extension": ".py",
   "mimetype": "text/x-python",
   "name": "python",
   "nbconvert_exporter": "python",
   "pygments_lexer": "ipython3",
   "version": "3.8.5"
  },
  "papermill": {
   "default_parameters": {},
   "duration": 28274.787439,
   "end_time": "2021-05-31T10:18:05.589576",
   "environment_variables": {},
   "exception": null,
   "input_path": "Experiment_HEEM_VQE.ipynb",
   "output_path": "Experiment_HEEM_VQE-background-results.ipynb",
   "parameters": {},
   "start_time": "2021-05-31T02:26:50.802137",
   "version": "2.3.3"
  }
 },
 "nbformat": 4,
 "nbformat_minor": 5
}
