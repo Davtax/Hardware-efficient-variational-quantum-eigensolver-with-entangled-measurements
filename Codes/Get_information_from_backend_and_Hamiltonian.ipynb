{
 "cells": [
  {
   "cell_type": "code",
   "execution_count": 1,
   "metadata": {
    "execution": {
     "iopub.execute_input": "2021-05-17T10:44:20.147915Z",
     "iopub.status.busy": "2021-05-17T10:44:20.147915Z",
     "iopub.status.idle": "2021-05-17T10:44:28.541492Z",
     "shell.execute_reply": "2021-05-17T10:44:28.540496Z",
     "shell.execute_reply.started": "2021-05-17T10:44:20.147915Z"
    }
   },
   "outputs": [],
   "source": [
    "from qiskit import IBMQ\n",
    "from qiskit.opflow.primitive_ops import PauliOp, PauliSumOp\n",
    "from qiskit.aqua.operators.legacy import WeightedPauliOperator           \n",
    "from qiskit.quantum_info import Pauli\n",
    "from qiskit.algorithms import VQE\n",
    "import numpy as np"
   ]
  },
  {
   "cell_type": "code",
   "execution_count": 2,
   "metadata": {
    "execution": {
     "iopub.execute_input": "2021-05-17T10:44:28.543487Z",
     "iopub.status.busy": "2021-05-17T10:44:28.542490Z",
     "iopub.status.idle": "2021-05-17T10:44:33.694411Z",
     "shell.execute_reply": "2021-05-17T10:44:33.693413Z",
     "shell.execute_reply.started": "2021-05-17T10:44:28.543487Z"
    }
   },
   "outputs": [],
   "source": [
    "IBMQ.load_account()\n",
    "provider = IBMQ.get_provider(hub='ibm-q-csic', group='internal', project='iff-csic') "
   ]
  },
  {
   "cell_type": "code",
   "execution_count": 3,
   "metadata": {
    "execution": {
     "iopub.execute_input": "2021-05-17T10:44:33.696401Z",
     "iopub.status.busy": "2021-05-17T10:44:33.695404Z",
     "iopub.status.idle": "2021-05-17T10:44:34.497444Z",
     "shell.execute_reply": "2021-05-17T10:44:34.496476Z",
     "shell.execute_reply.started": "2021-05-17T10:44:33.696401Z"
    }
   },
   "outputs": [],
   "source": [
    "backend = provider.get_backend('ibmq_lima')\n",
    "defaults = backend.defaults()"
   ]
  },
  {
   "cell_type": "code",
   "execution_count": 4,
   "metadata": {
    "execution": {
     "iopub.execute_input": "2021-05-17T10:44:34.499434Z",
     "iopub.status.busy": "2021-05-17T10:44:34.498435Z",
     "iopub.status.idle": "2021-05-17T10:44:34.507412Z",
     "shell.execute_reply": "2021-05-17T10:44:34.506415Z",
     "shell.execute_reply.started": "2021-05-17T10:44:34.499434Z"
    }
   },
   "outputs": [
    {
     "data": {
      "text/plain": [
       "[(0, 1), (1, 2), (1, 3), (3, 4)]"
      ]
     },
     "execution_count": 4,
     "metadata": {},
     "output_type": "execute_result"
    }
   ],
   "source": [
    "conexions = [ indx for indx in defaults.instruction_schedule_map.qubits_with_instruction('cx') if indx[0]<indx[1]  ]\n",
    "conexions"
   ]
  },
  {
   "cell_type": "code",
   "execution_count": 5,
   "metadata": {
    "execution": {
     "iopub.execute_input": "2021-05-17T10:44:34.509407Z",
     "iopub.status.busy": "2021-05-17T10:44:34.509407Z",
     "iopub.status.idle": "2021-05-17T10:44:34.531348Z",
     "shell.execute_reply": "2021-05-17T10:44:34.530351Z",
     "shell.execute_reply.started": "2021-05-17T10:44:34.509407Z"
    }
   },
   "outputs": [
    {
     "name": "stderr",
     "output_type": "stream",
     "text": [
      "C:\\Users\\Luciano\\AppData\\Roaming\\Python\\Python37\\site-packages\\ipykernel_launcher.py:46: DeprecationWarning: The package qiskit.aqua.operators is deprecated. It was moved/refactored to qiskit.opflow (pip install qiskit-terra). For more information see <https://github.com/Qiskit/qiskit-aqua/blob/master/README.md#migration-guide>\n"
     ]
    }
   ],
   "source": [
    "#Hamiltonian \n",
    "def HeisenbergHamiltonian( J=1, H=1, num_qubits=2, neighbours=[(0,1)] ):\n",
    "    \"\"\"\n",
    "    Qiskit operator of the 3-D Heisemberg Hamiltonian of a lattice of spins.\n",
    "    \n",
    "    H = - J Σ_j ( X_j X_{j+1} + Y_j Y_{j+1} + Z_j Z_{j+1} ) - H Σ_j Z_j\n",
    "    \n",
    "    input:\n",
    "        J          : Real. Coupling constant.\n",
    "        H          : Real. External magnetic field.\n",
    "        num_qubits : Integer. Number of qubits.\n",
    "        neighbours : List of tuples. Coupling between the spins.\n",
    "    output:\n",
    "        Hamiltonian : BaseOperator of Qiskit. Heisenberg Hamiltonian of the system.\n",
    "    \"\"\"\n",
    "    num_op = num_qubits + 3*len(neighbours)\n",
    "    Hamiltonian_op_x = []    \n",
    "    Hamiltonian_op_z = []  \n",
    "    Hamiltonian_coef = num_qubits*[-H] + num_op*[-J]\n",
    "    \n",
    "    for idx in range(num_qubits):\n",
    "        op_x = np.zeros( num_qubits )\n",
    "        op_z = np.zeros( num_qubits )\n",
    "        op_z[idx] = 1\n",
    "        Hamiltonian_op_x.append( op_x.copy() )\n",
    "        Hamiltonian_op_z.append( op_z.copy() )        \n",
    "    \n",
    "    for idx in neighbours:\n",
    "        op_x = np.zeros( num_qubits )\n",
    "        op_z = np.zeros( num_qubits )\n",
    "        op_x[idx[0]] = 1\n",
    "        op_x[idx[1]] = 1\n",
    "        Hamiltonian_op_x.append( op_x.copy() )\n",
    "        Hamiltonian_op_z.append( op_z.copy() )\n",
    "        op_z[idx[0]] = 1\n",
    "        op_z[idx[1]] = 1\n",
    "        Hamiltonian_op_x.append( op_x.copy() )\n",
    "        Hamiltonian_op_z.append( op_z.copy() )        \n",
    "        op_x[idx[0]] = 0\n",
    "        op_x[idx[1]] = 0\n",
    "        Hamiltonian_op_x.append( op_x.copy() )\n",
    "        Hamiltonian_op_z.append( op_z.copy() )        \n",
    "        \n",
    "    Hamiltonian = WeightedPauliOperator( \n",
    "        [ [Hamiltonian_coef[j], Pauli( ( Hamiltonian_op_z[j], Hamiltonian_op_x[j] )) ] \n",
    "         for j in range(num_op) ] )\n",
    "    return Hamiltonian\n",
    "\n",
    "QubitOp = HeisenbergHamiltonian( num_qubits=4, neighbours=[(0,1),(1,2),(2,3),(3,0)] )"
   ]
  },
  {
   "cell_type": "code",
   "execution_count": 6,
   "metadata": {
    "execution": {
     "iopub.execute_input": "2021-05-17T10:44:34.532346Z",
     "iopub.status.busy": "2021-05-17T10:44:34.532346Z",
     "iopub.status.idle": "2021-05-17T10:44:34.541321Z",
     "shell.execute_reply": "2021-05-17T10:44:34.540325Z",
     "shell.execute_reply.started": "2021-05-17T10:44:34.532346Z"
    }
   },
   "outputs": [
    {
     "name": "stdout",
     "output_type": "stream",
     "text": [
      "IIIZ\t(-1+0j)\n",
      "IIZI\t(-1+0j)\n",
      "IZII\t(-1+0j)\n",
      "ZIII\t(-1+0j)\n",
      "IIXX\t(-1+0j)\n",
      "IIYY\t(-1+0j)\n",
      "IIZZ\t(-1+0j)\n",
      "IXXI\t(-1+0j)\n",
      "IYYI\t(-1+0j)\n",
      "IZZI\t(-1+0j)\n",
      "XXII\t(-1+0j)\n",
      "YYII\t(-1+0j)\n",
      "ZZII\t(-1+0j)\n",
      "XIIX\t(-1+0j)\n",
      "YIIY\t(-1+0j)\n",
      "ZIIZ\t(-1+0j)\n",
      "\n"
     ]
    }
   ],
   "source": [
    "print( QubitOp.print_details() )"
   ]
  },
  {
   "cell_type": "code",
   "execution_count": null,
   "metadata": {},
   "outputs": [],
   "source": []
  },
  {
   "cell_type": "code",
   "execution_count": null,
   "metadata": {},
   "outputs": [],
   "source": []
  },
  {
   "cell_type": "code",
   "execution_count": null,
   "metadata": {},
   "outputs": [],
   "source": []
  },
  {
   "cell_type": "code",
   "execution_count": 16,
   "metadata": {
    "execution": {
     "iopub.execute_input": "2021-05-17T10:54:12.355696Z",
     "iopub.status.busy": "2021-05-17T10:54:12.354697Z",
     "iopub.status.idle": "2021-05-17T10:54:12.361680Z",
     "shell.execute_reply": "2021-05-17T10:54:12.361680Z",
     "shell.execute_reply.started": "2021-05-17T10:54:12.355696Z"
    }
   },
   "outputs": [],
   "source": [
    "def Label2Chain(QubitOp):\n",
    "    \"\"\"\n",
    "    Transform a string of Pauli matrices into a numpy array.\n",
    "    'I' --> 0\n",
    "    'X' --> 1\n",
    "    'Y' --> 2\n",
    "    'Z' --> 3\n",
    "    \n",
    "    input:\n",
    "        QubitOp : BaseOperator of Qiskit.\n",
    "    output:\n",
    "        ops     : narray of the Pauli operators.\n",
    "                  ops.shape = ( number_of_operators, number_of_qubits )\n",
    "        coef    : coefficient of each Pauli operator.\n",
    "    \"\"\"\n",
    "    Dict = {'I' : 0,\n",
    "           'X' : 1,\n",
    "           'Y' : 2,\n",
    "           'Z' : 3}\n",
    "    ops = [[ Dict.get(idx2.to_label()) for idx2 in idx[1]] for idx in QubitOp.paulis ]\n",
    "    coef = [ idx[0] for idx in QubitOp.paulis ]\n",
    "    return np.array(ops), coef"
   ]
  },
  {
   "cell_type": "code",
   "execution_count": 17,
   "metadata": {
    "execution": {
     "iopub.execute_input": "2021-05-17T10:54:12.648563Z",
     "iopub.status.busy": "2021-05-17T10:54:12.647565Z",
     "iopub.status.idle": "2021-05-17T10:54:12.658504Z",
     "shell.execute_reply": "2021-05-17T10:54:12.657506Z",
     "shell.execute_reply.started": "2021-05-17T10:54:12.648563Z"
    }
   },
   "outputs": [
    {
     "data": {
      "text/plain": [
       "array([[3, 0, 0, 0],\n",
       "       [0, 3, 0, 0],\n",
       "       [0, 0, 3, 0],\n",
       "       [0, 0, 0, 3],\n",
       "       [1, 1, 0, 0],\n",
       "       [2, 2, 0, 0],\n",
       "       [3, 3, 0, 0],\n",
       "       [0, 1, 1, 0],\n",
       "       [0, 2, 2, 0],\n",
       "       [0, 3, 3, 0],\n",
       "       [0, 0, 1, 1],\n",
       "       [0, 0, 2, 2],\n",
       "       [0, 0, 3, 3],\n",
       "       [1, 0, 0, 1],\n",
       "       [2, 0, 0, 2],\n",
       "       [3, 0, 0, 3]])"
      ]
     },
     "execution_count": 17,
     "metadata": {},
     "output_type": "execute_result"
    }
   ],
   "source": [
    "PS, coef = Label2Chain(QubitOp)\n",
    "PS"
   ]
  },
  {
   "cell_type": "code",
   "execution_count": null,
   "metadata": {},
   "outputs": [],
   "source": []
  },
  {
   "cell_type": "code",
   "execution_count": 9,
   "metadata": {
    "execution": {
     "iopub.execute_input": "2021-05-17T10:52:54.607649Z",
     "iopub.status.busy": "2021-05-17T10:52:54.607649Z",
     "iopub.status.idle": "2021-05-17T10:52:55.078774Z",
     "shell.execute_reply": "2021-05-17T10:52:55.078774Z",
     "shell.execute_reply.started": "2021-05-17T10:52:54.607649Z"
    }
   },
   "outputs": [],
   "source": [
    "import numpy as np\n",
    "import networkx as nx\n",
    "from itertools import permutations\n",
    "import time"
   ]
  },
  {
   "cell_type": "code",
   "execution_count": 10,
   "metadata": {
    "execution": {
     "iopub.execute_input": "2021-05-17T10:52:55.109726Z",
     "iopub.status.busy": "2021-05-17T10:52:55.108737Z",
     "iopub.status.idle": "2021-05-17T10:52:55.200861Z",
     "shell.execute_reply": "2021-05-17T10:52:55.199863Z",
     "shell.execute_reply.started": "2021-05-17T10:52:55.109726Z"
    }
   },
   "outputs": [],
   "source": [
    "def PauliGraph(PS):#PS==Pauli Strings. AM=Admisible Measurements. WC==Well Connected Qubits. \n",
    "    #    If we want to group n Pauli arrays of size N, PS should be a matrix of n rows and N columns,\n",
    "    # each row representing a Pauli string.\n",
    "    n=np.size(PS[:,0])\n",
    "    N=np.size(PS[0,:])\n",
    "    G = nx.Graph()\n",
    "    G.add_nodes_from(np.arange(n))\n",
    "    for i in range(n):\n",
    "        v_i=PS[i,:]\n",
    "        for j in range(i+1,n):\n",
    "            v_j=PS[j,:]\n",
    "            qubits=np.arange(N)\n",
    "            noncommonqubits=np.delete(qubits,np.argwhere(v_i==v_j))\n",
    "            vi=v_i[noncommonqubits]\n",
    "            vj=v_j[noncommonqubits]\n",
    "            if (vi*vj!=0).any():\n",
    "                G.add_edges_from([(i,j)])\n",
    "    return G\n",
    "\n",
    "\n",
    "def LDFC(PG):\n",
    "    SV=sorted(PG.degree, key=lambda x: x[1], reverse=True)#Sorted Vertices by decreasing degree\n",
    "    n=PG.number_of_nodes()\n",
    "    aux=list(np.arange(n))\n",
    "    Color=n*np.ones(n)\n",
    "    for i in range(n):\n",
    "        IV=list(list(PG.neighbors(SV[i][0])))#Vertices that are Incompatible with vertex SV[i][0]\n",
    "        IC=Color[IV]#Colors that are assigned to vertices that are incompatible with vertex SV[i]\n",
    "        AC=[ elem for elem in aux if elem not in IC]#Available colors for vertex SV[i]\n",
    "        Color[SV[i][0]]=min(AC)\n",
    "    MC=int(max(Color))\n",
    "    Groups=[]\n",
    "    for i in range(MC+1):\n",
    "        Groups.append(list(np.argwhere(Color==i)))\n",
    "    return Color, Groups #Color is an array whose i entry has the color assigned to the i Pauli String.\n",
    "    #Groups is a list of lists, where the i list comprenhends the arrays assigned to the color i.\n",
    "        \n",
    "def TPBgrouping(PS): #PS==Pauli Strings. AM=Admisible Measurements. WC==Well Connected Qubits. \n",
    "    #    If we want to group n Pauli arrays of size N, PS should be a matrix of n rows and N columns,\n",
    "    # each row representing a Pauli string.\n",
    "    PG=PauliGraph(PS)\n",
    "    Color, Groups=LDFC(PG)\n",
    "    N=np.size(PS[0,:])\n",
    "    Measurements=[]#The list of measurements. Each element will be the total measurement for a certain group. That measurement \n",
    "    #will be encoded as an N-array of {0,1,3,4}. 0 will appear in the position k if in the qubit k we can measure with any \n",
    "    # basis (will only happen if the k factor of every element of the group is I), 0 will appear in the position k if in the qubit k\n",
    "    #we can measure with TPBX,...\n",
    "    for i in range(len(Groups)):\n",
    "        Mi=[]\n",
    "        for k in range(N):\n",
    "            Mi.append(max(PS[Groups[i],k]))\n",
    "        Measurements.append(Mi)\n",
    "    return Color, Groups, Measurements\n"
   ]
  },
  {
   "cell_type": "code",
   "execution_count": 19,
   "metadata": {
    "execution": {
     "iopub.execute_input": "2021-05-17T10:54:30.975209Z",
     "iopub.status.busy": "2021-05-17T10:54:30.975209Z",
     "iopub.status.idle": "2021-05-17T10:54:30.987176Z",
     "shell.execute_reply": "2021-05-17T10:54:30.986181Z",
     "shell.execute_reply.started": "2021-05-17T10:54:30.975209Z"
    }
   },
   "outputs": [],
   "source": [
    "Color, Groups, Measurements = TPBgrouping(PS)"
   ]
  },
  {
   "cell_type": "code",
   "execution_count": 20,
   "metadata": {
    "execution": {
     "iopub.execute_input": "2021-05-17T10:54:34.080984Z",
     "iopub.status.busy": "2021-05-17T10:54:34.080984Z",
     "iopub.status.idle": "2021-05-17T10:54:34.085977Z",
     "shell.execute_reply": "2021-05-17T10:54:34.085977Z",
     "shell.execute_reply.started": "2021-05-17T10:54:34.080984Z"
    }
   },
   "outputs": [
    {
     "data": {
      "text/plain": [
       "array([2., 2., 2., 2., 0., 1., 2., 0., 1., 2., 0., 1., 2., 0., 1., 2.])"
      ]
     },
     "execution_count": 20,
     "metadata": {},
     "output_type": "execute_result"
    }
   ],
   "source": [
    "Color"
   ]
  },
  {
   "cell_type": "code",
   "execution_count": 21,
   "metadata": {
    "execution": {
     "iopub.execute_input": "2021-05-17T10:54:38.009342Z",
     "iopub.status.busy": "2021-05-17T10:54:38.009342Z",
     "iopub.status.idle": "2021-05-17T10:54:38.017316Z",
     "shell.execute_reply": "2021-05-17T10:54:38.016351Z",
     "shell.execute_reply.started": "2021-05-17T10:54:38.009342Z"
    }
   },
   "outputs": [
    {
     "data": {
      "text/plain": [
       "[[array([4], dtype=int64),\n",
       "  array([7], dtype=int64),\n",
       "  array([10], dtype=int64),\n",
       "  array([13], dtype=int64)],\n",
       " [array([5], dtype=int64),\n",
       "  array([8], dtype=int64),\n",
       "  array([11], dtype=int64),\n",
       "  array([14], dtype=int64)],\n",
       " [array([0], dtype=int64),\n",
       "  array([1], dtype=int64),\n",
       "  array([2], dtype=int64),\n",
       "  array([3], dtype=int64),\n",
       "  array([6], dtype=int64),\n",
       "  array([9], dtype=int64),\n",
       "  array([12], dtype=int64),\n",
       "  array([15], dtype=int64)]]"
      ]
     },
     "execution_count": 21,
     "metadata": {},
     "output_type": "execute_result"
    }
   ],
   "source": [
    "Groups"
   ]
  },
  {
   "cell_type": "code",
   "execution_count": 22,
   "metadata": {
    "execution": {
     "iopub.execute_input": "2021-05-17T10:54:45.600250Z",
     "iopub.status.busy": "2021-05-17T10:54:45.600250Z",
     "iopub.status.idle": "2021-05-17T10:54:45.606202Z",
     "shell.execute_reply": "2021-05-17T10:54:45.605954Z",
     "shell.execute_reply.started": "2021-05-17T10:54:45.600250Z"
    }
   },
   "outputs": [
    {
     "data": {
      "text/plain": [
       "[[array([1]), array([1]), array([1]), array([1])],\n",
       " [array([2]), array([2]), array([2]), array([2])],\n",
       " [array([3]), array([3]), array([3]), array([3])]]"
      ]
     },
     "execution_count": 22,
     "metadata": {},
     "output_type": "execute_result"
    }
   ],
   "source": [
    "Measurements"
   ]
  },
  {
   "cell_type": "code",
   "execution_count": 23,
   "metadata": {
    "execution": {
     "iopub.execute_input": "2021-05-17T10:55:39.713827Z",
     "iopub.status.busy": "2021-05-17T10:55:39.713827Z",
     "iopub.status.idle": "2021-05-17T10:55:39.718813Z",
     "shell.execute_reply": "2021-05-17T10:55:39.718037Z",
     "shell.execute_reply.started": "2021-05-17T10:55:39.713827Z"
    }
   },
   "outputs": [
    {
     "data": {
      "text/plain": [
       "array([[3, 0, 0, 0],\n",
       "       [0, 3, 0, 0],\n",
       "       [0, 0, 3, 0],\n",
       "       [0, 0, 0, 3],\n",
       "       [1, 1, 0, 0],\n",
       "       [2, 2, 0, 0],\n",
       "       [3, 3, 0, 0],\n",
       "       [0, 1, 1, 0],\n",
       "       [0, 2, 2, 0],\n",
       "       [0, 3, 3, 0],\n",
       "       [0, 0, 1, 1],\n",
       "       [0, 0, 2, 2],\n",
       "       [0, 0, 3, 3],\n",
       "       [1, 0, 0, 1],\n",
       "       [2, 0, 0, 2],\n",
       "       [3, 0, 0, 3]])"
      ]
     },
     "execution_count": 23,
     "metadata": {},
     "output_type": "execute_result"
    }
   ],
   "source": [
    "PS"
   ]
  },
  {
   "cell_type": "code",
   "execution_count": null,
   "metadata": {},
   "outputs": [],
   "source": []
  }
 ],
 "metadata": {
  "kernelspec": {
   "display_name": "Python 3",
   "language": "python",
   "name": "python3"
  },
  "language_info": {
   "codemirror_mode": {
    "name": "ipython",
    "version": 3
   },
   "file_extension": ".py",
   "mimetype": "text/x-python",
   "name": "python",
   "nbconvert_exporter": "python",
   "pygments_lexer": "ipython3",
   "version": "3.7.7"
  }
 },
 "nbformat": 4,
 "nbformat_minor": 4
}
