{
 "cells": [
  {
   "cell_type": "code",
   "execution_count": 1,
   "metadata": {
    "execution": {
     "iopub.execute_input": "2021-05-18T18:51:08.529123Z",
     "iopub.status.busy": "2021-05-18T18:51:08.529123Z",
     "iopub.status.idle": "2021-05-18T18:51:12.103217Z",
     "shell.execute_reply": "2021-05-18T18:51:12.102236Z",
     "shell.execute_reply.started": "2021-05-18T18:51:08.529123Z"
    }
   },
   "outputs": [],
   "source": [
    "from qiskit import IBMQ\n",
    "from qiskit.opflow.primitive_ops import PauliOp\n",
    "from qiskit.opflow.list_ops import SummedOp\n",
    "from qiskit.quantum_info import Pauli\n",
    "from qiskit.algorithms import VQE\n",
    "import numpy as np"
   ]
  },
  {
   "cell_type": "code",
   "execution_count": 2,
   "metadata": {
    "execution": {
     "iopub.execute_input": "2021-05-18T18:51:12.104221Z",
     "iopub.status.busy": "2021-05-18T18:51:12.104221Z",
     "iopub.status.idle": "2021-05-18T18:51:19.219132Z",
     "shell.execute_reply": "2021-05-18T18:51:19.219132Z",
     "shell.execute_reply.started": "2021-05-18T18:51:12.104221Z"
    }
   },
   "outputs": [],
   "source": [
    "IBMQ.load_account()\n",
    "provider = IBMQ.get_provider(hub='ibm-q-csic', group='internal', project='iff-csic') "
   ]
  },
  {
   "cell_type": "code",
   "execution_count": 3,
   "metadata": {
    "execution": {
     "iopub.execute_input": "2021-05-18T18:51:19.222124Z",
     "iopub.status.busy": "2021-05-18T18:51:19.221127Z",
     "iopub.status.idle": "2021-05-18T18:51:20.112217Z",
     "shell.execute_reply": "2021-05-18T18:51:20.111250Z",
     "shell.execute_reply.started": "2021-05-18T18:51:19.221127Z"
    }
   },
   "outputs": [],
   "source": [
    "backend = provider.get_backend('ibmq_lima')\n",
    "defaults = backend.defaults()"
   ]
  },
  {
   "cell_type": "code",
   "execution_count": 4,
   "metadata": {
    "execution": {
     "iopub.execute_input": "2021-05-18T18:51:20.115209Z",
     "iopub.status.busy": "2021-05-18T18:51:20.114211Z",
     "iopub.status.idle": "2021-05-18T18:51:20.123195Z",
     "shell.execute_reply": "2021-05-18T18:51:20.122193Z",
     "shell.execute_reply.started": "2021-05-18T18:51:20.114211Z"
    }
   },
   "outputs": [
    {
     "data": {
      "text/plain": [
       "[0, 1, 2, 3, 4, (0, 1), (1, 0), (1, 2), (1, 3), (2, 1), (3, 1), (3, 4), (4, 3)]"
      ]
     },
     "execution_count": 4,
     "metadata": {},
     "output_type": "execute_result"
    }
   ],
   "source": [
    "conexions = defaults.instruction_schedule_map.qubits_with_instruction('x') + [ indx for indx in defaults.instruction_schedule_map.qubits_with_instruction('cx') ]\n",
    "conexions"
   ]
  },
  {
   "cell_type": "code",
   "execution_count": 5,
   "metadata": {
    "execution": {
     "iopub.execute_input": "2021-05-18T18:51:20.126178Z",
     "iopub.status.busy": "2021-05-18T18:51:20.125181Z",
     "iopub.status.idle": "2021-05-18T18:51:20.141137Z",
     "shell.execute_reply": "2021-05-18T18:51:20.140172Z",
     "shell.execute_reply.started": "2021-05-18T18:51:20.126178Z"
    }
   },
   "outputs": [],
   "source": [
    "#Hamiltonian \n",
    "def HeisenbergHamiltonian( J=1, H=1, num_qubits=2, neighbours=[(0,1)] ):\n",
    "    \"\"\"\n",
    "    Qiskit operator of the 3-D Heisemberg Hamiltonian of a lattice of spins.\n",
    "    \n",
    "    H = - J Σ_j ( X_j X_{j+1} + Y_j Y_{j+1} + Z_j Z_{j+1} ) - H Σ_j Z_j\n",
    "    \n",
    "    input:\n",
    "        J          : Real. Coupling constant.\n",
    "        H          : Real. External magnetic field.\n",
    "        num_qubits : Integer. Number of qubits.\n",
    "        neighbours : List of tuples. Coupling between the spins.\n",
    "    output:\n",
    "        Hamiltonian : SummedOp of Qiskit. Heisenberg Hamiltonian of the system.\n",
    "    \"\"\"\n",
    "    num_op = num_qubits + 3*len(neighbours)\n",
    "    Hamiltonian_op_x = []    \n",
    "    Hamiltonian_op_z = []  \n",
    "    Hamiltonian_coef = num_qubits*[-H] + num_op*[-J]\n",
    "    \n",
    "    for idx in range(num_qubits):\n",
    "        op_x = np.zeros( num_qubits )\n",
    "        op_z = np.zeros( num_qubits )\n",
    "        op_z[idx] = 1\n",
    "        Hamiltonian_op_x.append( op_x.copy() )\n",
    "        Hamiltonian_op_z.append( op_z.copy() )        \n",
    "    \n",
    "    for idx in neighbours:\n",
    "        op_x = np.zeros( num_qubits )\n",
    "        op_z = np.zeros( num_qubits )\n",
    "        op_x[idx[0]] = 1\n",
    "        op_x[idx[1]] = 1\n",
    "        Hamiltonian_op_x.append( op_x.copy() )\n",
    "        Hamiltonian_op_z.append( op_z.copy() )\n",
    "        op_z[idx[0]] = 1\n",
    "        op_z[idx[1]] = 1\n",
    "        Hamiltonian_op_x.append( op_x.copy() )\n",
    "        Hamiltonian_op_z.append( op_z.copy() )        \n",
    "        op_x[idx[0]] = 0\n",
    "        op_x[idx[1]] = 0\n",
    "        Hamiltonian_op_x.append( op_x.copy() )\n",
    "        Hamiltonian_op_z.append( op_z.copy() )        \n",
    "        \n",
    "#     Hamiltonian = WeightedPauliOperator( \n",
    "#         [ [Hamiltonian_coef[j], Pauli( ( Hamiltonian_op_z[j], Hamiltonian_op_x[j] )) ] \n",
    "#          for j in range(num_op) ] )\n",
    "\n",
    "    Hamiltonian = SummedOp( [ PauliOp(Pauli( ( Hamiltonian_op_z[j], Hamiltonian_op_x[j] )),Hamiltonian_coef[j]) for j in range(num_op) ] )\n",
    "\n",
    "    return Hamiltonian\n",
    "\n",
    "\n",
    "def RandomHamiltonian( num_qubits=2, num_paulis=4 ):\n",
    "    \n",
    "    idxs = np.random.randint(2, size=(2,num_qubits,num_paulis) )\n",
    "\n",
    "    Hamiltonian = SummedOp( [ PauliOp(Pauli( ( idxs[0,:,j], idxs[1,:,j] )),1) for j in range(num_paulis) ] )\n",
    "    \n",
    "    return Hamiltonian"
   ]
  },
  {
   "cell_type": "code",
   "execution_count": 7,
   "metadata": {
    "execution": {
     "iopub.execute_input": "2021-05-18T18:51:29.784537Z",
     "iopub.status.busy": "2021-05-18T18:51:29.783535Z",
     "iopub.status.idle": "2021-05-18T18:51:29.793521Z",
     "shell.execute_reply": "2021-05-18T18:51:29.792510Z",
     "shell.execute_reply.started": "2021-05-18T18:51:29.784537Z"
    }
   },
   "outputs": [
    {
     "name": "stdout",
     "output_type": "stream",
     "text": [
      "SummedOp([\n",
      "  -1 * IIIZ,\n",
      "  -1 * IIZI,\n",
      "  -1 * IZII,\n",
      "  -1 * ZIII,\n",
      "  -1 * IIXX,\n",
      "  -1 * IIYY,\n",
      "  -1 * IIZZ,\n",
      "  -1 * IXXI,\n",
      "  -1 * IYYI,\n",
      "  -1 * IZZI,\n",
      "  -1 * XXII,\n",
      "  -1 * YYII,\n",
      "  -1 * ZZII,\n",
      "  -1 * XIIX,\n",
      "  -1 * YIIY,\n",
      "  -1 * ZIIZ\n",
      "])\n"
     ]
    }
   ],
   "source": [
    "QubitOp = HeisenbergHamiltonian( num_qubits=4, neighbours=[(0,1),(1,2),(2,3),(3,0)] )\n",
    "print( QubitOp )"
   ]
  },
  {
   "cell_type": "code",
   "execution_count": 8,
   "metadata": {
    "execution": {
     "iopub.execute_input": "2021-05-18T18:51:31.061345Z",
     "iopub.status.busy": "2021-05-18T18:51:31.060347Z",
     "iopub.status.idle": "2021-05-18T18:51:31.069319Z",
     "shell.execute_reply": "2021-05-18T18:51:31.068306Z",
     "shell.execute_reply.started": "2021-05-18T18:51:31.061345Z"
    }
   },
   "outputs": [
    {
     "name": "stdout",
     "output_type": "stream",
     "text": [
      "SummedOp([\n",
      "  YXY,\n",
      "  ZZX,\n",
      "  XXZ\n",
      "])\n"
     ]
    }
   ],
   "source": [
    "QubitOp = RandomHamiltonian(3,3)\n",
    "print( QubitOp )"
   ]
  },
  {
   "cell_type": "code",
   "execution_count": null,
   "metadata": {},
   "outputs": [],
   "source": []
  },
  {
   "cell_type": "code",
   "execution_count": 9,
   "metadata": {
    "execution": {
     "iopub.execute_input": "2021-05-18T18:51:31.935165Z",
     "iopub.status.busy": "2021-05-18T18:51:31.935165Z",
     "iopub.status.idle": "2021-05-18T18:51:31.943134Z",
     "shell.execute_reply": "2021-05-18T18:51:31.942137Z",
     "shell.execute_reply.started": "2021-05-18T18:51:31.935165Z"
    }
   },
   "outputs": [],
   "source": [
    "def Label2Chain(QubitOp):\n",
    "    \"\"\"\n",
    "    Transform a string of Pauli matrices into a numpy array.\n",
    "    'I' --> 0\n",
    "    'X' --> 1\n",
    "    'Y' --> 2\n",
    "    'Z' --> 3\n",
    "    \n",
    "    input:\n",
    "        QubitOp : SummedOp of Qiskit.\n",
    "    output:\n",
    "        ops     : narray of the Pauli operators.\n",
    "                  ops.shape = ( number_of_operators, number_of_qubits )\n",
    "        coef    : coefficient of each Pauli operator.\n",
    "    \"\"\"\n",
    "    Dict = {'I' : 0,\n",
    "            'X' : 1,\n",
    "            'Y' : 2,\n",
    "            'Z' : 3}\n",
    "    ops = [[ Dict.get(idx2) for idx2 in idx.primitive.to_label()] for idx in QubitOp.oplist ]\n",
    "    coef = [ idx.coeff for idx in QubitOp.oplist ]\n",
    "    return np.array(ops), coef"
   ]
  },
  {
   "cell_type": "code",
   "execution_count": 10,
   "metadata": {
    "execution": {
     "iopub.execute_input": "2021-05-18T18:51:32.149115Z",
     "iopub.status.busy": "2021-05-18T18:51:32.149115Z",
     "iopub.status.idle": "2021-05-18T18:51:32.155079Z",
     "shell.execute_reply": "2021-05-18T18:51:32.154075Z",
     "shell.execute_reply.started": "2021-05-18T18:51:32.149115Z"
    }
   },
   "outputs": [
    {
     "data": {
      "text/plain": [
       "array([[2, 1, 2],\n",
       "       [3, 3, 1],\n",
       "       [1, 1, 3]])"
      ]
     },
     "execution_count": 10,
     "metadata": {},
     "output_type": "execute_result"
    }
   ],
   "source": [
    "paulis, coef = Label2Chain(QubitOp)\n",
    "paulis"
   ]
  },
  {
   "cell_type": "code",
   "execution_count": null,
   "metadata": {},
   "outputs": [],
   "source": []
  },
  {
   "cell_type": "code",
   "execution_count": 11,
   "metadata": {
    "execution": {
     "iopub.execute_input": "2021-05-18T18:51:32.679514Z",
     "iopub.status.busy": "2021-05-18T18:51:32.679514Z",
     "iopub.status.idle": "2021-05-18T18:51:33.184964Z",
     "shell.execute_reply": "2021-05-18T18:51:33.184964Z",
     "shell.execute_reply.started": "2021-05-18T18:51:32.679514Z"
    }
   },
   "outputs": [],
   "source": [
    "import numpy as np\n",
    "import networkx as nx\n",
    "from itertools import permutations\n",
    "import time"
   ]
  },
  {
   "cell_type": "code",
   "execution_count": 12,
   "metadata": {
    "execution": {
     "iopub.execute_input": "2021-05-18T18:51:33.186945Z",
     "iopub.status.busy": "2021-05-18T18:51:33.185948Z",
     "iopub.status.idle": "2021-05-18T18:51:33.202902Z",
     "shell.execute_reply": "2021-05-18T18:51:33.202902Z",
     "shell.execute_reply.started": "2021-05-18T18:51:33.186945Z"
    }
   },
   "outputs": [],
   "source": [
    "def PauliGraph(PS):#PS==Pauli Strings. AM=Admisible Measurements. WC==Well Connected Qubits. \n",
    "    #    If we want to group n Pauli arrays of size N, PS should be a matrix of n rows and N columns,\n",
    "    # each row representing a Pauli string.\n",
    "    n=np.size(PS[:,0])\n",
    "    N=np.size(PS[0,:])\n",
    "    G = nx.Graph()\n",
    "    G.add_nodes_from(np.arange(n))\n",
    "    for i in range(n):\n",
    "        v_i=PS[i,:]\n",
    "        for j in range(i+1,n):\n",
    "            v_j=PS[j,:]\n",
    "            qubits=np.arange(N)\n",
    "            noncommonqubits=np.delete(qubits,np.argwhere(v_i==v_j))\n",
    "            vi=v_i[noncommonqubits]\n",
    "            vj=v_j[noncommonqubits]\n",
    "            if (vi*vj!=0).any():\n",
    "                G.add_edges_from([(i,j)])\n",
    "    return G\n",
    "\n",
    "\n",
    "def LDFC(PG):\n",
    "    SV=sorted(PG.degree, key=lambda x: x[1], reverse=True)#Sorted Vertices by decreasing degree\n",
    "    n=PG.number_of_nodes()\n",
    "    aux=list(np.arange(n))\n",
    "    Color=n*np.ones(n)\n",
    "    for i in range(n):\n",
    "        IV=list(list(PG.neighbors(SV[i][0])))#Vertices that are Incompatible with vertex SV[i][0]\n",
    "        IC=Color[IV]#Colors that are assigned to vertices that are incompatible with vertex SV[i]\n",
    "        AC=[ elem for elem in aux if elem not in IC]#Available colors for vertex SV[i]\n",
    "        Color[SV[i][0]]=min(AC)\n",
    "    MC=int(max(Color))\n",
    "    Groups=[]\n",
    "    for i in range(MC+1):\n",
    "        Groups.append(list(np.argwhere(Color==i)))\n",
    "    return Color, Groups #Color is an array whose i entry has the color assigned to the i Pauli String.\n",
    "    #Groups is a list of lists, where the i list comprenhends the arrays assigned to the color i.\n",
    "        \n",
    "def TPBgrouping(PS): #PS==Pauli Strings. AM=Admisible Measurements. WC==Well Connected Qubits. \n",
    "    #    If we want to group n Pauli arrays of size N, PS should be a matrix of n rows and N columns,\n",
    "    # each row representing a Pauli string.\n",
    "    PG=PauliGraph(PS)\n",
    "    Color, Groups=LDFC(PG)\n",
    "    N=np.size(PS[0,:])\n",
    "    Measurements=[]#The list of measurements. Each element will be the total measurement for a certain group. That measurement \n",
    "    #will be encoded as an N-array of {0,1,3,4}. 0 will appear in the position k if in the qubit k we can measure with any \n",
    "    # basis (will only happen if the k factor of every element of the group is I), 0 will appear in the position k if in the qubit k\n",
    "    #we can measure with TPBX,...\n",
    "    for i in range(len(Groups)):\n",
    "        Mi=[]\n",
    "        for k in range(N):\n",
    "            Mi.append(max(PS[Groups[i],k]))\n",
    "        Measurements.append(Mi)\n",
    "    return Color, Groups, Measurements\n"
   ]
  },
  {
   "cell_type": "code",
   "execution_count": 13,
   "metadata": {
    "execution": {
     "iopub.execute_input": "2021-05-18T18:51:33.267727Z",
     "iopub.status.busy": "2021-05-18T18:51:33.267727Z",
     "iopub.status.idle": "2021-05-18T18:51:33.276704Z",
     "shell.execute_reply": "2021-05-18T18:51:33.274714Z",
     "shell.execute_reply.started": "2021-05-18T18:51:33.267727Z"
    }
   },
   "outputs": [],
   "source": [
    "Comp=[]\n",
    "Comp.append([0,1])\n",
    "Comp.append([0,2])\n",
    "Comp.append([0,3])\n",
    "Comp.append([[0,0],[1,1],[2,2],[3,3]])\n",
    "length=[]\n",
    "length.append(1)\n",
    "length.append(1)\n",
    "length.append(1)\n",
    "length.append(2)"
   ]
  },
  {
   "cell_type": "code",
   "execution_count": 14,
   "metadata": {
    "execution": {
     "iopub.execute_input": "2021-05-18T18:51:33.519049Z",
     "iopub.status.busy": "2021-05-18T18:51:33.519049Z",
     "iopub.status.idle": "2021-05-18T18:51:33.631201Z",
     "shell.execute_reply": "2021-05-18T18:51:33.630204Z",
     "shell.execute_reply.started": "2021-05-18T18:51:33.519049Z"
    }
   },
   "outputs": [],
   "source": [
    "def MeasurementAssignment(Vi,Vj,Mi,AM,WC):#This program is the Algorithm 2 of https://arxiv.org/abs/1909.09119. Syntax can\n",
    "    #be looked in 'grouping(PS,AM,WC)'\n",
    "    \n",
    "    # Let's first check for compatibility of Vj with the current assigment of Mi.\n",
    "    # Mi is a list of local measurement. Each local measurement is encoded as list of two elements. The first one \n",
    "    # are the qubits where the local measurement acts and the second is the type of local measurement. For example,\n",
    "    # if Mi contains {4,(1,2)} it would mean that Mi has the Bell measurement (nº4) as the local measurement acting on \n",
    "    # the qubits (1,2).\n",
    "    N=np.size(Vi)\n",
    "    U=list(np.arange(N))\n",
    "    S=0\n",
    "    for LM in Mi:\n",
    "        if list(Vj[LM[1]]) not in Comp[LM[0]]:\n",
    "            return Mi, S\n",
    "        else:\n",
    "            for s in LM[1]:### SEGURO QUE HAY UNA FORMA MÁS RÁPIDA DE ELIMINAR VARIOS VALORES A LA VEZ DE LA LISTA\n",
    "                U.remove(LM[1][s])\n",
    "    commonfactors=np.argwhere(Vi==Vj)\n",
    "    for k in commonfactors:\n",
    "        U.remove(k)\n",
    "    PMi=Mi #I create a potential Mi.\n",
    "    while len(U)!=0:   \n",
    "        for Eps in AM:\n",
    "            if len(U)>=length[Eps]:\n",
    "                perm=list(permutations(U,length[Eps])) #length of each local measurement will be manually programmed\n",
    "                perm=list({*map(tuple, map(sorted, perm))}) #This is a code for eliminating the permutations that\n",
    "                #are equal up to order for perm. This would reduce the iterations (I believe) without affecting the algorithm,\n",
    "                #because the WC array will contain all possible permutations, even those that are equal with disitinct order.\n",
    "                #and if the qubits (l,k) of Vi and Vj are compatible with a certain measurement, the qubits (k,l) of Vi and \n",
    "                #Vj will be compatible with other measurement. I should explain this better. \n",
    "                for per in perm:\n",
    "                    #if per in WC: \n",
    "                    #This raises an error, so here I have to check the code. \n",
    "                    if (list(Vi[[per]]) in Comp[Eps]) and (list(Vj[[per]]) in Comp[Eps]):\n",
    "                        PMi.append([Eps,list(per)])\n",
    "                        for s in range(np.size(per)):\n",
    "                            U.remove(per[s])\n",
    "                        break\n",
    "                else:\n",
    "                    continue\n",
    "                break\n",
    "        else:\n",
    "            continue\n",
    "            return Mi, S\n",
    "    S=1\n",
    "    return PMi, S            \n",
    "\n",
    "def grouping(PS, AM, WC): #PS==Pauli Strings. AM=Admisible Measurements. WC==Well Connected Qubits. \n",
    "    #    If we want to group n Pauli arrays of size N, PS should be a matrix of n rows and N columns,\n",
    "    # each row representing a Pauli string. \n",
    "    #    AM should be a vector containing the admisible measurements in the order of prefered assignenment. \n",
    "    #    WC should be a vector containing the pairs of qubits with good connectivity.\n",
    "    PG=PauliGraph(PS)\n",
    "    SV=sorted(PG.degree, key=lambda x: x[1], reverse=True)#Sorted Vertices by decreasing degree\n",
    "    n=np.size(PS[:,0])\n",
    "    N=np.size(PS[0,:])\n",
    "    AS=[]#list of strings with assigned measurement\n",
    "    Groups=[]#list of groups\n",
    "    Measurements=[]#list of total measurements Mi\n",
    "    for k in range(n):\n",
    "        print('k',k)\n",
    "        i=SV[k][0]\n",
    "        if i not in AS:\n",
    "            print('i',i)\n",
    "            Mi=[]#Mi will be the total measurement. It will be a list of local measurements. Each local measurement\n",
    "            #will appear as a list of two elements. The first will correspond with the local measurement and the second\n",
    "            # to the qubits. For example, if Mi contains {4,(1,2)} it would mean that Mi has the Bell measurement (nº4)\n",
    "            #as the local measurement acting on the qubits (1,2)\n",
    "            GroupMi=[i]\n",
    "            AS.append(i)\n",
    "            for l in range(n):\n",
    "                print('l',l)\n",
    "                j=SV[l][0]\n",
    "                if j not in AS:\n",
    "                    Mi, S=MeasurementAssignment(PS[i,:],PS[j,:],Mi,AM,WC)#S is the success variable. If Mi is compatible with\n",
    "                    #Vj S=1 otherwise S=0\n",
    "                    if S==1:\n",
    "                        AS.append(j)\n",
    "                        GroupMi.append(j)\n",
    "            QWM=list(np.arange(N))#Qubits Without a Measurement assigned by Mi. There, all factors \n",
    "            # of the group will be equal or the identity, so we will have to use a TPB measurement.\n",
    "            for LM in Mi:\n",
    "                for s in LM[1]:\n",
    "                    QWM.remove(s)\n",
    "            for q in QWM:\n",
    "                TPBq=max(PS[GroupMi,q])\n",
    "                Mi.append([TPBq-1,q])\n",
    "            Groups.append(GroupMi)\n",
    "            Measurements.append(Mi)\n",
    "            \n",
    "    return Groups, Measurements"
   ]
  },
  {
   "cell_type": "code",
   "execution_count": 15,
   "metadata": {
    "execution": {
     "iopub.execute_input": "2021-05-18T18:51:33.798774Z",
     "iopub.status.busy": "2021-05-18T18:51:33.797777Z",
     "iopub.status.idle": "2021-05-18T18:51:33.838640Z",
     "shell.execute_reply": "2021-05-18T18:51:33.837655Z",
     "shell.execute_reply.started": "2021-05-18T18:51:33.798774Z"
    }
   },
   "outputs": [
    {
     "ename": "NameError",
     "evalue": "name 'PS' is not defined",
     "output_type": "error",
     "traceback": [
      "\u001b[1;31m---------------------------------------------------------------------------\u001b[0m",
      "\u001b[1;31mNameError\u001b[0m                                 Traceback (most recent call last)",
      "\u001b[1;32m<ipython-input-15-f8ac4f89dac9>\u001b[0m in \u001b[0;36m<module>\u001b[1;34m\u001b[0m\n\u001b[1;32m----> 1\u001b[1;33m \u001b[0mColor\u001b[0m\u001b[1;33m,\u001b[0m \u001b[0mGroups\u001b[0m\u001b[1;33m,\u001b[0m \u001b[0mMeasurements\u001b[0m \u001b[1;33m=\u001b[0m \u001b[0mTPBgrouping\u001b[0m\u001b[1;33m(\u001b[0m\u001b[0mPS\u001b[0m\u001b[1;33m)\u001b[0m\u001b[1;33m\u001b[0m\u001b[1;33m\u001b[0m\u001b[0m\n\u001b[0m",
      "\u001b[1;31mNameError\u001b[0m: name 'PS' is not defined"
     ]
    }
   ],
   "source": [
    "Color, Groups, Measurements = TPBgrouping(PS)"
   ]
  },
  {
   "cell_type": "code",
   "execution_count": null,
   "metadata": {
    "execution": {
     "iopub.status.busy": "2021-05-18T18:51:20.453290Z",
     "iopub.status.idle": "2021-05-18T18:51:20.454288Z"
    }
   },
   "outputs": [],
   "source": [
    "Color"
   ]
  },
  {
   "cell_type": "code",
   "execution_count": null,
   "metadata": {
    "execution": {
     "iopub.status.busy": "2021-05-18T18:51:20.454288Z",
     "iopub.status.idle": "2021-05-18T18:51:20.455285Z"
    }
   },
   "outputs": [],
   "source": [
    "Groups"
   ]
  },
  {
   "cell_type": "code",
   "execution_count": null,
   "metadata": {
    "execution": {
     "iopub.status.busy": "2021-05-18T18:51:20.456283Z",
     "iopub.status.idle": "2021-05-18T18:51:20.457359Z"
    }
   },
   "outputs": [],
   "source": [
    "Measurements"
   ]
  },
  {
   "cell_type": "code",
   "execution_count": 16,
   "metadata": {
    "execution": {
     "iopub.execute_input": "2021-05-18T18:51:41.530164Z",
     "iopub.status.busy": "2021-05-18T18:51:41.529176Z",
     "iopub.status.idle": "2021-05-18T18:51:41.545125Z",
     "shell.execute_reply": "2021-05-18T18:51:41.544730Z",
     "shell.execute_reply.started": "2021-05-18T18:51:41.530164Z"
    }
   },
   "outputs": [
    {
     "name": "stdout",
     "output_type": "stream",
     "text": [
      "k 0\n",
      "i 0\n",
      "l 0\n",
      "l 1\n",
      "l 2\n",
      "l 3\n",
      "k 1\n",
      "k 2\n",
      "k 3\n",
      "i 3\n",
      "l 0\n",
      "l 1\n",
      "l 2\n",
      "l 3\n"
     ]
    },
    {
     "name": "stderr",
     "output_type": "stream",
     "text": [
      "C:\\Users\\Luciano\\AppData\\Roaming\\Python\\Python37\\site-packages\\ipykernel_launcher.py:34: FutureWarning: Using a non-tuple sequence for multidimensional indexing is deprecated; use `arr[tuple(seq)]` instead of `arr[seq]`. In the future this will be interpreted as an array index, `arr[np.array(seq)]`, which will result either in an error or a different result.\n"
     ]
    },
    {
     "data": {
      "text/plain": [
       "([[0, 1, 2], [3]], [[[3, [0, 1]], [2, 2]], [[0, 0], [1, 1], [2, 2]]])"
      ]
     },
     "execution_count": 16,
     "metadata": {},
     "output_type": "execute_result"
    }
   ],
   "source": [
    "PS=np.array([[1,1,3],[2,2,3],[3,3,3],[1,2,3]])\n",
    "WC=list(np.arange(np.size(PS[0,:])))#One should include all qubits in the WC array, othewise the if loop which checks if \n",
    "#the measurement is done in compatible qubits would reject all one qubit measurements.\n",
    "WC2=permutations(WC,2)#let's suppose that all qubits are pairwise connected\n",
    "WC.extend(WC2)\n",
    "Groups, Measurements = grouping(PS,[3],WC)\n",
    "Groups, Measurements"
   ]
  },
  {
   "cell_type": "code",
   "execution_count": null,
   "metadata": {},
   "outputs": [],
   "source": []
  },
  {
   "cell_type": "code",
   "execution_count": 18,
   "metadata": {
    "execution": {
     "iopub.execute_input": "2021-05-18T18:51:47.299597Z",
     "iopub.status.busy": "2021-05-18T18:51:47.299597Z",
     "iopub.status.idle": "2021-05-18T18:51:47.308578Z",
     "shell.execute_reply": "2021-05-18T18:51:47.307573Z",
     "shell.execute_reply.started": "2021-05-18T18:51:47.299597Z"
    }
   },
   "outputs": [
    {
     "name": "stdout",
     "output_type": "stream",
     "text": [
      "[[0 0 0 3]\n",
      " [0 0 3 0]\n",
      " [0 3 0 0]\n",
      " [3 0 0 0]\n",
      " [0 0 1 1]\n",
      " [0 0 2 2]\n",
      " [0 0 3 3]\n",
      " [0 1 1 0]\n",
      " [0 2 2 0]\n",
      " [0 3 3 0]\n",
      " [1 1 0 0]\n",
      " [2 2 0 0]\n",
      " [3 3 0 0]\n",
      " [1 0 0 1]\n",
      " [2 0 0 2]\n",
      " [3 0 0 3]]\n"
     ]
    }
   ],
   "source": [
    "QubitOp = HeisenbergHamiltonian( num_qubits=4, neighbours=[(0,1),(1,2),(2,3),(3,0)] )\n",
    "paulis, coef = Label2Chain(QubitOp)\n",
    "print( paulis )"
   ]
  },
  {
   "cell_type": "code",
   "execution_count": 19,
   "metadata": {
    "execution": {
     "iopub.execute_input": "2021-05-18T18:52:00.085617Z",
     "iopub.status.busy": "2021-05-18T18:52:00.085617Z",
     "iopub.status.idle": "2021-05-18T18:52:00.093597Z",
     "shell.execute_reply": "2021-05-18T18:52:00.092598Z",
     "shell.execute_reply.started": "2021-05-18T18:52:00.085617Z"
    }
   },
   "outputs": [
    {
     "data": {
      "text/plain": [
       "[0,\n",
       " 1,\n",
       " 2,\n",
       " 3,\n",
       " (0, 1),\n",
       " (0, 2),\n",
       " (0, 3),\n",
       " (1, 0),\n",
       " (1, 2),\n",
       " (1, 3),\n",
       " (2, 0),\n",
       " (2, 1),\n",
       " (2, 3),\n",
       " (3, 0),\n",
       " (3, 1),\n",
       " (3, 2)]"
      ]
     },
     "execution_count": 19,
     "metadata": {},
     "output_type": "execute_result"
    }
   ],
   "source": [
    "WC = list(np.arange(4))  #One should include all qubits in the WC array, othewise the if loop which checks if \n",
    "#the measurement is done in compatible qubits would reject all one qubit measurements.\n",
    "WC2 = permutations(WC,2) #let's suppose that all qubits are pairwise connected\n",
    "WC.extend(WC2)\n",
    "WC"
   ]
  },
  {
   "cell_type": "code",
   "execution_count": 20,
   "metadata": {
    "execution": {
     "iopub.execute_input": "2021-05-18T18:52:05.351525Z",
     "iopub.status.busy": "2021-05-18T18:52:05.351525Z",
     "iopub.status.idle": "2021-05-18T18:52:05.398411Z",
     "shell.execute_reply": "2021-05-18T18:52:05.397405Z",
     "shell.execute_reply.started": "2021-05-18T18:52:05.351525Z"
    }
   },
   "outputs": [
    {
     "name": "stdout",
     "output_type": "stream",
     "text": [
      "k 0\n",
      "i 4\n",
      "l 0\n",
      "l 1\n",
      "l 2\n",
      "l 3\n",
      "l 4\n"
     ]
    },
    {
     "name": "stderr",
     "output_type": "stream",
     "text": [
      "C:\\Users\\Luciano\\AppData\\Roaming\\Python\\Python37\\site-packages\\ipykernel_launcher.py:34: FutureWarning: Using a non-tuple sequence for multidimensional indexing is deprecated; use `arr[tuple(seq)]` instead of `arr[seq]`. In the future this will be interpreted as an array index, `arr[np.array(seq)]`, which will result either in an error or a different result.\n"
     ]
    },
    {
     "ename": "IndexError",
     "evalue": "list index out of range",
     "output_type": "error",
     "traceback": [
      "\u001b[1;31m---------------------------------------------------------------------------\u001b[0m",
      "\u001b[1;31mIndexError\u001b[0m                                Traceback (most recent call last)",
      "\u001b[1;32m<ipython-input-20-8d869f7a58a3>\u001b[0m in \u001b[0;36m<module>\u001b[1;34m\u001b[0m\n\u001b[1;32m----> 1\u001b[1;33m \u001b[0mGroups\u001b[0m\u001b[1;33m,\u001b[0m \u001b[0mMeasurements\u001b[0m \u001b[1;33m=\u001b[0m \u001b[0mgrouping\u001b[0m\u001b[1;33m(\u001b[0m\u001b[0mpaulis\u001b[0m\u001b[1;33m,\u001b[0m\u001b[1;33m[\u001b[0m\u001b[1;36m3\u001b[0m\u001b[1;33m]\u001b[0m\u001b[1;33m,\u001b[0m\u001b[0mWC\u001b[0m\u001b[1;33m)\u001b[0m\u001b[1;33m\u001b[0m\u001b[1;33m\u001b[0m\u001b[0m\n\u001b[0m",
      "\u001b[1;32m<ipython-input-14-4058e4de5c22>\u001b[0m in \u001b[0;36mgrouping\u001b[1;34m(PS, AM, WC)\u001b[0m\n\u001b[0;32m     73\u001b[0m                 \u001b[0mj\u001b[0m\u001b[1;33m=\u001b[0m\u001b[0mSV\u001b[0m\u001b[1;33m[\u001b[0m\u001b[0ml\u001b[0m\u001b[1;33m]\u001b[0m\u001b[1;33m[\u001b[0m\u001b[1;36m0\u001b[0m\u001b[1;33m]\u001b[0m\u001b[1;33m\u001b[0m\u001b[1;33m\u001b[0m\u001b[0m\n\u001b[0;32m     74\u001b[0m                 \u001b[1;32mif\u001b[0m \u001b[0mj\u001b[0m \u001b[1;32mnot\u001b[0m \u001b[1;32min\u001b[0m \u001b[0mAS\u001b[0m\u001b[1;33m:\u001b[0m\u001b[1;33m\u001b[0m\u001b[1;33m\u001b[0m\u001b[0m\n\u001b[1;32m---> 75\u001b[1;33m                     \u001b[0mMi\u001b[0m\u001b[1;33m,\u001b[0m \u001b[0mS\u001b[0m\u001b[1;33m=\u001b[0m\u001b[0mMeasurementAssignment\u001b[0m\u001b[1;33m(\u001b[0m\u001b[0mPS\u001b[0m\u001b[1;33m[\u001b[0m\u001b[0mi\u001b[0m\u001b[1;33m,\u001b[0m\u001b[1;33m:\u001b[0m\u001b[1;33m]\u001b[0m\u001b[1;33m,\u001b[0m\u001b[0mPS\u001b[0m\u001b[1;33m[\u001b[0m\u001b[0mj\u001b[0m\u001b[1;33m,\u001b[0m\u001b[1;33m:\u001b[0m\u001b[1;33m]\u001b[0m\u001b[1;33m,\u001b[0m\u001b[0mMi\u001b[0m\u001b[1;33m,\u001b[0m\u001b[0mAM\u001b[0m\u001b[1;33m,\u001b[0m\u001b[0mWC\u001b[0m\u001b[1;33m)\u001b[0m\u001b[1;31m#S is the success variable. If Mi is compatible with\u001b[0m\u001b[1;33m\u001b[0m\u001b[1;33m\u001b[0m\u001b[0m\n\u001b[0m\u001b[0;32m     76\u001b[0m                     \u001b[1;31m#Vj S=1 otherwise S=0\u001b[0m\u001b[1;33m\u001b[0m\u001b[1;33m\u001b[0m\u001b[1;33m\u001b[0m\u001b[0m\n\u001b[0;32m     77\u001b[0m                     \u001b[1;32mif\u001b[0m \u001b[0mS\u001b[0m\u001b[1;33m==\u001b[0m\u001b[1;36m1\u001b[0m\u001b[1;33m:\u001b[0m\u001b[1;33m\u001b[0m\u001b[1;33m\u001b[0m\u001b[0m\n",
      "\u001b[1;32m<ipython-input-14-4058e4de5c22>\u001b[0m in \u001b[0;36mMeasurementAssignment\u001b[1;34m(Vi, Vj, Mi, AM, WC)\u001b[0m\n\u001b[0;32m     15\u001b[0m         \u001b[1;32melse\u001b[0m\u001b[1;33m:\u001b[0m\u001b[1;33m\u001b[0m\u001b[1;33m\u001b[0m\u001b[0m\n\u001b[0;32m     16\u001b[0m             \u001b[1;32mfor\u001b[0m \u001b[0ms\u001b[0m \u001b[1;32min\u001b[0m \u001b[0mLM\u001b[0m\u001b[1;33m[\u001b[0m\u001b[1;36m1\u001b[0m\u001b[1;33m]\u001b[0m\u001b[1;33m:\u001b[0m\u001b[1;31m### SEGURO QUE HAY UNA FORMA MÁS RÁPIDA DE ELIMINAR VARIOS VALORES A LA VEZ DE LA LISTA\u001b[0m\u001b[1;33m\u001b[0m\u001b[1;33m\u001b[0m\u001b[0m\n\u001b[1;32m---> 17\u001b[1;33m                 \u001b[0mU\u001b[0m\u001b[1;33m.\u001b[0m\u001b[0mremove\u001b[0m\u001b[1;33m(\u001b[0m\u001b[0mLM\u001b[0m\u001b[1;33m[\u001b[0m\u001b[1;36m1\u001b[0m\u001b[1;33m]\u001b[0m\u001b[1;33m[\u001b[0m\u001b[0ms\u001b[0m\u001b[1;33m]\u001b[0m\u001b[1;33m)\u001b[0m\u001b[1;33m\u001b[0m\u001b[1;33m\u001b[0m\u001b[0m\n\u001b[0m\u001b[0;32m     18\u001b[0m     \u001b[0mcommonfactors\u001b[0m\u001b[1;33m=\u001b[0m\u001b[0mnp\u001b[0m\u001b[1;33m.\u001b[0m\u001b[0margwhere\u001b[0m\u001b[1;33m(\u001b[0m\u001b[0mVi\u001b[0m\u001b[1;33m==\u001b[0m\u001b[0mVj\u001b[0m\u001b[1;33m)\u001b[0m\u001b[1;33m\u001b[0m\u001b[1;33m\u001b[0m\u001b[0m\n\u001b[0;32m     19\u001b[0m     \u001b[1;32mfor\u001b[0m \u001b[0mk\u001b[0m \u001b[1;32min\u001b[0m \u001b[0mcommonfactors\u001b[0m\u001b[1;33m:\u001b[0m\u001b[1;33m\u001b[0m\u001b[1;33m\u001b[0m\u001b[0m\n",
      "\u001b[1;31mIndexError\u001b[0m: list index out of range"
     ]
    }
   ],
   "source": [
    "Groups, Measurements = grouping(paulis,[3],WC)"
   ]
  },
  {
   "cell_type": "code",
   "execution_count": 167,
   "metadata": {
    "execution": {
     "iopub.execute_input": "2021-05-17T19:45:05.299853Z",
     "iopub.status.busy": "2021-05-17T19:45:05.298856Z",
     "iopub.status.idle": "2021-05-17T19:45:05.304163Z",
     "shell.execute_reply": "2021-05-17T19:45:05.303845Z",
     "shell.execute_reply.started": "2021-05-17T19:45:05.299853Z"
    }
   },
   "outputs": [
    {
     "data": {
      "text/plain": [
       "[[0, 1, 2], [3]]"
      ]
     },
     "execution_count": 167,
     "metadata": {},
     "output_type": "execute_result"
    }
   ],
   "source": [
    "Groups"
   ]
  },
  {
   "cell_type": "code",
   "execution_count": 133,
   "metadata": {
    "execution": {
     "iopub.execute_input": "2021-05-17T19:39:48.641148Z",
     "iopub.status.busy": "2021-05-17T19:39:48.641148Z",
     "iopub.status.idle": "2021-05-17T19:39:48.648346Z",
     "shell.execute_reply": "2021-05-17T19:39:48.647321Z",
     "shell.execute_reply.started": "2021-05-17T19:39:48.641148Z"
    }
   },
   "outputs": [
    {
     "data": {
      "text/plain": [
       "[[[3, [0, 1]], [2, 2]], [[0, 0], [1, 1], [2, 2]]]"
      ]
     },
     "execution_count": 133,
     "metadata": {},
     "output_type": "execute_result"
    }
   ],
   "source": [
    "Measurements"
   ]
  },
  {
   "cell_type": "code",
   "execution_count": null,
   "metadata": {},
   "outputs": [],
   "source": []
  }
 ],
 "metadata": {
  "kernelspec": {
   "display_name": "Python 3",
   "language": "python",
   "name": "python3"
  },
  "language_info": {
   "codemirror_mode": {
    "name": "ipython",
    "version": 3
   },
   "file_extension": ".py",
   "mimetype": "text/x-python",
   "name": "python",
   "nbconvert_exporter": "python",
   "pygments_lexer": "ipython3",
   "version": "3.7.7"
  }
 },
 "nbformat": 4,
 "nbformat_minor": 4
}
