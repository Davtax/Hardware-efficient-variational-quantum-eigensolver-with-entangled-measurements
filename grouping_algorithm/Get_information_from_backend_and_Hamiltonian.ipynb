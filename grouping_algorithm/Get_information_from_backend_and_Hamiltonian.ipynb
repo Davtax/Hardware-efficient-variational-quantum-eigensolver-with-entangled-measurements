{
 "cells": [
  {
   "cell_type": "code",
   "execution_count": 40,
   "metadata": {
    "execution": {
     "iopub.execute_input": "2021-05-15T13:27:31.548907Z",
     "iopub.status.busy": "2021-05-15T13:27:31.548907Z",
     "iopub.status.idle": "2021-05-15T13:27:31.557883Z",
     "shell.execute_reply": "2021-05-15T13:27:31.557042Z",
     "shell.execute_reply.started": "2021-05-15T13:27:31.548907Z"
    }
   },
   "outputs": [],
   "source": [
    "from qiskit import IBMQ\n",
    "from qiskit.opflow.primitive_ops import PauliOp, PauliSumOp\n",
    "from qiskit.aqua.operators.legacy import WeightedPauliOperator           \n",
    "from qiskit.quantum_info import Pauli\n",
    "from qiskit.algorithms import VQE\n",
    "import numpy as np"
   ]
  },
  {
   "cell_type": "code",
   "execution_count": 2,
   "metadata": {
    "execution": {
     "iopub.execute_input": "2021-05-15T12:36:57.247458Z",
     "iopub.status.busy": "2021-05-15T12:36:57.247458Z",
     "iopub.status.idle": "2021-05-15T12:37:03.873355Z",
     "shell.execute_reply": "2021-05-15T12:37:03.872422Z",
     "shell.execute_reply.started": "2021-05-15T12:36:57.247458Z"
    }
   },
   "outputs": [],
   "source": [
    "IBMQ.load_account()\n",
    "provider = IBMQ.get_provider(hub='ibm-q-csic', group='internal', project='iff-csic') "
   ]
  },
  {
   "cell_type": "code",
   "execution_count": 3,
   "metadata": {
    "execution": {
     "iopub.execute_input": "2021-05-15T12:37:03.875352Z",
     "iopub.status.busy": "2021-05-15T12:37:03.875352Z",
     "iopub.status.idle": "2021-05-15T12:37:04.751944Z",
     "shell.execute_reply": "2021-05-15T12:37:04.750994Z",
     "shell.execute_reply.started": "2021-05-15T12:37:03.875352Z"
    }
   },
   "outputs": [],
   "source": [
    "backend = provider.get_backend('ibmq_lima')\n",
    "defaults = backend.defaults()"
   ]
  },
  {
   "cell_type": "code",
   "execution_count": 92,
   "metadata": {
    "execution": {
     "iopub.execute_input": "2021-05-15T13:56:30.976631Z",
     "iopub.status.busy": "2021-05-15T13:56:30.975631Z",
     "iopub.status.idle": "2021-05-15T13:56:30.984606Z",
     "shell.execute_reply": "2021-05-15T13:56:30.983608Z",
     "shell.execute_reply.started": "2021-05-15T13:56:30.976631Z"
    }
   },
   "outputs": [
    {
     "data": {
      "text/plain": [
       "[(0, 1), (1, 2), (1, 3), (3, 4)]"
      ]
     },
     "execution_count": 92,
     "metadata": {},
     "output_type": "execute_result"
    }
   ],
   "source": [
    "conexions = [ indx for indx in defaults.instruction_schedule_map.qubits_with_instruction('cx') if indx[0]<indx[1]  ]\n",
    "conexions"
   ]
  },
  {
   "cell_type": "code",
   "execution_count": 74,
   "metadata": {
    "execution": {
     "iopub.execute_input": "2021-05-15T13:42:51.012897Z",
     "iopub.status.busy": "2021-05-15T13:42:51.011901Z",
     "iopub.status.idle": "2021-05-15T13:42:51.028855Z",
     "shell.execute_reply": "2021-05-15T13:42:51.027865Z",
     "shell.execute_reply.started": "2021-05-15T13:42:51.012897Z"
    }
   },
   "outputs": [],
   "source": [
    "#Hamiltonian \n",
    "def HeisenbergHamiltonian( J=1, H=1, num_qubits=2, neighbours=[(0,1)] ):\n",
    "    \"\"\"\n",
    "    Qiskit operator of the 3-D Heisemberg Hamiltonian of a lattice of spins.\n",
    "    \n",
    "    H = - J Σ_j ( X_j X_{j+1} + Y_j Y_{j+1} + Z_j Z_{j+1} ) - H Σ_j Z_j\n",
    "    \n",
    "    input:\n",
    "        J          : Real. Coupling constant.\n",
    "        H          : Real. External magnetic field.\n",
    "        num_qubits : Integer. Number of qubits.\n",
    "        neighbours : List of tuples. Coupling between the spins.\n",
    "    output:\n",
    "        Hamiltonian : BaseOperator of Qiskit. Heisenberg Hamiltonian of the system.\n",
    "    \"\"\"\n",
    "    num_op = num_qubits + 3*len(neighbours)\n",
    "    Hamiltonian_op_x = []    \n",
    "    Hamiltonian_op_z = []  \n",
    "    Hamiltonian_coef = num_qubits*[-H] + num_op*[-J]\n",
    "    \n",
    "    for idx in range(num_qubits):\n",
    "        op_x = np.zeros( num_qubits )\n",
    "        op_z = np.zeros( num_qubits )\n",
    "        op_z[idx] = 1\n",
    "        Hamiltonian_op_x.append( op_x.copy() )\n",
    "        Hamiltonian_op_z.append( op_z.copy() )        \n",
    "    \n",
    "    for idx in neighbours:\n",
    "        op_x = np.zeros( num_qubits )\n",
    "        op_z = np.zeros( num_qubits )\n",
    "        op_x[idx[0]] = 1\n",
    "        op_x[idx[1]] = 1\n",
    "        Hamiltonian_op_x.append( op_x.copy() )\n",
    "        Hamiltonian_op_z.append( op_z.copy() )\n",
    "        op_z[idx[0]] = 1\n",
    "        op_z[idx[1]] = 1\n",
    "        Hamiltonian_op_x.append( op_x.copy() )\n",
    "        Hamiltonian_op_z.append( op_z.copy() )        \n",
    "        op_x[idx[0]] = 0\n",
    "        op_x[idx[1]] = 0\n",
    "        Hamiltonian_op_x.append( op_x.copy() )\n",
    "        Hamiltonian_op_z.append( op_z.copy() )        \n",
    "        \n",
    "    Hamiltonian = WeightedPauliOperator( \n",
    "        [ [Hamiltonian_coef[j], Pauli( ( Hamiltonian_op_z[j], Hamiltonian_op_x[j] )) ] \n",
    "         for j in range(num_op) ] )\n",
    "    return Hamiltonian\n",
    "\n",
    "QubitOp = HeisenbergHamiltonian( num_qubits=4, neighbours=[(0,1),(1,2),(2,3),(3,0)] )"
   ]
  },
  {
   "cell_type": "code",
   "execution_count": 75,
   "metadata": {
    "execution": {
     "iopub.execute_input": "2021-05-15T13:42:51.454756Z",
     "iopub.status.busy": "2021-05-15T13:42:51.453760Z",
     "iopub.status.idle": "2021-05-15T13:42:51.459742Z",
     "shell.execute_reply": "2021-05-15T13:42:51.458753Z",
     "shell.execute_reply.started": "2021-05-15T13:42:51.454756Z"
    }
   },
   "outputs": [
    {
     "name": "stdout",
     "output_type": "stream",
     "text": [
      "IIIZ\t(1+0j)\n",
      "IIZI\t(1+0j)\n",
      "IZII\t(1+0j)\n",
      "ZIII\t(1+0j)\n",
      "IIXX\t(1+0j)\n",
      "IIYY\t(1+0j)\n",
      "IIZZ\t(1+0j)\n",
      "IXXI\t(1+0j)\n",
      "IYYI\t(1+0j)\n",
      "IZZI\t(1+0j)\n",
      "XXII\t(1+0j)\n",
      "YYII\t(1+0j)\n",
      "ZZII\t(1+0j)\n",
      "XIIX\t(1+0j)\n",
      "YIIY\t(1+0j)\n",
      "ZIIZ\t(1+0j)\n",
      "\n"
     ]
    }
   ],
   "source": [
    "print( QubitOp.print_details() )"
   ]
  },
  {
   "cell_type": "code",
   "execution_count": 84,
   "metadata": {
    "execution": {
     "iopub.execute_input": "2021-05-15T13:49:43.254964Z",
     "iopub.status.busy": "2021-05-15T13:49:43.254964Z",
     "iopub.status.idle": "2021-05-15T13:49:43.260919Z",
     "shell.execute_reply": "2021-05-15T13:49:43.259921Z",
     "shell.execute_reply.started": "2021-05-15T13:49:43.254964Z"
    }
   },
   "outputs": [],
   "source": [
    "def Label2Chain(QubitOp):\n",
    "    \"\"\"\n",
    "    Transform a string of Pauli matrices into a numpy array.\n",
    "    'I' --> 0\n",
    "    'X' --> 1\n",
    "    'Y' --> 2\n",
    "    'Z' --> 3\n",
    "    \n",
    "    input:\n",
    "        QubitOp : BaseOperator of Qiskit.\n",
    "    output:\n",
    "        ops     : narray of the Pauli operators.\n",
    "                  ops.shape = ( number_of_operators, number_of_qubits )\n",
    "        coef    : coefficient of each Pauli operator.\n",
    "    \"\"\"\n",
    "    Dict = {'I' : 0,\n",
    "           'X' : 1,\n",
    "           'Y' : 2,\n",
    "           'Z' : 3}\n",
    "    ops = [[ Dict.get(idx2.to_label()) for idx2 in idx[1]] for idx in QubitOp.paulis ]\n",
    "    coef = [ idx[0] for idx in QubitOp.paulis ]\n",
    "    return ops, coef"
   ]
  },
  {
   "cell_type": "code",
   "execution_count": 85,
   "metadata": {
    "execution": {
     "iopub.execute_input": "2021-05-15T13:49:44.025837Z",
     "iopub.status.busy": "2021-05-15T13:49:44.024839Z",
     "iopub.status.idle": "2021-05-15T13:49:44.036381Z",
     "shell.execute_reply": "2021-05-15T13:49:44.036381Z",
     "shell.execute_reply.started": "2021-05-15T13:49:44.025837Z"
    }
   },
   "outputs": [
    {
     "data": {
      "text/plain": [
       "([[3, 0, 0, 0],\n",
       "  [0, 3, 0, 0],\n",
       "  [0, 0, 3, 0],\n",
       "  [0, 0, 0, 3],\n",
       "  [1, 1, 0, 0],\n",
       "  [2, 2, 0, 0],\n",
       "  [3, 3, 0, 0],\n",
       "  [0, 1, 1, 0],\n",
       "  [0, 2, 2, 0],\n",
       "  [0, 3, 3, 0],\n",
       "  [0, 0, 1, 1],\n",
       "  [0, 0, 2, 2],\n",
       "  [0, 0, 3, 3],\n",
       "  [1, 0, 0, 1],\n",
       "  [2, 0, 0, 2],\n",
       "  [3, 0, 0, 3]],\n",
       " [(1+0j),\n",
       "  (1+0j),\n",
       "  (1+0j),\n",
       "  (1+0j),\n",
       "  (1+0j),\n",
       "  (1+0j),\n",
       "  (1+0j),\n",
       "  (1+0j),\n",
       "  (1+0j),\n",
       "  (1+0j),\n",
       "  (1+0j),\n",
       "  (1+0j),\n",
       "  (1+0j),\n",
       "  (1+0j),\n",
       "  (1+0j),\n",
       "  (1+0j)])"
      ]
     },
     "execution_count": 85,
     "metadata": {},
     "output_type": "execute_result"
    }
   ],
   "source": [
    "Label2Chain(QubitOp)"
   ]
  },
  {
   "cell_type": "code",
   "execution_count": null,
   "metadata": {},
   "outputs": [],
   "source": []
  },
  {
   "cell_type": "code",
   "execution_count": null,
   "metadata": {},
   "outputs": [],
   "source": []
  },
  {
   "cell_type": "code",
   "execution_count": null,
   "metadata": {},
   "outputs": [],
   "source": []
  },
  {
   "cell_type": "code",
   "execution_count": null,
   "metadata": {},
   "outputs": [],
   "source": []
  },
  {
   "cell_type": "code",
   "execution_count": null,
   "metadata": {},
   "outputs": [],
   "source": []
  },
  {
   "cell_type": "code",
   "execution_count": null,
   "metadata": {},
   "outputs": [],
   "source": []
  }
 ],
 "metadata": {
  "kernelspec": {
   "display_name": "Python 3",
   "language": "python",
   "name": "python3"
  },
  "language_info": {
   "codemirror_mode": {
    "name": "ipython",
    "version": 3
   },
   "file_extension": ".py",
   "mimetype": "text/x-python",
   "name": "python",
   "nbconvert_exporter": "python",
   "pygments_lexer": "ipython3",
   "version": "3.7.7"
  }
 },
 "nbformat": 4,
 "nbformat_minor": 4
}
