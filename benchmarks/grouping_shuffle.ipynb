{
 "cells": [
  {
   "cell_type": "code",
   "execution_count": 1,
   "id": "2c684021-0890-4f42-b64d-29689eece726",
   "metadata": {
    "execution": {
     "iopub.execute_input": "2022-06-30T14:54:40.103035Z",
     "iopub.status.busy": "2022-06-30T14:54:40.102908Z",
     "iopub.status.idle": "2022-06-30T14:54:40.685786Z",
     "shell.execute_reply": "2022-06-30T14:54:40.685342Z",
     "shell.execute_reply.started": "2022-06-30T14:54:40.102996Z"
    },
    "tags": []
   },
   "outputs": [],
   "source": [
    "import sys\n",
    "sys.path.append('../')\n",
    "\n",
    "%load_ext autoreload\n",
    "%autoreload 1\n",
    "%aimport grouping"
   ]
  },
  {
   "cell_type": "code",
   "execution_count": 24,
   "id": "bf5d69da-bdaf-4c0e-a883-e73954cd5c21",
   "metadata": {
    "execution": {
     "iopub.execute_input": "2022-06-30T15:02:00.916786Z",
     "iopub.status.busy": "2022-06-30T15:02:00.916454Z",
     "iopub.status.idle": "2022-06-30T15:02:00.959666Z",
     "shell.execute_reply": "2022-06-30T15:02:00.959276Z",
     "shell.execute_reply.started": "2022-06-30T15:02:00.916765Z"
    },
    "tags": []
   },
   "outputs": [],
   "source": [
    "import numpy as np\n",
    "from tqdm.auto import tqdm\n",
    "from joblib import delayed, Parallel\n",
    "from os import remove, mkdir\n",
    "from qiskit.test.mock import FakeMontreal\n",
    "\n",
    "import matplotlib.pyplot as plt\n",
    "import matplotlib.patches as mpatches\n",
    "from mpl_toolkits.axes_grid1.inset_locator import inset_axes\n",
    "\n",
    "from grouping import Grouping\n",
    "\n",
    "try:\n",
    "    mkdir('data')\n",
    "except FileExistsError:\n",
    "    pass\n",
    "\n",
    "# TODO: Use modified tqdm when available"
   ]
  },
  {
   "cell_type": "code",
   "execution_count": 3,
   "id": "dc7146df-dce8-4538-b70d-e112b647df3a",
   "metadata": {
    "execution": {
     "iopub.execute_input": "2022-06-30T14:54:41.993442Z",
     "iopub.status.busy": "2022-06-30T14:54:41.992919Z",
     "iopub.status.idle": "2022-06-30T14:54:41.997739Z",
     "shell.execute_reply": "2022-06-30T14:54:41.997014Z",
     "shell.execute_reply.started": "2022-06-30T14:54:41.993420Z"
    },
    "tags": []
   },
   "outputs": [],
   "source": [
    "#TODO: use molecule when available\n",
    "def random_labels(n, N):\n",
    "    labels = []\n",
    "    for i in range(n):\n",
    "        labels.append(np.random.randint(4, size=N))\n",
    "    return np.array(labels)"
   ]
  },
  {
   "cell_type": "code",
   "execution_count": 8,
   "id": "774ed950-2755-4222-a602-bfa4f6205e14",
   "metadata": {
    "execution": {
     "iopub.execute_input": "2022-06-30T14:56:00.239692Z",
     "iopub.status.busy": "2022-06-30T14:56:00.239419Z",
     "iopub.status.idle": "2022-06-30T14:56:00.244549Z",
     "shell.execute_reply": "2022-06-30T14:56:00.244147Z",
     "shell.execute_reply.started": "2022-06-30T14:56:00.239671Z"
    },
    "tags": []
   },
   "outputs": [],
   "source": [
    "def n_groups(file_name):\n",
    "    groups = Grouping(load=file_name)\n",
    "    \n",
    "    groups._shuffle_labels()\n",
    "    groups._shuffle_qubits()\n",
    "    \n",
    "    groups.group()\n",
    "    \n",
    "    return groups.n_groups, groups.grouping_time\n",
    "\n",
    "def parallel_shuffling(labels, file_name, transpiled_order, connected_graph, name_algoritm, n_reps=100):\n",
    "    file_name_temp = 'tmp_grouping'\n",
    "    grouping = Grouping(labels, WC_device, print_progress=False, transpiled_order=transpiled_order,\n",
    "                                connected_graph=connected_graph)\n",
    "    grouping.save_data(file_name_temp)\n",
    "\n",
    "    pbar = tqdm(range(n_reps), desc='Shuffling Pauli and qubits order ({})'.format(name_algoritm))\n",
    "    results = Parallel(n_jobs=-1)(delayed(n_groups)(file_name_temp) for _ in pbar)\n",
    "    \n",
    "    remove(file_name_temp + '.pickle')\n",
    "    \n",
    "    n_groups_list = [result[0] for result in results]\n",
    "    time = [result[1] for result in results]\n",
    "    \n",
    "    data = {'n_groups': n_groups_list, 'time': time}\n",
    "    np.save('data/' + file_name + '_' + name_algoritm, data)\n",
    "    \n",
    "    return data"
   ]
  },
  {
   "cell_type": "code",
   "execution_count": 9,
   "id": "968e57e6-d537-4383-8c2c-9d4a8c499537",
   "metadata": {
    "execution": {
     "iopub.execute_input": "2022-06-30T14:56:01.632641Z",
     "iopub.status.busy": "2022-06-30T14:56:01.632250Z",
     "iopub.status.idle": "2022-06-30T14:56:01.645798Z",
     "shell.execute_reply": "2022-06-30T14:56:01.645322Z",
     "shell.execute_reply.started": "2022-06-30T14:56:01.632626Z"
    },
    "tags": []
   },
   "outputs": [],
   "source": [
    "backend = FakeMontreal()\n",
    "WC_device = backend.configuration().coupling_map\n",
    "WC_device = [tuple(x) for x in WC_device]\n",
    "\n",
    "n = 500\n",
    "N = 10\n",
    "\n",
    "labels = random_labels(n, N)"
   ]
  },
  {
   "cell_type": "code",
   "execution_count": 14,
   "id": "c3ce264b-fa28-402a-9761-e3786692c267",
   "metadata": {
    "execution": {
     "iopub.execute_input": "2022-06-30T14:57:09.496485Z",
     "iopub.status.busy": "2022-06-30T14:57:09.496090Z",
     "iopub.status.idle": "2022-06-30T14:57:09.500187Z",
     "shell.execute_reply": "2022-06-30T14:57:09.499803Z",
     "shell.execute_reply.started": "2022-06-30T14:57:09.496470Z"
    },
    "tags": []
   },
   "outputs": [],
   "source": [
    "def compare_algorithms(labels, name_data, n_reps=100):\n",
    "    data = {}\n",
    "    \n",
    "    # Naive\n",
    "    data['naive'] = parallel_shuffling(labels, name_data, transpiled_order=False, connected_graph=None, name_algoritm='naive', n_reps=n_reps)\n",
    "    \n",
    "    # Disconnected\n",
    "    data['disconnected'] = parallel_shuffling(labels, name_data, transpiled_order=True, connected_graph=False, name_algoritm='disconnected', n_reps=n_reps)\n",
    "    \n",
    "    # Connected\n",
    "    data['connected'] = parallel_shuffling(labels, name_data, transpiled_order=True, connected_graph=True, name_algoritm='connected', n_reps=n_reps)\n",
    "    \n",
    "    return data"
   ]
  },
  {
   "cell_type": "code",
   "execution_count": 15,
   "id": "e7da1dde-be8c-48d0-b1d2-d0449b40bb87",
   "metadata": {
    "execution": {
     "iopub.execute_input": "2022-06-30T14:57:11.765984Z",
     "iopub.status.busy": "2022-06-30T14:57:11.765617Z",
     "iopub.status.idle": "2022-06-30T14:57:19.626946Z",
     "shell.execute_reply": "2022-06-30T14:57:19.626491Z",
     "shell.execute_reply.started": "2022-06-30T14:57:11.765969Z"
    },
    "tags": []
   },
   "outputs": [
    {
     "data": {
      "application/vnd.jupyter.widget-view+json": {
       "model_id": "0d9594de866b4671b66587e15a8addf1",
       "version_major": 2,
       "version_minor": 0
      },
      "text/plain": [
       "Shuffling Pauli and qubits order (naive):   0%|          | 0/10 [00:00<?, ?it/s]"
      ]
     },
     "metadata": {},
     "output_type": "display_data"
    },
    {
     "data": {
      "application/vnd.jupyter.widget-view+json": {
       "model_id": "bb5bbd167f4e4fd6bf97b2db2585f3fa",
       "version_major": 2,
       "version_minor": 0
      },
      "text/plain": [
       "Shuffling Pauli and qubits order (disconnected):   0%|          | 0/10 [00:00<?, ?it/s]"
      ]
     },
     "metadata": {},
     "output_type": "display_data"
    },
    {
     "data": {
      "application/vnd.jupyter.widget-view+json": {
       "model_id": "6bd03e6515dc4c10bd28967947f4d14e",
       "version_major": 2,
       "version_minor": 0
      },
      "text/plain": [
       "Shuffling Pauli and qubits order (connected):   0%|          | 0/10 [00:00<?, ?it/s]"
      ]
     },
     "metadata": {},
     "output_type": "display_data"
    }
   ],
   "source": [
    "data = compare_algorithms(labels, 'test', n_reps=10)"
   ]
  },
  {
   "cell_type": "code",
   "execution_count": 35,
   "id": "751001ee-3dcb-49dd-9873-1e593dbc304e",
   "metadata": {
    "execution": {
     "iopub.execute_input": "2022-06-30T15:05:54.809993Z",
     "iopub.status.busy": "2022-06-30T15:05:54.809690Z",
     "iopub.status.idle": "2022-06-30T15:05:54.897124Z",
     "shell.execute_reply": "2022-06-30T15:05:54.896630Z",
     "shell.execute_reply.started": "2022-06-30T15:05:54.809979Z"
    },
    "tags": []
   },
   "outputs": [
    {
     "data": {
      "text/plain": [
       "<matplotlib.legend.Legend at 0x7fb198c3d5b0>"
      ]
     },
     "execution_count": 35,
     "metadata": {},
     "output_type": "execute_result"
    },
    {
     "data": {
      "image/png": "[encoded data removed]",
      "text/plain": [
       "<Figure size 720x360 with 1 Axes>"
      ]
     },
     "metadata": {
      "needs_background": "light"
     },
     "output_type": "display_data"
    }
   ],
   "source": [
    "labels = ['naive', 'disconnected', 'connected']\n",
    "colors = ['C0', 'C1', 'C2']\n",
    "\n",
    "fig, ax = plt.subplots(figsize=(10, 5))\n",
    "\n",
    "w_spacing = 0.02  # Spacing between bar of equal n_qubits\n",
    "w_spacing_big = 0.1  # Spacing between bars of different n_qubits\n",
    "w_bar = (1 - 2 * w_spacing_big - 2 * w_spacing) / 3\n",
    "delta = 1 / 2 - w_spacing_big - w_bar / 2\n",
    "\n",
    "x_pos_mean = []\n",
    "y_pos_mean = []\n",
    "color_mean = []\n",
    "labels_legend = []\n",
    "\n",
    "j = 0\n",
    "for (i, label) in enumerate(labels):\n",
    "    data_plot = data[label]['n_groups']\n",
    "    violin_parts = ax.violinplot(data_plot, showextrema=False, positions=[j + delta * (i - 1)], widths=w_bar,\n",
    "                                 points=min(1e6, int(np.max(data_plot) - np.min(data_plot)) + 1))\n",
    "\n",
    "    for pc in violin_parts['bodies']:\n",
    "        pc.set_facecolor(colors[i])\n",
    "        pc.set_edgecolor(colors[i])\n",
    "        pc.set_alpha(0.4)\n",
    "\n",
    "    x_pos_mean.append(j + delta * (i - 1))\n",
    "    y_pos_mean.append(np.median(data_plot))\n",
    "    color_mean.append(colors[i])\n",
    "\n",
    "    if legend:\n",
    "        color = violin_parts[\"bodies\"][0].get_facecolor().flatten()\n",
    "        labels_legend.append((mpatches.Patch(color=color), label.replace('_', ' ')))\n",
    "\n",
    "\n",
    "ax.scatter(x_pos_mean, y_pos_mean, marker='o', c=color_mean, s=40, zorder=3, alpha=0.9, edgecolors='k')\n",
    "\n",
    "# ax.set_xticks(range(0, len(n_qubits.keys())))\n",
    "# ax.set_xticklabels(ticks_labels)\n",
    "# ax.set_xlabel('molecule')\n",
    "ax.set_ylabel('groups')\n",
    "# ax.set_ylim(0, None)\n",
    "\n",
    "ax.yaxis.grid(zorder=0, alpha=0.4)\n",
    "ax.legend(*zip(*labels_legend), bbox_to_anchor=(0.75, 0.95))\n",
    "\n",
    "# axins = inset_axes(ax, width=\"100%\", height=\"100%\",\n",
    "#                    bbox_to_anchor=(0.07, .45, .5, .5),\n",
    "#                    bbox_transform=ax.transAxes)\n",
    "\n",
    "\n",
    "# for (i, label) in enumerate(labels):\n",
    "#     data_plot_x = []\n",
    "#     data_plot_y = []\n",
    "\n",
    "#     data_plot_y.append(np.average(data[label]['time']))\n",
    "#     data_plot_x.append(0)\n",
    "\n",
    "#     axins.plot(data_plot_x, data_plot_y, c=colors[i], marker='.')\n",
    "        \n",
    "# axins.set_ylabel('average time (s)')\n",
    "\n",
    "# axins.set_xticks(list(n_qubits.values()))\n",
    "# axins.set_xticklabels(ticks_labels);"
   ]
  },
  {
   "cell_type": "code",
   "execution_count": null,
   "id": "9748d147-9deb-4b3e-b432-92bd80ddbd8e",
   "metadata": {},
   "outputs": [],
   "source": []
  }
 ],
 "metadata": {
  "kernelspec": {
   "display_name": "Python 3 (ipykernel)",
   "language": "python",
   "name": "python3"
  },
  "language_info": {
   "codemirror_mode": {
    "name": "ipython",
    "version": 3
   },
   "file_extension": ".py",
   "mimetype": "text/x-python",
   "name": "python",
   "nbconvert_exporter": "python",
   "pygments_lexer": "ipython3",
   "version": "3.9.13"
  }
 },
 "nbformat": 4,
 "nbformat_minor": 5
}
