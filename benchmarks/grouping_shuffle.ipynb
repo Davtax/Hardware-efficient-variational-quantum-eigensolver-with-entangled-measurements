{
 "cells": [
  {
   "cell_type": "code",
   "execution_count": 16,
   "id": "2c684021-0890-4f42-b64d-29689eece726",
   "metadata": {
    "execution": {
     "iopub.execute_input": "2022-07-07T14:48:44.524925Z",
     "iopub.status.busy": "2022-07-07T14:48:44.524634Z",
     "iopub.status.idle": "2022-07-07T14:48:44.584115Z",
     "shell.execute_reply": "2022-07-07T14:48:44.583651Z",
     "shell.execute_reply.started": "2022-07-07T14:48:44.524911Z"
    },
    "tags": []
   },
   "outputs": [
    {
     "name": "stdout",
     "output_type": "stream",
     "text": [
      "The autoreload extension is already loaded. To reload it, use:\n",
      "  %reload_ext autoreload\n"
     ]
    }
   ],
   "source": [
    "import sys\n",
    "sys.path.append('../')\n",
    "\n",
    "%load_ext autoreload\n",
    "%autoreload 1\n",
    "%aimport grouping, molecules, utils"
   ]
  },
  {
   "cell_type": "code",
   "execution_count": 17,
   "id": "bf5d69da-bdaf-4c0e-a883-e73954cd5c21",
   "metadata": {
    "execution": {
     "iopub.execute_input": "2022-07-07T14:49:05.258182Z",
     "iopub.status.busy": "2022-07-07T14:49:05.257781Z",
     "iopub.status.idle": "2022-07-07T14:49:05.270310Z",
     "shell.execute_reply": "2022-07-07T14:49:05.269857Z",
     "shell.execute_reply.started": "2022-07-07T14:49:05.258168Z"
    },
    "tags": []
   },
   "outputs": [],
   "source": [
    "import numpy as np\n",
    "from tqdm.auto import tqdm\n",
    "from joblib import delayed, Parallel\n",
    "from os import remove, mkdir\n",
    "from qiskit.test.mock import FakeMontreal\n",
    "\n",
    "import matplotlib.pyplot as plt\n",
    "import matplotlib.patches as mpatches\n",
    "from mpl_toolkits.axes_grid1.inset_locator import inset_axes\n",
    "\n",
    "from grouping import Grouping\n",
    "from molecules import compute_molecule\n",
    "from utils import tqdm_joblib\n",
    "\n",
    "try:\n",
    "    mkdir('data')\n",
    "except FileExistsError:\n",
    "    pass"
   ]
  },
  {
   "cell_type": "code",
   "execution_count": 10,
   "id": "dc7146df-dce8-4538-b70d-e112b647df3a",
   "metadata": {
    "execution": {
     "iopub.execute_input": "2022-07-07T14:05:35.007301Z",
     "iopub.status.busy": "2022-07-07T14:05:35.007079Z",
     "iopub.status.idle": "2022-07-07T14:05:35.590257Z",
     "shell.execute_reply": "2022-07-07T14:05:35.589872Z",
     "shell.execute_reply.started": "2022-07-07T14:05:35.007288Z"
    },
    "tags": []
   },
   "outputs": [],
   "source": [
    "molecule_name = 'BeH2'\n",
    "qubit_op = compute_molecule(molecule_name)"
   ]
  },
  {
   "cell_type": "code",
   "execution_count": 18,
   "id": "774ed950-2755-4222-a602-bfa4f6205e14",
   "metadata": {
    "execution": {
     "iopub.execute_input": "2022-07-07T14:49:49.344019Z",
     "iopub.status.busy": "2022-07-07T14:49:49.343822Z",
     "iopub.status.idle": "2022-07-07T14:49:49.349769Z",
     "shell.execute_reply": "2022-07-07T14:49:49.349378Z",
     "shell.execute_reply.started": "2022-07-07T14:49:49.344004Z"
    },
    "tags": []
   },
   "outputs": [],
   "source": [
    "def n_groups(file_name):\n",
    "    groups = Grouping(load=file_name)\n",
    "    \n",
    "    groups._shuffle_labels()\n",
    "    groups._shuffle_qubits()\n",
    "    \n",
    "    groups.group()\n",
    "    \n",
    "    return groups.n_groups, groups.grouping_time\n",
    "\n",
    "def parallel_shuffling(labels, file_name, transpiled_order, connected_graph, name_algoritm, n_reps=100):\n",
    "    file_name_temp = 'tmp_grouping'\n",
    "    grouping = Grouping(labels, WC_device, print_progress=False, transpiled_order=transpiled_order,\n",
    "                                connected_graph=connected_graph, tests=None)\n",
    "    grouping.save_data(file_name_temp)\n",
    "\n",
    "    pbar = tqdm(range(n_reps), desc='Shuffling Pauli and qubits order ({})'.format(name_algoritm))\n",
    "    with tqdm_joblib(pbar) as _:\n",
    "        results = Parallel(n_jobs=-1)(delayed(n_groups)(file_name_temp) for _ in range(n_reps))\n",
    "    \n",
    "    remove(file_name_temp + '.pickle')\n",
    "    \n",
    "    n_groups_list = [result[0] for result in results]\n",
    "    time = [result[1] for result in results]\n",
    "    \n",
    "    data = {'n_groups': n_groups_list, 'time': time}\n",
    "    np.save('data/' + file_name + '_' + name_algoritm, data)\n",
    "    \n",
    "    return data"
   ]
  },
  {
   "cell_type": "code",
   "execution_count": 19,
   "id": "968e57e6-d537-4383-8c2c-9d4a8c499537",
   "metadata": {
    "execution": {
     "iopub.execute_input": "2022-07-07T14:49:49.747744Z",
     "iopub.status.busy": "2022-07-07T14:49:49.747338Z",
     "iopub.status.idle": "2022-07-07T14:49:49.761693Z",
     "shell.execute_reply": "2022-07-07T14:49:49.761299Z",
     "shell.execute_reply.started": "2022-07-07T14:49:49.747727Z"
    },
    "tags": []
   },
   "outputs": [],
   "source": [
    "backend = FakeMontreal()\n",
    "WC_device = backend.configuration().coupling_map\n",
    "WC_device = [tuple(x) for x in WC_device]\n",
    "\n",
    "n = 500\n",
    "N = 10\n",
    "\n",
    "labels = random_labels(n, N)"
   ]
  },
  {
   "cell_type": "code",
   "execution_count": 20,
   "id": "c3ce264b-fa28-402a-9761-e3786692c267",
   "metadata": {
    "execution": {
     "iopub.execute_input": "2022-07-07T14:49:50.568614Z",
     "iopub.status.busy": "2022-07-07T14:49:50.568326Z",
     "iopub.status.idle": "2022-07-07T14:49:50.573260Z",
     "shell.execute_reply": "2022-07-07T14:49:50.572840Z",
     "shell.execute_reply.started": "2022-07-07T14:49:50.568598Z"
    },
    "tags": []
   },
   "outputs": [],
   "source": [
    "def compare_algorithms(labels, name_data, n_reps=100):\n",
    "    data = {}\n",
    "    \n",
    "    # Naive\n",
    "    data['naive'] = parallel_shuffling(labels, name_data, transpiled_order=False, connected_graph=None, name_algoritm='naive', n_reps=n_reps)\n",
    "    \n",
    "    # Disconnected\n",
    "    data['disconnected'] = parallel_shuffling(labels, name_data, transpiled_order=True, connected_graph=False, name_algoritm='disconnected', n_reps=n_reps)\n",
    "    \n",
    "    # Connected\n",
    "    data['connected'] = parallel_shuffling(labels, name_data, transpiled_order=True, connected_graph=True, name_algoritm='connected', n_reps=n_reps)\n",
    "    \n",
    "    return data"
   ]
  },
  {
   "cell_type": "code",
   "execution_count": 21,
   "id": "e7da1dde-be8c-48d0-b1d2-d0449b40bb87",
   "metadata": {
    "execution": {
     "iopub.execute_input": "2022-07-07T14:49:51.193946Z",
     "iopub.status.busy": "2022-07-07T14:49:51.193740Z",
     "iopub.status.idle": "2022-07-07T14:49:55.022340Z",
     "shell.execute_reply": "2022-07-07T14:49:55.021824Z",
     "shell.execute_reply.started": "2022-07-07T14:49:51.193931Z"
    },
    "tags": []
   },
   "outputs": [
    {
     "data": {
      "application/vnd.jupyter.widget-view+json": {
       "model_id": "4f5564ff73514e61b60af503b69c3465",
       "version_major": 2,
       "version_minor": 0
      },
      "text/plain": [
       "Shuffling Pauli and qubits order (naive):   0%|          | 0/100 [00:00<?, ?it/s]"
      ]
     },
     "metadata": {},
     "output_type": "display_data"
    },
    {
     "data": {
      "application/vnd.jupyter.widget-view+json": {
       "model_id": "d406d157054b48d0a7f32c1705ea4ffe",
       "version_major": 2,
       "version_minor": 0
      },
      "text/plain": [
       "Shuffling Pauli and qubits order (disconnected):   0%|          | 0/100 [00:00<?, ?it/s]"
      ]
     },
     "metadata": {},
     "output_type": "display_data"
    },
    {
     "data": {
      "application/vnd.jupyter.widget-view+json": {
       "model_id": "c75d6f63620548a6b2c79a7e99976fdc",
       "version_major": 2,
       "version_minor": 0
      },
      "text/plain": [
       "Shuffling Pauli and qubits order (connected):   0%|          | 0/100 [00:00<?, ?it/s]"
      ]
     },
     "metadata": {},
     "output_type": "display_data"
    }
   ],
   "source": [
    "data = compare_algorithms(qubit_op, 'test', n_reps=100)"
   ]
  },
  {
   "cell_type": "code",
   "execution_count": 15,
   "id": "751001ee-3dcb-49dd-9873-1e593dbc304e",
   "metadata": {
    "execution": {
     "iopub.execute_input": "2022-07-07T14:05:49.686200Z",
     "iopub.status.busy": "2022-07-07T14:05:49.685927Z",
     "iopub.status.idle": "2022-07-07T14:05:49.841271Z",
     "shell.execute_reply": "2022-07-07T14:05:49.840823Z",
     "shell.execute_reply.started": "2022-07-07T14:05:49.686142Z"
    },
    "tags": []
   },
   "outputs": [
    {
     "data": {
      "text/plain": [
       "<matplotlib.legend.Legend at 0x7f69cc330fd0>"
      ]
     },
     "execution_count": 15,
     "metadata": {},
     "output_type": "execute_result"
    },
    {
     "data": {
      "image/png": "[encoded data removed]",
      "text/plain": [
       "<Figure size 720x360 with 1 Axes>"
      ]
     },
     "metadata": {
      "needs_background": "light"
     },
     "output_type": "display_data"
    }
   ],
   "source": [
    "labels = ['naive', 'disconnected', 'connected']\n",
    "colors = ['C0', 'C1', 'C2']\n",
    "\n",
    "fig, ax = plt.subplots(figsize=(10, 5))\n",
    "\n",
    "w_spacing = 0.02  # Spacing between bar of equal n_qubits\n",
    "w_spacing_big = 0.1  # Spacing between bars of different n_qubits\n",
    "w_bar = (1 - 2 * w_spacing_big - 2 * w_spacing) / 3\n",
    "delta = 1 / 2 - w_spacing_big - w_bar / 2\n",
    "\n",
    "x_pos_mean = []\n",
    "y_pos_mean = []\n",
    "color_mean = []\n",
    "labels_legend = []\n",
    "\n",
    "j = 0\n",
    "for (i, label) in enumerate(labels):\n",
    "    data_plot = data[label]['n_groups']\n",
    "    violin_parts = ax.violinplot(data_plot, showextrema=False, positions=[j + delta * (i - 1)], widths=w_bar,\n",
    "                                 points=min(1e6, int(np.max(data_plot) - np.min(data_plot)) + 1))\n",
    "\n",
    "    for pc in violin_parts['bodies']:\n",
    "        pc.set_facecolor(colors[i])\n",
    "        pc.set_edgecolor(colors[i])\n",
    "        pc.set_alpha(0.4)\n",
    "\n",
    "    x_pos_mean.append(j + delta * (i - 1))\n",
    "    y_pos_mean.append(np.median(data_plot))\n",
    "    color_mean.append(colors[i])\n",
    "\n",
    "    color = violin_parts[\"bodies\"][0].get_facecolor().flatten()\n",
    "    labels_legend.append((mpatches.Patch(color=color), label.replace('_', ' ')))\n",
    "\n",
    "\n",
    "ax.scatter(x_pos_mean, y_pos_mean, marker='o', c=color_mean, s=40, zorder=3, alpha=0.9, edgecolors='k')\n",
    "\n",
    "# ax.set_xticks(range(0, len(n_qubits.keys())))\n",
    "# ax.set_xticklabels(ticks_labels)\n",
    "# ax.set_xlabel('molecule')\n",
    "ax.set_ylabel('groups')\n",
    "# ax.set_ylim(0, None)\n",
    "\n",
    "ax.yaxis.grid(zorder=0, alpha=0.4)\n",
    "ax.legend(*zip(*labels_legend), bbox_to_anchor=(0.75, 0.95))\n",
    "\n",
    "# axins = inset_axes(ax, width=\"100%\", height=\"100%\",\n",
    "#                    bbox_to_anchor=(0.07, .45, .5, .5),\n",
    "#                    bbox_transform=ax.transAxes)\n",
    "\n",
    "\n",
    "# for (i, label) in enumerate(labels):\n",
    "#     data_plot_x = []\n",
    "#     data_plot_y = []\n",
    "\n",
    "#     data_plot_y.append(np.average(data[label]['time']))\n",
    "#     data_plot_x.append(0)\n",
    "\n",
    "#     axins.plot(data_plot_x, data_plot_y, c=colors[i], marker='.')\n",
    "        \n",
    "# axins.set_ylabel('average time (s)')\n",
    "\n",
    "# axins.set_xticks(list(n_qubits.values()))\n",
    "# axins.set_xticklabels(ticks_labels);"
   ]
  },
  {
   "cell_type": "code",
   "execution_count": null,
   "id": "b19e83b6-7f94-4f0c-a4a8-e2e3123aa354",
   "metadata": {},
   "outputs": [],
   "source": []
  }
 ],
 "metadata": {
  "kernelspec": {
   "display_name": "Python 3 (ipykernel)",
   "language": "python",
   "name": "python3"
  },
  "language_info": {
   "codemirror_mode": {
    "name": "ipython",
    "version": 3
   },
   "file_extension": ".py",
   "mimetype": "text/x-python",
   "name": "python",
   "nbconvert_exporter": "python",
   "pygments_lexer": "ipython3",
   "version": "3.9.13"
  }
 },
 "nbformat": 4,
 "nbformat_minor": 5
}
