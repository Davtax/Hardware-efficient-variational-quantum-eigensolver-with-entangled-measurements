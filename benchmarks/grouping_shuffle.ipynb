{
 "cells": [
  {
   "cell_type": "code",
   "execution_count": 1,
   "id": "2c684021-0890-4f42-b64d-29689eece726",
   "metadata": {
    "execution": {
     "iopub.execute_input": "2023-05-09T14:10:21.381349Z",
     "iopub.status.busy": "2023-05-09T14:10:21.381065Z",
     "iopub.status.idle": "2023-05-09T14:10:21.385591Z",
     "shell.execute_reply": "2023-05-09T14:10:21.385138Z",
     "shell.execute_reply.started": "2023-05-09T14:10:21.381334Z"
    },
    "tags": []
   },
   "outputs": [],
   "source": [
    "import sys\n",
    "sys.path.append('../')"
   ]
  },
  {
   "cell_type": "code",
   "execution_count": 2,
   "id": "bf5d69da-bdaf-4c0e-a883-e73954cd5c21",
   "metadata": {
    "execution": {
     "iopub.execute_input": "2023-05-09T14:10:21.722082Z",
     "iopub.status.busy": "2023-05-09T14:10:21.721678Z",
     "iopub.status.idle": "2023-05-09T14:10:22.346901Z",
     "shell.execute_reply": "2023-05-09T14:10:22.346410Z",
     "shell.execute_reply.started": "2023-05-09T14:10:21.722068Z"
    },
    "tags": []
   },
   "outputs": [],
   "source": [
    "import numpy as np\n",
    "from tqdm.auto import tqdm\n",
    "from joblib import delayed, Parallel\n",
    "from os import remove\n",
    "from qiskit.test.mock import FakeMontreal\n",
    "\n",
    "from grouping import Grouping\n",
    "from utils import tqdm_joblib, random_labels"
   ]
  },
  {
   "cell_type": "code",
   "execution_count": 3,
   "id": "dc7146df-dce8-4538-b70d-e112b647df3a",
   "metadata": {
    "execution": {
     "iopub.execute_input": "2023-05-09T14:10:22.348048Z",
     "iopub.status.busy": "2023-05-09T14:10:22.347718Z",
     "iopub.status.idle": "2023-05-09T14:10:22.351542Z",
     "shell.execute_reply": "2023-05-09T14:10:22.351085Z",
     "shell.execute_reply.started": "2023-05-09T14:10:22.348036Z"
    },
    "tags": []
   },
   "outputs": [],
   "source": [
    "n = 50  # Number of strings\n",
    "N = 15  # Number of qubits\n",
    "labels = random_labels(n, N)"
   ]
  },
  {
   "cell_type": "code",
   "execution_count": 4,
   "id": "774ed950-2755-4222-a602-bfa4f6205e14",
   "metadata": {
    "execution": {
     "iopub.execute_input": "2023-05-09T14:10:28.229795Z",
     "iopub.status.busy": "2023-05-09T14:10:28.229470Z",
     "iopub.status.idle": "2023-05-09T14:10:28.234261Z",
     "shell.execute_reply": "2023-05-09T14:10:28.233737Z",
     "shell.execute_reply.started": "2023-05-09T14:10:28.229778Z"
    },
    "tags": []
   },
   "outputs": [],
   "source": [
    "def n_groups(file_name):\n",
    "    groups = Grouping(load=file_name)\n",
    "    \n",
    "    groups._shuffle_labels()\n",
    "    groups._shuffle_qubits()\n",
    "    \n",
    "    groups.group()\n",
    "    \n",
    "    return groups.n_groups, groups.grouping_time\n",
    "\n",
    "def parallel_shuffling(labels, transpiled_order, connected_graph, name_algoritm, n_reps=100):\n",
    "    file_name_temp = 'tmp_grouping'\n",
    "    grouping = Grouping(labels, WC_device, print_progress=False, transpiled_order=transpiled_order,\n",
    "                                connected_graph=connected_graph, tests=None, method='HEEM')\n",
    "    grouping.save_data(file_name_temp)\n",
    "\n",
    "    pbar = tqdm(range(n_reps), desc='Shuffling Pauli and qubits order ({})'.format(name_algoritm))\n",
    "    with tqdm_joblib(pbar) as _:\n",
    "        results = Parallel(n_jobs=-1)(delayed(n_groups)(file_name_temp) for _ in range(n_reps))\n",
    "    \n",
    "    remove(file_name_temp + '.pickle')\n",
    "    \n",
    "    n_groups_list = [result[0] for result in results]\n",
    "    time = [result[1] for result in results]\n",
    "    \n",
    "    data = {'n_groups': n_groups_list, 'time': time}    \n",
    "    return data"
   ]
  },
  {
   "cell_type": "code",
   "execution_count": 5,
   "id": "968e57e6-d537-4383-8c2c-9d4a8c499537",
   "metadata": {
    "execution": {
     "iopub.execute_input": "2023-05-09T14:10:30.371243Z",
     "iopub.status.busy": "2023-05-09T14:10:30.370970Z",
     "iopub.status.idle": "2023-05-09T14:10:30.423770Z",
     "shell.execute_reply": "2023-05-09T14:10:30.423325Z",
     "shell.execute_reply.started": "2023-05-09T14:10:30.371222Z"
    },
    "tags": []
   },
   "outputs": [],
   "source": [
    "backend = FakeMontreal()\n",
    "WC_device = backend.configuration().coupling_map\n",
    "WC_device = [tuple(x) for x in WC_device]"
   ]
  },
  {
   "cell_type": "code",
   "execution_count": 6,
   "id": "c3ce264b-fa28-402a-9761-e3786692c267",
   "metadata": {
    "execution": {
     "iopub.execute_input": "2023-05-09T14:10:32.161544Z",
     "iopub.status.busy": "2023-05-09T14:10:32.161065Z",
     "iopub.status.idle": "2023-05-09T14:10:32.164765Z",
     "shell.execute_reply": "2023-05-09T14:10:32.164221Z",
     "shell.execute_reply.started": "2023-05-09T14:10:32.161529Z"
    },
    "tags": []
   },
   "outputs": [],
   "source": [
    "def compare_algorithms(labels, n_reps=100):\n",
    "    data = {}\n",
    "    \n",
    "    # Naive\n",
    "    data['naive'] = parallel_shuffling(labels, transpiled_order=False, connected_graph=None, name_algoritm='naive', n_reps=n_reps)\n",
    "    \n",
    "    # Disconnected\n",
    "    data['disconnected'] = parallel_shuffling(labels, transpiled_order=True, connected_graph=False, name_algoritm='disconnected', n_reps=n_reps)\n",
    "    \n",
    "    # Connected\n",
    "    data['connected'] = parallel_shuffling(labels, transpiled_order=True, connected_graph=True, name_algoritm='connected', n_reps=n_reps)\n",
    "    \n",
    "    return data"
   ]
  },
  {
   "cell_type": "code",
   "execution_count": 8,
   "id": "e7da1dde-be8c-48d0-b1d2-d0449b40bb87",
   "metadata": {
    "execution": {
     "iopub.execute_input": "2023-05-09T14:10:38.131258Z",
     "iopub.status.busy": "2023-05-09T14:10:38.130740Z",
     "iopub.status.idle": "2023-05-09T14:14:06.557590Z",
     "shell.execute_reply": "2023-05-09T14:14:06.557078Z",
     "shell.execute_reply.started": "2023-05-09T14:10:38.131240Z"
    },
    "tags": []
   },
   "outputs": [
    {
     "data": {
      "application/vnd.jupyter.widget-view+json": {
       "model_id": "83601e1d516848248ca7a17b49d69690",
       "version_major": 2,
       "version_minor": 0
      },
      "text/plain": [
       "Shuffling Pauli and qubits order (naive):   0%|          | 0/2000 [00:00<?, ?it/s]"
      ]
     },
     "metadata": {},
     "output_type": "display_data"
    },
    {
     "data": {
      "application/vnd.jupyter.widget-view+json": {
       "model_id": "f3e22978ce9d4632a71c5a0ac81b6092",
       "version_major": 2,
       "version_minor": 0
      },
      "text/plain": [
       "Shuffling Pauli and qubits order (disconnected):   0%|          | 0/2000 [00:00<?, ?it/s]"
      ]
     },
     "metadata": {},
     "output_type": "display_data"
    },
    {
     "data": {
      "application/vnd.jupyter.widget-view+json": {
       "model_id": "9a445609f96a4d6ebbe70c1ecfcf055b",
       "version_major": 2,
       "version_minor": 0
      },
      "text/plain": [
       "Shuffling Pauli and qubits order (connected):   0%|          | 0/2000 [00:00<?, ?it/s]"
      ]
     },
     "metadata": {},
     "output_type": "display_data"
    }
   ],
   "source": [
    "data = compare_algorithms(labels, n_reps=2000)"
   ]
  },
  {
   "cell_type": "code",
   "execution_count": 14,
   "id": "3c6286c5-ef6b-4002-ae9d-f3d9983eb709",
   "metadata": {
    "execution": {
     "iopub.execute_input": "2023-05-09T14:16:07.204065Z",
     "iopub.status.busy": "2023-05-09T14:16:07.203738Z",
     "iopub.status.idle": "2023-05-09T14:16:07.207941Z",
     "shell.execute_reply": "2023-05-09T14:16:07.207355Z",
     "shell.execute_reply.started": "2023-05-09T14:16:07.204049Z"
    },
    "tags": []
   },
   "outputs": [
    {
     "name": "stdout",
     "output_type": "stream",
     "text": [
      "37.0 37.0 35.0\n"
     ]
    }
   ],
   "source": [
    "print(np.median(data['naive']['n_groups']), np.median(data['disconnected']['n_groups']), np.median(data['connected']['n_groups']))"
   ]
  }
 ],
 "metadata": {
  "kernelspec": {
   "display_name": "Python 3 (ipykernel)",
   "language": "python",
   "name": "python3"
  },
  "language_info": {
   "codemirror_mode": {
    "name": "ipython",
    "version": 3
   },
   "file_extension": ".py",
   "mimetype": "text/x-python",
   "name": "python",
   "nbconvert_exporter": "python",
   "pygments_lexer": "ipython3",
   "version": "3.9.16"
  }
 },
 "nbformat": 4,
 "nbformat_minor": 5
}
