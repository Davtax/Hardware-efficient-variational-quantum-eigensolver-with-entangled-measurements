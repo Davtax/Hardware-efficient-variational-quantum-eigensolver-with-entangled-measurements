{
 "cells": [
  {
   "cell_type": "code",
   "execution_count": 1,
   "id": "8b144311-2e80-4e09-bc3e-90b3a1fd76f0",
   "metadata": {
    "execution": {
     "iopub.execute_input": "2022-07-05T13:13:00.938876Z",
     "iopub.status.busy": "2022-07-05T13:13:00.937758Z",
     "iopub.status.idle": "2022-07-05T13:13:01.527418Z",
     "shell.execute_reply": "2022-07-05T13:13:01.527040Z",
     "shell.execute_reply.started": "2022-07-05T13:13:00.938485Z"
    },
    "tags": []
   },
   "outputs": [],
   "source": [
    "import sys\n",
    "sys.path.append('../')\n",
    "\n",
    "%load_ext autoreload\n",
    "%autoreload 1\n",
    "%aimport grouping"
   ]
  },
  {
   "cell_type": "code",
   "execution_count": 2,
   "id": "8b6d8b22-cf36-4538-8274-eef117d77e35",
   "metadata": {
    "execution": {
     "iopub.execute_input": "2022-07-05T13:13:01.528326Z",
     "iopub.status.busy": "2022-07-05T13:13:01.528100Z",
     "iopub.status.idle": "2022-07-05T13:13:01.545504Z",
     "shell.execute_reply": "2022-07-05T13:13:01.545095Z",
     "shell.execute_reply.started": "2022-07-05T13:13:01.528313Z"
    },
    "tags": []
   },
   "outputs": [],
   "source": [
    "import numpy as np\n",
    "from qiskit.test.mock import FakeMontreal\n",
    "\n",
    "from grouping import Grouping, build_pauli_graph"
   ]
  },
  {
   "cell_type": "code",
   "execution_count": 3,
   "id": "d9af07ca-ad2a-4ac0-9d35-7c12a19fa473",
   "metadata": {
    "execution": {
     "iopub.execute_input": "2022-07-05T13:13:01.600083Z",
     "iopub.status.busy": "2022-07-05T13:13:01.599686Z",
     "iopub.status.idle": "2022-07-05T13:13:01.603358Z",
     "shell.execute_reply": "2022-07-05T13:13:01.602965Z",
     "shell.execute_reply.started": "2022-07-05T13:13:01.600065Z"
    },
    "tags": []
   },
   "outputs": [],
   "source": [
    "#TODO: use molecule when available\n",
    "def random_labels(n, N):\n",
    "    labels = []\n",
    "    for i in range(n):\n",
    "        labels.append(np.random.randint(4, size=N))\n",
    "    return np.array(labels)"
   ]
  },
  {
   "cell_type": "code",
   "execution_count": 15,
   "id": "8dfca92e-7e33-4ac8-81e7-756bb3d1f0c5",
   "metadata": {
    "execution": {
     "iopub.execute_input": "2022-07-05T13:16:55.118042Z",
     "iopub.status.busy": "2022-07-05T13:16:55.117845Z",
     "iopub.status.idle": "2022-07-05T13:16:57.301110Z",
     "shell.execute_reply": "2022-07-05T13:16:57.300654Z",
     "shell.execute_reply.started": "2022-07-05T13:16:55.118027Z"
    },
    "tags": []
   },
   "outputs": [
    {
     "data": {
      "application/vnd.jupyter.widget-view+json": {
       "model_id": "5ec7f96f70744b77a7a94dd692684b52",
       "version_major": 2,
       "version_minor": 0
      },
      "text/plain": [
       "Pauli graph:   0%|          | 0/500 [00:00<?, ?it/s]"
      ]
     },
     "metadata": {},
     "output_type": "display_data"
    }
   ],
   "source": [
    "backend = FakeMontreal()\n",
    "WC_device = backend.configuration().coupling_map\n",
    "WC_device = [tuple(x) for x in WC_device]\n",
    "\n",
    "n = 500\n",
    "N = 10\n",
    "\n",
    "labels = random_labels(n, N)\n",
    "pauli_graph = build_pauli_graph(labels, print_progress=True)"
   ]
  },
  {
   "cell_type": "markdown",
   "id": "2f9b86fa-74ce-46b8-a112-f14fb115b993",
   "metadata": {},
   "source": [
    "# TPB"
   ]
  },
  {
   "cell_type": "code",
   "execution_count": 11,
   "id": "caa4e56c-616d-4346-89f9-7e3d4fc2eb88",
   "metadata": {
    "execution": {
     "iopub.execute_input": "2022-07-05T13:15:14.531496Z",
     "iopub.status.busy": "2022-07-05T13:15:14.531258Z",
     "iopub.status.idle": "2022-07-05T13:15:14.605398Z",
     "shell.execute_reply": "2022-07-05T13:15:14.604922Z",
     "shell.execute_reply.started": "2022-07-05T13:15:14.531482Z"
    },
    "tags": []
   },
   "outputs": [
    {
     "name": "stdout",
     "output_type": "stream",
     "text": [
      "334\n"
     ]
    }
   ],
   "source": [
    "grouping_TPB = Grouping(labels, print_progress=True, method='TPB', pauli_graph=pauli_graph)\n",
    "grouping_TPB.group()\n",
    "print(grouping_TPB.n_groups)"
   ]
  },
  {
   "cell_type": "markdown",
   "id": "6292b4e6-0ba1-471f-8601-ae7bfa4273f5",
   "metadata": {},
   "source": [
    "# EM"
   ]
  },
  {
   "cell_type": "code",
   "execution_count": 12,
   "id": "720b14eb-97d9-4ec4-8c55-c2d07cdccef5",
   "metadata": {
    "execution": {
     "iopub.execute_input": "2022-07-05T13:15:16.942193Z",
     "iopub.status.busy": "2022-07-05T13:15:16.941892Z",
     "iopub.status.idle": "2022-07-05T13:15:17.600690Z",
     "shell.execute_reply": "2022-07-05T13:15:17.600171Z",
     "shell.execute_reply.started": "2022-07-05T13:15:16.942178Z"
    },
    "tags": []
   },
   "outputs": [
    {
     "data": {
      "application/vnd.jupyter.widget-view+json": {
       "model_id": "413d4857c58a4728a468480523664a3c",
       "version_major": 2,
       "version_minor": 0
      },
      "text/plain": [
       "Grouping entangled:   0%|          | 0/500 [00:00<?, ?it/s]"
      ]
     },
     "metadata": {},
     "output_type": "display_data"
    },
    {
     "name": "stdout",
     "output_type": "stream",
     "text": [
      "192\n"
     ]
    },
    {
     "ename": "TypeError",
     "evalue": "measure_circuit_factor() got an unexpected keyword argument 'make_measurements'",
     "output_type": "error",
     "traceback": [
      "\u001b[0;31m---------------------------------------------------------------------------\u001b[0m",
      "\u001b[0;31mTypeError\u001b[0m                                 Traceback (most recent call last)",
      "Input \u001b[0;32mIn [12]\u001b[0m, in \u001b[0;36m<cell line: 4>\u001b[0;34m()\u001b[0m\n\u001b[1;32m      2\u001b[0m grouping_EM\u001b[38;5;241m.\u001b[39mgroup()\n\u001b[1;32m      3\u001b[0m \u001b[38;5;28mprint\u001b[39m(grouping_EM\u001b[38;5;241m.\u001b[39mn_groups)\n\u001b[0;32m----> 4\u001b[0m \u001b[38;5;28mprint\u001b[39m(\u001b[43mgrouping_EM\u001b[49m\u001b[38;5;241;43m.\u001b[39;49m\u001b[43mn_cnots\u001b[49m\u001b[43m(\u001b[49m\u001b[43mWC_device\u001b[49m\u001b[43m)\u001b[49m)\n",
      "File \u001b[0;32m/mnt/c/Users/david/OneDrive - UAM/Projects/HEEM/HEEM/benchmarks/../grouping.py:1001\u001b[0m, in \u001b[0;36mGrouping.n_cnots\u001b[0;34m(self, coupling_map)\u001b[0m\n\u001b[1;32m    998\u001b[0m \u001b[38;5;28;01mdef\u001b[39;00m \u001b[38;5;21mn_cnots\u001b[39m(\u001b[38;5;28mself\u001b[39m, coupling_map: List[List[\u001b[38;5;28mint\u001b[39m]]):\n\u001b[1;32m    999\u001b[0m     \u001b[38;5;28;01mfrom\u001b[39;00m \u001b[38;5;21;01mheem\u001b[39;00m \u001b[38;5;28;01mimport\u001b[39;00m measure_circuit_factor\n\u001b[0;32m-> 1001\u001b[0m     circuits \u001b[38;5;241m=\u001b[39m [measure_circuit_factor(measure, \u001b[38;5;28mself\u001b[39m\u001b[38;5;241m.\u001b[39m_n_qubits, make_measurements\u001b[38;5;241m=\u001b[39m\u001b[38;5;28;01mFalse\u001b[39;00m) \u001b[38;5;28;01mfor\u001b[39;00m measure \u001b[38;5;129;01min\u001b[39;00m\n\u001b[1;32m   1002\u001b[0m                 \u001b[38;5;28mself\u001b[39m\u001b[38;5;241m.\u001b[39mmeasurements]\n\u001b[1;32m   1003\u001b[0m     circuits_transpiled \u001b[38;5;241m=\u001b[39m transpile_qiskit(circuits, coupling_map\u001b[38;5;241m=\u001b[39mcoupling_map, initial_layout\u001b[38;5;241m=\u001b[39m\u001b[38;5;28mself\u001b[39m\u001b[38;5;241m.\u001b[39mT[::\u001b[38;5;241m-\u001b[39m\u001b[38;5;241m1\u001b[39m])\n\u001b[1;32m   1005\u001b[0m     n_cnots \u001b[38;5;241m=\u001b[39m \u001b[38;5;241m0\u001b[39m\n",
      "File \u001b[0;32m/mnt/c/Users/david/OneDrive - UAM/Projects/HEEM/HEEM/benchmarks/../grouping.py:1001\u001b[0m, in \u001b[0;36m<listcomp>\u001b[0;34m(.0)\u001b[0m\n\u001b[1;32m    998\u001b[0m \u001b[38;5;28;01mdef\u001b[39;00m \u001b[38;5;21mn_cnots\u001b[39m(\u001b[38;5;28mself\u001b[39m, coupling_map: List[List[\u001b[38;5;28mint\u001b[39m]]):\n\u001b[1;32m    999\u001b[0m     \u001b[38;5;28;01mfrom\u001b[39;00m \u001b[38;5;21;01mheem\u001b[39;00m \u001b[38;5;28;01mimport\u001b[39;00m measure_circuit_factor\n\u001b[0;32m-> 1001\u001b[0m     circuits \u001b[38;5;241m=\u001b[39m [\u001b[43mmeasure_circuit_factor\u001b[49m\u001b[43m(\u001b[49m\u001b[43mmeasure\u001b[49m\u001b[43m,\u001b[49m\u001b[43m \u001b[49m\u001b[38;5;28;43mself\u001b[39;49m\u001b[38;5;241;43m.\u001b[39;49m\u001b[43m_n_qubits\u001b[49m\u001b[43m,\u001b[49m\u001b[43m \u001b[49m\u001b[43mmake_measurements\u001b[49m\u001b[38;5;241;43m=\u001b[39;49m\u001b[38;5;28;43;01mFalse\u001b[39;49;00m\u001b[43m)\u001b[49m \u001b[38;5;28;01mfor\u001b[39;00m measure \u001b[38;5;129;01min\u001b[39;00m\n\u001b[1;32m   1002\u001b[0m                 \u001b[38;5;28mself\u001b[39m\u001b[38;5;241m.\u001b[39mmeasurements]\n\u001b[1;32m   1003\u001b[0m     circuits_transpiled \u001b[38;5;241m=\u001b[39m transpile_qiskit(circuits, coupling_map\u001b[38;5;241m=\u001b[39mcoupling_map, initial_layout\u001b[38;5;241m=\u001b[39m\u001b[38;5;28mself\u001b[39m\u001b[38;5;241m.\u001b[39mT[::\u001b[38;5;241m-\u001b[39m\u001b[38;5;241m1\u001b[39m])\n\u001b[1;32m   1005\u001b[0m     n_cnots \u001b[38;5;241m=\u001b[39m \u001b[38;5;241m0\u001b[39m\n",
      "\u001b[0;31mTypeError\u001b[0m: measure_circuit_factor() got an unexpected keyword argument 'make_measurements'"
     ]
    }
   ],
   "source": [
    "grouping_EM = Grouping(labels, print_progress=True, method='EM', pauli_graph=pauli_graph)\n",
    "grouping_EM.group()\n",
    "print(grouping_EM.n_groups)\n",
    "print(grouping_EM.n_cnots(WC_device))"
   ]
  },
  {
   "cell_type": "markdown",
   "id": "f323ec2b-f86b-4652-b0b6-efbe5adadcc1",
   "metadata": {},
   "source": [
    "# HEEM"
   ]
  },
  {
   "cell_type": "code",
   "execution_count": 16,
   "id": "20fcf225-f2c8-4707-8064-21793b7ea06f",
   "metadata": {
    "execution": {
     "iopub.execute_input": "2022-07-05T13:16:57.962031Z",
     "iopub.status.busy": "2022-07-05T13:16:57.961746Z",
     "iopub.status.idle": "2022-07-05T13:16:59.981208Z",
     "shell.execute_reply": "2022-07-05T13:16:59.980598Z",
     "shell.execute_reply.started": "2022-07-05T13:16:57.962017Z"
    },
    "tags": []
   },
   "outputs": [
    {
     "data": {
      "application/vnd.jupyter.widget-view+json": {
       "model_id": "88207aaf0aad4c18817f98063489ea7b",
       "version_major": 2,
       "version_minor": 0
      },
      "text/plain": [
       "Grouping entangled:   0%|          | 0/500 [00:00<?, ?it/s]"
      ]
     },
     "metadata": {},
     "output_type": "display_data"
    },
    {
     "name": "stdout",
     "output_type": "stream",
     "text": [
      "209\n"
     ]
    },
    {
     "ename": "TypeError",
     "evalue": "measure_circuit_factor() got an unexpected keyword argument 'make_measurements'",
     "output_type": "error",
     "traceback": [
      "\u001b[0;31m---------------------------------------------------------------------------\u001b[0m",
      "\u001b[0;31mTypeError\u001b[0m                                 Traceback (most recent call last)",
      "Input \u001b[0;32mIn [16]\u001b[0m, in \u001b[0;36m<cell line: 5>\u001b[0;34m()\u001b[0m\n\u001b[1;32m      3\u001b[0m grouping_HEEM\u001b[38;5;241m.\u001b[39mgroup()\n\u001b[1;32m      4\u001b[0m \u001b[38;5;28mprint\u001b[39m(grouping_HEEM\u001b[38;5;241m.\u001b[39mn_groups)\n\u001b[0;32m----> 5\u001b[0m \u001b[38;5;28mprint\u001b[39m(\u001b[43mgrouping_HEEM\u001b[49m\u001b[38;5;241;43m.\u001b[39;49m\u001b[43mn_cnots\u001b[49m\u001b[43m(\u001b[49m\u001b[43mWC_device\u001b[49m\u001b[43m)\u001b[49m)\n",
      "File \u001b[0;32m/mnt/c/Users/david/OneDrive - UAM/Projects/HEEM/HEEM/benchmarks/../grouping.py:1002\u001b[0m, in \u001b[0;36mGrouping.n_cnots\u001b[0;34m(self, coupling_map)\u001b[0m\n\u001b[1;32m    999\u001b[0m \u001b[38;5;28;01mdef\u001b[39;00m \u001b[38;5;21mn_cnots\u001b[39m(\u001b[38;5;28mself\u001b[39m, coupling_map: List[List[\u001b[38;5;28mint\u001b[39m]]):\n\u001b[1;32m   1000\u001b[0m     \u001b[38;5;28;01mfrom\u001b[39;00m \u001b[38;5;21;01mheem\u001b[39;00m \u001b[38;5;28;01mimport\u001b[39;00m measure_circuit_factor\n\u001b[0;32m-> 1002\u001b[0m     circuits \u001b[38;5;241m=\u001b[39m [measure_circuit_factor(measure, \u001b[38;5;28mself\u001b[39m\u001b[38;5;241m.\u001b[39m_n_qubits, make_measurements\u001b[38;5;241m=\u001b[39m\u001b[38;5;28;01mFalse\u001b[39;00m) \u001b[38;5;28;01mfor\u001b[39;00m measure \u001b[38;5;129;01min\u001b[39;00m\n\u001b[1;32m   1003\u001b[0m                 \u001b[38;5;28mself\u001b[39m\u001b[38;5;241m.\u001b[39mmeasurements]\n\u001b[1;32m   1004\u001b[0m     circuits_transpiled \u001b[38;5;241m=\u001b[39m transpile_qiskit(circuits, coupling_map\u001b[38;5;241m=\u001b[39mcoupling_map, initial_layout\u001b[38;5;241m=\u001b[39m\u001b[38;5;28mself\u001b[39m\u001b[38;5;241m.\u001b[39mT[::\u001b[38;5;241m-\u001b[39m\u001b[38;5;241m1\u001b[39m])\n\u001b[1;32m   1006\u001b[0m     n_cnots \u001b[38;5;241m=\u001b[39m \u001b[38;5;241m0\u001b[39m\n",
      "File \u001b[0;32m/mnt/c/Users/david/OneDrive - UAM/Projects/HEEM/HEEM/benchmarks/../grouping.py:1002\u001b[0m, in \u001b[0;36m<listcomp>\u001b[0;34m(.0)\u001b[0m\n\u001b[1;32m    999\u001b[0m \u001b[38;5;28;01mdef\u001b[39;00m \u001b[38;5;21mn_cnots\u001b[39m(\u001b[38;5;28mself\u001b[39m, coupling_map: List[List[\u001b[38;5;28mint\u001b[39m]]):\n\u001b[1;32m   1000\u001b[0m     \u001b[38;5;28;01mfrom\u001b[39;00m \u001b[38;5;21;01mheem\u001b[39;00m \u001b[38;5;28;01mimport\u001b[39;00m measure_circuit_factor\n\u001b[0;32m-> 1002\u001b[0m     circuits \u001b[38;5;241m=\u001b[39m [\u001b[43mmeasure_circuit_factor\u001b[49m\u001b[43m(\u001b[49m\u001b[43mmeasure\u001b[49m\u001b[43m,\u001b[49m\u001b[43m \u001b[49m\u001b[38;5;28;43mself\u001b[39;49m\u001b[38;5;241;43m.\u001b[39;49m\u001b[43m_n_qubits\u001b[49m\u001b[43m,\u001b[49m\u001b[43m \u001b[49m\u001b[43mmake_measurements\u001b[49m\u001b[38;5;241;43m=\u001b[39;49m\u001b[38;5;28;43;01mFalse\u001b[39;49;00m\u001b[43m)\u001b[49m \u001b[38;5;28;01mfor\u001b[39;00m measure \u001b[38;5;129;01min\u001b[39;00m\n\u001b[1;32m   1003\u001b[0m                 \u001b[38;5;28mself\u001b[39m\u001b[38;5;241m.\u001b[39mmeasurements]\n\u001b[1;32m   1004\u001b[0m     circuits_transpiled \u001b[38;5;241m=\u001b[39m transpile_qiskit(circuits, coupling_map\u001b[38;5;241m=\u001b[39mcoupling_map, initial_layout\u001b[38;5;241m=\u001b[39m\u001b[38;5;28mself\u001b[39m\u001b[38;5;241m.\u001b[39mT[::\u001b[38;5;241m-\u001b[39m\u001b[38;5;241m1\u001b[39m])\n\u001b[1;32m   1006\u001b[0m     n_cnots \u001b[38;5;241m=\u001b[39m \u001b[38;5;241m0\u001b[39m\n",
      "\u001b[0;31mTypeError\u001b[0m: measure_circuit_factor() got an unexpected keyword argument 'make_measurements'"
     ]
    }
   ],
   "source": [
    "grouping_HEEM = Grouping(labels, connectivity=WC_device, print_progress=True,\n",
    "                         method='HEEM', pauli_graph=pauli_graph)\n",
    "grouping_HEEM.group()\n",
    "print(grouping_HEEM.n_groups)\n",
    "print(grouping_HEEM.n_cnots(WC_device))"
   ]
  }
 ],
 "metadata": {
  "kernelspec": {
   "display_name": "Python 3 (ipykernel)",
   "language": "python",
   "name": "python3"
  },
  "language_info": {
   "codemirror_mode": {
    "name": "ipython",
    "version": 3
   },
   "file_extension": ".py",
   "mimetype": "text/x-python",
   "name": "python",
   "nbconvert_exporter": "python",
   "pygments_lexer": "ipython3",
   "version": "3.9.13"
  }
 },
 "nbformat": 4,
 "nbformat_minor": 5
}
