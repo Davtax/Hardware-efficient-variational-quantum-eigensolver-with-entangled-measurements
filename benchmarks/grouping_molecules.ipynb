{
 "cells": [
  {
   "cell_type": "code",
   "execution_count": 1,
   "id": "8b144311-2e80-4e09-bc3e-90b3a1fd76f0",
   "metadata": {
    "execution": {
     "iopub.execute_input": "2023-05-09T13:51:11.420567Z",
     "iopub.status.busy": "2023-05-09T13:51:11.420234Z",
     "iopub.status.idle": "2023-05-09T13:51:11.425234Z",
     "shell.execute_reply": "2023-05-09T13:51:11.424789Z",
     "shell.execute_reply.started": "2023-05-09T13:51:11.420553Z"
    },
    "tags": []
   },
   "outputs": [],
   "source": [
    "import sys\n",
    "\n",
    "sys.path.append('../')"
   ]
  },
  {
   "cell_type": "code",
   "execution_count": 2,
   "id": "8b6d8b22-cf36-4538-8274-eef117d77e35",
   "metadata": {
    "execution": {
     "iopub.execute_input": "2023-05-09T13:51:11.752367Z",
     "iopub.status.busy": "2023-05-09T13:51:11.752117Z",
     "iopub.status.idle": "2023-05-09T13:51:12.721516Z",
     "shell.execute_reply": "2023-05-09T13:51:12.721018Z",
     "shell.execute_reply.started": "2023-05-09T13:51:11.752346Z"
    },
    "tags": []
   },
   "outputs": [],
   "source": [
    "from qiskit.providers.fake_provider import FakeJakarta\n",
    "\n",
    "from grouping import Grouping, build_pauli_graph\n",
    "from molecules import compute_molecule\n",
    "from utils import random_labels"
   ]
  },
  {
   "cell_type": "code",
   "execution_count": 3,
   "id": "d9af07ca-ad2a-4ac0-9d35-7c12a19fa473",
   "metadata": {
    "execution": {
     "iopub.execute_input": "2023-05-09T13:51:12.722594Z",
     "iopub.status.busy": "2023-05-09T13:51:12.722239Z",
     "iopub.status.idle": "2023-05-09T13:51:13.278374Z",
     "shell.execute_reply": "2023-05-09T13:51:13.277898Z",
     "shell.execute_reply.started": "2023-05-09T13:51:12.722582Z"
    },
    "tags": []
   },
   "outputs": [],
   "source": [
    "molecule_name = 'LiH'\n",
    "qubit_op = compute_molecule(molecule_name)"
   ]
  },
  {
   "cell_type": "code",
   "execution_count": 13,
   "id": "8dfca92e-7e33-4ac8-81e7-756bb3d1f0c5",
   "metadata": {
    "execution": {
     "iopub.execute_input": "2023-05-09T13:52:11.900364Z",
     "iopub.status.busy": "2023-05-09T13:52:11.900052Z",
     "iopub.status.idle": "2023-05-09T13:52:11.910168Z",
     "shell.execute_reply": "2023-05-09T13:52:11.909725Z",
     "shell.execute_reply.started": "2023-05-09T13:52:11.900349Z"
    },
    "tags": []
   },
   "outputs": [
    {
     "name": "stdout",
     "output_type": "stream",
     "text": [
      "[[0 0 1 3]\n",
      " [1 2 0 2]\n",
      " [1 0 1 0]\n",
      " [0 2 1 0]\n",
      " [2 2 3 3]\n",
      " [0 2 1 1]]\n"
     ]
    },
    {
     "data": {
      "application/vnd.jupyter.widget-view+json": {
       "model_id": "aec8a847a1954478a5cb8c8b35935378",
       "version_major": 2,
       "version_minor": 0
      },
      "text/plain": [
       "Pauli graph:   0%|          | 0/6 [00:00<?, ?it/s]"
      ]
     },
     "metadata": {},
     "output_type": "display_data"
    }
   ],
   "source": [
    "backend = FakeJakarta()\n",
    "WC_device = backend.configuration().coupling_map\n",
    "WC_device = [tuple(x) for x in WC_device]\n",
    "\n",
    "n = 6\n",
    "N = 4\n",
    "\n",
    "labels = random_labels(n, N)\n",
    "print(labels)\n",
    "\n",
    "pauli_graph = build_pauli_graph(labels, print_progress=True)"
   ]
  },
  {
   "cell_type": "markdown",
   "id": "2f9b86fa-74ce-46b8-a112-f14fb115b993",
   "metadata": {
    "tags": []
   },
   "source": [
    "# TPB"
   ]
  },
  {
   "cell_type": "code",
   "execution_count": 6,
   "id": "caa4e56c-616d-4346-89f9-7e3d4fc2eb88",
   "metadata": {
    "execution": {
     "iopub.execute_input": "2023-05-09T13:51:18.619114Z",
     "iopub.status.busy": "2023-05-09T13:51:18.618745Z",
     "iopub.status.idle": "2023-05-09T13:51:18.622591Z",
     "shell.execute_reply": "2023-05-09T13:51:18.622080Z",
     "shell.execute_reply.started": "2023-05-09T13:51:18.619100Z"
    },
    "tags": []
   },
   "outputs": [
    {
     "name": "stdout",
     "output_type": "stream",
     "text": [
      "4\n"
     ]
    }
   ],
   "source": [
    "grouping_TPB = Grouping(labels, print_progress=True, method='TPB', pauli_graph=pauli_graph)\n",
    "grouping_TPB.group()\n",
    "print(grouping_TPB.n_groups)"
   ]
  },
  {
   "cell_type": "markdown",
   "id": "6292b4e6-0ba1-471f-8601-ae7bfa4273f5",
   "metadata": {
    "tags": []
   },
   "source": [
    "# EM"
   ]
  },
  {
   "cell_type": "code",
   "execution_count": 9,
   "id": "720b14eb-97d9-4ec4-8c55-c2d07cdccef5",
   "metadata": {
    "execution": {
     "iopub.execute_input": "2023-05-09T13:51:48.479878Z",
     "iopub.status.busy": "2023-05-09T13:51:48.479480Z",
     "iopub.status.idle": "2023-05-09T13:51:48.489509Z",
     "shell.execute_reply": "2023-05-09T13:51:48.489010Z",
     "shell.execute_reply.started": "2023-05-09T13:51:48.479864Z"
    },
    "tags": []
   },
   "outputs": [
    {
     "data": {
      "application/vnd.jupyter.widget-view+json": {
       "model_id": "fa24d2338aad4992b978851700003304",
       "version_major": 2,
       "version_minor": 0
      },
      "text/plain": [
       "Grouping entangled:   0%|          | 0/6 [00:00<?, ?it/s]"
      ]
     },
     "metadata": {},
     "output_type": "display_data"
    },
    {
     "name": "stdout",
     "output_type": "stream",
     "text": [
      "2\n"
     ]
    }
   ],
   "source": [
    "grouping_EM = Grouping(labels, print_progress=True, method='EM', pauli_graph=pauli_graph, transpiled_order=False)\n",
    "grouping_EM.group()\n",
    "print(grouping_EM.n_groups)"
   ]
  },
  {
   "cell_type": "markdown",
   "id": "f323ec2b-f86b-4652-b0b6-efbe5adadcc1",
   "metadata": {},
   "source": [
    "# HEEM"
   ]
  },
  {
   "cell_type": "code",
   "execution_count": 11,
   "id": "20fcf225-f2c8-4707-8064-21793b7ea06f",
   "metadata": {
    "execution": {
     "iopub.execute_input": "2023-05-09T13:51:53.043475Z",
     "iopub.status.busy": "2023-05-09T13:51:53.043136Z",
     "iopub.status.idle": "2023-05-09T13:51:53.054042Z",
     "shell.execute_reply": "2023-05-09T13:51:53.053464Z",
     "shell.execute_reply.started": "2023-05-09T13:51:53.043461Z"
    },
    "tags": []
   },
   "outputs": [
    {
     "data": {
      "application/vnd.jupyter.widget-view+json": {
       "model_id": "52cafe9215764c4bb5213c2bbd259312",
       "version_major": 2,
       "version_minor": 0
      },
      "text/plain": [
       "Grouping entangled:   0%|          | 0/6 [00:00<?, ?it/s]"
      ]
     },
     "metadata": {},
     "output_type": "display_data"
    },
    {
     "name": "stdout",
     "output_type": "stream",
     "text": [
      "3\n"
     ]
    }
   ],
   "source": [
    "grouping_HEEM = Grouping(labels, connectivity=WC_device, print_progress=True, method='HEEM', pauli_graph=pauli_graph,\n",
    "                         connected_graph=True)\n",
    "grouping_HEEM.group()\n",
    "print(grouping_HEEM.n_groups)"
   ]
  }
 ],
 "metadata": {
  "kernelspec": {
   "display_name": "Python 3 (ipykernel)",
   "language": "python",
   "name": "python3"
  },
  "language_info": {
   "codemirror_mode": {
    "name": "ipython",
    "version": 3
   },
   "file_extension": ".py",
   "mimetype": "text/x-python",
   "name": "python",
   "nbconvert_exporter": "python",
   "pygments_lexer": "ipython3",
   "version": "3.9.16"
  }
 },
 "nbformat": 4,
 "nbformat_minor": 5
}
