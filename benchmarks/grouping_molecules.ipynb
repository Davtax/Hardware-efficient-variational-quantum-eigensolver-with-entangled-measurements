{
 "cells": [
  {
   "cell_type": "code",
   "execution_count": 55,
   "id": "8b144311-2e80-4e09-bc3e-90b3a1fd76f0",
   "metadata": {
    "execution": {
     "iopub.execute_input": "2022-07-07T13:52:26.517954Z",
     "iopub.status.busy": "2022-07-07T13:52:26.517675Z",
     "iopub.status.idle": "2022-07-07T13:52:26.524109Z",
     "shell.execute_reply": "2022-07-07T13:52:26.523706Z",
     "shell.execute_reply.started": "2022-07-07T13:52:26.517941Z"
    },
    "tags": []
   },
   "outputs": [
    {
     "name": "stdout",
     "output_type": "stream",
     "text": [
      "The autoreload extension is already loaded. To reload it, use:\n",
      "  %reload_ext autoreload\n"
     ]
    }
   ],
   "source": [
    "import sys\n",
    "sys.path.append('../')\n",
    "\n",
    "%load_ext autoreload\n",
    "%autoreload 1\n",
    "%aimport grouping, molecules"
   ]
  },
  {
   "cell_type": "code",
   "execution_count": 56,
   "id": "8b6d8b22-cf36-4538-8274-eef117d77e35",
   "metadata": {
    "execution": {
     "iopub.execute_input": "2022-07-07T13:52:26.788787Z",
     "iopub.status.busy": "2022-07-07T13:52:26.788539Z",
     "iopub.status.idle": "2022-07-07T13:52:26.803852Z",
     "shell.execute_reply": "2022-07-07T13:52:26.803355Z",
     "shell.execute_reply.started": "2022-07-07T13:52:26.788770Z"
    },
    "tags": []
   },
   "outputs": [],
   "source": [
    "import numpy as np\n",
    "from qiskit.test.mock import FakeMontreal\n",
    "\n",
    "from grouping import Grouping, build_pauli_graph\n",
    "from molecules import compute_molecule"
   ]
  },
  {
   "cell_type": "code",
   "execution_count": 71,
   "id": "d9af07ca-ad2a-4ac0-9d35-7c12a19fa473",
   "metadata": {
    "execution": {
     "iopub.execute_input": "2022-07-07T14:01:18.177800Z",
     "iopub.status.busy": "2022-07-07T14:01:18.177540Z",
     "iopub.status.idle": "2022-07-07T14:01:19.425582Z",
     "shell.execute_reply": "2022-07-07T14:01:19.425225Z",
     "shell.execute_reply.started": "2022-07-07T14:01:18.177783Z"
    },
    "tags": []
   },
   "outputs": [],
   "source": [
    "molecule_name = 'BeH2'\n",
    "qubit_op = compute_molecule(molecule_name)"
   ]
  },
  {
   "cell_type": "code",
   "execution_count": 76,
   "id": "8dfca92e-7e33-4ac8-81e7-756bb3d1f0c5",
   "metadata": {
    "execution": {
     "iopub.execute_input": "2022-07-07T14:03:53.626474Z",
     "iopub.status.busy": "2022-07-07T14:03:53.626150Z",
     "iopub.status.idle": "2022-07-07T14:03:54.077381Z",
     "shell.execute_reply": "2022-07-07T14:03:54.076969Z",
     "shell.execute_reply.started": "2022-07-07T14:03:53.626460Z"
    },
    "tags": []
   },
   "outputs": [
    {
     "data": {
      "application/vnd.jupyter.widget-view+json": {
       "model_id": "dd6579ffe1de4bba999a347b2f13ea52",
       "version_major": 2,
       "version_minor": 0
      },
      "text/plain": [
       "Pauli graph:   0%|          | 0/95 [00:00<?, ?it/s]"
      ]
     },
     "metadata": {},
     "output_type": "display_data"
    }
   ],
   "source": [
    "backend = FakeMontreal()\n",
    "WC_device = backend.configuration().coupling_map\n",
    "WC_device = [tuple(x) for x in WC_device]\n",
    "\n",
    "n = 500\n",
    "N = 10\n",
    "\n",
    "labels = random_labels(n, N)\n",
    "pauli_graph = build_pauli_graph(qubit_op, print_progress=True)"
   ]
  },
  {
   "cell_type": "markdown",
   "id": "2f9b86fa-74ce-46b8-a112-f14fb115b993",
   "metadata": {},
   "source": [
    "# TPB"
   ]
  },
  {
   "cell_type": "code",
   "execution_count": 77,
   "id": "caa4e56c-616d-4346-89f9-7e3d4fc2eb88",
   "metadata": {
    "execution": {
     "iopub.execute_input": "2022-07-07T14:03:56.040084Z",
     "iopub.status.busy": "2022-07-07T14:03:56.039769Z",
     "iopub.status.idle": "2022-07-07T14:03:56.049450Z",
     "shell.execute_reply": "2022-07-07T14:03:56.049002Z",
     "shell.execute_reply.started": "2022-07-07T14:03:56.040069Z"
    },
    "tags": []
   },
   "outputs": [
    {
     "name": "stdout",
     "output_type": "stream",
     "text": [
      "24\n"
     ]
    }
   ],
   "source": [
    "grouping_TPB = Grouping(qubit_op, print_progress=True, method='TPB', pauli_graph=pauli_graph)\n",
    "grouping_TPB.group()\n",
    "print(grouping_TPB.n_groups)"
   ]
  },
  {
   "cell_type": "markdown",
   "id": "6292b4e6-0ba1-471f-8601-ae7bfa4273f5",
   "metadata": {},
   "source": [
    "# EM"
   ]
  },
  {
   "cell_type": "code",
   "execution_count": 78,
   "id": "720b14eb-97d9-4ec4-8c55-c2d07cdccef5",
   "metadata": {
    "execution": {
     "iopub.execute_input": "2022-07-07T14:03:58.301144Z",
     "iopub.status.busy": "2022-07-07T14:03:58.300952Z",
     "iopub.status.idle": "2022-07-07T14:03:58.333789Z",
     "shell.execute_reply": "2022-07-07T14:03:58.333366Z",
     "shell.execute_reply.started": "2022-07-07T14:03:58.301130Z"
    },
    "tags": []
   },
   "outputs": [
    {
     "data": {
      "application/vnd.jupyter.widget-view+json": {
       "model_id": "f93b91f21f7e45968e7b6b1f3adc66f4",
       "version_major": 2,
       "version_minor": 0
      },
      "text/plain": [
       "Grouping entangled:   0%|          | 0/95 [00:00<?, ?it/s]"
      ]
     },
     "metadata": {},
     "output_type": "display_data"
    },
    {
     "name": "stdout",
     "output_type": "stream",
     "text": [
      "13\n"
     ]
    }
   ],
   "source": [
    "grouping_EM = Grouping(qubit_op, print_progress=True, method='EM', pauli_graph=pauli_graph)\n",
    "grouping_EM.group()\n",
    "print(grouping_EM.n_groups)\n",
    "# print(grouping_EM.n_cnots(WC_device))"
   ]
  },
  {
   "cell_type": "markdown",
   "id": "f323ec2b-f86b-4652-b0b6-efbe5adadcc1",
   "metadata": {},
   "source": [
    "# HEEM"
   ]
  },
  {
   "cell_type": "code",
   "execution_count": 79,
   "id": "20fcf225-f2c8-4707-8064-21793b7ea06f",
   "metadata": {
    "execution": {
     "iopub.execute_input": "2022-07-07T14:04:01.554904Z",
     "iopub.status.busy": "2022-07-07T14:04:01.554573Z",
     "iopub.status.idle": "2022-07-07T14:04:01.601413Z",
     "shell.execute_reply": "2022-07-07T14:04:01.600993Z",
     "shell.execute_reply.started": "2022-07-07T14:04:01.554887Z"
    },
    "tags": []
   },
   "outputs": [
    {
     "data": {
      "application/vnd.jupyter.widget-view+json": {
       "model_id": "38a75f8915f94253be8db9686e725aaf",
       "version_major": 2,
       "version_minor": 0
      },
      "text/plain": [
       "Grouping entangled:   0%|          | 0/95 [00:00<?, ?it/s]"
      ]
     },
     "metadata": {},
     "output_type": "display_data"
    },
    {
     "name": "stdout",
     "output_type": "stream",
     "text": [
      "18\n"
     ]
    }
   ],
   "source": [
    "grouping_HEEM = Grouping(qubit_op, connectivity=WC_device, print_progress=True,\n",
    "                         method='HEEM', pauli_graph=pauli_graph, connected_graph=True)\n",
    "grouping_HEEM.group()\n",
    "print(grouping_HEEM.n_groups)\n",
    "# print(grouping_HEEM.n_cnots(WC_device))"
   ]
  }
 ],
 "metadata": {
  "kernelspec": {
   "display_name": "Python 3 (ipykernel)",
   "language": "python",
   "name": "python3"
  },
  "language_info": {
   "codemirror_mode": {
    "name": "ipython",
    "version": 3
   },
   "file_extension": ".py",
   "mimetype": "text/x-python",
   "name": "python",
   "nbconvert_exporter": "python",
   "pygments_lexer": "ipython3",
   "version": "3.9.13"
  }
 },
 "nbformat": 4,
 "nbformat_minor": 5
}
